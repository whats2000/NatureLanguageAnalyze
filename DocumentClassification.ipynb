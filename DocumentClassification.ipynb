{
 "cells": [
  {
   "attachments": {},
   "cell_type": "markdown",
   "metadata": {},
   "source": [
    "# 文件分類\n",
    "\n",
    "本次練習為「文件分類」，主要使用文章轉DTM(document term matrix)的方式，將文章用不同的字詞分布表示，再利用python的sklearn套件，套用決策樹、logistic regression等方式訓練模型，以分辨不同的文件。本篇 Jupyter Notebook 將展示「中文」的文件分類，使用聯合新聞網的三個版別文章做示範。"
   ]
  },
  {
   "attachments": {},
   "cell_type": "markdown",
   "metadata": {},
   "source": ""
  },
  {
   "attachments": {},
   "cell_type": "markdown",
   "metadata": {},
   "source": [
    "## 1. 套件說明\n",
    "下面列出在本次實作過程中我們所使用到的相關套件，在這個Jupyter Notebook當中我們將會簡單的展示這些套件的使用方式，關於各個套件的進階使用請同學參照其官網的說明。\n",
    "- **sklearn**: 全名為Scikit-learn，機器學習的常用建模套件，包含各種分群、分類、迴歸模型，如隨機森林、SVM或 K-means 等。\n",
    "- pandas: 一個資料分析的函式庫，提供了DataFrame等資料格式，與資料處理的函數。\n",
    "- jieba: 結巴套件，中文斷詞套件\n",
    "- seaborn: 基於 matplotlib 封裝的繪圖工具  "
   ]
  },
  {
   "cell_type": "code",
   "metadata": {
    "ExecuteTime": {
     "end_time": "2024-04-06T14:53:34.734762Z",
     "start_time": "2024-04-06T14:53:34.729358Z"
    }
   },
   "source": [
    "import re\n",
    "from pprint import pprint\n",
    "\n",
    "import pandas as pd\n",
    "import numpy as np\n",
    "import matplotlib.pyplot as plt\n",
    "import seaborn as sns\n",
    "import jieba\n",
    "from sklearn.model_selection import train_test_split, cross_validate, cross_val_predict, KFold\n",
    "from sklearn.metrics import (\n",
    "    confusion_matrix,\n",
    "    classification_report,\n",
    "    roc_curve,\n",
    "    auc,\n",
    "    precision_recall_curve,\n",
    "    RocCurveDisplay\n",
    ")\n",
    "from sklearn.feature_extraction.text import TfidfVectorizer, CountVectorizer\n",
    "from sklearn.preprocessing import LabelBinarizer\n",
    "from sklearn.linear_model import LogisticRegression\n",
    "from sklearn.naive_bayes import GaussianNB\n",
    "from sklearn.tree import DecisionTreeClassifier, plot_tree\n",
    "from sklearn.ensemble import RandomForestClassifier\n",
    "from sklearn import svm\n",
    "\n",
    "from matplotlib import font_manager"
   ],
   "outputs": [],
   "execution_count": 208
  },
  {
   "cell_type": "markdown",
   "metadata": {},
   "source": "設定中文字體 "
  },
  {
   "metadata": {
    "ExecuteTime": {
     "end_time": "2024-04-06T14:53:36.172151Z",
     "start_time": "2024-04-06T14:53:36.160174Z"
    }
   },
   "cell_type": "code",
   "source": [
    "# Path to the custom font\n",
    "font_path = 'font/TraditionalChinese.ttf'\n",
    "\n",
    "# Add the custom font to the font manager\n",
    "font_manager.fontManager.addfont(font_path)\n",
    "\n",
    "# After adding the font, search for it by filename to get the correct font name\n",
    "for font in font_manager.fontManager.ttflist:\n",
    "    if font.fname == font_path:\n",
    "        print(f\"Found font: {font.name}\")\n",
    "        plt.rcParams['font.family'] = font.name\n",
    "        break"
   ],
   "outputs": [
    {
     "name": "stdout",
     "output_type": "stream",
     "text": [
      "Found font: Noto Sans TC\n"
     ]
    }
   ],
   "execution_count": 209
  },
  {
   "cell_type": "code",
   "metadata": {
    "ExecuteTime": {
     "end_time": "2024-04-06T14:53:37.454274Z",
     "start_time": "2024-04-06T14:53:37.174275Z"
    }
   },
   "source": [
    "plt.plot((1, 2, 3), (4, 3, -1))\n",
    "plt.title(\"聲量圖\")"
   ],
   "outputs": [
    {
     "data": {
      "text/plain": [
       "Text(0.5, 1.0, '聲量圖')"
      ]
     },
     "execution_count": 210,
     "metadata": {},
     "output_type": "execute_result"
    },
    {
     "data": {
      "text/plain": [
       "<Figure size 640x480 with 1 Axes>"
      ],
      "image/png": "[encoded data removed]"
     },
     "metadata": {},
     "output_type": "display_data"
    }
   ],
   "execution_count": 210
  },
  {
   "metadata": {},
   "cell_type": "markdown",
   "source": [
    "# 2. 文字前處理\n",
    "`聯合新聞.csv`裡面包含了要分析的 udn 新聞資料。\n",
    "- 版別：全球(global)、社會(social)、產經(produce)、股市(stock)\n",
    "- 時間範圍：2023/12/23 ~ 2024/01/13\n",
    "- 工作流程平台搜尋/排除關鍵字：無\n",
    " "
   ]
  },
  {
   "cell_type": "code",
   "metadata": {
    "scrolled": true,
    "ExecuteTime": {
     "end_time": "2024-04-06T14:53:39.344784Z",
     "start_time": "2024-04-06T14:53:39.083551Z"
    }
   },
   "source": [
    "# 文字前處理\n",
    "udn = pd.read_csv(\"data/聯合新聞.csv\")  # 匯資料\n",
    "udn.head(3)"
   ],
   "outputs": [
    {
     "data": {
      "text/plain": [
       "   system_id                             artTitle              artDate  \\\n",
       "0          1               波蘭新外長籲西方挺烏 基輔盼迅速解除邊界封鎖  2023-12-23 12:12:00   \n",
       "1          2             美國加強施壓俄羅斯 拜登簽署行政命令鎖定金融機構  2023-12-23 15:25:00   \n",
       "2          3  俄烏交戰來一大戰果！烏克蘭稱擊落俄軍3架蘇愷34 專家：愛國者飛彈建功  2023-12-23 17:49:00   \n",
       "\n",
       "  artCatagory artSecondCatagory                                     artUrl  \\\n",
       "0          全球               NaN  https://udn.com/news/story/122663/7660679   \n",
       "1          全球               NaN  https://udn.com/news/story/122663/7661029   \n",
       "2          全球               NaN  https://udn.com/news/story/122663/7661229   \n",
       "\n",
       "                                                                                                                                                                                                                                                                                                                                                                                                                                                                                                                                                                                                                                                                                                                                                                                                                                                                                                                                 artContent  \\\n",
       "0                                                                    波蘭新任外交部長席科斯基今天敦促西方團結力挺烏克蘭，選擇這個飽受戰爭蹂躪的國家作為他外訪的第一站，在其他盟友對提供軍援猶豫不決時，展現對烏克蘭的支持。烏克蘭接待席科斯基（Radoslaw Sikorski）來訪時，表示希望迅速解決波蘭卡車司機封堵邊界的問題，並說波蘭外長這次訪問為兩國關係翻開「新頁」。在前任政府執政下，波蘭與烏克蘭關係緊張。俄羅斯過去幾週加強了空襲。席科斯基訪問時，烏克蘭空襲警報響起，警告可能有新的俄羅斯突擊行動。席科斯基在結束訪問的記者會上說：「如果西方動員起來，對於何方將勝出，我絲毫沒有懷疑，但最終還是必須開始動員。」他說，西方經濟體「比俄羅斯富裕20倍」，但莫斯科「已將其經濟切換成戰爭模式」。他說：「我們不能讓俄羅斯在經濟規模小得多的基礎上生產更多。因為戰爭不是靠著戰術戰鬥贏的，戰爭是透過生產打贏的。」法新社報導，俄烏戰爭打了近兩年，儘管烏克蘭官員努力遊說，基輔盟國對這場衝突漸漸感到疲倦。在美國，聯邦參議院領袖19日表示，華府無法在年底前通過對烏克蘭的新援助。在歐洲，匈牙利擋下歐洲聯盟（EU）價值500億歐元的援烏方案，儘管歐盟與烏克蘭啟動正式入盟談判，讓烏克蘭取得象徵性勝利，但真正的入盟尚需數年時間。席科斯基這次訪問是為了讓基輔安心，而解決波蘭貨運公司對烏克蘭邊界長達一個月的封鎖是此行首要目的。俄烏戰爭於2022年2月開打時，歐盟取消烏克蘭貨運公司進入歐盟的限制，以緩解進出烏克蘭的貨運量。但波蘭卡車司機說，此舉導致他們的營收變少，因此一直封鎖波蘭與烏克蘭的邊界，而烏克蘭的進出口嚴重仰賴這條路線。烏克蘭外交部長庫列巴（Dmytro Kuleba）稍早提到這個問題時跟席科斯基說：「首先要做的是解除邊界封鎖，因為我們的友好關係籠罩在邊界遭圍堵的陰影下，這種情況令人無法接受且是有害的。」波蘭副基礎建設部長甘卡茲（Pawel Gancarz）稍後在基輔與席科斯基一同舉行的記者會上說：「我們希望這個問題能在耶誕節前、在今年年底前解決。」   \n",
       "1  美國白宮在聲明中表示，總統拜登今天簽署行政命令，將對支持俄羅斯攻打烏克蘭的外國銀行祭出制裁，協助俄國規避制裁的金融機構也恐成制裁對象。華府正試圖加強對俄國施壓。綜合法新社和路透社報導，已有多家公司因支援俄羅斯國防工業而受制裁，如果金融機構支持這些公司，美方將根據這項行政命令對金融機構祭出所謂的「次級制裁」。白宮表示，這項行政命令也授權華府擴大對部分俄國商品的進口禁令，例如海產和鑽石。白宮國家安全顧問蘇利文（Jake Sullivan）在聲明中說：「我們正發出明確的訊息：任何支持俄羅斯非法戰爭活動者，恐怕都會被踢出美國金融體系。」蘇利文表示，新的制裁措施將「持續施壓俄羅斯戰爭機器及其推手」，還說先前的措施已「大大削弱」俄軍實力。俄羅斯軍隊長期以來被視為全球最強大的軍隊之一，近幾個月來仰賴北韓和伊朗進口。北韓和伊朗也都受到西方制裁。美國對烏克蘭軍事援助的資金即將耗盡，美國和盟邦正尋找新的方法來減緩俄羅斯戰力。哥倫比亞大學（Columbia University）制裁專家費希曼（Edward Fishman）說，華府早已有權制裁非俄羅斯金融機構，但今天的行政命令凸顯「外國金融機構面臨切實風險，其中許多機構似乎還沒有意識到這一點」。這波措施明確指出，金融機構若代表受到美國制裁的企業或與俄國軍事工業基礎相關的公司從事交易，包括部分關鍵物品的銷售，美方就可以鎖定這些金融機構。不具名的政府高層官員透露，這項命令是與盟邦協調發布。然而，自俄烏戰爭爆發以來，俄國一直加快腳步減少與西方接觸，避免以美元、歐元、英鎊和日圓進行貿易。與此同時，隨著西方機構退出，中國最大的數家銀行自俄烏戰爭開打以來，已向俄羅斯借出價值數十億美元的人民幣信貸。美國財政部副部長艾迪耶摩（Wally Adeyemo）表示，中國、土耳其和阿拉伯聯合大公國等國的主要銀行已很努力避免抵觸美方制裁，新措施將針對規模較小的機構。艾迪耶摩接受財經媒體CNBC訪問時說，俄羅斯一直在設立幌子公司來隱藏透過第3國的採購，「他們不會透過這些國家的大公司，而是透過小公司取得微電子器件、機具和引擎零件等產品」，「但這些公司全都還是必須使用金融體系」。   \n",
       "2                                                                                                                                                                                                                                                          烏克蘭總統澤倫斯基（Volodymyr Zelenskyy）和軍方官員表示，烏軍今天在南部前線擊落3架俄羅斯蘇愷34（Su-34）戰鬥轟炸機，並稱讚這是俄烏交戰22個月來的一大戰果。俄羅斯軍方並未提及這起事件，但俄國的部落客承認俄方確實有折損，分析家指出，烏軍可能用了美國供應的愛國者飛彈，但路透社無法獨立證實前述這些消息。烏克蘭空軍司令歐勒什丘克（Mykola Oleshchuk）於通訊應用程式Telegram寫道：「今天中午在南部戰區，掉了3架俄羅斯蘇愷34戰鬥轟炸機！」空軍發言人伊納特（Yuri Ihnat）告訴烏克蘭國營電視台，這是一場「精心策劃的行動」。他說道，「在我們確實的統計數據中，已經有一段時間沒有出現蘇愷34」，更形容蘇愷34是可用於轟炸和其他攻擊行動的俄國最現代化戰機之一。澤倫斯基在晚間談話影片中，讚揚敖德薩地區（Odesa）防空部隊擊落赫松地區（Kherson）上空的這些蘇愷34。俄軍2022年2月全面入侵烏克蘭的頭幾天，就占領了赫松地區大片領土，此後烏軍試圖收復失土，今年11月在赫松地區的第聶伯河（Dnipro River）東岸建立陣地。總部位於俄羅斯的「歐亞日報」（Eurasia Daily）稱烏克蘭說法是可信的，基輔當局可能從第聶伯河西岸，發射針對高空目標、射程可達160公里的愛國者飛彈。烏克蘭航空專家羅曼能柯（Valeriy Romanenko）向烏國當地廣播電台表示，他認為愛國者飛彈擊落俄軍戰機的可能性很高，還說俄軍沒有充分考量到愛國者飛彈的射程達到160公里。   \n",
       "\n",
       "  dataSource  \n",
       "0        UDN  \n",
       "1        UDN  \n",
       "2        UDN  "
      ],
      "text/html": [
       "<div>\n",
       "<style scoped>\n",
       "    .dataframe tbody tr th:only-of-type {\n",
       "        vertical-align: middle;\n",
       "    }\n",
       "\n",
       "    .dataframe tbody tr th {\n",
       "        vertical-align: top;\n",
       "    }\n",
       "\n",
       "    .dataframe thead th {\n",
       "        text-align: right;\n",
       "    }\n",
       "</style>\n",
       "<table border=\"1\" class=\"dataframe\">\n",
       "  <thead>\n",
       "    <tr style=\"text-align: right;\">\n",
       "      <th></th>\n",
       "      <th>system_id</th>\n",
       "      <th>artTitle</th>\n",
       "      <th>artDate</th>\n",
       "      <th>artCatagory</th>\n",
       "      <th>artSecondCatagory</th>\n",
       "      <th>artUrl</th>\n",
       "      <th>artContent</th>\n",
       "      <th>dataSource</th>\n",
       "    </tr>\n",
       "  </thead>\n",
       "  <tbody>\n",
       "    <tr>\n",
       "      <th>0</th>\n",
       "      <td>1</td>\n",
       "      <td>波蘭新外長籲西方挺烏 基輔盼迅速解除邊界封鎖</td>\n",
       "      <td>2023-12-23 12:12:00</td>\n",
       "      <td>全球</td>\n",
       "      <td>NaN</td>\n",
       "      <td>https://udn.com/news/story/122663/7660679</td>\n",
       "      <td>波蘭新任外交部長席科斯基今天敦促西方團結力挺烏克蘭，選擇這個飽受戰爭蹂躪的國家作為他外訪的第一站，在其他盟友對提供軍援猶豫不決時，展現對烏克蘭的支持。烏克蘭接待席科斯基（Radoslaw Sikorski）來訪時，表示希望迅速解決波蘭卡車司機封堵邊界的問題，並說波蘭外長這次訪問為兩國關係翻開「新頁」。在前任政府執政下，波蘭與烏克蘭關係緊張。俄羅斯過去幾週加強了空襲。席科斯基訪問時，烏克蘭空襲警報響起，警告可能有新的俄羅斯突擊行動。席科斯基在結束訪問的記者會上說：「如果西方動員起來，對於何方將勝出，我絲毫沒有懷疑，但最終還是必須開始動員。」他說，西方經濟體「比俄羅斯富裕20倍」，但莫斯科「已將其經濟切換成戰爭模式」。他說：「我們不能讓俄羅斯在經濟規模小得多的基礎上生產更多。因為戰爭不是靠著戰術戰鬥贏的，戰爭是透過生產打贏的。」法新社報導，俄烏戰爭打了近兩年，儘管烏克蘭官員努力遊說，基輔盟國對這場衝突漸漸感到疲倦。在美國，聯邦參議院領袖19日表示，華府無法在年底前通過對烏克蘭的新援助。在歐洲，匈牙利擋下歐洲聯盟（EU）價值500億歐元的援烏方案，儘管歐盟與烏克蘭啟動正式入盟談判，讓烏克蘭取得象徵性勝利，但真正的入盟尚需數年時間。席科斯基這次訪問是為了讓基輔安心，而解決波蘭貨運公司對烏克蘭邊界長達一個月的封鎖是此行首要目的。俄烏戰爭於2022年2月開打時，歐盟取消烏克蘭貨運公司進入歐盟的限制，以緩解進出烏克蘭的貨運量。但波蘭卡車司機說，此舉導致他們的營收變少，因此一直封鎖波蘭與烏克蘭的邊界，而烏克蘭的進出口嚴重仰賴這條路線。烏克蘭外交部長庫列巴（Dmytro Kuleba）稍早提到這個問題時跟席科斯基說：「首先要做的是解除邊界封鎖，因為我們的友好關係籠罩在邊界遭圍堵的陰影下，這種情況令人無法接受且是有害的。」波蘭副基礎建設部長甘卡茲（Pawel Gancarz）稍後在基輔與席科斯基一同舉行的記者會上說：「我們希望這個問題能在耶誕節前、在今年年底前解決。」</td>\n",
       "      <td>UDN</td>\n",
       "    </tr>\n",
       "    <tr>\n",
       "      <th>1</th>\n",
       "      <td>2</td>\n",
       "      <td>美國加強施壓俄羅斯 拜登簽署行政命令鎖定金融機構</td>\n",
       "      <td>2023-12-23 15:25:00</td>\n",
       "      <td>全球</td>\n",
       "      <td>NaN</td>\n",
       "      <td>https://udn.com/news/story/122663/7661029</td>\n",
       "      <td>美國白宮在聲明中表示，總統拜登今天簽署行政命令，將對支持俄羅斯攻打烏克蘭的外國銀行祭出制裁，協助俄國規避制裁的金融機構也恐成制裁對象。華府正試圖加強對俄國施壓。綜合法新社和路透社報導，已有多家公司因支援俄羅斯國防工業而受制裁，如果金融機構支持這些公司，美方將根據這項行政命令對金融機構祭出所謂的「次級制裁」。白宮表示，這項行政命令也授權華府擴大對部分俄國商品的進口禁令，例如海產和鑽石。白宮國家安全顧問蘇利文（Jake Sullivan）在聲明中說：「我們正發出明確的訊息：任何支持俄羅斯非法戰爭活動者，恐怕都會被踢出美國金融體系。」蘇利文表示，新的制裁措施將「持續施壓俄羅斯戰爭機器及其推手」，還說先前的措施已「大大削弱」俄軍實力。俄羅斯軍隊長期以來被視為全球最強大的軍隊之一，近幾個月來仰賴北韓和伊朗進口。北韓和伊朗也都受到西方制裁。美國對烏克蘭軍事援助的資金即將耗盡，美國和盟邦正尋找新的方法來減緩俄羅斯戰力。哥倫比亞大學（Columbia University）制裁專家費希曼（Edward Fishman）說，華府早已有權制裁非俄羅斯金融機構，但今天的行政命令凸顯「外國金融機構面臨切實風險，其中許多機構似乎還沒有意識到這一點」。這波措施明確指出，金融機構若代表受到美國制裁的企業或與俄國軍事工業基礎相關的公司從事交易，包括部分關鍵物品的銷售，美方就可以鎖定這些金融機構。不具名的政府高層官員透露，這項命令是與盟邦協調發布。然而，自俄烏戰爭爆發以來，俄國一直加快腳步減少與西方接觸，避免以美元、歐元、英鎊和日圓進行貿易。與此同時，隨著西方機構退出，中國最大的數家銀行自俄烏戰爭開打以來，已向俄羅斯借出價值數十億美元的人民幣信貸。美國財政部副部長艾迪耶摩（Wally Adeyemo）表示，中國、土耳其和阿拉伯聯合大公國等國的主要銀行已很努力避免抵觸美方制裁，新措施將針對規模較小的機構。艾迪耶摩接受財經媒體CNBC訪問時說，俄羅斯一直在設立幌子公司來隱藏透過第3國的採購，「他們不會透過這些國家的大公司，而是透過小公司取得微電子器件、機具和引擎零件等產品」，「但這些公司全都還是必須使用金融體系」。</td>\n",
       "      <td>UDN</td>\n",
       "    </tr>\n",
       "    <tr>\n",
       "      <th>2</th>\n",
       "      <td>3</td>\n",
       "      <td>俄烏交戰來一大戰果！烏克蘭稱擊落俄軍3架蘇愷34 專家：愛國者飛彈建功</td>\n",
       "      <td>2023-12-23 17:49:00</td>\n",
       "      <td>全球</td>\n",
       "      <td>NaN</td>\n",
       "      <td>https://udn.com/news/story/122663/7661229</td>\n",
       "      <td>烏克蘭總統澤倫斯基（Volodymyr Zelenskyy）和軍方官員表示，烏軍今天在南部前線擊落3架俄羅斯蘇愷34（Su-34）戰鬥轟炸機，並稱讚這是俄烏交戰22個月來的一大戰果。俄羅斯軍方並未提及這起事件，但俄國的部落客承認俄方確實有折損，分析家指出，烏軍可能用了美國供應的愛國者飛彈，但路透社無法獨立證實前述這些消息。烏克蘭空軍司令歐勒什丘克（Mykola Oleshchuk）於通訊應用程式Telegram寫道：「今天中午在南部戰區，掉了3架俄羅斯蘇愷34戰鬥轟炸機！」空軍發言人伊納特（Yuri Ihnat）告訴烏克蘭國營電視台，這是一場「精心策劃的行動」。他說道，「在我們確實的統計數據中，已經有一段時間沒有出現蘇愷34」，更形容蘇愷34是可用於轟炸和其他攻擊行動的俄國最現代化戰機之一。澤倫斯基在晚間談話影片中，讚揚敖德薩地區（Odesa）防空部隊擊落赫松地區（Kherson）上空的這些蘇愷34。俄軍2022年2月全面入侵烏克蘭的頭幾天，就占領了赫松地區大片領土，此後烏軍試圖收復失土，今年11月在赫松地區的第聶伯河（Dnipro River）東岸建立陣地。總部位於俄羅斯的「歐亞日報」（Eurasia Daily）稱烏克蘭說法是可信的，基輔當局可能從第聶伯河西岸，發射針對高空目標、射程可達160公里的愛國者飛彈。烏克蘭航空專家羅曼能柯（Valeriy Romanenko）向烏國當地廣播電台表示，他認為愛國者飛彈擊落俄軍戰機的可能性很高，還說俄軍沒有充分考量到愛國者飛彈的射程達到160公里。</td>\n",
       "      <td>UDN</td>\n",
       "    </tr>\n",
       "  </tbody>\n",
       "</table>\n",
       "</div>"
      ]
     },
     "execution_count": 211,
     "metadata": {},
     "output_type": "execute_result"
    }
   ],
   "execution_count": 211
  },
  {
   "cell_type": "code",
   "metadata": {
    "ExecuteTime": {
     "end_time": "2024-04-06T14:53:41.500251Z",
     "start_time": "2024-04-06T14:53:41.492712Z"
    }
   },
   "source": [
    "# 看看有幾篇文章\n",
    "print(f\"number of posts: {udn.shape[0]}\")\n",
    "print(f\"date range: {(udn['artDate'].min(), udn['artDate'].max())}\")\n",
    "print(f\"category: \\n{udn['artCatagory'].value_counts()}\")"
   ],
   "outputs": [
    {
     "name": "stdout",
     "output_type": "stream",
     "text": [
      "number of posts: 8803\n",
      "date range: ('2023-12-23 00:04:00', '2024-01-13 23:54:00')\n",
      "category: \n",
      "artCatagory\n",
      "產經    2760\n",
      "全球    2570\n",
      "社會    1817\n",
      "股市    1655\n",
      "生活       1\n",
      "Name: count, dtype: int64\n"
     ]
    }
   ],
   "execution_count": 212
  },
  {
   "metadata": {
    "ExecuteTime": {
     "end_time": "2024-04-06T14:53:42.259035Z",
     "start_time": "2024-04-06T14:53:42.248094Z"
    }
   },
   "cell_type": "code",
   "source": [
    "# 去除artCatagory是生活\n",
    "udn = udn[udn['artCatagory'] != '生活']\n",
    "\n",
    "# 看看有幾篇文章\n",
    "print(f\"number of posts: {udn.shape[0]}\")\n",
    "print(f\"date range: {(udn['artDate'].min(), udn['artDate'].max())}\")\n",
    "print(f\"category: \\n{udn['artCatagory'].value_counts()}\")"
   ],
   "outputs": [
    {
     "name": "stdout",
     "output_type": "stream",
     "text": [
      "number of posts: 8802\n",
      "date range: ('2023-12-23 00:04:00', '2024-01-13 23:54:00')\n",
      "category: \n",
      "artCatagory\n",
      "產經    2760\n",
      "全球    2570\n",
      "社會    1817\n",
      "股市    1655\n",
      "Name: count, dtype: int64\n"
     ]
    }
   ],
   "execution_count": 213
  },
  {
   "metadata": {},
   "cell_type": "markdown",
   "source": "＃我們將聯合時報的產經版面與股市版面資料匯總，對應到自由時報的財經版面"
  },
  {
   "metadata": {
    "ExecuteTime": {
     "end_time": "2024-04-06T14:53:45.002202Z",
     "start_time": "2024-04-06T14:53:44.989201Z"
    }
   },
   "cell_type": "code",
   "source": [
    "udn.loc[udn['artCatagory'].isin(['產經', '股市']), 'artCatagory'] = '財經'\n",
    "\n",
    "# 看看有幾篇文章\n",
    "print(f\"number of posts: {udn.shape[0]}\")\n",
    "print(f\"date range: {(udn['artDate'].min(), udn['artDate'].max())}\")\n",
    "print(f\"category: \\n{udn['artCatagory'].value_counts()}\")"
   ],
   "outputs": [
    {
     "name": "stdout",
     "output_type": "stream",
     "text": [
      "number of posts: 8802\n",
      "date range: ('2023-12-23 00:04:00', '2024-01-13 23:54:00')\n",
      "category: \n",
      "artCatagory\n",
      "財經    4415\n",
      "全球    2570\n",
      "社會    1817\n",
      "Name: count, dtype: int64\n"
     ]
    }
   ],
   "execution_count": 214
  },
  {
   "metadata": {
    "ExecuteTime": {
     "end_time": "2024-04-06T14:53:53.027613Z",
     "start_time": "2024-04-06T14:53:52.745612Z"
    }
   },
   "cell_type": "code",
   "source": "udn.to_csv('data/聯合新聞_merge.csv')",
   "outputs": [],
   "execution_count": 215
  },
  {
   "attachments": {},
   "cell_type": "markdown",
   "metadata": {},
   "source": [
    "+ 2.1 斷句\n",
    "+ 2.2 斷詞（刪掉次數太少的、標點符號、停用字） "
   ]
  },
  {
   "attachments": {},
   "cell_type": "markdown",
   "metadata": {},
   "source": "### 2.1 清理 "
  },
  {
   "cell_type": "markdown",
   "metadata": {},
   "source": "利用問號、句號或驚嘆號等符號斷句，或是如果出現中文或是英文的省略號，像是`...`也會斷句，最後設定會去除結尾的空白符號。 "
  },
  {
   "cell_type": "code",
   "metadata": {
    "ExecuteTime": {
     "end_time": "2024-04-06T14:30:34.413388Z",
     "start_time": "2024-04-06T14:30:34.300275Z"
    }
   },
   "source": [
    "# 過濾 nan 的資料\n",
    "udn = udn.dropna(subset=['artTitle'])\n",
    "udn = udn.dropna(subset=['artContent'])\n",
    "# 移除網址格式\n",
    "udn[\"artContent\"] = udn.artContent.apply(\n",
    "    lambda x: re.sub(\"(http|https)://.*\", \"\", x)\n",
    ")\n",
    "udn[\"artTitle\"] = udn[\"artTitle\"].apply(\n",
    "    lambda x: re.sub(\"(http|https)://.*\", \"\", x)\n",
    ")\n",
    "# 只留下中文字\n",
    "udn[\"artContent\"] = udn.artContent.apply(\n",
    "    lambda x: re.sub(\"[^\\u4e00-\\u9fa5]+\", \"\", x)\n",
    ")\n",
    "udn[\"artTitle\"] = udn[\"artTitle\"].apply(\n",
    "    lambda x: re.sub(\"[^\\u4e00-\\u9fa5]+\", \"\", x)\n",
    ")\n",
    "udn.head(3)"
   ],
   "outputs": [
    {
     "data": {
      "text/plain": [
       "   system_id                       artTitle              artDate artCatagory  \\\n",
       "0          1          波蘭新外長籲西方挺烏基輔盼迅速解除邊界封鎖  2023-12-23 12:12:00          全球   \n",
       "1          2        美國加強施壓俄羅斯拜登簽署行政命令鎖定金融機構  2023-12-23 15:25:00          全球   \n",
       "2          3  俄烏交戰來一大戰果烏克蘭稱擊落俄軍架蘇愷專家愛國者飛彈建功  2023-12-23 17:49:00          全球   \n",
       "\n",
       "  artSecondCatagory                                     artUrl  \\\n",
       "0               NaN  https://udn.com/news/story/122663/7660679   \n",
       "1               NaN  https://udn.com/news/story/122663/7661029   \n",
       "2               NaN  https://udn.com/news/story/122663/7661229   \n",
       "\n",
       "                                                                                                                                                                                                                                                                                                                                                                                                                                                                                                                                                                                                                                                                                                                                                                                     artContent  \\\n",
       "0                                                            波蘭新任外交部長席科斯基今天敦促西方團結力挺烏克蘭選擇這個飽受戰爭蹂躪的國家作為他外訪的第一站在其他盟友對提供軍援猶豫不決時展現對烏克蘭的支持烏克蘭接待席科斯基來訪時表示希望迅速解決波蘭卡車司機封堵邊界的問題並說波蘭外長這次訪問為兩國關係翻開新頁在前任政府執政下波蘭與烏克蘭關係緊張俄羅斯過去幾週加強了空襲席科斯基訪問時烏克蘭空襲警報響起警告可能有新的俄羅斯突擊行動席科斯基在結束訪問的記者會上說如果西方動員起來對於何方將勝出我絲毫沒有懷疑但最終還是必須開始動員他說西方經濟體比俄羅斯富裕倍但莫斯科已將其經濟切換成戰爭模式他說我們不能讓俄羅斯在經濟規模小得多的基礎上生產更多因為戰爭不是靠著戰術戰鬥贏的戰爭是透過生產打贏的法新社報導俄烏戰爭打了近兩年儘管烏克蘭官員努力遊說基輔盟國對這場衝突漸漸感到疲倦在美國聯邦參議院領袖日表示華府無法在年底前通過對烏克蘭的新援助在歐洲匈牙利擋下歐洲聯盟價值億歐元的援烏方案儘管歐盟與烏克蘭啟動正式入盟談判讓烏克蘭取得象徵性勝利但真正的入盟尚需數年時間席科斯基這次訪問是為了讓基輔安心而解決波蘭貨運公司對烏克蘭邊界長達一個月的封鎖是此行首要目的俄烏戰爭於年月開打時歐盟取消烏克蘭貨運公司進入歐盟的限制以緩解進出烏克蘭的貨運量但波蘭卡車司機說此舉導致他們的營收變少因此一直封鎖波蘭與烏克蘭的邊界而烏克蘭的進出口嚴重仰賴這條路線烏克蘭外交部長庫列巴稍早提到這個問題時跟席科斯基說首先要做的是解除邊界封鎖因為我們的友好關係籠罩在邊界遭圍堵的陰影下這種情況令人無法接受且是有害的波蘭副基礎建設部長甘卡茲稍後在基輔與席科斯基一同舉行的記者會上說我們希望這個問題能在耶誕節前在今年年底前解決   \n",
       "1  美國白宮在聲明中表示總統拜登今天簽署行政命令將對支持俄羅斯攻打烏克蘭的外國銀行祭出制裁協助俄國規避制裁的金融機構也恐成制裁對象華府正試圖加強對俄國施壓綜合法新社和路透社報導已有多家公司因支援俄羅斯國防工業而受制裁如果金融機構支持這些公司美方將根據這項行政命令對金融機構祭出所謂的次級制裁白宮表示這項行政命令也授權華府擴大對部分俄國商品的進口禁令例如海產和鑽石白宮國家安全顧問蘇利文在聲明中說我們正發出明確的訊息任何支持俄羅斯非法戰爭活動者恐怕都會被踢出美國金融體系蘇利文表示新的制裁措施將持續施壓俄羅斯戰爭機器及其推手還說先前的措施已大大削弱俄軍實力俄羅斯軍隊長期以來被視為全球最強大的軍隊之一近幾個月來仰賴北韓和伊朗進口北韓和伊朗也都受到西方制裁美國對烏克蘭軍事援助的資金即將耗盡美國和盟邦正尋找新的方法來減緩俄羅斯戰力哥倫比亞大學制裁專家費希曼說華府早已有權制裁非俄羅斯金融機構但今天的行政命令凸顯外國金融機構面臨切實風險其中許多機構似乎還沒有意識到這一點這波措施明確指出金融機構若代表受到美國制裁的企業或與俄國軍事工業基礎相關的公司從事交易包括部分關鍵物品的銷售美方就可以鎖定這些金融機構不具名的政府高層官員透露這項命令是與盟邦協調發布然而自俄烏戰爭爆發以來俄國一直加快腳步減少與西方接觸避免以美元歐元英鎊和日圓進行貿易與此同時隨著西方機構退出中國最大的數家銀行自俄烏戰爭開打以來已向俄羅斯借出價值數十億美元的人民幣信貸美國財政部副部長艾迪耶摩表示中國土耳其和阿拉伯聯合大公國等國的主要銀行已很努力避免抵觸美方制裁新措施將針對規模較小的機構艾迪耶摩接受財經媒體訪問時說俄羅斯一直在設立幌子公司來隱藏透過第國的採購他們不會透過這些國家的大公司而是透過小公司取得微電子器件機具和引擎零件等產品但這些公司全都還是必須使用金融體系   \n",
       "2                                                                                                                                                                                                                                                                                                                 烏克蘭總統澤倫斯基和軍方官員表示烏軍今天在南部前線擊落架俄羅斯蘇愷戰鬥轟炸機並稱讚這是俄烏交戰個月來的一大戰果俄羅斯軍方並未提及這起事件但俄國的部落客承認俄方確實有折損分析家指出烏軍可能用了美國供應的愛國者飛彈但路透社無法獨立證實前述這些消息烏克蘭空軍司令歐勒什丘克於通訊應用程式寫道今天中午在南部戰區掉了架俄羅斯蘇愷戰鬥轟炸機空軍發言人伊納特告訴烏克蘭國營電視台這是一場精心策劃的行動他說道在我們確實的統計數據中已經有一段時間沒有出現蘇愷更形容蘇愷是可用於轟炸和其他攻擊行動的俄國最現代化戰機之一澤倫斯基在晚間談話影片中讚揚敖德薩地區防空部隊擊落赫松地區上空的這些蘇愷俄軍年月全面入侵烏克蘭的頭幾天就占領了赫松地區大片領土此後烏軍試圖收復失土今年月在赫松地區的第聶伯河東岸建立陣地總部位於俄羅斯的歐亞日報稱烏克蘭說法是可信的基輔當局可能從第聶伯河西岸發射針對高空目標射程可達公里的愛國者飛彈烏克蘭航空專家羅曼能柯向烏國當地廣播電台表示他認為愛國者飛彈擊落俄軍戰機的可能性很高還說俄軍沒有充分考量到愛國者飛彈的射程達到公里   \n",
       "\n",
       "  dataSource  \n",
       "0        UDN  \n",
       "1        UDN  \n",
       "2        UDN  "
      ],
      "text/html": [
       "<div>\n",
       "<style scoped>\n",
       "    .dataframe tbody tr th:only-of-type {\n",
       "        vertical-align: middle;\n",
       "    }\n",
       "\n",
       "    .dataframe tbody tr th {\n",
       "        vertical-align: top;\n",
       "    }\n",
       "\n",
       "    .dataframe thead th {\n",
       "        text-align: right;\n",
       "    }\n",
       "</style>\n",
       "<table border=\"1\" class=\"dataframe\">\n",
       "  <thead>\n",
       "    <tr style=\"text-align: right;\">\n",
       "      <th></th>\n",
       "      <th>system_id</th>\n",
       "      <th>artTitle</th>\n",
       "      <th>artDate</th>\n",
       "      <th>artCatagory</th>\n",
       "      <th>artSecondCatagory</th>\n",
       "      <th>artUrl</th>\n",
       "      <th>artContent</th>\n",
       "      <th>dataSource</th>\n",
       "    </tr>\n",
       "  </thead>\n",
       "  <tbody>\n",
       "    <tr>\n",
       "      <th>0</th>\n",
       "      <td>1</td>\n",
       "      <td>波蘭新外長籲西方挺烏基輔盼迅速解除邊界封鎖</td>\n",
       "      <td>2023-12-23 12:12:00</td>\n",
       "      <td>全球</td>\n",
       "      <td>NaN</td>\n",
       "      <td>https://udn.com/news/story/122663/7660679</td>\n",
       "      <td>波蘭新任外交部長席科斯基今天敦促西方團結力挺烏克蘭選擇這個飽受戰爭蹂躪的國家作為他外訪的第一站在其他盟友對提供軍援猶豫不決時展現對烏克蘭的支持烏克蘭接待席科斯基來訪時表示希望迅速解決波蘭卡車司機封堵邊界的問題並說波蘭外長這次訪問為兩國關係翻開新頁在前任政府執政下波蘭與烏克蘭關係緊張俄羅斯過去幾週加強了空襲席科斯基訪問時烏克蘭空襲警報響起警告可能有新的俄羅斯突擊行動席科斯基在結束訪問的記者會上說如果西方動員起來對於何方將勝出我絲毫沒有懷疑但最終還是必須開始動員他說西方經濟體比俄羅斯富裕倍但莫斯科已將其經濟切換成戰爭模式他說我們不能讓俄羅斯在經濟規模小得多的基礎上生產更多因為戰爭不是靠著戰術戰鬥贏的戰爭是透過生產打贏的法新社報導俄烏戰爭打了近兩年儘管烏克蘭官員努力遊說基輔盟國對這場衝突漸漸感到疲倦在美國聯邦參議院領袖日表示華府無法在年底前通過對烏克蘭的新援助在歐洲匈牙利擋下歐洲聯盟價值億歐元的援烏方案儘管歐盟與烏克蘭啟動正式入盟談判讓烏克蘭取得象徵性勝利但真正的入盟尚需數年時間席科斯基這次訪問是為了讓基輔安心而解決波蘭貨運公司對烏克蘭邊界長達一個月的封鎖是此行首要目的俄烏戰爭於年月開打時歐盟取消烏克蘭貨運公司進入歐盟的限制以緩解進出烏克蘭的貨運量但波蘭卡車司機說此舉導致他們的營收變少因此一直封鎖波蘭與烏克蘭的邊界而烏克蘭的進出口嚴重仰賴這條路線烏克蘭外交部長庫列巴稍早提到這個問題時跟席科斯基說首先要做的是解除邊界封鎖因為我們的友好關係籠罩在邊界遭圍堵的陰影下這種情況令人無法接受且是有害的波蘭副基礎建設部長甘卡茲稍後在基輔與席科斯基一同舉行的記者會上說我們希望這個問題能在耶誕節前在今年年底前解決</td>\n",
       "      <td>UDN</td>\n",
       "    </tr>\n",
       "    <tr>\n",
       "      <th>1</th>\n",
       "      <td>2</td>\n",
       "      <td>美國加強施壓俄羅斯拜登簽署行政命令鎖定金融機構</td>\n",
       "      <td>2023-12-23 15:25:00</td>\n",
       "      <td>全球</td>\n",
       "      <td>NaN</td>\n",
       "      <td>https://udn.com/news/story/122663/7661029</td>\n",
       "      <td>美國白宮在聲明中表示總統拜登今天簽署行政命令將對支持俄羅斯攻打烏克蘭的外國銀行祭出制裁協助俄國規避制裁的金融機構也恐成制裁對象華府正試圖加強對俄國施壓綜合法新社和路透社報導已有多家公司因支援俄羅斯國防工業而受制裁如果金融機構支持這些公司美方將根據這項行政命令對金融機構祭出所謂的次級制裁白宮表示這項行政命令也授權華府擴大對部分俄國商品的進口禁令例如海產和鑽石白宮國家安全顧問蘇利文在聲明中說我們正發出明確的訊息任何支持俄羅斯非法戰爭活動者恐怕都會被踢出美國金融體系蘇利文表示新的制裁措施將持續施壓俄羅斯戰爭機器及其推手還說先前的措施已大大削弱俄軍實力俄羅斯軍隊長期以來被視為全球最強大的軍隊之一近幾個月來仰賴北韓和伊朗進口北韓和伊朗也都受到西方制裁美國對烏克蘭軍事援助的資金即將耗盡美國和盟邦正尋找新的方法來減緩俄羅斯戰力哥倫比亞大學制裁專家費希曼說華府早已有權制裁非俄羅斯金融機構但今天的行政命令凸顯外國金融機構面臨切實風險其中許多機構似乎還沒有意識到這一點這波措施明確指出金融機構若代表受到美國制裁的企業或與俄國軍事工業基礎相關的公司從事交易包括部分關鍵物品的銷售美方就可以鎖定這些金融機構不具名的政府高層官員透露這項命令是與盟邦協調發布然而自俄烏戰爭爆發以來俄國一直加快腳步減少與西方接觸避免以美元歐元英鎊和日圓進行貿易與此同時隨著西方機構退出中國最大的數家銀行自俄烏戰爭開打以來已向俄羅斯借出價值數十億美元的人民幣信貸美國財政部副部長艾迪耶摩表示中國土耳其和阿拉伯聯合大公國等國的主要銀行已很努力避免抵觸美方制裁新措施將針對規模較小的機構艾迪耶摩接受財經媒體訪問時說俄羅斯一直在設立幌子公司來隱藏透過第國的採購他們不會透過這些國家的大公司而是透過小公司取得微電子器件機具和引擎零件等產品但這些公司全都還是必須使用金融體系</td>\n",
       "      <td>UDN</td>\n",
       "    </tr>\n",
       "    <tr>\n",
       "      <th>2</th>\n",
       "      <td>3</td>\n",
       "      <td>俄烏交戰來一大戰果烏克蘭稱擊落俄軍架蘇愷專家愛國者飛彈建功</td>\n",
       "      <td>2023-12-23 17:49:00</td>\n",
       "      <td>全球</td>\n",
       "      <td>NaN</td>\n",
       "      <td>https://udn.com/news/story/122663/7661229</td>\n",
       "      <td>烏克蘭總統澤倫斯基和軍方官員表示烏軍今天在南部前線擊落架俄羅斯蘇愷戰鬥轟炸機並稱讚這是俄烏交戰個月來的一大戰果俄羅斯軍方並未提及這起事件但俄國的部落客承認俄方確實有折損分析家指出烏軍可能用了美國供應的愛國者飛彈但路透社無法獨立證實前述這些消息烏克蘭空軍司令歐勒什丘克於通訊應用程式寫道今天中午在南部戰區掉了架俄羅斯蘇愷戰鬥轟炸機空軍發言人伊納特告訴烏克蘭國營電視台這是一場精心策劃的行動他說道在我們確實的統計數據中已經有一段時間沒有出現蘇愷更形容蘇愷是可用於轟炸和其他攻擊行動的俄國最現代化戰機之一澤倫斯基在晚間談話影片中讚揚敖德薩地區防空部隊擊落赫松地區上空的這些蘇愷俄軍年月全面入侵烏克蘭的頭幾天就占領了赫松地區大片領土此後烏軍試圖收復失土今年月在赫松地區的第聶伯河東岸建立陣地總部位於俄羅斯的歐亞日報稱烏克蘭說法是可信的基輔當局可能從第聶伯河西岸發射針對高空目標射程可達公里的愛國者飛彈烏克蘭航空專家羅曼能柯向烏國當地廣播電台表示他認為愛國者飛彈擊落俄軍戰機的可能性很高還說俄軍沒有充分考量到愛國者飛彈的射程達到公里</td>\n",
       "      <td>UDN</td>\n",
       "    </tr>\n",
       "  </tbody>\n",
       "</table>\n",
       "</div>"
      ]
     },
     "execution_count": 163,
     "metadata": {},
     "output_type": "execute_result"
    }
   ],
   "execution_count": 163
  },
  {
   "cell_type": "markdown",
   "metadata": {},
   "source": "文章的標題`artTitle`和內文`sentence`都會納入分析的內容，成為新的`content`欄位。 "
  },
  {
   "cell_type": "code",
   "metadata": {
    "ExecuteTime": {
     "end_time": "2024-04-06T14:30:36.091081Z",
     "start_time": "2024-04-06T14:30:36.068054Z"
    }
   },
   "source": [
    "# 留下 content\n",
    "udn[\"content\"] = udn[\"artTitle\"] + udn[\"artContent\"]\n",
    "udn = udn[[\"content\", \"artUrl\", \"artCatagory\"]]  # 文章內容 文章連結\n",
    "udn.head()"
   ],
   "outputs": [
    {
     "data": {
      "text/plain": [
       "                                                                                                                                                                                                                                                                                                                                                                                                                                                                                                                                                                                                                                                                                                                                                                                                               content  \\\n",
       "0                                                              波蘭新外長籲西方挺烏基輔盼迅速解除邊界封鎖波蘭新任外交部長席科斯基今天敦促西方團結力挺烏克蘭選擇這個飽受戰爭蹂躪的國家作為他外訪的第一站在其他盟友對提供軍援猶豫不決時展現對烏克蘭的支持烏克蘭接待席科斯基來訪時表示希望迅速解決波蘭卡車司機封堵邊界的問題並說波蘭外長這次訪問為兩國關係翻開新頁在前任政府執政下波蘭與烏克蘭關係緊張俄羅斯過去幾週加強了空襲席科斯基訪問時烏克蘭空襲警報響起警告可能有新的俄羅斯突擊行動席科斯基在結束訪問的記者會上說如果西方動員起來對於何方將勝出我絲毫沒有懷疑但最終還是必須開始動員他說西方經濟體比俄羅斯富裕倍但莫斯科已將其經濟切換成戰爭模式他說我們不能讓俄羅斯在經濟規模小得多的基礎上生產更多因為戰爭不是靠著戰術戰鬥贏的戰爭是透過生產打贏的法新社報導俄烏戰爭打了近兩年儘管烏克蘭官員努力遊說基輔盟國對這場衝突漸漸感到疲倦在美國聯邦參議院領袖日表示華府無法在年底前通過對烏克蘭的新援助在歐洲匈牙利擋下歐洲聯盟價值億歐元的援烏方案儘管歐盟與烏克蘭啟動正式入盟談判讓烏克蘭取得象徵性勝利但真正的入盟尚需數年時間席科斯基這次訪問是為了讓基輔安心而解決波蘭貨運公司對烏克蘭邊界長達一個月的封鎖是此行首要目的俄烏戰爭於年月開打時歐盟取消烏克蘭貨運公司進入歐盟的限制以緩解進出烏克蘭的貨運量但波蘭卡車司機說此舉導致他們的營收變少因此一直封鎖波蘭與烏克蘭的邊界而烏克蘭的進出口嚴重仰賴這條路線烏克蘭外交部長庫列巴稍早提到這個問題時跟席科斯基說首先要做的是解除邊界封鎖因為我們的友好關係籠罩在邊界遭圍堵的陰影下這種情況令人無法接受且是有害的波蘭副基礎建設部長甘卡茲稍後在基輔與席科斯基一同舉行的記者會上說我們希望這個問題能在耶誕節前在今年年底前解決   \n",
       "1  美國加強施壓俄羅斯拜登簽署行政命令鎖定金融機構美國白宮在聲明中表示總統拜登今天簽署行政命令將對支持俄羅斯攻打烏克蘭的外國銀行祭出制裁協助俄國規避制裁的金融機構也恐成制裁對象華府正試圖加強對俄國施壓綜合法新社和路透社報導已有多家公司因支援俄羅斯國防工業而受制裁如果金融機構支持這些公司美方將根據這項行政命令對金融機構祭出所謂的次級制裁白宮表示這項行政命令也授權華府擴大對部分俄國商品的進口禁令例如海產和鑽石白宮國家安全顧問蘇利文在聲明中說我們正發出明確的訊息任何支持俄羅斯非法戰爭活動者恐怕都會被踢出美國金融體系蘇利文表示新的制裁措施將持續施壓俄羅斯戰爭機器及其推手還說先前的措施已大大削弱俄軍實力俄羅斯軍隊長期以來被視為全球最強大的軍隊之一近幾個月來仰賴北韓和伊朗進口北韓和伊朗也都受到西方制裁美國對烏克蘭軍事援助的資金即將耗盡美國和盟邦正尋找新的方法來減緩俄羅斯戰力哥倫比亞大學制裁專家費希曼說華府早已有權制裁非俄羅斯金融機構但今天的行政命令凸顯外國金融機構面臨切實風險其中許多機構似乎還沒有意識到這一點這波措施明確指出金融機構若代表受到美國制裁的企業或與俄國軍事工業基礎相關的公司從事交易包括部分關鍵物品的銷售美方就可以鎖定這些金融機構不具名的政府高層官員透露這項命令是與盟邦協調發布然而自俄烏戰爭爆發以來俄國一直加快腳步減少與西方接觸避免以美元歐元英鎊和日圓進行貿易與此同時隨著西方機構退出中國最大的數家銀行自俄烏戰爭開打以來已向俄羅斯借出價值數十億美元的人民幣信貸美國財政部副部長艾迪耶摩表示中國土耳其和阿拉伯聯合大公國等國的主要銀行已很努力避免抵觸美方制裁新措施將針對規模較小的機構艾迪耶摩接受財經媒體訪問時說俄羅斯一直在設立幌子公司來隱藏透過第國的採購他們不會透過這些國家的大公司而是透過小公司取得微電子器件機具和引擎零件等產品但這些公司全都還是必須使用金融體系   \n",
       "2                                                                                                                                                                                                                                                                                                           俄烏交戰來一大戰果烏克蘭稱擊落俄軍架蘇愷專家愛國者飛彈建功烏克蘭總統澤倫斯基和軍方官員表示烏軍今天在南部前線擊落架俄羅斯蘇愷戰鬥轟炸機並稱讚這是俄烏交戰個月來的一大戰果俄羅斯軍方並未提及這起事件但俄國的部落客承認俄方確實有折損分析家指出烏軍可能用了美國供應的愛國者飛彈但路透社無法獨立證實前述這些消息烏克蘭空軍司令歐勒什丘克於通訊應用程式寫道今天中午在南部戰區掉了架俄羅斯蘇愷戰鬥轟炸機空軍發言人伊納特告訴烏克蘭國營電視台這是一場精心策劃的行動他說道在我們確實的統計數據中已經有一段時間沒有出現蘇愷更形容蘇愷是可用於轟炸和其他攻擊行動的俄國最現代化戰機之一澤倫斯基在晚間談話影片中讚揚敖德薩地區防空部隊擊落赫松地區上空的這些蘇愷俄軍年月全面入侵烏克蘭的頭幾天就占領了赫松地區大片領土此後烏軍試圖收復失土今年月在赫松地區的第聶伯河東岸建立陣地總部位於俄羅斯的歐亞日報稱烏克蘭說法是可信的基輔當局可能從第聶伯河西岸發射針對高空目標射程可達公里的愛國者飛彈烏克蘭航空專家羅曼能柯向烏國當地廣播電台表示他認為愛國者飛彈擊落俄軍戰機的可能性很高還說俄軍沒有充分考量到愛國者飛彈的射程達到公里   \n",
       "3                                                                                                                                                                                                                                                                                                                                                                                                                              烏克蘭再傳軍購弊案國防高官涉盜千萬美元恐面臨年刑期紐約時報報導當地時間日烏克蘭一名高級國防官員涉嫌中飽私囊盜用軍購案近萬美元目前已遭撤職逮捕查證屬實恐面臨最高年有期徒刑烏克蘭檢方在聲明中表示年月該官員與一家製造商簽署購買砲彈後來國防部新成立的採購部與同家廠商改簽新約不僅成本降低且省去通過外國中介商而大幅縮短交貨期可是該官員仍延長舊約且把將近萬美元轉給外國中介商當局並未公布涉貪官員姓名並表示該批彈藥尚未交付正在努力追回這筆錢今年月烏克蘭國防部長因捲入貪汙遭撤職此後烏克蘭當局一直努力整頓內部烏克蘭總統澤倫斯基也將打擊貪腐作為戰時主要目標之一不僅是為了向西方盟國保證數十億美元金援沒有遭挪用同時保障彈藥短缺的情況下有效分配資源近日烏軍才表示出於砲彈匱乏而縮減軍事行動規模這並非烏克蘭在戰爭期間發生的首起軍購舞弊去年兩名國防官員以過高價格購買雞蛋遭法辦   \n",
       "4                                                         紐時普亭透過秘密外交管道釋出和談訊息願就目前戰線停火紐約時報報導俄羅斯總統普亭日前在公開場合堅定表示俄烏戰爭打到底不過就知情的俄國前官員及美國官員透露至少從月以來克里姆林宮已透過外交秘密管道釋出和談訊息且不排除就目前戰線停火只要能讓俄國宣稱獲勝即可事實上美國官員表示早在一年前也就是年秋天烏軍在俄國東北部將俄軍打得落花流水當時普亭便釋出有意停火的訊息表示已經滿意目前奪得的領土且準備停戰只不過沒有獲得報導知情官員表示普亭的停火協議包括烏克蘭維持主權並繼續以基輔作為首都俄國則保留占領的烏克蘭領土至於烏克蘭加入北約是否會阻撓協議一名前俄國官員表示就可見未來而言烏克蘭不太可能入北約因此不大可能成為破局因素不過美國高階官員則說烏克蘭一直以來以收復全部領土為主張沒有證據說明其領導人會接受停戰協議普亭反覆表現出有意停火的姿態說明投機主義和隨機應變成為他關起門來處理戰爭的方式熟知普亭且深諳克里姆林宮內部運作的採訪對象及國際官員在數十次訪問中表示俄烏戰爭打得比普亭預期還久期間他一直設法降低風險並保持開放的選擇不過部分美國官員也表示這有可能是克里姆林宮一貫得誤導伎倆並非普亭真的有意妥協俄國前官員也補充倘若俄軍勢頭強勁普亭很可能再次改變主意其中一名俄國前高級官員向紐時表示他確實有意就目前戰線停火他不願意後退一點即使是一公尺現任及前任官員不約而同提到陷入僵局的戰況烏克蘭遲遲無法推進的攻勢普亭在西方日益下滑的支持度加之月爆發的以巴衝突等等目前種種條件讓普亭認為是停戰的時機克里姆林宮發言人培斯科夫回覆評論表示原則上這些說法是不正確的問及俄國是否準備就目前戰線停火培斯科夫援引普亭近來發言稱俄國的目標沒有改變普亭確實準備也說過打算談俄國一直準備好了在滿足俄國自身目標的前提下   \n",
       "\n",
       "                                      artUrl artCatagory  \n",
       "0  https://udn.com/news/story/122663/7660679          全球  \n",
       "1  https://udn.com/news/story/122663/7661029          全球  \n",
       "2  https://udn.com/news/story/122663/7661229          全球  \n",
       "3  https://udn.com/news/story/122663/7661805          全球  \n",
       "4  https://udn.com/news/story/122663/7662087          全球  "
      ],
      "text/html": [
       "<div>\n",
       "<style scoped>\n",
       "    .dataframe tbody tr th:only-of-type {\n",
       "        vertical-align: middle;\n",
       "    }\n",
       "\n",
       "    .dataframe tbody tr th {\n",
       "        vertical-align: top;\n",
       "    }\n",
       "\n",
       "    .dataframe thead th {\n",
       "        text-align: right;\n",
       "    }\n",
       "</style>\n",
       "<table border=\"1\" class=\"dataframe\">\n",
       "  <thead>\n",
       "    <tr style=\"text-align: right;\">\n",
       "      <th></th>\n",
       "      <th>content</th>\n",
       "      <th>artUrl</th>\n",
       "      <th>artCatagory</th>\n",
       "    </tr>\n",
       "  </thead>\n",
       "  <tbody>\n",
       "    <tr>\n",
       "      <th>0</th>\n",
       "      <td>波蘭新外長籲西方挺烏基輔盼迅速解除邊界封鎖波蘭新任外交部長席科斯基今天敦促西方團結力挺烏克蘭選擇這個飽受戰爭蹂躪的國家作為他外訪的第一站在其他盟友對提供軍援猶豫不決時展現對烏克蘭的支持烏克蘭接待席科斯基來訪時表示希望迅速解決波蘭卡車司機封堵邊界的問題並說波蘭外長這次訪問為兩國關係翻開新頁在前任政府執政下波蘭與烏克蘭關係緊張俄羅斯過去幾週加強了空襲席科斯基訪問時烏克蘭空襲警報響起警告可能有新的俄羅斯突擊行動席科斯基在結束訪問的記者會上說如果西方動員起來對於何方將勝出我絲毫沒有懷疑但最終還是必須開始動員他說西方經濟體比俄羅斯富裕倍但莫斯科已將其經濟切換成戰爭模式他說我們不能讓俄羅斯在經濟規模小得多的基礎上生產更多因為戰爭不是靠著戰術戰鬥贏的戰爭是透過生產打贏的法新社報導俄烏戰爭打了近兩年儘管烏克蘭官員努力遊說基輔盟國對這場衝突漸漸感到疲倦在美國聯邦參議院領袖日表示華府無法在年底前通過對烏克蘭的新援助在歐洲匈牙利擋下歐洲聯盟價值億歐元的援烏方案儘管歐盟與烏克蘭啟動正式入盟談判讓烏克蘭取得象徵性勝利但真正的入盟尚需數年時間席科斯基這次訪問是為了讓基輔安心而解決波蘭貨運公司對烏克蘭邊界長達一個月的封鎖是此行首要目的俄烏戰爭於年月開打時歐盟取消烏克蘭貨運公司進入歐盟的限制以緩解進出烏克蘭的貨運量但波蘭卡車司機說此舉導致他們的營收變少因此一直封鎖波蘭與烏克蘭的邊界而烏克蘭的進出口嚴重仰賴這條路線烏克蘭外交部長庫列巴稍早提到這個問題時跟席科斯基說首先要做的是解除邊界封鎖因為我們的友好關係籠罩在邊界遭圍堵的陰影下這種情況令人無法接受且是有害的波蘭副基礎建設部長甘卡茲稍後在基輔與席科斯基一同舉行的記者會上說我們希望這個問題能在耶誕節前在今年年底前解決</td>\n",
       "      <td>https://udn.com/news/story/122663/7660679</td>\n",
       "      <td>全球</td>\n",
       "    </tr>\n",
       "    <tr>\n",
       "      <th>1</th>\n",
       "      <td>美國加強施壓俄羅斯拜登簽署行政命令鎖定金融機構美國白宮在聲明中表示總統拜登今天簽署行政命令將對支持俄羅斯攻打烏克蘭的外國銀行祭出制裁協助俄國規避制裁的金融機構也恐成制裁對象華府正試圖加強對俄國施壓綜合法新社和路透社報導已有多家公司因支援俄羅斯國防工業而受制裁如果金融機構支持這些公司美方將根據這項行政命令對金融機構祭出所謂的次級制裁白宮表示這項行政命令也授權華府擴大對部分俄國商品的進口禁令例如海產和鑽石白宮國家安全顧問蘇利文在聲明中說我們正發出明確的訊息任何支持俄羅斯非法戰爭活動者恐怕都會被踢出美國金融體系蘇利文表示新的制裁措施將持續施壓俄羅斯戰爭機器及其推手還說先前的措施已大大削弱俄軍實力俄羅斯軍隊長期以來被視為全球最強大的軍隊之一近幾個月來仰賴北韓和伊朗進口北韓和伊朗也都受到西方制裁美國對烏克蘭軍事援助的資金即將耗盡美國和盟邦正尋找新的方法來減緩俄羅斯戰力哥倫比亞大學制裁專家費希曼說華府早已有權制裁非俄羅斯金融機構但今天的行政命令凸顯外國金融機構面臨切實風險其中許多機構似乎還沒有意識到這一點這波措施明確指出金融機構若代表受到美國制裁的企業或與俄國軍事工業基礎相關的公司從事交易包括部分關鍵物品的銷售美方就可以鎖定這些金融機構不具名的政府高層官員透露這項命令是與盟邦協調發布然而自俄烏戰爭爆發以來俄國一直加快腳步減少與西方接觸避免以美元歐元英鎊和日圓進行貿易與此同時隨著西方機構退出中國最大的數家銀行自俄烏戰爭開打以來已向俄羅斯借出價值數十億美元的人民幣信貸美國財政部副部長艾迪耶摩表示中國土耳其和阿拉伯聯合大公國等國的主要銀行已很努力避免抵觸美方制裁新措施將針對規模較小的機構艾迪耶摩接受財經媒體訪問時說俄羅斯一直在設立幌子公司來隱藏透過第國的採購他們不會透過這些國家的大公司而是透過小公司取得微電子器件機具和引擎零件等產品但這些公司全都還是必須使用金融體系</td>\n",
       "      <td>https://udn.com/news/story/122663/7661029</td>\n",
       "      <td>全球</td>\n",
       "    </tr>\n",
       "    <tr>\n",
       "      <th>2</th>\n",
       "      <td>俄烏交戰來一大戰果烏克蘭稱擊落俄軍架蘇愷專家愛國者飛彈建功烏克蘭總統澤倫斯基和軍方官員表示烏軍今天在南部前線擊落架俄羅斯蘇愷戰鬥轟炸機並稱讚這是俄烏交戰個月來的一大戰果俄羅斯軍方並未提及這起事件但俄國的部落客承認俄方確實有折損分析家指出烏軍可能用了美國供應的愛國者飛彈但路透社無法獨立證實前述這些消息烏克蘭空軍司令歐勒什丘克於通訊應用程式寫道今天中午在南部戰區掉了架俄羅斯蘇愷戰鬥轟炸機空軍發言人伊納特告訴烏克蘭國營電視台這是一場精心策劃的行動他說道在我們確實的統計數據中已經有一段時間沒有出現蘇愷更形容蘇愷是可用於轟炸和其他攻擊行動的俄國最現代化戰機之一澤倫斯基在晚間談話影片中讚揚敖德薩地區防空部隊擊落赫松地區上空的這些蘇愷俄軍年月全面入侵烏克蘭的頭幾天就占領了赫松地區大片領土此後烏軍試圖收復失土今年月在赫松地區的第聶伯河東岸建立陣地總部位於俄羅斯的歐亞日報稱烏克蘭說法是可信的基輔當局可能從第聶伯河西岸發射針對高空目標射程可達公里的愛國者飛彈烏克蘭航空專家羅曼能柯向烏國當地廣播電台表示他認為愛國者飛彈擊落俄軍戰機的可能性很高還說俄軍沒有充分考量到愛國者飛彈的射程達到公里</td>\n",
       "      <td>https://udn.com/news/story/122663/7661229</td>\n",
       "      <td>全球</td>\n",
       "    </tr>\n",
       "    <tr>\n",
       "      <th>3</th>\n",
       "      <td>烏克蘭再傳軍購弊案國防高官涉盜千萬美元恐面臨年刑期紐約時報報導當地時間日烏克蘭一名高級國防官員涉嫌中飽私囊盜用軍購案近萬美元目前已遭撤職逮捕查證屬實恐面臨最高年有期徒刑烏克蘭檢方在聲明中表示年月該官員與一家製造商簽署購買砲彈後來國防部新成立的採購部與同家廠商改簽新約不僅成本降低且省去通過外國中介商而大幅縮短交貨期可是該官員仍延長舊約且把將近萬美元轉給外國中介商當局並未公布涉貪官員姓名並表示該批彈藥尚未交付正在努力追回這筆錢今年月烏克蘭國防部長因捲入貪汙遭撤職此後烏克蘭當局一直努力整頓內部烏克蘭總統澤倫斯基也將打擊貪腐作為戰時主要目標之一不僅是為了向西方盟國保證數十億美元金援沒有遭挪用同時保障彈藥短缺的情況下有效分配資源近日烏軍才表示出於砲彈匱乏而縮減軍事行動規模這並非烏克蘭在戰爭期間發生的首起軍購舞弊去年兩名國防官員以過高價格購買雞蛋遭法辦</td>\n",
       "      <td>https://udn.com/news/story/122663/7661805</td>\n",
       "      <td>全球</td>\n",
       "    </tr>\n",
       "    <tr>\n",
       "      <th>4</th>\n",
       "      <td>紐時普亭透過秘密外交管道釋出和談訊息願就目前戰線停火紐約時報報導俄羅斯總統普亭日前在公開場合堅定表示俄烏戰爭打到底不過就知情的俄國前官員及美國官員透露至少從月以來克里姆林宮已透過外交秘密管道釋出和談訊息且不排除就目前戰線停火只要能讓俄國宣稱獲勝即可事實上美國官員表示早在一年前也就是年秋天烏軍在俄國東北部將俄軍打得落花流水當時普亭便釋出有意停火的訊息表示已經滿意目前奪得的領土且準備停戰只不過沒有獲得報導知情官員表示普亭的停火協議包括烏克蘭維持主權並繼續以基輔作為首都俄國則保留占領的烏克蘭領土至於烏克蘭加入北約是否會阻撓協議一名前俄國官員表示就可見未來而言烏克蘭不太可能入北約因此不大可能成為破局因素不過美國高階官員則說烏克蘭一直以來以收復全部領土為主張沒有證據說明其領導人會接受停戰協議普亭反覆表現出有意停火的姿態說明投機主義和隨機應變成為他關起門來處理戰爭的方式熟知普亭且深諳克里姆林宮內部運作的採訪對象及國際官員在數十次訪問中表示俄烏戰爭打得比普亭預期還久期間他一直設法降低風險並保持開放的選擇不過部分美國官員也表示這有可能是克里姆林宮一貫得誤導伎倆並非普亭真的有意妥協俄國前官員也補充倘若俄軍勢頭強勁普亭很可能再次改變主意其中一名俄國前高級官員向紐時表示他確實有意就目前戰線停火他不願意後退一點即使是一公尺現任及前任官員不約而同提到陷入僵局的戰況烏克蘭遲遲無法推進的攻勢普亭在西方日益下滑的支持度加之月爆發的以巴衝突等等目前種種條件讓普亭認為是停戰的時機克里姆林宮發言人培斯科夫回覆評論表示原則上這些說法是不正確的問及俄國是否準備就目前戰線停火培斯科夫援引普亭近來發言稱俄國的目標沒有改變普亭確實準備也說過打算談俄國一直準備好了在滿足俄國自身目標的前提下</td>\n",
       "      <td>https://udn.com/news/story/122663/7662087</td>\n",
       "      <td>全球</td>\n",
       "    </tr>\n",
       "  </tbody>\n",
       "</table>\n",
       "</div>"
      ]
     },
     "execution_count": 164,
     "metadata": {},
     "output_type": "execute_result"
    }
   ],
   "execution_count": 164
  },
  {
   "cell_type": "code",
   "metadata": {
    "scrolled": true,
    "ExecuteTime": {
     "end_time": "2024-04-06T14:30:37.127111Z",
     "start_time": "2024-04-06T14:30:37.122508Z"
    }
   },
   "source": [
    "# 看看有幾篇文章\n",
    "print(f\"total docs: {udn.shape[0]}\")"
   ],
   "outputs": [
    {
     "name": "stdout",
     "output_type": "stream",
     "text": [
      "total docs: 2873\n"
     ]
    }
   ],
   "execution_count": 165
  },
  {
   "attachments": {},
   "cell_type": "markdown",
   "metadata": {},
   "source": "### 2.2 斷詞 "
  },
  {
   "cell_type": "code",
   "metadata": {
    "ExecuteTime": {
     "end_time": "2024-04-06T14:30:39.003781Z",
     "start_time": "2024-04-06T14:30:38.999384Z"
    }
   },
   "source": [
    "# 設定繁體中文詞庫\n",
    "jieba.set_dictionary(\"./dict/dict.txt.big\")\n",
    "\n",
    "# 新增stopwords\n",
    "# jieba.analyse.set_stop_words('./dict/stop_words.txt') #jieba.analyse.extract_tags才會作用\n",
    "with open(\"./dict/stop_words.txt\", encoding=\"utf-8\") as f:\n",
    "    stopWords = [line.strip() for line in f.readlines()]"
   ],
   "outputs": [],
   "execution_count": 166
  },
  {
   "cell_type": "code",
   "metadata": {
    "ExecuteTime": {
     "end_time": "2024-04-06T14:30:40.211414Z",
     "start_time": "2024-04-06T14:30:40.206500Z"
    }
   },
   "source": [
    "# 設定斷詞 function\n",
    "def getToken(row):\n",
    "    seg_list = jieba.cut(row, cut_all=False)\n",
    "    seg_list = [\n",
    "        w for w in seg_list if w not in stopWords and len(w) > 1\n",
    "    ]  # 篩選掉停用字與字元數大於1的詞彙\n",
    "    return seg_list"
   ],
   "outputs": [],
   "execution_count": 167
  },
  {
   "cell_type": "code",
   "metadata": {
    "ExecuteTime": {
     "end_time": "2024-04-06T14:30:59.878825Z",
     "start_time": "2024-04-06T14:30:41.455368Z"
    }
   },
   "source": [
    "udn[\"words\"] = udn[\"content\"].apply(getToken).map(\" \".join)\n",
    "udn.head()"
   ],
   "outputs": [
    {
     "name": "stderr",
     "output_type": "stream",
     "text": [
      "Building prefix dict from C:\\Users\\eddie\\GitHub\\StockNatrakLanguageAnalyze\\dict\\dict.txt.big ...\n",
      "Loading model from cache C:\\Users\\eddie\\AppData\\Local\\Temp\\jieba.ua398e1f90d463cf314deaaa432abb2fc.cache\n",
      "Loading model cost 1.749 seconds.\n",
      "Prefix dict has been built successfully.\n"
     ]
    },
    {
     "data": {
      "text/plain": [
       "                                                                                                                                                                                                                                                                                                                                                                                                                                                                                                                                                                                                                                                                                                                                                                                                               content  \\\n",
       "0                                                              波蘭新外長籲西方挺烏基輔盼迅速解除邊界封鎖波蘭新任外交部長席科斯基今天敦促西方團結力挺烏克蘭選擇這個飽受戰爭蹂躪的國家作為他外訪的第一站在其他盟友對提供軍援猶豫不決時展現對烏克蘭的支持烏克蘭接待席科斯基來訪時表示希望迅速解決波蘭卡車司機封堵邊界的問題並說波蘭外長這次訪問為兩國關係翻開新頁在前任政府執政下波蘭與烏克蘭關係緊張俄羅斯過去幾週加強了空襲席科斯基訪問時烏克蘭空襲警報響起警告可能有新的俄羅斯突擊行動席科斯基在結束訪問的記者會上說如果西方動員起來對於何方將勝出我絲毫沒有懷疑但最終還是必須開始動員他說西方經濟體比俄羅斯富裕倍但莫斯科已將其經濟切換成戰爭模式他說我們不能讓俄羅斯在經濟規模小得多的基礎上生產更多因為戰爭不是靠著戰術戰鬥贏的戰爭是透過生產打贏的法新社報導俄烏戰爭打了近兩年儘管烏克蘭官員努力遊說基輔盟國對這場衝突漸漸感到疲倦在美國聯邦參議院領袖日表示華府無法在年底前通過對烏克蘭的新援助在歐洲匈牙利擋下歐洲聯盟價值億歐元的援烏方案儘管歐盟與烏克蘭啟動正式入盟談判讓烏克蘭取得象徵性勝利但真正的入盟尚需數年時間席科斯基這次訪問是為了讓基輔安心而解決波蘭貨運公司對烏克蘭邊界長達一個月的封鎖是此行首要目的俄烏戰爭於年月開打時歐盟取消烏克蘭貨運公司進入歐盟的限制以緩解進出烏克蘭的貨運量但波蘭卡車司機說此舉導致他們的營收變少因此一直封鎖波蘭與烏克蘭的邊界而烏克蘭的進出口嚴重仰賴這條路線烏克蘭外交部長庫列巴稍早提到這個問題時跟席科斯基說首先要做的是解除邊界封鎖因為我們的友好關係籠罩在邊界遭圍堵的陰影下這種情況令人無法接受且是有害的波蘭副基礎建設部長甘卡茲稍後在基輔與席科斯基一同舉行的記者會上說我們希望這個問題能在耶誕節前在今年年底前解決   \n",
       "1  美國加強施壓俄羅斯拜登簽署行政命令鎖定金融機構美國白宮在聲明中表示總統拜登今天簽署行政命令將對支持俄羅斯攻打烏克蘭的外國銀行祭出制裁協助俄國規避制裁的金融機構也恐成制裁對象華府正試圖加強對俄國施壓綜合法新社和路透社報導已有多家公司因支援俄羅斯國防工業而受制裁如果金融機構支持這些公司美方將根據這項行政命令對金融機構祭出所謂的次級制裁白宮表示這項行政命令也授權華府擴大對部分俄國商品的進口禁令例如海產和鑽石白宮國家安全顧問蘇利文在聲明中說我們正發出明確的訊息任何支持俄羅斯非法戰爭活動者恐怕都會被踢出美國金融體系蘇利文表示新的制裁措施將持續施壓俄羅斯戰爭機器及其推手還說先前的措施已大大削弱俄軍實力俄羅斯軍隊長期以來被視為全球最強大的軍隊之一近幾個月來仰賴北韓和伊朗進口北韓和伊朗也都受到西方制裁美國對烏克蘭軍事援助的資金即將耗盡美國和盟邦正尋找新的方法來減緩俄羅斯戰力哥倫比亞大學制裁專家費希曼說華府早已有權制裁非俄羅斯金融機構但今天的行政命令凸顯外國金融機構面臨切實風險其中許多機構似乎還沒有意識到這一點這波措施明確指出金融機構若代表受到美國制裁的企業或與俄國軍事工業基礎相關的公司從事交易包括部分關鍵物品的銷售美方就可以鎖定這些金融機構不具名的政府高層官員透露這項命令是與盟邦協調發布然而自俄烏戰爭爆發以來俄國一直加快腳步減少與西方接觸避免以美元歐元英鎊和日圓進行貿易與此同時隨著西方機構退出中國最大的數家銀行自俄烏戰爭開打以來已向俄羅斯借出價值數十億美元的人民幣信貸美國財政部副部長艾迪耶摩表示中國土耳其和阿拉伯聯合大公國等國的主要銀行已很努力避免抵觸美方制裁新措施將針對規模較小的機構艾迪耶摩接受財經媒體訪問時說俄羅斯一直在設立幌子公司來隱藏透過第國的採購他們不會透過這些國家的大公司而是透過小公司取得微電子器件機具和引擎零件等產品但這些公司全都還是必須使用金融體系   \n",
       "2                                                                                                                                                                                                                                                                                                           俄烏交戰來一大戰果烏克蘭稱擊落俄軍架蘇愷專家愛國者飛彈建功烏克蘭總統澤倫斯基和軍方官員表示烏軍今天在南部前線擊落架俄羅斯蘇愷戰鬥轟炸機並稱讚這是俄烏交戰個月來的一大戰果俄羅斯軍方並未提及這起事件但俄國的部落客承認俄方確實有折損分析家指出烏軍可能用了美國供應的愛國者飛彈但路透社無法獨立證實前述這些消息烏克蘭空軍司令歐勒什丘克於通訊應用程式寫道今天中午在南部戰區掉了架俄羅斯蘇愷戰鬥轟炸機空軍發言人伊納特告訴烏克蘭國營電視台這是一場精心策劃的行動他說道在我們確實的統計數據中已經有一段時間沒有出現蘇愷更形容蘇愷是可用於轟炸和其他攻擊行動的俄國最現代化戰機之一澤倫斯基在晚間談話影片中讚揚敖德薩地區防空部隊擊落赫松地區上空的這些蘇愷俄軍年月全面入侵烏克蘭的頭幾天就占領了赫松地區大片領土此後烏軍試圖收復失土今年月在赫松地區的第聶伯河東岸建立陣地總部位於俄羅斯的歐亞日報稱烏克蘭說法是可信的基輔當局可能從第聶伯河西岸發射針對高空目標射程可達公里的愛國者飛彈烏克蘭航空專家羅曼能柯向烏國當地廣播電台表示他認為愛國者飛彈擊落俄軍戰機的可能性很高還說俄軍沒有充分考量到愛國者飛彈的射程達到公里   \n",
       "3                                                                                                                                                                                                                                                                                                                                                                                                                              烏克蘭再傳軍購弊案國防高官涉盜千萬美元恐面臨年刑期紐約時報報導當地時間日烏克蘭一名高級國防官員涉嫌中飽私囊盜用軍購案近萬美元目前已遭撤職逮捕查證屬實恐面臨最高年有期徒刑烏克蘭檢方在聲明中表示年月該官員與一家製造商簽署購買砲彈後來國防部新成立的採購部與同家廠商改簽新約不僅成本降低且省去通過外國中介商而大幅縮短交貨期可是該官員仍延長舊約且把將近萬美元轉給外國中介商當局並未公布涉貪官員姓名並表示該批彈藥尚未交付正在努力追回這筆錢今年月烏克蘭國防部長因捲入貪汙遭撤職此後烏克蘭當局一直努力整頓內部烏克蘭總統澤倫斯基也將打擊貪腐作為戰時主要目標之一不僅是為了向西方盟國保證數十億美元金援沒有遭挪用同時保障彈藥短缺的情況下有效分配資源近日烏軍才表示出於砲彈匱乏而縮減軍事行動規模這並非烏克蘭在戰爭期間發生的首起軍購舞弊去年兩名國防官員以過高價格購買雞蛋遭法辦   \n",
       "4                                                         紐時普亭透過秘密外交管道釋出和談訊息願就目前戰線停火紐約時報報導俄羅斯總統普亭日前在公開場合堅定表示俄烏戰爭打到底不過就知情的俄國前官員及美國官員透露至少從月以來克里姆林宮已透過外交秘密管道釋出和談訊息且不排除就目前戰線停火只要能讓俄國宣稱獲勝即可事實上美國官員表示早在一年前也就是年秋天烏軍在俄國東北部將俄軍打得落花流水當時普亭便釋出有意停火的訊息表示已經滿意目前奪得的領土且準備停戰只不過沒有獲得報導知情官員表示普亭的停火協議包括烏克蘭維持主權並繼續以基輔作為首都俄國則保留占領的烏克蘭領土至於烏克蘭加入北約是否會阻撓協議一名前俄國官員表示就可見未來而言烏克蘭不太可能入北約因此不大可能成為破局因素不過美國高階官員則說烏克蘭一直以來以收復全部領土為主張沒有證據說明其領導人會接受停戰協議普亭反覆表現出有意停火的姿態說明投機主義和隨機應變成為他關起門來處理戰爭的方式熟知普亭且深諳克里姆林宮內部運作的採訪對象及國際官員在數十次訪問中表示俄烏戰爭打得比普亭預期還久期間他一直設法降低風險並保持開放的選擇不過部分美國官員也表示這有可能是克里姆林宮一貫得誤導伎倆並非普亭真的有意妥協俄國前官員也補充倘若俄軍勢頭強勁普亭很可能再次改變主意其中一名俄國前高級官員向紐時表示他確實有意就目前戰線停火他不願意後退一點即使是一公尺現任及前任官員不約而同提到陷入僵局的戰況烏克蘭遲遲無法推進的攻勢普亭在西方日益下滑的支持度加之月爆發的以巴衝突等等目前種種條件讓普亭認為是停戰的時機克里姆林宮發言人培斯科夫回覆評論表示原則上這些說法是不正確的問及俄國是否準備就目前戰線停火培斯科夫援引普亭近來發言稱俄國的目標沒有改變普亭確實準備也說過打算談俄國一直準備好了在滿足俄國自身目標的前提下   \n",
       "\n",
       "                                      artUrl artCatagory  \\\n",
       "0  https://udn.com/news/story/122663/7660679          全球   \n",
       "1  https://udn.com/news/story/122663/7661029          全球   \n",
       "2  https://udn.com/news/story/122663/7661229          全球   \n",
       "3  https://udn.com/news/story/122663/7661805          全球   \n",
       "4  https://udn.com/news/story/122663/7662087          全球   \n",
       "\n",
       "                                                                                                                                                                                                                                                                                                                                                                                                                                                                                                                                                                                                                                                                                                                                                                                                                                                                                                                                              words  \n",
       "0                                                                                                                             波蘭 外長 西方 基輔 迅速 解除 邊界 封鎖 波蘭 新任 外交部長 科斯 今天 敦促 西方 團結 力挺 烏克蘭 選擇 飽受 戰爭 蹂躪 國家 外訪 第一站 盟友 提供 軍援 猶豫不決 展現 烏克蘭 支持 烏克蘭 接待 科斯 來訪 表示 希望 迅速 解決 波蘭 卡車司機 封堵 邊界 問題 並說 波蘭 外長 這次 訪問 兩國關係 翻開 新頁 前任 政府 執政 波蘭 烏克蘭 關係 緊張 俄羅斯 過去 幾週 加強 空襲 科斯 訪問 烏克蘭 空襲警報 響起 警告 俄羅斯 突擊 行動 科斯 基在 結束 訪問 記者會 西方 動員 何方 勝出 絲毫 懷疑 最終 動員 西方 經濟體 俄羅斯 富裕 莫斯科 已將 經濟 切換 戰爭 模式 俄羅斯 經濟 規模 小得多 基礎 生產 更多 戰爭 戰術 戰鬥 贏的 戰爭 透過 生產 打贏 法新社 俄烏 戰爭 近兩年 烏克蘭 官員 努力 遊說 基輔 盟國 這場 衝突 漸漸 感到疲倦 美國聯邦 參議院 領袖 表示 華府 無法 年底 烏克蘭 援助 歐洲 匈牙利 歐洲聯盟 價值 歐元 烏方 歐盟 烏克蘭 啟動 正式 入盟 談判 烏克蘭 取得 象徵性 勝利 真正 入盟 尚需 數年 時間 科斯 這次 訪問 基輔 安心 解決 波蘭 貨運公司 烏克蘭 邊界 長達 一個月 封鎖 此行 首要 目的 俄烏 戰爭 開打 歐盟 取消 烏克蘭 貨運公司 進入 歐盟 限制 緩解 進出 烏克蘭 貨運量 波蘭 卡車司機 此舉 導致 營收 變少 一直 封鎖 波蘭 烏克蘭 邊界 烏克蘭 進出口 嚴重 仰賴 這條 路線 烏克蘭 外交部長 列巴 稍早 提到 問題 時跟席 科斯 基說 解除 邊界 封鎖 友好關係 籠罩 邊界 圍堵 陰影 情況 令人 無法 接受 有害 波蘭 基礎 建設 部長 甘卡茲 稍後 基輔 與席 科斯 一同 舉行 記者會 希望 問題 耶誕節 今年年底 解決  \n",
       "1  美國 加強 施壓 俄羅斯 拜登 簽署 行政命令 鎖定 金融機構 美國白宮 聲明 表示 總統 拜登 今天 簽署 行政命令 將對 支持 俄羅斯 攻打 烏克蘭 外國 銀行 制裁 協助 俄國 規避 制裁 金融機構 恐成 制裁 對象 華府 正試圖 加強 俄國 施壓 綜合 法新社 路透社 已有 多家 公司 支援 俄羅斯 國防工業 制裁 金融機構 支持 公司 美方 這項 行政命令 金融機構 所謂 次級 制裁 白宮 表示 這項 行政命令 授權 華府 擴大 部分 俄國 商品 進口 禁令 海產 鑽石 白宮 國家 安全 顧問 蘇利文 聲明 中說 發出 明確 訊息 支持 俄羅斯 非法 戰爭 活動 踢出 美國 金融體系 蘇利文 表示 制裁 措施 持續 施壓 俄羅斯 戰爭 機器 推手 還說 先前 措施 削弱 俄軍 實力 俄羅斯 軍隊 被視 全球 強大 軍隊 近幾個月 仰賴 北韓 伊朗 進口 北韓 伊朗 受到 西方 制裁 美國 烏克蘭 軍事援助 資金 耗盡 美國 盟邦 尋找 方法 減緩 俄羅斯 戰力 哥倫比亞大學 制裁 專家 希曼 華府 早已 有權 制裁 俄羅斯 金融機構 今天 行政命令 凸顯 外國 金融機構 面臨 切實 風險 許多 機構 似乎 意識 一點 這波 措施 明確指出 金融機構 代表 受到 美國 制裁 企業 俄國 軍事 工業 基礎 相關 公司 從事 交易 包括 部分 關鍵 物品 銷售 美方 鎖定 金融機構 具名 政府 高層 官員 透露 這項 命令 盟邦 協調 發布 自俄烏 戰爭 爆發 以來 俄國 一直 加快腳步 減少 西方 接觸 避免 美元 歐元 英鎊 日圓 進行 貿易 西方 機構 退出 中國 最大 數家 銀行 自俄烏 戰爭 開打 以來 俄羅斯 借出 價值 數十億美元 人民幣 信貸 美國財政部 副部長 艾迪 耶摩 表示 中國 土耳其 阿拉伯 聯合 大公國 等國 主要 銀行 努力 避免 抵觸 美方 制裁 措施 針對 規模較 機構 艾迪 耶摩 接受 財經 媒體 訪問 時說 俄羅斯 一直 設立 幌子 公司 隱藏 透過 第國 採購 透過 國家 公司 透過 公司 取得 電子器件 機具 引擎 零件 產品 公司 使用 金融體系  \n",
       "2                                                                                                                                                                                                                                                                                                                                                  俄烏 交戰 一大 戰果 烏克蘭 擊落 俄軍 蘇愷 專家 愛國者 飛彈 建功 烏克蘭 總統 倫斯基 軍方 官員 表示 今天 南部 前線 擊落 俄羅斯 蘇愷 戰鬥 轟炸機 稱讚 這是 交戰 一大 戰果 俄羅斯 軍方 並未 提及 這起 事件 俄國 部落 承認 俄方 確實 折損 分析家 指出 美國 供應 愛國者 飛彈 路透社 無法 獨立 證實 前述 消息 烏克蘭 空軍司令 歐勒什丘克 通訊 應用程式 寫道 今天 中午 南部 戰區 俄羅斯 蘇愷 戰鬥 轟炸機 空軍 發言人 伊納特 告訴 烏克蘭 國營 電視 這是 一場 精心策劃 行動 說道 確實 統計數據 已經 一段時間 出現 蘇愷 形容 蘇愷 用於 轟炸 攻擊 行動 俄國 現代化 戰機 倫斯基 晚間 談話 影片 讚揚 敖德薩 地區 防空 部隊 擊落 赫松 地區 上空 蘇愷 俄軍 全面 入侵 烏克蘭 的頭 幾天 占領 赫松 地區 大片 領土 試圖 收復失土 今年 赫松 地區 第聶伯河 東岸 建立 陣地 總部 位於 俄羅斯 歐亞 報稱 烏克蘭 說法 可信 基輔 當局 第聶伯河 西岸 發射 針對 高空 目標 射程 可達 公里 愛國者 飛彈 烏克蘭 航空 專家 曼能 柯向 烏國 當地 廣播 電台 表示 認為 愛國者 飛彈 擊落 俄軍 戰機 可能性 很高 還說 俄軍 考量 愛國者 飛彈 射程 達到 公里  \n",
       "3                                                                                                                                                                                                                                                                                                                                                                                                                                                                                                  烏克蘭 傳軍購 弊案 國防 高官 涉盜 千萬美元 面臨 刑期 紐約時報 當地 時間 烏克蘭 一名 高級 國防 官員 涉嫌 中飽私囊 盜用 軍購案 萬美元 目前 撤職 逮捕 查證 屬實 面臨 最高 有期徒刑 烏克蘭 檢方 聲明 表示 官員 一家 製造商 簽署 購買 國防部 成立 採購部 同家 廠商 改簽 新約 成本 降低 省去 外國 中介 商而 大幅 縮短 交貨期 官員 延長 舊約 萬美元 轉給 外國 中介 當局 並未 公布 官員 姓名 表示 該批 彈藥 尚未 交付 正在 努力 追回 這筆 今年 烏克蘭 國防部長 捲入 貪汙 撤職 烏克蘭 當局 一直 努力 整頓 內部 烏克蘭 總統 倫斯基 也將 打擊 貪腐 戰時 主要 目標 西方 盟國 保證 數十億美元 金援 挪用 保障 彈藥 短缺 情況 有效 分配資源 近日 烏軍才 表示 出於 匱乏 縮減 軍事行動 規模 烏克蘭 戰爭 期間 發生 首起 軍購 舞弊 去年 兩名 國防 官員 以過 價格 購買 雞蛋 法辦  \n",
       "4                                                                 紐時 普亭 透過 秘密 外交 管道 釋出 和談 訊息 目前 戰線 停火 紐約時報 俄羅斯 總統 普亭 日前 公開場合 堅定 表示 俄烏 戰爭 知情 俄國 官員 美國 官員 透露 至少 以來 克里姆林宮 透過 外交 秘密 管道 釋出 和談 訊息 排除 目前 戰線 停火 俄國 宣稱 獲勝 即可 事實上 美國 官員 表示 一年 秋天 烏軍在 俄國 東北 部將 俄軍 落花流水 當時 普亭 釋出 有意 停火 訊息 表示 已經 滿意 目前 奪得 領土 準備 停戰 只不過 獲得 知情 官員 表示 普亭 停火協議 包括 烏克蘭 維持 主權 繼續 基輔 首都 俄國 保留 占領 烏克蘭 領土 烏克蘭 加入 北約 是否 阻撓 協議 一名 俄國 官員 表示 未來 烏克蘭 不太可能 北約 不大可能 成為 破局 因素 美國 高階 官員 則說 烏克蘭 一直 以來 收復 全部 領土 主張 證據 說明 領導人 接受 停戰 協議 普亭 反覆 表現 有意 停火 姿態 說明 投機 主義 隨機應變 成為 關起門來 處理 戰爭 方式 熟知 普亭且 深諳 克里姆林宮 內部 運作 採訪 對象 國際 官員 數十次 訪問 表示 俄烏 戰爭 打得 比普亭 預期 還久 期間 一直 設法 降低 風險 保持 開放 選擇 部分 美國 官員 表示 這有 克里姆林宮 一貫 誤導 伎倆 普亭 真的 有意 妥協 俄國 官員 補充 俄軍 勢頭 強勁 普亭 再次 改變 主意 一名 俄國 高級官員 紐時 表示 確實 有意 目前 戰線 停火 願意 後退 一點 公尺 現任 前任 官員 不約而同 提到 陷入僵局 戰況 烏克蘭 遲遲 無法 推進 攻勢 普亭 西方 下滑 支持 爆發 以巴 衝突 目前 種種 條件 普亭 認為 停戰 時機 克里姆林宮 發言人 斯科夫 回覆 評論 表示 原則上 說法 正確 問及 俄國 是否 準備 目前 戰線 停火 斯科夫 援引 普亭 發言 俄國 目標 改變 普亭 確實 準備 說過 打算 俄國 一直 準備 滿足 俄國 目標 前提  "
      ],
      "text/html": [
       "<div>\n",
       "<style scoped>\n",
       "    .dataframe tbody tr th:only-of-type {\n",
       "        vertical-align: middle;\n",
       "    }\n",
       "\n",
       "    .dataframe tbody tr th {\n",
       "        vertical-align: top;\n",
       "    }\n",
       "\n",
       "    .dataframe thead th {\n",
       "        text-align: right;\n",
       "    }\n",
       "</style>\n",
       "<table border=\"1\" class=\"dataframe\">\n",
       "  <thead>\n",
       "    <tr style=\"text-align: right;\">\n",
       "      <th></th>\n",
       "      <th>content</th>\n",
       "      <th>artUrl</th>\n",
       "      <th>artCatagory</th>\n",
       "      <th>words</th>\n",
       "    </tr>\n",
       "  </thead>\n",
       "  <tbody>\n",
       "    <tr>\n",
       "      <th>0</th>\n",
       "      <td>波蘭新外長籲西方挺烏基輔盼迅速解除邊界封鎖波蘭新任外交部長席科斯基今天敦促西方團結力挺烏克蘭選擇這個飽受戰爭蹂躪的國家作為他外訪的第一站在其他盟友對提供軍援猶豫不決時展現對烏克蘭的支持烏克蘭接待席科斯基來訪時表示希望迅速解決波蘭卡車司機封堵邊界的問題並說波蘭外長這次訪問為兩國關係翻開新頁在前任政府執政下波蘭與烏克蘭關係緊張俄羅斯過去幾週加強了空襲席科斯基訪問時烏克蘭空襲警報響起警告可能有新的俄羅斯突擊行動席科斯基在結束訪問的記者會上說如果西方動員起來對於何方將勝出我絲毫沒有懷疑但最終還是必須開始動員他說西方經濟體比俄羅斯富裕倍但莫斯科已將其經濟切換成戰爭模式他說我們不能讓俄羅斯在經濟規模小得多的基礎上生產更多因為戰爭不是靠著戰術戰鬥贏的戰爭是透過生產打贏的法新社報導俄烏戰爭打了近兩年儘管烏克蘭官員努力遊說基輔盟國對這場衝突漸漸感到疲倦在美國聯邦參議院領袖日表示華府無法在年底前通過對烏克蘭的新援助在歐洲匈牙利擋下歐洲聯盟價值億歐元的援烏方案儘管歐盟與烏克蘭啟動正式入盟談判讓烏克蘭取得象徵性勝利但真正的入盟尚需數年時間席科斯基這次訪問是為了讓基輔安心而解決波蘭貨運公司對烏克蘭邊界長達一個月的封鎖是此行首要目的俄烏戰爭於年月開打時歐盟取消烏克蘭貨運公司進入歐盟的限制以緩解進出烏克蘭的貨運量但波蘭卡車司機說此舉導致他們的營收變少因此一直封鎖波蘭與烏克蘭的邊界而烏克蘭的進出口嚴重仰賴這條路線烏克蘭外交部長庫列巴稍早提到這個問題時跟席科斯基說首先要做的是解除邊界封鎖因為我們的友好關係籠罩在邊界遭圍堵的陰影下這種情況令人無法接受且是有害的波蘭副基礎建設部長甘卡茲稍後在基輔與席科斯基一同舉行的記者會上說我們希望這個問題能在耶誕節前在今年年底前解決</td>\n",
       "      <td>https://udn.com/news/story/122663/7660679</td>\n",
       "      <td>全球</td>\n",
       "      <td>波蘭 外長 西方 基輔 迅速 解除 邊界 封鎖 波蘭 新任 外交部長 科斯 今天 敦促 西方 團結 力挺 烏克蘭 選擇 飽受 戰爭 蹂躪 國家 外訪 第一站 盟友 提供 軍援 猶豫不決 展現 烏克蘭 支持 烏克蘭 接待 科斯 來訪 表示 希望 迅速 解決 波蘭 卡車司機 封堵 邊界 問題 並說 波蘭 外長 這次 訪問 兩國關係 翻開 新頁 前任 政府 執政 波蘭 烏克蘭 關係 緊張 俄羅斯 過去 幾週 加強 空襲 科斯 訪問 烏克蘭 空襲警報 響起 警告 俄羅斯 突擊 行動 科斯 基在 結束 訪問 記者會 西方 動員 何方 勝出 絲毫 懷疑 最終 動員 西方 經濟體 俄羅斯 富裕 莫斯科 已將 經濟 切換 戰爭 模式 俄羅斯 經濟 規模 小得多 基礎 生產 更多 戰爭 戰術 戰鬥 贏的 戰爭 透過 生產 打贏 法新社 俄烏 戰爭 近兩年 烏克蘭 官員 努力 遊說 基輔 盟國 這場 衝突 漸漸 感到疲倦 美國聯邦 參議院 領袖 表示 華府 無法 年底 烏克蘭 援助 歐洲 匈牙利 歐洲聯盟 價值 歐元 烏方 歐盟 烏克蘭 啟動 正式 入盟 談判 烏克蘭 取得 象徵性 勝利 真正 入盟 尚需 數年 時間 科斯 這次 訪問 基輔 安心 解決 波蘭 貨運公司 烏克蘭 邊界 長達 一個月 封鎖 此行 首要 目的 俄烏 戰爭 開打 歐盟 取消 烏克蘭 貨運公司 進入 歐盟 限制 緩解 進出 烏克蘭 貨運量 波蘭 卡車司機 此舉 導致 營收 變少 一直 封鎖 波蘭 烏克蘭 邊界 烏克蘭 進出口 嚴重 仰賴 這條 路線 烏克蘭 外交部長 列巴 稍早 提到 問題 時跟席 科斯 基說 解除 邊界 封鎖 友好關係 籠罩 邊界 圍堵 陰影 情況 令人 無法 接受 有害 波蘭 基礎 建設 部長 甘卡茲 稍後 基輔 與席 科斯 一同 舉行 記者會 希望 問題 耶誕節 今年年底 解決</td>\n",
       "    </tr>\n",
       "    <tr>\n",
       "      <th>1</th>\n",
       "      <td>美國加強施壓俄羅斯拜登簽署行政命令鎖定金融機構美國白宮在聲明中表示總統拜登今天簽署行政命令將對支持俄羅斯攻打烏克蘭的外國銀行祭出制裁協助俄國規避制裁的金融機構也恐成制裁對象華府正試圖加強對俄國施壓綜合法新社和路透社報導已有多家公司因支援俄羅斯國防工業而受制裁如果金融機構支持這些公司美方將根據這項行政命令對金融機構祭出所謂的次級制裁白宮表示這項行政命令也授權華府擴大對部分俄國商品的進口禁令例如海產和鑽石白宮國家安全顧問蘇利文在聲明中說我們正發出明確的訊息任何支持俄羅斯非法戰爭活動者恐怕都會被踢出美國金融體系蘇利文表示新的制裁措施將持續施壓俄羅斯戰爭機器及其推手還說先前的措施已大大削弱俄軍實力俄羅斯軍隊長期以來被視為全球最強大的軍隊之一近幾個月來仰賴北韓和伊朗進口北韓和伊朗也都受到西方制裁美國對烏克蘭軍事援助的資金即將耗盡美國和盟邦正尋找新的方法來減緩俄羅斯戰力哥倫比亞大學制裁專家費希曼說華府早已有權制裁非俄羅斯金融機構但今天的行政命令凸顯外國金融機構面臨切實風險其中許多機構似乎還沒有意識到這一點這波措施明確指出金融機構若代表受到美國制裁的企業或與俄國軍事工業基礎相關的公司從事交易包括部分關鍵物品的銷售美方就可以鎖定這些金融機構不具名的政府高層官員透露這項命令是與盟邦協調發布然而自俄烏戰爭爆發以來俄國一直加快腳步減少與西方接觸避免以美元歐元英鎊和日圓進行貿易與此同時隨著西方機構退出中國最大的數家銀行自俄烏戰爭開打以來已向俄羅斯借出價值數十億美元的人民幣信貸美國財政部副部長艾迪耶摩表示中國土耳其和阿拉伯聯合大公國等國的主要銀行已很努力避免抵觸美方制裁新措施將針對規模較小的機構艾迪耶摩接受財經媒體訪問時說俄羅斯一直在設立幌子公司來隱藏透過第國的採購他們不會透過這些國家的大公司而是透過小公司取得微電子器件機具和引擎零件等產品但這些公司全都還是必須使用金融體系</td>\n",
       "      <td>https://udn.com/news/story/122663/7661029</td>\n",
       "      <td>全球</td>\n",
       "      <td>美國 加強 施壓 俄羅斯 拜登 簽署 行政命令 鎖定 金融機構 美國白宮 聲明 表示 總統 拜登 今天 簽署 行政命令 將對 支持 俄羅斯 攻打 烏克蘭 外國 銀行 制裁 協助 俄國 規避 制裁 金融機構 恐成 制裁 對象 華府 正試圖 加強 俄國 施壓 綜合 法新社 路透社 已有 多家 公司 支援 俄羅斯 國防工業 制裁 金融機構 支持 公司 美方 這項 行政命令 金融機構 所謂 次級 制裁 白宮 表示 這項 行政命令 授權 華府 擴大 部分 俄國 商品 進口 禁令 海產 鑽石 白宮 國家 安全 顧問 蘇利文 聲明 中說 發出 明確 訊息 支持 俄羅斯 非法 戰爭 活動 踢出 美國 金融體系 蘇利文 表示 制裁 措施 持續 施壓 俄羅斯 戰爭 機器 推手 還說 先前 措施 削弱 俄軍 實力 俄羅斯 軍隊 被視 全球 強大 軍隊 近幾個月 仰賴 北韓 伊朗 進口 北韓 伊朗 受到 西方 制裁 美國 烏克蘭 軍事援助 資金 耗盡 美國 盟邦 尋找 方法 減緩 俄羅斯 戰力 哥倫比亞大學 制裁 專家 希曼 華府 早已 有權 制裁 俄羅斯 金融機構 今天 行政命令 凸顯 外國 金融機構 面臨 切實 風險 許多 機構 似乎 意識 一點 這波 措施 明確指出 金融機構 代表 受到 美國 制裁 企業 俄國 軍事 工業 基礎 相關 公司 從事 交易 包括 部分 關鍵 物品 銷售 美方 鎖定 金融機構 具名 政府 高層 官員 透露 這項 命令 盟邦 協調 發布 自俄烏 戰爭 爆發 以來 俄國 一直 加快腳步 減少 西方 接觸 避免 美元 歐元 英鎊 日圓 進行 貿易 西方 機構 退出 中國 最大 數家 銀行 自俄烏 戰爭 開打 以來 俄羅斯 借出 價值 數十億美元 人民幣 信貸 美國財政部 副部長 艾迪 耶摩 表示 中國 土耳其 阿拉伯 聯合 大公國 等國 主要 銀行 努力 避免 抵觸 美方 制裁 措施 針對 規模較 機構 艾迪 耶摩 接受 財經 媒體 訪問 時說 俄羅斯 一直 設立 幌子 公司 隱藏 透過 第國 採購 透過 國家 公司 透過 公司 取得 電子器件 機具 引擎 零件 產品 公司 使用 金融體系</td>\n",
       "    </tr>\n",
       "    <tr>\n",
       "      <th>2</th>\n",
       "      <td>俄烏交戰來一大戰果烏克蘭稱擊落俄軍架蘇愷專家愛國者飛彈建功烏克蘭總統澤倫斯基和軍方官員表示烏軍今天在南部前線擊落架俄羅斯蘇愷戰鬥轟炸機並稱讚這是俄烏交戰個月來的一大戰果俄羅斯軍方並未提及這起事件但俄國的部落客承認俄方確實有折損分析家指出烏軍可能用了美國供應的愛國者飛彈但路透社無法獨立證實前述這些消息烏克蘭空軍司令歐勒什丘克於通訊應用程式寫道今天中午在南部戰區掉了架俄羅斯蘇愷戰鬥轟炸機空軍發言人伊納特告訴烏克蘭國營電視台這是一場精心策劃的行動他說道在我們確實的統計數據中已經有一段時間沒有出現蘇愷更形容蘇愷是可用於轟炸和其他攻擊行動的俄國最現代化戰機之一澤倫斯基在晚間談話影片中讚揚敖德薩地區防空部隊擊落赫松地區上空的這些蘇愷俄軍年月全面入侵烏克蘭的頭幾天就占領了赫松地區大片領土此後烏軍試圖收復失土今年月在赫松地區的第聶伯河東岸建立陣地總部位於俄羅斯的歐亞日報稱烏克蘭說法是可信的基輔當局可能從第聶伯河西岸發射針對高空目標射程可達公里的愛國者飛彈烏克蘭航空專家羅曼能柯向烏國當地廣播電台表示他認為愛國者飛彈擊落俄軍戰機的可能性很高還說俄軍沒有充分考量到愛國者飛彈的射程達到公里</td>\n",
       "      <td>https://udn.com/news/story/122663/7661229</td>\n",
       "      <td>全球</td>\n",
       "      <td>俄烏 交戰 一大 戰果 烏克蘭 擊落 俄軍 蘇愷 專家 愛國者 飛彈 建功 烏克蘭 總統 倫斯基 軍方 官員 表示 今天 南部 前線 擊落 俄羅斯 蘇愷 戰鬥 轟炸機 稱讚 這是 交戰 一大 戰果 俄羅斯 軍方 並未 提及 這起 事件 俄國 部落 承認 俄方 確實 折損 分析家 指出 美國 供應 愛國者 飛彈 路透社 無法 獨立 證實 前述 消息 烏克蘭 空軍司令 歐勒什丘克 通訊 應用程式 寫道 今天 中午 南部 戰區 俄羅斯 蘇愷 戰鬥 轟炸機 空軍 發言人 伊納特 告訴 烏克蘭 國營 電視 這是 一場 精心策劃 行動 說道 確實 統計數據 已經 一段時間 出現 蘇愷 形容 蘇愷 用於 轟炸 攻擊 行動 俄國 現代化 戰機 倫斯基 晚間 談話 影片 讚揚 敖德薩 地區 防空 部隊 擊落 赫松 地區 上空 蘇愷 俄軍 全面 入侵 烏克蘭 的頭 幾天 占領 赫松 地區 大片 領土 試圖 收復失土 今年 赫松 地區 第聶伯河 東岸 建立 陣地 總部 位於 俄羅斯 歐亞 報稱 烏克蘭 說法 可信 基輔 當局 第聶伯河 西岸 發射 針對 高空 目標 射程 可達 公里 愛國者 飛彈 烏克蘭 航空 專家 曼能 柯向 烏國 當地 廣播 電台 表示 認為 愛國者 飛彈 擊落 俄軍 戰機 可能性 很高 還說 俄軍 考量 愛國者 飛彈 射程 達到 公里</td>\n",
       "    </tr>\n",
       "    <tr>\n",
       "      <th>3</th>\n",
       "      <td>烏克蘭再傳軍購弊案國防高官涉盜千萬美元恐面臨年刑期紐約時報報導當地時間日烏克蘭一名高級國防官員涉嫌中飽私囊盜用軍購案近萬美元目前已遭撤職逮捕查證屬實恐面臨最高年有期徒刑烏克蘭檢方在聲明中表示年月該官員與一家製造商簽署購買砲彈後來國防部新成立的採購部與同家廠商改簽新約不僅成本降低且省去通過外國中介商而大幅縮短交貨期可是該官員仍延長舊約且把將近萬美元轉給外國中介商當局並未公布涉貪官員姓名並表示該批彈藥尚未交付正在努力追回這筆錢今年月烏克蘭國防部長因捲入貪汙遭撤職此後烏克蘭當局一直努力整頓內部烏克蘭總統澤倫斯基也將打擊貪腐作為戰時主要目標之一不僅是為了向西方盟國保證數十億美元金援沒有遭挪用同時保障彈藥短缺的情況下有效分配資源近日烏軍才表示出於砲彈匱乏而縮減軍事行動規模這並非烏克蘭在戰爭期間發生的首起軍購舞弊去年兩名國防官員以過高價格購買雞蛋遭法辦</td>\n",
       "      <td>https://udn.com/news/story/122663/7661805</td>\n",
       "      <td>全球</td>\n",
       "      <td>烏克蘭 傳軍購 弊案 國防 高官 涉盜 千萬美元 面臨 刑期 紐約時報 當地 時間 烏克蘭 一名 高級 國防 官員 涉嫌 中飽私囊 盜用 軍購案 萬美元 目前 撤職 逮捕 查證 屬實 面臨 最高 有期徒刑 烏克蘭 檢方 聲明 表示 官員 一家 製造商 簽署 購買 國防部 成立 採購部 同家 廠商 改簽 新約 成本 降低 省去 外國 中介 商而 大幅 縮短 交貨期 官員 延長 舊約 萬美元 轉給 外國 中介 當局 並未 公布 官員 姓名 表示 該批 彈藥 尚未 交付 正在 努力 追回 這筆 今年 烏克蘭 國防部長 捲入 貪汙 撤職 烏克蘭 當局 一直 努力 整頓 內部 烏克蘭 總統 倫斯基 也將 打擊 貪腐 戰時 主要 目標 西方 盟國 保證 數十億美元 金援 挪用 保障 彈藥 短缺 情況 有效 分配資源 近日 烏軍才 表示 出於 匱乏 縮減 軍事行動 規模 烏克蘭 戰爭 期間 發生 首起 軍購 舞弊 去年 兩名 國防 官員 以過 價格 購買 雞蛋 法辦</td>\n",
       "    </tr>\n",
       "    <tr>\n",
       "      <th>4</th>\n",
       "      <td>紐時普亭透過秘密外交管道釋出和談訊息願就目前戰線停火紐約時報報導俄羅斯總統普亭日前在公開場合堅定表示俄烏戰爭打到底不過就知情的俄國前官員及美國官員透露至少從月以來克里姆林宮已透過外交秘密管道釋出和談訊息且不排除就目前戰線停火只要能讓俄國宣稱獲勝即可事實上美國官員表示早在一年前也就是年秋天烏軍在俄國東北部將俄軍打得落花流水當時普亭便釋出有意停火的訊息表示已經滿意目前奪得的領土且準備停戰只不過沒有獲得報導知情官員表示普亭的停火協議包括烏克蘭維持主權並繼續以基輔作為首都俄國則保留占領的烏克蘭領土至於烏克蘭加入北約是否會阻撓協議一名前俄國官員表示就可見未來而言烏克蘭不太可能入北約因此不大可能成為破局因素不過美國高階官員則說烏克蘭一直以來以收復全部領土為主張沒有證據說明其領導人會接受停戰協議普亭反覆表現出有意停火的姿態說明投機主義和隨機應變成為他關起門來處理戰爭的方式熟知普亭且深諳克里姆林宮內部運作的採訪對象及國際官員在數十次訪問中表示俄烏戰爭打得比普亭預期還久期間他一直設法降低風險並保持開放的選擇不過部分美國官員也表示這有可能是克里姆林宮一貫得誤導伎倆並非普亭真的有意妥協俄國前官員也補充倘若俄軍勢頭強勁普亭很可能再次改變主意其中一名俄國前高級官員向紐時表示他確實有意就目前戰線停火他不願意後退一點即使是一公尺現任及前任官員不約而同提到陷入僵局的戰況烏克蘭遲遲無法推進的攻勢普亭在西方日益下滑的支持度加之月爆發的以巴衝突等等目前種種條件讓普亭認為是停戰的時機克里姆林宮發言人培斯科夫回覆評論表示原則上這些說法是不正確的問及俄國是否準備就目前戰線停火培斯科夫援引普亭近來發言稱俄國的目標沒有改變普亭確實準備也說過打算談俄國一直準備好了在滿足俄國自身目標的前提下</td>\n",
       "      <td>https://udn.com/news/story/122663/7662087</td>\n",
       "      <td>全球</td>\n",
       "      <td>紐時 普亭 透過 秘密 外交 管道 釋出 和談 訊息 目前 戰線 停火 紐約時報 俄羅斯 總統 普亭 日前 公開場合 堅定 表示 俄烏 戰爭 知情 俄國 官員 美國 官員 透露 至少 以來 克里姆林宮 透過 外交 秘密 管道 釋出 和談 訊息 排除 目前 戰線 停火 俄國 宣稱 獲勝 即可 事實上 美國 官員 表示 一年 秋天 烏軍在 俄國 東北 部將 俄軍 落花流水 當時 普亭 釋出 有意 停火 訊息 表示 已經 滿意 目前 奪得 領土 準備 停戰 只不過 獲得 知情 官員 表示 普亭 停火協議 包括 烏克蘭 維持 主權 繼續 基輔 首都 俄國 保留 占領 烏克蘭 領土 烏克蘭 加入 北約 是否 阻撓 協議 一名 俄國 官員 表示 未來 烏克蘭 不太可能 北約 不大可能 成為 破局 因素 美國 高階 官員 則說 烏克蘭 一直 以來 收復 全部 領土 主張 證據 說明 領導人 接受 停戰 協議 普亭 反覆 表現 有意 停火 姿態 說明 投機 主義 隨機應變 成為 關起門來 處理 戰爭 方式 熟知 普亭且 深諳 克里姆林宮 內部 運作 採訪 對象 國際 官員 數十次 訪問 表示 俄烏 戰爭 打得 比普亭 預期 還久 期間 一直 設法 降低 風險 保持 開放 選擇 部分 美國 官員 表示 這有 克里姆林宮 一貫 誤導 伎倆 普亭 真的 有意 妥協 俄國 官員 補充 俄軍 勢頭 強勁 普亭 再次 改變 主意 一名 俄國 高級官員 紐時 表示 確實 有意 目前 戰線 停火 願意 後退 一點 公尺 現任 前任 官員 不約而同 提到 陷入僵局 戰況 烏克蘭 遲遲 無法 推進 攻勢 普亭 西方 下滑 支持 爆發 以巴 衝突 目前 種種 條件 普亭 認為 停戰 時機 克里姆林宮 發言人 斯科夫 回覆 評論 表示 原則上 說法 正確 問及 俄國 是否 準備 目前 戰線 停火 斯科夫 援引 普亭 發言 俄國 目標 改變 普亭 確實 準備 說過 打算 俄國 一直 準備 滿足 俄國 目標 前提</td>\n",
       "    </tr>\n",
       "  </tbody>\n",
       "</table>\n",
       "</div>"
      ]
     },
     "execution_count": 168,
     "metadata": {},
     "output_type": "execute_result"
    }
   ],
   "execution_count": 168
  },
  {
   "attachments": {},
   "cell_type": "markdown",
   "metadata": {},
   "source": "### 2.3 資料集基本檢視 "
  },
  {
   "cell_type": "markdown",
   "metadata": {},
   "source": [
    "檢視資料內容"
   ]
  },
  {
   "cell_type": "code",
   "metadata": {
    "ExecuteTime": {
     "end_time": "2024-04-06T14:31:13.335362Z",
     "start_time": "2024-04-06T14:31:13.328778Z"
    }
   },
   "source": [
    "print(f\"total posts: {len(udn['artUrl'].unique())}\")\n",
    "print(f\"category: \\n{udn['artCatagory'].value_counts()}\")"
   ],
   "outputs": [
    {
     "name": "stdout",
     "output_type": "stream",
     "text": [
      "total posts: 2873\n",
      "category: \n",
      "artCatagory\n",
      "財經    1377\n",
      "全球     775\n",
      "社會     721\n",
      "Name: count, dtype: int64\n"
     ]
    }
   ],
   "execution_count": 169
  },
  {
   "attachments": {},
   "cell_type": "markdown",
   "metadata": {},
   "source": [
    "## 3. 分類模型的訓練流程\n",
    "### 3.1 根據7:3的比例切分資料集\n",
    "利用 sklearn 中的 train_test_split 函數將 `raw_data` 隨機切成 7:3，設置 random_state 讓每次切分的結果一致。`y_train`和`y_test`分別為訓練資料和測試資料的預測目標。 "
   ]
  },
  {
   "cell_type": "code",
   "metadata": {
    "ExecuteTime": {
     "end_time": "2024-04-06T14:31:16.099829Z",
     "start_time": "2024-04-06T14:31:16.091711Z"
    }
   },
   "source": [
    "data = udn\n",
    "X = data[\"words\"]\n",
    "y = data[\"artCatagory\"]\n",
    "\n",
    "# 把整個資料集七三切\n",
    "X_train, X_test, y_train, y_test = train_test_split(\n",
    "    X, y, test_size=0.3, random_state=777\n",
    ")\n",
    "\n",
    "print(X_train.head())\n",
    "print(y_train.head())"
   ],
   "outputs": [
    {
     "name": "stdout",
     "output_type": "stream",
     "text": [
      "4958    英業達 國一生 醫界 多家 富國 神山 全盼 法規 鬆綁 代工 大廠 英業達 創辦人 葉國 今日 指出 國內 生醫 產業 建立 多家 富國 神山 技術 開發 受限 主管機關 審查 效率 過慢 導致 生技 發展 步伐 停滯不前 他稱 延遲 一兩個 禮拜 電子業 生技 醫療 業有 很大 影響 喊話 政府 儘速 調整 政策 法規 鬆綁 惟有 產業 發展 充滿 彈性 真正 世界 競爭 英業達 創辦人 葉國 今日 出席 國家 創新獎 頒獎典禮 攜手 友達 宣布 加入 新創 投資 聯盟 透露 投資 電子業 是從 製造 電晶體 做起 當時 投資 環境 受到 嚴格 管制 形式 投資 警備總部 同意 進展 常會 遇到 萬事俱備 審核 過程 卡關 情況 葉國 分享 每半年 檢查 一次 牙齒 每次 習慣 找同 一位 熟識 張姓 牙醫 時隔 半年 回診 發現 這位 牙醫 身形 消瘦 詢問 得知 原來 胰臟 生命 剩個 昨天 參加 這位 老友 告別式 瞬間 有感而發 再次 體悟 預防 重要性 英業達 友達 正式 新創 投資 聯盟 締約 合作 葉國 指出 過去 進行 一次 醫療 檢驗 須要 耗費 大量 時間 金錢 透過 三方 合作 人工智慧 技術 科技 創新 實際 生技 醫療 進行 結合 將能 大幅 加速 醫療 檢測 效率 肝癌 胰臟 發作 前提 篩檢 治療 技術 普及 也將 創造 商機 葉國 表示 發現 市場 許多 新創 團隊 投資 型態 參與 明確 財報 上市 公司 股東 負責 財報 一定 清清楚楚 目前 透過 名義 投資 幫忙 推動 發展 希望 未來 企業 加入 提供 新創 團隊 協助 葉國 透露 國內 生醫 產業 已有 多家 富國 神山 面臨 挑戰 此時 政府 絕不能 口號 應該 積極 的將 部分 法令 進行 適度 鬆綁 法規 某種 鬆綁 富國 神山 很大 幫助 英業達 創辦人 葉國 記者 吳康瑋 攝影 英業達 創辦人 葉國 記者 吳康瑋 攝影 英業達 創辦人 葉國 記者 吳康瑋 攝影 新聞 追蹤 科技 玩家 好文 漏接 限免 貼圖 款來 毛孩 動圖 聖誕節 新年 跨年 祝賀 必用 二手 蘋果 注意 達人 曝點 檢查 項目 避免 奇妙 發光 四格 窗戶 桌布 特效 拍攝 方法 曝光 竟是 實景 手機 充飽電 不到 小時 電量 直墜 內行人 曝全 這別 周報 取消 仍多 收個 費用 蝦皮 假台灣 賣家 生技 英業達 手機 需求 逐漸 回溫 車用 通訊 應用 持續 發酵 業績 維持 低檔 已久 三雄 二二 四年 迎來 轉機 內政部 都市計畫 委員會 日前 決議 台積電 中科 二期 都市計畫 變更 案台 市長 盧秀燕今 北上 出席 行政院 反映 中科 二期 最新 市調 資料 顯示 宏碁 電競 筆電 今年 以市 稱霸 巴西 市場 連續 季度 蟬聯冠軍 寶座 累計 至今 宏碁 外貿協會 上午 台北 國際會議中心 董事長 志芳 主持 年度 記者會 志芳 表示 充滿 不確定性 全球 經貿 前景 受通 膨美中 欣興 今日 更新 電子報 公司 治理 強化 方面 欣興 提到 董事會 績效 評估 建議 於今 改善 完成 第屆 國家 新創 舉辦 頒獎典禮 遠東 醫電 科技 公司 海上 船艦 緊急 醫療 會診 平台 獲頒 國家 新創 獎之 企業 新創\n",
      "418                                                                                                                                                                                                                                                                                                                                                                                                                                                                                                                                                                                                                                                            歐元區 明年 經濟 危機四伏 訪調 經濟學家 三分之二 景氣 陷入 衰退 英國 金融時報 意見調查 顯示 經濟學家 預測 歐元區 只會 迎來 少許 經濟 成長 工資 成長 將比通 快速 年來 首見 而川 普若 二度 入主 白宮 烏克蘭 戰敗 地緣 政治 風險 拖累 歐元區 成長 疲弱 調位 經濟學家 三分之二 受訪者 認為 歐元區 陷入 衰退 國內 生產 毛額 連續 兩季 萎縮 歐元區 成長率 經濟日報 提供 法國巴黎 銀行 首席 歐洲 經濟學家 霍林 渥斯說 描述 全面 衰退 具備 停滯 性通 特徵 認為 逐步 復甦 進一步 惡化 多數 受訪者 預測 歐元區 當前 這波 經濟 萎縮 將短 可望 第季 重拾 溫和 成長 未來 一年 成長 疲弱 高利率 能源 市場 動盪 再起 地緣 政治 穩定 導致 經濟 陷入 景氣 下沉 深淵 平均 經濟學家 預測 歐元區 經濟 成長 略高於 大多數 受訪者 歐洲央行 國際貨幣基金 預測 悲觀 歐元區 成長率 預測 分別 多位 經濟學家 提到 美國 總統 川普 明年 勝選 二度 入主 白宮 烏克蘭 抵禦 俄羅斯 入侵 戰敗 歐元區 陷入 成長 疲弱 時期 首席 經濟學家 施密丁 說川普 當選 美國 總統 危及 明年 歐洲 經濟 展望 主要 威脅 美國 放棄 烏克蘭 揚言 歐盟 發動 一波 貿易戰 歐洲 全世界 承受 痛苦 超過 美國 東方 匯理 資產 管理 公司 全球 總經 主管 普拉 漢說 歐元區 最大 風險 限制性 貨幣政策 太久 財政政策 支持性 減弱 三分之二 受訪者 認為 明年 德國 經濟 重返 成長 扭轉 大半年 萎縮 頹勢 德意志銀行 首席 歐洲 經濟學家 沃爾則 認為 德國 財政政策 大幅 緊縮 導致 明年 經濟 成長\n",
      "3108                                                                                                                                                                                                                                                                                                                                                                                                                                                                                                                                                                                                                                                                                                                                         赴陸 接受 招待 助選 還能 抽佣橋檢 起訴 首件 反滲透 法台灣 中華 泛藍 協會 招攬 近名 團員 安排 中國 旅遊 接受 省市 機關 招待 要求 團員 支持 特定 總統 候選人 橋頭 地檢署 發動 搜索 偵結 起訴 招攬 參訪團 團長 志成 這也 總統 立委 選舉 以來 首件 違反 滲透法 起訴 案件 志成 嘉泰 社區 發展 協會 理事長 台灣 中華 泛藍 協會 成員 檢查 今年 陸續 接獲 大陸 方面 指示 招攬 台灣 大陸 旅遊 資金 全由陸方 資助 鄭男 今年 春季 開設 天天 天天 不等 旅遊團 分別 山東 一周 山西 一周 內蒙古 天月 新疆 兩周 前往 豫州 接受 陸方 官員 招待 安排 旅遊 行程 中國 台辦 人員 協助 安排 餐飲 住宿 參訪 行程 費用 全由台 機關 全額 資助 派員 隨行 團員 傳達 政治 傾向 支持 總統大選 特定 候選人 活動 全程 志成 飲宴 交流 場合 表達 某黨 當選 有助 兩岸 平等 話語 班機 時間 排定 團員 收取 相關 機票 交通 代辦費 用並 抽取 每人 約元 左右 費用 上月底 橋檢 展開 偵辦 傳喚 鄭男 到案 檢方 認為 參訪團 成員 葉女 接受 陸方 資助 招攬 團員 赴陸 接受 招待 羈押 必要 諭知 鄭男 交保 萬元 葉女 交保 萬元 並均 限制 出境 出海 橋檢 今天 偵結 違反 反滲透 總統 總統 選舉罷免 法等 罪嫌 起訴 志成 考量 到案 隨即 坦白 犯行 主動 交付 相關 物證 並稱 絕不會 再犯 語建 法院 審酌 情節 適當 之刑\n",
      "4853                                                                                                                                                                                                                                                                                                                 病團 沒人想 罹癌 保險金 防止 病友 實支 實付 醫療險 賺錢 金管會 保險局 改革 實支 實付 醫療險 擬讓 實支 實付 險回 損害 填補 多張 保單 理賠 總額 醫療 實際 支出 致病 表示 未來 保單 設計 配套 跟上 醫療 進展 需要 多張 保單 支付 龐大 醫藥費 現況 下禁 實支 實付 保單 變相 限制 權利 全癌 連秘 書長 齊秀惠 批評 希望 罹癌 換取 保險金 金管會 稱病 人靠 賺錢 人性 癌症 治療 趨勢 使用 多種 藥物 療法 標靶 化療 一套 療程 每月 藥費 十萬 以上 政府 病人 中心 因應 新型 療法 設計 完整 配套 減輕 醫療 負擔 癌症 治療 已經 需要 住院 商業 醫療保險 維持 住院 前提 理賠 台灣 年輕 病友 協會 副理事長 劉桓 新藥 治療 愈來愈 貴民眾 購買 多張 保單 分攤 風險 金管會 提出 損害 填補 概念 正確 過去 實支 實付 醫療險 癥結 點是 病友 保險公司 出險 認定 規則 有變 不到 理賠金 劉桓 保險局 協助 業者 未來 規畫 險種 做出 改變 需求 病友 取得 理賠 並與 健保 給付 項目 做出 切割 達到 商保補 健保 目的 協助 支應 病友 自費 醫療 費用 現行 情況 限制 實支 實付 理賠 病友 權利 限制 商圈 最快 復甦 店租 萬元 店面 增倍 專家 最糟 時間 已過 北市 平面 車位 建案 跌破 成個 平面 車位 可抵 桃園 這全台 房市 紅盤 封關 首購 當道 建商 籌備 大選 檔期 夫妻 各付 一半 頭期款 買房 婆婆 一句 同住 惹怒 眾人 部落 客中 永和 安身立命 看屋 月餘 房價 灰心 轉戰 桃園 保險金 實支 實付 理賠 金管會 宣布 推動 實支 實付 改革 保單 不溯 既往 民眾 制度 上路 送件 末班車 蜂湧 申請 金管會 研擬 改革 實支 實付 實支 實付 停售 效應 持續 擴大 遠雄 人壽 全球 人壽 台灣 人壽 緊急 決議 下架 防止 病友 實支 實付 醫療險 賺錢 金管會 保險局 改革 實支 實付 醫療險 擬讓 實支 實付 險回 損害 填補 多張 保單 理年 匯市 封關 中央銀行 鐵了心 抑制 新台幣 匯率 狂熱 升勢 市場 傳出 央行 選在 重手 盤中 實質 買匯 金管會 本周 宣布 推動 實支 實付 改革 保單 不溯 既往 民眾 制度 上路 送件 末班車 蜂湧 申請 實支 實付 改革 尚未 啟動 各大 保險公司 還在 凝聚 共識 出現 商品 停售 速度 之快 令人咋舌 背後 引發 問題 值得 深思\n",
      "622                                                                                                                                                                                                                                                                                                                                                                                                                                                                                                                                                                                                                                                                                                                                                                                                                                                                                                                                                    資金 到位 日本 長崎 綜合 度假村 計畫 過關 日本 國土 交通 今天 宣布 調度 資金 前景 不明 批准 長崎縣 政府 興建 包含 賭場 在內 度假 設施 整備 計畫 縣府 原本 計劃 設置 知名 景區 豪斯 登堡 主題公園 朝日 新聞報導 長崎縣 政府 大阪府 大阪 市政府 中央 提出 興建 整備 計畫 大阪府 大阪 市政府 申請 於今 批准 長崎縣 政府 申請 一直 處於 審核 狀態 長崎縣 政府 原本 計劃 初期 投資額 日圓 預計 金融機構 借款 資金來源 瑞士 信貸 瀕臨 倒閉 今年 瑞士 最大 銀行 瑞銀 併購 長崎 放送 清楚 這起 併購案 是否 影響 整備 計畫 資金 調度 國土 交通 指出 批准 計畫 理由 包含 難有 佐證 調度 資金 確實性 難以 證明 利用 賭場 事業 收益 持續 經營 事業 排除 賭場 有害 影響 適當 措施 長崎縣 政府 原本 計劃 占地 公頃 設置 世保市 知名 主題公園 豪斯 登堡 內並 興建 賭場 高級 旅館 國際 展覽館 設施 目標 開幕 預估 每年 國內外 來客\n",
      "Name: words, dtype: object\n",
      "4958    財經\n",
      "418     全球\n",
      "3108    社會\n",
      "4853    財經\n",
      "622     全球\n",
      "Name: artCatagory, dtype: object\n"
     ]
    }
   ],
   "execution_count": 170
  },
  {
   "cell_type": "code",
   "metadata": {
    "ExecuteTime": {
     "end_time": "2024-04-06T14:31:17.544988Z",
     "start_time": "2024-04-06T14:31:17.536886Z"
    }
   },
   "source": [
    "# 看一下各個資料集切分的比例，應該要一致\n",
    "print(\n",
    "    f\"raw data percentage :\\n{data['artCatagory'].value_counts(normalize=True) * 100}\"\n",
    ")\n",
    "print(f\"\\ntrain percentage :\\n{y_train.value_counts(normalize=True) * 100}\")\n",
    "print(f\"\\ntest percentage :\\n{y_test.value_counts(normalize=True) * 100}\")"
   ],
   "outputs": [
    {
     "name": "stdout",
     "output_type": "stream",
     "text": [
      "raw data percentage :\n",
      "artCatagory\n",
      "財經    47.928994\n",
      "全球    26.975287\n",
      "社會    25.095719\n",
      "Name: proportion, dtype: float64\n",
      "\n",
      "train percentage :\n",
      "artCatagory\n",
      "財經    48.483342\n",
      "全球    27.001492\n",
      "社會    24.515167\n",
      "Name: proportion, dtype: float64\n",
      "\n",
      "test percentage :\n",
      "artCatagory\n",
      "財經    46.635731\n",
      "全球    26.914153\n",
      "社會    26.450116\n",
      "Name: proportion, dtype: float64\n"
     ]
    }
   ],
   "execution_count": 171
  },
  {
   "attachments": {},
   "cell_type": "markdown",
   "metadata": {},
   "source": [
    "### 3.2 將文章轉為 DTM\n",
    "\n",
    "DTM(document term matrix) :\n",
    "+ 將不同的文章 (document) 以文章中出現過的字詞(term)表示\n",
    "    + row 是document (文件)\n",
    "    + column 是字詞 (term)\n",
    "    + row 內的數字是出現的字數\n",
    "\n",
    "DTM裡面的值可以有不同的表示方法\n",
    "+ (1) 依據詞頻 (classic BoW)\n",
    "    + 用 `CountVectorizer()`\n",
    "    + unigrams and bigrams\n",
    "    + [sklearn.feature_extraction.text.CountVectorizer](https://scikit-learn.org/stable/modules/generated/sklearn.feature_extraction.text.CountVectorizer.html)\n",
    "+ (2) 依據tfidf (advanced variant of BoW)\n",
    "    + 篩選出現次數大於10的字\n",
    "    + 用 `TfidfVectorizer()`\n",
    "    + [sklearn.feature_extraction.text.TfidfVectorizer](https://scikit-learn.org/stable/modules/generated/sklearn.feature_extraction.text.CountVectorizer.html)\n",
    "+ 常用參數介紹\n",
    "    + max_features: 取 詞頻 / tfidf 前多少的字"
   ]
  },
  {
   "attachments": {},
   "cell_type": "markdown",
   "metadata": {},
   "source": [
    "### 3.3 套入正式的資料集\n",
    "+  模型訓練範例: logistic regression + cv tokenizer "
   ]
  },
  {
   "cell_type": "code",
   "metadata": {
    "ExecuteTime": {
     "end_time": "2024-04-06T14:31:21.786335Z",
     "start_time": "2024-04-06T14:31:21.771846Z"
    }
   },
   "source": [
    "vectorizer = CountVectorizer(max_features=1000)\n",
    "print(vectorizer)"
   ],
   "outputs": [
    {
     "name": "stdout",
     "output_type": "stream",
     "text": [
      "CountVectorizer(max_features=1000)\n"
     ]
    }
   ],
   "execution_count": 172
  },
  {
   "cell_type": "code",
   "metadata": {
    "ExecuteTime": {
     "end_time": "2024-04-06T14:31:23.144980Z",
     "start_time": "2024-04-06T14:31:23.138575Z"
    }
   },
   "source": [
    "X_train.head()"
   ],
   "outputs": [
    {
     "data": {
      "text/plain": [
       "4958    英業達 國一生 醫界 多家 富國 神山 全盼 法規 鬆綁 代工 大廠 英業達 創辦人 葉國 今日 指出 國內 生醫 產業 建立 多家 富國 神山 技術 開發 受限 主管機關 審查 效率 過慢 導致 生技 發展 步伐 停滯不前 他稱 延遲 一兩個 禮拜 電子業 生技 醫療 業有 很大 影響 喊話 政府 儘速 調整 政策 法規 鬆綁 惟有 產業 發展 充滿 彈性 真正 世界 競爭 英業達 創辦人 葉國 今日 出席 國家 創新獎 頒獎典禮 攜手 友達 宣布 加入 新創 投資 聯盟 透露 投資 電子業 是從 製造 電晶體 做起 當時 投資 環境 受到 嚴格 管制 形式 投資 警備總部 同意 進展 常會 遇到 萬事俱備 審核 過程 卡關 情況 葉國 分享 每半年 檢查 一次 牙齒 每次 習慣 找同 一位 熟識 張姓 牙醫 時隔 半年 回診 發現 這位 牙醫 身形 消瘦 詢問 得知 原來 胰臟 生命 剩個 昨天 參加 這位 老友 告別式 瞬間 有感而發 再次 體悟 預防 重要性 英業達 友達 正式 新創 投資 聯盟 締約 合作 葉國 指出 過去 進行 一次 醫療 檢驗 須要 耗費 大量 時間 金錢 透過 三方 合作 人工智慧 技術 科技 創新 實際 生技 醫療 進行 結合 將能 大幅 加速 醫療 檢測 效率 肝癌 胰臟 發作 前提 篩檢 治療 技術 普及 也將 創造 商機 葉國 表示 發現 市場 許多 新創 團隊 投資 型態 參與 明確 財報 上市 公司 股東 負責 財報 一定 清清楚楚 目前 透過 名義 投資 幫忙 推動 發展 希望 未來 企業 加入 提供 新創 團隊 協助 葉國 透露 國內 生醫 產業 已有 多家 富國 神山 面臨 挑戰 此時 政府 絕不能 口號 應該 積極 的將 部分 法令 進行 適度 鬆綁 法規 某種 鬆綁 富國 神山 很大 幫助 英業達 創辦人 葉國 記者 吳康瑋 攝影 英業達 創辦人 葉國 記者 吳康瑋 攝影 英業達 創辦人 葉國 記者 吳康瑋 攝影 新聞 追蹤 科技 玩家 好文 漏接 限免 貼圖 款來 毛孩 動圖 聖誕節 新年 跨年 祝賀 必用 二手 蘋果 注意 達人 曝點 檢查 項目 避免 奇妙 發光 四格 窗戶 桌布 特效 拍攝 方法 曝光 竟是 實景 手機 充飽電 不到 小時 電量 直墜 內行人 曝全 這別 周報 取消 仍多 收個 費用 蝦皮 假台灣 賣家 生技 英業達 手機 需求 逐漸 回溫 車用 通訊 應用 持續 發酵 業績 維持 低檔 已久 三雄 二二 四年 迎來 轉機 內政部 都市計畫 委員會 日前 決議 台積電 中科 二期 都市計畫 變更 案台 市長 盧秀燕今 北上 出席 行政院 反映 中科 二期 最新 市調 資料 顯示 宏碁 電競 筆電 今年 以市 稱霸 巴西 市場 連續 季度 蟬聯冠軍 寶座 累計 至今 宏碁 外貿協會 上午 台北 國際會議中心 董事長 志芳 主持 年度 記者會 志芳 表示 充滿 不確定性 全球 經貿 前景 受通 膨美中 欣興 今日 更新 電子報 公司 治理 強化 方面 欣興 提到 董事會 績效 評估 建議 於今 改善 完成 第屆 國家 新創 舉辦 頒獎典禮 遠東 醫電 科技 公司 海上 船艦 緊急 醫療 會診 平台 獲頒 國家 新創 獎之 企業 新創\n",
       "418                                                                                                                                                                                                                                                                                                                                                                                                                                                                                                                                                                                                                                                            歐元區 明年 經濟 危機四伏 訪調 經濟學家 三分之二 景氣 陷入 衰退 英國 金融時報 意見調查 顯示 經濟學家 預測 歐元區 只會 迎來 少許 經濟 成長 工資 成長 將比通 快速 年來 首見 而川 普若 二度 入主 白宮 烏克蘭 戰敗 地緣 政治 風險 拖累 歐元區 成長 疲弱 調位 經濟學家 三分之二 受訪者 認為 歐元區 陷入 衰退 國內 生產 毛額 連續 兩季 萎縮 歐元區 成長率 經濟日報 提供 法國巴黎 銀行 首席 歐洲 經濟學家 霍林 渥斯說 描述 全面 衰退 具備 停滯 性通 特徵 認為 逐步 復甦 進一步 惡化 多數 受訪者 預測 歐元區 當前 這波 經濟 萎縮 將短 可望 第季 重拾 溫和 成長 未來 一年 成長 疲弱 高利率 能源 市場 動盪 再起 地緣 政治 穩定 導致 經濟 陷入 景氣 下沉 深淵 平均 經濟學家 預測 歐元區 經濟 成長 略高於 大多數 受訪者 歐洲央行 國際貨幣基金 預測 悲觀 歐元區 成長率 預測 分別 多位 經濟學家 提到 美國 總統 川普 明年 勝選 二度 入主 白宮 烏克蘭 抵禦 俄羅斯 入侵 戰敗 歐元區 陷入 成長 疲弱 時期 首席 經濟學家 施密丁 說川普 當選 美國 總統 危及 明年 歐洲 經濟 展望 主要 威脅 美國 放棄 烏克蘭 揚言 歐盟 發動 一波 貿易戰 歐洲 全世界 承受 痛苦 超過 美國 東方 匯理 資產 管理 公司 全球 總經 主管 普拉 漢說 歐元區 最大 風險 限制性 貨幣政策 太久 財政政策 支持性 減弱 三分之二 受訪者 認為 明年 德國 經濟 重返 成長 扭轉 大半年 萎縮 頹勢 德意志銀行 首席 歐洲 經濟學家 沃爾則 認為 德國 財政政策 大幅 緊縮 導致 明年 經濟 成長\n",
       "3108                                                                                                                                                                                                                                                                                                                                                                                                                                                                                                                                                                                                                                                                                                                                         赴陸 接受 招待 助選 還能 抽佣橋檢 起訴 首件 反滲透 法台灣 中華 泛藍 協會 招攬 近名 團員 安排 中國 旅遊 接受 省市 機關 招待 要求 團員 支持 特定 總統 候選人 橋頭 地檢署 發動 搜索 偵結 起訴 招攬 參訪團 團長 志成 這也 總統 立委 選舉 以來 首件 違反 滲透法 起訴 案件 志成 嘉泰 社區 發展 協會 理事長 台灣 中華 泛藍 協會 成員 檢查 今年 陸續 接獲 大陸 方面 指示 招攬 台灣 大陸 旅遊 資金 全由陸方 資助 鄭男 今年 春季 開設 天天 天天 不等 旅遊團 分別 山東 一周 山西 一周 內蒙古 天月 新疆 兩周 前往 豫州 接受 陸方 官員 招待 安排 旅遊 行程 中國 台辦 人員 協助 安排 餐飲 住宿 參訪 行程 費用 全由台 機關 全額 資助 派員 隨行 團員 傳達 政治 傾向 支持 總統大選 特定 候選人 活動 全程 志成 飲宴 交流 場合 表達 某黨 當選 有助 兩岸 平等 話語 班機 時間 排定 團員 收取 相關 機票 交通 代辦費 用並 抽取 每人 約元 左右 費用 上月底 橋檢 展開 偵辦 傳喚 鄭男 到案 檢方 認為 參訪團 成員 葉女 接受 陸方 資助 招攬 團員 赴陸 接受 招待 羈押 必要 諭知 鄭男 交保 萬元 葉女 交保 萬元 並均 限制 出境 出海 橋檢 今天 偵結 違反 反滲透 總統 總統 選舉罷免 法等 罪嫌 起訴 志成 考量 到案 隨即 坦白 犯行 主動 交付 相關 物證 並稱 絕不會 再犯 語建 法院 審酌 情節 適當 之刑\n",
       "4853                                                                                                                                                                                                                                                                                                                 病團 沒人想 罹癌 保險金 防止 病友 實支 實付 醫療險 賺錢 金管會 保險局 改革 實支 實付 醫療險 擬讓 實支 實付 險回 損害 填補 多張 保單 理賠 總額 醫療 實際 支出 致病 表示 未來 保單 設計 配套 跟上 醫療 進展 需要 多張 保單 支付 龐大 醫藥費 現況 下禁 實支 實付 保單 變相 限制 權利 全癌 連秘 書長 齊秀惠 批評 希望 罹癌 換取 保險金 金管會 稱病 人靠 賺錢 人性 癌症 治療 趨勢 使用 多種 藥物 療法 標靶 化療 一套 療程 每月 藥費 十萬 以上 政府 病人 中心 因應 新型 療法 設計 完整 配套 減輕 醫療 負擔 癌症 治療 已經 需要 住院 商業 醫療保險 維持 住院 前提 理賠 台灣 年輕 病友 協會 副理事長 劉桓 新藥 治療 愈來愈 貴民眾 購買 多張 保單 分攤 風險 金管會 提出 損害 填補 概念 正確 過去 實支 實付 醫療險 癥結 點是 病友 保險公司 出險 認定 規則 有變 不到 理賠金 劉桓 保險局 協助 業者 未來 規畫 險種 做出 改變 需求 病友 取得 理賠 並與 健保 給付 項目 做出 切割 達到 商保補 健保 目的 協助 支應 病友 自費 醫療 費用 現行 情況 限制 實支 實付 理賠 病友 權利 限制 商圈 最快 復甦 店租 萬元 店面 增倍 專家 最糟 時間 已過 北市 平面 車位 建案 跌破 成個 平面 車位 可抵 桃園 這全台 房市 紅盤 封關 首購 當道 建商 籌備 大選 檔期 夫妻 各付 一半 頭期款 買房 婆婆 一句 同住 惹怒 眾人 部落 客中 永和 安身立命 看屋 月餘 房價 灰心 轉戰 桃園 保險金 實支 實付 理賠 金管會 宣布 推動 實支 實付 改革 保單 不溯 既往 民眾 制度 上路 送件 末班車 蜂湧 申請 金管會 研擬 改革 實支 實付 實支 實付 停售 效應 持續 擴大 遠雄 人壽 全球 人壽 台灣 人壽 緊急 決議 下架 防止 病友 實支 實付 醫療險 賺錢 金管會 保險局 改革 實支 實付 醫療險 擬讓 實支 實付 險回 損害 填補 多張 保單 理年 匯市 封關 中央銀行 鐵了心 抑制 新台幣 匯率 狂熱 升勢 市場 傳出 央行 選在 重手 盤中 實質 買匯 金管會 本周 宣布 推動 實支 實付 改革 保單 不溯 既往 民眾 制度 上路 送件 末班車 蜂湧 申請 實支 實付 改革 尚未 啟動 各大 保險公司 還在 凝聚 共識 出現 商品 停售 速度 之快 令人咋舌 背後 引發 問題 值得 深思\n",
       "622                                                                                                                                                                                                                                                                                                                                                                                                                                                                                                                                                                                                                                                                                                                                                                                                                                                                                                                                                    資金 到位 日本 長崎 綜合 度假村 計畫 過關 日本 國土 交通 今天 宣布 調度 資金 前景 不明 批准 長崎縣 政府 興建 包含 賭場 在內 度假 設施 整備 計畫 縣府 原本 計劃 設置 知名 景區 豪斯 登堡 主題公園 朝日 新聞報導 長崎縣 政府 大阪府 大阪 市政府 中央 提出 興建 整備 計畫 大阪府 大阪 市政府 申請 於今 批准 長崎縣 政府 申請 一直 處於 審核 狀態 長崎縣 政府 原本 計劃 初期 投資額 日圓 預計 金融機構 借款 資金來源 瑞士 信貸 瀕臨 倒閉 今年 瑞士 最大 銀行 瑞銀 併購 長崎 放送 清楚 這起 併購案 是否 影響 整備 計畫 資金 調度 國土 交通 指出 批准 計畫 理由 包含 難有 佐證 調度 資金 確實性 難以 證明 利用 賭場 事業 收益 持續 經營 事業 排除 賭場 有害 影響 適當 措施 長崎縣 政府 原本 計劃 占地 公頃 設置 世保市 知名 主題公園 豪斯 登堡 內並 興建 賭場 高級 旅館 國際 展覽館 設施 目標 開幕 預估 每年 國內外 來客\n",
       "Name: words, dtype: object"
      ]
     },
     "execution_count": 173,
     "metadata": {},
     "output_type": "execute_result"
    }
   ],
   "execution_count": 173
  },
  {
   "cell_type": "code",
   "metadata": {
    "ExecuteTime": {
     "end_time": "2024-04-06T14:31:25.836562Z",
     "start_time": "2024-04-06T14:31:24.985745Z"
    }
   },
   "source": [
    "vectorizer.fit(X_train)\n",
    "vec_train = vectorizer.transform(X_train)\n",
    "vec_train"
   ],
   "outputs": [
    {
     "data": {
      "text/plain": [
       "<2011x1000 sparse matrix of type '<class 'numpy.int64'>'\n",
       "\twith 152088 stored elements in Compressed Sparse Row format>"
      ]
     },
     "execution_count": 174,
     "metadata": {},
     "output_type": "execute_result"
    }
   ],
   "execution_count": 174
  },
  {
   "cell_type": "code",
   "metadata": {
    "ExecuteTime": {
     "end_time": "2024-04-06T14:31:27.149976Z",
     "start_time": "2024-04-06T14:31:27.139975Z"
    }
   },
   "source": [
    "### 用 `toarray()` 轉成 numpy array\n",
    "vec_train.toarray()"
   ],
   "outputs": [
    {
     "data": {
      "text/plain": [
       "array([[0, 0, 0, ..., 0, 0, 0],\n",
       "       [0, 0, 0, ..., 0, 0, 0],\n",
       "       [0, 0, 0, ..., 0, 0, 0],\n",
       "       ...,\n",
       "       [0, 0, 0, ..., 0, 0, 1],\n",
       "       [0, 0, 0, ..., 0, 0, 0],\n",
       "       [0, 0, 0, ..., 0, 0, 0]], dtype=int64)"
      ]
     },
     "execution_count": 175,
     "metadata": {},
     "output_type": "execute_result"
    }
   ],
   "execution_count": 175
  },
  {
   "cell_type": "code",
   "metadata": {
    "ExecuteTime": {
     "end_time": "2024-04-06T14:31:35.009213Z",
     "start_time": "2024-04-06T14:31:34.274280Z"
    }
   },
   "source": [
    "# 可用 `fit_transform()` 一次完成\n",
    "vec_train = vectorizer.fit_transform(X_train)\n",
    "print(vectorizer.get_feature_names_out()[:10])"
   ],
   "outputs": [
    {
     "name": "stdout",
     "output_type": "stream",
     "text": [
      "['一些' '一半' '一句' '一名' '一定' '一家' '一年' '一度' '一次' '一直']\n"
     ]
    }
   ],
   "execution_count": 176
  },
  {
   "cell_type": "code",
   "metadata": {
    "ExecuteTime": {
     "end_time": "2024-04-06T14:31:35.379141Z",
     "start_time": "2024-04-06T14:31:35.368530Z"
    }
   },
   "source": [
    "# fit 完後，可以用 `vocabulary_` 看到詞的 feature index\n",
    "print(vectorizer.vocabulary_)\n",
    "vectorizer.vocabulary_['一些']"
   ],
   "outputs": [
    {
     "name": "stdout",
     "output_type": "stream",
     "text": [
      "{'代工': 69, '大廠': 292, '今日': 67, '指出': 442, '國內': 253, '產業': 655, '建立': 387, '技術': 431, '開發': 945, '審查': 330, '導致': 341, '發展': 670, '醫療': 926, '影響': 397, '政府': 484, '調整': 832, '政策': 486, '世界': 32, '出席': 151, '國家': 254, '攜手': 471, '宣布': 320, '加入': 171, '新創': 495, '投資': 435, '透露': 884, '製造': 807, '當時': 665, '環境': 649, '受到': 206, '同意': 225, '過程': 910, '情況': 406, '分享': 154, '檢查': 571, '一次': 8, '發現': 672, '詢問': 828, '昨天': 518, '再次': 148, '正式': 578, '合作': 221, '過去': 909, '進行': 905, '大量': 297, '時間': 520, '透過': 883, '人工智慧': 61, '科技': 704, '創新': 168, '大幅': 291, '加速': 176, '治療': 599, '也將': 46, '創造': 169, '商機': 238, '表示': 802, '市場': 361, '許多': 825, '團隊': 260, '參與': 202, '上市': 20, '公司': 139, '股東': 765, '一定': 4, '目前': 678, '推動': 456, '希望': 364, '未來': 545, '企業': 77, '提供': 458, '協助': 190, '面臨': 969, '挑戰': 446, '應該': 410, '積極': 707, '部分': 922, '幫助': 368, '記者': 821, '攝影': 472, '新聞': 502, '追蹤': 879, '玩家': 643, '好文': 303, '漏接': 621, '限免': 952, '貼圖': 846, '款來': 573, '毛孩': 589, '動圖': 178, '聖誕節': 757, '新年': 500, '跨年': 860, '祝賀': 702, '必用': 402, '二手': 51, '蘋果': 789, '注意': 606, '達人': 911, '曝點': 527, '項目': 971, '避免': 919, '奇妙': 301, '發光': 668, '四格': 246, '窗戶': 713, '桌布': 554, '特效': 638, '拍攝': 438, '方法': 508, '曝光': 525, '竟是': 716, '實景': 327, '手機': 428, '充飽電': 121, '不到': 29, '小時': 342, '電量': 964, '直墜': 680, '內行人': 126, '曝全': 526, '這別': 888, '周報': 229, '取消': 204, '仍多': 68, '收個': 476, '費用': 845, '蝦皮': 793, '假台灣': 103, '賣家': 852, '需求': 965, '逐漸': 885, '回溫': 249, '通訊': 896, '應用': 409, '持續': 441, '業績': 559, '維持': 739, '四年': 245, '迎來': 875, '委員會': 304, '日前': 514, '決議': 597, '台積電': 218, '行政院': 797, '最新': 532, '資料': 847, '顯示': 981, '宏碁': 316, '今年': 66, '連續': 900, '累計': 730, '至今': 775, '上午': 17, '台北': 212, '董事長': 787, '年度': 375, '記者會': 822, '全球': 133, '強化': 393, '方面': 509, '提到': 460, '董事會': 786, '績效': 747, '評估': 827, '建議': 389, '於今': 510, '改善': 479, '完成': 315, '舉辦': 778, '緊急': 744, '平台': 369, '明年': 516, '經濟': 735, '景氣': 522, '衰退': 803, '英國': 781, '預測': 975, '成長': 418, '快速': 403, '年來': 372, '烏克蘭': 624, '政治': 485, '風險': 982, '認為': 830, '生產': 653, '銀行': 939, '歐洲': 574, '全面': 134, '復甦': 399, '進一步': 902, '多數': 287, '可望': 211, '第季': 720, '一年': 6, '能源': 770, '穩定': 708, '平均': 370, '分別': 155, '美國': 750, '總統': 745, '川普': 351, '俄羅斯': 92, '展望': 348, '主要': 42, '放棄': 483, '歐盟': 575, '發動': 669, '超過': 857, '資產': 849, '管理': 722, '主管': 41, '最大': 529, '德國': 401, '接受': 452, '起訴': 855, '中華': 38, '中國': 35, '旅遊': 511, '要求': 810, '支持': 475, '特定': 637, '候選人': 101, '地檢署': 267, '搜索': 465, '這也': 887, '立委': 715, '選舉': 918, '以來': 73, '違反': 914, '案件': 553, '台灣': 216, '成員': 414, '陸續': 954, '接獲': 453, '大陸': 298, '資金': 851, '前往': 166, '官員': 317, '人員': 58, '活動': 607, '相關': 685, '交通': 55, '展開': 349, '偵辦': 107, '檢方': 570, '萬元': 784, '限制': 953, '今天': 65, '考量': 754, '法院': 605, '實支': 325, '實付': 324, '醫療險': 927, '金管會': 935, '改革': 481, '保單': 93, '支出': 474, '設計': 824, '需要': 966, '支付': 473, '趨勢': 858, '使用': 84, '以上': 71, '中心': 37, '因應': 251, '已經': 357, '商業': 237, '年輕': 379, '購買': 853, '提出': 459, '保險公司': 96, '認定': 829, '業者': 560, '改變': 480, '取得': 203, '達到': 912, '商圈': 236, '最快': 531, '店租': 380, '店面': 381, '增倍': 279, '專家': 335, '最糟': 533, '已過': 358, '北市': 183, '平面': 371, '車位': 862, '建案': 386, '跌破': 859, '成個': 412, '可抵': 210, '桃園': 552, '房市': 425, '紅盤': 728, '封關': 332, '首購': 986, '當道': 666, '建商': 385, '籌備': 724, '大選': 296, '檔期': 568, '夫妻': 299, '各付': 220, '一半': 1, '頭期款': 978, '買房': 841, '婆婆': 305, '一句': 2, '同住': 224, '惹怒': 407, '眾人': 690, '部落': 923, '客中': 318, '永和': 593, '安身立命': 314, '看屋': 688, '月餘': 538, '房價': 423, '灰心': 623, '轉戰': 871, '民眾': 590, '制度': 164, '上路': 23, '末班車': 546, '申請': 660, '停售': 104, '效應': 488, '擴大': 470, '人壽': 60, '中央銀行': 36, '新台幣': 498, '匯率': 184, '傳出': 108, '央行': 300, '盤中': 677, '實質': 329, '尚未': 344, '啟動': 240, '出現': 153, '商品': 235, '速度': 898, '背後': 768, '引發': 390, '問題': 239, '值得': 102, '日本': 515, '綜合': 738, '計畫': 818, '包含': 181, '原本': 199, '計劃': 817, '知名': 691, '一直': 9, '處於': 791, '預計': 976, '是否': 519, '利用': 162, '事業': 50, '經營': 737, '排除': 451, '措施': 457, '國際': 258, '目標': 679, '預估': 973, '每年': 584, '股票': 767, '投顧': 437, '新北': 496, '詐騙': 826, '集團': 956, '女子': 302, '一間': 11, '超商': 856, '警方': 835, '涉嫌': 616, '條例': 556, '分局': 156, '本月': 547, '男子': 661, '報案': 278, '高齡': 995, '現金': 647, '一名': 3, '員警': 234, '立即': 714, '了解': 47, '看到': 686, '準備': 619, '涉及': 615, '現場': 646, '到場': 163, '擔任': 468, '工作': 352, '獲得': 642, '金額': 937, '逮捕': 901, '依法': 91, '呼籲': 230, '理財': 648, '金融': 936, '保障': 95, '安全': 313, '翻攝': 752, '送醫': 881, '結束': 732, '受傷': 205, '消防局': 614, '車輛': 864, '嚴重': 242, '民間': 591, '團體': 261, '網路': 742, '調查': 833, '事故': 49, '地點': 269, '相當': 684, '之後': 45, '並未': 33, '情形': 405, '存款': 308, '業務': 557, '統計': 734, '月底': 537, '億元': 113, '下滑': 26, '財政部': 839, '公布': 143, '新高': 504, '提前': 461, '全國': 128, '人士': 59, '規劃': 811, '自年': 772, '首度': 983, '世代': 31, '勞工': 180, '繼續': 748, '最高': 535, '投入': 433, '刷卡': 165, '四大': 244, '利多': 160, '全台': 127, '原因': 198, '正常': 577, '高雄': 992, '每坪': 583, '蟬聯': 794, '下跌': 27, '家人': 321, '近日': 877, '主張': 40, '成立': 417, '基金': 275, '開放': 943, '強調': 394, '石化': 693, '去年': 200, '出口': 150, '國發': 256, '發布': 671, '變化': 838, '再度': 147, '代表': 70, '訂單': 816, '預期': 974, '協議': 192, '成為': 416, '業界': 558, '輔導': 869, '自由': 773, '面對': 967, '產能': 657, '產品': 654, '方向': 505, '台南': 214, '被害人': 804, '組織': 731, '犯罪': 639, '單位': 241, '針對': 938, '行動': 795, '執行': 271, '行為': 798, '檢察官': 569, '指控': 443, '掌握': 449, '工具': 353, '去年同期': 201, '近期': 878, '近年': 876, '數據': 493, '期間': 544, '增加': 280, '中部': 39, '地區': 265, '減少': 617, '每股': 585, '營收': 630, '智慧': 524, '處理': 792, '系統': 725, '三大': 13, '客戶': 319, '布局': 363, '晶片': 523, '電子': 960, '製造業': 808, '最低': 528, '人力': 56, '狀況': 640, '工業': 355, '上升': 16, '呈現': 227, '廠商': 383, '爆發': 633, '以下': 72, '公開': 144, '員工': 233, '因素': 252, '首次': 985, '電腦': 962, '消費': 611, '熱絡': 629, '工程': 356, '公共': 138, '基泰': 273, '首批': 984, '退戶': 880, '高達': 991, '四分之一': 243, '協商': 191, '新竹市': 501, '公告': 140, '土地': 262, '現值': 644, '公告地價': 141, '出爐': 152, '新地': 499, '這高雄': 893, '社宅': 699, '戶數': 422, '居冠': 347, '其邁': 146, '自豪': 774, '租屋': 705, '鴿子': 996, '房稅': 426, '無關痛癢': 627, '房屋': 424, '買氣': 842, '土地交易': 263, '較前年': 868, '腰斬': 771, '消費者': 612, '這是': 889, '發生': 673, '報告': 277, '元旦': 120, '內容': 125, '包括': 182, '經濟部': 736, '英特爾': 782, '共同': 145, '鼓勵': 997, '落實': 785, '轉型': 870, '半導體': 189, '指標': 445, '高雄市': 993, '遊戲': 906, '舉行': 777, '年終': 377, '方式': 506, '模式': 562, '選擇': 917, '執行長': 272, '主題': 43, '位於': 80, '傳統': 109, '體驗': 989, '一家': 5, '提高': 464, '會議': 536, '一起': 10, '禁止': 703, '健康': 106, '突破': 711, '億美元': 114, '研究': 695, '受惠': 207, '先進': 124, '製程': 806, '表現': 801, '優於': 117, '疫情': 667, '循環': 400, '進入': 903, '分析師': 158, '說明': 831, '庫存': 382, '回升': 247, '達成': 913, '低於': 81, '水準': 592, '伺服器': 79, '關注': 947, '帶來': 366, '下半年': 25, '發表': 675, '正在': 576, '重要': 932, '股價': 763, '相信': 682, '營運': 632, '供應鏈': 89, '雙方': 957, '通路': 897, '關鍵': 948, '供應商': 88, '衝擊': 799, '恢復': 404, '動能': 179, '年前': 373, '耶誕節': 756, '對此': 339, '對方': 338, '吸引': 226, '年月日': 376, '期待': 543, '孩子': 309, '當天': 664, '兩年': 137, '邀請': 920, '地方': 266, '信義': 98, '全家': 130, '核心': 550, '回應': 248, '統一': 733, '區域': 185, '尤其': 345, '重點': 933, '帶動': 367, '數位': 492, '加碼': 173, '推出': 455, '紅海': 727, '危機': 196, '海運': 609, '報價': 276, '漲幅': 622, '尾牙': 346, '農曆': 874, '明顯': 517, '所有': 427, '消息': 610, '品牌': 231, '海外': 608, '韓國': 970, '有望': 541, '資訊': 850, '長榮': 942, '獲利': 641, '壓力': 282, '貨櫃': 840, '航運': 780, '合約': 222, '拜登': 440, '爭取': 634, '努力': 177, '擔心': 469, '決定': 596, '能力': 769, '聯邦': 761, '確保': 697, '現在': 645, '確定': 698, '觀察': 814, '一些': 0, '來自': 86, '身分': 861, '關係': 946, '真的': 689, '指數': 444, '上半年': 18, '成功': 413, '永續': 594, '投資人': 436, '教育': 489, '影片': 396, '屬於': 350, '社群': 701, '機會': 565, '全壘打': 129, '市府': 362, '逆勢': 882, '升溫': 188, '公寓': 142, '成交': 411, '優勢': 115, '龍潭': 998, '這裡': 891, '這一': 886, '捷運': 447, '三鶯線': 15, '開案': 944, '三峽': 14, '出入口': 149, '簽約': 723, '打造': 429, '優質': 118, '生活圈': 652, '投信': 432, '學校': 310, '國聯': 257, '最後': 530, '樂觀': 561, '降息': 951, '操作': 467, '比率': 587, '碳權': 696, '交易所': 54, '交易': 53, '壽險': 283, '龍頭': 999, '雲端': 958, '來說': 87, '直接': 681, '信用卡': 97, '台股': 219, '法人': 600, '外資': 285, '年底': 374, '行情': 796, '走勢': 854, '美股': 751, '上漲': 21, '訊息': 819, '資本': 848, '用於': 658, '研發': 694, '設備': 823, '子公司': 307, '配合': 924, '看好': 687, '召開': 209, '運用': 908, '證券': 834, '實現': 328, '上周': 19, '股市': 764, '一度': 7, '買超': 843, '我國': 419, '憲法': 408, '原則': 197, '法律': 603, '規定': 812, '查獲': 548, '重大': 930, '事件': 48, '優惠': 116, '拒絕': 439, '社會': 700, '媒體': 306, '老師': 753, '分析': 157, '機制': 563, '大型': 289, '無法': 626, '後續': 398, '整合': 490, '方案': 507, '加強': 172, '提醒': 463, '同仁': 223, '辦法': 872, '排放': 450, '實施': 326, '生成式': 650, '軟體': 867, '討論': 820, '不斷': 30, '判決': 159, '將在': 334, '生活': 651, '成本': 415, '降低': 950, '美元': 749, '一項': 12, '建設': 388, '個股': 100, '收盤': 478, '台積': 217, '依據': 90, '下午': 24, '控制': 454, '永豐': 595, '服務': 542, '策略': 721, '領域': 977, '學習': 312, '頻道': 979, '議題': 837, '專業': 337, '提升': 462, '滿足': 620, '題材': 980, '發行': 674, '新北市': 497, '校園': 549, '學生': 311, '通報': 894, '辦理': 873, '之前': 44, '電動車': 959, '擁有': 466, '紀錄': 726, '聯準': 760, '升息': 187, '投票': 434, '伊朗': 78, '萬人': 783, '第二': 719, '先前': 123, '市值': 360, '第一': 718, '規模': 813, '強勁': 392, '整體': 491, '比較': 588, '夥伴': 288, '營業': 631, '大樓': 293, '特別': 636, '長期': 941, '創下': 167, '戰爭': 421, '最近': 534, '軍方': 866, '南部': 193, '告訴': 228, '電視': 963, '攻擊': 482, '晚間': 521, '航空': 779, '當地': 663, '空間': 710, '歷史': 581, '兆豐': 122, '兩大': 136, '機構': 566, '留意': 662, '產生': 656, '彰化縣': 395, '地價': 264, '大遠': 295, '網銀': 743, '將來': 333, '此次': 579, '回饋': 250, '台幣': 215, '壽險業': 284, '新光': 494, '金控': 934, '增資': 281, '旗下': 513, '升值': 186, '利率': 161, '多元': 286, '新能源': 503, '總經理': 746, '來到': 85, '運動': 907, '印度': 195, '面板': 968, '住宅': 82, '紛紛': 729, '格局': 551, '相對': 683, '信託': 99, '高度': 990, '銷售': 940, '國泰': 255, '元大': 119, '權益': 572, '價值': 111, '債券': 110, '價格': 112, '配息': 925, '亞洲': 52, '知道': 692, '授權': 448, '通知': 895, '網友': 740, '法新社': 604, '聲明': 762, '受理': 208, '醫院': 928, '帳戶': 365, '薪資': 788, '兩個': 135, '附近': 949, '高點': 994, '軍事': 865, '聯合': 758, '停止': 105, '武裝': 580, '基礎': 274, '解決': 815, '有效': 540, '這項': 892, '功能': 170, '大學': 290, '機車': 567, '專案': 336, '這次': 890, '條件': 555, '順利': 972, '南韓': 194, '馬士基': 987, '陽明': 955, '年終獎金': 378, '耶誕': 755, '家庭': 323, '補助': 805, '適用': 915, '故事': 487, '造成': 899, '父親': 635, '移民': 706, '汽車': 598, '貸款': 844, '符合': 717, '網站': 741, '人口': 57, '審議': 331, '全案': 132, '股權': 766, '承諾': 430, '襲擊': 809, '延續': 384, '作業': 83, '族群': 512, '有人': 539, '毒品': 586, '駕駛': 988, '園區': 259, '引起': 391, '機場': 564, '地院': 268, '法官': 602, '上訴': 22, '衝突': 800, '法國': 601, '以色列': 75, '人數': 62, '處分': 790, '死亡': 582, '里長': 929, '家屬': 322, '消防': 613, '下降': 28, '至少': 776, '重新': 931, '台北市': 213, '大規模': 294, '中信': 34, '保護': 94, '無人機': 625, '巴勒斯坦': 359, '以巴': 74, '戰火': 420, '城市': 270, '照片': 628, '工會': 354, '議員': 836, '收入': 477, '邊境': 921, '遭到': 916, '加薩': 174, '加薩走廊': 175, '哈瑪斯': 232, '突襲': 712, '空襲': 709, '百年': 676, '仇恨': 64, '以軍': 76, '車展': 863, '進口': 904, '聯合國': 759, '人質': 63, '電梯': 961, '少年': 343, '減碳': 618, '對象': 340, '申報': 659, '全文': 131}\n"
     ]
    },
    {
     "data": {
      "text/plain": [
       "0"
      ]
     },
     "execution_count": 177,
     "metadata": {},
     "output_type": "execute_result"
    }
   ],
   "execution_count": 177
  },
  {
   "cell_type": "code",
   "metadata": {
    "ExecuteTime": {
     "end_time": "2024-04-06T14:31:37.212632Z",
     "start_time": "2024-04-06T14:31:37.074613Z"
    }
   },
   "source": [
    "# 不需重新 `fit()` data，因前面已經 `fit()` 過了\n",
    "# 只需將測試數據使用之前訓練好的 vectorizer 轉換為相同的特徵表示形式，而不需要重新fit。\n",
    "# 如果對測試數據再次 fit vectorizer，可能會導致使用了測試數據的信息，進而導致模型的不穩定性和過度擬合的問題。\n",
    "vec_test = vectorizer.transform(X_test)\n",
    "print(vec_train.shape)\n",
    "print(vec_test.shape)"
   ],
   "outputs": [
    {
     "name": "stdout",
     "output_type": "stream",
     "text": [
      "(2011, 1000)\n",
      "(862, 1000)\n"
     ]
    }
   ],
   "execution_count": 178
  },
  {
   "cell_type": "code",
   "metadata": {
    "ExecuteTime": {
     "end_time": "2024-04-06T14:31:38.585130Z",
     "start_time": "2024-04-06T14:31:38.530452Z"
    }
   },
   "source": [
    "# 建立分類器模型\n",
    "clf = LogisticRegression()\n",
    "clf.fit(vec_train, y_train)\n",
    "clf"
   ],
   "outputs": [
    {
     "data": {
      "text/plain": [
       "LogisticRegression()"
      ],
      "text/html": [
       "<style>#sk-container-id-3 {\n",
       "  /* Definition of color scheme common for light and dark mode */\n",
       "  --sklearn-color-text: black;\n",
       "  --sklearn-color-line: gray;\n",
       "  /* Definition of color scheme for unfitted estimators */\n",
       "  --sklearn-color-unfitted-level-0: #fff5e6;\n",
       "  --sklearn-color-unfitted-level-1: #f6e4d2;\n",
       "  --sklearn-color-unfitted-level-2: #ffe0b3;\n",
       "  --sklearn-color-unfitted-level-3: chocolate;\n",
       "  /* Definition of color scheme for fitted estimators */\n",
       "  --sklearn-color-fitted-level-0: #f0f8ff;\n",
       "  --sklearn-color-fitted-level-1: #d4ebff;\n",
       "  --sklearn-color-fitted-level-2: #b3dbfd;\n",
       "  --sklearn-color-fitted-level-3: cornflowerblue;\n",
       "\n",
       "  /* Specific color for light theme */\n",
       "  --sklearn-color-text-on-default-background: var(--sg-text-color, var(--theme-code-foreground, var(--jp-content-font-color1, black)));\n",
       "  --sklearn-color-background: var(--sg-background-color, var(--theme-background, var(--jp-layout-color0, white)));\n",
       "  --sklearn-color-border-box: var(--sg-text-color, var(--theme-code-foreground, var(--jp-content-font-color1, black)));\n",
       "  --sklearn-color-icon: #696969;\n",
       "\n",
       "  @media (prefers-color-scheme: dark) {\n",
       "    /* Redefinition of color scheme for dark theme */\n",
       "    --sklearn-color-text-on-default-background: var(--sg-text-color, var(--theme-code-foreground, var(--jp-content-font-color1, white)));\n",
       "    --sklearn-color-background: var(--sg-background-color, var(--theme-background, var(--jp-layout-color0, #111)));\n",
       "    --sklearn-color-border-box: var(--sg-text-color, var(--theme-code-foreground, var(--jp-content-font-color1, white)));\n",
       "    --sklearn-color-icon: #878787;\n",
       "  }\n",
       "}\n",
       "\n",
       "#sk-container-id-3 {\n",
       "  color: var(--sklearn-color-text);\n",
       "}\n",
       "\n",
       "#sk-container-id-3 pre {\n",
       "  padding: 0;\n",
       "}\n",
       "\n",
       "#sk-container-id-3 input.sk-hidden--visually {\n",
       "  border: 0;\n",
       "  clip: rect(1px 1px 1px 1px);\n",
       "  clip: rect(1px, 1px, 1px, 1px);\n",
       "  height: 1px;\n",
       "  margin: -1px;\n",
       "  overflow: hidden;\n",
       "  padding: 0;\n",
       "  position: absolute;\n",
       "  width: 1px;\n",
       "}\n",
       "\n",
       "#sk-container-id-3 div.sk-dashed-wrapped {\n",
       "  border: 1px dashed var(--sklearn-color-line);\n",
       "  margin: 0 0.4em 0.5em 0.4em;\n",
       "  box-sizing: border-box;\n",
       "  padding-bottom: 0.4em;\n",
       "  background-color: var(--sklearn-color-background);\n",
       "}\n",
       "\n",
       "#sk-container-id-3 div.sk-container {\n",
       "  /* jupyter's `normalize.less` sets `[hidden] { display: none; }`\n",
       "     but bootstrap.min.css set `[hidden] { display: none !important; }`\n",
       "     so we also need the `!important` here to be able to override the\n",
       "     default hidden behavior on the sphinx rendered scikit-learn.org.\n",
       "     See: https://github.com/scikit-learn/scikit-learn/issues/21755 */\n",
       "  display: inline-block !important;\n",
       "  position: relative;\n",
       "}\n",
       "\n",
       "#sk-container-id-3 div.sk-text-repr-fallback {\n",
       "  display: none;\n",
       "}\n",
       "\n",
       "div.sk-parallel-item,\n",
       "div.sk-serial,\n",
       "div.sk-item {\n",
       "  /* draw centered vertical line to link estimators */\n",
       "  background-image: linear-gradient(var(--sklearn-color-text-on-default-background), var(--sklearn-color-text-on-default-background));\n",
       "  background-size: 2px 100%;\n",
       "  background-repeat: no-repeat;\n",
       "  background-position: center center;\n",
       "}\n",
       "\n",
       "/* Parallel-specific style estimator block */\n",
       "\n",
       "#sk-container-id-3 div.sk-parallel-item::after {\n",
       "  content: \"\";\n",
       "  width: 100%;\n",
       "  border-bottom: 2px solid var(--sklearn-color-text-on-default-background);\n",
       "  flex-grow: 1;\n",
       "}\n",
       "\n",
       "#sk-container-id-3 div.sk-parallel {\n",
       "  display: flex;\n",
       "  align-items: stretch;\n",
       "  justify-content: center;\n",
       "  background-color: var(--sklearn-color-background);\n",
       "  position: relative;\n",
       "}\n",
       "\n",
       "#sk-container-id-3 div.sk-parallel-item {\n",
       "  display: flex;\n",
       "  flex-direction: column;\n",
       "}\n",
       "\n",
       "#sk-container-id-3 div.sk-parallel-item:first-child::after {\n",
       "  align-self: flex-end;\n",
       "  width: 50%;\n",
       "}\n",
       "\n",
       "#sk-container-id-3 div.sk-parallel-item:last-child::after {\n",
       "  align-self: flex-start;\n",
       "  width: 50%;\n",
       "}\n",
       "\n",
       "#sk-container-id-3 div.sk-parallel-item:only-child::after {\n",
       "  width: 0;\n",
       "}\n",
       "\n",
       "/* Serial-specific style estimator block */\n",
       "\n",
       "#sk-container-id-3 div.sk-serial {\n",
       "  display: flex;\n",
       "  flex-direction: column;\n",
       "  align-items: center;\n",
       "  background-color: var(--sklearn-color-background);\n",
       "  padding-right: 1em;\n",
       "  padding-left: 1em;\n",
       "}\n",
       "\n",
       "\n",
       "/* Toggleable style: style used for estimator/Pipeline/ColumnTransformer box that is\n",
       "clickable and can be expanded/collapsed.\n",
       "- Pipeline and ColumnTransformer use this feature and define the default style\n",
       "- Estimators will overwrite some part of the style using the `sk-estimator` class\n",
       "*/\n",
       "\n",
       "/* Pipeline and ColumnTransformer style (default) */\n",
       "\n",
       "#sk-container-id-3 div.sk-toggleable {\n",
       "  /* Default theme specific background. It is overwritten whether we have a\n",
       "  specific estimator or a Pipeline/ColumnTransformer */\n",
       "  background-color: var(--sklearn-color-background);\n",
       "}\n",
       "\n",
       "/* Toggleable label */\n",
       "#sk-container-id-3 label.sk-toggleable__label {\n",
       "  cursor: pointer;\n",
       "  display: block;\n",
       "  width: 100%;\n",
       "  margin-bottom: 0;\n",
       "  padding: 0.5em;\n",
       "  box-sizing: border-box;\n",
       "  text-align: center;\n",
       "}\n",
       "\n",
       "#sk-container-id-3 label.sk-toggleable__label-arrow:before {\n",
       "  /* Arrow on the left of the label */\n",
       "  content: \"▸\";\n",
       "  float: left;\n",
       "  margin-right: 0.25em;\n",
       "  color: var(--sklearn-color-icon);\n",
       "}\n",
       "\n",
       "#sk-container-id-3 label.sk-toggleable__label-arrow:hover:before {\n",
       "  color: var(--sklearn-color-text);\n",
       "}\n",
       "\n",
       "/* Toggleable content - dropdown */\n",
       "\n",
       "#sk-container-id-3 div.sk-toggleable__content {\n",
       "  max-height: 0;\n",
       "  max-width: 0;\n",
       "  overflow: hidden;\n",
       "  text-align: left;\n",
       "  /* unfitted */\n",
       "  background-color: var(--sklearn-color-unfitted-level-0);\n",
       "}\n",
       "\n",
       "#sk-container-id-3 div.sk-toggleable__content.fitted {\n",
       "  /* fitted */\n",
       "  background-color: var(--sklearn-color-fitted-level-0);\n",
       "}\n",
       "\n",
       "#sk-container-id-3 div.sk-toggleable__content pre {\n",
       "  margin: 0.2em;\n",
       "  border-radius: 0.25em;\n",
       "  color: var(--sklearn-color-text);\n",
       "  /* unfitted */\n",
       "  background-color: var(--sklearn-color-unfitted-level-0);\n",
       "}\n",
       "\n",
       "#sk-container-id-3 div.sk-toggleable__content.fitted pre {\n",
       "  /* unfitted */\n",
       "  background-color: var(--sklearn-color-fitted-level-0);\n",
       "}\n",
       "\n",
       "#sk-container-id-3 input.sk-toggleable__control:checked~div.sk-toggleable__content {\n",
       "  /* Expand drop-down */\n",
       "  max-height: 200px;\n",
       "  max-width: 100%;\n",
       "  overflow: auto;\n",
       "}\n",
       "\n",
       "#sk-container-id-3 input.sk-toggleable__control:checked~label.sk-toggleable__label-arrow:before {\n",
       "  content: \"▾\";\n",
       "}\n",
       "\n",
       "/* Pipeline/ColumnTransformer-specific style */\n",
       "\n",
       "#sk-container-id-3 div.sk-label input.sk-toggleable__control:checked~label.sk-toggleable__label {\n",
       "  color: var(--sklearn-color-text);\n",
       "  background-color: var(--sklearn-color-unfitted-level-2);\n",
       "}\n",
       "\n",
       "#sk-container-id-3 div.sk-label.fitted input.sk-toggleable__control:checked~label.sk-toggleable__label {\n",
       "  background-color: var(--sklearn-color-fitted-level-2);\n",
       "}\n",
       "\n",
       "/* Estimator-specific style */\n",
       "\n",
       "/* Colorize estimator box */\n",
       "#sk-container-id-3 div.sk-estimator input.sk-toggleable__control:checked~label.sk-toggleable__label {\n",
       "  /* unfitted */\n",
       "  background-color: var(--sklearn-color-unfitted-level-2);\n",
       "}\n",
       "\n",
       "#sk-container-id-3 div.sk-estimator.fitted input.sk-toggleable__control:checked~label.sk-toggleable__label {\n",
       "  /* fitted */\n",
       "  background-color: var(--sklearn-color-fitted-level-2);\n",
       "}\n",
       "\n",
       "#sk-container-id-3 div.sk-label label.sk-toggleable__label,\n",
       "#sk-container-id-3 div.sk-label label {\n",
       "  /* The background is the default theme color */\n",
       "  color: var(--sklearn-color-text-on-default-background);\n",
       "}\n",
       "\n",
       "/* On hover, darken the color of the background */\n",
       "#sk-container-id-3 div.sk-label:hover label.sk-toggleable__label {\n",
       "  color: var(--sklearn-color-text);\n",
       "  background-color: var(--sklearn-color-unfitted-level-2);\n",
       "}\n",
       "\n",
       "/* Label box, darken color on hover, fitted */\n",
       "#sk-container-id-3 div.sk-label.fitted:hover label.sk-toggleable__label.fitted {\n",
       "  color: var(--sklearn-color-text);\n",
       "  background-color: var(--sklearn-color-fitted-level-2);\n",
       "}\n",
       "\n",
       "/* Estimator label */\n",
       "\n",
       "#sk-container-id-3 div.sk-label label {\n",
       "  font-family: monospace;\n",
       "  font-weight: bold;\n",
       "  display: inline-block;\n",
       "  line-height: 1.2em;\n",
       "}\n",
       "\n",
       "#sk-container-id-3 div.sk-label-container {\n",
       "  text-align: center;\n",
       "}\n",
       "\n",
       "/* Estimator-specific */\n",
       "#sk-container-id-3 div.sk-estimator {\n",
       "  font-family: monospace;\n",
       "  border: 1px dotted var(--sklearn-color-border-box);\n",
       "  border-radius: 0.25em;\n",
       "  box-sizing: border-box;\n",
       "  margin-bottom: 0.5em;\n",
       "  /* unfitted */\n",
       "  background-color: var(--sklearn-color-unfitted-level-0);\n",
       "}\n",
       "\n",
       "#sk-container-id-3 div.sk-estimator.fitted {\n",
       "  /* fitted */\n",
       "  background-color: var(--sklearn-color-fitted-level-0);\n",
       "}\n",
       "\n",
       "/* on hover */\n",
       "#sk-container-id-3 div.sk-estimator:hover {\n",
       "  /* unfitted */\n",
       "  background-color: var(--sklearn-color-unfitted-level-2);\n",
       "}\n",
       "\n",
       "#sk-container-id-3 div.sk-estimator.fitted:hover {\n",
       "  /* fitted */\n",
       "  background-color: var(--sklearn-color-fitted-level-2);\n",
       "}\n",
       "\n",
       "/* Specification for estimator info (e.g. \"i\" and \"?\") */\n",
       "\n",
       "/* Common style for \"i\" and \"?\" */\n",
       "\n",
       ".sk-estimator-doc-link,\n",
       "a:link.sk-estimator-doc-link,\n",
       "a:visited.sk-estimator-doc-link {\n",
       "  float: right;\n",
       "  font-size: smaller;\n",
       "  line-height: 1em;\n",
       "  font-family: monospace;\n",
       "  background-color: var(--sklearn-color-background);\n",
       "  border-radius: 1em;\n",
       "  height: 1em;\n",
       "  width: 1em;\n",
       "  text-decoration: none !important;\n",
       "  margin-left: 1ex;\n",
       "  /* unfitted */\n",
       "  border: var(--sklearn-color-unfitted-level-1) 1pt solid;\n",
       "  color: var(--sklearn-color-unfitted-level-1);\n",
       "}\n",
       "\n",
       ".sk-estimator-doc-link.fitted,\n",
       "a:link.sk-estimator-doc-link.fitted,\n",
       "a:visited.sk-estimator-doc-link.fitted {\n",
       "  /* fitted */\n",
       "  border: var(--sklearn-color-fitted-level-1) 1pt solid;\n",
       "  color: var(--sklearn-color-fitted-level-1);\n",
       "}\n",
       "\n",
       "/* On hover */\n",
       "div.sk-estimator:hover .sk-estimator-doc-link:hover,\n",
       ".sk-estimator-doc-link:hover,\n",
       "div.sk-label-container:hover .sk-estimator-doc-link:hover,\n",
       ".sk-estimator-doc-link:hover {\n",
       "  /* unfitted */\n",
       "  background-color: var(--sklearn-color-unfitted-level-3);\n",
       "  color: var(--sklearn-color-background);\n",
       "  text-decoration: none;\n",
       "}\n",
       "\n",
       "div.sk-estimator.fitted:hover .sk-estimator-doc-link.fitted:hover,\n",
       ".sk-estimator-doc-link.fitted:hover,\n",
       "div.sk-label-container:hover .sk-estimator-doc-link.fitted:hover,\n",
       ".sk-estimator-doc-link.fitted:hover {\n",
       "  /* fitted */\n",
       "  background-color: var(--sklearn-color-fitted-level-3);\n",
       "  color: var(--sklearn-color-background);\n",
       "  text-decoration: none;\n",
       "}\n",
       "\n",
       "/* Span, style for the box shown on hovering the info icon */\n",
       ".sk-estimator-doc-link span {\n",
       "  display: none;\n",
       "  z-index: 9999;\n",
       "  position: relative;\n",
       "  font-weight: normal;\n",
       "  right: .2ex;\n",
       "  padding: .5ex;\n",
       "  margin: .5ex;\n",
       "  width: min-content;\n",
       "  min-width: 20ex;\n",
       "  max-width: 50ex;\n",
       "  color: var(--sklearn-color-text);\n",
       "  box-shadow: 2pt 2pt 4pt #999;\n",
       "  /* unfitted */\n",
       "  background: var(--sklearn-color-unfitted-level-0);\n",
       "  border: .5pt solid var(--sklearn-color-unfitted-level-3);\n",
       "}\n",
       "\n",
       ".sk-estimator-doc-link.fitted span {\n",
       "  /* fitted */\n",
       "  background: var(--sklearn-color-fitted-level-0);\n",
       "  border: var(--sklearn-color-fitted-level-3);\n",
       "}\n",
       "\n",
       ".sk-estimator-doc-link:hover span {\n",
       "  display: block;\n",
       "}\n",
       "\n",
       "/* \"?\"-specific style due to the `<a>` HTML tag */\n",
       "\n",
       "#sk-container-id-3 a.estimator_doc_link {\n",
       "  float: right;\n",
       "  font-size: 1rem;\n",
       "  line-height: 1em;\n",
       "  font-family: monospace;\n",
       "  background-color: var(--sklearn-color-background);\n",
       "  border-radius: 1rem;\n",
       "  height: 1rem;\n",
       "  width: 1rem;\n",
       "  text-decoration: none;\n",
       "  /* unfitted */\n",
       "  color: var(--sklearn-color-unfitted-level-1);\n",
       "  border: var(--sklearn-color-unfitted-level-1) 1pt solid;\n",
       "}\n",
       "\n",
       "#sk-container-id-3 a.estimator_doc_link.fitted {\n",
       "  /* fitted */\n",
       "  border: var(--sklearn-color-fitted-level-1) 1pt solid;\n",
       "  color: var(--sklearn-color-fitted-level-1);\n",
       "}\n",
       "\n",
       "/* On hover */\n",
       "#sk-container-id-3 a.estimator_doc_link:hover {\n",
       "  /* unfitted */\n",
       "  background-color: var(--sklearn-color-unfitted-level-3);\n",
       "  color: var(--sklearn-color-background);\n",
       "  text-decoration: none;\n",
       "}\n",
       "\n",
       "#sk-container-id-3 a.estimator_doc_link.fitted:hover {\n",
       "  /* fitted */\n",
       "  background-color: var(--sklearn-color-fitted-level-3);\n",
       "}\n",
       "</style><div id=\"sk-container-id-3\" class=\"sk-top-container\"><div class=\"sk-text-repr-fallback\"><pre>LogisticRegression()</pre><b>In a Jupyter environment, please rerun this cell to show the HTML representation or trust the notebook. <br />On GitHub, the HTML representation is unable to render, please try loading this page with nbviewer.org.</b></div><div class=\"sk-container\" hidden><div class=\"sk-item\"><div class=\"sk-estimator fitted sk-toggleable\"><input class=\"sk-toggleable__control sk-hidden--visually\" id=\"sk-estimator-id-3\" type=\"checkbox\" checked><label for=\"sk-estimator-id-3\" class=\"sk-toggleable__label fitted sk-toggleable__label-arrow fitted\">&nbsp;&nbsp;LogisticRegression<a class=\"sk-estimator-doc-link fitted\" rel=\"noreferrer\" target=\"_blank\" href=\"https://scikit-learn.org/1.4/modules/generated/sklearn.linear_model.LogisticRegression.html\">?<span>Documentation for LogisticRegression</span></a><span class=\"sk-estimator-doc-link fitted\">i<span>Fitted</span></span></label><div class=\"sk-toggleable__content fitted\"><pre>LogisticRegression()</pre></div> </div></div></div></div>"
      ]
     },
     "execution_count": 179,
     "metadata": {},
     "output_type": "execute_result"
    }
   ],
   "execution_count": 179
  },
  {
   "cell_type": "code",
   "metadata": {
    "ExecuteTime": {
     "end_time": "2024-04-06T14:31:39.646196Z",
     "start_time": "2024-04-06T14:31:39.640263Z"
    }
   },
   "source": [
    "clf.classes_"
   ],
   "outputs": [
    {
     "data": {
      "text/plain": [
       "array(['全球', '社會', '財經'], dtype=object)"
      ]
     },
     "execution_count": 180,
     "metadata": {},
     "output_type": "execute_result"
    }
   ],
   "execution_count": 180
  },
  {
   "cell_type": "code",
   "metadata": {
    "ExecuteTime": {
     "end_time": "2024-04-06T14:31:40.951909Z",
     "start_time": "2024-04-06T14:31:40.946192Z"
    }
   },
   "source": [
    "y_pred = clf.predict(vec_test)\n",
    "y_pred_proba = clf.predict_proba(vec_test)\n",
    "print(y_pred[:10])"
   ],
   "outputs": [
    {
     "name": "stdout",
     "output_type": "stream",
     "text": [
      "['財經' '財經' '財經' '全球' '全球' '財經' '全球' '社會' '全球' '財經']\n"
     ]
    }
   ],
   "execution_count": 181
  },
  {
   "cell_type": "code",
   "metadata": {
    "ExecuteTime": {
     "end_time": "2024-04-06T14:31:42.150014Z",
     "start_time": "2024-04-06T14:31:42.143080Z"
    }
   },
   "source": [
    "print(y_pred_proba.shape)\n",
    "y_pred_proba[0,:]"
   ],
   "outputs": [
    {
     "name": "stdout",
     "output_type": "stream",
     "text": [
      "(862, 3)\n"
     ]
    },
    {
     "data": {
      "text/plain": [
       "array([8.87795011e-09, 2.38991710e-10, 9.99999991e-01])"
      ]
     },
     "execution_count": 182,
     "metadata": {},
     "output_type": "execute_result"
    }
   ],
   "execution_count": 182
  },
  {
   "cell_type": "code",
   "metadata": {
    "ExecuteTime": {
     "end_time": "2024-04-06T14:31:43.265514Z",
     "start_time": "2024-04-06T14:31:43.245615Z"
    }
   },
   "source": [
    "## Accuracy, Precision, Recall, F1-score\n",
    "print(classification_report(y_test, y_pred))"
   ],
   "outputs": [
    {
     "name": "stdout",
     "output_type": "stream",
     "text": [
      "              precision    recall  f1-score   support\n",
      "\n",
      "          全球       0.94      0.95      0.94       232\n",
      "          社會       0.98      0.97      0.97       228\n",
      "          財經       0.98      0.98      0.98       402\n",
      "\n",
      "    accuracy                           0.97       862\n",
      "   macro avg       0.96      0.97      0.96       862\n",
      "weighted avg       0.97      0.97      0.97       862\n",
      "\n"
     ]
    }
   ],
   "execution_count": 183
  },
  {
   "cell_type": "code",
   "metadata": {
    "ExecuteTime": {
     "end_time": "2024-04-06T14:31:44.806631Z",
     "start_time": "2024-04-06T14:31:44.796265Z"
    }
   },
   "source": [
    "classes = clf.classes_\n",
    "cm = confusion_matrix(y_test, y_pred)\n",
    "cm"
   ],
   "outputs": [
    {
     "data": {
      "text/plain": [
       "array([[220,   5,   7],\n",
       "       [  6, 221,   1],\n",
       "       [  9,   0, 393]], dtype=int64)"
      ]
     },
     "execution_count": 184,
     "metadata": {},
     "output_type": "execute_result"
    }
   ],
   "execution_count": 184
  },
  {
   "cell_type": "code",
   "metadata": {
    "ExecuteTime": {
     "end_time": "2024-04-06T14:31:46.593934Z",
     "start_time": "2024-04-06T14:31:46.457687Z"
    }
   },
   "source": [
    "## Plot confusion matrix\n",
    "fig, ax = plt.subplots()\n",
    "sns.heatmap(cm, annot=True, fmt=\"d\", ax=ax, cmap=plt.cm.Blues, cbar=False)\n",
    "ax.set(\n",
    "    xlabel=\"Pred\",\n",
    "    ylabel=\"True\",\n",
    "    xticklabels=classes,\n",
    "    yticklabels=classes,\n",
    "    title=\"Confusion matrix\",\n",
    ")\n",
    "plt.yticks(rotation=0)"
   ],
   "outputs": [
    {
     "data": {
      "text/plain": [
       "(array([0.5, 1.5, 2.5]),\n",
       " [Text(0, 0.5, '全球'), Text(0, 1.5, '社會'), Text(0, 2.5, '財經')])"
      ]
     },
     "execution_count": 185,
     "metadata": {},
     "output_type": "execute_result"
    },
    {
     "data": {
      "text/plain": [
       "<Figure size 640x480 with 1 Axes>"
      ],
      "image/png": "[encoded data removed]"
     },
     "metadata": {},
     "output_type": "display_data"
    }
   ],
   "execution_count": 185
  },
  {
   "attachments": {},
   "cell_type": "markdown",
   "metadata": {},
   "source": "### 3.4 tfidf"
  },
  {
   "attachments": {},
   "cell_type": "markdown",
   "metadata": {},
   "source": "改試試看使用 tf-idf 的 DTM 來代表文章，訓練分類模型的效果"
  },
  {
   "cell_type": "code",
   "metadata": {
    "ExecuteTime": {
     "end_time": "2024-04-06T14:31:49.916493Z",
     "start_time": "2024-04-06T14:31:49.056450Z"
    }
   },
   "source": [
    "vectorizer = TfidfVectorizer(max_features=1000)\n",
    "vec_train = vectorizer.fit_transform(X_train)\n",
    "vec_test = vectorizer.transform(X_test)\n",
    "vec_train.toarray()[0,:]"
   ],
   "outputs": [
    {
     "data": {
      "text/plain": [
       "array([0.        , 0.        , 0.        , 0.        , 0.05162936,\n",
       "       0.        , 0.        , 0.        , 0.09885165, 0.        ,\n",
       "       0.        , 0.        , 0.        , 0.        , 0.        ,\n",
       "       0.        , 0.        , 0.0561859 , 0.        , 0.        ,\n",
       "       0.04975648, 0.        , 0.        , 0.        , 0.        ,\n",
       "       0.        , 0.        , 0.        , 0.        , 0.04508522,\n",
       "       0.        , 0.        , 0.05644981, 0.        , 0.        ,\n",
       "       0.        , 0.        , 0.        , 0.        , 0.        ,\n",
       "       0.        , 0.        , 0.        , 0.        , 0.        ,\n",
       "       0.        , 0.05605573, 0.        , 0.        , 0.        ,\n",
       "       0.        , 0.05241231, 0.        , 0.        , 0.        ,\n",
       "       0.        , 0.        , 0.        , 0.        , 0.        ,\n",
       "       0.        , 0.0495902 , 0.        , 0.        , 0.        ,\n",
       "       0.        , 0.02677613, 0.12012004, 0.05542202, 0.06228163,\n",
       "       0.        , 0.        , 0.        , 0.        , 0.        ,\n",
       "       0.        , 0.        , 0.07242829, 0.        , 0.        ,\n",
       "       0.        , 0.        , 0.        , 0.        , 0.        ,\n",
       "       0.        , 0.        , 0.        , 0.        , 0.        ,\n",
       "       0.        , 0.        , 0.        , 0.        , 0.        ,\n",
       "       0.        , 0.        , 0.        , 0.        , 0.        ,\n",
       "       0.        , 0.        , 0.        , 0.05579889, 0.        ,\n",
       "       0.        , 0.        , 0.        , 0.        , 0.        ,\n",
       "       0.        , 0.        , 0.        , 0.        , 0.        ,\n",
       "       0.        , 0.        , 0.        , 0.        , 0.        ,\n",
       "       0.        , 0.05567216, 0.        , 0.        , 0.        ,\n",
       "       0.        , 0.04863098, 0.        , 0.        , 0.        ,\n",
       "       0.        , 0.        , 0.        , 0.03210089, 0.        ,\n",
       "       0.        , 0.        , 0.        , 0.        , 0.09230387,\n",
       "       0.        , 0.        , 0.        , 0.        , 0.        ,\n",
       "       0.        , 0.        , 0.        , 0.05727192, 0.        ,\n",
       "       0.        , 0.1181443 , 0.        , 0.        , 0.05955975,\n",
       "       0.        , 0.        , 0.        , 0.        , 0.        ,\n",
       "       0.        , 0.        , 0.        , 0.        , 0.        ,\n",
       "       0.        , 0.        , 0.        , 0.0492633 , 0.05699263,\n",
       "       0.        , 0.10564072, 0.        , 0.        , 0.        ,\n",
       "       0.        , 0.05134641, 0.        , 0.05579889, 0.        ,\n",
       "       0.        , 0.        , 0.        , 0.        , 0.        ,\n",
       "       0.        , 0.        , 0.        , 0.        , 0.        ,\n",
       "       0.04343149, 0.        , 0.        , 0.        , 0.        ,\n",
       "       0.        , 0.        , 0.        , 0.        , 0.        ,\n",
       "       0.        , 0.        , 0.04832495, 0.        , 0.05153443,\n",
       "       0.        , 0.0491026 , 0.        , 0.        , 0.        ,\n",
       "       0.        , 0.        , 0.03787157, 0.        , 0.        ,\n",
       "       0.        , 0.        , 0.        , 0.0492633 , 0.        ,\n",
       "       0.        , 0.08085637, 0.        , 0.        , 0.        ,\n",
       "       0.05529856, 0.        , 0.        , 0.        , 0.05579889,\n",
       "       0.        , 0.        , 0.        , 0.        , 0.        ,\n",
       "       0.        , 0.        , 0.        , 0.05282036, 0.        ,\n",
       "       0.        , 0.        , 0.        , 0.        , 0.        ,\n",
       "       0.05493441, 0.05579889, 0.        , 0.        , 0.0582945 ,\n",
       "       0.        , 0.        , 0.        , 0.08675544, 0.1193608 ,\n",
       "       0.        , 0.        , 0.        , 0.        , 0.        ,\n",
       "       0.11482726, 0.        , 0.        , 0.        , 0.        ,\n",
       "       0.        , 0.        , 0.        , 0.        , 0.        ,\n",
       "       0.        , 0.        , 0.        , 0.        , 0.        ,\n",
       "       0.        , 0.        , 0.        , 0.        , 0.        ,\n",
       "       0.        , 0.        , 0.        , 0.        , 0.        ,\n",
       "       0.        , 0.        , 0.        , 0.        , 0.        ,\n",
       "       0.        , 0.050618  , 0.056855  , 0.        , 0.        ,\n",
       "       0.        , 0.        , 0.05282036, 0.        , 0.        ,\n",
       "       0.        , 0.05579889, 0.        , 0.05271726, 0.05162936,\n",
       "       0.        , 0.        , 0.        , 0.        , 0.        ,\n",
       "       0.        , 0.        , 0.        , 0.        , 0.        ,\n",
       "       0.0452066 , 0.1323109 , 0.        , 0.        , 0.        ,\n",
       "       0.03466942, 0.        , 0.        , 0.        , 0.        ,\n",
       "       0.        , 0.        , 0.05579889, 0.        , 0.        ,\n",
       "       0.06228163, 0.        , 0.        , 0.        , 0.        ,\n",
       "       0.        , 0.        , 0.        , 0.        , 0.        ,\n",
       "       0.        , 0.04353963, 0.04526767, 0.        , 0.        ,\n",
       "       0.        , 0.        , 0.        , 0.        , 0.        ,\n",
       "       0.        , 0.        , 0.        , 0.        , 0.        ,\n",
       "       0.        , 0.        , 0.        , 0.        , 0.        ,\n",
       "       0.        , 0.05992894, 0.        , 0.        , 0.04332415,\n",
       "       0.        , 0.        , 0.        , 0.05875602, 0.04934433,\n",
       "       0.        , 0.        , 0.        , 0.        , 0.        ,\n",
       "       0.04420615, 0.        , 0.        , 0.        , 0.        ,\n",
       "       0.        , 0.        , 0.        , 0.        , 0.        ,\n",
       "       0.        , 0.        , 0.05755675, 0.        , 0.05079667,\n",
       "       0.        , 0.        , 0.        , 0.05302882, 0.        ,\n",
       "       0.        , 0.        , 0.03301119, 0.        , 0.        ,\n",
       "       0.        , 0.        , 0.05579889, 0.        , 0.        ,\n",
       "       0.        , 0.04490505, 0.        , 0.        , 0.04702308,\n",
       "       0.05517615, 0.        , 0.        , 0.        , 0.        ,\n",
       "       0.        , 0.        , 0.        , 0.        , 0.        ,\n",
       "       0.        , 0.        , 0.        , 0.        , 0.        ,\n",
       "       0.        , 0.        , 0.        , 0.08829882, 0.        ,\n",
       "       0.        , 0.13227868, 0.        , 0.        , 0.        ,\n",
       "       0.24350949, 0.        , 0.        , 0.05324033, 0.        ,\n",
       "       0.        , 0.02781082, 0.05242403, 0.        , 0.        ,\n",
       "       0.        , 0.05542202, 0.        , 0.        , 0.        ,\n",
       "       0.        , 0.        , 0.        , 0.        , 0.        ,\n",
       "       0.        , 0.04199712, 0.        , 0.03234802, 0.        ,\n",
       "       0.0571316 , 0.        , 0.        , 0.        , 0.        ,\n",
       "       0.        , 0.        , 0.        , 0.        , 0.        ,\n",
       "       0.        , 0.05469667, 0.19925809, 0.        , 0.        ,\n",
       "       0.        , 0.05579889, 0.        , 0.        , 0.05211369,\n",
       "       0.        , 0.        , 0.        , 0.        , 0.08219873,\n",
       "       0.        , 0.04661406, 0.        , 0.        , 0.        ,\n",
       "       0.        , 0.        , 0.        , 0.        , 0.        ,\n",
       "       0.44626894, 0.        , 0.        , 0.        , 0.        ,\n",
       "       0.05052949, 0.        , 0.04737305, 0.        , 0.        ,\n",
       "       0.        , 0.        , 0.        , 0.05144011, 0.0470924 ,\n",
       "       0.05423266, 0.        , 0.        , 0.        , 0.04165981,\n",
       "       0.        , 0.        , 0.        , 0.04156487, 0.        ,\n",
       "       0.03511567, 0.        , 0.        , 0.        , 0.        ,\n",
       "       0.04723204, 0.05579889, 0.05271726, 0.        , 0.        ,\n",
       "       0.        , 0.        , 0.04073751, 0.        , 0.        ,\n",
       "       0.        , 0.        , 0.        , 0.        , 0.        ,\n",
       "       0.        , 0.        , 0.        , 0.        , 0.        ,\n",
       "       0.03529812, 0.        , 0.        , 0.        , 0.        ,\n",
       "       0.        , 0.        , 0.        , 0.        , 0.05579889,\n",
       "       0.        , 0.        , 0.        , 0.        , 0.05241231,\n",
       "       0.        , 0.        , 0.        , 0.        , 0.        ,\n",
       "       0.        , 0.        , 0.        , 0.        , 0.        ,\n",
       "       0.        , 0.09741703, 0.        , 0.05271726, 0.        ,\n",
       "       0.        , 0.        , 0.        , 0.0463477 , 0.        ,\n",
       "       0.        , 0.        , 0.        , 0.        , 0.        ,\n",
       "       0.        , 0.        , 0.        , 0.        , 0.05579889,\n",
       "       0.        , 0.        , 0.        , 0.        , 0.        ,\n",
       "       0.        , 0.        , 0.05493441, 0.        , 0.06589629,\n",
       "       0.        , 0.        , 0.        , 0.        , 0.        ,\n",
       "       0.        , 0.04570261, 0.        , 0.        , 0.        ,\n",
       "       0.        , 0.        , 0.        , 0.        , 0.        ,\n",
       "       0.        , 0.        , 0.        , 0.        , 0.        ,\n",
       "       0.        , 0.05271726, 0.        , 0.        , 0.        ,\n",
       "       0.        , 0.        , 0.        , 0.        , 0.        ,\n",
       "       0.        , 0.        , 0.        , 0.        , 0.        ,\n",
       "       0.        , 0.        , 0.        , 0.05579889, 0.        ,\n",
       "       0.        , 0.        , 0.        , 0.05221254, 0.        ,\n",
       "       0.        , 0.        , 0.        , 0.        , 0.04674911,\n",
       "       0.        , 0.        , 0.        , 0.        , 0.        ,\n",
       "       0.10786669, 0.        , 0.        , 0.        , 0.        ,\n",
       "       0.        , 0.        , 0.        , 0.        , 0.        ,\n",
       "       0.050618  , 0.        , 0.        , 0.05567216, 0.        ,\n",
       "       0.11483968, 0.        , 0.0785875 , 0.        , 0.        ,\n",
       "       0.        , 0.        , 0.        , 0.03108408, 0.        ,\n",
       "       0.05579889, 0.        , 0.        , 0.        , 0.        ,\n",
       "       0.        , 0.        , 0.        , 0.        , 0.        ,\n",
       "       0.        , 0.        , 0.        , 0.        , 0.        ,\n",
       "       0.        , 0.        , 0.        , 0.        , 0.        ,\n",
       "       0.        , 0.        , 0.05554655, 0.        , 0.10598626,\n",
       "       0.        , 0.        , 0.04628187, 0.        , 0.        ,\n",
       "       0.        , 0.        , 0.        , 0.05493441, 0.        ,\n",
       "       0.        , 0.05446279, 0.        , 0.        , 0.        ,\n",
       "       0.        , 0.        , 0.        , 0.        , 0.        ,\n",
       "       0.        , 0.        , 0.        , 0.        , 0.        ,\n",
       "       0.04992471, 0.        , 0.        , 0.        , 0.        ,\n",
       "       0.        , 0.        , 0.        , 0.        , 0.04264534,\n",
       "       0.        , 0.        , 0.        , 0.        , 0.05324033,\n",
       "       0.        , 0.        , 0.06076622, 0.        , 0.        ,\n",
       "       0.        , 0.        , 0.        , 0.        , 0.        ,\n",
       "       0.        , 0.        , 0.05251324, 0.        , 0.        ,\n",
       "       0.        , 0.        , 0.        , 0.        , 0.        ,\n",
       "       0.05939538, 0.        , 0.        , 0.        , 0.        ,\n",
       "       0.        , 0.        , 0.        , 0.        , 0.        ,\n",
       "       0.05517615, 0.        , 0.        , 0.04758719, 0.        ,\n",
       "       0.        , 0.        , 0.        , 0.        , 0.        ,\n",
       "       0.        , 0.06375271, 0.04359401, 0.        , 0.05044152,\n",
       "       0.        , 0.        , 0.        , 0.05579889, 0.        ,\n",
       "       0.        , 0.        , 0.05671866, 0.        , 0.        ,\n",
       "       0.        , 0.        , 0.04050125, 0.        , 0.        ,\n",
       "       0.        , 0.        , 0.05579889, 0.        , 0.        ,\n",
       "       0.        , 0.        , 0.        , 0.        , 0.        ,\n",
       "       0.        , 0.        , 0.        , 0.        , 0.        ,\n",
       "       0.        , 0.14385402, 0.05860053, 0.        , 0.        ,\n",
       "       0.04398053, 0.        , 0.05389422, 0.0584467 , 0.        ,\n",
       "       0.        , 0.        , 0.04589312, 0.        , 0.        ,\n",
       "       0.        , 0.        , 0.        , 0.        , 0.        ,\n",
       "       0.        , 0.        , 0.        , 0.        , 0.        ,\n",
       "       0.04615112, 0.05271726, 0.04602154, 0.        , 0.        ,\n",
       "       0.        , 0.        , 0.05493441, 0.        , 0.        ,\n",
       "       0.        , 0.        , 0.        , 0.        , 0.        ,\n",
       "       0.05088685, 0.        , 0.        , 0.        , 0.        ,\n",
       "       0.        , 0.        , 0.        , 0.        , 0.        ,\n",
       "       0.        , 0.        , 0.        , 0.        , 0.        ,\n",
       "       0.05493441, 0.        , 0.        , 0.        , 0.04398053,\n",
       "       0.        , 0.        , 0.        , 0.07588991, 0.10250663,\n",
       "       0.05434727, 0.        , 0.        , 0.05579889, 0.        ,\n",
       "       0.        , 0.        , 0.        , 0.        , 0.        ,\n",
       "       0.        , 0.05261489, 0.        , 0.        , 0.        ,\n",
       "       0.04840085, 0.        , 0.        , 0.        , 0.        ,\n",
       "       0.10815596, 0.        , 0.        , 0.        , 0.04455136,\n",
       "       0.05271726, 0.05201551, 0.        , 0.        , 0.        ,\n",
       "       0.        , 0.        , 0.        , 0.        , 0.0436486 ,\n",
       "       0.        , 0.        , 0.04264534, 0.        , 0.        ,\n",
       "       0.        , 0.26727505, 0.        , 0.        , 0.        ,\n",
       "       0.        , 0.        , 0.        , 0.        , 0.        ,\n",
       "       0.        , 0.        , 0.        , 0.        , 0.        ,\n",
       "       0.        , 0.        , 0.        , 0.        , 0.        ,\n",
       "       0.04773175, 0.        , 0.        , 0.        , 0.        ,\n",
       "       0.        , 0.        , 0.05579889, 0.        , 0.        ,\n",
       "       0.        , 0.        , 0.        , 0.        , 0.        ,\n",
       "       0.        , 0.        , 0.        , 0.        , 0.05567216,\n",
       "       0.03601977, 0.        , 0.        , 0.        , 0.04894367,\n",
       "       0.        , 0.04886486, 0.        , 0.        , 0.        ,\n",
       "       0.        , 0.        , 0.        , 0.        , 0.        ,\n",
       "       0.        , 0.04189993, 0.        , 0.        , 0.        ,\n",
       "       0.        , 0.        , 0.        , 0.        , 0.        ,\n",
       "       0.        , 0.        , 0.        , 0.        , 0.        ,\n",
       "       0.        , 0.        , 0.        , 0.        , 0.        ])"
      ]
     },
     "execution_count": 186,
     "metadata": {},
     "output_type": "execute_result"
    }
   ],
   "execution_count": 186
  },
  {
   "cell_type": "code",
   "metadata": {
    "ExecuteTime": {
     "end_time": "2024-04-06T14:31:50.689557Z",
     "start_time": "2024-04-06T14:31:50.632557Z"
    }
   },
   "source": [
    "clf.fit(vec_train, y_train)\n",
    "y_pred = clf.predict(vec_test)\n",
    "y_pred_proba = clf.predict_proba(vec_test)\n",
    "\n",
    "# results\n",
    "## Accuracy, Precision, Recall, F1-score\n",
    "print(classification_report(y_test, y_pred))"
   ],
   "outputs": [
    {
     "name": "stdout",
     "output_type": "stream",
     "text": [
      "              precision    recall  f1-score   support\n",
      "\n",
      "          全球       0.95      0.92      0.94       232\n",
      "          社會       0.97      0.97      0.97       228\n",
      "          財經       0.97      0.99      0.98       402\n",
      "\n",
      "    accuracy                           0.97       862\n",
      "   macro avg       0.96      0.96      0.96       862\n",
      "weighted avg       0.97      0.97      0.97       862\n",
      "\n"
     ]
    }
   ],
   "execution_count": 187
  },
  {
   "metadata": {
    "ExecuteTime": {
     "end_time": "2024-04-06T14:31:51.986960Z",
     "start_time": "2024-04-06T14:31:51.979892Z"
    }
   },
   "cell_type": "code",
   "source": [
    "classes = clf.classes_\n",
    "cm = confusion_matrix(y_test, y_pred)\n",
    "cm"
   ],
   "outputs": [
    {
     "data": {
      "text/plain": [
       "array([[214,   8,  10],\n",
       "       [  5, 222,   1],\n",
       "       [  6,   0, 396]], dtype=int64)"
      ]
     },
     "execution_count": 188,
     "metadata": {},
     "output_type": "execute_result"
    }
   ],
   "execution_count": 188
  },
  {
   "metadata": {
    "ExecuteTime": {
     "end_time": "2024-04-06T14:31:53.593400Z",
     "start_time": "2024-04-06T14:31:53.481744Z"
    }
   },
   "cell_type": "code",
   "source": [
    "## Plot confusion matrix\n",
    "fig, ax = plt.subplots()\n",
    "sns.heatmap(cm, annot=True, fmt=\"d\", ax=ax, cmap=plt.cm.Blues, cbar=False)\n",
    "ax.set(\n",
    "    xlabel=\"Pred\",\n",
    "    ylabel=\"True\",\n",
    "    xticklabels=classes,\n",
    "    yticklabels=classes,\n",
    "    title=\"Confusion matrix\",\n",
    ")\n",
    "plt.yticks(rotation=0)"
   ],
   "outputs": [
    {
     "data": {
      "text/plain": [
       "(array([0.5, 1.5, 2.5]),\n",
       " [Text(0, 0.5, '全球'), Text(0, 1.5, '社會'), Text(0, 2.5, '財經')])"
      ]
     },
     "execution_count": 189,
     "metadata": {},
     "output_type": "execute_result"
    },
    {
     "data": {
      "text/plain": [
       "<Figure size 640x480 with 1 Axes>"
      ],
      "image/png": "[encoded data removed]"
     },
     "metadata": {},
     "output_type": "display_data"
    }
   ],
   "execution_count": 189
  },
  {
   "attachments": {},
   "cell_type": "markdown",
   "metadata": {},
   "source": "效果一樣也是不錯，可能因為三個新聞版別本來就有很大的差異，用字遣詞會不同。 "
  },
  {
   "attachments": {},
   "cell_type": "markdown",
   "metadata": {},
   "source": "### 3.5 CV  "
  },
  {
   "attachments": {},
   "cell_type": "markdown",
   "metadata": {},
   "source": "接著介紹 cross-validation。CV 在機器學習中，是一個很常用來讓模型評估能夠得到更穩定的數值的手法。 "
  },
  {
   "attachments": {},
   "cell_type": "markdown",
   "metadata": {},
   "source": "* figure1:  "
  },
  {
   "attachments": {},
   "cell_type": "markdown",
   "metadata": {},
   "source": "![](images/grid_search_workflow.png) "
  },
  {
   "attachments": {},
   "cell_type": "markdown",
   "metadata": {},
   "source": [
    "* figure 2:  "
   ]
  },
  {
   "attachments": {},
   "cell_type": "markdown",
   "metadata": {},
   "source": [
    "![](https://scikit-learn.org/stable/_images/grid_search_cross_validation.png)"
   ]
  },
  {
   "attachments": {},
   "cell_type": "markdown",
   "metadata": {},
   "source": [
    "source: <https://scikit-learn.org/stable/modules/cross_validation.html#cross-validation-and-model-selection>"
   ]
  },
  {
   "attachments": {},
   "cell_type": "markdown",
   "metadata": {},
   "source": [
    "cross-validation 會自動切成 k 組 train-test dataset。  \n",
    "`cross_validate()` 會回傳經過 cross-validation 的模型評估結果。"
   ]
  },
  {
   "cell_type": "code",
   "metadata": {
    "ExecuteTime": {
     "end_time": "2024-04-06T14:32:04.819497Z",
     "start_time": "2024-04-06T14:32:04.047743Z"
    }
   },
   "source": [
    "clf = LogisticRegression()\n",
    "vec_train = TfidfVectorizer(max_features=1000).fit_transform(X_train)\n",
    "\n",
    "scores = cross_validate(clf, vec_train, y_train, cv=5, scoring=(\"f1_macro\", \"recall_macro\", \"precision_macro\"), return_estimator=True)\n",
    "pprint(scores)"
   ],
   "outputs": [
    {
     "name": "stdout",
     "output_type": "stream",
     "text": [
      "{'estimator': [LogisticRegression(),\n",
      "               LogisticRegression(),\n",
      "               LogisticRegression(),\n",
      "               LogisticRegression(),\n",
      "               LogisticRegression()],\n",
      " 'fit_time': array([0.03399563, 0.03000188, 0.02999997, 0.03100109, 0.03099513]),\n",
      " 'score_time': array([0.0070045 , 0.00599909, 0.0069952 , 0.00700426, 0.00700021]),\n",
      " 'test_f1_macro': array([0.97504477, 0.96597168, 0.97184731, 0.96295525, 0.95837677]),\n",
      " 'test_precision_macro': array([0.97586282, 0.96574407, 0.97085853, 0.97206176, 0.9635227 ]),\n",
      " 'test_recall_macro': array([0.97424777, 0.96631909, 0.97346507, 0.95650954, 0.95395839])}\n"
     ]
    }
   ],
   "execution_count": 190
  },
  {
   "cell_type": "markdown",
   "metadata": {},
   "source": "`cross_val_predict()` 則會回傳 cv 預測的類別。"
  },
  {
   "cell_type": "code",
   "metadata": {
    "ExecuteTime": {
     "end_time": "2024-04-06T14:32:06.927537Z",
     "start_time": "2024-04-06T14:32:06.707031Z"
    }
   },
   "source": [
    "y_pred = cross_val_predict(clf, vec_train, y_train, cv=5)\n",
    "print(classification_report(y_train, y_pred))"
   ],
   "outputs": [
    {
     "name": "stdout",
     "output_type": "stream",
     "text": [
      "              precision    recall  f1-score   support\n",
      "\n",
      "          全球       0.97      0.93      0.95       543\n",
      "          社會       0.97      0.98      0.97       493\n",
      "          財經       0.97      0.99      0.98       975\n",
      "\n",
      "    accuracy                           0.97      2011\n",
      "   macro avg       0.97      0.96      0.97      2011\n",
      "weighted avg       0.97      0.97      0.97      2011\n",
      "\n"
     ]
    }
   ],
   "execution_count": 191
  },
  {
   "attachments": {},
   "cell_type": "markdown",
   "metadata": {},
   "source": "## 4. 比較不同模型效果"
  },
  {
   "cell_type": "code",
   "metadata": {
    "scrolled": true,
    "ExecuteTime": {
     "end_time": "2024-04-06T14:32:09.061571Z",
     "start_time": "2024-04-06T14:32:09.056061Z"
    }
   },
   "source": [
    "# 定義模型訓練組合\n",
    "## pipeline: 資料處理 vectorizer + 分類器 clf\n",
    "## 由於 cross-validation 會自動將資料分成 train/test，因此 input 只要給 X, y 即可\n",
    "\n",
    "def train_cv(vectorizer, clf, X, y):\n",
    "\n",
    "    ## train classifier\n",
    "    vec_X = vectorizer.fit_transform(X).toarray()\n",
    "    \n",
    "    ## get cv results\n",
    "    cv_results = cross_validate(clf, vec_X, y, cv=5, return_estimator=True)\n",
    "    y_pred = cross_val_predict(clf, vec_X, y, cv=5)\n",
    "    y_pred_proba = cross_val_predict(clf, vec_X, y, cv=5, method=\"predict_proba\")\n",
    "    \n",
    "    ## Accuracy, Precision, Recall, F1-score\n",
    "    cls_report = classification_report(y, y_pred, output_dict=True)\n",
    "    print(classification_report(y, y_pred))\n",
    "\n",
    "    classes = cv_results['estimator'][0].classes_\n",
    "    \n",
    "    ## Plot confusion matrix\n",
    "    cm = confusion_matrix(y, y_pred)\n",
    "    fig, ax = plt.subplots()\n",
    "    sns.heatmap(cm, annot=True, fmt=\"d\", ax=ax, cmap=plt.cm.Blues, cbar=False)\n",
    "    ax.set(\n",
    "        xlabel=\"Pred\",\n",
    "        ylabel=\"True\",\n",
    "        xticklabels=classes,\n",
    "        yticklabels=classes,\n",
    "        title= str(clf) + \"Confusion matrix\",\n",
    "    )\n",
    "    plt.yticks(rotation=0)\n",
    "\n",
    "    clf.fit(vec_X, y)\n",
    "    # return the model object\n",
    "    return cls_report"
   ],
   "outputs": [],
   "execution_count": 192
  },
  {
   "cell_type": "code",
   "metadata": {
    "ExecuteTime": {
     "end_time": "2024-04-06T14:32:15.682552Z",
     "start_time": "2024-04-06T14:32:10.360564Z"
    }
   },
   "source": [
    "vectorizer = TfidfVectorizer(max_features=1000)\n",
    "clf = LogisticRegression()\n",
    "result = train_cv(vectorizer, clf, X_train, y_train)"
   ],
   "outputs": [
    {
     "name": "stdout",
     "output_type": "stream",
     "text": [
      "              precision    recall  f1-score   support\n",
      "\n",
      "          全球       0.97      0.93      0.95       543\n",
      "          社會       0.97      0.98      0.97       493\n",
      "          財經       0.97      0.99      0.98       975\n",
      "\n",
      "    accuracy                           0.97      2011\n",
      "   macro avg       0.97      0.96      0.97      2011\n",
      "weighted avg       0.97      0.97      0.97      2011\n",
      "\n"
     ]
    },
    {
     "data": {
      "text/plain": [
       "<Figure size 640x480 with 1 Axes>"
      ],
      "image/png": "[encoded data removed]"
     },
     "metadata": {},
     "output_type": "display_data"
    }
   ],
   "execution_count": 193
  },
  {
   "cell_type": "code",
   "metadata": {
    "ExecuteTime": {
     "end_time": "2024-04-06T14:33:34.095415Z",
     "start_time": "2024-04-06T14:32:16.864827Z"
    }
   },
   "source": [
    "# 準備訓練資料\n",
    "X = data[\"words\"]\n",
    "y = data[\"artCatagory\"]\n",
    "\n",
    "# 把整個資料集七三切\n",
    "X_train, X_test, y_train, y_test = train_test_split(\n",
    "    X, y, test_size=0.3, random_state=777\n",
    ")\n",
    "# 定義模型訓練組合\n",
    "model_set = dict()\n",
    "model_set['clf_logistic'] = LogisticRegression()\n",
    "model_set['clf_dtree'] = DecisionTreeClassifier()\n",
    "model_set['clf_svm'] = svm.SVC(probability=True) # 要使用SVM的predict_proba的話，必須在叫出SVC的時候就將probability設為True\n",
    "model_set['clf_rf'] = RandomForestClassifier()\n",
    "# 定義 vectorizer\n",
    "# vectorizer = CountVectorizer(max_features=1000)\n",
    "vectorizer = TfidfVectorizer(max_features=1000)\n",
    "# 存結果\n",
    "result_set = dict()\n",
    "\n",
    "for k, model in model_set.items():\n",
    "    print(\"=\"*100)\n",
    "    print(f\"now training: {k}\")\n",
    "    result_set[k] = train_cv(vectorizer, model, X_train, y_train)\n",
    "    print(\"=\"*100)\n"
   ],
   "outputs": [
    {
     "name": "stdout",
     "output_type": "stream",
     "text": [
      "====================================================================================================\n",
      "now training: clf_logistic\n",
      "              precision    recall  f1-score   support\n",
      "\n",
      "          全球       0.97      0.93      0.95       543\n",
      "          社會       0.97      0.98      0.97       493\n",
      "          財經       0.97      0.99      0.98       975\n",
      "\n",
      "    accuracy                           0.97      2011\n",
      "   macro avg       0.97      0.96      0.97      2011\n",
      "weighted avg       0.97      0.97      0.97      2011\n",
      "\n",
      "====================================================================================================\n",
      "====================================================================================================\n",
      "now training: clf_dtree\n",
      "              precision    recall  f1-score   support\n",
      "\n",
      "          全球       0.79      0.80      0.80       543\n",
      "          社會       0.86      0.86      0.86       493\n",
      "          財經       0.91      0.91      0.91       975\n",
      "\n",
      "    accuracy                           0.87      2011\n",
      "   macro avg       0.85      0.85      0.85      2011\n",
      "weighted avg       0.87      0.87      0.87      2011\n",
      "\n",
      "====================================================================================================\n",
      "====================================================================================================\n",
      "now training: clf_svm\n",
      "              precision    recall  f1-score   support\n",
      "\n",
      "          全球       0.96      0.94      0.95       543\n",
      "          社會       0.97      0.97      0.97       493\n",
      "          財經       0.98      0.99      0.99       975\n",
      "\n",
      "    accuracy                           0.97      2011\n",
      "   macro avg       0.97      0.97      0.97      2011\n",
      "weighted avg       0.97      0.97      0.97      2011\n",
      "\n",
      "====================================================================================================\n",
      "====================================================================================================\n",
      "now training: clf_rf\n",
      "              precision    recall  f1-score   support\n",
      "\n",
      "          全球       0.95      0.90      0.92       543\n",
      "          社會       0.94      0.97      0.95       493\n",
      "          財經       0.96      0.98      0.97       975\n",
      "\n",
      "    accuracy                           0.95      2011\n",
      "   macro avg       0.95      0.95      0.95      2011\n",
      "weighted avg       0.95      0.95      0.95      2011\n",
      "\n",
      "====================================================================================================\n"
     ]
    },
    {
     "data": {
      "text/plain": [
       "<Figure size 640x480 with 1 Axes>"
      ],
      "image/png": "[encoded data removed]"
     },
     "metadata": {},
     "output_type": "display_data"
    },
    {
     "data": {
      "text/plain": [
       "<Figure size 640x480 with 1 Axes>"
      ],
      "image/png": "[encoded data removed]"
     },
     "metadata": {},
     "output_type": "display_data"
    },
    {
     "data": {
      "text/plain": [
       "<Figure size 640x480 with 1 Axes>"
      ],
      "image/png": "[encoded data removed]"
     },
     "metadata": {},
     "output_type": "display_data"
    },
    {
     "data": {
      "text/plain": [
       "<Figure size 640x480 with 1 Axes>"
      ],
      "image/png": "[encoded data removed]"
     },
     "metadata": {},
     "output_type": "display_data"
    }
   ],
   "execution_count": 194
  },
  {
   "cell_type": "code",
   "metadata": {
    "ExecuteTime": {
     "end_time": "2024-04-06T14:33:34.101563Z",
     "start_time": "2024-04-06T14:33:34.096413Z"
    }
   },
   "source": "result_set['clf_logistic']",
   "outputs": [
    {
     "data": {
      "text/plain": [
       "{'全球': {'precision': 0.9691714836223507,\n",
       "  'recall': 0.9263351749539595,\n",
       "  'f1-score': 0.9472693032015066,\n",
       "  'support': 543.0},\n",
       " '社會': {'precision': 0.9659318637274549,\n",
       "  'recall': 0.9776876267748479,\n",
       "  'f1-score': 0.9717741935483871,\n",
       "  'support': 493.0},\n",
       " '財經': {'precision': 0.972809667673716,\n",
       "  'recall': 0.9907692307692307,\n",
       "  'f1-score': 0.9817073170731707,\n",
       "  'support': 975.0},\n",
       " 'accuracy': 0.9701640974639483,\n",
       " 'macro avg': {'precision': 0.9693043383411739,\n",
       "  'recall': 0.9649306774993459,\n",
       "  'f1-score': 0.9669169379410215,\n",
       "  'support': 2011.0},\n",
       " 'weighted avg': {'precision': 0.9701411986108626,\n",
       "  'recall': 0.9701640974639483,\n",
       "  'f1-score': 0.9699734178041345,\n",
       "  'support': 2011.0}}"
      ]
     },
     "execution_count": 195,
     "metadata": {},
     "output_type": "execute_result"
    }
   ],
   "execution_count": 195
  },
  {
   "cell_type": "code",
   "metadata": {
    "ExecuteTime": {
     "end_time": "2024-04-06T14:33:40.616139Z",
     "start_time": "2024-04-06T14:33:40.610067Z"
    }
   },
   "source": [
    "max = 0\n",
    "best_model_name = \"\"\n",
    "best_model_metric = \"f1-score\"\n",
    "\n",
    "## choose max f1-score model from result_set\n",
    "for k, v in result_set.items():\n",
    "    if v['weighted avg'][best_model_metric] > max:\n",
    "        max = v['weighted avg'][best_model_metric]\n",
    "        best_model_name = k\n",
    "print(f\"best model: {best_model_name}\")\n",
    "pprint(result_set[best_model_name])"
   ],
   "outputs": [
    {
     "name": "stdout",
     "output_type": "stream",
     "text": [
      "best model: clf_svm\n",
      "{'accuracy': 0.9726504226752859,\n",
      " 'macro avg': {'f1-score': 0.9689619174697701,\n",
      "               'precision': 0.970548609521639,\n",
      "               'recall': 0.9674790160897319,\n",
      "               'support': 2011.0},\n",
      " 'weighted avg': {'f1-score': 0.972548545061173,\n",
      "                  'precision': 0.9725465856256067,\n",
      "                  'recall': 0.9726504226752859,\n",
      "                  'support': 2011.0},\n",
      " '全球': {'f1-score': 0.9515828677839852,\n",
      "        'precision': 0.9623352165725048,\n",
      "        'recall': 0.9410681399631676,\n",
      "        'support': 543.0},\n",
      " '社會': {'f1-score': 0.9695740365111561,\n",
      "        'precision': 0.9695740365111561,\n",
      "        'recall': 0.9695740365111561,\n",
      "        'support': 493.0},\n",
      " '財經': {'f1-score': 0.9857288481141692,\n",
      "        'precision': 0.9797365754812564,\n",
      "        'recall': 0.9917948717948718,\n",
      "        'support': 975.0}}\n"
     ]
    }
   ],
   "execution_count": 196
  },
  {
   "cell_type": "code",
   "metadata": {
    "ExecuteTime": {
     "end_time": "2024-04-06T14:33:47.422278Z",
     "start_time": "2024-04-06T14:33:45.304842Z"
    }
   },
   "source": [
    "y_pred = model_set['clf_svm'].predict(vectorizer.transform(X_test).toarray())\n",
    "print(classification_report(y_test, y_pred))"
   ],
   "outputs": [
    {
     "name": "stdout",
     "output_type": "stream",
     "text": [
      "              precision    recall  f1-score   support\n",
      "\n",
      "          全球       0.96      0.96      0.96       232\n",
      "          社會       0.97      0.98      0.98       228\n",
      "          財經       0.99      0.99      0.99       402\n",
      "\n",
      "    accuracy                           0.98       862\n",
      "   macro avg       0.97      0.97      0.97       862\n",
      "weighted avg       0.98      0.98      0.98       862\n",
      "\n"
     ]
    }
   ],
   "execution_count": 197
  },
  {
   "cell_type": "code",
   "metadata": {
    "ExecuteTime": {
     "end_time": "2024-04-06T14:33:51.436750Z",
     "start_time": "2024-04-06T14:33:51.428653Z"
    }
   },
   "source": [
    "model_set['clf_svm'].predict(vectorizer.transform([\"菲律賓 大學 要求 帶防 作弊 憤怒 皮卡丘 同台 東森 新聞 菲律賓 一名 大學教授\"]).toarray())"
   ],
   "outputs": [
    {
     "data": {
      "text/plain": [
       "array(['全球'], dtype=object)"
      ]
     },
     "execution_count": 198,
     "metadata": {},
     "output_type": "execute_result"
    }
   ],
   "execution_count": 198
  },
  {
   "attachments": {},
   "cell_type": "markdown",
   "metadata": {},
   "source": [
    "* 最佳的 model 為 SVM，其中 Decision Tree 的表現較差外，其餘三個 model （Logistic、SVM、Random Forest）表現差不多。\n",
    "* 另外也可以嘗試用直接的詞頻表作為 `vectorizer`，比較看看相較 tfidf，是否效果更好。"
   ]
  },
  {
   "attachments": {},
   "cell_type": "markdown",
   "metadata": {},
   "source": [
    "## 5. 分析可解釋模型的結果"
   ]
  },
  {
   "attachments": {},
   "cell_type": "markdown",
   "metadata": {},
   "source": [
    "### 5.1 各字詞特徵的estimate係數\n",
    "對於線性的模型，可以藉由相關係數，查看資料特徵（詞）對於判斷分類的影響\n",
    "+ coefficient estimate 代表特徵每增加一單位（在此處會是該文章的某字詞頻 +1），y是1的發生機率比y是0的發生機率多幾倍（odds ratio 勝算比）\n",
    "+ 這裡舉logistic regression + cv tokenizer 為例"
   ]
  },
  {
   "cell_type": "code",
   "metadata": {
    "ExecuteTime": {
     "end_time": "2024-04-06T14:34:04.532940Z",
     "start_time": "2024-04-06T14:34:04.527547Z"
    }
   },
   "source": [
    "def plot_coef(logistic_reg_model, feature_names, top_n=10):\n",
    "    # 選出某個類別的前10大影響力字詞\n",
    "    log_odds = logistic_reg_model.coef_.T\n",
    "    coef_df = pd.DataFrame(\n",
    "        log_odds, \n",
    "        columns=logistic_reg_model.classes_, index=feature_names\n",
    "    )\n",
    "    for label in coef_df.columns:\n",
    "        select_words = (\n",
    "            coef_df[[label]]\n",
    "            .sort_values(by=label, ascending=False)\n",
    "            .iloc[np.r_[0:top_n, -top_n:0]]\n",
    "        )\n",
    "        word = select_words.index\n",
    "        count = select_words[label]\n",
    "        category_colors = np.where(\n",
    "            select_words[label] >= 0, \"darkseagreen\", \"rosybrown\"\n",
    "        )  # 設定顏色\n",
    "\n",
    "        fig, ax = plt.subplots(figsize=(8, top_n*0.8))  # 設定畫布\n",
    "        plt.rcParams[\"axes.unicode_minus\"] = False\n",
    "\n",
    "        ax.barh(word, count, color=category_colors)\n",
    "        ax.invert_yaxis()\n",
    "        ax.set_title(\n",
    "            \"Coeff increase/decrease odds ratio of 「\" + label + \"」 label the most\",\n",
    "            loc=\"left\",\n",
    "            size=16,\n",
    "        )\n",
    "        ax.set_ylabel(\"word\", size=14)\n",
    "        ax.set_xlabel(\"odds ratio\", size=14)"
   ],
   "outputs": [],
   "execution_count": 199
  },
  {
   "cell_type": "code",
   "metadata": {
    "ExecuteTime": {
     "end_time": "2024-04-06T14:34:06.414077Z",
     "start_time": "2024-04-06T14:34:05.552086Z"
    }
   },
   "source": [
    "plot_coef(logistic_reg_model=model_set['clf_logistic'], feature_names=vectorizer.get_feature_names_out(), top_n=10)"
   ],
   "outputs": [
    {
     "data": {
      "text/plain": [
       "<Figure size 800x800 with 1 Axes>"
      ],
      "image/png": "[encoded data removed]"
     },
     "metadata": {},
     "output_type": "display_data"
    },
    {
     "data": {
      "text/plain": [
       "<Figure size 800x800 with 1 Axes>"
      ],
      "image/png": "[encoded data removed]"
     },
     "metadata": {},
     "output_type": "display_data"
    },
    {
     "data": {
      "text/plain": [
       "<Figure size 800x800 with 1 Axes>"
      ],
      "image/png": "[encoded data removed]"
     },
     "metadata": {},
     "output_type": "display_data"
    }
   ],
   "execution_count": 200
  },
  {
   "attachments": {},
   "cell_type": "markdown",
   "metadata": {},
   "source": [
    "- 「全球」中出現了日本、美國、英國還有當地等國際新聞關鍵字，除了國家名稱外，也提到許多元首名稱，比較特殊的是，\"當地\"這個詞語也被廣泛使用。\n",
    "- 「社會」中高係數的字是分局、學生、消防局與消防；「消防」可能與去年選舉前後時有明揚大火導致多名消防人員殉職有關;在許多社會新聞案件中，常提到是由哪些分局處理案件，因此「分局」也是社會新聞常見字彙，而「學生」則是可能與當時的國中生割頸案有關\n",
    "- 「財經」則是億元、投資、市場與台股等相關詞彙，只會出現在財經相關新聞上。"
   ]
  },
  {
   "attachments": {},
   "cell_type": "markdown",
   "metadata": {},
   "source": [
    "## 6. 預測新聞類別"
   ]
  },
  {
   "cell_type": "markdown",
   "metadata": {},
   "source": [
    "`自由時報.csv` 為自由時報網資料\n",
    "- 版別：國際(world)、社會(society)、政治(politics)、財經(ec)\n",
    "- 時間範圍：2023/12/23 ~ 2024/01/13\n",
    "- 工作流程平台搜尋/排除關鍵字：無"
   ]
  },
  {
   "cell_type": "code",
   "metadata": {
    "ExecuteTime": {
     "end_time": "2024-04-06T14:42:24.151655Z",
     "start_time": "2024-04-06T14:42:24.079990Z"
    }
   },
   "source": [
    "ct = pd.read_csv(\"data/自由時報.csv\")\n",
    "ct.dropna(inplace=True)\n",
    "ct"
   ],
   "outputs": [
    {
     "data": {
      "text/plain": [
       "      system_id dataSource  \\\n",
       "0             1        ltn   \n",
       "1             2        ltn   \n",
       "2             3        ltn   \n",
       "3             4        ltn   \n",
       "4             5        ltn   \n",
       "...         ...        ...   \n",
       "2097       2098        ltn   \n",
       "2098       2099        ltn   \n",
       "2099       2100        ltn   \n",
       "2100       2101        ltn   \n",
       "2101       2102        ltn   \n",
       "\n",
       "                                                  artUrl              artDate  \\\n",
       "0            https://ec.ltn.com.tw/article/paper/1623579  2023-12-30 21:30:00   \n",
       "1     https://ec.ltn.com.tw/article/breakingnews/4535539  2023-12-29 04:42:30   \n",
       "2     https://ec.ltn.com.tw/article/breakingnews/4509660  2023-12-31 23:37:24   \n",
       "3            https://ec.ltn.com.tw/article/paper/1623641  2023-12-31 21:30:00   \n",
       "4            https://ec.ltn.com.tw/article/paper/1623642  2023-12-31 21:30:00   \n",
       "...                                                  ...                  ...   \n",
       "2097  https://ec.ltn.com.tw/article/breakingnews/4551164  2024-01-13 09:25:55   \n",
       "2098  https://ec.ltn.com.tw/article/breakingnews/4537919  2024-01-01 00:10:56   \n",
       "2099  https://ec.ltn.com.tw/article/breakingnews/4549831  2024-01-12 03:28:58   \n",
       "2100  https://ec.ltn.com.tw/article/breakingnews/4547187  2024-01-09 13:38:05   \n",
       "2101  https://ec.ltn.com.tw/article/breakingnews/4547714  2024-01-10 05:49:31   \n",
       "\n",
       "                         artTitle  \\\n",
       "0               習專制強推共富 人才錢財「潤」出國   \n",
       "1        日經 : 台灣投資轉向 中國佔比降至幾十年來最低   \n",
       "2           LTN經濟通》AI始料未及？宮鬥劇峰回路轉   \n",
       "3     〈財經週報-運動產業〉巴黎奧運助攻 運動產業迎向春天？   \n",
       "4                〈財經週報-時事求是〉奧運與股價   \n",
       "...                           ...   \n",
       "2097       中國沒份！印度砸311億追加輝達AI晶片訂單   \n",
       "2098        脫歐近4年 民調指多數英國人認為生活變更差   \n",
       "2099   高市綠電累計920.44MW 綠電小組超標達1.4倍   \n",
       "2100        不動產和台股獲利挹注 新光金12月轉虧為盈   \n",
       "2101    街口日本跨境支付夯 加碼首季旅日消費最高20％回饋   \n",
       "\n",
       "                                                                                                                                                                                                                                                                                                                                                                                                                                                                                                                                                                                                                                                                                                                                                                                                                                                                                                                                                                                                                                                                                                                                                                                                                                                                                                                                                                                                                                                                                                                                                                                                                                                                                                                                                                                                                                                                                                                                                                                                                                                                                                                                                                                                                                                                                                                                                                                                                                                                                                                                                                                                                                                                                                                                                                                                                                                                                                                                                                           artContent  \\\n",
       "0                                                                                                                                                                                                                                                                                                                                                                                                                                                                                                                                                                                                                                                                                                                                                                                                                                                                                                                                                                                                                                                                                                                                                                                                                                                                                                                                                                                                                                                                                                                                                                                                                                                                                                                                                                                                                                                                                                                                                                                                                                                                                                                                                                                                  中國房地產市場低迷，經濟復甦未如預期。圖為北京市東城區一處街邊相連著的3家店面都空置未使用。（中央社資料照）編譯盧永山／特譯中國成長前景黯淡，美中關係持續緊繃，在此背景下，中國國家主席習近平不僅縮緊對政經社會的控制，又推動「共同富裕」政策，導致中國經濟慘兮兮，越來越多中國的人才與富人帶著大量資金「潤」（run）出國。「我不想生活在恐懼之下」36歲百度AI專家出走英國曾在百度與阿里巴巴的人工智慧（AI）部門工作，現年三十六歲的陳亮時（音譯）表示：「我離開中國是因為我不喜歡那裡的社會和政治環境，我不會再回去，除非中國變成一個民主國家、除非中國人民不再生活在恐懼之下。」由於中國全國人大在二○一八年通過修憲，取消國家主席任期制，讓習近平可以無限期留任掌權，陳亮時被迫在二○二○年初做出離開中國的決定，現在他在Meta（臉書母公司）的倫敦分公司任職。紐時：今年前10月中國15.5兆資金外流除了人才流失，資金也源源不斷撤離中國。儘管要從中國合法把資金轉移到海外受到嚴格的限制，但根據《紐約時報》報導，二○二三年每月有五百億美元資金透過各種方式流出中國，主要來自中國富有家庭與民營企業，這意味二○二三年前十個月，中國可能有高達五千億美元（十五．五兆台幣）的資金外流。新加坡成為中國外流富人和資金的主要落腳處。新加坡之所以能吸引中國富人與資金，主要因為距離很近、低稅率和大量說華語的人口。根據新加坡金管局統計，在中國富人推動下，新加坡家族辦公室的數量從二○二○年的四百家，增至二○二二年底的一一○○家，二○二三年仍持續增加。國際房地產顧問公司「居外IQI」表示，預計未來二年將有超過七十萬名中國富人離開中國；包括澳洲、加拿大、英國、日本、甚至杜拜，都是中國富人熱門的移民置產地點。 \\r\\n    一手掌握經濟脈動   \n",
       "1                                                                                                                                                                                                                                                                                                                                                                                                                                                                                                                                                                                                                                                                                                                                                                                                                                                                                                                                                                                                                                                                                                                                                                                                                                                                                                                                                                                                                                                                                                                                                                                                                                                                                                                                                                                                                                                                                                                                                                                                                                                                                                                                                                                                                                                                                 台積電德國廠在今年8月宣布落腳德勒斯登，台積電對於德國廠將規劃34億美元的投資額。（路透）\\r\\n高佳菁／核稿編輯\\r\\n〔財經頻道／綜合報導〕以往中國是台商大舉投資的地方，隨著中國經濟疲軟和地緣政治緊張，國際品牌廠陸續撤出中國，台商也跟隨供應鏈腳步轉出。《日經亞洲》報導，2023年，台灣對中國的投資驟降至台灣對外直接投資總額的10%多一點，這是幾十年來的最低比例，而美國、德國的投資則快速增長。\\r\\n根據台灣官方數據顯示，台灣今年前11月批准的外國直接投資年增87%、達到257億美元（約新台幣7888億元），而對中國的投資下降了34%、至29億美元（約新台幣890億元），僅佔總數的12% 。\\r\\n日媒報導，台灣在中國的支出，自2010年的84%高峰開始下滑，來到2022年則大幅下降、佔投資總額34%，而今年的投資總額，預計將不到1999年以來最低點28%的一半。\\r\\n台灣大幅減少對中國投資，將投資重心移轉至美國與德國。累計今年前11月，台灣對美國直接投資成長了9倍、達到96億美元（約新台幣2948億元）、佔總投資的37%。台灣對美國的投資，預計約為中國的3倍，這是自1993年開始，台灣允許對中國直接投資以來，美國首次位居榜首。\\r\\n在德國投資部分，因台積電（2330）在德國設立新的晶片工廠帶動，德國投資成長了25倍、達到39億美元（約新台幣1197億元）。光是對德國的投資，也一舉超越投資中國的數字。\\r\\n台灣經濟研究院孫明德表示，只要中美關係持續緊張，台灣對中國投資將會持續下降。\\r\\n\\r\\n    一手掌握經濟脈動   \n",
       "2     OpenAI執行長奧特曼在11月17日遭董事會解僱，隨後在短短5天後回歸，OpenAI內部宮鬥，引起全球關注。（美聯社資料照）\\r\\n奧特曼從開除到回歸 只花5天\\r\\n歐祥義／核稿編輯\\r\\n〔財經頻道／綜合報導〕OpenAI執行長奧特曼（Sam Altman）在11月17日遭董事會解僱，掀起軒然大波，大批員工威脅要離職，投資人也考慮提告董事會，讓OpenAI態度急轉彎，在開除奧特曼不到1天後，重新商議讓奧特曼回鍋，在「宮鬥」爆發5天後，OpenAI宣佈，奧特曼將回歸重新擔任執行長，結束這場鬧劇。\\r\\n事實上根據外媒透露，在被要求下台之前，奧特曼和公司董事會的爭執已持續1年多，隨著OpenAI推出的聊天機器人ChatGPT受到全球矚目，雙方的緊張局勢持續惡化。奧特曼一度採取行動，希望趕走一名董事會成員，因為他認為，這名董事會成員與他人一同撰寫的研究論文實質是在批評公司。\\r\\n但針對無預警開除奧特曼，並對解雇的原因OpenAI一直含糊其辭，董事會在一篇部落格文章中提到，奧特曼下台是因為他在與董事會的溝通中「始終不坦承」。一名知情人士表示，董事會成員對奧特曼愈來愈不信任，以至於他們認為有必要對奧特曼告知的所有事情進行反覆查核。另外也有董事會成員認為，奧特曼過度專注於擴張，而董事會則希望能在成長與AI安全之間取得平衡。\\r\\n根據3名參與視訊會議的人士透露，奧特曼被趕下台後，OpenAI高層在視訊通話中與其他董事會成員對峙。高層團隊向董事會表明，不好好說明，這一切結果將很難被接受，知情人士表示，在大約40分鐘的視訊會議中，高層持續向董事會施壓，要求提供奧特曼不夠坦誠的具體例子，都被董事會以法律因素回絕了。\\r\\nOpenAI執行長奧特曼（右）曾傳出與合作夥伴特斯拉執行長馬斯克（左）多次意見不合，最終導致馬斯克出走。（法新社、美聯社資料照，本報合成）\\r\\nOpenAI董事會一直不合\\r\\nOpenAI董事會問題並不是第一天的事，最早可以追溯到這家新創剛成立時。2015年奧特曼和特斯拉執行長馬斯克（Elon Musk）一同成立一個非營利組織來打造人工智慧，他們原計劃從私人捐款者那裡募集資金，但在短短幾年內，他們就意識到這項計劃所需的資金，遠遠超過獨立募款可以籌得的資金。\\r\\n由於高層之間意見嚴重不合，奧特曼和馬斯克之間關係出現裂痕，這也導致馬斯克在2018年離開這家公司。幾年後，OpenAI內部再度出現不合，在安全問題上發生衝突後，一群關鍵的研究人員離開，成立對手企業Anthropic。\\r\\n馬斯克離開後，他們成立了一家營利的子公司，並開始從投資人身上籌得數十億美元，其中也包括科技巨頭微軟（Microsoft）注資的10億美元（約新台幣315億元）。該公司在官網上表示，子公司由非營利董事會控制，每名董事要負責任的對象是「人類」，而不是OpenAI的投資人。\\r\\n首席科學家蘇茨克維是投票通過將奧特曼開除的董事會成員之一，引起風波後，蘇茨克維的態度也急轉彎，加入員工連署支持奧特曼回鍋。（法新社資料照）\\r\\n董事會成員 對AI發展認知相左\\r\\n據報，奧特曼被趕下台背後的因素，包括他與董事成員、喬治城安全與新興技術中心策略總監托納（Helen Toner）的衝突。在被解僱的幾週前，奧特曼會見了托納，雙方討論了托納為喬治城安全與新興技術中心撰寫的一篇論文。\\r\\n奧特曼抱怨，這篇研究論文似乎批評了OpenAI為了維持AI技術做出的努力，同時讚揚了競爭對手Anthropic。奧特曼認為，在聯邦貿易委員會（FTC）正在進行調查的期間，發表這篇論文恐對公司帶來不利影響。\\r\\n托納則稱，這是一篇學術論文，只是分析大眾在試圖了解國家、企業發展AI時面臨的挑戰。奧特曼卻不這麼認為，並稱，雙方對於這一切造成的損失並沒有達成共識，董事會成員的任何批評都會產生很大的影響。\\r\\n奧特曼和首席科學家蘇茨克維（Ilya Sutskever）在內的高層討論了是否該將托納從董事會中除名。但由於蘇茨克維對AI的擔憂，最終他和另外2名董事安捷羅（Adam D'Angelo）、麥考莉（Tasha McCauley）選擇與托納站在同一陣線，4人決定開除奧特曼。\\r\\nOpenAI董事會因針對人工智慧的安全隱憂出現分歧，引爆了這次的「宮鬥」。（法新社資料照，本報合成）\\r\\n微軟出手 擺平爭議\\r\\n今年OpenAI共3名董事離任，空缺也加劇了董事會問題。2名知情人士表示，董事會在董事成員接班問題上出現了分歧，在審查4名候選人後，董事未能決定要由誰遞補，這種僵局加劇了執行長奧特曼、總裁布羅克曼（Greg Brockman）和其他董事會成員之間的摩擦。\\r\\n奧特曼被開除後，布羅克曼也被告知自己將被從董事會除名，布羅克曼隨後也辭職以示抗議。OpenAI最大投資人微軟（Microsoft）隨後也向2人遞出橄欖枝，微軟執行長納德拉（Satya Nadella）在11月19日表示，歡迎奧特曼、布羅克曼帶上相關團隊成員加入微軟，領導高階AI研究團隊。\\r\\n董事會的行動也引發旗下員工不滿，表明對董事會失去信任，OpenAI員工發起聯署，要求恢復奧特曼的職位，否則將面臨旗下員工大規模離職。根據1名參與連署的人士表示，OpenAI約770名員工，已經有至少743人在幾個小時內簽署了協議，多達96％的員工參與連署。\\r\\n也有多名高層加入員工連署，其中最受矚目的就是蘇茨克維，在參與投票罷免奧特曼後，蘇茨克維在11月20日上午坦言，對於自己曾參與董事會的行動深感遺憾，並在X發文表示，將盡一切努力讓公司重新團結。\\r\\n連署信中表示，員工無法再為那些缺乏能力、判斷力以及對員工毫不關心的人工作，或與他們一起工作。並警告，除非董事會總辭，並恢復奧特曼和布羅克曼的職務，否則他們將跟上兩人的腳步，投靠微軟。信中微軟也向這些員工保證，如果他們選擇加入，將在微軟旗下新的子公司找到工作。\\r\\n在奧特曼被開除後，微軟執行長納德拉一度表示，歡迎奧特曼、布羅克曼帶上相關團隊成員加入微軟。（法新社資料照）\\r\\n美國前財長桑默斯 董事會新成員\\r\\n11月22日，OpenAI發佈聲明稱，已達成協議讓先前被開除的奧特曼重返公司擔任執行長，並將組成新的董事會。布羅克曼也跟著奧特曼回到公司，但未來不再擔任董事會成員。\\r\\n新的董事會將由Salesforce前共同執行長泰勒（Bret Taylor）接任主席，另外有美國前財政部長桑默斯（Larry Summers）和現任董事、Quora創辦人安捷羅擔任董事會成員。\\r\\n奧特曼也同步發文證實這一消息，奧特曼表示，自己很愛OpenAI，過去這幾天的選擇都是為了團隊，當自己決定加入微軟時，是因為這明顯是最好的一條路。而在新任董事會和微軟執行長納德拉的支持下，自己相當期待重返OpenAI，同時也將鞏固公司與微軟的合作關係。 \\r\\n    一手掌握經濟脈動   \n",
       "3                                                                                                                                                                                                                                                                                                                                                                                                                                                                                                                                                                                                                                                                                                                                                                                                                                                                                                                                                                                                                                                                                                                                                                                                                                                                                                                                                                                                                                                                                                                                                                                                                                                                                                                                                                                                                                      疫後首次全球運動盛事巴黎奧運將於7月舉行，運動產業能否迎向春天，備受關注。（美聯社）記者楊雅民／專題報導揮別疫情期間訂單滿手榮景，2023年運動產業普遍籠罩在高庫存陰霾中，自行車產業陷入中低階自行車庫存塞滿倉庫風暴，製鞋業、高爾夫球、紡織業同樣面臨品牌客戶庫存消化壓力，但隨著疫後首次全球運動盛事奧運即將於2024年7月在法國巴黎舉行，運動產業能否極泰來，迎向春天，備受關注。運動代工廠營運 等待奧運激勵永豐投顧表示，2024年巴黎奧運為COVID-19疫情後第一次舉辦奧運，國際運動品牌大廠競逐奧運商機，台灣運動鞋和成衣代工大廠營運添動能，認為疫情全面解封後，對運動品牌廠及代工廠營運激勵效果值得期待。觀察2004年、2008年與2012年奧運當年，運動品牌Nike營收成長率來到高水位，顯見奧運對運動相關產業有刺激買氣效應。對代工廠而言，Nike運動鞋代工大廠豐泰（9910）在2008年、2011年與2015年奧運前1年或當年營收成長率也來到高點，唯一例外的是2020年東京奧運受到COVID-19疫情衝擊延至2021年7月舉辦，對運動品牌廠及代工廠激勵有限。宏遠投顧表示，運動產業隨全球景氣波動，觀察2009年金融海嘯時，品牌市場規模呈現衰退，金融海嘯後2~3年，品牌商市場規模皆反彈成長。2020年爆發COVID-19疫情，品牌商2021年積極追單，但到了2022年下半年下單轉趨保守，2023年各品牌商積極去化庫存，減少代工廠採購量，造成部份代工廠驚傳大規模裁員。由於Adidas預估2024年鞋類的成長性將優於服飾，加上7月巴黎奧運即將到來，製鞋業可望迎來奧運商機。巨大設越南新廠 提早卡位自行車產業2024年關鍵字為「產能調整」，將等待黎明到來，巨大（9921）為佈局歐盟自行車市場，已宣佈將投入1,500萬美元於越南設立新廠，為2024或2025年自行車產業復甦提早準備。至於高爾夫球產業，觀察2022~2023年喜愛打高爾夫球的人口較2019年大幅成長，且品牌商庫存已大幅下降，隨著產業庫存調整告一段落、且打球人數逐年增加，預期高爾夫球產業2024年商機可期。高球產業 2024年商機可期國泰證期顧問研究部對2024年紡織和製鞋業也持正向看法，觀察成衣代工業從去年（2023年）第四季便受惠奧運新品拉貨，估計營收季增幅度將達3成，未來三季獲利年增翻倍。鞋類代工部份，運動鞋代工廠估計2023年第四季營運持平至小增，今（2024）年上半年受惠於奧運訂單挹注，營運將回到雙位數成長；戶外鞋代工廠春夏款接單將較秋冬款好轉，呈現雙位數增幅，營運最差期間已過。 \\r\\n    一手掌握經濟脈動   \n",
       "4                                                                                                                                                                                                                                                                                                                                                                                                                                                                                                                                                                                                                                                                                                                                                                                                                                                                                                                                                                                                                                                                                                                                                                                                                                                                                                                                                                                                                                                                                                                                                                                                                                                                                                                                            奧運經費龐大支出，並非每個國家都能輕鬆因應。2016年巴西奧運舉辨，讓巴西經濟大衰退提早發生。（法新社）■魏錫賓東京奧運因肺炎疫情延後至2021年舉行，2024年的巴黎奧運成為恢復生活常態的首次奧運。這一盛事，不僅為全球運動迷所期待，對主辦國領導人與企業領導階層來說，也是利用聚光燈突出招牌的機會；不過，奧運的準備、商機與影響，對國家與企業呈現不同的態樣。奧運主辦國的經濟表現，經常有前熱後冷的現象；因為要大興土木，所以先熱，但其後財政受到影響，以及已提早建設，所以經濟後冷。在爭取主辦權之前，至少就要有新台幣上億元的顧問、遊說及其他行政費用等準備支出，取得主辦權後，花費更為驚人，不僅要加強交通等一般基礎建設，也要備齊標準、足夠的運動場館、觀光客與運動員住宿等特定基礎建設。未來多年的建設經費，可能就集中在奧運前幾年用掉。美國智庫外交關係協會（Council on Foreign Relations）估計，2004年希臘雅典以後的奧運成本均超過百億美元，2008年北京奧運花了500多億美元、原訂2020舉辦的東京奧運，估計費用約350億美元。巴西奧運未受益 經濟大衰退提早發生如今的奧運不管是在那一個城市舉辦，都非一時一地的投入能夠順利完成，只能以舉國之力、用數年時間、花費鉅資才能達成目標。就像確定將於2032年主辦奧運的澳洲布里斯本，在熱烈慶祝後，必須研擬、實施、落實各項建設計畫，即使該次奧運是在8年後才將舉辦。準備奧運的龐大支出，並非每個國家都能輕鬆因應。主辦2016年奧運的巴西，曾因擴大公共建設迎來一時的榮景，但經濟大衰退在賽事開始前就提早發生，更引起民眾的大規模抗議；而扣除受全球金融海嘯波及的2009年外，巴西在2000年以後經濟最差的三年集中在2014至2016年，其中2年衰退達3.3%以上。企業與國家的奧運經驗不同。國家的基礎建設要在比賽前完成，但一般消費則不相同，包括門票、交通及食宿費用等的實際消費，主要都發生在奧運比賽期間，而隨著運動賽事的宣傳廣告效果逐漸提高，常會帶動體育用品的購買慾，使得相關廠商的營收有更大機會跟著飆漲；因此，不同產業所感知的奧運商機並不一致。在主辦國，基礎建設相關廠商在奧運前就能獲利，但運動器材、服裝、運動鞋，以及觀看轉播的電視相關零組件等廠商的營收，可能會在不同階段受益，只要處在供應鏈的關鍵位置上，可以樂觀期待將有一波的商機；然而，營收即使增加，從過去的波動可以發現，股價常在基本面發酵前就已反映，漲勢能否持續更長的時間，還是要看更長期的營運表現。奧運商機先反應 未來股價要看長期營運表現企業的營收能否跟著奧運水漲船高，這幾個月將能陸續看出，但歷史經驗顯示，大環境更是影響股價趨勢的關鍵。大盤重挫時，能夠脫穎而出的產業非常有限，而在股市欣欣向榮之時，即使業績未跟上，股價也有往上的機會。 \\r\\n    一手掌握經濟脈動   \n",
       "...                                                                                                                                                                                                                                                                                                                                                                                                                                                                                                                                                                                                                                                                                                                                                                                                                                                                                                                                                                                                                                                                                                                                                                                                                                                                                                                                                                                                                                                                                                                                                                                                                                                                                                                                                                                                                                                                                                                                                                                                                                                                                                                                                                                                                                                                                                                                                                                                                                                                                                                                                                                                                                                                                                                                                                                                                                                                                                                                                                               ...   \n",
       "2097                                                                                                                                                                                                                                                                                                                                                                                                                                                                                                                                                                                                                                                                                                                                                                                                                                                                                                                                                                                                                                                                                                                                                                                                                                                                                                                                                                                                                                                                                                                                                                                                                                                                                                                                                                                                                                                                                                                                                                                                                                                                                                                                                                                                                                                                                                                                                                                                                    印度砸大錢追加輝達AI晶片訂單。（路透社）\\r\\n陳麗珠／核稿編輯\\r\\n〔財經頻道／綜合報導〕輝達（NIVIDIA）無法賣給中國先進AI晶片，印度補缺口。印度資料中心運營商Yotta目前計劃在2025年部署3.2萬個輝達H100 和 H200晶片，宣布再砸10億美元（約台幣311億）追加輝達AI晶片訂單。\\r\\n綜合《路透》及《The Register》報導，Yotta 去年就向輝達訂購約 1.6萬個 H100，預計今年7月交貨。執行長兼聯合創辦人古普塔（Sunil Gupta）近日透露最新訂單概況，他稱，新訂單包括近1.6萬個輝達的 H100 和 GH200，將在 2025 年 3 月前到貨。\\r\\n印度AI訂單對輝達至關重要，因為美國禁令，輝達晶片難以賣給中國和部分國家。因此，輝達在去年9月與印度信實工業（Reliance Industries）和塔塔集團（Tata Group），建立 AI 合作夥伴關係，共同開發雲端基礎設施和語言模型，以及生成式 AI 應用。\\r\\nYotta也在新興科技城古吉拉特國際金融科技城中建立 AI 資料中心，預定3月啟用。Yotta預期到 2030 年，印度 AI 應用將達 140 億美元。\\r\\n\\r\\n    一手掌握經濟脈動   \n",
       "2098                                                                                                                                                                                                                                                                                                                                                                                                                                                                                                                                                                                                                                                                                                                                                                                                                                                                                                                                                                                                                                                                                                                                                                                                                                                                                                                                                                                                                                                                                                                                                                                                                                                                                                                                                                                                                                                                                                                                                                                                                                                                                                                                                                                                                                                                                                                                                                                                                                                               民調顯示，英國民眾認為脫歐導致生活變更差。（路透）\\r\\n〔編譯林家宇／綜合報導〕英國在2016年通過脫歐公投後，於2020年1月31日正式退出歐盟。脫歐將近4年，據民調機構「Opinium」針對2132名英國選民所進行的調查顯示，約5成受訪者認為脫歐對英國整體情況造成負面影響，覺得有益者約2成。\\r\\n尤其在經濟方面，超過5成民眾認為脫歐使英國經濟惡化，僅逾1成認為轉好。35％表示脫歐不利個人財務狀況，只有10％覺得有利。此外，7%稱脫歐使英國維持低物價，卻有高達63%認為脫歐是助長通膨和生活開銷危機的因素。\\r\\n率領「投票脫歐」運動的前英國首相強森和城鎮升級與房屋社區大臣戈夫，當時主張脫歐可讓國民保健署（NHS）每週挹注3.5億歐元、提升經濟與貿易以及讓政府奪回邊界控制權。然而，調查中不到1成的人認為脫歐對NHS帶來幫助，逾4成否定；1成認為脫歐有益英國的移民管理能力，逾5成認為無益。\\r\\nOpinium公共事務與政策負責人克勞奇（James Crouch）指出，結果顯示脫歐處理不當和對英國生活多個層面造成負面效果的觀感似乎正在蔓延。\\r\\n\\r\\n    一手掌握經濟脈動   \n",
       "2099                                                                                                                                                                                                                                                                                                                                                                                                                                                                                                                                                                                                                                                                                                                                                                                                                                                                                                                                                                                                                                                                                                                                                                                                                                                                                                                                                                                                                                                                                                                                                                                                                                                                                                                                                                                                                                                                                                                                                                                                                                                            高市府綠能小組「6年1.25GW計畫（2021~2026）」繳出好成績。（記者王榮祥翻攝）\\r\\n〔記者王榮祥／高雄報導〕高雄市政府跨局處成立「綠電推動專案小組」、推動「6年1.25GW計畫（2021~2026）」，至2023年累計設置容量共920.44MW，超越原定目標備案容量650MW達1.4倍，備案件數更為全國第一。\\r\\n高市府說明，2050淨零碳排已成全球共識，配合國家淨零政策及能源轉型目標，市府除秉持永續共存的理念，除提出減碳數量，更應具備碳權概念，其中太陽能光電更是不可或缺的重要技術。\\r\\n在應對能源轉型和永續發展方面啟動跨局處「綠電推動專案小組」推動「6年1.25GW計畫（2021~2026）」，經統計至2023年累計設置案件4614件，累計設置容量共920.44MW，已超越原定目標備案容量650MW達1.4倍，備案件數更為全國第一。\\r\\n市府指出，不僅設置容量表現卓越，在推動綠能的政策表現上更有質化提升，引入智慧雲端技術，建置「高雄市綠能管理資訊整合系統平台」，以「直覺化」、「視覺化」的方式，公開透明呈現本市創能、節能及儲能等能源資訊，平台包含當日電力資訊、累計用電量、村里的用電量等，有效整合轄內能源數據，並加以應用分析。\\r\\n「漁電共生」也將是高雄推動綠電發展一大核心動能，自2021年2月漁電共生專案辦公室成立以來，已達到設定的210MW申設量目標，持續朝向2025年250MW申設量目標前進。\\r\\n市府表示，推動城市轉型政策及成果不只提升高雄市民生活品質，今年也受到「2023天下城市治理卓越獎」及「國家永續發展獎」的肯定，「高雄創能光電-打造淨零城市」不僅呼應2050淨零轉型的目標，也對應聯合國SDGs永續發展中9項指標，所規劃的6年內建置1.25GW光電目標，屆時年發電量可將達15億6,250萬度、年減碳量約82.7萬噸。\\r\\n市府強調，未來將持續追蹤各項工作辦理進度與成效，並加速提升高雄太陽光電設置量與綠能發展，綠色能源將是吸引國際企業進駐，為產業發展及永續城市到最適平衡。 \\r\\n    一手掌握經濟脈動   \n",
       "2100                                                                                                                                                                                                                                                                                                                                                                                                                                                                                                                                                                                                                                                                                                                                                                                                                                                                                                                                                                                                                                                                                                                                                                                                                                                                                                                                                                                                                                                                                                                                                                                                                                                                                                                                                                                                                                                                                                                                                                                                                                                                                                                                                                                                                                                                                                                                                                                                                                                                                                                        受惠於不動產評價回升和台股實現資本利得，新光金12月虧為盈。（資料照）\\r\\n〔記者吳欣恬／台北報導〕受惠於不動產評價回升和台股實現資本利得，新光金控12月轉虧為盈，單月稅後盈餘32.33億元，累計全年稅後虧損73.01億，每股稅後虧損0.48元。子公司新光銀行和元富證券的全年獲利也雙雙創下次高，僅次於去年。\\r\\n新光金旗下子公司12月都為正向獲利，新光人壽稅後盈餘32.33億元，累計稅後虧損170.79億元；新光銀行稅後盈餘17.43億元，累計稅後盈餘67.91億元；元富證券稅後盈餘2.81億元，累計盈餘24.96億元；新光金保代和新光投信12月也分別有600萬和400萬的稅後盈餘。\\r\\n新光金控表示，新壽12月綜合損益有84億元，部分反應到未實現評價。獲利主要來自疫後商業活動熱絡，商辦租金和出租率提升，使得不動產評價回升近61億元；股票則逢高作調節，主要是台股，部分實現資本利得，貢獻10多億元；債券則主要反應在未實現評價的回升。 \\r\\n    一手掌握經濟脈動   \n",
       "2101                                                                                                                                                                                                                                                                                                                                                                                                                                                                                                                                                                                                                                                                                                                                                                                                                                                                                                                                                                                                                                                                                                                                                                                                                                                                                                                                                                                                                                                                                                                                                                                                                                                                                                                                                                                                                                                                                                                                                                                                                                                                                                                                                                                    街口支付與日本支付龍頭PayPay合作，開放日本上百萬個使用通路，用戶可於店家「正掃」支付。（業者提供）\\r\\n〔記者徐子苓／台北報導〕哈日族有福了！街口支付去年10月起支援日本跨境支付，交易規模持續創下新高，瞄準今年農曆春節假期、賞櫻季旅日人潮，街口支付今年第一季再祭出旅日支付優惠活動，包括日本消費筆筆最高享20% 、春節期間隨機返幣100%回饋。\\r\\n街口支付去年10月宣布與日本支付龍頭PayPay合作，開放日本上百萬個使用通路，為民眾省去現金找零麻煩、部分商家不支援信用卡消費的痛點。根據內部統計，旅日支付各項交易不斷攀升，日本47個行政區都有街口用戶足跡，其中交易額最高前5名地區依序為：東京都、京都府、大阪府、北海道、沖繩縣。\\r\\n街口發現，楓葉季期間擁有人氣賞楓勝地的區域交易排名也明顯飆升，包括長野縣（輕井澤）、山梨縣（富士山河口湖）、神奈川縣、兵庫縣等。街口支付表示，隨著農曆春節假期、各地賞櫻季將至，台灣民眾在日本全國各地使用街口付款的需求更是成長可期。\\r\\n預期今年赴日旅遊熱潮不減，街口支付宣布，第一季將延續旅日支付筆筆享 5%街口幣回饋、免1.5%海外交易手續費，並祭出街利存帳戶付款再加碼回饋 10.5%，加上街利存帳戶付款3%或其他銀行帳戶付款1%回饋無上限，等於民眾於日本當地使用街口支付消費可享最高8折優惠。\\r\\n此外，用戶於2月5日至2月17日農曆春節期間，在日本使用街口支付完成付款，還有機會享整筆訂單隨機返幣100%回饋。\\r\\n行動支付有分「正掃」與「反掃」，街口支付提醒，「正掃」方式必須在設有PayPay收款QR Code的適用店家，才可進行掃碼付款；而「反掃」方式僅支援有街口支付Logo的合作商家，可出示街口支付App付款碼供店家掃描。 \\r\\n    一手掌握經濟脈動   \n",
       "\n",
       "     sub_media  \n",
       "0           ec  \n",
       "1           ec  \n",
       "2           ec  \n",
       "3           ec  \n",
       "4           ec  \n",
       "...        ...  \n",
       "2097        ec  \n",
       "2098        ec  \n",
       "2099        ec  \n",
       "2100        ec  \n",
       "2101        ec  \n",
       "\n",
       "[2102 rows x 7 columns]"
      ],
      "text/html": [
       "<div>\n",
       "<style scoped>\n",
       "    .dataframe tbody tr th:only-of-type {\n",
       "        vertical-align: middle;\n",
       "    }\n",
       "\n",
       "    .dataframe tbody tr th {\n",
       "        vertical-align: top;\n",
       "    }\n",
       "\n",
       "    .dataframe thead th {\n",
       "        text-align: right;\n",
       "    }\n",
       "</style>\n",
       "<table border=\"1\" class=\"dataframe\">\n",
       "  <thead>\n",
       "    <tr style=\"text-align: right;\">\n",
       "      <th></th>\n",
       "      <th>system_id</th>\n",
       "      <th>dataSource</th>\n",
       "      <th>artUrl</th>\n",
       "      <th>artDate</th>\n",
       "      <th>artTitle</th>\n",
       "      <th>artContent</th>\n",
       "      <th>sub_media</th>\n",
       "    </tr>\n",
       "  </thead>\n",
       "  <tbody>\n",
       "    <tr>\n",
       "      <th>0</th>\n",
       "      <td>1</td>\n",
       "      <td>ltn</td>\n",
       "      <td>https://ec.ltn.com.tw/article/paper/1623579</td>\n",
       "      <td>2023-12-30 21:30:00</td>\n",
       "      <td>習專制強推共富 人才錢財「潤」出國</td>\n",
       "      <td>中國房地產市場低迷，經濟復甦未如預期。圖為北京市東城區一處街邊相連著的3家店面都空置未使用。（中央社資料照）編譯盧永山／特譯中國成長前景黯淡，美中關係持續緊繃，在此背景下，中國國家主席習近平不僅縮緊對政經社會的控制，又推動「共同富裕」政策，導致中國經濟慘兮兮，越來越多中國的人才與富人帶著大量資金「潤」（run）出國。「我不想生活在恐懼之下」36歲百度AI專家出走英國曾在百度與阿里巴巴的人工智慧（AI）部門工作，現年三十六歲的陳亮時（音譯）表示：「我離開中國是因為我不喜歡那裡的社會和政治環境，我不會再回去，除非中國變成一個民主國家、除非中國人民不再生活在恐懼之下。」由於中國全國人大在二○一八年通過修憲，取消國家主席任期制，讓習近平可以無限期留任掌權，陳亮時被迫在二○二○年初做出離開中國的決定，現在他在Meta（臉書母公司）的倫敦分公司任職。紐時：今年前10月中國15.5兆資金外流除了人才流失，資金也源源不斷撤離中國。儘管要從中國合法把資金轉移到海外受到嚴格的限制，但根據《紐約時報》報導，二○二三年每月有五百億美元資金透過各種方式流出中國，主要來自中國富有家庭與民營企業，這意味二○二三年前十個月，中國可能有高達五千億美元（十五．五兆台幣）的資金外流。新加坡成為中國外流富人和資金的主要落腳處。新加坡之所以能吸引中國富人與資金，主要因為距離很近、低稅率和大量說華語的人口。根據新加坡金管局統計，在中國富人推動下，新加坡家族辦公室的數量從二○二○年的四百家，增至二○二二年底的一一○○家，二○二三年仍持續增加。國際房地產顧問公司「居外IQI」表示，預計未來二年將有超過七十萬名中國富人離開中國；包括澳洲、加拿大、英國、日本、甚至杜拜，都是中國富人熱門的移民置產地點。 \\r\\n    一手掌握經濟脈動</td>\n",
       "      <td>ec</td>\n",
       "    </tr>\n",
       "    <tr>\n",
       "      <th>1</th>\n",
       "      <td>2</td>\n",
       "      <td>ltn</td>\n",
       "      <td>https://ec.ltn.com.tw/article/breakingnews/4535539</td>\n",
       "      <td>2023-12-29 04:42:30</td>\n",
       "      <td>日經 : 台灣投資轉向 中國佔比降至幾十年來最低</td>\n",
       "      <td>台積電德國廠在今年8月宣布落腳德勒斯登，台積電對於德國廠將規劃34億美元的投資額。（路透）\\r\\n高佳菁／核稿編輯\\r\\n〔財經頻道／綜合報導〕以往中國是台商大舉投資的地方，隨著中國經濟疲軟和地緣政治緊張，國際品牌廠陸續撤出中國，台商也跟隨供應鏈腳步轉出。《日經亞洲》報導，2023年，台灣對中國的投資驟降至台灣對外直接投資總額的10%多一點，這是幾十年來的最低比例，而美國、德國的投資則快速增長。\\r\\n根據台灣官方數據顯示，台灣今年前11月批准的外國直接投資年增87%、達到257億美元（約新台幣7888億元），而對中國的投資下降了34%、至29億美元（約新台幣890億元），僅佔總數的12% 。\\r\\n日媒報導，台灣在中國的支出，自2010年的84%高峰開始下滑，來到2022年則大幅下降、佔投資總額34%，而今年的投資總額，預計將不到1999年以來最低點28%的一半。\\r\\n台灣大幅減少對中國投資，將投資重心移轉至美國與德國。累計今年前11月，台灣對美國直接投資成長了9倍、達到96億美元（約新台幣2948億元）、佔總投資的37%。台灣對美國的投資，預計約為中國的3倍，這是自1993年開始，台灣允許對中國直接投資以來，美國首次位居榜首。\\r\\n在德國投資部分，因台積電（2330）在德國設立新的晶片工廠帶動，德國投資成長了25倍、達到39億美元（約新台幣1197億元）。光是對德國的投資，也一舉超越投資中國的數字。\\r\\n台灣經濟研究院孫明德表示，只要中美關係持續緊張，台灣對中國投資將會持續下降。\\r\\n\\r\\n    一手掌握經濟脈動</td>\n",
       "      <td>ec</td>\n",
       "    </tr>\n",
       "    <tr>\n",
       "      <th>2</th>\n",
       "      <td>3</td>\n",
       "      <td>ltn</td>\n",
       "      <td>https://ec.ltn.com.tw/article/breakingnews/4509660</td>\n",
       "      <td>2023-12-31 23:37:24</td>\n",
       "      <td>LTN經濟通》AI始料未及？宮鬥劇峰回路轉</td>\n",
       "      <td>OpenAI執行長奧特曼在11月17日遭董事會解僱，隨後在短短5天後回歸，OpenAI內部宮鬥，引起全球關注。（美聯社資料照）\\r\\n奧特曼從開除到回歸 只花5天\\r\\n歐祥義／核稿編輯\\r\\n〔財經頻道／綜合報導〕OpenAI執行長奧特曼（Sam Altman）在11月17日遭董事會解僱，掀起軒然大波，大批員工威脅要離職，投資人也考慮提告董事會，讓OpenAI態度急轉彎，在開除奧特曼不到1天後，重新商議讓奧特曼回鍋，在「宮鬥」爆發5天後，OpenAI宣佈，奧特曼將回歸重新擔任執行長，結束這場鬧劇。\\r\\n事實上根據外媒透露，在被要求下台之前，奧特曼和公司董事會的爭執已持續1年多，隨著OpenAI推出的聊天機器人ChatGPT受到全球矚目，雙方的緊張局勢持續惡化。奧特曼一度採取行動，希望趕走一名董事會成員，因為他認為，這名董事會成員與他人一同撰寫的研究論文實質是在批評公司。\\r\\n但針對無預警開除奧特曼，並對解雇的原因OpenAI一直含糊其辭，董事會在一篇部落格文章中提到，奧特曼下台是因為他在與董事會的溝通中「始終不坦承」。一名知情人士表示，董事會成員對奧特曼愈來愈不信任，以至於他們認為有必要對奧特曼告知的所有事情進行反覆查核。另外也有董事會成員認為，奧特曼過度專注於擴張，而董事會則希望能在成長與AI安全之間取得平衡。\\r\\n根據3名參與視訊會議的人士透露，奧特曼被趕下台後，OpenAI高層在視訊通話中與其他董事會成員對峙。高層團隊向董事會表明，不好好說明，這一切結果將很難被接受，知情人士表示，在大約40分鐘的視訊會議中，高層持續向董事會施壓，要求提供奧特曼不夠坦誠的具體例子，都被董事會以法律因素回絕了。\\r\\nOpenAI執行長奧特曼（右）曾傳出與合作夥伴特斯拉執行長馬斯克（左）多次意見不合，最終導致馬斯克出走。（法新社、美聯社資料照，本報合成）\\r\\nOpenAI董事會一直不合\\r\\nOpenAI董事會問題並不是第一天的事，最早可以追溯到這家新創剛成立時。2015年奧特曼和特斯拉執行長馬斯克（Elon Musk）一同成立一個非營利組織來打造人工智慧，他們原計劃從私人捐款者那裡募集資金，但在短短幾年內，他們就意識到這項計劃所需的資金，遠遠超過獨立募款可以籌得的資金。\\r\\n由於高層之間意見嚴重不合，奧特曼和馬斯克之間關係出現裂痕，這也導致馬斯克在2018年離開這家公司。幾年後，OpenAI內部再度出現不合，在安全問題上發生衝突後，一群關鍵的研究人員離開，成立對手企業Anthropic。\\r\\n馬斯克離開後，他們成立了一家營利的子公司，並開始從投資人身上籌得數十億美元，其中也包括科技巨頭微軟（Microsoft）注資的10億美元（約新台幣315億元）。該公司在官網上表示，子公司由非營利董事會控制，每名董事要負責任的對象是「人類」，而不是OpenAI的投資人。\\r\\n首席科學家蘇茨克維是投票通過將奧特曼開除的董事會成員之一，引起風波後，蘇茨克維的態度也急轉彎，加入員工連署支持奧特曼回鍋。（法新社資料照）\\r\\n董事會成員 對AI發展認知相左\\r\\n據報，奧特曼被趕下台背後的因素，包括他與董事成員、喬治城安全與新興技術中心策略總監托納（Helen Toner）的衝突。在被解僱的幾週前，奧特曼會見了托納，雙方討論了托納為喬治城安全與新興技術中心撰寫的一篇論文。\\r\\n奧特曼抱怨，這篇研究論文似乎批評了OpenAI為了維持AI技術做出的努力，同時讚揚了競爭對手Anthropic。奧特曼認為，在聯邦貿易委員會（FTC）正在進行調查的期間，發表這篇論文恐對公司帶來不利影響。\\r\\n托納則稱，這是一篇學術論文，只是分析大眾在試圖了解國家、企業發展AI時面臨的挑戰。奧特曼卻不這麼認為，並稱，雙方對於這一切造成的損失並沒有達成共識，董事會成員的任何批評都會產生很大的影響。\\r\\n奧特曼和首席科學家蘇茨克維（Ilya Sutskever）在內的高層討論了是否該將托納從董事會中除名。但由於蘇茨克維對AI的擔憂，最終他和另外2名董事安捷羅（Adam D'Angelo）、麥考莉（Tasha McCauley）選擇與托納站在同一陣線，4人決定開除奧特曼。\\r\\nOpenAI董事會因針對人工智慧的安全隱憂出現分歧，引爆了這次的「宮鬥」。（法新社資料照，本報合成）\\r\\n微軟出手 擺平爭議\\r\\n今年OpenAI共3名董事離任，空缺也加劇了董事會問題。2名知情人士表示，董事會在董事成員接班問題上出現了分歧，在審查4名候選人後，董事未能決定要由誰遞補，這種僵局加劇了執行長奧特曼、總裁布羅克曼（Greg Brockman）和其他董事會成員之間的摩擦。\\r\\n奧特曼被開除後，布羅克曼也被告知自己將被從董事會除名，布羅克曼隨後也辭職以示抗議。OpenAI最大投資人微軟（Microsoft）隨後也向2人遞出橄欖枝，微軟執行長納德拉（Satya Nadella）在11月19日表示，歡迎奧特曼、布羅克曼帶上相關團隊成員加入微軟，領導高階AI研究團隊。\\r\\n董事會的行動也引發旗下員工不滿，表明對董事會失去信任，OpenAI員工發起聯署，要求恢復奧特曼的職位，否則將面臨旗下員工大規模離職。根據1名參與連署的人士表示，OpenAI約770名員工，已經有至少743人在幾個小時內簽署了協議，多達96％的員工參與連署。\\r\\n也有多名高層加入員工連署，其中最受矚目的就是蘇茨克維，在參與投票罷免奧特曼後，蘇茨克維在11月20日上午坦言，對於自己曾參與董事會的行動深感遺憾，並在X發文表示，將盡一切努力讓公司重新團結。\\r\\n連署信中表示，員工無法再為那些缺乏能力、判斷力以及對員工毫不關心的人工作，或與他們一起工作。並警告，除非董事會總辭，並恢復奧特曼和布羅克曼的職務，否則他們將跟上兩人的腳步，投靠微軟。信中微軟也向這些員工保證，如果他們選擇加入，將在微軟旗下新的子公司找到工作。\\r\\n在奧特曼被開除後，微軟執行長納德拉一度表示，歡迎奧特曼、布羅克曼帶上相關團隊成員加入微軟。（法新社資料照）\\r\\n美國前財長桑默斯 董事會新成員\\r\\n11月22日，OpenAI發佈聲明稱，已達成協議讓先前被開除的奧特曼重返公司擔任執行長，並將組成新的董事會。布羅克曼也跟著奧特曼回到公司，但未來不再擔任董事會成員。\\r\\n新的董事會將由Salesforce前共同執行長泰勒（Bret Taylor）接任主席，另外有美國前財政部長桑默斯（Larry Summers）和現任董事、Quora創辦人安捷羅擔任董事會成員。\\r\\n奧特曼也同步發文證實這一消息，奧特曼表示，自己很愛OpenAI，過去這幾天的選擇都是為了團隊，當自己決定加入微軟時，是因為這明顯是最好的一條路。而在新任董事會和微軟執行長納德拉的支持下，自己相當期待重返OpenAI，同時也將鞏固公司與微軟的合作關係。 \\r\\n    一手掌握經濟脈動</td>\n",
       "      <td>ec</td>\n",
       "    </tr>\n",
       "    <tr>\n",
       "      <th>3</th>\n",
       "      <td>4</td>\n",
       "      <td>ltn</td>\n",
       "      <td>https://ec.ltn.com.tw/article/paper/1623641</td>\n",
       "      <td>2023-12-31 21:30:00</td>\n",
       "      <td>〈財經週報-運動產業〉巴黎奧運助攻 運動產業迎向春天？</td>\n",
       "      <td>疫後首次全球運動盛事巴黎奧運將於7月舉行，運動產業能否迎向春天，備受關注。（美聯社）記者楊雅民／專題報導揮別疫情期間訂單滿手榮景，2023年運動產業普遍籠罩在高庫存陰霾中，自行車產業陷入中低階自行車庫存塞滿倉庫風暴，製鞋業、高爾夫球、紡織業同樣面臨品牌客戶庫存消化壓力，但隨著疫後首次全球運動盛事奧運即將於2024年7月在法國巴黎舉行，運動產業能否極泰來，迎向春天，備受關注。運動代工廠營運 等待奧運激勵永豐投顧表示，2024年巴黎奧運為COVID-19疫情後第一次舉辦奧運，國際運動品牌大廠競逐奧運商機，台灣運動鞋和成衣代工大廠營運添動能，認為疫情全面解封後，對運動品牌廠及代工廠營運激勵效果值得期待。觀察2004年、2008年與2012年奧運當年，運動品牌Nike營收成長率來到高水位，顯見奧運對運動相關產業有刺激買氣效應。對代工廠而言，Nike運動鞋代工大廠豐泰（9910）在2008年、2011年與2015年奧運前1年或當年營收成長率也來到高點，唯一例外的是2020年東京奧運受到COVID-19疫情衝擊延至2021年7月舉辦，對運動品牌廠及代工廠激勵有限。宏遠投顧表示，運動產業隨全球景氣波動，觀察2009年金融海嘯時，品牌市場規模呈現衰退，金融海嘯後2~3年，品牌商市場規模皆反彈成長。2020年爆發COVID-19疫情，品牌商2021年積極追單，但到了2022年下半年下單轉趨保守，2023年各品牌商積極去化庫存，減少代工廠採購量，造成部份代工廠驚傳大規模裁員。由於Adidas預估2024年鞋類的成長性將優於服飾，加上7月巴黎奧運即將到來，製鞋業可望迎來奧運商機。巨大設越南新廠 提早卡位自行車產業2024年關鍵字為「產能調整」，將等待黎明到來，巨大（9921）為佈局歐盟自行車市場，已宣佈將投入1,500萬美元於越南設立新廠，為2024或2025年自行車產業復甦提早準備。至於高爾夫球產業，觀察2022~2023年喜愛打高爾夫球的人口較2019年大幅成長，且品牌商庫存已大幅下降，隨著產業庫存調整告一段落、且打球人數逐年增加，預期高爾夫球產業2024年商機可期。高球產業 2024年商機可期國泰證期顧問研究部對2024年紡織和製鞋業也持正向看法，觀察成衣代工業從去年（2023年）第四季便受惠奧運新品拉貨，估計營收季增幅度將達3成，未來三季獲利年增翻倍。鞋類代工部份，運動鞋代工廠估計2023年第四季營運持平至小增，今（2024）年上半年受惠於奧運訂單挹注，營運將回到雙位數成長；戶外鞋代工廠春夏款接單將較秋冬款好轉，呈現雙位數增幅，營運最差期間已過。 \\r\\n    一手掌握經濟脈動</td>\n",
       "      <td>ec</td>\n",
       "    </tr>\n",
       "    <tr>\n",
       "      <th>4</th>\n",
       "      <td>5</td>\n",
       "      <td>ltn</td>\n",
       "      <td>https://ec.ltn.com.tw/article/paper/1623642</td>\n",
       "      <td>2023-12-31 21:30:00</td>\n",
       "      <td>〈財經週報-時事求是〉奧運與股價</td>\n",
       "      <td>奧運經費龐大支出，並非每個國家都能輕鬆因應。2016年巴西奧運舉辨，讓巴西經濟大衰退提早發生。（法新社）■魏錫賓東京奧運因肺炎疫情延後至2021年舉行，2024年的巴黎奧運成為恢復生活常態的首次奧運。這一盛事，不僅為全球運動迷所期待，對主辦國領導人與企業領導階層來說，也是利用聚光燈突出招牌的機會；不過，奧運的準備、商機與影響，對國家與企業呈現不同的態樣。奧運主辦國的經濟表現，經常有前熱後冷的現象；因為要大興土木，所以先熱，但其後財政受到影響，以及已提早建設，所以經濟後冷。在爭取主辦權之前，至少就要有新台幣上億元的顧問、遊說及其他行政費用等準備支出，取得主辦權後，花費更為驚人，不僅要加強交通等一般基礎建設，也要備齊標準、足夠的運動場館、觀光客與運動員住宿等特定基礎建設。未來多年的建設經費，可能就集中在奧運前幾年用掉。美國智庫外交關係協會（Council on Foreign Relations）估計，2004年希臘雅典以後的奧運成本均超過百億美元，2008年北京奧運花了500多億美元、原訂2020舉辦的東京奧運，估計費用約350億美元。巴西奧運未受益 經濟大衰退提早發生如今的奧運不管是在那一個城市舉辦，都非一時一地的投入能夠順利完成，只能以舉國之力、用數年時間、花費鉅資才能達成目標。就像確定將於2032年主辦奧運的澳洲布里斯本，在熱烈慶祝後，必須研擬、實施、落實各項建設計畫，即使該次奧運是在8年後才將舉辦。準備奧運的龐大支出，並非每個國家都能輕鬆因應。主辦2016年奧運的巴西，曾因擴大公共建設迎來一時的榮景，但經濟大衰退在賽事開始前就提早發生，更引起民眾的大規模抗議；而扣除受全球金融海嘯波及的2009年外，巴西在2000年以後經濟最差的三年集中在2014至2016年，其中2年衰退達3.3%以上。企業與國家的奧運經驗不同。國家的基礎建設要在比賽前完成，但一般消費則不相同，包括門票、交通及食宿費用等的實際消費，主要都發生在奧運比賽期間，而隨著運動賽事的宣傳廣告效果逐漸提高，常會帶動體育用品的購買慾，使得相關廠商的營收有更大機會跟著飆漲；因此，不同產業所感知的奧運商機並不一致。在主辦國，基礎建設相關廠商在奧運前就能獲利，但運動器材、服裝、運動鞋，以及觀看轉播的電視相關零組件等廠商的營收，可能會在不同階段受益，只要處在供應鏈的關鍵位置上，可以樂觀期待將有一波的商機；然而，營收即使增加，從過去的波動可以發現，股價常在基本面發酵前就已反映，漲勢能否持續更長的時間，還是要看更長期的營運表現。奧運商機先反應 未來股價要看長期營運表現企業的營收能否跟著奧運水漲船高，這幾個月將能陸續看出，但歷史經驗顯示，大環境更是影響股價趨勢的關鍵。大盤重挫時，能夠脫穎而出的產業非常有限，而在股市欣欣向榮之時，即使業績未跟上，股價也有往上的機會。 \\r\\n    一手掌握經濟脈動</td>\n",
       "      <td>ec</td>\n",
       "    </tr>\n",
       "    <tr>\n",
       "      <th>...</th>\n",
       "      <td>...</td>\n",
       "      <td>...</td>\n",
       "      <td>...</td>\n",
       "      <td>...</td>\n",
       "      <td>...</td>\n",
       "      <td>...</td>\n",
       "      <td>...</td>\n",
       "    </tr>\n",
       "    <tr>\n",
       "      <th>2097</th>\n",
       "      <td>2098</td>\n",
       "      <td>ltn</td>\n",
       "      <td>https://ec.ltn.com.tw/article/breakingnews/4551164</td>\n",
       "      <td>2024-01-13 09:25:55</td>\n",
       "      <td>中國沒份！印度砸311億追加輝達AI晶片訂單</td>\n",
       "      <td>印度砸大錢追加輝達AI晶片訂單。（路透社）\\r\\n陳麗珠／核稿編輯\\r\\n〔財經頻道／綜合報導〕輝達（NIVIDIA）無法賣給中國先進AI晶片，印度補缺口。印度資料中心運營商Yotta目前計劃在2025年部署3.2萬個輝達H100 和 H200晶片，宣布再砸10億美元（約台幣311億）追加輝達AI晶片訂單。\\r\\n綜合《路透》及《The Register》報導，Yotta 去年就向輝達訂購約 1.6萬個 H100，預計今年7月交貨。執行長兼聯合創辦人古普塔（Sunil Gupta）近日透露最新訂單概況，他稱，新訂單包括近1.6萬個輝達的 H100 和 GH200，將在 2025 年 3 月前到貨。\\r\\n印度AI訂單對輝達至關重要，因為美國禁令，輝達晶片難以賣給中國和部分國家。因此，輝達在去年9月與印度信實工業（Reliance Industries）和塔塔集團（Tata Group），建立 AI 合作夥伴關係，共同開發雲端基礎設施和語言模型，以及生成式 AI 應用。\\r\\nYotta也在新興科技城古吉拉特國際金融科技城中建立 AI 資料中心，預定3月啟用。Yotta預期到 2030 年，印度 AI 應用將達 140 億美元。\\r\\n\\r\\n    一手掌握經濟脈動</td>\n",
       "      <td>ec</td>\n",
       "    </tr>\n",
       "    <tr>\n",
       "      <th>2098</th>\n",
       "      <td>2099</td>\n",
       "      <td>ltn</td>\n",
       "      <td>https://ec.ltn.com.tw/article/breakingnews/4537919</td>\n",
       "      <td>2024-01-01 00:10:56</td>\n",
       "      <td>脫歐近4年 民調指多數英國人認為生活變更差</td>\n",
       "      <td>民調顯示，英國民眾認為脫歐導致生活變更差。（路透）\\r\\n〔編譯林家宇／綜合報導〕英國在2016年通過脫歐公投後，於2020年1月31日正式退出歐盟。脫歐將近4年，據民調機構「Opinium」針對2132名英國選民所進行的調查顯示，約5成受訪者認為脫歐對英國整體情況造成負面影響，覺得有益者約2成。\\r\\n尤其在經濟方面，超過5成民眾認為脫歐使英國經濟惡化，僅逾1成認為轉好。35％表示脫歐不利個人財務狀況，只有10％覺得有利。此外，7%稱脫歐使英國維持低物價，卻有高達63%認為脫歐是助長通膨和生活開銷危機的因素。\\r\\n率領「投票脫歐」運動的前英國首相強森和城鎮升級與房屋社區大臣戈夫，當時主張脫歐可讓國民保健署（NHS）每週挹注3.5億歐元、提升經濟與貿易以及讓政府奪回邊界控制權。然而，調查中不到1成的人認為脫歐對NHS帶來幫助，逾4成否定；1成認為脫歐有益英國的移民管理能力，逾5成認為無益。\\r\\nOpinium公共事務與政策負責人克勞奇（James Crouch）指出，結果顯示脫歐處理不當和對英國生活多個層面造成負面效果的觀感似乎正在蔓延。\\r\\n\\r\\n    一手掌握經濟脈動</td>\n",
       "      <td>ec</td>\n",
       "    </tr>\n",
       "    <tr>\n",
       "      <th>2099</th>\n",
       "      <td>2100</td>\n",
       "      <td>ltn</td>\n",
       "      <td>https://ec.ltn.com.tw/article/breakingnews/4549831</td>\n",
       "      <td>2024-01-12 03:28:58</td>\n",
       "      <td>高市綠電累計920.44MW 綠電小組超標達1.4倍</td>\n",
       "      <td>高市府綠能小組「6年1.25GW計畫（2021~2026）」繳出好成績。（記者王榮祥翻攝）\\r\\n〔記者王榮祥／高雄報導〕高雄市政府跨局處成立「綠電推動專案小組」、推動「6年1.25GW計畫（2021~2026）」，至2023年累計設置容量共920.44MW，超越原定目標備案容量650MW達1.4倍，備案件數更為全國第一。\\r\\n高市府說明，2050淨零碳排已成全球共識，配合國家淨零政策及能源轉型目標，市府除秉持永續共存的理念，除提出減碳數量，更應具備碳權概念，其中太陽能光電更是不可或缺的重要技術。\\r\\n在應對能源轉型和永續發展方面啟動跨局處「綠電推動專案小組」推動「6年1.25GW計畫（2021~2026）」，經統計至2023年累計設置案件4614件，累計設置容量共920.44MW，已超越原定目標備案容量650MW達1.4倍，備案件數更為全國第一。\\r\\n市府指出，不僅設置容量表現卓越，在推動綠能的政策表現上更有質化提升，引入智慧雲端技術，建置「高雄市綠能管理資訊整合系統平台」，以「直覺化」、「視覺化」的方式，公開透明呈現本市創能、節能及儲能等能源資訊，平台包含當日電力資訊、累計用電量、村里的用電量等，有效整合轄內能源數據，並加以應用分析。\\r\\n「漁電共生」也將是高雄推動綠電發展一大核心動能，自2021年2月漁電共生專案辦公室成立以來，已達到設定的210MW申設量目標，持續朝向2025年250MW申設量目標前進。\\r\\n市府表示，推動城市轉型政策及成果不只提升高雄市民生活品質，今年也受到「2023天下城市治理卓越獎」及「國家永續發展獎」的肯定，「高雄創能光電-打造淨零城市」不僅呼應2050淨零轉型的目標，也對應聯合國SDGs永續發展中9項指標，所規劃的6年內建置1.25GW光電目標，屆時年發電量可將達15億6,250萬度、年減碳量約82.7萬噸。\\r\\n市府強調，未來將持續追蹤各項工作辦理進度與成效，並加速提升高雄太陽光電設置量與綠能發展，綠色能源將是吸引國際企業進駐，為產業發展及永續城市到最適平衡。 \\r\\n    一手掌握經濟脈動</td>\n",
       "      <td>ec</td>\n",
       "    </tr>\n",
       "    <tr>\n",
       "      <th>2100</th>\n",
       "      <td>2101</td>\n",
       "      <td>ltn</td>\n",
       "      <td>https://ec.ltn.com.tw/article/breakingnews/4547187</td>\n",
       "      <td>2024-01-09 13:38:05</td>\n",
       "      <td>不動產和台股獲利挹注 新光金12月轉虧為盈</td>\n",
       "      <td>受惠於不動產評價回升和台股實現資本利得，新光金12月虧為盈。（資料照）\\r\\n〔記者吳欣恬／台北報導〕受惠於不動產評價回升和台股實現資本利得，新光金控12月轉虧為盈，單月稅後盈餘32.33億元，累計全年稅後虧損73.01億，每股稅後虧損0.48元。子公司新光銀行和元富證券的全年獲利也雙雙創下次高，僅次於去年。\\r\\n新光金旗下子公司12月都為正向獲利，新光人壽稅後盈餘32.33億元，累計稅後虧損170.79億元；新光銀行稅後盈餘17.43億元，累計稅後盈餘67.91億元；元富證券稅後盈餘2.81億元，累計盈餘24.96億元；新光金保代和新光投信12月也分別有600萬和400萬的稅後盈餘。\\r\\n新光金控表示，新壽12月綜合損益有84億元，部分反應到未實現評價。獲利主要來自疫後商業活動熱絡，商辦租金和出租率提升，使得不動產評價回升近61億元；股票則逢高作調節，主要是台股，部分實現資本利得，貢獻10多億元；債券則主要反應在未實現評價的回升。 \\r\\n    一手掌握經濟脈動</td>\n",
       "      <td>ec</td>\n",
       "    </tr>\n",
       "    <tr>\n",
       "      <th>2101</th>\n",
       "      <td>2102</td>\n",
       "      <td>ltn</td>\n",
       "      <td>https://ec.ltn.com.tw/article/breakingnews/4547714</td>\n",
       "      <td>2024-01-10 05:49:31</td>\n",
       "      <td>街口日本跨境支付夯 加碼首季旅日消費最高20％回饋</td>\n",
       "      <td>街口支付與日本支付龍頭PayPay合作，開放日本上百萬個使用通路，用戶可於店家「正掃」支付。（業者提供）\\r\\n〔記者徐子苓／台北報導〕哈日族有福了！街口支付去年10月起支援日本跨境支付，交易規模持續創下新高，瞄準今年農曆春節假期、賞櫻季旅日人潮，街口支付今年第一季再祭出旅日支付優惠活動，包括日本消費筆筆最高享20% 、春節期間隨機返幣100%回饋。\\r\\n街口支付去年10月宣布與日本支付龍頭PayPay合作，開放日本上百萬個使用通路，為民眾省去現金找零麻煩、部分商家不支援信用卡消費的痛點。根據內部統計，旅日支付各項交易不斷攀升，日本47個行政區都有街口用戶足跡，其中交易額最高前5名地區依序為：東京都、京都府、大阪府、北海道、沖繩縣。\\r\\n街口發現，楓葉季期間擁有人氣賞楓勝地的區域交易排名也明顯飆升，包括長野縣（輕井澤）、山梨縣（富士山河口湖）、神奈川縣、兵庫縣等。街口支付表示，隨著農曆春節假期、各地賞櫻季將至，台灣民眾在日本全國各地使用街口付款的需求更是成長可期。\\r\\n預期今年赴日旅遊熱潮不減，街口支付宣布，第一季將延續旅日支付筆筆享 5%街口幣回饋、免1.5%海外交易手續費，並祭出街利存帳戶付款再加碼回饋 10.5%，加上街利存帳戶付款3%或其他銀行帳戶付款1%回饋無上限，等於民眾於日本當地使用街口支付消費可享最高8折優惠。\\r\\n此外，用戶於2月5日至2月17日農曆春節期間，在日本使用街口支付完成付款，還有機會享整筆訂單隨機返幣100%回饋。\\r\\n行動支付有分「正掃」與「反掃」，街口支付提醒，「正掃」方式必須在設有PayPay收款QR Code的適用店家，才可進行掃碼付款；而「反掃」方式僅支援有街口支付Logo的合作商家，可出示街口支付App付款碼供店家掃描。 \\r\\n    一手掌握經濟脈動</td>\n",
       "      <td>ec</td>\n",
       "    </tr>\n",
       "  </tbody>\n",
       "</table>\n",
       "<p>2102 rows × 7 columns</p>\n",
       "</div>"
      ]
     },
     "execution_count": 201,
     "metadata": {},
     "output_type": "execute_result"
    }
   ],
   "execution_count": 201
  },
  {
   "cell_type": "code",
   "metadata": {
    "ExecuteTime": {
     "end_time": "2024-04-06T14:46:18.135927Z",
     "start_time": "2024-04-06T14:46:05.526255Z"
    }
   },
   "source": [
    "# 移除網址格式\n",
    "ct[\"artContent\"].str.replace(\"(http|https)://.*\", \"\", regex=True)\n",
    "ct[\"artTitle\"].str.replace(\"(http|https)://.*\", \"\", regex=True)\n",
    "ct[\"artContent\"].str.replace(\"[^\\u4e00-\\u9fa5]+\", \"\", regex=True)\n",
    "ct[\"artTitle\"].str.replace(\"[^\\u4e00-\\u9fa5]+\", \"\", regex=True)\n",
    "\n",
    "# 留下 content\n",
    "ct[\"content\"] = ct[\"artTitle\"] + ct[\"artContent\"]\n",
    "ct = ct.loc[:,[\"content\", \"artUrl\", \"artCatagory\"]]  # 文章內容 文章連結\n",
    "\n",
    "# 設定斷詞 function\n",
    "def getToken(row):\n",
    "    seg_list = jieba.cut(row, cut_all=False)\n",
    "    seg_list = [\n",
    "        w for w in seg_list if w not in stopWords and len(w) > 1\n",
    "    ]  # 篩選掉停用字與字元數大於1的詞彙\n",
    "    return seg_list\n",
    "\n",
    "ct[\"words\"] = ct[\"content\"].apply(getToken).map(\" \".join)\n",
    "ct.head()"
   ],
   "outputs": [
    {
     "data": {
      "text/plain": [
       "                                                                                                                                                                                                                                                                                                                                                                                                                                                                                                                                                                                                                                                                                                                                                                                                                                                                                                                                                                                                                                                                                                                                                                                                                                                                                                                                                                                                                                                                                                                                                                                                                                                                                                                                                                                                                                                                                                                                                                                                                                                                                                                                                                                                                                                                                                                                                                                                                                                                                                                                                                                                                                                                                                                                                                                                                                                                                                                                                                                                content  \\\n",
       "0                                                                                                                                                                                                                                                                                                                                                                                                                                                                                                                                                                                                                                                                                                                                                                                                                                                                                                                                                                                                                                                                                                                                                                                                                                                                                                                                                                                                                                                                                                                                                                                                                                                                                                                                                                                                                                                                                                                                                                                                                                                                                                                                                                                                   習專制強推共富 人才錢財「潤」出國中國房地產市場低迷，經濟復甦未如預期。圖為北京市東城區一處街邊相連著的3家店面都空置未使用。（中央社資料照）編譯盧永山／特譯中國成長前景黯淡，美中關係持續緊繃，在此背景下，中國國家主席習近平不僅縮緊對政經社會的控制，又推動「共同富裕」政策，導致中國經濟慘兮兮，越來越多中國的人才與富人帶著大量資金「潤」（run）出國。「我不想生活在恐懼之下」36歲百度AI專家出走英國曾在百度與阿里巴巴的人工智慧（AI）部門工作，現年三十六歲的陳亮時（音譯）表示：「我離開中國是因為我不喜歡那裡的社會和政治環境，我不會再回去，除非中國變成一個民主國家、除非中國人民不再生活在恐懼之下。」由於中國全國人大在二○一八年通過修憲，取消國家主席任期制，讓習近平可以無限期留任掌權，陳亮時被迫在二○二○年初做出離開中國的決定，現在他在Meta（臉書母公司）的倫敦分公司任職。紐時：今年前10月中國15.5兆資金外流除了人才流失，資金也源源不斷撤離中國。儘管要從中國合法把資金轉移到海外受到嚴格的限制，但根據《紐約時報》報導，二○二三年每月有五百億美元資金透過各種方式流出中國，主要來自中國富有家庭與民營企業，這意味二○二三年前十個月，中國可能有高達五千億美元（十五．五兆台幣）的資金外流。新加坡成為中國外流富人和資金的主要落腳處。新加坡之所以能吸引中國富人與資金，主要因為距離很近、低稅率和大量說華語的人口。根據新加坡金管局統計，在中國富人推動下，新加坡家族辦公室的數量從二○二○年的四百家，增至二○二二年底的一一○○家，二○二三年仍持續增加。國際房地產顧問公司「居外IQI」表示，預計未來二年將有超過七十萬名中國富人離開中國；包括澳洲、加拿大、英國、日本、甚至杜拜，都是中國富人熱門的移民置產地點。 \\r\\n    一手掌握經濟脈動   \n",
       "1                                                                                                                                                                                                                                                                                                                                                                                                                                                                                                                                                                                                                                                                                                                                                                                                                                                                                                                                                                                                                                                                                                                                                                                                                                                                                                                                                                                                                                                                                                                                                                                                                                                                                                                                                                                                                                                                                                                                                                                                                                                                                                                                                                                                                                                                           日經 : 台灣投資轉向 中國佔比降至幾十年來最低台積電德國廠在今年8月宣布落腳德勒斯登，台積電對於德國廠將規劃34億美元的投資額。（路透）\\r\\n高佳菁／核稿編輯\\r\\n〔財經頻道／綜合報導〕以往中國是台商大舉投資的地方，隨著中國經濟疲軟和地緣政治緊張，國際品牌廠陸續撤出中國，台商也跟隨供應鏈腳步轉出。《日經亞洲》報導，2023年，台灣對中國的投資驟降至台灣對外直接投資總額的10%多一點，這是幾十年來的最低比例，而美國、德國的投資則快速增長。\\r\\n根據台灣官方數據顯示，台灣今年前11月批准的外國直接投資年增87%、達到257億美元（約新台幣7888億元），而對中國的投資下降了34%、至29億美元（約新台幣890億元），僅佔總數的12% 。\\r\\n日媒報導，台灣在中國的支出，自2010年的84%高峰開始下滑，來到2022年則大幅下降、佔投資總額34%，而今年的投資總額，預計將不到1999年以來最低點28%的一半。\\r\\n台灣大幅減少對中國投資，將投資重心移轉至美國與德國。累計今年前11月，台灣對美國直接投資成長了9倍、達到96億美元（約新台幣2948億元）、佔總投資的37%。台灣對美國的投資，預計約為中國的3倍，這是自1993年開始，台灣允許對中國直接投資以來，美國首次位居榜首。\\r\\n在德國投資部分，因台積電（2330）在德國設立新的晶片工廠帶動，德國投資成長了25倍、達到39億美元（約新台幣1197億元）。光是對德國的投資，也一舉超越投資中國的數字。\\r\\n台灣經濟研究院孫明德表示，只要中美關係持續緊張，台灣對中國投資將會持續下降。\\r\\n\\r\\n    一手掌握經濟脈動   \n",
       "2  LTN經濟通》AI始料未及？宮鬥劇峰回路轉OpenAI執行長奧特曼在11月17日遭董事會解僱，隨後在短短5天後回歸，OpenAI內部宮鬥，引起全球關注。（美聯社資料照）\\r\\n奧特曼從開除到回歸 只花5天\\r\\n歐祥義／核稿編輯\\r\\n〔財經頻道／綜合報導〕OpenAI執行長奧特曼（Sam Altman）在11月17日遭董事會解僱，掀起軒然大波，大批員工威脅要離職，投資人也考慮提告董事會，讓OpenAI態度急轉彎，在開除奧特曼不到1天後，重新商議讓奧特曼回鍋，在「宮鬥」爆發5天後，OpenAI宣佈，奧特曼將回歸重新擔任執行長，結束這場鬧劇。\\r\\n事實上根據外媒透露，在被要求下台之前，奧特曼和公司董事會的爭執已持續1年多，隨著OpenAI推出的聊天機器人ChatGPT受到全球矚目，雙方的緊張局勢持續惡化。奧特曼一度採取行動，希望趕走一名董事會成員，因為他認為，這名董事會成員與他人一同撰寫的研究論文實質是在批評公司。\\r\\n但針對無預警開除奧特曼，並對解雇的原因OpenAI一直含糊其辭，董事會在一篇部落格文章中提到，奧特曼下台是因為他在與董事會的溝通中「始終不坦承」。一名知情人士表示，董事會成員對奧特曼愈來愈不信任，以至於他們認為有必要對奧特曼告知的所有事情進行反覆查核。另外也有董事會成員認為，奧特曼過度專注於擴張，而董事會則希望能在成長與AI安全之間取得平衡。\\r\\n根據3名參與視訊會議的人士透露，奧特曼被趕下台後，OpenAI高層在視訊通話中與其他董事會成員對峙。高層團隊向董事會表明，不好好說明，這一切結果將很難被接受，知情人士表示，在大約40分鐘的視訊會議中，高層持續向董事會施壓，要求提供奧特曼不夠坦誠的具體例子，都被董事會以法律因素回絕了。\\r\\nOpenAI執行長奧特曼（右）曾傳出與合作夥伴特斯拉執行長馬斯克（左）多次意見不合，最終導致馬斯克出走。（法新社、美聯社資料照，本報合成）\\r\\nOpenAI董事會一直不合\\r\\nOpenAI董事會問題並不是第一天的事，最早可以追溯到這家新創剛成立時。2015年奧特曼和特斯拉執行長馬斯克（Elon Musk）一同成立一個非營利組織來打造人工智慧，他們原計劃從私人捐款者那裡募集資金，但在短短幾年內，他們就意識到這項計劃所需的資金，遠遠超過獨立募款可以籌得的資金。\\r\\n由於高層之間意見嚴重不合，奧特曼和馬斯克之間關係出現裂痕，這也導致馬斯克在2018年離開這家公司。幾年後，OpenAI內部再度出現不合，在安全問題上發生衝突後，一群關鍵的研究人員離開，成立對手企業Anthropic。\\r\\n馬斯克離開後，他們成立了一家營利的子公司，並開始從投資人身上籌得數十億美元，其中也包括科技巨頭微軟（Microsoft）注資的10億美元（約新台幣315億元）。該公司在官網上表示，子公司由非營利董事會控制，每名董事要負責任的對象是「人類」，而不是OpenAI的投資人。\\r\\n首席科學家蘇茨克維是投票通過將奧特曼開除的董事會成員之一，引起風波後，蘇茨克維的態度也急轉彎，加入員工連署支持奧特曼回鍋。（法新社資料照）\\r\\n董事會成員 對AI發展認知相左\\r\\n據報，奧特曼被趕下台背後的因素，包括他與董事成員、喬治城安全與新興技術中心策略總監托納（Helen Toner）的衝突。在被解僱的幾週前，奧特曼會見了托納，雙方討論了托納為喬治城安全與新興技術中心撰寫的一篇論文。\\r\\n奧特曼抱怨，這篇研究論文似乎批評了OpenAI為了維持AI技術做出的努力，同時讚揚了競爭對手Anthropic。奧特曼認為，在聯邦貿易委員會（FTC）正在進行調查的期間，發表這篇論文恐對公司帶來不利影響。\\r\\n托納則稱，這是一篇學術論文，只是分析大眾在試圖了解國家、企業發展AI時面臨的挑戰。奧特曼卻不這麼認為，並稱，雙方對於這一切造成的損失並沒有達成共識，董事會成員的任何批評都會產生很大的影響。\\r\\n奧特曼和首席科學家蘇茨克維（Ilya Sutskever）在內的高層討論了是否該將托納從董事會中除名。但由於蘇茨克維對AI的擔憂，最終他和另外2名董事安捷羅（Adam D'Angelo）、麥考莉（Tasha McCauley）選擇與托納站在同一陣線，4人決定開除奧特曼。\\r\\nOpenAI董事會因針對人工智慧的安全隱憂出現分歧，引爆了這次的「宮鬥」。（法新社資料照，本報合成）\\r\\n微軟出手 擺平爭議\\r\\n今年OpenAI共3名董事離任，空缺也加劇了董事會問題。2名知情人士表示，董事會在董事成員接班問題上出現了分歧，在審查4名候選人後，董事未能決定要由誰遞補，這種僵局加劇了執行長奧特曼、總裁布羅克曼（Greg Brockman）和其他董事會成員之間的摩擦。\\r\\n奧特曼被開除後，布羅克曼也被告知自己將被從董事會除名，布羅克曼隨後也辭職以示抗議。OpenAI最大投資人微軟（Microsoft）隨後也向2人遞出橄欖枝，微軟執行長納德拉（Satya Nadella）在11月19日表示，歡迎奧特曼、布羅克曼帶上相關團隊成員加入微軟，領導高階AI研究團隊。\\r\\n董事會的行動也引發旗下員工不滿，表明對董事會失去信任，OpenAI員工發起聯署，要求恢復奧特曼的職位，否則將面臨旗下員工大規模離職。根據1名參與連署的人士表示，OpenAI約770名員工，已經有至少743人在幾個小時內簽署了協議，多達96％的員工參與連署。\\r\\n也有多名高層加入員工連署，其中最受矚目的就是蘇茨克維，在參與投票罷免奧特曼後，蘇茨克維在11月20日上午坦言，對於自己曾參與董事會的行動深感遺憾，並在X發文表示，將盡一切努力讓公司重新團結。\\r\\n連署信中表示，員工無法再為那些缺乏能力、判斷力以及對員工毫不關心的人工作，或與他們一起工作。並警告，除非董事會總辭，並恢復奧特曼和布羅克曼的職務，否則他們將跟上兩人的腳步，投靠微軟。信中微軟也向這些員工保證，如果他們選擇加入，將在微軟旗下新的子公司找到工作。\\r\\n在奧特曼被開除後，微軟執行長納德拉一度表示，歡迎奧特曼、布羅克曼帶上相關團隊成員加入微軟。（法新社資料照）\\r\\n美國前財長桑默斯 董事會新成員\\r\\n11月22日，OpenAI發佈聲明稱，已達成協議讓先前被開除的奧特曼重返公司擔任執行長，並將組成新的董事會。布羅克曼也跟著奧特曼回到公司，但未來不再擔任董事會成員。\\r\\n新的董事會將由Salesforce前共同執行長泰勒（Bret Taylor）接任主席，另外有美國前財政部長桑默斯（Larry Summers）和現任董事、Quora創辦人安捷羅擔任董事會成員。\\r\\n奧特曼也同步發文證實這一消息，奧特曼表示，自己很愛OpenAI，過去這幾天的選擇都是為了團隊，當自己決定加入微軟時，是因為這明顯是最好的一條路。而在新任董事會和微軟執行長納德拉的支持下，自己相當期待重返OpenAI，同時也將鞏固公司與微軟的合作關係。 \\r\\n    一手掌握經濟脈動   \n",
       "3                                                                                                                                                                                                                                                                                                                                                                                                                                                                                                                                                                                                                                                                                                                                                                                                                                                                                                                                                                                                                                                                                                                                                                                                                                                                                                                                                                                                                                                                                                                                                                                                                                                                                                                                                                                                                             〈財經週報-運動產業〉巴黎奧運助攻 運動產業迎向春天？疫後首次全球運動盛事巴黎奧運將於7月舉行，運動產業能否迎向春天，備受關注。（美聯社）記者楊雅民／專題報導揮別疫情期間訂單滿手榮景，2023年運動產業普遍籠罩在高庫存陰霾中，自行車產業陷入中低階自行車庫存塞滿倉庫風暴，製鞋業、高爾夫球、紡織業同樣面臨品牌客戶庫存消化壓力，但隨著疫後首次全球運動盛事奧運即將於2024年7月在法國巴黎舉行，運動產業能否極泰來，迎向春天，備受關注。運動代工廠營運 等待奧運激勵永豐投顧表示，2024年巴黎奧運為COVID-19疫情後第一次舉辦奧運，國際運動品牌大廠競逐奧運商機，台灣運動鞋和成衣代工大廠營運添動能，認為疫情全面解封後，對運動品牌廠及代工廠營運激勵效果值得期待。觀察2004年、2008年與2012年奧運當年，運動品牌Nike營收成長率來到高水位，顯見奧運對運動相關產業有刺激買氣效應。對代工廠而言，Nike運動鞋代工大廠豐泰（9910）在2008年、2011年與2015年奧運前1年或當年營收成長率也來到高點，唯一例外的是2020年東京奧運受到COVID-19疫情衝擊延至2021年7月舉辦，對運動品牌廠及代工廠激勵有限。宏遠投顧表示，運動產業隨全球景氣波動，觀察2009年金融海嘯時，品牌市場規模呈現衰退，金融海嘯後2~3年，品牌商市場規模皆反彈成長。2020年爆發COVID-19疫情，品牌商2021年積極追單，但到了2022年下半年下單轉趨保守，2023年各品牌商積極去化庫存，減少代工廠採購量，造成部份代工廠驚傳大規模裁員。由於Adidas預估2024年鞋類的成長性將優於服飾，加上7月巴黎奧運即將到來，製鞋業可望迎來奧運商機。巨大設越南新廠 提早卡位自行車產業2024年關鍵字為「產能調整」，將等待黎明到來，巨大（9921）為佈局歐盟自行車市場，已宣佈將投入1,500萬美元於越南設立新廠，為2024或2025年自行車產業復甦提早準備。至於高爾夫球產業，觀察2022~2023年喜愛打高爾夫球的人口較2019年大幅成長，且品牌商庫存已大幅下降，隨著產業庫存調整告一段落、且打球人數逐年增加，預期高爾夫球產業2024年商機可期。高球產業 2024年商機可期國泰證期顧問研究部對2024年紡織和製鞋業也持正向看法，觀察成衣代工業從去年（2023年）第四季便受惠奧運新品拉貨，估計營收季增幅度將達3成，未來三季獲利年增翻倍。鞋類代工部份，運動鞋代工廠估計2023年第四季營運持平至小增，今（2024）年上半年受惠於奧運訂單挹注，營運將回到雙位數成長；戶外鞋代工廠春夏款接單將較秋冬款好轉，呈現雙位數增幅，營運最差期間已過。 \\r\\n    一手掌握經濟脈動   \n",
       "4                                                                                                                                                                                                                                                                                                                                                                                                                                                                                                                                                                                                                                                                                                                                                                                                                                                                                                                                                                                                                                                                                                                                                                                                                                                                                                                                                                                                                                                                                                                                                                                                                                                                                                                                              〈財經週報-時事求是〉奧運與股價奧運經費龐大支出，並非每個國家都能輕鬆因應。2016年巴西奧運舉辨，讓巴西經濟大衰退提早發生。（法新社）■魏錫賓東京奧運因肺炎疫情延後至2021年舉行，2024年的巴黎奧運成為恢復生活常態的首次奧運。這一盛事，不僅為全球運動迷所期待，對主辦國領導人與企業領導階層來說，也是利用聚光燈突出招牌的機會；不過，奧運的準備、商機與影響，對國家與企業呈現不同的態樣。奧運主辦國的經濟表現，經常有前熱後冷的現象；因為要大興土木，所以先熱，但其後財政受到影響，以及已提早建設，所以經濟後冷。在爭取主辦權之前，至少就要有新台幣上億元的顧問、遊說及其他行政費用等準備支出，取得主辦權後，花費更為驚人，不僅要加強交通等一般基礎建設，也要備齊標準、足夠的運動場館、觀光客與運動員住宿等特定基礎建設。未來多年的建設經費，可能就集中在奧運前幾年用掉。美國智庫外交關係協會（Council on Foreign Relations）估計，2004年希臘雅典以後的奧運成本均超過百億美元，2008年北京奧運花了500多億美元、原訂2020舉辦的東京奧運，估計費用約350億美元。巴西奧運未受益 經濟大衰退提早發生如今的奧運不管是在那一個城市舉辦，都非一時一地的投入能夠順利完成，只能以舉國之力、用數年時間、花費鉅資才能達成目標。就像確定將於2032年主辦奧運的澳洲布里斯本，在熱烈慶祝後，必須研擬、實施、落實各項建設計畫，即使該次奧運是在8年後才將舉辦。準備奧運的龐大支出，並非每個國家都能輕鬆因應。主辦2016年奧運的巴西，曾因擴大公共建設迎來一時的榮景，但經濟大衰退在賽事開始前就提早發生，更引起民眾的大規模抗議；而扣除受全球金融海嘯波及的2009年外，巴西在2000年以後經濟最差的三年集中在2014至2016年，其中2年衰退達3.3%以上。企業與國家的奧運經驗不同。國家的基礎建設要在比賽前完成，但一般消費則不相同，包括門票、交通及食宿費用等的實際消費，主要都發生在奧運比賽期間，而隨著運動賽事的宣傳廣告效果逐漸提高，常會帶動體育用品的購買慾，使得相關廠商的營收有更大機會跟著飆漲；因此，不同產業所感知的奧運商機並不一致。在主辦國，基礎建設相關廠商在奧運前就能獲利，但運動器材、服裝、運動鞋，以及觀看轉播的電視相關零組件等廠商的營收，可能會在不同階段受益，只要處在供應鏈的關鍵位置上，可以樂觀期待將有一波的商機；然而，營收即使增加，從過去的波動可以發現，股價常在基本面發酵前就已反映，漲勢能否持續更長的時間，還是要看更長期的營運表現。奧運商機先反應 未來股價要看長期營運表現企業的營收能否跟著奧運水漲船高，這幾個月將能陸續看出，但歷史經驗顯示，大環境更是影響股價趨勢的關鍵。大盤重挫時，能夠脫穎而出的產業非常有限，而在股市欣欣向榮之時，即使業績未跟上，股價也有往上的機會。 \\r\\n    一手掌握經濟脈動   \n",
       "\n",
       "                                               artUrl sub_media  \\\n",
       "0         https://ec.ltn.com.tw/article/paper/1623579        ec   \n",
       "1  https://ec.ltn.com.tw/article/breakingnews/4535539        ec   \n",
       "2  https://ec.ltn.com.tw/article/breakingnews/4509660        ec   \n",
       "3         https://ec.ltn.com.tw/article/paper/1623641        ec   \n",
       "4         https://ec.ltn.com.tw/article/paper/1623642        ec   \n",
       "\n",
       "                                                                                                                                                                                                                                                                                                                                                                                                                                                                                                                                                                                                                                                                                                                                                                                                                                                                                                                                                                                                                                                                                                                                                                                                                                                                                                                                                                                                                                                                                                                                                                                                                                                                                                                                                                                                                                                                                                                                                                                                                                                                                                                                                                                                                                                                                                                                                                                                                                                                                                                                                                                                                                                                                                                                                                                                                                                                                                                                                                                                                                                                                                                         words  \n",
       "0                                                                                                                                                                                                                                                                                                                                                                                                                                                                                                                                                                                                                                                                                                                                                                                                                                                                                                                                                                                                                                                                                                                                                                                                                                                                                                                                                                                                                                                                                                                                                                                                                                                                                                                                                                                                                                                                                                                                                                                                                                                                                                                                                                                                                                                                                                                          專制 強推 共富 人才 錢財 出國 中國 房地產 市場 低迷 經濟 復甦 未如 預期 圖為 北京市 東城區 一處 街邊 相連 店面 空置 使用 中央社 資料 編譯 盧永山 特譯 中國 成長 前景 黯淡 美中關係 持續 緊繃 背景 中國 國家 主席 習近平 縮緊 政經 社會 控制 推動 共同富裕 政策 導致 中國 經濟 慘兮兮 越來越 中國 人才 富人 帶著 大量 資金 run 出國 不想 生活 恐懼 之下 36 百度 AI 專家 出走 英國 百度 阿里巴巴 人工智慧 AI 部門 工作 現年 三十六歲 音譯 表示 離開 中國 喜歡 那裡 社會 政治 環境 回去 中國 變成 民主 國家 中國 生活 恐懼 之下 中國 全國人大 八年 修憲 取消 國家 主席 任期制 習近平 無限期 留任 掌權 被迫 年初 做出 離開 中國 決定 現在 Meta 臉書 母公司 倫敦 分公司 任職 紐時 今年 10 中國 15.5 資金外流 人才流失 資金 源源不斷 撤離 中國 合法 資金 轉移 海外 受到 嚴格 限制 紐約時報 二三年 每月 五百億美元 資金 透過 方式 流出 中國 主要 來自 中國 富有 家庭 民營企業 意味 二三年 十個月 中國 高達 五千 億美元 十五 五兆台幣 資金外流 新加坡 成為 中國 外流 富人 資金 主要 落腳處 新加坡 吸引 中國 富人 資金 主要 距離 很近 稅率 大量 華語 人口 新加坡 金管局 統計 中國 富人 推動 新加坡 家族 辦公室 數量 四百 增至 二二 年底 一一 二三年 持續 增加 國際 房地產 顧問公司 居外 IQI 表示 預計 未來 二年 將有 超過 七十萬 中國 富人 離開 中國 包括 澳洲 加拿大 英國 日本 杜拜 中國 富人 熱門 移民 置產 地點 \\r\\n 一手 掌握 經濟 脈動  \n",
       "1                                                                                                                                                                                                                                                                                                                                                                                                                                                                                                                                                                                                                                                                                                                                                                                                                                                                                                                                                                                                                                                                                                                                                                                                                                                                                                                                                                                                                                                                                                                                                                                                                                                                                                                                                                                                                                                                                                                                                                                                                                                                                                                                                                                                                                                                                                                                                           日經 台灣 投資 轉向 中國 比降 幾十年 最低 台積電 德國 今年 宣布 落腳 德勒斯 台積電 德國 廠將 規劃 34 億美元 投資額 路透 \\r\\n 高佳菁 核稿 編輯 \\r\\n 財經頻道 綜合 以往 中國 台商 投資 地方 中國 經濟 疲軟 地緣 政治 緊張 國際品牌 陸續 撤出 中國 台商 跟隨 供應鏈 腳步 轉出 日經 亞洲 2023 台灣 中國 投資 驟降 台灣 對外 直接 投資總額 10% 多一點 這是 幾十年 最低 比例 美國 德國 投資 快速增長 \\r\\n 台灣 官方 數據 顯示 台灣 今年 11 批准 外國 直接 投資 年增 87% 達到 257 億美元 台幣 7888 億元 中國 投資 下降 34% 29 億美元 台幣 890 億元 僅佔 總數 12% \\r\\n 日媒 台灣 中國 支出 2010 84% 高峰 下滑 來到 2022 年則 大幅 下降 投資總額 34% 今年 投資總額 預計 不到 1999 以來 最低點 28% 一半 \\r\\n 台灣 大幅 減少 中國 投資 投資 重心 移轉 美國 德國 累計 今年 11 台灣 美國 直接 投資 成長 達到 96 億美元 台幣 2948 億元 投資 37% 台灣 美國 投資 預計 中國 這是 1993 台灣 允許 中國 直接 投資 以來 美國 首次 位居 榜首 \\r\\n 德國 投資 部分 因台 積電 2330 德國 設立 晶片 工廠 帶動 德國 投資 成長 25 達到 39 億美元 台幣 1197 億元 德國 投資 一舉 超越 投資 中國 數字 \\r\\n 台灣 經濟 研究院 明德 表示 中美關係 持續 緊張 台灣 中國 投資 將會 持續 下降 \\r\\n \\r\\n 一手 掌握 經濟 脈動  \n",
       "2  LTN 經濟 AI 始料未及 宮鬥 劇峰 回路 OpenAI 執行長 奧特曼 11 17 董事會 解僱 隨後 短短 天後回 OpenAI 內部 宮鬥 引起 全球 關注 美聯社 資料 \\r\\n 奧特曼 開除 回歸 只花 \\r\\n 歐祥義 核稿 編輯 \\r\\n 財經頻道 綜合 OpenAI 執行長 奧特曼 Sam Altman 11 17 董事會 解僱 掀起 軒然大波 大批 員工 威脅 離職 投資人 考慮 提告 董事會 OpenAI 態度 急轉彎 開除 奧特曼 不到 重新 商議 奧特曼 回鍋 宮鬥 爆發 OpenAI 宣佈 奧特曼 將回 重新 擔任 執行長 結束 這場 鬧劇 \\r\\n 事實上 外媒 透露 要求 下台 之前 奧特曼 公司 董事會 爭執 持續 OpenAI 推出 聊天 機器人 ChatGPT 受到 全球 矚目 雙方 緊張局勢 持續 惡化 奧特曼 一度 採取行動 希望 趕走 一名 董事會 成員 認為 這名 董事會 成員 一同 撰寫 研究 論文 實質 批評 公司 \\r\\n 針對 預警 開除 奧特曼 並對 解雇 原因 OpenAI 一直 含糊其辭 董事會 一篇 部落 文章 提到 奧特曼 下台 董事會 溝通 始終 坦承 一名 知情 人士 表示 董事會 成員 奧特曼 愈來愈 信任 認為 必要 奧特曼 告知 所有 事情 進行 反覆 查核 董事會 成員 認為 奧特曼 過度 專注 擴張 董事會 希望 成長 AI 安全 之間 取得 平衡 \\r\\n 參與 視訊 會議 人士 透露 奧特曼 下台 OpenAI 高層 視訊 通話 董事會 成員 對峙 高層 團隊 董事會 表明 好好 說明 將很難 接受 知情 人士 表示 40 分鐘 視訊 會議 高層 持續 董事會 施壓 要求 提供 奧特曼 不夠 坦誠 具體 例子 董事會 法律 因素 回絕 \\r\\n OpenAI 執行長 奧特曼 傳出 合作 夥伴 特斯拉 執行長 馬斯克 意見 不合 最終 導致 馬斯克 出走 法新社 美聯社 資料 本報 合成 \\r\\n OpenAI 董事會 一直 不合 \\r\\n OpenAI 董事會 問題 第一天 最早 追溯到 這家 新創 剛成 2015 奧特曼 特斯拉 執行長 馬斯克 Elon Musk 一同 成立 非營利 組織 打造 人工智慧 計劃 私人 捐款者 那裡 募集 資金 短短 幾年 意識 這項 計劃 資金 遠遠 超過 獨立 募款 籌得 資金 \\r\\n 高層 之間 意見 嚴重 不合 奧特曼 馬斯克 之間 關係 出現 裂痕 這也 導致 馬斯克 2018 離開 這家 公司 幾年 OpenAI 內部 再度 出現 不合 安全 問題 發生衝突 一群 關鍵 研究 人員 離開 成立 對手 企業 Anthropic \\r\\n 馬斯克 離開 成立 一家 營利 子公司 投資人 身上 籌得 數十億美元 包括 科技 巨頭 微軟 Microsoft 注資 10 億美元 台幣 315 億元 公司 網上 表示 子公司 非營利 董事會 控制 每名 董事 負責 對象 人類 OpenAI 投資人 \\r\\n 首席 科學家 蘇茨克維 投票 奧特曼 開除 董事會 成員 引起 風波 蘇茨克維 態度 急轉彎 加入 員工 連署 支持 奧特曼 回鍋 法新社 資料 \\r\\n 董事會 成員 AI 發展 認知 相左 \\r\\n 據報 奧特曼 下台 背後 因素 包括 董事 成員 喬治城 安全 新興 技術 中心 策略 總監 托納 Helen Toner 衝突 解僱 幾週前 奧特曼 會見 托納 雙方 討論 托納為 喬治城 安全 新興 技術 中心 撰寫 一篇 論文 \\r\\n 奧特曼 抱怨 這篇 研究 論文 似乎 批評 OpenAI 維持 AI 技術 做出 努力 讚揚 競爭對手 Anthropic 奧特曼 認為 聯邦貿易委員會 FTC 正在 進行 調查 期間 發表 這篇 論文 恐對 公司 帶來不利 影響 \\r\\n 托納則 這是 一篇 學術論文 分析 大眾 試圖 了解 國家 企業 發展 AI 面臨 挑戰 奧特曼 認為 並稱 雙方 造成 損失 達成 共識 董事會 成員 批評 產生 很大 影響 \\r\\n 奧特曼 首席 科學家 蘇茨克維 Ilya Sutskever 在內 高層 討論 是否 將托納 董事會 除名 蘇茨克維 AI 擔憂 最終 董事 安捷 Adam Angelo 麥考莉 Tasha McCauley 選擇 托納站 同一 陣線 決定 開除 奧特曼 \\r\\n OpenAI 董事會 針對 人工智慧 安全 隱憂 出現分歧 引爆 這次 宮鬥 法新社 資料 本報 合成 \\r\\n 微軟 出手 擺平 爭議 \\r\\n 今年 OpenAI 董事 離任 空缺 加劇 董事會 問題 知情 人士 表示 董事會 董事 成員 接班 問題 出現 分歧 審查 候選人 董事 未能 決定 遞補 僵局 加劇 執行長 奧特曼 總裁 布羅克 Greg Brockman 董事會 成員 之間 摩擦 \\r\\n 奧特曼 開除 布羅克 告知 將被 董事會 除名 布羅克 隨後 辭職 以示 抗議 OpenAI 最大 投資人 微軟 Microsoft 隨後 遞出 橄欖枝 微軟 執行長 德拉 Satya Nadella 11 19 表示 歡迎 奧特曼 布羅克 帶上 相關 團隊 成員 加入 微軟 領導 高階 AI 研究 團隊 \\r\\n 董事會 行動 引發 旗下 員工 表明 董事會 失去 信任 OpenAI 員工 發起 聯署 要求 恢復 奧特曼 職位 面臨 旗下 員工 大規模 離職 參與 連署 人士 表示 OpenAI 770 員工 已經 至少 743 幾個 小時 簽署 協議 多達 96 員工 參與 連署 \\r\\n 多名 高層 加入 員工 連署 最受 矚目 蘇茨克維 參與 投票 罷免 奧特曼 蘇茨克維 11 20 上午 坦言 參與 董事會 行動 深感 遺憾 並在 發文 表示 將盡 努力 公司 重新 團結 \\r\\n 連署 信中 表示 員工 無法 缺乏 能力 判斷力 員工 毫不關心 工作 一起 工作 警告 董事會 總辭 恢復 奧特曼 布羅克 職務 跟上 兩人 腳步 投靠 微軟 信中 微軟 員工 保證 選擇 加入 將在 微軟 旗下 子公司 找到 工作 \\r\\n 奧特曼 開除 微軟 執行長 德拉 一度 表示 歡迎 奧特曼 布羅克 帶上 相關 團隊 成員 加入 微軟 法新社 資料 \\r\\n 美國 財長 桑默斯 董事會 成員 \\r\\n 11 22 OpenAI 發佈 聲明 達成協議 先前 開除 奧特曼 重返 公司 擔任 執行長 並將 組成 董事會 布羅克 奧特曼 回到 公司 未來 擔任 董事會 成員 \\r\\n 董事會 將由 Salesforce 共同 執行長 泰勒 Bret Taylor 接任 主席 美國 財政部長 桑默斯 Larry Summers 現任 董事 Quora 創辦人 安捷 擔任 董事會 成員 \\r\\n 奧特曼 同步 發文 證實 這一 消息 奧特曼 表示 OpenAI 過去 幾天 選擇 團隊 決定 加入 微軟 明顯 最好 一條 新任 董事會 微軟 執行長 德拉 支持 相當 期待 重返 OpenAI 也將 鞏固 公司 微軟 合作 關係 \\r\\n 一手 掌握 經濟 脈動  \n",
       "3                                                                                                                                                                                                                                                                                                                                                                                                                                                                                                                                                                                                                                                                                                                                                                                                                                                                                                                                                                                                                                                                                                                                                                                                                                                                                                                                                                                                                                                                                                                                                                                                                                                                                                                                                                                                             財經 週報 運動 產業 巴黎 奧運 助攻 運動 產業 春天 首次 全球 運動 盛事 巴黎 奧運 將於 舉行 運動 產業 能否 春天 備受 關注 美聯社 記者 楊雅民 專題 揮別 疫情 期間 訂單 滿手 榮景 2023 運動 產業 普遍 籠罩 庫存 陰霾 自行車 產業 陷入 低階 自行車 庫存 塞滿 倉庫 風暴 製鞋業 高爾夫球 紡織業 同樣 面臨 品牌 客戶 庫存 消化 壓力 隨著疫 首次 全球 運動 盛事 奧運 2024 法國巴黎 舉行 運動 產業 否極泰來 春天 備受 關注 運動 代工廠 營運 等待 奧運 激勵 永豐 投顧 表示 2024 巴黎 奧運 COVID 19 疫情 第一次 舉辦 奧運 國際 運動 品牌 大廠 競逐 奧運 商機 台灣 運動鞋 成衣 代工 大廠 營運 動能 認為 疫情 全面 解封 運動 品牌 廠及 代工廠 營運 激勵 效果 值得 期待 觀察 2004 2008 2012 奧運 當年 運動 品牌 Nike 營收 成長率 來到 水位 顯見 奧運 運動 相關 產業 刺激 買氣 效應 代工廠 Nike 運動鞋 代工 大廠 豐泰 9910 2008 2011 2015 奧運 當年 營收 成長率 來到 高點 唯一 例外 2020 東京 奧運 受到 COVID 19 疫情 衝擊 延至 2021 舉辦 運動 品牌 廠及 代工廠 激勵 有限 宏遠 投顧 表示 運動 產業 全球 景氣 波動 觀察 2009 金融 海嘯 品牌 市場 規模 呈現 衰退 金融 海嘯 品牌 市場 規模 反彈 成長 2020 爆發 COVID 19 疫情 品牌 2021 積極 追單 2022 下半年 下單 轉趨 保守 2023 品牌 積極 去化 庫存 減少 代工廠 採購 造成 部份 代工廠 驚傳 大規模 裁員 Adidas 預估 2024 鞋類 成長性 優於 服飾 巴黎 奧運 到來 製鞋業 可望 迎來 奧運 商機 巨大 越南 提早 卡位 自行車 產業 2024 關鍵字 產能 調整 等待 黎明 到來 巨大 9921 佈局 歐盟 自行車 市場 宣佈 投入 500 萬美元 越南 設立 2024 2025 自行車 產業 復甦 提早 準備 高爾夫球 產業 觀察 2022 2023 喜愛 高爾夫球 人口 2019 大幅 成長 品牌 庫存 大幅 下降 產業 庫存 調整 告一段落 打球 人數 逐年 增加 預期 高爾夫球 產業 2024 商機 高球 產業 2024 商機 國泰 證期 顧問 研究部 2024 紡織 製鞋業 也持 正向 看法 觀察 成衣 工業 去年 2023 第四季 受惠 奧運 新品 拉貨 估計 營收 季增 幅度 將達 未來 三季 獲利 年增 翻倍 鞋類 代工 部份 運動鞋 代工廠 估計 2023 第四季 營運 持平 至小增 2024 上半年 受惠 奧運 訂單 挹注 營運 回到 雙位數 成長 戶外 代工廠 春夏 接單 將較 秋冬 好轉 呈現 雙位數 增幅 營運 最差 期間 已過 \\r\\n 一手 掌握 經濟 脈動  \n",
       "4                                                                                                                                                                                                                                                                                                                                                                                                                                                                                                                                                                                                                                                                                                                                                                                                                                                                                                                                                                                                                                                                                                                                                                                                                                                                                                                                                                                                                                                                                                                                                                                                                                                                                                                                                                                                                                                                      財經 週報 時事 求是 奧運 股價 奧運 經費 龐大 支出 每個 國家 輕鬆 因應 2016 巴西 奧運 舉辨 巴西 經濟 衰退 提早 發生 法新社 魏錫賓 東京 奧運 肺炎 疫情 延後 2021 舉行 2024 巴黎 奧運 成為 恢復 生活 常態 首次 奧運 這一 盛事 全球 運動 迷所 期待 主辦國 領導人 企業 領導階層 來說 利用 聚光燈 突出 招牌 機會 奧運 準備 商機 影響 國家 企業 呈現 態樣 奧運 主辦國 經濟 表現 有前 熱後冷 現象 大興土木 先熱 財政 受到 影響 提早 建設 經濟 爭取 主辦權 之前 至少 就要 台幣 億元 顧問 遊說 行政 費用 準備 支出 取得 主辦權 花費 驚人 加強 交通 基礎 建設 備齊 標準 足夠 運動 場館 觀光客 運動員 住宿 特定 基礎 建設 未來 多年 建設 經費 集中 奧運 幾年 美國 智庫 外交關係 協會 Council on Foreign Relations 估計 2004 希臘 雅典 以後 奧運 成本 超過 百億美元 2008 北京奧運 500 多億美元 原訂 2020 舉辦 東京 奧運 估計 費用 350 億美元 巴西 奧運 受益 經濟 衰退 提早 發生 奧運 城市 舉辦 一時 一地 投入 能夠 順利完成 只能 舉國之力 數年 時間 花費 資才 達成 目標 確定 將於 2032 主辦 奧運 澳洲 里斯本 熱烈慶祝 研擬 實施 落實 各項 設計 該次 奧運 年後才將 舉辦 準備 奧運 龐大 支出 每個 國家 輕鬆 因應 主辦 2016 奧運 巴西 擴大 公共 建設 迎來 一時 榮景 經濟 衰退 賽事 提早 發生 引起 民眾 大規模 抗議 扣除 全球 金融 海嘯 波及 2009 年外 巴西 2000 以後 經濟 最差 三年 集中 2014 2016 衰退 3.3% 以上 企業 國家 奧運 經驗 國家 基礎 建設 比賽 完成 消費 則不 相同 包括 門票 交通 食宿費 實際 消費 主要 發生 奧運 比賽 期間 運動 賽事 宣傳 廣告 效果 逐漸 提高 常會 帶動 體育用品 購買慾 相關 廠商 營收 機會 飆漲 產業 感知 奧運 商機 並不 一致 主辦國 基礎 建設 相關 廠商 奧運 獲利 運動器材 服裝 運動鞋 觀看 轉播 電視 相關 零組件 廠商 營收 階段 受益 處在 供應鏈 關鍵 位置 樂觀 期待 將有 一波 商機 營收 增加 過去 波動 發現 股價 常在 基本面 發酵 反映 漲勢 能否 持續 更長 時間 長期 營運 表現 奧運 商機 反應 未來 股價 長期 營運 表現 企業 營收 能否 奧運 水漲船高 幾個 將能 陸續 看出 歷史 經驗 顯示 環境 更是 影響 股價 趨勢 關鍵 大盤 重挫 能夠 脫穎而出 產業 有限 股市 欣欣向榮 之時 業績 跟上 股價 機會 \\r\\n 一手 掌握 經濟 脈動  "
      ],
      "text/html": [
       "<div>\n",
       "<style scoped>\n",
       "    .dataframe tbody tr th:only-of-type {\n",
       "        vertical-align: middle;\n",
       "    }\n",
       "\n",
       "    .dataframe tbody tr th {\n",
       "        vertical-align: top;\n",
       "    }\n",
       "\n",
       "    .dataframe thead th {\n",
       "        text-align: right;\n",
       "    }\n",
       "</style>\n",
       "<table border=\"1\" class=\"dataframe\">\n",
       "  <thead>\n",
       "    <tr style=\"text-align: right;\">\n",
       "      <th></th>\n",
       "      <th>content</th>\n",
       "      <th>artUrl</th>\n",
       "      <th>sub_media</th>\n",
       "      <th>words</th>\n",
       "    </tr>\n",
       "  </thead>\n",
       "  <tbody>\n",
       "    <tr>\n",
       "      <th>0</th>\n",
       "      <td>習專制強推共富 人才錢財「潤」出國中國房地產市場低迷，經濟復甦未如預期。圖為北京市東城區一處街邊相連著的3家店面都空置未使用。（中央社資料照）編譯盧永山／特譯中國成長前景黯淡，美中關係持續緊繃，在此背景下，中國國家主席習近平不僅縮緊對政經社會的控制，又推動「共同富裕」政策，導致中國經濟慘兮兮，越來越多中國的人才與富人帶著大量資金「潤」（run）出國。「我不想生活在恐懼之下」36歲百度AI專家出走英國曾在百度與阿里巴巴的人工智慧（AI）部門工作，現年三十六歲的陳亮時（音譯）表示：「我離開中國是因為我不喜歡那裡的社會和政治環境，我不會再回去，除非中國變成一個民主國家、除非中國人民不再生活在恐懼之下。」由於中國全國人大在二○一八年通過修憲，取消國家主席任期制，讓習近平可以無限期留任掌權，陳亮時被迫在二○二○年初做出離開中國的決定，現在他在Meta（臉書母公司）的倫敦分公司任職。紐時：今年前10月中國15.5兆資金外流除了人才流失，資金也源源不斷撤離中國。儘管要從中國合法把資金轉移到海外受到嚴格的限制，但根據《紐約時報》報導，二○二三年每月有五百億美元資金透過各種方式流出中國，主要來自中國富有家庭與民營企業，這意味二○二三年前十個月，中國可能有高達五千億美元（十五．五兆台幣）的資金外流。新加坡成為中國外流富人和資金的主要落腳處。新加坡之所以能吸引中國富人與資金，主要因為距離很近、低稅率和大量說華語的人口。根據新加坡金管局統計，在中國富人推動下，新加坡家族辦公室的數量從二○二○年的四百家，增至二○二二年底的一一○○家，二○二三年仍持續增加。國際房地產顧問公司「居外IQI」表示，預計未來二年將有超過七十萬名中國富人離開中國；包括澳洲、加拿大、英國、日本、甚至杜拜，都是中國富人熱門的移民置產地點。 \\r\\n    一手掌握經濟脈動</td>\n",
       "      <td>https://ec.ltn.com.tw/article/paper/1623579</td>\n",
       "      <td>ec</td>\n",
       "      <td>專制 強推 共富 人才 錢財 出國 中國 房地產 市場 低迷 經濟 復甦 未如 預期 圖為 北京市 東城區 一處 街邊 相連 店面 空置 使用 中央社 資料 編譯 盧永山 特譯 中國 成長 前景 黯淡 美中關係 持續 緊繃 背景 中國 國家 主席 習近平 縮緊 政經 社會 控制 推動 共同富裕 政策 導致 中國 經濟 慘兮兮 越來越 中國 人才 富人 帶著 大量 資金 run 出國 不想 生活 恐懼 之下 36 百度 AI 專家 出走 英國 百度 阿里巴巴 人工智慧 AI 部門 工作 現年 三十六歲 音譯 表示 離開 中國 喜歡 那裡 社會 政治 環境 回去 中國 變成 民主 國家 中國 生活 恐懼 之下 中國 全國人大 八年 修憲 取消 國家 主席 任期制 習近平 無限期 留任 掌權 被迫 年初 做出 離開 中國 決定 現在 Meta 臉書 母公司 倫敦 分公司 任職 紐時 今年 10 中國 15.5 資金外流 人才流失 資金 源源不斷 撤離 中國 合法 資金 轉移 海外 受到 嚴格 限制 紐約時報 二三年 每月 五百億美元 資金 透過 方式 流出 中國 主要 來自 中國 富有 家庭 民營企業 意味 二三年 十個月 中國 高達 五千 億美元 十五 五兆台幣 資金外流 新加坡 成為 中國 外流 富人 資金 主要 落腳處 新加坡 吸引 中國 富人 資金 主要 距離 很近 稅率 大量 華語 人口 新加坡 金管局 統計 中國 富人 推動 新加坡 家族 辦公室 數量 四百 增至 二二 年底 一一 二三年 持續 增加 國際 房地產 顧問公司 居外 IQI 表示 預計 未來 二年 將有 超過 七十萬 中國 富人 離開 中國 包括 澳洲 加拿大 英國 日本 杜拜 中國 富人 熱門 移民 置產 地點 \\r\\n 一手 掌握 經濟 脈動</td>\n",
       "    </tr>\n",
       "    <tr>\n",
       "      <th>1</th>\n",
       "      <td>日經 : 台灣投資轉向 中國佔比降至幾十年來最低台積電德國廠在今年8月宣布落腳德勒斯登，台積電對於德國廠將規劃34億美元的投資額。（路透）\\r\\n高佳菁／核稿編輯\\r\\n〔財經頻道／綜合報導〕以往中國是台商大舉投資的地方，隨著中國經濟疲軟和地緣政治緊張，國際品牌廠陸續撤出中國，台商也跟隨供應鏈腳步轉出。《日經亞洲》報導，2023年，台灣對中國的投資驟降至台灣對外直接投資總額的10%多一點，這是幾十年來的最低比例，而美國、德國的投資則快速增長。\\r\\n根據台灣官方數據顯示，台灣今年前11月批准的外國直接投資年增87%、達到257億美元（約新台幣7888億元），而對中國的投資下降了34%、至29億美元（約新台幣890億元），僅佔總數的12% 。\\r\\n日媒報導，台灣在中國的支出，自2010年的84%高峰開始下滑，來到2022年則大幅下降、佔投資總額34%，而今年的投資總額，預計將不到1999年以來最低點28%的一半。\\r\\n台灣大幅減少對中國投資，將投資重心移轉至美國與德國。累計今年前11月，台灣對美國直接投資成長了9倍、達到96億美元（約新台幣2948億元）、佔總投資的37%。台灣對美國的投資，預計約為中國的3倍，這是自1993年開始，台灣允許對中國直接投資以來，美國首次位居榜首。\\r\\n在德國投資部分，因台積電（2330）在德國設立新的晶片工廠帶動，德國投資成長了25倍、達到39億美元（約新台幣1197億元）。光是對德國的投資，也一舉超越投資中國的數字。\\r\\n台灣經濟研究院孫明德表示，只要中美關係持續緊張，台灣對中國投資將會持續下降。\\r\\n\\r\\n    一手掌握經濟脈動</td>\n",
       "      <td>https://ec.ltn.com.tw/article/breakingnews/4535539</td>\n",
       "      <td>ec</td>\n",
       "      <td>日經 台灣 投資 轉向 中國 比降 幾十年 最低 台積電 德國 今年 宣布 落腳 德勒斯 台積電 德國 廠將 規劃 34 億美元 投資額 路透 \\r\\n 高佳菁 核稿 編輯 \\r\\n 財經頻道 綜合 以往 中國 台商 投資 地方 中國 經濟 疲軟 地緣 政治 緊張 國際品牌 陸續 撤出 中國 台商 跟隨 供應鏈 腳步 轉出 日經 亞洲 2023 台灣 中國 投資 驟降 台灣 對外 直接 投資總額 10% 多一點 這是 幾十年 最低 比例 美國 德國 投資 快速增長 \\r\\n 台灣 官方 數據 顯示 台灣 今年 11 批准 外國 直接 投資 年增 87% 達到 257 億美元 台幣 7888 億元 中國 投資 下降 34% 29 億美元 台幣 890 億元 僅佔 總數 12% \\r\\n 日媒 台灣 中國 支出 2010 84% 高峰 下滑 來到 2022 年則 大幅 下降 投資總額 34% 今年 投資總額 預計 不到 1999 以來 最低點 28% 一半 \\r\\n 台灣 大幅 減少 中國 投資 投資 重心 移轉 美國 德國 累計 今年 11 台灣 美國 直接 投資 成長 達到 96 億美元 台幣 2948 億元 投資 37% 台灣 美國 投資 預計 中國 這是 1993 台灣 允許 中國 直接 投資 以來 美國 首次 位居 榜首 \\r\\n 德國 投資 部分 因台 積電 2330 德國 設立 晶片 工廠 帶動 德國 投資 成長 25 達到 39 億美元 台幣 1197 億元 德國 投資 一舉 超越 投資 中國 數字 \\r\\n 台灣 經濟 研究院 明德 表示 中美關係 持續 緊張 台灣 中國 投資 將會 持續 下降 \\r\\n \\r\\n 一手 掌握 經濟 脈動</td>\n",
       "    </tr>\n",
       "    <tr>\n",
       "      <th>2</th>\n",
       "      <td>LTN經濟通》AI始料未及？宮鬥劇峰回路轉OpenAI執行長奧特曼在11月17日遭董事會解僱，隨後在短短5天後回歸，OpenAI內部宮鬥，引起全球關注。（美聯社資料照）\\r\\n奧特曼從開除到回歸 只花5天\\r\\n歐祥義／核稿編輯\\r\\n〔財經頻道／綜合報導〕OpenAI執行長奧特曼（Sam Altman）在11月17日遭董事會解僱，掀起軒然大波，大批員工威脅要離職，投資人也考慮提告董事會，讓OpenAI態度急轉彎，在開除奧特曼不到1天後，重新商議讓奧特曼回鍋，在「宮鬥」爆發5天後，OpenAI宣佈，奧特曼將回歸重新擔任執行長，結束這場鬧劇。\\r\\n事實上根據外媒透露，在被要求下台之前，奧特曼和公司董事會的爭執已持續1年多，隨著OpenAI推出的聊天機器人ChatGPT受到全球矚目，雙方的緊張局勢持續惡化。奧特曼一度採取行動，希望趕走一名董事會成員，因為他認為，這名董事會成員與他人一同撰寫的研究論文實質是在批評公司。\\r\\n但針對無預警開除奧特曼，並對解雇的原因OpenAI一直含糊其辭，董事會在一篇部落格文章中提到，奧特曼下台是因為他在與董事會的溝通中「始終不坦承」。一名知情人士表示，董事會成員對奧特曼愈來愈不信任，以至於他們認為有必要對奧特曼告知的所有事情進行反覆查核。另外也有董事會成員認為，奧特曼過度專注於擴張，而董事會則希望能在成長與AI安全之間取得平衡。\\r\\n根據3名參與視訊會議的人士透露，奧特曼被趕下台後，OpenAI高層在視訊通話中與其他董事會成員對峙。高層團隊向董事會表明，不好好說明，這一切結果將很難被接受，知情人士表示，在大約40分鐘的視訊會議中，高層持續向董事會施壓，要求提供奧特曼不夠坦誠的具體例子，都被董事會以法律因素回絕了。\\r\\nOpenAI執行長奧特曼（右）曾傳出與合作夥伴特斯拉執行長馬斯克（左）多次意見不合，最終導致馬斯克出走。（法新社、美聯社資料照，本報合成）\\r\\nOpenAI董事會一直不合\\r\\nOpenAI董事會問題並不是第一天的事，最早可以追溯到這家新創剛成立時。2015年奧特曼和特斯拉執行長馬斯克（Elon Musk）一同成立一個非營利組織來打造人工智慧，他們原計劃從私人捐款者那裡募集資金，但在短短幾年內，他們就意識到這項計劃所需的資金，遠遠超過獨立募款可以籌得的資金。\\r\\n由於高層之間意見嚴重不合，奧特曼和馬斯克之間關係出現裂痕，這也導致馬斯克在2018年離開這家公司。幾年後，OpenAI內部再度出現不合，在安全問題上發生衝突後，一群關鍵的研究人員離開，成立對手企業Anthropic。\\r\\n馬斯克離開後，他們成立了一家營利的子公司，並開始從投資人身上籌得數十億美元，其中也包括科技巨頭微軟（Microsoft）注資的10億美元（約新台幣315億元）。該公司在官網上表示，子公司由非營利董事會控制，每名董事要負責任的對象是「人類」，而不是OpenAI的投資人。\\r\\n首席科學家蘇茨克維是投票通過將奧特曼開除的董事會成員之一，引起風波後，蘇茨克維的態度也急轉彎，加入員工連署支持奧特曼回鍋。（法新社資料照）\\r\\n董事會成員 對AI發展認知相左\\r\\n據報，奧特曼被趕下台背後的因素，包括他與董事成員、喬治城安全與新興技術中心策略總監托納（Helen Toner）的衝突。在被解僱的幾週前，奧特曼會見了托納，雙方討論了托納為喬治城安全與新興技術中心撰寫的一篇論文。\\r\\n奧特曼抱怨，這篇研究論文似乎批評了OpenAI為了維持AI技術做出的努力，同時讚揚了競爭對手Anthropic。奧特曼認為，在聯邦貿易委員會（FTC）正在進行調查的期間，發表這篇論文恐對公司帶來不利影響。\\r\\n托納則稱，這是一篇學術論文，只是分析大眾在試圖了解國家、企業發展AI時面臨的挑戰。奧特曼卻不這麼認為，並稱，雙方對於這一切造成的損失並沒有達成共識，董事會成員的任何批評都會產生很大的影響。\\r\\n奧特曼和首席科學家蘇茨克維（Ilya Sutskever）在內的高層討論了是否該將托納從董事會中除名。但由於蘇茨克維對AI的擔憂，最終他和另外2名董事安捷羅（Adam D'Angelo）、麥考莉（Tasha McCauley）選擇與托納站在同一陣線，4人決定開除奧特曼。\\r\\nOpenAI董事會因針對人工智慧的安全隱憂出現分歧，引爆了這次的「宮鬥」。（法新社資料照，本報合成）\\r\\n微軟出手 擺平爭議\\r\\n今年OpenAI共3名董事離任，空缺也加劇了董事會問題。2名知情人士表示，董事會在董事成員接班問題上出現了分歧，在審查4名候選人後，董事未能決定要由誰遞補，這種僵局加劇了執行長奧特曼、總裁布羅克曼（Greg Brockman）和其他董事會成員之間的摩擦。\\r\\n奧特曼被開除後，布羅克曼也被告知自己將被從董事會除名，布羅克曼隨後也辭職以示抗議。OpenAI最大投資人微軟（Microsoft）隨後也向2人遞出橄欖枝，微軟執行長納德拉（Satya Nadella）在11月19日表示，歡迎奧特曼、布羅克曼帶上相關團隊成員加入微軟，領導高階AI研究團隊。\\r\\n董事會的行動也引發旗下員工不滿，表明對董事會失去信任，OpenAI員工發起聯署，要求恢復奧特曼的職位，否則將面臨旗下員工大規模離職。根據1名參與連署的人士表示，OpenAI約770名員工，已經有至少743人在幾個小時內簽署了協議，多達96％的員工參與連署。\\r\\n也有多名高層加入員工連署，其中最受矚目的就是蘇茨克維，在參與投票罷免奧特曼後，蘇茨克維在11月20日上午坦言，對於自己曾參與董事會的行動深感遺憾，並在X發文表示，將盡一切努力讓公司重新團結。\\r\\n連署信中表示，員工無法再為那些缺乏能力、判斷力以及對員工毫不關心的人工作，或與他們一起工作。並警告，除非董事會總辭，並恢復奧特曼和布羅克曼的職務，否則他們將跟上兩人的腳步，投靠微軟。信中微軟也向這些員工保證，如果他們選擇加入，將在微軟旗下新的子公司找到工作。\\r\\n在奧特曼被開除後，微軟執行長納德拉一度表示，歡迎奧特曼、布羅克曼帶上相關團隊成員加入微軟。（法新社資料照）\\r\\n美國前財長桑默斯 董事會新成員\\r\\n11月22日，OpenAI發佈聲明稱，已達成協議讓先前被開除的奧特曼重返公司擔任執行長，並將組成新的董事會。布羅克曼也跟著奧特曼回到公司，但未來不再擔任董事會成員。\\r\\n新的董事會將由Salesforce前共同執行長泰勒（Bret Taylor）接任主席，另外有美國前財政部長桑默斯（Larry Summers）和現任董事、Quora創辦人安捷羅擔任董事會成員。\\r\\n奧特曼也同步發文證實這一消息，奧特曼表示，自己很愛OpenAI，過去這幾天的選擇都是為了團隊，當自己決定加入微軟時，是因為這明顯是最好的一條路。而在新任董事會和微軟執行長納德拉的支持下，自己相當期待重返OpenAI，同時也將鞏固公司與微軟的合作關係。 \\r\\n    一手掌握經濟脈動</td>\n",
       "      <td>https://ec.ltn.com.tw/article/breakingnews/4509660</td>\n",
       "      <td>ec</td>\n",
       "      <td>LTN 經濟 AI 始料未及 宮鬥 劇峰 回路 OpenAI 執行長 奧特曼 11 17 董事會 解僱 隨後 短短 天後回 OpenAI 內部 宮鬥 引起 全球 關注 美聯社 資料 \\r\\n 奧特曼 開除 回歸 只花 \\r\\n 歐祥義 核稿 編輯 \\r\\n 財經頻道 綜合 OpenAI 執行長 奧特曼 Sam Altman 11 17 董事會 解僱 掀起 軒然大波 大批 員工 威脅 離職 投資人 考慮 提告 董事會 OpenAI 態度 急轉彎 開除 奧特曼 不到 重新 商議 奧特曼 回鍋 宮鬥 爆發 OpenAI 宣佈 奧特曼 將回 重新 擔任 執行長 結束 這場 鬧劇 \\r\\n 事實上 外媒 透露 要求 下台 之前 奧特曼 公司 董事會 爭執 持續 OpenAI 推出 聊天 機器人 ChatGPT 受到 全球 矚目 雙方 緊張局勢 持續 惡化 奧特曼 一度 採取行動 希望 趕走 一名 董事會 成員 認為 這名 董事會 成員 一同 撰寫 研究 論文 實質 批評 公司 \\r\\n 針對 預警 開除 奧特曼 並對 解雇 原因 OpenAI 一直 含糊其辭 董事會 一篇 部落 文章 提到 奧特曼 下台 董事會 溝通 始終 坦承 一名 知情 人士 表示 董事會 成員 奧特曼 愈來愈 信任 認為 必要 奧特曼 告知 所有 事情 進行 反覆 查核 董事會 成員 認為 奧特曼 過度 專注 擴張 董事會 希望 成長 AI 安全 之間 取得 平衡 \\r\\n 參與 視訊 會議 人士 透露 奧特曼 下台 OpenAI 高層 視訊 通話 董事會 成員 對峙 高層 團隊 董事會 表明 好好 說明 將很難 接受 知情 人士 表示 40 分鐘 視訊 會議 高層 持續 董事會 施壓 要求 提供 奧特曼 不夠 坦誠 具體 例子 董事會 法律 因素 回絕 \\r\\n OpenAI 執行長 奧特曼 傳出 合作 夥伴 特斯拉 執行長 馬斯克 意見 不合 最終 導致 馬斯克 出走 法新社 美聯社 資料 本報 合成 \\r\\n OpenAI 董事會 一直 不合 \\r\\n OpenAI 董事會 問題 第一天 最早 追溯到 這家 新創 剛成 2015 奧特曼 特斯拉 執行長 馬斯克 Elon Musk 一同 成立 非營利 組織 打造 人工智慧 計劃 私人 捐款者 那裡 募集 資金 短短 幾年 意識 這項 計劃 資金 遠遠 超過 獨立 募款 籌得 資金 \\r\\n 高層 之間 意見 嚴重 不合 奧特曼 馬斯克 之間 關係 出現 裂痕 這也 導致 馬斯克 2018 離開 這家 公司 幾年 OpenAI 內部 再度 出現 不合 安全 問題 發生衝突 一群 關鍵 研究 人員 離開 成立 對手 企業 Anthropic \\r\\n 馬斯克 離開 成立 一家 營利 子公司 投資人 身上 籌得 數十億美元 包括 科技 巨頭 微軟 Microsoft 注資 10 億美元 台幣 315 億元 公司 網上 表示 子公司 非營利 董事會 控制 每名 董事 負責 對象 人類 OpenAI 投資人 \\r\\n 首席 科學家 蘇茨克維 投票 奧特曼 開除 董事會 成員 引起 風波 蘇茨克維 態度 急轉彎 加入 員工 連署 支持 奧特曼 回鍋 法新社 資料 \\r\\n 董事會 成員 AI 發展 認知 相左 \\r\\n 據報 奧特曼 下台 背後 因素 包括 董事 成員 喬治城 安全 新興 技術 中心 策略 總監 托納 Helen Toner 衝突 解僱 幾週前 奧特曼 會見 托納 雙方 討論 托納為 喬治城 安全 新興 技術 中心 撰寫 一篇 論文 \\r\\n 奧特曼 抱怨 這篇 研究 論文 似乎 批評 OpenAI 維持 AI 技術 做出 努力 讚揚 競爭對手 Anthropic 奧特曼 認為 聯邦貿易委員會 FTC 正在 進行 調查 期間 發表 這篇 論文 恐對 公司 帶來不利 影響 \\r\\n 托納則 這是 一篇 學術論文 分析 大眾 試圖 了解 國家 企業 發展 AI 面臨 挑戰 奧特曼 認為 並稱 雙方 造成 損失 達成 共識 董事會 成員 批評 產生 很大 影響 \\r\\n 奧特曼 首席 科學家 蘇茨克維 Ilya Sutskever 在內 高層 討論 是否 將托納 董事會 除名 蘇茨克維 AI 擔憂 最終 董事 安捷 Adam Angelo 麥考莉 Tasha McCauley 選擇 托納站 同一 陣線 決定 開除 奧特曼 \\r\\n OpenAI 董事會 針對 人工智慧 安全 隱憂 出現分歧 引爆 這次 宮鬥 法新社 資料 本報 合成 \\r\\n 微軟 出手 擺平 爭議 \\r\\n 今年 OpenAI 董事 離任 空缺 加劇 董事會 問題 知情 人士 表示 董事會 董事 成員 接班 問題 出現 分歧 審查 候選人 董事 未能 決定 遞補 僵局 加劇 執行長 奧特曼 總裁 布羅克 Greg Brockman 董事會 成員 之間 摩擦 \\r\\n 奧特曼 開除 布羅克 告知 將被 董事會 除名 布羅克 隨後 辭職 以示 抗議 OpenAI 最大 投資人 微軟 Microsoft 隨後 遞出 橄欖枝 微軟 執行長 德拉 Satya Nadella 11 19 表示 歡迎 奧特曼 布羅克 帶上 相關 團隊 成員 加入 微軟 領導 高階 AI 研究 團隊 \\r\\n 董事會 行動 引發 旗下 員工 表明 董事會 失去 信任 OpenAI 員工 發起 聯署 要求 恢復 奧特曼 職位 面臨 旗下 員工 大規模 離職 參與 連署 人士 表示 OpenAI 770 員工 已經 至少 743 幾個 小時 簽署 協議 多達 96 員工 參與 連署 \\r\\n 多名 高層 加入 員工 連署 最受 矚目 蘇茨克維 參與 投票 罷免 奧特曼 蘇茨克維 11 20 上午 坦言 參與 董事會 行動 深感 遺憾 並在 發文 表示 將盡 努力 公司 重新 團結 \\r\\n 連署 信中 表示 員工 無法 缺乏 能力 判斷力 員工 毫不關心 工作 一起 工作 警告 董事會 總辭 恢復 奧特曼 布羅克 職務 跟上 兩人 腳步 投靠 微軟 信中 微軟 員工 保證 選擇 加入 將在 微軟 旗下 子公司 找到 工作 \\r\\n 奧特曼 開除 微軟 執行長 德拉 一度 表示 歡迎 奧特曼 布羅克 帶上 相關 團隊 成員 加入 微軟 法新社 資料 \\r\\n 美國 財長 桑默斯 董事會 成員 \\r\\n 11 22 OpenAI 發佈 聲明 達成協議 先前 開除 奧特曼 重返 公司 擔任 執行長 並將 組成 董事會 布羅克 奧特曼 回到 公司 未來 擔任 董事會 成員 \\r\\n 董事會 將由 Salesforce 共同 執行長 泰勒 Bret Taylor 接任 主席 美國 財政部長 桑默斯 Larry Summers 現任 董事 Quora 創辦人 安捷 擔任 董事會 成員 \\r\\n 奧特曼 同步 發文 證實 這一 消息 奧特曼 表示 OpenAI 過去 幾天 選擇 團隊 決定 加入 微軟 明顯 最好 一條 新任 董事會 微軟 執行長 德拉 支持 相當 期待 重返 OpenAI 也將 鞏固 公司 微軟 合作 關係 \\r\\n 一手 掌握 經濟 脈動</td>\n",
       "    </tr>\n",
       "    <tr>\n",
       "      <th>3</th>\n",
       "      <td>〈財經週報-運動產業〉巴黎奧運助攻 運動產業迎向春天？疫後首次全球運動盛事巴黎奧運將於7月舉行，運動產業能否迎向春天，備受關注。（美聯社）記者楊雅民／專題報導揮別疫情期間訂單滿手榮景，2023年運動產業普遍籠罩在高庫存陰霾中，自行車產業陷入中低階自行車庫存塞滿倉庫風暴，製鞋業、高爾夫球、紡織業同樣面臨品牌客戶庫存消化壓力，但隨著疫後首次全球運動盛事奧運即將於2024年7月在法國巴黎舉行，運動產業能否極泰來，迎向春天，備受關注。運動代工廠營運 等待奧運激勵永豐投顧表示，2024年巴黎奧運為COVID-19疫情後第一次舉辦奧運，國際運動品牌大廠競逐奧運商機，台灣運動鞋和成衣代工大廠營運添動能，認為疫情全面解封後，對運動品牌廠及代工廠營運激勵效果值得期待。觀察2004年、2008年與2012年奧運當年，運動品牌Nike營收成長率來到高水位，顯見奧運對運動相關產業有刺激買氣效應。對代工廠而言，Nike運動鞋代工大廠豐泰（9910）在2008年、2011年與2015年奧運前1年或當年營收成長率也來到高點，唯一例外的是2020年東京奧運受到COVID-19疫情衝擊延至2021年7月舉辦，對運動品牌廠及代工廠激勵有限。宏遠投顧表示，運動產業隨全球景氣波動，觀察2009年金融海嘯時，品牌市場規模呈現衰退，金融海嘯後2~3年，品牌商市場規模皆反彈成長。2020年爆發COVID-19疫情，品牌商2021年積極追單，但到了2022年下半年下單轉趨保守，2023年各品牌商積極去化庫存，減少代工廠採購量，造成部份代工廠驚傳大規模裁員。由於Adidas預估2024年鞋類的成長性將優於服飾，加上7月巴黎奧運即將到來，製鞋業可望迎來奧運商機。巨大設越南新廠 提早卡位自行車產業2024年關鍵字為「產能調整」，將等待黎明到來，巨大（9921）為佈局歐盟自行車市場，已宣佈將投入1,500萬美元於越南設立新廠，為2024或2025年自行車產業復甦提早準備。至於高爾夫球產業，觀察2022~2023年喜愛打高爾夫球的人口較2019年大幅成長，且品牌商庫存已大幅下降，隨著產業庫存調整告一段落、且打球人數逐年增加，預期高爾夫球產業2024年商機可期。高球產業 2024年商機可期國泰證期顧問研究部對2024年紡織和製鞋業也持正向看法，觀察成衣代工業從去年（2023年）第四季便受惠奧運新品拉貨，估計營收季增幅度將達3成，未來三季獲利年增翻倍。鞋類代工部份，運動鞋代工廠估計2023年第四季營運持平至小增，今（2024）年上半年受惠於奧運訂單挹注，營運將回到雙位數成長；戶外鞋代工廠春夏款接單將較秋冬款好轉，呈現雙位數增幅，營運最差期間已過。 \\r\\n    一手掌握經濟脈動</td>\n",
       "      <td>https://ec.ltn.com.tw/article/paper/1623641</td>\n",
       "      <td>ec</td>\n",
       "      <td>財經 週報 運動 產業 巴黎 奧運 助攻 運動 產業 春天 首次 全球 運動 盛事 巴黎 奧運 將於 舉行 運動 產業 能否 春天 備受 關注 美聯社 記者 楊雅民 專題 揮別 疫情 期間 訂單 滿手 榮景 2023 運動 產業 普遍 籠罩 庫存 陰霾 自行車 產業 陷入 低階 自行車 庫存 塞滿 倉庫 風暴 製鞋業 高爾夫球 紡織業 同樣 面臨 品牌 客戶 庫存 消化 壓力 隨著疫 首次 全球 運動 盛事 奧運 2024 法國巴黎 舉行 運動 產業 否極泰來 春天 備受 關注 運動 代工廠 營運 等待 奧運 激勵 永豐 投顧 表示 2024 巴黎 奧運 COVID 19 疫情 第一次 舉辦 奧運 國際 運動 品牌 大廠 競逐 奧運 商機 台灣 運動鞋 成衣 代工 大廠 營運 動能 認為 疫情 全面 解封 運動 品牌 廠及 代工廠 營運 激勵 效果 值得 期待 觀察 2004 2008 2012 奧運 當年 運動 品牌 Nike 營收 成長率 來到 水位 顯見 奧運 運動 相關 產業 刺激 買氣 效應 代工廠 Nike 運動鞋 代工 大廠 豐泰 9910 2008 2011 2015 奧運 當年 營收 成長率 來到 高點 唯一 例外 2020 東京 奧運 受到 COVID 19 疫情 衝擊 延至 2021 舉辦 運動 品牌 廠及 代工廠 激勵 有限 宏遠 投顧 表示 運動 產業 全球 景氣 波動 觀察 2009 金融 海嘯 品牌 市場 規模 呈現 衰退 金融 海嘯 品牌 市場 規模 反彈 成長 2020 爆發 COVID 19 疫情 品牌 2021 積極 追單 2022 下半年 下單 轉趨 保守 2023 品牌 積極 去化 庫存 減少 代工廠 採購 造成 部份 代工廠 驚傳 大規模 裁員 Adidas 預估 2024 鞋類 成長性 優於 服飾 巴黎 奧運 到來 製鞋業 可望 迎來 奧運 商機 巨大 越南 提早 卡位 自行車 產業 2024 關鍵字 產能 調整 等待 黎明 到來 巨大 9921 佈局 歐盟 自行車 市場 宣佈 投入 500 萬美元 越南 設立 2024 2025 自行車 產業 復甦 提早 準備 高爾夫球 產業 觀察 2022 2023 喜愛 高爾夫球 人口 2019 大幅 成長 品牌 庫存 大幅 下降 產業 庫存 調整 告一段落 打球 人數 逐年 增加 預期 高爾夫球 產業 2024 商機 高球 產業 2024 商機 國泰 證期 顧問 研究部 2024 紡織 製鞋業 也持 正向 看法 觀察 成衣 工業 去年 2023 第四季 受惠 奧運 新品 拉貨 估計 營收 季增 幅度 將達 未來 三季 獲利 年增 翻倍 鞋類 代工 部份 運動鞋 代工廠 估計 2023 第四季 營運 持平 至小增 2024 上半年 受惠 奧運 訂單 挹注 營運 回到 雙位數 成長 戶外 代工廠 春夏 接單 將較 秋冬 好轉 呈現 雙位數 增幅 營運 最差 期間 已過 \\r\\n 一手 掌握 經濟 脈動</td>\n",
       "    </tr>\n",
       "    <tr>\n",
       "      <th>4</th>\n",
       "      <td>〈財經週報-時事求是〉奧運與股價奧運經費龐大支出，並非每個國家都能輕鬆因應。2016年巴西奧運舉辨，讓巴西經濟大衰退提早發生。（法新社）■魏錫賓東京奧運因肺炎疫情延後至2021年舉行，2024年的巴黎奧運成為恢復生活常態的首次奧運。這一盛事，不僅為全球運動迷所期待，對主辦國領導人與企業領導階層來說，也是利用聚光燈突出招牌的機會；不過，奧運的準備、商機與影響，對國家與企業呈現不同的態樣。奧運主辦國的經濟表現，經常有前熱後冷的現象；因為要大興土木，所以先熱，但其後財政受到影響，以及已提早建設，所以經濟後冷。在爭取主辦權之前，至少就要有新台幣上億元的顧問、遊說及其他行政費用等準備支出，取得主辦權後，花費更為驚人，不僅要加強交通等一般基礎建設，也要備齊標準、足夠的運動場館、觀光客與運動員住宿等特定基礎建設。未來多年的建設經費，可能就集中在奧運前幾年用掉。美國智庫外交關係協會（Council on Foreign Relations）估計，2004年希臘雅典以後的奧運成本均超過百億美元，2008年北京奧運花了500多億美元、原訂2020舉辦的東京奧運，估計費用約350億美元。巴西奧運未受益 經濟大衰退提早發生如今的奧運不管是在那一個城市舉辦，都非一時一地的投入能夠順利完成，只能以舉國之力、用數年時間、花費鉅資才能達成目標。就像確定將於2032年主辦奧運的澳洲布里斯本，在熱烈慶祝後，必須研擬、實施、落實各項建設計畫，即使該次奧運是在8年後才將舉辦。準備奧運的龐大支出，並非每個國家都能輕鬆因應。主辦2016年奧運的巴西，曾因擴大公共建設迎來一時的榮景，但經濟大衰退在賽事開始前就提早發生，更引起民眾的大規模抗議；而扣除受全球金融海嘯波及的2009年外，巴西在2000年以後經濟最差的三年集中在2014至2016年，其中2年衰退達3.3%以上。企業與國家的奧運經驗不同。國家的基礎建設要在比賽前完成，但一般消費則不相同，包括門票、交通及食宿費用等的實際消費，主要都發生在奧運比賽期間，而隨著運動賽事的宣傳廣告效果逐漸提高，常會帶動體育用品的購買慾，使得相關廠商的營收有更大機會跟著飆漲；因此，不同產業所感知的奧運商機並不一致。在主辦國，基礎建設相關廠商在奧運前就能獲利，但運動器材、服裝、運動鞋，以及觀看轉播的電視相關零組件等廠商的營收，可能會在不同階段受益，只要處在供應鏈的關鍵位置上，可以樂觀期待將有一波的商機；然而，營收即使增加，從過去的波動可以發現，股價常在基本面發酵前就已反映，漲勢能否持續更長的時間，還是要看更長期的營運表現。奧運商機先反應 未來股價要看長期營運表現企業的營收能否跟著奧運水漲船高，這幾個月將能陸續看出，但歷史經驗顯示，大環境更是影響股價趨勢的關鍵。大盤重挫時，能夠脫穎而出的產業非常有限，而在股市欣欣向榮之時，即使業績未跟上，股價也有往上的機會。 \\r\\n    一手掌握經濟脈動</td>\n",
       "      <td>https://ec.ltn.com.tw/article/paper/1623642</td>\n",
       "      <td>ec</td>\n",
       "      <td>財經 週報 時事 求是 奧運 股價 奧運 經費 龐大 支出 每個 國家 輕鬆 因應 2016 巴西 奧運 舉辨 巴西 經濟 衰退 提早 發生 法新社 魏錫賓 東京 奧運 肺炎 疫情 延後 2021 舉行 2024 巴黎 奧運 成為 恢復 生活 常態 首次 奧運 這一 盛事 全球 運動 迷所 期待 主辦國 領導人 企業 領導階層 來說 利用 聚光燈 突出 招牌 機會 奧運 準備 商機 影響 國家 企業 呈現 態樣 奧運 主辦國 經濟 表現 有前 熱後冷 現象 大興土木 先熱 財政 受到 影響 提早 建設 經濟 爭取 主辦權 之前 至少 就要 台幣 億元 顧問 遊說 行政 費用 準備 支出 取得 主辦權 花費 驚人 加強 交通 基礎 建設 備齊 標準 足夠 運動 場館 觀光客 運動員 住宿 特定 基礎 建設 未來 多年 建設 經費 集中 奧運 幾年 美國 智庫 外交關係 協會 Council on Foreign Relations 估計 2004 希臘 雅典 以後 奧運 成本 超過 百億美元 2008 北京奧運 500 多億美元 原訂 2020 舉辦 東京 奧運 估計 費用 350 億美元 巴西 奧運 受益 經濟 衰退 提早 發生 奧運 城市 舉辦 一時 一地 投入 能夠 順利完成 只能 舉國之力 數年 時間 花費 資才 達成 目標 確定 將於 2032 主辦 奧運 澳洲 里斯本 熱烈慶祝 研擬 實施 落實 各項 設計 該次 奧運 年後才將 舉辦 準備 奧運 龐大 支出 每個 國家 輕鬆 因應 主辦 2016 奧運 巴西 擴大 公共 建設 迎來 一時 榮景 經濟 衰退 賽事 提早 發生 引起 民眾 大規模 抗議 扣除 全球 金融 海嘯 波及 2009 年外 巴西 2000 以後 經濟 最差 三年 集中 2014 2016 衰退 3.3% 以上 企業 國家 奧運 經驗 國家 基礎 建設 比賽 完成 消費 則不 相同 包括 門票 交通 食宿費 實際 消費 主要 發生 奧運 比賽 期間 運動 賽事 宣傳 廣告 效果 逐漸 提高 常會 帶動 體育用品 購買慾 相關 廠商 營收 機會 飆漲 產業 感知 奧運 商機 並不 一致 主辦國 基礎 建設 相關 廠商 奧運 獲利 運動器材 服裝 運動鞋 觀看 轉播 電視 相關 零組件 廠商 營收 階段 受益 處在 供應鏈 關鍵 位置 樂觀 期待 將有 一波 商機 營收 增加 過去 波動 發現 股價 常在 基本面 發酵 反映 漲勢 能否 持續 更長 時間 長期 營運 表現 奧運 商機 反應 未來 股價 長期 營運 表現 企業 營收 能否 奧運 水漲船高 幾個 將能 陸續 看出 歷史 經驗 顯示 環境 更是 影響 股價 趨勢 關鍵 大盤 重挫 能夠 脫穎而出 產業 有限 股市 欣欣向榮 之時 業績 跟上 股價 機會 \\r\\n 一手 掌握 經濟 脈動</td>\n",
       "    </tr>\n",
       "  </tbody>\n",
       "</table>\n",
       "</div>"
      ]
     },
     "execution_count": 204,
     "metadata": {},
     "output_type": "execute_result"
    }
   ],
   "execution_count": 204
  },
  {
   "cell_type": "code",
   "metadata": {
    "ExecuteTime": {
     "end_time": "2024-04-06T14:46:23.265138Z",
     "start_time": "2024-04-06T14:46:23.258024Z"
    }
   },
   "source": "ct['artCatagory'].value_counts()",
   "outputs": [
    {
     "data": {
      "text/plain": [
       "sub_media\n",
       "ec    2102\n",
       "Name: count, dtype: int64"
      ]
     },
     "execution_count": 205,
     "metadata": {},
     "output_type": "execute_result"
    }
   ],
   "execution_count": 205
  },
  {
   "cell_type": "code",
   "execution_count": 44,
   "metadata": {},
   "outputs": [
    {
     "name": "stdout",
     "output_type": "stream",
     "text": [
      "              precision    recall  f1-score   support\n",
      "\n",
      "          全球       0.66      0.65      0.65       651\n",
      "          兩岸       0.27      0.34      0.30       275\n",
      "          股市       0.97      0.53      0.69       130\n",
      "          運動       0.91      0.94      0.93       126\n",
      "\n",
      "    accuracy                           0.59      1182\n",
      "   macro avg       0.70      0.61      0.64      1182\n",
      "weighted avg       0.63      0.59      0.60      1182\n",
      "\n"
     ]
    }
   ],
   "source": [
    "mapper = {\"財經\":\"股市\", \"政治\":\"兩岸\", \"體育\":\"運動\", \"兩岸\": \"兩岸\", \"國際\":\"全球\"}\n",
    "ct['artCatagory'] = ct['artCatagory'].map(mapper)\n",
    "\n",
    "X = ct['words']\n",
    "y = ct['artCatagory']\n",
    "\n",
    "y_pred = model_set[best_model_name].predict(vectorizer.transform(X).toarray())\n",
    "print(classification_report(y, y_pred))"
   ]
  },
  {
   "cell_type": "code",
   "execution_count": 45,
   "metadata": {},
   "outputs": [
    {
     "data": {
      "text/html": [
       "<div>\n",
       "<style scoped>\n",
       "    .dataframe tbody tr th:only-of-type {\n",
       "        vertical-align: middle;\n",
       "    }\n",
       "\n",
       "    .dataframe tbody tr th {\n",
       "        vertical-align: top;\n",
       "    }\n",
       "\n",
       "    .dataframe thead th {\n",
       "        text-align: right;\n",
       "    }\n",
       "</style>\n",
       "<table border=\"1\" class=\"dataframe\">\n",
       "  <thead>\n",
       "    <tr style=\"text-align: right;\">\n",
       "      <th></th>\n",
       "      <th>words</th>\n",
       "      <th>artCatagory</th>\n",
       "      <th>pred</th>\n",
       "    </tr>\n",
       "  </thead>\n",
       "  <tbody>\n",
       "    <tr>\n",
       "      <th>0</th>\n",
       "      <td>喊話 萬人 花旗 宣布 紐約 286 員工 東森 新聞 美國花旗集團 日前 宣布 將在 未來...</td>\n",
       "      <td>股市</td>\n",
       "      <td>全球</td>\n",
       "    </tr>\n",
       "    <tr>\n",
       "      <th>1</th>\n",
       "      <td>中鋼配 0.35 百萬 股東 東森 新聞 2002 29 公布 去年 財報 112 年度 分...</td>\n",
       "      <td>股市</td>\n",
       "      <td>股市</td>\n",
       "    </tr>\n",
       "    <tr>\n",
       "      <th>2</th>\n",
       "      <td>睡覺 股票 掉下來 達人 曝挑 個股 要件 東森 新聞 投資人 追求 穩定 被動 收入 足夠...</td>\n",
       "      <td>股市</td>\n",
       "      <td>股市</td>\n",
       "    </tr>\n",
       "    <tr>\n",
       "      <th>3</th>\n",
       "      <td>房市 虛坪 改革 上膛 政院 拋兩 策略 公設 可降 10 東森 新聞 內政部 最新 虛坪 ...</td>\n",
       "      <td>股市</td>\n",
       "      <td>股市</td>\n",
       "    </tr>\n",
       "    <tr>\n",
       "      <th>4</th>\n",
       "      <td>124 股東 哭哭 中鋼 配息 0.35 三年 新低 東森 新聞 外界 號稱 鋼鐵 耽誤 紀...</td>\n",
       "      <td>股市</td>\n",
       "      <td>股市</td>\n",
       "    </tr>\n",
       "    <tr>\n",
       "      <th>...</th>\n",
       "      <td>...</td>\n",
       "      <td>...</td>\n",
       "      <td>...</td>\n",
       "    </tr>\n",
       "    <tr>\n",
       "      <th>1177</th>\n",
       "      <td>菲律賓 大學 要求 帶防 作弊 憤怒 皮卡丘 同台 東森 新聞 菲律賓 一名 大學教授 防止...</td>\n",
       "      <td>全球</td>\n",
       "      <td>全球</td>\n",
       "    </tr>\n",
       "    <tr>\n",
       "      <th>1178</th>\n",
       "      <td>遊日韓 注意 南韓 空品 嚴重 惡化 沙塵暴 將抵 東森 新聞 趕著 上班 上課 民眾 出門...</td>\n",
       "      <td>全球</td>\n",
       "      <td>全球</td>\n",
       "    </tr>\n",
       "    <tr>\n",
       "      <th>1179</th>\n",
       "      <td>哈利波 經典 麻瓜 隱形 斗篷 需台幣 1.3 東森 新聞 英國 新創 團隊 Invisib...</td>\n",
       "      <td>全球</td>\n",
       "      <td>全球</td>\n",
       "    </tr>\n",
       "    <tr>\n",
       "      <th>1180</th>\n",
       "      <td>哈瑪斯 殺害 德正妹 遊街 羞辱 美聯社 年度 照片 惹議 東森 新聞 一名 年僅 30 德...</td>\n",
       "      <td>全球</td>\n",
       "      <td>全球</td>\n",
       "    </tr>\n",
       "    <tr>\n",
       "      <th>1181</th>\n",
       "      <td>33 女狂 嘔以 懷孕 檢查 搖頭 壽命 東森 新聞 以為 迎來 生命 竟是 人生 終局 英...</td>\n",
       "      <td>全球</td>\n",
       "      <td>兩岸</td>\n",
       "    </tr>\n",
       "  </tbody>\n",
       "</table>\n",
       "<p>1182 rows × 3 columns</p>\n",
       "</div>"
      ],
      "text/plain": [
       "                                                  words artCatagory pred\n",
       "0     喊話 萬人 花旗 宣布 紐約 286 員工 東森 新聞 美國花旗集團 日前 宣布 將在 未來...          股市   全球\n",
       "1     中鋼配 0.35 百萬 股東 東森 新聞 2002 29 公布 去年 財報 112 年度 分...          股市   股市\n",
       "2     睡覺 股票 掉下來 達人 曝挑 個股 要件 東森 新聞 投資人 追求 穩定 被動 收入 足夠...          股市   股市\n",
       "3     房市 虛坪 改革 上膛 政院 拋兩 策略 公設 可降 10 東森 新聞 內政部 最新 虛坪 ...          股市   股市\n",
       "4     124 股東 哭哭 中鋼 配息 0.35 三年 新低 東森 新聞 外界 號稱 鋼鐵 耽誤 紀...          股市   股市\n",
       "...                                                 ...         ...  ...\n",
       "1177  菲律賓 大學 要求 帶防 作弊 憤怒 皮卡丘 同台 東森 新聞 菲律賓 一名 大學教授 防止...          全球   全球\n",
       "1178  遊日韓 注意 南韓 空品 嚴重 惡化 沙塵暴 將抵 東森 新聞 趕著 上班 上課 民眾 出門...          全球   全球\n",
       "1179  哈利波 經典 麻瓜 隱形 斗篷 需台幣 1.3 東森 新聞 英國 新創 團隊 Invisib...          全球   全球\n",
       "1180  哈瑪斯 殺害 德正妹 遊街 羞辱 美聯社 年度 照片 惹議 東森 新聞 一名 年僅 30 德...          全球   全球\n",
       "1181  33 女狂 嘔以 懷孕 檢查 搖頭 壽命 東森 新聞 以為 迎來 生命 竟是 人生 終局 英...          全球   兩岸\n",
       "\n",
       "[1182 rows x 3 columns]"
      ]
     },
     "execution_count": 45,
     "metadata": {},
     "output_type": "execute_result"
    }
   ],
   "source": [
    "ct['pred'] = y_pred\n",
    "ct.loc[:,['words', 'artCatagory',\"pred\"]]"
   ]
  },
  {
   "cell_type": "code",
   "execution_count": 46,
   "metadata": {},
   "outputs": [
    {
     "data": {
      "text/html": [
       "<div>\n",
       "<style scoped>\n",
       "    .dataframe tbody tr th:only-of-type {\n",
       "        vertical-align: middle;\n",
       "    }\n",
       "\n",
       "    .dataframe tbody tr th {\n",
       "        vertical-align: top;\n",
       "    }\n",
       "\n",
       "    .dataframe thead th {\n",
       "        text-align: right;\n",
       "    }\n",
       "</style>\n",
       "<table border=\"1\" class=\"dataframe\">\n",
       "  <thead>\n",
       "    <tr style=\"text-align: right;\">\n",
       "      <th></th>\n",
       "      <th>words</th>\n",
       "      <th>artCatagory</th>\n",
       "      <th>pred</th>\n",
       "    </tr>\n",
       "  </thead>\n",
       "  <tbody>\n",
       "    <tr>\n",
       "      <th>0</th>\n",
       "      <td>喊話 萬人 花旗 宣布 紐約 286 員工 東森 新聞 美國花旗集團 日前 宣布 將在 未來...</td>\n",
       "      <td>股市</td>\n",
       "      <td>全球</td>\n",
       "    </tr>\n",
       "    <tr>\n",
       "      <th>7</th>\n",
       "      <td>年金 改革 收入 公務員 退休 率降 36 東森 新聞 軍公教 人員 年金 改革 上路 退休...</td>\n",
       "      <td>股市</td>\n",
       "      <td>全球</td>\n",
       "    </tr>\n",
       "    <tr>\n",
       "      <th>9</th>\n",
       "      <td>印表機 大廠 全錄 啟動 裁員 員工 失業 東森 新聞 全球 知名 印表機 製造商 全錄 X...</td>\n",
       "      <td>股市</td>\n",
       "      <td>全球</td>\n",
       "    </tr>\n",
       "    <tr>\n",
       "      <th>11</th>\n",
       "      <td>比特 減半 倒數 睽違 重回 萬美元 東森 新聞 2024 比特 幣的 價格 現貨 ETF ...</td>\n",
       "      <td>股市</td>\n",
       "      <td>全球</td>\n",
       "    </tr>\n",
       "    <tr>\n",
       "      <th>12</th>\n",
       "      <td>夫妻 苦肉計 350 買房 半年 竟開 高價 轉賣 東森 新聞 買房 賣房 學問 日前 一名...</td>\n",
       "      <td>股市</td>\n",
       "      <td>兩岸</td>\n",
       "    </tr>\n",
       "    <tr>\n",
       "      <th>...</th>\n",
       "      <td>...</td>\n",
       "      <td>...</td>\n",
       "      <td>...</td>\n",
       "    </tr>\n",
       "    <tr>\n",
       "      <th>1163</th>\n",
       "      <td>經濟 感到 無力 中國 年輕人 上班 噁心 東森 新聞 中國 青年 未來 感到 無力 先前 ...</td>\n",
       "      <td>全球</td>\n",
       "      <td>兩岸</td>\n",
       "    </tr>\n",
       "    <tr>\n",
       "      <th>1166</th>\n",
       "      <td>河北 燕郊 大火 濃煙 直竄 電動車 起火 釀災 東森 新聞 中國 河北 燕郊 幾周 前才剛...</td>\n",
       "      <td>全球</td>\n",
       "      <td>兩岸</td>\n",
       "    </tr>\n",
       "    <tr>\n",
       "      <th>1168</th>\n",
       "      <td>黃金 央企 金店 陸民 損失 17 億台幣 東森 新聞 金價 創新 大陸 年輕人 已經 成為...</td>\n",
       "      <td>全球</td>\n",
       "      <td>兩岸</td>\n",
       "    </tr>\n",
       "    <tr>\n",
       "      <th>1173</th>\n",
       "      <td>健身 槓鈴 碰碎 手鐲 女客 求償 萬台幣 互告 東森 新聞 健身房 畫面 右方 黑衣 女子...</td>\n",
       "      <td>全球</td>\n",
       "      <td>兩岸</td>\n",
       "    </tr>\n",
       "    <tr>\n",
       "      <th>1181</th>\n",
       "      <td>33 女狂 嘔以 懷孕 檢查 搖頭 壽命 東森 新聞 以為 迎來 生命 竟是 人生 終局 英...</td>\n",
       "      <td>全球</td>\n",
       "      <td>兩岸</td>\n",
       "    </tr>\n",
       "  </tbody>\n",
       "</table>\n",
       "<p>481 rows × 3 columns</p>\n",
       "</div>"
      ],
      "text/plain": [
       "                                                  words artCatagory pred\n",
       "0     喊話 萬人 花旗 宣布 紐約 286 員工 東森 新聞 美國花旗集團 日前 宣布 將在 未來...          股市   全球\n",
       "7     年金 改革 收入 公務員 退休 率降 36 東森 新聞 軍公教 人員 年金 改革 上路 退休...          股市   全球\n",
       "9     印表機 大廠 全錄 啟動 裁員 員工 失業 東森 新聞 全球 知名 印表機 製造商 全錄 X...          股市   全球\n",
       "11    比特 減半 倒數 睽違 重回 萬美元 東森 新聞 2024 比特 幣的 價格 現貨 ETF ...          股市   全球\n",
       "12    夫妻 苦肉計 350 買房 半年 竟開 高價 轉賣 東森 新聞 買房 賣房 學問 日前 一名...          股市   兩岸\n",
       "...                                                 ...         ...  ...\n",
       "1163  經濟 感到 無力 中國 年輕人 上班 噁心 東森 新聞 中國 青年 未來 感到 無力 先前 ...          全球   兩岸\n",
       "1166  河北 燕郊 大火 濃煙 直竄 電動車 起火 釀災 東森 新聞 中國 河北 燕郊 幾周 前才剛...          全球   兩岸\n",
       "1168  黃金 央企 金店 陸民 損失 17 億台幣 東森 新聞 金價 創新 大陸 年輕人 已經 成為...          全球   兩岸\n",
       "1173  健身 槓鈴 碰碎 手鐲 女客 求償 萬台幣 互告 東森 新聞 健身房 畫面 右方 黑衣 女子...          全球   兩岸\n",
       "1181  33 女狂 嘔以 懷孕 檢查 搖頭 壽命 東森 新聞 以為 迎來 生命 竟是 人生 終局 英...          全球   兩岸\n",
       "\n",
       "[481 rows x 3 columns]"
      ]
     },
     "execution_count": 46,
     "metadata": {},
     "output_type": "execute_result"
    }
   ],
   "source": [
    "false_pred = ct.query(\"artCatagory != pred\").loc[:,['words', 'artCatagory',\"pred\"]]\n",
    "false_pred"
   ]
  },
  {
   "cell_type": "code",
   "execution_count": 47,
   "metadata": {},
   "outputs": [
    {
     "data": {
      "text/html": [
       "<div>\n",
       "<style scoped>\n",
       "    .dataframe tbody tr th:only-of-type {\n",
       "        vertical-align: middle;\n",
       "    }\n",
       "\n",
       "    .dataframe tbody tr th {\n",
       "        vertical-align: top;\n",
       "    }\n",
       "\n",
       "    .dataframe thead th {\n",
       "        text-align: right;\n",
       "    }\n",
       "</style>\n",
       "<table border=\"1\" class=\"dataframe\">\n",
       "  <thead>\n",
       "    <tr style=\"text-align: right;\">\n",
       "      <th></th>\n",
       "      <th>words</th>\n",
       "      <th>artCatagory</th>\n",
       "      <th>pred</th>\n",
       "    </tr>\n",
       "  </thead>\n",
       "  <tbody>\n",
       "    <tr>\n",
       "      <th>531</th>\n",
       "      <td>重磅 公開 中國 天鷹 無人機 試飛 畫面 年首 曝光 東森 新聞 印太 地區 空軍 戰力 ...</td>\n",
       "      <td>全球</td>\n",
       "      <td>兩岸</td>\n",
       "    </tr>\n",
       "    <tr>\n",
       "      <th>534</th>\n",
       "      <td>中國 2024 兩會 需要 核酸 檢測 東森 新聞 中國 全國 兩會 政協 人大 拉開帷幕 ...</td>\n",
       "      <td>全球</td>\n",
       "      <td>兩岸</td>\n",
       "    </tr>\n",
       "    <tr>\n",
       "      <th>536</th>\n",
       "      <td>父母 離婚 聯繫 男童 無家可歸 留校 畫面 網友 東森 新聞 馬來西亞 日前 有張 令人 ...</td>\n",
       "      <td>全球</td>\n",
       "      <td>兩岸</td>\n",
       "    </tr>\n",
       "    <tr>\n",
       "      <th>538</th>\n",
       "      <td>27 男到 非洲 酋長 年薪 百萬 還能 東森 新聞 27 大陸 男子 李滿 2018 非洲...</td>\n",
       "      <td>全球</td>\n",
       "      <td>兩岸</td>\n",
       "    </tr>\n",
       "    <tr>\n",
       "      <th>539</th>\n",
       "      <td>裝窮 20 工作 還債 意外 繼承 億萬 家產 東森 新聞 中國 零食 巨頭 麻辣 王子 創...</td>\n",
       "      <td>全球</td>\n",
       "      <td>兩岸</td>\n",
       "    </tr>\n",
       "    <tr>\n",
       "      <th>542</th>\n",
       "      <td>赴陸 旅遊 期限 第一天 台灣 旅客 兩岸 來往 東森 新聞 中國 大陸 旅遊團 今天 限期...</td>\n",
       "      <td>全球</td>\n",
       "      <td>兩岸</td>\n",
       "    </tr>\n",
       "    <tr>\n",
       "      <th>545</th>\n",
       "      <td>世界 最潮 102 過世 全球 網友 IG 哀悼 東森 新聞 網友 封為 世界 最潮 時尚 ...</td>\n",
       "      <td>全球</td>\n",
       "      <td>兩岸</td>\n",
       "    </tr>\n",
       "    <tr>\n",
       "      <th>550</th>\n",
       "      <td>糊塗 大陸 蜘蛛人 忘帶 鑰匙 還爬 鄰居家 東森 新聞 微弱 燈光 勉強 清楚 警方 大聲...</td>\n",
       "      <td>全球</td>\n",
       "      <td>兩岸</td>\n",
       "    </tr>\n",
       "    <tr>\n",
       "      <th>554</th>\n",
       "      <td>雨傘 傘柄 神秘 貼紙 540 網友 東森 新聞 北台 近幾天 陰雨 綿綿 雨傘 成為 許多...</td>\n",
       "      <td>全球</td>\n",
       "      <td>兩岸</td>\n",
       "    </tr>\n",
       "    <tr>\n",
       "      <th>555</th>\n",
       "      <td>唱歌 突走音 就醫 查出 惡性腫瘤 東森 新聞 大陸 鄭州 女子 唱歌 突然 走音 檢查 惡...</td>\n",
       "      <td>全球</td>\n",
       "      <td>兩岸</td>\n",
       "    </tr>\n",
       "    <tr>\n",
       "      <th>558</th>\n",
       "      <td>覺得 嬰太瘦 嬤偷 白開水 腸子 腫脹 丟命 東森 新聞 馬來西亞 一位 母親 近期 網上 ...</td>\n",
       "      <td>全球</td>\n",
       "      <td>兩岸</td>\n",
       "    </tr>\n",
       "    <tr>\n",
       "      <th>559</th>\n",
       "      <td>大陸 全國 兩會 召開 北京 頭維 升級 東森 新聞 北京 準備 接受 安檢 人龍 更長 一...</td>\n",
       "      <td>全球</td>\n",
       "      <td>兩岸</td>\n",
       "    </tr>\n",
       "    <tr>\n",
       "      <th>563</th>\n",
       "      <td>瑞幸 品項 縮水 白領 小確 東森 新聞 大陸 民眾 工人 快樂 9.9 瑞幸 咖啡 節後 ...</td>\n",
       "      <td>全球</td>\n",
       "      <td>兩岸</td>\n",
       "    </tr>\n",
       "    <tr>\n",
       "      <th>567</th>\n",
       "      <td>超市 牛肉 竟是 瘦肉 牛油 陸女 切開 一看 氣炸 東森 新聞 中國 大陸 一名 一名 女...</td>\n",
       "      <td>全球</td>\n",
       "      <td>兩岸</td>\n",
       "    </tr>\n",
       "    <tr>\n",
       "      <th>568</th>\n",
       "      <td>共軍 再擾 10 架次 共機 跨越 中線 延伸線 東森 新聞 最新消息 國防部 公布 兩岸 ...</td>\n",
       "      <td>全球</td>\n",
       "      <td>兩岸</td>\n",
       "    </tr>\n",
       "    <tr>\n",
       "      <th>576</th>\n",
       "      <td>厭倦 公務員 生活 陸男 勇闖 非洲 酋長 催婚 東森 新聞 中國 寧夏 一名 27 青年 ...</td>\n",
       "      <td>全球</td>\n",
       "      <td>兩岸</td>\n",
       "    </tr>\n",
       "    <tr>\n",
       "      <th>582</th>\n",
       "      <td>陸網紅 背書 紅果 瀉藥 成分 東森 新聞 大陸 影音 平台 粉絲 直播 瘋狂 楊哥 直播 ...</td>\n",
       "      <td>全球</td>\n",
       "      <td>兩岸</td>\n",
       "    </tr>\n",
       "    <tr>\n",
       "      <th>583</th>\n",
       "      <td>兩會 張曉明 免去 政協 秘書長 東森 新聞 2020 大陸 人大 常委 強勢 港版 國安法...</td>\n",
       "      <td>全球</td>\n",
       "      <td>兩岸</td>\n",
       "    </tr>\n",
       "    <tr>\n",
       "      <th>585</th>\n",
       "      <td>世界 第二 瑞典 20 層樓 木造 大樓 實踐 永續 工法 東森 新聞 空拍 鏡頭 從樹林 ...</td>\n",
       "      <td>全球</td>\n",
       "      <td>兩岸</td>\n",
       "    </tr>\n",
       "    <tr>\n",
       "      <th>590</th>\n",
       "      <td>2024 中國 兩會 焦點 經濟 成長 目標 外長 東森 新聞 今年 中國 全國 兩會 先後...</td>\n",
       "      <td>全球</td>\n",
       "      <td>兩岸</td>\n",
       "    </tr>\n",
       "    <tr>\n",
       "      <th>591</th>\n",
       "      <td>月經 來痛 只能 臥床 20 女長 個子 醫生 原因 東森 新聞 大部分 女性 經歷 痛經 ...</td>\n",
       "      <td>全球</td>\n",
       "      <td>兩岸</td>\n",
       "    </tr>\n",
       "    <tr>\n",
       "      <th>593</th>\n",
       "      <td>大生 高鐵 睡著 陌生 肩膀 超甜 後續 曝光 東森 新聞 大陸 名女 大學生 近日 高鐵 ...</td>\n",
       "      <td>全球</td>\n",
       "      <td>兩岸</td>\n",
       "    </tr>\n",
       "    <tr>\n",
       "      <th>598</th>\n",
       "      <td>大馬 嚴重 死亡 車禍 一家 口剩 歲弟 倖存 東森 新聞 馬來西亞 日前 發生 一起 死亡...</td>\n",
       "      <td>全球</td>\n",
       "      <td>兩岸</td>\n",
       "    </tr>\n",
       "    <tr>\n",
       "      <th>601</th>\n",
       "      <td>金門 快艇 管碧玲 中國 最想 名稱 東森 新聞 中國 快艇 非法 越界 金門 海域 翻覆 ...</td>\n",
       "      <td>全球</td>\n",
       "      <td>兩岸</td>\n",
       "    </tr>\n",
       "    <tr>\n",
       "      <th>603</th>\n",
       "      <td>正妹 警變 女優 遭罵 稅金 小偷 親曝入 原因 東森 新聞 日本 一名 女子 Chanyo...</td>\n",
       "      <td>全球</td>\n",
       "      <td>運動</td>\n",
       "    </tr>\n",
       "    <tr>\n",
       "      <th>604</th>\n",
       "      <td>中國 兩會 經濟 專家 市場 沒太大 憧憬 東森 新聞 中國 全國人大 政協 兩會 舉行 北...</td>\n",
       "      <td>全球</td>\n",
       "      <td>兩岸</td>\n",
       "    </tr>\n",
       "    <tr>\n",
       "      <th>605</th>\n",
       "      <td>兩會 重大 訊息 舉行 總理 記者會 東森 新聞 大陸 兩會 召開 剛剛 人大 發言人 表示...</td>\n",
       "      <td>全球</td>\n",
       "      <td>兩岸</td>\n",
       "    </tr>\n",
       "    <tr>\n",
       "      <th>608</th>\n",
       "      <td>中國 人大 記者會 經濟 安全 香港 議題 關注 東森 新聞 中國 全國人大 舉行 會前 記...</td>\n",
       "      <td>全球</td>\n",
       "      <td>兩岸</td>\n",
       "    </tr>\n",
       "    <tr>\n",
       "      <th>609</th>\n",
       "      <td>中國 兩會 關鍵字 新質 生產力 關注 東森 新聞 中國 兩會 明天 召開 分析 指出 中國...</td>\n",
       "      <td>全球</td>\n",
       "      <td>兩岸</td>\n",
       "    </tr>\n",
       "    <tr>\n",
       "      <th>610</th>\n",
       "      <td>中國 兩會 召開 500 億元 撤出 陸股 創單 新高 東森 新聞 中國政協 人大 兩會 今...</td>\n",
       "      <td>全球</td>\n",
       "      <td>兩岸</td>\n",
       "    </tr>\n",
       "    <tr>\n",
       "      <th>612</th>\n",
       "      <td>中國 取消 總理 記者會 評論 總理 地位 降低 東森 新聞 中國 今年 全國人大 會議 閉...</td>\n",
       "      <td>全球</td>\n",
       "      <td>兩岸</td>\n",
       "    </tr>\n",
       "    <tr>\n",
       "      <th>613</th>\n",
       "      <td>兩會 登場 各界 聚焦 經濟 目標 對台 立場 東森 新聞 大陸 兩會 今天 登場 警犬 偵...</td>\n",
       "      <td>全球</td>\n",
       "      <td>兩岸</td>\n",
       "    </tr>\n",
       "    <tr>\n",
       "      <th>614</th>\n",
       "      <td>香港機場 空姐 熱舞 動作 媲美 韓團 東森 新聞 近日 網路上 瘋傳 這段 影片 穿著 韓...</td>\n",
       "      <td>全球</td>\n",
       "      <td>兩岸</td>\n",
       "    </tr>\n",
       "    <tr>\n",
       "      <th>615</th>\n",
       "      <td>中國政府 工作 報告 學者 推估 經濟 成長率 設在 5% 東森 新聞 中國 兩會 召開 學...</td>\n",
       "      <td>全球</td>\n",
       "      <td>兩岸</td>\n",
       "    </tr>\n",
       "    <tr>\n",
       "      <th>617</th>\n",
       "      <td>海警 船侵 金門 海域 引發 緊張 NHK 高度 關注 報導 東森 新聞 飛機 俯瞰 金門 ...</td>\n",
       "      <td>全球</td>\n",
       "      <td>兩岸</td>\n",
       "    </tr>\n",
       "    <tr>\n",
       "      <th>619</th>\n",
       "      <td>兩會 總理 記者會 喊停 中國外交部 感謝 關心 擔心 東森 新聞 針對 今年 本屆 中國 ...</td>\n",
       "      <td>全球</td>\n",
       "      <td>兩岸</td>\n",
       "    </tr>\n",
       "    <tr>\n",
       "      <th>621</th>\n",
       "      <td>乞丐 月薪 萬暴紅 知名演員 吐入行 12 心聲 東森 新聞 路邊 看到 乞討 乞丐 激起 ...</td>\n",
       "      <td>全球</td>\n",
       "      <td>兩岸</td>\n",
       "    </tr>\n",
       "    <tr>\n",
       "      <th>622</th>\n",
       "      <td>老闆 會議 一半 解僱 公司 失業 男控 毫無悔意 東森 新聞 一名 科技 公司 任職 網友...</td>\n",
       "      <td>全球</td>\n",
       "      <td>兩岸</td>\n",
       "    </tr>\n",
       "    <tr>\n",
       "      <th>623</th>\n",
       "      <td>中國 兩會 採訪 恢復 熱鬧 藝人 政協委員 聚焦 東森 新聞 中國 今年 全國 兩會 恢復...</td>\n",
       "      <td>全球</td>\n",
       "      <td>兩岸</td>\n",
       "    </tr>\n",
       "    <tr>\n",
       "      <th>625</th>\n",
       "      <td>三中全會 總理 記者會 中國 兩會 挨批 過場 東森 新聞 中國 兩會 兩天 接力 登場 原...</td>\n",
       "      <td>全球</td>\n",
       "      <td>兩岸</td>\n",
       "    </tr>\n",
       "    <tr>\n",
       "      <th>627</th>\n",
       "      <td>罕見 人大 取消 總理 記者會 以後 不開 東森 新聞 大陸 政協會議 開幕式 登場 涉台 ...</td>\n",
       "      <td>全球</td>\n",
       "      <td>兩岸</td>\n",
       "    </tr>\n",
       "    <tr>\n",
       "      <th>629</th>\n",
       "      <td>員工 抱怨 公司 聊天 紀錄 老闆 偷錄 求償 20 東森 新聞 網路 發言 注意 使用 過...</td>\n",
       "      <td>全球</td>\n",
       "      <td>兩岸</td>\n",
       "    </tr>\n",
       "    <tr>\n",
       "      <th>631</th>\n",
       "      <td>中國 兩會 震撼 取消 總理 記者會 董明珠 幾聲 回應 東森 新聞 中國 官方 取消 總理...</td>\n",
       "      <td>全球</td>\n",
       "      <td>兩岸</td>\n",
       "    </tr>\n",
       "    <tr>\n",
       "      <th>632</th>\n",
       "      <td>兩會 和平統一 軍費 增幅 7.2 超台灣 12 東森 新聞 大陸 兩會 北京 開幕 大陸 ...</td>\n",
       "      <td>全球</td>\n",
       "      <td>兩岸</td>\n",
       "    </tr>\n",
       "    <tr>\n",
       "      <th>633</th>\n",
       "      <td>快訊 陸方 不到 道歉 拒收 海巡 88 慰問金 東森 新聞 陸方 不到 政府 道歉 中午 ...</td>\n",
       "      <td>全球</td>\n",
       "      <td>兩岸</td>\n",
       "    </tr>\n",
       "    <tr>\n",
       "      <th>634</th>\n",
       "      <td>兩會 氣氛 緊張 記者 採訪 維權 集會 遭陸警 推倒 東森 新聞 中國 兩會 期間 北京 ...</td>\n",
       "      <td>全球</td>\n",
       "      <td>兩岸</td>\n",
       "    </tr>\n",
       "    <tr>\n",
       "      <th>636</th>\n",
       "      <td>中國 兩會 記者 蜂擁 堵麥 訪問 董明珠 差點 跌倒 東森 新聞 每年 大陸 兩會 出現 ...</td>\n",
       "      <td>全球</td>\n",
       "      <td>兩岸</td>\n",
       "    </tr>\n",
       "    <tr>\n",
       "      <th>639</th>\n",
       "      <td>美艦 芬恩號 兩會 期間 穿越 台海 中共 痛批 公開 炒作 東森 新聞 中共 舉辦 兩會 ...</td>\n",
       "      <td>全球</td>\n",
       "      <td>兩岸</td>\n",
       "    </tr>\n",
       "    <tr>\n",
       "      <th>643</th>\n",
       "      <td>中菲 南海 衝突 雙方 執法 船隻 碰撞 東森 新聞 中國 菲律賓 今天 南海 再度 發生衝...</td>\n",
       "      <td>全球</td>\n",
       "      <td>兩岸</td>\n",
       "    </tr>\n",
       "    <tr>\n",
       "      <th>644</th>\n",
       "      <td>兩會 期間 美艦 芬恩號 穿越 台海 國防部 狀況 正常 東森 新聞 中國 兩會 召開 之際...</td>\n",
       "      <td>全球</td>\n",
       "      <td>兩岸</td>\n",
       "    </tr>\n",
       "  </tbody>\n",
       "</table>\n",
       "</div>"
      ],
      "text/plain": [
       "                                                 words artCatagory pred\n",
       "531  重磅 公開 中國 天鷹 無人機 試飛 畫面 年首 曝光 東森 新聞 印太 地區 空軍 戰力 ...          全球   兩岸\n",
       "534  中國 2024 兩會 需要 核酸 檢測 東森 新聞 中國 全國 兩會 政協 人大 拉開帷幕 ...          全球   兩岸\n",
       "536  父母 離婚 聯繫 男童 無家可歸 留校 畫面 網友 東森 新聞 馬來西亞 日前 有張 令人 ...          全球   兩岸\n",
       "538  27 男到 非洲 酋長 年薪 百萬 還能 東森 新聞 27 大陸 男子 李滿 2018 非洲...          全球   兩岸\n",
       "539  裝窮 20 工作 還債 意外 繼承 億萬 家產 東森 新聞 中國 零食 巨頭 麻辣 王子 創...          全球   兩岸\n",
       "542  赴陸 旅遊 期限 第一天 台灣 旅客 兩岸 來往 東森 新聞 中國 大陸 旅遊團 今天 限期...          全球   兩岸\n",
       "545  世界 最潮 102 過世 全球 網友 IG 哀悼 東森 新聞 網友 封為 世界 最潮 時尚 ...          全球   兩岸\n",
       "550  糊塗 大陸 蜘蛛人 忘帶 鑰匙 還爬 鄰居家 東森 新聞 微弱 燈光 勉強 清楚 警方 大聲...          全球   兩岸\n",
       "554  雨傘 傘柄 神秘 貼紙 540 網友 東森 新聞 北台 近幾天 陰雨 綿綿 雨傘 成為 許多...          全球   兩岸\n",
       "555  唱歌 突走音 就醫 查出 惡性腫瘤 東森 新聞 大陸 鄭州 女子 唱歌 突然 走音 檢查 惡...          全球   兩岸\n",
       "558  覺得 嬰太瘦 嬤偷 白開水 腸子 腫脹 丟命 東森 新聞 馬來西亞 一位 母親 近期 網上 ...          全球   兩岸\n",
       "559  大陸 全國 兩會 召開 北京 頭維 升級 東森 新聞 北京 準備 接受 安檢 人龍 更長 一...          全球   兩岸\n",
       "563  瑞幸 品項 縮水 白領 小確 東森 新聞 大陸 民眾 工人 快樂 9.9 瑞幸 咖啡 節後 ...          全球   兩岸\n",
       "567  超市 牛肉 竟是 瘦肉 牛油 陸女 切開 一看 氣炸 東森 新聞 中國 大陸 一名 一名 女...          全球   兩岸\n",
       "568  共軍 再擾 10 架次 共機 跨越 中線 延伸線 東森 新聞 最新消息 國防部 公布 兩岸 ...          全球   兩岸\n",
       "576  厭倦 公務員 生活 陸男 勇闖 非洲 酋長 催婚 東森 新聞 中國 寧夏 一名 27 青年 ...          全球   兩岸\n",
       "582  陸網紅 背書 紅果 瀉藥 成分 東森 新聞 大陸 影音 平台 粉絲 直播 瘋狂 楊哥 直播 ...          全球   兩岸\n",
       "583  兩會 張曉明 免去 政協 秘書長 東森 新聞 2020 大陸 人大 常委 強勢 港版 國安法...          全球   兩岸\n",
       "585  世界 第二 瑞典 20 層樓 木造 大樓 實踐 永續 工法 東森 新聞 空拍 鏡頭 從樹林 ...          全球   兩岸\n",
       "590  2024 中國 兩會 焦點 經濟 成長 目標 外長 東森 新聞 今年 中國 全國 兩會 先後...          全球   兩岸\n",
       "591  月經 來痛 只能 臥床 20 女長 個子 醫生 原因 東森 新聞 大部分 女性 經歷 痛經 ...          全球   兩岸\n",
       "593  大生 高鐵 睡著 陌生 肩膀 超甜 後續 曝光 東森 新聞 大陸 名女 大學生 近日 高鐵 ...          全球   兩岸\n",
       "598  大馬 嚴重 死亡 車禍 一家 口剩 歲弟 倖存 東森 新聞 馬來西亞 日前 發生 一起 死亡...          全球   兩岸\n",
       "601  金門 快艇 管碧玲 中國 最想 名稱 東森 新聞 中國 快艇 非法 越界 金門 海域 翻覆 ...          全球   兩岸\n",
       "603  正妹 警變 女優 遭罵 稅金 小偷 親曝入 原因 東森 新聞 日本 一名 女子 Chanyo...          全球   運動\n",
       "604  中國 兩會 經濟 專家 市場 沒太大 憧憬 東森 新聞 中國 全國人大 政協 兩會 舉行 北...          全球   兩岸\n",
       "605  兩會 重大 訊息 舉行 總理 記者會 東森 新聞 大陸 兩會 召開 剛剛 人大 發言人 表示...          全球   兩岸\n",
       "608  中國 人大 記者會 經濟 安全 香港 議題 關注 東森 新聞 中國 全國人大 舉行 會前 記...          全球   兩岸\n",
       "609  中國 兩會 關鍵字 新質 生產力 關注 東森 新聞 中國 兩會 明天 召開 分析 指出 中國...          全球   兩岸\n",
       "610  中國 兩會 召開 500 億元 撤出 陸股 創單 新高 東森 新聞 中國政協 人大 兩會 今...          全球   兩岸\n",
       "612  中國 取消 總理 記者會 評論 總理 地位 降低 東森 新聞 中國 今年 全國人大 會議 閉...          全球   兩岸\n",
       "613  兩會 登場 各界 聚焦 經濟 目標 對台 立場 東森 新聞 大陸 兩會 今天 登場 警犬 偵...          全球   兩岸\n",
       "614  香港機場 空姐 熱舞 動作 媲美 韓團 東森 新聞 近日 網路上 瘋傳 這段 影片 穿著 韓...          全球   兩岸\n",
       "615  中國政府 工作 報告 學者 推估 經濟 成長率 設在 5% 東森 新聞 中國 兩會 召開 學...          全球   兩岸\n",
       "617  海警 船侵 金門 海域 引發 緊張 NHK 高度 關注 報導 東森 新聞 飛機 俯瞰 金門 ...          全球   兩岸\n",
       "619  兩會 總理 記者會 喊停 中國外交部 感謝 關心 擔心 東森 新聞 針對 今年 本屆 中國 ...          全球   兩岸\n",
       "621  乞丐 月薪 萬暴紅 知名演員 吐入行 12 心聲 東森 新聞 路邊 看到 乞討 乞丐 激起 ...          全球   兩岸\n",
       "622  老闆 會議 一半 解僱 公司 失業 男控 毫無悔意 東森 新聞 一名 科技 公司 任職 網友...          全球   兩岸\n",
       "623  中國 兩會 採訪 恢復 熱鬧 藝人 政協委員 聚焦 東森 新聞 中國 今年 全國 兩會 恢復...          全球   兩岸\n",
       "625  三中全會 總理 記者會 中國 兩會 挨批 過場 東森 新聞 中國 兩會 兩天 接力 登場 原...          全球   兩岸\n",
       "627  罕見 人大 取消 總理 記者會 以後 不開 東森 新聞 大陸 政協會議 開幕式 登場 涉台 ...          全球   兩岸\n",
       "629  員工 抱怨 公司 聊天 紀錄 老闆 偷錄 求償 20 東森 新聞 網路 發言 注意 使用 過...          全球   兩岸\n",
       "631  中國 兩會 震撼 取消 總理 記者會 董明珠 幾聲 回應 東森 新聞 中國 官方 取消 總理...          全球   兩岸\n",
       "632  兩會 和平統一 軍費 增幅 7.2 超台灣 12 東森 新聞 大陸 兩會 北京 開幕 大陸 ...          全球   兩岸\n",
       "633  快訊 陸方 不到 道歉 拒收 海巡 88 慰問金 東森 新聞 陸方 不到 政府 道歉 中午 ...          全球   兩岸\n",
       "634  兩會 氣氛 緊張 記者 採訪 維權 集會 遭陸警 推倒 東森 新聞 中國 兩會 期間 北京 ...          全球   兩岸\n",
       "636  中國 兩會 記者 蜂擁 堵麥 訪問 董明珠 差點 跌倒 東森 新聞 每年 大陸 兩會 出現 ...          全球   兩岸\n",
       "639  美艦 芬恩號 兩會 期間 穿越 台海 中共 痛批 公開 炒作 東森 新聞 中共 舉辦 兩會 ...          全球   兩岸\n",
       "643  中菲 南海 衝突 雙方 執法 船隻 碰撞 東森 新聞 中國 菲律賓 今天 南海 再度 發生衝...          全球   兩岸\n",
       "644  兩會 期間 美艦 芬恩號 穿越 台海 國防部 狀況 正常 東森 新聞 中國 兩會 召開 之際...          全球   兩岸"
      ]
     },
     "execution_count": 47,
     "metadata": {},
     "output_type": "execute_result"
    }
   ],
   "source": [
    "false_pred.loc[false_pred['artCatagory']=='全球', :].head(50)"
   ]
  },
  {
   "cell_type": "code",
   "execution_count": 48,
   "metadata": {},
   "outputs": [
    {
     "data": {
      "text/plain": [
       "words          重磅 公開 中國 天鷹 無人機 試飛 畫面 年首 曝光 東森 新聞 印太 地區 空軍 戰力 ...\n",
       "artCatagory                                                   全球\n",
       "pred                                                          兩岸\n",
       "Name: 531, dtype: object"
      ]
     },
     "execution_count": 48,
     "metadata": {},
     "output_type": "execute_result"
    }
   ],
   "source": [
    "false_pred.loc[531, :]"
   ]
  },
  {
   "cell_type": "code",
   "execution_count": 49,
   "metadata": {},
   "outputs": [
    {
     "name": "stdout",
     "output_type": "stream",
     "text": [
      "('重磅 公開 中國 天鷹 無人機 試飛 畫面 年首 曝光 東森 新聞 印太 地區 空軍 戰力 發展 中國 重磅 公開 國產 無人機 天鷹 試飛 畫面 這款 '\n",
      " '戰機 長時間 巡航 飛行 隱形 具有 臨空 偵察 能力 設計師 直言 未來 發展 偵查 打擊 並用 戰機 型號 新加坡 則在 近期 宣布 增購 八架 '\n",
      " '35A 戰機 取代 現有 16 原有 12 35A 新加坡 空戰 陣容 堪稱 東南亞 跑道 滑行 起飛 外型 類似 美軍 轟炸機 歷經 研究 製造 中國 '\n",
      " '國產 無人 偵察機 天鷹 2017 11 首度 試飛 成功 足足 六年 中國 重磅 公開 當時 畫面 中國航天 科工 三院 洪忠 首飛 現在 印象 比較 '\n",
      " '天鷹 無人機 長時間 巡航 飛行 具有 臨空 偵察 能力 更能 實現 自主 起降 適合 高度 危險 戰場 執行 任務 載荷 能力 裝載 雷達 光電 電子 '\n",
      " '偵察 電子對抗 設備 設計師 表示 未來 天鷹 偵察 打擊 並用 有效 精準 打擊目標 整個 印太 地區 中國 積極 提升 軍事實力 面對 詭譎 南海 '\n",
      " '情勢 新加坡 政局穩定 人口 面積 近年 持續 武裝部隊 加強 部署 擁有 超音速 巡航 能力 全副武裝 起飛 全球 最強 戰機 35A 加入 新加坡 '\n",
      " '空軍 新加坡 國防部長 永宏 35A 設計 耐戰性 荷載 能力 更強 35 讚許 包括 短程 垂直 起降 35 機身 較大 續航力 作業 彈性 更高 '\n",
      " '新加坡 近期 宣布 將會 增購 35A 戰機 原本 新加坡 已經 訂購 12 35B 訂購 35A 將會 擁有 總共 20 具有 功能 第五代 戰機 '\n",
      " '取代 現有 16 戰機 陣容 堪稱 東南亞 最強 空軍 戰力 而身 全球 先進 35 比拼 對象 自然 中國 20 戰機 中國 20 飛行員 前方 15 '\n",
      " '公里 明白 急轉 急轉 20 35 屬於 等級 目前 全球 先進 第五代 戰機 202017 服役 已經 中國 五大 戰區 投入使用 中國 挑戰 35 '\n",
      " '35 測試 加速 推進 35 搭載 航母 福建 福建 全身 日前 首次 曝光 電磁 彈射 軌道 甲板 清楚 中國 第三艘 航母 福建 2022 六月 '\n",
      " '正式 下水 象徵 中國 海軍 邁進 一大步 特別 上面 使用 先進 電磁 彈射器 往後 35 使用 電磁 彈射 技術 進一步 加強 解放軍 海上 航空兵 '\n",
      " '力量 解放軍 海空 戰力 明顯 碾壓 印太 周邊國家 反觀 台灣 目前 戰機 系統 停留 16 擁有 35 等級 第五代 戰機 美方 點頭 出售 給予 '\n",
      " '研發 協助 最終 關鍵')\n"
     ]
    }
   ],
   "source": [
    "pprint(false_pred['words'][531])"
   ]
  },
  {
   "attachments": {},
   "cell_type": "markdown",
   "metadata": {},
   "source": [
    "模型對另一個新聞網的預測結果比較普通。可以看到兩岸的 precision 與 recall 都相對低，從預測結果來看，可以發現東森新聞的「全球」類別，也常常會報導中國的資訊，因為出現中國、大陸等字樣，使模型預測成「兩岸」。"
   ]
  },
  {
   "attachments": {},
   "cell_type": "markdown",
   "metadata": {},
   "source": [
    "* accuracy可能會因為資料分布不同而有所偏差，所以評估模型的時候，可以加入一起 F1-score, recall, precision, AUC 等常見分類任務指標來評估。"
   ]
  }
 ],
 "metadata": {
  "kernelspec": {
   "display_name": "Python 3",
   "language": "python",
   "name": "python3"
  },
  "language_info": {
   "codemirror_mode": {
    "name": "ipython",
    "version": 3
   },
   "file_extension": ".py",
   "mimetype": "text/x-python",
   "name": "python",
   "nbconvert_exporter": "python",
   "pygments_lexer": "ipython3",
   "version": "3.9.18"
  }
 },
 "nbformat": 4,
 "nbformat_minor": 4
}
