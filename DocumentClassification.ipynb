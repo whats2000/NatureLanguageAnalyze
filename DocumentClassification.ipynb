{
 "cells": [
  {
   "attachments": {},
   "cell_type": "markdown",
   "metadata": {},
   "source": [
    "# 文件分類\n",
    "\n",
    "本次練習為「文件分類」，主要使用文章轉DTM(document term matrix)的方式，將文章用不同的字詞分布表示，再利用python的sklearn套件，套用決策樹、logistic regression等方式訓練模型，以分辨不同的文件。本篇 Jupyter Notebook 將展示「中文」的文件分類，使用聯合新聞網的三個版別文章做示範。"
   ]
  },
  {
   "attachments": {},
   "cell_type": "markdown",
   "metadata": {},
   "source": [
    "## 分析目標\n",
    "+ 資料內容：\n",
    "    + 資料來源：聯合新聞網\n",
    "    + 版別：財經、社會、全球\n",
    "    + 時間範圍：2023/12/23 ~ 2024/01/13\n",
    "        + 聯合新聞網的版別：產經、股市、社會、國際\n",
    "        + 聯合新聞網的產經版與股市版合併為財經版\n",
    "        + 產經(produce)、股市(stock) -> 財經(economy)\n",
    "        + 東森新聞網的版別：政治、社會、國際、財經\n",
    "        + 東森新聞網的政治板與社會板合併為社會板\n",
    "        + 政治(politics)、社會(society) -> 社會(society)\n",
    "\n",
    "* 分析主題：將聯合新聞網三個版別的文章合起來，訓練模型能預測新聞版別，再用分類模型進行文件的版別分類。\n",
    "\n",
    "* 以下為教學目標：\n",
    "    1. 如何將以數字向量代表一篇文章？\n",
    "        * `CountVectorizer`\n",
    "        * `TfidfVectorizer`\n",
    "    2. 基本的分類模型流程，包含以下三步驟：\n",
    "        * 前處理 (preprocess)\n",
    "        * 建模 (train model)\n",
    "        * 評估與預測 (evaluation and predict)\n",
    "    3. cross validation\n",
    "    4. 不同分類器的效果\n",
    "    5. 可解釋的可視化模型結果\n",
    "    6. 預測其他家新聞文章的版別"
   ]
  },
  {
   "attachments": {},
   "cell_type": "markdown",
   "metadata": {},
   "source": [
    "## 1. 套件說明\n",
    "下面列出在本次實作過程中我們所使用到的相關套件，在這個Jupyter Notebook當中我們將會簡單的展示這些套件的使用方式，關於各個套件的進階使用請同學參照其官網的說明。\n",
    "- **sklearn**: 全名為Scikit-learn，機器學習的常用建模套件，包含各種分群、分類、迴歸模型，如隨機森林、SVM或 K-means 等。\n",
    "- pandas: 一個資料分析的函式庫，提供了DataFrame等資料格式，與資料處理的函數。\n",
    "- jieba: 結巴套件，中文斷詞套件\n",
    "- seaborn: 基於 matplotlib 封裝的繪圖工具  "
   ]
  },
  {
   "cell_type": "code",
   "metadata": {
    "ExecuteTime": {
     "end_time": "2024-04-08T01:37:16.711923Z",
     "start_time": "2024-04-08T01:37:16.180471Z"
    }
   },
   "source": [
    "import re\n",
    "from pprint import pprint\n",
    "\n",
    "import pandas as pd\n",
    "import numpy as np\n",
    "import matplotlib.pyplot as plt\n",
    "import seaborn as sns\n",
    "import jieba\n",
    "from sklearn.model_selection import train_test_split, cross_validate, cross_val_predict, KFold\n",
    "from sklearn.metrics import (\n",
    "    confusion_matrix,\n",
    "    classification_report,\n",
    "    roc_curve,\n",
    "    auc,\n",
    "    precision_recall_curve,\n",
    "    RocCurveDisplay\n",
    ")\n",
    "from sklearn.feature_extraction.text import TfidfVectorizer, CountVectorizer\n",
    "from sklearn.preprocessing import LabelBinarizer\n",
    "from sklearn.linear_model import LogisticRegression\n",
    "from sklearn.naive_bayes import GaussianNB\n",
    "from sklearn.tree import DecisionTreeClassifier, plot_tree\n",
    "from sklearn.ensemble import RandomForestClassifier\n",
    "from sklearn import svm\n",
    "\n",
    "from matplotlib import font_manager"
   ],
   "outputs": [],
   "execution_count": 1
  },
  {
   "cell_type": "markdown",
   "metadata": {},
   "source": "設定中文字體 "
  },
  {
   "metadata": {
    "ExecuteTime": {
     "end_time": "2024-04-08T01:37:22.043238Z",
     "start_time": "2024-04-08T01:37:22.017891Z"
    }
   },
   "cell_type": "code",
   "source": [
    "# Path to the custom font\n",
    "font_path = 'font/TraditionalChinese.ttf'\n",
    "\n",
    "# Add the custom font to the font manager\n",
    "font_manager.fontManager.addfont(font_path)\n",
    "\n",
    "# After adding the font, search for it by filename to get the correct font name\n",
    "for font in font_manager.fontManager.ttflist:\n",
    "    if font.fname == font_path:\n",
    "        print(f\"Found font: {font.name}\")\n",
    "        plt.rcParams['font.family'] = font.name\n",
    "        break"
   ],
   "outputs": [
    {
     "name": "stdout",
     "output_type": "stream",
     "text": [
      "Found font: Noto Sans TC\n"
     ]
    }
   ],
   "execution_count": 2
  },
  {
   "cell_type": "code",
   "metadata": {
    "ExecuteTime": {
     "end_time": "2024-04-08T01:37:24.837543Z",
     "start_time": "2024-04-08T01:37:22.758964Z"
    }
   },
   "source": [
    "plt.plot((1, 2, 3), (4, 3, -1))\n",
    "plt.title(\"聲量圖\")"
   ],
   "outputs": [
    {
     "data": {
      "text/plain": [
       "Text(0.5, 1.0, '聲量圖')"
      ]
     },
     "execution_count": 3,
     "metadata": {},
     "output_type": "execute_result"
    },
    {
     "data": {
      "text/plain": [
       "<Figure size 640x480 with 1 Axes>"
      ],
      "image/png": "[encoded data removed]"
     },
     "metadata": {},
     "output_type": "display_data"
    }
   ],
   "execution_count": 3
  },
  {
   "metadata": {},
   "cell_type": "markdown",
   "source": [
    "# 2. 文字前處理\n",
    "`聯合新聞.csv`裡面包含了要分析的 udn 新聞資料。\n",
    "- 版別：全球(global)、社會(social)、產經(produce)、股市(stock)\n",
    "- 時間範圍：2023/12/23 ~ 2024/01/13\n",
    "- 工作流程平台搜尋/排除關鍵字：無\n",
    " "
   ]
  },
  {
   "cell_type": "code",
   "metadata": {
    "scrolled": true,
    "ExecuteTime": {
     "end_time": "2024-04-08T01:37:27.555430Z",
     "start_time": "2024-04-08T01:37:27.300472Z"
    }
   },
   "source": [
    "# 文字前處理\n",
    "udn = pd.read_csv(\"data/聯合新聞.csv\")  # 匯資料\n",
    "udn.head(3)"
   ],
   "outputs": [
    {
     "data": {
      "text/plain": [
       "   system_id                             artTitle              artDate  \\\n",
       "0          1               波蘭新外長籲西方挺烏 基輔盼迅速解除邊界封鎖  2023-12-23 12:12:00   \n",
       "1          2             美國加強施壓俄羅斯 拜登簽署行政命令鎖定金融機構  2023-12-23 15:25:00   \n",
       "2          3  俄烏交戰來一大戰果！烏克蘭稱擊落俄軍3架蘇愷34 專家：愛國者飛彈建功  2023-12-23 17:49:00   \n",
       "\n",
       "  artCatagory artSecondCatagory                                     artUrl  \\\n",
       "0          全球               NaN  https://udn.com/news/story/122663/7660679   \n",
       "1          全球               NaN  https://udn.com/news/story/122663/7661029   \n",
       "2          全球               NaN  https://udn.com/news/story/122663/7661229   \n",
       "\n",
       "                                          artContent dataSource  \n",
       "0  波蘭新任外交部長席科斯基今天敦促西方團結力挺烏克蘭，選擇這個飽受戰爭蹂躪的國家作為他外訪的第...        UDN  \n",
       "1  美國白宮在聲明中表示，總統拜登今天簽署行政命令，將對支持俄羅斯攻打烏克蘭的外國銀行祭出制裁，...        UDN  \n",
       "2  烏克蘭總統澤倫斯基（Volodymyr Zelenskyy）和軍方官員表示，烏軍今天在南部前...        UDN  "
      ],
      "text/html": [
       "<div>\n",
       "<style scoped>\n",
       "    .dataframe tbody tr th:only-of-type {\n",
       "        vertical-align: middle;\n",
       "    }\n",
       "\n",
       "    .dataframe tbody tr th {\n",
       "        vertical-align: top;\n",
       "    }\n",
       "\n",
       "    .dataframe thead th {\n",
       "        text-align: right;\n",
       "    }\n",
       "</style>\n",
       "<table border=\"1\" class=\"dataframe\">\n",
       "  <thead>\n",
       "    <tr style=\"text-align: right;\">\n",
       "      <th></th>\n",
       "      <th>system_id</th>\n",
       "      <th>artTitle</th>\n",
       "      <th>artDate</th>\n",
       "      <th>artCatagory</th>\n",
       "      <th>artSecondCatagory</th>\n",
       "      <th>artUrl</th>\n",
       "      <th>artContent</th>\n",
       "      <th>dataSource</th>\n",
       "    </tr>\n",
       "  </thead>\n",
       "  <tbody>\n",
       "    <tr>\n",
       "      <th>0</th>\n",
       "      <td>1</td>\n",
       "      <td>波蘭新外長籲西方挺烏 基輔盼迅速解除邊界封鎖</td>\n",
       "      <td>2023-12-23 12:12:00</td>\n",
       "      <td>全球</td>\n",
       "      <td>NaN</td>\n",
       "      <td>https://udn.com/news/story/122663/7660679</td>\n",
       "      <td>波蘭新任外交部長席科斯基今天敦促西方團結力挺烏克蘭，選擇這個飽受戰爭蹂躪的國家作為他外訪的第...</td>\n",
       "      <td>UDN</td>\n",
       "    </tr>\n",
       "    <tr>\n",
       "      <th>1</th>\n",
       "      <td>2</td>\n",
       "      <td>美國加強施壓俄羅斯 拜登簽署行政命令鎖定金融機構</td>\n",
       "      <td>2023-12-23 15:25:00</td>\n",
       "      <td>全球</td>\n",
       "      <td>NaN</td>\n",
       "      <td>https://udn.com/news/story/122663/7661029</td>\n",
       "      <td>美國白宮在聲明中表示，總統拜登今天簽署行政命令，將對支持俄羅斯攻打烏克蘭的外國銀行祭出制裁，...</td>\n",
       "      <td>UDN</td>\n",
       "    </tr>\n",
       "    <tr>\n",
       "      <th>2</th>\n",
       "      <td>3</td>\n",
       "      <td>俄烏交戰來一大戰果！烏克蘭稱擊落俄軍3架蘇愷34 專家：愛國者飛彈建功</td>\n",
       "      <td>2023-12-23 17:49:00</td>\n",
       "      <td>全球</td>\n",
       "      <td>NaN</td>\n",
       "      <td>https://udn.com/news/story/122663/7661229</td>\n",
       "      <td>烏克蘭總統澤倫斯基（Volodymyr Zelenskyy）和軍方官員表示，烏軍今天在南部前...</td>\n",
       "      <td>UDN</td>\n",
       "    </tr>\n",
       "  </tbody>\n",
       "</table>\n",
       "</div>"
      ]
     },
     "execution_count": 4,
     "metadata": {},
     "output_type": "execute_result"
    }
   ],
   "execution_count": 4
  },
  {
   "cell_type": "code",
   "metadata": {
    "ExecuteTime": {
     "end_time": "2024-04-08T01:37:29.969612Z",
     "start_time": "2024-04-08T01:37:29.960920Z"
    }
   },
   "source": [
    "# 看看有幾篇文章\n",
    "print(f\"number of posts: {udn.shape[0]}\")\n",
    "print(f\"date range: {(udn['artDate'].min(), udn['artDate'].max())}\")\n",
    "print(f\"category: \\n{udn['artCatagory'].value_counts()}\")"
   ],
   "outputs": [
    {
     "name": "stdout",
     "output_type": "stream",
     "text": [
      "number of posts: 8803\n",
      "date range: ('2023-12-23 00:04:00', '2024-01-13 23:54:00')\n",
      "category: \n",
      "artCatagory\n",
      "產經    2760\n",
      "全球    2570\n",
      "社會    1817\n",
      "股市    1655\n",
      "生活       1\n",
      "Name: count, dtype: int64\n"
     ]
    }
   ],
   "execution_count": 5
  },
  {
   "metadata": {
    "ExecuteTime": {
     "end_time": "2024-04-08T01:37:30.993265Z",
     "start_time": "2024-04-08T01:37:30.983208Z"
    }
   },
   "cell_type": "code",
   "source": [
    "# 去除artCatagory是生活\n",
    "udn = udn[udn['artCatagory'] != '生活']\n",
    "\n",
    "# 看看有幾篇文章\n",
    "print(f\"number of posts: {udn.shape[0]}\")\n",
    "print(f\"date range: {(udn['artDate'].min(), udn['artDate'].max())}\")\n",
    "print(f\"category: \\n{udn['artCatagory'].value_counts()}\")"
   ],
   "outputs": [
    {
     "name": "stdout",
     "output_type": "stream",
     "text": [
      "number of posts: 8802\n",
      "date range: ('2023-12-23 00:04:00', '2024-01-13 23:54:00')\n",
      "category: \n",
      "artCatagory\n",
      "產經    2760\n",
      "全球    2570\n",
      "社會    1817\n",
      "股市    1655\n",
      "Name: count, dtype: int64\n"
     ]
    }
   ],
   "execution_count": 6
  },
  {
   "metadata": {},
   "cell_type": "markdown",
   "source": "＃我們將聯合時報的產經版面與股市版面資料匯總，對應到自由時報的財經版面"
  },
  {
   "metadata": {
    "ExecuteTime": {
     "end_time": "2024-04-08T01:37:33.734412Z",
     "start_time": "2024-04-08T01:37:33.724827Z"
    }
   },
   "cell_type": "code",
   "source": [
    "udn.loc[udn['artCatagory'].isin(['產經', '股市']), 'artCatagory'] = '財經'\n",
    "\n",
    "# 看看有幾篇文章\n",
    "print(f\"number of posts: {udn.shape[0]}\")\n",
    "print(f\"date range: {(udn['artDate'].min(), udn['artDate'].max())}\")\n",
    "print(f\"category: \\n{udn['artCatagory'].value_counts()}\")"
   ],
   "outputs": [
    {
     "name": "stdout",
     "output_type": "stream",
     "text": [
      "number of posts: 8802\n",
      "date range: ('2023-12-23 00:04:00', '2024-01-13 23:54:00')\n",
      "category: \n",
      "artCatagory\n",
      "財經    4415\n",
      "全球    2570\n",
      "社會    1817\n",
      "Name: count, dtype: int64\n"
     ]
    }
   ],
   "execution_count": 7
  },
  {
   "metadata": {
    "ExecuteTime": {
     "end_time": "2024-04-08T01:37:34.813675Z",
     "start_time": "2024-04-08T01:37:34.602632Z"
    }
   },
   "cell_type": "code",
   "source": "udn.to_csv('data/聯合新聞_merge.csv')",
   "outputs": [],
   "execution_count": 8
  },
  {
   "attachments": {},
   "cell_type": "markdown",
   "metadata": {},
   "source": [
    "+ 2.1 斷句\n",
    "+ 2.2 斷詞（刪掉次數太少的、標點符號、停用字） "
   ]
  },
  {
   "attachments": {},
   "cell_type": "markdown",
   "metadata": {},
   "source": "### 2.1 清理 "
  },
  {
   "cell_type": "markdown",
   "metadata": {},
   "source": "利用問號、句號或驚嘆號等符號斷句，或是如果出現中文或是英文的省略號，像是`...`也會斷句，最後設定會去除結尾的空白符號。 "
  },
  {
   "cell_type": "code",
   "metadata": {
    "ExecuteTime": {
     "end_time": "2024-04-08T01:37:38.987108Z",
     "start_time": "2024-04-08T01:37:38.876584Z"
    }
   },
   "source": [
    "# 過濾 nan 的資料\n",
    "udn = udn.dropna(subset=['artTitle'])\n",
    "udn = udn.dropna(subset=['artContent'])\n",
    "# 移除網址格式\n",
    "udn[\"artContent\"] = udn.artContent.apply(\n",
    "    lambda x: re.sub(\"(http|https)://.*\", \"\", x)\n",
    ")\n",
    "udn[\"artTitle\"] = udn[\"artTitle\"].apply(\n",
    "    lambda x: re.sub(\"(http|https)://.*\", \"\", x)\n",
    ")\n",
    "# 只留下中文字\n",
    "udn[\"artContent\"] = udn.artContent.apply(\n",
    "    lambda x: re.sub(\"[^\\u4e00-\\u9fa5]+\", \"\", x)\n",
    ")\n",
    "udn[\"artTitle\"] = udn[\"artTitle\"].apply(\n",
    "    lambda x: re.sub(\"[^\\u4e00-\\u9fa5]+\", \"\", x)\n",
    ")\n",
    "udn.head(3)"
   ],
   "outputs": [
    {
     "data": {
      "text/plain": [
       "   system_id                       artTitle              artDate artCatagory  \\\n",
       "0          1          波蘭新外長籲西方挺烏基輔盼迅速解除邊界封鎖  2023-12-23 12:12:00          全球   \n",
       "1          2        美國加強施壓俄羅斯拜登簽署行政命令鎖定金融機構  2023-12-23 15:25:00          全球   \n",
       "2          3  俄烏交戰來一大戰果烏克蘭稱擊落俄軍架蘇愷專家愛國者飛彈建功  2023-12-23 17:49:00          全球   \n",
       "\n",
       "  artSecondCatagory                                     artUrl  \\\n",
       "0               NaN  https://udn.com/news/story/122663/7660679   \n",
       "1               NaN  https://udn.com/news/story/122663/7661029   \n",
       "2               NaN  https://udn.com/news/story/122663/7661229   \n",
       "\n",
       "                                          artContent dataSource  \n",
       "0  波蘭新任外交部長席科斯基今天敦促西方團結力挺烏克蘭選擇這個飽受戰爭蹂躪的國家作為他外訪的第一...        UDN  \n",
       "1  美國白宮在聲明中表示總統拜登今天簽署行政命令將對支持俄羅斯攻打烏克蘭的外國銀行祭出制裁協助俄...        UDN  \n",
       "2  烏克蘭總統澤倫斯基和軍方官員表示烏軍今天在南部前線擊落架俄羅斯蘇愷戰鬥轟炸機並稱讚這是俄烏交...        UDN  "
      ],
      "text/html": [
       "<div>\n",
       "<style scoped>\n",
       "    .dataframe tbody tr th:only-of-type {\n",
       "        vertical-align: middle;\n",
       "    }\n",
       "\n",
       "    .dataframe tbody tr th {\n",
       "        vertical-align: top;\n",
       "    }\n",
       "\n",
       "    .dataframe thead th {\n",
       "        text-align: right;\n",
       "    }\n",
       "</style>\n",
       "<table border=\"1\" class=\"dataframe\">\n",
       "  <thead>\n",
       "    <tr style=\"text-align: right;\">\n",
       "      <th></th>\n",
       "      <th>system_id</th>\n",
       "      <th>artTitle</th>\n",
       "      <th>artDate</th>\n",
       "      <th>artCatagory</th>\n",
       "      <th>artSecondCatagory</th>\n",
       "      <th>artUrl</th>\n",
       "      <th>artContent</th>\n",
       "      <th>dataSource</th>\n",
       "    </tr>\n",
       "  </thead>\n",
       "  <tbody>\n",
       "    <tr>\n",
       "      <th>0</th>\n",
       "      <td>1</td>\n",
       "      <td>波蘭新外長籲西方挺烏基輔盼迅速解除邊界封鎖</td>\n",
       "      <td>2023-12-23 12:12:00</td>\n",
       "      <td>全球</td>\n",
       "      <td>NaN</td>\n",
       "      <td>https://udn.com/news/story/122663/7660679</td>\n",
       "      <td>波蘭新任外交部長席科斯基今天敦促西方團結力挺烏克蘭選擇這個飽受戰爭蹂躪的國家作為他外訪的第一...</td>\n",
       "      <td>UDN</td>\n",
       "    </tr>\n",
       "    <tr>\n",
       "      <th>1</th>\n",
       "      <td>2</td>\n",
       "      <td>美國加強施壓俄羅斯拜登簽署行政命令鎖定金融機構</td>\n",
       "      <td>2023-12-23 15:25:00</td>\n",
       "      <td>全球</td>\n",
       "      <td>NaN</td>\n",
       "      <td>https://udn.com/news/story/122663/7661029</td>\n",
       "      <td>美國白宮在聲明中表示總統拜登今天簽署行政命令將對支持俄羅斯攻打烏克蘭的外國銀行祭出制裁協助俄...</td>\n",
       "      <td>UDN</td>\n",
       "    </tr>\n",
       "    <tr>\n",
       "      <th>2</th>\n",
       "      <td>3</td>\n",
       "      <td>俄烏交戰來一大戰果烏克蘭稱擊落俄軍架蘇愷專家愛國者飛彈建功</td>\n",
       "      <td>2023-12-23 17:49:00</td>\n",
       "      <td>全球</td>\n",
       "      <td>NaN</td>\n",
       "      <td>https://udn.com/news/story/122663/7661229</td>\n",
       "      <td>烏克蘭總統澤倫斯基和軍方官員表示烏軍今天在南部前線擊落架俄羅斯蘇愷戰鬥轟炸機並稱讚這是俄烏交...</td>\n",
       "      <td>UDN</td>\n",
       "    </tr>\n",
       "  </tbody>\n",
       "</table>\n",
       "</div>"
      ]
     },
     "execution_count": 9,
     "metadata": {},
     "output_type": "execute_result"
    }
   ],
   "execution_count": 9
  },
  {
   "cell_type": "markdown",
   "metadata": {},
   "source": "文章的標題`artTitle`和內文`sentence`都會納入分析的內容，成為新的`content`欄位。 "
  },
  {
   "cell_type": "code",
   "metadata": {
    "ExecuteTime": {
     "end_time": "2024-04-08T01:37:41.515212Z",
     "start_time": "2024-04-08T01:37:41.495950Z"
    }
   },
   "source": [
    "# 留下 content\n",
    "udn[\"content\"] = udn[\"artTitle\"] + udn[\"artContent\"]\n",
    "udn = udn[[\"content\", \"artUrl\", \"artCatagory\"]]  # 文章內容 文章連結\n",
    "udn.head()"
   ],
   "outputs": [
    {
     "data": {
      "text/plain": [
       "                                             content  \\\n",
       "0  波蘭新外長籲西方挺烏基輔盼迅速解除邊界封鎖波蘭新任外交部長席科斯基今天敦促西方團結力挺烏克蘭...   \n",
       "1  美國加強施壓俄羅斯拜登簽署行政命令鎖定金融機構美國白宮在聲明中表示總統拜登今天簽署行政命令將...   \n",
       "2  俄烏交戰來一大戰果烏克蘭稱擊落俄軍架蘇愷專家愛國者飛彈建功烏克蘭總統澤倫斯基和軍方官員表示烏...   \n",
       "3  烏克蘭再傳軍購弊案國防高官涉盜千萬美元恐面臨年刑期紐約時報報導當地時間日烏克蘭一名高級國防官...   \n",
       "4  紐時普亭透過秘密外交管道釋出和談訊息願就目前戰線停火紐約時報報導俄羅斯總統普亭日前在公開場合...   \n",
       "\n",
       "                                      artUrl artCatagory  \n",
       "0  https://udn.com/news/story/122663/7660679          全球  \n",
       "1  https://udn.com/news/story/122663/7661029          全球  \n",
       "2  https://udn.com/news/story/122663/7661229          全球  \n",
       "3  https://udn.com/news/story/122663/7661805          全球  \n",
       "4  https://udn.com/news/story/122663/7662087          全球  "
      ],
      "text/html": [
       "<div>\n",
       "<style scoped>\n",
       "    .dataframe tbody tr th:only-of-type {\n",
       "        vertical-align: middle;\n",
       "    }\n",
       "\n",
       "    .dataframe tbody tr th {\n",
       "        vertical-align: top;\n",
       "    }\n",
       "\n",
       "    .dataframe thead th {\n",
       "        text-align: right;\n",
       "    }\n",
       "</style>\n",
       "<table border=\"1\" class=\"dataframe\">\n",
       "  <thead>\n",
       "    <tr style=\"text-align: right;\">\n",
       "      <th></th>\n",
       "      <th>content</th>\n",
       "      <th>artUrl</th>\n",
       "      <th>artCatagory</th>\n",
       "    </tr>\n",
       "  </thead>\n",
       "  <tbody>\n",
       "    <tr>\n",
       "      <th>0</th>\n",
       "      <td>波蘭新外長籲西方挺烏基輔盼迅速解除邊界封鎖波蘭新任外交部長席科斯基今天敦促西方團結力挺烏克蘭...</td>\n",
       "      <td>https://udn.com/news/story/122663/7660679</td>\n",
       "      <td>全球</td>\n",
       "    </tr>\n",
       "    <tr>\n",
       "      <th>1</th>\n",
       "      <td>美國加強施壓俄羅斯拜登簽署行政命令鎖定金融機構美國白宮在聲明中表示總統拜登今天簽署行政命令將...</td>\n",
       "      <td>https://udn.com/news/story/122663/7661029</td>\n",
       "      <td>全球</td>\n",
       "    </tr>\n",
       "    <tr>\n",
       "      <th>2</th>\n",
       "      <td>俄烏交戰來一大戰果烏克蘭稱擊落俄軍架蘇愷專家愛國者飛彈建功烏克蘭總統澤倫斯基和軍方官員表示烏...</td>\n",
       "      <td>https://udn.com/news/story/122663/7661229</td>\n",
       "      <td>全球</td>\n",
       "    </tr>\n",
       "    <tr>\n",
       "      <th>3</th>\n",
       "      <td>烏克蘭再傳軍購弊案國防高官涉盜千萬美元恐面臨年刑期紐約時報報導當地時間日烏克蘭一名高級國防官...</td>\n",
       "      <td>https://udn.com/news/story/122663/7661805</td>\n",
       "      <td>全球</td>\n",
       "    </tr>\n",
       "    <tr>\n",
       "      <th>4</th>\n",
       "      <td>紐時普亭透過秘密外交管道釋出和談訊息願就目前戰線停火紐約時報報導俄羅斯總統普亭日前在公開場合...</td>\n",
       "      <td>https://udn.com/news/story/122663/7662087</td>\n",
       "      <td>全球</td>\n",
       "    </tr>\n",
       "  </tbody>\n",
       "</table>\n",
       "</div>"
      ]
     },
     "execution_count": 10,
     "metadata": {},
     "output_type": "execute_result"
    }
   ],
   "execution_count": 10
  },
  {
   "cell_type": "code",
   "metadata": {
    "scrolled": true,
    "ExecuteTime": {
     "end_time": "2024-04-08T01:37:43.253628Z",
     "start_time": "2024-04-08T01:37:43.249100Z"
    }
   },
   "source": [
    "# 看看有幾篇文章\n",
    "print(f\"total docs: {udn.shape[0]}\")"
   ],
   "outputs": [
    {
     "name": "stdout",
     "output_type": "stream",
     "text": [
      "total docs: 2873\n"
     ]
    }
   ],
   "execution_count": 11
  },
  {
   "attachments": {},
   "cell_type": "markdown",
   "metadata": {},
   "source": "### 2.2 斷詞 "
  },
  {
   "cell_type": "code",
   "metadata": {
    "ExecuteTime": {
     "end_time": "2024-04-08T01:38:30.043162Z",
     "start_time": "2024-04-08T01:38:30.032698Z"
    }
   },
   "source": [
    "# 設定繁體中文詞庫\n",
    "jieba.set_dictionary(\"./dict/dict.txt.big\")\n",
    "\n",
    "# 新增stopwords\n",
    "# jieba.analyse.set_stop_words('./dict/stop_words.txt') #jieba.analyse.extract_tags才會作用\n",
    "with open(\"./dict/stop_words.txt\", encoding=\"utf-8\") as f:\n",
    "    stopWords = [line.strip() for line in f.readlines()]"
   ],
   "outputs": [],
   "execution_count": 12
  },
  {
   "cell_type": "code",
   "metadata": {
    "ExecuteTime": {
     "end_time": "2024-04-08T01:38:31.547605Z",
     "start_time": "2024-04-08T01:38:31.543428Z"
    }
   },
   "source": [
    "# 設定斷詞 function\n",
    "def getToken(row):\n",
    "    seg_list = jieba.cut(row, cut_all=False)\n",
    "    seg_list = [\n",
    "        w for w in seg_list if w not in stopWords and len(w) > 1\n",
    "    ]  # 篩選掉停用字與字元數大於1的詞彙\n",
    "    return seg_list"
   ],
   "outputs": [],
   "execution_count": 13
  },
  {
   "cell_type": "code",
   "metadata": {
    "ExecuteTime": {
     "end_time": "2024-04-08T01:38:47.508312Z",
     "start_time": "2024-04-08T01:38:32.733950Z"
    }
   },
   "source": [
    "udn[\"words\"] = udn[\"content\"].apply(getToken).map(\" \".join)\n",
    "udn.head()"
   ],
   "outputs": [
    {
     "name": "stderr",
     "output_type": "stream",
     "text": [
      "Building prefix dict from C:\\Users\\eddie\\GitHub\\StockNatrakLanguageAnalyze\\dict\\dict.txt.big ...\n",
      "Dumping model to file cache C:\\Users\\eddie\\AppData\\Local\\Temp\\jieba.ua398e1f90d463cf314deaaa432abb2fc.cache\n",
      "Loading model cost 1.395 seconds.\n",
      "Prefix dict has been built successfully.\n"
     ]
    },
    {
     "data": {
      "text/plain": [
       "                                             content  \\\n",
       "0  波蘭新外長籲西方挺烏基輔盼迅速解除邊界封鎖波蘭新任外交部長席科斯基今天敦促西方團結力挺烏克蘭...   \n",
       "1  美國加強施壓俄羅斯拜登簽署行政命令鎖定金融機構美國白宮在聲明中表示總統拜登今天簽署行政命令將...   \n",
       "2  俄烏交戰來一大戰果烏克蘭稱擊落俄軍架蘇愷專家愛國者飛彈建功烏克蘭總統澤倫斯基和軍方官員表示烏...   \n",
       "3  烏克蘭再傳軍購弊案國防高官涉盜千萬美元恐面臨年刑期紐約時報報導當地時間日烏克蘭一名高級國防官...   \n",
       "4  紐時普亭透過秘密外交管道釋出和談訊息願就目前戰線停火紐約時報報導俄羅斯總統普亭日前在公開場合...   \n",
       "\n",
       "                                      artUrl artCatagory  \\\n",
       "0  https://udn.com/news/story/122663/7660679          全球   \n",
       "1  https://udn.com/news/story/122663/7661029          全球   \n",
       "2  https://udn.com/news/story/122663/7661229          全球   \n",
       "3  https://udn.com/news/story/122663/7661805          全球   \n",
       "4  https://udn.com/news/story/122663/7662087          全球   \n",
       "\n",
       "                                               words  \n",
       "0  波蘭 外長 西方 基輔 迅速 解除 邊界 封鎖 波蘭 新任 外交部長 科斯 今天 敦促 西方...  \n",
       "1  美國 加強 施壓 俄羅斯 拜登 簽署 行政命令 鎖定 金融機構 美國白宮 聲明 表示 總統 ...  \n",
       "2  俄烏 交戰 一大 戰果 烏克蘭 擊落 俄軍 蘇愷 專家 愛國者 飛彈 建功 烏克蘭 總統 倫...  \n",
       "3  烏克蘭 傳軍購 弊案 國防 高官 涉盜 千萬美元 面臨 刑期 紐約時報 當地 時間 烏克蘭 ...  \n",
       "4  紐時 普亭 透過 秘密 外交 管道 釋出 和談 訊息 目前 戰線 停火 紐約時報 俄羅斯 總...  "
      ],
      "text/html": [
       "<div>\n",
       "<style scoped>\n",
       "    .dataframe tbody tr th:only-of-type {\n",
       "        vertical-align: middle;\n",
       "    }\n",
       "\n",
       "    .dataframe tbody tr th {\n",
       "        vertical-align: top;\n",
       "    }\n",
       "\n",
       "    .dataframe thead th {\n",
       "        text-align: right;\n",
       "    }\n",
       "</style>\n",
       "<table border=\"1\" class=\"dataframe\">\n",
       "  <thead>\n",
       "    <tr style=\"text-align: right;\">\n",
       "      <th></th>\n",
       "      <th>content</th>\n",
       "      <th>artUrl</th>\n",
       "      <th>artCatagory</th>\n",
       "      <th>words</th>\n",
       "    </tr>\n",
       "  </thead>\n",
       "  <tbody>\n",
       "    <tr>\n",
       "      <th>0</th>\n",
       "      <td>波蘭新外長籲西方挺烏基輔盼迅速解除邊界封鎖波蘭新任外交部長席科斯基今天敦促西方團結力挺烏克蘭...</td>\n",
       "      <td>https://udn.com/news/story/122663/7660679</td>\n",
       "      <td>全球</td>\n",
       "      <td>波蘭 外長 西方 基輔 迅速 解除 邊界 封鎖 波蘭 新任 外交部長 科斯 今天 敦促 西方...</td>\n",
       "    </tr>\n",
       "    <tr>\n",
       "      <th>1</th>\n",
       "      <td>美國加強施壓俄羅斯拜登簽署行政命令鎖定金融機構美國白宮在聲明中表示總統拜登今天簽署行政命令將...</td>\n",
       "      <td>https://udn.com/news/story/122663/7661029</td>\n",
       "      <td>全球</td>\n",
       "      <td>美國 加強 施壓 俄羅斯 拜登 簽署 行政命令 鎖定 金融機構 美國白宮 聲明 表示 總統 ...</td>\n",
       "    </tr>\n",
       "    <tr>\n",
       "      <th>2</th>\n",
       "      <td>俄烏交戰來一大戰果烏克蘭稱擊落俄軍架蘇愷專家愛國者飛彈建功烏克蘭總統澤倫斯基和軍方官員表示烏...</td>\n",
       "      <td>https://udn.com/news/story/122663/7661229</td>\n",
       "      <td>全球</td>\n",
       "      <td>俄烏 交戰 一大 戰果 烏克蘭 擊落 俄軍 蘇愷 專家 愛國者 飛彈 建功 烏克蘭 總統 倫...</td>\n",
       "    </tr>\n",
       "    <tr>\n",
       "      <th>3</th>\n",
       "      <td>烏克蘭再傳軍購弊案國防高官涉盜千萬美元恐面臨年刑期紐約時報報導當地時間日烏克蘭一名高級國防官...</td>\n",
       "      <td>https://udn.com/news/story/122663/7661805</td>\n",
       "      <td>全球</td>\n",
       "      <td>烏克蘭 傳軍購 弊案 國防 高官 涉盜 千萬美元 面臨 刑期 紐約時報 當地 時間 烏克蘭 ...</td>\n",
       "    </tr>\n",
       "    <tr>\n",
       "      <th>4</th>\n",
       "      <td>紐時普亭透過秘密外交管道釋出和談訊息願就目前戰線停火紐約時報報導俄羅斯總統普亭日前在公開場合...</td>\n",
       "      <td>https://udn.com/news/story/122663/7662087</td>\n",
       "      <td>全球</td>\n",
       "      <td>紐時 普亭 透過 秘密 外交 管道 釋出 和談 訊息 目前 戰線 停火 紐約時報 俄羅斯 總...</td>\n",
       "    </tr>\n",
       "  </tbody>\n",
       "</table>\n",
       "</div>"
      ]
     },
     "execution_count": 14,
     "metadata": {},
     "output_type": "execute_result"
    }
   ],
   "execution_count": 14
  },
  {
   "attachments": {},
   "cell_type": "markdown",
   "metadata": {},
   "source": "### 2.3 資料集基本檢視 "
  },
  {
   "cell_type": "markdown",
   "metadata": {},
   "source": [
    "檢視資料內容"
   ]
  },
  {
   "cell_type": "code",
   "metadata": {
    "ExecuteTime": {
     "end_time": "2024-04-08T01:39:04.387102Z",
     "start_time": "2024-04-08T01:39:04.368861Z"
    }
   },
   "source": [
    "print(f\"total posts: {len(udn['artUrl'].unique())}\")\n",
    "print(f\"category: \\n{udn['artCatagory'].value_counts()}\")"
   ],
   "outputs": [
    {
     "name": "stdout",
     "output_type": "stream",
     "text": [
      "total posts: 2873\n",
      "category: \n",
      "artCatagory\n",
      "財經    1377\n",
      "全球     775\n",
      "社會     721\n",
      "Name: count, dtype: int64\n"
     ]
    }
   ],
   "execution_count": 15
  },
  {
   "attachments": {},
   "cell_type": "markdown",
   "metadata": {},
   "source": [
    "## 3. 分類模型的訓練流程\n",
    "### 3.1 根據7:3的比例切分資料集\n",
    "利用 sklearn 中的 train_test_split 函數將 `raw_data` 隨機切成 7:3，設置 random_state 讓每次切分的結果一致。`y_train`和`y_test`分別為訓練資料和測試資料的預測目標。 "
   ]
  },
  {
   "cell_type": "code",
   "metadata": {
    "ExecuteTime": {
     "end_time": "2024-04-08T01:39:11.251389Z",
     "start_time": "2024-04-08T01:39:11.231101Z"
    }
   },
   "source": [
    "data = udn\n",
    "X = data[\"words\"]\n",
    "y = data[\"artCatagory\"]\n",
    "\n",
    "# 把整個資料集七三切\n",
    "X_train, X_test, y_train, y_test = train_test_split(\n",
    "    X, y, test_size=0.3, random_state=777\n",
    ")\n",
    "\n",
    "print(X_train.head())\n",
    "print(y_train.head())"
   ],
   "outputs": [
    {
     "name": "stdout",
     "output_type": "stream",
     "text": [
      "4958    英業達 國一生 醫界 多家 富國 神山 全盼 法規 鬆綁 代工 大廠 英業達 創辦人 葉國 ...\n",
      "418     歐元區 明年 經濟 危機四伏 訪調 經濟學家 三分之二 景氣 陷入 衰退 英國 金融時報 意...\n",
      "3108    赴陸 接受 招待 助選 還能 抽佣橋檢 起訴 首件 反滲透 法台灣 中華 泛藍 協會 招攬 ...\n",
      "4853    病團 沒人想 罹癌 保險金 防止 病友 實支 實付 醫療險 賺錢 金管會 保險局 改革 實支...\n",
      "622     資金 到位 日本 長崎 綜合 度假村 計畫 過關 日本 國土 交通 今天 宣布 調度 資金 ...\n",
      "Name: words, dtype: object\n",
      "4958    財經\n",
      "418     全球\n",
      "3108    社會\n",
      "4853    財經\n",
      "622     全球\n",
      "Name: artCatagory, dtype: object\n"
     ]
    }
   ],
   "execution_count": 16
  },
  {
   "cell_type": "code",
   "metadata": {
    "ExecuteTime": {
     "end_time": "2024-04-08T01:39:16.062396Z",
     "start_time": "2024-04-08T01:39:16.053833Z"
    }
   },
   "source": [
    "# 看一下各個資料集切分的比例，應該要一致\n",
    "print(\n",
    "    f\"raw data percentage :\\n{data['artCatagory'].value_counts(normalize=True) * 100}\"\n",
    ")\n",
    "print(f\"\\ntrain percentage :\\n{y_train.value_counts(normalize=True) * 100}\")\n",
    "print(f\"\\ntest percentage :\\n{y_test.value_counts(normalize=True) * 100}\")"
   ],
   "outputs": [
    {
     "name": "stdout",
     "output_type": "stream",
     "text": [
      "raw data percentage :\n",
      "artCatagory\n",
      "財經    47.928994\n",
      "全球    26.975287\n",
      "社會    25.095719\n",
      "Name: proportion, dtype: float64\n",
      "\n",
      "train percentage :\n",
      "artCatagory\n",
      "財經    48.483342\n",
      "全球    27.001492\n",
      "社會    24.515167\n",
      "Name: proportion, dtype: float64\n",
      "\n",
      "test percentage :\n",
      "artCatagory\n",
      "財經    46.635731\n",
      "全球    26.914153\n",
      "社會    26.450116\n",
      "Name: proportion, dtype: float64\n"
     ]
    }
   ],
   "execution_count": 17
  },
  {
   "attachments": {},
   "cell_type": "markdown",
   "metadata": {},
   "source": [
    "### 3.2 將文章轉為 DTM\n",
    "\n",
    "DTM(document term matrix) :\n",
    "+ 將不同的文章 (document) 以文章中出現過的字詞(term)表示\n",
    "    + row 是document (文件)\n",
    "    + column 是字詞 (term)\n",
    "    + row 內的數字是出現的字數\n",
    "\n",
    "DTM裡面的值可以有不同的表示方法\n",
    "+ (1) 依據詞頻 (classic BoW)\n",
    "    + 用 `CountVectorizer()`\n",
    "    + unigrams and bigrams\n",
    "    + [sklearn.feature_extraction.text.CountVectorizer](https://scikit-learn.org/stable/modules/generated/sklearn.feature_extraction.text.CountVectorizer.html)\n",
    "+ (2) 依據tfidf (advanced variant of BoW)\n",
    "    + 篩選出現次數大於10的字\n",
    "    + 用 `TfidfVectorizer()`\n",
    "    + [sklearn.feature_extraction.text.TfidfVectorizer](https://scikit-learn.org/stable/modules/generated/sklearn.feature_extraction.text.CountVectorizer.html)\n",
    "+ 常用參數介紹\n",
    "    + max_features: 取 詞頻 / tfidf 前多少的字"
   ]
  },
  {
   "attachments": {},
   "cell_type": "markdown",
   "metadata": {},
   "source": [
    "### 3.3 套入正式的資料集\n",
    "+  模型訓練範例: logistic regression + cv tokenizer "
   ]
  },
  {
   "cell_type": "code",
   "metadata": {
    "ExecuteTime": {
     "end_time": "2024-04-08T01:39:22.727167Z",
     "start_time": "2024-04-08T01:39:22.721688Z"
    }
   },
   "source": [
    "vectorizer = CountVectorizer(max_features=1000)\n",
    "print(vectorizer)"
   ],
   "outputs": [
    {
     "name": "stdout",
     "output_type": "stream",
     "text": [
      "CountVectorizer(max_features=1000)\n"
     ]
    }
   ],
   "execution_count": 18
  },
  {
   "cell_type": "code",
   "metadata": {
    "ExecuteTime": {
     "end_time": "2024-04-08T01:39:24.042211Z",
     "start_time": "2024-04-08T01:39:24.036128Z"
    }
   },
   "source": [
    "X_train.head()"
   ],
   "outputs": [
    {
     "data": {
      "text/plain": [
       "4958    英業達 國一生 醫界 多家 富國 神山 全盼 法規 鬆綁 代工 大廠 英業達 創辦人 葉國 ...\n",
       "418     歐元區 明年 經濟 危機四伏 訪調 經濟學家 三分之二 景氣 陷入 衰退 英國 金融時報 意...\n",
       "3108    赴陸 接受 招待 助選 還能 抽佣橋檢 起訴 首件 反滲透 法台灣 中華 泛藍 協會 招攬 ...\n",
       "4853    病團 沒人想 罹癌 保險金 防止 病友 實支 實付 醫療險 賺錢 金管會 保險局 改革 實支...\n",
       "622     資金 到位 日本 長崎 綜合 度假村 計畫 過關 日本 國土 交通 今天 宣布 調度 資金 ...\n",
       "Name: words, dtype: object"
      ]
     },
     "execution_count": 19,
     "metadata": {},
     "output_type": "execute_result"
    }
   ],
   "execution_count": 19
  },
  {
   "cell_type": "code",
   "metadata": {
    "ExecuteTime": {
     "end_time": "2024-04-08T01:39:26.108665Z",
     "start_time": "2024-04-08T01:39:25.473248Z"
    }
   },
   "source": [
    "vectorizer.fit(X_train)\n",
    "vec_train = vectorizer.transform(X_train)\n",
    "vec_train"
   ],
   "outputs": [
    {
     "data": {
      "text/plain": [
       "<2011x1000 sparse matrix of type '<class 'numpy.int64'>'\n",
       "\twith 152096 stored elements in Compressed Sparse Row format>"
      ]
     },
     "execution_count": 20,
     "metadata": {},
     "output_type": "execute_result"
    }
   ],
   "execution_count": 20
  },
  {
   "cell_type": "code",
   "metadata": {
    "ExecuteTime": {
     "end_time": "2024-04-08T01:39:30.991827Z",
     "start_time": "2024-04-08T01:39:30.982816Z"
    }
   },
   "source": [
    "### 用 `toarray()` 轉成 numpy array\n",
    "vec_train.toarray()"
   ],
   "outputs": [
    {
     "data": {
      "text/plain": [
       "array([[0, 0, 0, ..., 0, 0, 0],\n",
       "       [0, 0, 0, ..., 0, 0, 0],\n",
       "       [0, 0, 0, ..., 0, 0, 0],\n",
       "       ...,\n",
       "       [0, 0, 0, ..., 0, 0, 1],\n",
       "       [0, 0, 0, ..., 0, 0, 0],\n",
       "       [0, 0, 0, ..., 0, 0, 0]], dtype=int64)"
      ]
     },
     "execution_count": 21,
     "metadata": {},
     "output_type": "execute_result"
    }
   ],
   "execution_count": 21
  },
  {
   "cell_type": "code",
   "metadata": {
    "ExecuteTime": {
     "end_time": "2024-04-08T01:39:37.144952Z",
     "start_time": "2024-04-08T01:39:36.804533Z"
    }
   },
   "source": [
    "# 可用 `fit_transform()` 一次完成\n",
    "vec_train = vectorizer.fit_transform(X_train)\n",
    "print(vectorizer.get_feature_names_out()[:10])"
   ],
   "outputs": [
    {
     "name": "stdout",
     "output_type": "stream",
     "text": [
      "['一些' '一半' '一句' '一名' '一定' '一家' '一年' '一度' '一次' '一直']\n"
     ]
    }
   ],
   "execution_count": 22
  },
  {
   "cell_type": "code",
   "metadata": {
    "ExecuteTime": {
     "end_time": "2024-04-08T01:39:38.470030Z",
     "start_time": "2024-04-08T01:39:38.463166Z"
    }
   },
   "source": [
    "# fit 完後，可以用 `vocabulary_` 看到詞的 feature index\n",
    "print(vectorizer.vocabulary_)\n",
    "vectorizer.vocabulary_['一些']"
   ],
   "outputs": [
    {
     "name": "stdout",
     "output_type": "stream",
     "text": [
      "{'代工': 69, '大廠': 292, '今日': 67, '指出': 441, '國內': 253, '產業': 655, '建立': 386, '技術': 430, '開發': 945, '審查': 330, '導致': 340, '發展': 670, '醫療': 926, '影響': 396, '政府': 484, '調整': 832, '政策': 486, '世界': 32, '出席': 151, '國家': 254, '攜手': 470, '宣布': 320, '加入': 171, '新創': 495, '投資': 434, '透露': 884, '製造': 807, '當時': 665, '環境': 649, '受到': 206, '同意': 225, '過程': 910, '情況': 405, '分享': 154, '檢查': 571, '一次': 8, '發現': 672, '詢問': 828, '昨天': 518, '再次': 148, '正式': 578, '合作': 221, '過去': 909, '進行': 905, '大量': 297, '時間': 520, '透過': 883, '人工智慧': 61, '科技': 704, '創新': 168, '大幅': 291, '加速': 176, '治療': 599, '也將': 46, '創造': 169, '商機': 238, '表示': 802, '市場': 360, '許多': 825, '團隊': 260, '參與': 202, '上市': 20, '公司': 139, '股東': 765, '一定': 4, '目前': 678, '推動': 455, '希望': 363, '未來': 545, '企業': 77, '提供': 457, '協助': 190, '面臨': 969, '挑戰': 445, '應該': 409, '積極': 707, '部分': 922, '幫助': 367, '記者': 821, '攝影': 471, '新聞': 502, '追蹤': 879, '玩家': 643, '好文': 303, '漏接': 621, '限免': 952, '貼圖': 846, '款來': 573, '毛孩': 589, '動圖': 178, '聖誕節': 757, '新年': 500, '跨年': 860, '祝賀': 702, '必用': 401, '二手': 51, '蘋果': 789, '注意': 606, '達人': 911, '曝點': 527, '項目': 971, '避免': 919, '奇妙': 301, '發光': 668, '四格': 246, '窗戶': 713, '桌布': 554, '特效': 638, '拍攝': 437, '方法': 508, '曝光': 525, '竟是': 716, '實景': 327, '手機': 427, '充飽電': 121, '不到': 29, '小時': 341, '電量': 964, '直墜': 680, '內行人': 126, '曝全': 526, '這別': 888, '周報': 229, '取消': 204, '仍多': 68, '收個': 475, '費用': 845, '蝦皮': 793, '假台灣': 103, '賣家': 852, '需求': 965, '逐漸': 885, '回溫': 249, '通訊': 896, '應用': 408, '持續': 440, '業績': 559, '維持': 739, '四年': 245, '迎來': 875, '委員會': 304, '日前': 514, '決議': 597, '台積電': 218, '行政院': 797, '最新': 532, '資料': 847, '顯示': 981, '宏碁': 316, '今年': 66, '連續': 900, '累計': 730, '至今': 775, '上午': 17, '台北': 212, '董事長': 787, '年度': 374, '記者會': 822, '全球': 133, '強化': 392, '方面': 509, '提到': 459, '董事會': 786, '績效': 747, '評估': 827, '建議': 388, '於今': 510, '改善': 478, '完成': 315, '舉辦': 778, '緊急': 744, '平台': 368, '明年': 516, '經濟': 735, '景氣': 522, '衰退': 803, '英國': 781, '預測': 975, '成長': 417, '快速': 402, '年來': 371, '烏克蘭': 624, '政治': 485, '風險': 982, '認為': 830, '生產': 653, '銀行': 939, '歐洲': 574, '全面': 134, '復甦': 398, '進一步': 902, '多數': 287, '可望': 211, '第季': 720, '一年': 6, '能源': 770, '穩定': 708, '平均': 369, '分別': 155, '美國': 750, '總統': 745, '川普': 350, '俄羅斯': 92, '展望': 347, '主要': 42, '放棄': 483, '歐盟': 575, '發動': 669, '超過': 857, '資產': 849, '管理': 722, '主管': 41, '最大': 529, '德國': 400, '接受': 451, '起訴': 855, '中華': 38, '中國': 35, '旅遊': 511, '要求': 810, '支持': 474, '特定': 637, '候選人': 101, '地檢署': 267, '搜索': 464, '這也': 887, '立委': 715, '選舉': 918, '以來': 73, '違反': 914, '案件': 553, '台灣': 216, '成員': 413, '陸續': 954, '接獲': 452, '大陸': 298, '資金': 851, '前往': 166, '官員': 317, '人員': 58, '活動': 607, '相關': 685, '交通': 55, '展開': 348, '偵辦': 107, '檢方': 570, '萬元': 784, '限制': 953, '今天': 65, '考量': 754, '法院': 605, '實支': 325, '實付': 324, '醫療險': 927, '金管會': 935, '改革': 480, '保單': 93, '支出': 473, '設計': 824, '需要': 966, '支付': 472, '趨勢': 858, '使用': 84, '以上': 71, '中心': 37, '因應': 251, '已經': 356, '商業': 237, '年輕': 378, '購買': 853, '提出': 458, '保險公司': 96, '認定': 829, '業者': 560, '改變': 479, '取得': 203, '達到': 912, '商圈': 236, '最快': 531, '店租': 379, '店面': 380, '增倍': 279, '專家': 335, '最糟': 533, '已過': 357, '北市': 183, '平面': 370, '車位': 862, '建案': 385, '跌破': 859, '成個': 411, '可抵': 210, '桃園': 552, '房市': 424, '紅盤': 728, '封關': 332, '首購': 986, '當道': 666, '建商': 384, '籌備': 724, '大選': 296, '檔期': 568, '夫妻': 299, '各付': 220, '一半': 1, '頭期款': 978, '買房': 841, '婆婆': 305, '一句': 2, '同住': 224, '惹怒': 406, '眾人': 690, '部落': 923, '客中': 318, '永和': 593, '安身立命': 314, '看屋': 688, '月餘': 538, '房價': 422, '灰心': 623, '轉戰': 871, '民眾': 590, '制度': 164, '上路': 23, '末班車': 546, '申請': 660, '停售': 104, '效應': 488, '擴大': 469, '人壽': 60, '中央銀行': 36, '新台幣': 498, '匯率': 184, '傳出': 108, '央行': 300, '盤中': 677, '實質': 329, '尚未': 343, '啟動': 240, '出現': 153, '商品': 235, '速度': 898, '背後': 768, '引發': 389, '問題': 239, '值得': 102, '日本': 515, '綜合': 738, '計畫': 818, '包含': 181, '原本': 199, '計劃': 817, '知名': 691, '一直': 9, '處於': 791, '預計': 976, '是否': 519, '利用': 162, '事業': 50, '經營': 737, '排除': 450, '措施': 456, '國際': 258, '目標': 679, '預估': 973, '每年': 584, '股票': 767, '投顧': 436, '新北': 496, '詐騙': 826, '集團': 956, '女子': 302, '一間': 11, '超商': 856, '警方': 835, '涉嫌': 616, '條例': 556, '分局': 156, '本月': 547, '男子': 661, '報案': 278, '高齡': 995, '現金': 647, '一名': 3, '員警': 234, '立即': 714, '了解': 47, '看到': 686, '準備': 619, '涉及': 615, '現場': 646, '到場': 163, '擔任': 467, '工作': 351, '獲得': 642, '金額': 937, '逮捕': 901, '依法': 91, '呼籲': 230, '理財': 648, '金融': 936, '保障': 95, '安全': 313, '翻攝': 752, '送醫': 881, '結束': 732, '受傷': 205, '消防局': 614, '車輛': 864, '嚴重': 242, '民間': 591, '團體': 261, '網路': 742, '調查': 833, '事故': 49, '地點': 269, '相當': 684, '之後': 45, '並未': 33, '情形': 404, '存款': 308, '業務': 557, '統計': 734, '月底': 537, '億元': 113, '下滑': 26, '財政部': 839, '公布': 143, '新高': 504, '提前': 460, '全國': 128, '人士': 59, '規劃': 811, '自年': 772, '首度': 983, '世代': 31, '勞工': 180, '繼續': 748, '最高': 535, '投入': 432, '刷卡': 165, '四大': 244, '利多': 160, '全台': 127, '原因': 198, '正常': 577, '高雄': 992, '每坪': 583, '蟬聯': 794, '下跌': 27, '家人': 321, '近日': 877, '主張': 40, '成立': 416, '基金': 275, '開放': 943, '強調': 393, '石化': 693, '去年': 200, '出口': 150, '國發': 256, '發布': 671, '變化': 838, '再度': 147, '代表': 70, '訂單': 816, '預期': 974, '協議': 192, '成為': 415, '業界': 558, '輔導': 869, '自由': 773, '面對': 967, '產能': 657, '產品': 654, '方向': 505, '台南': 214, '被害人': 804, '組織': 731, '犯罪': 639, '單位': 241, '針對': 938, '行動': 795, '執行': 271, '行為': 798, '檢察官': 569, '指控': 442, '掌握': 448, '工具': 352, '去年同期': 201, '近期': 878, '近年': 876, '數據': 493, '期間': 544, '增加': 280, '中部': 39, '地區': 265, '減少': 617, '每股': 585, '營收': 630, '智慧': 524, '處理': 792, '系統': 725, '三大': 13, '客戶': 319, '布局': 362, '晶片': 523, '電子': 960, '製造業': 808, '最低': 528, '人力': 56, '狀況': 640, '工業': 354, '上升': 16, '呈現': 227, '廠商': 382, '爆發': 633, '以下': 72, '公開': 144, '員工': 233, '因素': 252, '首次': 985, '電腦': 962, '消費': 611, '熱絡': 629, '工程': 355, '公共': 138, '基泰': 273, '首批': 984, '退戶': 880, '高達': 991, '四分之一': 243, '協商': 191, '新竹市': 501, '公告': 140, '土地': 262, '現值': 644, '公告地價': 141, '出爐': 152, '新地': 499, '這高雄': 893, '社宅': 699, '戶數': 421, '居冠': 346, '其邁': 146, '自豪': 774, '租屋': 705, '鴿子': 996, '房稅': 425, '無關痛癢': 627, '房屋': 423, '買氣': 842, '土地交易': 263, '較前年': 868, '腰斬': 771, '消費者': 612, '這是': 889, '發生': 673, '報告': 277, '元旦': 120, '內容': 125, '包括': 182, '經濟部': 736, '英特爾': 782, '共同': 145, '鼓勵': 997, '落實': 785, '轉型': 870, '半導體': 189, '指標': 444, '高雄市': 993, '遊戲': 906, '舉行': 777, '年終': 376, '方式': 506, '模式': 562, '選擇': 917, '執行長': 272, '主題': 43, '位於': 80, '傳統': 109, '體驗': 989, '一家': 5, '提高': 463, '會議': 536, '一起': 10, '禁止': 703, '健康': 106, '突破': 711, '億美元': 114, '研究': 695, '受惠': 207, '先進': 124, '製程': 806, '表現': 801, '優於': 117, '疫情': 667, '循環': 399, '進入': 903, '分析師': 158, '說明': 831, '庫存': 381, '回升': 247, '達成': 913, '低於': 81, '水準': 592, '伺服器': 79, '關注': 947, '帶來': 365, '下半年': 25, '發表': 675, '正在': 576, '重要': 932, '股價': 763, '相信': 682, '營運': 632, '供應鏈': 89, '雙方': 957, '通路': 897, '關鍵': 948, '供應商': 88, '衝擊': 799, '恢復': 403, '動能': 179, '年前': 372, '耶誕節': 756, '對此': 338, '對方': 337, '吸引': 226, '年月日': 375, '期待': 543, '孩子': 309, '當天': 664, '兩年': 137, '邀請': 920, '地方': 266, '信義': 98, '全家': 130, '核心': 550, '回應': 248, '統一': 733, '區域': 185, '尤其': 344, '重點': 933, '帶動': 366, '數位': 492, '加碼': 173, '推出': 454, '紅海': 727, '危機': 196, '海運': 609, '報價': 276, '漲幅': 622, '尾牙': 345, '農曆': 874, '明顯': 517, '所有': 426, '消息': 610, '品牌': 231, '海外': 608, '韓國': 970, '有望': 541, '資訊': 850, '長榮': 942, '獲利': 641, '壓力': 282, '貨櫃': 840, '航運': 780, '合約': 222, '拜登': 439, '爭取': 634, '努力': 177, '擔心': 468, '決定': 596, '能力': 769, '聯邦': 761, '確保': 697, '現在': 645, '確定': 698, '觀察': 814, '一些': 0, '來自': 86, '身分': 861, '關係': 946, '真的': 689, '指數': 443, '上半年': 18, '成功': 412, '永續': 594, '投資人': 435, '教育': 489, '影片': 395, '屬於': 349, '社群': 701, '機會': 565, '全壘打': 129, '市府': 361, '逆勢': 882, '升溫': 188, '公寓': 142, '成交': 410, '優勢': 115, '龍潭': 998, '這裡': 891, '攻略': 482, '這一': 886, '捷運': 446, '三鶯線': 15, '開案': 944, '三峽': 14, '出入口': 149, '簽約': 723, '打造': 428, '優質': 118, '生活圈': 652, '投信': 431, '學校': 310, '國聯': 257, '最後': 530, '樂觀': 561, '降息': 951, '操作': 466, '比率': 587, '碳權': 696, '交易所': 54, '交易': 53, '壽險': 283, '龍頭': 999, '雲端': 958, '來說': 87, '直接': 681, '信用卡': 97, '台股': 219, '法人': 600, '外資': 285, '年底': 373, '行情': 796, '走勢': 854, '美股': 751, '上漲': 21, '訊息': 819, '資本': 848, '用於': 658, '研發': 694, '設備': 823, '子公司': 307, '配合': 924, '看好': 687, '召開': 209, '運用': 908, '證券': 834, '實現': 328, '上周': 19, '股市': 764, '一度': 7, '買超': 843, '我國': 418, '憲法': 407, '原則': 197, '法律': 603, '規定': 812, '查獲': 548, '重大': 930, '事件': 48, '優惠': 116, '拒絕': 438, '社會': 700, '媒體': 306, '老師': 753, '分析': 157, '機制': 563, '大型': 289, '無法': 626, '後續': 397, '整合': 490, '方案': 507, '加強': 172, '提醒': 462, '同仁': 223, '辦法': 872, '排放': 449, '實施': 326, '生成式': 650, '軟體': 867, '討論': 820, '不斷': 30, '判決': 159, '將在': 334, '生活': 651, '成本': 414, '降低': 950, '美元': 749, '一項': 12, '建設': 387, '個股': 100, '收盤': 477, '台積': 217, '依據': 90, '下午': 24, '控制': 453, '永豐': 595, '服務': 542, '策略': 721, '領域': 977, '學習': 312, '頻道': 979, '議題': 837, '提升': 461, '滿足': 620, '題材': 980, '發行': 674, '新北市': 497, '校園': 549, '學生': 311, '通報': 894, '辦理': 873, '之前': 44, '電動車': 959, '擁有': 465, '紀錄': 726, '聯準': 760, '升息': 187, '投票': 433, '伊朗': 78, '萬人': 783, '第二': 719, '先前': 123, '市值': 359, '第一': 718, '規模': 813, '強勁': 391, '整體': 491, '比較': 588, '夥伴': 288, '營業': 631, '大樓': 293, '特別': 636, '長期': 941, '創下': 167, '戰爭': 420, '最近': 534, '軍方': 866, '南部': 193, '告訴': 228, '電視': 963, '攻擊': 481, '晚間': 521, '航空': 779, '當地': 663, '空間': 710, '歷史': 581, '兆豐': 122, '兩大': 136, '機構': 566, '留意': 662, '產生': 656, '彰化縣': 394, '地價': 264, '大遠': 295, '網銀': 743, '將來': 333, '此次': 579, '回饋': 250, '台幣': 215, '壽險業': 284, '新光': 494, '金控': 934, '增資': 281, '旗下': 513, '升值': 186, '利率': 161, '多元': 286, '新能源': 503, '總經理': 746, '來到': 85, '運動': 907, '印度': 195, '面板': 968, '住宅': 82, '紛紛': 729, '格局': 551, '相對': 683, '信託': 99, '高度': 990, '銷售': 940, '國泰': 255, '元大': 119, '權益': 572, '價值': 111, '債券': 110, '價格': 112, '配息': 925, '亞洲': 52, '知道': 692, '授權': 447, '通知': 895, '網友': 740, '法新社': 604, '聲明': 762, '受理': 208, '醫院': 928, '帳戶': 364, '薪資': 788, '兩個': 135, '附近': 949, '高點': 994, '軍事': 865, '聯合': 758, '停止': 105, '武裝': 580, '基礎': 274, '解決': 815, '有效': 540, '這項': 892, '功能': 170, '大學': 290, '機車': 567, '專案': 336, '這次': 890, '條件': 555, '順利': 972, '南韓': 194, '馬士基': 987, '陽明': 955, '年終獎金': 377, '耶誕': 755, '家庭': 323, '補助': 805, '適用': 915, '故事': 487, '造成': 899, '父親': 635, '移民': 706, '汽車': 598, '貸款': 844, '符合': 717, '網站': 741, '人口': 57, '審議': 331, '全案': 132, '股權': 766, '承諾': 429, '襲擊': 809, '延續': 383, '作業': 83, '族群': 512, '有人': 539, '毒品': 586, '駕駛': 988, '園區': 259, '引起': 390, '機場': 564, '地院': 268, '法官': 602, '上訴': 22, '衝突': 800, '法國': 601, '以色列': 75, '人數': 62, '處分': 790, '死亡': 582, '里長': 929, '家屬': 322, '消防': 613, '下降': 28, '至少': 776, '重新': 931, '台北市': 213, '大規模': 294, '中信': 34, '保護': 94, '無人機': 625, '巴勒斯坦': 358, '以巴': 74, '戰火': 419, '城市': 270, '照片': 628, '工會': 353, '議員': 836, '收入': 476, '邊境': 921, '遭到': 916, '加薩': 174, '加薩走廊': 175, '哈瑪斯': 232, '突襲': 712, '空襲': 709, '百年': 676, '仇恨': 64, '以軍': 76, '車展': 863, '進口': 904, '聯合國': 759, '人質': 63, '電梯': 961, '少年': 342, '減碳': 618, '對象': 339, '申報': 659, '全文': 131}\n"
     ]
    },
    {
     "data": {
      "text/plain": [
       "0"
      ]
     },
     "execution_count": 23,
     "metadata": {},
     "output_type": "execute_result"
    }
   ],
   "execution_count": 23
  },
  {
   "cell_type": "code",
   "metadata": {
    "ExecuteTime": {
     "end_time": "2024-04-08T01:39:39.683346Z",
     "start_time": "2024-04-08T01:39:39.503057Z"
    }
   },
   "source": [
    "# 不需重新 `fit()` data，因前面已經 `fit()` 過了\n",
    "# 只需將測試數據使用之前訓練好的 vectorizer 轉換為相同的特徵表示形式，而不需要重新fit。\n",
    "# 如果對測試數據再次 fit vectorizer，可能會導致使用了測試數據的信息，進而導致模型的不穩定性和過度擬合的問題。\n",
    "vec_test = vectorizer.transform(X_test)\n",
    "print(vec_train.shape)\n",
    "print(vec_test.shape)"
   ],
   "outputs": [
    {
     "name": "stdout",
     "output_type": "stream",
     "text": [
      "(2011, 1000)\n",
      "(862, 1000)\n"
     ]
    }
   ],
   "execution_count": 24
  },
  {
   "cell_type": "code",
   "metadata": {
    "ExecuteTime": {
     "end_time": "2024-04-08T01:39:41.972838Z",
     "start_time": "2024-04-08T01:39:41.915696Z"
    }
   },
   "source": [
    "# 建立分類器模型\n",
    "clf = LogisticRegression()\n",
    "clf.fit(vec_train, y_train)\n",
    "clf"
   ],
   "outputs": [
    {
     "data": {
      "text/plain": [
       "LogisticRegression()"
      ],
      "text/html": [
       "<style>#sk-container-id-1 {\n",
       "  /* Definition of color scheme common for light and dark mode */\n",
       "  --sklearn-color-text: black;\n",
       "  --sklearn-color-line: gray;\n",
       "  /* Definition of color scheme for unfitted estimators */\n",
       "  --sklearn-color-unfitted-level-0: #fff5e6;\n",
       "  --sklearn-color-unfitted-level-1: #f6e4d2;\n",
       "  --sklearn-color-unfitted-level-2: #ffe0b3;\n",
       "  --sklearn-color-unfitted-level-3: chocolate;\n",
       "  /* Definition of color scheme for fitted estimators */\n",
       "  --sklearn-color-fitted-level-0: #f0f8ff;\n",
       "  --sklearn-color-fitted-level-1: #d4ebff;\n",
       "  --sklearn-color-fitted-level-2: #b3dbfd;\n",
       "  --sklearn-color-fitted-level-3: cornflowerblue;\n",
       "\n",
       "  /* Specific color for light theme */\n",
       "  --sklearn-color-text-on-default-background: var(--sg-text-color, var(--theme-code-foreground, var(--jp-content-font-color1, black)));\n",
       "  --sklearn-color-background: var(--sg-background-color, var(--theme-background, var(--jp-layout-color0, white)));\n",
       "  --sklearn-color-border-box: var(--sg-text-color, var(--theme-code-foreground, var(--jp-content-font-color1, black)));\n",
       "  --sklearn-color-icon: #696969;\n",
       "\n",
       "  @media (prefers-color-scheme: dark) {\n",
       "    /* Redefinition of color scheme for dark theme */\n",
       "    --sklearn-color-text-on-default-background: var(--sg-text-color, var(--theme-code-foreground, var(--jp-content-font-color1, white)));\n",
       "    --sklearn-color-background: var(--sg-background-color, var(--theme-background, var(--jp-layout-color0, #111)));\n",
       "    --sklearn-color-border-box: var(--sg-text-color, var(--theme-code-foreground, var(--jp-content-font-color1, white)));\n",
       "    --sklearn-color-icon: #878787;\n",
       "  }\n",
       "}\n",
       "\n",
       "#sk-container-id-1 {\n",
       "  color: var(--sklearn-color-text);\n",
       "}\n",
       "\n",
       "#sk-container-id-1 pre {\n",
       "  padding: 0;\n",
       "}\n",
       "\n",
       "#sk-container-id-1 input.sk-hidden--visually {\n",
       "  border: 0;\n",
       "  clip: rect(1px 1px 1px 1px);\n",
       "  clip: rect(1px, 1px, 1px, 1px);\n",
       "  height: 1px;\n",
       "  margin: -1px;\n",
       "  overflow: hidden;\n",
       "  padding: 0;\n",
       "  position: absolute;\n",
       "  width: 1px;\n",
       "}\n",
       "\n",
       "#sk-container-id-1 div.sk-dashed-wrapped {\n",
       "  border: 1px dashed var(--sklearn-color-line);\n",
       "  margin: 0 0.4em 0.5em 0.4em;\n",
       "  box-sizing: border-box;\n",
       "  padding-bottom: 0.4em;\n",
       "  background-color: var(--sklearn-color-background);\n",
       "}\n",
       "\n",
       "#sk-container-id-1 div.sk-container {\n",
       "  /* jupyter's `normalize.less` sets `[hidden] { display: none; }`\n",
       "     but bootstrap.min.css set `[hidden] { display: none !important; }`\n",
       "     so we also need the `!important` here to be able to override the\n",
       "     default hidden behavior on the sphinx rendered scikit-learn.org.\n",
       "     See: https://github.com/scikit-learn/scikit-learn/issues/21755 */\n",
       "  display: inline-block !important;\n",
       "  position: relative;\n",
       "}\n",
       "\n",
       "#sk-container-id-1 div.sk-text-repr-fallback {\n",
       "  display: none;\n",
       "}\n",
       "\n",
       "div.sk-parallel-item,\n",
       "div.sk-serial,\n",
       "div.sk-item {\n",
       "  /* draw centered vertical line to link estimators */\n",
       "  background-image: linear-gradient(var(--sklearn-color-text-on-default-background), var(--sklearn-color-text-on-default-background));\n",
       "  background-size: 2px 100%;\n",
       "  background-repeat: no-repeat;\n",
       "  background-position: center center;\n",
       "}\n",
       "\n",
       "/* Parallel-specific style estimator block */\n",
       "\n",
       "#sk-container-id-1 div.sk-parallel-item::after {\n",
       "  content: \"\";\n",
       "  width: 100%;\n",
       "  border-bottom: 2px solid var(--sklearn-color-text-on-default-background);\n",
       "  flex-grow: 1;\n",
       "}\n",
       "\n",
       "#sk-container-id-1 div.sk-parallel {\n",
       "  display: flex;\n",
       "  align-items: stretch;\n",
       "  justify-content: center;\n",
       "  background-color: var(--sklearn-color-background);\n",
       "  position: relative;\n",
       "}\n",
       "\n",
       "#sk-container-id-1 div.sk-parallel-item {\n",
       "  display: flex;\n",
       "  flex-direction: column;\n",
       "}\n",
       "\n",
       "#sk-container-id-1 div.sk-parallel-item:first-child::after {\n",
       "  align-self: flex-end;\n",
       "  width: 50%;\n",
       "}\n",
       "\n",
       "#sk-container-id-1 div.sk-parallel-item:last-child::after {\n",
       "  align-self: flex-start;\n",
       "  width: 50%;\n",
       "}\n",
       "\n",
       "#sk-container-id-1 div.sk-parallel-item:only-child::after {\n",
       "  width: 0;\n",
       "}\n",
       "\n",
       "/* Serial-specific style estimator block */\n",
       "\n",
       "#sk-container-id-1 div.sk-serial {\n",
       "  display: flex;\n",
       "  flex-direction: column;\n",
       "  align-items: center;\n",
       "  background-color: var(--sklearn-color-background);\n",
       "  padding-right: 1em;\n",
       "  padding-left: 1em;\n",
       "}\n",
       "\n",
       "\n",
       "/* Toggleable style: style used for estimator/Pipeline/ColumnTransformer box that is\n",
       "clickable and can be expanded/collapsed.\n",
       "- Pipeline and ColumnTransformer use this feature and define the default style\n",
       "- Estimators will overwrite some part of the style using the `sk-estimator` class\n",
       "*/\n",
       "\n",
       "/* Pipeline and ColumnTransformer style (default) */\n",
       "\n",
       "#sk-container-id-1 div.sk-toggleable {\n",
       "  /* Default theme specific background. It is overwritten whether we have a\n",
       "  specific estimator or a Pipeline/ColumnTransformer */\n",
       "  background-color: var(--sklearn-color-background);\n",
       "}\n",
       "\n",
       "/* Toggleable label */\n",
       "#sk-container-id-1 label.sk-toggleable__label {\n",
       "  cursor: pointer;\n",
       "  display: block;\n",
       "  width: 100%;\n",
       "  margin-bottom: 0;\n",
       "  padding: 0.5em;\n",
       "  box-sizing: border-box;\n",
       "  text-align: center;\n",
       "}\n",
       "\n",
       "#sk-container-id-1 label.sk-toggleable__label-arrow:before {\n",
       "  /* Arrow on the left of the label */\n",
       "  content: \"▸\";\n",
       "  float: left;\n",
       "  margin-right: 0.25em;\n",
       "  color: var(--sklearn-color-icon);\n",
       "}\n",
       "\n",
       "#sk-container-id-1 label.sk-toggleable__label-arrow:hover:before {\n",
       "  color: var(--sklearn-color-text);\n",
       "}\n",
       "\n",
       "/* Toggleable content - dropdown */\n",
       "\n",
       "#sk-container-id-1 div.sk-toggleable__content {\n",
       "  max-height: 0;\n",
       "  max-width: 0;\n",
       "  overflow: hidden;\n",
       "  text-align: left;\n",
       "  /* unfitted */\n",
       "  background-color: var(--sklearn-color-unfitted-level-0);\n",
       "}\n",
       "\n",
       "#sk-container-id-1 div.sk-toggleable__content.fitted {\n",
       "  /* fitted */\n",
       "  background-color: var(--sklearn-color-fitted-level-0);\n",
       "}\n",
       "\n",
       "#sk-container-id-1 div.sk-toggleable__content pre {\n",
       "  margin: 0.2em;\n",
       "  border-radius: 0.25em;\n",
       "  color: var(--sklearn-color-text);\n",
       "  /* unfitted */\n",
       "  background-color: var(--sklearn-color-unfitted-level-0);\n",
       "}\n",
       "\n",
       "#sk-container-id-1 div.sk-toggleable__content.fitted pre {\n",
       "  /* unfitted */\n",
       "  background-color: var(--sklearn-color-fitted-level-0);\n",
       "}\n",
       "\n",
       "#sk-container-id-1 input.sk-toggleable__control:checked~div.sk-toggleable__content {\n",
       "  /* Expand drop-down */\n",
       "  max-height: 200px;\n",
       "  max-width: 100%;\n",
       "  overflow: auto;\n",
       "}\n",
       "\n",
       "#sk-container-id-1 input.sk-toggleable__control:checked~label.sk-toggleable__label-arrow:before {\n",
       "  content: \"▾\";\n",
       "}\n",
       "\n",
       "/* Pipeline/ColumnTransformer-specific style */\n",
       "\n",
       "#sk-container-id-1 div.sk-label input.sk-toggleable__control:checked~label.sk-toggleable__label {\n",
       "  color: var(--sklearn-color-text);\n",
       "  background-color: var(--sklearn-color-unfitted-level-2);\n",
       "}\n",
       "\n",
       "#sk-container-id-1 div.sk-label.fitted input.sk-toggleable__control:checked~label.sk-toggleable__label {\n",
       "  background-color: var(--sklearn-color-fitted-level-2);\n",
       "}\n",
       "\n",
       "/* Estimator-specific style */\n",
       "\n",
       "/* Colorize estimator box */\n",
       "#sk-container-id-1 div.sk-estimator input.sk-toggleable__control:checked~label.sk-toggleable__label {\n",
       "  /* unfitted */\n",
       "  background-color: var(--sklearn-color-unfitted-level-2);\n",
       "}\n",
       "\n",
       "#sk-container-id-1 div.sk-estimator.fitted input.sk-toggleable__control:checked~label.sk-toggleable__label {\n",
       "  /* fitted */\n",
       "  background-color: var(--sklearn-color-fitted-level-2);\n",
       "}\n",
       "\n",
       "#sk-container-id-1 div.sk-label label.sk-toggleable__label,\n",
       "#sk-container-id-1 div.sk-label label {\n",
       "  /* The background is the default theme color */\n",
       "  color: var(--sklearn-color-text-on-default-background);\n",
       "}\n",
       "\n",
       "/* On hover, darken the color of the background */\n",
       "#sk-container-id-1 div.sk-label:hover label.sk-toggleable__label {\n",
       "  color: var(--sklearn-color-text);\n",
       "  background-color: var(--sklearn-color-unfitted-level-2);\n",
       "}\n",
       "\n",
       "/* Label box, darken color on hover, fitted */\n",
       "#sk-container-id-1 div.sk-label.fitted:hover label.sk-toggleable__label.fitted {\n",
       "  color: var(--sklearn-color-text);\n",
       "  background-color: var(--sklearn-color-fitted-level-2);\n",
       "}\n",
       "\n",
       "/* Estimator label */\n",
       "\n",
       "#sk-container-id-1 div.sk-label label {\n",
       "  font-family: monospace;\n",
       "  font-weight: bold;\n",
       "  display: inline-block;\n",
       "  line-height: 1.2em;\n",
       "}\n",
       "\n",
       "#sk-container-id-1 div.sk-label-container {\n",
       "  text-align: center;\n",
       "}\n",
       "\n",
       "/* Estimator-specific */\n",
       "#sk-container-id-1 div.sk-estimator {\n",
       "  font-family: monospace;\n",
       "  border: 1px dotted var(--sklearn-color-border-box);\n",
       "  border-radius: 0.25em;\n",
       "  box-sizing: border-box;\n",
       "  margin-bottom: 0.5em;\n",
       "  /* unfitted */\n",
       "  background-color: var(--sklearn-color-unfitted-level-0);\n",
       "}\n",
       "\n",
       "#sk-container-id-1 div.sk-estimator.fitted {\n",
       "  /* fitted */\n",
       "  background-color: var(--sklearn-color-fitted-level-0);\n",
       "}\n",
       "\n",
       "/* on hover */\n",
       "#sk-container-id-1 div.sk-estimator:hover {\n",
       "  /* unfitted */\n",
       "  background-color: var(--sklearn-color-unfitted-level-2);\n",
       "}\n",
       "\n",
       "#sk-container-id-1 div.sk-estimator.fitted:hover {\n",
       "  /* fitted */\n",
       "  background-color: var(--sklearn-color-fitted-level-2);\n",
       "}\n",
       "\n",
       "/* Specification for estimator info (e.g. \"i\" and \"?\") */\n",
       "\n",
       "/* Common style for \"i\" and \"?\" */\n",
       "\n",
       ".sk-estimator-doc-link,\n",
       "a:link.sk-estimator-doc-link,\n",
       "a:visited.sk-estimator-doc-link {\n",
       "  float: right;\n",
       "  font-size: smaller;\n",
       "  line-height: 1em;\n",
       "  font-family: monospace;\n",
       "  background-color: var(--sklearn-color-background);\n",
       "  border-radius: 1em;\n",
       "  height: 1em;\n",
       "  width: 1em;\n",
       "  text-decoration: none !important;\n",
       "  margin-left: 1ex;\n",
       "  /* unfitted */\n",
       "  border: var(--sklearn-color-unfitted-level-1) 1pt solid;\n",
       "  color: var(--sklearn-color-unfitted-level-1);\n",
       "}\n",
       "\n",
       ".sk-estimator-doc-link.fitted,\n",
       "a:link.sk-estimator-doc-link.fitted,\n",
       "a:visited.sk-estimator-doc-link.fitted {\n",
       "  /* fitted */\n",
       "  border: var(--sklearn-color-fitted-level-1) 1pt solid;\n",
       "  color: var(--sklearn-color-fitted-level-1);\n",
       "}\n",
       "\n",
       "/* On hover */\n",
       "div.sk-estimator:hover .sk-estimator-doc-link:hover,\n",
       ".sk-estimator-doc-link:hover,\n",
       "div.sk-label-container:hover .sk-estimator-doc-link:hover,\n",
       ".sk-estimator-doc-link:hover {\n",
       "  /* unfitted */\n",
       "  background-color: var(--sklearn-color-unfitted-level-3);\n",
       "  color: var(--sklearn-color-background);\n",
       "  text-decoration: none;\n",
       "}\n",
       "\n",
       "div.sk-estimator.fitted:hover .sk-estimator-doc-link.fitted:hover,\n",
       ".sk-estimator-doc-link.fitted:hover,\n",
       "div.sk-label-container:hover .sk-estimator-doc-link.fitted:hover,\n",
       ".sk-estimator-doc-link.fitted:hover {\n",
       "  /* fitted */\n",
       "  background-color: var(--sklearn-color-fitted-level-3);\n",
       "  color: var(--sklearn-color-background);\n",
       "  text-decoration: none;\n",
       "}\n",
       "\n",
       "/* Span, style for the box shown on hovering the info icon */\n",
       ".sk-estimator-doc-link span {\n",
       "  display: none;\n",
       "  z-index: 9999;\n",
       "  position: relative;\n",
       "  font-weight: normal;\n",
       "  right: .2ex;\n",
       "  padding: .5ex;\n",
       "  margin: .5ex;\n",
       "  width: min-content;\n",
       "  min-width: 20ex;\n",
       "  max-width: 50ex;\n",
       "  color: var(--sklearn-color-text);\n",
       "  box-shadow: 2pt 2pt 4pt #999;\n",
       "  /* unfitted */\n",
       "  background: var(--sklearn-color-unfitted-level-0);\n",
       "  border: .5pt solid var(--sklearn-color-unfitted-level-3);\n",
       "}\n",
       "\n",
       ".sk-estimator-doc-link.fitted span {\n",
       "  /* fitted */\n",
       "  background: var(--sklearn-color-fitted-level-0);\n",
       "  border: var(--sklearn-color-fitted-level-3);\n",
       "}\n",
       "\n",
       ".sk-estimator-doc-link:hover span {\n",
       "  display: block;\n",
       "}\n",
       "\n",
       "/* \"?\"-specific style due to the `<a>` HTML tag */\n",
       "\n",
       "#sk-container-id-1 a.estimator_doc_link {\n",
       "  float: right;\n",
       "  font-size: 1rem;\n",
       "  line-height: 1em;\n",
       "  font-family: monospace;\n",
       "  background-color: var(--sklearn-color-background);\n",
       "  border-radius: 1rem;\n",
       "  height: 1rem;\n",
       "  width: 1rem;\n",
       "  text-decoration: none;\n",
       "  /* unfitted */\n",
       "  color: var(--sklearn-color-unfitted-level-1);\n",
       "  border: var(--sklearn-color-unfitted-level-1) 1pt solid;\n",
       "}\n",
       "\n",
       "#sk-container-id-1 a.estimator_doc_link.fitted {\n",
       "  /* fitted */\n",
       "  border: var(--sklearn-color-fitted-level-1) 1pt solid;\n",
       "  color: var(--sklearn-color-fitted-level-1);\n",
       "}\n",
       "\n",
       "/* On hover */\n",
       "#sk-container-id-1 a.estimator_doc_link:hover {\n",
       "  /* unfitted */\n",
       "  background-color: var(--sklearn-color-unfitted-level-3);\n",
       "  color: var(--sklearn-color-background);\n",
       "  text-decoration: none;\n",
       "}\n",
       "\n",
       "#sk-container-id-1 a.estimator_doc_link.fitted:hover {\n",
       "  /* fitted */\n",
       "  background-color: var(--sklearn-color-fitted-level-3);\n",
       "}\n",
       "</style><div id=\"sk-container-id-1\" class=\"sk-top-container\"><div class=\"sk-text-repr-fallback\"><pre>LogisticRegression()</pre><b>In a Jupyter environment, please rerun this cell to show the HTML representation or trust the notebook. <br />On GitHub, the HTML representation is unable to render, please try loading this page with nbviewer.org.</b></div><div class=\"sk-container\" hidden><div class=\"sk-item\"><div class=\"sk-estimator fitted sk-toggleable\"><input class=\"sk-toggleable__control sk-hidden--visually\" id=\"sk-estimator-id-1\" type=\"checkbox\" checked><label for=\"sk-estimator-id-1\" class=\"sk-toggleable__label fitted sk-toggleable__label-arrow fitted\">&nbsp;&nbsp;LogisticRegression<a class=\"sk-estimator-doc-link fitted\" rel=\"noreferrer\" target=\"_blank\" href=\"https://scikit-learn.org/1.4/modules/generated/sklearn.linear_model.LogisticRegression.html\">?<span>Documentation for LogisticRegression</span></a><span class=\"sk-estimator-doc-link fitted\">i<span>Fitted</span></span></label><div class=\"sk-toggleable__content fitted\"><pre>LogisticRegression()</pre></div> </div></div></div></div>"
      ]
     },
     "execution_count": 25,
     "metadata": {},
     "output_type": "execute_result"
    }
   ],
   "execution_count": 25
  },
  {
   "cell_type": "code",
   "metadata": {
    "ExecuteTime": {
     "end_time": "2024-04-08T01:39:42.838270Z",
     "start_time": "2024-04-08T01:39:42.833272Z"
    }
   },
   "source": [
    "clf.classes_"
   ],
   "outputs": [
    {
     "data": {
      "text/plain": [
       "array(['全球', '社會', '財經'], dtype=object)"
      ]
     },
     "execution_count": 26,
     "metadata": {},
     "output_type": "execute_result"
    }
   ],
   "execution_count": 26
  },
  {
   "cell_type": "code",
   "metadata": {
    "ExecuteTime": {
     "end_time": "2024-04-08T01:39:44.139474Z",
     "start_time": "2024-04-08T01:39:44.132453Z"
    }
   },
   "source": [
    "y_pred = clf.predict(vec_test)\n",
    "y_pred_proba = clf.predict_proba(vec_test)\n",
    "print(y_pred[:10])"
   ],
   "outputs": [
    {
     "name": "stdout",
     "output_type": "stream",
     "text": [
      "['財經' '財經' '財經' '全球' '全球' '財經' '全球' '社會' '全球' '財經']\n"
     ]
    }
   ],
   "execution_count": 27
  },
  {
   "cell_type": "code",
   "metadata": {
    "ExecuteTime": {
     "end_time": "2024-04-08T01:39:45.726222Z",
     "start_time": "2024-04-08T01:39:45.720141Z"
    }
   },
   "source": [
    "print(y_pred_proba.shape)\n",
    "y_pred_proba[0,:]"
   ],
   "outputs": [
    {
     "name": "stdout",
     "output_type": "stream",
     "text": [
      "(862, 3)\n"
     ]
    },
    {
     "data": {
      "text/plain": [
       "array([6.80747121e-09, 2.17869398e-10, 9.99999993e-01])"
      ]
     },
     "execution_count": 28,
     "metadata": {},
     "output_type": "execute_result"
    }
   ],
   "execution_count": 28
  },
  {
   "cell_type": "code",
   "metadata": {
    "ExecuteTime": {
     "end_time": "2024-04-08T01:39:46.822270Z",
     "start_time": "2024-04-08T01:39:46.798162Z"
    }
   },
   "source": [
    "## Accuracy, Precision, Recall, F1-score\n",
    "print(classification_report(y_test, y_pred))"
   ],
   "outputs": [
    {
     "name": "stdout",
     "output_type": "stream",
     "text": [
      "              precision    recall  f1-score   support\n",
      "\n",
      "          全球       0.94      0.95      0.94       232\n",
      "          社會       0.98      0.97      0.97       228\n",
      "          財經       0.98      0.98      0.98       402\n",
      "\n",
      "    accuracy                           0.97       862\n",
      "   macro avg       0.96      0.97      0.96       862\n",
      "weighted avg       0.97      0.97      0.97       862\n",
      "\n"
     ]
    }
   ],
   "execution_count": 29
  },
  {
   "cell_type": "code",
   "metadata": {
    "ExecuteTime": {
     "end_time": "2024-04-08T01:39:51.881395Z",
     "start_time": "2024-04-08T01:39:51.873489Z"
    }
   },
   "source": [
    "classes = clf.classes_\n",
    "cm = confusion_matrix(y_test, y_pred)\n",
    "cm"
   ],
   "outputs": [
    {
     "data": {
      "text/plain": [
       "array([[220,   5,   7],\n",
       "       [  6, 221,   1],\n",
       "       [  9,   0, 393]], dtype=int64)"
      ]
     },
     "execution_count": 30,
     "metadata": {},
     "output_type": "execute_result"
    }
   ],
   "execution_count": 30
  },
  {
   "cell_type": "code",
   "metadata": {
    "ExecuteTime": {
     "end_time": "2024-04-08T01:40:02.068255Z",
     "start_time": "2024-04-08T01:40:01.961305Z"
    }
   },
   "source": [
    "## Plot confusion matrix\n",
    "fig, ax = plt.subplots()\n",
    "sns.heatmap(cm, annot=True, fmt=\"d\", ax=ax, cmap=plt.cm.Blues, cbar=False)\n",
    "ax.set(\n",
    "    xlabel=\"Pred\",\n",
    "    ylabel=\"True\",\n",
    "    xticklabels=classes,\n",
    "    yticklabels=classes,\n",
    "    title=\"Confusion matrix\",\n",
    ")\n",
    "plt.yticks(rotation=0)"
   ],
   "outputs": [
    {
     "data": {
      "text/plain": [
       "(array([0.5, 1.5, 2.5]),\n",
       " [Text(0, 0.5, '全球'), Text(0, 1.5, '社會'), Text(0, 2.5, '財經')])"
      ]
     },
     "execution_count": 31,
     "metadata": {},
     "output_type": "execute_result"
    },
    {
     "data": {
      "text/plain": [
       "<Figure size 640x480 with 1 Axes>"
      ],
      "image/png": "[encoded data removed]"
     },
     "metadata": {},
     "output_type": "display_data"
    }
   ],
   "execution_count": 31
  },
  {
   "attachments": {},
   "cell_type": "markdown",
   "metadata": {},
   "source": "### 3.4 tfidf"
  },
  {
   "attachments": {},
   "cell_type": "markdown",
   "metadata": {},
   "source": "改試試看使用 tf-idf 的 DTM 來代表文章，訓練分類模型的效果"
  },
  {
   "cell_type": "code",
   "metadata": {
    "ExecuteTime": {
     "end_time": "2024-04-08T01:40:06.032918Z",
     "start_time": "2024-04-08T01:40:05.548396Z"
    }
   },
   "source": [
    "vectorizer = TfidfVectorizer(max_features=1000)\n",
    "vec_train = vectorizer.fit_transform(X_train)\n",
    "vec_test = vectorizer.transform(X_test)\n",
    "vec_train.toarray()[0,:]"
   ],
   "outputs": [
    {
     "data": {
      "text/plain": [
       "array([0.        , 0.        , 0.        , 0.        , 0.05162936,\n",
       "       0.        , 0.        , 0.        , 0.09885165, 0.        ,\n",
       "       0.        , 0.        , 0.        , 0.        , 0.        ,\n",
       "       0.        , 0.        , 0.0561859 , 0.        , 0.        ,\n",
       "       0.04975648, 0.        , 0.        , 0.        , 0.        ,\n",
       "       0.        , 0.        , 0.        , 0.        , 0.04508522,\n",
       "       0.        , 0.        , 0.05644981, 0.        , 0.        ,\n",
       "       0.        , 0.        , 0.        , 0.        , 0.        ,\n",
       "       0.        , 0.        , 0.        , 0.        , 0.        ,\n",
       "       0.        , 0.05605573, 0.        , 0.        , 0.        ,\n",
       "       0.        , 0.05241231, 0.        , 0.        , 0.        ,\n",
       "       0.        , 0.        , 0.        , 0.        , 0.        ,\n",
       "       0.        , 0.0495902 , 0.        , 0.        , 0.        ,\n",
       "       0.        , 0.02677613, 0.12012004, 0.05542202, 0.06228163,\n",
       "       0.        , 0.        , 0.        , 0.        , 0.        ,\n",
       "       0.        , 0.        , 0.07242829, 0.        , 0.        ,\n",
       "       0.        , 0.        , 0.        , 0.        , 0.        ,\n",
       "       0.        , 0.        , 0.        , 0.        , 0.        ,\n",
       "       0.        , 0.        , 0.        , 0.        , 0.        ,\n",
       "       0.        , 0.        , 0.        , 0.        , 0.        ,\n",
       "       0.        , 0.        , 0.        , 0.05579889, 0.        ,\n",
       "       0.        , 0.        , 0.        , 0.        , 0.        ,\n",
       "       0.        , 0.        , 0.        , 0.        , 0.        ,\n",
       "       0.        , 0.        , 0.        , 0.        , 0.        ,\n",
       "       0.        , 0.05567216, 0.        , 0.        , 0.        ,\n",
       "       0.        , 0.04863098, 0.        , 0.        , 0.        ,\n",
       "       0.        , 0.        , 0.        , 0.03210089, 0.        ,\n",
       "       0.        , 0.        , 0.        , 0.        , 0.09230387,\n",
       "       0.        , 0.        , 0.        , 0.        , 0.        ,\n",
       "       0.        , 0.        , 0.        , 0.05727192, 0.        ,\n",
       "       0.        , 0.1181443 , 0.        , 0.        , 0.05955975,\n",
       "       0.        , 0.        , 0.        , 0.        , 0.        ,\n",
       "       0.        , 0.        , 0.        , 0.        , 0.        ,\n",
       "       0.        , 0.        , 0.        , 0.0492633 , 0.05699263,\n",
       "       0.        , 0.10564072, 0.        , 0.        , 0.        ,\n",
       "       0.        , 0.05134641, 0.        , 0.05579889, 0.        ,\n",
       "       0.        , 0.        , 0.        , 0.        , 0.        ,\n",
       "       0.        , 0.        , 0.        , 0.        , 0.        ,\n",
       "       0.04343149, 0.        , 0.        , 0.        , 0.        ,\n",
       "       0.        , 0.        , 0.        , 0.        , 0.        ,\n",
       "       0.        , 0.        , 0.04832495, 0.        , 0.05153443,\n",
       "       0.        , 0.0491026 , 0.        , 0.        , 0.        ,\n",
       "       0.        , 0.        , 0.03787157, 0.        , 0.        ,\n",
       "       0.        , 0.        , 0.        , 0.0492633 , 0.        ,\n",
       "       0.        , 0.08085637, 0.        , 0.        , 0.        ,\n",
       "       0.05529856, 0.        , 0.        , 0.        , 0.05579889,\n",
       "       0.        , 0.        , 0.        , 0.        , 0.        ,\n",
       "       0.        , 0.        , 0.        , 0.05282036, 0.        ,\n",
       "       0.        , 0.        , 0.        , 0.        , 0.        ,\n",
       "       0.05493441, 0.05579889, 0.        , 0.        , 0.0582945 ,\n",
       "       0.        , 0.        , 0.        , 0.08675544, 0.1193608 ,\n",
       "       0.        , 0.        , 0.        , 0.        , 0.        ,\n",
       "       0.11482726, 0.        , 0.        , 0.        , 0.        ,\n",
       "       0.        , 0.        , 0.        , 0.        , 0.        ,\n",
       "       0.        , 0.        , 0.        , 0.        , 0.        ,\n",
       "       0.        , 0.        , 0.        , 0.        , 0.        ,\n",
       "       0.        , 0.        , 0.        , 0.        , 0.        ,\n",
       "       0.        , 0.        , 0.        , 0.        , 0.        ,\n",
       "       0.        , 0.050618  , 0.056855  , 0.        , 0.        ,\n",
       "       0.        , 0.        , 0.05282036, 0.        , 0.        ,\n",
       "       0.        , 0.05579889, 0.        , 0.05271726, 0.05162936,\n",
       "       0.        , 0.        , 0.        , 0.        , 0.        ,\n",
       "       0.        , 0.        , 0.        , 0.        , 0.        ,\n",
       "       0.0452066 , 0.1323109 , 0.        , 0.        , 0.        ,\n",
       "       0.03466942, 0.        , 0.        , 0.        , 0.        ,\n",
       "       0.        , 0.        , 0.05579889, 0.        , 0.        ,\n",
       "       0.06228163, 0.        , 0.        , 0.        , 0.        ,\n",
       "       0.        , 0.        , 0.        , 0.        , 0.        ,\n",
       "       0.04353963, 0.04526767, 0.        , 0.        , 0.        ,\n",
       "       0.        , 0.        , 0.        , 0.        , 0.        ,\n",
       "       0.        , 0.        , 0.        , 0.        , 0.        ,\n",
       "       0.        , 0.        , 0.        , 0.        , 0.        ,\n",
       "       0.05992894, 0.        , 0.        , 0.04332415, 0.        ,\n",
       "       0.        , 0.        , 0.05875602, 0.04934433, 0.        ,\n",
       "       0.        , 0.        , 0.        , 0.        , 0.04420615,\n",
       "       0.        , 0.        , 0.        , 0.        , 0.        ,\n",
       "       0.        , 0.        , 0.        , 0.        , 0.        ,\n",
       "       0.        , 0.05755675, 0.        , 0.05079667, 0.        ,\n",
       "       0.        , 0.        , 0.05302882, 0.        , 0.        ,\n",
       "       0.        , 0.03301119, 0.        , 0.        , 0.        ,\n",
       "       0.        , 0.05579889, 0.        , 0.        , 0.        ,\n",
       "       0.04490505, 0.        , 0.        , 0.04702308, 0.05517615,\n",
       "       0.        , 0.        , 0.        , 0.        , 0.        ,\n",
       "       0.        , 0.        , 0.        , 0.        , 0.        ,\n",
       "       0.        , 0.        , 0.        , 0.        , 0.        ,\n",
       "       0.        , 0.        , 0.08829882, 0.        , 0.        ,\n",
       "       0.13227868, 0.        , 0.        , 0.        , 0.24350949,\n",
       "       0.        , 0.        , 0.05324033, 0.        , 0.        ,\n",
       "       0.02781082, 0.05242403, 0.        , 0.        , 0.        ,\n",
       "       0.05542202, 0.        , 0.        , 0.        , 0.        ,\n",
       "       0.        , 0.        , 0.        , 0.        , 0.        ,\n",
       "       0.04199712, 0.        , 0.03234802, 0.        , 0.0571316 ,\n",
       "       0.        , 0.        , 0.        , 0.        , 0.        ,\n",
       "       0.        , 0.        , 0.        , 0.        , 0.        ,\n",
       "       0.05469667, 0.19925809, 0.        , 0.        , 0.        ,\n",
       "       0.05579889, 0.        , 0.        , 0.05211369, 0.        ,\n",
       "       0.        , 0.        , 0.        , 0.        , 0.08219873,\n",
       "       0.        , 0.04661406, 0.        , 0.        , 0.        ,\n",
       "       0.        , 0.        , 0.        , 0.        , 0.        ,\n",
       "       0.44626894, 0.        , 0.        , 0.        , 0.        ,\n",
       "       0.05052949, 0.        , 0.04737305, 0.        , 0.        ,\n",
       "       0.        , 0.        , 0.        , 0.05144011, 0.0470924 ,\n",
       "       0.05423266, 0.        , 0.        , 0.        , 0.04165981,\n",
       "       0.        , 0.        , 0.        , 0.04156487, 0.        ,\n",
       "       0.03511567, 0.        , 0.        , 0.        , 0.        ,\n",
       "       0.04723204, 0.05579889, 0.05271726, 0.        , 0.        ,\n",
       "       0.        , 0.        , 0.04073751, 0.        , 0.        ,\n",
       "       0.        , 0.        , 0.        , 0.        , 0.        ,\n",
       "       0.        , 0.        , 0.        , 0.        , 0.        ,\n",
       "       0.03529812, 0.        , 0.        , 0.        , 0.        ,\n",
       "       0.        , 0.        , 0.        , 0.        , 0.05579889,\n",
       "       0.        , 0.        , 0.        , 0.        , 0.05241231,\n",
       "       0.        , 0.        , 0.        , 0.        , 0.        ,\n",
       "       0.        , 0.        , 0.        , 0.        , 0.        ,\n",
       "       0.        , 0.09741703, 0.        , 0.05271726, 0.        ,\n",
       "       0.        , 0.        , 0.        , 0.0463477 , 0.        ,\n",
       "       0.        , 0.        , 0.        , 0.        , 0.        ,\n",
       "       0.        , 0.        , 0.        , 0.        , 0.05579889,\n",
       "       0.        , 0.        , 0.        , 0.        , 0.        ,\n",
       "       0.        , 0.        , 0.05493441, 0.        , 0.06589629,\n",
       "       0.        , 0.        , 0.        , 0.        , 0.        ,\n",
       "       0.        , 0.04570261, 0.        , 0.        , 0.        ,\n",
       "       0.        , 0.        , 0.        , 0.        , 0.        ,\n",
       "       0.        , 0.        , 0.        , 0.        , 0.        ,\n",
       "       0.        , 0.05271726, 0.        , 0.        , 0.        ,\n",
       "       0.        , 0.        , 0.        , 0.        , 0.        ,\n",
       "       0.        , 0.        , 0.        , 0.        , 0.        ,\n",
       "       0.        , 0.        , 0.        , 0.05579889, 0.        ,\n",
       "       0.        , 0.        , 0.        , 0.05221254, 0.        ,\n",
       "       0.        , 0.        , 0.        , 0.        , 0.04674911,\n",
       "       0.        , 0.        , 0.        , 0.        , 0.        ,\n",
       "       0.10786669, 0.        , 0.        , 0.        , 0.        ,\n",
       "       0.        , 0.        , 0.        , 0.        , 0.        ,\n",
       "       0.050618  , 0.        , 0.        , 0.05567216, 0.        ,\n",
       "       0.11483968, 0.        , 0.0785875 , 0.        , 0.        ,\n",
       "       0.        , 0.        , 0.        , 0.03108408, 0.        ,\n",
       "       0.05579889, 0.        , 0.        , 0.        , 0.        ,\n",
       "       0.        , 0.        , 0.        , 0.        , 0.        ,\n",
       "       0.        , 0.        , 0.        , 0.        , 0.        ,\n",
       "       0.        , 0.        , 0.        , 0.        , 0.        ,\n",
       "       0.        , 0.        , 0.05554655, 0.        , 0.10598626,\n",
       "       0.        , 0.        , 0.04628187, 0.        , 0.        ,\n",
       "       0.        , 0.        , 0.        , 0.05493441, 0.        ,\n",
       "       0.        , 0.05446279, 0.        , 0.        , 0.        ,\n",
       "       0.        , 0.        , 0.        , 0.        , 0.        ,\n",
       "       0.        , 0.        , 0.        , 0.        , 0.        ,\n",
       "       0.04992471, 0.        , 0.        , 0.        , 0.        ,\n",
       "       0.        , 0.        , 0.        , 0.        , 0.04264534,\n",
       "       0.        , 0.        , 0.        , 0.        , 0.05324033,\n",
       "       0.        , 0.        , 0.06076622, 0.        , 0.        ,\n",
       "       0.        , 0.        , 0.        , 0.        , 0.        ,\n",
       "       0.        , 0.        , 0.05251324, 0.        , 0.        ,\n",
       "       0.        , 0.        , 0.        , 0.        , 0.        ,\n",
       "       0.05939538, 0.        , 0.        , 0.        , 0.        ,\n",
       "       0.        , 0.        , 0.        , 0.        , 0.        ,\n",
       "       0.05517615, 0.        , 0.        , 0.04758719, 0.        ,\n",
       "       0.        , 0.        , 0.        , 0.        , 0.        ,\n",
       "       0.        , 0.06375271, 0.04359401, 0.        , 0.05044152,\n",
       "       0.        , 0.        , 0.        , 0.05579889, 0.        ,\n",
       "       0.        , 0.        , 0.05671866, 0.        , 0.        ,\n",
       "       0.        , 0.        , 0.04050125, 0.        , 0.        ,\n",
       "       0.        , 0.        , 0.05579889, 0.        , 0.        ,\n",
       "       0.        , 0.        , 0.        , 0.        , 0.        ,\n",
       "       0.        , 0.        , 0.        , 0.        , 0.        ,\n",
       "       0.        , 0.14385402, 0.05860053, 0.        , 0.        ,\n",
       "       0.04398053, 0.        , 0.05389422, 0.0584467 , 0.        ,\n",
       "       0.        , 0.        , 0.04589312, 0.        , 0.        ,\n",
       "       0.        , 0.        , 0.        , 0.        , 0.        ,\n",
       "       0.        , 0.        , 0.        , 0.        , 0.        ,\n",
       "       0.04615112, 0.05271726, 0.04602154, 0.        , 0.        ,\n",
       "       0.        , 0.        , 0.05493441, 0.        , 0.        ,\n",
       "       0.        , 0.        , 0.        , 0.        , 0.        ,\n",
       "       0.05088685, 0.        , 0.        , 0.        , 0.        ,\n",
       "       0.        , 0.        , 0.        , 0.        , 0.        ,\n",
       "       0.        , 0.        , 0.        , 0.        , 0.        ,\n",
       "       0.05493441, 0.        , 0.        , 0.        , 0.04398053,\n",
       "       0.        , 0.        , 0.        , 0.07588991, 0.10250663,\n",
       "       0.05434727, 0.        , 0.        , 0.05579889, 0.        ,\n",
       "       0.        , 0.        , 0.        , 0.        , 0.        ,\n",
       "       0.        , 0.05261489, 0.        , 0.        , 0.        ,\n",
       "       0.04840085, 0.        , 0.        , 0.        , 0.        ,\n",
       "       0.10815596, 0.        , 0.        , 0.        , 0.04455136,\n",
       "       0.05271726, 0.05201551, 0.        , 0.        , 0.        ,\n",
       "       0.        , 0.        , 0.        , 0.        , 0.0436486 ,\n",
       "       0.        , 0.        , 0.04264534, 0.        , 0.        ,\n",
       "       0.        , 0.26727505, 0.        , 0.        , 0.        ,\n",
       "       0.        , 0.        , 0.        , 0.        , 0.        ,\n",
       "       0.        , 0.        , 0.        , 0.        , 0.        ,\n",
       "       0.        , 0.        , 0.        , 0.        , 0.        ,\n",
       "       0.04773175, 0.        , 0.        , 0.        , 0.        ,\n",
       "       0.        , 0.        , 0.05579889, 0.        , 0.        ,\n",
       "       0.        , 0.        , 0.        , 0.        , 0.        ,\n",
       "       0.        , 0.        , 0.        , 0.        , 0.05567216,\n",
       "       0.03601977, 0.        , 0.        , 0.        , 0.04894367,\n",
       "       0.        , 0.04886486, 0.        , 0.        , 0.        ,\n",
       "       0.        , 0.        , 0.        , 0.        , 0.        ,\n",
       "       0.        , 0.04189993, 0.        , 0.        , 0.        ,\n",
       "       0.        , 0.        , 0.        , 0.        , 0.        ,\n",
       "       0.        , 0.        , 0.        , 0.        , 0.        ,\n",
       "       0.        , 0.        , 0.        , 0.        , 0.        ])"
      ]
     },
     "execution_count": 32,
     "metadata": {},
     "output_type": "execute_result"
    }
   ],
   "execution_count": 32
  },
  {
   "cell_type": "code",
   "metadata": {
    "ExecuteTime": {
     "end_time": "2024-04-08T01:40:06.965968Z",
     "start_time": "2024-04-08T01:40:06.918967Z"
    }
   },
   "source": [
    "clf.fit(vec_train, y_train)\n",
    "y_pred = clf.predict(vec_test)\n",
    "y_pred_proba = clf.predict_proba(vec_test)\n",
    "\n",
    "# results\n",
    "## Accuracy, Precision, Recall, F1-score\n",
    "print(classification_report(y_test, y_pred))"
   ],
   "outputs": [
    {
     "name": "stdout",
     "output_type": "stream",
     "text": [
      "              precision    recall  f1-score   support\n",
      "\n",
      "          全球       0.95      0.92      0.94       232\n",
      "          社會       0.97      0.97      0.97       228\n",
      "          財經       0.97      0.99      0.98       402\n",
      "\n",
      "    accuracy                           0.97       862\n",
      "   macro avg       0.96      0.96      0.96       862\n",
      "weighted avg       0.97      0.97      0.97       862\n",
      "\n"
     ]
    }
   ],
   "execution_count": 33
  },
  {
   "metadata": {
    "ExecuteTime": {
     "end_time": "2024-04-08T01:40:07.821487Z",
     "start_time": "2024-04-08T01:40:07.815029Z"
    }
   },
   "cell_type": "code",
   "source": [
    "classes = clf.classes_\n",
    "cm = confusion_matrix(y_test, y_pred)\n",
    "cm"
   ],
   "outputs": [
    {
     "data": {
      "text/plain": [
       "array([[214,   8,  10],\n",
       "       [  5, 222,   1],\n",
       "       [  6,   0, 396]], dtype=int64)"
      ]
     },
     "execution_count": 34,
     "metadata": {},
     "output_type": "execute_result"
    }
   ],
   "execution_count": 34
  },
  {
   "metadata": {
    "ExecuteTime": {
     "end_time": "2024-04-08T01:40:08.884346Z",
     "start_time": "2024-04-08T01:40:08.781314Z"
    }
   },
   "cell_type": "code",
   "source": [
    "## Plot confusion matrix\n",
    "fig, ax = plt.subplots()\n",
    "sns.heatmap(cm, annot=True, fmt=\"d\", ax=ax, cmap=plt.cm.Blues, cbar=False)\n",
    "ax.set(\n",
    "    xlabel=\"Pred\",\n",
    "    ylabel=\"True\",\n",
    "    xticklabels=classes,\n",
    "    yticklabels=classes,\n",
    "    title=\"Confusion matrix\",\n",
    ")\n",
    "plt.yticks(rotation=0)"
   ],
   "outputs": [
    {
     "data": {
      "text/plain": [
       "(array([0.5, 1.5, 2.5]),\n",
       " [Text(0, 0.5, '全球'), Text(0, 1.5, '社會'), Text(0, 2.5, '財經')])"
      ]
     },
     "execution_count": 35,
     "metadata": {},
     "output_type": "execute_result"
    },
    {
     "data": {
      "text/plain": [
       "<Figure size 640x480 with 1 Axes>"
      ],
      "image/png": "[encoded data removed]"
     },
     "metadata": {},
     "output_type": "display_data"
    }
   ],
   "execution_count": 35
  },
  {
   "attachments": {},
   "cell_type": "markdown",
   "metadata": {},
   "source": "效果一樣也是不錯，可能因為三個新聞版別本來就有很大的差異，用字遣詞會不同。 "
  },
  {
   "attachments": {},
   "cell_type": "markdown",
   "metadata": {},
   "source": "### 3.5 CV  "
  },
  {
   "attachments": {},
   "cell_type": "markdown",
   "metadata": {},
   "source": "接著介紹 cross-validation。CV 在機器學習中，是一個很常用來讓模型評估能夠得到更穩定的數值的手法。 "
  },
  {
   "attachments": {},
   "cell_type": "markdown",
   "metadata": {},
   "source": "* figure1:  "
  },
  {
   "attachments": {},
   "cell_type": "markdown",
   "metadata": {},
   "source": "![](images/grid_search_workflow.png) "
  },
  {
   "attachments": {},
   "cell_type": "markdown",
   "metadata": {},
   "source": [
    "* figure 2:  "
   ]
  },
  {
   "attachments": {},
   "cell_type": "markdown",
   "metadata": {},
   "source": [
    "![](https://scikit-learn.org/stable/_images/grid_search_cross_validation.png)"
   ]
  },
  {
   "attachments": {},
   "cell_type": "markdown",
   "metadata": {},
   "source": [
    "source: <https://scikit-learn.org/stable/modules/cross_validation.html#cross-validation-and-model-selection>"
   ]
  },
  {
   "attachments": {},
   "cell_type": "markdown",
   "metadata": {},
   "source": [
    "cross-validation 會自動切成 k 組 train-test dataset。  \n",
    "`cross_validate()` 會回傳經過 cross-validation 的模型評估結果。"
   ]
  },
  {
   "cell_type": "code",
   "metadata": {
    "ExecuteTime": {
     "end_time": "2024-04-08T01:40:19.468089Z",
     "start_time": "2024-04-08T01:40:18.951905Z"
    }
   },
   "source": [
    "clf = LogisticRegression()\n",
    "vec_train = TfidfVectorizer(max_features=1000).fit_transform(X_train)\n",
    "\n",
    "scores = cross_validate(clf, vec_train, y_train, cv=5, scoring=(\"f1_macro\", \"recall_macro\", \"precision_macro\"), return_estimator=True)\n",
    "pprint(scores)"
   ],
   "outputs": [
    {
     "name": "stdout",
     "output_type": "stream",
     "text": [
      "{'estimator': [LogisticRegression(),\n",
      "               LogisticRegression(),\n",
      "               LogisticRegression(),\n",
      "               LogisticRegression(),\n",
      "               LogisticRegression()],\n",
      " 'fit_time': array([0.03100586, 0.02806807, 0.02500582, 0.02299738, 0.02899957]),\n",
      " 'score_time': array([0.00599933, 0.00593066, 0.00600243, 0.00500011, 0.00500083]),\n",
      " 'test_f1_macro': array([0.97504477, 0.96597168, 0.97509535, 0.96295525, 0.95837677]),\n",
      " 'test_precision_macro': array([0.97586282, 0.96574407, 0.97405772, 0.97206176, 0.9635227 ]),\n",
      " 'test_recall_macro': array([0.97424777, 0.96631909, 0.97652317, 0.95650954, 0.95395839])}\n"
     ]
    }
   ],
   "execution_count": 36
  },
  {
   "cell_type": "markdown",
   "metadata": {},
   "source": "`cross_val_predict()` 則會回傳 cv 預測的類別。"
  },
  {
   "cell_type": "code",
   "metadata": {
    "ExecuteTime": {
     "end_time": "2024-04-08T01:40:23.530732Z",
     "start_time": "2024-04-08T01:40:23.353050Z"
    }
   },
   "source": [
    "y_pred = cross_val_predict(clf, vec_train, y_train, cv=5)\n",
    "print(classification_report(y_train, y_pred))"
   ],
   "outputs": [
    {
     "name": "stdout",
     "output_type": "stream",
     "text": [
      "              precision    recall  f1-score   support\n",
      "\n",
      "          全球       0.97      0.93      0.95       543\n",
      "          社會       0.97      0.98      0.97       493\n",
      "          財經       0.97      0.99      0.98       975\n",
      "\n",
      "    accuracy                           0.97      2011\n",
      "   macro avg       0.97      0.97      0.97      2011\n",
      "weighted avg       0.97      0.97      0.97      2011\n",
      "\n"
     ]
    }
   ],
   "execution_count": 37
  },
  {
   "attachments": {},
   "cell_type": "markdown",
   "metadata": {},
   "source": "## 4. 比較不同模型效果"
  },
  {
   "cell_type": "code",
   "metadata": {
    "scrolled": true,
    "ExecuteTime": {
     "end_time": "2024-04-08T01:40:28.619399Z",
     "start_time": "2024-04-08T01:40:28.612391Z"
    }
   },
   "source": [
    "# 定義模型訓練組合\n",
    "## pipeline: 資料處理 vectorizer + 分類器 clf\n",
    "## 由於 cross-validation 會自動將資料分成 train/test，因此 input 只要給 X, y 即可\n",
    "\n",
    "def train_cv(vectorizer, clf, X, y):\n",
    "\n",
    "    ## train classifier\n",
    "    vec_X = vectorizer.fit_transform(X).toarray()\n",
    "    \n",
    "    ## get cv results\n",
    "    cv_results = cross_validate(clf, vec_X, y, cv=5, return_estimator=True)\n",
    "    y_pred = cross_val_predict(clf, vec_X, y, cv=5)\n",
    "    y_pred_proba = cross_val_predict(clf, vec_X, y, cv=5, method=\"predict_proba\")\n",
    "    \n",
    "    ## Accuracy, Precision, Recall, F1-score\n",
    "    cls_report = classification_report(y, y_pred, output_dict=True)\n",
    "    print(classification_report(y, y_pred))\n",
    "\n",
    "    classes = cv_results['estimator'][0].classes_\n",
    "    \n",
    "    ## Plot confusion matrix\n",
    "    cm = confusion_matrix(y, y_pred)\n",
    "    fig, ax = plt.subplots()\n",
    "    sns.heatmap(cm, annot=True, fmt=\"d\", ax=ax, cmap=plt.cm.Blues, cbar=False)\n",
    "    ax.set(\n",
    "        xlabel=\"Pred\",\n",
    "        ylabel=\"True\",\n",
    "        xticklabels=classes,\n",
    "        yticklabels=classes,\n",
    "        title= str(clf) + \"Confusion matrix\",\n",
    "    )\n",
    "    plt.yticks(rotation=0)\n",
    "\n",
    "    clf.fit(vec_X, y)\n",
    "    # return the model object\n",
    "    return cls_report"
   ],
   "outputs": [],
   "execution_count": 38
  },
  {
   "cell_type": "code",
   "metadata": {
    "ExecuteTime": {
     "end_time": "2024-04-08T01:40:32.035741Z",
     "start_time": "2024-04-08T01:40:30.166971Z"
    }
   },
   "source": [
    "vectorizer = TfidfVectorizer(max_features=1000)\n",
    "clf = LogisticRegression()\n",
    "result = train_cv(vectorizer, clf, X_train, y_train)"
   ],
   "outputs": [
    {
     "name": "stdout",
     "output_type": "stream",
     "text": [
      "              precision    recall  f1-score   support\n",
      "\n",
      "          全球       0.97      0.93      0.95       543\n",
      "          社會       0.97      0.98      0.97       493\n",
      "          財經       0.97      0.99      0.98       975\n",
      "\n",
      "    accuracy                           0.97      2011\n",
      "   macro avg       0.97      0.97      0.97      2011\n",
      "weighted avg       0.97      0.97      0.97      2011\n",
      "\n"
     ]
    },
    {
     "data": {
      "text/plain": [
       "<Figure size 640x480 with 1 Axes>"
      ],
      "image/png": "[encoded data removed]"
     },
     "metadata": {},
     "output_type": "display_data"
    }
   ],
   "execution_count": 39
  },
  {
   "cell_type": "code",
   "metadata": {
    "ExecuteTime": {
     "end_time": "2024-04-08T01:41:32.761076Z",
     "start_time": "2024-04-08T01:40:37.528557Z"
    }
   },
   "source": [
    "# 準備訓練資料\n",
    "X = data[\"words\"]\n",
    "y = data[\"artCatagory\"]\n",
    "\n",
    "# 把整個資料集七三切\n",
    "X_train, X_test, y_train, y_test = train_test_split(\n",
    "    X, y, test_size=0.3, random_state=777\n",
    ")\n",
    "# 定義模型訓練組合\n",
    "model_set = dict()\n",
    "model_set['clf_logistic'] = LogisticRegression()\n",
    "model_set['clf_dtree'] = DecisionTreeClassifier()\n",
    "model_set['clf_svm'] = svm.SVC(probability=True) # 要使用SVM的predict_proba的話，必須在叫出SVC的時候就將probability設為True\n",
    "model_set['clf_rf'] = RandomForestClassifier()\n",
    "# 定義 vectorizer\n",
    "# vectorizer = CountVectorizer(max_features=1000)\n",
    "vectorizer = TfidfVectorizer(max_features=1000)\n",
    "# 存結果\n",
    "result_set = dict()\n",
    "\n",
    "for k, model in model_set.items():\n",
    "    print(\"=\"*100)\n",
    "    print(f\"now training: {k}\")\n",
    "    result_set[k] = train_cv(vectorizer, model, X_train, y_train)\n",
    "    print(\"=\"*100)\n"
   ],
   "outputs": [
    {
     "name": "stdout",
     "output_type": "stream",
     "text": [
      "====================================================================================================\n",
      "now training: clf_logistic\n",
      "              precision    recall  f1-score   support\n",
      "\n",
      "          全球       0.97      0.93      0.95       543\n",
      "          社會       0.97      0.98      0.97       493\n",
      "          財經       0.97      0.99      0.98       975\n",
      "\n",
      "    accuracy                           0.97      2011\n",
      "   macro avg       0.97      0.97      0.97      2011\n",
      "weighted avg       0.97      0.97      0.97      2011\n",
      "\n",
      "====================================================================================================\n",
      "====================================================================================================\n",
      "now training: clf_dtree\n",
      "              precision    recall  f1-score   support\n",
      "\n",
      "          全球       0.79      0.80      0.79       543\n",
      "          社會       0.86      0.85      0.86       493\n",
      "          財經       0.91      0.90      0.90       975\n",
      "\n",
      "    accuracy                           0.86      2011\n",
      "   macro avg       0.85      0.85      0.85      2011\n",
      "weighted avg       0.86      0.86      0.86      2011\n",
      "\n",
      "====================================================================================================\n",
      "====================================================================================================\n",
      "now training: clf_svm\n",
      "              precision    recall  f1-score   support\n",
      "\n",
      "          全球       0.96      0.94      0.95       543\n",
      "          社會       0.97      0.97      0.97       493\n",
      "          財經       0.98      0.99      0.99       975\n",
      "\n",
      "    accuracy                           0.97      2011\n",
      "   macro avg       0.97      0.97      0.97      2011\n",
      "weighted avg       0.97      0.97      0.97      2011\n",
      "\n",
      "====================================================================================================\n",
      "====================================================================================================\n",
      "now training: clf_rf\n",
      "              precision    recall  f1-score   support\n",
      "\n",
      "          全球       0.96      0.89      0.92       543\n",
      "          社會       0.95      0.98      0.96       493\n",
      "          財經       0.96      0.98      0.97       975\n",
      "\n",
      "    accuracy                           0.96      2011\n",
      "   macro avg       0.96      0.95      0.95      2011\n",
      "weighted avg       0.96      0.96      0.96      2011\n",
      "\n",
      "====================================================================================================\n"
     ]
    },
    {
     "data": {
      "text/plain": [
       "<Figure size 640x480 with 1 Axes>"
      ],
      "image/png": "[encoded data removed]"
     },
     "metadata": {},
     "output_type": "display_data"
    },
    {
     "data": {
      "text/plain": [
       "<Figure size 640x480 with 1 Axes>"
      ],
      "image/png": "[encoded data removed]"
     },
     "metadata": {},
     "output_type": "display_data"
    },
    {
     "data": {
      "text/plain": [
       "<Figure size 640x480 with 1 Axes>"
      ],
      "image/png": "[encoded data removed]"
     },
     "metadata": {},
     "output_type": "display_data"
    },
    {
     "data": {
      "text/plain": [
       "<Figure size 640x480 with 1 Axes>"
      ],
      "image/png": "[encoded data removed]"
     },
     "metadata": {},
     "output_type": "display_data"
    }
   ],
   "execution_count": 40
  },
  {
   "cell_type": "code",
   "metadata": {
    "ExecuteTime": {
     "end_time": "2024-04-08T01:41:41.576692Z",
     "start_time": "2024-04-08T01:41:41.570515Z"
    }
   },
   "source": "result_set['clf_logistic']",
   "outputs": [
    {
     "data": {
      "text/plain": [
       "{'全球': {'precision': 0.9692307692307692,\n",
       "  'recall': 0.9281767955801105,\n",
       "  'f1-score': 0.9482596425211665,\n",
       "  'support': 543.0},\n",
       " '社會': {'precision': 0.9678714859437751,\n",
       "  'recall': 0.9776876267748479,\n",
       "  'f1-score': 0.9727547931382442,\n",
       "  'support': 493.0},\n",
       " '財經': {'precision': 0.972809667673716,\n",
       "  'recall': 0.9907692307692307,\n",
       "  'f1-score': 0.9817073170731707,\n",
       "  'support': 975.0},\n",
       " 'accuracy': 0.9706613625062158,\n",
       " 'macro avg': {'precision': 0.9699706409494202,\n",
       "  'recall': 0.9655445510413964,\n",
       "  'f1-score': 0.9675739175775272,\n",
       "  'support': 2011.0},\n",
       " 'weighted avg': {'precision': 0.9706327082269824,\n",
       "  'recall': 0.9706613625062158,\n",
       "  'f1-score': 0.9704812198172498,\n",
       "  'support': 2011.0}}"
      ]
     },
     "execution_count": 41,
     "metadata": {},
     "output_type": "execute_result"
    }
   ],
   "execution_count": 41
  },
  {
   "cell_type": "code",
   "metadata": {
    "ExecuteTime": {
     "end_time": "2024-04-08T01:41:42.591839Z",
     "start_time": "2024-04-08T01:41:42.587087Z"
    }
   },
   "source": [
    "max = 0\n",
    "best_model_name = \"\"\n",
    "best_model_metric = \"f1-score\"\n",
    "\n",
    "## choose max f1-score model from result_set\n",
    "for k, v in result_set.items():\n",
    "    if v['weighted avg'][best_model_metric] > max:\n",
    "        max = v['weighted avg'][best_model_metric]\n",
    "        best_model_name = k\n",
    "print(f\"best model: {best_model_name}\")\n",
    "pprint(result_set[best_model_name])"
   ],
   "outputs": [
    {
     "name": "stdout",
     "output_type": "stream",
     "text": [
      "best model: clf_svm\n",
      "{'accuracy': 0.9726504226752859,\n",
      " 'macro avg': {'f1-score': 0.9689619174697701,\n",
      "               'precision': 0.970548609521639,\n",
      "               'recall': 0.9674790160897319,\n",
      "               'support': 2011.0},\n",
      " 'weighted avg': {'f1-score': 0.972548545061173,\n",
      "                  'precision': 0.9725465856256067,\n",
      "                  'recall': 0.9726504226752859,\n",
      "                  'support': 2011.0},\n",
      " '全球': {'f1-score': 0.9515828677839852,\n",
      "        'precision': 0.9623352165725048,\n",
      "        'recall': 0.9410681399631676,\n",
      "        'support': 543.0},\n",
      " '社會': {'f1-score': 0.9695740365111561,\n",
      "        'precision': 0.9695740365111561,\n",
      "        'recall': 0.9695740365111561,\n",
      "        'support': 493.0},\n",
      " '財經': {'f1-score': 0.9857288481141692,\n",
      "        'precision': 0.9797365754812564,\n",
      "        'recall': 0.9917948717948718,\n",
      "        'support': 975.0}}\n"
     ]
    }
   ],
   "execution_count": 42
  },
  {
   "cell_type": "code",
   "metadata": {
    "ExecuteTime": {
     "end_time": "2024-04-08T01:41:51.146258Z",
     "start_time": "2024-04-08T01:41:50.359301Z"
    }
   },
   "source": [
    "y_pred = model_set['clf_svm'].predict(vectorizer.transform(X_test).toarray())\n",
    "print(classification_report(y_test, y_pred))"
   ],
   "outputs": [
    {
     "name": "stdout",
     "output_type": "stream",
     "text": [
      "              precision    recall  f1-score   support\n",
      "\n",
      "          全球       0.96      0.96      0.96       232\n",
      "          社會       0.97      0.98      0.98       228\n",
      "          財經       0.99      0.99      0.99       402\n",
      "\n",
      "    accuracy                           0.98       862\n",
      "   macro avg       0.97      0.97      0.97       862\n",
      "weighted avg       0.98      0.98      0.98       862\n",
      "\n"
     ]
    }
   ],
   "execution_count": 43
  },
  {
   "cell_type": "code",
   "metadata": {
    "ExecuteTime": {
     "end_time": "2024-04-08T01:41:59.929741Z",
     "start_time": "2024-04-08T01:41:59.921573Z"
    }
   },
   "source": [
    "model_set['clf_svm'].predict(vectorizer.transform([\"菲律賓 大學 要求 帶防 作弊 憤怒 皮卡丘 同台 東森 新聞 菲律賓 一名 大學教授\"]).toarray())"
   ],
   "outputs": [
    {
     "data": {
      "text/plain": [
       "array(['全球'], dtype=object)"
      ]
     },
     "execution_count": 44,
     "metadata": {},
     "output_type": "execute_result"
    }
   ],
   "execution_count": 44
  },
  {
   "attachments": {},
   "cell_type": "markdown",
   "metadata": {},
   "source": [
    "* 最佳的 model 為 SVM，其中 Decision Tree 的表現較差外，其餘三個 model （Logistic、SVM、Random Forest）表現差不多。\n",
    "* 另外也可以嘗試用直接的詞頻表作為 `vectorizer`，比較看看相較 tfidf，是否效果更好。"
   ]
  },
  {
   "attachments": {},
   "cell_type": "markdown",
   "metadata": {},
   "source": [
    "## 5. 分析可解釋模型的結果"
   ]
  },
  {
   "attachments": {},
   "cell_type": "markdown",
   "metadata": {},
   "source": [
    "### 5.1 各字詞特徵的estimate係數\n",
    "對於線性的模型，可以藉由相關係數，查看資料特徵（詞）對於判斷分類的影響\n",
    "+ coefficient estimate 代表特徵每增加一單位（在此處會是該文章的某字詞頻 +1），y是1的發生機率比y是0的發生機率多幾倍（odds ratio 勝算比）\n",
    "+ 這裡舉logistic regression + cv tokenizer 為例"
   ]
  },
  {
   "cell_type": "code",
   "metadata": {
    "ExecuteTime": {
     "end_time": "2024-04-08T01:42:06.327240Z",
     "start_time": "2024-04-08T01:42:06.321022Z"
    }
   },
   "source": [
    "def plot_coef(logistic_reg_model, feature_names, top_n=10):\n",
    "    # 選出某個類別的前10大影響力字詞\n",
    "    log_odds = logistic_reg_model.coef_.T\n",
    "    coef_df = pd.DataFrame(\n",
    "        log_odds, \n",
    "        columns=logistic_reg_model.classes_, index=feature_names\n",
    "    )\n",
    "    for label in coef_df.columns:\n",
    "        select_words = (\n",
    "            coef_df[[label]]\n",
    "            .sort_values(by=label, ascending=False)\n",
    "            .iloc[np.r_[0:top_n, -top_n:0]]\n",
    "        )\n",
    "        word = select_words.index\n",
    "        count = select_words[label]\n",
    "        category_colors = np.where(\n",
    "            select_words[label] >= 0, \"darkseagreen\", \"rosybrown\"\n",
    "        )  # 設定顏色\n",
    "\n",
    "        fig, ax = plt.subplots(figsize=(8, top_n*0.8))  # 設定畫布\n",
    "        plt.rcParams[\"axes.unicode_minus\"] = False\n",
    "\n",
    "        ax.barh(word, count, color=category_colors)\n",
    "        ax.invert_yaxis()\n",
    "        ax.set_title(\n",
    "            \"Coeff increase/decrease odds ratio of 「\" + label + \"」 label the most\",\n",
    "            loc=\"left\",\n",
    "            size=16,\n",
    "        )\n",
    "        ax.set_ylabel(\"word\", size=14)\n",
    "        ax.set_xlabel(\"odds ratio\", size=14)"
   ],
   "outputs": [],
   "execution_count": 45
  },
  {
   "cell_type": "code",
   "metadata": {
    "ExecuteTime": {
     "end_time": "2024-04-08T01:42:08.137524Z",
     "start_time": "2024-04-08T01:42:07.463411Z"
    }
   },
   "source": [
    "plot_coef(logistic_reg_model=model_set['clf_logistic'], feature_names=vectorizer.get_feature_names_out(), top_n=10)"
   ],
   "outputs": [
    {
     "data": {
      "text/plain": [
       "<Figure size 800x800 with 1 Axes>"
      ],
      "image/png": "[encoded data removed]"
     },
     "metadata": {},
     "output_type": "display_data"
    },
    {
     "data": {
      "text/plain": [
       "<Figure size 800x800 with 1 Axes>"
      ],
      "image/png": "[encoded data removed]"
     },
     "metadata": {},
     "output_type": "display_data"
    },
    {
     "data": {
      "text/plain": [
       "<Figure size 800x800 with 1 Axes>"
      ],
      "image/png": "[encoded data removed]"
     },
     "metadata": {},
     "output_type": "display_data"
    }
   ],
   "execution_count": 46
  },
  {
   "attachments": {},
   "cell_type": "markdown",
   "metadata": {},
   "source": [
    "- 「全球」中出現了日本、美國、英國還有當地等國際新聞關鍵字，除了國家名稱外，也提到許多元首名稱，比較特殊的是，\"當地\"這個詞語也被廣泛使用。\n",
    "- 「社會」中高係數的字是分局、學生、消防局與消防；「消防」可能與去年選舉前後時有明揚大火導致多名消防人員殉職有關;在許多社會新聞案件中，常提到是由哪些分局處理案件，因此「分局」也是社會新聞常見字彙，而「學生」則是可能與當時的國中生割頸案有關\n",
    "- 「財經」則是億元、投資、市場與台股等相關詞彙，只會出現在財經相關新聞上。"
   ]
  },
  {
   "attachments": {},
   "cell_type": "markdown",
   "metadata": {},
   "source": [
    "## 6. 預測新聞類別"
   ]
  },
  {
   "cell_type": "markdown",
   "metadata": {},
   "source": [
    "`東森新聞.csv` 為東森新聞資料\n",
    "- 版別：國際(world)、社會(society)、政治(politics)、財經(ec)\n",
    "- 時間範圍：2023/12/23 ~ 2024/01/13\n",
    "- 工作流程平台搜尋/排除關鍵字：無"
   ]
  },
  {
   "cell_type": "code",
   "metadata": {
    "ExecuteTime": {
     "end_time": "2024-04-08T01:42:37.448232Z",
     "start_time": "2024-04-08T01:42:37.392340Z"
    }
   },
   "source": [
    "ct = pd.read_csv(\"data/東森新聞.csv\")\n",
    "ct.dropna(inplace=True)\n",
    "ct"
   ],
   "outputs": [
    {
     "data": {
      "text/plain": [
       "      system_id                         artTitle  \\\n",
       "0             1    她勞保多繳4年！少領近57萬 問題竟出在最後3年｜東森新聞   \n",
       "1             2   她薪水全丟這！存百萬竟遭18歲表弟嗆：不如阿公那輩｜東森新聞   \n",
       "2             3  陽明海運年終落差超嚴重！去年13個月 今年數字嚇死人｜東森新聞   \n",
       "3             4      勞保紓困貸款最高拿10萬元 申請4條件曝光！｜東森新聞   \n",
       "4             5    台塑四寶獲利衰！年終3.5個月恐無望 創11年低｜東森新聞   \n",
       "...         ...                              ...   \n",
       "1775       1776       美英轟葉門叛軍 油價飆漲4％貨櫃運價連7漲｜東森新聞   \n",
       "1776       1777     英相蘇納克二度訪烏 簽安全協議、增援近千億台幣｜東森新聞   \n",
       "1777       1778    女扮遊戲角色「殭屍」搭陸地鐵遭攔 只因「引圍觀」｜東森新聞   \n",
       "1778       1779      大選影響台海情勢 日本防相：密切監視中國軍方｜東森新聞   \n",
       "1779       1780  聚焦安全局勢、半導體！ CNN：台灣大選可能改變世界｜東森新聞   \n",
       "\n",
       "                                           artUrl              artDate  \\\n",
       "0     https://news.ebc.net.tw/news/article/397623  2023-12-24 10:59:00   \n",
       "1     https://news.ebc.net.tw/news/article/397656  2023-12-24 14:16:00   \n",
       "2     https://news.ebc.net.tw/news/article/397802  2023-12-25 12:13:00   \n",
       "3     https://news.ebc.net.tw/news/article/397804  2023-12-25 13:02:00   \n",
       "4     https://news.ebc.net.tw/news/article/397811  2023-12-25 13:51:00   \n",
       "...                                           ...                  ...   \n",
       "1775  https://news.ebc.net.tw/news/article/400727  2024-01-13 08:00:00   \n",
       "1776  https://news.ebc.net.tw/news/article/400730  2024-01-13 17:38:00   \n",
       "1777  https://news.ebc.net.tw/news/article/400734  2024-01-13 17:53:00   \n",
       "1778  https://news.ebc.net.tw/news/article/400768  2024-01-13 21:40:00   \n",
       "1779  https://news.ebc.net.tw/news/article/400769  2024-01-13 21:48:00   \n",
       "\n",
       "     artCatagory  \\\n",
       "0             財經   \n",
       "1             財經   \n",
       "2             財經   \n",
       "3             財經   \n",
       "4             財經   \n",
       "...          ...   \n",
       "1775          國際   \n",
       "1776          國際   \n",
       "1777          國際   \n",
       "1778          國際   \n",
       "1779          國際   \n",
       "\n",
       "                                                                                                                                                                                                                                                                                                                                                                                                                                                                                                                                                                                                                                                                                                                                                                                                                                                                                                                                                                                                  artContent  \\\n",
       "0                                                                                                                                                                                                                                                                一名擁有26年年資的女性上班族，4年前離職退保，原本一次領可領169.46萬元，後來離職接案，卻選擇加入職業工會，以最低薪資2.5萬元繼續投保，最後少領了近57萬。對此，勞保達人張秘書也做出解釋。YouTube頻道「勞工朋友的祕書～張秘書」在一則影片中分享一個案例，一名52歲勞工年資26年，因職業倦怠不想再朝九晚五，決定改在家接案工作，她雖已符合一次領的資格，卻選擇加入職業工會，加保4年。張秘書以這個例子試算，經過四年的職業工會加保，當小倩決定請領一次給付年金時，卻發現因為最後三年的平均投保薪資僅為2.5萬元，按照勞保局的規定，一次請領的給付金額相對較低，25000元×45個基數＝1125000元。如果小倩當初選擇直接一次請領，擁有26年年資的她可以按照37個基數計算，而最終的給付金額高達169.46萬元，45800元×37個基數＝1694600元。也就是說，小倩勞保多繳4年，反而少領了56萬9600元。張秘書強調，如果勞工選擇一次請領老年給付，務必注意最後3年的投保資薪必須保持在最高水平，否則可能會得不償失。一、必須是離職退保狀態下。二、平均月投保薪資是取最後3年。三、基數算法，前15年一年一個基數，第16年開始每年算二個基數。四、60歲以前年資上限是30年。五、年資未滿30日，以一個月計算。一、保險年資合計每滿1年，按其平均月投保薪資發給1個月。二、保險年資合計超過15年者，超過部分，每滿1年發給2個月，最高以45個月為限。例如：年資26年，其給付年資15+22＝37（個基數）。三、被保險人逾60歲繼續工作者，其逾60歲以後之保險年資，最多以5年計，合併60歲以前之一次請領老年給付，最高以50個月為限。   \n",
       "1                                                                                                                                                                                                                                                                                                                               面對低薪，除了斜槓，大家也會選擇投資。一名女網友表示，才高中的表弟嘲笑她只懂存錢，投資理財的等級比阿公那輩還不如，讓她開始想要改變。原PO在Dcard指出，因為父母沒有投資的習慣，家庭教育也一直跟她反覆告誡投資有風險，股票可能會讓人賠到跳樓，所以長大賺了錢也只會存起來，甚至直到前年才知道一樣是存錢，存到實體開戶的銀行，跟存到數位帳戶利息差很多，所以薪水都是每月固定轉Bankee領利息。原PO透露，親戚聚會的時候聊到理財，才發現現在的高中生都很有想法，也敢於付諸行動，明明還沒出社會賺錢，但賺錢的方法很多，才18歲已經看好要買哪支股票，「表弟問我買股票有沒有賺錢，我說沒有買後，還被他嘲諷，說我只懂存錢，投資理財的等級比阿公那輩還不如，阿公30年前都知道買股票、固定領股息，我這樣根本不算現代人，還是趕快找個有錢男人嫁了。」原PO附上近200萬的存款嘆，平時會逛理財板，看到很多人分享自己千萬存款或幾歲存到百萬，其實覺得很羨慕，也想改變，「2024年開始想要開始投資一點股票，或者多做點副業增加收入，目前已經有申請證券開戶了，不曉得大家有沒有推薦的。」貼文一出，不少人紛紛留言「不會覺得自己比沒買股票的人厲害，任何事情只要想開始都不嫌晚，ETF自己慢慢爬文，投資不要隨意相信他人」、「沒有說存銀行就是不好的投資，投資確實也有風險，不懂理財穩穩存銀行也不吃虧」、「股票也可能賠錢，你這樣列，感覺太理想了」。文章來源：她拿到薪水全丟這⋯「百萬存款」曝光18歲表弟酸：比阿公那輩還不如由CTWANT授權轉載。   \n",
       "2                                                                                                                                                                                                                                                                                                                                                                                                                                                                                                                                                                                                                             在疫情期間，航運相關產業可以說是獲利頗豐，陽明海運在2022年的年終就高達13個月，羨煞不少民眾。但現在有消息指出，陽明海運於日前召開董事會，決議今年年終獎金僅1個月，加上每年固定的第13個月薪資，形同年終獎金僅2個月，與去年相比有著不少的落差。據了解，陽明海運去年年終有13個月，2023年的年度分紅也有20個月，整個加起來多達33個月之多。但根據媒體報導指出，在陽明海運的董事會上，決議年終獎金僅有1個月。而報導中也推估2024年的年終分紅也僅有1個月，加上固定的第13個月薪資，總和僅3.2個月。但好消息是，陽明海運將比照公務員標準，明年為員工加薪4%。報導中也提到，由於陽明海運具有官股性質，年終獎金最多只能發12個月，但是在分紅制度方面，陽明海運明訂稅前獲利1%為員工紅利，這數字遠高於長榮海運的0.5%與萬海的0.6%。   \n",
       "3                                                                                                                                                勞工快看過來！今（25）日，勞動部公告113年勞保紓困貸款將在1月5日開放申請，受理至113年1月19日截止，每人最高可貸10萬元，貸款期間3年，其也列出貸款申貸資格4條件，若有符合資格的勞工，記得於受理時間申請。勞動部表示，為了要協助勞工朋友度過農曆年前經濟困難，113年勞保紓困貸款將於113年1月5日正式開辦，受理至113年1月19日截止，每人最高可貸10萬元，貸款期間3年，年利率目前為2.04％，前6個月按月付息不還本，第7個月起按月平均攤還本息。1.生活困難需要紓困2.參加勞工保險年資滿15年（計算至受理截止日113年1月19日止）3.無欠繳勞工保險費及滯納金4.未曾借貸勞保紓困貸款，或曾借貸已繳清貸款本金及利息者勞動部指出，若是已請領老年給付、終身無工作能力之失能給付或向其所屬機關請領勞工保險補償金者，則不得申請勞保紓困貸款。申辦本項貸款無需繳交任何費用；每人限申請1次，重複申請者不予受理。另外，符合資格且有需求之勞工朋友，可以於受理申請期間，透過網路、臨櫃或郵寄等方式，向土地銀行各地分行或其委託之金融機構提出申請。對此，勞動部也呼籲，為了減少民眾臨櫃排隊久候時間，請多加利用網路申請，例假日亦可使用，既省時又方便。此外，勞動部勞工保險局在2023年的尾聲，將陸續完成11項給付的入帳作業，預計今日發放國民年金保險老年基本保證年金、國民年金保險原住民給付；周四（28日）則預計發放勞保年金給付、職保年金給付、勞退月退休金（首發案）。周五（29日）將有另外6項給付入帳，包括產檢假與陪產檢及陪產假薪資補助、國保身心障礙年金給付併計勞保年資、國民年金保險老年年金給付、國民年金保險身心障礙（基本保證）年金、國民年金保險喪葬給付、國民年金保險遺囑年金。詳情請治土地銀行客服專線（02）2314-6633及其所屬分行或其委託金融機構，土地銀行於連江縣馬祖地區無營業據點，委託連江縣農會受理；或電洽勞保局服務專線（02）2396-1266。   \n",
       "4                                                                                                                                                                                                                                                                                                                                                                   舞台上辣妹勁歌熱舞，炒熱現場氣氛，年底員工最期待的就是年終尾牙，不過傳產龍頭台塑集團，考量剛搬遷到內湖新總部，今年尾牙還是再度停辦，而年終獎金恐怕還會讓員工小失望，因為可能創下近11年最低，不到3.5個月。台塑企業全國聯合會理事長陳鴻儒：「外界所傳的要（EPS）2.43元，（年終）才能達到3.5個月，好在是說公司跟工會有做一個協商，最低保障是3個月，最高7個月。」攤開歷年台塑年終大紅包，110年獲利爆發，員工年終領到最高上限7個月，羨煞不少人，但去年開始受到國際油價、石化行情趨緩影響，略為縮水，而今年可能不只保不了3.5個月，就連工會想積極爭取的3.3個月，恐怕也很艱難。財經專家邱敏寬：「台塑四寶在年底的時候，又遭遇到整個EAFC當中的特殊產品限制，那就目前來說，這個限制到選後會不會開放，要持續來做觀察。」尤其在通膨升息壓力干擾下，讓中國大陸經濟復甦不如預期，即使第三季油價強彈，但台塑四寶前三季稅後純益，仍是452億元年減60.8％，財經專家邱敏寬：「明年的經濟成長率，目前七大機構來估，大概都有到3％以上，今年對台塑四寶相對比較保守，但是我對於明年倒是會比較樂觀一些，因為明年的傳統產業跟電子產業，特別是在通訊跟AI這一塊，擴張性會比較大一點。」不過明年台塑是否將會出現變動，資深媒體人臉書及內部員工，都爆出明年台塑四寶將有人事大地震，但台塑集團對相關謠言皆不予置評，要專注在公司營運，期許在新的一年，能繼續全力衝刺。   \n",
       "...                                                                                                                                                                                                                                                                                                                                                                                                                                                                                                                                                                                                                                                                                                                                                                                                                                                                                                                                                                                                      ...   \n",
       "1775                                                                                                                                                                                                                                                                                             美英聯軍12日針對葉門叛軍青年運動的73處目標，發射至少一百五十枚「戰斧」巡弋飛彈及雷射導引炸彈。轟炸葉門叛軍青年運動的73處目標。紅海局勢升高，造成貨櫃運價連七漲，原油價格也在一天飆漲了4%。夜色中，美軍F18戰機從艾森豪號航空母艦升空，打擊葉門叛軍青年運動的據點；英國颱風戰機也從塞普路斯起飛進行攻擊，參與軍事行動的協力國家，還包括澳洲、巴林、加拿大以及荷蘭。美國國防部發言人萊德：「這是一個國際問題，因此需要國際社會共同解決。」當地時間12號凌晨，英美聯軍發射包括戰斧飛彈等超過一百五十枚精準導引彈藥，攻擊伊朗支持的青年運動叛軍在葉門首都沙那等地點73處目標。目的就是削弱青年運動從去年底以來宣稱為了支持加薩哈瑪斯，而對紅海商船的攻擊武力。美國總統拜登：「我己經向伊朗傳遞一個訊息，他們知道不能所欲為。」不過拜登也表示不會與伊朗打代理人戰爭，對此青年運動也進行反擊至少發射1枚飛彈，不過沒有擊中船艦；青年運動也揚言，將繼續攻擊紅海商船。在首都沙那則出現大規模反美和反以色列抗議，數萬人湧上首都沙那街頭遊行，並焚燒國旗洩憤。另外伊朗也公布11號在阿曼灣扣押一艘美國油輪畫面，伊朗表示，這項行動是報復美國去年扣押同一艘船及其石油。紅海局勢升溫也造成油價波動，布蘭特北海原油與西德州中級原油十二日價格都飆漲4％，貨櫃運價指數也再攀高；最新一期上海出口集裝箱運價指數大漲309.38點至2206.03點，站上2000點大關。英美聯軍攻擊葉門叛軍也引發疑慮，卡達與阿曼等美國的波斯灣盟邦擔憂區域情勢恐失控，將中東捲入伊朗支持的武裝團體，在敘利亞和伊拉克境內的進一步衝突。   \n",
       "1776                                                                                                                                                                                                                       俄烏開戰將近2年，但烏軍卻面臨外國軍援停擺的困境。不過近期繼日本外長訪烏，宣布撥款11.5億資金協助烏克蘭後，英國首相蘇納克也二度訪問基輔；不僅與烏克蘭簽訂長達10年的安全協議之外，更宣布將給予烏克蘭高達25億英鎊，相當於新台幣將近千億的國防援助。鎖定前方俄軍車隊馬上進行連續打擊，烏軍在烏克蘭全境持續對抗俄羅斯，面對西方援助一度停擺，如今終於再出現救兵。英國首相蘇納克：「歷史告訴我們，堅持下去的民主國家將永遠占上風，普丁無法理解，雖然你可以殺死個人並摧毀建築物，但沒有任何軍隊能夠擊敗自由人民的意志。」英國首相蘇納克二度訪問基輔，不僅在烏克蘭議會進行演說，更與總統澤倫斯基一同前往醫院探望傷兵，替這些士兵加油打氣。不過蘇納克這一趟也做出一項重要決定。英國首相蘇納克：「英國今天宣佈，自戰爭開始以來，我們對烏克蘭的最大規模國防援助達25億英鎊（約台幣991億）。」英國這一波軍援中有至少2億英鎊將用在快速大量採購及生產多達數千架軍用無人機，並且未來有望成為歷來最大規模的外國無人機援烏計畫。英烏雙方也簽署安全合作協議，效期長達10年，可以延長。這項協議主要也是為了防止烏克蘭再度遭到侵略，並且一但侵略再起，英國可以第一時間支援烏克蘭直到最後一刻。同時烏克蘭地面部隊指揮官，也呼籲西方援助攻擊機。烏軍指揮官西爾斯基：「考慮到我們能得到什麼，我想說A-10（攻擊機）能作為一種選擇。它不是新型機種，但是一種在許多戰爭中證明自己的可靠武器。」烏克蘭面對持續遭俄國攻擊，積極尋求外援的同時，也開始針對俄羅斯邊境發動反擊行動。俄羅斯城市別爾哥羅德近期遭烏克蘭砲擊後造成多人死傷，當地政府針對500多個公車站堆砌沙包與水泥牆，設置防護屏障，以保護民眾受到砲擊。隨著俄烏戰爭將近兩年，雙方加強攻擊力道，使戰事更加升級。   \n",
       "1777                                                                                                                                                                                                                                                                                                                                                                                   女子頭戴紫色假髮，頂著殭屍帽，身穿類似漢服服裝，扮成殭屍要搭地鐵，卻被安檢員給攔了下來。地鐵安檢員vs.女Coser：「請問我為什麼不可以進地鐵站呢，（我就說你對cosplay的是什麼形象），是國產遊戲原神裡面的七七角色，身上的衣服是我自己搭配的漢服，（你這是...），這是那個漢服，（先報你的身分證號）。」裝扮成可愛殭屍卻被要求查驗身分，女子實在不能理解，自己的裝扮沒有影響到他人，也稱不上恐怖，為何不能進站搭地鐵。地鐵安檢員vs.女Coser：「我們這種復古來的，那種血腥恐怖就是低俗，（我恐怖嗎，我覺得我很可愛啊），如果你的動作引起了圍觀，要負法律責任知道吧，再一個我就想問妳，這個帽子能摘下來嗎，至少看上去是一個正常的乘客，以為他不是一個怪物啊，或卡通什麼的。」不斷要求女子摘下帽子頭飾，安檢員以會引起圍觀等理由要女子配合，甚至說要叫警察。雙方溝通好一段時間，最後才願意讓女子進站。中國一名女Coser在網路上發了這段影片，自己剛參加完動漫展要搭地鐵卻遭到盤查，瞬間引起熱議。上海地鐵工作人員：「Cosplay制服是可以進站的，但是非日常服飾進站，安檢人員會進行阻攔並呼叫民警。」影片曝光後，中國網友有紛紛留言怒罵，因為穿著打扮遭到限制真的太過離譜；律師也表示，法律對於穿著本身並無限制，如果乘客只是因為扮演成卡通或是動漫角色就被限制或禁止進入地鐵，有干預乘客自由穿衣的嫌疑，實在不妥。   \n",
       "1778  台灣大選日本媒體也很關注，不只多家媒體記者來台連線採訪，甚至也在選前對三位候選人有所分析，但最關注的還是著重在台海情勢，畢竟台灣有事就是日本有事，台灣的選舉結果，影響著全球，日本防衛大臣也強調，接下來會密切關注，中國軍隊在台灣周邊的動向。台灣總統大選，日本媒體關注，選前各家日本電視台記者，都在台灣連線報導。日本記者：「請先看那邊有藍色招牌，是國民黨的侯友宜候選人，再回頭來看，這邊則是民進黨候選人，賴清德的大型招牌。」因為對日本來說，大選可能影響台海情勢，日本防衛大臣木原稔，甚至強調會密切關注中國在台灣的周邊動向，日本媒體對三人都各有期待，甚至形容他們是「認真的男子」、「名刑事」和「變色龍」。日本皇學館大學副教授村上政俊：「關於賴清德，以不觸及台獨的宣言，向世界發信這點最大的原因，是為了讓美國安心。」對於賴清德，日媒擔心的是兩岸情勢是否更緊張，NHK分析就指出，賴清德強烈的台獨色彩，可能會挑戰美國的對台政策紅線，不過專家也分析，賴清德即便當選，能調整兩岸政策的程度有限。至於侯友宜，日媒則關注是否會親中，但結果恐怕一樣讓習近平沮喪。日本軍事記者小原凡司：「現在的國民黨，跟以前的國民黨相比，發生了很大的變化，並不像以前馬英九時期一樣，都是親中派的人物站穩陣腳。」日經亞洲分析，侯友宜兩岸政策比較模糊，既想與美國保持密切關係，又希望跟中國友好，但是台灣民眾對北京的不信任，侯友宜也很難與中國靠近。NHK主播：「台灣跟中國太靠近的話，台灣半導體的先進技術，可能會流向中國。」日本法政大學教授福田圓指出，國民黨可能會跟以前一樣，較重視與中國的經濟關係，這也可能會是美國擔心的，因為若半導體技術，又落入中國手中，對中晶片制裁等於白忙一場。日本政治學家小笠原欣幸：「柯文哲先生的情況，其實在對中政策，和對美政策上，是有點模稜兩可的。」而對於三腳督關鍵的柯文哲，日媒則比較難以預測，專家分析，柯文哲兩岸議題比較模糊，但受到年輕選民歡迎，因此主打薪水住宅等民生問題。日本政治學家小笠原欣幸：「新當選的總統將在5月20日就職，在這四個月的時間裡，是否會與中國進行任何形式的幕後接觸，國際社會又將以何種心情看待新總統的誕生。」台灣有事就是日本有事，2024總統大選結果出爐，日本媒體最關注的還是台海情勢，新任總統要如何面對，仍需要繼續觀察。   \n",
       "1779                                                                              這場關鍵大選不只台灣人關注，許多國際媒體也大陣仗派記者來台採訪，就像CNN一篇報導說的，這場選舉「可能改變世界」。至於在哪些方面影響世界，CNN認為主要就是全球安全局勢，和半導體供應鏈，因為位於第一島鏈上的台灣，具有重要的戰略意義，而台灣又是全球第一大晶片製造商，若發生任何衝突，導致供應鏈中斷，將會對全世界造成災難性的後果。2024台灣大選有多重要？國際媒體大篇幅報導，CNN斗大標題更直言「今年的一場選舉，可能改變世界，而且不是美國大選，是台灣。」CNN新聞主播：這是一場全球密切關注的選舉，尤其是其共產主義的鄰國中國，還有我們美國。」CNN說中國領導高層，尤其關注大選結果，因為北京會如何回應，台灣的民意決擇，也將考驗著中美之間，是否能夠控制緊張局勢。CNN特派記者雷普利：「台灣是中美之間緊張局勢的最大主因，而美國又是台灣，在國際間主要的支持者，以及武器供應商，中國如何對這次的選舉結果，做出回應將會成為一個重大考驗，北京和華府能否控制緊張局勢，還是會走向進一步對抗衝突。」CNN在報導中分析，雖然很少有專家預期，解放軍會在短期內出兵台灣，但文章中提到，北京有很多方式可以表達不滿，包括進行軍事演習展示武力，以及進一步暫停與台灣的貿易往來甚至封鎖等等。CNN特派記者雷普利：「台灣是全球第一大半導體製造商，這些高價晶片，為我們所有的高科技產品提供動力，任何間接或直接的衝突，導致供應鏈中斷，將會在世界各地發生災難性的後果。」除了台海局勢變化，半導體供應鏈會有何影響，也是一大焦點，而且不只美國，荷蘭媒體也特別製作了一集專題節目，談台灣大選和晶片產業。駐荷蘭代表陳欣新：「假設台灣內部發生任何狀況，不可能只在台灣的邊境就止步，這將會是全球性的災難，這是為何我們稱之為矽盾。」節目專訪了台灣駐荷蘭代表陳欣新，她強調半導體產業，是台灣國家安全的矽盾，另外節目也採訪了，晶片戰爭一書的作者米勒，米勒估計台海軍事衝突，將對全球經濟造成至少2兆美元，大約62兆台幣的衝擊。選舉結果影響到半導體供應鏈，以及全球安全局勢，這就是為何CNN會說，台灣2024大選結果，造成的影響是無遠弗屆。   \n",
       "\n",
       "     dataSource  \n",
       "0           EBC  \n",
       "1           EBC  \n",
       "2           EBC  \n",
       "3           EBC  \n",
       "4           EBC  \n",
       "...         ...  \n",
       "1775        EBC  \n",
       "1776        EBC  \n",
       "1777        EBC  \n",
       "1778        EBC  \n",
       "1779        EBC  \n",
       "\n",
       "[1780 rows x 7 columns]"
      ],
      "text/html": [
       "<div>\n",
       "<style scoped>\n",
       "    .dataframe tbody tr th:only-of-type {\n",
       "        vertical-align: middle;\n",
       "    }\n",
       "\n",
       "    .dataframe tbody tr th {\n",
       "        vertical-align: top;\n",
       "    }\n",
       "\n",
       "    .dataframe thead th {\n",
       "        text-align: right;\n",
       "    }\n",
       "</style>\n",
       "<table border=\"1\" class=\"dataframe\">\n",
       "  <thead>\n",
       "    <tr style=\"text-align: right;\">\n",
       "      <th></th>\n",
       "      <th>system_id</th>\n",
       "      <th>artTitle</th>\n",
       "      <th>artUrl</th>\n",
       "      <th>artDate</th>\n",
       "      <th>artCatagory</th>\n",
       "      <th>artContent</th>\n",
       "      <th>dataSource</th>\n",
       "    </tr>\n",
       "  </thead>\n",
       "  <tbody>\n",
       "    <tr>\n",
       "      <th>0</th>\n",
       "      <td>1</td>\n",
       "      <td>她勞保多繳4年！少領近57萬 問題竟出在最後3年｜東森新聞</td>\n",
       "      <td>https://news.ebc.net.tw/news/article/397623</td>\n",
       "      <td>2023-12-24 10:59:00</td>\n",
       "      <td>財經</td>\n",
       "      <td>一名擁有26年年資的女性上班族，4年前離職退保，原本一次領可領169.46萬元，後來離職接案，卻選擇加入職業工會，以最低薪資2.5萬元繼續投保，最後少領了近57萬。對此，勞保達人張秘書也做出解釋。YouTube頻道「勞工朋友的祕書～張秘書」在一則影片中分享一個案例，一名52歲勞工年資26年，因職業倦怠不想再朝九晚五，決定改在家接案工作，她雖已符合一次領的資格，卻選擇加入職業工會，加保4年。張秘書以這個例子試算，經過四年的職業工會加保，當小倩決定請領一次給付年金時，卻發現因為最後三年的平均投保薪資僅為2.5萬元，按照勞保局的規定，一次請領的給付金額相對較低，25000元×45個基數＝1125000元。如果小倩當初選擇直接一次請領，擁有26年年資的她可以按照37個基數計算，而最終的給付金額高達169.46萬元，45800元×37個基數＝1694600元。也就是說，小倩勞保多繳4年，反而少領了56萬9600元。張秘書強調，如果勞工選擇一次請領老年給付，務必注意最後3年的投保資薪必須保持在最高水平，否則可能會得不償失。一、必須是離職退保狀態下。二、平均月投保薪資是取最後3年。三、基數算法，前15年一年一個基數，第16年開始每年算二個基數。四、60歲以前年資上限是30年。五、年資未滿30日，以一個月計算。一、保險年資合計每滿1年，按其平均月投保薪資發給1個月。二、保險年資合計超過15年者，超過部分，每滿1年發給2個月，最高以45個月為限。例如：年資26年，其給付年資15+22＝37（個基數）。三、被保險人逾60歲繼續工作者，其逾60歲以後之保險年資，最多以5年計，合併60歲以前之一次請領老年給付，最高以50個月為限。</td>\n",
       "      <td>EBC</td>\n",
       "    </tr>\n",
       "    <tr>\n",
       "      <th>1</th>\n",
       "      <td>2</td>\n",
       "      <td>她薪水全丟這！存百萬竟遭18歲表弟嗆：不如阿公那輩｜東森新聞</td>\n",
       "      <td>https://news.ebc.net.tw/news/article/397656</td>\n",
       "      <td>2023-12-24 14:16:00</td>\n",
       "      <td>財經</td>\n",
       "      <td>面對低薪，除了斜槓，大家也會選擇投資。一名女網友表示，才高中的表弟嘲笑她只懂存錢，投資理財的等級比阿公那輩還不如，讓她開始想要改變。原PO在Dcard指出，因為父母沒有投資的習慣，家庭教育也一直跟她反覆告誡投資有風險，股票可能會讓人賠到跳樓，所以長大賺了錢也只會存起來，甚至直到前年才知道一樣是存錢，存到實體開戶的銀行，跟存到數位帳戶利息差很多，所以薪水都是每月固定轉Bankee領利息。原PO透露，親戚聚會的時候聊到理財，才發現現在的高中生都很有想法，也敢於付諸行動，明明還沒出社會賺錢，但賺錢的方法很多，才18歲已經看好要買哪支股票，「表弟問我買股票有沒有賺錢，我說沒有買後，還被他嘲諷，說我只懂存錢，投資理財的等級比阿公那輩還不如，阿公30年前都知道買股票、固定領股息，我這樣根本不算現代人，還是趕快找個有錢男人嫁了。」原PO附上近200萬的存款嘆，平時會逛理財板，看到很多人分享自己千萬存款或幾歲存到百萬，其實覺得很羨慕，也想改變，「2024年開始想要開始投資一點股票，或者多做點副業增加收入，目前已經有申請證券開戶了，不曉得大家有沒有推薦的。」貼文一出，不少人紛紛留言「不會覺得自己比沒買股票的人厲害，任何事情只要想開始都不嫌晚，ETF自己慢慢爬文，投資不要隨意相信他人」、「沒有說存銀行就是不好的投資，投資確實也有風險，不懂理財穩穩存銀行也不吃虧」、「股票也可能賠錢，你這樣列，感覺太理想了」。文章來源：她拿到薪水全丟這⋯「百萬存款」曝光18歲表弟酸：比阿公那輩還不如由CTWANT授權轉載。</td>\n",
       "      <td>EBC</td>\n",
       "    </tr>\n",
       "    <tr>\n",
       "      <th>2</th>\n",
       "      <td>3</td>\n",
       "      <td>陽明海運年終落差超嚴重！去年13個月 今年數字嚇死人｜東森新聞</td>\n",
       "      <td>https://news.ebc.net.tw/news/article/397802</td>\n",
       "      <td>2023-12-25 12:13:00</td>\n",
       "      <td>財經</td>\n",
       "      <td>在疫情期間，航運相關產業可以說是獲利頗豐，陽明海運在2022年的年終就高達13個月，羨煞不少民眾。但現在有消息指出，陽明海運於日前召開董事會，決議今年年終獎金僅1個月，加上每年固定的第13個月薪資，形同年終獎金僅2個月，與去年相比有著不少的落差。據了解，陽明海運去年年終有13個月，2023年的年度分紅也有20個月，整個加起來多達33個月之多。但根據媒體報導指出，在陽明海運的董事會上，決議年終獎金僅有1個月。而報導中也推估2024年的年終分紅也僅有1個月，加上固定的第13個月薪資，總和僅3.2個月。但好消息是，陽明海運將比照公務員標準，明年為員工加薪4%。報導中也提到，由於陽明海運具有官股性質，年終獎金最多只能發12個月，但是在分紅制度方面，陽明海運明訂稅前獲利1%為員工紅利，這數字遠高於長榮海運的0.5%與萬海的0.6%。</td>\n",
       "      <td>EBC</td>\n",
       "    </tr>\n",
       "    <tr>\n",
       "      <th>3</th>\n",
       "      <td>4</td>\n",
       "      <td>勞保紓困貸款最高拿10萬元 申請4條件曝光！｜東森新聞</td>\n",
       "      <td>https://news.ebc.net.tw/news/article/397804</td>\n",
       "      <td>2023-12-25 13:02:00</td>\n",
       "      <td>財經</td>\n",
       "      <td>勞工快看過來！今（25）日，勞動部公告113年勞保紓困貸款將在1月5日開放申請，受理至113年1月19日截止，每人最高可貸10萬元，貸款期間3年，其也列出貸款申貸資格4條件，若有符合資格的勞工，記得於受理時間申請。勞動部表示，為了要協助勞工朋友度過農曆年前經濟困難，113年勞保紓困貸款將於113年1月5日正式開辦，受理至113年1月19日截止，每人最高可貸10萬元，貸款期間3年，年利率目前為2.04％，前6個月按月付息不還本，第7個月起按月平均攤還本息。1.生活困難需要紓困2.參加勞工保險年資滿15年（計算至受理截止日113年1月19日止）3.無欠繳勞工保險費及滯納金4.未曾借貸勞保紓困貸款，或曾借貸已繳清貸款本金及利息者勞動部指出，若是已請領老年給付、終身無工作能力之失能給付或向其所屬機關請領勞工保險補償金者，則不得申請勞保紓困貸款。申辦本項貸款無需繳交任何費用；每人限申請1次，重複申請者不予受理。另外，符合資格且有需求之勞工朋友，可以於受理申請期間，透過網路、臨櫃或郵寄等方式，向土地銀行各地分行或其委託之金融機構提出申請。對此，勞動部也呼籲，為了減少民眾臨櫃排隊久候時間，請多加利用網路申請，例假日亦可使用，既省時又方便。此外，勞動部勞工保險局在2023年的尾聲，將陸續完成11項給付的入帳作業，預計今日發放國民年金保險老年基本保證年金、國民年金保險原住民給付；周四（28日）則預計發放勞保年金給付、職保年金給付、勞退月退休金（首發案）。周五（29日）將有另外6項給付入帳，包括產檢假與陪產檢及陪產假薪資補助、國保身心障礙年金給付併計勞保年資、國民年金保險老年年金給付、國民年金保險身心障礙（基本保證）年金、國民年金保險喪葬給付、國民年金保險遺囑年金。詳情請治土地銀行客服專線（02）2314-6633及其所屬分行或其委託金融機構，土地銀行於連江縣馬祖地區無營業據點，委託連江縣農會受理；或電洽勞保局服務專線（02）2396-1266。</td>\n",
       "      <td>EBC</td>\n",
       "    </tr>\n",
       "    <tr>\n",
       "      <th>4</th>\n",
       "      <td>5</td>\n",
       "      <td>台塑四寶獲利衰！年終3.5個月恐無望 創11年低｜東森新聞</td>\n",
       "      <td>https://news.ebc.net.tw/news/article/397811</td>\n",
       "      <td>2023-12-25 13:51:00</td>\n",
       "      <td>財經</td>\n",
       "      <td>舞台上辣妹勁歌熱舞，炒熱現場氣氛，年底員工最期待的就是年終尾牙，不過傳產龍頭台塑集團，考量剛搬遷到內湖新總部，今年尾牙還是再度停辦，而年終獎金恐怕還會讓員工小失望，因為可能創下近11年最低，不到3.5個月。台塑企業全國聯合會理事長陳鴻儒：「外界所傳的要（EPS）2.43元，（年終）才能達到3.5個月，好在是說公司跟工會有做一個協商，最低保障是3個月，最高7個月。」攤開歷年台塑年終大紅包，110年獲利爆發，員工年終領到最高上限7個月，羨煞不少人，但去年開始受到國際油價、石化行情趨緩影響，略為縮水，而今年可能不只保不了3.5個月，就連工會想積極爭取的3.3個月，恐怕也很艱難。財經專家邱敏寬：「台塑四寶在年底的時候，又遭遇到整個EAFC當中的特殊產品限制，那就目前來說，這個限制到選後會不會開放，要持續來做觀察。」尤其在通膨升息壓力干擾下，讓中國大陸經濟復甦不如預期，即使第三季油價強彈，但台塑四寶前三季稅後純益，仍是452億元年減60.8％，財經專家邱敏寬：「明年的經濟成長率，目前七大機構來估，大概都有到3％以上，今年對台塑四寶相對比較保守，但是我對於明年倒是會比較樂觀一些，因為明年的傳統產業跟電子產業，特別是在通訊跟AI這一塊，擴張性會比較大一點。」不過明年台塑是否將會出現變動，資深媒體人臉書及內部員工，都爆出明年台塑四寶將有人事大地震，但台塑集團對相關謠言皆不予置評，要專注在公司營運，期許在新的一年，能繼續全力衝刺。</td>\n",
       "      <td>EBC</td>\n",
       "    </tr>\n",
       "    <tr>\n",
       "      <th>...</th>\n",
       "      <td>...</td>\n",
       "      <td>...</td>\n",
       "      <td>...</td>\n",
       "      <td>...</td>\n",
       "      <td>...</td>\n",
       "      <td>...</td>\n",
       "      <td>...</td>\n",
       "    </tr>\n",
       "    <tr>\n",
       "      <th>1775</th>\n",
       "      <td>1776</td>\n",
       "      <td>美英轟葉門叛軍 油價飆漲4％貨櫃運價連7漲｜東森新聞</td>\n",
       "      <td>https://news.ebc.net.tw/news/article/400727</td>\n",
       "      <td>2024-01-13 08:00:00</td>\n",
       "      <td>國際</td>\n",
       "      <td>美英聯軍12日針對葉門叛軍青年運動的73處目標，發射至少一百五十枚「戰斧」巡弋飛彈及雷射導引炸彈。轟炸葉門叛軍青年運動的73處目標。紅海局勢升高，造成貨櫃運價連七漲，原油價格也在一天飆漲了4%。夜色中，美軍F18戰機從艾森豪號航空母艦升空，打擊葉門叛軍青年運動的據點；英國颱風戰機也從塞普路斯起飛進行攻擊，參與軍事行動的協力國家，還包括澳洲、巴林、加拿大以及荷蘭。美國國防部發言人萊德：「這是一個國際問題，因此需要國際社會共同解決。」當地時間12號凌晨，英美聯軍發射包括戰斧飛彈等超過一百五十枚精準導引彈藥，攻擊伊朗支持的青年運動叛軍在葉門首都沙那等地點73處目標。目的就是削弱青年運動從去年底以來宣稱為了支持加薩哈瑪斯，而對紅海商船的攻擊武力。美國總統拜登：「我己經向伊朗傳遞一個訊息，他們知道不能所欲為。」不過拜登也表示不會與伊朗打代理人戰爭，對此青年運動也進行反擊至少發射1枚飛彈，不過沒有擊中船艦；青年運動也揚言，將繼續攻擊紅海商船。在首都沙那則出現大規模反美和反以色列抗議，數萬人湧上首都沙那街頭遊行，並焚燒國旗洩憤。另外伊朗也公布11號在阿曼灣扣押一艘美國油輪畫面，伊朗表示，這項行動是報復美國去年扣押同一艘船及其石油。紅海局勢升溫也造成油價波動，布蘭特北海原油與西德州中級原油十二日價格都飆漲4％，貨櫃運價指數也再攀高；最新一期上海出口集裝箱運價指數大漲309.38點至2206.03點，站上2000點大關。英美聯軍攻擊葉門叛軍也引發疑慮，卡達與阿曼等美國的波斯灣盟邦擔憂區域情勢恐失控，將中東捲入伊朗支持的武裝團體，在敘利亞和伊拉克境內的進一步衝突。</td>\n",
       "      <td>EBC</td>\n",
       "    </tr>\n",
       "    <tr>\n",
       "      <th>1776</th>\n",
       "      <td>1777</td>\n",
       "      <td>英相蘇納克二度訪烏 簽安全協議、增援近千億台幣｜東森新聞</td>\n",
       "      <td>https://news.ebc.net.tw/news/article/400730</td>\n",
       "      <td>2024-01-13 17:38:00</td>\n",
       "      <td>國際</td>\n",
       "      <td>俄烏開戰將近2年，但烏軍卻面臨外國軍援停擺的困境。不過近期繼日本外長訪烏，宣布撥款11.5億資金協助烏克蘭後，英國首相蘇納克也二度訪問基輔；不僅與烏克蘭簽訂長達10年的安全協議之外，更宣布將給予烏克蘭高達25億英鎊，相當於新台幣將近千億的國防援助。鎖定前方俄軍車隊馬上進行連續打擊，烏軍在烏克蘭全境持續對抗俄羅斯，面對西方援助一度停擺，如今終於再出現救兵。英國首相蘇納克：「歷史告訴我們，堅持下去的民主國家將永遠占上風，普丁無法理解，雖然你可以殺死個人並摧毀建築物，但沒有任何軍隊能夠擊敗自由人民的意志。」英國首相蘇納克二度訪問基輔，不僅在烏克蘭議會進行演說，更與總統澤倫斯基一同前往醫院探望傷兵，替這些士兵加油打氣。不過蘇納克這一趟也做出一項重要決定。英國首相蘇納克：「英國今天宣佈，自戰爭開始以來，我們對烏克蘭的最大規模國防援助達25億英鎊（約台幣991億）。」英國這一波軍援中有至少2億英鎊將用在快速大量採購及生產多達數千架軍用無人機，並且未來有望成為歷來最大規模的外國無人機援烏計畫。英烏雙方也簽署安全合作協議，效期長達10年，可以延長。這項協議主要也是為了防止烏克蘭再度遭到侵略，並且一但侵略再起，英國可以第一時間支援烏克蘭直到最後一刻。同時烏克蘭地面部隊指揮官，也呼籲西方援助攻擊機。烏軍指揮官西爾斯基：「考慮到我們能得到什麼，我想說A-10（攻擊機）能作為一種選擇。它不是新型機種，但是一種在許多戰爭中證明自己的可靠武器。」烏克蘭面對持續遭俄國攻擊，積極尋求外援的同時，也開始針對俄羅斯邊境發動反擊行動。俄羅斯城市別爾哥羅德近期遭烏克蘭砲擊後造成多人死傷，當地政府針對500多個公車站堆砌沙包與水泥牆，設置防護屏障，以保護民眾受到砲擊。隨著俄烏戰爭將近兩年，雙方加強攻擊力道，使戰事更加升級。</td>\n",
       "      <td>EBC</td>\n",
       "    </tr>\n",
       "    <tr>\n",
       "      <th>1777</th>\n",
       "      <td>1778</td>\n",
       "      <td>女扮遊戲角色「殭屍」搭陸地鐵遭攔 只因「引圍觀」｜東森新聞</td>\n",
       "      <td>https://news.ebc.net.tw/news/article/400734</td>\n",
       "      <td>2024-01-13 17:53:00</td>\n",
       "      <td>國際</td>\n",
       "      <td>女子頭戴紫色假髮，頂著殭屍帽，身穿類似漢服服裝，扮成殭屍要搭地鐵，卻被安檢員給攔了下來。地鐵安檢員vs.女Coser：「請問我為什麼不可以進地鐵站呢，（我就說你對cosplay的是什麼形象），是國產遊戲原神裡面的七七角色，身上的衣服是我自己搭配的漢服，（你這是...），這是那個漢服，（先報你的身分證號）。」裝扮成可愛殭屍卻被要求查驗身分，女子實在不能理解，自己的裝扮沒有影響到他人，也稱不上恐怖，為何不能進站搭地鐵。地鐵安檢員vs.女Coser：「我們這種復古來的，那種血腥恐怖就是低俗，（我恐怖嗎，我覺得我很可愛啊），如果你的動作引起了圍觀，要負法律責任知道吧，再一個我就想問妳，這個帽子能摘下來嗎，至少看上去是一個正常的乘客，以為他不是一個怪物啊，或卡通什麼的。」不斷要求女子摘下帽子頭飾，安檢員以會引起圍觀等理由要女子配合，甚至說要叫警察。雙方溝通好一段時間，最後才願意讓女子進站。中國一名女Coser在網路上發了這段影片，自己剛參加完動漫展要搭地鐵卻遭到盤查，瞬間引起熱議。上海地鐵工作人員：「Cosplay制服是可以進站的，但是非日常服飾進站，安檢人員會進行阻攔並呼叫民警。」影片曝光後，中國網友有紛紛留言怒罵，因為穿著打扮遭到限制真的太過離譜；律師也表示，法律對於穿著本身並無限制，如果乘客只是因為扮演成卡通或是動漫角色就被限制或禁止進入地鐵，有干預乘客自由穿衣的嫌疑，實在不妥。</td>\n",
       "      <td>EBC</td>\n",
       "    </tr>\n",
       "    <tr>\n",
       "      <th>1778</th>\n",
       "      <td>1779</td>\n",
       "      <td>大選影響台海情勢 日本防相：密切監視中國軍方｜東森新聞</td>\n",
       "      <td>https://news.ebc.net.tw/news/article/400768</td>\n",
       "      <td>2024-01-13 21:40:00</td>\n",
       "      <td>國際</td>\n",
       "      <td>台灣大選日本媒體也很關注，不只多家媒體記者來台連線採訪，甚至也在選前對三位候選人有所分析，但最關注的還是著重在台海情勢，畢竟台灣有事就是日本有事，台灣的選舉結果，影響著全球，日本防衛大臣也強調，接下來會密切關注，中國軍隊在台灣周邊的動向。台灣總統大選，日本媒體關注，選前各家日本電視台記者，都在台灣連線報導。日本記者：「請先看那邊有藍色招牌，是國民黨的侯友宜候選人，再回頭來看，這邊則是民進黨候選人，賴清德的大型招牌。」因為對日本來說，大選可能影響台海情勢，日本防衛大臣木原稔，甚至強調會密切關注中國在台灣的周邊動向，日本媒體對三人都各有期待，甚至形容他們是「認真的男子」、「名刑事」和「變色龍」。日本皇學館大學副教授村上政俊：「關於賴清德，以不觸及台獨的宣言，向世界發信這點最大的原因，是為了讓美國安心。」對於賴清德，日媒擔心的是兩岸情勢是否更緊張，NHK分析就指出，賴清德強烈的台獨色彩，可能會挑戰美國的對台政策紅線，不過專家也分析，賴清德即便當選，能調整兩岸政策的程度有限。至於侯友宜，日媒則關注是否會親中，但結果恐怕一樣讓習近平沮喪。日本軍事記者小原凡司：「現在的國民黨，跟以前的國民黨相比，發生了很大的變化，並不像以前馬英九時期一樣，都是親中派的人物站穩陣腳。」日經亞洲分析，侯友宜兩岸政策比較模糊，既想與美國保持密切關係，又希望跟中國友好，但是台灣民眾對北京的不信任，侯友宜也很難與中國靠近。NHK主播：「台灣跟中國太靠近的話，台灣半導體的先進技術，可能會流向中國。」日本法政大學教授福田圓指出，國民黨可能會跟以前一樣，較重視與中國的經濟關係，這也可能會是美國擔心的，因為若半導體技術，又落入中國手中，對中晶片制裁等於白忙一場。日本政治學家小笠原欣幸：「柯文哲先生的情況，其實在對中政策，和對美政策上，是有點模稜兩可的。」而對於三腳督關鍵的柯文哲，日媒則比較難以預測，專家分析，柯文哲兩岸議題比較模糊，但受到年輕選民歡迎，因此主打薪水住宅等民生問題。日本政治學家小笠原欣幸：「新當選的總統將在5月20日就職，在這四個月的時間裡，是否會與中國進行任何形式的幕後接觸，國際社會又將以何種心情看待新總統的誕生。」台灣有事就是日本有事，2024總統大選結果出爐，日本媒體最關注的還是台海情勢，新任總統要如何面對，仍需要繼續觀察。</td>\n",
       "      <td>EBC</td>\n",
       "    </tr>\n",
       "    <tr>\n",
       "      <th>1779</th>\n",
       "      <td>1780</td>\n",
       "      <td>聚焦安全局勢、半導體！ CNN：台灣大選可能改變世界｜東森新聞</td>\n",
       "      <td>https://news.ebc.net.tw/news/article/400769</td>\n",
       "      <td>2024-01-13 21:48:00</td>\n",
       "      <td>國際</td>\n",
       "      <td>這場關鍵大選不只台灣人關注，許多國際媒體也大陣仗派記者來台採訪，就像CNN一篇報導說的，這場選舉「可能改變世界」。至於在哪些方面影響世界，CNN認為主要就是全球安全局勢，和半導體供應鏈，因為位於第一島鏈上的台灣，具有重要的戰略意義，而台灣又是全球第一大晶片製造商，若發生任何衝突，導致供應鏈中斷，將會對全世界造成災難性的後果。2024台灣大選有多重要？國際媒體大篇幅報導，CNN斗大標題更直言「今年的一場選舉，可能改變世界，而且不是美國大選，是台灣。」CNN新聞主播：這是一場全球密切關注的選舉，尤其是其共產主義的鄰國中國，還有我們美國。」CNN說中國領導高層，尤其關注大選結果，因為北京會如何回應，台灣的民意決擇，也將考驗著中美之間，是否能夠控制緊張局勢。CNN特派記者雷普利：「台灣是中美之間緊張局勢的最大主因，而美國又是台灣，在國際間主要的支持者，以及武器供應商，中國如何對這次的選舉結果，做出回應將會成為一個重大考驗，北京和華府能否控制緊張局勢，還是會走向進一步對抗衝突。」CNN在報導中分析，雖然很少有專家預期，解放軍會在短期內出兵台灣，但文章中提到，北京有很多方式可以表達不滿，包括進行軍事演習展示武力，以及進一步暫停與台灣的貿易往來甚至封鎖等等。CNN特派記者雷普利：「台灣是全球第一大半導體製造商，這些高價晶片，為我們所有的高科技產品提供動力，任何間接或直接的衝突，導致供應鏈中斷，將會在世界各地發生災難性的後果。」除了台海局勢變化，半導體供應鏈會有何影響，也是一大焦點，而且不只美國，荷蘭媒體也特別製作了一集專題節目，談台灣大選和晶片產業。駐荷蘭代表陳欣新：「假設台灣內部發生任何狀況，不可能只在台灣的邊境就止步，這將會是全球性的災難，這是為何我們稱之為矽盾。」節目專訪了台灣駐荷蘭代表陳欣新，她強調半導體產業，是台灣國家安全的矽盾，另外節目也採訪了，晶片戰爭一書的作者米勒，米勒估計台海軍事衝突，將對全球經濟造成至少2兆美元，大約62兆台幣的衝擊。選舉結果影響到半導體供應鏈，以及全球安全局勢，這就是為何CNN會說，台灣2024大選結果，造成的影響是無遠弗屆。</td>\n",
       "      <td>EBC</td>\n",
       "    </tr>\n",
       "  </tbody>\n",
       "</table>\n",
       "<p>1780 rows × 7 columns</p>\n",
       "</div>"
      ]
     },
     "execution_count": 47,
     "metadata": {},
     "output_type": "execute_result"
    }
   ],
   "execution_count": 47
  },
  {
   "cell_type": "code",
   "metadata": {
    "ExecuteTime": {
     "end_time": "2024-04-08T01:42:51.784759Z",
     "start_time": "2024-04-08T01:42:45.416437Z"
    }
   },
   "source": [
    "# 移除網址格式\n",
    "ct[\"artContent\"].str.replace(\"(http|https)://.*\", \"\", regex=True)\n",
    "ct[\"artTitle\"].str.replace(\"(http|https)://.*\", \"\", regex=True)\n",
    "ct[\"artContent\"].str.replace(\"[^\\u4e00-\\u9fa5]+\", \"\", regex=True)\n",
    "ct[\"artTitle\"].str.replace(\"[^\\u4e00-\\u9fa5]+\", \"\", regex=True)\n",
    "\n",
    "# 留下 content\n",
    "ct[\"content\"] = ct[\"artTitle\"] + ct[\"artContent\"]\n",
    "ct = ct.loc[:,[\"content\", \"artUrl\", \"artCatagory\"]]  # 文章內容 文章連結\n",
    "\n",
    "# 設定斷詞 function\n",
    "def getToken(row):\n",
    "    seg_list = jieba.cut(row, cut_all=False)\n",
    "    seg_list = [\n",
    "        w for w in seg_list if w not in stopWords and len(w) > 1\n",
    "    ]  # 篩選掉停用字與字元數大於1的詞彙\n",
    "    return seg_list\n",
    "\n",
    "ct[\"words\"] = ct[\"content\"].apply(getToken).map(\" \".join)\n",
    "ct.head()"
   ],
   "outputs": [
    {
     "data": {
      "text/plain": [
       "                                                                                                                                                                                                                                                                                                                                                                                                                                                                                                                                                                                                                                                                                                                                                                                                                                                                                  content  \\\n",
       "0                                                                                                                她勞保多繳4年！少領近57萬 問題竟出在最後3年｜東森新聞一名擁有26年年資的女性上班族，4年前離職退保，原本一次領可領169.46萬元，後來離職接案，卻選擇加入職業工會，以最低薪資2.5萬元繼續投保，最後少領了近57萬。對此，勞保達人張秘書也做出解釋。YouTube頻道「勞工朋友的祕書～張秘書」在一則影片中分享一個案例，一名52歲勞工年資26年，因職業倦怠不想再朝九晚五，決定改在家接案工作，她雖已符合一次領的資格，卻選擇加入職業工會，加保4年。張秘書以這個例子試算，經過四年的職業工會加保，當小倩決定請領一次給付年金時，卻發現因為最後三年的平均投保薪資僅為2.5萬元，按照勞保局的規定，一次請領的給付金額相對較低，25000元×45個基數＝1125000元。如果小倩當初選擇直接一次請領，擁有26年年資的她可以按照37個基數計算，而最終的給付金額高達169.46萬元，45800元×37個基數＝1694600元。也就是說，小倩勞保多繳4年，反而少領了56萬9600元。張秘書強調，如果勞工選擇一次請領老年給付，務必注意最後3年的投保資薪必須保持在最高水平，否則可能會得不償失。一、必須是離職退保狀態下。二、平均月投保薪資是取最後3年。三、基數算法，前15年一年一個基數，第16年開始每年算二個基數。四、60歲以前年資上限是30年。五、年資未滿30日，以一個月計算。一、保險年資合計每滿1年，按其平均月投保薪資發給1個月。二、保險年資合計超過15年者，超過部分，每滿1年發給2個月，最高以45個月為限。例如：年資26年，其給付年資15+22＝37（個基數）。三、被保險人逾60歲繼續工作者，其逾60歲以後之保險年資，最多以5年計，合併60歲以前之一次請領老年給付，最高以50個月為限。   \n",
       "1                                                                                                                                                                              她薪水全丟這！存百萬竟遭18歲表弟嗆：不如阿公那輩｜東森新聞面對低薪，除了斜槓，大家也會選擇投資。一名女網友表示，才高中的表弟嘲笑她只懂存錢，投資理財的等級比阿公那輩還不如，讓她開始想要改變。原PO在Dcard指出，因為父母沒有投資的習慣，家庭教育也一直跟她反覆告誡投資有風險，股票可能會讓人賠到跳樓，所以長大賺了錢也只會存起來，甚至直到前年才知道一樣是存錢，存到實體開戶的銀行，跟存到數位帳戶利息差很多，所以薪水都是每月固定轉Bankee領利息。原PO透露，親戚聚會的時候聊到理財，才發現現在的高中生都很有想法，也敢於付諸行動，明明還沒出社會賺錢，但賺錢的方法很多，才18歲已經看好要買哪支股票，「表弟問我買股票有沒有賺錢，我說沒有買後，還被他嘲諷，說我只懂存錢，投資理財的等級比阿公那輩還不如，阿公30年前都知道買股票、固定領股息，我這樣根本不算現代人，還是趕快找個有錢男人嫁了。」原PO附上近200萬的存款嘆，平時會逛理財板，看到很多人分享自己千萬存款或幾歲存到百萬，其實覺得很羨慕，也想改變，「2024年開始想要開始投資一點股票，或者多做點副業增加收入，目前已經有申請證券開戶了，不曉得大家有沒有推薦的。」貼文一出，不少人紛紛留言「不會覺得自己比沒買股票的人厲害，任何事情只要想開始都不嫌晚，ETF自己慢慢爬文，投資不要隨意相信他人」、「沒有說存銀行就是不好的投資，投資確實也有風險，不懂理財穩穩存銀行也不吃虧」、「股票也可能賠錢，你這樣列，感覺太理想了」。文章來源：她拿到薪水全丟這⋯「百萬存款」曝光18歲表弟酸：比阿公那輩還不如由CTWANT授權轉載。   \n",
       "2                                                                                                                                                                                                                                                                                                                                                                                                                                                                           陽明海運年終落差超嚴重！去年13個月 今年數字嚇死人｜東森新聞在疫情期間，航運相關產業可以說是獲利頗豐，陽明海運在2022年的年終就高達13個月，羨煞不少民眾。但現在有消息指出，陽明海運於日前召開董事會，決議今年年終獎金僅1個月，加上每年固定的第13個月薪資，形同年終獎金僅2個月，與去年相比有著不少的落差。據了解，陽明海運去年年終有13個月，2023年的年度分紅也有20個月，整個加起來多達33個月之多。但根據媒體報導指出，在陽明海運的董事會上，決議年終獎金僅有1個月。而報導中也推估2024年的年終分紅也僅有1個月，加上固定的第13個月薪資，總和僅3.2個月。但好消息是，陽明海運將比照公務員標準，明年為員工加薪4%。報導中也提到，由於陽明海運具有官股性質，年終獎金最多只能發12個月，但是在分紅制度方面，陽明海運明訂稅前獲利1%為員工紅利，這數字遠高於長榮海運的0.5%與萬海的0.6%。   \n",
       "3  勞保紓困貸款最高拿10萬元 申請4條件曝光！｜東森新聞勞工快看過來！今（25）日，勞動部公告113年勞保紓困貸款將在1月5日開放申請，受理至113年1月19日截止，每人最高可貸10萬元，貸款期間3年，其也列出貸款申貸資格4條件，若有符合資格的勞工，記得於受理時間申請。勞動部表示，為了要協助勞工朋友度過農曆年前經濟困難，113年勞保紓困貸款將於113年1月5日正式開辦，受理至113年1月19日截止，每人最高可貸10萬元，貸款期間3年，年利率目前為2.04％，前6個月按月付息不還本，第7個月起按月平均攤還本息。1.生活困難需要紓困2.參加勞工保險年資滿15年（計算至受理截止日113年1月19日止）3.無欠繳勞工保險費及滯納金4.未曾借貸勞保紓困貸款，或曾借貸已繳清貸款本金及利息者勞動部指出，若是已請領老年給付、終身無工作能力之失能給付或向其所屬機關請領勞工保險補償金者，則不得申請勞保紓困貸款。申辦本項貸款無需繳交任何費用；每人限申請1次，重複申請者不予受理。另外，符合資格且有需求之勞工朋友，可以於受理申請期間，透過網路、臨櫃或郵寄等方式，向土地銀行各地分行或其委託之金融機構提出申請。對此，勞動部也呼籲，為了減少民眾臨櫃排隊久候時間，請多加利用網路申請，例假日亦可使用，既省時又方便。此外，勞動部勞工保險局在2023年的尾聲，將陸續完成11項給付的入帳作業，預計今日發放國民年金保險老年基本保證年金、國民年金保險原住民給付；周四（28日）則預計發放勞保年金給付、職保年金給付、勞退月退休金（首發案）。周五（29日）將有另外6項給付入帳，包括產檢假與陪產檢及陪產假薪資補助、國保身心障礙年金給付併計勞保年資、國民年金保險老年年金給付、國民年金保險身心障礙（基本保證）年金、國民年金保險喪葬給付、國民年金保險遺囑年金。詳情請治土地銀行客服專線（02）2314-6633及其所屬分行或其委託金融機構，土地銀行於連江縣馬祖地區無營業據點，委託連江縣農會受理；或電洽勞保局服務專線（02）2396-1266。   \n",
       "4                                                                                                                                                                                                                   台塑四寶獲利衰！年終3.5個月恐無望 創11年低｜東森新聞舞台上辣妹勁歌熱舞，炒熱現場氣氛，年底員工最期待的就是年終尾牙，不過傳產龍頭台塑集團，考量剛搬遷到內湖新總部，今年尾牙還是再度停辦，而年終獎金恐怕還會讓員工小失望，因為可能創下近11年最低，不到3.5個月。台塑企業全國聯合會理事長陳鴻儒：「外界所傳的要（EPS）2.43元，（年終）才能達到3.5個月，好在是說公司跟工會有做一個協商，最低保障是3個月，最高7個月。」攤開歷年台塑年終大紅包，110年獲利爆發，員工年終領到最高上限7個月，羨煞不少人，但去年開始受到國際油價、石化行情趨緩影響，略為縮水，而今年可能不只保不了3.5個月，就連工會想積極爭取的3.3個月，恐怕也很艱難。財經專家邱敏寬：「台塑四寶在年底的時候，又遭遇到整個EAFC當中的特殊產品限制，那就目前來說，這個限制到選後會不會開放，要持續來做觀察。」尤其在通膨升息壓力干擾下，讓中國大陸經濟復甦不如預期，即使第三季油價強彈，但台塑四寶前三季稅後純益，仍是452億元年減60.8％，財經專家邱敏寬：「明年的經濟成長率，目前七大機構來估，大概都有到3％以上，今年對台塑四寶相對比較保守，但是我對於明年倒是會比較樂觀一些，因為明年的傳統產業跟電子產業，特別是在通訊跟AI這一塊，擴張性會比較大一點。」不過明年台塑是否將會出現變動，資深媒體人臉書及內部員工，都爆出明年台塑四寶將有人事大地震，但台塑集團對相關謠言皆不予置評，要專注在公司營運，期許在新的一年，能繼續全力衝刺。   \n",
       "\n",
       "                                        artUrl artCatagory  \\\n",
       "0  https://news.ebc.net.tw/news/article/397623          財經   \n",
       "1  https://news.ebc.net.tw/news/article/397656          財經   \n",
       "2  https://news.ebc.net.tw/news/article/397802          財經   \n",
       "3  https://news.ebc.net.tw/news/article/397804          財經   \n",
       "4  https://news.ebc.net.tw/news/article/397811          財經   \n",
       "\n",
       "                                                                                                                                                                                                                                                                                                                                                                                                                                                                                                                                                                                                                                                                                                                                                                                                                                                                                                                words  \n",
       "0                                                                                                                                                                      勞保 多繳 領近 57 問題 竟出 最後 東森 新聞 一名 擁有 26 年資 女性 上班族 年前 離職 退保 原本 一次 領可領 169.46 萬元 離職 接案 選擇 加入 職業工會 最低 薪資 2.5 萬元 繼續 投保 最後 少領 57 對此 勞保 達人 張秘 做出 解釋 YouTube 頻道 勞工 朋友 祕書 張秘書 影片 分享 案例 一名 52 勞工 年資 26 職業倦怠 不想 朝九晚五 決定 在家 接案 工作 符合 一次 領的 資格 選擇 加入 職業工會 加保 秘書以 例子 試算 四年 職業工會 加保 當小倩 決定 請領 一次 給付 年金 發現 最後 三年 平均 投保 薪資 僅為 2.5 萬元 勞保局 規定 一次 請領 給付 金額 相對 25000 45 基數 1125000 小倩 當初 選擇 直接 一次 請領 擁有 26 年資 37 基數 計算 最終 給付 金額 高達 169.46 萬元 45800 37 基數 1694600 也就是說 小倩 勞保 多繳 少領 56 9600 張秘書 強調 勞工 選擇 一次 請領 老年 給付 務必 注意 最後 投保 資薪 保持 最高 水平 得不償失 離職 退保 狀態 平均 投保 薪資 最後 基數 算法 15 一年 基數 16 每年 二個 基數 60 以前 年資 上限 30 年資 未滿 30 一個月 計算 年資 合計 每滿 平均 投保 薪資 發給 年資 合計 超過 15 年者 超過 部分 每滿 發給 最高 45 年資 26 給付 年資 15 22 37 基數 被保險人 60 繼續 工作者 60 以後 年資 最多以 年計 合併 60 以前 一次 請領 老年 給付 最高 50  \n",
       "1                                                                                                                                                                                                                                                                                                                   薪水 百萬 18 表弟 阿公 那輩 東森 新聞 面對 低薪 斜槓 選擇 投資 一名 女網友 表示 高中 表弟 嘲笑 存錢 投資 理財 等級 阿公 那輩還 想要 改變 PO Dcard 指出 父母 投資 習慣 家庭教育 一直 反覆 告誡 投資 風險 股票 賠到 跳樓 長大 賺了錢 只會存 直到 前年 知道 存錢 實體 開戶 銀行 存到 數位 帳戶 利息 薪水 每月 固定 Bankee 利息 PO 透露 親戚 聚會 聊到 理財 發現 現在 高中生 想法 付諸行動 明明 還沒出 社會 賺錢 賺錢 方法 18 已經 看好 哪支 股票 表弟 問我 股票 有沒有 賺錢 還被 嘲諷 存錢 投資 理財 等級 阿公 那輩還 阿公 30 年前 知道 股票 固定 股息 根本 不算 現代人 找個 有錢 男人 PO 附上 200 存款 平時 理財 看到 分享 存款 幾歲 百萬 覺得 羨慕 改變 2024 想要 投資 一點 股票 做點 副業 增加收入 目前 已經 申請 證券 開戶 曉得 有沒有 推薦 貼文 一出 紛紛 留言 覺得 股票 厲害 事情 ETF 慢慢 爬文 投資 隨意 相信 說存 銀行 不好 投資 投資 確實 風險 理財 穩穩 銀行 吃虧 股票 賠錢 感覺 理想 文章 來源 拿到 薪水 百萬 存款 曝光 18 表弟 阿公 那輩還 CTWANT 授權 轉載  \n",
       "2                                                                                                                                                                                                                                                                                                                                                                                                                                                                                                                                   陽明 海運 年終 落差 嚴重 去年 13 今年 數字 嚇死人 東森 新聞 疫情 期間 航運 相關 產業 獲利 頗豐 陽明 海運 2022 年終 高達 13 羨煞 民眾 現在 消息 指出 陽明 海運 日前 召開 董事會 決議 今年 年終獎金 每年 固定 13 薪資 形同 年終獎金 去年 相比 有著 落差 了解 陽明 海運 去年 年終 13 2023 年度 分紅 20 整個 多達 33 媒體 指出 陽明 海運 董事會 決議 年終獎金 僅有 推估 2024 年終 分紅 僅有 固定 13 薪資 總和 3.2 好消息 陽明 海運 公務員 標準 明年 員工 加薪 4% 提到 陽明 海運 具有 官股 性質 年終獎金 只能 12 分紅 制度 方面 陽明 海運 明訂 稅前 獲利 1% 員工 紅利 數字 遠高於 長榮 海運 0.5% 萬海 0.6%  \n",
       "3  勞保 貸款 最高 10 萬元 申請 條件 曝光 東森 新聞 勞工 過來 25 勞動部 公告 113 勞保 貸款 將在 開放 申請 受理 113 19 截止 每人 最高 可貸 10 萬元 貸款 期間 列出 貸款 申貸 資格 條件 若有 符合 資格 勞工 記得 受理 時間 申請 勞動部 表示 協助 勞工 朋友 度過 農曆 年前 經濟 困難 113 勞保 貸款 將於 113 正式 開辦 受理 113 19 截止 每人 最高 可貸 10 萬元 貸款 期間 年利率 目前 2.04 付息 還本 平均 攤還 本息 生活 困難 需要 參加 勞工保險 年資 15 計算 受理 截止日 113 19 日止 欠繳 勞工 保險費 滯納金 未曾 借貸 勞保 貸款 借貸 繳清 貸款 本金 利息 勞動部 指出 請領 老年 給付 終身 工作 能力 之失 給付 所屬 機關 請領 勞工保險 補償金 申請 勞保 貸款 申辦 本項 貸款 無需 繳交 費用 每人 申請 重複 申請者 不予 受理 符合 資格 需求 勞工 朋友 受理 申請 期間 透過 網路 臨櫃 郵寄 方式 土地銀行 各地 分行 委託 金融機構 提出申請 對此 勞動部 呼籲 減少 民眾 臨櫃 排隊 久候 時間 請多加 利用 網路 申請 例假日 亦可 使用 既省 方便 勞動部 勞工保險 局在 2023 尾聲 陸續 完成 11 給付 入帳 作業 預計 今日 發放 國民 年金 老年 保證 年金 國民 年金 原住民 給付 周四 28 預計 發放 勞保 年金 給付 職保 年金 給付 勞退 退休金 首發 周五 29 將有 給付 入帳 包括 產檢假 陪產 檢及 產假 薪資 補助 國保 身心 障礙 年金 給付 勞保 年資 國民 年金 老年 年金 給付 國民 年金 身心 障礙 保證 年金 國民 年金 喪葬 給付 國民 年金 遺囑 年金 詳情請 土地銀行 客服 專線 02 2314 6633 所屬 分行 委託 金融機構 土地銀行 連江縣 馬祖地區 營業 據點 委託 連江縣 農會 受理 電洽 勞保局 服務 專線 02 2396 1266  \n",
       "4                                                                                                                                                                                                                                                                                台塑 四寶 獲利 年終 3.5 無望 11 東森 新聞 舞台 辣妹 勁歌熱舞 炒熱 現場 氣氛 年底 員工 期待 年終 尾牙 傳產 龍頭 台塑 集團 考量 搬遷 內湖 總部 今年 尾牙 再度 停辦 年終獎金 還會 員工 失望 創下 11 最低 不到 3.5 台塑 企業 全國 聯合會 理事長 鴻儒 外界 所傳 EPS 2.43 年終 達到 3.5 公司 工會 協商 最低 保障 最高 攤開 歷年 台塑 年終 大紅包 110 獲利 爆發 員工 年終 領到 最高 上限 羨煞 去年 受到 國際 油價 石化 行情 趨緩 影響 縮水 今年 3.5 就連 工會 積極爭取 3.3 艱難 財經專家 邱敏 台塑 四寶在 年底 遭遇 整個 EAFC 特殊 產品 限制 目前 來說 限制 選後會 開放 持續 觀察 尤其 升息 壓力 干擾 中國 大陸 經濟 復甦 預期 第三季 油價 強彈 台塑 四寶 前三季 稅後 純益 452 億元 年減 60.8 財經專家 邱敏 明年 經濟 成長率 目前 七大 機構 來估 以上 今年 台塑 四寶 相對 比較 保守 明年 比較 樂觀 一些 明年 傳統產業 電子 產業 特別是在 通訊 AI 一塊 擴張性 比較 一點 明年 台塑 是否 將會 出現 變動 資深 媒體 人臉 書及 內部 員工 爆出 明年 台塑 四寶將 有人 事大 地震 台塑 集團 相關 謠言 不予置評 專注 公司 營運 期許 一年 繼續 衝刺  "
      ],
      "text/html": [
       "<div>\n",
       "<style scoped>\n",
       "    .dataframe tbody tr th:only-of-type {\n",
       "        vertical-align: middle;\n",
       "    }\n",
       "\n",
       "    .dataframe tbody tr th {\n",
       "        vertical-align: top;\n",
       "    }\n",
       "\n",
       "    .dataframe thead th {\n",
       "        text-align: right;\n",
       "    }\n",
       "</style>\n",
       "<table border=\"1\" class=\"dataframe\">\n",
       "  <thead>\n",
       "    <tr style=\"text-align: right;\">\n",
       "      <th></th>\n",
       "      <th>content</th>\n",
       "      <th>artUrl</th>\n",
       "      <th>artCatagory</th>\n",
       "      <th>words</th>\n",
       "    </tr>\n",
       "  </thead>\n",
       "  <tbody>\n",
       "    <tr>\n",
       "      <th>0</th>\n",
       "      <td>她勞保多繳4年！少領近57萬 問題竟出在最後3年｜東森新聞一名擁有26年年資的女性上班族，4年前離職退保，原本一次領可領169.46萬元，後來離職接案，卻選擇加入職業工會，以最低薪資2.5萬元繼續投保，最後少領了近57萬。對此，勞保達人張秘書也做出解釋。YouTube頻道「勞工朋友的祕書～張秘書」在一則影片中分享一個案例，一名52歲勞工年資26年，因職業倦怠不想再朝九晚五，決定改在家接案工作，她雖已符合一次領的資格，卻選擇加入職業工會，加保4年。張秘書以這個例子試算，經過四年的職業工會加保，當小倩決定請領一次給付年金時，卻發現因為最後三年的平均投保薪資僅為2.5萬元，按照勞保局的規定，一次請領的給付金額相對較低，25000元×45個基數＝1125000元。如果小倩當初選擇直接一次請領，擁有26年年資的她可以按照37個基數計算，而最終的給付金額高達169.46萬元，45800元×37個基數＝1694600元。也就是說，小倩勞保多繳4年，反而少領了56萬9600元。張秘書強調，如果勞工選擇一次請領老年給付，務必注意最後3年的投保資薪必須保持在最高水平，否則可能會得不償失。一、必須是離職退保狀態下。二、平均月投保薪資是取最後3年。三、基數算法，前15年一年一個基數，第16年開始每年算二個基數。四、60歲以前年資上限是30年。五、年資未滿30日，以一個月計算。一、保險年資合計每滿1年，按其平均月投保薪資發給1個月。二、保險年資合計超過15年者，超過部分，每滿1年發給2個月，最高以45個月為限。例如：年資26年，其給付年資15+22＝37（個基數）。三、被保險人逾60歲繼續工作者，其逾60歲以後之保險年資，最多以5年計，合併60歲以前之一次請領老年給付，最高以50個月為限。</td>\n",
       "      <td>https://news.ebc.net.tw/news/article/397623</td>\n",
       "      <td>財經</td>\n",
       "      <td>勞保 多繳 領近 57 問題 竟出 最後 東森 新聞 一名 擁有 26 年資 女性 上班族 年前 離職 退保 原本 一次 領可領 169.46 萬元 離職 接案 選擇 加入 職業工會 最低 薪資 2.5 萬元 繼續 投保 最後 少領 57 對此 勞保 達人 張秘 做出 解釋 YouTube 頻道 勞工 朋友 祕書 張秘書 影片 分享 案例 一名 52 勞工 年資 26 職業倦怠 不想 朝九晚五 決定 在家 接案 工作 符合 一次 領的 資格 選擇 加入 職業工會 加保 秘書以 例子 試算 四年 職業工會 加保 當小倩 決定 請領 一次 給付 年金 發現 最後 三年 平均 投保 薪資 僅為 2.5 萬元 勞保局 規定 一次 請領 給付 金額 相對 25000 45 基數 1125000 小倩 當初 選擇 直接 一次 請領 擁有 26 年資 37 基數 計算 最終 給付 金額 高達 169.46 萬元 45800 37 基數 1694600 也就是說 小倩 勞保 多繳 少領 56 9600 張秘書 強調 勞工 選擇 一次 請領 老年 給付 務必 注意 最後 投保 資薪 保持 最高 水平 得不償失 離職 退保 狀態 平均 投保 薪資 最後 基數 算法 15 一年 基數 16 每年 二個 基數 60 以前 年資 上限 30 年資 未滿 30 一個月 計算 年資 合計 每滿 平均 投保 薪資 發給 年資 合計 超過 15 年者 超過 部分 每滿 發給 最高 45 年資 26 給付 年資 15 22 37 基數 被保險人 60 繼續 工作者 60 以後 年資 最多以 年計 合併 60 以前 一次 請領 老年 給付 最高 50</td>\n",
       "    </tr>\n",
       "    <tr>\n",
       "      <th>1</th>\n",
       "      <td>她薪水全丟這！存百萬竟遭18歲表弟嗆：不如阿公那輩｜東森新聞面對低薪，除了斜槓，大家也會選擇投資。一名女網友表示，才高中的表弟嘲笑她只懂存錢，投資理財的等級比阿公那輩還不如，讓她開始想要改變。原PO在Dcard指出，因為父母沒有投資的習慣，家庭教育也一直跟她反覆告誡投資有風險，股票可能會讓人賠到跳樓，所以長大賺了錢也只會存起來，甚至直到前年才知道一樣是存錢，存到實體開戶的銀行，跟存到數位帳戶利息差很多，所以薪水都是每月固定轉Bankee領利息。原PO透露，親戚聚會的時候聊到理財，才發現現在的高中生都很有想法，也敢於付諸行動，明明還沒出社會賺錢，但賺錢的方法很多，才18歲已經看好要買哪支股票，「表弟問我買股票有沒有賺錢，我說沒有買後，還被他嘲諷，說我只懂存錢，投資理財的等級比阿公那輩還不如，阿公30年前都知道買股票、固定領股息，我這樣根本不算現代人，還是趕快找個有錢男人嫁了。」原PO附上近200萬的存款嘆，平時會逛理財板，看到很多人分享自己千萬存款或幾歲存到百萬，其實覺得很羨慕，也想改變，「2024年開始想要開始投資一點股票，或者多做點副業增加收入，目前已經有申請證券開戶了，不曉得大家有沒有推薦的。」貼文一出，不少人紛紛留言「不會覺得自己比沒買股票的人厲害，任何事情只要想開始都不嫌晚，ETF自己慢慢爬文，投資不要隨意相信他人」、「沒有說存銀行就是不好的投資，投資確實也有風險，不懂理財穩穩存銀行也不吃虧」、「股票也可能賠錢，你這樣列，感覺太理想了」。文章來源：她拿到薪水全丟這⋯「百萬存款」曝光18歲表弟酸：比阿公那輩還不如由CTWANT授權轉載。</td>\n",
       "      <td>https://news.ebc.net.tw/news/article/397656</td>\n",
       "      <td>財經</td>\n",
       "      <td>薪水 百萬 18 表弟 阿公 那輩 東森 新聞 面對 低薪 斜槓 選擇 投資 一名 女網友 表示 高中 表弟 嘲笑 存錢 投資 理財 等級 阿公 那輩還 想要 改變 PO Dcard 指出 父母 投資 習慣 家庭教育 一直 反覆 告誡 投資 風險 股票 賠到 跳樓 長大 賺了錢 只會存 直到 前年 知道 存錢 實體 開戶 銀行 存到 數位 帳戶 利息 薪水 每月 固定 Bankee 利息 PO 透露 親戚 聚會 聊到 理財 發現 現在 高中生 想法 付諸行動 明明 還沒出 社會 賺錢 賺錢 方法 18 已經 看好 哪支 股票 表弟 問我 股票 有沒有 賺錢 還被 嘲諷 存錢 投資 理財 等級 阿公 那輩還 阿公 30 年前 知道 股票 固定 股息 根本 不算 現代人 找個 有錢 男人 PO 附上 200 存款 平時 理財 看到 分享 存款 幾歲 百萬 覺得 羨慕 改變 2024 想要 投資 一點 股票 做點 副業 增加收入 目前 已經 申請 證券 開戶 曉得 有沒有 推薦 貼文 一出 紛紛 留言 覺得 股票 厲害 事情 ETF 慢慢 爬文 投資 隨意 相信 說存 銀行 不好 投資 投資 確實 風險 理財 穩穩 銀行 吃虧 股票 賠錢 感覺 理想 文章 來源 拿到 薪水 百萬 存款 曝光 18 表弟 阿公 那輩還 CTWANT 授權 轉載</td>\n",
       "    </tr>\n",
       "    <tr>\n",
       "      <th>2</th>\n",
       "      <td>陽明海運年終落差超嚴重！去年13個月 今年數字嚇死人｜東森新聞在疫情期間，航運相關產業可以說是獲利頗豐，陽明海運在2022年的年終就高達13個月，羨煞不少民眾。但現在有消息指出，陽明海運於日前召開董事會，決議今年年終獎金僅1個月，加上每年固定的第13個月薪資，形同年終獎金僅2個月，與去年相比有著不少的落差。據了解，陽明海運去年年終有13個月，2023年的年度分紅也有20個月，整個加起來多達33個月之多。但根據媒體報導指出，在陽明海運的董事會上，決議年終獎金僅有1個月。而報導中也推估2024年的年終分紅也僅有1個月，加上固定的第13個月薪資，總和僅3.2個月。但好消息是，陽明海運將比照公務員標準，明年為員工加薪4%。報導中也提到，由於陽明海運具有官股性質，年終獎金最多只能發12個月，但是在分紅制度方面，陽明海運明訂稅前獲利1%為員工紅利，這數字遠高於長榮海運的0.5%與萬海的0.6%。</td>\n",
       "      <td>https://news.ebc.net.tw/news/article/397802</td>\n",
       "      <td>財經</td>\n",
       "      <td>陽明 海運 年終 落差 嚴重 去年 13 今年 數字 嚇死人 東森 新聞 疫情 期間 航運 相關 產業 獲利 頗豐 陽明 海運 2022 年終 高達 13 羨煞 民眾 現在 消息 指出 陽明 海運 日前 召開 董事會 決議 今年 年終獎金 每年 固定 13 薪資 形同 年終獎金 去年 相比 有著 落差 了解 陽明 海運 去年 年終 13 2023 年度 分紅 20 整個 多達 33 媒體 指出 陽明 海運 董事會 決議 年終獎金 僅有 推估 2024 年終 分紅 僅有 固定 13 薪資 總和 3.2 好消息 陽明 海運 公務員 標準 明年 員工 加薪 4% 提到 陽明 海運 具有 官股 性質 年終獎金 只能 12 分紅 制度 方面 陽明 海運 明訂 稅前 獲利 1% 員工 紅利 數字 遠高於 長榮 海運 0.5% 萬海 0.6%</td>\n",
       "    </tr>\n",
       "    <tr>\n",
       "      <th>3</th>\n",
       "      <td>勞保紓困貸款最高拿10萬元 申請4條件曝光！｜東森新聞勞工快看過來！今（25）日，勞動部公告113年勞保紓困貸款將在1月5日開放申請，受理至113年1月19日截止，每人最高可貸10萬元，貸款期間3年，其也列出貸款申貸資格4條件，若有符合資格的勞工，記得於受理時間申請。勞動部表示，為了要協助勞工朋友度過農曆年前經濟困難，113年勞保紓困貸款將於113年1月5日正式開辦，受理至113年1月19日截止，每人最高可貸10萬元，貸款期間3年，年利率目前為2.04％，前6個月按月付息不還本，第7個月起按月平均攤還本息。1.生活困難需要紓困2.參加勞工保險年資滿15年（計算至受理截止日113年1月19日止）3.無欠繳勞工保險費及滯納金4.未曾借貸勞保紓困貸款，或曾借貸已繳清貸款本金及利息者勞動部指出，若是已請領老年給付、終身無工作能力之失能給付或向其所屬機關請領勞工保險補償金者，則不得申請勞保紓困貸款。申辦本項貸款無需繳交任何費用；每人限申請1次，重複申請者不予受理。另外，符合資格且有需求之勞工朋友，可以於受理申請期間，透過網路、臨櫃或郵寄等方式，向土地銀行各地分行或其委託之金融機構提出申請。對此，勞動部也呼籲，為了減少民眾臨櫃排隊久候時間，請多加利用網路申請，例假日亦可使用，既省時又方便。此外，勞動部勞工保險局在2023年的尾聲，將陸續完成11項給付的入帳作業，預計今日發放國民年金保險老年基本保證年金、國民年金保險原住民給付；周四（28日）則預計發放勞保年金給付、職保年金給付、勞退月退休金（首發案）。周五（29日）將有另外6項給付入帳，包括產檢假與陪產檢及陪產假薪資補助、國保身心障礙年金給付併計勞保年資、國民年金保險老年年金給付、國民年金保險身心障礙（基本保證）年金、國民年金保險喪葬給付、國民年金保險遺囑年金。詳情請治土地銀行客服專線（02）2314-6633及其所屬分行或其委託金融機構，土地銀行於連江縣馬祖地區無營業據點，委託連江縣農會受理；或電洽勞保局服務專線（02）2396-1266。</td>\n",
       "      <td>https://news.ebc.net.tw/news/article/397804</td>\n",
       "      <td>財經</td>\n",
       "      <td>勞保 貸款 最高 10 萬元 申請 條件 曝光 東森 新聞 勞工 過來 25 勞動部 公告 113 勞保 貸款 將在 開放 申請 受理 113 19 截止 每人 最高 可貸 10 萬元 貸款 期間 列出 貸款 申貸 資格 條件 若有 符合 資格 勞工 記得 受理 時間 申請 勞動部 表示 協助 勞工 朋友 度過 農曆 年前 經濟 困難 113 勞保 貸款 將於 113 正式 開辦 受理 113 19 截止 每人 最高 可貸 10 萬元 貸款 期間 年利率 目前 2.04 付息 還本 平均 攤還 本息 生活 困難 需要 參加 勞工保險 年資 15 計算 受理 截止日 113 19 日止 欠繳 勞工 保險費 滯納金 未曾 借貸 勞保 貸款 借貸 繳清 貸款 本金 利息 勞動部 指出 請領 老年 給付 終身 工作 能力 之失 給付 所屬 機關 請領 勞工保險 補償金 申請 勞保 貸款 申辦 本項 貸款 無需 繳交 費用 每人 申請 重複 申請者 不予 受理 符合 資格 需求 勞工 朋友 受理 申請 期間 透過 網路 臨櫃 郵寄 方式 土地銀行 各地 分行 委託 金融機構 提出申請 對此 勞動部 呼籲 減少 民眾 臨櫃 排隊 久候 時間 請多加 利用 網路 申請 例假日 亦可 使用 既省 方便 勞動部 勞工保險 局在 2023 尾聲 陸續 完成 11 給付 入帳 作業 預計 今日 發放 國民 年金 老年 保證 年金 國民 年金 原住民 給付 周四 28 預計 發放 勞保 年金 給付 職保 年金 給付 勞退 退休金 首發 周五 29 將有 給付 入帳 包括 產檢假 陪產 檢及 產假 薪資 補助 國保 身心 障礙 年金 給付 勞保 年資 國民 年金 老年 年金 給付 國民 年金 身心 障礙 保證 年金 國民 年金 喪葬 給付 國民 年金 遺囑 年金 詳情請 土地銀行 客服 專線 02 2314 6633 所屬 分行 委託 金融機構 土地銀行 連江縣 馬祖地區 營業 據點 委託 連江縣 農會 受理 電洽 勞保局 服務 專線 02 2396 1266</td>\n",
       "    </tr>\n",
       "    <tr>\n",
       "      <th>4</th>\n",
       "      <td>台塑四寶獲利衰！年終3.5個月恐無望 創11年低｜東森新聞舞台上辣妹勁歌熱舞，炒熱現場氣氛，年底員工最期待的就是年終尾牙，不過傳產龍頭台塑集團，考量剛搬遷到內湖新總部，今年尾牙還是再度停辦，而年終獎金恐怕還會讓員工小失望，因為可能創下近11年最低，不到3.5個月。台塑企業全國聯合會理事長陳鴻儒：「外界所傳的要（EPS）2.43元，（年終）才能達到3.5個月，好在是說公司跟工會有做一個協商，最低保障是3個月，最高7個月。」攤開歷年台塑年終大紅包，110年獲利爆發，員工年終領到最高上限7個月，羨煞不少人，但去年開始受到國際油價、石化行情趨緩影響，略為縮水，而今年可能不只保不了3.5個月，就連工會想積極爭取的3.3個月，恐怕也很艱難。財經專家邱敏寬：「台塑四寶在年底的時候，又遭遇到整個EAFC當中的特殊產品限制，那就目前來說，這個限制到選後會不會開放，要持續來做觀察。」尤其在通膨升息壓力干擾下，讓中國大陸經濟復甦不如預期，即使第三季油價強彈，但台塑四寶前三季稅後純益，仍是452億元年減60.8％，財經專家邱敏寬：「明年的經濟成長率，目前七大機構來估，大概都有到3％以上，今年對台塑四寶相對比較保守，但是我對於明年倒是會比較樂觀一些，因為明年的傳統產業跟電子產業，特別是在通訊跟AI這一塊，擴張性會比較大一點。」不過明年台塑是否將會出現變動，資深媒體人臉書及內部員工，都爆出明年台塑四寶將有人事大地震，但台塑集團對相關謠言皆不予置評，要專注在公司營運，期許在新的一年，能繼續全力衝刺。</td>\n",
       "      <td>https://news.ebc.net.tw/news/article/397811</td>\n",
       "      <td>財經</td>\n",
       "      <td>台塑 四寶 獲利 年終 3.5 無望 11 東森 新聞 舞台 辣妹 勁歌熱舞 炒熱 現場 氣氛 年底 員工 期待 年終 尾牙 傳產 龍頭 台塑 集團 考量 搬遷 內湖 總部 今年 尾牙 再度 停辦 年終獎金 還會 員工 失望 創下 11 最低 不到 3.5 台塑 企業 全國 聯合會 理事長 鴻儒 外界 所傳 EPS 2.43 年終 達到 3.5 公司 工會 協商 最低 保障 最高 攤開 歷年 台塑 年終 大紅包 110 獲利 爆發 員工 年終 領到 最高 上限 羨煞 去年 受到 國際 油價 石化 行情 趨緩 影響 縮水 今年 3.5 就連 工會 積極爭取 3.3 艱難 財經專家 邱敏 台塑 四寶在 年底 遭遇 整個 EAFC 特殊 產品 限制 目前 來說 限制 選後會 開放 持續 觀察 尤其 升息 壓力 干擾 中國 大陸 經濟 復甦 預期 第三季 油價 強彈 台塑 四寶 前三季 稅後 純益 452 億元 年減 60.8 財經專家 邱敏 明年 經濟 成長率 目前 七大 機構 來估 以上 今年 台塑 四寶 相對 比較 保守 明年 比較 樂觀 一些 明年 傳統產業 電子 產業 特別是在 通訊 AI 一塊 擴張性 比較 一點 明年 台塑 是否 將會 出現 變動 資深 媒體 人臉 書及 內部 員工 爆出 明年 台塑 四寶將 有人 事大 地震 台塑 集團 相關 謠言 不予置評 專注 公司 營運 期許 一年 繼續 衝刺</td>\n",
       "    </tr>\n",
       "  </tbody>\n",
       "</table>\n",
       "</div>"
      ]
     },
     "execution_count": 48,
     "metadata": {},
     "output_type": "execute_result"
    }
   ],
   "execution_count": 48
  },
  {
   "cell_type": "code",
   "metadata": {
    "ExecuteTime": {
     "end_time": "2024-04-08T01:42:55.032374Z",
     "start_time": "2024-04-08T01:42:55.025845Z"
    }
   },
   "source": "ct['artCatagory'].value_counts()",
   "outputs": [
    {
     "data": {
      "text/plain": [
       "artCatagory\n",
       "政治    660\n",
       "社會    622\n",
       "國際    451\n",
       "財經     47\n",
       "Name: count, dtype: int64"
      ]
     },
     "execution_count": 49,
     "metadata": {},
     "output_type": "execute_result"
    }
   ],
   "execution_count": 49
  },
  {
   "cell_type": "code",
   "metadata": {
    "ExecuteTime": {
     "end_time": "2024-04-08T01:42:57.365528Z",
     "start_time": "2024-04-08T01:42:56.312761Z"
    }
   },
   "source": [
    "mapper = {\"政治\":\"社會\", \"國際\":\"全球\", \"社會\":\"社會\", \"財經\":\"財經\"}\n",
    "ct['artCatagory'] = ct['artCatagory'].map(mapper)\n",
    "\n",
    "X = ct['words']\n",
    "y = ct['artCatagory']\n",
    "\n",
    "y_pred = model_set[best_model_name].predict(vectorizer.transform(X).toarray())\n",
    "print(classification_report(y, y_pred))"
   ],
   "outputs": [
    {
     "name": "stdout",
     "output_type": "stream",
     "text": [
      "              precision    recall  f1-score   support\n",
      "\n",
      "          全球       0.56      0.88      0.69       451\n",
      "          社會       0.95      0.74      0.83      1282\n",
      "          財經       0.37      0.64      0.47        47\n",
      "\n",
      "    accuracy                           0.77      1780\n",
      "   macro avg       0.63      0.75      0.66      1780\n",
      "weighted avg       0.84      0.77      0.78      1780\n",
      "\n"
     ]
    }
   ],
   "execution_count": 50
  },
  {
   "metadata": {
    "ExecuteTime": {
     "end_time": "2024-04-08T01:45:34.471436Z",
     "start_time": "2024-04-08T01:45:34.461682Z"
    }
   },
   "cell_type": "code",
   "source": [
    "classes = clf.classes_\n",
    "cm = confusion_matrix(y, y_pred)\n",
    "cm"
   ],
   "outputs": [
    {
     "data": {
      "text/plain": [
       "array([[397,  46,   8],\n",
       "       [296, 943,  43],\n",
       "       [ 15,   2,  30]], dtype=int64)"
      ]
     },
     "execution_count": 51,
     "metadata": {},
     "output_type": "execute_result"
    }
   ],
   "execution_count": 51
  },
  {
   "metadata": {
    "ExecuteTime": {
     "end_time": "2024-04-08T01:45:35.476310Z",
     "start_time": "2024-04-08T01:45:35.351472Z"
    }
   },
   "cell_type": "code",
   "source": [
    "## Plot confusion matrix\n",
    "fig, ax = plt.subplots()\n",
    "sns.heatmap(cm, annot=True, fmt=\"d\", ax=ax, cmap=plt.cm.Blues, cbar=False)\n",
    "ax.set(\n",
    "    xlabel=\"Pred\",\n",
    "    ylabel=\"True\",\n",
    "    xticklabels=classes,\n",
    "    yticklabels=classes,\n",
    "    title=\"Confusion matrix\",\n",
    ")\n",
    "plt.yticks(rotation=0)"
   ],
   "outputs": [
    {
     "data": {
      "text/plain": [
       "(array([0.5, 1.5, 2.5]),\n",
       " [Text(0, 0.5, '全球'), Text(0, 1.5, '社會'), Text(0, 2.5, '財經')])"
      ]
     },
     "execution_count": 52,
     "metadata": {},
     "output_type": "execute_result"
    },
    {
     "data": {
      "text/plain": [
       "<Figure size 640x480 with 1 Axes>"
      ],
      "image/png": "[encoded data removed]"
     },
     "metadata": {},
     "output_type": "display_data"
    }
   ],
   "execution_count": 52
  },
  {
   "cell_type": "code",
   "metadata": {
    "ExecuteTime": {
     "end_time": "2024-04-08T01:45:40.374402Z",
     "start_time": "2024-04-08T01:45:40.365216Z"
    }
   },
   "source": [
    "ct['pred'] = y_pred\n",
    "ct.loc[:,['words', 'artCatagory',\"pred\"]]"
   ],
   "outputs": [
    {
     "data": {
      "text/plain": [
       "                                                                                                                                                                                                                                                                                                                                                                                                                                                                                                                                                                                                                                                                                                                                                                                                                                                                                                                                                                                                     words  \\\n",
       "0                                                                                                                                                                                                                                                           勞保 多繳 領近 57 問題 竟出 最後 東森 新聞 一名 擁有 26 年資 女性 上班族 年前 離職 退保 原本 一次 領可領 169.46 萬元 離職 接案 選擇 加入 職業工會 最低 薪資 2.5 萬元 繼續 投保 最後 少領 57 對此 勞保 達人 張秘 做出 解釋 YouTube 頻道 勞工 朋友 祕書 張秘書 影片 分享 案例 一名 52 勞工 年資 26 職業倦怠 不想 朝九晚五 決定 在家 接案 工作 符合 一次 領的 資格 選擇 加入 職業工會 加保 秘書以 例子 試算 四年 職業工會 加保 當小倩 決定 請領 一次 給付 年金 發現 最後 三年 平均 投保 薪資 僅為 2.5 萬元 勞保局 規定 一次 請領 給付 金額 相對 25000 45 基數 1125000 小倩 當初 選擇 直接 一次 請領 擁有 26 年資 37 基數 計算 最終 給付 金額 高達 169.46 萬元 45800 37 基數 1694600 也就是說 小倩 勞保 多繳 少領 56 9600 張秘書 強調 勞工 選擇 一次 請領 老年 給付 務必 注意 最後 投保 資薪 保持 最高 水平 得不償失 離職 退保 狀態 平均 投保 薪資 最後 基數 算法 15 一年 基數 16 每年 二個 基數 60 以前 年資 上限 30 年資 未滿 30 一個月 計算 年資 合計 每滿 平均 投保 薪資 發給 年資 合計 超過 15 年者 超過 部分 每滿 發給 最高 45 年資 26 給付 年資 15 22 37 基數 被保險人 60 繼續 工作者 60 以後 年資 最多以 年計 合併 60 以前 一次 請領 老年 給付 最高 50   \n",
       "1                                                                                                                                                                                                                                                                                                                                                                                                        薪水 百萬 18 表弟 阿公 那輩 東森 新聞 面對 低薪 斜槓 選擇 投資 一名 女網友 表示 高中 表弟 嘲笑 存錢 投資 理財 等級 阿公 那輩還 想要 改變 PO Dcard 指出 父母 投資 習慣 家庭教育 一直 反覆 告誡 投資 風險 股票 賠到 跳樓 長大 賺了錢 只會存 直到 前年 知道 存錢 實體 開戶 銀行 存到 數位 帳戶 利息 薪水 每月 固定 Bankee 利息 PO 透露 親戚 聚會 聊到 理財 發現 現在 高中生 想法 付諸行動 明明 還沒出 社會 賺錢 賺錢 方法 18 已經 看好 哪支 股票 表弟 問我 股票 有沒有 賺錢 還被 嘲諷 存錢 投資 理財 等級 阿公 那輩還 阿公 30 年前 知道 股票 固定 股息 根本 不算 現代人 找個 有錢 男人 PO 附上 200 存款 平時 理財 看到 分享 存款 幾歲 百萬 覺得 羨慕 改變 2024 想要 投資 一點 股票 做點 副業 增加收入 目前 已經 申請 證券 開戶 曉得 有沒有 推薦 貼文 一出 紛紛 留言 覺得 股票 厲害 事情 ETF 慢慢 爬文 投資 隨意 相信 說存 銀行 不好 投資 投資 確實 風險 理財 穩穩 銀行 吃虧 股票 賠錢 感覺 理想 文章 來源 拿到 薪水 百萬 存款 曝光 18 表弟 阿公 那輩還 CTWANT 授權 轉載   \n",
       "2                                                                                                                                                                                                                                                                                                                                                                                                                                                                                                                                                                                                                        陽明 海運 年終 落差 嚴重 去年 13 今年 數字 嚇死人 東森 新聞 疫情 期間 航運 相關 產業 獲利 頗豐 陽明 海運 2022 年終 高達 13 羨煞 民眾 現在 消息 指出 陽明 海運 日前 召開 董事會 決議 今年 年終獎金 每年 固定 13 薪資 形同 年終獎金 去年 相比 有著 落差 了解 陽明 海運 去年 年終 13 2023 年度 分紅 20 整個 多達 33 媒體 指出 陽明 海運 董事會 決議 年終獎金 僅有 推估 2024 年終 分紅 僅有 固定 13 薪資 總和 3.2 好消息 陽明 海運 公務員 標準 明年 員工 加薪 4% 提到 陽明 海運 具有 官股 性質 年終獎金 只能 12 分紅 制度 方面 陽明 海運 明訂 稅前 獲利 1% 員工 紅利 數字 遠高於 長榮 海運 0.5% 萬海 0.6%   \n",
       "3                                                                                       勞保 貸款 最高 10 萬元 申請 條件 曝光 東森 新聞 勞工 過來 25 勞動部 公告 113 勞保 貸款 將在 開放 申請 受理 113 19 截止 每人 最高 可貸 10 萬元 貸款 期間 列出 貸款 申貸 資格 條件 若有 符合 資格 勞工 記得 受理 時間 申請 勞動部 表示 協助 勞工 朋友 度過 農曆 年前 經濟 困難 113 勞保 貸款 將於 113 正式 開辦 受理 113 19 截止 每人 最高 可貸 10 萬元 貸款 期間 年利率 目前 2.04 付息 還本 平均 攤還 本息 生活 困難 需要 參加 勞工保險 年資 15 計算 受理 截止日 113 19 日止 欠繳 勞工 保險費 滯納金 未曾 借貸 勞保 貸款 借貸 繳清 貸款 本金 利息 勞動部 指出 請領 老年 給付 終身 工作 能力 之失 給付 所屬 機關 請領 勞工保險 補償金 申請 勞保 貸款 申辦 本項 貸款 無需 繳交 費用 每人 申請 重複 申請者 不予 受理 符合 資格 需求 勞工 朋友 受理 申請 期間 透過 網路 臨櫃 郵寄 方式 土地銀行 各地 分行 委託 金融機構 提出申請 對此 勞動部 呼籲 減少 民眾 臨櫃 排隊 久候 時間 請多加 利用 網路 申請 例假日 亦可 使用 既省 方便 勞動部 勞工保險 局在 2023 尾聲 陸續 完成 11 給付 入帳 作業 預計 今日 發放 國民 年金 老年 保證 年金 國民 年金 原住民 給付 周四 28 預計 發放 勞保 年金 給付 職保 年金 給付 勞退 退休金 首發 周五 29 將有 給付 入帳 包括 產檢假 陪產 檢及 產假 薪資 補助 國保 身心 障礙 年金 給付 勞保 年資 國民 年金 老年 年金 給付 國民 年金 身心 障礙 保證 年金 國民 年金 喪葬 給付 國民 年金 遺囑 年金 詳情請 土地銀行 客服 專線 02 2314 6633 所屬 分行 委託 金融機構 土地銀行 連江縣 馬祖地區 營業 據點 委託 連江縣 農會 受理 電洽 勞保局 服務 專線 02 2396 1266   \n",
       "4                                                                                                                                                                                                                                                                                                                                                                     台塑 四寶 獲利 年終 3.5 無望 11 東森 新聞 舞台 辣妹 勁歌熱舞 炒熱 現場 氣氛 年底 員工 期待 年終 尾牙 傳產 龍頭 台塑 集團 考量 搬遷 內湖 總部 今年 尾牙 再度 停辦 年終獎金 還會 員工 失望 創下 11 最低 不到 3.5 台塑 企業 全國 聯合會 理事長 鴻儒 外界 所傳 EPS 2.43 年終 達到 3.5 公司 工會 協商 最低 保障 最高 攤開 歷年 台塑 年終 大紅包 110 獲利 爆發 員工 年終 領到 最高 上限 羨煞 去年 受到 國際 油價 石化 行情 趨緩 影響 縮水 今年 3.5 就連 工會 積極爭取 3.3 艱難 財經專家 邱敏 台塑 四寶在 年底 遭遇 整個 EAFC 特殊 產品 限制 目前 來說 限制 選後會 開放 持續 觀察 尤其 升息 壓力 干擾 中國 大陸 經濟 復甦 預期 第三季 油價 強彈 台塑 四寶 前三季 稅後 純益 452 億元 年減 60.8 財經專家 邱敏 明年 經濟 成長率 目前 七大 機構 來估 以上 今年 台塑 四寶 相對 比較 保守 明年 比較 樂觀 一些 明年 傳統產業 電子 產業 特別是在 通訊 AI 一塊 擴張性 比較 一點 明年 台塑 是否 將會 出現 變動 資深 媒體 人臉 書及 內部 員工 爆出 明年 台塑 四寶將 有人 事大 地震 台塑 集團 相關 謠言 不予置評 專注 公司 營運 期許 一年 繼續 衝刺   \n",
       "...                                                                                                                                                                                                                                                                                                                                                                                                                                                                                                                                                                                                                                                                                                                                                                                                                                                                                                                                                                                                    ...   \n",
       "1775                                                                                                                                                                          美英 葉門 叛軍 油價 飆漲 貨櫃 運價 東森 新聞 美英 聯軍 12 針對 葉門 叛軍 青年運動 73 目標 發射 至少 一百五十 戰斧 巡弋 飛彈 雷射 導引 炸彈 轟炸 葉門 叛軍 青年運動 73 目標 紅海 局勢 升高 造成 貨櫃 運價 連七漲 原油價格 一天 飆漲 4% 夜色 美軍 F18 戰機 艾森豪 航空母艦 升空 打擊 葉門 叛軍 青年運動 據點 英國 颱風 戰機 塞普路斯 起飛 進行 攻擊 參與 軍事行動 協力 國家 包括 澳洲 巴林 加拿大 荷蘭 美國國防部 發言人 萊德 這是 國際 問題 需要 國際 社會 共同 解決 當地 時間 12 凌晨 英美 聯軍 發射 包括 戰斧 飛彈 超過 一百五十 精準 導引 彈藥 攻擊 伊朗 支持 青年運動 叛軍 葉門 首都 地點 73 目標 目的 削弱 青年運動 去年底 以來 宣稱 支持 薩哈 瑪斯 紅海 商船 攻擊 武力 美國 總統 拜登 我己 經向 伊朗 傳遞 訊息 知道 所欲 拜登 表示 伊朗 代理人 戰爭 對此 青年運動 進行 反擊 至少 發射 飛彈 擊中 船艦 青年運動 揚言 繼續 攻擊 紅海 商船 首都 那則 出現 大規模 反美 以色列 抗議 數萬人 湧上 首都 街頭 遊行 焚燒 國旗 洩憤 伊朗 公布 11 號在 阿曼灣 扣押 一艘 美國 油輪 畫面 伊朗 表示 這項 行動 報復 美國 去年 扣押 一艘船 石油 紅海 局勢 升溫 造成 油價 波動 布蘭特 北海 原油 西德 中級 原油 十二日 價格 飆漲 貨櫃 運價 指數 攀高 最新 一期 上海 出口 集裝箱 運價 指數 大漲 309.38 點至 2206.03 站上 2000 大關 英美 聯軍 攻擊 葉門 叛軍 引發 疑慮 卡達 阿曼 美國 波斯灣 盟邦 擔憂 區域 情勢 失控 中東 捲入 伊朗 支持 武裝 團體 敘利亞 伊拉克 境內 進一步 衝突   \n",
       "1776                                                                                                                                                           英相蘇 納克 二度 訪烏 安全 協議 增援 千億 台幣 東森 新聞 俄烏 開戰 面臨 外國 軍援 停擺 困境 近期 日本 外長 訪烏 宣布 撥款 11.5 資金 協助 烏克蘭 英國首相 納克 二度 訪問 基輔 烏克蘭 簽訂 長達 10 安全 協議 之外 宣布 給予 烏克蘭 高達 25 億英鎊 相當於 新台幣 千億 國防 援助 鎖定 前方 俄軍 車隊 進行 連續 打擊 烏軍在 烏克蘭 全境 持續 對抗 俄羅斯 面對 西方 援助 一度 停擺 終於 出現 救兵 英國首相 納克 歷史 告訴 堅持下去 民主 國家 永遠 上風 普丁 無法 理解 殺死 摧毀 建築物 軍隊 能夠 擊敗 自由 意志 英國首相 納克 二度 訪問 基輔 烏克蘭 議會 進行 演說 總統 倫斯基 一同 前往 醫院 探望 傷兵 士兵 加油打氣 納克 一趟 做出 一項 重要 決定 英國首相 納克 英國 今天 宣佈 戰爭 以來 烏克蘭 大規模 國防 援助 25 億英鎊 台幣 991 英國 這一波 軍援 中有 至少 億英鎊 將用 快速 大量 採購 生產 多達 數千架 軍用 無人機 未來 有望 成為 歷來 大規模 外國 無人機 援烏計畫 英烏 雙方 簽署 安全 合作 協議 效期 長達 10 延長 這項 協議 主要 防止 烏克蘭 再度 遭到 侵略 侵略 再起 英國 第一 時間 支援 烏克蘭 直到 最後 一刻 烏克蘭 地面部隊 指揮官 呼籲 西方 援助 攻擊機 指揮官 西爾斯 考慮 得到 10 攻擊機 能作 一種 選擇 新型 機種 一種 許多 戰爭 證明 可靠 武器 烏克蘭 面對 持續 俄國 攻擊 積極 尋求 外援 針對 俄羅斯 邊境 發動 反擊 行動 俄羅斯 城市 別爾哥羅德 近期 烏克蘭 擊後 造成 多人 死傷 當地政府 針對 500 多個 公車站 堆砌 沙包 水泥牆 設置 防護 屏障 保護 民眾 受到 戰爭 兩年 雙方 加強 攻擊力 戰事 升級   \n",
       "1777                                                                                                                                                                                                                                                                                                                                                                                                                       女扮 遊戲 角色 殭屍 陸地 鐵遭 圍觀 東森 新聞 女子 頭戴 紫色 假髮 頂著 殭屍 身穿 類似 漢服 服裝 扮成 殭屍 地鐵 安檢員 給攔 下來 地鐵 安檢員 vs Coser 請問 地鐵站 cosplay 形象 國產 遊戲 原神裡面 七七 角色 身上 衣服 搭配 漢服 這是 這是 漢服 先報 身分證 裝扮成 可愛 殭屍 要求 查驗 身分 女子 實在 理解 裝扮 影響 稱不上 恐怖 進站 地鐵 地鐵 安檢員 vs Coser 那種 血腥 恐怖 低俗 恐怖 覺得 可愛 動作 引起 圍觀 要負 法律責任 知道 想問 帽子 摘下來 至少 正常 乘客 以為 怪物 卡通 不斷 要求 女子 摘下 帽子 頭飾 安檢員 以會 引起 圍觀 理由 女子 配合 警察 雙方 溝通 一段時間 最後 願意 女子 進站 中國 一名 Coser 網路上 發了 這段 影片 參加 動漫展 地鐵 遭到 盤查 瞬間 引起 熱議 上海 地鐵 工作人員 Cosplay 制服 進站 日常 服飾 進站 安檢 人員 進行 阻攔 呼叫 民警 影片 曝光 中國 網友 紛紛 留言 怒罵 穿著 打扮 遭到 限制 真的 太過 離譜 律師 表示 法律 穿著 限制 乘客 扮演 卡通 動漫 角色 限制 禁止 進入 地鐵 干預 乘客 自由 穿衣 嫌疑 實在 不妥   \n",
       "1778  大選 影響 台海 情勢 日本 防相 密切 監視 中國軍方 東森 新聞 台灣 大選 日本 媒體 關注 多家 媒體 記者 來台 連線 採訪 選前 三位 候選人 有所 分析 關注 著重 台海 情勢 台灣 有事 日本 有事 台灣 選舉 影響 全球 日本 防衛 大臣 強調 密切 關注 中國 軍隊 台灣 周邊 動向 台灣 總統大選 日本 媒體 關注 選前 各家 日本 電視 記者 台灣 連線 日本 記者 藍色 招牌 國民黨 侯友宜 候選人 回頭 則是 民進黨 候選人 賴清德 大型 招牌 日本 來說 大選 影響 台海 情勢 日本 防衛 大臣 木原 強調 密切 關注 中國 台灣 周邊 動向 日本 媒體 對三人 各有 期待 形容 認真 男子 刑事 變色龍 日本 學館 大學 副教授 村上 政俊 賴清德 觸及 台獨 宣言 世界 發信 這點 最大 原因 美國 安心 賴清德 日媒 擔心 兩岸 情勢 是否 緊張 NHK 分析 指出 賴清德 強烈 台獨 色彩 挑戰 美國 政策 紅線 專家 分析 賴清德 當選 調整 兩岸 政策 程度 有限 侯友宜 日媒則 關注 是否 會親 習近平 沮喪 日本 軍事 記者 小原 凡司 現在 國民黨 以前 國民黨 相比 發生 很大 變化 並不像 以前 馬英九 時期 親中 人物 站穩 陣腳 日經 亞洲 分析 侯友宜 兩岸 政策 比較 模糊 美國 保持 密切關係 希望 中國 友好 台灣民眾 北京 信任 侯友宜 中國 靠近 NHK 主播 台灣 中國 靠近 台灣 半導體 先進 技術 流向 中國 日本 法政 大學教授 福田 指出 國民黨 以前 重視 中國 經濟 關係 這也 美國 擔心 半導體技術 落入 中國 手中 晶片 制裁 等於 白忙 一場 日本 政治學家 小笠 欣幸 柯文哲 先生 情況 政策 政策 有點 三腳 關鍵 柯文哲 日媒則 比較 難以預測 專家 分析 柯文哲 兩岸 議題 比較 模糊 受到 年輕 選民 歡迎 主打 薪水 住宅 民生問題 日本 政治學家 小笠 欣幸 當選 總統 將在 20 就職 四個 時間 是否 中國 進行 形式 幕後 接觸 國際 社會 將以 何種 心情 看待 總統 誕生 台灣 有事 日本 有事 2024 總統大選 出爐 日本 媒體 關注 台海 情勢 新任 總統 面對 需要 繼續 觀察   \n",
       "1779                                                 聚焦 安全 局勢 半導體 CNN 台灣 大選 改變 世界 東森 新聞 這場 關鍵 大選 台灣 關注 許多 國際 媒體 大陣 記者 來台 採訪 CNN 一篇 這場 選舉 改變 世界 哪些方面 影響 世界 CNN 認為 主要 全球 安全 局勢 半導體 供應鏈 位於 第一 島鏈 台灣 具有 重要 戰略意義 台灣 全球 第一 晶片 製造商 發生 衝突 導致 供應鏈 中斷 將會 全世界 造成 災難性 後果 2024 台灣 大選 重要 國際 媒體 大篇幅 CNN 斗大 標題 直言 今年 一場 選舉 改變 世界 美國 大選 台灣 CNN 新聞 主播 這是 一場 全球 密切 關注 選舉 尤其 共產主義 鄰國 中國 美國 CNN 中國 領導 高層 尤其 關注 大選 北京 回應 台灣 民意 決擇 也將 考驗 著中美 之間 是否 能夠 控制 緊張局勢 CNN 特派記者 普利 台灣 中美 之間 緊張局勢 最大 主因 美國 台灣 國際 主要 支持者 武器 供應商 中國 這次 選舉 做出 回應 將會 成為 重大 考驗 北京 華府 能否 控制 緊張局勢 走向 進一步 對抗 衝突 CNN 分析 專家 預期 解放軍 在短期內 出兵 台灣 文章 提到 北京 方式 表達 包括 進行 軍事演習 展示 武力 進一步 暫停 台灣 貿易往來 封鎖 CNN 特派記者 普利 台灣 全球 第一 半導體 製造商 高價 晶片 所有 高科技產品 提供 動力 間接 直接 衝突 導致 供應鏈 中斷 將會 世界各地 發生 災難性 後果 台海 局勢 變化 半導體 供應鏈 有何 影響 一大 焦點 美國 荷蘭 媒體 特別 製作 一集 專題 節目 談台灣 大選 晶片 產業 荷蘭 代表 欣新 假設 台灣 內部 發生 狀況 台灣 邊境 止步 這將會 全球性 災難 這是 稱之為 矽盾 節目 專訪 台灣 荷蘭 代表 欣新 強調 半導體 產業 台灣 國家 安全 矽盾 節目 採訪 晶片 戰爭 一書 作者 米勒 米勒 估計 台海 軍事衝突 將對 全球 經濟 造成 至少 美元 62 台幣 衝擊 選舉 影響 半導體 供應鏈 全球 安全 局勢 CNN 台灣 2024 大選 造成 影響 無遠弗屆   \n",
       "\n",
       "     artCatagory pred  \n",
       "0             財經   全球  \n",
       "1             財經   財經  \n",
       "2             財經   財經  \n",
       "3             財經   財經  \n",
       "4             財經   財經  \n",
       "...          ...  ...  \n",
       "1775          全球   全球  \n",
       "1776          全球   全球  \n",
       "1777          全球   全球  \n",
       "1778          全球   全球  \n",
       "1779          全球   全球  \n",
       "\n",
       "[1780 rows x 3 columns]"
      ],
      "text/html": [
       "<div>\n",
       "<style scoped>\n",
       "    .dataframe tbody tr th:only-of-type {\n",
       "        vertical-align: middle;\n",
       "    }\n",
       "\n",
       "    .dataframe tbody tr th {\n",
       "        vertical-align: top;\n",
       "    }\n",
       "\n",
       "    .dataframe thead th {\n",
       "        text-align: right;\n",
       "    }\n",
       "</style>\n",
       "<table border=\"1\" class=\"dataframe\">\n",
       "  <thead>\n",
       "    <tr style=\"text-align: right;\">\n",
       "      <th></th>\n",
       "      <th>words</th>\n",
       "      <th>artCatagory</th>\n",
       "      <th>pred</th>\n",
       "    </tr>\n",
       "  </thead>\n",
       "  <tbody>\n",
       "    <tr>\n",
       "      <th>0</th>\n",
       "      <td>勞保 多繳 領近 57 問題 竟出 最後 東森 新聞 一名 擁有 26 年資 女性 上班族 年前 離職 退保 原本 一次 領可領 169.46 萬元 離職 接案 選擇 加入 職業工會 最低 薪資 2.5 萬元 繼續 投保 最後 少領 57 對此 勞保 達人 張秘 做出 解釋 YouTube 頻道 勞工 朋友 祕書 張秘書 影片 分享 案例 一名 52 勞工 年資 26 職業倦怠 不想 朝九晚五 決定 在家 接案 工作 符合 一次 領的 資格 選擇 加入 職業工會 加保 秘書以 例子 試算 四年 職業工會 加保 當小倩 決定 請領 一次 給付 年金 發現 最後 三年 平均 投保 薪資 僅為 2.5 萬元 勞保局 規定 一次 請領 給付 金額 相對 25000 45 基數 1125000 小倩 當初 選擇 直接 一次 請領 擁有 26 年資 37 基數 計算 最終 給付 金額 高達 169.46 萬元 45800 37 基數 1694600 也就是說 小倩 勞保 多繳 少領 56 9600 張秘書 強調 勞工 選擇 一次 請領 老年 給付 務必 注意 最後 投保 資薪 保持 最高 水平 得不償失 離職 退保 狀態 平均 投保 薪資 最後 基數 算法 15 一年 基數 16 每年 二個 基數 60 以前 年資 上限 30 年資 未滿 30 一個月 計算 年資 合計 每滿 平均 投保 薪資 發給 年資 合計 超過 15 年者 超過 部分 每滿 發給 最高 45 年資 26 給付 年資 15 22 37 基數 被保險人 60 繼續 工作者 60 以後 年資 最多以 年計 合併 60 以前 一次 請領 老年 給付 最高 50</td>\n",
       "      <td>財經</td>\n",
       "      <td>全球</td>\n",
       "    </tr>\n",
       "    <tr>\n",
       "      <th>1</th>\n",
       "      <td>薪水 百萬 18 表弟 阿公 那輩 東森 新聞 面對 低薪 斜槓 選擇 投資 一名 女網友 表示 高中 表弟 嘲笑 存錢 投資 理財 等級 阿公 那輩還 想要 改變 PO Dcard 指出 父母 投資 習慣 家庭教育 一直 反覆 告誡 投資 風險 股票 賠到 跳樓 長大 賺了錢 只會存 直到 前年 知道 存錢 實體 開戶 銀行 存到 數位 帳戶 利息 薪水 每月 固定 Bankee 利息 PO 透露 親戚 聚會 聊到 理財 發現 現在 高中生 想法 付諸行動 明明 還沒出 社會 賺錢 賺錢 方法 18 已經 看好 哪支 股票 表弟 問我 股票 有沒有 賺錢 還被 嘲諷 存錢 投資 理財 等級 阿公 那輩還 阿公 30 年前 知道 股票 固定 股息 根本 不算 現代人 找個 有錢 男人 PO 附上 200 存款 平時 理財 看到 分享 存款 幾歲 百萬 覺得 羨慕 改變 2024 想要 投資 一點 股票 做點 副業 增加收入 目前 已經 申請 證券 開戶 曉得 有沒有 推薦 貼文 一出 紛紛 留言 覺得 股票 厲害 事情 ETF 慢慢 爬文 投資 隨意 相信 說存 銀行 不好 投資 投資 確實 風險 理財 穩穩 銀行 吃虧 股票 賠錢 感覺 理想 文章 來源 拿到 薪水 百萬 存款 曝光 18 表弟 阿公 那輩還 CTWANT 授權 轉載</td>\n",
       "      <td>財經</td>\n",
       "      <td>財經</td>\n",
       "    </tr>\n",
       "    <tr>\n",
       "      <th>2</th>\n",
       "      <td>陽明 海運 年終 落差 嚴重 去年 13 今年 數字 嚇死人 東森 新聞 疫情 期間 航運 相關 產業 獲利 頗豐 陽明 海運 2022 年終 高達 13 羨煞 民眾 現在 消息 指出 陽明 海運 日前 召開 董事會 決議 今年 年終獎金 每年 固定 13 薪資 形同 年終獎金 去年 相比 有著 落差 了解 陽明 海運 去年 年終 13 2023 年度 分紅 20 整個 多達 33 媒體 指出 陽明 海運 董事會 決議 年終獎金 僅有 推估 2024 年終 分紅 僅有 固定 13 薪資 總和 3.2 好消息 陽明 海運 公務員 標準 明年 員工 加薪 4% 提到 陽明 海運 具有 官股 性質 年終獎金 只能 12 分紅 制度 方面 陽明 海運 明訂 稅前 獲利 1% 員工 紅利 數字 遠高於 長榮 海運 0.5% 萬海 0.6%</td>\n",
       "      <td>財經</td>\n",
       "      <td>財經</td>\n",
       "    </tr>\n",
       "    <tr>\n",
       "      <th>3</th>\n",
       "      <td>勞保 貸款 最高 10 萬元 申請 條件 曝光 東森 新聞 勞工 過來 25 勞動部 公告 113 勞保 貸款 將在 開放 申請 受理 113 19 截止 每人 最高 可貸 10 萬元 貸款 期間 列出 貸款 申貸 資格 條件 若有 符合 資格 勞工 記得 受理 時間 申請 勞動部 表示 協助 勞工 朋友 度過 農曆 年前 經濟 困難 113 勞保 貸款 將於 113 正式 開辦 受理 113 19 截止 每人 最高 可貸 10 萬元 貸款 期間 年利率 目前 2.04 付息 還本 平均 攤還 本息 生活 困難 需要 參加 勞工保險 年資 15 計算 受理 截止日 113 19 日止 欠繳 勞工 保險費 滯納金 未曾 借貸 勞保 貸款 借貸 繳清 貸款 本金 利息 勞動部 指出 請領 老年 給付 終身 工作 能力 之失 給付 所屬 機關 請領 勞工保險 補償金 申請 勞保 貸款 申辦 本項 貸款 無需 繳交 費用 每人 申請 重複 申請者 不予 受理 符合 資格 需求 勞工 朋友 受理 申請 期間 透過 網路 臨櫃 郵寄 方式 土地銀行 各地 分行 委託 金融機構 提出申請 對此 勞動部 呼籲 減少 民眾 臨櫃 排隊 久候 時間 請多加 利用 網路 申請 例假日 亦可 使用 既省 方便 勞動部 勞工保險 局在 2023 尾聲 陸續 完成 11 給付 入帳 作業 預計 今日 發放 國民 年金 老年 保證 年金 國民 年金 原住民 給付 周四 28 預計 發放 勞保 年金 給付 職保 年金 給付 勞退 退休金 首發 周五 29 將有 給付 入帳 包括 產檢假 陪產 檢及 產假 薪資 補助 國保 身心 障礙 年金 給付 勞保 年資 國民 年金 老年 年金 給付 國民 年金 身心 障礙 保證 年金 國民 年金 喪葬 給付 國民 年金 遺囑 年金 詳情請 土地銀行 客服 專線 02 2314 6633 所屬 分行 委託 金融機構 土地銀行 連江縣 馬祖地區 營業 據點 委託 連江縣 農會 受理 電洽 勞保局 服務 專線 02 2396 1266</td>\n",
       "      <td>財經</td>\n",
       "      <td>財經</td>\n",
       "    </tr>\n",
       "    <tr>\n",
       "      <th>4</th>\n",
       "      <td>台塑 四寶 獲利 年終 3.5 無望 11 東森 新聞 舞台 辣妹 勁歌熱舞 炒熱 現場 氣氛 年底 員工 期待 年終 尾牙 傳產 龍頭 台塑 集團 考量 搬遷 內湖 總部 今年 尾牙 再度 停辦 年終獎金 還會 員工 失望 創下 11 最低 不到 3.5 台塑 企業 全國 聯合會 理事長 鴻儒 外界 所傳 EPS 2.43 年終 達到 3.5 公司 工會 協商 最低 保障 最高 攤開 歷年 台塑 年終 大紅包 110 獲利 爆發 員工 年終 領到 最高 上限 羨煞 去年 受到 國際 油價 石化 行情 趨緩 影響 縮水 今年 3.5 就連 工會 積極爭取 3.3 艱難 財經專家 邱敏 台塑 四寶在 年底 遭遇 整個 EAFC 特殊 產品 限制 目前 來說 限制 選後會 開放 持續 觀察 尤其 升息 壓力 干擾 中國 大陸 經濟 復甦 預期 第三季 油價 強彈 台塑 四寶 前三季 稅後 純益 452 億元 年減 60.8 財經專家 邱敏 明年 經濟 成長率 目前 七大 機構 來估 以上 今年 台塑 四寶 相對 比較 保守 明年 比較 樂觀 一些 明年 傳統產業 電子 產業 特別是在 通訊 AI 一塊 擴張性 比較 一點 明年 台塑 是否 將會 出現 變動 資深 媒體 人臉 書及 內部 員工 爆出 明年 台塑 四寶將 有人 事大 地震 台塑 集團 相關 謠言 不予置評 專注 公司 營運 期許 一年 繼續 衝刺</td>\n",
       "      <td>財經</td>\n",
       "      <td>財經</td>\n",
       "    </tr>\n",
       "    <tr>\n",
       "      <th>...</th>\n",
       "      <td>...</td>\n",
       "      <td>...</td>\n",
       "      <td>...</td>\n",
       "    </tr>\n",
       "    <tr>\n",
       "      <th>1775</th>\n",
       "      <td>美英 葉門 叛軍 油價 飆漲 貨櫃 運價 東森 新聞 美英 聯軍 12 針對 葉門 叛軍 青年運動 73 目標 發射 至少 一百五十 戰斧 巡弋 飛彈 雷射 導引 炸彈 轟炸 葉門 叛軍 青年運動 73 目標 紅海 局勢 升高 造成 貨櫃 運價 連七漲 原油價格 一天 飆漲 4% 夜色 美軍 F18 戰機 艾森豪 航空母艦 升空 打擊 葉門 叛軍 青年運動 據點 英國 颱風 戰機 塞普路斯 起飛 進行 攻擊 參與 軍事行動 協力 國家 包括 澳洲 巴林 加拿大 荷蘭 美國國防部 發言人 萊德 這是 國際 問題 需要 國際 社會 共同 解決 當地 時間 12 凌晨 英美 聯軍 發射 包括 戰斧 飛彈 超過 一百五十 精準 導引 彈藥 攻擊 伊朗 支持 青年運動 叛軍 葉門 首都 地點 73 目標 目的 削弱 青年運動 去年底 以來 宣稱 支持 薩哈 瑪斯 紅海 商船 攻擊 武力 美國 總統 拜登 我己 經向 伊朗 傳遞 訊息 知道 所欲 拜登 表示 伊朗 代理人 戰爭 對此 青年運動 進行 反擊 至少 發射 飛彈 擊中 船艦 青年運動 揚言 繼續 攻擊 紅海 商船 首都 那則 出現 大規模 反美 以色列 抗議 數萬人 湧上 首都 街頭 遊行 焚燒 國旗 洩憤 伊朗 公布 11 號在 阿曼灣 扣押 一艘 美國 油輪 畫面 伊朗 表示 這項 行動 報復 美國 去年 扣押 一艘船 石油 紅海 局勢 升溫 造成 油價 波動 布蘭特 北海 原油 西德 中級 原油 十二日 價格 飆漲 貨櫃 運價 指數 攀高 最新 一期 上海 出口 集裝箱 運價 指數 大漲 309.38 點至 2206.03 站上 2000 大關 英美 聯軍 攻擊 葉門 叛軍 引發 疑慮 卡達 阿曼 美國 波斯灣 盟邦 擔憂 區域 情勢 失控 中東 捲入 伊朗 支持 武裝 團體 敘利亞 伊拉克 境內 進一步 衝突</td>\n",
       "      <td>全球</td>\n",
       "      <td>全球</td>\n",
       "    </tr>\n",
       "    <tr>\n",
       "      <th>1776</th>\n",
       "      <td>英相蘇 納克 二度 訪烏 安全 協議 增援 千億 台幣 東森 新聞 俄烏 開戰 面臨 外國 軍援 停擺 困境 近期 日本 外長 訪烏 宣布 撥款 11.5 資金 協助 烏克蘭 英國首相 納克 二度 訪問 基輔 烏克蘭 簽訂 長達 10 安全 協議 之外 宣布 給予 烏克蘭 高達 25 億英鎊 相當於 新台幣 千億 國防 援助 鎖定 前方 俄軍 車隊 進行 連續 打擊 烏軍在 烏克蘭 全境 持續 對抗 俄羅斯 面對 西方 援助 一度 停擺 終於 出現 救兵 英國首相 納克 歷史 告訴 堅持下去 民主 國家 永遠 上風 普丁 無法 理解 殺死 摧毀 建築物 軍隊 能夠 擊敗 自由 意志 英國首相 納克 二度 訪問 基輔 烏克蘭 議會 進行 演說 總統 倫斯基 一同 前往 醫院 探望 傷兵 士兵 加油打氣 納克 一趟 做出 一項 重要 決定 英國首相 納克 英國 今天 宣佈 戰爭 以來 烏克蘭 大規模 國防 援助 25 億英鎊 台幣 991 英國 這一波 軍援 中有 至少 億英鎊 將用 快速 大量 採購 生產 多達 數千架 軍用 無人機 未來 有望 成為 歷來 大規模 外國 無人機 援烏計畫 英烏 雙方 簽署 安全 合作 協議 效期 長達 10 延長 這項 協議 主要 防止 烏克蘭 再度 遭到 侵略 侵略 再起 英國 第一 時間 支援 烏克蘭 直到 最後 一刻 烏克蘭 地面部隊 指揮官 呼籲 西方 援助 攻擊機 指揮官 西爾斯 考慮 得到 10 攻擊機 能作 一種 選擇 新型 機種 一種 許多 戰爭 證明 可靠 武器 烏克蘭 面對 持續 俄國 攻擊 積極 尋求 外援 針對 俄羅斯 邊境 發動 反擊 行動 俄羅斯 城市 別爾哥羅德 近期 烏克蘭 擊後 造成 多人 死傷 當地政府 針對 500 多個 公車站 堆砌 沙包 水泥牆 設置 防護 屏障 保護 民眾 受到 戰爭 兩年 雙方 加強 攻擊力 戰事 升級</td>\n",
       "      <td>全球</td>\n",
       "      <td>全球</td>\n",
       "    </tr>\n",
       "    <tr>\n",
       "      <th>1777</th>\n",
       "      <td>女扮 遊戲 角色 殭屍 陸地 鐵遭 圍觀 東森 新聞 女子 頭戴 紫色 假髮 頂著 殭屍 身穿 類似 漢服 服裝 扮成 殭屍 地鐵 安檢員 給攔 下來 地鐵 安檢員 vs Coser 請問 地鐵站 cosplay 形象 國產 遊戲 原神裡面 七七 角色 身上 衣服 搭配 漢服 這是 這是 漢服 先報 身分證 裝扮成 可愛 殭屍 要求 查驗 身分 女子 實在 理解 裝扮 影響 稱不上 恐怖 進站 地鐵 地鐵 安檢員 vs Coser 那種 血腥 恐怖 低俗 恐怖 覺得 可愛 動作 引起 圍觀 要負 法律責任 知道 想問 帽子 摘下來 至少 正常 乘客 以為 怪物 卡通 不斷 要求 女子 摘下 帽子 頭飾 安檢員 以會 引起 圍觀 理由 女子 配合 警察 雙方 溝通 一段時間 最後 願意 女子 進站 中國 一名 Coser 網路上 發了 這段 影片 參加 動漫展 地鐵 遭到 盤查 瞬間 引起 熱議 上海 地鐵 工作人員 Cosplay 制服 進站 日常 服飾 進站 安檢 人員 進行 阻攔 呼叫 民警 影片 曝光 中國 網友 紛紛 留言 怒罵 穿著 打扮 遭到 限制 真的 太過 離譜 律師 表示 法律 穿著 限制 乘客 扮演 卡通 動漫 角色 限制 禁止 進入 地鐵 干預 乘客 自由 穿衣 嫌疑 實在 不妥</td>\n",
       "      <td>全球</td>\n",
       "      <td>全球</td>\n",
       "    </tr>\n",
       "    <tr>\n",
       "      <th>1778</th>\n",
       "      <td>大選 影響 台海 情勢 日本 防相 密切 監視 中國軍方 東森 新聞 台灣 大選 日本 媒體 關注 多家 媒體 記者 來台 連線 採訪 選前 三位 候選人 有所 分析 關注 著重 台海 情勢 台灣 有事 日本 有事 台灣 選舉 影響 全球 日本 防衛 大臣 強調 密切 關注 中國 軍隊 台灣 周邊 動向 台灣 總統大選 日本 媒體 關注 選前 各家 日本 電視 記者 台灣 連線 日本 記者 藍色 招牌 國民黨 侯友宜 候選人 回頭 則是 民進黨 候選人 賴清德 大型 招牌 日本 來說 大選 影響 台海 情勢 日本 防衛 大臣 木原 強調 密切 關注 中國 台灣 周邊 動向 日本 媒體 對三人 各有 期待 形容 認真 男子 刑事 變色龍 日本 學館 大學 副教授 村上 政俊 賴清德 觸及 台獨 宣言 世界 發信 這點 最大 原因 美國 安心 賴清德 日媒 擔心 兩岸 情勢 是否 緊張 NHK 分析 指出 賴清德 強烈 台獨 色彩 挑戰 美國 政策 紅線 專家 分析 賴清德 當選 調整 兩岸 政策 程度 有限 侯友宜 日媒則 關注 是否 會親 習近平 沮喪 日本 軍事 記者 小原 凡司 現在 國民黨 以前 國民黨 相比 發生 很大 變化 並不像 以前 馬英九 時期 親中 人物 站穩 陣腳 日經 亞洲 分析 侯友宜 兩岸 政策 比較 模糊 美國 保持 密切關係 希望 中國 友好 台灣民眾 北京 信任 侯友宜 中國 靠近 NHK 主播 台灣 中國 靠近 台灣 半導體 先進 技術 流向 中國 日本 法政 大學教授 福田 指出 國民黨 以前 重視 中國 經濟 關係 這也 美國 擔心 半導體技術 落入 中國 手中 晶片 制裁 等於 白忙 一場 日本 政治學家 小笠 欣幸 柯文哲 先生 情況 政策 政策 有點 三腳 關鍵 柯文哲 日媒則 比較 難以預測 專家 分析 柯文哲 兩岸 議題 比較 模糊 受到 年輕 選民 歡迎 主打 薪水 住宅 民生問題 日本 政治學家 小笠 欣幸 當選 總統 將在 20 就職 四個 時間 是否 中國 進行 形式 幕後 接觸 國際 社會 將以 何種 心情 看待 總統 誕生 台灣 有事 日本 有事 2024 總統大選 出爐 日本 媒體 關注 台海 情勢 新任 總統 面對 需要 繼續 觀察</td>\n",
       "      <td>全球</td>\n",
       "      <td>全球</td>\n",
       "    </tr>\n",
       "    <tr>\n",
       "      <th>1779</th>\n",
       "      <td>聚焦 安全 局勢 半導體 CNN 台灣 大選 改變 世界 東森 新聞 這場 關鍵 大選 台灣 關注 許多 國際 媒體 大陣 記者 來台 採訪 CNN 一篇 這場 選舉 改變 世界 哪些方面 影響 世界 CNN 認為 主要 全球 安全 局勢 半導體 供應鏈 位於 第一 島鏈 台灣 具有 重要 戰略意義 台灣 全球 第一 晶片 製造商 發生 衝突 導致 供應鏈 中斷 將會 全世界 造成 災難性 後果 2024 台灣 大選 重要 國際 媒體 大篇幅 CNN 斗大 標題 直言 今年 一場 選舉 改變 世界 美國 大選 台灣 CNN 新聞 主播 這是 一場 全球 密切 關注 選舉 尤其 共產主義 鄰國 中國 美國 CNN 中國 領導 高層 尤其 關注 大選 北京 回應 台灣 民意 決擇 也將 考驗 著中美 之間 是否 能夠 控制 緊張局勢 CNN 特派記者 普利 台灣 中美 之間 緊張局勢 最大 主因 美國 台灣 國際 主要 支持者 武器 供應商 中國 這次 選舉 做出 回應 將會 成為 重大 考驗 北京 華府 能否 控制 緊張局勢 走向 進一步 對抗 衝突 CNN 分析 專家 預期 解放軍 在短期內 出兵 台灣 文章 提到 北京 方式 表達 包括 進行 軍事演習 展示 武力 進一步 暫停 台灣 貿易往來 封鎖 CNN 特派記者 普利 台灣 全球 第一 半導體 製造商 高價 晶片 所有 高科技產品 提供 動力 間接 直接 衝突 導致 供應鏈 中斷 將會 世界各地 發生 災難性 後果 台海 局勢 變化 半導體 供應鏈 有何 影響 一大 焦點 美國 荷蘭 媒體 特別 製作 一集 專題 節目 談台灣 大選 晶片 產業 荷蘭 代表 欣新 假設 台灣 內部 發生 狀況 台灣 邊境 止步 這將會 全球性 災難 這是 稱之為 矽盾 節目 專訪 台灣 荷蘭 代表 欣新 強調 半導體 產業 台灣 國家 安全 矽盾 節目 採訪 晶片 戰爭 一書 作者 米勒 米勒 估計 台海 軍事衝突 將對 全球 經濟 造成 至少 美元 62 台幣 衝擊 選舉 影響 半導體 供應鏈 全球 安全 局勢 CNN 台灣 2024 大選 造成 影響 無遠弗屆</td>\n",
       "      <td>全球</td>\n",
       "      <td>全球</td>\n",
       "    </tr>\n",
       "  </tbody>\n",
       "</table>\n",
       "<p>1780 rows × 3 columns</p>\n",
       "</div>"
      ]
     },
     "execution_count": 53,
     "metadata": {},
     "output_type": "execute_result"
    }
   ],
   "execution_count": 53
  },
  {
   "cell_type": "code",
   "metadata": {
    "ExecuteTime": {
     "end_time": "2024-04-08T01:46:02.515750Z",
     "start_time": "2024-04-08T01:46:02.504320Z"
    }
   },
   "source": [
    "false_pred = ct.query(\"artCatagory != pred\").loc[:,['words', 'artCatagory',\"pred\"]]\n",
    "false_pred"
   ],
   "outputs": [
    {
     "data": {
      "text/plain": [
       "                                                                                                                                                                                                                                                                                                                                                                                                                                                                                                                                                                                                                                                                                                                                                                                                                                                                                                                                                                                                                       words  \\\n",
       "0                                                                                                                                                                                                                                                                             勞保 多繳 領近 57 問題 竟出 最後 東森 新聞 一名 擁有 26 年資 女性 上班族 年前 離職 退保 原本 一次 領可領 169.46 萬元 離職 接案 選擇 加入 職業工會 最低 薪資 2.5 萬元 繼續 投保 最後 少領 57 對此 勞保 達人 張秘 做出 解釋 YouTube 頻道 勞工 朋友 祕書 張秘書 影片 分享 案例 一名 52 勞工 年資 26 職業倦怠 不想 朝九晚五 決定 在家 接案 工作 符合 一次 領的 資格 選擇 加入 職業工會 加保 秘書以 例子 試算 四年 職業工會 加保 當小倩 決定 請領 一次 給付 年金 發現 最後 三年 平均 投保 薪資 僅為 2.5 萬元 勞保局 規定 一次 請領 給付 金額 相對 25000 45 基數 1125000 小倩 當初 選擇 直接 一次 請領 擁有 26 年資 37 基數 計算 最終 給付 金額 高達 169.46 萬元 45800 37 基數 1694600 也就是說 小倩 勞保 多繳 少領 56 9600 張秘書 強調 勞工 選擇 一次 請領 老年 給付 務必 注意 最後 投保 資薪 保持 最高 水平 得不償失 離職 退保 狀態 平均 投保 薪資 最後 基數 算法 15 一年 基數 16 每年 二個 基數 60 以前 年資 上限 30 年資 未滿 30 一個月 計算 年資 合計 每滿 平均 投保 薪資 發給 年資 合計 超過 15 年者 超過 部分 每滿 發給 最高 45 年資 26 給付 年資 15 22 37 基數 被保險人 60 繼續 工作者 60 以後 年資 最多以 年計 合併 60 以前 一次 請領 老年 給付 最高 50   \n",
       "5                                                                                                                                                                                                                                                                                                                                                                                                                                                                           元老 振榮 辭世 業界 緬懷 生前 海派 人緣 東森 新聞 中鋼前 總經理 振榮 參與 公司 階段 擴建 歷程 業界 享有 聲譽 晚年 飽受 癌症 摧殘 住進 安寧 病房 25 凌晨 辭世 享壽 77 令人 不勝唏噓 振榮 出生 高雄 鳳山 礦冶 畢業 考進 中鋼 出身 政治 世家 叔叔 義秋 外號 鳳山 政商 實力雄厚 政治 一途 1990 年代 擔任 總經理 中鋼 黃埔 一期 員工 基層 做起 一晃眼 12 民營化 過程 人脈 帶領 團隊 立法院 朝野 溝通 中鋼 國營 轉為 民營 慢慢 奠定 基礎 成為 台灣 最大 鋼鐵企業 振榮 傳出 病逝 各界 紛紛 緬懷 幹部 口吃 喝酒 我弟 豪邁 性格 印象 深刻 稱讚 對方 性情中人 喜歡 交朋友 公司 公關 經他 之手 順遂 公司 基層 親切 幹部 嚴格 幹部 以身作則 鋼鐵 回憶 振榮 當年 帶領 民營化 難能可貴 創造 時代 交棒給 下一代 翁朝棟 帶領 創下 建廠 50 年來 最高 營運 獲利 績效 振榮 退休 每次 提到 此事 有榮 傑出 幹部 拍胸脯 大聲 振榮 永遠 長官 文章 來源 中鋼前 總座 振榮 辭世 享壽 77 業界 緬懷 生前 海派 人緣 CTWANT 授權 轉載   \n",
       "10    美政府 維持 Apple Watch 進口 禁令 蘋果 上訴 東森 新聞 美國 總統 拜登 政府 選擇 否決 專利 侵權 裁定 蘋果公司 Apple 今天 表示 旗下 智慧 手錶 AppleWatch 最新型 號的 進口 禁令 提起 上訴 綜合 法新社 路透社 這項 針對 蘋果 最新 智慧 手錶 型號 禁令 今天 生效 AppleWatchSeries9 AppleWatchUltra2 無法 美國 實體 商店 或線 銷售 這項 禁令 大型 科技 公司 具有 價值 專利 展開 最新 法律 角力 谷歌 Google 針對 揚聲器 技術 Sonos 打官司 美國 國際貿易 委員會 ITC 10 裁定 禁止 進口 侵犯 一項 測定 血氧 含量 專利技術 蘋果 智慧 手錶 型號 這項 禁令 源起 Masimo 公司 2021 ITC 提出 申訴 這家 醫療 設備 製造商 指控 蘋果 侵犯 公司 感測 技術 測量 血氧 含量 專利 Masimo 這項 技術 發明 蘋果 挖角 員工 取得 技術 美國 貿易 代表 USTR 今天 聲明 指出 謹慎 商議 貿易 代表 戴琪 KatherineTai 決定 撤銷 ITC 這項 裁定 ITC 決定 2023 12 26 日成 最終 裁定 白宮 有權 撤銷 進口 禁令 狀況 鮮少 發生 蘋果 主張 ITC 裁決 錯誤 應予 撤銷 並向 美國聯邦 法院 提起 上訴 蘋果 發言人 表示 公司 針對 這項 禁令 華盛頓 美國聯邦 巡迴 上訴 法院 CourtofAppealsfortheFederalCircuit 提起 上訴 蘋果 今天 聲明 中說 強烈 同意 ITC 裁定 由此 產生 排除 命令 採取 措施 盡快 美國 顧客 恢復 供應 AppleWatchSeries9 AppleWatchUltra2 蘋果 請求 聯邦 巡迴 上訴 法院 暫停 禁令 至少 暫停 美國 海關 邊境 保護局 CBP 判定 重新 設計 過的 蘋果 智慧 手錶 型號 是否 侵犯 Masimo 專利 並在 法院 考慮 蘋果 請求 暫停 禁令 蘋果 美國 海關 邊境 保護局 預定 明年 12 做出 決定 耶誕 假期 前夕 蘋果 本月 21 已將 產品 自線 蘋果 商店 AppleStore 下架 實體 零售 商店 24 停止 販售   \n",
       "13                                                                                                                                                                                                                                                                                                                                                                                                                                                                                                                                                                                                                                        東南亞 旅遊 注意 星馬 元旦 將調 消費稅 東森 新聞 打算 東南亞 旅遊 民眾 注意 新加坡 將從 元旦 上調 消費稅 百分點 9% 因應 老齡化 人口 激增 醫療保健 成本 上漲 馬來西亞 將從 明年 銷售 服務 稅調 高到 8% 元旦假期 就要 民眾 規劃 出國 過去 東南亞 國家 注意 明年 元旦 新加坡 將把 商品 服務 稅率 8% 調升 9% 星國 穩定 增稅 擴大 財政 基礎 因應 醫療 照護 成本 高漲 馬來西亞 稅收 東南亞 國家 居後段 將從 明年 銷售 服務 調高 百分點 8% 糧食 飲料 通訊 必要 支出 不在 調升 範圍 各國 國際航班 持續 恢復 目前 中國 官方 發布 最新 數據 預估 元旦 期間 日均 出入境 旅客 達到 156 萬人次 2023 元旦 增長 超過 五倍 回到 2019 九成 水平   \n",
       "16                                                                                                                                                                                                                                                                                                                         聯亞 生技 負責人 王長 怡傳 跳票 集團 財務狀況 引熱議 東森 新聞 聯亞 生技 集團 經營權 爭奪 多時 現任 負責人 王長 女兒 胡世一指 無權 擔任 董事長 一職 母女 分裂 派並 爆發 多起 訴訟 傳出 聯亞 生技 集團 王長 掌控 相關 公司 積欠 貨款 遭向 法院 聲請 支付 命令 追討 傳出 王長 財務 出現 狀況 跳票 聯亞生 技是 國發 基金 投資 項目 負責人 財務 未處理 影響 公司 營運 影響 廣大 納稅人 權益 週刊 調查 依據 今年 台灣 票據交換 所票 查詢 記錄 今年 11 28 王長 一筆 退票 日期 今年 10 18 金額 200 萬元 退票 紀錄 退票 理由 存款 不足 清償 贖回 日期 今年 10 27 王長 投資 有限公司 筆的 退票 紀錄 總金額 120 萬元 分別 今年 13 一張 票面額 1000 萬元 12 張支 票面額 分別 20 萬元 50 萬元 50 萬元 退票 理由 存款 不足 清償 日期 空白 週刊 調查 今年 新竹 地院 收到 聯亞 生技 集團 聯合 生物製藥 公司 追債 案件 分別 請求 給付 貨款 支付 命令 給付 價金 案件 金額 萬餘元 百萬元 不等 至今 10 部分 案件 陸續 和解 收到 款項 金額 法院 解決 傳出 王長 跳票 聯亞 生技 集團 財務狀況 相關 廠商 發熱 更多鏡 週刊 王長 胡世一 母女 鬧翻 聯亞 生技 經營權 持續 爭訟 聯亞 母女 紛爭 再起 兩派 發聲明 捍衛 立場 凍結 員工 薪資 羅生門 聯亞 女兒 反控 王長 說謊   \n",
       "...                                                                                                                                                                                                                                                                                                                                                                                                                                                                                                                                                                                                                                                                                                                                                                                                                                                                                                                                                                                                                      ...   \n",
       "1752                                                                                                                                                                                                                                                                                                                                                                                                                                                                                                                                                                                                東京 旅館 挾持 持刀 扣押 人質 與警 對峙 小時 投降 東森 新聞 朝日 電視 記者 20 分鐘 11 25 左右 警視廳 涉嫌 禁閉 嫌犯 現行犯 逮捕 藍色 塑膠 一輛 載著 嫌犯 的車 出現 旅館 坐在 警車 後座 深色 外套 遮住 男子 涉嫌 挾持 人質 嫌犯 事情 發生 日本 東京都 東區 JR 鶯谷 車站 附近 2024 總統 立委 大選 選舉 一覽 線上 12 上午 點多 一間 旅館 員工 報警 一間 客房 傳出 男女 激烈 爭吵 聲音 男方 疑似 持有 刀械 警方 獲報 趕到 現場 房間 裡的 男子 把門 反鎖 女子 當成 人質 不肯 開門 房間 警方 對峙 旅館 周圍 還拉起 封鎖線 10 多名 警察 待命 氣氛 一度 緊張 警方 持續 勸說 之下 雙方 僵持 小時 男子 終於 女子 釋放 女子 意識 清楚 受傷 警方 涉嫌 禁閉 男子 拘留 逮捕 目前 還要 調查 確切 挾持 原因   \n",
       "1756                                                                                                                                                                                                                                                                                                                                                                                                         命喪 柬埔寨 遺體 腫脹 陳屍 公寓 房間 搜出 白粉 東森 新聞 柬埔寨 首都 金邊 天空 公寓 11 發生 一宗 死亡 案件 一名 40 台灣 男子 發現 屍在 房間內 全身 已經 明顯 腫脹 警方 調查過程 男子 住處 搜出 疑似 毒品 白色 粉末 柬中 時報 死者 一名 台灣 40 莊姓 男子 ChuangYiZe 旅遊 簽證 入境 柬埔寨 11 下午 30 金邊 雷西 郊區 天空 SkyTree 公寓 房間 裡被 發現 身亡 事發 當天 當地 警方 接到 保全 通報 立即 前往 公寓 調查 發現 這名 男子 陳屍 房間內 遺體 已經 明顯 腫脹 並在 調查過程 屋內 發現 疑似 毒品 白色 粉末 目前 法醫 驗屍 確認 男子 死於 心臟病 具體 死亡 時間 尚未 確定 遺體 安放 當地 宋仁芷 寺廟 2024 總統 立委 大選 選舉 一覽 線上 一名 台灣籍 40 李姓 男子 月初 命喪 柬埔寨 事發 金邊 俄羅斯 大道 當地 警方 調查 當時 一群 聚集 吸毒 喝酒 疑似 分贓 問題 爆發 口角 衝突 狂歡 變成 大亂鬥 延伸 閱讀 命喪 柬埔寨 詐團 分贓不均 互砍 年內 已多人 喪命 死者 一路 追到 樓頂 最終 無處可逃 利器 攻擊 倒臥 大樓 管理員 發現 嚇得 報案 當警消 人員 趕到 現場 死者 已經 失去 呼吸 心跳 失血過多 不治 身亡   \n",
       "1759                                                                                                                                                                                                                                                                                                                                                                                                                                                                 記憶 情緒 免疫 中國 青年 越來越 脆皮 東森 新聞 大生 一段 扭傷 骨折 石膏 整天 宿舍 室友 幫忙 跑腿 這名 學生 走路 小心 跌倒 不以 為意 一覺 醫院 檢查 發現 底骨 骨折 來個 健檢 發現 從頭到腳 大陸 大學生 22 頸椎病 頸椎 現在 一直 尾椎骨 骶骨 一塊 問題 最近 很火 話題 脆皮 大學生 覺得 一種 平時 鍛鍊 熬夜 作息 正常 營養 不均 長期 下來 大陸 年輕人 健康狀況 令人 堪慮 有人 狂歡 跨年 狂歡 一秒 腸胃炎 醫院 天天 生悶氣 胸部 硬塊 發現 腫瘤 年輕人 普遍 健康 問題 包括 記憶力 下降 43.4 情緒 穩定 42.2 免疫力 下降 41.9 睡眠 品質 視力 下降 不好 眼部 乾澀 脫髮 大學生 脆皮 第一次 校園 半路 2024 總統 立委 大選 選舉 一覽 線上 有點 誇張 脆皮 青年 成為 大陸 年輕人 標籤 數據 支撐 鄭州 一家 醫院 曾經 一個月 接診 1700 多名 年輕 患者 醫師 分析 健康 生活 方式 心理壓力 一大 威脅 大陸 民眾 遠遠 看到 粉色 毛茸茸 包裹 巴士 閃現 中街 一番 打探 脆皮 青年 守護 計畫 工作 年輕人 加強鍛鍊 還得 面臨 健康 警報 危機   \n",
       "1763                                                                                                                                                                                                                                                                                                                                                                                                                                                                                                                                                                                                                                                                                                                                                     河南省 發生 煤礦 意外 至少 死亡 東森 新聞 新華社 中國 河南省 平頂山市 一處 煤礦 12 發生意外 造成 死亡 15 失蹤 目前 援救 工作 進行 初步 調查 這起 意外 發生 12 下午 55 屬於 平頂山 天安 煤業 公司 一處 礦坑 因煤 天然氣 噴出 釀災 新華社 平頂山市 緊急 處理 機構 當時 礦坑 內有 45 事故 發生 造成 死亡 15 失蹤 援救 人員 22 取得聯繫 意外 發生 共有 425 地底 作業 380 礦坑 救出 新華社 地方 當局 展開 救援 意外 調查 工作 正在 進行   \n",
       "1771                                                                                                                                                                                                                                                                                                                                                                                            冷血 癌末 中獎 倒地 關心 彩券 東森 新聞 澳洲 一名 老人 罹病 剩下 半年 壽命 決定 生命 結束 前到 里斯本 一家 酒吧 老虎機 幸運地 獲得 獎金 正當 兌換 現金 突然 倒地 身邊 出現 一名 不懷好意 女子 將他 彩券 偷走 並在 兌換 獎金 直接 太陽報 澳洲 這名 80 老人 湯瑪士 ThomasPurtill 患病 剩下 生命 僅存 時間 做點 開心 里斯本 某間 酒吧 老虎機 一些 零錢 碰碰運氣 該家 酒吧 監視器 畫面 只見 湯瑪士 玩完 老虎機 準備 兌換 贏得 160 英鎊 台幣 6340 正當 彩券 投進 機器 突然 出現 一名 女子 似乎 擔心 湯瑪士 狀況 通知 酒吧 人員 報警 該名 女子 不懷好意 看見 湯瑪士 身旁 一張 彩券 迅速 撿起 機器 兌換 現金 放入 口袋 並盡速 離開 現場 送往 醫院 治療 湯瑪士還 住院 當他 問到 看待 小偷 有人 過來 給我 10 元給 孩子 牛奶 一定 會給 相當 不解 這名 女子 要用 醫師 告知 癌症 已經 晚期 僅剩 生命 獎金 遺失 酒吧 人員 得知 湯瑪士 狀況 感到 相當 並對 償還 獎金 湯瑪士 人性本善 信心 再次 復燃 警方 呼籲 希望 認識 該名 女子 出面 協助 警方 辦案 犯罪 行為 模仿 文章 來源 冷血 澳洲 癌末 老虎機 中獎 倒地 關心 彩券 換錢 CTWANT 授權 轉載   \n",
       "\n",
       "     artCatagory pred  \n",
       "0             財經   全球  \n",
       "5             財經   全球  \n",
       "10            財經   全球  \n",
       "13            財經   全球  \n",
       "16            財經   社會  \n",
       "...          ...  ...  \n",
       "1752          全球   社會  \n",
       "1756          全球   社會  \n",
       "1759          全球   社會  \n",
       "1763          全球   社會  \n",
       "1771          全球   社會  \n",
       "\n",
       "[410 rows x 3 columns]"
      ],
      "text/html": [
       "<div>\n",
       "<style scoped>\n",
       "    .dataframe tbody tr th:only-of-type {\n",
       "        vertical-align: middle;\n",
       "    }\n",
       "\n",
       "    .dataframe tbody tr th {\n",
       "        vertical-align: top;\n",
       "    }\n",
       "\n",
       "    .dataframe thead th {\n",
       "        text-align: right;\n",
       "    }\n",
       "</style>\n",
       "<table border=\"1\" class=\"dataframe\">\n",
       "  <thead>\n",
       "    <tr style=\"text-align: right;\">\n",
       "      <th></th>\n",
       "      <th>words</th>\n",
       "      <th>artCatagory</th>\n",
       "      <th>pred</th>\n",
       "    </tr>\n",
       "  </thead>\n",
       "  <tbody>\n",
       "    <tr>\n",
       "      <th>0</th>\n",
       "      <td>勞保 多繳 領近 57 問題 竟出 最後 東森 新聞 一名 擁有 26 年資 女性 上班族 年前 離職 退保 原本 一次 領可領 169.46 萬元 離職 接案 選擇 加入 職業工會 最低 薪資 2.5 萬元 繼續 投保 最後 少領 57 對此 勞保 達人 張秘 做出 解釋 YouTube 頻道 勞工 朋友 祕書 張秘書 影片 分享 案例 一名 52 勞工 年資 26 職業倦怠 不想 朝九晚五 決定 在家 接案 工作 符合 一次 領的 資格 選擇 加入 職業工會 加保 秘書以 例子 試算 四年 職業工會 加保 當小倩 決定 請領 一次 給付 年金 發現 最後 三年 平均 投保 薪資 僅為 2.5 萬元 勞保局 規定 一次 請領 給付 金額 相對 25000 45 基數 1125000 小倩 當初 選擇 直接 一次 請領 擁有 26 年資 37 基數 計算 最終 給付 金額 高達 169.46 萬元 45800 37 基數 1694600 也就是說 小倩 勞保 多繳 少領 56 9600 張秘書 強調 勞工 選擇 一次 請領 老年 給付 務必 注意 最後 投保 資薪 保持 最高 水平 得不償失 離職 退保 狀態 平均 投保 薪資 最後 基數 算法 15 一年 基數 16 每年 二個 基數 60 以前 年資 上限 30 年資 未滿 30 一個月 計算 年資 合計 每滿 平均 投保 薪資 發給 年資 合計 超過 15 年者 超過 部分 每滿 發給 最高 45 年資 26 給付 年資 15 22 37 基數 被保險人 60 繼續 工作者 60 以後 年資 最多以 年計 合併 60 以前 一次 請領 老年 給付 最高 50</td>\n",
       "      <td>財經</td>\n",
       "      <td>全球</td>\n",
       "    </tr>\n",
       "    <tr>\n",
       "      <th>5</th>\n",
       "      <td>元老 振榮 辭世 業界 緬懷 生前 海派 人緣 東森 新聞 中鋼前 總經理 振榮 參與 公司 階段 擴建 歷程 業界 享有 聲譽 晚年 飽受 癌症 摧殘 住進 安寧 病房 25 凌晨 辭世 享壽 77 令人 不勝唏噓 振榮 出生 高雄 鳳山 礦冶 畢業 考進 中鋼 出身 政治 世家 叔叔 義秋 外號 鳳山 政商 實力雄厚 政治 一途 1990 年代 擔任 總經理 中鋼 黃埔 一期 員工 基層 做起 一晃眼 12 民營化 過程 人脈 帶領 團隊 立法院 朝野 溝通 中鋼 國營 轉為 民營 慢慢 奠定 基礎 成為 台灣 最大 鋼鐵企業 振榮 傳出 病逝 各界 紛紛 緬懷 幹部 口吃 喝酒 我弟 豪邁 性格 印象 深刻 稱讚 對方 性情中人 喜歡 交朋友 公司 公關 經他 之手 順遂 公司 基層 親切 幹部 嚴格 幹部 以身作則 鋼鐵 回憶 振榮 當年 帶領 民營化 難能可貴 創造 時代 交棒給 下一代 翁朝棟 帶領 創下 建廠 50 年來 最高 營運 獲利 績效 振榮 退休 每次 提到 此事 有榮 傑出 幹部 拍胸脯 大聲 振榮 永遠 長官 文章 來源 中鋼前 總座 振榮 辭世 享壽 77 業界 緬懷 生前 海派 人緣 CTWANT 授權 轉載</td>\n",
       "      <td>財經</td>\n",
       "      <td>全球</td>\n",
       "    </tr>\n",
       "    <tr>\n",
       "      <th>10</th>\n",
       "      <td>美政府 維持 Apple Watch 進口 禁令 蘋果 上訴 東森 新聞 美國 總統 拜登 政府 選擇 否決 專利 侵權 裁定 蘋果公司 Apple 今天 表示 旗下 智慧 手錶 AppleWatch 最新型 號的 進口 禁令 提起 上訴 綜合 法新社 路透社 這項 針對 蘋果 最新 智慧 手錶 型號 禁令 今天 生效 AppleWatchSeries9 AppleWatchUltra2 無法 美國 實體 商店 或線 銷售 這項 禁令 大型 科技 公司 具有 價值 專利 展開 最新 法律 角力 谷歌 Google 針對 揚聲器 技術 Sonos 打官司 美國 國際貿易 委員會 ITC 10 裁定 禁止 進口 侵犯 一項 測定 血氧 含量 專利技術 蘋果 智慧 手錶 型號 這項 禁令 源起 Masimo 公司 2021 ITC 提出 申訴 這家 醫療 設備 製造商 指控 蘋果 侵犯 公司 感測 技術 測量 血氧 含量 專利 Masimo 這項 技術 發明 蘋果 挖角 員工 取得 技術 美國 貿易 代表 USTR 今天 聲明 指出 謹慎 商議 貿易 代表 戴琪 KatherineTai 決定 撤銷 ITC 這項 裁定 ITC 決定 2023 12 26 日成 最終 裁定 白宮 有權 撤銷 進口 禁令 狀況 鮮少 發生 蘋果 主張 ITC 裁決 錯誤 應予 撤銷 並向 美國聯邦 法院 提起 上訴 蘋果 發言人 表示 公司 針對 這項 禁令 華盛頓 美國聯邦 巡迴 上訴 法院 CourtofAppealsfortheFederalCircuit 提起 上訴 蘋果 今天 聲明 中說 強烈 同意 ITC 裁定 由此 產生 排除 命令 採取 措施 盡快 美國 顧客 恢復 供應 AppleWatchSeries9 AppleWatchUltra2 蘋果 請求 聯邦 巡迴 上訴 法院 暫停 禁令 至少 暫停 美國 海關 邊境 保護局 CBP 判定 重新 設計 過的 蘋果 智慧 手錶 型號 是否 侵犯 Masimo 專利 並在 法院 考慮 蘋果 請求 暫停 禁令 蘋果 美國 海關 邊境 保護局 預定 明年 12 做出 決定 耶誕 假期 前夕 蘋果 本月 21 已將 產品 自線 蘋果 商店 AppleStore 下架 實體 零售 商店 24 停止 販售</td>\n",
       "      <td>財經</td>\n",
       "      <td>全球</td>\n",
       "    </tr>\n",
       "    <tr>\n",
       "      <th>13</th>\n",
       "      <td>東南亞 旅遊 注意 星馬 元旦 將調 消費稅 東森 新聞 打算 東南亞 旅遊 民眾 注意 新加坡 將從 元旦 上調 消費稅 百分點 9% 因應 老齡化 人口 激增 醫療保健 成本 上漲 馬來西亞 將從 明年 銷售 服務 稅調 高到 8% 元旦假期 就要 民眾 規劃 出國 過去 東南亞 國家 注意 明年 元旦 新加坡 將把 商品 服務 稅率 8% 調升 9% 星國 穩定 增稅 擴大 財政 基礎 因應 醫療 照護 成本 高漲 馬來西亞 稅收 東南亞 國家 居後段 將從 明年 銷售 服務 調高 百分點 8% 糧食 飲料 通訊 必要 支出 不在 調升 範圍 各國 國際航班 持續 恢復 目前 中國 官方 發布 最新 數據 預估 元旦 期間 日均 出入境 旅客 達到 156 萬人次 2023 元旦 增長 超過 五倍 回到 2019 九成 水平</td>\n",
       "      <td>財經</td>\n",
       "      <td>全球</td>\n",
       "    </tr>\n",
       "    <tr>\n",
       "      <th>16</th>\n",
       "      <td>聯亞 生技 負責人 王長 怡傳 跳票 集團 財務狀況 引熱議 東森 新聞 聯亞 生技 集團 經營權 爭奪 多時 現任 負責人 王長 女兒 胡世一指 無權 擔任 董事長 一職 母女 分裂 派並 爆發 多起 訴訟 傳出 聯亞 生技 集團 王長 掌控 相關 公司 積欠 貨款 遭向 法院 聲請 支付 命令 追討 傳出 王長 財務 出現 狀況 跳票 聯亞生 技是 國發 基金 投資 項目 負責人 財務 未處理 影響 公司 營運 影響 廣大 納稅人 權益 週刊 調查 依據 今年 台灣 票據交換 所票 查詢 記錄 今年 11 28 王長 一筆 退票 日期 今年 10 18 金額 200 萬元 退票 紀錄 退票 理由 存款 不足 清償 贖回 日期 今年 10 27 王長 投資 有限公司 筆的 退票 紀錄 總金額 120 萬元 分別 今年 13 一張 票面額 1000 萬元 12 張支 票面額 分別 20 萬元 50 萬元 50 萬元 退票 理由 存款 不足 清償 日期 空白 週刊 調查 今年 新竹 地院 收到 聯亞 生技 集團 聯合 生物製藥 公司 追債 案件 分別 請求 給付 貨款 支付 命令 給付 價金 案件 金額 萬餘元 百萬元 不等 至今 10 部分 案件 陸續 和解 收到 款項 金額 法院 解決 傳出 王長 跳票 聯亞 生技 集團 財務狀況 相關 廠商 發熱 更多鏡 週刊 王長 胡世一 母女 鬧翻 聯亞 生技 經營權 持續 爭訟 聯亞 母女 紛爭 再起 兩派 發聲明 捍衛 立場 凍結 員工 薪資 羅生門 聯亞 女兒 反控 王長 說謊</td>\n",
       "      <td>財經</td>\n",
       "      <td>社會</td>\n",
       "    </tr>\n",
       "    <tr>\n",
       "      <th>...</th>\n",
       "      <td>...</td>\n",
       "      <td>...</td>\n",
       "      <td>...</td>\n",
       "    </tr>\n",
       "    <tr>\n",
       "      <th>1752</th>\n",
       "      <td>東京 旅館 挾持 持刀 扣押 人質 與警 對峙 小時 投降 東森 新聞 朝日 電視 記者 20 分鐘 11 25 左右 警視廳 涉嫌 禁閉 嫌犯 現行犯 逮捕 藍色 塑膠 一輛 載著 嫌犯 的車 出現 旅館 坐在 警車 後座 深色 外套 遮住 男子 涉嫌 挾持 人質 嫌犯 事情 發生 日本 東京都 東區 JR 鶯谷 車站 附近 2024 總統 立委 大選 選舉 一覽 線上 12 上午 點多 一間 旅館 員工 報警 一間 客房 傳出 男女 激烈 爭吵 聲音 男方 疑似 持有 刀械 警方 獲報 趕到 現場 房間 裡的 男子 把門 反鎖 女子 當成 人質 不肯 開門 房間 警方 對峙 旅館 周圍 還拉起 封鎖線 10 多名 警察 待命 氣氛 一度 緊張 警方 持續 勸說 之下 雙方 僵持 小時 男子 終於 女子 釋放 女子 意識 清楚 受傷 警方 涉嫌 禁閉 男子 拘留 逮捕 目前 還要 調查 確切 挾持 原因</td>\n",
       "      <td>全球</td>\n",
       "      <td>社會</td>\n",
       "    </tr>\n",
       "    <tr>\n",
       "      <th>1756</th>\n",
       "      <td>命喪 柬埔寨 遺體 腫脹 陳屍 公寓 房間 搜出 白粉 東森 新聞 柬埔寨 首都 金邊 天空 公寓 11 發生 一宗 死亡 案件 一名 40 台灣 男子 發現 屍在 房間內 全身 已經 明顯 腫脹 警方 調查過程 男子 住處 搜出 疑似 毒品 白色 粉末 柬中 時報 死者 一名 台灣 40 莊姓 男子 ChuangYiZe 旅遊 簽證 入境 柬埔寨 11 下午 30 金邊 雷西 郊區 天空 SkyTree 公寓 房間 裡被 發現 身亡 事發 當天 當地 警方 接到 保全 通報 立即 前往 公寓 調查 發現 這名 男子 陳屍 房間內 遺體 已經 明顯 腫脹 並在 調查過程 屋內 發現 疑似 毒品 白色 粉末 目前 法醫 驗屍 確認 男子 死於 心臟病 具體 死亡 時間 尚未 確定 遺體 安放 當地 宋仁芷 寺廟 2024 總統 立委 大選 選舉 一覽 線上 一名 台灣籍 40 李姓 男子 月初 命喪 柬埔寨 事發 金邊 俄羅斯 大道 當地 警方 調查 當時 一群 聚集 吸毒 喝酒 疑似 分贓 問題 爆發 口角 衝突 狂歡 變成 大亂鬥 延伸 閱讀 命喪 柬埔寨 詐團 分贓不均 互砍 年內 已多人 喪命 死者 一路 追到 樓頂 最終 無處可逃 利器 攻擊 倒臥 大樓 管理員 發現 嚇得 報案 當警消 人員 趕到 現場 死者 已經 失去 呼吸 心跳 失血過多 不治 身亡</td>\n",
       "      <td>全球</td>\n",
       "      <td>社會</td>\n",
       "    </tr>\n",
       "    <tr>\n",
       "      <th>1759</th>\n",
       "      <td>記憶 情緒 免疫 中國 青年 越來越 脆皮 東森 新聞 大生 一段 扭傷 骨折 石膏 整天 宿舍 室友 幫忙 跑腿 這名 學生 走路 小心 跌倒 不以 為意 一覺 醫院 檢查 發現 底骨 骨折 來個 健檢 發現 從頭到腳 大陸 大學生 22 頸椎病 頸椎 現在 一直 尾椎骨 骶骨 一塊 問題 最近 很火 話題 脆皮 大學生 覺得 一種 平時 鍛鍊 熬夜 作息 正常 營養 不均 長期 下來 大陸 年輕人 健康狀況 令人 堪慮 有人 狂歡 跨年 狂歡 一秒 腸胃炎 醫院 天天 生悶氣 胸部 硬塊 發現 腫瘤 年輕人 普遍 健康 問題 包括 記憶力 下降 43.4 情緒 穩定 42.2 免疫力 下降 41.9 睡眠 品質 視力 下降 不好 眼部 乾澀 脫髮 大學生 脆皮 第一次 校園 半路 2024 總統 立委 大選 選舉 一覽 線上 有點 誇張 脆皮 青年 成為 大陸 年輕人 標籤 數據 支撐 鄭州 一家 醫院 曾經 一個月 接診 1700 多名 年輕 患者 醫師 分析 健康 生活 方式 心理壓力 一大 威脅 大陸 民眾 遠遠 看到 粉色 毛茸茸 包裹 巴士 閃現 中街 一番 打探 脆皮 青年 守護 計畫 工作 年輕人 加強鍛鍊 還得 面臨 健康 警報 危機</td>\n",
       "      <td>全球</td>\n",
       "      <td>社會</td>\n",
       "    </tr>\n",
       "    <tr>\n",
       "      <th>1763</th>\n",
       "      <td>河南省 發生 煤礦 意外 至少 死亡 東森 新聞 新華社 中國 河南省 平頂山市 一處 煤礦 12 發生意外 造成 死亡 15 失蹤 目前 援救 工作 進行 初步 調查 這起 意外 發生 12 下午 55 屬於 平頂山 天安 煤業 公司 一處 礦坑 因煤 天然氣 噴出 釀災 新華社 平頂山市 緊急 處理 機構 當時 礦坑 內有 45 事故 發生 造成 死亡 15 失蹤 援救 人員 22 取得聯繫 意外 發生 共有 425 地底 作業 380 礦坑 救出 新華社 地方 當局 展開 救援 意外 調查 工作 正在 進行</td>\n",
       "      <td>全球</td>\n",
       "      <td>社會</td>\n",
       "    </tr>\n",
       "    <tr>\n",
       "      <th>1771</th>\n",
       "      <td>冷血 癌末 中獎 倒地 關心 彩券 東森 新聞 澳洲 一名 老人 罹病 剩下 半年 壽命 決定 生命 結束 前到 里斯本 一家 酒吧 老虎機 幸運地 獲得 獎金 正當 兌換 現金 突然 倒地 身邊 出現 一名 不懷好意 女子 將他 彩券 偷走 並在 兌換 獎金 直接 太陽報 澳洲 這名 80 老人 湯瑪士 ThomasPurtill 患病 剩下 生命 僅存 時間 做點 開心 里斯本 某間 酒吧 老虎機 一些 零錢 碰碰運氣 該家 酒吧 監視器 畫面 只見 湯瑪士 玩完 老虎機 準備 兌換 贏得 160 英鎊 台幣 6340 正當 彩券 投進 機器 突然 出現 一名 女子 似乎 擔心 湯瑪士 狀況 通知 酒吧 人員 報警 該名 女子 不懷好意 看見 湯瑪士 身旁 一張 彩券 迅速 撿起 機器 兌換 現金 放入 口袋 並盡速 離開 現場 送往 醫院 治療 湯瑪士還 住院 當他 問到 看待 小偷 有人 過來 給我 10 元給 孩子 牛奶 一定 會給 相當 不解 這名 女子 要用 醫師 告知 癌症 已經 晚期 僅剩 生命 獎金 遺失 酒吧 人員 得知 湯瑪士 狀況 感到 相當 並對 償還 獎金 湯瑪士 人性本善 信心 再次 復燃 警方 呼籲 希望 認識 該名 女子 出面 協助 警方 辦案 犯罪 行為 模仿 文章 來源 冷血 澳洲 癌末 老虎機 中獎 倒地 關心 彩券 換錢 CTWANT 授權 轉載</td>\n",
       "      <td>全球</td>\n",
       "      <td>社會</td>\n",
       "    </tr>\n",
       "  </tbody>\n",
       "</table>\n",
       "<p>410 rows × 3 columns</p>\n",
       "</div>"
      ]
     },
     "execution_count": 54,
     "metadata": {},
     "output_type": "execute_result"
    }
   ],
   "execution_count": 54
  },
  {
   "metadata": {},
   "cell_type": "markdown",
   "source": "# 看錯誤預測的社會樣本"
  },
  {
   "cell_type": "code",
   "metadata": {
    "ExecuteTime": {
     "end_time": "2024-04-08T01:46:04.466537Z",
     "start_time": "2024-04-08T01:46:04.456065Z"
    }
   },
   "source": "false_pred.loc[false_pred['artCatagory']=='社會', :].head(50)",
   "outputs": [
    {
     "data": {
      "text/plain": [
       "                                                                                                                                                                                                                                                                                                                                                                                                                                                                                                                                                                                                                                                                                                                                                                                                                                                                                                                                                                                                                                                                                                                                                                                                                                                                                                                                                                                                                                                                                                                                                                          words  \\\n",
       "48                                                                                                                                                                                                                                                                                                                                                                                                                                                                                                                                                                                                                                                                                                                                                                                                                                                                                                                                                                                     趙少康 口誤 賴清德 總統 道歉 連三喊 侯友宜 東森 新聞 搭配 手勢 振振有詞 民進黨 主帥 變成 藍營 副手 首場 唯一 副手 政見發表 趙少康 第一輪 口誤 擾亂 腳步 回合 對手 民進黨 總統 候選人 蕭美琴 趙少康 先生 政壇 前輩 記得 30 年前 直說 民進黨 執政 中華民國 滅亡 藍綠 政黨 候選人 當選 中華民國 一天 消失 國民黨 總統 候選人 趙少康 我講 開玩笑 民進黨 執政 地方 不升 中華民國 國旗 決定 投給 2024 大選 命定 總統 立即 一下 整場 辯論會 趙少康 綠營 對柯 陣營 副手 吳欣盈 台語 經濟 點評 民眾黨 總統 候選人 吳欣盈 台灣 人愛說 前進 JohnnieWalker 前進 愛拚 會贏 感覺 當時 亞洲 四小龍 領先 至今 已經 落後 許多 國家 三十年 政見 核心 打造 美好 台灣 經濟 著手 國民黨 總統 候選人 趙少康 女士 兩輪 發言 第一輪 裡面 特別 提到 經濟 重要 完全 認同 有別 副手 照稿 趙少康 善用 口條 實力 更要 延攬 綠白 副手 能力 國民黨 總統 候選人 趙少康 女士 美國 工作 認真 注意 執政 一定 蕭美琴 繼續 外交 外交 不分 黨派 重用 吳欣盈 女士 這下 辯論會 變成 招攬 人才 集散地 藍綠 最佳 副手 外界 認定   \n",
       "49                                                                                                                                                                                                                                                                                                                                                                                                                                                                                                                                                                                                                                                                                                                                                                                                                                                                                                                                         緊抓 批賴 冷柯 策略 趙少康 轟賴 工寮 綠能 火力 東森 新聞 總統 政見發表 趙少康 一上台 似乎 同場 兩個 對手 開局 民進黨 總統 候選人 賴清德 國民黨 總統 候選人 趙少康 房屋 房屋 根本 登記 房屋 根本 合法 房屋 面積 755 平方公尺 等於 228 地方 這是 工寮 萬里 老家 捲入 爭議 賴清德 主動 20 號的 政見會 承諾 整棟 房子 交付 公益 信託 礦工 生活 紀念館 趙少康 痛批 這根 本是顆 大型 煙霧彈 國民黨 總統 候選人 趙少康 工寮 三大騙 第一 大騙 礦區 完成 居住權 手續 以後 整個 礦區 居住權 通通 完成 你講 三年 完成 公益 信託 公益 信託 公益 信託 受益人 董事 辭職書 辭職書 簽名 賴清德 決定 投給 2024 大選 命定 總統 立即 一下 再度 搬出 董事長 辭職書 要賴 清德 直球 對決 第二輪 談到 能源 政策 話鋒一轉 繼續 民進黨 能源 政策 國民黨 總統 候選人 趙少康 以前 反核 以前 2025 所謂 能源 政策 徹底 失敗 政策 台電 去年 多少錢 知道 台電 去年 千億 中油 多少錢 知道 中油 去年 千億 天然氣 今年 中油 還要 幾千 台電 還要 幾千 這都 民脂民膏 拿來 不好 錯誤 政策 貪汙 可怕 最好 例子 最好 明證 明明 總統 政見發表 趙少康 整場 指賴 清德 知道 白綠 兩名 副手 心理 作何 感想   \n",
       "50                                                                                                                                                                                                                                                                                                                                                                                                                                                                                                                                                                                                                                                                                                                                                                                                                                                                                                                                                                                                                                                                                                                                                                                                                                                                  副手 唯一 政見會 思緒 清晰 表現 最好 東森 新聞 22 晚間 政見會 結束 國民黨 總統 候選人 侯友宜 書上 搭檔 趙少康 照片 附上 顧好 台灣 好康 字樣 內文 寫下 趙少康 思緒 清晰 辯才無礙 整場 發言 金句 表現 最好 一位 看得出 侯友宜 真的 趙少康 表現 十分 肯定 中途 趙少康 口誤 心目 掃黑 英雄 侯友宜 講成 賴清德 決定 投給 2024 大選 命定 總統 立即 一下 趙少康 會後 受訪 隨即 更正 第一 時間 侯友宜 臉書 留言 謝謝 友宜兄 肯定 當選 一定 最好 總統 一起 顧台灣 好康 距離 大選 20 多天 侯康 兩人 搭檔 整場 選戰 最後 衝刺   \n",
       "51                                                                                                                                                                                                                                                                                                                                                                                                                                                                                                                                                                                                                                                                                                                                                                                                                                                                                                                                                     民調 總統 政見會 最新 支持 出爐 侯康 緊追 賴蕭 東森 新聞 美麗 電子報 23 公布 最新 民調 賴蕭配 支持 37.5 35 40 之間 徘徊 侯康配 32.6 緊咬 差距 僅有 4.9 百分點 不斷 緊追 賴蕭配 一直 無發將 差距 拉開 以外 柯盈 配則 持續 墊底 支持 16.3 相較 昨天 公布 95 民調 支持 度上 賴蕭配 侯康配 無太大 變化 柯盈 配則 下探 近期 新低 超過 一個月 超過 支持 明年 總統 是否 換黨 賴蕭配 侯康配 維持 僅小 差距 柯盈 配則 繼續 墊底 僅有 14.2 支持 換成 民眾黨 政黨 輪替 投給 在野黨 民調 最高者 一問 認同 下降 47.9 支持 在野黨 支持 最高 侯康配 決定 投給 2024 大選 命定 總統 立即 一下 美麗 電子報 民調 2023 17 持續 明年 12 連續 日為 2024 年則 連續 日為 追蹤調查 這次 調查 時間 12 20 日至 22 追蹤 民調 96 民調 全市 抽樣 設計 採用 中華電信 住宅 電話簿 基礎 電腦 資料庫 採用 比分 隨機抽樣 設計 確保 登錄 電話 門號 家戶 能夠 納入 調查 抽取 電話 門號 透過 CATI 系統 主機 派發 號碼 進行 隨機 跳號 處理 替換 撥打 電話 門號 此次 調查 成功 完訪 1470 抽樣誤差 最大值 信賴 水準 95 時為 2.6   \n",
       "54                                                                                                                                                                                                                                                                                                                                                                                                                                                                                                                                                                                                                                                                                                                                                                                                                                                                                                                                                                                                     顧好 台灣 趙少康 韓國 站台 拜票 東森 新聞 國民黨 總統 候選人 趙少康 來到 台中 立委 候選人 江啟 站台 進場 場內 鄉親 熱情 趙少康 站台 台中大 家長 盧秀燕 連許淑華 韓國 前高雄 市長 韓國 餐廳 裡面 道菜 滿漢全席 男人 鼻子 女子 嘴巴 鼻樑 英挺 代表 將來 人中之龍 曉得 有沒有 厲害 一下 江啟 太太 好不好 看到 才華 決定 投給 2024 大選 命定 總統 立即 一下 韓國 誇起 江啟 從政 能力 一路 誇到 外表 趙少康 則是 語出驚人 國民黨 總統 候選人 趙少康 昨天晚上 我講 江啟 台灣 和平 恐怖份子 一點 誇張 賴清德 恐怖份子 江啟 東勢 最好 委員 山神 保護神 對抗 恐怖份子 趙少康 一時 口誤 嚇壞 在場 所有人 藍營 政治 明星 通通 台灣 顧好 對手 綠營 所說 中台灣 對手 侯友宜 盧秀燕 市長 盧秀燕 對手 應該 中部 地區 700 選民 民進黨 執政 重南 輕北 中部 捷運 包括 台中市 包括 未來 延伸 南投 現在 鬆口 要給 捷運 盧秀燕 認為 中部 選民 執政黨 失望 地方 人士 指出 一直 台灣 搖擺 勝負 預料 這次 總統大選 藍綠 雙方 勤跑 台灣 打出 決戰 中台灣 口號 想要 中彰 投苗 拿下 關鍵 一席   \n",
       "58                                                                                                                                                                                                                                                                                                                                                                                                                                                                                                                                                                                                                                                                                                                                                                                                                        韓國 問江 啟臣 鼻子 厲害 江妻 才華 東森 新聞 民進黨 總統 候選人 賴清德 搶攻 中台灣 身為 藍營 母雞 市長 盧秀燕 固守 中部 藍營 小雞 江啟 站台 這場 造勢 出動 國民黨 母雞 盧秀燕 分區 第一名 韓國 韓國 上場 金句 連發 引起 現場 笑聲 不斷 國民黨 分區 韓國 有的點 薑絲 大腸 有的點 梅干 扣肉 一下 客家 小炒 發現 江啟 代表 豐原 東勢 餐廳 裡面 一道 滿漢全席 好多 客家菜 市長 國民黨 分區 龍頭 韓國 立委 江啟 站台 菜色 形容 江啟 滿滿 一桌 大菜 外貌 誇讚 五官 過人之處 國民黨 分區 韓國 王淺秋 突然 提醒 市長 有沒有 發現 江啟 委員 鼻子 特別 男人 鼻子 女人 嘴巴 江啟 有點 尷尬 韓國 靈魂 拷問 決定 投給 2024 大選 命定 總統 立即 一下 國民黨 分區 韓國 vs 江啟 妻子 我講 這是 王淺秋用 女性 敏銳 觀察力 看出 江啟 鼻子 很大 哇江 啟臣 人中之龍 曉得 有沒有 厲害 我問 一下 江啟 太太 好不好 才華 造勢 場合 歡樂 滿點 燕子 市長 上陣 氣氛 突然 改變 批評 民進黨 市長 盧秀燕 民進黨 專門 山城 作對 民進黨 執政 新社 的花海 花毯 節給 停掉 怒槓 中央 執政 大小 市長 盧秀燕 民進黨 重南 輕北 中部 現在 民進黨 候選人 總統 總統 立法委員 面對 中部 地區 民眾 全國 民眾 失望 燕子 市長 小雞 站台 拚場 對抗 總統大選 來說 決戰 中台灣 盧秀燕 執政 優勢 化為 選票 立委 選戰 江啟 更是 市長 接班 熱門 人選 更是 壓力 賴清德 舉辦 造勢 盧秀燕 固守 中台灣 防止 綠營 侵門 踏戶   \n",
       "62                                                                                                                                                                                                                                                                                                                                                                                                                                                                                                                                                                                                                                                                                                                                                                                                                                                                                                                                                        新竹 農地 爭議 柯媽 違法 柯文哲 還被 田僑 東森 新聞 民眾黨 總統 候選人 柯文哲 希望 新竹 柯文哲 故鄉 應當 台灣 政治 起點 現身 家鄉 造勢 新竹市 體育館 內千人 相挺 似乎 民眾黨 總統 候選人 柯文哲 感到 振奮 來到 新竹 繼續 農地 爭議 追著 柯文哲 母親 何瑞英 違法 柯文哲 田僑 媽媽 再度 兒子 抱屈 柯文哲 強調 知道 這塊 土地 細節 父母 妻子 佩琪 管理 決定 投給 2024 大選 命定 總統 立即 一下 柯文哲 妻子 佩琪 知道 講過 放在心上 年夜飯 講過 坐在 吃飯 婆婆 聊天 講過 事情 後續 所謂 知道 應該 後續 關心 民眾黨 總統 候選人 柯文哲 曉得 佩琪 處理 你問 搞不清楚 柯文哲 妻子 佩琪 知道 一家 公司 每年 報稅 有報 看一看 曉得 搞不好 佩琪 強調 這塊 土地 稅金 之外 新竹市 證實 收到 柯文哲 134 停車場 租金 收入 民眾黨 出現 內鬨 秘書長 立功 逼宮 達成 目標 應該 請辭 分區 表示 基層 民眾黨 總統 候選人 柯文哲 應該 一致 對外 認真 選舉 時間 記者會 種種 紛擾 似乎 衝擊 柯文哲 選情 最新 民調 顯示 賴蕭配 持續 站穩 第一 獲得 37.5 支持 侯康 配則 32.6 緊追 柯吳配 繼續 墊底 相較 一波 數字 下跌 1.4 百分比 迅速 止血 柯文哲 傷透 腦筋   \n",
       "64                                                                                                                                                                                                                                                                                                                                                                                                                                                                                                                                                                                                                                                                                                                                                                                                                                                                                                                                                                                                                            盧秀燕 回防 中部 綠營 中部 真正 對手 東森 新聞 2024 大選 倒數 20 多天 市長 盧秀燕 結束 議會 備詢 展開 全國 巡迴 輔選 鞏固 彰化 苗栗 立委 綠營 認為 中台灣 真正 對手 侯友宜 盧秀燕 急派 行政院長 陳建仁 南下 會同 蔡其昌 林靜儀 視察 中海 鐵路 雙軌 規劃 辦理 情形 盧秀燕則 對此 表示 中部 選民 執政黨 失望 23 日藍營 政治 明星 通通 台灣 綠營 認為 中台灣 對手 侯友宜 盧秀燕 說法 盧秀燕 表示 對手 應該 中部 地區 700 選民 民進黨 執政 重南 輕北 中部 捷運 包括 台中市 包括 未來 延伸 南投 現在 鬆口 要給 捷運 盧秀燕 認為 中部 選民 執政黨 失望 地方 人士 指出 一直 台灣 搖擺 勝負 預料 這次 總統大選 藍綠 雙方 勤跑 台灣 打出 決戰 中台灣 口號 想要 中彰 投苗 拿下 關鍵 一席 決定 投給 2024 大選 命定 總統 立即 一下 盧秀燕 擁有 立委 資歷 去年 市長 選舉 大勝 蔡其昌 27 萬票 奠定 霸天 地位 每次 站台 中部 小雞 士氣 大振 建設 預算 槓上 中央 綠營 危機感 派出 高層 中部 護盤 綠營 中台灣 對手 盧秀燕 說法   \n",
       "66                                                                                                                                                                                                                                                                                                                                                                                                                                                                                                                                                                                                                                                                                                                                                                                                                                                                                                                                                                                                                                                                                                                                                                                            農地 挖出 營業 廢棄物 柯文哲 2008 購買 東森 新聞 民眾黨 總統 候選人 柯文哲 爆出 名下 農地 違規 使用 鋪上 柏油 出租 遊覽車 業者 停車 新竹市 政府 要求 30 天內 改善 民眾黨 找來 廠商 機具 進場 刨除 瀝青 回歸 農地 使用 開挖 公尺 發現 許多 紅磚 疑似 事業 廢棄物 引來 質疑 對此 柯文哲 桃園 市場 掃街 做出 回應 民眾黨 總統 候選人 柯文哲 挖起來 廢棄物 擺到 哪裡 一定 標準 拜託 新竹 市議員 李國璋 處理 去過 所知 當年 買來 已經 混凝土 裡面 東西 2008 以前 決定 投給 2024 大選 命定 總統 立即 一下 柯文哲 強調 農地 事業 廢棄物 2008 購買 之前 強調 無關 開挖 進度 遇到 周末 暫時 停工 引來 部分 民眾 開酸 大選 農地 爭議 得燒   \n",
       "67                                                                                                                                                                                                                                                                                                                                                                                                                                                                                                                                                                                                                                                                                                                                                                                                                                                                                                                                                                                                                                       侯康 平安夜 前夕 造勢 支持者 聖誕樹 心願 台北 東森 新聞 穿著 雨衣 頂著 寒風 國民黨 侯友宜 趙少康 首度 總統府 舉辦 造勢 支持者 走上 街頭 力挺 擠爆 達格蘭 大道 主辦單位 特別 布置 聖誕樹 支持者 心願 每個 人頂 下雨 便利 原子筆 一寫 許多 上頭 希望 侯友宜 當選 人喊出 加油 許願 國民黨 這場 選戰 拿下 勝利 支持者 靠山 支持 國民黨 下一代 美好 沉默 勇敢 看到 年紀 七八十歲 老人 理由 不站 決定 投給 2024 大選 命定 總統 立即 一下 凱道 人潮 不斷 增加 蔓延到 景福門 現場 還能 看到 國民黨 青年團 長輩 拉票 國民黨 青年團 拜託 小孩子 投給 侯友 宜侯康配 號侯康 配要 小孩子 大哥 謝謝 這裡 小額 募款 謝謝 國民黨 支持者 年齡層 比較 缺乏 年輕 選票 國民黨 青年團 仿照 柯文哲 客廳 革命 希望 長輩 回家 孩子 拉票 搶攻 年輕 選票 國民黨 青年團 執行長 過去 柯文哲 年輕人 回去 說服 家長 希望 家長 年輕人 雙向 溝通 選戰 白熱化 進入 倒數 國民黨 首度 總統府 號召 人力 侯康配 不放過 選前 任何時刻 進行 最後 衝刺   \n",
       "68                                                                                                                                                                                                                                                                                                                                                                                                                                                                                                                                                                                                                                                                                                                                                                                                                                                                                                                韓狂 轟綠 大官 快樂 辛苦 分區 神經病 東森 新聞 國民黨 分區 提名 韓國 vs 支持者 民進黨 分區 推出 王義川 國民黨 四川 川比川 看穿 藍營 12 23 凱道 造勢 前高雄 市長 韓國 開口 便知 有沒有 只見 韓國 猛烈 調侃 民進黨 分區 第十三名 提名 王義川 國民黨 分區 提名 韓國 每天 電視 耍寶 表現 低落 神經病 每天 酒測 立法院 立法委員 監督 行政部門 知道 決定 投給 2024 大選 命定 總統 立即 一下 韓國 高層次 痛批 綠色 執政 苦不堪言 國民黨 分區 提名 韓國 vs 支持者 民進黨 執政 之下 大官 快樂 辛苦 國民黨 能夠 重新 執政 一定 大官 辛苦 快樂 好不好 韓國 直播 主們 一同 希望 侯康 入主 總統府 氣勢如虹 台灣 母雞 說話 同樣 基層 情緒 熱血沸騰 市長 盧秀燕 vs 支持者 選出 不好 船長 亂開 指揮 驚濤駭浪 擱淺 全軍覆沒 民進黨 盧秀燕 支持者 一同 凱道 強調 一次 一次 國民黨 總統府 好近 市長 盧秀燕 前面 兩次 總統大選 並不 順利 這次 感覺 距離 勝選 最近 一次 最後 一哩路 盧秀燕 猛批 民進黨 連前 總統 馬英九 致詞 忍不住 調侃 賴清德 老家 爭議 總統 馬英九 打死 缺乏 國家 領導人 應該 格局 氣度 以前 孟姜女 萬里長城 今見 賴神 男泣 萬里 違建 藍營 母雞 齊聚 聲嘶力竭 高喊 侯康配 當選 13 綠地 翻轉 撥雲見日 藍天 再現   \n",
       "69                                                                                                                                                                                                                                                                                                                                                                                                                                                                                                                                                                                                                                                                                                                                                                                                                                                                                                                                                                                             柯文哲 岡山 三粉 造勢 活動 號稱 湧入 萬人 東森 新聞 活動 主持人 清茂 台灣 選擇 柯文哲 柯文哲 前進 高雄 岡山 進場 旗海 漂揚 20 分鐘 上台 主辦單位 號稱 現場 湧入 四萬人 一上台 柯文哲 民眾黨 總統 參選人 柯文哲 我要 感謝 清茂兄 知道 這為 子孫 未來 台灣 未來 特別 來辦 這場 不惜 開除黨籍 主持人 韓粉 五虎將 清茂是 國民黨 遭到 撤銷 黨籍 處分 這場 三粉 造勢 活動 希望 召集 柯粉 韓粉 郭粉 柯文哲 韓粉 感情 細數 韓國 過往 還說 招攬 韓國 擔任 市府 顧問 當年 民進黨 阻擋 副手 民眾黨 總統 參選人 柯文哲 韓國 算了 市長 沒來 顧問 參他 有來 現在 總統 搭檔 應該 決定 投給 2024 大選 命定 總統 立即 一下 吸韓 粉票 郭粉票 柯文哲 不放過 民眾黨 總統 參選人 柯文哲 一些 政策 繼續執行 下去 拉攏 選民 柯文哲 炮火 沒少 炮口 對準 賴皮 猛攻 民眾黨 總統 參選人 柯文哲 vs 民眾黨 立委 參選人 尹儷 產權 信託 應該 要問 法律 專家 知道 產權 東西 信託 離譜 濁水溪 以南 民眾黨 一席 立委 參選 阿伯 當起 母雞 催票 郭粉 韓粉 喊話 這場 三粉 造勢 能否 翻轉 選情 突圍 成功 各界 矚目   \n",
       "72                                                                                                                                                                                                                                                                                                                                                                                                                                                                                                                                                                                                                                                                                                                                                                                                                                                                                                                                                                                                                                                                           賴清德稱 中華民國 神話 侯友 宜怒 資格 總統 東森 新聞 侯康凱 造勢 國民黨 總統 參選人 侯友宜 萬人 歡呼聲 走進 會場 力拼 政黨 輪替 催票 國民黨 總統 參選人 侯友宜 12 23 中華民國 神話 鄙視 中華民國 看不起 中華民國 憲法 值得 中華民國 總統 值得 侯友宜 捍衛 中華民國 狂轟猛 民進黨 總統 參選人 賴清德 國民黨 總統 參選人 侯友宜 12 23 標準 土生土長 民進黨 出一 張嘴 愛台灣 生命 顧台灣 背叛 台灣 來說 賣台 要說 親中 決定 投給 2024 大選 命定 總統 立即 一下 選舉 剩抹紅 招數 侯友宜 賴清德 所屬 派系 新潮流 國民黨 總統 參選人 侯友宜 12 23 賴清德 黑金 裝傻 裝作 賴清德 縱容 新潮流 同流合汙 侯友宜 貪腐 爭議 不滿情緒 國民黨 總統 參選人 趙少康 出招 搶聲量 國民黨 總統 參選人 趙少康 12 23 市長 政見 一條 喜歡 行憲紀念 日要 放假 意義 行憲紀念 民進黨 根本 尊重 憲法 年輕人 24 晚上 通宵 電玩 選戰 最後 一哩路 侯康 出擊 黃金交叉   \n",
       "74                                                                                                                                                                                                                                                                                                                                                                                                                                                                                                                                                                                                                                                                                                                                                                                                                                                                                                                                                                                                                                                                             首長 催票 燕子 輔選 侯喊 燒聲 固守 北台 東森 新聞 燕子 飛回 巢穴 市長 盧秀燕 回到 台中 侯友 宜大 造勢 固守 中台灣 賣力 聲音 知道 市長 盧秀燕 三組 候選人 裡面 侯友 宜有 證明 生命 保護 講到 大燒聲 幾聲 後頭 民代們 趕緊 送上 礦泉水 潤喉 繼續 繼續 市長 盧秀燕 船長 重要 上頭 船長 上頭 輪機長 上頭 二副 上頭 水手 船員 重要 決定 投給 2024 大選 命定 總統 立即 一下 船長 比擬 侯友宜 身為 船長 縣市 首長 要說 北台 最大 母雞 自然 台北 市長 萬安 支持者 萬安 游淑慧 來到 社子 市場 萬安 這回 選戰 名言 永遠 艱困 選區 身體力行 艱困 社子島 陪同 小雞 游淑慧 掃街 拜票 萬安 魅力 黨派 認同 支持者 來給 一下 看到 萬安 就給 抱上去 萬安 人氣 市場 婆媽 抓著 咬耳朵 藍營 輔選 最大 利器 台北 市長 萬安 一路 13 這段 期間 太太 孩子 抱歉 體諒 一定 13 之後 好好 補償 萬安 儼然 藍營 輔選 大將 燕子 盧秀燕 一同 全台 透透 能出 幾分   \n",
       "75                                                                                                                                                                                                                                                                                                                                                                                                                                                                                                                                                                                                                                                                                                                                                                                                                                                                                                                                                                                                                                                                                                                                                             造勢 萬人 侯友宜 拚到 最後 就會贏 東森 新聞 雙手 OK 空中 國民黨 總統 候選人 侯友 宜用 堅持 首歌 台下 萬名 支持者 信心 喊話 國民黨 總統 候選人 侯友宜 一起 拚到 最後 一哩路 堅持 首歌 就會贏 總統大選 決戰 衝刺 侯友宜 民進黨 選舉 一套 劇本 抹紅 抹黑 國民黨 總統 候選人 侯友宜 警政 署長 有人 水果 我爸 趕出去 所有人 給我 檢驗 侯友 宜有 拿過 一塊錢 侯友 宜有 黑金 掛勾 侯友宜 有沒有 做過 對不起 事情 決定 投給 2024 大選 命定 總統 立即 一下 面對 一成不變 選舉 招數 侯友宜 搬出 爸爸 例子 辯護 國民黨 總統 候選人 侯友宜 哪時 戰爭 有榮民證 爸爸 對得起 中華民國 大陸 參加 國共 內戰 國民黨 底下 報效 國家 這是 一輩子 榮譽 侯友宜 展現 全家 愛國心 主動 議題 藍綠 對決 態勢 升溫 決戰 中台灣   \n",
       "76                                                                                                                                                                                                                                                                                                                                                                                                                                                                                                                                                                                                                                                                                                                                                                                                                                                                                                                                                    韓粉票 韓若當 顧問 總統 發生 東森 新聞 這場 名為 三粉 造勢 柯文哲 岡山 造勢 支持者 台灣 各地 人數 真不少 號召 郭粉 柯粉 韓粉 聚集 有人 高舉 證明 韓粉 曉得 原因 柯文哲 致詞 自爆 民眾黨 總統 參選人 柯文哲 韓國 算了 市長 沒來 顧問 有來 現在 總統 搭檔 應該 柯文哲 不惜 重提 往事 韓粉票 這叫 正牌 副手 吳欣盈 何以堪 民眾黨 總統 參選人 吳欣盈 市長 Leve 已經 總統 再選 總統 主席 適合 最好 副手 選擇 決定 投給 2024 大選 命定 總統 立即 一下 名分 鞏固 一下 國民黨 來說 搏君 一笑 國民黨 總統 參選人 趙少康 隨便 柯文哲 覺得 柯文哲 無所謂 他講 問題 發生 韓國 沒去 市政 顧問 白講 老的辣 還要 韓粉 韓國 省油的燈 國民黨 分區 第一名 韓國 對國瑜 不離 不棄 熱情 朋友 台上 幾十位 直播 今天 通通 來用 行動 代表 國民黨 支持 正宗 韓粉 台北 凱道 韓國 用意 明顯 要力 岡山 真假 韓粉們 造勢 還在 臉書 發文 喊話 支持者 全力支持 侯康配 維護 韓字 招牌 正當性 國民黨 總統 參選人 趙少康 冒牌 打著 韓國 名號 號召 韓粉 支持 柯文哲 這都 正牌 韓粉 正牌 韓國 直播 要分 清楚 韓粉 支持 國民黨 支持 侯康配 真假 韓粉 台北 高雄 比一比 藍白 陣營 總歸一句   \n",
       "77                                                                                                                                                                                                                                                                                                                                                                                                                                                                                                                                                                                                                                                                                                                                                                                                                                                                                                                                                                                                                                                                                                                                                                                                      約翰 走路 挨批 背離 民意 吳欣盈 不需 大作文章 東森 新聞 民眾黨 總統 候選人 吳欣盈 日前 政見發表 表示 小時候 喜歡 JohnnieWalker 代表 台灣 向前走 引發 外界 熱議 解釋 提到 JohnnieWalker 解釋 台灣 向前走 意思 需要 大作文章 現場 高歌 民眾黨 總統 候選人 吳欣盈 小時候 喜酒 辦桌 尾牙 JohnnieWalker 標誌 約翰 走路 向前走 一時 失眠 怨嘆 愛拚 會贏 唱歌 重點 以前 向前走 希望 現在 覺得 向前走 年輕人 躺平 看不到 未來 民眾黨 總統 候選人 吳欣盈 星期五 政見 重要 一點 台灣要 向前走 希望 得到 未來 現在 強調 希望 塑造 未來 20 當我 寶貝 長大 台灣 社會 決定 投給 2024 大選 命定 總統 立即 一下   \n",
       "78                                                                                                                                                                                                                                                                                                                                                                                                                                                                                                                                                                                                                                                                                                                                                                                                                                                                                                                                                                                                                                                                                                                                                                       快訊 基隆 市長 謝國 父親 謝修平 辭世 享壽 81 東森 新聞 基隆 市長 謝國 24 臉書 發文 表示 父親 謝修平 辭世 享壽 81 強調 爸爸 生前 特別 交代 勞煩 各界 從簡 謝謝 關心 謝國 父親 謝修 平出 生於 1941 基隆 地區 政治 世家 成員 父親 謝清 派系 事業 繼承者 掌控 謝修平 1973 當選 臺灣省 議會 第五屆 議員 1984 當選 基隆市 議會 第十屆 議員 擔任 議長 991 擔任 第二屆 國民大會 代表 任期 結束 再度 投身 商界 其妻 林曼麗 集團 林玉嘉之女 生有 二子 長子 謝國棟 次子 謝國 今天 平安夜 親愛 爸爸 謝修平 主席 凌晨 離世 家人 難過 謝謝 各界 朋友 關心 面對 爸爸 離開 現在 需要 一點 時間 處理 後續 無法 逐一 回覆 深感 抱歉 爸爸 生前 特別 交代 勞煩 各界 從簡 謝謝 關心   \n",
       "80                                                                                                                                                                                                                                                                                                                                                                                                                                                                                                                                                                                                                                                                                                                                                                                                                                                                                                                 趙少康 桃園 站台 侯康配 當選 台灣 一定 和平 東森 新聞 國民黨 總統 候選人 趙少康 24 日到 桃園 參加 造勢 活動 表示 認為 備戰 加強 國防 溝通 認為 兩岸 溝通 打仗 侯康配 當選 以後 台灣 一定 和平 趙少康 參加 國民黨 桃園市 選區 立委 參選人 邱若華 八德 舉辦 造勢 活動 致詞 表示 立法院 需要 財經 人才 國民黨 總統 候選人 侯友宜 說將 組成 經濟 內閣 中央 政府 立法 院內 財經 一定 重要 邱若華有 財經 專長 留學 英國 英國 全世界 經濟 重鎮 將來 立法院 一定 會替 國家 帶來 政策 監督 趙少康 指出 現在 年輕夫妻 買不起 房子 養不起 孩子 國安 問題 民進黨 執政 兩岸 緊張 年輕人 服兵役 期間 變成 經濟 數字 好像 很漂亮 大部分 不好 財富 平均 畢業 年輕人 起薪 不高 經濟 政策 不行 外交 丟了 多個 邦交國 詐騙 民進黨 只能 喊抗 中保 效果 越來越少 認為 備戰 加強 國防 溝通 決定 投給 2024 大選 命定 總統 立即 一下 趙少康 總是 有人 覺得 民進黨 做得還 不錯 曹操 秦檜 幾個 朋友 覺得 民進黨 做得好 繼續 支持 覺得 民進黨 不好 手上 選票 民進黨 教訓 侯友宜 趙少康 當選 以後 台灣 一定 和平 兩岸 溝通 打仗 國民黨 主席 朱立倫 表示 侯康配 正式 宣布 民調 落後 已經 追平 最後 階段 團結 所有 力量 集中 選票 支持 國民黨   \n",
       "82                                                                                                                                                                                                                                                                                                                                                                                                                                                                                                                                                                                                                                                                                                                                                                                                                        藍兩大 母雞 跨區 當侯 分身 盧衝 北部 蔣固 屏東 東森 新聞 藍營 縣市 首長 侯康配 最大 分身 尤其 市長 盧秀燕今 24 回防 替侯友 站台 輔選 致詞 沙啞 咳嗽 下午 台北 小雞 火力 全開 痛批 民進黨 另一頭 台北 市長 萬安 持續 挺進 藍營 艱困 選區 社子島 跨區 屏東 衝刺 小雞 掃街 拜票 市長 盧秀燕 國家 貪污腐敗 桃花 四起 情況 之下 在野黨 一定 集中力量 強大 在野黨 能夠 制衡 燕子 飛到 台北市 大安區 市長 盧秀燕 北上 替羅智強 站台 劈頭 民進黨 火力 全開 市長 盧秀燕 民進黨 能源 政策 錯誤 健康 發電 決定 投給 2024 大選 命定 總統 立即 一下 輔選 力道 聽聽 這就 知道 市長 盧秀燕 侯友 宜有 證明 生命 保護 講到 大燒聲 幾聲 後頭 民代們 趕緊 送上 礦泉水 潤潤 喉嚨 繼續 繼續 市長 盧秀燕 船長 重要 上頭 船長 上頭 輪機長 上頭 二副 上頭 水手 船員 重要 船長 比擬 侯友宜 身為 船長 縣市 首長 要說 北台 最大 母雞 自然 台北 市長 萬安 領軍 衝刺 艱困 選區 社子島 還得 跨區 新北 三重 輔選 主持人 投出 好球 縣市 新北市 明堂 站台 鼓勵 鼓勵 台灣 棒球 發展 新北 平安夜 這天 直衝 屏東 衝刺 南部 選情 台北 市長 萬安 看得出來 眼神 透露 政黨 輪替 渴望 未來 市長 帶領 國家 充滿 高度 期待 時間 黨內 同志 太太 孩子 說聲 抱歉 台北 市長 萬安 一路 13 這段 期間 太太 孩子 抱歉 體諒 一定 13 之後 好好 補償 萬安 儼然 藍營 輔選 大將 燕子 盧秀燕 一同 全台 透透 能出 幾分   \n",
       "83                                                                                                                                                                                                                                                                                                                                                                                                                                                                                                                                                                                                                                                                                                                                                                                                   韓粉 柯稱 韓國 副手 趙少康 白講 東森 新聞 民眾黨 總統 候選人 柯文哲 目前 民調 暫時 墊底 力求 突破 前一天 造勢 場合 韓國 有當 市政 顧問 現在 副手 人選 解讀 韓粉票 國民黨 總統 候選人 趙少康 這是 白講 宮廟 主委 我來掛 我來掛 宮廟 主委 柯文哲 戴上 護身符 知道 紅繩 太緊 稍微 一點 有點 卡卡 左喬右喬 順利 掛上 柯文哲 持續 南部 陸戰 屏東 慶濟宮 參拜 護身符 加持 能替 暫時 墊底 柯文哲 一劑 強心針 前一天 岡山 造勢 柯文哲 高呼 找過 韓國 擔任 市政 顧問 婉拒 當時 韓國 總統 搭當 應該 先是 仿造 韓國 崛起 三山 造勢 韓國 副手 解讀 韓粉票 決定 投給 2024 大選 命定 總統 立即 一下 國民黨 總統 候選人 趙少康 隨便 柯文哲 講啦 覺得 柯文哲 無所謂 他講 問題 發生 韓國 市政 顧問 白講 還要 柯文哲 同意 侯友宜 副手 今天 早上 造勢 韓國 本尊 凱道 正牌 仿冒 趙少康 呼籲 睜大 眼看 清楚 國民黨 總統 候選人 趙少康 市長 昨天 直播 也講 這才 正牌 直播 冒牌 打著 韓國 名號 號召 韓粉 支持 柯文哲 這都 正牌 國民黨 主席 朱立倫 市長 所有 分區 立委 現在 最強 團隊 目前 各地 幫侯康配 加油 記者 vs 民眾黨 總統 候選人 柯文哲 主席 趙少康 韓國 瑜當 副手 白講 柯文哲 回應 公開 造勢 場合 提到 副手 陪著 想著 一旁 正牌 副手 吳欣盈情 何以堪 民眾黨 總統 候選人 吳欣盈 主席 總統 候選人 主席 奇怪 因為韓 市長 層級 已經 總統 再選 總統 這也 顯示 柯文哲 選戰 倒數 20 民調 持續 墊底 只能 郭蹭韓 挽救 危急 選情   \n",
       "84                                                                                                                                                                                                                                                                                                                                                                                                                                                                                                                                                                                                                                                                    獨家 市府 跨年 圍巾 國旗 傳遞 侯康護 中華民國 主張 東森 新聞 獨家 了解 總統大選 倒數 藍綠 副手 先前 國旗 縣市 掛的 縣市 掛的 針鋒相對 市民 感受 藍營 執政 縣市 比較 中華民國 市府 特別 設計 一款 國旗 配色 限定 圍巾 展現 首都 市長 愛國心 了解 台北 市長 萬安 將會 邀請 局處 首長 刻起 一同 配戴 新版 圍巾 迎接 新年 看似 侯康配 撐腰 傳遞 守護 中華民國 意志 東森 新聞 獨家 曝光 這條 特別 圍巾 市府 限定 版本 巧思 紅色 藍色 白色 箭頭 希望 2024 元旦 充滿 中華民國 魔鬼 細節 這條 國旗 配色 圍巾 台北 市長 萬安 聖誕節 祝賀 影片 出現 這條 圍巾 時刻 現身 決定 投給 2024 大選 命定 總統 立即 一下 台北 市長 萬安 迎來 中華民國 元旦 特別 一定 展現出 中華民國 元素 國旗 意象 2024 局處 首長 特別 戴上 萬安 原因 當前 2024 選戰 藍綠 副手 國旗 趙少康 綠營 執政 中華民國 滅亡 蕭美琴 國旗 每天 升起 真正 發揮 中華民國 意象 萬安 行動 國旗 圍巾 侯康配 撐腰 台北 市長 萬安 中華民國 元旦 希望 結合 元素 2024 意象 紅色 喜氣 圍巾 裡頭 箭頭 象徵 不斷前進 政治 層面 解讀 盼望 侯康配 前進 國旗 飄揚 總統府 萬安 只掛 身上 還得 放在 心頭 台北 市長 萬安 來說 重要 門面 台北市 大門口 排滿 整排 國旗 往前走 牆邊 角落 國旗 抬頭 滿滿 國旗 2024 元旦 充滿 中華民國 元素 放眼 台北 街道 滿滿 國旗 沿用 國慶 特地 元旦 準備 2022 跨年 主持人 歡迎 市長 萬安 市長 過去 柯規 蔣不 這回 跨年 太太 兒子 現身 過去 八年 柯文哲 帶著 太太 出席 一改家 天下 印象 元旦 那天 萬安 一身 行頭 圍巾 徽章 國旗 元素 要將 侯康配 意志 帶到 叫陣 台北 市長 萬安 盡量 元素 應該 展現 萬安 坐鎮 首都 最後 時刻 替侯康 衝刺   \n",
       "85   賴清德 競辦 疫情 經濟 成長率 世界 事實 查核 中心 資料 不符 東森 新聞 賴清德 競選 總部 12 14 日發 新聞稿 回應 侯辦 批評 民進黨 觀光 產業 新聞稿 內容 疫情 期間 台灣 經濟 成長率 世界 第一 事實 查核 中心 表示 查資料 不符 經濟 議題 選戰 攻防 焦點 選民 關心 議題 各政黨 候選人 提出 經濟 政策 過往 台灣 經濟 成果 表達 看法 事實 查核 中心 希望 提供 讀者 精確 數字 參考 事實 查核 中心 表示 賴清德 競選 辦公室 12 14 新聞稿 疫情 期間 經濟 成長率 全世界 第一名 經查 查核 中心 利用 國際貨幣基金 IMF 行政院 主計 總處 網站 檢視 疫情 期間 2020 2022 世界 各國 經濟 成長率 排名 2020 全球 經濟 疫情 影響 多為負 成長 當年 台灣 經濟 成長率 3.39% 全世界 表現 較佳 經濟 成長率 全世界 11 全世界 國際貨幣基金 定義 開發 經濟體 愛爾蘭 世界 排名第 6.6% 名才 台灣 亞洲地區 台灣 亞洲 2021 2022 台灣 經濟 成長率 分別 6.5% 2.4% 世界 排名第 若以 開發 經濟體 比較 事實 查核 中心 指出 IMF 數據 台灣 2020 經濟 成長率 全世界 11 2021 2022 台灣 經濟 成長率 分別 6.5% 2.4% 世界 事實 查核 中心 提到 賴清德 競選 總部 12 14 日發 新聞稿 回應 侯友宜 競選 辦公室 批評 民進黨 觀光 產業 並在 新聞稿 .... 疫情 期間 經濟 成長率 全世界 經濟 成果 全民 共享 每人 普發 6000 查核 賴清德 競辦 疫情 期間 經濟 成長率 全世界 第一名 是否 屬實 事實 查核 中心 表示 賴競辦 所稱 疫情 期間 應為 2020 2022 查核 中心 檢索 國際貨幣基金 資料庫 IMF 行政院 主計 總處 統計 查詢 世界 各國 經濟 成長率 排名 諮詢 台灣 大學 經濟學 名譽教授 聰敏 事實 查核 中心 說明 國際貨幣基金 資料 2020 疫情 期間 全球 多數 國家 經濟 是負 成長 2020 台灣 經濟 成長率 3.39% 台灣 主計 總處 數據 同樣 3.39% 全世界 11 11 分別 蓋亞那 愛爾蘭 衣索比亞 坦尚 尼亞 幾內亞 坦吉克 諾魯 貝南 貝里斯 奈及利亞 愛爾蘭 主要 開發 國家 IMF 國際貨幣基金 歸類 台灣 屬於 開發 經濟體 聚焦 開發 經濟體 AdvancedEconomies 2020 開發 經濟體 經濟 成長率 排名 愛爾蘭 6.6% 台灣 東歐國家 拉脫維亞 0% 開發 經濟體 為負 成長 賴清德 競辦 疫情 期間 全世界 第一名 錯誤 陳述 當年 台灣 經濟 成長率 世界排名 前段 亞洲 若僅 比較 全世界 實際 GDP 購買力 指數 PPP 聚焦 30 國家 台灣 2020 經濟 成長率 確實 全球 事實 查核 中心 2021 全球 經濟 成長率 緬甸 阿富汗 是負 成長 成長 IMF 貨幣 基金會 資料庫 台灣 經濟 成長率 6.5% 台灣 主計 總處 數據 6.62% 全世界 74 聚焦 開發 經濟體 台灣 包括 愛爾蘭 15.1% 英國 7.4% 波蘭 6.9% 歐洲 國家 經濟 成長率 台灣 事實 查核 中心 指出 2022 全球 經濟 成長率 俄羅斯 烏克蘭 國家 為負 成長 當年 台灣 經濟 成長率 2.4% 台灣 主計 總處 數據 2.59% IMF 數據 全世界 排名 166 當年 中國 加拿大 挪威 愛爾蘭 台灣   \n",
       "88                                                                                                                                                                                                                                                                                                                                                                                                                                                                                                                                                                                                                                                                                                                                                                                                                                                                                                                                 僑胞 台灣 護照 入境 古巴 遭拒 外交部 回應 東森 新聞 一名 加拿大 顏姓 台僑 近日 媒體 控訴 一家 人去 古巴 旅遊 台灣 護照 入境 古巴 機場 境管 官員 中國 承認 台灣 國家 扣押 護照 隔天 遣返 加拿大 對此 外交部 做出 回應 中央社 加拿大 蒙特婁 顏男 DannyYen 一家人 楓葉卡 古巴 古巴 哈瓦那 機場 通關 老婆 一名 小孩 過關 受阻 古巴 境管 官員 一中 原則 承認 台灣 護照 人要 原機 遣返 顏男 表示 今年 台灣 朋友 護照 入境 古巴 古巴 官員 現在 實施 政策 台灣 現在 中國 關係 不好 顏男說 家人 離境 候機室 10 幾個 小時 24 搭機回 加拿大 對此 外交部 回應 古巴政府 規定 民眾 超過 中華民國 護照 觀光 入境 而民眾 了解 相關 資訊 暫緩 古巴 先查 入境 規定 目前 指示 台灣 哥倫比亞 代表處 調查 本案 保障 民眾 旅行 權益 決定 投給 2024 大選 命定 總統 立即 一下 外交部 補充 我國 古巴 設館 我國 當地 遺失 護照 可向 哥倫比亞 代表處 申請 補發 晶片 護照 由國 內製 晶片 護照 寄至 哥國 轉發 需時 不及 等候 核發 晶片 護照 申請 晶片 護照 駐外 館處 當地 效期 一年 臨時 返國 使用 惟該 護照 適用 美國 簽證 計畫 赴美 須另 申請 簽證 收件 日至 寄達 古巴 需時 CTWANT 授權 轉載   \n",
       "90                                                                                                                                                                                                                                                                                                                                                                                                                                                                                                                                                                                                                                                                                                                                                                                                                                                                                                                                                                                                                                                                                                                                       藍營 男神 助攻 優勢 趙少康 萬安 魅力十足 東森 新聞 國民黨 總統 候選人 趙少康 前往 屏東 綠營 優勢 持續 陸戰 藍營 母雞 男神 萬安 台北 市長 萬安 希望 孩子 能夠 知錯 能改 看到 一些 政治 人物 錯誤 示範 而變 口不擇言 死皮賴臉 希望 孩子 看到 錯誤 示範 雙重標準 信口雌黃 萬安 先是 屏東 夜市 掃街 吸引 大批 民眾 拍照 東港 東隆宮 趙少康 合體 萬安 加持 選情 帶來 正面 效應 國民黨 總統 候選人 趙少康 vs 台北 市長 萬安 市長 魅力十足 尤其 年輕 選民 婦女 選民 喜歡 到時候 加持 發表 政見 拜訪 加分 決定 投給 2024 大選 命定 總統 立即 一下 台北 市長 萬安 剛剛 問到 現在 民調 好像 誤差 範圍 一點點 一些 一下 相信 希望 能夠 勝選 先前 屏東縣 議長 周典論 前來 站台 力挺 南部 綠營 優勢 國民黨 藉由 不斷 深入基層 希望 綠地 翻轉 藍天   \n",
       "91                                                                                                                                                                                                                                                                                                                                                                                                                                                                                                                                                                                                                                                                                                                                                                                                                                                                                                                                                                                                                                                                                                                                                                               柯文哲 恆春 開講 諷作票 不用 停電 44 東森 新聞 阿伯 活動 北台 灣走 恆春 柯文哲 最後 一段 進行 開獎 選戰 倒數 20 近期 幾份 民調 顯示 柯文哲 墊底 並不 相信 民眾黨 總統 候選人 柯文哲 柯文哲 民調 第三 他棄 保掉 老實 講我 頭痛 謊話 每天 講到 最後 有效 藍綠 民眾黨 總統 候選人 柯文哲 有人 問我 國民黨 民進黨 地方 國民黨 相還 比較 好看 一點 民進黨 你講 民進黨 整碗 盤子 光光 決定 投給 2024 大選 命定 總統 立即 一下 呼籲 選民 監票 民眾黨 總統 候選人 柯文哲 以前 作票 還要 停電 現在 直接 剪掉 44 希望 這次 選舉 監票 部隊 機會 拜託 報名 參加 一下 以前 真的 發覺 40 44 剪掉 知道 柯文哲 國民黨 總統 候選人 趙少康 同一天 屏東 舉辦 造勢 戶別 苗頭   \n",
       "93                                                                                                                                                                                                                                                                                                                                                                                                                                                             觀點 藍綠 白得 中部 天下 郭粉 關鍵 東森 新聞 2024 選戰 倒數 19 陣營 關心 300 年輕 政黨 傾向 將會成 一場 選戰 關鍵 選戰 進入 最後 倒數 階段 年輕 政黨 傾向 所謂 中間 選民 目前 300 萬人 牽動 相當 百分比 票數 所有人 投票 人數 牽動 整體 選票 關鍵 候選人 現在 把握 最後 幾個 周末 希望 能夠 衝高 20 29 年輕 分析 年輕人 族群 國內 政治 人物 明顯 失望 包括 金融時報 認為 年輕人 大選 幻想 破滅 根本 搞不清楚 處理 兩岸 台灣 最佳 方式 比較 在乎 物價 薪水 跟不上 物價上漲 紐約時報 年輕人 厭倦 地緣 政治 爭吵 比較 擔心 買得起 收入 有沒有 增加 候選人 思考 增加 年輕 選票 青睞 把握 最後 倒數 三周 造勢 24 賴清德 完成 環台 拼圖 最後 幾場 造勢 活動 賴清德 透過 綠色 紙板 拼出 字卡 代表 贏得 台灣 新北場 人數 好像 估計 新北 市場 人數 2000 多人 台北 場有 4000 多人 賴清德 還在 現場 新北 市府 能力 社會 住宅 台北 場的 賴清德則 柯文哲 農地 暴利 決定 投給 2024 大選 命定 總統 立即 一下 現在 藍綠 拚場 造勢 現場 多半 年齡層 現場 侯友 宜到 台灣 誓師 現場 位於 高鐵 旁邊 現場 萬多 侯友宜 中部 全台灣 會贏 關注 焦點 過去 英文 總統 綠營 主打 青年 返鄉 一次 賴清德 主打 所有 全年齡 想要 提高 總體 投票率 一次 環台 造勢 新北場 台北 場的 人數 好像 一些 小雞 造勢 場合 柯文哲 高雄 造勢 昨天 恆春 造勢 人數 侯友宜 昨天 造勢 現場 氣勢磅礴 相當 天氣 進場 揮舞 國旗 氣勢 高昂 侯友宜 現場 痛批 民進黨 執政 地方 建設 獲得 支持者 熱情 吶喊 講侯友 宜到 關鍵 中台灣 成為 2024 總統 決戰 搖擺 國民黨 台灣 民調 領先 現在 北票 南補 柯文哲 相當 年輕 選票 死忠 票數 守住 兩成 最後 棄保 發生 柯文哲 直接 流向 藍營 流向 綠營 觀察 現在 台灣 民調 稍微 領先 賴清德 南票 北補 現在 賴清德 賴皮 議題 持續 發酵 衝擊 台灣 選情 一些 相關 政策 現在 持續 藍營 衝擊 關鍵 郭粉 之前 台灣 相當 比例 現在 郭粉還 表態 最後 幾天 郭台銘會 現身 現身 之後 郭粉 流向 流向 流向 現在 關鍵 中台灣 人數 相當 郭粉 回流 成為 這次 2024 大選 重要 關鍵   \n",
       "94                                                                                                                                                                                                                                                                                                                                                                                                                                                                                                                                                                                                                                                                                                                                                                                                                                                                                                                                                                                                        冠廷扮 聖誕老人 親送 愛心 育幼院 東森 新聞 這次 任務 12 月初 規劃 民進黨 嘉義縣 立委 候選人 冠廷 號召 鄉親們 一起 公益 邀請 家裡 還算 完整 童書 玩具 一起 志工 資源 一起 共享 傳出去 志工 孩子 看到 一定 高興 愛心 機會 孩子 買不到 真的 意義 事情 消毒 整理 打包 包裝 美美 禮物 冠廷 親力 親為 跟志 工們 一起 有人 時間 捐錢 更能 看出 愛心 冠廷 包裝 禮物 帶到 安仁 家園 特地 太太 猿田 千里 裝扮成 聖誕 老公公 發送 糖果 孩子 民進黨 嘉義縣 立委 候選人 冠廷 這次 活動 聖誕 傳愛讓 感受 慈善 嘉義 傳達 愛與 感恩 精神 希望 未來 嘉義 能夠 活動 太太 一起 努力 傳播 愛跟 感恩 冠廷還 邀請 朋友 安東尼 太太 Emma 一起 公益 嘉義 中埔新 住民 Anthony 感謝 所有 捐贈 禮物 孩子 民眾 聖誕節 精神 散播 正是 冠廷 孩子 活動 感到 開心 安仁 家園 院長 謝孟潔 認識 冠廷 叔叔 高中 高中 弱勢 孩子 關心 今天 安仁 孩子 互動 看得出來 認真 親切 爸爸 離開 育幼院 冠廷 競選 總部 舉辦 聖誕 點燈 活動 特地 安排 教導 兒童 英文 橋段 期待 孩子 歡樂 學習 成長   \n",
       "95                                                                                                                                                                                                                                                                                                                                                                                                                                                                                                                                                                                                                                                                                                                                                                                                                                                                                                                                   民進黨 黨好 綠有 反省 東森 新聞 民進黨 總統 參選人 蕭美琴 認為 民進黨 檢討 賴清德北市 主委 近期 爭議 頻傳 表示 民進黨 已經 黨好 擔任 防疫 指揮官 時期 賴辦 疫情 經濟 成長 世界 第一 事實 查核 中心 認為 資料 不符 主持人 王世堅 凍蒜 王世堅 凍蒜 民進黨 立委 參選人 台上 一字排開 立委 一一 唱名 口號 每個 人手 有人 有人 比三 瞬間 變成 勝利 人名 變化 手勢 彷彿 記憶 考驗 邊邊 高嘉瑜 王世堅 吳沛憶 聰明 直接 握拳 主角 回歸 正中間 說話 惹出 爭議 副總 總統 參選人 蕭美琴 日前 坦承 民進黨 同志 犯錯 需要 檢討 反省 民進黨 台北 隊長 代表 民進黨 反省 能力 整體 來說 黨好 決定 投給 2024 大選 命定 總統 立即 一下 賴清德北市 主委 反省 能力 表示 錯誤 繼續 進步 民主 進步黨 標榜 民主 精神 進步 精神 在於 反省 能力 改善 能力 網友 蕭美琴剛 滅火 生火 戰場 回歸到 選戰 避免 失焦 這次 率領 小雞 公布 第二 波爆款 小物 口罩 民進黨 再度 主打 疫情 聲稱 防疫 綠營 主帥 賴清德 公布 數字 事實 查核 中心 打臉 賴情 新聞稿 聲稱 台灣 疫情 期間 經濟 成長率 全球 第一 IMF 數據 2020 根本 排名第 11 2021 2022 74 166 質疑 是否 誇大 數據 事實 感受 直接 幾年 過得   \n",
       "96                                                                                                                                                                                                                                                                                                                                                                                                                                                                                                                                                                                                                                                                                                                                                                                                     農地 挖出 營建 剩餘物 高虹安 中央 函稱 可回收 東森 新聞 怪手 進駐 柯文哲 新竹 農地 持續 進行 刨除 開挖 工程 先前 挖出 鋼筋水泥 廢棄物 外界 直指 市長 高虹安 應要 移送 柯文哲 新竹 市長 高虹安 屬於 營建 剩餘物 依法 來說 環保 解釋 中央 解釋 含說 可回收 利用 親上 火線 柯文哲 滅火 選戰 倒數 農地 爭議 柯文哲 飽受 攻擊 這回 不忍 直接 民眾黨 總統 參選人 柯文哲 民進黨 名嘴 胡說八道 底下 廢棄物 小心 我要 跟賴 總統 攻擊 查證 一下 申明 買來 柏油 決定 投給 2024 大選 命定 總統 立即 一下 KPTV 直播 頻道 柯文哲 名嘴 側翼 對手 賴清德 一起 柯文哲 更秀 出空 拍圖 自證 清白 民眾黨 總統 參選人 柯文哲 空照 明顯 96 已經 柏油 上面 有畫 停車 97 OK 柯文哲 澄清 地厚 柏油 出租 情況 環保局 勘查 證實 廢棄物 掩埋 情形 時間 競選 總幹事 指控 疑似 陷入 炒地 疑雲 立委 時代 邱顯智 遠遠 超過 藍綠 383 文心 建設 議員 捐過 100 搬出 數據資料 清楚 列出 2022 年選 市長 收受 建商 政治 獻金 遠超 藍綠 邱顯智 質疑 擔任 市長 負責 處理 社子島 開發 選舉 期間 收受 政治 獻金 有沒有 對價 關係 備受 質疑 立委 時代 邱顯智 畸零 捐錢 給黃珊 時間 買入 大量 畸零 民眾黨 發言人 戴于 知道 時力 邏輯 推演 合理 對價 關係 具體 指控 社子島 市府 層層 把關 說了算 民眾黨 出面 反擊 強調 政治 獻金 合法 公開 經得起 外界 檢驗 反控時 力士 政治 抹黑 選戰 衝刺 階段 民眾黨 不想 負面 疑雲 持續 失分   \n",
       "97                                                                                                                                                                                                                                                                                                                                                                                                                                                                                                                                                                                                                                                                                                                                                                                                                                                                                                                                                                                                                                                                                                                                       侯康凱 造勢 萬人 高呼 政黨 輪替 東森 新聞 人群 簇擁 寸步難行 侯康 配大 進場 10 分鐘 之久 台上 1223 凱道 造勢 主辦單位 超過 支持者 希望 民主 制衡 政黨 輪替 國民黨 總統 候選人 侯友宜 期待 政黨 輪替 期待 黏在 一起 一起 政黨 輪替 改變 副手 趙少康 火力 全開 批評 民進黨 國民黨 總統 候選人 趙少康 每次 選舉 民進黨 抗中 反中 一套 這套 簡單 出新 把戲 藍營 母雞 男神 萬安 三寶 身分 選民 呼籲 台北 市長 萬安 希望 孩子 成長 過程 成為 正直 誠實 希望 看到 錯誤 示範 變得 死皮賴臉 國民黨 主席 朱立倫 年輕 朋友 一定 願意 共同 爭取 一票 最後 見識 團結 晚會 最後 壓軸 大合唱 希望 所有 選民 一起 堅持到底 侯康配 首度 凱道 造勢 象徵 入主 總統府 決心 現場 國民黨 14 縣市 首長 議長 一起 出席 展現 國民黨 上下一心 要力 政黨 輪替   \n",
       "98                                                                                                                                                                                                                                                                                                                                                                                                                                                                                                                                                                                                                                                                                                                                                                                                                                                                                                                                                                                                                                                大選 恐變 危機 游梓翔 ICG 避免 兩岸 緊張 提醒 東森 新聞 2024 大選 進入 倒數 衝刺 台灣 選戰 國際 危機 組織 首頁 至頂 大學教授 游梓翔 示警 國際 危險 組織 眼中 台灣 選舉 會成 潛在 危機 組織 針對 藍綠 兩位 候選人 未來 當選 處理 兩岸關係 給出 建議 2024 大選 變成 危機 大學教授 游梓翔 發文 指出 台灣 大選 國際 危機 組織 至頂 首頁 顯示 台灣 選舉 成為 潛在 危機 賴清德勝 選要 北京 溝通 表達 願以 兩岸 接受 方式 維繫 關係 共識 重回 2016 路線 承認 1992 歷史事實 表明 遵守 現存 法律 框架 開放 觀光 學生 交流 執法 海上 安全 合作 意願 要求 北京 降低 對台 軍事 經濟 施壓 侯友宜 當選 兩岸 重回 92 共識 兩岸關係 至少 獲得 一段時間 改善 找到 重啟 兩岸 對話 台階 國民黨 管理 北京 預期 兩岸 進展 須以 台灣 社會 接受 降低 中國 對台 軍事行動 美國 展現 強化 防衛 改革 決心 決定 投給 2024 大選 命定 總統 立即 一下 民眾黨 部分 給出 建議 游梓翔 表示 民眾黨 勝選   \n",
       "99                                                                                                                                                                                                                                                                                                                                                                                                                                                                                                                                                                                                                                                                                                                                                                                                                                                                                                                                                                                                                           前朝 痛點 萬安 巨蛋 就職 周年 東森 新聞 市長 帶領 各局 一早 握拳 朝氣 喊話 還送 簽名 感謝 棒球 特別 選在 巨蛋 分享 市長 週年 紀念日 願望 台北 市長 萬安 期待 泰勒 能夠 台北 巨蛋 我想 這也 市民 朋友 台灣民眾 歌迷 共同 期待 願望 已經 有譜 市長 多講 聖誕節 這天 就職 週年 隔天 26 號也 萬安 生日 許下 心願 台北 市長 萬安 期待 能夠 一點點 時間 太太 三寶 好好 簡單 頓飯 簡單 吃個 聊聊天 至少 關心 一下 大兒子 最近 課業 決定 投給 2024 大選 命定 總統 立即 一下 選戰 市政 萬安 希望 時間 家人 努力 總有 成果 市府 公布 施政 滿意度 調查 12 顯示 高達 萬安 不敢 鬆懈 台北 市長 萬安 持續 努力 滿於 現狀 很大 空間 加倍努力 打分數 分數 市民 表現 交給 市民 判定 選在 巨蛋 週年 記者會 前朝 市府 卡關 八年 飄出 陣陣 較勁 意味 台北 市長 萬安 市政 延續 保持 不好 面對 問題 解決問題 開展 新局 台北市 造成 安全 運動 未來 正面 回應 問題 萬安 就職 週年 宣示 未來 施政 期待 打造 運動 中心 2.0 台灣 推向 國際   \n",
       "105                                                                                                                                                                                                                                                                                                                                                                                                                                                                                                                                                                                                                                                                                                                                                                                                                                                                                                                                                                                                                                             蕭美琴 上貓 空會 青農 王閔生 力促 三貓 計畫 東森 新聞 民進黨 總統 候選人 蕭美琴 vs 茶館 老闆 開店 40 幾年 33 雙橡園 33 133 戰貓 蕭美琴 貓空 踏入 雙橡園 美國 歷史 建築 台灣 本土 茶館 民進黨 總統 候選人 蕭美琴 vs 貓空 青農 泡茶 文化 日本 飲茶 文化 日本 一些 傳統 程序 貓空 青農 大聊 台灣 茶文化 蕭美琴 受到 民進黨 立委 候選人 王閔生 邀請 貓空 了解 當地 產業 希望 幫助 青農 發展 民進黨 總統 候選人 蕭美琴 好香 呵呵 真的 很香 民進黨 台北市 立委 候選人 王閔生 華府 雙橡園 貓空 雙橡園 代表 國際 走向 再將 特色 文化 推廣 國際 過去 美的 經歷 世界觀 文化 推廣 國際 舞台 所謂 國際 王閔生 期盼 貓空 藉由 蕭美琴 經驗 持續 飄香 海外 民進黨 台北市 立委 候選人 王閔生 山區 最具 特色 貓空 地區 尤其 近年 一直 推動 三貓 計畫 熊貓 纜貓空 蕭美琴 外號 戰貓 特別 邀請 戰貓 蕭美琴 貓空 地區 未來 實現 落實 三貓 計畫 落實 三貓 計畫 王閔生 力促 地方 結合 中央 打造 文山 新風貌   \n",
       "108                                                                                                                                                                                                                                                                                                                                                                                                                                                                                                                                                                                                                                                                                                                                                                                                                                                                                                                                                                                                                                                                                                                                                                                     議員 遭控 始亂終棄 女方 出面 說話 東森 新聞 民進黨 台中市 議員 蔡耀 前女友 指控 始亂終棄 這次 選區 立委 候選人 重要 幹部 事件 延燒 日後 25 前女友 爸爸 一起 出面 記者會 認為 選舉 操作 表示 願意 鑑定 前女友 爸爸 表示 希望 私下 解決 蔡耀 前女友 指控 始亂終棄 棄養 問題 前女友 爸爸 一起 出面 表示 對手 陣營 利用 前女友 操作 舉選 聲量 擔任 競選 總部 輔選 幹部 鑑定 女方 出庭 希望 對方 27 開庭 出庭 前女友 爸爸 表示 希望 私人 事件 私下 解決 占用 媒體 資源 表示 清楚 女兒 是否 遭到 脅迫 希望 息事寧人 決定 投給 2024 大選 命定 總統 立即 一下 文章 來源 台中市 議員 遭控 前女友 始亂終棄 女方 出面 親子鑑定 私下 解決 CTWANT 授權 轉載   \n",
       "109                                                                                                                                                                                                                                                                                                                                                                                                                                                                                                                                                                                                                                                      觀點 輿論 火燒 賴皮 31 影片 公開 競辦秀 證據 滅火 東森 新聞 選戰 倒數 19 賴清德 老家 違建 公益 信託 整起 事件 依舊 繼續 發酵 賴營 特別 釋出 一段 31 畫面 內容 之前 接待 外國 媒體 影片 想要 證明 賴清德 老家 29.3 影片 顯示 從前 門到 後門 短短 一段距離 老家 戶口名簿 戶口名簿 樣式 老舊 上頭 寫著 中福街 84 競總 特別 強調 新北市 政局 透過 空拍 航照 橘色 84 號是 原地 整修 空照 圖是 錯誤 定位 賴清德 針對 新北地 政局 指控 逐一 反駁 賴清德 老家 相關 爭議 繼續 延燒 下去 越演 越烈 延燒到 選情 賴競 拿出 戶口名簿 再次 強調 中福 84 號從 1971 已經 存在 還反 控新北地 政局 根本就是 對方 發聲 選戰 進入 倒數 19 現在 賴清德 老家 爭議 備受 關注 柯文哲 新竹 農業用地 開挖 挖出 一些 水泥 磚頭 賴清德 暗酸 柯文哲 是從 15 年前 透過 農地 炒作 擁有 暴利 對此 黃國 不忍 直接 痛批 民進黨 下限 還秀出 一份 公文 特別 點名 民進黨 立委 明文 嘉義 3.9 公頃 農地 興建 萬坪 廠房 做法 動作 黃國 針對 綠營 拿出 明文 炒地 證據 猛攻 之外 時代 力量 動作 針對 民眾黨 建商 投資 炒作 社子島 開發 選戰 逼近 陣營 針對 相關 議題 持續 緊咬 專家 針對 賴清德 老家 違建 爭議 表示 現在 輿論 止不住 陷入 烏賊 成為 賴清德 選戰 七傷 賴清德 之前 包括 柯文哲 侯友宜 房產 爭議 之外 還拉 礦工 背書 徐巧 臉書 PO 隱形 斗篷 表示 綠營 連手 伸進 Google 街景 現在 賴清德 老家 包括 站哨 衛兵 馬賽克 徐巧 PO 這張 馬賽克 自嘲 順應 國家機器 趙少康 一定 影響 選情 選民 無動於衷 柯文哲 挨打 反控 賴清德 幽靈 建築 信託 東西 還說 賴清德 謊言 淹沒 看不見 看到 倒數 17 房產 爭議 住宅 相關 內容 咬緊 希望 能夠 動搖 選民 投票 意願   \n",
       "114                                                                                                                                                                                                                                                                                                                                                                                                                                                                                                                                                                                                                                                 民調 最新 調查 侯康配 大增 3.4 問題 過半 支持 東森 新聞 2024 總統大選 將至 選戰 進入 白熱化 階段 總統 大位 分別 國民黨 侯友宜 搭配 趙少康 民進黨 民眾黨 清德 搭配 蕭美琴 柯文哲 搭配 吳欣盈 角逐 美麗 電子報 12 國政 民調 資料 顯示 民進黨 賴蕭配 支持 度為 38.2 月僅 增加 1.6 國民黨 侯康配 支持 度為 33.9 增加 3.4 之多 逐漸 民進黨 賴蕭配 拉近 民眾黨 柯盈配 下降 1.6 持續 墊底 美麗 電子報 發布 12 國政 民調 民進黨 賴蕭配 支持 度為 38.2 國民黨 侯康配 33.9 民眾黨 柯盈配 16.1 投票 廢票 人則 2.0 明確 回答 9.7 投票 廢票 明確 回答 兩項 比較 減少 趨勢 大選 日子 越來越近 心目 人選 逐漸 定案 對照 11 國政 民調 看到 國民黨 侯康配 支持 增加 3.4 百分點 緊追 民進黨 賴蕭配 民眾黨 柯盈配 支持 度則 再度 減少 降低 1.6 百分點 持續 墊底 決定 投給 2024 大選 命定 總統 立即 一下 12 國政 民調 認為 國內 整體 經濟 現況 不好 民眾 51.0 表示 投給 侯康配 表現 出現 政府 執政 帶來 經濟 現況 過半數 民眾 替換 政府 組成 且會 選擇 侯康配 希望 看到 當選 總統 投給 總統 一問 民進黨 賴清德 35.2 增加 2.3 民眾黨 柯文哲 22.0 國民黨 侯友宜 僅有 17.0 這次 藍白綠 三方 國民黨 侯友宜 民眾 心目 接受度 最高 美麗 電子報 本次 調查 訪問期間 2023 12 20 21 對象 全國 範圍 20 以上 民眾 抽樣 方法 訪員 進行 電腦 輔助 電話 訪問 中華電信 全國 住宅 電話 進行 比分 隨機抽樣 隨機 跳號 RDD 有效 樣本 1070 抽樣誤差 95 信賴 水準 下約 正負 3.0 百分點 母群體 參數 內政部 公布 2023 11 月民眾 性別 戶籍 年齡 資料 2022 12 民眾 教育 程度 特徵 逐項 重複 進行 連續性 修正   \n",
       "120                                                                                                                                                                                                                                                                                                                                                                                                                                                                                                                                                                                                                                                                                                                                                                                                                                                                                                                                                                                                                                                                                                                                                                                                                                                                               國民黨 展現 大團結 最新 民調 好感度 4.6 居冠 東森 新聞 侯康配 首度 凱道 造勢 超過 萬名 支持者 創造 國民黨 大團結 美麗 最新 民調 政黨 好感度 民進黨 41.7 上次 增加 0.3 國民黨 最高 43 上次 增加 4.6 民眾黨 35.4 增加 2.4 三組 候選人 支持 賴蕭配 38.2 上次 增加 1.6 侯康配 33.9 緊咬 賴蕭 增加 3.4 柯吳配 16.1 暫時 墊底 上次 降低 1.6 決定 投給 2024 大選 命定 總統 立即 一下 賴清德 老家 違建 柯文哲 農地 停車場 一點 犯錯 反應 民調 選戰 最後 關頭 犯錯   \n",
       "124                                                                                                                     賴清德談 核能 問題 2050 非核 家園 強制 終止 東森 新聞 2024 大選 倒數 第一場 總統 候選人 政見發表 已於 20 結束 26 國民黨 總統 候選人 侯友宜 民進黨 總統 候選人 賴清德 民眾黨 總統 候選人 柯文哲 進行 第二場 政見發表 總統 候選人 總統 候選人 每位 候選人 每場 電視 政見發表 發表 時間 每輪 10 分鐘 進行 賴清德 第二場 政見發表 第一輪 表示 總統 應該 提出 國家 願景 藍圖 提出 具體 計畫 善用 每個 縣市 資源 給出 適當 定位 產業 交通 醫療 文化 觀光 居住 遺漏 縣市 認為 縣市 均衡 發展 安居樂業 台灣 永續 發展 賴清德 指出 總統大選 每個 重要 角色 像是 缺一不可 拼圖 表示 榮幸 參與 並會 國際 宣示 將會 抵抗 極權主義 擴張 堅定 守護 國家主權 民主 決定 投給 2024 大選 命定 總統 立即 一下 賴清德 表示 當選 總統 將會 英文 總統 基礎 擴大 社會 投資 提出 投資 22 完整 計畫 加薪 減稅 負擔 推動 國家 一起 2.0 3.0 減輕 三明治 家庭 負擔 推動 青年 百億 海外 圓夢 基金 支持 年輕人 走出 國際 第三 推出 教育 平權 強調 教育 人才 重要性 認為 人才 國家 明年 高中 職將 全面 學費 年收入 不到 70 家庭 每個 孩子 每人每年 補助 萬元 年收入 70 90 每個 孩子 每人每年 補助 千元 居住 方面 賴清德 將會 優化 青年 安家 貸款 推動 社會 住宅 落實 居住 正義 打破 貧富差距 賴清德 第二場 政見發表 第二輪 表示 未來 抓住機會 擴大 台灣 優勢 妥善 運用 數位 轉型 轉型 打造 智慧 永續 台灣 創造 第二次 經濟 奇蹟 數位 轉型 方面 賴清德 表示 妥善 運用 科技 創新 台灣成 智慧 科技 第一 壯大 半導體 產業 台灣 成立 完善 生態系統 第二 發展 人工智慧 並讓 產業化 幫助 廣大 中小企業 達到 數位 轉型 正義 推出 各項 智慧 改革 達到 智慧 國家 等級 淨零 轉型 方面 賴清德 提出 2030 年前 投入 9000 億新 台幣 帶動 企業 共同 投資 邁向 2050 淨零 轉型 目標 賴清德 表示 能源 轉型 重要 未來 將跟 國際 接軌 建立 交易 制度 廣推綠電 減少 台電 係數 解決 氣候變遷 產業 發展 問題 未來 綠能 是否 提供 產業 足夠 能源 賴清德 表示 台電 推估 2030 之前 用電 需求 增加 700 萬千瓦 供電 達到 900 萬千瓦 代表 未來 供電 穩定 缺電 時代 結束 多元 綠能 社會 將來 賴清德 第二場 政見發表 第三輪 指出 選擇 蕭美琴 擔任 副手 尊重 女性 侯友宜 指教 賴清德 表示 南部 雙北 條件 方面 政策 推動 有所 差異 兩位 候選人 談論 核能 問題 賴清德 解釋 2050 非核 家園 強制 終止 依法 規定 賴清德 社會 大眾 解釋 2050 核電 問題 大會 共識 大會 共識 再生能源 增加 用電 效率 增加 賴清德 點名 國民黨 提出 觀察 幾項 缺失 點名 馬英九 總統 前高雄 市長 韓國 國民黨 主席 朱立倫 國家主權 經濟 做出 一定 抨擊 希望 鄉親 父老 選擇 真正 台灣 安居樂業 候選人   \n",
       "125                                                                                                                                                                                                                                                               柯文哲 批綠 長期 規劃 競選 總統 東森 新聞 2024 大選 倒數 第一場 總統 候選人 政見發表 已於 20 結束 26 國民黨 總統 候選人 侯友宜 民進黨 總統 候選人 賴清德 民眾黨 總統 候選人 柯文哲 進行 第二場 政見發表 總統 候選人 總統 候選人 每位 候選人 每場 電視 政見發表 發表 時間 每輪 10 分鐘 進行 柯文哲 第二場 政見發表 第一輪 首談 教育 政策 柯文哲 表示 台灣 教育 制度 擔心 當前 教育 喪失 功能 第一 無法 促成 社會 階級 流動 以前 出身 努力 機會 社會 力爭上游 現在 目前 升學 制度 窮人家 小孩子 更好 機會 表示 民進黨 執政 最大 問題 政治 介入 教育 體系 包括 卡管案 新竹 市長 林智堅 論文 抄襲 抄襲 人則 繼續 升官 提出 解決 108 課綱 困境 高教 改革 延長 義務教育 向下 延長 以下 幼稚園 向上 延伸 高中 義務教育 最後 雙語 教育 決定 投給 2024 大選 命定 總統 立即 一下 柯文哲 強調 教育 需要 全面 檢討 政治 意識形態 干擾 教育 錯誤 108 課綱 減弱 小孩 未來 國際 競爭力 利用 高等教育 培養 高科技 人才 相信 柯文哲 帶領 台灣 AI 浪潮 站穩腳步 柯文哲 談到 國安 提到 台灣 生育率 問題 指出 台灣 目前 生不如死 過去 藍綠 執政 未能 有效 處理 指出 台灣 少子 問題 不婚 晚生 再來 不生 解決 少子 解決 低薪 問題 當政 懷孕 個月給 每生 10 育兒 津貼 延長 12 育兒 家庭 綜所稅 扣除額 延長 12 居住 福利 首次 購屋 育兒 家庭 低利率 貸款 政府 幫忙 出前 利息 提供 育兒 家庭 加碼 租金 補貼 優先 入住 社會 住宅 提到 人工 生殖 應當 納入 代理 孕母 協助 不孕 家庭 能夠 圓夢 建立 友善 生養 環境 最後 一輪 柯文哲 提出 經濟 問題 指出 台灣 低薪 工時 政府 長期 規劃 造成 多項 缺失 柯文哲 批評 民進黨 長期 規劃 國民黨 遠見 一起 起鬨 一起 大撒幣 掏空 台灣 2024 柯文哲 提出 應先 制定 經濟 安全 保障法 內容 包括 國安會 建立 經濟 安全 會議 確保 重要 物資 穩定 供應 包括 食物 藥物 煤炭 天然氣 再來 關鍵 基礎設施 防護 最後 防止 專業 技術 外流 柯文哲 表示 2023 台灣 票選 年度 關鍵字 所謂 五缺 缺水 缺電 缺工 缺地 人才 缺蛋 豬肉 缺快 疫苗 衛生紙 藍綠 兩黨 繼續 執政 知道 明年 關鍵字 變成 柯文哲 提到 核能 問題 態度 再生能源 應當 穩健 發展 決定 2025 非核 家園 核電 停掉 轉過 要求 再生能源 風電 光電 快速 強迫 發展 衍生 弊端 主張 核二 核三 研議 核四盡速 提檢再 決定 一步 賴清德 發問 真的 堅持 非核 家園 票將 一大半 企業界 柯文哲 強調 賴清德 長期 規劃 只想 短線 競選 總統   \n",
       "126                                                                                                                                                                                                                                                                                                                                                                                                                                                                                                                                                                                                                                                       海軍 還原 潛艦 官兵 意外 救生 落海 東森 新聞 海虎 潛艦 官兵 失蹤 海軍 司令部 參謀長 吳立平 中將 今天 表示 當時 發現 船尾 異音 回收 救難 浮標 先派 落海 隨後 兵器 協助 救生 前往 救援 因湧 浪過 導致 人員 落海 落海 一次 掉下去 陸續 掉下去 國防部 上午 舉行 國軍 軍風紀 安全 維護 工作 記者會 針對 海虎 潛艦 官兵 失蹤 搜救 行動 將再 延長 72 小時 海軍 司令部 參謀長 吳立平 中將 表示 搜救 過程 進行 海上 洋流 變化 測算 逐步 擴大 搜尋 範圍 海虎 潛艦 21 小琉球 附近 海域 值勤 因湧 浪過 導致 官兵 落海 官兵 獲救 失蹤 軍方 初步 調查 人員 當時 瞬間 湧浪 拍落 舷邊 安全 扣環 嚴重 受力 扭曲 變形 鬆脫 導致 落海 海軍 24 宣布 搜救 72 小時 黃金 救援 時間 放棄 機會 搜救 行動 延長 72 小時 決定 投給 2024 大選 命定 總統 立即 一下 媒體 海虎 潛艦 人救 導致 失蹤 吳立平 表示 此次 執行 任務 時間 12 18 日至 29 18 出海 既定 計畫 當時 發現 船尾 異音 回收 救難 浮標 第一批 派出 因湧浪 情況 造成 落海 救回 人協尋 第二批 兵器 前去 協助 湧浪 情況 落海 救回 第三批 救生 前往 救援 落海 救回 人協 尋中 總計 11 落海 一次 掉下去 陸續 掉下去 針對 搜救 兵力 數量 吳立平 空中 兵力 派遣 80 架次 水面 兵力 已有 76 艘次 高雄港 以南 恆春 小琉球 沿岸 派遣 319 車次 981 人次 進行 搜救 將視 洋流 狀況 逐步 擴大 搜尋 範圍 吳立平 表示 海虎 潛艦 救難 浮標 脫落 1997 發生 一次 救難 浮標 蓋板 木質 兩側 卡扣 修護 通令 定時 檢查 這次 海虎 回航 檢查 卡扣 正常 1997 發生 脫落 狀況 表示 海軍 同舟 一命 放棄 搜救 過程 官兵 內心 創傷 嚴重 心緒 目前 平復 持續 加強 人員 心輔 詳細 案情 正由 專案小組 釐清   \n",
       "132                                                                                                                                                                                                                                                                                                                                                                                                                                                                                                                                                                                                                                                                                                                                                                                                                                   總統 政見會 登場 侯友宜 手勢 滿滿 手板 道具 有備而來 東森 新聞 國民黨 總統 候選人 侯友宜 你好 佛教 喜樂 手勢 侯友宜 政見發表 會後 替民眾 國家 祈福 這次 有備而來 國民黨 總統 候選人 侯友宜 治安 箭裡面 打詐 掃毒 掃槍 除暴 決定 投給 2024 大選 命定 總統 立即 一下 講到 提出 關鍵 政見 侯友宜 拿出 手板 上頭 清楚 羅列 政策 訴求 發言 提到 政策 準備 手板 強化 論述 選民 一目了然 一位 民進黨 總統 候選人 賴清德 天要 完成 拼圖 活動 並不 簡單 一塊 紙板 政見發表 支持者 溫情 喊話 民進黨 總統 候選人 賴清德 第一輪 發言 談起 環島 拼圖 民眾黨 柯文哲 這回 火力 十足 民眾黨 總統 候選人 柯文哲 低薪 窮忙 這是 政府 整體 戰略規劃 化身 教授 政見 這批 功力 似乎 比上 猛烈 藍綠 主帥 交鋒 服裝 巧思 柯文哲 深灰色 西裝 搭配 亮色 領帶 特別 胸前 kp 徽章 有別於 過去 綠色 換了 黑底 銀邊 侯友 宜西 裝配 淺藍色 條紋 領帶 戴上 眼鏡 更顯 專注 堅定 氣勢 賴清德 這次 同樣 配戴 重要 場合 出現 紫色 領帶 會後 回應 這次 現時 飄出 幾分 火藥味 民眾黨 總統 候選人 柯文哲 賴清德 禁不起 科學 考驗 明顯 誤導 全國 民眾 民進黨 總統 候選人 賴清德 主席 一如 以往 很會 分析 問題 說法 做法 市長 厲害 一次 政見發表 會裡面 散布 訊息 這次 國民黨 總統 候選人 侯友宜 賴清德 主席 一半 時間 操作 抹黑 抹紅 這是 接受 藍綠 主帥 交戰 表現 成績 選民 心中 自有 定論   \n",
       "135                                                                                                                                                                                                                                                                                                                                                                                                                                                                                                                                                                                                                                                                                                                                                                                                                                                                                                                                                                                                                           侯友 宜指 韓國 瑜當 副手 期待 郭台銘 歸隊 東森 新聞 國民黨 總統 候選人 侯友宜 26 首度 證實 國民黨 分區 提名 韓國 瑜當 副手 韓國 認為 比較 適合 分區 婉拒 期待 鴻海 創辦人 郭台銘 歸隊 懇請 郭台銘能 攜手 合作 中華民國 穩定 安全 侯友宜 接受 台視 新聞 決戰 2024 台灣 未來 專訪 時說 藍白合 瀕臨 破局 原本 期盼 韓國 擔任 副手 見面 聊過 韓國 認為 比較 適合 分區 國民黨 韓國 擔任 領頭羊 角色 這次 國民黨 空前 團結 拚到贏 決心 動搖 針對 郭台銘 整合 情形 侯友宜 郭台銘 了解 心意 懇請 郭台銘能 攜手 合作 中華民國 穩定 安全 郭台銘 機率 多大 侯友宜 期待 郭台銘 歸隊 來說 很大 助力 決定 投給 2024 大選 命定 總統 立即 一下 民進黨 近日 質疑 凱旋 前身 群館 議題 侯友宜 2018 第一次 選舉 民進黨 操作 議題 當時 所有 發票 貼出來 這是 合法 建物 合法 繳稅 絕無 逃漏稅 當時 文化 大學 拜託 租給 當成 校園 一部分 侯友宜 表示 2018 選舉 結束 文大 解約 覺得 學生 不好 回歸 市場機制 物業公司 管理 知道 調整 租金   \n",
       "138                                                                                                                                                                                                                                                                                                                                                                                                                                                                                                                                                                                                                                                                                                                                                                                                                                                            侯親 凱旋 爭議 太太 婚前 繼承 出租 獨子 過世 東森 新聞 雲林 造勢 辣個 男人 韓國 領唱 中華民國 固守 家鄉 衝刺 選票 國民黨 分區 第一名 韓國 兩席 區域 立委 分區 許宇 甄張 韓國 買二送 好不好 侯韓 合體 此時此刻 給藍營 注入 強心針 外界 不斷 見縫插針 主持人 侯友宜 韓國 一次 真情 擁抱 國民黨 總統 參選人 侯友宜 兩個 不用 那天 真的 有夠 無聊 決定 投給 2024 大選 命定 總統 立即 一下 侯友宜 韓國 造勢 最後 階段 愛的 抱抱 人馬 破除 謠言 侯友 宜才剛 結束 政見會 直奔 雲林 造勢 喉嚨 真的 不堪 負荷 燒聲 國民黨 總統 參選人 侯友宜 感謝 雲林 鄉親 講到 沙啞 今天 12 26 講太多話 今天 12 26 政見發表 講到 現在 講再 多話 面對 敵營 指控 凱旋 爭議 侯友宜 依舊 第一線 反擊 國民黨 總統 參選人 侯友宜 覺得 奇怪 老婆 財產 財產 老婆 現在 財產 傳給 孩子 孩子 四十歲 侯友宜 太太 抹黑 這塊 土地 夫人 婚前 財產 蓋房子 這段 悲痛 關係 國民黨 總統 參選人 侯友宜 岳母 孩子 不好 死掉 交代 在外 一塊 岳母 那塊 土地 老婆 房子 蓋一蓋 出錢 房子 蓋一蓋 多年 喪子 之痛 敵營 攻擊 重提 對手 賴清德 政見會 攻擊 投侯友 等於 支持 馬英九 韓國 一中 復辟 侯友宜 傻眼 國民黨 總統 參選人 侯友宜 賴清德 意思 台灣 這句 沒說出 今天 韓國 台灣 選戰 不到 二十天 藍綠 攻防 天天 上演 烏賊 戰中 脫身 考驗 陣營 智慧   \n",
       "139                                                                                                                                                                                                                                                                                                                                                                                                                                                                                                                                                                                                            民調 二次 政見會 民調 曝光 柯盈配 下滑 東森 新聞 再過 17 2024 總統大選 今日 ETtoday 民調 公布 最新 民調 顯示 賴蕭配 38.1 支持 保持 領先 侯康 配以 34.8 居次 柯盈配 19.2 ETtoday 民調 調查 顯示 民進黨 賴蕭配 支持 38.1 相比 一波 民調 略增 1.9 百分點 國民黨 侯康配 34.8 柯盈配 19.2 相較 上波 民調 下滑 1.5 百分點 而賴 蕭配 侯康配 差距 變大 上次 調查 僅差 1.4 百分點 本次 民調 則是 3.3 百分點 交叉 分析 顯示 賴蕭配 南部 支持 度以 49.7 領先 年齡 部分 40 49 族群 支持 更是 38.1 居首 侯康配 北部 地區 東部 離島 地區 分別 38.6 42.5 領先 年齡 部分 60 以上 族群 52.7 領先 優勢 柯盈 配則 20 29 30 39 年輕 選民 分別 48.2 36.9 取得 領先 決定 投給 2024 大選 命定 總統 立即 一下 看好 方面 44.6% 民眾 好賴 蕭配 當選 2024 總統 總統 31.3% 看好 侯康配 當選 13.2% 看好 柯盈配 民調 詢問 候選人 投給 一組 結果顯示 40.5% 民眾 表示 投給賴 蕭配 30.6% 投給 侯康配 投給 柯盈 配者則 16.3% 詢問 支持 侯康配 柯盈配 表態 是否 希望 整黨 輪替 高達 83.3% 希望 6.1% 有點 希望 9.4% 普通 0.6% 不太 希望 0.7% 希望 此次 民調 ETtoday 民調 12 25 日至 26 針對 20 以上 民眾 進行 2024 總統 選情 調查 手機 簡訊 方式 通知 進行 封閉性 網路 問卷調查 透過 ETtoday 民調 雲自建 會員資料 庫內 貼標 設籍 地區 年滿 20 以上 民眾 抽樣 範圍 對象 樣本 抽樣 方法 分層 比例 抽樣 proportionatestratifiedsampling 細分 戶籍地 性別 年齡 三維 交叉 多維 分層 回收 有效 樣本數 618 95% 信心 水準 抽樣誤差 正負 2.44% 經費 來源 ETtoday 新聞   \n",
       "142                                                                                                                                                                                                                                                                                                                                                                                                                                              凱旋 爭議 侯友 宜妻 公開信 50 空屋 補貼 青年 東森 新聞 面對 綠營 猛攻 凱旋 租價 逃漏稅 爭議 侯友宜 競選 辦公室 27 召開 記者會 秀出 侯友宜 妻子 任美鈴 女士 表示 凱旋 侯友宜 結婚 之前 繼承 財產 現階段 合約 限制 改變 出租 但會 捐款 方式 補貼 中低收入 承租 凱旋 任美鈴 女士 全文如下 凱旋 這是 父親 留給 家人 財產 侯友宜 結婚 之前 繼承 原有 財產 法律 清清楚楚 從頭到尾 屬於 侯友宜 親愛 兒子 當年 火燒 事件 離開 母親 終年 忙於 公務 曾經 說過 你連 孫子 不好 母親 當年 擔心 擔任 刑警 隨時 危險 不知 哪天出 任務 一去不回 父親 留下 這塊 蓋房子 希望 女兒 有個 依靠 母親 留給 我來 照顧 孫女 房產 2018 選舉 拿來 藉故 炒作 原以 詳細 說明 社會各界 嚴格 檢驗 已經 雨過天青 想不到 這次 大選 再度 拿來 混淆視聽 當年 紛擾 房產 簽約 租給 新光人壽 公寓 大廈 管理 維護 公司 承租 經營 改名 凱旋 分租 價格 決定 今天 選舉 最後 階段 綠營 人士 再度 凱旋 抹黑 攻擊 侯友宜 感到 無奈 十分 不忍 侯友宜 牽連到 抱不平 認為 這是 繼承 家族 土地 經營 做錯事 遭到 抹黑 攻擊 父母 深懷 歉意 眼裡 整件事 合法 繼承 合法 建造 從頭到尾 合法 依法 出租 繳稅 逃漏稅 女兒 願意 最高 標準 看待 身為 太太 家人 疼惜 政治 這條 辛苦 願意 善念來 終結 政治 抹黑 新光人壽 廠商 物業管理 合約 限制 無法 改變 出租 價格 凱旋 目前 尚有 50 幾間 空屋 全部 捐款 方式 補貼 資助 想要 凱旋 租屋 中低收入 清寒 青年 朋友 包括 青年 學生 2026 廠商 租約 到期 透過 媽媽 包租 代管 方式 整棟 大樓 改為 青年 房舍 出租 改為 社會 住宅 從政 多年 侯友宜 挖空心思 只能 一棟 屬於 屬於 房子 攻擊 代表 真的 缺失 瑕疵 批判 每次 看到 因公 忘私 疲憊 身影 更不願 看到 連累 這件 退縮 閃避 做錯事 現在 公道 人心 真心 相信 付出 一份 心力 台灣 變得 更好 年來 始終如一 信念 全家人 侯友宜 緊緊 一起 侯辦 補充 說明 凱旋 目前 出租 50 多間 將作 青年 房舍 提供 房租 補助 申請 條件 家庭 所得 超過 133 平均 每人 每月 所得 超過 56000 元者 條件 適用 現有 承租者 補助 金額 單人房 每月 6400 雙人房 每月 7000   \n",
       "144                                                                                                                                                                                                                                                                                                                                                                                                                                                                                                                                                                                                                                                                                                                                                                                                                                                                                                                                                         猛攻 凱旋 侯妻 任美鈴 公開信 2026 滿將 改為 社宅 東森 新聞 侯友宜 凱旋 爭議 延燒 太太 美玲 書信 說明 強調 房產 侯友宜 無關 不忍 丈夫 遭受 抹黑 攻擊 美玲 曝光 未來 規劃 侯辦 新聞 聯絡人 高詩琪 2026 廠商 租約 到期 透過 媽媽 包租 代管 方式 整棟 大樓 改為 青年 房舍 出租 改為 社會 住宅 美玲 強調 2026 租約 期滿 凱旋 就將 轉型 成為 社會 住宅 盼能 平息 爭議 侯友宜 第一線 曝光 蓋房 原來 這段 過往 國民黨 總統 候選人 侯友宜 岳母 孩子 不好 死掉 交代 岳母 那塊 土地 老婆 房子 蓋一蓋 出錢 房子 蓋一蓋 決定 投給 2024 大選 命定 總統 立即 一下 多年 喪子 之痛 敵營 攻擊 再次 重提 連侯友 競辦 執行長 金溥聰 親自出馬 民進黨 賴清德 侯友宜 競辦 執行長 金溥聰 民進黨 動作 非常明顯 轉移 焦點 混淆視聽 賴清德 候選人 違建 問題 一直 辦法 清楚 交代 藍營 抨擊 民進黨 轉移 焦點 綠營 不甘示弱 搬出 合約 書來 反擊 立委 吳思瑤 白紙黑字 要求 每年 調漲 租金 侯友宜 競辦 執行長 謝政達 整個 合約 價格 一年 1150 當初 文化 大學 簽訂 租賃契約 便宜 選戰 到屬 衝刺 藍綠 違建 土地 持續 交鋒 陣營 見招拆招 不讓 抹黑 攻擊 選戰 步調   \n",
       "145                                                                                                                                                               虎尾 鬥毆 爆增 80 蘇治芬 還給 孩子 安全 成長 環境 東森 新聞 虎尾 幾年 治安 急速 惡化 犯罪率 節節 升高 怵目驚心 聚眾 鬥毆 事件 暴增 8000% 重大 暴力事件 屢登 全國 新聞 版面 鎮民 人人自危 立委 蘇治芬 備感 憂心 27 三寶 雲林縣 議員 蔡岳儒 下一代 請命 溫情 喊話 雲林 縣長 張麗善 虎尾 鎮長 丁學忠 還給 孩子 安全 安心 成長 環境 內政部 警政署 統計 2014 2018 李進勇 縣長 林文彬 鎮長 任內 虎尾 治安 掌控 範圍 2019 2023 11 張麗善 縣長 丁學忠 鎮長 年間 虎尾 鎮的 犯罪 數據 急遽 升高 暴力事件 詐欺 聚眾 鬥毆 案件 數量 過去 增加 聚眾 鬥毆 事件 暴增 8000% 蔡岳儒 指出 幾年 雲林 重大 暴力事件 登上 全國 輿論 版面 2021 11 月間 短短 天內 發生 鬥毆 暴力事件 發生 虎尾 張麗善 帶著 雲林縣 警察局長 公開 暴力 宣戰 但過 鄉親 依然 感受 治安 好轉 跡象 2022 年還 不斷 發生 介入 特種行業 經營權 引發 鬥毆 事件 廟會 活動 傳出 人馬 擦槍 走火 顯見 張麗善 宣戰 根本 阻力 蔡岳儒 進一步 表示 而作 虎尾 鎮大 家長 丁學忠 案件 視若無睹 坊間 傳言 部分 案件 鎮長 身邊 關係 真的 鎮民 知道 治安 事件 造成 鎮民 人心惶惶 敢怒不敢言 還給 安全 虎尾 還給 父母親 擔心 虎尾 蘇治芬 老百姓 希望 有個 安居樂業 放心 養育 小孩 生活 環境 這最 要求 虎尾 卻是 奢求 幫派 有恃無恐 放任 當槍 詐欺 暴力 鬥毆 籠罩 虎尾 天空 擔心 人身安全 還要 憂心 孩子 好奇 眼神 招來 一頓 海扁 殺身之禍 憂慮 孩子 環境影響 走上 歪路 呼籲 縣長 鎮長 當作 回事 下一代 無辜 孩子 生活 恐懼 霸凌 環境 蘇治芬 表示 鎮長 應該 大眾 解釋 先生 是否 親信 雲林縣 大開 色情 酒店 KTV 酒店 賺取 大量 黑心錢 方便 圈養 旗下 黑幫 小弟 鞏固 黑社會 地位 雲林縣 虎尾 鎮聚堡 酒店 虎尾 鎮秘境 酒店 雲林縣 水林鄉 聚堡 酒店 台南市 善化 金沙 酒店 目前 一家 雲林縣 南鎮 外環 正在 裝潢 準備 開業 酒店 旗下 色情 產業 雲林縣 淪落 無人之境 無人 可管 囂張 至極 虎尾 林森 聚堡 酒店 中正國小 正對面 100 公尺 公尺 這是 國家 培育 尊尊 學子 學業 殿堂 這裡 違背 地方 善良 風俗 秘境 酒店 112 12 19 號被 警察 小姐 脫衣 陪酒 色情行業 叫做 色情行業 警察 單位 奇怪 當天 放走 地方 勢力 壓迫 警察 部分 警察局 應該 解釋 查獲 色情 酒店 釋放 應該 好好 交代 算一算 總共 雲林縣 已經 三家 連鎖 酒店 台南 一家 高調 雲林縣 南鎮 外環 籌備 開新 酒店 試問 當選 立委 是否 色情行業 加速 成及 擴大 地方 產業 實在 令人 不齒 行為 殘害 地方 善良 風俗 目前 提供 照片 網路 抖音 隨時 呼籲 相關 單位 包括 警察 單位 稅捐 單位 建管 單位 消防 單位 一定 要動 畏懼 黑社會 視力 還給 乾淨 生活空間   \n",
       "147                                                                                                                                                                                                                                                                                                                                                                                                                                                                                                                                                                                                                                                                                                                                                                                                                                                                                                                              車掃 輔選 侯友宜 民進黨 張嘴 東森 新聞 賣力 喊話 衝刺 選情 侯友宜 輔選 小雞 嘉義市 區掃街 拜票 支持者 互動 手勢 比三 敬禮 彎腰 擊掌 前往 拜廟 受到 熱烈歡迎 支持者 vs 國民黨 總統 候選人 侯友宜 侯友 宜凍 侯友 宜凍 感謝 感謝 支持 民進黨 選舉 半步 全奧步 連這也敢 當我 台灣 我常 張嘴 生命 顧台灣 槍戰 張嘴 騙走 直攻 民進黨 希望 選民 侯友 宜勤 陸戰 凝聚 支持 先前 接受 專訪 首度 證實 副手 人選 曾經 詢問 韓國 國民黨 總統 候選人 侯友宜 vs 主持人 對韓 市長 尊重 平常 聯絡 期盼 能夠 副手 這是 藍白合 破局 之後 有問 時間 衷心 期盼 覺得 比較 適合 去當 分區 立委 決定 投給 2024 大選 命定 總統 立即 一下 韓國 擔任 分區 領頭羊 提升 藍營 氣勢 空前團結 穩固 票源 侯友宜 還沒 回國 郭台銘 溫情 喊話 國民黨 總統 候選人 侯友宜 董事長 能夠 歸隊 很大 助力 竭盡 歡迎 感動 感謝 誠懇 侯友 宜想 團結 力量 透漏 郭董 早已 了解 心意 回國 表態 決定 郭台銘 歸隊 將對 藍營 選戰 強大 助力 國民黨 前中 常委 姚江臨 來助 一臂之力 國民黨 前中 常委 姚江臨 總統 投侯康 勞工 好康 姚江臨 率領 全國 多個 工會 代表 希望 號召 勞工 113 出門 投票 催票 連線 侯康配 拿下 2024 總統 大位   \n",
       "149                                                                                                                                                                                                                                                                                                                                                                                                                                                                                                                                                                                                                                                                                                                                                                                                                                                                                                                                                                                                                      高虹安 開庭 遭爆 員工 考績 旁聽 竹市 絕無 強迫 東森 新聞 新竹 市長 高虹安 涉嫌 貪汙 翁達瑞 誣告 27 開庭審理 再度 遭到 爆料 現場 旁聽 名單 落落 人物 引發 聯想 民進黨 新竹市 議員 楊玲宜 這工策 幹些 事情 做些 事情 不務正業 員工 不用 上班 主要職責 輔導 中小企業 工作 參加 所謂 法院 旁聽 成為 高虹安 禁衛軍 秀出 名單 仔細 一看 旁聽 人數 多達 65 疑似 位是 新竹市 工策 員工 位是 職員 家屬 決定 投給 2024 大選 命定 總統 立即 一下 工策 總幹事 永明 司法 案件 審查 旁聽 國人 自由 權益 工策 要求 同仁 考績 威脅 登記 工策 澄清 同仁 自發性 上網 登記 名單 工策 員工 疑似 新竹市 員工 現場 旁聽 民進黨 新竹市 議員 曾資程 旁聽席 多位 市府 員工 登記 旁聽 這是 不用 上班 民進黨 新竹市 議員 楊玲宜 部分 市府 員工 敢怒不敢言 個資 莫名其妙 當事人 曉得 傳出 員工 擔心 考績 太差 配合 演出 遭到 外界 指控 新竹市 政府 表示 強迫 同仁 登記 這件 影響 考績 高虹安 開庭 明明 上班 出現 多位 員工 自願 旁聽 質疑 人海戰術 集體 登記   \n",
       "\n",
       "    artCatagory pred  \n",
       "48           社會   全球  \n",
       "49           社會   財經  \n",
       "50           社會   全球  \n",
       "51           社會   全球  \n",
       "54           社會   全球  \n",
       "58           社會   全球  \n",
       "62           社會   財經  \n",
       "64           社會   全球  \n",
       "66           社會   全球  \n",
       "67           社會   全球  \n",
       "68           社會   全球  \n",
       "69           社會   全球  \n",
       "72           社會   全球  \n",
       "74           社會   財經  \n",
       "75           社會   全球  \n",
       "76           社會   全球  \n",
       "77           社會   財經  \n",
       "78           社會   全球  \n",
       "80           社會   全球  \n",
       "82           社會   財經  \n",
       "83           社會   全球  \n",
       "84           社會   財經  \n",
       "85           社會   全球  \n",
       "88           社會   全球  \n",
       "90           社會   全球  \n",
       "91           社會   全球  \n",
       "93           社會   全球  \n",
       "94           社會   全球  \n",
       "95           社會   全球  \n",
       "96           社會   全球  \n",
       "97           社會   全球  \n",
       "98           社會   全球  \n",
       "99           社會   財經  \n",
       "105          社會   全球  \n",
       "108          社會   全球  \n",
       "109          社會   全球  \n",
       "114          社會   全球  \n",
       "120          社會   全球  \n",
       "124          社會   財經  \n",
       "125          社會   財經  \n",
       "126          社會   全球  \n",
       "132          社會   全球  \n",
       "135          社會   全球  \n",
       "138          社會   全球  \n",
       "139          社會   全球  \n",
       "142          社會   全球  \n",
       "144          社會   財經  \n",
       "145          社會   全球  \n",
       "147          社會   全球  \n",
       "149          社會   全球  "
      ],
      "text/html": [
       "<div>\n",
       "<style scoped>\n",
       "    .dataframe tbody tr th:only-of-type {\n",
       "        vertical-align: middle;\n",
       "    }\n",
       "\n",
       "    .dataframe tbody tr th {\n",
       "        vertical-align: top;\n",
       "    }\n",
       "\n",
       "    .dataframe thead th {\n",
       "        text-align: right;\n",
       "    }\n",
       "</style>\n",
       "<table border=\"1\" class=\"dataframe\">\n",
       "  <thead>\n",
       "    <tr style=\"text-align: right;\">\n",
       "      <th></th>\n",
       "      <th>words</th>\n",
       "      <th>artCatagory</th>\n",
       "      <th>pred</th>\n",
       "    </tr>\n",
       "  </thead>\n",
       "  <tbody>\n",
       "    <tr>\n",
       "      <th>48</th>\n",
       "      <td>趙少康 口誤 賴清德 總統 道歉 連三喊 侯友宜 東森 新聞 搭配 手勢 振振有詞 民進黨 主帥 變成 藍營 副手 首場 唯一 副手 政見發表 趙少康 第一輪 口誤 擾亂 腳步 回合 對手 民進黨 總統 候選人 蕭美琴 趙少康 先生 政壇 前輩 記得 30 年前 直說 民進黨 執政 中華民國 滅亡 藍綠 政黨 候選人 當選 中華民國 一天 消失 國民黨 總統 候選人 趙少康 我講 開玩笑 民進黨 執政 地方 不升 中華民國 國旗 決定 投給 2024 大選 命定 總統 立即 一下 整場 辯論會 趙少康 綠營 對柯 陣營 副手 吳欣盈 台語 經濟 點評 民眾黨 總統 候選人 吳欣盈 台灣 人愛說 前進 JohnnieWalker 前進 愛拚 會贏 感覺 當時 亞洲 四小龍 領先 至今 已經 落後 許多 國家 三十年 政見 核心 打造 美好 台灣 經濟 著手 國民黨 總統 候選人 趙少康 女士 兩輪 發言 第一輪 裡面 特別 提到 經濟 重要 完全 認同 有別 副手 照稿 趙少康 善用 口條 實力 更要 延攬 綠白 副手 能力 國民黨 總統 候選人 趙少康 女士 美國 工作 認真 注意 執政 一定 蕭美琴 繼續 外交 外交 不分 黨派 重用 吳欣盈 女士 這下 辯論會 變成 招攬 人才 集散地 藍綠 最佳 副手 外界 認定</td>\n",
       "      <td>社會</td>\n",
       "      <td>全球</td>\n",
       "    </tr>\n",
       "    <tr>\n",
       "      <th>49</th>\n",
       "      <td>緊抓 批賴 冷柯 策略 趙少康 轟賴 工寮 綠能 火力 東森 新聞 總統 政見發表 趙少康 一上台 似乎 同場 兩個 對手 開局 民進黨 總統 候選人 賴清德 國民黨 總統 候選人 趙少康 房屋 房屋 根本 登記 房屋 根本 合法 房屋 面積 755 平方公尺 等於 228 地方 這是 工寮 萬里 老家 捲入 爭議 賴清德 主動 20 號的 政見會 承諾 整棟 房子 交付 公益 信託 礦工 生活 紀念館 趙少康 痛批 這根 本是顆 大型 煙霧彈 國民黨 總統 候選人 趙少康 工寮 三大騙 第一 大騙 礦區 完成 居住權 手續 以後 整個 礦區 居住權 通通 完成 你講 三年 完成 公益 信託 公益 信託 公益 信託 受益人 董事 辭職書 辭職書 簽名 賴清德 決定 投給 2024 大選 命定 總統 立即 一下 再度 搬出 董事長 辭職書 要賴 清德 直球 對決 第二輪 談到 能源 政策 話鋒一轉 繼續 民進黨 能源 政策 國民黨 總統 候選人 趙少康 以前 反核 以前 2025 所謂 能源 政策 徹底 失敗 政策 台電 去年 多少錢 知道 台電 去年 千億 中油 多少錢 知道 中油 去年 千億 天然氣 今年 中油 還要 幾千 台電 還要 幾千 這都 民脂民膏 拿來 不好 錯誤 政策 貪汙 可怕 最好 例子 最好 明證 明明 總統 政見發表 趙少康 整場 指賴 清德 知道 白綠 兩名 副手 心理 作何 感想</td>\n",
       "      <td>社會</td>\n",
       "      <td>財經</td>\n",
       "    </tr>\n",
       "    <tr>\n",
       "      <th>50</th>\n",
       "      <td>副手 唯一 政見會 思緒 清晰 表現 最好 東森 新聞 22 晚間 政見會 結束 國民黨 總統 候選人 侯友宜 書上 搭檔 趙少康 照片 附上 顧好 台灣 好康 字樣 內文 寫下 趙少康 思緒 清晰 辯才無礙 整場 發言 金句 表現 最好 一位 看得出 侯友宜 真的 趙少康 表現 十分 肯定 中途 趙少康 口誤 心目 掃黑 英雄 侯友宜 講成 賴清德 決定 投給 2024 大選 命定 總統 立即 一下 趙少康 會後 受訪 隨即 更正 第一 時間 侯友宜 臉書 留言 謝謝 友宜兄 肯定 當選 一定 最好 總統 一起 顧台灣 好康 距離 大選 20 多天 侯康 兩人 搭檔 整場 選戰 最後 衝刺</td>\n",
       "      <td>社會</td>\n",
       "      <td>全球</td>\n",
       "    </tr>\n",
       "    <tr>\n",
       "      <th>51</th>\n",
       "      <td>民調 總統 政見會 最新 支持 出爐 侯康 緊追 賴蕭 東森 新聞 美麗 電子報 23 公布 最新 民調 賴蕭配 支持 37.5 35 40 之間 徘徊 侯康配 32.6 緊咬 差距 僅有 4.9 百分點 不斷 緊追 賴蕭配 一直 無發將 差距 拉開 以外 柯盈 配則 持續 墊底 支持 16.3 相較 昨天 公布 95 民調 支持 度上 賴蕭配 侯康配 無太大 變化 柯盈 配則 下探 近期 新低 超過 一個月 超過 支持 明年 總統 是否 換黨 賴蕭配 侯康配 維持 僅小 差距 柯盈 配則 繼續 墊底 僅有 14.2 支持 換成 民眾黨 政黨 輪替 投給 在野黨 民調 最高者 一問 認同 下降 47.9 支持 在野黨 支持 最高 侯康配 決定 投給 2024 大選 命定 總統 立即 一下 美麗 電子報 民調 2023 17 持續 明年 12 連續 日為 2024 年則 連續 日為 追蹤調查 這次 調查 時間 12 20 日至 22 追蹤 民調 96 民調 全市 抽樣 設計 採用 中華電信 住宅 電話簿 基礎 電腦 資料庫 採用 比分 隨機抽樣 設計 確保 登錄 電話 門號 家戶 能夠 納入 調查 抽取 電話 門號 透過 CATI 系統 主機 派發 號碼 進行 隨機 跳號 處理 替換 撥打 電話 門號 此次 調查 成功 完訪 1470 抽樣誤差 最大值 信賴 水準 95 時為 2.6</td>\n",
       "      <td>社會</td>\n",
       "      <td>全球</td>\n",
       "    </tr>\n",
       "    <tr>\n",
       "      <th>54</th>\n",
       "      <td>顧好 台灣 趙少康 韓國 站台 拜票 東森 新聞 國民黨 總統 候選人 趙少康 來到 台中 立委 候選人 江啟 站台 進場 場內 鄉親 熱情 趙少康 站台 台中大 家長 盧秀燕 連許淑華 韓國 前高雄 市長 韓國 餐廳 裡面 道菜 滿漢全席 男人 鼻子 女子 嘴巴 鼻樑 英挺 代表 將來 人中之龍 曉得 有沒有 厲害 一下 江啟 太太 好不好 看到 才華 決定 投給 2024 大選 命定 總統 立即 一下 韓國 誇起 江啟 從政 能力 一路 誇到 外表 趙少康 則是 語出驚人 國民黨 總統 候選人 趙少康 昨天晚上 我講 江啟 台灣 和平 恐怖份子 一點 誇張 賴清德 恐怖份子 江啟 東勢 最好 委員 山神 保護神 對抗 恐怖份子 趙少康 一時 口誤 嚇壞 在場 所有人 藍營 政治 明星 通通 台灣 顧好 對手 綠營 所說 中台灣 對手 侯友宜 盧秀燕 市長 盧秀燕 對手 應該 中部 地區 700 選民 民進黨 執政 重南 輕北 中部 捷運 包括 台中市 包括 未來 延伸 南投 現在 鬆口 要給 捷運 盧秀燕 認為 中部 選民 執政黨 失望 地方 人士 指出 一直 台灣 搖擺 勝負 預料 這次 總統大選 藍綠 雙方 勤跑 台灣 打出 決戰 中台灣 口號 想要 中彰 投苗 拿下 關鍵 一席</td>\n",
       "      <td>社會</td>\n",
       "      <td>全球</td>\n",
       "    </tr>\n",
       "    <tr>\n",
       "      <th>58</th>\n",
       "      <td>韓國 問江 啟臣 鼻子 厲害 江妻 才華 東森 新聞 民進黨 總統 候選人 賴清德 搶攻 中台灣 身為 藍營 母雞 市長 盧秀燕 固守 中部 藍營 小雞 江啟 站台 這場 造勢 出動 國民黨 母雞 盧秀燕 分區 第一名 韓國 韓國 上場 金句 連發 引起 現場 笑聲 不斷 國民黨 分區 韓國 有的點 薑絲 大腸 有的點 梅干 扣肉 一下 客家 小炒 發現 江啟 代表 豐原 東勢 餐廳 裡面 一道 滿漢全席 好多 客家菜 市長 國民黨 分區 龍頭 韓國 立委 江啟 站台 菜色 形容 江啟 滿滿 一桌 大菜 外貌 誇讚 五官 過人之處 國民黨 分區 韓國 王淺秋 突然 提醒 市長 有沒有 發現 江啟 委員 鼻子 特別 男人 鼻子 女人 嘴巴 江啟 有點 尷尬 韓國 靈魂 拷問 決定 投給 2024 大選 命定 總統 立即 一下 國民黨 分區 韓國 vs 江啟 妻子 我講 這是 王淺秋用 女性 敏銳 觀察力 看出 江啟 鼻子 很大 哇江 啟臣 人中之龍 曉得 有沒有 厲害 我問 一下 江啟 太太 好不好 才華 造勢 場合 歡樂 滿點 燕子 市長 上陣 氣氛 突然 改變 批評 民進黨 市長 盧秀燕 民進黨 專門 山城 作對 民進黨 執政 新社 的花海 花毯 節給 停掉 怒槓 中央 執政 大小 市長 盧秀燕 民進黨 重南 輕北 中部 現在 民進黨 候選人 總統 總統 立法委員 面對 中部 地區 民眾 全國 民眾 失望 燕子 市長 小雞 站台 拚場 對抗 總統大選 來說 決戰 中台灣 盧秀燕 執政 優勢 化為 選票 立委 選戰 江啟 更是 市長 接班 熱門 人選 更是 壓力 賴清德 舉辦 造勢 盧秀燕 固守 中台灣 防止 綠營 侵門 踏戶</td>\n",
       "      <td>社會</td>\n",
       "      <td>全球</td>\n",
       "    </tr>\n",
       "    <tr>\n",
       "      <th>62</th>\n",
       "      <td>新竹 農地 爭議 柯媽 違法 柯文哲 還被 田僑 東森 新聞 民眾黨 總統 候選人 柯文哲 希望 新竹 柯文哲 故鄉 應當 台灣 政治 起點 現身 家鄉 造勢 新竹市 體育館 內千人 相挺 似乎 民眾黨 總統 候選人 柯文哲 感到 振奮 來到 新竹 繼續 農地 爭議 追著 柯文哲 母親 何瑞英 違法 柯文哲 田僑 媽媽 再度 兒子 抱屈 柯文哲 強調 知道 這塊 土地 細節 父母 妻子 佩琪 管理 決定 投給 2024 大選 命定 總統 立即 一下 柯文哲 妻子 佩琪 知道 講過 放在心上 年夜飯 講過 坐在 吃飯 婆婆 聊天 講過 事情 後續 所謂 知道 應該 後續 關心 民眾黨 總統 候選人 柯文哲 曉得 佩琪 處理 你問 搞不清楚 柯文哲 妻子 佩琪 知道 一家 公司 每年 報稅 有報 看一看 曉得 搞不好 佩琪 強調 這塊 土地 稅金 之外 新竹市 證實 收到 柯文哲 134 停車場 租金 收入 民眾黨 出現 內鬨 秘書長 立功 逼宮 達成 目標 應該 請辭 分區 表示 基層 民眾黨 總統 候選人 柯文哲 應該 一致 對外 認真 選舉 時間 記者會 種種 紛擾 似乎 衝擊 柯文哲 選情 最新 民調 顯示 賴蕭配 持續 站穩 第一 獲得 37.5 支持 侯康 配則 32.6 緊追 柯吳配 繼續 墊底 相較 一波 數字 下跌 1.4 百分比 迅速 止血 柯文哲 傷透 腦筋</td>\n",
       "      <td>社會</td>\n",
       "      <td>財經</td>\n",
       "    </tr>\n",
       "    <tr>\n",
       "      <th>64</th>\n",
       "      <td>盧秀燕 回防 中部 綠營 中部 真正 對手 東森 新聞 2024 大選 倒數 20 多天 市長 盧秀燕 結束 議會 備詢 展開 全國 巡迴 輔選 鞏固 彰化 苗栗 立委 綠營 認為 中台灣 真正 對手 侯友宜 盧秀燕 急派 行政院長 陳建仁 南下 會同 蔡其昌 林靜儀 視察 中海 鐵路 雙軌 規劃 辦理 情形 盧秀燕則 對此 表示 中部 選民 執政黨 失望 23 日藍營 政治 明星 通通 台灣 綠營 認為 中台灣 對手 侯友宜 盧秀燕 說法 盧秀燕 表示 對手 應該 中部 地區 700 選民 民進黨 執政 重南 輕北 中部 捷運 包括 台中市 包括 未來 延伸 南投 現在 鬆口 要給 捷運 盧秀燕 認為 中部 選民 執政黨 失望 地方 人士 指出 一直 台灣 搖擺 勝負 預料 這次 總統大選 藍綠 雙方 勤跑 台灣 打出 決戰 中台灣 口號 想要 中彰 投苗 拿下 關鍵 一席 決定 投給 2024 大選 命定 總統 立即 一下 盧秀燕 擁有 立委 資歷 去年 市長 選舉 大勝 蔡其昌 27 萬票 奠定 霸天 地位 每次 站台 中部 小雞 士氣 大振 建設 預算 槓上 中央 綠營 危機感 派出 高層 中部 護盤 綠營 中台灣 對手 盧秀燕 說法</td>\n",
       "      <td>社會</td>\n",
       "      <td>全球</td>\n",
       "    </tr>\n",
       "    <tr>\n",
       "      <th>66</th>\n",
       "      <td>農地 挖出 營業 廢棄物 柯文哲 2008 購買 東森 新聞 民眾黨 總統 候選人 柯文哲 爆出 名下 農地 違規 使用 鋪上 柏油 出租 遊覽車 業者 停車 新竹市 政府 要求 30 天內 改善 民眾黨 找來 廠商 機具 進場 刨除 瀝青 回歸 農地 使用 開挖 公尺 發現 許多 紅磚 疑似 事業 廢棄物 引來 質疑 對此 柯文哲 桃園 市場 掃街 做出 回應 民眾黨 總統 候選人 柯文哲 挖起來 廢棄物 擺到 哪裡 一定 標準 拜託 新竹 市議員 李國璋 處理 去過 所知 當年 買來 已經 混凝土 裡面 東西 2008 以前 決定 投給 2024 大選 命定 總統 立即 一下 柯文哲 強調 農地 事業 廢棄物 2008 購買 之前 強調 無關 開挖 進度 遇到 周末 暫時 停工 引來 部分 民眾 開酸 大選 農地 爭議 得燒</td>\n",
       "      <td>社會</td>\n",
       "      <td>全球</td>\n",
       "    </tr>\n",
       "    <tr>\n",
       "      <th>67</th>\n",
       "      <td>侯康 平安夜 前夕 造勢 支持者 聖誕樹 心願 台北 東森 新聞 穿著 雨衣 頂著 寒風 國民黨 侯友宜 趙少康 首度 總統府 舉辦 造勢 支持者 走上 街頭 力挺 擠爆 達格蘭 大道 主辦單位 特別 布置 聖誕樹 支持者 心願 每個 人頂 下雨 便利 原子筆 一寫 許多 上頭 希望 侯友宜 當選 人喊出 加油 許願 國民黨 這場 選戰 拿下 勝利 支持者 靠山 支持 國民黨 下一代 美好 沉默 勇敢 看到 年紀 七八十歲 老人 理由 不站 決定 投給 2024 大選 命定 總統 立即 一下 凱道 人潮 不斷 增加 蔓延到 景福門 現場 還能 看到 國民黨 青年團 長輩 拉票 國民黨 青年團 拜託 小孩子 投給 侯友 宜侯康配 號侯康 配要 小孩子 大哥 謝謝 這裡 小額 募款 謝謝 國民黨 支持者 年齡層 比較 缺乏 年輕 選票 國民黨 青年團 仿照 柯文哲 客廳 革命 希望 長輩 回家 孩子 拉票 搶攻 年輕 選票 國民黨 青年團 執行長 過去 柯文哲 年輕人 回去 說服 家長 希望 家長 年輕人 雙向 溝通 選戰 白熱化 進入 倒數 國民黨 首度 總統府 號召 人力 侯康配 不放過 選前 任何時刻 進行 最後 衝刺</td>\n",
       "      <td>社會</td>\n",
       "      <td>全球</td>\n",
       "    </tr>\n",
       "    <tr>\n",
       "      <th>68</th>\n",
       "      <td>韓狂 轟綠 大官 快樂 辛苦 分區 神經病 東森 新聞 國民黨 分區 提名 韓國 vs 支持者 民進黨 分區 推出 王義川 國民黨 四川 川比川 看穿 藍營 12 23 凱道 造勢 前高雄 市長 韓國 開口 便知 有沒有 只見 韓國 猛烈 調侃 民進黨 分區 第十三名 提名 王義川 國民黨 分區 提名 韓國 每天 電視 耍寶 表現 低落 神經病 每天 酒測 立法院 立法委員 監督 行政部門 知道 決定 投給 2024 大選 命定 總統 立即 一下 韓國 高層次 痛批 綠色 執政 苦不堪言 國民黨 分區 提名 韓國 vs 支持者 民進黨 執政 之下 大官 快樂 辛苦 國民黨 能夠 重新 執政 一定 大官 辛苦 快樂 好不好 韓國 直播 主們 一同 希望 侯康 入主 總統府 氣勢如虹 台灣 母雞 說話 同樣 基層 情緒 熱血沸騰 市長 盧秀燕 vs 支持者 選出 不好 船長 亂開 指揮 驚濤駭浪 擱淺 全軍覆沒 民進黨 盧秀燕 支持者 一同 凱道 強調 一次 一次 國民黨 總統府 好近 市長 盧秀燕 前面 兩次 總統大選 並不 順利 這次 感覺 距離 勝選 最近 一次 最後 一哩路 盧秀燕 猛批 民進黨 連前 總統 馬英九 致詞 忍不住 調侃 賴清德 老家 爭議 總統 馬英九 打死 缺乏 國家 領導人 應該 格局 氣度 以前 孟姜女 萬里長城 今見 賴神 男泣 萬里 違建 藍營 母雞 齊聚 聲嘶力竭 高喊 侯康配 當選 13 綠地 翻轉 撥雲見日 藍天 再現</td>\n",
       "      <td>社會</td>\n",
       "      <td>全球</td>\n",
       "    </tr>\n",
       "    <tr>\n",
       "      <th>69</th>\n",
       "      <td>柯文哲 岡山 三粉 造勢 活動 號稱 湧入 萬人 東森 新聞 活動 主持人 清茂 台灣 選擇 柯文哲 柯文哲 前進 高雄 岡山 進場 旗海 漂揚 20 分鐘 上台 主辦單位 號稱 現場 湧入 四萬人 一上台 柯文哲 民眾黨 總統 參選人 柯文哲 我要 感謝 清茂兄 知道 這為 子孫 未來 台灣 未來 特別 來辦 這場 不惜 開除黨籍 主持人 韓粉 五虎將 清茂是 國民黨 遭到 撤銷 黨籍 處分 這場 三粉 造勢 活動 希望 召集 柯粉 韓粉 郭粉 柯文哲 韓粉 感情 細數 韓國 過往 還說 招攬 韓國 擔任 市府 顧問 當年 民進黨 阻擋 副手 民眾黨 總統 參選人 柯文哲 韓國 算了 市長 沒來 顧問 參他 有來 現在 總統 搭檔 應該 決定 投給 2024 大選 命定 總統 立即 一下 吸韓 粉票 郭粉票 柯文哲 不放過 民眾黨 總統 參選人 柯文哲 一些 政策 繼續執行 下去 拉攏 選民 柯文哲 炮火 沒少 炮口 對準 賴皮 猛攻 民眾黨 總統 參選人 柯文哲 vs 民眾黨 立委 參選人 尹儷 產權 信託 應該 要問 法律 專家 知道 產權 東西 信託 離譜 濁水溪 以南 民眾黨 一席 立委 參選 阿伯 當起 母雞 催票 郭粉 韓粉 喊話 這場 三粉 造勢 能否 翻轉 選情 突圍 成功 各界 矚目</td>\n",
       "      <td>社會</td>\n",
       "      <td>全球</td>\n",
       "    </tr>\n",
       "    <tr>\n",
       "      <th>72</th>\n",
       "      <td>賴清德稱 中華民國 神話 侯友 宜怒 資格 總統 東森 新聞 侯康凱 造勢 國民黨 總統 參選人 侯友宜 萬人 歡呼聲 走進 會場 力拼 政黨 輪替 催票 國民黨 總統 參選人 侯友宜 12 23 中華民國 神話 鄙視 中華民國 看不起 中華民國 憲法 值得 中華民國 總統 值得 侯友宜 捍衛 中華民國 狂轟猛 民進黨 總統 參選人 賴清德 國民黨 總統 參選人 侯友宜 12 23 標準 土生土長 民進黨 出一 張嘴 愛台灣 生命 顧台灣 背叛 台灣 來說 賣台 要說 親中 決定 投給 2024 大選 命定 總統 立即 一下 選舉 剩抹紅 招數 侯友宜 賴清德 所屬 派系 新潮流 國民黨 總統 參選人 侯友宜 12 23 賴清德 黑金 裝傻 裝作 賴清德 縱容 新潮流 同流合汙 侯友宜 貪腐 爭議 不滿情緒 國民黨 總統 參選人 趙少康 出招 搶聲量 國民黨 總統 參選人 趙少康 12 23 市長 政見 一條 喜歡 行憲紀念 日要 放假 意義 行憲紀念 民進黨 根本 尊重 憲法 年輕人 24 晚上 通宵 電玩 選戰 最後 一哩路 侯康 出擊 黃金交叉</td>\n",
       "      <td>社會</td>\n",
       "      <td>全球</td>\n",
       "    </tr>\n",
       "    <tr>\n",
       "      <th>74</th>\n",
       "      <td>首長 催票 燕子 輔選 侯喊 燒聲 固守 北台 東森 新聞 燕子 飛回 巢穴 市長 盧秀燕 回到 台中 侯友 宜大 造勢 固守 中台灣 賣力 聲音 知道 市長 盧秀燕 三組 候選人 裡面 侯友 宜有 證明 生命 保護 講到 大燒聲 幾聲 後頭 民代們 趕緊 送上 礦泉水 潤喉 繼續 繼續 市長 盧秀燕 船長 重要 上頭 船長 上頭 輪機長 上頭 二副 上頭 水手 船員 重要 決定 投給 2024 大選 命定 總統 立即 一下 船長 比擬 侯友宜 身為 船長 縣市 首長 要說 北台 最大 母雞 自然 台北 市長 萬安 支持者 萬安 游淑慧 來到 社子 市場 萬安 這回 選戰 名言 永遠 艱困 選區 身體力行 艱困 社子島 陪同 小雞 游淑慧 掃街 拜票 萬安 魅力 黨派 認同 支持者 來給 一下 看到 萬安 就給 抱上去 萬安 人氣 市場 婆媽 抓著 咬耳朵 藍營 輔選 最大 利器 台北 市長 萬安 一路 13 這段 期間 太太 孩子 抱歉 體諒 一定 13 之後 好好 補償 萬安 儼然 藍營 輔選 大將 燕子 盧秀燕 一同 全台 透透 能出 幾分</td>\n",
       "      <td>社會</td>\n",
       "      <td>財經</td>\n",
       "    </tr>\n",
       "    <tr>\n",
       "      <th>75</th>\n",
       "      <td>造勢 萬人 侯友宜 拚到 最後 就會贏 東森 新聞 雙手 OK 空中 國民黨 總統 候選人 侯友 宜用 堅持 首歌 台下 萬名 支持者 信心 喊話 國民黨 總統 候選人 侯友宜 一起 拚到 最後 一哩路 堅持 首歌 就會贏 總統大選 決戰 衝刺 侯友宜 民進黨 選舉 一套 劇本 抹紅 抹黑 國民黨 總統 候選人 侯友宜 警政 署長 有人 水果 我爸 趕出去 所有人 給我 檢驗 侯友 宜有 拿過 一塊錢 侯友 宜有 黑金 掛勾 侯友宜 有沒有 做過 對不起 事情 決定 投給 2024 大選 命定 總統 立即 一下 面對 一成不變 選舉 招數 侯友宜 搬出 爸爸 例子 辯護 國民黨 總統 候選人 侯友宜 哪時 戰爭 有榮民證 爸爸 對得起 中華民國 大陸 參加 國共 內戰 國民黨 底下 報效 國家 這是 一輩子 榮譽 侯友宜 展現 全家 愛國心 主動 議題 藍綠 對決 態勢 升溫 決戰 中台灣</td>\n",
       "      <td>社會</td>\n",
       "      <td>全球</td>\n",
       "    </tr>\n",
       "    <tr>\n",
       "      <th>76</th>\n",
       "      <td>韓粉票 韓若當 顧問 總統 發生 東森 新聞 這場 名為 三粉 造勢 柯文哲 岡山 造勢 支持者 台灣 各地 人數 真不少 號召 郭粉 柯粉 韓粉 聚集 有人 高舉 證明 韓粉 曉得 原因 柯文哲 致詞 自爆 民眾黨 總統 參選人 柯文哲 韓國 算了 市長 沒來 顧問 有來 現在 總統 搭檔 應該 柯文哲 不惜 重提 往事 韓粉票 這叫 正牌 副手 吳欣盈 何以堪 民眾黨 總統 參選人 吳欣盈 市長 Leve 已經 總統 再選 總統 主席 適合 最好 副手 選擇 決定 投給 2024 大選 命定 總統 立即 一下 名分 鞏固 一下 國民黨 來說 搏君 一笑 國民黨 總統 參選人 趙少康 隨便 柯文哲 覺得 柯文哲 無所謂 他講 問題 發生 韓國 沒去 市政 顧問 白講 老的辣 還要 韓粉 韓國 省油的燈 國民黨 分區 第一名 韓國 對國瑜 不離 不棄 熱情 朋友 台上 幾十位 直播 今天 通通 來用 行動 代表 國民黨 支持 正宗 韓粉 台北 凱道 韓國 用意 明顯 要力 岡山 真假 韓粉們 造勢 還在 臉書 發文 喊話 支持者 全力支持 侯康配 維護 韓字 招牌 正當性 國民黨 總統 參選人 趙少康 冒牌 打著 韓國 名號 號召 韓粉 支持 柯文哲 這都 正牌 韓粉 正牌 韓國 直播 要分 清楚 韓粉 支持 國民黨 支持 侯康配 真假 韓粉 台北 高雄 比一比 藍白 陣營 總歸一句</td>\n",
       "      <td>社會</td>\n",
       "      <td>全球</td>\n",
       "    </tr>\n",
       "    <tr>\n",
       "      <th>77</th>\n",
       "      <td>約翰 走路 挨批 背離 民意 吳欣盈 不需 大作文章 東森 新聞 民眾黨 總統 候選人 吳欣盈 日前 政見發表 表示 小時候 喜歡 JohnnieWalker 代表 台灣 向前走 引發 外界 熱議 解釋 提到 JohnnieWalker 解釋 台灣 向前走 意思 需要 大作文章 現場 高歌 民眾黨 總統 候選人 吳欣盈 小時候 喜酒 辦桌 尾牙 JohnnieWalker 標誌 約翰 走路 向前走 一時 失眠 怨嘆 愛拚 會贏 唱歌 重點 以前 向前走 希望 現在 覺得 向前走 年輕人 躺平 看不到 未來 民眾黨 總統 候選人 吳欣盈 星期五 政見 重要 一點 台灣要 向前走 希望 得到 未來 現在 強調 希望 塑造 未來 20 當我 寶貝 長大 台灣 社會 決定 投給 2024 大選 命定 總統 立即 一下</td>\n",
       "      <td>社會</td>\n",
       "      <td>財經</td>\n",
       "    </tr>\n",
       "    <tr>\n",
       "      <th>78</th>\n",
       "      <td>快訊 基隆 市長 謝國 父親 謝修平 辭世 享壽 81 東森 新聞 基隆 市長 謝國 24 臉書 發文 表示 父親 謝修平 辭世 享壽 81 強調 爸爸 生前 特別 交代 勞煩 各界 從簡 謝謝 關心 謝國 父親 謝修 平出 生於 1941 基隆 地區 政治 世家 成員 父親 謝清 派系 事業 繼承者 掌控 謝修平 1973 當選 臺灣省 議會 第五屆 議員 1984 當選 基隆市 議會 第十屆 議員 擔任 議長 991 擔任 第二屆 國民大會 代表 任期 結束 再度 投身 商界 其妻 林曼麗 集團 林玉嘉之女 生有 二子 長子 謝國棟 次子 謝國 今天 平安夜 親愛 爸爸 謝修平 主席 凌晨 離世 家人 難過 謝謝 各界 朋友 關心 面對 爸爸 離開 現在 需要 一點 時間 處理 後續 無法 逐一 回覆 深感 抱歉 爸爸 生前 特別 交代 勞煩 各界 從簡 謝謝 關心</td>\n",
       "      <td>社會</td>\n",
       "      <td>全球</td>\n",
       "    </tr>\n",
       "    <tr>\n",
       "      <th>80</th>\n",
       "      <td>趙少康 桃園 站台 侯康配 當選 台灣 一定 和平 東森 新聞 國民黨 總統 候選人 趙少康 24 日到 桃園 參加 造勢 活動 表示 認為 備戰 加強 國防 溝通 認為 兩岸 溝通 打仗 侯康配 當選 以後 台灣 一定 和平 趙少康 參加 國民黨 桃園市 選區 立委 參選人 邱若華 八德 舉辦 造勢 活動 致詞 表示 立法院 需要 財經 人才 國民黨 總統 候選人 侯友宜 說將 組成 經濟 內閣 中央 政府 立法 院內 財經 一定 重要 邱若華有 財經 專長 留學 英國 英國 全世界 經濟 重鎮 將來 立法院 一定 會替 國家 帶來 政策 監督 趙少康 指出 現在 年輕夫妻 買不起 房子 養不起 孩子 國安 問題 民進黨 執政 兩岸 緊張 年輕人 服兵役 期間 變成 經濟 數字 好像 很漂亮 大部分 不好 財富 平均 畢業 年輕人 起薪 不高 經濟 政策 不行 外交 丟了 多個 邦交國 詐騙 民進黨 只能 喊抗 中保 效果 越來越少 認為 備戰 加強 國防 溝通 決定 投給 2024 大選 命定 總統 立即 一下 趙少康 總是 有人 覺得 民進黨 做得還 不錯 曹操 秦檜 幾個 朋友 覺得 民進黨 做得好 繼續 支持 覺得 民進黨 不好 手上 選票 民進黨 教訓 侯友宜 趙少康 當選 以後 台灣 一定 和平 兩岸 溝通 打仗 國民黨 主席 朱立倫 表示 侯康配 正式 宣布 民調 落後 已經 追平 最後 階段 團結 所有 力量 集中 選票 支持 國民黨</td>\n",
       "      <td>社會</td>\n",
       "      <td>全球</td>\n",
       "    </tr>\n",
       "    <tr>\n",
       "      <th>82</th>\n",
       "      <td>藍兩大 母雞 跨區 當侯 分身 盧衝 北部 蔣固 屏東 東森 新聞 藍營 縣市 首長 侯康配 最大 分身 尤其 市長 盧秀燕今 24 回防 替侯友 站台 輔選 致詞 沙啞 咳嗽 下午 台北 小雞 火力 全開 痛批 民進黨 另一頭 台北 市長 萬安 持續 挺進 藍營 艱困 選區 社子島 跨區 屏東 衝刺 小雞 掃街 拜票 市長 盧秀燕 國家 貪污腐敗 桃花 四起 情況 之下 在野黨 一定 集中力量 強大 在野黨 能夠 制衡 燕子 飛到 台北市 大安區 市長 盧秀燕 北上 替羅智強 站台 劈頭 民進黨 火力 全開 市長 盧秀燕 民進黨 能源 政策 錯誤 健康 發電 決定 投給 2024 大選 命定 總統 立即 一下 輔選 力道 聽聽 這就 知道 市長 盧秀燕 侯友 宜有 證明 生命 保護 講到 大燒聲 幾聲 後頭 民代們 趕緊 送上 礦泉水 潤潤 喉嚨 繼續 繼續 市長 盧秀燕 船長 重要 上頭 船長 上頭 輪機長 上頭 二副 上頭 水手 船員 重要 船長 比擬 侯友宜 身為 船長 縣市 首長 要說 北台 最大 母雞 自然 台北 市長 萬安 領軍 衝刺 艱困 選區 社子島 還得 跨區 新北 三重 輔選 主持人 投出 好球 縣市 新北市 明堂 站台 鼓勵 鼓勵 台灣 棒球 發展 新北 平安夜 這天 直衝 屏東 衝刺 南部 選情 台北 市長 萬安 看得出來 眼神 透露 政黨 輪替 渴望 未來 市長 帶領 國家 充滿 高度 期待 時間 黨內 同志 太太 孩子 說聲 抱歉 台北 市長 萬安 一路 13 這段 期間 太太 孩子 抱歉 體諒 一定 13 之後 好好 補償 萬安 儼然 藍營 輔選 大將 燕子 盧秀燕 一同 全台 透透 能出 幾分</td>\n",
       "      <td>社會</td>\n",
       "      <td>財經</td>\n",
       "    </tr>\n",
       "    <tr>\n",
       "      <th>83</th>\n",
       "      <td>韓粉 柯稱 韓國 副手 趙少康 白講 東森 新聞 民眾黨 總統 候選人 柯文哲 目前 民調 暫時 墊底 力求 突破 前一天 造勢 場合 韓國 有當 市政 顧問 現在 副手 人選 解讀 韓粉票 國民黨 總統 候選人 趙少康 這是 白講 宮廟 主委 我來掛 我來掛 宮廟 主委 柯文哲 戴上 護身符 知道 紅繩 太緊 稍微 一點 有點 卡卡 左喬右喬 順利 掛上 柯文哲 持續 南部 陸戰 屏東 慶濟宮 參拜 護身符 加持 能替 暫時 墊底 柯文哲 一劑 強心針 前一天 岡山 造勢 柯文哲 高呼 找過 韓國 擔任 市政 顧問 婉拒 當時 韓國 總統 搭當 應該 先是 仿造 韓國 崛起 三山 造勢 韓國 副手 解讀 韓粉票 決定 投給 2024 大選 命定 總統 立即 一下 國民黨 總統 候選人 趙少康 隨便 柯文哲 講啦 覺得 柯文哲 無所謂 他講 問題 發生 韓國 市政 顧問 白講 還要 柯文哲 同意 侯友宜 副手 今天 早上 造勢 韓國 本尊 凱道 正牌 仿冒 趙少康 呼籲 睜大 眼看 清楚 國民黨 總統 候選人 趙少康 市長 昨天 直播 也講 這才 正牌 直播 冒牌 打著 韓國 名號 號召 韓粉 支持 柯文哲 這都 正牌 國民黨 主席 朱立倫 市長 所有 分區 立委 現在 最強 團隊 目前 各地 幫侯康配 加油 記者 vs 民眾黨 總統 候選人 柯文哲 主席 趙少康 韓國 瑜當 副手 白講 柯文哲 回應 公開 造勢 場合 提到 副手 陪著 想著 一旁 正牌 副手 吳欣盈情 何以堪 民眾黨 總統 候選人 吳欣盈 主席 總統 候選人 主席 奇怪 因為韓 市長 層級 已經 總統 再選 總統 這也 顯示 柯文哲 選戰 倒數 20 民調 持續 墊底 只能 郭蹭韓 挽救 危急 選情</td>\n",
       "      <td>社會</td>\n",
       "      <td>全球</td>\n",
       "    </tr>\n",
       "    <tr>\n",
       "      <th>84</th>\n",
       "      <td>獨家 市府 跨年 圍巾 國旗 傳遞 侯康護 中華民國 主張 東森 新聞 獨家 了解 總統大選 倒數 藍綠 副手 先前 國旗 縣市 掛的 縣市 掛的 針鋒相對 市民 感受 藍營 執政 縣市 比較 中華民國 市府 特別 設計 一款 國旗 配色 限定 圍巾 展現 首都 市長 愛國心 了解 台北 市長 萬安 將會 邀請 局處 首長 刻起 一同 配戴 新版 圍巾 迎接 新年 看似 侯康配 撐腰 傳遞 守護 中華民國 意志 東森 新聞 獨家 曝光 這條 特別 圍巾 市府 限定 版本 巧思 紅色 藍色 白色 箭頭 希望 2024 元旦 充滿 中華民國 魔鬼 細節 這條 國旗 配色 圍巾 台北 市長 萬安 聖誕節 祝賀 影片 出現 這條 圍巾 時刻 現身 決定 投給 2024 大選 命定 總統 立即 一下 台北 市長 萬安 迎來 中華民國 元旦 特別 一定 展現出 中華民國 元素 國旗 意象 2024 局處 首長 特別 戴上 萬安 原因 當前 2024 選戰 藍綠 副手 國旗 趙少康 綠營 執政 中華民國 滅亡 蕭美琴 國旗 每天 升起 真正 發揮 中華民國 意象 萬安 行動 國旗 圍巾 侯康配 撐腰 台北 市長 萬安 中華民國 元旦 希望 結合 元素 2024 意象 紅色 喜氣 圍巾 裡頭 箭頭 象徵 不斷前進 政治 層面 解讀 盼望 侯康配 前進 國旗 飄揚 總統府 萬安 只掛 身上 還得 放在 心頭 台北 市長 萬安 來說 重要 門面 台北市 大門口 排滿 整排 國旗 往前走 牆邊 角落 國旗 抬頭 滿滿 國旗 2024 元旦 充滿 中華民國 元素 放眼 台北 街道 滿滿 國旗 沿用 國慶 特地 元旦 準備 2022 跨年 主持人 歡迎 市長 萬安 市長 過去 柯規 蔣不 這回 跨年 太太 兒子 現身 過去 八年 柯文哲 帶著 太太 出席 一改家 天下 印象 元旦 那天 萬安 一身 行頭 圍巾 徽章 國旗 元素 要將 侯康配 意志 帶到 叫陣 台北 市長 萬安 盡量 元素 應該 展現 萬安 坐鎮 首都 最後 時刻 替侯康 衝刺</td>\n",
       "      <td>社會</td>\n",
       "      <td>財經</td>\n",
       "    </tr>\n",
       "    <tr>\n",
       "      <th>85</th>\n",
       "      <td>賴清德 競辦 疫情 經濟 成長率 世界 事實 查核 中心 資料 不符 東森 新聞 賴清德 競選 總部 12 14 日發 新聞稿 回應 侯辦 批評 民進黨 觀光 產業 新聞稿 內容 疫情 期間 台灣 經濟 成長率 世界 第一 事實 查核 中心 表示 查資料 不符 經濟 議題 選戰 攻防 焦點 選民 關心 議題 各政黨 候選人 提出 經濟 政策 過往 台灣 經濟 成果 表達 看法 事實 查核 中心 希望 提供 讀者 精確 數字 參考 事實 查核 中心 表示 賴清德 競選 辦公室 12 14 新聞稿 疫情 期間 經濟 成長率 全世界 第一名 經查 查核 中心 利用 國際貨幣基金 IMF 行政院 主計 總處 網站 檢視 疫情 期間 2020 2022 世界 各國 經濟 成長率 排名 2020 全球 經濟 疫情 影響 多為負 成長 當年 台灣 經濟 成長率 3.39% 全世界 表現 較佳 經濟 成長率 全世界 11 全世界 國際貨幣基金 定義 開發 經濟體 愛爾蘭 世界 排名第 6.6% 名才 台灣 亞洲地區 台灣 亞洲 2021 2022 台灣 經濟 成長率 分別 6.5% 2.4% 世界 排名第 若以 開發 經濟體 比較 事實 查核 中心 指出 IMF 數據 台灣 2020 經濟 成長率 全世界 11 2021 2022 台灣 經濟 成長率 分別 6.5% 2.4% 世界 事實 查核 中心 提到 賴清德 競選 總部 12 14 日發 新聞稿 回應 侯友宜 競選 辦公室 批評 民進黨 觀光 產業 並在 新聞稿 .... 疫情 期間 經濟 成長率 全世界 經濟 成果 全民 共享 每人 普發 6000 查核 賴清德 競辦 疫情 期間 經濟 成長率 全世界 第一名 是否 屬實 事實 查核 中心 表示 賴競辦 所稱 疫情 期間 應為 2020 2022 查核 中心 檢索 國際貨幣基金 資料庫 IMF 行政院 主計 總處 統計 查詢 世界 各國 經濟 成長率 排名 諮詢 台灣 大學 經濟學 名譽教授 聰敏 事實 查核 中心 說明 國際貨幣基金 資料 2020 疫情 期間 全球 多數 國家 經濟 是負 成長 2020 台灣 經濟 成長率 3.39% 台灣 主計 總處 數據 同樣 3.39% 全世界 11 11 分別 蓋亞那 愛爾蘭 衣索比亞 坦尚 尼亞 幾內亞 坦吉克 諾魯 貝南 貝里斯 奈及利亞 愛爾蘭 主要 開發 國家 IMF 國際貨幣基金 歸類 台灣 屬於 開發 經濟體 聚焦 開發 經濟體 AdvancedEconomies 2020 開發 經濟體 經濟 成長率 排名 愛爾蘭 6.6% 台灣 東歐國家 拉脫維亞 0% 開發 經濟體 為負 成長 賴清德 競辦 疫情 期間 全世界 第一名 錯誤 陳述 當年 台灣 經濟 成長率 世界排名 前段 亞洲 若僅 比較 全世界 實際 GDP 購買力 指數 PPP 聚焦 30 國家 台灣 2020 經濟 成長率 確實 全球 事實 查核 中心 2021 全球 經濟 成長率 緬甸 阿富汗 是負 成長 成長 IMF 貨幣 基金會 資料庫 台灣 經濟 成長率 6.5% 台灣 主計 總處 數據 6.62% 全世界 74 聚焦 開發 經濟體 台灣 包括 愛爾蘭 15.1% 英國 7.4% 波蘭 6.9% 歐洲 國家 經濟 成長率 台灣 事實 查核 中心 指出 2022 全球 經濟 成長率 俄羅斯 烏克蘭 國家 為負 成長 當年 台灣 經濟 成長率 2.4% 台灣 主計 總處 數據 2.59% IMF 數據 全世界 排名 166 當年 中國 加拿大 挪威 愛爾蘭 台灣</td>\n",
       "      <td>社會</td>\n",
       "      <td>全球</td>\n",
       "    </tr>\n",
       "    <tr>\n",
       "      <th>88</th>\n",
       "      <td>僑胞 台灣 護照 入境 古巴 遭拒 外交部 回應 東森 新聞 一名 加拿大 顏姓 台僑 近日 媒體 控訴 一家 人去 古巴 旅遊 台灣 護照 入境 古巴 機場 境管 官員 中國 承認 台灣 國家 扣押 護照 隔天 遣返 加拿大 對此 外交部 做出 回應 中央社 加拿大 蒙特婁 顏男 DannyYen 一家人 楓葉卡 古巴 古巴 哈瓦那 機場 通關 老婆 一名 小孩 過關 受阻 古巴 境管 官員 一中 原則 承認 台灣 護照 人要 原機 遣返 顏男 表示 今年 台灣 朋友 護照 入境 古巴 古巴 官員 現在 實施 政策 台灣 現在 中國 關係 不好 顏男說 家人 離境 候機室 10 幾個 小時 24 搭機回 加拿大 對此 外交部 回應 古巴政府 規定 民眾 超過 中華民國 護照 觀光 入境 而民眾 了解 相關 資訊 暫緩 古巴 先查 入境 規定 目前 指示 台灣 哥倫比亞 代表處 調查 本案 保障 民眾 旅行 權益 決定 投給 2024 大選 命定 總統 立即 一下 外交部 補充 我國 古巴 設館 我國 當地 遺失 護照 可向 哥倫比亞 代表處 申請 補發 晶片 護照 由國 內製 晶片 護照 寄至 哥國 轉發 需時 不及 等候 核發 晶片 護照 申請 晶片 護照 駐外 館處 當地 效期 一年 臨時 返國 使用 惟該 護照 適用 美國 簽證 計畫 赴美 須另 申請 簽證 收件 日至 寄達 古巴 需時 CTWANT 授權 轉載</td>\n",
       "      <td>社會</td>\n",
       "      <td>全球</td>\n",
       "    </tr>\n",
       "    <tr>\n",
       "      <th>90</th>\n",
       "      <td>藍營 男神 助攻 優勢 趙少康 萬安 魅力十足 東森 新聞 國民黨 總統 候選人 趙少康 前往 屏東 綠營 優勢 持續 陸戰 藍營 母雞 男神 萬安 台北 市長 萬安 希望 孩子 能夠 知錯 能改 看到 一些 政治 人物 錯誤 示範 而變 口不擇言 死皮賴臉 希望 孩子 看到 錯誤 示範 雙重標準 信口雌黃 萬安 先是 屏東 夜市 掃街 吸引 大批 民眾 拍照 東港 東隆宮 趙少康 合體 萬安 加持 選情 帶來 正面 效應 國民黨 總統 候選人 趙少康 vs 台北 市長 萬安 市長 魅力十足 尤其 年輕 選民 婦女 選民 喜歡 到時候 加持 發表 政見 拜訪 加分 決定 投給 2024 大選 命定 總統 立即 一下 台北 市長 萬安 剛剛 問到 現在 民調 好像 誤差 範圍 一點點 一些 一下 相信 希望 能夠 勝選 先前 屏東縣 議長 周典論 前來 站台 力挺 南部 綠營 優勢 國民黨 藉由 不斷 深入基層 希望 綠地 翻轉 藍天</td>\n",
       "      <td>社會</td>\n",
       "      <td>全球</td>\n",
       "    </tr>\n",
       "    <tr>\n",
       "      <th>91</th>\n",
       "      <td>柯文哲 恆春 開講 諷作票 不用 停電 44 東森 新聞 阿伯 活動 北台 灣走 恆春 柯文哲 最後 一段 進行 開獎 選戰 倒數 20 近期 幾份 民調 顯示 柯文哲 墊底 並不 相信 民眾黨 總統 候選人 柯文哲 柯文哲 民調 第三 他棄 保掉 老實 講我 頭痛 謊話 每天 講到 最後 有效 藍綠 民眾黨 總統 候選人 柯文哲 有人 問我 國民黨 民進黨 地方 國民黨 相還 比較 好看 一點 民進黨 你講 民進黨 整碗 盤子 光光 決定 投給 2024 大選 命定 總統 立即 一下 呼籲 選民 監票 民眾黨 總統 候選人 柯文哲 以前 作票 還要 停電 現在 直接 剪掉 44 希望 這次 選舉 監票 部隊 機會 拜託 報名 參加 一下 以前 真的 發覺 40 44 剪掉 知道 柯文哲 國民黨 總統 候選人 趙少康 同一天 屏東 舉辦 造勢 戶別 苗頭</td>\n",
       "      <td>社會</td>\n",
       "      <td>全球</td>\n",
       "    </tr>\n",
       "    <tr>\n",
       "      <th>93</th>\n",
       "      <td>觀點 藍綠 白得 中部 天下 郭粉 關鍵 東森 新聞 2024 選戰 倒數 19 陣營 關心 300 年輕 政黨 傾向 將會成 一場 選戰 關鍵 選戰 進入 最後 倒數 階段 年輕 政黨 傾向 所謂 中間 選民 目前 300 萬人 牽動 相當 百分比 票數 所有人 投票 人數 牽動 整體 選票 關鍵 候選人 現在 把握 最後 幾個 周末 希望 能夠 衝高 20 29 年輕 分析 年輕人 族群 國內 政治 人物 明顯 失望 包括 金融時報 認為 年輕人 大選 幻想 破滅 根本 搞不清楚 處理 兩岸 台灣 最佳 方式 比較 在乎 物價 薪水 跟不上 物價上漲 紐約時報 年輕人 厭倦 地緣 政治 爭吵 比較 擔心 買得起 收入 有沒有 增加 候選人 思考 增加 年輕 選票 青睞 把握 最後 倒數 三周 造勢 24 賴清德 完成 環台 拼圖 最後 幾場 造勢 活動 賴清德 透過 綠色 紙板 拼出 字卡 代表 贏得 台灣 新北場 人數 好像 估計 新北 市場 人數 2000 多人 台北 場有 4000 多人 賴清德 還在 現場 新北 市府 能力 社會 住宅 台北 場的 賴清德則 柯文哲 農地 暴利 決定 投給 2024 大選 命定 總統 立即 一下 現在 藍綠 拚場 造勢 現場 多半 年齡層 現場 侯友 宜到 台灣 誓師 現場 位於 高鐵 旁邊 現場 萬多 侯友宜 中部 全台灣 會贏 關注 焦點 過去 英文 總統 綠營 主打 青年 返鄉 一次 賴清德 主打 所有 全年齡 想要 提高 總體 投票率 一次 環台 造勢 新北場 台北 場的 人數 好像 一些 小雞 造勢 場合 柯文哲 高雄 造勢 昨天 恆春 造勢 人數 侯友宜 昨天 造勢 現場 氣勢磅礴 相當 天氣 進場 揮舞 國旗 氣勢 高昂 侯友宜 現場 痛批 民進黨 執政 地方 建設 獲得 支持者 熱情 吶喊 講侯友 宜到 關鍵 中台灣 成為 2024 總統 決戰 搖擺 國民黨 台灣 民調 領先 現在 北票 南補 柯文哲 相當 年輕 選票 死忠 票數 守住 兩成 最後 棄保 發生 柯文哲 直接 流向 藍營 流向 綠營 觀察 現在 台灣 民調 稍微 領先 賴清德 南票 北補 現在 賴清德 賴皮 議題 持續 發酵 衝擊 台灣 選情 一些 相關 政策 現在 持續 藍營 衝擊 關鍵 郭粉 之前 台灣 相當 比例 現在 郭粉還 表態 最後 幾天 郭台銘會 現身 現身 之後 郭粉 流向 流向 流向 現在 關鍵 中台灣 人數 相當 郭粉 回流 成為 這次 2024 大選 重要 關鍵</td>\n",
       "      <td>社會</td>\n",
       "      <td>全球</td>\n",
       "    </tr>\n",
       "    <tr>\n",
       "      <th>94</th>\n",
       "      <td>冠廷扮 聖誕老人 親送 愛心 育幼院 東森 新聞 這次 任務 12 月初 規劃 民進黨 嘉義縣 立委 候選人 冠廷 號召 鄉親們 一起 公益 邀請 家裡 還算 完整 童書 玩具 一起 志工 資源 一起 共享 傳出去 志工 孩子 看到 一定 高興 愛心 機會 孩子 買不到 真的 意義 事情 消毒 整理 打包 包裝 美美 禮物 冠廷 親力 親為 跟志 工們 一起 有人 時間 捐錢 更能 看出 愛心 冠廷 包裝 禮物 帶到 安仁 家園 特地 太太 猿田 千里 裝扮成 聖誕 老公公 發送 糖果 孩子 民進黨 嘉義縣 立委 候選人 冠廷 這次 活動 聖誕 傳愛讓 感受 慈善 嘉義 傳達 愛與 感恩 精神 希望 未來 嘉義 能夠 活動 太太 一起 努力 傳播 愛跟 感恩 冠廷還 邀請 朋友 安東尼 太太 Emma 一起 公益 嘉義 中埔新 住民 Anthony 感謝 所有 捐贈 禮物 孩子 民眾 聖誕節 精神 散播 正是 冠廷 孩子 活動 感到 開心 安仁 家園 院長 謝孟潔 認識 冠廷 叔叔 高中 高中 弱勢 孩子 關心 今天 安仁 孩子 互動 看得出來 認真 親切 爸爸 離開 育幼院 冠廷 競選 總部 舉辦 聖誕 點燈 活動 特地 安排 教導 兒童 英文 橋段 期待 孩子 歡樂 學習 成長</td>\n",
       "      <td>社會</td>\n",
       "      <td>全球</td>\n",
       "    </tr>\n",
       "    <tr>\n",
       "      <th>95</th>\n",
       "      <td>民進黨 黨好 綠有 反省 東森 新聞 民進黨 總統 參選人 蕭美琴 認為 民進黨 檢討 賴清德北市 主委 近期 爭議 頻傳 表示 民進黨 已經 黨好 擔任 防疫 指揮官 時期 賴辦 疫情 經濟 成長 世界 第一 事實 查核 中心 認為 資料 不符 主持人 王世堅 凍蒜 王世堅 凍蒜 民進黨 立委 參選人 台上 一字排開 立委 一一 唱名 口號 每個 人手 有人 有人 比三 瞬間 變成 勝利 人名 變化 手勢 彷彿 記憶 考驗 邊邊 高嘉瑜 王世堅 吳沛憶 聰明 直接 握拳 主角 回歸 正中間 說話 惹出 爭議 副總 總統 參選人 蕭美琴 日前 坦承 民進黨 同志 犯錯 需要 檢討 反省 民進黨 台北 隊長 代表 民進黨 反省 能力 整體 來說 黨好 決定 投給 2024 大選 命定 總統 立即 一下 賴清德北市 主委 反省 能力 表示 錯誤 繼續 進步 民主 進步黨 標榜 民主 精神 進步 精神 在於 反省 能力 改善 能力 網友 蕭美琴剛 滅火 生火 戰場 回歸到 選戰 避免 失焦 這次 率領 小雞 公布 第二 波爆款 小物 口罩 民進黨 再度 主打 疫情 聲稱 防疫 綠營 主帥 賴清德 公布 數字 事實 查核 中心 打臉 賴情 新聞稿 聲稱 台灣 疫情 期間 經濟 成長率 全球 第一 IMF 數據 2020 根本 排名第 11 2021 2022 74 166 質疑 是否 誇大 數據 事實 感受 直接 幾年 過得</td>\n",
       "      <td>社會</td>\n",
       "      <td>全球</td>\n",
       "    </tr>\n",
       "    <tr>\n",
       "      <th>96</th>\n",
       "      <td>農地 挖出 營建 剩餘物 高虹安 中央 函稱 可回收 東森 新聞 怪手 進駐 柯文哲 新竹 農地 持續 進行 刨除 開挖 工程 先前 挖出 鋼筋水泥 廢棄物 外界 直指 市長 高虹安 應要 移送 柯文哲 新竹 市長 高虹安 屬於 營建 剩餘物 依法 來說 環保 解釋 中央 解釋 含說 可回收 利用 親上 火線 柯文哲 滅火 選戰 倒數 農地 爭議 柯文哲 飽受 攻擊 這回 不忍 直接 民眾黨 總統 參選人 柯文哲 民進黨 名嘴 胡說八道 底下 廢棄物 小心 我要 跟賴 總統 攻擊 查證 一下 申明 買來 柏油 決定 投給 2024 大選 命定 總統 立即 一下 KPTV 直播 頻道 柯文哲 名嘴 側翼 對手 賴清德 一起 柯文哲 更秀 出空 拍圖 自證 清白 民眾黨 總統 參選人 柯文哲 空照 明顯 96 已經 柏油 上面 有畫 停車 97 OK 柯文哲 澄清 地厚 柏油 出租 情況 環保局 勘查 證實 廢棄物 掩埋 情形 時間 競選 總幹事 指控 疑似 陷入 炒地 疑雲 立委 時代 邱顯智 遠遠 超過 藍綠 383 文心 建設 議員 捐過 100 搬出 數據資料 清楚 列出 2022 年選 市長 收受 建商 政治 獻金 遠超 藍綠 邱顯智 質疑 擔任 市長 負責 處理 社子島 開發 選舉 期間 收受 政治 獻金 有沒有 對價 關係 備受 質疑 立委 時代 邱顯智 畸零 捐錢 給黃珊 時間 買入 大量 畸零 民眾黨 發言人 戴于 知道 時力 邏輯 推演 合理 對價 關係 具體 指控 社子島 市府 層層 把關 說了算 民眾黨 出面 反擊 強調 政治 獻金 合法 公開 經得起 外界 檢驗 反控時 力士 政治 抹黑 選戰 衝刺 階段 民眾黨 不想 負面 疑雲 持續 失分</td>\n",
       "      <td>社會</td>\n",
       "      <td>全球</td>\n",
       "    </tr>\n",
       "    <tr>\n",
       "      <th>97</th>\n",
       "      <td>侯康凱 造勢 萬人 高呼 政黨 輪替 東森 新聞 人群 簇擁 寸步難行 侯康 配大 進場 10 分鐘 之久 台上 1223 凱道 造勢 主辦單位 超過 支持者 希望 民主 制衡 政黨 輪替 國民黨 總統 候選人 侯友宜 期待 政黨 輪替 期待 黏在 一起 一起 政黨 輪替 改變 副手 趙少康 火力 全開 批評 民進黨 國民黨 總統 候選人 趙少康 每次 選舉 民進黨 抗中 反中 一套 這套 簡單 出新 把戲 藍營 母雞 男神 萬安 三寶 身分 選民 呼籲 台北 市長 萬安 希望 孩子 成長 過程 成為 正直 誠實 希望 看到 錯誤 示範 變得 死皮賴臉 國民黨 主席 朱立倫 年輕 朋友 一定 願意 共同 爭取 一票 最後 見識 團結 晚會 最後 壓軸 大合唱 希望 所有 選民 一起 堅持到底 侯康配 首度 凱道 造勢 象徵 入主 總統府 決心 現場 國民黨 14 縣市 首長 議長 一起 出席 展現 國民黨 上下一心 要力 政黨 輪替</td>\n",
       "      <td>社會</td>\n",
       "      <td>全球</td>\n",
       "    </tr>\n",
       "    <tr>\n",
       "      <th>98</th>\n",
       "      <td>大選 恐變 危機 游梓翔 ICG 避免 兩岸 緊張 提醒 東森 新聞 2024 大選 進入 倒數 衝刺 台灣 選戰 國際 危機 組織 首頁 至頂 大學教授 游梓翔 示警 國際 危險 組織 眼中 台灣 選舉 會成 潛在 危機 組織 針對 藍綠 兩位 候選人 未來 當選 處理 兩岸關係 給出 建議 2024 大選 變成 危機 大學教授 游梓翔 發文 指出 台灣 大選 國際 危機 組織 至頂 首頁 顯示 台灣 選舉 成為 潛在 危機 賴清德勝 選要 北京 溝通 表達 願以 兩岸 接受 方式 維繫 關係 共識 重回 2016 路線 承認 1992 歷史事實 表明 遵守 現存 法律 框架 開放 觀光 學生 交流 執法 海上 安全 合作 意願 要求 北京 降低 對台 軍事 經濟 施壓 侯友宜 當選 兩岸 重回 92 共識 兩岸關係 至少 獲得 一段時間 改善 找到 重啟 兩岸 對話 台階 國民黨 管理 北京 預期 兩岸 進展 須以 台灣 社會 接受 降低 中國 對台 軍事行動 美國 展現 強化 防衛 改革 決心 決定 投給 2024 大選 命定 總統 立即 一下 民眾黨 部分 給出 建議 游梓翔 表示 民眾黨 勝選</td>\n",
       "      <td>社會</td>\n",
       "      <td>全球</td>\n",
       "    </tr>\n",
       "    <tr>\n",
       "      <th>99</th>\n",
       "      <td>前朝 痛點 萬安 巨蛋 就職 周年 東森 新聞 市長 帶領 各局 一早 握拳 朝氣 喊話 還送 簽名 感謝 棒球 特別 選在 巨蛋 分享 市長 週年 紀念日 願望 台北 市長 萬安 期待 泰勒 能夠 台北 巨蛋 我想 這也 市民 朋友 台灣民眾 歌迷 共同 期待 願望 已經 有譜 市長 多講 聖誕節 這天 就職 週年 隔天 26 號也 萬安 生日 許下 心願 台北 市長 萬安 期待 能夠 一點點 時間 太太 三寶 好好 簡單 頓飯 簡單 吃個 聊聊天 至少 關心 一下 大兒子 最近 課業 決定 投給 2024 大選 命定 總統 立即 一下 選戰 市政 萬安 希望 時間 家人 努力 總有 成果 市府 公布 施政 滿意度 調查 12 顯示 高達 萬安 不敢 鬆懈 台北 市長 萬安 持續 努力 滿於 現狀 很大 空間 加倍努力 打分數 分數 市民 表現 交給 市民 判定 選在 巨蛋 週年 記者會 前朝 市府 卡關 八年 飄出 陣陣 較勁 意味 台北 市長 萬安 市政 延續 保持 不好 面對 問題 解決問題 開展 新局 台北市 造成 安全 運動 未來 正面 回應 問題 萬安 就職 週年 宣示 未來 施政 期待 打造 運動 中心 2.0 台灣 推向 國際</td>\n",
       "      <td>社會</td>\n",
       "      <td>財經</td>\n",
       "    </tr>\n",
       "    <tr>\n",
       "      <th>105</th>\n",
       "      <td>蕭美琴 上貓 空會 青農 王閔生 力促 三貓 計畫 東森 新聞 民進黨 總統 候選人 蕭美琴 vs 茶館 老闆 開店 40 幾年 33 雙橡園 33 133 戰貓 蕭美琴 貓空 踏入 雙橡園 美國 歷史 建築 台灣 本土 茶館 民進黨 總統 候選人 蕭美琴 vs 貓空 青農 泡茶 文化 日本 飲茶 文化 日本 一些 傳統 程序 貓空 青農 大聊 台灣 茶文化 蕭美琴 受到 民進黨 立委 候選人 王閔生 邀請 貓空 了解 當地 產業 希望 幫助 青農 發展 民進黨 總統 候選人 蕭美琴 好香 呵呵 真的 很香 民進黨 台北市 立委 候選人 王閔生 華府 雙橡園 貓空 雙橡園 代表 國際 走向 再將 特色 文化 推廣 國際 過去 美的 經歷 世界觀 文化 推廣 國際 舞台 所謂 國際 王閔生 期盼 貓空 藉由 蕭美琴 經驗 持續 飄香 海外 民進黨 台北市 立委 候選人 王閔生 山區 最具 特色 貓空 地區 尤其 近年 一直 推動 三貓 計畫 熊貓 纜貓空 蕭美琴 外號 戰貓 特別 邀請 戰貓 蕭美琴 貓空 地區 未來 實現 落實 三貓 計畫 落實 三貓 計畫 王閔生 力促 地方 結合 中央 打造 文山 新風貌</td>\n",
       "      <td>社會</td>\n",
       "      <td>全球</td>\n",
       "    </tr>\n",
       "    <tr>\n",
       "      <th>108</th>\n",
       "      <td>議員 遭控 始亂終棄 女方 出面 說話 東森 新聞 民進黨 台中市 議員 蔡耀 前女友 指控 始亂終棄 這次 選區 立委 候選人 重要 幹部 事件 延燒 日後 25 前女友 爸爸 一起 出面 記者會 認為 選舉 操作 表示 願意 鑑定 前女友 爸爸 表示 希望 私下 解決 蔡耀 前女友 指控 始亂終棄 棄養 問題 前女友 爸爸 一起 出面 表示 對手 陣營 利用 前女友 操作 舉選 聲量 擔任 競選 總部 輔選 幹部 鑑定 女方 出庭 希望 對方 27 開庭 出庭 前女友 爸爸 表示 希望 私人 事件 私下 解決 占用 媒體 資源 表示 清楚 女兒 是否 遭到 脅迫 希望 息事寧人 決定 投給 2024 大選 命定 總統 立即 一下 文章 來源 台中市 議員 遭控 前女友 始亂終棄 女方 出面 親子鑑定 私下 解決 CTWANT 授權 轉載</td>\n",
       "      <td>社會</td>\n",
       "      <td>全球</td>\n",
       "    </tr>\n",
       "    <tr>\n",
       "      <th>109</th>\n",
       "      <td>觀點 輿論 火燒 賴皮 31 影片 公開 競辦秀 證據 滅火 東森 新聞 選戰 倒數 19 賴清德 老家 違建 公益 信託 整起 事件 依舊 繼續 發酵 賴營 特別 釋出 一段 31 畫面 內容 之前 接待 外國 媒體 影片 想要 證明 賴清德 老家 29.3 影片 顯示 從前 門到 後門 短短 一段距離 老家 戶口名簿 戶口名簿 樣式 老舊 上頭 寫著 中福街 84 競總 特別 強調 新北市 政局 透過 空拍 航照 橘色 84 號是 原地 整修 空照 圖是 錯誤 定位 賴清德 針對 新北地 政局 指控 逐一 反駁 賴清德 老家 相關 爭議 繼續 延燒 下去 越演 越烈 延燒到 選情 賴競 拿出 戶口名簿 再次 強調 中福 84 號從 1971 已經 存在 還反 控新北地 政局 根本就是 對方 發聲 選戰 進入 倒數 19 現在 賴清德 老家 爭議 備受 關注 柯文哲 新竹 農業用地 開挖 挖出 一些 水泥 磚頭 賴清德 暗酸 柯文哲 是從 15 年前 透過 農地 炒作 擁有 暴利 對此 黃國 不忍 直接 痛批 民進黨 下限 還秀出 一份 公文 特別 點名 民進黨 立委 明文 嘉義 3.9 公頃 農地 興建 萬坪 廠房 做法 動作 黃國 針對 綠營 拿出 明文 炒地 證據 猛攻 之外 時代 力量 動作 針對 民眾黨 建商 投資 炒作 社子島 開發 選戰 逼近 陣營 針對 相關 議題 持續 緊咬 專家 針對 賴清德 老家 違建 爭議 表示 現在 輿論 止不住 陷入 烏賊 成為 賴清德 選戰 七傷 賴清德 之前 包括 柯文哲 侯友宜 房產 爭議 之外 還拉 礦工 背書 徐巧 臉書 PO 隱形 斗篷 表示 綠營 連手 伸進 Google 街景 現在 賴清德 老家 包括 站哨 衛兵 馬賽克 徐巧 PO 這張 馬賽克 自嘲 順應 國家機器 趙少康 一定 影響 選情 選民 無動於衷 柯文哲 挨打 反控 賴清德 幽靈 建築 信託 東西 還說 賴清德 謊言 淹沒 看不見 看到 倒數 17 房產 爭議 住宅 相關 內容 咬緊 希望 能夠 動搖 選民 投票 意願</td>\n",
       "      <td>社會</td>\n",
       "      <td>全球</td>\n",
       "    </tr>\n",
       "    <tr>\n",
       "      <th>114</th>\n",
       "      <td>民調 最新 調查 侯康配 大增 3.4 問題 過半 支持 東森 新聞 2024 總統大選 將至 選戰 進入 白熱化 階段 總統 大位 分別 國民黨 侯友宜 搭配 趙少康 民進黨 民眾黨 清德 搭配 蕭美琴 柯文哲 搭配 吳欣盈 角逐 美麗 電子報 12 國政 民調 資料 顯示 民進黨 賴蕭配 支持 度為 38.2 月僅 增加 1.6 國民黨 侯康配 支持 度為 33.9 增加 3.4 之多 逐漸 民進黨 賴蕭配 拉近 民眾黨 柯盈配 下降 1.6 持續 墊底 美麗 電子報 發布 12 國政 民調 民進黨 賴蕭配 支持 度為 38.2 國民黨 侯康配 33.9 民眾黨 柯盈配 16.1 投票 廢票 人則 2.0 明確 回答 9.7 投票 廢票 明確 回答 兩項 比較 減少 趨勢 大選 日子 越來越近 心目 人選 逐漸 定案 對照 11 國政 民調 看到 國民黨 侯康配 支持 增加 3.4 百分點 緊追 民進黨 賴蕭配 民眾黨 柯盈配 支持 度則 再度 減少 降低 1.6 百分點 持續 墊底 決定 投給 2024 大選 命定 總統 立即 一下 12 國政 民調 認為 國內 整體 經濟 現況 不好 民眾 51.0 表示 投給 侯康配 表現 出現 政府 執政 帶來 經濟 現況 過半數 民眾 替換 政府 組成 且會 選擇 侯康配 希望 看到 當選 總統 投給 總統 一問 民進黨 賴清德 35.2 增加 2.3 民眾黨 柯文哲 22.0 國民黨 侯友宜 僅有 17.0 這次 藍白綠 三方 國民黨 侯友宜 民眾 心目 接受度 最高 美麗 電子報 本次 調查 訪問期間 2023 12 20 21 對象 全國 範圍 20 以上 民眾 抽樣 方法 訪員 進行 電腦 輔助 電話 訪問 中華電信 全國 住宅 電話 進行 比分 隨機抽樣 隨機 跳號 RDD 有效 樣本 1070 抽樣誤差 95 信賴 水準 下約 正負 3.0 百分點 母群體 參數 內政部 公布 2023 11 月民眾 性別 戶籍 年齡 資料 2022 12 民眾 教育 程度 特徵 逐項 重複 進行 連續性 修正</td>\n",
       "      <td>社會</td>\n",
       "      <td>全球</td>\n",
       "    </tr>\n",
       "    <tr>\n",
       "      <th>120</th>\n",
       "      <td>國民黨 展現 大團結 最新 民調 好感度 4.6 居冠 東森 新聞 侯康配 首度 凱道 造勢 超過 萬名 支持者 創造 國民黨 大團結 美麗 最新 民調 政黨 好感度 民進黨 41.7 上次 增加 0.3 國民黨 最高 43 上次 增加 4.6 民眾黨 35.4 增加 2.4 三組 候選人 支持 賴蕭配 38.2 上次 增加 1.6 侯康配 33.9 緊咬 賴蕭 增加 3.4 柯吳配 16.1 暫時 墊底 上次 降低 1.6 決定 投給 2024 大選 命定 總統 立即 一下 賴清德 老家 違建 柯文哲 農地 停車場 一點 犯錯 反應 民調 選戰 最後 關頭 犯錯</td>\n",
       "      <td>社會</td>\n",
       "      <td>全球</td>\n",
       "    </tr>\n",
       "    <tr>\n",
       "      <th>124</th>\n",
       "      <td>賴清德談 核能 問題 2050 非核 家園 強制 終止 東森 新聞 2024 大選 倒數 第一場 總統 候選人 政見發表 已於 20 結束 26 國民黨 總統 候選人 侯友宜 民進黨 總統 候選人 賴清德 民眾黨 總統 候選人 柯文哲 進行 第二場 政見發表 總統 候選人 總統 候選人 每位 候選人 每場 電視 政見發表 發表 時間 每輪 10 分鐘 進行 賴清德 第二場 政見發表 第一輪 表示 總統 應該 提出 國家 願景 藍圖 提出 具體 計畫 善用 每個 縣市 資源 給出 適當 定位 產業 交通 醫療 文化 觀光 居住 遺漏 縣市 認為 縣市 均衡 發展 安居樂業 台灣 永續 發展 賴清德 指出 總統大選 每個 重要 角色 像是 缺一不可 拼圖 表示 榮幸 參與 並會 國際 宣示 將會 抵抗 極權主義 擴張 堅定 守護 國家主權 民主 決定 投給 2024 大選 命定 總統 立即 一下 賴清德 表示 當選 總統 將會 英文 總統 基礎 擴大 社會 投資 提出 投資 22 完整 計畫 加薪 減稅 負擔 推動 國家 一起 2.0 3.0 減輕 三明治 家庭 負擔 推動 青年 百億 海外 圓夢 基金 支持 年輕人 走出 國際 第三 推出 教育 平權 強調 教育 人才 重要性 認為 人才 國家 明年 高中 職將 全面 學費 年收入 不到 70 家庭 每個 孩子 每人每年 補助 萬元 年收入 70 90 每個 孩子 每人每年 補助 千元 居住 方面 賴清德 將會 優化 青年 安家 貸款 推動 社會 住宅 落實 居住 正義 打破 貧富差距 賴清德 第二場 政見發表 第二輪 表示 未來 抓住機會 擴大 台灣 優勢 妥善 運用 數位 轉型 轉型 打造 智慧 永續 台灣 創造 第二次 經濟 奇蹟 數位 轉型 方面 賴清德 表示 妥善 運用 科技 創新 台灣成 智慧 科技 第一 壯大 半導體 產業 台灣 成立 完善 生態系統 第二 發展 人工智慧 並讓 產業化 幫助 廣大 中小企業 達到 數位 轉型 正義 推出 各項 智慧 改革 達到 智慧 國家 等級 淨零 轉型 方面 賴清德 提出 2030 年前 投入 9000 億新 台幣 帶動 企業 共同 投資 邁向 2050 淨零 轉型 目標 賴清德 表示 能源 轉型 重要 未來 將跟 國際 接軌 建立 交易 制度 廣推綠電 減少 台電 係數 解決 氣候變遷 產業 發展 問題 未來 綠能 是否 提供 產業 足夠 能源 賴清德 表示 台電 推估 2030 之前 用電 需求 增加 700 萬千瓦 供電 達到 900 萬千瓦 代表 未來 供電 穩定 缺電 時代 結束 多元 綠能 社會 將來 賴清德 第二場 政見發表 第三輪 指出 選擇 蕭美琴 擔任 副手 尊重 女性 侯友宜 指教 賴清德 表示 南部 雙北 條件 方面 政策 推動 有所 差異 兩位 候選人 談論 核能 問題 賴清德 解釋 2050 非核 家園 強制 終止 依法 規定 賴清德 社會 大眾 解釋 2050 核電 問題 大會 共識 大會 共識 再生能源 增加 用電 效率 增加 賴清德 點名 國民黨 提出 觀察 幾項 缺失 點名 馬英九 總統 前高雄 市長 韓國 國民黨 主席 朱立倫 國家主權 經濟 做出 一定 抨擊 希望 鄉親 父老 選擇 真正 台灣 安居樂業 候選人</td>\n",
       "      <td>社會</td>\n",
       "      <td>財經</td>\n",
       "    </tr>\n",
       "    <tr>\n",
       "      <th>125</th>\n",
       "      <td>柯文哲 批綠 長期 規劃 競選 總統 東森 新聞 2024 大選 倒數 第一場 總統 候選人 政見發表 已於 20 結束 26 國民黨 總統 候選人 侯友宜 民進黨 總統 候選人 賴清德 民眾黨 總統 候選人 柯文哲 進行 第二場 政見發表 總統 候選人 總統 候選人 每位 候選人 每場 電視 政見發表 發表 時間 每輪 10 分鐘 進行 柯文哲 第二場 政見發表 第一輪 首談 教育 政策 柯文哲 表示 台灣 教育 制度 擔心 當前 教育 喪失 功能 第一 無法 促成 社會 階級 流動 以前 出身 努力 機會 社會 力爭上游 現在 目前 升學 制度 窮人家 小孩子 更好 機會 表示 民進黨 執政 最大 問題 政治 介入 教育 體系 包括 卡管案 新竹 市長 林智堅 論文 抄襲 抄襲 人則 繼續 升官 提出 解決 108 課綱 困境 高教 改革 延長 義務教育 向下 延長 以下 幼稚園 向上 延伸 高中 義務教育 最後 雙語 教育 決定 投給 2024 大選 命定 總統 立即 一下 柯文哲 強調 教育 需要 全面 檢討 政治 意識形態 干擾 教育 錯誤 108 課綱 減弱 小孩 未來 國際 競爭力 利用 高等教育 培養 高科技 人才 相信 柯文哲 帶領 台灣 AI 浪潮 站穩腳步 柯文哲 談到 國安 提到 台灣 生育率 問題 指出 台灣 目前 生不如死 過去 藍綠 執政 未能 有效 處理 指出 台灣 少子 問題 不婚 晚生 再來 不生 解決 少子 解決 低薪 問題 當政 懷孕 個月給 每生 10 育兒 津貼 延長 12 育兒 家庭 綜所稅 扣除額 延長 12 居住 福利 首次 購屋 育兒 家庭 低利率 貸款 政府 幫忙 出前 利息 提供 育兒 家庭 加碼 租金 補貼 優先 入住 社會 住宅 提到 人工 生殖 應當 納入 代理 孕母 協助 不孕 家庭 能夠 圓夢 建立 友善 生養 環境 最後 一輪 柯文哲 提出 經濟 問題 指出 台灣 低薪 工時 政府 長期 規劃 造成 多項 缺失 柯文哲 批評 民進黨 長期 規劃 國民黨 遠見 一起 起鬨 一起 大撒幣 掏空 台灣 2024 柯文哲 提出 應先 制定 經濟 安全 保障法 內容 包括 國安會 建立 經濟 安全 會議 確保 重要 物資 穩定 供應 包括 食物 藥物 煤炭 天然氣 再來 關鍵 基礎設施 防護 最後 防止 專業 技術 外流 柯文哲 表示 2023 台灣 票選 年度 關鍵字 所謂 五缺 缺水 缺電 缺工 缺地 人才 缺蛋 豬肉 缺快 疫苗 衛生紙 藍綠 兩黨 繼續 執政 知道 明年 關鍵字 變成 柯文哲 提到 核能 問題 態度 再生能源 應當 穩健 發展 決定 2025 非核 家園 核電 停掉 轉過 要求 再生能源 風電 光電 快速 強迫 發展 衍生 弊端 主張 核二 核三 研議 核四盡速 提檢再 決定 一步 賴清德 發問 真的 堅持 非核 家園 票將 一大半 企業界 柯文哲 強調 賴清德 長期 規劃 只想 短線 競選 總統</td>\n",
       "      <td>社會</td>\n",
       "      <td>財經</td>\n",
       "    </tr>\n",
       "    <tr>\n",
       "      <th>126</th>\n",
       "      <td>海軍 還原 潛艦 官兵 意外 救生 落海 東森 新聞 海虎 潛艦 官兵 失蹤 海軍 司令部 參謀長 吳立平 中將 今天 表示 當時 發現 船尾 異音 回收 救難 浮標 先派 落海 隨後 兵器 協助 救生 前往 救援 因湧 浪過 導致 人員 落海 落海 一次 掉下去 陸續 掉下去 國防部 上午 舉行 國軍 軍風紀 安全 維護 工作 記者會 針對 海虎 潛艦 官兵 失蹤 搜救 行動 將再 延長 72 小時 海軍 司令部 參謀長 吳立平 中將 表示 搜救 過程 進行 海上 洋流 變化 測算 逐步 擴大 搜尋 範圍 海虎 潛艦 21 小琉球 附近 海域 值勤 因湧 浪過 導致 官兵 落海 官兵 獲救 失蹤 軍方 初步 調查 人員 當時 瞬間 湧浪 拍落 舷邊 安全 扣環 嚴重 受力 扭曲 變形 鬆脫 導致 落海 海軍 24 宣布 搜救 72 小時 黃金 救援 時間 放棄 機會 搜救 行動 延長 72 小時 決定 投給 2024 大選 命定 總統 立即 一下 媒體 海虎 潛艦 人救 導致 失蹤 吳立平 表示 此次 執行 任務 時間 12 18 日至 29 18 出海 既定 計畫 當時 發現 船尾 異音 回收 救難 浮標 第一批 派出 因湧浪 情況 造成 落海 救回 人協尋 第二批 兵器 前去 協助 湧浪 情況 落海 救回 第三批 救生 前往 救援 落海 救回 人協 尋中 總計 11 落海 一次 掉下去 陸續 掉下去 針對 搜救 兵力 數量 吳立平 空中 兵力 派遣 80 架次 水面 兵力 已有 76 艘次 高雄港 以南 恆春 小琉球 沿岸 派遣 319 車次 981 人次 進行 搜救 將視 洋流 狀況 逐步 擴大 搜尋 範圍 吳立平 表示 海虎 潛艦 救難 浮標 脫落 1997 發生 一次 救難 浮標 蓋板 木質 兩側 卡扣 修護 通令 定時 檢查 這次 海虎 回航 檢查 卡扣 正常 1997 發生 脫落 狀況 表示 海軍 同舟 一命 放棄 搜救 過程 官兵 內心 創傷 嚴重 心緒 目前 平復 持續 加強 人員 心輔 詳細 案情 正由 專案小組 釐清</td>\n",
       "      <td>社會</td>\n",
       "      <td>全球</td>\n",
       "    </tr>\n",
       "    <tr>\n",
       "      <th>132</th>\n",
       "      <td>總統 政見會 登場 侯友宜 手勢 滿滿 手板 道具 有備而來 東森 新聞 國民黨 總統 候選人 侯友宜 你好 佛教 喜樂 手勢 侯友宜 政見發表 會後 替民眾 國家 祈福 這次 有備而來 國民黨 總統 候選人 侯友宜 治安 箭裡面 打詐 掃毒 掃槍 除暴 決定 投給 2024 大選 命定 總統 立即 一下 講到 提出 關鍵 政見 侯友宜 拿出 手板 上頭 清楚 羅列 政策 訴求 發言 提到 政策 準備 手板 強化 論述 選民 一目了然 一位 民進黨 總統 候選人 賴清德 天要 完成 拼圖 活動 並不 簡單 一塊 紙板 政見發表 支持者 溫情 喊話 民進黨 總統 候選人 賴清德 第一輪 發言 談起 環島 拼圖 民眾黨 柯文哲 這回 火力 十足 民眾黨 總統 候選人 柯文哲 低薪 窮忙 這是 政府 整體 戰略規劃 化身 教授 政見 這批 功力 似乎 比上 猛烈 藍綠 主帥 交鋒 服裝 巧思 柯文哲 深灰色 西裝 搭配 亮色 領帶 特別 胸前 kp 徽章 有別於 過去 綠色 換了 黑底 銀邊 侯友 宜西 裝配 淺藍色 條紋 領帶 戴上 眼鏡 更顯 專注 堅定 氣勢 賴清德 這次 同樣 配戴 重要 場合 出現 紫色 領帶 會後 回應 這次 現時 飄出 幾分 火藥味 民眾黨 總統 候選人 柯文哲 賴清德 禁不起 科學 考驗 明顯 誤導 全國 民眾 民進黨 總統 候選人 賴清德 主席 一如 以往 很會 分析 問題 說法 做法 市長 厲害 一次 政見發表 會裡面 散布 訊息 這次 國民黨 總統 候選人 侯友宜 賴清德 主席 一半 時間 操作 抹黑 抹紅 這是 接受 藍綠 主帥 交戰 表現 成績 選民 心中 自有 定論</td>\n",
       "      <td>社會</td>\n",
       "      <td>全球</td>\n",
       "    </tr>\n",
       "    <tr>\n",
       "      <th>135</th>\n",
       "      <td>侯友 宜指 韓國 瑜當 副手 期待 郭台銘 歸隊 東森 新聞 國民黨 總統 候選人 侯友宜 26 首度 證實 國民黨 分區 提名 韓國 瑜當 副手 韓國 認為 比較 適合 分區 婉拒 期待 鴻海 創辦人 郭台銘 歸隊 懇請 郭台銘能 攜手 合作 中華民國 穩定 安全 侯友宜 接受 台視 新聞 決戰 2024 台灣 未來 專訪 時說 藍白合 瀕臨 破局 原本 期盼 韓國 擔任 副手 見面 聊過 韓國 認為 比較 適合 分區 國民黨 韓國 擔任 領頭羊 角色 這次 國民黨 空前 團結 拚到贏 決心 動搖 針對 郭台銘 整合 情形 侯友宜 郭台銘 了解 心意 懇請 郭台銘能 攜手 合作 中華民國 穩定 安全 郭台銘 機率 多大 侯友宜 期待 郭台銘 歸隊 來說 很大 助力 決定 投給 2024 大選 命定 總統 立即 一下 民進黨 近日 質疑 凱旋 前身 群館 議題 侯友宜 2018 第一次 選舉 民進黨 操作 議題 當時 所有 發票 貼出來 這是 合法 建物 合法 繳稅 絕無 逃漏稅 當時 文化 大學 拜託 租給 當成 校園 一部分 侯友宜 表示 2018 選舉 結束 文大 解約 覺得 學生 不好 回歸 市場機制 物業公司 管理 知道 調整 租金</td>\n",
       "      <td>社會</td>\n",
       "      <td>全球</td>\n",
       "    </tr>\n",
       "    <tr>\n",
       "      <th>138</th>\n",
       "      <td>侯親 凱旋 爭議 太太 婚前 繼承 出租 獨子 過世 東森 新聞 雲林 造勢 辣個 男人 韓國 領唱 中華民國 固守 家鄉 衝刺 選票 國民黨 分區 第一名 韓國 兩席 區域 立委 分區 許宇 甄張 韓國 買二送 好不好 侯韓 合體 此時此刻 給藍營 注入 強心針 外界 不斷 見縫插針 主持人 侯友宜 韓國 一次 真情 擁抱 國民黨 總統 參選人 侯友宜 兩個 不用 那天 真的 有夠 無聊 決定 投給 2024 大選 命定 總統 立即 一下 侯友宜 韓國 造勢 最後 階段 愛的 抱抱 人馬 破除 謠言 侯友 宜才剛 結束 政見會 直奔 雲林 造勢 喉嚨 真的 不堪 負荷 燒聲 國民黨 總統 參選人 侯友宜 感謝 雲林 鄉親 講到 沙啞 今天 12 26 講太多話 今天 12 26 政見發表 講到 現在 講再 多話 面對 敵營 指控 凱旋 爭議 侯友宜 依舊 第一線 反擊 國民黨 總統 參選人 侯友宜 覺得 奇怪 老婆 財產 財產 老婆 現在 財產 傳給 孩子 孩子 四十歲 侯友宜 太太 抹黑 這塊 土地 夫人 婚前 財產 蓋房子 這段 悲痛 關係 國民黨 總統 參選人 侯友宜 岳母 孩子 不好 死掉 交代 在外 一塊 岳母 那塊 土地 老婆 房子 蓋一蓋 出錢 房子 蓋一蓋 多年 喪子 之痛 敵營 攻擊 重提 對手 賴清德 政見會 攻擊 投侯友 等於 支持 馬英九 韓國 一中 復辟 侯友宜 傻眼 國民黨 總統 參選人 侯友宜 賴清德 意思 台灣 這句 沒說出 今天 韓國 台灣 選戰 不到 二十天 藍綠 攻防 天天 上演 烏賊 戰中 脫身 考驗 陣營 智慧</td>\n",
       "      <td>社會</td>\n",
       "      <td>全球</td>\n",
       "    </tr>\n",
       "    <tr>\n",
       "      <th>139</th>\n",
       "      <td>民調 二次 政見會 民調 曝光 柯盈配 下滑 東森 新聞 再過 17 2024 總統大選 今日 ETtoday 民調 公布 最新 民調 顯示 賴蕭配 38.1 支持 保持 領先 侯康 配以 34.8 居次 柯盈配 19.2 ETtoday 民調 調查 顯示 民進黨 賴蕭配 支持 38.1 相比 一波 民調 略增 1.9 百分點 國民黨 侯康配 34.8 柯盈配 19.2 相較 上波 民調 下滑 1.5 百分點 而賴 蕭配 侯康配 差距 變大 上次 調查 僅差 1.4 百分點 本次 民調 則是 3.3 百分點 交叉 分析 顯示 賴蕭配 南部 支持 度以 49.7 領先 年齡 部分 40 49 族群 支持 更是 38.1 居首 侯康配 北部 地區 東部 離島 地區 分別 38.6 42.5 領先 年齡 部分 60 以上 族群 52.7 領先 優勢 柯盈 配則 20 29 30 39 年輕 選民 分別 48.2 36.9 取得 領先 決定 投給 2024 大選 命定 總統 立即 一下 看好 方面 44.6% 民眾 好賴 蕭配 當選 2024 總統 總統 31.3% 看好 侯康配 當選 13.2% 看好 柯盈配 民調 詢問 候選人 投給 一組 結果顯示 40.5% 民眾 表示 投給賴 蕭配 30.6% 投給 侯康配 投給 柯盈 配者則 16.3% 詢問 支持 侯康配 柯盈配 表態 是否 希望 整黨 輪替 高達 83.3% 希望 6.1% 有點 希望 9.4% 普通 0.6% 不太 希望 0.7% 希望 此次 民調 ETtoday 民調 12 25 日至 26 針對 20 以上 民眾 進行 2024 總統 選情 調查 手機 簡訊 方式 通知 進行 封閉性 網路 問卷調查 透過 ETtoday 民調 雲自建 會員資料 庫內 貼標 設籍 地區 年滿 20 以上 民眾 抽樣 範圍 對象 樣本 抽樣 方法 分層 比例 抽樣 proportionatestratifiedsampling 細分 戶籍地 性別 年齡 三維 交叉 多維 分層 回收 有效 樣本數 618 95% 信心 水準 抽樣誤差 正負 2.44% 經費 來源 ETtoday 新聞</td>\n",
       "      <td>社會</td>\n",
       "      <td>全球</td>\n",
       "    </tr>\n",
       "    <tr>\n",
       "      <th>142</th>\n",
       "      <td>凱旋 爭議 侯友 宜妻 公開信 50 空屋 補貼 青年 東森 新聞 面對 綠營 猛攻 凱旋 租價 逃漏稅 爭議 侯友宜 競選 辦公室 27 召開 記者會 秀出 侯友宜 妻子 任美鈴 女士 表示 凱旋 侯友宜 結婚 之前 繼承 財產 現階段 合約 限制 改變 出租 但會 捐款 方式 補貼 中低收入 承租 凱旋 任美鈴 女士 全文如下 凱旋 這是 父親 留給 家人 財產 侯友宜 結婚 之前 繼承 原有 財產 法律 清清楚楚 從頭到尾 屬於 侯友宜 親愛 兒子 當年 火燒 事件 離開 母親 終年 忙於 公務 曾經 說過 你連 孫子 不好 母親 當年 擔心 擔任 刑警 隨時 危險 不知 哪天出 任務 一去不回 父親 留下 這塊 蓋房子 希望 女兒 有個 依靠 母親 留給 我來 照顧 孫女 房產 2018 選舉 拿來 藉故 炒作 原以 詳細 說明 社會各界 嚴格 檢驗 已經 雨過天青 想不到 這次 大選 再度 拿來 混淆視聽 當年 紛擾 房產 簽約 租給 新光人壽 公寓 大廈 管理 維護 公司 承租 經營 改名 凱旋 分租 價格 決定 今天 選舉 最後 階段 綠營 人士 再度 凱旋 抹黑 攻擊 侯友宜 感到 無奈 十分 不忍 侯友宜 牽連到 抱不平 認為 這是 繼承 家族 土地 經營 做錯事 遭到 抹黑 攻擊 父母 深懷 歉意 眼裡 整件事 合法 繼承 合法 建造 從頭到尾 合法 依法 出租 繳稅 逃漏稅 女兒 願意 最高 標準 看待 身為 太太 家人 疼惜 政治 這條 辛苦 願意 善念來 終結 政治 抹黑 新光人壽 廠商 物業管理 合約 限制 無法 改變 出租 價格 凱旋 目前 尚有 50 幾間 空屋 全部 捐款 方式 補貼 資助 想要 凱旋 租屋 中低收入 清寒 青年 朋友 包括 青年 學生 2026 廠商 租約 到期 透過 媽媽 包租 代管 方式 整棟 大樓 改為 青年 房舍 出租 改為 社會 住宅 從政 多年 侯友宜 挖空心思 只能 一棟 屬於 屬於 房子 攻擊 代表 真的 缺失 瑕疵 批判 每次 看到 因公 忘私 疲憊 身影 更不願 看到 連累 這件 退縮 閃避 做錯事 現在 公道 人心 真心 相信 付出 一份 心力 台灣 變得 更好 年來 始終如一 信念 全家人 侯友宜 緊緊 一起 侯辦 補充 說明 凱旋 目前 出租 50 多間 將作 青年 房舍 提供 房租 補助 申請 條件 家庭 所得 超過 133 平均 每人 每月 所得 超過 56000 元者 條件 適用 現有 承租者 補助 金額 單人房 每月 6400 雙人房 每月 7000</td>\n",
       "      <td>社會</td>\n",
       "      <td>全球</td>\n",
       "    </tr>\n",
       "    <tr>\n",
       "      <th>144</th>\n",
       "      <td>猛攻 凱旋 侯妻 任美鈴 公開信 2026 滿將 改為 社宅 東森 新聞 侯友宜 凱旋 爭議 延燒 太太 美玲 書信 說明 強調 房產 侯友宜 無關 不忍 丈夫 遭受 抹黑 攻擊 美玲 曝光 未來 規劃 侯辦 新聞 聯絡人 高詩琪 2026 廠商 租約 到期 透過 媽媽 包租 代管 方式 整棟 大樓 改為 青年 房舍 出租 改為 社會 住宅 美玲 強調 2026 租約 期滿 凱旋 就將 轉型 成為 社會 住宅 盼能 平息 爭議 侯友宜 第一線 曝光 蓋房 原來 這段 過往 國民黨 總統 候選人 侯友宜 岳母 孩子 不好 死掉 交代 岳母 那塊 土地 老婆 房子 蓋一蓋 出錢 房子 蓋一蓋 決定 投給 2024 大選 命定 總統 立即 一下 多年 喪子 之痛 敵營 攻擊 再次 重提 連侯友 競辦 執行長 金溥聰 親自出馬 民進黨 賴清德 侯友宜 競辦 執行長 金溥聰 民進黨 動作 非常明顯 轉移 焦點 混淆視聽 賴清德 候選人 違建 問題 一直 辦法 清楚 交代 藍營 抨擊 民進黨 轉移 焦點 綠營 不甘示弱 搬出 合約 書來 反擊 立委 吳思瑤 白紙黑字 要求 每年 調漲 租金 侯友宜 競辦 執行長 謝政達 整個 合約 價格 一年 1150 當初 文化 大學 簽訂 租賃契約 便宜 選戰 到屬 衝刺 藍綠 違建 土地 持續 交鋒 陣營 見招拆招 不讓 抹黑 攻擊 選戰 步調</td>\n",
       "      <td>社會</td>\n",
       "      <td>財經</td>\n",
       "    </tr>\n",
       "    <tr>\n",
       "      <th>145</th>\n",
       "      <td>虎尾 鬥毆 爆增 80 蘇治芬 還給 孩子 安全 成長 環境 東森 新聞 虎尾 幾年 治安 急速 惡化 犯罪率 節節 升高 怵目驚心 聚眾 鬥毆 事件 暴增 8000% 重大 暴力事件 屢登 全國 新聞 版面 鎮民 人人自危 立委 蘇治芬 備感 憂心 27 三寶 雲林縣 議員 蔡岳儒 下一代 請命 溫情 喊話 雲林 縣長 張麗善 虎尾 鎮長 丁學忠 還給 孩子 安全 安心 成長 環境 內政部 警政署 統計 2014 2018 李進勇 縣長 林文彬 鎮長 任內 虎尾 治安 掌控 範圍 2019 2023 11 張麗善 縣長 丁學忠 鎮長 年間 虎尾 鎮的 犯罪 數據 急遽 升高 暴力事件 詐欺 聚眾 鬥毆 案件 數量 過去 增加 聚眾 鬥毆 事件 暴增 8000% 蔡岳儒 指出 幾年 雲林 重大 暴力事件 登上 全國 輿論 版面 2021 11 月間 短短 天內 發生 鬥毆 暴力事件 發生 虎尾 張麗善 帶著 雲林縣 警察局長 公開 暴力 宣戰 但過 鄉親 依然 感受 治安 好轉 跡象 2022 年還 不斷 發生 介入 特種行業 經營權 引發 鬥毆 事件 廟會 活動 傳出 人馬 擦槍 走火 顯見 張麗善 宣戰 根本 阻力 蔡岳儒 進一步 表示 而作 虎尾 鎮大 家長 丁學忠 案件 視若無睹 坊間 傳言 部分 案件 鎮長 身邊 關係 真的 鎮民 知道 治安 事件 造成 鎮民 人心惶惶 敢怒不敢言 還給 安全 虎尾 還給 父母親 擔心 虎尾 蘇治芬 老百姓 希望 有個 安居樂業 放心 養育 小孩 生活 環境 這最 要求 虎尾 卻是 奢求 幫派 有恃無恐 放任 當槍 詐欺 暴力 鬥毆 籠罩 虎尾 天空 擔心 人身安全 還要 憂心 孩子 好奇 眼神 招來 一頓 海扁 殺身之禍 憂慮 孩子 環境影響 走上 歪路 呼籲 縣長 鎮長 當作 回事 下一代 無辜 孩子 生活 恐懼 霸凌 環境 蘇治芬 表示 鎮長 應該 大眾 解釋 先生 是否 親信 雲林縣 大開 色情 酒店 KTV 酒店 賺取 大量 黑心錢 方便 圈養 旗下 黑幫 小弟 鞏固 黑社會 地位 雲林縣 虎尾 鎮聚堡 酒店 虎尾 鎮秘境 酒店 雲林縣 水林鄉 聚堡 酒店 台南市 善化 金沙 酒店 目前 一家 雲林縣 南鎮 外環 正在 裝潢 準備 開業 酒店 旗下 色情 產業 雲林縣 淪落 無人之境 無人 可管 囂張 至極 虎尾 林森 聚堡 酒店 中正國小 正對面 100 公尺 公尺 這是 國家 培育 尊尊 學子 學業 殿堂 這裡 違背 地方 善良 風俗 秘境 酒店 112 12 19 號被 警察 小姐 脫衣 陪酒 色情行業 叫做 色情行業 警察 單位 奇怪 當天 放走 地方 勢力 壓迫 警察 部分 警察局 應該 解釋 查獲 色情 酒店 釋放 應該 好好 交代 算一算 總共 雲林縣 已經 三家 連鎖 酒店 台南 一家 高調 雲林縣 南鎮 外環 籌備 開新 酒店 試問 當選 立委 是否 色情行業 加速 成及 擴大 地方 產業 實在 令人 不齒 行為 殘害 地方 善良 風俗 目前 提供 照片 網路 抖音 隨時 呼籲 相關 單位 包括 警察 單位 稅捐 單位 建管 單位 消防 單位 一定 要動 畏懼 黑社會 視力 還給 乾淨 生活空間</td>\n",
       "      <td>社會</td>\n",
       "      <td>全球</td>\n",
       "    </tr>\n",
       "    <tr>\n",
       "      <th>147</th>\n",
       "      <td>車掃 輔選 侯友宜 民進黨 張嘴 東森 新聞 賣力 喊話 衝刺 選情 侯友宜 輔選 小雞 嘉義市 區掃街 拜票 支持者 互動 手勢 比三 敬禮 彎腰 擊掌 前往 拜廟 受到 熱烈歡迎 支持者 vs 國民黨 總統 候選人 侯友宜 侯友 宜凍 侯友 宜凍 感謝 感謝 支持 民進黨 選舉 半步 全奧步 連這也敢 當我 台灣 我常 張嘴 生命 顧台灣 槍戰 張嘴 騙走 直攻 民進黨 希望 選民 侯友 宜勤 陸戰 凝聚 支持 先前 接受 專訪 首度 證實 副手 人選 曾經 詢問 韓國 國民黨 總統 候選人 侯友宜 vs 主持人 對韓 市長 尊重 平常 聯絡 期盼 能夠 副手 這是 藍白合 破局 之後 有問 時間 衷心 期盼 覺得 比較 適合 去當 分區 立委 決定 投給 2024 大選 命定 總統 立即 一下 韓國 擔任 分區 領頭羊 提升 藍營 氣勢 空前團結 穩固 票源 侯友宜 還沒 回國 郭台銘 溫情 喊話 國民黨 總統 候選人 侯友宜 董事長 能夠 歸隊 很大 助力 竭盡 歡迎 感動 感謝 誠懇 侯友 宜想 團結 力量 透漏 郭董 早已 了解 心意 回國 表態 決定 郭台銘 歸隊 將對 藍營 選戰 強大 助力 國民黨 前中 常委 姚江臨 來助 一臂之力 國民黨 前中 常委 姚江臨 總統 投侯康 勞工 好康 姚江臨 率領 全國 多個 工會 代表 希望 號召 勞工 113 出門 投票 催票 連線 侯康配 拿下 2024 總統 大位</td>\n",
       "      <td>社會</td>\n",
       "      <td>全球</td>\n",
       "    </tr>\n",
       "    <tr>\n",
       "      <th>149</th>\n",
       "      <td>高虹安 開庭 遭爆 員工 考績 旁聽 竹市 絕無 強迫 東森 新聞 新竹 市長 高虹安 涉嫌 貪汙 翁達瑞 誣告 27 開庭審理 再度 遭到 爆料 現場 旁聽 名單 落落 人物 引發 聯想 民進黨 新竹市 議員 楊玲宜 這工策 幹些 事情 做些 事情 不務正業 員工 不用 上班 主要職責 輔導 中小企業 工作 參加 所謂 法院 旁聽 成為 高虹安 禁衛軍 秀出 名單 仔細 一看 旁聽 人數 多達 65 疑似 位是 新竹市 工策 員工 位是 職員 家屬 決定 投給 2024 大選 命定 總統 立即 一下 工策 總幹事 永明 司法 案件 審查 旁聽 國人 自由 權益 工策 要求 同仁 考績 威脅 登記 工策 澄清 同仁 自發性 上網 登記 名單 工策 員工 疑似 新竹市 員工 現場 旁聽 民進黨 新竹市 議員 曾資程 旁聽席 多位 市府 員工 登記 旁聽 這是 不用 上班 民進黨 新竹市 議員 楊玲宜 部分 市府 員工 敢怒不敢言 個資 莫名其妙 當事人 曉得 傳出 員工 擔心 考績 太差 配合 演出 遭到 外界 指控 新竹市 政府 表示 強迫 同仁 登記 這件 影響 考績 高虹安 開庭 明明 上班 出現 多位 員工 自願 旁聽 質疑 人海戰術 集體 登記</td>\n",
       "      <td>社會</td>\n",
       "      <td>全球</td>\n",
       "    </tr>\n",
       "  </tbody>\n",
       "</table>\n",
       "</div>"
      ]
     },
     "execution_count": 55,
     "metadata": {},
     "output_type": "execute_result"
    }
   ],
   "execution_count": 55
  },
  {
   "cell_type": "code",
   "metadata": {
    "ExecuteTime": {
     "end_time": "2024-04-08T01:46:05.622466Z",
     "start_time": "2024-04-08T01:46:05.615498Z"
    }
   },
   "source": [
    "false_pred.loc[531, :]"
   ],
   "outputs": [
    {
     "data": {
      "text/plain": [
       "words          立功 再批 難以 理解 恐難 避免 衝向 敗選 懸崖 東森 新聞 民眾黨 秘書長 立功 今天 批評 民眾黨 總統 候選人 柯文哲 競選 總幹事 荒謬 難以 理解 僅因 特定 媒體 批判 就將 全部 媒體 封殺 大帽子 持續 流失 中立 理性 選民 恐難 避免 敗選 懸崖 立功 日前 柯文哲 得票 分區 立委 席次 未達 以上 辭去 分區 立委 以示 負責 立功 今天 發表聲明 表示 近期 帶頭 對抗 媒體 荒謬 難以 理解 民眾黨 媒體 確實 實力雄厚 全台 選民 大量 傳統媒體 受眾 僅因 特定 媒體 批判 就將 全部 媒體 封殺 大帽子 2024 總統 立委 大選 倒數 計時 即時 選情 看謝 立功 還向 提出 忠告 希望 發揮 柯文哲 提過 煞車 作用 車道 偏移 修正 輔助 系統 近乎 瘋狂 理性 地圖 戰略 偏離 爭取 最大 支持 道路 持續 中立 理性 選民 流失 恐難 避免 敗選 懸崖 立功 第一 民眾黨 柯文哲 原來 目標 應是 建立 聯合政府 朋友 敵人 要少 排擠 願意 幫忙 至今 回覆 KPI 分區 兩年 協議 是否 簽署 個人利益 超過 利益 柯文哲 理念 隨時 犧牲 立功 表示 近期 帶頭 針對 媒體 全面 開戰 行為 荒謬 友善 媒體 打成 柯黑 媒體 民眾黨 記者 身為 總幹事 發言人 經營 協調 媒體 關係 更何況 發言人 及文宣 系統 媒體 背景 弄成 媒體 夾殺 全面 對抗 做法 立功 認為 儘速 修復 媒體 關係 帶著 全黨 火車 對撞 行為 理性 科學 務實 民眾黨 多年 辛苦 努力 不致 毀於一旦 保護 柯文哲 茁壯 民眾黨\n",
       "artCatagory                                                                                                                                                                                                                                                                                                                                                                                                                                                                                                                                                                                                                                                                                                                        社會\n",
       "pred                                                                                                                                                                                                                                                                                                                                                                                                                                                                                                                                                                                                                                                                                                                               全球\n",
       "Name: 531, dtype: object"
      ]
     },
     "execution_count": 56,
     "metadata": {},
     "output_type": "execute_result"
    }
   ],
   "execution_count": 56
  },
  {
   "cell_type": "code",
   "metadata": {
    "ExecuteTime": {
     "end_time": "2024-04-08T01:46:06.533915Z",
     "start_time": "2024-04-08T01:46:06.529382Z"
    }
   },
   "source": [
    "pprint(false_pred['words'][531])"
   ],
   "outputs": [
    {
     "name": "stdout",
     "output_type": "stream",
     "text": [
      "('立功 再批 難以 理解 恐難 避免 衝向 敗選 懸崖 東森 新聞 民眾黨 秘書長 立功 今天 批評 民眾黨 總統 候選人 柯文哲 競選 總幹事 荒謬 '\n",
      " '難以 理解 僅因 特定 媒體 批判 就將 全部 媒體 封殺 大帽子 持續 流失 中立 理性 選民 恐難 避免 敗選 懸崖 立功 日前 柯文哲 得票 分區 '\n",
      " '立委 席次 未達 以上 辭去 分區 立委 以示 負責 立功 今天 發表聲明 表示 近期 帶頭 對抗 媒體 荒謬 難以 理解 民眾黨 媒體 確實 實力雄厚 '\n",
      " '全台 選民 大量 傳統媒體 受眾 僅因 特定 媒體 批判 就將 全部 媒體 封殺 大帽子 2024 總統 立委 大選 倒數 計時 即時 選情 看謝 立功 '\n",
      " '還向 提出 忠告 希望 發揮 柯文哲 提過 煞車 作用 車道 偏移 修正 輔助 系統 近乎 瘋狂 理性 地圖 戰略 偏離 爭取 最大 支持 道路 持續 '\n",
      " '中立 理性 選民 流失 恐難 避免 敗選 懸崖 立功 第一 民眾黨 柯文哲 原來 目標 應是 建立 聯合政府 朋友 敵人 要少 排擠 願意 幫忙 至今 '\n",
      " '回覆 KPI 分區 兩年 協議 是否 簽署 個人利益 超過 利益 柯文哲 理念 隨時 犧牲 立功 表示 近期 帶頭 針對 媒體 全面 開戰 行為 荒謬 '\n",
      " '友善 媒體 打成 柯黑 媒體 民眾黨 記者 身為 總幹事 發言人 經營 協調 媒體 關係 更何況 發言人 及文宣 系統 媒體 背景 弄成 媒體 夾殺 '\n",
      " '全面 對抗 做法 立功 認為 儘速 修復 媒體 關係 帶著 全黨 火車 對撞 行為 理性 科學 務實 民眾黨 多年 辛苦 努力 不致 毀於一旦 保護 '\n",
      " '柯文哲 茁壯 民眾黨')\n"
     ]
    }
   ],
   "execution_count": 57
  },
  {
   "attachments": {},
   "cell_type": "markdown",
   "metadata": {},
   "source": [
    "模型對另一個新聞網的預測結果比較普通。可以看到財經與全球的 precision 都相對低。\n",
    "- 很多社會政治相關的被預測成全球，因為許多名詞如「總統」、「立委」、「秘書長」、「媒體」等詞彙在國際相關新聞也會出現。\n",
    "- 也有不少社會被判定成財經，經過觀察這是原本歸類在政治板的，與上方相似，政治會影響許多經濟議題，因此導致模型誤判。\n",
    "- 因此推斷在東森新聞的政治板有牽扯到很多全球與經濟相關的複合式討論面向，與聯合新聞的社會版有很大不同。"
   ]
  },
  {
   "attachments": {},
   "cell_type": "markdown",
   "metadata": {},
   "source": [
    "* accuracy可能會因為資料分布不同而有所偏差，所以評估模型的時候，可以加入一起 F1-score, recall, precision, AUC 等常見分類任務指標來評估。"
   ]
  }
 ],
 "metadata": {
  "kernelspec": {
   "display_name": "Python 3",
   "language": "python",
   "name": "python3"
  },
  "language_info": {
   "codemirror_mode": {
    "name": "ipython",
    "version": 3
   },
   "file_extension": ".py",
   "mimetype": "text/x-python",
   "name": "python",
   "nbconvert_exporter": "python",
   "pygments_lexer": "ipython3",
   "version": "3.9.18"
  }
 },
 "nbformat": 4,
 "nbformat_minor": 4
}
