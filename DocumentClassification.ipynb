{
 "cells": [
  {
   "attachments": {},
   "cell_type": "markdown",
   "metadata": {},
   "source": [
    "# 文件分類\n",
    "\n",
    "本次練習為「文件分類」，主要使用文章轉DTM(document term matrix)的方式，將文章用不同的字詞分布表示，再利用python的sklearn套件，套用決策樹、logistic regression等方式訓練模型，以分辨不同的文件。本篇 Jupyter Notebook 將展示「中文」的文件分類，使用聯合新聞網的三個版別文章做示範。"
   ]
  },
  {
   "attachments": {},
   "cell_type": "markdown",
   "metadata": {},
   "source": [
    "## 分析目標\n",
    "+ 資料內容：\n",
    "    + 資料來源：聯合新聞網\n",
    "    + 版別：財經、社會、全球\n",
    "    + 時間範圍：2024/01/01 ~ 2024/01/13\n",
    "        + 聯合新聞網的版別：產經、股市、社會、國際、要聞\n",
    "        + 聯合新聞網的產經版與股市版合併為財經版\n",
    "            + 產經(produce)、股市(stock) -> 財經(economy)\n",
    "        + 東森新聞網的版別：政治、社會、國際、財經\n",
    "        + 東森新聞網的政治板對應到聯合新聞網的要聞板\n",
    "            + 政治(politics) -> 要聞(news)\n",
    "\n",
    "* 分析主題：將聯合新聞網三個版別的文章合起來，訓練模型能預測新聞版別，再用分類模型進行文件的版別分類。\n",
    "\n",
    "* 以下為教學目標：\n",
    "    1. 如何將以數字向量代表一篇文章？\n",
    "        * `CountVectorizer`\n",
    "        * `TfidfVectorizer`\n",
    "    2. 基本的分類模型流程，包含以下三步驟：\n",
    "        * 前處理 (preprocess)\n",
    "        * 建模 (train model)\n",
    "        * 評估與預測 (evaluation and predict)\n",
    "    3. cross validation\n",
    "    4. 不同分類器的效果\n",
    "    5. 可解釋的可視化模型結果\n",
    "    6. 預測其他家新聞文章的版別"
   ]
  },
  {
   "attachments": {},
   "cell_type": "markdown",
   "metadata": {},
   "source": [
    "## 1. 套件說明\n",
    "下面列出在本次實作過程中我們所使用到的相關套件，在這個Jupyter Notebook當中我們將會簡單的展示這些套件的使用方式，關於各個套件的進階使用請同學參照其官網的說明。\n",
    "- **sklearn**: 全名為Scikit-learn，機器學習的常用建模套件，包含各種分群、分類、迴歸模型，如隨機森林、SVM或 K-means 等。\n",
    "- pandas: 一個資料分析的函式庫，提供了DataFrame等資料格式，與資料處理的函數。\n",
    "- jieba: 結巴套件，中文斷詞套件\n",
    "- seaborn: 基於 matplotlib 封裝的繪圖工具  "
   ]
  },
  {
   "cell_type": "code",
   "metadata": {
    "ExecuteTime": {
     "end_time": "2024-04-08T01:59:41.646092Z",
     "start_time": "2024-04-08T01:59:41.640745Z"
    }
   },
   "source": [
    "import re\n",
    "from pprint import pprint\n",
    "\n",
    "import pandas as pd\n",
    "import numpy as np\n",
    "import matplotlib.pyplot as plt\n",
    "import seaborn as sns\n",
    "import jieba\n",
    "from sklearn.model_selection import train_test_split, cross_validate, cross_val_predict, KFold\n",
    "from sklearn.metrics import (\n",
    "    confusion_matrix,\n",
    "    classification_report,\n",
    "    roc_curve,\n",
    "    auc,\n",
    "    precision_recall_curve,\n",
    "    RocCurveDisplay\n",
    ")\n",
    "from sklearn.feature_extraction.text import TfidfVectorizer, CountVectorizer\n",
    "from sklearn.preprocessing import LabelBinarizer\n",
    "from sklearn.linear_model import LogisticRegression\n",
    "from sklearn.naive_bayes import GaussianNB\n",
    "from sklearn.tree import DecisionTreeClassifier, plot_tree\n",
    "from sklearn.ensemble import RandomForestClassifier\n",
    "from sklearn import svm\n",
    "\n",
    "from matplotlib import font_manager"
   ],
   "outputs": [],
   "execution_count": 61
  },
  {
   "cell_type": "markdown",
   "metadata": {},
   "source": "設定中文字體 "
  },
  {
   "metadata": {
    "ExecuteTime": {
     "end_time": "2024-04-08T01:59:43.906055Z",
     "start_time": "2024-04-08T01:59:43.900059Z"
    }
   },
   "cell_type": "code",
   "source": [
    "# Path to the custom font\n",
    "font_path = 'font/TraditionalChinese.ttf'\n",
    "\n",
    "# Add the custom font to the font manager\n",
    "font_manager.fontManager.addfont(font_path)\n",
    "\n",
    "# After adding the font, search for it by filename to get the correct font name\n",
    "for font in font_manager.fontManager.ttflist:\n",
    "    if font.fname == font_path:\n",
    "        print(f\"Found font: {font.name}\")\n",
    "        plt.rcParams['font.family'] = font.name\n",
    "        break"
   ],
   "outputs": [
    {
     "name": "stdout",
     "output_type": "stream",
     "text": [
      "Found font: Noto Sans TC\n"
     ]
    }
   ],
   "execution_count": 62
  },
  {
   "cell_type": "code",
   "metadata": {
    "ExecuteTime": {
     "end_time": "2024-04-08T01:59:45.054065Z",
     "start_time": "2024-04-08T01:59:44.890791Z"
    }
   },
   "source": [
    "plt.plot((1, 2, 3), (4, 3, -1))\n",
    "plt.title(\"聲量圖\")"
   ],
   "outputs": [
    {
     "data": {
      "text/plain": [
       "Text(0.5, 1.0, '聲量圖')"
      ]
     },
     "execution_count": 63,
     "metadata": {},
     "output_type": "execute_result"
    },
    {
     "data": {
      "text/plain": [
       "<Figure size 640x480 with 1 Axes>"
      ],
      "image/png": "[encoded data removed]"
     },
     "metadata": {},
     "output_type": "display_data"
    }
   ],
   "execution_count": 63
  },
  {
   "metadata": {},
   "cell_type": "markdown",
   "source": [
    "# 2. 文字前處理\n",
    "`聯合新聞.csv`裡面包含了要分析的 udn 新聞資料。\n",
    "- 版別：全球(global)、社會(social)、產經(produce)、股市(stock)\n",
    "- 時間範圍：2023/12/23 ~ 2024/01/13\n",
    "- 工作流程平台搜尋/排除關鍵字：無\n",
    " "
   ]
  },
  {
   "cell_type": "code",
   "metadata": {
    "scrolled": true,
    "ExecuteTime": {
     "end_time": "2024-04-08T02:51:35.058134Z",
     "start_time": "2024-04-08T02:51:34.741192Z"
    }
   },
   "source": [
    "# 文字前處理\n",
    "udn = pd.read_csv(\"data/聯合日報最新.csv\")  # 匯資料\n",
    "udn.head(3)"
   ],
   "outputs": [
    {
     "data": {
      "text/plain": [
       "   system_id                      artTitle         artDate artCatagory  \\\n",
       "0          1        蔡總統主持元旦升旗 國防部長邱國正率將領參加  2024/1/1 10:27          要聞   \n",
       "1          2  F-16V廠級維修能量今年第一季驗證 台美還在對峙談判中  2024/1/1 10:29          要聞   \n",
       "2          3      義務役新兵看過來 入伍結訓震撼教育攻略圖表在這裡  2024/1/1 11:16          要聞   \n",
       "\n",
       "                                     artUrl  \\\n",
       "0  https://udn.com/news/story/10930/7678307   \n",
       "1  https://udn.com/news/story/10930/7678314   \n",
       "2  https://udn.com/news/story/10930/7678409   \n",
       "\n",
       "                                                                                                                                                                                                                                                                                                                                                                                                                                                                                                                                                                                                                                                                                                                                                                                                                                                                                                                                                                                                                                                                                                                                                                                                                                                                                                                                                        artContent  \\\n",
       "0                                                                          國防部表示，蔡英文總統上午主持中華民國113年元旦總統府升旗典禮，國防部長邱國正、參謀總長梅家樹率將領與軍校學生代表出席，以實際行動表達對國家熱愛。蔡英文總統與賴清德副總統上午出席元旦升旗典禮，首先接受國防部三軍儀隊大隊長致敬，在歷屆十大傑出青年代表的領唱下，與現場民眾齊唱國歌，在國旗歌演奏聲中，國旗緩緩升起。國防部表示，民國113年元旦總統府升旗典禮，以活力台灣，世代永續為主題，由蔡總統親自主持，全場軍民在歷屆十大傑出青年代表領唱下，齊唱國歌，以實際行動表達對國家的熱愛與認同。國防部說，邱國正清晨率領梅家樹、國防部副部長柏鴻輝、國防部副部長徐衍璞與各聯參單位代表，以及陸、海、空軍官校，國防大學政治作戰學院、管理學院、理工學院，國防醫學院、陸軍專科學校、空軍航技學院及中正預校等10所軍事校院學生代表，共同參加元旦總統府升旗典禮，以實際行動表達對國家的熱愛。國防部表示，今年國防部示範樂隊及三軍儀隊配合大會企畫主軸活力台灣，世代永續，以從戎回憶進行曲、黃埔軍魂、領航者、英勇勳章等4首曲目，搭配儀隊官兵走位變化及花式操槍，展現壯盛軍容，更象徵國軍是民主台灣的領航者，面對困難與挑戰，仍勇往直前。 ▪ 政黨票能幹嘛？4神秘數字搶席次、領補助、還可扣稅 ▪ 大選結果繫在年輕人手上？2016、2020投票率直接「差1格」 ▪ 政見會後情勢生變？最新5家媒體民調一次看 ▪ 立委抽籤結果出爐！選區名單、號次一次看 ▪ 影／3組拚總統 選民抱不平：幹嘛蹚這趟渾水？ 國防部元旦升旗蔡英文                    總統蔡英文曾親自體驗掛保證「很好操作」的國造紅隼火箭彈，陸軍採購五千枚今年趕工生產，陸軍同時採購六十套射擊模擬器，準備提...                                      中科院系製中心日前展示國造紅隼火箭彈模擬器，表示這種小巧的單兵肩射型武器系統，具備城鎮作戰便於攜帶的優越性，有利於單兵各...                                      中科院以六六火箭彈為藍本研發紅隼火箭彈，是蔡政府國防自主象徵之一，性能受肯定，但以實需而言，這項裝備顯然成為宣傳義務役延...                                      國防部今天表示，國軍廉能施政已獲國際肯定。而國軍一貫秉持「備戰不求戰、應戰不避戰」態度，持恆強化各項戰力整建與戰備整備。                                      針對國民黨副總統候選人趙少康今於副總統候選人辯論會上稱「你不能靠義務軍人，靠義務去打仗，當然是職業軍人為主」，賴清德競總...                                      因應兵役延長一年，國防部今天表示，已配合全國檢察長座談時機，請檢察官嚴肅看待暴行、抗命及聚眾鬥毆等破壞軍紀案件。                     \n",
       "1                                                                                                                            空軍2025年開始陸續接裝66架F-16C/D BLOCK70戰機，國防部軍備局表示，正透過談判，爭取由漢翔建立廠級維修中心。漢翔公司說，F-16維修中心預計2024年第一季完成驗證，支援空軍機隊妥善。據了解，我國對美採購66架F-16C/D BLOCK70戰機，將動用工業合作點數，與美談判在台直接廠級維修。漢翔成立的F-16維修中心，目前已取得原廠洛馬數百項維修認證，目前積極爭取在台產置若干系統件，希望納入美全球F-16供應鏈。針對66架F-16在台實施廠級維修案的談判進度，軍備局表示，台美工業合作均依軍種建案需求執行，由經濟部協助移轉關鍵技術，擴大國內軍民工廠維修能量。軍備局續依各軍種建案需求，持續爭取，以維裝備戰力維持。漢翔公司說，台美工業合作均依軍種建案需求執行，由經濟部協助移轉關鍵技術，擴大國內軍民工廠維修能量。漢翔位於台中水湳的F-16維修中心2020年8月28日成立，目前已獲原廠授權展開維修工作，各項能量正逐步建構完善，預計今年第一季完成驗證，持續結合國內廠商，支援空軍機隊妥善。 ▪ 政黨票能幹嘛？4神秘數字搶席次、領補助、還可扣稅 ▪ 大選結果繫在年輕人手上？2016、2020投票率直接「差1格」 ▪ 政見會後情勢生變？最新5家媒體民調一次看 ▪ 立委抽籤結果出爐！選區名單、號次一次看 ▪ 影／3組拚總統 選民抱不平：幹嘛蹚這趟渾水？ F-16空軍戰機                    總統蔡英文曾親自體驗掛保證「很好操作」的國造紅隼火箭彈，陸軍採購五千枚今年趕工生產，陸軍同時採購六十套射擊模擬器，準備提...                                      中科院系製中心日前展示國造紅隼火箭彈模擬器，表示這種小巧的單兵肩射型武器系統，具備城鎮作戰便於攜帶的優越性，有利於單兵各...                                      中科院以六六火箭彈為藍本研發紅隼火箭彈，是蔡政府國防自主象徵之一，性能受肯定，但以實需而言，這項裝備顯然成為宣傳義務役延...                                      國防部今天表示，國軍廉能施政已獲國際肯定。而國軍一貫秉持「備戰不求戰、應戰不避戰」態度，持恆強化各項戰力整建與戰備整備。                                      針對國民黨副總統候選人趙少康今於副總統候選人辯論會上稱「你不能靠義務軍人，靠義務去打仗，當然是職業軍人為主」，賴清德競總...                                      因應兵役延長一年，國防部今天表示，已配合全國檢察長座談時機，請檢察官嚴肅看待暴行、抗命及聚眾鬥毆等破壞軍紀案件。                     \n",
       "2  2024年1月首波徵召入營600名一年制兵役役男，這些役男入伍後，將接受新兵訓練震撼教育。國防部說明震撼教育訓練場設施，國軍新兵訓練震撼教育訓練目的，是讓完成八周入伍訓練的新兵，由期末鑑測結合震撼教育，驗測新兵戰鬥技能及狀況處置，同步體驗戰場景況。營區訓場設計以200公尺至250公尺為基準，場內設置土堤、門窗、家屋、外壕、屋頂型鐵絲網及高絆網等9處障礙物，機槍堡配置兩挺機槍，不間斷射擊空包彈，另以TNT炸藥每波實施兩次爆炸，模擬戰場景況。國防部表示，震撼教育測驗以一個班為單位，由鑑測官發布狀況，誘導班長帶領新兵實施班攻擊綜合教練演練，置重點於狀況處置及戰傷救護。全程由安管中心編組醫護及警戒組，負責各項安全管制措施。以往陸軍受限於場地，只有成功嶺大專寒暑訓、陸官入伍生團、陸戰隊隘寮靶場，設有震撼教育場及課程，前年起國防部通令各軍團增設場地，陸軍八軍團在官田增設一座震撼教育場。據了解，義務役役男的震撼教育場與三軍入伍生團場地有些許差異，三軍入伍生團的TNT會在通道兩側同時爆破，新訓為單側爆破，三軍入伍生團訓場最後一段是上坡，實施衝鋒。陸軍官校位於步校後山的震撼教育訓場。圖／取自GOOGLE EARTH本（1）月首波徵召入營的600名一年制義務役男，入伍結訓測將接受新兵訓練震憾教育。國防部向立法院以圖示說明震撼教育訓場設施與9個關卡與周邊震撼器材的設置方法。圖／取自立法院公報 ▪ 政黨票能幹嘛？4神秘數字搶席次、領補助、還可扣稅 ▪ 大選結果繫在年輕人手上？2016、2020投票率直接「差1格」 ▪ 政見會後情勢生變？最新5家媒體民調一次看 ▪ 立委抽籤結果出爐！選區名單、號次一次看 ▪ 影／3組拚總統 選民抱不平：幹嘛蹚這趟渾水？ 國防部役男陸軍                    總統蔡英文曾親自體驗掛保證「很好操作」的國造紅隼火箭彈，陸軍採購五千枚今年趕工生產，陸軍同時採購六十套射擊模擬器，準備提...                                      中科院系製中心日前展示國造紅隼火箭彈模擬器，表示這種小巧的單兵肩射型武器系統，具備城鎮作戰便於攜帶的優越性，有利於單兵各...                                      中科院以六六火箭彈為藍本研發紅隼火箭彈，是蔡政府國防自主象徵之一，性能受肯定，但以實需而言，這項裝備顯然成為宣傳義務役延...                                      國防部今天表示，國軍廉能施政已獲國際肯定。而國軍一貫秉持「備戰不求戰、應戰不避戰」態度，持恆強化各項戰力整建與戰備整備。                                      因應兵役延長一年，國防部今天表示，已配合全國檢察長座談時機，請檢察官嚴肅看待暴行、抗命及聚眾鬥毆等破壞軍紀案件。                                      2024年1月首波徵召入營600名一年制兵役役男，這些役男入伍後，將接受新兵訓練震撼教育。                     \n",
       "\n",
       "  dataSource  \n",
       "0        UDN  \n",
       "1        UDN  \n",
       "2        UDN  "
      ],
      "text/html": [
       "<div>\n",
       "<style scoped>\n",
       "    .dataframe tbody tr th:only-of-type {\n",
       "        vertical-align: middle;\n",
       "    }\n",
       "\n",
       "    .dataframe tbody tr th {\n",
       "        vertical-align: top;\n",
       "    }\n",
       "\n",
       "    .dataframe thead th {\n",
       "        text-align: right;\n",
       "    }\n",
       "</style>\n",
       "<table border=\"1\" class=\"dataframe\">\n",
       "  <thead>\n",
       "    <tr style=\"text-align: right;\">\n",
       "      <th></th>\n",
       "      <th>system_id</th>\n",
       "      <th>artTitle</th>\n",
       "      <th>artDate</th>\n",
       "      <th>artCatagory</th>\n",
       "      <th>artUrl</th>\n",
       "      <th>artContent</th>\n",
       "      <th>dataSource</th>\n",
       "    </tr>\n",
       "  </thead>\n",
       "  <tbody>\n",
       "    <tr>\n",
       "      <th>0</th>\n",
       "      <td>1</td>\n",
       "      <td>蔡總統主持元旦升旗 國防部長邱國正率將領參加</td>\n",
       "      <td>2024/1/1 10:27</td>\n",
       "      <td>要聞</td>\n",
       "      <td>https://udn.com/news/story/10930/7678307</td>\n",
       "      <td>國防部表示，蔡英文總統上午主持中華民國113年元旦總統府升旗典禮，國防部長邱國正、參謀總長梅家樹率將領與軍校學生代表出席，以實際行動表達對國家熱愛。蔡英文總統與賴清德副總統上午出席元旦升旗典禮，首先接受國防部三軍儀隊大隊長致敬，在歷屆十大傑出青年代表的領唱下，與現場民眾齊唱國歌，在國旗歌演奏聲中，國旗緩緩升起。國防部表示，民國113年元旦總統府升旗典禮，以活力台灣，世代永續為主題，由蔡總統親自主持，全場軍民在歷屆十大傑出青年代表領唱下，齊唱國歌，以實際行動表達對國家的熱愛與認同。國防部說，邱國正清晨率領梅家樹、國防部副部長柏鴻輝、國防部副部長徐衍璞與各聯參單位代表，以及陸、海、空軍官校，國防大學政治作戰學院、管理學院、理工學院，國防醫學院、陸軍專科學校、空軍航技學院及中正預校等10所軍事校院學生代表，共同參加元旦總統府升旗典禮，以實際行動表達對國家的熱愛。國防部表示，今年國防部示範樂隊及三軍儀隊配合大會企畫主軸活力台灣，世代永續，以從戎回憶進行曲、黃埔軍魂、領航者、英勇勳章等4首曲目，搭配儀隊官兵走位變化及花式操槍，展現壯盛軍容，更象徵國軍是民主台灣的領航者，面對困難與挑戰，仍勇往直前。 ▪ 政黨票能幹嘛？4神秘數字搶席次、領補助、還可扣稅 ▪ 大選結果繫在年輕人手上？2016、2020投票率直接「差1格」 ▪ 政見會後情勢生變？最新5家媒體民調一次看 ▪ 立委抽籤結果出爐！選區名單、號次一次看 ▪ 影／3組拚總統 選民抱不平：幹嘛蹚這趟渾水？ 國防部元旦升旗蔡英文                    總統蔡英文曾親自體驗掛保證「很好操作」的國造紅隼火箭彈，陸軍採購五千枚今年趕工生產，陸軍同時採購六十套射擊模擬器，準備提...                                      中科院系製中心日前展示國造紅隼火箭彈模擬器，表示這種小巧的單兵肩射型武器系統，具備城鎮作戰便於攜帶的優越性，有利於單兵各...                                      中科院以六六火箭彈為藍本研發紅隼火箭彈，是蔡政府國防自主象徵之一，性能受肯定，但以實需而言，這項裝備顯然成為宣傳義務役延...                                      國防部今天表示，國軍廉能施政已獲國際肯定。而國軍一貫秉持「備戰不求戰、應戰不避戰」態度，持恆強化各項戰力整建與戰備整備。                                      針對國民黨副總統候選人趙少康今於副總統候選人辯論會上稱「你不能靠義務軍人，靠義務去打仗，當然是職業軍人為主」，賴清德競總...                                      因應兵役延長一年，國防部今天表示，已配合全國檢察長座談時機，請檢察官嚴肅看待暴行、抗命及聚眾鬥毆等破壞軍紀案件。</td>\n",
       "      <td>UDN</td>\n",
       "    </tr>\n",
       "    <tr>\n",
       "      <th>1</th>\n",
       "      <td>2</td>\n",
       "      <td>F-16V廠級維修能量今年第一季驗證 台美還在對峙談判中</td>\n",
       "      <td>2024/1/1 10:29</td>\n",
       "      <td>要聞</td>\n",
       "      <td>https://udn.com/news/story/10930/7678314</td>\n",
       "      <td>空軍2025年開始陸續接裝66架F-16C/D BLOCK70戰機，國防部軍備局表示，正透過談判，爭取由漢翔建立廠級維修中心。漢翔公司說，F-16維修中心預計2024年第一季完成驗證，支援空軍機隊妥善。據了解，我國對美採購66架F-16C/D BLOCK70戰機，將動用工業合作點數，與美談判在台直接廠級維修。漢翔成立的F-16維修中心，目前已取得原廠洛馬數百項維修認證，目前積極爭取在台產置若干系統件，希望納入美全球F-16供應鏈。針對66架F-16在台實施廠級維修案的談判進度，軍備局表示，台美工業合作均依軍種建案需求執行，由經濟部協助移轉關鍵技術，擴大國內軍民工廠維修能量。軍備局續依各軍種建案需求，持續爭取，以維裝備戰力維持。漢翔公司說，台美工業合作均依軍種建案需求執行，由經濟部協助移轉關鍵技術，擴大國內軍民工廠維修能量。漢翔位於台中水湳的F-16維修中心2020年8月28日成立，目前已獲原廠授權展開維修工作，各項能量正逐步建構完善，預計今年第一季完成驗證，持續結合國內廠商，支援空軍機隊妥善。 ▪ 政黨票能幹嘛？4神秘數字搶席次、領補助、還可扣稅 ▪ 大選結果繫在年輕人手上？2016、2020投票率直接「差1格」 ▪ 政見會後情勢生變？最新5家媒體民調一次看 ▪ 立委抽籤結果出爐！選區名單、號次一次看 ▪ 影／3組拚總統 選民抱不平：幹嘛蹚這趟渾水？ F-16空軍戰機                    總統蔡英文曾親自體驗掛保證「很好操作」的國造紅隼火箭彈，陸軍採購五千枚今年趕工生產，陸軍同時採購六十套射擊模擬器，準備提...                                      中科院系製中心日前展示國造紅隼火箭彈模擬器，表示這種小巧的單兵肩射型武器系統，具備城鎮作戰便於攜帶的優越性，有利於單兵各...                                      中科院以六六火箭彈為藍本研發紅隼火箭彈，是蔡政府國防自主象徵之一，性能受肯定，但以實需而言，這項裝備顯然成為宣傳義務役延...                                      國防部今天表示，國軍廉能施政已獲國際肯定。而國軍一貫秉持「備戰不求戰、應戰不避戰」態度，持恆強化各項戰力整建與戰備整備。                                      針對國民黨副總統候選人趙少康今於副總統候選人辯論會上稱「你不能靠義務軍人，靠義務去打仗，當然是職業軍人為主」，賴清德競總...                                      因應兵役延長一年，國防部今天表示，已配合全國檢察長座談時機，請檢察官嚴肅看待暴行、抗命及聚眾鬥毆等破壞軍紀案件。</td>\n",
       "      <td>UDN</td>\n",
       "    </tr>\n",
       "    <tr>\n",
       "      <th>2</th>\n",
       "      <td>3</td>\n",
       "      <td>義務役新兵看過來 入伍結訓震撼教育攻略圖表在這裡</td>\n",
       "      <td>2024/1/1 11:16</td>\n",
       "      <td>要聞</td>\n",
       "      <td>https://udn.com/news/story/10930/7678409</td>\n",
       "      <td>2024年1月首波徵召入營600名一年制兵役役男，這些役男入伍後，將接受新兵訓練震撼教育。國防部說明震撼教育訓練場設施，國軍新兵訓練震撼教育訓練目的，是讓完成八周入伍訓練的新兵，由期末鑑測結合震撼教育，驗測新兵戰鬥技能及狀況處置，同步體驗戰場景況。營區訓場設計以200公尺至250公尺為基準，場內設置土堤、門窗、家屋、外壕、屋頂型鐵絲網及高絆網等9處障礙物，機槍堡配置兩挺機槍，不間斷射擊空包彈，另以TNT炸藥每波實施兩次爆炸，模擬戰場景況。國防部表示，震撼教育測驗以一個班為單位，由鑑測官發布狀況，誘導班長帶領新兵實施班攻擊綜合教練演練，置重點於狀況處置及戰傷救護。全程由安管中心編組醫護及警戒組，負責各項安全管制措施。以往陸軍受限於場地，只有成功嶺大專寒暑訓、陸官入伍生團、陸戰隊隘寮靶場，設有震撼教育場及課程，前年起國防部通令各軍團增設場地，陸軍八軍團在官田增設一座震撼教育場。據了解，義務役役男的震撼教育場與三軍入伍生團場地有些許差異，三軍入伍生團的TNT會在通道兩側同時爆破，新訓為單側爆破，三軍入伍生團訓場最後一段是上坡，實施衝鋒。陸軍官校位於步校後山的震撼教育訓場。圖／取自GOOGLE EARTH本（1）月首波徵召入營的600名一年制義務役男，入伍結訓測將接受新兵訓練震憾教育。國防部向立法院以圖示說明震撼教育訓場設施與9個關卡與周邊震撼器材的設置方法。圖／取自立法院公報 ▪ 政黨票能幹嘛？4神秘數字搶席次、領補助、還可扣稅 ▪ 大選結果繫在年輕人手上？2016、2020投票率直接「差1格」 ▪ 政見會後情勢生變？最新5家媒體民調一次看 ▪ 立委抽籤結果出爐！選區名單、號次一次看 ▪ 影／3組拚總統 選民抱不平：幹嘛蹚這趟渾水？ 國防部役男陸軍                    總統蔡英文曾親自體驗掛保證「很好操作」的國造紅隼火箭彈，陸軍採購五千枚今年趕工生產，陸軍同時採購六十套射擊模擬器，準備提...                                      中科院系製中心日前展示國造紅隼火箭彈模擬器，表示這種小巧的單兵肩射型武器系統，具備城鎮作戰便於攜帶的優越性，有利於單兵各...                                      中科院以六六火箭彈為藍本研發紅隼火箭彈，是蔡政府國防自主象徵之一，性能受肯定，但以實需而言，這項裝備顯然成為宣傳義務役延...                                      國防部今天表示，國軍廉能施政已獲國際肯定。而國軍一貫秉持「備戰不求戰、應戰不避戰」態度，持恆強化各項戰力整建與戰備整備。                                      因應兵役延長一年，國防部今天表示，已配合全國檢察長座談時機，請檢察官嚴肅看待暴行、抗命及聚眾鬥毆等破壞軍紀案件。                                      2024年1月首波徵召入營600名一年制兵役役男，這些役男入伍後，將接受新兵訓練震撼教育。</td>\n",
       "      <td>UDN</td>\n",
       "    </tr>\n",
       "  </tbody>\n",
       "</table>\n",
       "</div>"
      ]
     },
     "execution_count": 110,
     "metadata": {},
     "output_type": "execute_result"
    }
   ],
   "execution_count": 110
  },
  {
   "cell_type": "code",
   "metadata": {
    "ExecuteTime": {
     "end_time": "2024-04-08T02:51:37.179767Z",
     "start_time": "2024-04-08T02:51:37.173591Z"
    }
   },
   "source": [
    "# 看看有幾篇文章\n",
    "print(f\"number of posts: {udn.shape[0]}\")\n",
    "print(f\"date range: {(udn['artDate'].min(), udn['artDate'].max())}\")\n",
    "print(f\"category: \\n{udn['artCatagory'].value_counts()}\")"
   ],
   "outputs": [
    {
     "name": "stdout",
     "output_type": "stream",
     "text": [
      "number of posts: 9480\n",
      "date range: ('2024/1/1 0:05', '2024/1/9 9:59')\n",
      "category: \n",
      "artCatagory\n",
      "要聞    3551\n",
      "產經    1806\n",
      "全球    1795\n",
      "股市    1232\n",
      "社會    1096\n",
      "Name: count, dtype: int64\n"
     ]
    }
   ],
   "execution_count": 111
  },
  {
   "metadata": {},
   "cell_type": "markdown",
   "source": "＃我們將聯合時報的產經版面與股市版面資料匯總，對應到自由時報的財經版面"
  },
  {
   "metadata": {
    "ExecuteTime": {
     "end_time": "2024-04-08T02:51:40.948678Z",
     "start_time": "2024-04-08T02:51:40.940914Z"
    }
   },
   "cell_type": "code",
   "source": [
    "udn.loc[udn['artCatagory'].isin(['產經', '股市']), 'artCatagory'] = '財經'\n",
    "\n",
    "# 看看有幾篇文章\n",
    "print(f\"number of posts: {udn.shape[0]}\")\n",
    "print(f\"date range: {(udn['artDate'].min(), udn['artDate'].max())}\")\n",
    "print(f\"category: \\n{udn['artCatagory'].value_counts()}\")"
   ],
   "outputs": [
    {
     "name": "stdout",
     "output_type": "stream",
     "text": [
      "number of posts: 9480\n",
      "date range: ('2024/1/1 0:05', '2024/1/9 9:59')\n",
      "category: \n",
      "artCatagory\n",
      "要聞    3551\n",
      "財經    3038\n",
      "全球    1795\n",
      "社會    1096\n",
      "Name: count, dtype: int64\n"
     ]
    }
   ],
   "execution_count": 112
  },
  {
   "metadata": {
    "ExecuteTime": {
     "end_time": "2024-04-08T02:51:42.110352Z",
     "start_time": "2024-04-08T02:51:41.841485Z"
    }
   },
   "cell_type": "code",
   "source": "udn.to_csv('data/聯合新聞_merge.csv')",
   "outputs": [],
   "execution_count": 113
  },
  {
   "attachments": {},
   "cell_type": "markdown",
   "metadata": {},
   "source": [
    "+ 2.1 斷句\n",
    "+ 2.2 斷詞（刪掉次數太少的、標點符號、停用字） "
   ]
  },
  {
   "attachments": {},
   "cell_type": "markdown",
   "metadata": {},
   "source": "### 2.1 清理 "
  },
  {
   "cell_type": "markdown",
   "metadata": {},
   "source": "利用問號、句號或驚嘆號等符號斷句，或是如果出現中文或是英文的省略號，像是`...`也會斷句，最後設定會去除結尾的空白符號。 "
  },
  {
   "cell_type": "code",
   "metadata": {
    "ExecuteTime": {
     "end_time": "2024-04-08T02:51:44.549252Z",
     "start_time": "2024-04-08T02:51:44.248885Z"
    }
   },
   "source": [
    "# 過濾 nan 的資料\n",
    "udn = udn.dropna(subset=['artTitle'])\n",
    "udn = udn.dropna(subset=['artContent'])\n",
    "# 移除網址格式\n",
    "udn[\"artContent\"] = udn.artContent.apply(\n",
    "    lambda x: re.sub(\"(http|https)://.*\", \"\", x)\n",
    ")\n",
    "udn[\"artTitle\"] = udn[\"artTitle\"].apply(\n",
    "    lambda x: re.sub(\"(http|https)://.*\", \"\", x)\n",
    ")\n",
    "# 只留下中文字\n",
    "udn[\"artContent\"] = udn.artContent.apply(\n",
    "    lambda x: re.sub(\"[^\\u4e00-\\u9fa5]+\", \"\", x)\n",
    ")\n",
    "udn[\"artTitle\"] = udn[\"artTitle\"].apply(\n",
    "    lambda x: re.sub(\"[^\\u4e00-\\u9fa5]+\", \"\", x)\n",
    ")\n",
    "udn.head(3)"
   ],
   "outputs": [
    {
     "data": {
      "text/plain": [
       "   system_id                 artTitle         artDate artCatagory  \\\n",
       "0          1    蔡總統主持元旦升旗國防部長邱國正率將領參加  2024/1/1 10:27          要聞   \n",
       "1          2   廠級維修能量今年第一季驗證台美還在對峙談判中  2024/1/1 10:29          要聞   \n",
       "2          3  義務役新兵看過來入伍結訓震撼教育攻略圖表在這裡  2024/1/1 11:16          要聞   \n",
       "\n",
       "                                     artUrl  \\\n",
       "0  https://udn.com/news/story/10930/7678307   \n",
       "1  https://udn.com/news/story/10930/7678314   \n",
       "2  https://udn.com/news/story/10930/7678409   \n",
       "\n",
       "                                                                                                                                                                                                                                                                                                                                                                                                                                                                                                                                                                                                                                                                                                                                                                                                                                                                                                                                         artContent  \\\n",
       "0                                         國防部表示蔡英文總統上午主持中華民國年元旦總統府升旗典禮國防部長邱國正參謀總長梅家樹率將領與軍校學生代表出席以實際行動表達對國家熱愛蔡英文總統與賴清德副總統上午出席元旦升旗典禮首先接受國防部三軍儀隊大隊長致敬在歷屆十大傑出青年代表的領唱下與現場民眾齊唱國歌在國旗歌演奏聲中國旗緩緩升起國防部表示民國年元旦總統府升旗典禮以活力台灣世代永續為主題由蔡總統親自主持全場軍民在歷屆十大傑出青年代表領唱下齊唱國歌以實際行動表達對國家的熱愛與認同國防部說邱國正清晨率領梅家樹國防部副部長柏鴻輝國防部副部長徐衍璞與各聯參單位代表以及陸海空軍官校國防大學政治作戰學院管理學院理工學院國防醫學院陸軍專科學校空軍航技學院及中正預校等所軍事校院學生代表共同參加元旦總統府升旗典禮以實際行動表達對國家的熱愛國防部表示今年國防部示範樂隊及三軍儀隊配合大會企畫主軸活力台灣世代永續以從戎回憶進行曲黃埔軍魂領航者英勇勳章等首曲目搭配儀隊官兵走位變化及花式操槍展現壯盛軍容更象徵國軍是民主台灣的領航者面對困難與挑戰仍勇往直前政黨票能幹嘛神秘數字搶席次領補助還可扣稅大選結果繫在年輕人手上投票率直接差格政見會後情勢生變最新家媒體民調一次看立委抽籤結果出爐選區名單號次一次看影組拚總統選民抱不平幹嘛蹚這趟渾水國防部元旦升旗蔡英文總統蔡英文曾親自體驗掛保證很好操作的國造紅隼火箭彈陸軍採購五千枚今年趕工生產陸軍同時採購六十套射擊模擬器準備提中科院系製中心日前展示國造紅隼火箭彈模擬器表示這種小巧的單兵肩射型武器系統具備城鎮作戰便於攜帶的優越性有利於單兵各中科院以六六火箭彈為藍本研發紅隼火箭彈是蔡政府國防自主象徵之一性能受肯定但以實需而言這項裝備顯然成為宣傳義務役延國防部今天表示國軍廉能施政已獲國際肯定而國軍一貫秉持備戰不求戰應戰不避戰態度持恆強化各項戰力整建與戰備整備針對國民黨副總統候選人趙少康今於副總統候選人辯論會上稱你不能靠義務軍人靠義務去打仗當然是職業軍人為主賴清德競總因應兵役延長一年國防部今天表示已配合全國檢察長座談時機請檢察官嚴肅看待暴行抗命及聚眾鬥毆等破壞軍紀案件   \n",
       "1                                                                                                                                                空軍年開始陸續接裝架戰機國防部軍備局表示正透過談判爭取由漢翔建立廠級維修中心漢翔公司說維修中心預計年第一季完成驗證支援空軍機隊妥善據了解我國對美採購架戰機將動用工業合作點數與美談判在台直接廠級維修漢翔成立的維修中心目前已取得原廠洛馬數百項維修認證目前積極爭取在台產置若干系統件希望納入美全球供應鏈針對架在台實施廠級維修案的談判進度軍備局表示台美工業合作均依軍種建案需求執行由經濟部協助移轉關鍵技術擴大國內軍民工廠維修能量軍備局續依各軍種建案需求持續爭取以維裝備戰力維持漢翔公司說台美工業合作均依軍種建案需求執行由經濟部協助移轉關鍵技術擴大國內軍民工廠維修能量漢翔位於台中水湳的維修中心年月日成立目前已獲原廠授權展開維修工作各項能量正逐步建構完善預計今年第一季完成驗證持續結合國內廠商支援空軍機隊妥善政黨票能幹嘛神秘數字搶席次領補助還可扣稅大選結果繫在年輕人手上投票率直接差格政見會後情勢生變最新家媒體民調一次看立委抽籤結果出爐選區名單號次一次看影組拚總統選民抱不平幹嘛蹚這趟渾水空軍戰機總統蔡英文曾親自體驗掛保證很好操作的國造紅隼火箭彈陸軍採購五千枚今年趕工生產陸軍同時採購六十套射擊模擬器準備提中科院系製中心日前展示國造紅隼火箭彈模擬器表示這種小巧的單兵肩射型武器系統具備城鎮作戰便於攜帶的優越性有利於單兵各中科院以六六火箭彈為藍本研發紅隼火箭彈是蔡政府國防自主象徵之一性能受肯定但以實需而言這項裝備顯然成為宣傳義務役延國防部今天表示國軍廉能施政已獲國際肯定而國軍一貫秉持備戰不求戰應戰不避戰態度持恆強化各項戰力整建與戰備整備針對國民黨副總統候選人趙少康今於副總統候選人辯論會上稱你不能靠義務軍人靠義務去打仗當然是職業軍人為主賴清德競總因應兵役延長一年國防部今天表示已配合全國檢察長座談時機請檢察官嚴肅看待暴行抗命及聚眾鬥毆等破壞軍紀案件   \n",
       "2  年月首波徵召入營名一年制兵役役男這些役男入伍後將接受新兵訓練震撼教育國防部說明震撼教育訓練場設施國軍新兵訓練震撼教育訓練目的是讓完成八周入伍訓練的新兵由期末鑑測結合震撼教育驗測新兵戰鬥技能及狀況處置同步體驗戰場景況營區訓場設計以公尺至公尺為基準場內設置土堤門窗家屋外壕屋頂型鐵絲網及高絆網等處障礙物機槍堡配置兩挺機槍不間斷射擊空包彈另以炸藥每波實施兩次爆炸模擬戰場景況國防部表示震撼教育測驗以一個班為單位由鑑測官發布狀況誘導班長帶領新兵實施班攻擊綜合教練演練置重點於狀況處置及戰傷救護全程由安管中心編組醫護及警戒組負責各項安全管制措施以往陸軍受限於場地只有成功嶺大專寒暑訓陸官入伍生團陸戰隊隘寮靶場設有震撼教育場及課程前年起國防部通令各軍團增設場地陸軍八軍團在官田增設一座震撼教育場據了解義務役役男的震撼教育場與三軍入伍生團場地有些許差異三軍入伍生團的會在通道兩側同時爆破新訓為單側爆破三軍入伍生團訓場最後一段是上坡實施衝鋒陸軍官校位於步校後山的震撼教育訓場圖取自本月首波徵召入營的名一年制義務役男入伍結訓測將接受新兵訓練震憾教育國防部向立法院以圖示說明震撼教育訓場設施與個關卡與周邊震撼器材的設置方法圖取自立法院公報政黨票能幹嘛神秘數字搶席次領補助還可扣稅大選結果繫在年輕人手上投票率直接差格政見會後情勢生變最新家媒體民調一次看立委抽籤結果出爐選區名單號次一次看影組拚總統選民抱不平幹嘛蹚這趟渾水國防部役男陸軍總統蔡英文曾親自體驗掛保證很好操作的國造紅隼火箭彈陸軍採購五千枚今年趕工生產陸軍同時採購六十套射擊模擬器準備提中科院系製中心日前展示國造紅隼火箭彈模擬器表示這種小巧的單兵肩射型武器系統具備城鎮作戰便於攜帶的優越性有利於單兵各中科院以六六火箭彈為藍本研發紅隼火箭彈是蔡政府國防自主象徵之一性能受肯定但以實需而言這項裝備顯然成為宣傳義務役延國防部今天表示國軍廉能施政已獲國際肯定而國軍一貫秉持備戰不求戰應戰不避戰態度持恆強化各項戰力整建與戰備整備因應兵役延長一年國防部今天表示已配合全國檢察長座談時機請檢察官嚴肅看待暴行抗命及聚眾鬥毆等破壞軍紀案件年月首波徵召入營名一年制兵役役男這些役男入伍後將接受新兵訓練震撼教育   \n",
       "\n",
       "  dataSource  \n",
       "0        UDN  \n",
       "1        UDN  \n",
       "2        UDN  "
      ],
      "text/html": [
       "<div>\n",
       "<style scoped>\n",
       "    .dataframe tbody tr th:only-of-type {\n",
       "        vertical-align: middle;\n",
       "    }\n",
       "\n",
       "    .dataframe tbody tr th {\n",
       "        vertical-align: top;\n",
       "    }\n",
       "\n",
       "    .dataframe thead th {\n",
       "        text-align: right;\n",
       "    }\n",
       "</style>\n",
       "<table border=\"1\" class=\"dataframe\">\n",
       "  <thead>\n",
       "    <tr style=\"text-align: right;\">\n",
       "      <th></th>\n",
       "      <th>system_id</th>\n",
       "      <th>artTitle</th>\n",
       "      <th>artDate</th>\n",
       "      <th>artCatagory</th>\n",
       "      <th>artUrl</th>\n",
       "      <th>artContent</th>\n",
       "      <th>dataSource</th>\n",
       "    </tr>\n",
       "  </thead>\n",
       "  <tbody>\n",
       "    <tr>\n",
       "      <th>0</th>\n",
       "      <td>1</td>\n",
       "      <td>蔡總統主持元旦升旗國防部長邱國正率將領參加</td>\n",
       "      <td>2024/1/1 10:27</td>\n",
       "      <td>要聞</td>\n",
       "      <td>https://udn.com/news/story/10930/7678307</td>\n",
       "      <td>國防部表示蔡英文總統上午主持中華民國年元旦總統府升旗典禮國防部長邱國正參謀總長梅家樹率將領與軍校學生代表出席以實際行動表達對國家熱愛蔡英文總統與賴清德副總統上午出席元旦升旗典禮首先接受國防部三軍儀隊大隊長致敬在歷屆十大傑出青年代表的領唱下與現場民眾齊唱國歌在國旗歌演奏聲中國旗緩緩升起國防部表示民國年元旦總統府升旗典禮以活力台灣世代永續為主題由蔡總統親自主持全場軍民在歷屆十大傑出青年代表領唱下齊唱國歌以實際行動表達對國家的熱愛與認同國防部說邱國正清晨率領梅家樹國防部副部長柏鴻輝國防部副部長徐衍璞與各聯參單位代表以及陸海空軍官校國防大學政治作戰學院管理學院理工學院國防醫學院陸軍專科學校空軍航技學院及中正預校等所軍事校院學生代表共同參加元旦總統府升旗典禮以實際行動表達對國家的熱愛國防部表示今年國防部示範樂隊及三軍儀隊配合大會企畫主軸活力台灣世代永續以從戎回憶進行曲黃埔軍魂領航者英勇勳章等首曲目搭配儀隊官兵走位變化及花式操槍展現壯盛軍容更象徵國軍是民主台灣的領航者面對困難與挑戰仍勇往直前政黨票能幹嘛神秘數字搶席次領補助還可扣稅大選結果繫在年輕人手上投票率直接差格政見會後情勢生變最新家媒體民調一次看立委抽籤結果出爐選區名單號次一次看影組拚總統選民抱不平幹嘛蹚這趟渾水國防部元旦升旗蔡英文總統蔡英文曾親自體驗掛保證很好操作的國造紅隼火箭彈陸軍採購五千枚今年趕工生產陸軍同時採購六十套射擊模擬器準備提中科院系製中心日前展示國造紅隼火箭彈模擬器表示這種小巧的單兵肩射型武器系統具備城鎮作戰便於攜帶的優越性有利於單兵各中科院以六六火箭彈為藍本研發紅隼火箭彈是蔡政府國防自主象徵之一性能受肯定但以實需而言這項裝備顯然成為宣傳義務役延國防部今天表示國軍廉能施政已獲國際肯定而國軍一貫秉持備戰不求戰應戰不避戰態度持恆強化各項戰力整建與戰備整備針對國民黨副總統候選人趙少康今於副總統候選人辯論會上稱你不能靠義務軍人靠義務去打仗當然是職業軍人為主賴清德競總因應兵役延長一年國防部今天表示已配合全國檢察長座談時機請檢察官嚴肅看待暴行抗命及聚眾鬥毆等破壞軍紀案件</td>\n",
       "      <td>UDN</td>\n",
       "    </tr>\n",
       "    <tr>\n",
       "      <th>1</th>\n",
       "      <td>2</td>\n",
       "      <td>廠級維修能量今年第一季驗證台美還在對峙談判中</td>\n",
       "      <td>2024/1/1 10:29</td>\n",
       "      <td>要聞</td>\n",
       "      <td>https://udn.com/news/story/10930/7678314</td>\n",
       "      <td>空軍年開始陸續接裝架戰機國防部軍備局表示正透過談判爭取由漢翔建立廠級維修中心漢翔公司說維修中心預計年第一季完成驗證支援空軍機隊妥善據了解我國對美採購架戰機將動用工業合作點數與美談判在台直接廠級維修漢翔成立的維修中心目前已取得原廠洛馬數百項維修認證目前積極爭取在台產置若干系統件希望納入美全球供應鏈針對架在台實施廠級維修案的談判進度軍備局表示台美工業合作均依軍種建案需求執行由經濟部協助移轉關鍵技術擴大國內軍民工廠維修能量軍備局續依各軍種建案需求持續爭取以維裝備戰力維持漢翔公司說台美工業合作均依軍種建案需求執行由經濟部協助移轉關鍵技術擴大國內軍民工廠維修能量漢翔位於台中水湳的維修中心年月日成立目前已獲原廠授權展開維修工作各項能量正逐步建構完善預計今年第一季完成驗證持續結合國內廠商支援空軍機隊妥善政黨票能幹嘛神秘數字搶席次領補助還可扣稅大選結果繫在年輕人手上投票率直接差格政見會後情勢生變最新家媒體民調一次看立委抽籤結果出爐選區名單號次一次看影組拚總統選民抱不平幹嘛蹚這趟渾水空軍戰機總統蔡英文曾親自體驗掛保證很好操作的國造紅隼火箭彈陸軍採購五千枚今年趕工生產陸軍同時採購六十套射擊模擬器準備提中科院系製中心日前展示國造紅隼火箭彈模擬器表示這種小巧的單兵肩射型武器系統具備城鎮作戰便於攜帶的優越性有利於單兵各中科院以六六火箭彈為藍本研發紅隼火箭彈是蔡政府國防自主象徵之一性能受肯定但以實需而言這項裝備顯然成為宣傳義務役延國防部今天表示國軍廉能施政已獲國際肯定而國軍一貫秉持備戰不求戰應戰不避戰態度持恆強化各項戰力整建與戰備整備針對國民黨副總統候選人趙少康今於副總統候選人辯論會上稱你不能靠義務軍人靠義務去打仗當然是職業軍人為主賴清德競總因應兵役延長一年國防部今天表示已配合全國檢察長座談時機請檢察官嚴肅看待暴行抗命及聚眾鬥毆等破壞軍紀案件</td>\n",
       "      <td>UDN</td>\n",
       "    </tr>\n",
       "    <tr>\n",
       "      <th>2</th>\n",
       "      <td>3</td>\n",
       "      <td>義務役新兵看過來入伍結訓震撼教育攻略圖表在這裡</td>\n",
       "      <td>2024/1/1 11:16</td>\n",
       "      <td>要聞</td>\n",
       "      <td>https://udn.com/news/story/10930/7678409</td>\n",
       "      <td>年月首波徵召入營名一年制兵役役男這些役男入伍後將接受新兵訓練震撼教育國防部說明震撼教育訓練場設施國軍新兵訓練震撼教育訓練目的是讓完成八周入伍訓練的新兵由期末鑑測結合震撼教育驗測新兵戰鬥技能及狀況處置同步體驗戰場景況營區訓場設計以公尺至公尺為基準場內設置土堤門窗家屋外壕屋頂型鐵絲網及高絆網等處障礙物機槍堡配置兩挺機槍不間斷射擊空包彈另以炸藥每波實施兩次爆炸模擬戰場景況國防部表示震撼教育測驗以一個班為單位由鑑測官發布狀況誘導班長帶領新兵實施班攻擊綜合教練演練置重點於狀況處置及戰傷救護全程由安管中心編組醫護及警戒組負責各項安全管制措施以往陸軍受限於場地只有成功嶺大專寒暑訓陸官入伍生團陸戰隊隘寮靶場設有震撼教育場及課程前年起國防部通令各軍團增設場地陸軍八軍團在官田增設一座震撼教育場據了解義務役役男的震撼教育場與三軍入伍生團場地有些許差異三軍入伍生團的會在通道兩側同時爆破新訓為單側爆破三軍入伍生團訓場最後一段是上坡實施衝鋒陸軍官校位於步校後山的震撼教育訓場圖取自本月首波徵召入營的名一年制義務役男入伍結訓測將接受新兵訓練震憾教育國防部向立法院以圖示說明震撼教育訓場設施與個關卡與周邊震撼器材的設置方法圖取自立法院公報政黨票能幹嘛神秘數字搶席次領補助還可扣稅大選結果繫在年輕人手上投票率直接差格政見會後情勢生變最新家媒體民調一次看立委抽籤結果出爐選區名單號次一次看影組拚總統選民抱不平幹嘛蹚這趟渾水國防部役男陸軍總統蔡英文曾親自體驗掛保證很好操作的國造紅隼火箭彈陸軍採購五千枚今年趕工生產陸軍同時採購六十套射擊模擬器準備提中科院系製中心日前展示國造紅隼火箭彈模擬器表示這種小巧的單兵肩射型武器系統具備城鎮作戰便於攜帶的優越性有利於單兵各中科院以六六火箭彈為藍本研發紅隼火箭彈是蔡政府國防自主象徵之一性能受肯定但以實需而言這項裝備顯然成為宣傳義務役延國防部今天表示國軍廉能施政已獲國際肯定而國軍一貫秉持備戰不求戰應戰不避戰態度持恆強化各項戰力整建與戰備整備因應兵役延長一年國防部今天表示已配合全國檢察長座談時機請檢察官嚴肅看待暴行抗命及聚眾鬥毆等破壞軍紀案件年月首波徵召入營名一年制兵役役男這些役男入伍後將接受新兵訓練震撼教育</td>\n",
       "      <td>UDN</td>\n",
       "    </tr>\n",
       "  </tbody>\n",
       "</table>\n",
       "</div>"
      ]
     },
     "execution_count": 114,
     "metadata": {},
     "output_type": "execute_result"
    }
   ],
   "execution_count": 114
  },
  {
   "cell_type": "markdown",
   "metadata": {},
   "source": "文章的標題`artTitle`和內文`sentence`都會納入分析的內容，成為新的`content`欄位。 "
  },
  {
   "cell_type": "code",
   "metadata": {
    "ExecuteTime": {
     "end_time": "2024-04-08T02:51:46.530580Z",
     "start_time": "2024-04-08T02:51:46.513409Z"
    }
   },
   "source": [
    "# 留下 content\n",
    "udn[\"content\"] = udn[\"artTitle\"] + udn[\"artContent\"]\n",
    "udn = udn[[\"content\", \"artUrl\", \"artCatagory\"]]  # 文章內容 文章連結\n",
    "udn.head()"
   ],
   "outputs": [
    {
     "data": {
      "text/plain": [
       "                                                                                                                                                                                                                                                                                                                                                                                                                                                                                                                                                                                                                                                                                                                                                                                                                                                                                                                                                                   content  \\\n",
       "0                                           蔡總統主持元旦升旗國防部長邱國正率將領參加國防部表示蔡英文總統上午主持中華民國年元旦總統府升旗典禮國防部長邱國正參謀總長梅家樹率將領與軍校學生代表出席以實際行動表達對國家熱愛蔡英文總統與賴清德副總統上午出席元旦升旗典禮首先接受國防部三軍儀隊大隊長致敬在歷屆十大傑出青年代表的領唱下與現場民眾齊唱國歌在國旗歌演奏聲中國旗緩緩升起國防部表示民國年元旦總統府升旗典禮以活力台灣世代永續為主題由蔡總統親自主持全場軍民在歷屆十大傑出青年代表領唱下齊唱國歌以實際行動表達對國家的熱愛與認同國防部說邱國正清晨率領梅家樹國防部副部長柏鴻輝國防部副部長徐衍璞與各聯參單位代表以及陸海空軍官校國防大學政治作戰學院管理學院理工學院國防醫學院陸軍專科學校空軍航技學院及中正預校等所軍事校院學生代表共同參加元旦總統府升旗典禮以實際行動表達對國家的熱愛國防部表示今年國防部示範樂隊及三軍儀隊配合大會企畫主軸活力台灣世代永續以從戎回憶進行曲黃埔軍魂領航者英勇勳章等首曲目搭配儀隊官兵走位變化及花式操槍展現壯盛軍容更象徵國軍是民主台灣的領航者面對困難與挑戰仍勇往直前政黨票能幹嘛神秘數字搶席次領補助還可扣稅大選結果繫在年輕人手上投票率直接差格政見會後情勢生變最新家媒體民調一次看立委抽籤結果出爐選區名單號次一次看影組拚總統選民抱不平幹嘛蹚這趟渾水國防部元旦升旗蔡英文總統蔡英文曾親自體驗掛保證很好操作的國造紅隼火箭彈陸軍採購五千枚今年趕工生產陸軍同時採購六十套射擊模擬器準備提中科院系製中心日前展示國造紅隼火箭彈模擬器表示這種小巧的單兵肩射型武器系統具備城鎮作戰便於攜帶的優越性有利於單兵各中科院以六六火箭彈為藍本研發紅隼火箭彈是蔡政府國防自主象徵之一性能受肯定但以實需而言這項裝備顯然成為宣傳義務役延國防部今天表示國軍廉能施政已獲國際肯定而國軍一貫秉持備戰不求戰應戰不避戰態度持恆強化各項戰力整建與戰備整備針對國民黨副總統候選人趙少康今於副總統候選人辯論會上稱你不能靠義務軍人靠義務去打仗當然是職業軍人為主賴清德競總因應兵役延長一年國防部今天表示已配合全國檢察長座談時機請檢察官嚴肅看待暴行抗命及聚眾鬥毆等破壞軍紀案件   \n",
       "1                                                                                                                                                 廠級維修能量今年第一季驗證台美還在對峙談判中空軍年開始陸續接裝架戰機國防部軍備局表示正透過談判爭取由漢翔建立廠級維修中心漢翔公司說維修中心預計年第一季完成驗證支援空軍機隊妥善據了解我國對美採購架戰機將動用工業合作點數與美談判在台直接廠級維修漢翔成立的維修中心目前已取得原廠洛馬數百項維修認證目前積極爭取在台產置若干系統件希望納入美全球供應鏈針對架在台實施廠級維修案的談判進度軍備局表示台美工業合作均依軍種建案需求執行由經濟部協助移轉關鍵技術擴大國內軍民工廠維修能量軍備局續依各軍種建案需求持續爭取以維裝備戰力維持漢翔公司說台美工業合作均依軍種建案需求執行由經濟部協助移轉關鍵技術擴大國內軍民工廠維修能量漢翔位於台中水湳的維修中心年月日成立目前已獲原廠授權展開維修工作各項能量正逐步建構完善預計今年第一季完成驗證持續結合國內廠商支援空軍機隊妥善政黨票能幹嘛神秘數字搶席次領補助還可扣稅大選結果繫在年輕人手上投票率直接差格政見會後情勢生變最新家媒體民調一次看立委抽籤結果出爐選區名單號次一次看影組拚總統選民抱不平幹嘛蹚這趟渾水空軍戰機總統蔡英文曾親自體驗掛保證很好操作的國造紅隼火箭彈陸軍採購五千枚今年趕工生產陸軍同時採購六十套射擊模擬器準備提中科院系製中心日前展示國造紅隼火箭彈模擬器表示這種小巧的單兵肩射型武器系統具備城鎮作戰便於攜帶的優越性有利於單兵各中科院以六六火箭彈為藍本研發紅隼火箭彈是蔡政府國防自主象徵之一性能受肯定但以實需而言這項裝備顯然成為宣傳義務役延國防部今天表示國軍廉能施政已獲國際肯定而國軍一貫秉持備戰不求戰應戰不避戰態度持恆強化各項戰力整建與戰備整備針對國民黨副總統候選人趙少康今於副總統候選人辯論會上稱你不能靠義務軍人靠義務去打仗當然是職業軍人為主賴清德競總因應兵役延長一年國防部今天表示已配合全國檢察長座談時機請檢察官嚴肅看待暴行抗命及聚眾鬥毆等破壞軍紀案件   \n",
       "2  義務役新兵看過來入伍結訓震撼教育攻略圖表在這裡年月首波徵召入營名一年制兵役役男這些役男入伍後將接受新兵訓練震撼教育國防部說明震撼教育訓練場設施國軍新兵訓練震撼教育訓練目的是讓完成八周入伍訓練的新兵由期末鑑測結合震撼教育驗測新兵戰鬥技能及狀況處置同步體驗戰場景況營區訓場設計以公尺至公尺為基準場內設置土堤門窗家屋外壕屋頂型鐵絲網及高絆網等處障礙物機槍堡配置兩挺機槍不間斷射擊空包彈另以炸藥每波實施兩次爆炸模擬戰場景況國防部表示震撼教育測驗以一個班為單位由鑑測官發布狀況誘導班長帶領新兵實施班攻擊綜合教練演練置重點於狀況處置及戰傷救護全程由安管中心編組醫護及警戒組負責各項安全管制措施以往陸軍受限於場地只有成功嶺大專寒暑訓陸官入伍生團陸戰隊隘寮靶場設有震撼教育場及課程前年起國防部通令各軍團增設場地陸軍八軍團在官田增設一座震撼教育場據了解義務役役男的震撼教育場與三軍入伍生團場地有些許差異三軍入伍生團的會在通道兩側同時爆破新訓為單側爆破三軍入伍生團訓場最後一段是上坡實施衝鋒陸軍官校位於步校後山的震撼教育訓場圖取自本月首波徵召入營的名一年制義務役男入伍結訓測將接受新兵訓練震憾教育國防部向立法院以圖示說明震撼教育訓場設施與個關卡與周邊震撼器材的設置方法圖取自立法院公報政黨票能幹嘛神秘數字搶席次領補助還可扣稅大選結果繫在年輕人手上投票率直接差格政見會後情勢生變最新家媒體民調一次看立委抽籤結果出爐選區名單號次一次看影組拚總統選民抱不平幹嘛蹚這趟渾水國防部役男陸軍總統蔡英文曾親自體驗掛保證很好操作的國造紅隼火箭彈陸軍採購五千枚今年趕工生產陸軍同時採購六十套射擊模擬器準備提中科院系製中心日前展示國造紅隼火箭彈模擬器表示這種小巧的單兵肩射型武器系統具備城鎮作戰便於攜帶的優越性有利於單兵各中科院以六六火箭彈為藍本研發紅隼火箭彈是蔡政府國防自主象徵之一性能受肯定但以實需而言這項裝備顯然成為宣傳義務役延國防部今天表示國軍廉能施政已獲國際肯定而國軍一貫秉持備戰不求戰應戰不避戰態度持恆強化各項戰力整建與戰備整備因應兵役延長一年國防部今天表示已配合全國檢察長座談時機請檢察官嚴肅看待暴行抗命及聚眾鬥毆等破壞軍紀案件年月首波徵召入營名一年制兵役役男這些役男入伍後將接受新兵訓練震撼教育   \n",
       "3                                                                                                                                                                                         國防部籲法界嚴肅看待暴行抗命及聚眾鬥毆軍紀案因應兵役延長一年國防部今天表示已配合全國檢察長座談時機請檢察官嚴肅看待暴行抗命及聚眾鬥毆等破壞軍紀案件國防部指出國軍除強化軍法紀教育落實組織功能精進內部管理輔導役男由民轉軍嚴肅部隊紀律與領導統御同時與檢察機關保持密切聯繫定期舉行檢軍會議建立溝通平台國防部說已配合座談時機請檢察官嚴肅看待暴行抗命及聚眾鬥毆等破壞軍紀案件獲得重視針對嚴重影響部隊管理領導統御及訓練執行的案件將速查嚴辦聲請法院從重量刑在司法機關積極協助下國軍維護紀律工作持續強化國防部表示有關承平時期是否恢復軍事審判制度因目前社會各界存有不同看法國防部在兼顧軍紀維護與人權保障前提下持續推動陸海空軍懲罰法與軍人權益事件處理法的立法工作外將廣蒐意見充分研議以周延建構兼顧人權保障與軍隊紀律的制度政黨票能幹嘛神秘數字搶席次領補助還可扣稅大選結果繫在年輕人手上投票率直接差格政見會後情勢生變最新家媒體民調一次看立委抽籤結果出爐選區名單號次一次看影組拚總統選民抱不平幹嘛蹚這趟渾水國防部人權鬥毆總統蔡英文曾親自體驗掛保證很好操作的國造紅隼火箭彈陸軍採購五千枚今年趕工生產陸軍同時採購六十套射擊模擬器準備提中科院系製中心日前展示國造紅隼火箭彈模擬器表示這種小巧的單兵肩射型武器系統具備城鎮作戰便於攜帶的優越性有利於單兵各中科院以六六火箭彈為藍本研發紅隼火箭彈是蔡政府國防自主象徵之一性能受肯定但以實需而言這項裝備顯然成為宣傳義務役延國防部今天表示國軍廉能施政已獲國際肯定而國軍一貫秉持備戰不求戰應戰不避戰態度持恆強化各項戰力整建與戰備整備因應兵役延長一年國防部今天表示已配合全國檢察長座談時機請檢察官嚴肅看待暴行抗命及聚眾鬥毆等破壞軍紀案件年月首波徵召入營名一年制兵役役男這些役男入伍後將接受新兵訓練震撼教育   \n",
       "4                                                                                                                                             暴行抗命等軍紀案國防部檢察官允速查嚴辦國軍已恢復一年制義務役外界關注是否恢復軍事審判制度國防部今天表示將在兼顧軍紀維護與人權保障前提下持續推動陸海空軍懲罰法與軍人權益事件處理法立法工作並廣蒐意見充分研議國防部下午發布新聞稿表示國軍除強化軍法紀教育並落實組織功能精進內部管理輔導役男由民轉軍嚴肅部隊紀律與領導統御同時與檢察機關保持密切聯繫定期召開檢軍會議建立溝通平台國防部說明日前已配合座談時機籲檢察官嚴肅看待暴行抗命及聚眾鬥毆等破壞軍紀案件並獲得重視針對嚴重影響部隊管理領導統御及訓練執行的案件將速查嚴辦聲請法院從重量刑在司法機關積極協助下國軍維護紀律工作將持續強化有關承平時期是否恢復軍事審判制度國防部回應目前因社會各界仍存不同看法國防部在兼顧軍紀維護與人權保障前提下除了持續推動陸海空軍懲罰法與軍人權益事件處理法的立法工作外並將廣蒐意見充分研議以周延建構兼顧人權保障與軍隊紀律的制度政黨票能幹嘛神秘數字搶席次領補助還可扣稅大選結果繫在年輕人手上投票率直接差格政見會後情勢生變最新家媒體民調一次看立委抽籤結果出爐選區名單號次一次看影組拚總統選民抱不平幹嘛蹚這趟渾水國防部人權國軍總統蔡英文曾親自體驗掛保證很好操作的國造紅隼火箭彈陸軍採購五千枚今年趕工生產陸軍同時採購六十套射擊模擬器準備提中科院系製中心日前展示國造紅隼火箭彈模擬器表示這種小巧的單兵肩射型武器系統具備城鎮作戰便於攜帶的優越性有利於單兵各中科院以六六火箭彈為藍本研發紅隼火箭彈是蔡政府國防自主象徵之一性能受肯定但以實需而言這項裝備顯然成為宣傳義務役延國防部今天表示國軍廉能施政已獲國際肯定而國軍一貫秉持備戰不求戰應戰不避戰態度持恆強化各項戰力整建與戰備整備因應兵役延長一年國防部今天表示已配合全國檢察長座談時機請檢察官嚴肅看待暴行抗命及聚眾鬥毆等破壞軍紀案件年月首波徵召入營名一年制兵役役男這些役男入伍後將接受新兵訓練震撼教育   \n",
       "\n",
       "                                     artUrl artCatagory  \n",
       "0  https://udn.com/news/story/10930/7678307          要聞  \n",
       "1  https://udn.com/news/story/10930/7678314          要聞  \n",
       "2  https://udn.com/news/story/10930/7678409          要聞  \n",
       "3  https://udn.com/news/story/10930/7678652          要聞  \n",
       "4  https://udn.com/news/story/10930/7679055          要聞  "
      ],
      "text/html": [
       "<div>\n",
       "<style scoped>\n",
       "    .dataframe tbody tr th:only-of-type {\n",
       "        vertical-align: middle;\n",
       "    }\n",
       "\n",
       "    .dataframe tbody tr th {\n",
       "        vertical-align: top;\n",
       "    }\n",
       "\n",
       "    .dataframe thead th {\n",
       "        text-align: right;\n",
       "    }\n",
       "</style>\n",
       "<table border=\"1\" class=\"dataframe\">\n",
       "  <thead>\n",
       "    <tr style=\"text-align: right;\">\n",
       "      <th></th>\n",
       "      <th>content</th>\n",
       "      <th>artUrl</th>\n",
       "      <th>artCatagory</th>\n",
       "    </tr>\n",
       "  </thead>\n",
       "  <tbody>\n",
       "    <tr>\n",
       "      <th>0</th>\n",
       "      <td>蔡總統主持元旦升旗國防部長邱國正率將領參加國防部表示蔡英文總統上午主持中華民國年元旦總統府升旗典禮國防部長邱國正參謀總長梅家樹率將領與軍校學生代表出席以實際行動表達對國家熱愛蔡英文總統與賴清德副總統上午出席元旦升旗典禮首先接受國防部三軍儀隊大隊長致敬在歷屆十大傑出青年代表的領唱下與現場民眾齊唱國歌在國旗歌演奏聲中國旗緩緩升起國防部表示民國年元旦總統府升旗典禮以活力台灣世代永續為主題由蔡總統親自主持全場軍民在歷屆十大傑出青年代表領唱下齊唱國歌以實際行動表達對國家的熱愛與認同國防部說邱國正清晨率領梅家樹國防部副部長柏鴻輝國防部副部長徐衍璞與各聯參單位代表以及陸海空軍官校國防大學政治作戰學院管理學院理工學院國防醫學院陸軍專科學校空軍航技學院及中正預校等所軍事校院學生代表共同參加元旦總統府升旗典禮以實際行動表達對國家的熱愛國防部表示今年國防部示範樂隊及三軍儀隊配合大會企畫主軸活力台灣世代永續以從戎回憶進行曲黃埔軍魂領航者英勇勳章等首曲目搭配儀隊官兵走位變化及花式操槍展現壯盛軍容更象徵國軍是民主台灣的領航者面對困難與挑戰仍勇往直前政黨票能幹嘛神秘數字搶席次領補助還可扣稅大選結果繫在年輕人手上投票率直接差格政見會後情勢生變最新家媒體民調一次看立委抽籤結果出爐選區名單號次一次看影組拚總統選民抱不平幹嘛蹚這趟渾水國防部元旦升旗蔡英文總統蔡英文曾親自體驗掛保證很好操作的國造紅隼火箭彈陸軍採購五千枚今年趕工生產陸軍同時採購六十套射擊模擬器準備提中科院系製中心日前展示國造紅隼火箭彈模擬器表示這種小巧的單兵肩射型武器系統具備城鎮作戰便於攜帶的優越性有利於單兵各中科院以六六火箭彈為藍本研發紅隼火箭彈是蔡政府國防自主象徵之一性能受肯定但以實需而言這項裝備顯然成為宣傳義務役延國防部今天表示國軍廉能施政已獲國際肯定而國軍一貫秉持備戰不求戰應戰不避戰態度持恆強化各項戰力整建與戰備整備針對國民黨副總統候選人趙少康今於副總統候選人辯論會上稱你不能靠義務軍人靠義務去打仗當然是職業軍人為主賴清德競總因應兵役延長一年國防部今天表示已配合全國檢察長座談時機請檢察官嚴肅看待暴行抗命及聚眾鬥毆等破壞軍紀案件</td>\n",
       "      <td>https://udn.com/news/story/10930/7678307</td>\n",
       "      <td>要聞</td>\n",
       "    </tr>\n",
       "    <tr>\n",
       "      <th>1</th>\n",
       "      <td>廠級維修能量今年第一季驗證台美還在對峙談判中空軍年開始陸續接裝架戰機國防部軍備局表示正透過談判爭取由漢翔建立廠級維修中心漢翔公司說維修中心預計年第一季完成驗證支援空軍機隊妥善據了解我國對美採購架戰機將動用工業合作點數與美談判在台直接廠級維修漢翔成立的維修中心目前已取得原廠洛馬數百項維修認證目前積極爭取在台產置若干系統件希望納入美全球供應鏈針對架在台實施廠級維修案的談判進度軍備局表示台美工業合作均依軍種建案需求執行由經濟部協助移轉關鍵技術擴大國內軍民工廠維修能量軍備局續依各軍種建案需求持續爭取以維裝備戰力維持漢翔公司說台美工業合作均依軍種建案需求執行由經濟部協助移轉關鍵技術擴大國內軍民工廠維修能量漢翔位於台中水湳的維修中心年月日成立目前已獲原廠授權展開維修工作各項能量正逐步建構完善預計今年第一季完成驗證持續結合國內廠商支援空軍機隊妥善政黨票能幹嘛神秘數字搶席次領補助還可扣稅大選結果繫在年輕人手上投票率直接差格政見會後情勢生變最新家媒體民調一次看立委抽籤結果出爐選區名單號次一次看影組拚總統選民抱不平幹嘛蹚這趟渾水空軍戰機總統蔡英文曾親自體驗掛保證很好操作的國造紅隼火箭彈陸軍採購五千枚今年趕工生產陸軍同時採購六十套射擊模擬器準備提中科院系製中心日前展示國造紅隼火箭彈模擬器表示這種小巧的單兵肩射型武器系統具備城鎮作戰便於攜帶的優越性有利於單兵各中科院以六六火箭彈為藍本研發紅隼火箭彈是蔡政府國防自主象徵之一性能受肯定但以實需而言這項裝備顯然成為宣傳義務役延國防部今天表示國軍廉能施政已獲國際肯定而國軍一貫秉持備戰不求戰應戰不避戰態度持恆強化各項戰力整建與戰備整備針對國民黨副總統候選人趙少康今於副總統候選人辯論會上稱你不能靠義務軍人靠義務去打仗當然是職業軍人為主賴清德競總因應兵役延長一年國防部今天表示已配合全國檢察長座談時機請檢察官嚴肅看待暴行抗命及聚眾鬥毆等破壞軍紀案件</td>\n",
       "      <td>https://udn.com/news/story/10930/7678314</td>\n",
       "      <td>要聞</td>\n",
       "    </tr>\n",
       "    <tr>\n",
       "      <th>2</th>\n",
       "      <td>義務役新兵看過來入伍結訓震撼教育攻略圖表在這裡年月首波徵召入營名一年制兵役役男這些役男入伍後將接受新兵訓練震撼教育國防部說明震撼教育訓練場設施國軍新兵訓練震撼教育訓練目的是讓完成八周入伍訓練的新兵由期末鑑測結合震撼教育驗測新兵戰鬥技能及狀況處置同步體驗戰場景況營區訓場設計以公尺至公尺為基準場內設置土堤門窗家屋外壕屋頂型鐵絲網及高絆網等處障礙物機槍堡配置兩挺機槍不間斷射擊空包彈另以炸藥每波實施兩次爆炸模擬戰場景況國防部表示震撼教育測驗以一個班為單位由鑑測官發布狀況誘導班長帶領新兵實施班攻擊綜合教練演練置重點於狀況處置及戰傷救護全程由安管中心編組醫護及警戒組負責各項安全管制措施以往陸軍受限於場地只有成功嶺大專寒暑訓陸官入伍生團陸戰隊隘寮靶場設有震撼教育場及課程前年起國防部通令各軍團增設場地陸軍八軍團在官田增設一座震撼教育場據了解義務役役男的震撼教育場與三軍入伍生團場地有些許差異三軍入伍生團的會在通道兩側同時爆破新訓為單側爆破三軍入伍生團訓場最後一段是上坡實施衝鋒陸軍官校位於步校後山的震撼教育訓場圖取自本月首波徵召入營的名一年制義務役男入伍結訓測將接受新兵訓練震憾教育國防部向立法院以圖示說明震撼教育訓場設施與個關卡與周邊震撼器材的設置方法圖取自立法院公報政黨票能幹嘛神秘數字搶席次領補助還可扣稅大選結果繫在年輕人手上投票率直接差格政見會後情勢生變最新家媒體民調一次看立委抽籤結果出爐選區名單號次一次看影組拚總統選民抱不平幹嘛蹚這趟渾水國防部役男陸軍總統蔡英文曾親自體驗掛保證很好操作的國造紅隼火箭彈陸軍採購五千枚今年趕工生產陸軍同時採購六十套射擊模擬器準備提中科院系製中心日前展示國造紅隼火箭彈模擬器表示這種小巧的單兵肩射型武器系統具備城鎮作戰便於攜帶的優越性有利於單兵各中科院以六六火箭彈為藍本研發紅隼火箭彈是蔡政府國防自主象徵之一性能受肯定但以實需而言這項裝備顯然成為宣傳義務役延國防部今天表示國軍廉能施政已獲國際肯定而國軍一貫秉持備戰不求戰應戰不避戰態度持恆強化各項戰力整建與戰備整備因應兵役延長一年國防部今天表示已配合全國檢察長座談時機請檢察官嚴肅看待暴行抗命及聚眾鬥毆等破壞軍紀案件年月首波徵召入營名一年制兵役役男這些役男入伍後將接受新兵訓練震撼教育</td>\n",
       "      <td>https://udn.com/news/story/10930/7678409</td>\n",
       "      <td>要聞</td>\n",
       "    </tr>\n",
       "    <tr>\n",
       "      <th>3</th>\n",
       "      <td>國防部籲法界嚴肅看待暴行抗命及聚眾鬥毆軍紀案因應兵役延長一年國防部今天表示已配合全國檢察長座談時機請檢察官嚴肅看待暴行抗命及聚眾鬥毆等破壞軍紀案件國防部指出國軍除強化軍法紀教育落實組織功能精進內部管理輔導役男由民轉軍嚴肅部隊紀律與領導統御同時與檢察機關保持密切聯繫定期舉行檢軍會議建立溝通平台國防部說已配合座談時機請檢察官嚴肅看待暴行抗命及聚眾鬥毆等破壞軍紀案件獲得重視針對嚴重影響部隊管理領導統御及訓練執行的案件將速查嚴辦聲請法院從重量刑在司法機關積極協助下國軍維護紀律工作持續強化國防部表示有關承平時期是否恢復軍事審判制度因目前社會各界存有不同看法國防部在兼顧軍紀維護與人權保障前提下持續推動陸海空軍懲罰法與軍人權益事件處理法的立法工作外將廣蒐意見充分研議以周延建構兼顧人權保障與軍隊紀律的制度政黨票能幹嘛神秘數字搶席次領補助還可扣稅大選結果繫在年輕人手上投票率直接差格政見會後情勢生變最新家媒體民調一次看立委抽籤結果出爐選區名單號次一次看影組拚總統選民抱不平幹嘛蹚這趟渾水國防部人權鬥毆總統蔡英文曾親自體驗掛保證很好操作的國造紅隼火箭彈陸軍採購五千枚今年趕工生產陸軍同時採購六十套射擊模擬器準備提中科院系製中心日前展示國造紅隼火箭彈模擬器表示這種小巧的單兵肩射型武器系統具備城鎮作戰便於攜帶的優越性有利於單兵各中科院以六六火箭彈為藍本研發紅隼火箭彈是蔡政府國防自主象徵之一性能受肯定但以實需而言這項裝備顯然成為宣傳義務役延國防部今天表示國軍廉能施政已獲國際肯定而國軍一貫秉持備戰不求戰應戰不避戰態度持恆強化各項戰力整建與戰備整備因應兵役延長一年國防部今天表示已配合全國檢察長座談時機請檢察官嚴肅看待暴行抗命及聚眾鬥毆等破壞軍紀案件年月首波徵召入營名一年制兵役役男這些役男入伍後將接受新兵訓練震撼教育</td>\n",
       "      <td>https://udn.com/news/story/10930/7678652</td>\n",
       "      <td>要聞</td>\n",
       "    </tr>\n",
       "    <tr>\n",
       "      <th>4</th>\n",
       "      <td>暴行抗命等軍紀案國防部檢察官允速查嚴辦國軍已恢復一年制義務役外界關注是否恢復軍事審判制度國防部今天表示將在兼顧軍紀維護與人權保障前提下持續推動陸海空軍懲罰法與軍人權益事件處理法立法工作並廣蒐意見充分研議國防部下午發布新聞稿表示國軍除強化軍法紀教育並落實組織功能精進內部管理輔導役男由民轉軍嚴肅部隊紀律與領導統御同時與檢察機關保持密切聯繫定期召開檢軍會議建立溝通平台國防部說明日前已配合座談時機籲檢察官嚴肅看待暴行抗命及聚眾鬥毆等破壞軍紀案件並獲得重視針對嚴重影響部隊管理領導統御及訓練執行的案件將速查嚴辦聲請法院從重量刑在司法機關積極協助下國軍維護紀律工作將持續強化有關承平時期是否恢復軍事審判制度國防部回應目前因社會各界仍存不同看法國防部在兼顧軍紀維護與人權保障前提下除了持續推動陸海空軍懲罰法與軍人權益事件處理法的立法工作外並將廣蒐意見充分研議以周延建構兼顧人權保障與軍隊紀律的制度政黨票能幹嘛神秘數字搶席次領補助還可扣稅大選結果繫在年輕人手上投票率直接差格政見會後情勢生變最新家媒體民調一次看立委抽籤結果出爐選區名單號次一次看影組拚總統選民抱不平幹嘛蹚這趟渾水國防部人權國軍總統蔡英文曾親自體驗掛保證很好操作的國造紅隼火箭彈陸軍採購五千枚今年趕工生產陸軍同時採購六十套射擊模擬器準備提中科院系製中心日前展示國造紅隼火箭彈模擬器表示這種小巧的單兵肩射型武器系統具備城鎮作戰便於攜帶的優越性有利於單兵各中科院以六六火箭彈為藍本研發紅隼火箭彈是蔡政府國防自主象徵之一性能受肯定但以實需而言這項裝備顯然成為宣傳義務役延國防部今天表示國軍廉能施政已獲國際肯定而國軍一貫秉持備戰不求戰應戰不避戰態度持恆強化各項戰力整建與戰備整備因應兵役延長一年國防部今天表示已配合全國檢察長座談時機請檢察官嚴肅看待暴行抗命及聚眾鬥毆等破壞軍紀案件年月首波徵召入營名一年制兵役役男這些役男入伍後將接受新兵訓練震撼教育</td>\n",
       "      <td>https://udn.com/news/story/10930/7679055</td>\n",
       "      <td>要聞</td>\n",
       "    </tr>\n",
       "  </tbody>\n",
       "</table>\n",
       "</div>"
      ]
     },
     "execution_count": 115,
     "metadata": {},
     "output_type": "execute_result"
    }
   ],
   "execution_count": 115
  },
  {
   "cell_type": "code",
   "metadata": {
    "scrolled": true,
    "ExecuteTime": {
     "end_time": "2024-04-08T02:51:47.951339Z",
     "start_time": "2024-04-08T02:51:47.945348Z"
    }
   },
   "source": [
    "# 看看有幾篇文章\n",
    "print(f\"total docs: {udn.shape[0]}\")"
   ],
   "outputs": [
    {
     "name": "stdout",
     "output_type": "stream",
     "text": [
      "total docs: 9479\n"
     ]
    }
   ],
   "execution_count": 116
  },
  {
   "attachments": {},
   "cell_type": "markdown",
   "metadata": {},
   "source": "### 2.2 斷詞 "
  },
  {
   "cell_type": "code",
   "metadata": {
    "ExecuteTime": {
     "end_time": "2024-04-08T02:52:10.504325Z",
     "start_time": "2024-04-08T02:52:10.499115Z"
    }
   },
   "source": [
    "# 設定繁體中文詞庫\n",
    "jieba.set_dictionary(\"./dict/dict.txt.big\")\n",
    "\n",
    "# 新增stopwords\n",
    "# jieba.analyse.set_stop_words('./dict/stop_words.txt') #jieba.analyse.extract_tags才會作用\n",
    "with open(\"./dict/stop_words.txt\", encoding=\"utf-8\") as f:\n",
    "    stopWords = [line.strip() for line in f.readlines()]"
   ],
   "outputs": [],
   "execution_count": 117
  },
  {
   "cell_type": "code",
   "metadata": {
    "ExecuteTime": {
     "end_time": "2024-04-08T02:52:11.313233Z",
     "start_time": "2024-04-08T02:52:11.308441Z"
    }
   },
   "source": [
    "# 設定斷詞 function\n",
    "def getToken(row):\n",
    "    seg_list = jieba.cut(row, cut_all=False)\n",
    "    seg_list = [\n",
    "        w for w in seg_list if w not in stopWords and len(w) > 1\n",
    "    ]  # 篩選掉停用字與字元數大於1的詞彙\n",
    "    return seg_list"
   ],
   "outputs": [],
   "execution_count": 118
  },
  {
   "cell_type": "code",
   "metadata": {
    "ExecuteTime": {
     "end_time": "2024-04-08T02:53:01.420024Z",
     "start_time": "2024-04-08T02:52:12.112170Z"
    }
   },
   "source": [
    "udn[\"words\"] = udn[\"content\"].apply(getToken).map(\" \".join)\n",
    "udn.head()"
   ],
   "outputs": [
    {
     "name": "stderr",
     "output_type": "stream",
     "text": [
      "Building prefix dict from C:\\Users\\eddie\\GitHub\\StockNatrakLanguageAnalyze\\dict\\dict.txt.big ...\n",
      "Loading model from cache C:\\Users\\eddie\\AppData\\Local\\Temp\\jieba.ua398e1f90d463cf314deaaa432abb2fc.cache\n",
      "Loading model cost 1.232 seconds.\n",
      "Prefix dict has been built successfully.\n"
     ]
    },
    {
     "data": {
      "text/plain": [
       "                                                                                                                                                                                                                                                                                                                                                                                                                                                                                                                                                                                                                                                                                                                                                                                                                                                                                                                                                                   content  \\\n",
       "0                                           蔡總統主持元旦升旗國防部長邱國正率將領參加國防部表示蔡英文總統上午主持中華民國年元旦總統府升旗典禮國防部長邱國正參謀總長梅家樹率將領與軍校學生代表出席以實際行動表達對國家熱愛蔡英文總統與賴清德副總統上午出席元旦升旗典禮首先接受國防部三軍儀隊大隊長致敬在歷屆十大傑出青年代表的領唱下與現場民眾齊唱國歌在國旗歌演奏聲中國旗緩緩升起國防部表示民國年元旦總統府升旗典禮以活力台灣世代永續為主題由蔡總統親自主持全場軍民在歷屆十大傑出青年代表領唱下齊唱國歌以實際行動表達對國家的熱愛與認同國防部說邱國正清晨率領梅家樹國防部副部長柏鴻輝國防部副部長徐衍璞與各聯參單位代表以及陸海空軍官校國防大學政治作戰學院管理學院理工學院國防醫學院陸軍專科學校空軍航技學院及中正預校等所軍事校院學生代表共同參加元旦總統府升旗典禮以實際行動表達對國家的熱愛國防部表示今年國防部示範樂隊及三軍儀隊配合大會企畫主軸活力台灣世代永續以從戎回憶進行曲黃埔軍魂領航者英勇勳章等首曲目搭配儀隊官兵走位變化及花式操槍展現壯盛軍容更象徵國軍是民主台灣的領航者面對困難與挑戰仍勇往直前政黨票能幹嘛神秘數字搶席次領補助還可扣稅大選結果繫在年輕人手上投票率直接差格政見會後情勢生變最新家媒體民調一次看立委抽籤結果出爐選區名單號次一次看影組拚總統選民抱不平幹嘛蹚這趟渾水國防部元旦升旗蔡英文總統蔡英文曾親自體驗掛保證很好操作的國造紅隼火箭彈陸軍採購五千枚今年趕工生產陸軍同時採購六十套射擊模擬器準備提中科院系製中心日前展示國造紅隼火箭彈模擬器表示這種小巧的單兵肩射型武器系統具備城鎮作戰便於攜帶的優越性有利於單兵各中科院以六六火箭彈為藍本研發紅隼火箭彈是蔡政府國防自主象徵之一性能受肯定但以實需而言這項裝備顯然成為宣傳義務役延國防部今天表示國軍廉能施政已獲國際肯定而國軍一貫秉持備戰不求戰應戰不避戰態度持恆強化各項戰力整建與戰備整備針對國民黨副總統候選人趙少康今於副總統候選人辯論會上稱你不能靠義務軍人靠義務去打仗當然是職業軍人為主賴清德競總因應兵役延長一年國防部今天表示已配合全國檢察長座談時機請檢察官嚴肅看待暴行抗命及聚眾鬥毆等破壞軍紀案件   \n",
       "1                                                                                                                                                 廠級維修能量今年第一季驗證台美還在對峙談判中空軍年開始陸續接裝架戰機國防部軍備局表示正透過談判爭取由漢翔建立廠級維修中心漢翔公司說維修中心預計年第一季完成驗證支援空軍機隊妥善據了解我國對美採購架戰機將動用工業合作點數與美談判在台直接廠級維修漢翔成立的維修中心目前已取得原廠洛馬數百項維修認證目前積極爭取在台產置若干系統件希望納入美全球供應鏈針對架在台實施廠級維修案的談判進度軍備局表示台美工業合作均依軍種建案需求執行由經濟部協助移轉關鍵技術擴大國內軍民工廠維修能量軍備局續依各軍種建案需求持續爭取以維裝備戰力維持漢翔公司說台美工業合作均依軍種建案需求執行由經濟部協助移轉關鍵技術擴大國內軍民工廠維修能量漢翔位於台中水湳的維修中心年月日成立目前已獲原廠授權展開維修工作各項能量正逐步建構完善預計今年第一季完成驗證持續結合國內廠商支援空軍機隊妥善政黨票能幹嘛神秘數字搶席次領補助還可扣稅大選結果繫在年輕人手上投票率直接差格政見會後情勢生變最新家媒體民調一次看立委抽籤結果出爐選區名單號次一次看影組拚總統選民抱不平幹嘛蹚這趟渾水空軍戰機總統蔡英文曾親自體驗掛保證很好操作的國造紅隼火箭彈陸軍採購五千枚今年趕工生產陸軍同時採購六十套射擊模擬器準備提中科院系製中心日前展示國造紅隼火箭彈模擬器表示這種小巧的單兵肩射型武器系統具備城鎮作戰便於攜帶的優越性有利於單兵各中科院以六六火箭彈為藍本研發紅隼火箭彈是蔡政府國防自主象徵之一性能受肯定但以實需而言這項裝備顯然成為宣傳義務役延國防部今天表示國軍廉能施政已獲國際肯定而國軍一貫秉持備戰不求戰應戰不避戰態度持恆強化各項戰力整建與戰備整備針對國民黨副總統候選人趙少康今於副總統候選人辯論會上稱你不能靠義務軍人靠義務去打仗當然是職業軍人為主賴清德競總因應兵役延長一年國防部今天表示已配合全國檢察長座談時機請檢察官嚴肅看待暴行抗命及聚眾鬥毆等破壞軍紀案件   \n",
       "2  義務役新兵看過來入伍結訓震撼教育攻略圖表在這裡年月首波徵召入營名一年制兵役役男這些役男入伍後將接受新兵訓練震撼教育國防部說明震撼教育訓練場設施國軍新兵訓練震撼教育訓練目的是讓完成八周入伍訓練的新兵由期末鑑測結合震撼教育驗測新兵戰鬥技能及狀況處置同步體驗戰場景況營區訓場設計以公尺至公尺為基準場內設置土堤門窗家屋外壕屋頂型鐵絲網及高絆網等處障礙物機槍堡配置兩挺機槍不間斷射擊空包彈另以炸藥每波實施兩次爆炸模擬戰場景況國防部表示震撼教育測驗以一個班為單位由鑑測官發布狀況誘導班長帶領新兵實施班攻擊綜合教練演練置重點於狀況處置及戰傷救護全程由安管中心編組醫護及警戒組負責各項安全管制措施以往陸軍受限於場地只有成功嶺大專寒暑訓陸官入伍生團陸戰隊隘寮靶場設有震撼教育場及課程前年起國防部通令各軍團增設場地陸軍八軍團在官田增設一座震撼教育場據了解義務役役男的震撼教育場與三軍入伍生團場地有些許差異三軍入伍生團的會在通道兩側同時爆破新訓為單側爆破三軍入伍生團訓場最後一段是上坡實施衝鋒陸軍官校位於步校後山的震撼教育訓場圖取自本月首波徵召入營的名一年制義務役男入伍結訓測將接受新兵訓練震憾教育國防部向立法院以圖示說明震撼教育訓場設施與個關卡與周邊震撼器材的設置方法圖取自立法院公報政黨票能幹嘛神秘數字搶席次領補助還可扣稅大選結果繫在年輕人手上投票率直接差格政見會後情勢生變最新家媒體民調一次看立委抽籤結果出爐選區名單號次一次看影組拚總統選民抱不平幹嘛蹚這趟渾水國防部役男陸軍總統蔡英文曾親自體驗掛保證很好操作的國造紅隼火箭彈陸軍採購五千枚今年趕工生產陸軍同時採購六十套射擊模擬器準備提中科院系製中心日前展示國造紅隼火箭彈模擬器表示這種小巧的單兵肩射型武器系統具備城鎮作戰便於攜帶的優越性有利於單兵各中科院以六六火箭彈為藍本研發紅隼火箭彈是蔡政府國防自主象徵之一性能受肯定但以實需而言這項裝備顯然成為宣傳義務役延國防部今天表示國軍廉能施政已獲國際肯定而國軍一貫秉持備戰不求戰應戰不避戰態度持恆強化各項戰力整建與戰備整備因應兵役延長一年國防部今天表示已配合全國檢察長座談時機請檢察官嚴肅看待暴行抗命及聚眾鬥毆等破壞軍紀案件年月首波徵召入營名一年制兵役役男這些役男入伍後將接受新兵訓練震撼教育   \n",
       "3                                                                                                                                                                                         國防部籲法界嚴肅看待暴行抗命及聚眾鬥毆軍紀案因應兵役延長一年國防部今天表示已配合全國檢察長座談時機請檢察官嚴肅看待暴行抗命及聚眾鬥毆等破壞軍紀案件國防部指出國軍除強化軍法紀教育落實組織功能精進內部管理輔導役男由民轉軍嚴肅部隊紀律與領導統御同時與檢察機關保持密切聯繫定期舉行檢軍會議建立溝通平台國防部說已配合座談時機請檢察官嚴肅看待暴行抗命及聚眾鬥毆等破壞軍紀案件獲得重視針對嚴重影響部隊管理領導統御及訓練執行的案件將速查嚴辦聲請法院從重量刑在司法機關積極協助下國軍維護紀律工作持續強化國防部表示有關承平時期是否恢復軍事審判制度因目前社會各界存有不同看法國防部在兼顧軍紀維護與人權保障前提下持續推動陸海空軍懲罰法與軍人權益事件處理法的立法工作外將廣蒐意見充分研議以周延建構兼顧人權保障與軍隊紀律的制度政黨票能幹嘛神秘數字搶席次領補助還可扣稅大選結果繫在年輕人手上投票率直接差格政見會後情勢生變最新家媒體民調一次看立委抽籤結果出爐選區名單號次一次看影組拚總統選民抱不平幹嘛蹚這趟渾水國防部人權鬥毆總統蔡英文曾親自體驗掛保證很好操作的國造紅隼火箭彈陸軍採購五千枚今年趕工生產陸軍同時採購六十套射擊模擬器準備提中科院系製中心日前展示國造紅隼火箭彈模擬器表示這種小巧的單兵肩射型武器系統具備城鎮作戰便於攜帶的優越性有利於單兵各中科院以六六火箭彈為藍本研發紅隼火箭彈是蔡政府國防自主象徵之一性能受肯定但以實需而言這項裝備顯然成為宣傳義務役延國防部今天表示國軍廉能施政已獲國際肯定而國軍一貫秉持備戰不求戰應戰不避戰態度持恆強化各項戰力整建與戰備整備因應兵役延長一年國防部今天表示已配合全國檢察長座談時機請檢察官嚴肅看待暴行抗命及聚眾鬥毆等破壞軍紀案件年月首波徵召入營名一年制兵役役男這些役男入伍後將接受新兵訓練震撼教育   \n",
       "4                                                                                                                                             暴行抗命等軍紀案國防部檢察官允速查嚴辦國軍已恢復一年制義務役外界關注是否恢復軍事審判制度國防部今天表示將在兼顧軍紀維護與人權保障前提下持續推動陸海空軍懲罰法與軍人權益事件處理法立法工作並廣蒐意見充分研議國防部下午發布新聞稿表示國軍除強化軍法紀教育並落實組織功能精進內部管理輔導役男由民轉軍嚴肅部隊紀律與領導統御同時與檢察機關保持密切聯繫定期召開檢軍會議建立溝通平台國防部說明日前已配合座談時機籲檢察官嚴肅看待暴行抗命及聚眾鬥毆等破壞軍紀案件並獲得重視針對嚴重影響部隊管理領導統御及訓練執行的案件將速查嚴辦聲請法院從重量刑在司法機關積極協助下國軍維護紀律工作將持續強化有關承平時期是否恢復軍事審判制度國防部回應目前因社會各界仍存不同看法國防部在兼顧軍紀維護與人權保障前提下除了持續推動陸海空軍懲罰法與軍人權益事件處理法的立法工作外並將廣蒐意見充分研議以周延建構兼顧人權保障與軍隊紀律的制度政黨票能幹嘛神秘數字搶席次領補助還可扣稅大選結果繫在年輕人手上投票率直接差格政見會後情勢生變最新家媒體民調一次看立委抽籤結果出爐選區名單號次一次看影組拚總統選民抱不平幹嘛蹚這趟渾水國防部人權國軍總統蔡英文曾親自體驗掛保證很好操作的國造紅隼火箭彈陸軍採購五千枚今年趕工生產陸軍同時採購六十套射擊模擬器準備提中科院系製中心日前展示國造紅隼火箭彈模擬器表示這種小巧的單兵肩射型武器系統具備城鎮作戰便於攜帶的優越性有利於單兵各中科院以六六火箭彈為藍本研發紅隼火箭彈是蔡政府國防自主象徵之一性能受肯定但以實需而言這項裝備顯然成為宣傳義務役延國防部今天表示國軍廉能施政已獲國際肯定而國軍一貫秉持備戰不求戰應戰不避戰態度持恆強化各項戰力整建與戰備整備因應兵役延長一年國防部今天表示已配合全國檢察長座談時機請檢察官嚴肅看待暴行抗命及聚眾鬥毆等破壞軍紀案件年月首波徵召入營名一年制兵役役男這些役男入伍後將接受新兵訓練震撼教育   \n",
       "\n",
       "                                     artUrl artCatagory  \\\n",
       "0  https://udn.com/news/story/10930/7678307          要聞   \n",
       "1  https://udn.com/news/story/10930/7678314          要聞   \n",
       "2  https://udn.com/news/story/10930/7678409          要聞   \n",
       "3  https://udn.com/news/story/10930/7678652          要聞   \n",
       "4  https://udn.com/news/story/10930/7679055          要聞   \n",
       "\n",
       "                                                                                                                                                                                                                                                                                                                                                                                                                                                                                                                                                                                                                                                                                                                                                                                                                                                                                                                                                                                                                                                                                                                                                                                                                                   words  \n",
       "0                                                                                    總統 主持 元旦 升旗 國防部長 邱國 正率 將領 參加 國防部 表示 英文 總統 上午 主持 中華民國 元旦 總統府 升旗典禮 國防部長 邱國正 參謀總長 梅家 樹率 將領 軍校 學生 代表 出席 實際行動 表達 國家 熱愛 英文 總統 賴清德 總統 上午 出席 元旦 升旗典禮 接受 國防部 三軍 儀隊 大隊長 致敬 歷屆 十大 傑出青年 代表 領唱 現場 民眾 唱國歌 國旗歌 演奏 中國 緩緩 升起 國防部 表示 民國 元旦 總統府 升旗典禮 活力 台灣 世代 永續 主題 總統 主持 全場 軍民 歷屆 十大 傑出青年 代表 領唱 下齊 唱國歌 實際行動 表達 國家 熱愛 認同 國防部 邱國正 清晨 率領 梅家樹 國防部 副部長 柏鴻輝 國防部 副部長 徐衍 各聯參 單位 代表 陸海空軍 官校 國防大學 政治 作戰 學院 管理 學院 理工學院 國防 醫學院 陸軍 專科學校 空軍 航技 學院 中正 預校 軍事 校院 學生 代表 共同 參加 元旦 總統府 升旗典禮 實際行動 表達 國家 熱愛 國防部 表示 今年 國防部 示範 樂隊 三軍 儀隊 配合 大會 企畫 主軸 活力 台灣 世代 永續 從戎 回憶 進行曲 黃埔 軍魂 領航者 英勇 勳章 等首 曲目 搭配 儀隊 官兵 走位 變化 花式 操槍 展現 壯盛 軍容 象徵 國軍 民主 台灣 領航者 面對 困難 挑戰 勇往直前 政黨 票能 幹嘛 神秘 數字 席次 補助 還可 扣稅 大選 年輕人 手上 投票率 直接 差格 政見會 情勢 生變 最新 媒體 民調 一次 立委 抽籤 出爐 選區 名單 號次 一次 看影組 總統 選民 抱不平 幹嘛 趟渾水 國防部 元旦 升旗 英文 總統 英文 體驗 保證 操作 國造紅 火箭彈 陸軍 採購 五千 今年 趕工 生產 陸軍 採購 六十 射擊 模擬器 準備 中科院 中心 日前 展示 國造紅 火箭彈 模擬器 表示 小巧 單兵 肩射型 武器系統 具備 城鎮 作戰 便於 攜帶 優越性 有利於 單兵 中科院 六六 火箭彈 藍本 發紅 火箭彈 政府 國防 自主 象徵 性能 肯定 實需 這項 裝備 顯然 成為 宣傳 義務役 國防部 今天 表示 國軍 廉能 施政 已獲 國際 肯定 國軍 一貫 秉持 備戰 求戰 應戰 不避戰 態度 持恆 強化 各項 戰力 整建 戰備 整備 針對 國民黨 總統 候選人 趙少康 總統 候選人 辯論會 上稱 義務 軍人 義務 打仗 職業 軍人 為主賴 清德 因應 兵役 延長 一年 國防部 今天 表示 配合 全國 檢察長 座談 時機 檢察官 嚴肅 看待 暴行 抗命 聚眾 鬥毆 破壞 軍紀 案件  \n",
       "1                                                                                                                                                                                                    廠級 維修 能量 今年 第一季 驗證 台美還 對峙 談判 空軍 陸續 接裝架 戰機 國防部 軍備 表示 透過 談判 爭取 由漢翔 建立 廠級 維修中心 漢翔 公司 維修中心 預計 第一季 完成 驗證 支援 空軍 機隊 妥善 了解 我國 對美 採購 戰機 動用 工業 合作 點數 談判 直接 廠級 維修 漢翔 成立 維修中心 目前 取得 原廠 洛馬 數百項 維修 認證 目前 積極爭取 台產置 若干 系統 希望 納入 全球 供應鏈 針對 實施 廠級 維修 談判 進度 軍備 表示 台美 工業 合作 均依 軍種 建案 需求 執行 經濟部 協助 移轉 關鍵技術 擴大 國內 軍民 工廠 維修 能量 軍備 局續 軍種 建案 需求 持續 爭取 以維 裝備 戰力 維持 漢翔 公司 台美 工業 合作 均依 軍種 建案 需求 執行 經濟部 協助 移轉 關鍵技術 擴大 國內 軍民 工廠 維修 能量 漢翔 位於 中水 維修中心 年月日 成立 目前 已獲 原廠 授權 展開 維修 工作 各項 能量 逐步 建構 完善 預計 今年 第一季 完成 驗證 持續 結合 國內 廠商 支援 空軍 機隊 妥善 政黨 票能 幹嘛 神秘 數字 席次 補助 還可 扣稅 大選 年輕人 手上 投票率 直接 差格 政見會 情勢 生變 最新 媒體 民調 一次 立委 抽籤 出爐 選區 名單 號次 一次 看影組 總統 選民 抱不平 幹嘛 趟渾水 空軍 戰機 總統 英文 體驗 保證 操作 國造紅 火箭彈 陸軍 採購 五千 今年 趕工 生產 陸軍 採購 六十 射擊 模擬器 準備 中科院 中心 日前 展示 國造紅 火箭彈 模擬器 表示 小巧 單兵 肩射型 武器系統 具備 城鎮 作戰 便於 攜帶 優越性 有利於 單兵 中科院 六六 火箭彈 藍本 發紅 火箭彈 政府 國防 自主 象徵 性能 肯定 實需 這項 裝備 顯然 成為 宣傳 義務役 國防部 今天 表示 國軍 廉能 施政 已獲 國際 肯定 國軍 一貫 秉持 備戰 求戰 應戰 不避戰 態度 持恆 強化 各項 戰力 整建 戰備 整備 針對 國民黨 總統 候選人 趙少康 總統 候選人 辯論會 上稱 義務 軍人 義務 打仗 職業 軍人 為主賴 清德 因應 兵役 延長 一年 國防部 今天 表示 配合 全國 檢察長 座談 時機 檢察官 嚴肅 看待 暴行 抗命 聚眾 鬥毆 破壞 軍紀 案件  \n",
       "2  義務役 新兵 過來 入伍 結訓 震撼 教育 攻略 圖表 這裡 首波 徵召 入營 一年制 兵役 役男 役男 入伍 後將 接受 新兵訓練 震撼 教育 國防部 說明 震撼 教育 訓練場 設施 國軍 新兵訓練 震撼 教育 訓練 目的 完成 八周 入伍 訓練 新兵 期末 鑑測 結合 震撼 教育 驗測 新兵 戰鬥 技能 狀況 處置 同步 體驗 戰場 景況 營區 訓場 設計 公尺 公尺 基準 場內 設置 土堤 門窗 屋外 屋頂 鐵絲網 高絆網 障礙物 機槍 配置 兩挺 機槍 不間斷 射擊 空包彈 另以 炸藥 每波 實施 兩次 爆炸 模擬 戰場 景況 國防部 表示 震撼 教育 測驗 一個班 單位 由鑑 測官 發布 狀況 誘導 班長 帶領 新兵 實施 攻擊 綜合 教練 演練 重點 狀況 處置 戰傷 救護 全程 由安管 中心 編組 醫護 警戒 負責 各項 安全 管制 措施 以往 陸軍 受限於 場地 成功嶺 大專 寒暑 訓陸官 入伍 生團 陸戰隊 靶場 設有 震撼 教育 場及 課程 前年 國防部 通令 軍團 增設 場地 陸軍 軍團 官田 增設 一座 震撼 教育 場據 了解 義務役 役男 震撼 教育 場與 三軍 入伍 生團 場地 些許 差異 三軍 入伍 生團 通道 兩側 爆破 新訓 單側 爆破 三軍 入伍 生團 訓場 最後 一段 上坡 實施 衝鋒 陸軍官校 位於 步校 後山 震撼 教育 訓場 取自 本月 首波 徵召 入營 一年制 義務役 入伍 結訓 測將 接受 新兵訓練 震憾 教育 國防部 立法院 圖示 說明 震撼 教育 訓場 施與 關卡 周邊 震撼 器材 設置 方法 取自 立法院 公報 政黨 票能 幹嘛 神秘 數字 席次 補助 還可 扣稅 大選 年輕人 手上 投票率 直接 差格 政見會 情勢 生變 最新 媒體 民調 一次 立委 抽籤 出爐 選區 名單 號次 一次 看影組 總統 選民 抱不平 幹嘛 趟渾水 國防部 役男 陸軍 總統 英文 體驗 保證 操作 國造紅 火箭彈 陸軍 採購 五千 今年 趕工 生產 陸軍 採購 六十 射擊 模擬器 準備 中科院 中心 日前 展示 國造紅 火箭彈 模擬器 表示 小巧 單兵 肩射型 武器系統 具備 城鎮 作戰 便於 攜帶 優越性 有利於 單兵 中科院 六六 火箭彈 藍本 發紅 火箭彈 政府 國防 自主 象徵 性能 肯定 實需 這項 裝備 顯然 成為 宣傳 義務役 國防部 今天 表示 國軍 廉能 施政 已獲 國際 肯定 國軍 一貫 秉持 備戰 求戰 應戰 不避戰 態度 持恆 強化 各項 戰力 整建 戰備 整備 因應 兵役 延長 一年 國防部 今天 表示 配合 全國 檢察長 座談 時機 檢察官 嚴肅 看待 暴行 抗命 聚眾 鬥毆 破壞 軍紀 案件 首波 徵召 入營 一年制 兵役 役男 役男 入伍 後將 接受 新兵訓練 震撼 教育  \n",
       "3                                                                                                                                                                                                                                                            國防部 法界 嚴肅 看待 暴行 抗命 聚眾 鬥毆 軍紀 因應 兵役 延長 一年 國防部 今天 表示 配合 全國 檢察長 座談 時機 檢察官 嚴肅 看待 暴行 抗命 聚眾 鬥毆 破壞 軍紀 案件 國防部 指出 國軍 強化 軍法 教育 落實 組織 功能 精進 內部管理 輔導 役男 由民轉 嚴肅 部隊 紀律 領導 統御 檢察機關 保持 密切聯繫 定期 舉行 檢軍 會議 建立 溝通 平台 國防部 配合 座談 時機 檢察官 嚴肅 看待 暴行 抗命 聚眾 鬥毆 破壞 軍紀 案件 獲得 重視 針對 嚴重 影響 部隊 管理 領導 統御 訓練 執行 案件 速查 嚴辦 聲請 法院 量刑 司法機關 積極 協助 國軍 維護 紀律 工作 持續 強化 國防部 表示 承平 時期 是否 恢復 軍事 審判制度 目前 社會各界 存有 看法 國防部 兼顧 軍紀 維護 人權 保障 前提 持續 推動 陸海空軍 懲罰 軍人 權益 事件處理 立法 工作 外將廣 意見 研議 周延 建構 兼顧 人權 保障 軍隊 紀律 制度 政黨 票能 幹嘛 神秘 數字 席次 補助 還可 扣稅 大選 年輕人 手上 投票率 直接 差格 政見會 情勢 生變 最新 媒體 民調 一次 立委 抽籤 出爐 選區 名單 號次 一次 看影組 總統 選民 抱不平 幹嘛 趟渾水 國防部 人權 鬥毆 總統 英文 體驗 保證 操作 國造紅 火箭彈 陸軍 採購 五千 今年 趕工 生產 陸軍 採購 六十 射擊 模擬器 準備 中科院 中心 日前 展示 國造紅 火箭彈 模擬器 表示 小巧 單兵 肩射型 武器系統 具備 城鎮 作戰 便於 攜帶 優越性 有利於 單兵 中科院 六六 火箭彈 藍本 發紅 火箭彈 政府 國防 自主 象徵 性能 肯定 實需 這項 裝備 顯然 成為 宣傳 義務役 國防部 今天 表示 國軍 廉能 施政 已獲 國際 肯定 國軍 一貫 秉持 備戰 求戰 應戰 不避戰 態度 持恆 強化 各項 戰力 整建 戰備 整備 因應 兵役 延長 一年 國防部 今天 表示 配合 全國 檢察長 座談 時機 檢察官 嚴肅 看待 暴行 抗命 聚眾 鬥毆 破壞 軍紀 案件 首波 徵召 入營 一年制 兵役 役男 役男 入伍 後將 接受 新兵訓練 震撼 教育  \n",
       "4                                                                                                                                                                                                           暴行 抗命 軍紀 國防部 檢察官 速查 嚴辦 國軍 恢復 一年制 義務役 外界 關注 是否 恢復 軍事 審判制度 國防部 今天 表示 將在 兼顧 軍紀 維護 人權 保障 前提 持續 推動 陸海空軍 懲罰 軍人 權益 事件處理 立法 工作 並廣 意見 研議 國防部 下午 發布 新聞稿 表示 國軍 強化 軍法 教育 落實 組織 功能 精進 內部管理 輔導 役男 由民轉 嚴肅 部隊 紀律 領導 統御 檢察機關 保持 密切聯繫 定期 召開 檢軍 會議 建立 溝通 平台 國防部 說明 日前 配合 座談 時機 檢察官 嚴肅 看待 暴行 抗命 聚眾 鬥毆 破壞 軍紀 案件 獲得 重視 針對 嚴重 影響 部隊 管理 領導 統御 訓練 執行 案件 速查 嚴辦 聲請 法院 量刑 司法機關 積極 協助 國軍 維護 紀律 工作 持續 強化 承平 時期 是否 恢復 軍事 審判制度 國防部 回應 目前 社會各界 仍存 看法 國防部 兼顧 軍紀 維護 人權 保障 前提 持續 推動 陸海空軍 懲罰 軍人 權益 事件處理 立法 工作 外並 將廣 意見 研議 周延 建構 兼顧 人權 保障 軍隊 紀律 制度 政黨 票能 幹嘛 神秘 數字 席次 補助 還可 扣稅 大選 年輕人 手上 投票率 直接 差格 政見會 情勢 生變 最新 媒體 民調 一次 立委 抽籤 出爐 選區 名單 號次 一次 看影組 總統 選民 抱不平 幹嘛 趟渾水 國防部 人權 國軍 總統 英文 體驗 保證 操作 國造紅 火箭彈 陸軍 採購 五千 今年 趕工 生產 陸軍 採購 六十 射擊 模擬器 準備 中科院 中心 日前 展示 國造紅 火箭彈 模擬器 表示 小巧 單兵 肩射型 武器系統 具備 城鎮 作戰 便於 攜帶 優越性 有利於 單兵 中科院 六六 火箭彈 藍本 發紅 火箭彈 政府 國防 自主 象徵 性能 肯定 實需 這項 裝備 顯然 成為 宣傳 義務役 國防部 今天 表示 國軍 廉能 施政 已獲 國際 肯定 國軍 一貫 秉持 備戰 求戰 應戰 不避戰 態度 持恆 強化 各項 戰力 整建 戰備 整備 因應 兵役 延長 一年 國防部 今天 表示 配合 全國 檢察長 座談 時機 檢察官 嚴肅 看待 暴行 抗命 聚眾 鬥毆 破壞 軍紀 案件 首波 徵召 入營 一年制 兵役 役男 役男 入伍 後將 接受 新兵訓練 震撼 教育  "
      ],
      "text/html": [
       "<div>\n",
       "<style scoped>\n",
       "    .dataframe tbody tr th:only-of-type {\n",
       "        vertical-align: middle;\n",
       "    }\n",
       "\n",
       "    .dataframe tbody tr th {\n",
       "        vertical-align: top;\n",
       "    }\n",
       "\n",
       "    .dataframe thead th {\n",
       "        text-align: right;\n",
       "    }\n",
       "</style>\n",
       "<table border=\"1\" class=\"dataframe\">\n",
       "  <thead>\n",
       "    <tr style=\"text-align: right;\">\n",
       "      <th></th>\n",
       "      <th>content</th>\n",
       "      <th>artUrl</th>\n",
       "      <th>artCatagory</th>\n",
       "      <th>words</th>\n",
       "    </tr>\n",
       "  </thead>\n",
       "  <tbody>\n",
       "    <tr>\n",
       "      <th>0</th>\n",
       "      <td>蔡總統主持元旦升旗國防部長邱國正率將領參加國防部表示蔡英文總統上午主持中華民國年元旦總統府升旗典禮國防部長邱國正參謀總長梅家樹率將領與軍校學生代表出席以實際行動表達對國家熱愛蔡英文總統與賴清德副總統上午出席元旦升旗典禮首先接受國防部三軍儀隊大隊長致敬在歷屆十大傑出青年代表的領唱下與現場民眾齊唱國歌在國旗歌演奏聲中國旗緩緩升起國防部表示民國年元旦總統府升旗典禮以活力台灣世代永續為主題由蔡總統親自主持全場軍民在歷屆十大傑出青年代表領唱下齊唱國歌以實際行動表達對國家的熱愛與認同國防部說邱國正清晨率領梅家樹國防部副部長柏鴻輝國防部副部長徐衍璞與各聯參單位代表以及陸海空軍官校國防大學政治作戰學院管理學院理工學院國防醫學院陸軍專科學校空軍航技學院及中正預校等所軍事校院學生代表共同參加元旦總統府升旗典禮以實際行動表達對國家的熱愛國防部表示今年國防部示範樂隊及三軍儀隊配合大會企畫主軸活力台灣世代永續以從戎回憶進行曲黃埔軍魂領航者英勇勳章等首曲目搭配儀隊官兵走位變化及花式操槍展現壯盛軍容更象徵國軍是民主台灣的領航者面對困難與挑戰仍勇往直前政黨票能幹嘛神秘數字搶席次領補助還可扣稅大選結果繫在年輕人手上投票率直接差格政見會後情勢生變最新家媒體民調一次看立委抽籤結果出爐選區名單號次一次看影組拚總統選民抱不平幹嘛蹚這趟渾水國防部元旦升旗蔡英文總統蔡英文曾親自體驗掛保證很好操作的國造紅隼火箭彈陸軍採購五千枚今年趕工生產陸軍同時採購六十套射擊模擬器準備提中科院系製中心日前展示國造紅隼火箭彈模擬器表示這種小巧的單兵肩射型武器系統具備城鎮作戰便於攜帶的優越性有利於單兵各中科院以六六火箭彈為藍本研發紅隼火箭彈是蔡政府國防自主象徵之一性能受肯定但以實需而言這項裝備顯然成為宣傳義務役延國防部今天表示國軍廉能施政已獲國際肯定而國軍一貫秉持備戰不求戰應戰不避戰態度持恆強化各項戰力整建與戰備整備針對國民黨副總統候選人趙少康今於副總統候選人辯論會上稱你不能靠義務軍人靠義務去打仗當然是職業軍人為主賴清德競總因應兵役延長一年國防部今天表示已配合全國檢察長座談時機請檢察官嚴肅看待暴行抗命及聚眾鬥毆等破壞軍紀案件</td>\n",
       "      <td>https://udn.com/news/story/10930/7678307</td>\n",
       "      <td>要聞</td>\n",
       "      <td>總統 主持 元旦 升旗 國防部長 邱國 正率 將領 參加 國防部 表示 英文 總統 上午 主持 中華民國 元旦 總統府 升旗典禮 國防部長 邱國正 參謀總長 梅家 樹率 將領 軍校 學生 代表 出席 實際行動 表達 國家 熱愛 英文 總統 賴清德 總統 上午 出席 元旦 升旗典禮 接受 國防部 三軍 儀隊 大隊長 致敬 歷屆 十大 傑出青年 代表 領唱 現場 民眾 唱國歌 國旗歌 演奏 中國 緩緩 升起 國防部 表示 民國 元旦 總統府 升旗典禮 活力 台灣 世代 永續 主題 總統 主持 全場 軍民 歷屆 十大 傑出青年 代表 領唱 下齊 唱國歌 實際行動 表達 國家 熱愛 認同 國防部 邱國正 清晨 率領 梅家樹 國防部 副部長 柏鴻輝 國防部 副部長 徐衍 各聯參 單位 代表 陸海空軍 官校 國防大學 政治 作戰 學院 管理 學院 理工學院 國防 醫學院 陸軍 專科學校 空軍 航技 學院 中正 預校 軍事 校院 學生 代表 共同 參加 元旦 總統府 升旗典禮 實際行動 表達 國家 熱愛 國防部 表示 今年 國防部 示範 樂隊 三軍 儀隊 配合 大會 企畫 主軸 活力 台灣 世代 永續 從戎 回憶 進行曲 黃埔 軍魂 領航者 英勇 勳章 等首 曲目 搭配 儀隊 官兵 走位 變化 花式 操槍 展現 壯盛 軍容 象徵 國軍 民主 台灣 領航者 面對 困難 挑戰 勇往直前 政黨 票能 幹嘛 神秘 數字 席次 補助 還可 扣稅 大選 年輕人 手上 投票率 直接 差格 政見會 情勢 生變 最新 媒體 民調 一次 立委 抽籤 出爐 選區 名單 號次 一次 看影組 總統 選民 抱不平 幹嘛 趟渾水 國防部 元旦 升旗 英文 總統 英文 體驗 保證 操作 國造紅 火箭彈 陸軍 採購 五千 今年 趕工 生產 陸軍 採購 六十 射擊 模擬器 準備 中科院 中心 日前 展示 國造紅 火箭彈 模擬器 表示 小巧 單兵 肩射型 武器系統 具備 城鎮 作戰 便於 攜帶 優越性 有利於 單兵 中科院 六六 火箭彈 藍本 發紅 火箭彈 政府 國防 自主 象徵 性能 肯定 實需 這項 裝備 顯然 成為 宣傳 義務役 國防部 今天 表示 國軍 廉能 施政 已獲 國際 肯定 國軍 一貫 秉持 備戰 求戰 應戰 不避戰 態度 持恆 強化 各項 戰力 整建 戰備 整備 針對 國民黨 總統 候選人 趙少康 總統 候選人 辯論會 上稱 義務 軍人 義務 打仗 職業 軍人 為主賴 清德 因應 兵役 延長 一年 國防部 今天 表示 配合 全國 檢察長 座談 時機 檢察官 嚴肅 看待 暴行 抗命 聚眾 鬥毆 破壞 軍紀 案件</td>\n",
       "    </tr>\n",
       "    <tr>\n",
       "      <th>1</th>\n",
       "      <td>廠級維修能量今年第一季驗證台美還在對峙談判中空軍年開始陸續接裝架戰機國防部軍備局表示正透過談判爭取由漢翔建立廠級維修中心漢翔公司說維修中心預計年第一季完成驗證支援空軍機隊妥善據了解我國對美採購架戰機將動用工業合作點數與美談判在台直接廠級維修漢翔成立的維修中心目前已取得原廠洛馬數百項維修認證目前積極爭取在台產置若干系統件希望納入美全球供應鏈針對架在台實施廠級維修案的談判進度軍備局表示台美工業合作均依軍種建案需求執行由經濟部協助移轉關鍵技術擴大國內軍民工廠維修能量軍備局續依各軍種建案需求持續爭取以維裝備戰力維持漢翔公司說台美工業合作均依軍種建案需求執行由經濟部協助移轉關鍵技術擴大國內軍民工廠維修能量漢翔位於台中水湳的維修中心年月日成立目前已獲原廠授權展開維修工作各項能量正逐步建構完善預計今年第一季完成驗證持續結合國內廠商支援空軍機隊妥善政黨票能幹嘛神秘數字搶席次領補助還可扣稅大選結果繫在年輕人手上投票率直接差格政見會後情勢生變最新家媒體民調一次看立委抽籤結果出爐選區名單號次一次看影組拚總統選民抱不平幹嘛蹚這趟渾水空軍戰機總統蔡英文曾親自體驗掛保證很好操作的國造紅隼火箭彈陸軍採購五千枚今年趕工生產陸軍同時採購六十套射擊模擬器準備提中科院系製中心日前展示國造紅隼火箭彈模擬器表示這種小巧的單兵肩射型武器系統具備城鎮作戰便於攜帶的優越性有利於單兵各中科院以六六火箭彈為藍本研發紅隼火箭彈是蔡政府國防自主象徵之一性能受肯定但以實需而言這項裝備顯然成為宣傳義務役延國防部今天表示國軍廉能施政已獲國際肯定而國軍一貫秉持備戰不求戰應戰不避戰態度持恆強化各項戰力整建與戰備整備針對國民黨副總統候選人趙少康今於副總統候選人辯論會上稱你不能靠義務軍人靠義務去打仗當然是職業軍人為主賴清德競總因應兵役延長一年國防部今天表示已配合全國檢察長座談時機請檢察官嚴肅看待暴行抗命及聚眾鬥毆等破壞軍紀案件</td>\n",
       "      <td>https://udn.com/news/story/10930/7678314</td>\n",
       "      <td>要聞</td>\n",
       "      <td>廠級 維修 能量 今年 第一季 驗證 台美還 對峙 談判 空軍 陸續 接裝架 戰機 國防部 軍備 表示 透過 談判 爭取 由漢翔 建立 廠級 維修中心 漢翔 公司 維修中心 預計 第一季 完成 驗證 支援 空軍 機隊 妥善 了解 我國 對美 採購 戰機 動用 工業 合作 點數 談判 直接 廠級 維修 漢翔 成立 維修中心 目前 取得 原廠 洛馬 數百項 維修 認證 目前 積極爭取 台產置 若干 系統 希望 納入 全球 供應鏈 針對 實施 廠級 維修 談判 進度 軍備 表示 台美 工業 合作 均依 軍種 建案 需求 執行 經濟部 協助 移轉 關鍵技術 擴大 國內 軍民 工廠 維修 能量 軍備 局續 軍種 建案 需求 持續 爭取 以維 裝備 戰力 維持 漢翔 公司 台美 工業 合作 均依 軍種 建案 需求 執行 經濟部 協助 移轉 關鍵技術 擴大 國內 軍民 工廠 維修 能量 漢翔 位於 中水 維修中心 年月日 成立 目前 已獲 原廠 授權 展開 維修 工作 各項 能量 逐步 建構 完善 預計 今年 第一季 完成 驗證 持續 結合 國內 廠商 支援 空軍 機隊 妥善 政黨 票能 幹嘛 神秘 數字 席次 補助 還可 扣稅 大選 年輕人 手上 投票率 直接 差格 政見會 情勢 生變 最新 媒體 民調 一次 立委 抽籤 出爐 選區 名單 號次 一次 看影組 總統 選民 抱不平 幹嘛 趟渾水 空軍 戰機 總統 英文 體驗 保證 操作 國造紅 火箭彈 陸軍 採購 五千 今年 趕工 生產 陸軍 採購 六十 射擊 模擬器 準備 中科院 中心 日前 展示 國造紅 火箭彈 模擬器 表示 小巧 單兵 肩射型 武器系統 具備 城鎮 作戰 便於 攜帶 優越性 有利於 單兵 中科院 六六 火箭彈 藍本 發紅 火箭彈 政府 國防 自主 象徵 性能 肯定 實需 這項 裝備 顯然 成為 宣傳 義務役 國防部 今天 表示 國軍 廉能 施政 已獲 國際 肯定 國軍 一貫 秉持 備戰 求戰 應戰 不避戰 態度 持恆 強化 各項 戰力 整建 戰備 整備 針對 國民黨 總統 候選人 趙少康 總統 候選人 辯論會 上稱 義務 軍人 義務 打仗 職業 軍人 為主賴 清德 因應 兵役 延長 一年 國防部 今天 表示 配合 全國 檢察長 座談 時機 檢察官 嚴肅 看待 暴行 抗命 聚眾 鬥毆 破壞 軍紀 案件</td>\n",
       "    </tr>\n",
       "    <tr>\n",
       "      <th>2</th>\n",
       "      <td>義務役新兵看過來入伍結訓震撼教育攻略圖表在這裡年月首波徵召入營名一年制兵役役男這些役男入伍後將接受新兵訓練震撼教育國防部說明震撼教育訓練場設施國軍新兵訓練震撼教育訓練目的是讓完成八周入伍訓練的新兵由期末鑑測結合震撼教育驗測新兵戰鬥技能及狀況處置同步體驗戰場景況營區訓場設計以公尺至公尺為基準場內設置土堤門窗家屋外壕屋頂型鐵絲網及高絆網等處障礙物機槍堡配置兩挺機槍不間斷射擊空包彈另以炸藥每波實施兩次爆炸模擬戰場景況國防部表示震撼教育測驗以一個班為單位由鑑測官發布狀況誘導班長帶領新兵實施班攻擊綜合教練演練置重點於狀況處置及戰傷救護全程由安管中心編組醫護及警戒組負責各項安全管制措施以往陸軍受限於場地只有成功嶺大專寒暑訓陸官入伍生團陸戰隊隘寮靶場設有震撼教育場及課程前年起國防部通令各軍團增設場地陸軍八軍團在官田增設一座震撼教育場據了解義務役役男的震撼教育場與三軍入伍生團場地有些許差異三軍入伍生團的會在通道兩側同時爆破新訓為單側爆破三軍入伍生團訓場最後一段是上坡實施衝鋒陸軍官校位於步校後山的震撼教育訓場圖取自本月首波徵召入營的名一年制義務役男入伍結訓測將接受新兵訓練震憾教育國防部向立法院以圖示說明震撼教育訓場設施與個關卡與周邊震撼器材的設置方法圖取自立法院公報政黨票能幹嘛神秘數字搶席次領補助還可扣稅大選結果繫在年輕人手上投票率直接差格政見會後情勢生變最新家媒體民調一次看立委抽籤結果出爐選區名單號次一次看影組拚總統選民抱不平幹嘛蹚這趟渾水國防部役男陸軍總統蔡英文曾親自體驗掛保證很好操作的國造紅隼火箭彈陸軍採購五千枚今年趕工生產陸軍同時採購六十套射擊模擬器準備提中科院系製中心日前展示國造紅隼火箭彈模擬器表示這種小巧的單兵肩射型武器系統具備城鎮作戰便於攜帶的優越性有利於單兵各中科院以六六火箭彈為藍本研發紅隼火箭彈是蔡政府國防自主象徵之一性能受肯定但以實需而言這項裝備顯然成為宣傳義務役延國防部今天表示國軍廉能施政已獲國際肯定而國軍一貫秉持備戰不求戰應戰不避戰態度持恆強化各項戰力整建與戰備整備因應兵役延長一年國防部今天表示已配合全國檢察長座談時機請檢察官嚴肅看待暴行抗命及聚眾鬥毆等破壞軍紀案件年月首波徵召入營名一年制兵役役男這些役男入伍後將接受新兵訓練震撼教育</td>\n",
       "      <td>https://udn.com/news/story/10930/7678409</td>\n",
       "      <td>要聞</td>\n",
       "      <td>義務役 新兵 過來 入伍 結訓 震撼 教育 攻略 圖表 這裡 首波 徵召 入營 一年制 兵役 役男 役男 入伍 後將 接受 新兵訓練 震撼 教育 國防部 說明 震撼 教育 訓練場 設施 國軍 新兵訓練 震撼 教育 訓練 目的 完成 八周 入伍 訓練 新兵 期末 鑑測 結合 震撼 教育 驗測 新兵 戰鬥 技能 狀況 處置 同步 體驗 戰場 景況 營區 訓場 設計 公尺 公尺 基準 場內 設置 土堤 門窗 屋外 屋頂 鐵絲網 高絆網 障礙物 機槍 配置 兩挺 機槍 不間斷 射擊 空包彈 另以 炸藥 每波 實施 兩次 爆炸 模擬 戰場 景況 國防部 表示 震撼 教育 測驗 一個班 單位 由鑑 測官 發布 狀況 誘導 班長 帶領 新兵 實施 攻擊 綜合 教練 演練 重點 狀況 處置 戰傷 救護 全程 由安管 中心 編組 醫護 警戒 負責 各項 安全 管制 措施 以往 陸軍 受限於 場地 成功嶺 大專 寒暑 訓陸官 入伍 生團 陸戰隊 靶場 設有 震撼 教育 場及 課程 前年 國防部 通令 軍團 增設 場地 陸軍 軍團 官田 增設 一座 震撼 教育 場據 了解 義務役 役男 震撼 教育 場與 三軍 入伍 生團 場地 些許 差異 三軍 入伍 生團 通道 兩側 爆破 新訓 單側 爆破 三軍 入伍 生團 訓場 最後 一段 上坡 實施 衝鋒 陸軍官校 位於 步校 後山 震撼 教育 訓場 取自 本月 首波 徵召 入營 一年制 義務役 入伍 結訓 測將 接受 新兵訓練 震憾 教育 國防部 立法院 圖示 說明 震撼 教育 訓場 施與 關卡 周邊 震撼 器材 設置 方法 取自 立法院 公報 政黨 票能 幹嘛 神秘 數字 席次 補助 還可 扣稅 大選 年輕人 手上 投票率 直接 差格 政見會 情勢 生變 最新 媒體 民調 一次 立委 抽籤 出爐 選區 名單 號次 一次 看影組 總統 選民 抱不平 幹嘛 趟渾水 國防部 役男 陸軍 總統 英文 體驗 保證 操作 國造紅 火箭彈 陸軍 採購 五千 今年 趕工 生產 陸軍 採購 六十 射擊 模擬器 準備 中科院 中心 日前 展示 國造紅 火箭彈 模擬器 表示 小巧 單兵 肩射型 武器系統 具備 城鎮 作戰 便於 攜帶 優越性 有利於 單兵 中科院 六六 火箭彈 藍本 發紅 火箭彈 政府 國防 自主 象徵 性能 肯定 實需 這項 裝備 顯然 成為 宣傳 義務役 國防部 今天 表示 國軍 廉能 施政 已獲 國際 肯定 國軍 一貫 秉持 備戰 求戰 應戰 不避戰 態度 持恆 強化 各項 戰力 整建 戰備 整備 因應 兵役 延長 一年 國防部 今天 表示 配合 全國 檢察長 座談 時機 檢察官 嚴肅 看待 暴行 抗命 聚眾 鬥毆 破壞 軍紀 案件 首波 徵召 入營 一年制 兵役 役男 役男 入伍 後將 接受 新兵訓練 震撼 教育</td>\n",
       "    </tr>\n",
       "    <tr>\n",
       "      <th>3</th>\n",
       "      <td>國防部籲法界嚴肅看待暴行抗命及聚眾鬥毆軍紀案因應兵役延長一年國防部今天表示已配合全國檢察長座談時機請檢察官嚴肅看待暴行抗命及聚眾鬥毆等破壞軍紀案件國防部指出國軍除強化軍法紀教育落實組織功能精進內部管理輔導役男由民轉軍嚴肅部隊紀律與領導統御同時與檢察機關保持密切聯繫定期舉行檢軍會議建立溝通平台國防部說已配合座談時機請檢察官嚴肅看待暴行抗命及聚眾鬥毆等破壞軍紀案件獲得重視針對嚴重影響部隊管理領導統御及訓練執行的案件將速查嚴辦聲請法院從重量刑在司法機關積極協助下國軍維護紀律工作持續強化國防部表示有關承平時期是否恢復軍事審判制度因目前社會各界存有不同看法國防部在兼顧軍紀維護與人權保障前提下持續推動陸海空軍懲罰法與軍人權益事件處理法的立法工作外將廣蒐意見充分研議以周延建構兼顧人權保障與軍隊紀律的制度政黨票能幹嘛神秘數字搶席次領補助還可扣稅大選結果繫在年輕人手上投票率直接差格政見會後情勢生變最新家媒體民調一次看立委抽籤結果出爐選區名單號次一次看影組拚總統選民抱不平幹嘛蹚這趟渾水國防部人權鬥毆總統蔡英文曾親自體驗掛保證很好操作的國造紅隼火箭彈陸軍採購五千枚今年趕工生產陸軍同時採購六十套射擊模擬器準備提中科院系製中心日前展示國造紅隼火箭彈模擬器表示這種小巧的單兵肩射型武器系統具備城鎮作戰便於攜帶的優越性有利於單兵各中科院以六六火箭彈為藍本研發紅隼火箭彈是蔡政府國防自主象徵之一性能受肯定但以實需而言這項裝備顯然成為宣傳義務役延國防部今天表示國軍廉能施政已獲國際肯定而國軍一貫秉持備戰不求戰應戰不避戰態度持恆強化各項戰力整建與戰備整備因應兵役延長一年國防部今天表示已配合全國檢察長座談時機請檢察官嚴肅看待暴行抗命及聚眾鬥毆等破壞軍紀案件年月首波徵召入營名一年制兵役役男這些役男入伍後將接受新兵訓練震撼教育</td>\n",
       "      <td>https://udn.com/news/story/10930/7678652</td>\n",
       "      <td>要聞</td>\n",
       "      <td>國防部 法界 嚴肅 看待 暴行 抗命 聚眾 鬥毆 軍紀 因應 兵役 延長 一年 國防部 今天 表示 配合 全國 檢察長 座談 時機 檢察官 嚴肅 看待 暴行 抗命 聚眾 鬥毆 破壞 軍紀 案件 國防部 指出 國軍 強化 軍法 教育 落實 組織 功能 精進 內部管理 輔導 役男 由民轉 嚴肅 部隊 紀律 領導 統御 檢察機關 保持 密切聯繫 定期 舉行 檢軍 會議 建立 溝通 平台 國防部 配合 座談 時機 檢察官 嚴肅 看待 暴行 抗命 聚眾 鬥毆 破壞 軍紀 案件 獲得 重視 針對 嚴重 影響 部隊 管理 領導 統御 訓練 執行 案件 速查 嚴辦 聲請 法院 量刑 司法機關 積極 協助 國軍 維護 紀律 工作 持續 強化 國防部 表示 承平 時期 是否 恢復 軍事 審判制度 目前 社會各界 存有 看法 國防部 兼顧 軍紀 維護 人權 保障 前提 持續 推動 陸海空軍 懲罰 軍人 權益 事件處理 立法 工作 外將廣 意見 研議 周延 建構 兼顧 人權 保障 軍隊 紀律 制度 政黨 票能 幹嘛 神秘 數字 席次 補助 還可 扣稅 大選 年輕人 手上 投票率 直接 差格 政見會 情勢 生變 最新 媒體 民調 一次 立委 抽籤 出爐 選區 名單 號次 一次 看影組 總統 選民 抱不平 幹嘛 趟渾水 國防部 人權 鬥毆 總統 英文 體驗 保證 操作 國造紅 火箭彈 陸軍 採購 五千 今年 趕工 生產 陸軍 採購 六十 射擊 模擬器 準備 中科院 中心 日前 展示 國造紅 火箭彈 模擬器 表示 小巧 單兵 肩射型 武器系統 具備 城鎮 作戰 便於 攜帶 優越性 有利於 單兵 中科院 六六 火箭彈 藍本 發紅 火箭彈 政府 國防 自主 象徵 性能 肯定 實需 這項 裝備 顯然 成為 宣傳 義務役 國防部 今天 表示 國軍 廉能 施政 已獲 國際 肯定 國軍 一貫 秉持 備戰 求戰 應戰 不避戰 態度 持恆 強化 各項 戰力 整建 戰備 整備 因應 兵役 延長 一年 國防部 今天 表示 配合 全國 檢察長 座談 時機 檢察官 嚴肅 看待 暴行 抗命 聚眾 鬥毆 破壞 軍紀 案件 首波 徵召 入營 一年制 兵役 役男 役男 入伍 後將 接受 新兵訓練 震撼 教育</td>\n",
       "    </tr>\n",
       "    <tr>\n",
       "      <th>4</th>\n",
       "      <td>暴行抗命等軍紀案國防部檢察官允速查嚴辦國軍已恢復一年制義務役外界關注是否恢復軍事審判制度國防部今天表示將在兼顧軍紀維護與人權保障前提下持續推動陸海空軍懲罰法與軍人權益事件處理法立法工作並廣蒐意見充分研議國防部下午發布新聞稿表示國軍除強化軍法紀教育並落實組織功能精進內部管理輔導役男由民轉軍嚴肅部隊紀律與領導統御同時與檢察機關保持密切聯繫定期召開檢軍會議建立溝通平台國防部說明日前已配合座談時機籲檢察官嚴肅看待暴行抗命及聚眾鬥毆等破壞軍紀案件並獲得重視針對嚴重影響部隊管理領導統御及訓練執行的案件將速查嚴辦聲請法院從重量刑在司法機關積極協助下國軍維護紀律工作將持續強化有關承平時期是否恢復軍事審判制度國防部回應目前因社會各界仍存不同看法國防部在兼顧軍紀維護與人權保障前提下除了持續推動陸海空軍懲罰法與軍人權益事件處理法的立法工作外並將廣蒐意見充分研議以周延建構兼顧人權保障與軍隊紀律的制度政黨票能幹嘛神秘數字搶席次領補助還可扣稅大選結果繫在年輕人手上投票率直接差格政見會後情勢生變最新家媒體民調一次看立委抽籤結果出爐選區名單號次一次看影組拚總統選民抱不平幹嘛蹚這趟渾水國防部人權國軍總統蔡英文曾親自體驗掛保證很好操作的國造紅隼火箭彈陸軍採購五千枚今年趕工生產陸軍同時採購六十套射擊模擬器準備提中科院系製中心日前展示國造紅隼火箭彈模擬器表示這種小巧的單兵肩射型武器系統具備城鎮作戰便於攜帶的優越性有利於單兵各中科院以六六火箭彈為藍本研發紅隼火箭彈是蔡政府國防自主象徵之一性能受肯定但以實需而言這項裝備顯然成為宣傳義務役延國防部今天表示國軍廉能施政已獲國際肯定而國軍一貫秉持備戰不求戰應戰不避戰態度持恆強化各項戰力整建與戰備整備因應兵役延長一年國防部今天表示已配合全國檢察長座談時機請檢察官嚴肅看待暴行抗命及聚眾鬥毆等破壞軍紀案件年月首波徵召入營名一年制兵役役男這些役男入伍後將接受新兵訓練震撼教育</td>\n",
       "      <td>https://udn.com/news/story/10930/7679055</td>\n",
       "      <td>要聞</td>\n",
       "      <td>暴行 抗命 軍紀 國防部 檢察官 速查 嚴辦 國軍 恢復 一年制 義務役 外界 關注 是否 恢復 軍事 審判制度 國防部 今天 表示 將在 兼顧 軍紀 維護 人權 保障 前提 持續 推動 陸海空軍 懲罰 軍人 權益 事件處理 立法 工作 並廣 意見 研議 國防部 下午 發布 新聞稿 表示 國軍 強化 軍法 教育 落實 組織 功能 精進 內部管理 輔導 役男 由民轉 嚴肅 部隊 紀律 領導 統御 檢察機關 保持 密切聯繫 定期 召開 檢軍 會議 建立 溝通 平台 國防部 說明 日前 配合 座談 時機 檢察官 嚴肅 看待 暴行 抗命 聚眾 鬥毆 破壞 軍紀 案件 獲得 重視 針對 嚴重 影響 部隊 管理 領導 統御 訓練 執行 案件 速查 嚴辦 聲請 法院 量刑 司法機關 積極 協助 國軍 維護 紀律 工作 持續 強化 承平 時期 是否 恢復 軍事 審判制度 國防部 回應 目前 社會各界 仍存 看法 國防部 兼顧 軍紀 維護 人權 保障 前提 持續 推動 陸海空軍 懲罰 軍人 權益 事件處理 立法 工作 外並 將廣 意見 研議 周延 建構 兼顧 人權 保障 軍隊 紀律 制度 政黨 票能 幹嘛 神秘 數字 席次 補助 還可 扣稅 大選 年輕人 手上 投票率 直接 差格 政見會 情勢 生變 最新 媒體 民調 一次 立委 抽籤 出爐 選區 名單 號次 一次 看影組 總統 選民 抱不平 幹嘛 趟渾水 國防部 人權 國軍 總統 英文 體驗 保證 操作 國造紅 火箭彈 陸軍 採購 五千 今年 趕工 生產 陸軍 採購 六十 射擊 模擬器 準備 中科院 中心 日前 展示 國造紅 火箭彈 模擬器 表示 小巧 單兵 肩射型 武器系統 具備 城鎮 作戰 便於 攜帶 優越性 有利於 單兵 中科院 六六 火箭彈 藍本 發紅 火箭彈 政府 國防 自主 象徵 性能 肯定 實需 這項 裝備 顯然 成為 宣傳 義務役 國防部 今天 表示 國軍 廉能 施政 已獲 國際 肯定 國軍 一貫 秉持 備戰 求戰 應戰 不避戰 態度 持恆 強化 各項 戰力 整建 戰備 整備 因應 兵役 延長 一年 國防部 今天 表示 配合 全國 檢察長 座談 時機 檢察官 嚴肅 看待 暴行 抗命 聚眾 鬥毆 破壞 軍紀 案件 首波 徵召 入營 一年制 兵役 役男 役男 入伍 後將 接受 新兵訓練 震撼 教育</td>\n",
       "    </tr>\n",
       "  </tbody>\n",
       "</table>\n",
       "</div>"
      ]
     },
     "execution_count": 119,
     "metadata": {},
     "output_type": "execute_result"
    }
   ],
   "execution_count": 119
  },
  {
   "attachments": {},
   "cell_type": "markdown",
   "metadata": {},
   "source": "### 2.3 資料集基本檢視 "
  },
  {
   "cell_type": "markdown",
   "metadata": {},
   "source": [
    "檢視資料內容"
   ]
  },
  {
   "cell_type": "code",
   "metadata": {
    "ExecuteTime": {
     "end_time": "2024-04-08T02:53:06.161765Z",
     "start_time": "2024-04-08T02:53:06.154724Z"
    }
   },
   "source": [
    "print(f\"total posts: {len(udn['artUrl'].unique())}\")\n",
    "print(f\"category: \\n{udn['artCatagory'].value_counts()}\")"
   ],
   "outputs": [
    {
     "name": "stdout",
     "output_type": "stream",
     "text": [
      "total posts: 9479\n",
      "category: \n",
      "artCatagory\n",
      "要聞    3550\n",
      "財經    3038\n",
      "全球    1795\n",
      "社會    1096\n",
      "Name: count, dtype: int64\n"
     ]
    }
   ],
   "execution_count": 120
  },
  {
   "attachments": {},
   "cell_type": "markdown",
   "metadata": {},
   "source": [
    "## 3. 分類模型的訓練流程\n",
    "### 3.1 根據7:3的比例切分資料集\n",
    "利用 sklearn 中的 train_test_split 函數將 `raw_data` 隨機切成 7:3，設置 random_state 讓每次切分的結果一致。`y_train`和`y_test`分別為訓練資料和測試資料的預測目標。 "
   ]
  },
  {
   "cell_type": "code",
   "metadata": {
    "ExecuteTime": {
     "end_time": "2024-04-08T02:53:07.632863Z",
     "start_time": "2024-04-08T02:53:07.622635Z"
    }
   },
   "source": [
    "data = udn\n",
    "X = data[\"words\"]\n",
    "y = data[\"artCatagory\"]\n",
    "\n",
    "# 把整個資料集七三切\n",
    "X_train, X_test, y_train, y_test = train_test_split(\n",
    "    X, y, test_size=0.3, random_state=777\n",
    ")\n",
    "\n",
    "print(X_train.head())\n",
    "print(y_train.head())"
   ],
   "outputs": [
    {
     "name": "stdout",
     "output_type": "stream",
     "text": [
      "4592                                                                                                                                                                                                                                                                                                                                                                                                                                                                                                                                                                                                                                                                                                                                                                                                                                                                              機構 全球 半導體 產能 增長 首破 每月 萬片 大關 集微網 消息 發佈 世界 晶圓廠 預測 報告 報告 顯示 全球 半導體 每月 晶圓 產能 增長 萬片 預計 年將 增長 首次 突破 每月 萬片 大關 當量 計算 機構 認為 增長 將由 前沿 邏輯 代工 包括 生成式 人工智慧 高性能 計算 在內 應用 產能 增長 晶片 終端 需求 復甦 推動 報告 全球 半導體 行業 計劃 運營 晶圓廠 包括 項目 項目 晶圓 尺寸 不等 英寸 英寸 中國 大陸 引領 半導體 行業 擴張 機構 統計 中國 大陸 半導體 廠商 產能 同比 增長 達到 每月 片晶 預計 中國 大陸 晶片 製造商 將在 運營 項目 產能 同比增加 達到 每月 片晶 圓台灣 仍將 半導體 產能 第二 地區 產能 增長 每月 片晶 圓年 增長 每月 片晶 圓該 地區 年將 設家 晶圓廠 韓國 晶片 產能 排名 第三 每月 片晶 圓年將 增長 每月 片晶 日本 產能 預計 達到 萬片 美洲 達到 萬片 歐洲 中東地區 萬片 東南亞 達到 萬片 產品 領域 存儲 晶片 領域 產能 擴張 放緩 每月 產能 增加 達到 每月 片晶 圓年將 增加 達到 每月 萬片 裝機容量 預計 年將 持平 每月 片晶 圓年將 增長 達到 每月 片晶 分立元件 模擬 晶片 領域 車輛 電氣化 產能 擴張 關鍵 因素 分立元件 晶片 產能 預計 增長 達到 每月 片晶 圓年將 繼續 增長 達到 每月 萬片 模擬 晶片 產能 預計 增長 萬片 年將 增長 達到 萬片\n",
      "7535                                                                                                                                                                                                                                                                                                                                                                                                                                                                                                                                                                                                                                                                                                                                                                                                                                                                                                                                                                                                                                                            聯於 全球 首款 奈米 控制 最高 傳輸速度 每秒 控制 廠群 聯在 美西 時間 舉行 大展 宣布 推出 全球 首款 採用 奈米 製程 消費型 控制 目前 最高 傳輸速度 每秒 未來 有望 達到 每秒 群聯 總經理 中迅 表示 全球 首款 搭載 奈米 控制 晶片 目前 世代 效能 達到 最高 容量 達到 未來 等待 新世 代發 布後的 極速 更將 提升 推升 效能 全新 境界 一年一度 全球 最大 消費性 電子展 美西 時間 正式 揭幕 展覽 主題 包羅萬象 包含 近期 熱門 人工智慧 車用 智慧 系統 數位 健康 電競 娛樂 教育 科技 引領 未來 科技 發展趨勢 主要 展覽 預計 全球 前大 企業 超過 國家 相關 廠商 都將 共襄盛舉 新聞 追蹤 科技 玩家 好文 漏接 衝了 台灣 寶可夢 中心 入店 規則 出爐 幾天 能免 排隊 直接 進限免 貼圖 款來 這款 淚眼汪汪 攻擊 二手 蘋果 注意 達人 曝點 檢查 項目 避免 遊戲 特賣 最低 運動 折扣 曝光 友誼 破壞 遊戲 特價 黃牛 絕版 西瓜 停售 復活 日本 限定 購買 地點 開賣 規則 公開\n",
      "4833                                                                                                                                                                                                                                                                                                                                                                                 彭博 評選 應該 關注 企業 台灣 一家 上榜 彭博 資訊 發布 應該 關注 全球 企業 包括 母公司 字母 中國 大陸 比亞迪 禮來 藥廠 媒體 巨擘 聯發 科技 唯一 上榜 台灣 企業 彭博 資訊 分析師 團隊 金融 食品業 追蹤 企業 觀點 聚焦 清單 選出 家值 關注 公司 考量 重點 包含 看法 與眾 出現 改變 領導階層 資產 出售 併購 規劃 推出 產品 服務 這份 清單 排名 英文名稱 字母 順序排列 科技 類別 中有 兩家 半導體 業者 上榜 一為 半導體 製造商 聯發科 一為 日本 半導體 製造商 聯發科 部分 彭博 分析師 指出 智慧 手機 需求 成長 手機 家庭 裝置 人工智慧 應用 崛起 意味著 這家 亞洲 最大 晶圓廠 晶片 製造商 獲利 將有 龐大 驚喜 潛力 彭博 分析師 預期 聯發科 天璣 處理器 將在 高階 智慧 手機 市場 高通 對手 產品 搶得市 聯發科 臉書 母公司 輝達 合作 釋出 另類 擴增 實境 個人電腦 汽車 市場 機會 彭博 分析師 認為 晶片 製造 工具 受惠 擴大 採用 提振 效應 今年 營收 成長率 有望 突破 高魚 市場 共識 中間 科技 值得 關注 企業 包括 資訊科技 服務業 埃森哲 軟體 類別 思愛普 彭博 分析師 列舉 今年 值得 關注 企業 彭博 行業 研究 分類 消費 必需品 產業 金融業 最多 各有 七家 消費 必需品 產業 包括 電商 業者 亞馬遜 服飾 業者 安踏 體育 加拿大 汽車 業者 奧斯頓 比亞迪 英國 建商 建商 博弈 業者 銀河 娛樂 集團 金融業 銀行 類別 包含 巴克萊銀行 控股 中國工商銀行 美國 沙烏地阿 拉伯 銀行 另有 法國 保險業 安盛 荷蘭 支付 處理 業者 通訊業 六家 公司 榜上有名 包括 網路 類別 電訊 類別 英國 電信 媒體 娛樂 類別 迪士尼 媒體 類別 網路 類別 集團 工業 類別 包括 國防 業者 卡車 業者 營建 業者 廢棄物 管理 業者 鐵路 業者 聯合 太平洋 原料 產業 包括 礦商嘉能 帕拉 白金 化學 業者 沙烏地 基礎 工業 公司 建材業 西卡 醫療保健 產業 包括 生技 業者 百濟 神州 製藥業 禮來 諾和諾德 醫療 裝置 業者 波士頓 科技 公司 能源業 包含 液化 天然氣 業者 尼爾 整合性 石油 公司 埃克森 美孚 太陽能 業者 天然氣 配銷 商新奧 能源 消費 必需品 產業 三家 公司 包括 飲料 業者 亞吉 歐與 照護 業者 雅詩蘭黛 不動產業 兩家 業者 分別 物業管理 業者 生活 開發商 新鴻基 彭博 資訊 發布 應該 關注 全球 企業 聯發 科技 唯一 上榜 台灣 企業 圖聯 發科 提供\n",
      "3259                                                                                                                                                                                                                                                                                                                                                                                                                                                                                                                                                                                                                                                                                                                                                                                                                                                                                                                                                                                                                                                                                                                                                                                                                                                                                                                            國民黨 點名 戰犯 這是 合作 態度 總統 選舉 出爐 民進黨 總統 候選人 賴清德 當選 國民黨 競選 發言人 凌濤 點名 柯文哲 競選 總幹事 戰犯 罪魁禍首 受訪 表示 凌濤 發言 背後 代表 國民黨 主席 朱立倫 新北 市長 侯友宜 以後 國會 還要 合作 點名 戰犯 表示 政黨 合作 聯合政府 結盟 盟友 敵人 以後 立法院 合作 態度 藍白合 會破局 國民黨 應該 清楚 尤其 放任 發言人 發言 背後 代表 朱立倫 侯友宜 以後 國會 還要 合作\n",
      "1143    新泰 合法 房屋 自救 抗爭 市府 傲慢 得獎 國民黨 總統 候選人 侯友宜 先前 新北市 仔圳 重劃 沒人 抗爭 引發 當地 居民 新莊 泰山 合法 房屋 自救 成員 今天 前往 立法院 抗議 民進黨 立法院 黨團 書記長 洪申翰 表示 侯友宜 只顧 土地 利益 不顧 市民 居住 正義 不配 擔任 中華民國 總統 民進黨 立法院 黨團 上午 舉行 仔圳 居民 人侯友 面對 記者會 接受 新莊 泰山 合法 房屋 自救 情書 洪申翰 表示 仔圳市 重劃 案子 權責 新北 市政府 手上 侯友宜 本該 照顧 當地 居民 沒想到 卻是 選擇 長期 欺壓 洪申翰 指出 侯友宜 家族 成立 又昱 公司 買地 獵地 公司 專挑 行政 權限 新北市 未來 利用 行政 權限 提高 土地 容積率 侯友宜 打著 警察 市長 面貌 背地裡 事情 洪申翰 批評 侯友宜 先前 總統 候選人 電視辯論 大喇喇地 仔圳 人來 抗議 這句 真正 激怒 當地 居民 新北 市政府 強拆 房屋 侯友宜 方式 選擇 視而不見 根本 當作 對待 新莊 泰山 合法 房屋 自救 會長 張文娟 表示 已經 投身 抗爭 多年 變成 廁所 道路 切成 多塊 賣給 財團 現在 走上 街頭 塔綠斑 現在 十分 痛心 台北 縣長 蘇貞昌 現場 看過 居民 唯獨 侯友宜 表現 真的 太差 離譜 張文娟 批評 侯友宜 仔圳 抗議 居民 過去 買錯 地方 受困 這裡 現在 還被 新北市 城鄉 局面 對民眾 從來不 回覆 不予 受理 新北市 傲慢 得獎 真的 佩服 洪申翰 表示 土地 賣給 建商蓋 商業 大樓 新北 市政府 強拆 房屋 用盡 方式 打壓 住戶 侯友 宜為 招商 財團 進行 利益 開發利用 行政 權力 貶損 房屋 價值 市府 用盡 打壓 手段 減損 房屋 價值 居民 房子 賣出去 做法 民進黨 團副 幹事長 適應 則說 新北 市轄區 市民 侯友宜 真的 漠不關心 關心 房地產 炒作 面對 需要 幫助 民眾 卻是 選擇 視而不見 只許州官放火 不許百姓點燈 支持 市長 連任 事情 真的 何以堪 洪申翰 表示 新北 市政府 做法 現在 已經 違法 虞侯 友宜 正在 競選 總統 只顧 土地 利益 不顧 市民 居住 正義 先看 對待 市民 苛刻 程度 公司 買地 獵地 土地 狀況 有如 天壤之別 不配 擔任 總統 連新北 市長 不配 政黨 票能 幹嘛 神秘 數字 席次 補助 還可 扣稅 大選 年輕人 手上 投票率 直接 差格 立委 抽籤 出爐 選區 名單 號次 一次 看影組 總統 選民 抱不平 幹嘛 趟渾水 選舉 總統 選舉 侯友宜 民眾黨 總統 候選人 吳欣盈 今天 基隆市 車隊 掃街 基隆 下著 不小 雨勢 吳欣盈 雨衣 頂著 寒風 從信 三路 柯文哲 競選 總部 出發 國民黨 總統 候選人 侯友 宜今 早到 高雄 小港 鳳儀 參香 表示 昨天 國家級 警報 烏龍 一場 詐彈 國防 部發 布假 訊息 國民黨 總統 候選人 趙少康 今早 嘉義市 立委 候選人 張秀華車 出發 前先 聯訪 趙少康 表示 最早 聯合政府 柯文哲 這次 競選 針對 國防部 昨天 發布 國家級 警報 衛星 飛彈 分不清 民眾黨 總統 候選人 柯文哲 上午 表示 蔡英 文說 不用 害怕 她講 一句 總統 立委 選舉 周六 登場 屏東縣 鄉鎮 屏東縣 選委會 今明兩天 展開 選票 運送 清點 離島 琉球 選票 上午 點在 選務 人選 倒數 計時 高雄 市長 其邁 深夜 臉書 市民 溫情 喊話 選舉 實驗 選擇 重來 一起 這條 高雄路 停止\n",
      "Name: words, dtype: object\n",
      "4592    全球\n",
      "7535    財經\n",
      "4833    全球\n",
      "3259    要聞\n",
      "1143    要聞\n",
      "Name: artCatagory, dtype: object\n"
     ]
    }
   ],
   "execution_count": 121
  },
  {
   "cell_type": "code",
   "metadata": {
    "ExecuteTime": {
     "end_time": "2024-04-08T02:53:08.497396Z",
     "start_time": "2024-04-08T02:53:08.489587Z"
    }
   },
   "source": [
    "# 看一下各個資料集切分的比例，應該要一致\n",
    "print(\n",
    "    f\"raw data percentage :\\n{data['artCatagory'].value_counts(normalize=True) * 100}\"\n",
    ")\n",
    "print(f\"\\ntrain percentage :\\n{y_train.value_counts(normalize=True) * 100}\")\n",
    "print(f\"\\ntest percentage :\\n{y_test.value_counts(normalize=True) * 100}\")"
   ],
   "outputs": [
    {
     "name": "stdout",
     "output_type": "stream",
     "text": [
      "raw data percentage :\n",
      "artCatagory\n",
      "要聞    37.451208\n",
      "財經    32.049794\n",
      "全球    18.936597\n",
      "社會    11.562401\n",
      "Name: proportion, dtype: float64\n",
      "\n",
      "train percentage :\n",
      "artCatagory\n",
      "要聞    37.452901\n",
      "財經    31.936699\n",
      "全球    19.050490\n",
      "社會    11.559910\n",
      "Name: proportion, dtype: float64\n",
      "\n",
      "test percentage :\n",
      "artCatagory\n",
      "要聞    37.447257\n",
      "財經    32.313643\n",
      "全球    18.670886\n",
      "社會    11.568214\n",
      "Name: proportion, dtype: float64\n"
     ]
    }
   ],
   "execution_count": 122
  },
  {
   "attachments": {},
   "cell_type": "markdown",
   "metadata": {},
   "source": [
    "### 3.2 將文章轉為 DTM\n",
    "\n",
    "DTM(document term matrix) :\n",
    "+ 將不同的文章 (document) 以文章中出現過的字詞(term)表示\n",
    "    + row 是document (文件)\n",
    "    + column 是字詞 (term)\n",
    "    + row 內的數字是出現的字數\n",
    "\n",
    "DTM裡面的值可以有不同的表示方法\n",
    "+ (1) 依據詞頻 (classic BoW)\n",
    "    + 用 `CountVectorizer()`\n",
    "    + unigrams and bigrams\n",
    "    + [sklearn.feature_extraction.text.CountVectorizer](https://scikit-learn.org/stable/modules/generated/sklearn.feature_extraction.text.CountVectorizer.html)\n",
    "+ (2) 依據tfidf (advanced variant of BoW)\n",
    "    + 篩選出現次數大於10的字\n",
    "    + 用 `TfidfVectorizer()`\n",
    "    + [sklearn.feature_extraction.text.TfidfVectorizer](https://scikit-learn.org/stable/modules/generated/sklearn.feature_extraction.text.CountVectorizer.html)\n",
    "+ 常用參數介紹\n",
    "    + max_features: 取 詞頻 / tfidf 前多少的字"
   ]
  },
  {
   "attachments": {},
   "cell_type": "markdown",
   "metadata": {},
   "source": [
    "### 3.3 套入正式的資料集\n",
    "+  模型訓練範例: logistic regression + cv tokenizer "
   ]
  },
  {
   "cell_type": "code",
   "metadata": {
    "ExecuteTime": {
     "end_time": "2024-04-08T02:53:10.275695Z",
     "start_time": "2024-04-08T02:53:10.265145Z"
    }
   },
   "source": [
    "vectorizer = CountVectorizer(max_features=1000)\n",
    "print(vectorizer)"
   ],
   "outputs": [
    {
     "name": "stdout",
     "output_type": "stream",
     "text": [
      "CountVectorizer(max_features=1000)\n"
     ]
    }
   ],
   "execution_count": 123
  },
  {
   "cell_type": "code",
   "metadata": {
    "ExecuteTime": {
     "end_time": "2024-04-08T02:53:11.396997Z",
     "start_time": "2024-04-08T02:53:11.391652Z"
    }
   },
   "source": [
    "X_train.head()"
   ],
   "outputs": [
    {
     "data": {
      "text/plain": [
       "4592                                                                                                                                                                                                                                                                                                                                                                                                                                                                                                                                                                                                                                                                                                                                                                                                                                                                              機構 全球 半導體 產能 增長 首破 每月 萬片 大關 集微網 消息 發佈 世界 晶圓廠 預測 報告 報告 顯示 全球 半導體 每月 晶圓 產能 增長 萬片 預計 年將 增長 首次 突破 每月 萬片 大關 當量 計算 機構 認為 增長 將由 前沿 邏輯 代工 包括 生成式 人工智慧 高性能 計算 在內 應用 產能 增長 晶片 終端 需求 復甦 推動 報告 全球 半導體 行業 計劃 運營 晶圓廠 包括 項目 項目 晶圓 尺寸 不等 英寸 英寸 中國 大陸 引領 半導體 行業 擴張 機構 統計 中國 大陸 半導體 廠商 產能 同比 增長 達到 每月 片晶 預計 中國 大陸 晶片 製造商 將在 運營 項目 產能 同比增加 達到 每月 片晶 圓台灣 仍將 半導體 產能 第二 地區 產能 增長 每月 片晶 圓年 增長 每月 片晶 圓該 地區 年將 設家 晶圓廠 韓國 晶片 產能 排名 第三 每月 片晶 圓年將 增長 每月 片晶 日本 產能 預計 達到 萬片 美洲 達到 萬片 歐洲 中東地區 萬片 東南亞 達到 萬片 產品 領域 存儲 晶片 領域 產能 擴張 放緩 每月 產能 增加 達到 每月 片晶 圓年將 增加 達到 每月 萬片 裝機容量 預計 年將 持平 每月 片晶 圓年將 增長 達到 每月 片晶 分立元件 模擬 晶片 領域 車輛 電氣化 產能 擴張 關鍵 因素 分立元件 晶片 產能 預計 增長 達到 每月 片晶 圓年將 繼續 增長 達到 每月 萬片 模擬 晶片 產能 預計 增長 萬片 年將 增長 達到 萬片\n",
       "7535                                                                                                                                                                                                                                                                                                                                                                                                                                                                                                                                                                                                                                                                                                                                                                                                                                                                                                                                                                                                                                                            聯於 全球 首款 奈米 控制 最高 傳輸速度 每秒 控制 廠群 聯在 美西 時間 舉行 大展 宣布 推出 全球 首款 採用 奈米 製程 消費型 控制 目前 最高 傳輸速度 每秒 未來 有望 達到 每秒 群聯 總經理 中迅 表示 全球 首款 搭載 奈米 控制 晶片 目前 世代 效能 達到 最高 容量 達到 未來 等待 新世 代發 布後的 極速 更將 提升 推升 效能 全新 境界 一年一度 全球 最大 消費性 電子展 美西 時間 正式 揭幕 展覽 主題 包羅萬象 包含 近期 熱門 人工智慧 車用 智慧 系統 數位 健康 電競 娛樂 教育 科技 引領 未來 科技 發展趨勢 主要 展覽 預計 全球 前大 企業 超過 國家 相關 廠商 都將 共襄盛舉 新聞 追蹤 科技 玩家 好文 漏接 衝了 台灣 寶可夢 中心 入店 規則 出爐 幾天 能免 排隊 直接 進限免 貼圖 款來 這款 淚眼汪汪 攻擊 二手 蘋果 注意 達人 曝點 檢查 項目 避免 遊戲 特賣 最低 運動 折扣 曝光 友誼 破壞 遊戲 特價 黃牛 絕版 西瓜 停售 復活 日本 限定 購買 地點 開賣 規則 公開\n",
       "4833                                                                                                                                                                                                                                                                                                                                                                                 彭博 評選 應該 關注 企業 台灣 一家 上榜 彭博 資訊 發布 應該 關注 全球 企業 包括 母公司 字母 中國 大陸 比亞迪 禮來 藥廠 媒體 巨擘 聯發 科技 唯一 上榜 台灣 企業 彭博 資訊 分析師 團隊 金融 食品業 追蹤 企業 觀點 聚焦 清單 選出 家值 關注 公司 考量 重點 包含 看法 與眾 出現 改變 領導階層 資產 出售 併購 規劃 推出 產品 服務 這份 清單 排名 英文名稱 字母 順序排列 科技 類別 中有 兩家 半導體 業者 上榜 一為 半導體 製造商 聯發科 一為 日本 半導體 製造商 聯發科 部分 彭博 分析師 指出 智慧 手機 需求 成長 手機 家庭 裝置 人工智慧 應用 崛起 意味著 這家 亞洲 最大 晶圓廠 晶片 製造商 獲利 將有 龐大 驚喜 潛力 彭博 分析師 預期 聯發科 天璣 處理器 將在 高階 智慧 手機 市場 高通 對手 產品 搶得市 聯發科 臉書 母公司 輝達 合作 釋出 另類 擴增 實境 個人電腦 汽車 市場 機會 彭博 分析師 認為 晶片 製造 工具 受惠 擴大 採用 提振 效應 今年 營收 成長率 有望 突破 高魚 市場 共識 中間 科技 值得 關注 企業 包括 資訊科技 服務業 埃森哲 軟體 類別 思愛普 彭博 分析師 列舉 今年 值得 關注 企業 彭博 行業 研究 分類 消費 必需品 產業 金融業 最多 各有 七家 消費 必需品 產業 包括 電商 業者 亞馬遜 服飾 業者 安踏 體育 加拿大 汽車 業者 奧斯頓 比亞迪 英國 建商 建商 博弈 業者 銀河 娛樂 集團 金融業 銀行 類別 包含 巴克萊銀行 控股 中國工商銀行 美國 沙烏地阿 拉伯 銀行 另有 法國 保險業 安盛 荷蘭 支付 處理 業者 通訊業 六家 公司 榜上有名 包括 網路 類別 電訊 類別 英國 電信 媒體 娛樂 類別 迪士尼 媒體 類別 網路 類別 集團 工業 類別 包括 國防 業者 卡車 業者 營建 業者 廢棄物 管理 業者 鐵路 業者 聯合 太平洋 原料 產業 包括 礦商嘉能 帕拉 白金 化學 業者 沙烏地 基礎 工業 公司 建材業 西卡 醫療保健 產業 包括 生技 業者 百濟 神州 製藥業 禮來 諾和諾德 醫療 裝置 業者 波士頓 科技 公司 能源業 包含 液化 天然氣 業者 尼爾 整合性 石油 公司 埃克森 美孚 太陽能 業者 天然氣 配銷 商新奧 能源 消費 必需品 產業 三家 公司 包括 飲料 業者 亞吉 歐與 照護 業者 雅詩蘭黛 不動產業 兩家 業者 分別 物業管理 業者 生活 開發商 新鴻基 彭博 資訊 發布 應該 關注 全球 企業 聯發 科技 唯一 上榜 台灣 企業 圖聯 發科 提供\n",
       "3259                                                                                                                                                                                                                                                                                                                                                                                                                                                                                                                                                                                                                                                                                                                                                                                                                                                                                                                                                                                                                                                                                                                                                                                                                                                                                                                            國民黨 點名 戰犯 這是 合作 態度 總統 選舉 出爐 民進黨 總統 候選人 賴清德 當選 國民黨 競選 發言人 凌濤 點名 柯文哲 競選 總幹事 戰犯 罪魁禍首 受訪 表示 凌濤 發言 背後 代表 國民黨 主席 朱立倫 新北 市長 侯友宜 以後 國會 還要 合作 點名 戰犯 表示 政黨 合作 聯合政府 結盟 盟友 敵人 以後 立法院 合作 態度 藍白合 會破局 國民黨 應該 清楚 尤其 放任 發言人 發言 背後 代表 朱立倫 侯友宜 以後 國會 還要 合作\n",
       "1143    新泰 合法 房屋 自救 抗爭 市府 傲慢 得獎 國民黨 總統 候選人 侯友宜 先前 新北市 仔圳 重劃 沒人 抗爭 引發 當地 居民 新莊 泰山 合法 房屋 自救 成員 今天 前往 立法院 抗議 民進黨 立法院 黨團 書記長 洪申翰 表示 侯友宜 只顧 土地 利益 不顧 市民 居住 正義 不配 擔任 中華民國 總統 民進黨 立法院 黨團 上午 舉行 仔圳 居民 人侯友 面對 記者會 接受 新莊 泰山 合法 房屋 自救 情書 洪申翰 表示 仔圳市 重劃 案子 權責 新北 市政府 手上 侯友宜 本該 照顧 當地 居民 沒想到 卻是 選擇 長期 欺壓 洪申翰 指出 侯友宜 家族 成立 又昱 公司 買地 獵地 公司 專挑 行政 權限 新北市 未來 利用 行政 權限 提高 土地 容積率 侯友宜 打著 警察 市長 面貌 背地裡 事情 洪申翰 批評 侯友宜 先前 總統 候選人 電視辯論 大喇喇地 仔圳 人來 抗議 這句 真正 激怒 當地 居民 新北 市政府 強拆 房屋 侯友宜 方式 選擇 視而不見 根本 當作 對待 新莊 泰山 合法 房屋 自救 會長 張文娟 表示 已經 投身 抗爭 多年 變成 廁所 道路 切成 多塊 賣給 財團 現在 走上 街頭 塔綠斑 現在 十分 痛心 台北 縣長 蘇貞昌 現場 看過 居民 唯獨 侯友宜 表現 真的 太差 離譜 張文娟 批評 侯友宜 仔圳 抗議 居民 過去 買錯 地方 受困 這裡 現在 還被 新北市 城鄉 局面 對民眾 從來不 回覆 不予 受理 新北市 傲慢 得獎 真的 佩服 洪申翰 表示 土地 賣給 建商蓋 商業 大樓 新北 市政府 強拆 房屋 用盡 方式 打壓 住戶 侯友 宜為 招商 財團 進行 利益 開發利用 行政 權力 貶損 房屋 價值 市府 用盡 打壓 手段 減損 房屋 價值 居民 房子 賣出去 做法 民進黨 團副 幹事長 適應 則說 新北 市轄區 市民 侯友宜 真的 漠不關心 關心 房地產 炒作 面對 需要 幫助 民眾 卻是 選擇 視而不見 只許州官放火 不許百姓點燈 支持 市長 連任 事情 真的 何以堪 洪申翰 表示 新北 市政府 做法 現在 已經 違法 虞侯 友宜 正在 競選 總統 只顧 土地 利益 不顧 市民 居住 正義 先看 對待 市民 苛刻 程度 公司 買地 獵地 土地 狀況 有如 天壤之別 不配 擔任 總統 連新北 市長 不配 政黨 票能 幹嘛 神秘 數字 席次 補助 還可 扣稅 大選 年輕人 手上 投票率 直接 差格 立委 抽籤 出爐 選區 名單 號次 一次 看影組 總統 選民 抱不平 幹嘛 趟渾水 選舉 總統 選舉 侯友宜 民眾黨 總統 候選人 吳欣盈 今天 基隆市 車隊 掃街 基隆 下著 不小 雨勢 吳欣盈 雨衣 頂著 寒風 從信 三路 柯文哲 競選 總部 出發 國民黨 總統 候選人 侯友 宜今 早到 高雄 小港 鳳儀 參香 表示 昨天 國家級 警報 烏龍 一場 詐彈 國防 部發 布假 訊息 國民黨 總統 候選人 趙少康 今早 嘉義市 立委 候選人 張秀華車 出發 前先 聯訪 趙少康 表示 最早 聯合政府 柯文哲 這次 競選 針對 國防部 昨天 發布 國家級 警報 衛星 飛彈 分不清 民眾黨 總統 候選人 柯文哲 上午 表示 蔡英 文說 不用 害怕 她講 一句 總統 立委 選舉 周六 登場 屏東縣 鄉鎮 屏東縣 選委會 今明兩天 展開 選票 運送 清點 離島 琉球 選票 上午 點在 選務 人選 倒數 計時 高雄 市長 其邁 深夜 臉書 市民 溫情 喊話 選舉 實驗 選擇 重來 一起 這條 高雄路 停止\n",
       "Name: words, dtype: object"
      ]
     },
     "execution_count": 124,
     "metadata": {},
     "output_type": "execute_result"
    }
   ],
   "execution_count": 124
  },
  {
   "cell_type": "code",
   "metadata": {
    "ExecuteTime": {
     "end_time": "2024-04-08T02:53:14.896492Z",
     "start_time": "2024-04-08T02:53:12.282762Z"
    }
   },
   "source": [
    "vectorizer.fit(X_train)\n",
    "vec_train = vectorizer.transform(X_train)\n",
    "vec_train"
   ],
   "outputs": [
    {
     "data": {
      "text/plain": [
       "<6635x1000 sparse matrix of type '<class 'numpy.int64'>'\n",
       "\twith 526461 stored elements in Compressed Sparse Row format>"
      ]
     },
     "execution_count": 125,
     "metadata": {},
     "output_type": "execute_result"
    }
   ],
   "execution_count": 125
  },
  {
   "cell_type": "code",
   "metadata": {
    "ExecuteTime": {
     "end_time": "2024-04-08T02:53:14.913630Z",
     "start_time": "2024-04-08T02:53:14.897512Z"
    }
   },
   "source": [
    "### 用 `toarray()` 轉成 numpy array\n",
    "vec_train.toarray()"
   ],
   "outputs": [
    {
     "data": {
      "text/plain": [
       "array([[0, 0, 0, ..., 0, 0, 0],\n",
       "       [0, 0, 0, ..., 0, 0, 0],\n",
       "       [0, 0, 0, ..., 0, 0, 0],\n",
       "       ...,\n",
       "       [0, 0, 0, ..., 0, 0, 0],\n",
       "       [0, 0, 0, ..., 0, 0, 0],\n",
       "       [0, 1, 0, ..., 0, 0, 0]], dtype=int64)"
      ]
     },
     "execution_count": 126,
     "metadata": {},
     "output_type": "execute_result"
    }
   ],
   "execution_count": 126
  },
  {
   "cell_type": "code",
   "metadata": {
    "ExecuteTime": {
     "end_time": "2024-04-08T02:53:16.603227Z",
     "start_time": "2024-04-08T02:53:15.071512Z"
    }
   },
   "source": [
    "# 可用 `fit_transform()` 一次完成\n",
    "vec_train = vectorizer.fit_transform(X_train)\n",
    "print(vectorizer.get_feature_names_out()[:10])"
   ],
   "outputs": [
    {
     "name": "stdout",
     "output_type": "stream",
     "text": [
      "['一些' '一名' '一天' '一定' '一家' '一年' '一度' '一早' '一次' '一直']\n"
     ]
    }
   ],
   "execution_count": 127
  },
  {
   "cell_type": "code",
   "metadata": {
    "ExecuteTime": {
     "end_time": "2024-04-08T02:53:18.517786Z",
     "start_time": "2024-04-08T02:53:18.512035Z"
    }
   },
   "source": [
    "# fit 完後，可以用 `vocabulary_` 看到詞的 feature index\n",
    "print(vectorizer.vocabulary_)\n",
    "vectorizer.vocabulary_['一些']"
   ],
   "outputs": [
    {
     "name": "stdout",
     "output_type": "stream",
     "text": [
      "{'機構': 549, '全球': 110, '半導體': 164, '產能': 624, '世界': 25, '報告': 263, '顯示': 983, '預計': 979, '首次': 988, '突破': 679, '計算': 802, '認為': 813, '包括': 158, '人工智慧': 55, '應用': 386, '晶片': 507, '需求': 967, '復甦': 375, '推動': 434, '項目': 974, '中國': 28, '大陸': 282, '統計': 709, '廠商': 353, '達到': 900, '將在': 308, '第二': 691, '地區': 253, '韓國': 973, '第三': 690, '日本': 494, '歐洲': 555, '產品': 622, '領域': 981, '增加': 265, '關鍵': 947, '因素': 236, '繼續': 725, '最高': 518, '時間': 503, '舉行': 754, '宣布': 301, '推出': 433, '製程': 789, '目前': 649, '未來': 529, '有望': 523, '表示': 786, '提升': 439, '最大': 513, '正式': 558, '包含': 157, '近期': 871, '智慧': 509, '系統': 699, '數位': 475, '健康': 93, '教育': 471, '科技': 674, '主要': 37, '企業': 71, '超過': 849, '國家': 240, '相關': 655, '新聞': 483, '追蹤': 872, '玩家': 614, '台灣': 198, '中心': 30, '規則': 793, '出爐': 129, '幾天': 350, '排隊': 430, '直接': 651, '這款': 881, '攻擊': 462, '二手': 48, '蘋果': 773, '注意': 582, '達人': 899, '檢查': 553, '避免': 912, '遊戲': 892, '最低': 512, '運動': 893, '折扣': 414, '曝光': 510, '友誼': 181, '破壞': 665, '西瓜': 791, '停售': 92, '限定': 952, '購買': 846, '地點': 257, '開賣': 943, '公開': 122, '應該': 387, '關注': 946, '一家': 4, '資訊': 839, '發布': 639, '媒體': 289, '唯一': 219, '團隊': 251, '金融': 932, '公司': 117, '考量': 733, '重點': 929, '出現': 130, '改變': 460, '資產': 838, '規劃': 794, '服務': 526, '業者': 545, '部分': 917, '指出': 422, '手機': 402, '成長': 393, '家庭': 303, '亞洲': 49, '獲利': 612, '預期': 977, '市場': 331, '對手': 314, '臉書': 747, '輝達': 862, '合作': 201, '汽車': 578, '機會': 548, '製造': 790, '受惠': 186, '擴大': 449, '今年': 61, '營收': 602, '共識': 124, '研究': 664, '消費': 586, '產業': 623, '英國': 758, '建商': 357, '集團': 961, '銀行': 935, '美國': 728, '支付': 452, '處理': 774, '網路': 719, '國防': 246, '管理': 696, '聯合': 734, '基礎': 260, '醫療': 923, '能源': 745, '分別': 133, '生活': 620, '提供': 436, '國民黨': 243, '這是': 879, '態度': 384, '總統': 722, '選舉': 911, '民進黨': 573, '候選人': 91, '賴清德': 843, '當選': 630, '競選': 687, '發言人': 645, '柯文哲': 537, '受訪': 187, '背後': 742, '代表': 65, '主席': 34, '朱立倫': 532, '新北': 479, '市長': 333, '侯友宜': 83, '國會': 242, '還要': 915, '政黨': 470, '立法院': 683, '藍白合': 771, '清楚': 590, '尤其': 321, '房屋': 397, '市府': 332, '先前': 106, '新北市': 480, '引發': 361, '當地': 628, '今天': 58, '前往': 143, '土地': 252, '利益': 140, '擔任': 447, '中華民國': 32, '上午': 16, '面對': 971, '記者會': 806, '接受': 432, '手上': 401, '選擇': 908, '長期': 939, '成立': 392, '利用': 139, '提高': 443, '事情': 45, '批評': 405, '方式': 487, '已經': 329, '變成': 827, '道路': 898, '現在': 616, '台北': 191, '縣長': 721, '現場': 617, '表現': 785, '真的': 659, '過去': 896, '地方': 254, '大樓': 279, '侯友': 82, '進行': 891, '價值': 98, '關心': 945, '需要': 968, '幫助': 339, '民眾': 570, '支持': 453, '連任': 887, '正在': 557, '狀況': 611, '票能': 673, '幹嘛': 349, '神秘': 671, '數字': 476, '席次': 336, '補助': 788, '還可': 914, '扣稅': 404, '大選': 280, '年輕人': 348, '投票率': 411, '差格': 328, '立委': 681, '抽籤': 417, '選區': 904, '名單': 206, '號次': 775, '一次': 8, '看影組': 658, '選民': 909, '抱不平': 415, '趟渾水': 851, '民眾黨': 571, '吳欣盈': 207, '車隊': 859, '掃街': 428, '基隆': 262, '總部': 724, '出發': 131, '高雄': 995, '昨天': 498, '國家級': 241, '警報': 822, '訊息': 803, '趙少康': 850, '今早': 62, '嘉義市': 227, '這次': 880, '針對': 934, '國防部': 247, '衛星': 781, '飛彈': 985, '周六': 211, '登場': 634, '選委會': 905, '展開': 325, '選票': 910, '倒數': 90, '喊話': 223, '一起': 10, '工作': 326, '研發': 663, '生產': 621, '來說': 79, '挑戰': 426, '執行': 259, '符合': 688, '政府': 464, '內容': 108, '員工': 216, '問題': 221, '確保': 666, '得到': 372, '後續': 371, '風險': 984, '重要': 928, '安全': 293, '資料': 834, '操作': 446, '人員': 52, '行動': 776, '許多': 809, '建立': 358, '機制': 547, '使用': 77, '單位': 224, '採購': 431, '轉型': 864, '保護': 88, '整體': 474, '建設': 359, '房價': 396, '知道': 661, '國際': 248, '兩大': 113, '房市': 398, '移轉': 675, '買氣': 831, '可望': 189, '延續': 356, '農曆': 868, '年前': 343, '完工': 296, '板橋': 533, '青年': 969, '捷運': 427, '進入': 890, '春節': 497, '海外': 585, '旅遊': 490, '持續': 421, '因應': 235, '紅海': 701, '評估': 811, '再次': 126, '旗下': 492, '所有': 400, '董事長': 767, '攜手': 450, '品牌': 214, '陸續': 957, '平均': 341, '優惠': 103, '質疑': 841, '總統大選': 723, '階段': 958, '日前': 493, '臨時': 748, '傳出': 95, '目標': 650, '掌握': 429, '特定': 610, '陣營': 954, '檢舉': 554, '對話': 317, '發文': 640, '收到': 457, '違反': 902, '社群': 670, '通知': 883, '討論': 804, '綠營': 713, '疑似': 631, '支持者': 455, '大量': 281, '人數': 57, '發生': 642, '全面': 111, '這場': 877, '選戰': 907, '看到': 656, '政治': 465, '規定': 795, '希望': 335, '進一步': 889, '是否': 500, '積極': 676, '了解': 42, '原因': 175, '民主': 569, '最後': 514, '力量': 147, '正副': 556, '蕭美琴': 769, '英文': 759, '廣告': 355, '路上': 853, '以來': 69, '大學': 274, '分區': 134, '選前': 903, '造勢': 885, '行程': 780, '安排': 294, '近日': 870, '成為': 391, '話題': 812, '管中': 695, '上任': 15, '台大': 195, '校長': 538, '行政院長': 778, '資深': 836, '舉辦': 755, '大會': 278, '出席': 128, '一名': 1, '男子': 627, '對此': 316, '黃金': 998, '衝刺': 782, '輔選': 861, '爆發': 605, '一天': 2, '新竹': 482, '嘉義縣': 228, '嘉義': 226, '累計': 703, '技術': 407, '創新': 145, '整合': 472, '平台': 340, '協助': 166, '成功': 389, '近年': 869, '經濟': 710, '專業': 311, '配合': 921, '擁有': 445, '連續': 888, '高達': 994, '認證': 814, '客戶': 300, '至今': 749, '共同': 123, '縣市': 720, '發展': 638, '住宅': 75, '人才': 56, '區域': 161, '族群': 491, '房貸': 399, '情況': 381, '買賣': 832, '成交': 388, '億元': 100, '晚間': 505, '提出': 437, '期待': 527, '方案': 488, '交易': 50, '購屋': 845, '台南市': 194, '最近': 517, '公辦': 121, '升級': 162, '台北市': 192, '年月日': 346, '公告': 118, '專案': 310, '計畫': 801, '每年': 565, '限制': 951, '本次': 531, '行政院': 777, '立即': 680, '公布': 120, '明顯': 496, '幾年': 351, '影響': 370, '我國': 394, '行為': 779, '準備': 592, '四大': 231, '方向': 486, '努力': 152, '透過': 874, '強化': 365, '加強': 150, '強調': 366, '溝通': 593, '提醒': 442, '面臨': 972, '競爭': 686, '布局': 334, '調查': 818, '完全': 295, '覺得': 797, '解決': 799, '萬元': 762, '有限': 524, '南投': 168, '預售': 976, '比較': 568, '買房': 830, '真相': 660, '景氣': 506, '去年': 177, '營運': 603, '消費者': 587, '導致': 318, '每股': 566, '方面': 489, '受到': 185, '下跌': 22, '第季': 693, '事業': 47, '下滑': 21, '減少': 591, '年度': 345, '優於': 104, '期間': 528, '呈現': 209, '庫存': 352, '大幅': 276, '高端': 993, '抹黑': 416, '疫苗': 633, '爭議': 607, '指控': 424, '一路': 11, '環境': 618, '合約': 203, '申請': 626, '確定': 667, '完成': 297, '說明': 815, '國內': 238, '當時': 629, '信心': 89, '過程': 897, '不斷': 24, '有效': 522, '石川縣': 662, '強震': 367, '規模': 796, '隨後': 959, '嚴重': 229, '外界': 269, '特別': 609, '地震': 256, '觀察': 798, '設備': 807, '電子': 965, '興建': 753, '造成': 886, '樂觀': 546, '大廠': 277, '合併': 202, '一年': 5, '帶動': 338, '業績': 544, '獲得': 613, '來自': 78, '單月': 225, '取得': 183, '發表': 644, '趨勢': 852, '這年': 878, '功能': 148, '法人': 579, '年底': 344, '恢復': 379, '訂單': 800, '預估': 975, '電動車': 964, '一定': 3, '看好': 657, '先進': 107, '要求': 792, '尚未': 320, '同意': 204, '召開': 188, '回應': 233, '封存': 306, '能夠': 744, '之後': 40, '陳建仁': 956, '專訪': 312, '提到': 438, '錯誤': 938, '法院': 581, '委員會': 287, '會議': 519, '發現': 641, '死亡': 562, '案件': 542, '專家': 309, '兩岸': 114, '回到': 232, '對方': 315, '中共': 27, '領導人': 982, '憲法': 385, '關係': 944, '法律': 580, '第一': 689, '學者': 291, '肯定': 741, '表達': 787, '台海': 197, '呼籲': 212, '重新': 927, '主張': 35, '和平': 213, '戰爭': 395, '華府': 760, '北京': 159, '記者': 805, '整理': 473, '政見會': 468, '情勢': 380, '最新': 516, '民調': 572, '選情': 906, '元旦': 105, '落幕': 765, '萬安': 763, '時分': 502, '陪同': 955, '兩岸關係': 115, '八年': 116, '變化': 826, '承諾': 406, '桃園': 540, '吸引': 208, '參與': 179, '首度': 987, '朋友': 525, '投票': 410, '守護': 292, '參選': 180, '博雅': 171, '賴品': 842, '苗栗': 757, '攝影': 451, '歷年': 561, '組合': 704, '踴躍是': 856, '必看': 377, '指南': 423, '政策': 466, '激戰': 595, '圖表': 249, '回顧過去': 234, '藍綠': 772, '版圖': 608, '議題': 825, '政見': 467, '原住民': 174, '習近平': 730, '馬英九': 989, '聯合報': 735, '國人': 237, '集中': 960, '侯康配': 84, '團結': 250, '政見發表': 469, '展望': 323, '結合': 706, '藍營': 770, '郭台銘': 919, '執政': 258, '危機': 173, '司法': 200, '爭取': 606, '預算': 978, '過半': 895, '站台': 685, '聲明': 736, '疫情': 632, '創造': 146, '發送': 646, '中央': 29, '影片': 369, '美惠': 729, '優勢': 102, '攻防': 463, '士林': 267, '張斯綱': 363, '無黨籍': 600, '台南': 193, '電視': 966, '決定': 577, '意外': 382, '輪替': 863, '打造': 403, '核心': 539, '交通': 51, '文化': 478, '無法': 599, '開放': 940, '空間': 678, '年來': 342, '鄉親': 920, '林沛祥': 534, '盧秀燕': 648, '台中市': 190, '第六': 692, '大安區': 275, '死刑': 563, '智強': 508, '身分': 857, '汐止': 576, '之夜': 39, '大型': 273, '拜票': 419, '下午': 20, '晚會': 504, '立院': 684, '車掃': 858, '此次': 559, '相對': 653, '主委': 33, '人士': 53, '重大': 926, '彰化': 368, '相信': 652, '相當': 654, '調整': 817, '策略': 694, '南部': 169, '證實': 820, '官員': 298, '至少': 750, '開發': 941, '能力': 743, '一點': 12, '金控': 930, '上市': 17, '國泰': 244, '並未': 26, '原本': 176, '新台幣': 481, '維持': 715, '以上': 67, '歷史': 560, '新高': 485, '紀錄': 700, '分析': 136, '便宜': 85, '令人': 66, '機車': 550, '午時': 163, '分鐘': 137, '受傷': 184, '明天': 495, '起訴': 848, '地檢署': 255, '今天上午': 59, '涉嫌': 588, '檢察官': 551, '分局': 135, '偵辦': 94, '加入': 149, '今晚': 63, '逐漸': 876, '路線': 855, '熱情': 601, '境外': 264, '勢力': 156, '里長': 925, '介選': 64, '提名': 440, '左右': 327, '到場': 141, '院長': 953, '議員': 824, '羅致': 726, '錄音': 937, '小時': 319, '辯論會': 867, '激烈': 596, '清德': 589, '現任': 615, '災難': 597, '永續': 575, '傳統': 96, '邀請': 913, '年輕': 347, '再度': 125, '社會': 669, '多元': 271, '提告': 441, '部長': 918, '屏東': 322, '臺灣': 752, '指數': 425, '促進': 86, '投資': 412, '三大': 13, '投資人': 413, '資本': 835, '股票': 740, '商品': 220, '投信': 408, '發行': 643, '基金': 261, '退休': 873, '價格': 99, '主管': 36, '美元': 727, '台幣': 196, '成本': 390, '通訊': 884, '辦公室': 865, '擔心': 448, '引起': 362, '改革': 461, '穩定': 677, '制度': 142, '每天': 564, '本報': 530, '賴蕭配': 844, '支持率': 454, '四個': 230, '百分點': 647, '封關': 307, '新聞網': 484, '全國': 109, '領先': 980, '帶來': 337, '設計': 808, '銷售': 936, '資源': 837, '經驗': 712, '今天下午': 60, '壓力': 266, '水準': 574, '致詞': 751, '創下': 144, '老師': 732, '學生': 290, '展現': 324, '投入': 409, '推薦': 435, '一早': 7, '反對': 182, '黃國': 997, '告訴': 210, '軍事': 860, '表態': 784, '活動': 584, '參加': 178, '一些': 0, '高雄市': 996, '詐騙': 810, '立法委員': 682, '網友': 717, '說法': 816, '哪裡': 218, '不到': 23, '金管會': 931, '債券': 97, '豪宅': 828, '事件': 43, '萬人': 761, '一度': 6, '開票': 942, '昨晚': 499, '證明': 821, '票數': 672, '萬票': 764, '動態': 153, '得票數': 373, '雙方': 962, '最快': 515, '得票率': 374, '拿下': 420, '結束': 707, '有人': 521, '保持': 87, '林靜儀': 536, '經營': 711, '邱鎮': 916, '高嘉瑜': 991, '飛機': 986, '外交部': 268, '航空': 756, '透露': 875, '事故': 46, '時代': 501, '揭露': 444, '兩人': 112, '金額': 933, '爆料': 604, '業務': 543, '醫院': 924, '通報': 882, '警方': 823, '員警': 217, '家人': 302, '感謝': 383, '翻攝': 731, '作業': 76, '辦理': 866, '依法': 81, '出貨': 132, '路口': 854, '妻子': 286, '中正': 31, '賄選': 833, '強勁': 364, '漲幅': 594, '動能': 154, '上漲': 18, '高度': 992, '公寓': 119, '生命': 619, '泰國': 583, '啟動': 222, '運用': 894, '收入': 456, '組織': 705, '建議': 360, '更是': 511, '快速': 378, '網站': 718, '台股': 199, '紛紛': 702, '利率': 138, '億美元': 101, '烏克蘭': 598, '上空': 19, '衝突': 783, '附近': 948, '協會': 167, '節目': 697, '離開': 963, '以下': 68, '廢死': 354, '多數': 272, '女子': 285, '實施': 305, '加薩': 151, '位於': 74, '拜登': 418, '巴勒斯坦': 330, '哈瑪斯': 215, '伊朗': 72, '葉門': 766, '威脅': 288, '以色列': 70, '一直': 9, '外資': 270, '伺服器': 73, '股價': 737, '之前': 38, '勞動': 155, '數據': 477, '統一': 708, '林肯': 535, '贏得': 847, '駕駛': 990, '確認': 668, '證券': 819, '股市': 738, '央行': 283, '降息': 950, '收益': 458, '降低': 949, '股息': 739, '出口': 127, '也將': 41, '配息': 922, '供應鏈': 80, '綠色': 714, '同步': 205, '事後': 44, '黨籍': 999, '桃園市': 541, '資金': 840, '達成': 901, '毒品': 567, '國安': 239, '改善': 459, '責任': 829, '德國': 376, '月底': 520, '三重': 14, '發射': 636, '半島': 165, '印度': 172, '人壽': 54, '能登': 746, '國軍': 245, '宜蘭': 299, '檢方': 552, '青年運動': 970, '富邦': 304, '尊重': 313, '發出': 635, '蔡壁': 768, '南韓': 170, '維護': 716, '簡訊': 698, '發射衛星': 637, '契約': 284, '北韓': 160, '申報': 625}\n"
     ]
    },
    {
     "data": {
      "text/plain": [
       "0"
      ]
     },
     "execution_count": 128,
     "metadata": {},
     "output_type": "execute_result"
    }
   ],
   "execution_count": 128
  },
  {
   "cell_type": "code",
   "metadata": {
    "ExecuteTime": {
     "end_time": "2024-04-08T02:53:20.822170Z",
     "start_time": "2024-04-08T02:53:20.298143Z"
    }
   },
   "source": [
    "# 不需重新 `fit()` data，因前面已經 `fit()` 過了\n",
    "# 只需將測試數據使用之前訓練好的 vectorizer 轉換為相同的特徵表示形式，而不需要重新fit。\n",
    "# 如果對測試數據再次 fit vectorizer，可能會導致使用了測試數據的信息，進而導致模型的不穩定性和過度擬合的問題。\n",
    "vec_test = vectorizer.transform(X_test)\n",
    "print(vec_train.shape)\n",
    "print(vec_test.shape)"
   ],
   "outputs": [
    {
     "name": "stdout",
     "output_type": "stream",
     "text": [
      "(6635, 1000)\n",
      "(2844, 1000)\n"
     ]
    }
   ],
   "execution_count": 129
  },
  {
   "cell_type": "code",
   "metadata": {
    "ExecuteTime": {
     "end_time": "2024-04-08T02:53:21.854182Z",
     "start_time": "2024-04-08T02:53:21.667091Z"
    }
   },
   "source": [
    "# 建立分類器模型\n",
    "clf = LogisticRegression()\n",
    "clf.fit(vec_train, y_train)\n",
    "clf"
   ],
   "outputs": [
    {
     "data": {
      "text/plain": [
       "LogisticRegression()"
      ],
      "text/html": [
       "<style>#sk-container-id-3 {\n",
       "  /* Definition of color scheme common for light and dark mode */\n",
       "  --sklearn-color-text: black;\n",
       "  --sklearn-color-line: gray;\n",
       "  /* Definition of color scheme for unfitted estimators */\n",
       "  --sklearn-color-unfitted-level-0: #fff5e6;\n",
       "  --sklearn-color-unfitted-level-1: #f6e4d2;\n",
       "  --sklearn-color-unfitted-level-2: #ffe0b3;\n",
       "  --sklearn-color-unfitted-level-3: chocolate;\n",
       "  /* Definition of color scheme for fitted estimators */\n",
       "  --sklearn-color-fitted-level-0: #f0f8ff;\n",
       "  --sklearn-color-fitted-level-1: #d4ebff;\n",
       "  --sklearn-color-fitted-level-2: #b3dbfd;\n",
       "  --sklearn-color-fitted-level-3: cornflowerblue;\n",
       "\n",
       "  /* Specific color for light theme */\n",
       "  --sklearn-color-text-on-default-background: var(--sg-text-color, var(--theme-code-foreground, var(--jp-content-font-color1, black)));\n",
       "  --sklearn-color-background: var(--sg-background-color, var(--theme-background, var(--jp-layout-color0, white)));\n",
       "  --sklearn-color-border-box: var(--sg-text-color, var(--theme-code-foreground, var(--jp-content-font-color1, black)));\n",
       "  --sklearn-color-icon: #696969;\n",
       "\n",
       "  @media (prefers-color-scheme: dark) {\n",
       "    /* Redefinition of color scheme for dark theme */\n",
       "    --sklearn-color-text-on-default-background: var(--sg-text-color, var(--theme-code-foreground, var(--jp-content-font-color1, white)));\n",
       "    --sklearn-color-background: var(--sg-background-color, var(--theme-background, var(--jp-layout-color0, #111)));\n",
       "    --sklearn-color-border-box: var(--sg-text-color, var(--theme-code-foreground, var(--jp-content-font-color1, white)));\n",
       "    --sklearn-color-icon: #878787;\n",
       "  }\n",
       "}\n",
       "\n",
       "#sk-container-id-3 {\n",
       "  color: var(--sklearn-color-text);\n",
       "}\n",
       "\n",
       "#sk-container-id-3 pre {\n",
       "  padding: 0;\n",
       "}\n",
       "\n",
       "#sk-container-id-3 input.sk-hidden--visually {\n",
       "  border: 0;\n",
       "  clip: rect(1px 1px 1px 1px);\n",
       "  clip: rect(1px, 1px, 1px, 1px);\n",
       "  height: 1px;\n",
       "  margin: -1px;\n",
       "  overflow: hidden;\n",
       "  padding: 0;\n",
       "  position: absolute;\n",
       "  width: 1px;\n",
       "}\n",
       "\n",
       "#sk-container-id-3 div.sk-dashed-wrapped {\n",
       "  border: 1px dashed var(--sklearn-color-line);\n",
       "  margin: 0 0.4em 0.5em 0.4em;\n",
       "  box-sizing: border-box;\n",
       "  padding-bottom: 0.4em;\n",
       "  background-color: var(--sklearn-color-background);\n",
       "}\n",
       "\n",
       "#sk-container-id-3 div.sk-container {\n",
       "  /* jupyter's `normalize.less` sets `[hidden] { display: none; }`\n",
       "     but bootstrap.min.css set `[hidden] { display: none !important; }`\n",
       "     so we also need the `!important` here to be able to override the\n",
       "     default hidden behavior on the sphinx rendered scikit-learn.org.\n",
       "     See: https://github.com/scikit-learn/scikit-learn/issues/21755 */\n",
       "  display: inline-block !important;\n",
       "  position: relative;\n",
       "}\n",
       "\n",
       "#sk-container-id-3 div.sk-text-repr-fallback {\n",
       "  display: none;\n",
       "}\n",
       "\n",
       "div.sk-parallel-item,\n",
       "div.sk-serial,\n",
       "div.sk-item {\n",
       "  /* draw centered vertical line to link estimators */\n",
       "  background-image: linear-gradient(var(--sklearn-color-text-on-default-background), var(--sklearn-color-text-on-default-background));\n",
       "  background-size: 2px 100%;\n",
       "  background-repeat: no-repeat;\n",
       "  background-position: center center;\n",
       "}\n",
       "\n",
       "/* Parallel-specific style estimator block */\n",
       "\n",
       "#sk-container-id-3 div.sk-parallel-item::after {\n",
       "  content: \"\";\n",
       "  width: 100%;\n",
       "  border-bottom: 2px solid var(--sklearn-color-text-on-default-background);\n",
       "  flex-grow: 1;\n",
       "}\n",
       "\n",
       "#sk-container-id-3 div.sk-parallel {\n",
       "  display: flex;\n",
       "  align-items: stretch;\n",
       "  justify-content: center;\n",
       "  background-color: var(--sklearn-color-background);\n",
       "  position: relative;\n",
       "}\n",
       "\n",
       "#sk-container-id-3 div.sk-parallel-item {\n",
       "  display: flex;\n",
       "  flex-direction: column;\n",
       "}\n",
       "\n",
       "#sk-container-id-3 div.sk-parallel-item:first-child::after {\n",
       "  align-self: flex-end;\n",
       "  width: 50%;\n",
       "}\n",
       "\n",
       "#sk-container-id-3 div.sk-parallel-item:last-child::after {\n",
       "  align-self: flex-start;\n",
       "  width: 50%;\n",
       "}\n",
       "\n",
       "#sk-container-id-3 div.sk-parallel-item:only-child::after {\n",
       "  width: 0;\n",
       "}\n",
       "\n",
       "/* Serial-specific style estimator block */\n",
       "\n",
       "#sk-container-id-3 div.sk-serial {\n",
       "  display: flex;\n",
       "  flex-direction: column;\n",
       "  align-items: center;\n",
       "  background-color: var(--sklearn-color-background);\n",
       "  padding-right: 1em;\n",
       "  padding-left: 1em;\n",
       "}\n",
       "\n",
       "\n",
       "/* Toggleable style: style used for estimator/Pipeline/ColumnTransformer box that is\n",
       "clickable and can be expanded/collapsed.\n",
       "- Pipeline and ColumnTransformer use this feature and define the default style\n",
       "- Estimators will overwrite some part of the style using the `sk-estimator` class\n",
       "*/\n",
       "\n",
       "/* Pipeline and ColumnTransformer style (default) */\n",
       "\n",
       "#sk-container-id-3 div.sk-toggleable {\n",
       "  /* Default theme specific background. It is overwritten whether we have a\n",
       "  specific estimator or a Pipeline/ColumnTransformer */\n",
       "  background-color: var(--sklearn-color-background);\n",
       "}\n",
       "\n",
       "/* Toggleable label */\n",
       "#sk-container-id-3 label.sk-toggleable__label {\n",
       "  cursor: pointer;\n",
       "  display: block;\n",
       "  width: 100%;\n",
       "  margin-bottom: 0;\n",
       "  padding: 0.5em;\n",
       "  box-sizing: border-box;\n",
       "  text-align: center;\n",
       "}\n",
       "\n",
       "#sk-container-id-3 label.sk-toggleable__label-arrow:before {\n",
       "  /* Arrow on the left of the label */\n",
       "  content: \"▸\";\n",
       "  float: left;\n",
       "  margin-right: 0.25em;\n",
       "  color: var(--sklearn-color-icon);\n",
       "}\n",
       "\n",
       "#sk-container-id-3 label.sk-toggleable__label-arrow:hover:before {\n",
       "  color: var(--sklearn-color-text);\n",
       "}\n",
       "\n",
       "/* Toggleable content - dropdown */\n",
       "\n",
       "#sk-container-id-3 div.sk-toggleable__content {\n",
       "  max-height: 0;\n",
       "  max-width: 0;\n",
       "  overflow: hidden;\n",
       "  text-align: left;\n",
       "  /* unfitted */\n",
       "  background-color: var(--sklearn-color-unfitted-level-0);\n",
       "}\n",
       "\n",
       "#sk-container-id-3 div.sk-toggleable__content.fitted {\n",
       "  /* fitted */\n",
       "  background-color: var(--sklearn-color-fitted-level-0);\n",
       "}\n",
       "\n",
       "#sk-container-id-3 div.sk-toggleable__content pre {\n",
       "  margin: 0.2em;\n",
       "  border-radius: 0.25em;\n",
       "  color: var(--sklearn-color-text);\n",
       "  /* unfitted */\n",
       "  background-color: var(--sklearn-color-unfitted-level-0);\n",
       "}\n",
       "\n",
       "#sk-container-id-3 div.sk-toggleable__content.fitted pre {\n",
       "  /* unfitted */\n",
       "  background-color: var(--sklearn-color-fitted-level-0);\n",
       "}\n",
       "\n",
       "#sk-container-id-3 input.sk-toggleable__control:checked~div.sk-toggleable__content {\n",
       "  /* Expand drop-down */\n",
       "  max-height: 200px;\n",
       "  max-width: 100%;\n",
       "  overflow: auto;\n",
       "}\n",
       "\n",
       "#sk-container-id-3 input.sk-toggleable__control:checked~label.sk-toggleable__label-arrow:before {\n",
       "  content: \"▾\";\n",
       "}\n",
       "\n",
       "/* Pipeline/ColumnTransformer-specific style */\n",
       "\n",
       "#sk-container-id-3 div.sk-label input.sk-toggleable__control:checked~label.sk-toggleable__label {\n",
       "  color: var(--sklearn-color-text);\n",
       "  background-color: var(--sklearn-color-unfitted-level-2);\n",
       "}\n",
       "\n",
       "#sk-container-id-3 div.sk-label.fitted input.sk-toggleable__control:checked~label.sk-toggleable__label {\n",
       "  background-color: var(--sklearn-color-fitted-level-2);\n",
       "}\n",
       "\n",
       "/* Estimator-specific style */\n",
       "\n",
       "/* Colorize estimator box */\n",
       "#sk-container-id-3 div.sk-estimator input.sk-toggleable__control:checked~label.sk-toggleable__label {\n",
       "  /* unfitted */\n",
       "  background-color: var(--sklearn-color-unfitted-level-2);\n",
       "}\n",
       "\n",
       "#sk-container-id-3 div.sk-estimator.fitted input.sk-toggleable__control:checked~label.sk-toggleable__label {\n",
       "  /* fitted */\n",
       "  background-color: var(--sklearn-color-fitted-level-2);\n",
       "}\n",
       "\n",
       "#sk-container-id-3 div.sk-label label.sk-toggleable__label,\n",
       "#sk-container-id-3 div.sk-label label {\n",
       "  /* The background is the default theme color */\n",
       "  color: var(--sklearn-color-text-on-default-background);\n",
       "}\n",
       "\n",
       "/* On hover, darken the color of the background */\n",
       "#sk-container-id-3 div.sk-label:hover label.sk-toggleable__label {\n",
       "  color: var(--sklearn-color-text);\n",
       "  background-color: var(--sklearn-color-unfitted-level-2);\n",
       "}\n",
       "\n",
       "/* Label box, darken color on hover, fitted */\n",
       "#sk-container-id-3 div.sk-label.fitted:hover label.sk-toggleable__label.fitted {\n",
       "  color: var(--sklearn-color-text);\n",
       "  background-color: var(--sklearn-color-fitted-level-2);\n",
       "}\n",
       "\n",
       "/* Estimator label */\n",
       "\n",
       "#sk-container-id-3 div.sk-label label {\n",
       "  font-family: monospace;\n",
       "  font-weight: bold;\n",
       "  display: inline-block;\n",
       "  line-height: 1.2em;\n",
       "}\n",
       "\n",
       "#sk-container-id-3 div.sk-label-container {\n",
       "  text-align: center;\n",
       "}\n",
       "\n",
       "/* Estimator-specific */\n",
       "#sk-container-id-3 div.sk-estimator {\n",
       "  font-family: monospace;\n",
       "  border: 1px dotted var(--sklearn-color-border-box);\n",
       "  border-radius: 0.25em;\n",
       "  box-sizing: border-box;\n",
       "  margin-bottom: 0.5em;\n",
       "  /* unfitted */\n",
       "  background-color: var(--sklearn-color-unfitted-level-0);\n",
       "}\n",
       "\n",
       "#sk-container-id-3 div.sk-estimator.fitted {\n",
       "  /* fitted */\n",
       "  background-color: var(--sklearn-color-fitted-level-0);\n",
       "}\n",
       "\n",
       "/* on hover */\n",
       "#sk-container-id-3 div.sk-estimator:hover {\n",
       "  /* unfitted */\n",
       "  background-color: var(--sklearn-color-unfitted-level-2);\n",
       "}\n",
       "\n",
       "#sk-container-id-3 div.sk-estimator.fitted:hover {\n",
       "  /* fitted */\n",
       "  background-color: var(--sklearn-color-fitted-level-2);\n",
       "}\n",
       "\n",
       "/* Specification for estimator info (e.g. \"i\" and \"?\") */\n",
       "\n",
       "/* Common style for \"i\" and \"?\" */\n",
       "\n",
       ".sk-estimator-doc-link,\n",
       "a:link.sk-estimator-doc-link,\n",
       "a:visited.sk-estimator-doc-link {\n",
       "  float: right;\n",
       "  font-size: smaller;\n",
       "  line-height: 1em;\n",
       "  font-family: monospace;\n",
       "  background-color: var(--sklearn-color-background);\n",
       "  border-radius: 1em;\n",
       "  height: 1em;\n",
       "  width: 1em;\n",
       "  text-decoration: none !important;\n",
       "  margin-left: 1ex;\n",
       "  /* unfitted */\n",
       "  border: var(--sklearn-color-unfitted-level-1) 1pt solid;\n",
       "  color: var(--sklearn-color-unfitted-level-1);\n",
       "}\n",
       "\n",
       ".sk-estimator-doc-link.fitted,\n",
       "a:link.sk-estimator-doc-link.fitted,\n",
       "a:visited.sk-estimator-doc-link.fitted {\n",
       "  /* fitted */\n",
       "  border: var(--sklearn-color-fitted-level-1) 1pt solid;\n",
       "  color: var(--sklearn-color-fitted-level-1);\n",
       "}\n",
       "\n",
       "/* On hover */\n",
       "div.sk-estimator:hover .sk-estimator-doc-link:hover,\n",
       ".sk-estimator-doc-link:hover,\n",
       "div.sk-label-container:hover .sk-estimator-doc-link:hover,\n",
       ".sk-estimator-doc-link:hover {\n",
       "  /* unfitted */\n",
       "  background-color: var(--sklearn-color-unfitted-level-3);\n",
       "  color: var(--sklearn-color-background);\n",
       "  text-decoration: none;\n",
       "}\n",
       "\n",
       "div.sk-estimator.fitted:hover .sk-estimator-doc-link.fitted:hover,\n",
       ".sk-estimator-doc-link.fitted:hover,\n",
       "div.sk-label-container:hover .sk-estimator-doc-link.fitted:hover,\n",
       ".sk-estimator-doc-link.fitted:hover {\n",
       "  /* fitted */\n",
       "  background-color: var(--sklearn-color-fitted-level-3);\n",
       "  color: var(--sklearn-color-background);\n",
       "  text-decoration: none;\n",
       "}\n",
       "\n",
       "/* Span, style for the box shown on hovering the info icon */\n",
       ".sk-estimator-doc-link span {\n",
       "  display: none;\n",
       "  z-index: 9999;\n",
       "  position: relative;\n",
       "  font-weight: normal;\n",
       "  right: .2ex;\n",
       "  padding: .5ex;\n",
       "  margin: .5ex;\n",
       "  width: min-content;\n",
       "  min-width: 20ex;\n",
       "  max-width: 50ex;\n",
       "  color: var(--sklearn-color-text);\n",
       "  box-shadow: 2pt 2pt 4pt #999;\n",
       "  /* unfitted */\n",
       "  background: var(--sklearn-color-unfitted-level-0);\n",
       "  border: .5pt solid var(--sklearn-color-unfitted-level-3);\n",
       "}\n",
       "\n",
       ".sk-estimator-doc-link.fitted span {\n",
       "  /* fitted */\n",
       "  background: var(--sklearn-color-fitted-level-0);\n",
       "  border: var(--sklearn-color-fitted-level-3);\n",
       "}\n",
       "\n",
       ".sk-estimator-doc-link:hover span {\n",
       "  display: block;\n",
       "}\n",
       "\n",
       "/* \"?\"-specific style due to the `<a>` HTML tag */\n",
       "\n",
       "#sk-container-id-3 a.estimator_doc_link {\n",
       "  float: right;\n",
       "  font-size: 1rem;\n",
       "  line-height: 1em;\n",
       "  font-family: monospace;\n",
       "  background-color: var(--sklearn-color-background);\n",
       "  border-radius: 1rem;\n",
       "  height: 1rem;\n",
       "  width: 1rem;\n",
       "  text-decoration: none;\n",
       "  /* unfitted */\n",
       "  color: var(--sklearn-color-unfitted-level-1);\n",
       "  border: var(--sklearn-color-unfitted-level-1) 1pt solid;\n",
       "}\n",
       "\n",
       "#sk-container-id-3 a.estimator_doc_link.fitted {\n",
       "  /* fitted */\n",
       "  border: var(--sklearn-color-fitted-level-1) 1pt solid;\n",
       "  color: var(--sklearn-color-fitted-level-1);\n",
       "}\n",
       "\n",
       "/* On hover */\n",
       "#sk-container-id-3 a.estimator_doc_link:hover {\n",
       "  /* unfitted */\n",
       "  background-color: var(--sklearn-color-unfitted-level-3);\n",
       "  color: var(--sklearn-color-background);\n",
       "  text-decoration: none;\n",
       "}\n",
       "\n",
       "#sk-container-id-3 a.estimator_doc_link.fitted:hover {\n",
       "  /* fitted */\n",
       "  background-color: var(--sklearn-color-fitted-level-3);\n",
       "}\n",
       "</style><div id=\"sk-container-id-3\" class=\"sk-top-container\"><div class=\"sk-text-repr-fallback\"><pre>LogisticRegression()</pre><b>In a Jupyter environment, please rerun this cell to show the HTML representation or trust the notebook. <br />On GitHub, the HTML representation is unable to render, please try loading this page with nbviewer.org.</b></div><div class=\"sk-container\" hidden><div class=\"sk-item\"><div class=\"sk-estimator fitted sk-toggleable\"><input class=\"sk-toggleable__control sk-hidden--visually\" id=\"sk-estimator-id-3\" type=\"checkbox\" checked><label for=\"sk-estimator-id-3\" class=\"sk-toggleable__label fitted sk-toggleable__label-arrow fitted\">&nbsp;&nbsp;LogisticRegression<a class=\"sk-estimator-doc-link fitted\" rel=\"noreferrer\" target=\"_blank\" href=\"https://scikit-learn.org/1.4/modules/generated/sklearn.linear_model.LogisticRegression.html\">?<span>Documentation for LogisticRegression</span></a><span class=\"sk-estimator-doc-link fitted\">i<span>Fitted</span></span></label><div class=\"sk-toggleable__content fitted\"><pre>LogisticRegression()</pre></div> </div></div></div></div>"
      ]
     },
     "execution_count": 130,
     "metadata": {},
     "output_type": "execute_result"
    }
   ],
   "execution_count": 130
  },
  {
   "cell_type": "code",
   "metadata": {
    "ExecuteTime": {
     "end_time": "2024-04-08T02:53:22.494310Z",
     "start_time": "2024-04-08T02:53:22.489141Z"
    }
   },
   "source": [
    "clf.classes_"
   ],
   "outputs": [
    {
     "data": {
      "text/plain": [
       "array(['全球', '社會', '要聞', '財經'], dtype=object)"
      ]
     },
     "execution_count": 131,
     "metadata": {},
     "output_type": "execute_result"
    }
   ],
   "execution_count": 131
  },
  {
   "cell_type": "code",
   "metadata": {
    "ExecuteTime": {
     "end_time": "2024-04-08T02:53:23.112042Z",
     "start_time": "2024-04-08T02:53:23.102272Z"
    }
   },
   "source": [
    "y_pred = clf.predict(vec_test)\n",
    "y_pred_proba = clf.predict_proba(vec_test)\n",
    "print(y_pred[:10])"
   ],
   "outputs": [
    {
     "name": "stdout",
     "output_type": "stream",
     "text": [
      "['社會' '要聞' '社會' '全球' '財經' '財經' '要聞' '社會' '要聞' '要聞']\n"
     ]
    }
   ],
   "execution_count": 132
  },
  {
   "cell_type": "code",
   "metadata": {
    "ExecuteTime": {
     "end_time": "2024-04-08T02:53:23.889822Z",
     "start_time": "2024-04-08T02:53:23.885491Z"
    }
   },
   "source": [
    "print(y_pred_proba.shape)\n",
    "y_pred_proba[0,:]"
   ],
   "outputs": [
    {
     "name": "stdout",
     "output_type": "stream",
     "text": [
      "(2844, 4)\n"
     ]
    },
    {
     "data": {
      "text/plain": [
       "array([2.22598294e-05, 9.99975857e-01, 1.20642477e-06, 6.76256361e-07])"
      ]
     },
     "execution_count": 133,
     "metadata": {},
     "output_type": "execute_result"
    }
   ],
   "execution_count": 133
  },
  {
   "cell_type": "code",
   "metadata": {
    "ExecuteTime": {
     "end_time": "2024-04-08T02:53:24.921741Z",
     "start_time": "2024-04-08T02:53:24.871953Z"
    }
   },
   "source": [
    "## Accuracy, Precision, Recall, F1-score\n",
    "print(classification_report(y_test, y_pred))"
   ],
   "outputs": [
    {
     "name": "stdout",
     "output_type": "stream",
     "text": [
      "              precision    recall  f1-score   support\n",
      "\n",
      "          全球       0.94      0.95      0.94       531\n",
      "          社會       0.97      0.97      0.97       329\n",
      "          要聞       0.99      0.99      0.99      1065\n",
      "          財經       0.99      0.98      0.99       919\n",
      "\n",
      "    accuracy                           0.98      2844\n",
      "   macro avg       0.97      0.97      0.97      2844\n",
      "weighted avg       0.98      0.98      0.98      2844\n",
      "\n"
     ]
    }
   ],
   "execution_count": 134
  },
  {
   "cell_type": "code",
   "metadata": {
    "ExecuteTime": {
     "end_time": "2024-04-08T02:53:26.119279Z",
     "start_time": "2024-04-08T02:53:26.109443Z"
    }
   },
   "source": [
    "classes = clf.classes_\n",
    "cm = confusion_matrix(y_test, y_pred)\n",
    "cm"
   ],
   "outputs": [
    {
     "data": {
      "text/plain": [
       "array([[ 505,    8,    6,   12],\n",
       "       [   9,  318,    2,    0],\n",
       "       [  12,    2, 1051,    0],\n",
       "       [  13,    1,    0,  905]], dtype=int64)"
      ]
     },
     "execution_count": 135,
     "metadata": {},
     "output_type": "execute_result"
    }
   ],
   "execution_count": 135
  },
  {
   "cell_type": "code",
   "metadata": {
    "ExecuteTime": {
     "end_time": "2024-04-08T02:53:27.675560Z",
     "start_time": "2024-04-08T02:53:27.553101Z"
    }
   },
   "source": [
    "## Plot confusion matrix\n",
    "fig, ax = plt.subplots()\n",
    "sns.heatmap(cm, annot=True, fmt=\"d\", ax=ax, cmap=plt.cm.Blues, cbar=False)\n",
    "ax.set(\n",
    "    xlabel=\"Pred\",\n",
    "    ylabel=\"True\",\n",
    "    xticklabels=classes,\n",
    "    yticklabels=classes,\n",
    "    title=\"Confusion matrix\",\n",
    ")\n",
    "plt.yticks(rotation=0)"
   ],
   "outputs": [
    {
     "data": {
      "text/plain": [
       "(array([0.5, 1.5, 2.5, 3.5]),\n",
       " [Text(0, 0.5, '全球'),\n",
       "  Text(0, 1.5, '社會'),\n",
       "  Text(0, 2.5, '要聞'),\n",
       "  Text(0, 3.5, '財經')])"
      ]
     },
     "execution_count": 136,
     "metadata": {},
     "output_type": "execute_result"
    },
    {
     "data": {
      "text/plain": [
       "<Figure size 640x480 with 1 Axes>"
      ],
      "image/png": "[encoded data removed]"
     },
     "metadata": {},
     "output_type": "display_data"
    }
   ],
   "execution_count": 136
  },
  {
   "attachments": {},
   "cell_type": "markdown",
   "metadata": {},
   "source": "### 3.4 tfidf"
  },
  {
   "attachments": {},
   "cell_type": "markdown",
   "metadata": {},
   "source": "改試試看使用 tf-idf 的 DTM 來代表文章，訓練分類模型的效果"
  },
  {
   "cell_type": "code",
   "metadata": {
    "ExecuteTime": {
     "end_time": "2024-04-08T02:53:34.417192Z",
     "start_time": "2024-04-08T02:53:32.904590Z"
    }
   },
   "source": [
    "vectorizer = TfidfVectorizer(max_features=1000)\n",
    "vec_train = vectorizer.fit_transform(X_train)\n",
    "vec_test = vectorizer.transform(X_test)\n",
    "vec_train.toarray()[0,:]"
   ],
   "outputs": [
    {
     "data": {
      "text/plain": [
       "array([0.        , 0.        , 0.        , 0.        , 0.        ,\n",
       "       0.        , 0.        , 0.        , 0.        , 0.        ,\n",
       "       0.        , 0.        , 0.        , 0.        , 0.        ,\n",
       "       0.        , 0.        , 0.        , 0.        , 0.        ,\n",
       "       0.        , 0.        , 0.        , 0.        , 0.        ,\n",
       "       0.03893692, 0.        , 0.        , 0.08473503, 0.        ,\n",
       "       0.        , 0.        , 0.        , 0.        , 0.        ,\n",
       "       0.        , 0.        , 0.        , 0.        , 0.        ,\n",
       "       0.        , 0.        , 0.        , 0.        , 0.        ,\n",
       "       0.        , 0.        , 0.        , 0.        , 0.        ,\n",
       "       0.        , 0.        , 0.        , 0.        , 0.        ,\n",
       "       0.04536111, 0.        , 0.        , 0.        , 0.        ,\n",
       "       0.        , 0.        , 0.        , 0.        , 0.        ,\n",
       "       0.        , 0.        , 0.        , 0.        , 0.        ,\n",
       "       0.        , 0.        , 0.        , 0.        , 0.        ,\n",
       "       0.        , 0.        , 0.        , 0.        , 0.        ,\n",
       "       0.        , 0.        , 0.        , 0.        , 0.        ,\n",
       "       0.        , 0.        , 0.        , 0.        , 0.        ,\n",
       "       0.        , 0.        , 0.        , 0.        , 0.        ,\n",
       "       0.        , 0.        , 0.        , 0.        , 0.        ,\n",
       "       0.        , 0.        , 0.        , 0.        , 0.        ,\n",
       "       0.        , 0.        , 0.        , 0.        , 0.        ,\n",
       "       0.08793988, 0.        , 0.        , 0.        , 0.        ,\n",
       "       0.        , 0.        , 0.        , 0.        , 0.        ,\n",
       "       0.        , 0.        , 0.        , 0.        , 0.        ,\n",
       "       0.        , 0.        , 0.        , 0.        , 0.        ,\n",
       "       0.        , 0.        , 0.        , 0.        , 0.        ,\n",
       "       0.        , 0.        , 0.        , 0.        , 0.        ,\n",
       "       0.        , 0.        , 0.        , 0.        , 0.        ,\n",
       "       0.        , 0.        , 0.        , 0.        , 0.        ,\n",
       "       0.        , 0.        , 0.        , 0.        , 0.        ,\n",
       "       0.        , 0.        , 0.        , 0.05401309, 0.        ,\n",
       "       0.        , 0.        , 0.        , 0.        , 0.24271943,\n",
       "       0.        , 0.        , 0.        , 0.        , 0.        ,\n",
       "       0.        , 0.        , 0.        , 0.        , 0.        ,\n",
       "       0.        , 0.        , 0.        , 0.        , 0.        ,\n",
       "       0.        , 0.        , 0.        , 0.        , 0.        ,\n",
       "       0.        , 0.        , 0.        , 0.        , 0.        ,\n",
       "       0.        , 0.        , 0.        , 0.        , 0.        ,\n",
       "       0.        , 0.        , 0.        , 0.        , 0.        ,\n",
       "       0.        , 0.        , 0.        , 0.        , 0.        ,\n",
       "       0.        , 0.        , 0.        , 0.        , 0.        ,\n",
       "       0.        , 0.        , 0.        , 0.        , 0.        ,\n",
       "       0.        , 0.        , 0.        , 0.        , 0.        ,\n",
       "       0.        , 0.        , 0.        , 0.        , 0.        ,\n",
       "       0.        , 0.        , 0.        , 0.        , 0.        ,\n",
       "       0.        , 0.        , 0.        , 0.        , 0.        ,\n",
       "       0.        , 0.04293025, 0.        , 0.        , 0.        ,\n",
       "       0.        , 0.        , 0.        , 0.        , 0.        ,\n",
       "       0.        , 0.        , 0.        , 0.        , 0.        ,\n",
       "       0.        , 0.        , 0.        , 0.07192365, 0.        ,\n",
       "       0.        , 0.        , 0.        , 0.        , 0.        ,\n",
       "       0.        , 0.        , 0.        , 0.11900537, 0.        ,\n",
       "       0.06235413, 0.        , 0.        , 0.        , 0.        ,\n",
       "       0.        , 0.        , 0.        , 0.        , 0.        ,\n",
       "       0.        , 0.        , 0.        , 0.        , 0.        ,\n",
       "       0.        , 0.        , 0.09743944, 0.        , 0.        ,\n",
       "       0.        , 0.        , 0.        , 0.        , 0.        ,\n",
       "       0.        , 0.        , 0.        , 0.        , 0.        ,\n",
       "       0.        , 0.        , 0.        , 0.        , 0.        ,\n",
       "       0.        , 0.        , 0.        , 0.        , 0.        ,\n",
       "       0.        , 0.        , 0.        , 0.03985936, 0.        ,\n",
       "       0.        , 0.        , 0.        , 0.        , 0.        ,\n",
       "       0.        , 0.        , 0.        , 0.        , 0.        ,\n",
       "       0.        , 0.        , 0.        , 0.        , 0.        ,\n",
       "       0.        , 0.        , 0.        , 0.        , 0.        ,\n",
       "       0.        , 0.        , 0.        , 0.        , 0.        ,\n",
       "       0.        , 0.        , 0.        , 0.        , 0.        ,\n",
       "       0.        , 0.        , 0.        , 0.        , 0.        ,\n",
       "       0.        , 0.        , 0.        , 0.        , 0.        ,\n",
       "       0.        , 0.        , 0.        , 0.04436595, 0.        ,\n",
       "       0.        , 0.        , 0.        , 0.        , 0.        ,\n",
       "       0.        , 0.        , 0.        , 0.        , 0.        ,\n",
       "       0.        , 0.        , 0.        , 0.        , 0.        ,\n",
       "       0.        , 0.        , 0.        , 0.        , 0.        ,\n",
       "       0.04536111, 0.        , 0.        , 0.        , 0.        ,\n",
       "       0.        , 0.        , 0.        , 0.        , 0.        ,\n",
       "       0.        , 0.04100113, 0.        , 0.        , 0.        ,\n",
       "       0.        , 0.        , 0.        , 0.        , 0.        ,\n",
       "       0.        , 0.        , 0.        , 0.        , 0.        ,\n",
       "       0.        , 0.        , 0.        , 0.        , 0.        ,\n",
       "       0.        , 0.        , 0.        , 0.        , 0.        ,\n",
       "       0.        , 0.        , 0.        , 0.        , 0.        ,\n",
       "       0.        , 0.        , 0.        , 0.        , 0.        ,\n",
       "       0.        , 0.        , 0.        , 0.        , 0.        ,\n",
       "       0.        , 0.        , 0.        , 0.        , 0.        ,\n",
       "       0.        , 0.        , 0.        , 0.        , 0.0343737 ,\n",
       "       0.        , 0.        , 0.        , 0.        , 0.        ,\n",
       "       0.        , 0.        , 0.        , 0.        , 0.        ,\n",
       "       0.        , 0.        , 0.        , 0.        , 0.        ,\n",
       "       0.        , 0.        , 0.        , 0.        , 0.        ,\n",
       "       0.        , 0.        , 0.        , 0.        , 0.        ,\n",
       "       0.        , 0.        , 0.        , 0.        , 0.        ,\n",
       "       0.        , 0.        , 0.        , 0.        , 0.        ,\n",
       "       0.        , 0.        , 0.        , 0.        , 0.        ,\n",
       "       0.        , 0.        , 0.        , 0.        , 0.        ,\n",
       "       0.        , 0.        , 0.        , 0.        , 0.        ,\n",
       "       0.        , 0.        , 0.        , 0.        , 0.        ,\n",
       "       0.        , 0.        , 0.        , 0.        , 0.03119861,\n",
       "       0.        , 0.        , 0.        , 0.        , 0.        ,\n",
       "       0.        , 0.        , 0.        , 0.        , 0.        ,\n",
       "       0.        , 0.        , 0.31894435, 0.        , 0.        ,\n",
       "       0.        , 0.        , 0.        , 0.        , 0.        ,\n",
       "       0.        , 0.        , 0.        , 0.        , 0.        ,\n",
       "       0.        , 0.        , 0.        , 0.        , 0.        ,\n",
       "       0.        , 0.        , 0.        , 0.        , 0.        ,\n",
       "       0.        , 0.        , 0.        , 0.        , 0.        ,\n",
       "       0.        , 0.        , 0.        , 0.        , 0.        ,\n",
       "       0.        , 0.        , 0.        , 0.        , 0.        ,\n",
       "       0.        , 0.        , 0.        , 0.        , 0.12656468,\n",
       "       0.        , 0.        , 0.        , 0.        , 0.        ,\n",
       "       0.04532109, 0.        , 0.        , 0.        , 0.        ,\n",
       "       0.        , 0.        , 0.        , 0.        , 0.        ,\n",
       "       0.        , 0.        , 0.        , 0.        , 0.        ,\n",
       "       0.        , 0.        , 0.        , 0.        , 0.        ,\n",
       "       0.        , 0.        , 0.        , 0.        , 0.        ,\n",
       "       0.        , 0.        , 0.        , 0.        , 0.        ,\n",
       "       0.        , 0.        , 0.        , 0.        , 0.        ,\n",
       "       0.        , 0.        , 0.        , 0.        , 0.        ,\n",
       "       0.        , 0.        , 0.        , 0.        , 0.        ,\n",
       "       0.        , 0.        , 0.        , 0.        , 0.        ,\n",
       "       0.        , 0.        , 0.        , 0.        , 0.        ,\n",
       "       0.        , 0.        , 0.        , 0.        , 0.        ,\n",
       "       0.        , 0.        , 0.        , 0.        , 0.        ,\n",
       "       0.        , 0.        , 0.03534252, 0.        , 0.67682193,\n",
       "       0.        , 0.        , 0.        , 0.        , 0.        ,\n",
       "       0.        , 0.        , 0.        , 0.        , 0.        ,\n",
       "       0.        , 0.        , 0.        , 0.        , 0.        ,\n",
       "       0.        , 0.        , 0.        , 0.        , 0.        ,\n",
       "       0.        , 0.        , 0.        , 0.        , 0.        ,\n",
       "       0.        , 0.        , 0.        , 0.        , 0.        ,\n",
       "       0.        , 0.        , 0.        , 0.        , 0.        ,\n",
       "       0.        , 0.        , 0.        , 0.        , 0.        ,\n",
       "       0.        , 0.        , 0.        , 0.        , 0.        ,\n",
       "       0.        , 0.        , 0.        , 0.        , 0.        ,\n",
       "       0.        , 0.        , 0.        , 0.        , 0.04332133,\n",
       "       0.        , 0.        , 0.        , 0.        , 0.        ,\n",
       "       0.        , 0.        , 0.        , 0.        , 0.        ,\n",
       "       0.04032679, 0.03486237, 0.        , 0.        , 0.        ,\n",
       "       0.        , 0.        , 0.        , 0.        , 0.        ,\n",
       "       0.        , 0.        , 0.        , 0.        , 0.        ,\n",
       "       0.        , 0.        , 0.        , 0.        , 0.03594506,\n",
       "       0.        , 0.        , 0.        , 0.        , 0.        ,\n",
       "       0.        , 0.        , 0.        , 0.        , 0.        ,\n",
       "       0.        , 0.        , 0.        , 0.        , 0.        ,\n",
       "       0.03344485, 0.        , 0.        , 0.        , 0.        ,\n",
       "       0.        , 0.        , 0.        , 0.        , 0.        ,\n",
       "       0.        , 0.        , 0.        , 0.        , 0.        ,\n",
       "       0.        , 0.        , 0.        , 0.        , 0.        ,\n",
       "       0.        , 0.        , 0.        , 0.        , 0.        ,\n",
       "       0.        , 0.        , 0.        , 0.        , 0.        ,\n",
       "       0.        , 0.        , 0.        , 0.        , 0.        ,\n",
       "       0.        , 0.        , 0.        , 0.        , 0.        ,\n",
       "       0.        , 0.        , 0.        , 0.        , 0.        ,\n",
       "       0.        , 0.        , 0.        , 0.        , 0.        ,\n",
       "       0.        , 0.        , 0.        , 0.        , 0.        ,\n",
       "       0.        , 0.        , 0.        , 0.        , 0.        ,\n",
       "       0.        , 0.        , 0.        , 0.        , 0.        ,\n",
       "       0.        , 0.        , 0.        , 0.        , 0.        ,\n",
       "       0.        , 0.        , 0.        , 0.        , 0.        ,\n",
       "       0.        , 0.        , 0.09372914, 0.        , 0.        ,\n",
       "       0.        , 0.        , 0.        , 0.        , 0.        ,\n",
       "       0.        , 0.        , 0.        , 0.02564794, 0.        ,\n",
       "       0.        , 0.        , 0.        , 0.        , 0.        ,\n",
       "       0.        , 0.        , 0.        , 0.        , 0.        ,\n",
       "       0.        , 0.        , 0.        , 0.        , 0.        ,\n",
       "       0.        , 0.        , 0.        , 0.        , 0.        ,\n",
       "       0.        , 0.        , 0.        , 0.        , 0.        ,\n",
       "       0.        , 0.        , 0.        , 0.        , 0.        ,\n",
       "       0.        , 0.        , 0.        , 0.        , 0.        ,\n",
       "       0.        , 0.        , 0.        , 0.        , 0.        ,\n",
       "       0.        , 0.        , 0.        , 0.        , 0.        ,\n",
       "       0.        , 0.        , 0.        , 0.        , 0.        ,\n",
       "       0.        , 0.        , 0.        , 0.        , 0.        ,\n",
       "       0.        , 0.        , 0.        , 0.        , 0.        ,\n",
       "       0.        , 0.        , 0.        , 0.        , 0.        ,\n",
       "       0.        , 0.        , 0.        , 0.        , 0.        ,\n",
       "       0.        , 0.        , 0.        , 0.        , 0.        ,\n",
       "       0.        , 0.        , 0.        , 0.        , 0.        ,\n",
       "       0.        , 0.        , 0.        , 0.        , 0.        ,\n",
       "       0.45369218, 0.        , 0.        , 0.        , 0.        ,\n",
       "       0.        , 0.        , 0.        , 0.        , 0.        ,\n",
       "       0.        , 0.        , 0.        , 0.        , 0.        ,\n",
       "       0.        , 0.        , 0.        , 0.        , 0.        ,\n",
       "       0.        , 0.        , 0.        , 0.        , 0.        ,\n",
       "       0.        , 0.        , 0.        , 0.        , 0.        ,\n",
       "       0.        , 0.        , 0.        , 0.        , 0.        ,\n",
       "       0.        , 0.        , 0.        , 0.        , 0.        ,\n",
       "       0.        , 0.        , 0.        , 0.        , 0.        ,\n",
       "       0.        , 0.        , 0.0309956 , 0.        , 0.        ,\n",
       "       0.        , 0.        , 0.        , 0.        , 0.        ,\n",
       "       0.        , 0.        , 0.        , 0.        , 0.        ,\n",
       "       0.        , 0.        , 0.        , 0.        , 0.        ,\n",
       "       0.        , 0.        , 0.0310593 , 0.        , 0.        ,\n",
       "       0.        , 0.        , 0.        , 0.03835608, 0.11844261,\n",
       "       0.        , 0.        , 0.        , 0.        , 0.21083136,\n",
       "       0.        , 0.09795365, 0.        , 0.0340598 , 0.        ,\n",
       "       0.        , 0.        , 0.        , 0.03869649, 0.        ,\n",
       "       0.        , 0.        , 0.        , 0.        , 0.        ,\n",
       "       0.        , 0.        , 0.        , 0.        , 0.        ])"
      ]
     },
     "execution_count": 137,
     "metadata": {},
     "output_type": "execute_result"
    }
   ],
   "execution_count": 137
  },
  {
   "cell_type": "code",
   "metadata": {
    "ExecuteTime": {
     "end_time": "2024-04-08T02:53:35.339413Z",
     "start_time": "2024-04-08T02:53:35.142848Z"
    }
   },
   "source": [
    "clf.fit(vec_train, y_train)\n",
    "y_pred = clf.predict(vec_test)\n",
    "y_pred_proba = clf.predict_proba(vec_test)\n",
    "\n",
    "# results\n",
    "## Accuracy, Precision, Recall, F1-score\n",
    "print(classification_report(y_test, y_pred))"
   ],
   "outputs": [
    {
     "name": "stdout",
     "output_type": "stream",
     "text": [
      "              precision    recall  f1-score   support\n",
      "\n",
      "          全球       0.95      0.95      0.95       531\n",
      "          社會       0.96      0.96      0.96       329\n",
      "          要聞       0.99      0.99      0.99      1065\n",
      "          財經       0.98      0.98      0.98       919\n",
      "\n",
      "    accuracy                           0.98      2844\n",
      "   macro avg       0.97      0.97      0.97      2844\n",
      "weighted avg       0.98      0.98      0.98      2844\n",
      "\n"
     ]
    }
   ],
   "execution_count": 138
  },
  {
   "metadata": {
    "ExecuteTime": {
     "end_time": "2024-04-08T02:53:35.614020Z",
     "start_time": "2024-04-08T02:53:35.603308Z"
    }
   },
   "cell_type": "code",
   "source": [
    "classes = clf.classes_\n",
    "cm = confusion_matrix(y_test, y_pred)\n",
    "cm"
   ],
   "outputs": [
    {
     "data": {
      "text/plain": [
       "array([[ 502,    9,    6,   14],\n",
       "       [   4,  315,    6,    4],\n",
       "       [  10,    2, 1052,    1],\n",
       "       [  13,    1,    0,  905]], dtype=int64)"
      ]
     },
     "execution_count": 139,
     "metadata": {},
     "output_type": "execute_result"
    }
   ],
   "execution_count": 139
  },
  {
   "metadata": {
    "ExecuteTime": {
     "end_time": "2024-04-08T02:53:36.144939Z",
     "start_time": "2024-04-08T02:53:36.009087Z"
    }
   },
   "cell_type": "code",
   "source": [
    "## Plot confusion matrix\n",
    "fig, ax = plt.subplots()\n",
    "sns.heatmap(cm, annot=True, fmt=\"d\", ax=ax, cmap=plt.cm.Blues, cbar=False)\n",
    "ax.set(\n",
    "    xlabel=\"Pred\",\n",
    "    ylabel=\"True\",\n",
    "    xticklabels=classes,\n",
    "    yticklabels=classes,\n",
    "    title=\"Confusion matrix\",\n",
    ")\n",
    "plt.yticks(rotation=0)"
   ],
   "outputs": [
    {
     "data": {
      "text/plain": [
       "(array([0.5, 1.5, 2.5, 3.5]),\n",
       " [Text(0, 0.5, '全球'),\n",
       "  Text(0, 1.5, '社會'),\n",
       "  Text(0, 2.5, '要聞'),\n",
       "  Text(0, 3.5, '財經')])"
      ]
     },
     "execution_count": 140,
     "metadata": {},
     "output_type": "execute_result"
    },
    {
     "data": {
      "text/plain": [
       "<Figure size 640x480 with 1 Axes>"
      ],
      "image/png": "[encoded data removed]"
     },
     "metadata": {},
     "output_type": "display_data"
    }
   ],
   "execution_count": 140
  },
  {
   "attachments": {},
   "cell_type": "markdown",
   "metadata": {},
   "source": [
    "效果一樣也是不錯，可能因為四個新聞版別本來就有很大的差異，用字遣詞會不同。 \n",
    "故可以有相似成效。"
   ]
  },
  {
   "attachments": {},
   "cell_type": "markdown",
   "metadata": {},
   "source": "### 3.5 CV  "
  },
  {
   "attachments": {},
   "cell_type": "markdown",
   "metadata": {},
   "source": "接著介紹 cross-validation。CV 在機器學習中，是一個很常用來讓模型評估能夠得到更穩定的數值的手法。 "
  },
  {
   "attachments": {},
   "cell_type": "markdown",
   "metadata": {},
   "source": "* figure1:  "
  },
  {
   "attachments": {},
   "cell_type": "markdown",
   "metadata": {},
   "source": "![](images/grid_search_workflow.png) "
  },
  {
   "attachments": {},
   "cell_type": "markdown",
   "metadata": {},
   "source": [
    "* figure 2:  "
   ]
  },
  {
   "attachments": {},
   "cell_type": "markdown",
   "metadata": {},
   "source": [
    "![](https://scikit-learn.org/stable/_images/grid_search_cross_validation.png)"
   ]
  },
  {
   "attachments": {},
   "cell_type": "markdown",
   "metadata": {},
   "source": [
    "source: <https://scikit-learn.org/stable/modules/cross_validation.html#cross-validation-and-model-selection>"
   ]
  },
  {
   "attachments": {},
   "cell_type": "markdown",
   "metadata": {},
   "source": [
    "cross-validation 會自動切成 k 組 train-test dataset。  \n",
    "`cross_validate()` 會回傳經過 cross-validation 的模型評估結果。"
   ]
  },
  {
   "cell_type": "code",
   "metadata": {
    "ExecuteTime": {
     "end_time": "2024-04-08T02:53:43.543302Z",
     "start_time": "2024-04-08T02:53:41.922407Z"
    }
   },
   "source": [
    "clf = LogisticRegression()\n",
    "vec_train = TfidfVectorizer(max_features=1000).fit_transform(X_train)\n",
    "\n",
    "scores = cross_validate(clf, vec_train, y_train, cv=5, scoring=(\"f1_macro\", \"recall_macro\", \"precision_macro\"), return_estimator=True)\n",
    "pprint(scores)"
   ],
   "outputs": [
    {
     "name": "stdout",
     "output_type": "stream",
     "text": [
      "{'estimator': [LogisticRegression(),\n",
      "               LogisticRegression(),\n",
      "               LogisticRegression(),\n",
      "               LogisticRegression(),\n",
      "               LogisticRegression()],\n",
      " 'fit_time': array([0.10000348, 0.07999945, 0.08499789, 0.08599401, 0.09706163]),\n",
      " 'score_time': array([0.01500034, 0.01300216, 0.01299834, 0.01399684, 0.01294971]),\n",
      " 'test_f1_macro': array([0.96350265, 0.95623599, 0.96323367, 0.95730636, 0.96322803]),\n",
      " 'test_precision_macro': array([0.96653998, 0.95659086, 0.96293366, 0.95995027, 0.96539895]),\n",
      " 'test_recall_macro': array([0.96077013, 0.95599989, 0.96357226, 0.95490711, 0.961133  ])}\n"
     ]
    }
   ],
   "execution_count": 141
  },
  {
   "cell_type": "markdown",
   "metadata": {},
   "source": "`cross_val_predict()` 則會回傳 cv 預測的類別。"
  },
  {
   "cell_type": "code",
   "metadata": {
    "ExecuteTime": {
     "end_time": "2024-04-08T02:53:45.714160Z",
     "start_time": "2024-04-08T02:53:45.039334Z"
    }
   },
   "source": [
    "y_pred = cross_val_predict(clf, vec_train, y_train, cv=5)\n",
    "print(classification_report(y_train, y_pred))"
   ],
   "outputs": [
    {
     "name": "stdout",
     "output_type": "stream",
     "text": [
      "              precision    recall  f1-score   support\n",
      "\n",
      "          全球       0.94      0.94      0.94      1264\n",
      "          社會       0.96      0.94      0.95       767\n",
      "          要聞       0.99      0.98      0.99      2485\n",
      "          財經       0.96      0.98      0.97      2119\n",
      "\n",
      "    accuracy                           0.97      6635\n",
      "   macro avg       0.96      0.96      0.96      6635\n",
      "weighted avg       0.97      0.97      0.97      6635\n",
      "\n"
     ]
    }
   ],
   "execution_count": 142
  },
  {
   "attachments": {},
   "cell_type": "markdown",
   "metadata": {},
   "source": "## 4. 比較不同模型效果"
  },
  {
   "cell_type": "code",
   "metadata": {
    "scrolled": true,
    "ExecuteTime": {
     "end_time": "2024-04-08T02:53:47.336540Z",
     "start_time": "2024-04-08T02:53:47.330682Z"
    }
   },
   "source": [
    "# 定義模型訓練組合\n",
    "## pipeline: 資料處理 vectorizer + 分類器 clf\n",
    "## 由於 cross-validation 會自動將資料分成 train/test，因此 input 只要給 X, y 即可\n",
    "\n",
    "def train_cv(vectorizer, clf, X, y):\n",
    "\n",
    "    ## train classifier\n",
    "    vec_X = vectorizer.fit_transform(X).toarray()\n",
    "    \n",
    "    ## get cv results\n",
    "    cv_results = cross_validate(clf, vec_X, y, cv=5, return_estimator=True)\n",
    "    y_pred = cross_val_predict(clf, vec_X, y, cv=5)\n",
    "    y_pred_proba = cross_val_predict(clf, vec_X, y, cv=5, method=\"predict_proba\")\n",
    "    \n",
    "    ## Accuracy, Precision, Recall, F1-score\n",
    "    cls_report = classification_report(y, y_pred, output_dict=True)\n",
    "    print(classification_report(y, y_pred))\n",
    "\n",
    "    classes = cv_results['estimator'][0].classes_\n",
    "    \n",
    "    ## Plot confusion matrix\n",
    "    cm = confusion_matrix(y, y_pred)\n",
    "    fig, ax = plt.subplots()\n",
    "    sns.heatmap(cm, annot=True, fmt=\"d\", ax=ax, cmap=plt.cm.Blues, cbar=False)\n",
    "    ax.set(\n",
    "        xlabel=\"Pred\",\n",
    "        ylabel=\"True\",\n",
    "        xticklabels=classes,\n",
    "        yticklabels=classes,\n",
    "        title= str(clf) + \"Confusion matrix\",\n",
    "    )\n",
    "    plt.yticks(rotation=0)\n",
    "\n",
    "    clf.fit(vec_X, y)\n",
    "    # return the model object\n",
    "    return cls_report"
   ],
   "outputs": [],
   "execution_count": 143
  },
  {
   "cell_type": "code",
   "metadata": {
    "ExecuteTime": {
     "end_time": "2024-04-08T02:53:58.981903Z",
     "start_time": "2024-04-08T02:53:50.393077Z"
    }
   },
   "source": [
    "vectorizer = TfidfVectorizer(max_features=1000)\n",
    "clf = LogisticRegression()\n",
    "result = train_cv(vectorizer, clf, X_train, y_train)"
   ],
   "outputs": [
    {
     "name": "stdout",
     "output_type": "stream",
     "text": [
      "              precision    recall  f1-score   support\n",
      "\n",
      "          全球       0.94      0.94      0.94      1264\n",
      "          社會       0.96      0.94      0.95       767\n",
      "          要聞       0.99      0.98      0.99      2485\n",
      "          財經       0.96      0.98      0.97      2119\n",
      "\n",
      "    accuracy                           0.97      6635\n",
      "   macro avg       0.96      0.96      0.96      6635\n",
      "weighted avg       0.97      0.97      0.97      6635\n",
      "\n"
     ]
    },
    {
     "data": {
      "text/plain": [
       "<Figure size 640x480 with 1 Axes>"
      ],
      "image/png": "[encoded data removed]"
     },
     "metadata": {},
     "output_type": "display_data"
    }
   ],
   "execution_count": 144
  },
  {
   "cell_type": "code",
   "metadata": {
    "ExecuteTime": {
     "end_time": "2024-04-08T03:00:51.849710Z",
     "start_time": "2024-04-08T02:54:02.476767Z"
    }
   },
   "source": [
    "# 準備訓練資料\n",
    "X = data[\"words\"]\n",
    "y = data[\"artCatagory\"]\n",
    "\n",
    "# 把整個資料集七三切\n",
    "X_train, X_test, y_train, y_test = train_test_split(\n",
    "    X, y, test_size=0.3, random_state=777\n",
    ")\n",
    "# 定義模型訓練組合\n",
    "model_set = dict()\n",
    "model_set['clf_logistic'] = LogisticRegression()\n",
    "model_set['clf_dtree'] = DecisionTreeClassifier()\n",
    "model_set['clf_svm'] = svm.SVC(probability=True) # 要使用SVM的predict_proba的話，必須在叫出SVC的時候就將probability設為True\n",
    "model_set['clf_rf'] = RandomForestClassifier()\n",
    "# 定義 vectorizer\n",
    "# vectorizer = CountVectorizer(max_features=1000)\n",
    "vectorizer = TfidfVectorizer(max_features=1000)\n",
    "# 存結果\n",
    "result_set = dict()\n",
    "\n",
    "for k, model in model_set.items():\n",
    "    print(\"=\"*100)\n",
    "    print(f\"now training: {k}\")\n",
    "    result_set[k] = train_cv(vectorizer, model, X_train, y_train)\n",
    "    print(\"=\"*100)"
   ],
   "outputs": [
    {
     "name": "stdout",
     "output_type": "stream",
     "text": [
      "====================================================================================================\n",
      "now training: clf_logistic\n",
      "              precision    recall  f1-score   support\n",
      "\n",
      "          全球       0.94      0.94      0.94      1264\n",
      "          社會       0.96      0.94      0.95       767\n",
      "          要聞       0.99      0.98      0.99      2485\n",
      "          財經       0.96      0.98      0.97      2119\n",
      "\n",
      "    accuracy                           0.97      6635\n",
      "   macro avg       0.96      0.96      0.96      6635\n",
      "weighted avg       0.97      0.97      0.97      6635\n",
      "\n",
      "====================================================================================================\n",
      "====================================================================================================\n",
      "now training: clf_dtree\n",
      "              precision    recall  f1-score   support\n",
      "\n",
      "          全球       0.83      0.85      0.84      1264\n",
      "          社會       0.85      0.84      0.85       767\n",
      "          要聞       0.98      0.98      0.98      2485\n",
      "          財經       0.94      0.93      0.94      2119\n",
      "\n",
      "    accuracy                           0.92      6635\n",
      "   macro avg       0.90      0.90      0.90      6635\n",
      "weighted avg       0.92      0.92      0.92      6635\n",
      "\n",
      "====================================================================================================\n",
      "====================================================================================================\n",
      "now training: clf_svm\n",
      "              precision    recall  f1-score   support\n",
      "\n",
      "          全球       0.94      0.95      0.95      1264\n",
      "          社會       0.96      0.94      0.95       767\n",
      "          要聞       0.99      0.99      0.99      2485\n",
      "          財經       0.98      0.98      0.98      2119\n",
      "\n",
      "    accuracy                           0.97      6635\n",
      "   macro avg       0.97      0.97      0.97      6635\n",
      "weighted avg       0.97      0.97      0.97      6635\n",
      "\n",
      "====================================================================================================\n",
      "====================================================================================================\n",
      "now training: clf_rf\n",
      "              precision    recall  f1-score   support\n",
      "\n",
      "          全球       0.93      0.91      0.92      1264\n",
      "          社會       0.95      0.94      0.94       767\n",
      "          要聞       0.99      0.99      0.99      2485\n",
      "          財經       0.96      0.99      0.97      2119\n",
      "\n",
      "    accuracy                           0.97      6635\n",
      "   macro avg       0.96      0.95      0.96      6635\n",
      "weighted avg       0.97      0.97      0.97      6635\n",
      "\n",
      "====================================================================================================\n"
     ]
    },
    {
     "data": {
      "text/plain": [
       "<Figure size 640x480 with 1 Axes>"
      ],
      "image/png": "[encoded data removed]"
     },
     "metadata": {},
     "output_type": "display_data"
    },
    {
     "data": {
      "text/plain": [
       "<Figure size 640x480 with 1 Axes>"
      ],
      "image/png": "[encoded data removed]"
     },
     "metadata": {},
     "output_type": "display_data"
    },
    {
     "data": {
      "text/plain": [
       "<Figure size 640x480 with 1 Axes>"
      ],
      "image/png": "[encoded data removed]"
     },
     "metadata": {},
     "output_type": "display_data"
    },
    {
     "data": {
      "text/plain": [
       "<Figure size 640x480 with 1 Axes>"
      ],
      "image/png": "[encoded data removed]"
     },
     "metadata": {},
     "output_type": "display_data"
    }
   ],
   "execution_count": 145
  },
  {
   "cell_type": "code",
   "metadata": {
    "ExecuteTime": {
     "end_time": "2024-04-08T03:01:00.041202Z",
     "start_time": "2024-04-08T03:01:00.035870Z"
    }
   },
   "source": "result_set['clf_logistic']",
   "outputs": [
    {
     "data": {
      "text/plain": [
       "{'全球': {'precision': 0.9358669833729216,\n",
       "  'recall': 0.935126582278481,\n",
       "  'f1-score': 0.9354966363276612,\n",
       "  'support': 1264.0},\n",
       " '社會': {'precision': 0.9601063829787234,\n",
       "  'recall': 0.9413298565840938,\n",
       "  'f1-score': 0.9506254114549045,\n",
       "  'support': 767.0},\n",
       " '要聞': {'precision': 0.9882875605815832,\n",
       "  'recall': 0.9847082494969819,\n",
       "  'f1-score': 0.9864946583350132,\n",
       "  'support': 2485.0},\n",
       " '財經': {'precision': 0.9645522388059702,\n",
       "  'recall': 0.975932043416706,\n",
       "  'f1-score': 0.9702087731644382,\n",
       "  'support': 2119.0},\n",
       " 'accuracy': 0.9674453654860588,\n",
       " 'macro avg': {'precision': 0.9622032914347995,\n",
       "  'recall': 0.9592741829440656,\n",
       "  'f1-score': 0.9607063698205043,\n",
       "  'support': 6635.0},\n",
       " 'weighted avg': {'precision': 0.9674631868580467,\n",
       "  'recall': 0.9674453654860588,\n",
       "  'f1-score': 0.9674316586589341,\n",
       "  'support': 6635.0}}"
      ]
     },
     "execution_count": 146,
     "metadata": {},
     "output_type": "execute_result"
    }
   ],
   "execution_count": 146
  },
  {
   "cell_type": "code",
   "metadata": {
    "ExecuteTime": {
     "end_time": "2024-04-08T03:01:01.915729Z",
     "start_time": "2024-04-08T03:01:01.909380Z"
    }
   },
   "source": [
    "max = 0\n",
    "best_model_name = \"\"\n",
    "best_model_metric = \"f1-score\"\n",
    "\n",
    "## choose max f1-score model from result_set\n",
    "for k, v in result_set.items():\n",
    "    if v['weighted avg'][best_model_metric] > max:\n",
    "        max = v['weighted avg'][best_model_metric]\n",
    "        best_model_name = k\n",
    "print(f\"best model: {best_model_name}\")\n",
    "pprint(result_set[best_model_name])"
   ],
   "outputs": [
    {
     "name": "stdout",
     "output_type": "stream",
     "text": [
      "best model: clf_svm\n",
      "{'accuracy': 0.972871137905049,\n",
      " 'macro avg': {'f1-score': 0.965975839675439,\n",
      "               'precision': 0.9666193696212928,\n",
      "               'recall': 0.9653597265636197,\n",
      "               'support': 6635.0},\n",
      " 'weighted avg': {'f1-score': 0.9728747481058516,\n",
      "                  'precision': 0.9728937074646966,\n",
      "                  'recall': 0.972871137905049,\n",
      "                  'support': 6635.0},\n",
      " '全球': {'f1-score': 0.9475758770201025,\n",
      "        'precision': 0.9442262372348782,\n",
      "        'recall': 0.9509493670886076,\n",
      "        'support': 1264.0},\n",
      " '社會': {'f1-score': 0.9501312335958005,\n",
      "        'precision': 0.9564068692206077,\n",
      "        'recall': 0.9439374185136897,\n",
      "        'support': 767.0},\n",
      " '要聞': {'f1-score': 0.9895287958115183,\n",
      "        'precision': 0.9903264812575574,\n",
      "        'recall': 0.9887323943661972,\n",
      "        'support': 2485.0},\n",
      " '財經': {'f1-score': 0.9766674522743342,\n",
      "        'precision': 0.975517890772128,\n",
      "        'recall': 0.9778197262859839,\n",
      "        'support': 2119.0}}\n"
     ]
    }
   ],
   "execution_count": 147
  },
  {
   "cell_type": "code",
   "metadata": {
    "ExecuteTime": {
     "end_time": "2024-04-08T03:01:12.639237Z",
     "start_time": "2024-04-08T03:01:07.446332Z"
    }
   },
   "source": [
    "y_pred = model_set['clf_svm'].predict(vectorizer.transform(X_test).toarray())\n",
    "print(classification_report(y_test, y_pred))"
   ],
   "outputs": [
    {
     "name": "stdout",
     "output_type": "stream",
     "text": [
      "              precision    recall  f1-score   support\n",
      "\n",
      "          全球       0.96      0.97      0.96       531\n",
      "          社會       0.98      0.97      0.97       329\n",
      "          要聞       0.99      0.99      0.99      1065\n",
      "          財經       0.99      0.99      0.99       919\n",
      "\n",
      "    accuracy                           0.98      2844\n",
      "   macro avg       0.98      0.98      0.98      2844\n",
      "weighted avg       0.98      0.98      0.98      2844\n",
      "\n"
     ]
    }
   ],
   "execution_count": 148
  },
  {
   "cell_type": "code",
   "metadata": {
    "ExecuteTime": {
     "end_time": "2024-04-08T03:01:18.926306Z",
     "start_time": "2024-04-08T03:01:18.917357Z"
    }
   },
   "source": [
    "model_set['clf_svm'].predict(vectorizer.transform([\"菲律賓 大學 要求 帶防 作弊 憤怒 皮卡丘 同台 東森 新聞 菲律賓 一名 大學教授\"]).toarray())"
   ],
   "outputs": [
    {
     "data": {
      "text/plain": [
       "array(['全球'], dtype=object)"
      ]
     },
     "execution_count": 149,
     "metadata": {},
     "output_type": "execute_result"
    }
   ],
   "execution_count": 149
  },
  {
   "attachments": {},
   "cell_type": "markdown",
   "metadata": {},
   "source": [
    "* 最佳的 model 為 SVM，其中 Decision Tree 的表現較差外，其餘三個 model （Logistic、SVM、Random Forest）表現差不多。\n",
    "* 另外也可以嘗試用直接的詞頻表作為 `vectorizer`，比較看看相較 tfidf，是否效果更好。"
   ]
  },
  {
   "attachments": {},
   "cell_type": "markdown",
   "metadata": {},
   "source": [
    "## 5. 分析可解釋模型的結果"
   ]
  },
  {
   "attachments": {},
   "cell_type": "markdown",
   "metadata": {},
   "source": [
    "### 5.1 各字詞特徵的estimate係數\n",
    "對於線性的模型，可以藉由相關係數，查看資料特徵（詞）對於判斷分類的影響\n",
    "+ coefficient estimate 代表特徵每增加一單位（在此處會是該文章的某字詞頻 +1），y是1的發生機率比y是0的發生機率多幾倍（odds ratio 勝算比）\n",
    "+ 這裡舉logistic regression + cv tokenizer 為例"
   ]
  },
  {
   "cell_type": "code",
   "metadata": {
    "ExecuteTime": {
     "end_time": "2024-04-08T03:01:24.735279Z",
     "start_time": "2024-04-08T03:01:24.729399Z"
    }
   },
   "source": [
    "def plot_coef(logistic_reg_model, feature_names, top_n=10):\n",
    "    # 選出某個類別的前10大影響力字詞\n",
    "    log_odds = logistic_reg_model.coef_.T\n",
    "    coef_df = pd.DataFrame(\n",
    "        log_odds, \n",
    "        columns=logistic_reg_model.classes_, index=feature_names\n",
    "    )\n",
    "    for label in coef_df.columns:\n",
    "        select_words = (\n",
    "            coef_df[[label]]\n",
    "            .sort_values(by=label, ascending=False)\n",
    "            .iloc[np.r_[0:top_n, -top_n:0]]\n",
    "        )\n",
    "        word = select_words.index\n",
    "        count = select_words[label]\n",
    "        category_colors = np.where(\n",
    "            select_words[label] >= 0, \"darkseagreen\", \"rosybrown\"\n",
    "        )  # 設定顏色\n",
    "\n",
    "        fig, ax = plt.subplots(figsize=(8, top_n*0.8))  # 設定畫布\n",
    "        plt.rcParams[\"axes.unicode_minus\"] = False\n",
    "\n",
    "        ax.barh(word, count, color=category_colors)\n",
    "        ax.invert_yaxis()\n",
    "        ax.set_title(\n",
    "            \"Coeff increase/decrease odds ratio of 「\" + label + \"」 label the most\",\n",
    "            loc=\"left\",\n",
    "            size=16,\n",
    "        )\n",
    "        ax.set_ylabel(\"word\", size=14)\n",
    "        ax.set_xlabel(\"odds ratio\", size=14)"
   ],
   "outputs": [],
   "execution_count": 150
  },
  {
   "cell_type": "code",
   "metadata": {
    "ExecuteTime": {
     "end_time": "2024-04-08T03:01:26.689136Z",
     "start_time": "2024-04-08T03:01:25.754934Z"
    }
   },
   "source": [
    "plot_coef(logistic_reg_model=model_set['clf_logistic'], feature_names=vectorizer.get_feature_names_out(), top_n=10)"
   ],
   "outputs": [
    {
     "data": {
      "text/plain": [
       "<Figure size 800x800 with 1 Axes>"
      ],
      "image/png": "[encoded data removed]"
     },
     "metadata": {},
     "output_type": "display_data"
    },
    {
     "data": {
      "text/plain": [
       "<Figure size 800x800 with 1 Axes>"
      ],
      "image/png": "[encoded data removed]"
     },
     "metadata": {},
     "output_type": "display_data"
    },
    {
     "data": {
      "text/plain": [
       "<Figure size 800x800 with 1 Axes>"
      ],
      "image/png": "[encoded data removed]"
     },
     "metadata": {},
     "output_type": "display_data"
    },
    {
     "data": {
      "text/plain": [
       "<Figure size 800x800 with 1 Axes>"
      ],
      "image/png": "[encoded data removed]"
     },
     "metadata": {},
     "output_type": "display_data"
    }
   ],
   "execution_count": 151
  },
  {
   "attachments": {},
   "cell_type": "markdown",
   "metadata": {},
   "source": [
    "- 「全球」中出現了日本、美國、南韓還有飛機等國際新聞關鍵字，除了國家名稱外，也提到許多元首名稱，比較特殊的是，「飛機」這個詞語也被廣泛使用，經過查看資料發現國際新聞中常提到飛機相關的新聞，其中很多是描述共機擾台事件，此外還有關於日籍遊客輕航機失事等新聞。\n",
    "- 「社會」中高係數的字是分局、檢方、地檢署等字詞，這些字詞通常出現在社會新聞中，例如檢方偵辦案件、地檢署提起公訴等相關新聞。此外，比較特殊是有提到「萬元」這個詞詞彙，經觀察資料，期出現在房價，以及罰鍰與獎金上。在此之上出現了「新北市」與「男子」，說明在此段時間內新北市的社會新聞中，有男子相關的社會案件。\n",
    "- 「要聞」中高係數的字是立委、總統、高端與候選人，除了常見的政治相關詞彙外，我們發現有個看似不相干詞彙「幹嘛」，經觀察資料，發現這個詞彙幾乎都來自「政黨票能幹嘛？4神秘數字搶席次、領補助、還可扣稅」與「選民抱不平：幹嘛蹚這趟渾水？」等新聞，前者來自一個懶人包文字描述，後者則是來自一個影片的標題。\n",
    "- 「財經」則是房市、億元、房價、營收與台股等相關詞彙，只會出現在財經相關新聞上，但是我發現「透天」這個詞彙也出現在財經新聞中，經觀察資料，發現該資料不僅出現在財經，也出現在多個新聞版面，因此我們決定將其加入停用字中。經過修改後，詞彙都更專注在財經術語上。"
   ]
  },
  {
   "attachments": {},
   "cell_type": "markdown",
   "metadata": {},
   "source": [
    "## 6. 預測新聞類別"
   ]
  },
  {
   "cell_type": "markdown",
   "metadata": {},
   "source": [
    "`東森新聞.csv` 為東森新聞資料\n",
    "- 版別：國際(world)、社會(society)、政治(politics)、財經(ec)\n",
    "- 時間範圍：2023/12/23 ~ 2024/01/13\n",
    "- 工作流程平台搜尋/排除關鍵字：無"
   ]
  },
  {
   "cell_type": "code",
   "metadata": {
    "ExecuteTime": {
     "end_time": "2024-04-08T03:04:47.599557Z",
     "start_time": "2024-04-08T03:04:47.537398Z"
    }
   },
   "source": [
    "ct = pd.read_csv(\"data/東森新聞.csv\")\n",
    "ct.dropna(inplace=True)\n",
    "ct"
   ],
   "outputs": [
    {
     "data": {
      "text/plain": [
       "      system_id                         artTitle  \\\n",
       "0             1    她勞保多繳4年！少領近57萬 問題竟出在最後3年｜東森新聞   \n",
       "1             2   她薪水全丟這！存百萬竟遭18歲表弟嗆：不如阿公那輩｜東森新聞   \n",
       "2             3  陽明海運年終落差超嚴重！去年13個月 今年數字嚇死人｜東森新聞   \n",
       "3             4      勞保紓困貸款最高拿10萬元 申請4條件曝光！｜東森新聞   \n",
       "4             5    台塑四寶獲利衰！年終3.5個月恐無望 創11年低｜東森新聞   \n",
       "...         ...                              ...   \n",
       "1775       1776       美英轟葉門叛軍 油價飆漲4％貨櫃運價連7漲｜東森新聞   \n",
       "1776       1777     英相蘇納克二度訪烏 簽安全協議、增援近千億台幣｜東森新聞   \n",
       "1777       1778    女扮遊戲角色「殭屍」搭陸地鐵遭攔 只因「引圍觀」｜東森新聞   \n",
       "1778       1779      大選影響台海情勢 日本防相：密切監視中國軍方｜東森新聞   \n",
       "1779       1780  聚焦安全局勢、半導體！ CNN：台灣大選可能改變世界｜東森新聞   \n",
       "\n",
       "                                           artUrl              artDate  \\\n",
       "0     https://news.ebc.net.tw/news/article/397623  2023-12-24 10:59:00   \n",
       "1     https://news.ebc.net.tw/news/article/397656  2023-12-24 14:16:00   \n",
       "2     https://news.ebc.net.tw/news/article/397802  2023-12-25 12:13:00   \n",
       "3     https://news.ebc.net.tw/news/article/397804  2023-12-25 13:02:00   \n",
       "4     https://news.ebc.net.tw/news/article/397811  2023-12-25 13:51:00   \n",
       "...                                           ...                  ...   \n",
       "1775  https://news.ebc.net.tw/news/article/400727  2024-01-13 08:00:00   \n",
       "1776  https://news.ebc.net.tw/news/article/400730  2024-01-13 17:38:00   \n",
       "1777  https://news.ebc.net.tw/news/article/400734  2024-01-13 17:53:00   \n",
       "1778  https://news.ebc.net.tw/news/article/400768  2024-01-13 21:40:00   \n",
       "1779  https://news.ebc.net.tw/news/article/400769  2024-01-13 21:48:00   \n",
       "\n",
       "     artCatagory  \\\n",
       "0             財經   \n",
       "1             財經   \n",
       "2             財經   \n",
       "3             財經   \n",
       "4             財經   \n",
       "...          ...   \n",
       "1775          國際   \n",
       "1776          國際   \n",
       "1777          國際   \n",
       "1778          國際   \n",
       "1779          國際   \n",
       "\n",
       "                                                                                                                                                                                                                                                                                                                                                                                                                                                                                                                                                                                                                                                                                                                                                                                                                                                                                                                                                                                                  artContent  \\\n",
       "0                                                                                                                                                                                                                                                                一名擁有26年年資的女性上班族，4年前離職退保，原本一次領可領169.46萬元，後來離職接案，卻選擇加入職業工會，以最低薪資2.5萬元繼續投保，最後少領了近57萬。對此，勞保達人張秘書也做出解釋。YouTube頻道「勞工朋友的祕書～張秘書」在一則影片中分享一個案例，一名52歲勞工年資26年，因職業倦怠不想再朝九晚五，決定改在家接案工作，她雖已符合一次領的資格，卻選擇加入職業工會，加保4年。張秘書以這個例子試算，經過四年的職業工會加保，當小倩決定請領一次給付年金時，卻發現因為最後三年的平均投保薪資僅為2.5萬元，按照勞保局的規定，一次請領的給付金額相對較低，25000元×45個基數＝1125000元。如果小倩當初選擇直接一次請領，擁有26年年資的她可以按照37個基數計算，而最終的給付金額高達169.46萬元，45800元×37個基數＝1694600元。也就是說，小倩勞保多繳4年，反而少領了56萬9600元。張秘書強調，如果勞工選擇一次請領老年給付，務必注意最後3年的投保資薪必須保持在最高水平，否則可能會得不償失。一、必須是離職退保狀態下。二、平均月投保薪資是取最後3年。三、基數算法，前15年一年一個基數，第16年開始每年算二個基數。四、60歲以前年資上限是30年。五、年資未滿30日，以一個月計算。一、保險年資合計每滿1年，按其平均月投保薪資發給1個月。二、保險年資合計超過15年者，超過部分，每滿1年發給2個月，最高以45個月為限。例如：年資26年，其給付年資15+22＝37（個基數）。三、被保險人逾60歲繼續工作者，其逾60歲以後之保險年資，最多以5年計，合併60歲以前之一次請領老年給付，最高以50個月為限。   \n",
       "1                                                                                                                                                                                                                                                                                                                               面對低薪，除了斜槓，大家也會選擇投資。一名女網友表示，才高中的表弟嘲笑她只懂存錢，投資理財的等級比阿公那輩還不如，讓她開始想要改變。原PO在Dcard指出，因為父母沒有投資的習慣，家庭教育也一直跟她反覆告誡投資有風險，股票可能會讓人賠到跳樓，所以長大賺了錢也只會存起來，甚至直到前年才知道一樣是存錢，存到實體開戶的銀行，跟存到數位帳戶利息差很多，所以薪水都是每月固定轉Bankee領利息。原PO透露，親戚聚會的時候聊到理財，才發現現在的高中生都很有想法，也敢於付諸行動，明明還沒出社會賺錢，但賺錢的方法很多，才18歲已經看好要買哪支股票，「表弟問我買股票有沒有賺錢，我說沒有買後，還被他嘲諷，說我只懂存錢，投資理財的等級比阿公那輩還不如，阿公30年前都知道買股票、固定領股息，我這樣根本不算現代人，還是趕快找個有錢男人嫁了。」原PO附上近200萬的存款嘆，平時會逛理財板，看到很多人分享自己千萬存款或幾歲存到百萬，其實覺得很羨慕，也想改變，「2024年開始想要開始投資一點股票，或者多做點副業增加收入，目前已經有申請證券開戶了，不曉得大家有沒有推薦的。」貼文一出，不少人紛紛留言「不會覺得自己比沒買股票的人厲害，任何事情只要想開始都不嫌晚，ETF自己慢慢爬文，投資不要隨意相信他人」、「沒有說存銀行就是不好的投資，投資確實也有風險，不懂理財穩穩存銀行也不吃虧」、「股票也可能賠錢，你這樣列，感覺太理想了」。文章來源：她拿到薪水全丟這⋯「百萬存款」曝光18歲表弟酸：比阿公那輩還不如由CTWANT授權轉載。   \n",
       "2                                                                                                                                                                                                                                                                                                                                                                                                                                                                                                                                                                                                                             在疫情期間，航運相關產業可以說是獲利頗豐，陽明海運在2022年的年終就高達13個月，羨煞不少民眾。但現在有消息指出，陽明海運於日前召開董事會，決議今年年終獎金僅1個月，加上每年固定的第13個月薪資，形同年終獎金僅2個月，與去年相比有著不少的落差。據了解，陽明海運去年年終有13個月，2023年的年度分紅也有20個月，整個加起來多達33個月之多。但根據媒體報導指出，在陽明海運的董事會上，決議年終獎金僅有1個月。而報導中也推估2024年的年終分紅也僅有1個月，加上固定的第13個月薪資，總和僅3.2個月。但好消息是，陽明海運將比照公務員標準，明年為員工加薪4%。報導中也提到，由於陽明海運具有官股性質，年終獎金最多只能發12個月，但是在分紅制度方面，陽明海運明訂稅前獲利1%為員工紅利，這數字遠高於長榮海運的0.5%與萬海的0.6%。   \n",
       "3                                                                                                                                                勞工快看過來！今（25）日，勞動部公告113年勞保紓困貸款將在1月5日開放申請，受理至113年1月19日截止，每人最高可貸10萬元，貸款期間3年，其也列出貸款申貸資格4條件，若有符合資格的勞工，記得於受理時間申請。勞動部表示，為了要協助勞工朋友度過農曆年前經濟困難，113年勞保紓困貸款將於113年1月5日正式開辦，受理至113年1月19日截止，每人最高可貸10萬元，貸款期間3年，年利率目前為2.04％，前6個月按月付息不還本，第7個月起按月平均攤還本息。1.生活困難需要紓困2.參加勞工保險年資滿15年（計算至受理截止日113年1月19日止）3.無欠繳勞工保險費及滯納金4.未曾借貸勞保紓困貸款，或曾借貸已繳清貸款本金及利息者勞動部指出，若是已請領老年給付、終身無工作能力之失能給付或向其所屬機關請領勞工保險補償金者，則不得申請勞保紓困貸款。申辦本項貸款無需繳交任何費用；每人限申請1次，重複申請者不予受理。另外，符合資格且有需求之勞工朋友，可以於受理申請期間，透過網路、臨櫃或郵寄等方式，向土地銀行各地分行或其委託之金融機構提出申請。對此，勞動部也呼籲，為了減少民眾臨櫃排隊久候時間，請多加利用網路申請，例假日亦可使用，既省時又方便。此外，勞動部勞工保險局在2023年的尾聲，將陸續完成11項給付的入帳作業，預計今日發放國民年金保險老年基本保證年金、國民年金保險原住民給付；周四（28日）則預計發放勞保年金給付、職保年金給付、勞退月退休金（首發案）。周五（29日）將有另外6項給付入帳，包括產檢假與陪產檢及陪產假薪資補助、國保身心障礙年金給付併計勞保年資、國民年金保險老年年金給付、國民年金保險身心障礙（基本保證）年金、國民年金保險喪葬給付、國民年金保險遺囑年金。詳情請治土地銀行客服專線（02）2314-6633及其所屬分行或其委託金融機構，土地銀行於連江縣馬祖地區無營業據點，委託連江縣農會受理；或電洽勞保局服務專線（02）2396-1266。   \n",
       "4                                                                                                                                                                                                                                                                                                                                                                   舞台上辣妹勁歌熱舞，炒熱現場氣氛，年底員工最期待的就是年終尾牙，不過傳產龍頭台塑集團，考量剛搬遷到內湖新總部，今年尾牙還是再度停辦，而年終獎金恐怕還會讓員工小失望，因為可能創下近11年最低，不到3.5個月。台塑企業全國聯合會理事長陳鴻儒：「外界所傳的要（EPS）2.43元，（年終）才能達到3.5個月，好在是說公司跟工會有做一個協商，最低保障是3個月，最高7個月。」攤開歷年台塑年終大紅包，110年獲利爆發，員工年終領到最高上限7個月，羨煞不少人，但去年開始受到國際油價、石化行情趨緩影響，略為縮水，而今年可能不只保不了3.5個月，就連工會想積極爭取的3.3個月，恐怕也很艱難。財經專家邱敏寬：「台塑四寶在年底的時候，又遭遇到整個EAFC當中的特殊產品限制，那就目前來說，這個限制到選後會不會開放，要持續來做觀察。」尤其在通膨升息壓力干擾下，讓中國大陸經濟復甦不如預期，即使第三季油價強彈，但台塑四寶前三季稅後純益，仍是452億元年減60.8％，財經專家邱敏寬：「明年的經濟成長率，目前七大機構來估，大概都有到3％以上，今年對台塑四寶相對比較保守，但是我對於明年倒是會比較樂觀一些，因為明年的傳統產業跟電子產業，特別是在通訊跟AI這一塊，擴張性會比較大一點。」不過明年台塑是否將會出現變動，資深媒體人臉書及內部員工，都爆出明年台塑四寶將有人事大地震，但台塑集團對相關謠言皆不予置評，要專注在公司營運，期許在新的一年，能繼續全力衝刺。   \n",
       "...                                                                                                                                                                                                                                                                                                                                                                                                                                                                                                                                                                                                                                                                                                                                                                                                                                                                                                                                                                                                      ...   \n",
       "1775                                                                                                                                                                                                                                                                                             美英聯軍12日針對葉門叛軍青年運動的73處目標，發射至少一百五十枚「戰斧」巡弋飛彈及雷射導引炸彈。轟炸葉門叛軍青年運動的73處目標。紅海局勢升高，造成貨櫃運價連七漲，原油價格也在一天飆漲了4%。夜色中，美軍F18戰機從艾森豪號航空母艦升空，打擊葉門叛軍青年運動的據點；英國颱風戰機也從塞普路斯起飛進行攻擊，參與軍事行動的協力國家，還包括澳洲、巴林、加拿大以及荷蘭。美國國防部發言人萊德：「這是一個國際問題，因此需要國際社會共同解決。」當地時間12號凌晨，英美聯軍發射包括戰斧飛彈等超過一百五十枚精準導引彈藥，攻擊伊朗支持的青年運動叛軍在葉門首都沙那等地點73處目標。目的就是削弱青年運動從去年底以來宣稱為了支持加薩哈瑪斯，而對紅海商船的攻擊武力。美國總統拜登：「我己經向伊朗傳遞一個訊息，他們知道不能所欲為。」不過拜登也表示不會與伊朗打代理人戰爭，對此青年運動也進行反擊至少發射1枚飛彈，不過沒有擊中船艦；青年運動也揚言，將繼續攻擊紅海商船。在首都沙那則出現大規模反美和反以色列抗議，數萬人湧上首都沙那街頭遊行，並焚燒國旗洩憤。另外伊朗也公布11號在阿曼灣扣押一艘美國油輪畫面，伊朗表示，這項行動是報復美國去年扣押同一艘船及其石油。紅海局勢升溫也造成油價波動，布蘭特北海原油與西德州中級原油十二日價格都飆漲4％，貨櫃運價指數也再攀高；最新一期上海出口集裝箱運價指數大漲309.38點至2206.03點，站上2000點大關。英美聯軍攻擊葉門叛軍也引發疑慮，卡達與阿曼等美國的波斯灣盟邦擔憂區域情勢恐失控，將中東捲入伊朗支持的武裝團體，在敘利亞和伊拉克境內的進一步衝突。   \n",
       "1776                                                                                                                                                                                                                       俄烏開戰將近2年，但烏軍卻面臨外國軍援停擺的困境。不過近期繼日本外長訪烏，宣布撥款11.5億資金協助烏克蘭後，英國首相蘇納克也二度訪問基輔；不僅與烏克蘭簽訂長達10年的安全協議之外，更宣布將給予烏克蘭高達25億英鎊，相當於新台幣將近千億的國防援助。鎖定前方俄軍車隊馬上進行連續打擊，烏軍在烏克蘭全境持續對抗俄羅斯，面對西方援助一度停擺，如今終於再出現救兵。英國首相蘇納克：「歷史告訴我們，堅持下去的民主國家將永遠占上風，普丁無法理解，雖然你可以殺死個人並摧毀建築物，但沒有任何軍隊能夠擊敗自由人民的意志。」英國首相蘇納克二度訪問基輔，不僅在烏克蘭議會進行演說，更與總統澤倫斯基一同前往醫院探望傷兵，替這些士兵加油打氣。不過蘇納克這一趟也做出一項重要決定。英國首相蘇納克：「英國今天宣佈，自戰爭開始以來，我們對烏克蘭的最大規模國防援助達25億英鎊（約台幣991億）。」英國這一波軍援中有至少2億英鎊將用在快速大量採購及生產多達數千架軍用無人機，並且未來有望成為歷來最大規模的外國無人機援烏計畫。英烏雙方也簽署安全合作協議，效期長達10年，可以延長。這項協議主要也是為了防止烏克蘭再度遭到侵略，並且一但侵略再起，英國可以第一時間支援烏克蘭直到最後一刻。同時烏克蘭地面部隊指揮官，也呼籲西方援助攻擊機。烏軍指揮官西爾斯基：「考慮到我們能得到什麼，我想說A-10（攻擊機）能作為一種選擇。它不是新型機種，但是一種在許多戰爭中證明自己的可靠武器。」烏克蘭面對持續遭俄國攻擊，積極尋求外援的同時，也開始針對俄羅斯邊境發動反擊行動。俄羅斯城市別爾哥羅德近期遭烏克蘭砲擊後造成多人死傷，當地政府針對500多個公車站堆砌沙包與水泥牆，設置防護屏障，以保護民眾受到砲擊。隨著俄烏戰爭將近兩年，雙方加強攻擊力道，使戰事更加升級。   \n",
       "1777                                                                                                                                                                                                                                                                                                                                                                                   女子頭戴紫色假髮，頂著殭屍帽，身穿類似漢服服裝，扮成殭屍要搭地鐵，卻被安檢員給攔了下來。地鐵安檢員vs.女Coser：「請問我為什麼不可以進地鐵站呢，（我就說你對cosplay的是什麼形象），是國產遊戲原神裡面的七七角色，身上的衣服是我自己搭配的漢服，（你這是...），這是那個漢服，（先報你的身分證號）。」裝扮成可愛殭屍卻被要求查驗身分，女子實在不能理解，自己的裝扮沒有影響到他人，也稱不上恐怖，為何不能進站搭地鐵。地鐵安檢員vs.女Coser：「我們這種復古來的，那種血腥恐怖就是低俗，（我恐怖嗎，我覺得我很可愛啊），如果你的動作引起了圍觀，要負法律責任知道吧，再一個我就想問妳，這個帽子能摘下來嗎，至少看上去是一個正常的乘客，以為他不是一個怪物啊，或卡通什麼的。」不斷要求女子摘下帽子頭飾，安檢員以會引起圍觀等理由要女子配合，甚至說要叫警察。雙方溝通好一段時間，最後才願意讓女子進站。中國一名女Coser在網路上發了這段影片，自己剛參加完動漫展要搭地鐵卻遭到盤查，瞬間引起熱議。上海地鐵工作人員：「Cosplay制服是可以進站的，但是非日常服飾進站，安檢人員會進行阻攔並呼叫民警。」影片曝光後，中國網友有紛紛留言怒罵，因為穿著打扮遭到限制真的太過離譜；律師也表示，法律對於穿著本身並無限制，如果乘客只是因為扮演成卡通或是動漫角色就被限制或禁止進入地鐵，有干預乘客自由穿衣的嫌疑，實在不妥。   \n",
       "1778  台灣大選日本媒體也很關注，不只多家媒體記者來台連線採訪，甚至也在選前對三位候選人有所分析，但最關注的還是著重在台海情勢，畢竟台灣有事就是日本有事，台灣的選舉結果，影響著全球，日本防衛大臣也強調，接下來會密切關注，中國軍隊在台灣周邊的動向。台灣總統大選，日本媒體關注，選前各家日本電視台記者，都在台灣連線報導。日本記者：「請先看那邊有藍色招牌，是國民黨的侯友宜候選人，再回頭來看，這邊則是民進黨候選人，賴清德的大型招牌。」因為對日本來說，大選可能影響台海情勢，日本防衛大臣木原稔，甚至強調會密切關注中國在台灣的周邊動向，日本媒體對三人都各有期待，甚至形容他們是「認真的男子」、「名刑事」和「變色龍」。日本皇學館大學副教授村上政俊：「關於賴清德，以不觸及台獨的宣言，向世界發信這點最大的原因，是為了讓美國安心。」對於賴清德，日媒擔心的是兩岸情勢是否更緊張，NHK分析就指出，賴清德強烈的台獨色彩，可能會挑戰美國的對台政策紅線，不過專家也分析，賴清德即便當選，能調整兩岸政策的程度有限。至於侯友宜，日媒則關注是否會親中，但結果恐怕一樣讓習近平沮喪。日本軍事記者小原凡司：「現在的國民黨，跟以前的國民黨相比，發生了很大的變化，並不像以前馬英九時期一樣，都是親中派的人物站穩陣腳。」日經亞洲分析，侯友宜兩岸政策比較模糊，既想與美國保持密切關係，又希望跟中國友好，但是台灣民眾對北京的不信任，侯友宜也很難與中國靠近。NHK主播：「台灣跟中國太靠近的話，台灣半導體的先進技術，可能會流向中國。」日本法政大學教授福田圓指出，國民黨可能會跟以前一樣，較重視與中國的經濟關係，這也可能會是美國擔心的，因為若半導體技術，又落入中國手中，對中晶片制裁等於白忙一場。日本政治學家小笠原欣幸：「柯文哲先生的情況，其實在對中政策，和對美政策上，是有點模稜兩可的。」而對於三腳督關鍵的柯文哲，日媒則比較難以預測，專家分析，柯文哲兩岸議題比較模糊，但受到年輕選民歡迎，因此主打薪水住宅等民生問題。日本政治學家小笠原欣幸：「新當選的總統將在5月20日就職，在這四個月的時間裡，是否會與中國進行任何形式的幕後接觸，國際社會又將以何種心情看待新總統的誕生。」台灣有事就是日本有事，2024總統大選結果出爐，日本媒體最關注的還是台海情勢，新任總統要如何面對，仍需要繼續觀察。   \n",
       "1779                                                                              這場關鍵大選不只台灣人關注，許多國際媒體也大陣仗派記者來台採訪，就像CNN一篇報導說的，這場選舉「可能改變世界」。至於在哪些方面影響世界，CNN認為主要就是全球安全局勢，和半導體供應鏈，因為位於第一島鏈上的台灣，具有重要的戰略意義，而台灣又是全球第一大晶片製造商，若發生任何衝突，導致供應鏈中斷，將會對全世界造成災難性的後果。2024台灣大選有多重要？國際媒體大篇幅報導，CNN斗大標題更直言「今年的一場選舉，可能改變世界，而且不是美國大選，是台灣。」CNN新聞主播：這是一場全球密切關注的選舉，尤其是其共產主義的鄰國中國，還有我們美國。」CNN說中國領導高層，尤其關注大選結果，因為北京會如何回應，台灣的民意決擇，也將考驗著中美之間，是否能夠控制緊張局勢。CNN特派記者雷普利：「台灣是中美之間緊張局勢的最大主因，而美國又是台灣，在國際間主要的支持者，以及武器供應商，中國如何對這次的選舉結果，做出回應將會成為一個重大考驗，北京和華府能否控制緊張局勢，還是會走向進一步對抗衝突。」CNN在報導中分析，雖然很少有專家預期，解放軍會在短期內出兵台灣，但文章中提到，北京有很多方式可以表達不滿，包括進行軍事演習展示武力，以及進一步暫停與台灣的貿易往來甚至封鎖等等。CNN特派記者雷普利：「台灣是全球第一大半導體製造商，這些高價晶片，為我們所有的高科技產品提供動力，任何間接或直接的衝突，導致供應鏈中斷，將會在世界各地發生災難性的後果。」除了台海局勢變化，半導體供應鏈會有何影響，也是一大焦點，而且不只美國，荷蘭媒體也特別製作了一集專題節目，談台灣大選和晶片產業。駐荷蘭代表陳欣新：「假設台灣內部發生任何狀況，不可能只在台灣的邊境就止步，這將會是全球性的災難，這是為何我們稱之為矽盾。」節目專訪了台灣駐荷蘭代表陳欣新，她強調半導體產業，是台灣國家安全的矽盾，另外節目也採訪了，晶片戰爭一書的作者米勒，米勒估計台海軍事衝突，將對全球經濟造成至少2兆美元，大約62兆台幣的衝擊。選舉結果影響到半導體供應鏈，以及全球安全局勢，這就是為何CNN會說，台灣2024大選結果，造成的影響是無遠弗屆。   \n",
       "\n",
       "     dataSource  \n",
       "0           EBC  \n",
       "1           EBC  \n",
       "2           EBC  \n",
       "3           EBC  \n",
       "4           EBC  \n",
       "...         ...  \n",
       "1775        EBC  \n",
       "1776        EBC  \n",
       "1777        EBC  \n",
       "1778        EBC  \n",
       "1779        EBC  \n",
       "\n",
       "[1780 rows x 7 columns]"
      ],
      "text/html": [
       "<div>\n",
       "<style scoped>\n",
       "    .dataframe tbody tr th:only-of-type {\n",
       "        vertical-align: middle;\n",
       "    }\n",
       "\n",
       "    .dataframe tbody tr th {\n",
       "        vertical-align: top;\n",
       "    }\n",
       "\n",
       "    .dataframe thead th {\n",
       "        text-align: right;\n",
       "    }\n",
       "</style>\n",
       "<table border=\"1\" class=\"dataframe\">\n",
       "  <thead>\n",
       "    <tr style=\"text-align: right;\">\n",
       "      <th></th>\n",
       "      <th>system_id</th>\n",
       "      <th>artTitle</th>\n",
       "      <th>artUrl</th>\n",
       "      <th>artDate</th>\n",
       "      <th>artCatagory</th>\n",
       "      <th>artContent</th>\n",
       "      <th>dataSource</th>\n",
       "    </tr>\n",
       "  </thead>\n",
       "  <tbody>\n",
       "    <tr>\n",
       "      <th>0</th>\n",
       "      <td>1</td>\n",
       "      <td>她勞保多繳4年！少領近57萬 問題竟出在最後3年｜東森新聞</td>\n",
       "      <td>https://news.ebc.net.tw/news/article/397623</td>\n",
       "      <td>2023-12-24 10:59:00</td>\n",
       "      <td>財經</td>\n",
       "      <td>一名擁有26年年資的女性上班族，4年前離職退保，原本一次領可領169.46萬元，後來離職接案，卻選擇加入職業工會，以最低薪資2.5萬元繼續投保，最後少領了近57萬。對此，勞保達人張秘書也做出解釋。YouTube頻道「勞工朋友的祕書～張秘書」在一則影片中分享一個案例，一名52歲勞工年資26年，因職業倦怠不想再朝九晚五，決定改在家接案工作，她雖已符合一次領的資格，卻選擇加入職業工會，加保4年。張秘書以這個例子試算，經過四年的職業工會加保，當小倩決定請領一次給付年金時，卻發現因為最後三年的平均投保薪資僅為2.5萬元，按照勞保局的規定，一次請領的給付金額相對較低，25000元×45個基數＝1125000元。如果小倩當初選擇直接一次請領，擁有26年年資的她可以按照37個基數計算，而最終的給付金額高達169.46萬元，45800元×37個基數＝1694600元。也就是說，小倩勞保多繳4年，反而少領了56萬9600元。張秘書強調，如果勞工選擇一次請領老年給付，務必注意最後3年的投保資薪必須保持在最高水平，否則可能會得不償失。一、必須是離職退保狀態下。二、平均月投保薪資是取最後3年。三、基數算法，前15年一年一個基數，第16年開始每年算二個基數。四、60歲以前年資上限是30年。五、年資未滿30日，以一個月計算。一、保險年資合計每滿1年，按其平均月投保薪資發給1個月。二、保險年資合計超過15年者，超過部分，每滿1年發給2個月，最高以45個月為限。例如：年資26年，其給付年資15+22＝37（個基數）。三、被保險人逾60歲繼續工作者，其逾60歲以後之保險年資，最多以5年計，合併60歲以前之一次請領老年給付，最高以50個月為限。</td>\n",
       "      <td>EBC</td>\n",
       "    </tr>\n",
       "    <tr>\n",
       "      <th>1</th>\n",
       "      <td>2</td>\n",
       "      <td>她薪水全丟這！存百萬竟遭18歲表弟嗆：不如阿公那輩｜東森新聞</td>\n",
       "      <td>https://news.ebc.net.tw/news/article/397656</td>\n",
       "      <td>2023-12-24 14:16:00</td>\n",
       "      <td>財經</td>\n",
       "      <td>面對低薪，除了斜槓，大家也會選擇投資。一名女網友表示，才高中的表弟嘲笑她只懂存錢，投資理財的等級比阿公那輩還不如，讓她開始想要改變。原PO在Dcard指出，因為父母沒有投資的習慣，家庭教育也一直跟她反覆告誡投資有風險，股票可能會讓人賠到跳樓，所以長大賺了錢也只會存起來，甚至直到前年才知道一樣是存錢，存到實體開戶的銀行，跟存到數位帳戶利息差很多，所以薪水都是每月固定轉Bankee領利息。原PO透露，親戚聚會的時候聊到理財，才發現現在的高中生都很有想法，也敢於付諸行動，明明還沒出社會賺錢，但賺錢的方法很多，才18歲已經看好要買哪支股票，「表弟問我買股票有沒有賺錢，我說沒有買後，還被他嘲諷，說我只懂存錢，投資理財的等級比阿公那輩還不如，阿公30年前都知道買股票、固定領股息，我這樣根本不算現代人，還是趕快找個有錢男人嫁了。」原PO附上近200萬的存款嘆，平時會逛理財板，看到很多人分享自己千萬存款或幾歲存到百萬，其實覺得很羨慕，也想改變，「2024年開始想要開始投資一點股票，或者多做點副業增加收入，目前已經有申請證券開戶了，不曉得大家有沒有推薦的。」貼文一出，不少人紛紛留言「不會覺得自己比沒買股票的人厲害，任何事情只要想開始都不嫌晚，ETF自己慢慢爬文，投資不要隨意相信他人」、「沒有說存銀行就是不好的投資，投資確實也有風險，不懂理財穩穩存銀行也不吃虧」、「股票也可能賠錢，你這樣列，感覺太理想了」。文章來源：她拿到薪水全丟這⋯「百萬存款」曝光18歲表弟酸：比阿公那輩還不如由CTWANT授權轉載。</td>\n",
       "      <td>EBC</td>\n",
       "    </tr>\n",
       "    <tr>\n",
       "      <th>2</th>\n",
       "      <td>3</td>\n",
       "      <td>陽明海運年終落差超嚴重！去年13個月 今年數字嚇死人｜東森新聞</td>\n",
       "      <td>https://news.ebc.net.tw/news/article/397802</td>\n",
       "      <td>2023-12-25 12:13:00</td>\n",
       "      <td>財經</td>\n",
       "      <td>在疫情期間，航運相關產業可以說是獲利頗豐，陽明海運在2022年的年終就高達13個月，羨煞不少民眾。但現在有消息指出，陽明海運於日前召開董事會，決議今年年終獎金僅1個月，加上每年固定的第13個月薪資，形同年終獎金僅2個月，與去年相比有著不少的落差。據了解，陽明海運去年年終有13個月，2023年的年度分紅也有20個月，整個加起來多達33個月之多。但根據媒體報導指出，在陽明海運的董事會上，決議年終獎金僅有1個月。而報導中也推估2024年的年終分紅也僅有1個月，加上固定的第13個月薪資，總和僅3.2個月。但好消息是，陽明海運將比照公務員標準，明年為員工加薪4%。報導中也提到，由於陽明海運具有官股性質，年終獎金最多只能發12個月，但是在分紅制度方面，陽明海運明訂稅前獲利1%為員工紅利，這數字遠高於長榮海運的0.5%與萬海的0.6%。</td>\n",
       "      <td>EBC</td>\n",
       "    </tr>\n",
       "    <tr>\n",
       "      <th>3</th>\n",
       "      <td>4</td>\n",
       "      <td>勞保紓困貸款最高拿10萬元 申請4條件曝光！｜東森新聞</td>\n",
       "      <td>https://news.ebc.net.tw/news/article/397804</td>\n",
       "      <td>2023-12-25 13:02:00</td>\n",
       "      <td>財經</td>\n",
       "      <td>勞工快看過來！今（25）日，勞動部公告113年勞保紓困貸款將在1月5日開放申請，受理至113年1月19日截止，每人最高可貸10萬元，貸款期間3年，其也列出貸款申貸資格4條件，若有符合資格的勞工，記得於受理時間申請。勞動部表示，為了要協助勞工朋友度過農曆年前經濟困難，113年勞保紓困貸款將於113年1月5日正式開辦，受理至113年1月19日截止，每人最高可貸10萬元，貸款期間3年，年利率目前為2.04％，前6個月按月付息不還本，第7個月起按月平均攤還本息。1.生活困難需要紓困2.參加勞工保險年資滿15年（計算至受理截止日113年1月19日止）3.無欠繳勞工保險費及滯納金4.未曾借貸勞保紓困貸款，或曾借貸已繳清貸款本金及利息者勞動部指出，若是已請領老年給付、終身無工作能力之失能給付或向其所屬機關請領勞工保險補償金者，則不得申請勞保紓困貸款。申辦本項貸款無需繳交任何費用；每人限申請1次，重複申請者不予受理。另外，符合資格且有需求之勞工朋友，可以於受理申請期間，透過網路、臨櫃或郵寄等方式，向土地銀行各地分行或其委託之金融機構提出申請。對此，勞動部也呼籲，為了減少民眾臨櫃排隊久候時間，請多加利用網路申請，例假日亦可使用，既省時又方便。此外，勞動部勞工保險局在2023年的尾聲，將陸續完成11項給付的入帳作業，預計今日發放國民年金保險老年基本保證年金、國民年金保險原住民給付；周四（28日）則預計發放勞保年金給付、職保年金給付、勞退月退休金（首發案）。周五（29日）將有另外6項給付入帳，包括產檢假與陪產檢及陪產假薪資補助、國保身心障礙年金給付併計勞保年資、國民年金保險老年年金給付、國民年金保險身心障礙（基本保證）年金、國民年金保險喪葬給付、國民年金保險遺囑年金。詳情請治土地銀行客服專線（02）2314-6633及其所屬分行或其委託金融機構，土地銀行於連江縣馬祖地區無營業據點，委託連江縣農會受理；或電洽勞保局服務專線（02）2396-1266。</td>\n",
       "      <td>EBC</td>\n",
       "    </tr>\n",
       "    <tr>\n",
       "      <th>4</th>\n",
       "      <td>5</td>\n",
       "      <td>台塑四寶獲利衰！年終3.5個月恐無望 創11年低｜東森新聞</td>\n",
       "      <td>https://news.ebc.net.tw/news/article/397811</td>\n",
       "      <td>2023-12-25 13:51:00</td>\n",
       "      <td>財經</td>\n",
       "      <td>舞台上辣妹勁歌熱舞，炒熱現場氣氛，年底員工最期待的就是年終尾牙，不過傳產龍頭台塑集團，考量剛搬遷到內湖新總部，今年尾牙還是再度停辦，而年終獎金恐怕還會讓員工小失望，因為可能創下近11年最低，不到3.5個月。台塑企業全國聯合會理事長陳鴻儒：「外界所傳的要（EPS）2.43元，（年終）才能達到3.5個月，好在是說公司跟工會有做一個協商，最低保障是3個月，最高7個月。」攤開歷年台塑年終大紅包，110年獲利爆發，員工年終領到最高上限7個月，羨煞不少人，但去年開始受到國際油價、石化行情趨緩影響，略為縮水，而今年可能不只保不了3.5個月，就連工會想積極爭取的3.3個月，恐怕也很艱難。財經專家邱敏寬：「台塑四寶在年底的時候，又遭遇到整個EAFC當中的特殊產品限制，那就目前來說，這個限制到選後會不會開放，要持續來做觀察。」尤其在通膨升息壓力干擾下，讓中國大陸經濟復甦不如預期，即使第三季油價強彈，但台塑四寶前三季稅後純益，仍是452億元年減60.8％，財經專家邱敏寬：「明年的經濟成長率，目前七大機構來估，大概都有到3％以上，今年對台塑四寶相對比較保守，但是我對於明年倒是會比較樂觀一些，因為明年的傳統產業跟電子產業，特別是在通訊跟AI這一塊，擴張性會比較大一點。」不過明年台塑是否將會出現變動，資深媒體人臉書及內部員工，都爆出明年台塑四寶將有人事大地震，但台塑集團對相關謠言皆不予置評，要專注在公司營運，期許在新的一年，能繼續全力衝刺。</td>\n",
       "      <td>EBC</td>\n",
       "    </tr>\n",
       "    <tr>\n",
       "      <th>...</th>\n",
       "      <td>...</td>\n",
       "      <td>...</td>\n",
       "      <td>...</td>\n",
       "      <td>...</td>\n",
       "      <td>...</td>\n",
       "      <td>...</td>\n",
       "      <td>...</td>\n",
       "    </tr>\n",
       "    <tr>\n",
       "      <th>1775</th>\n",
       "      <td>1776</td>\n",
       "      <td>美英轟葉門叛軍 油價飆漲4％貨櫃運價連7漲｜東森新聞</td>\n",
       "      <td>https://news.ebc.net.tw/news/article/400727</td>\n",
       "      <td>2024-01-13 08:00:00</td>\n",
       "      <td>國際</td>\n",
       "      <td>美英聯軍12日針對葉門叛軍青年運動的73處目標，發射至少一百五十枚「戰斧」巡弋飛彈及雷射導引炸彈。轟炸葉門叛軍青年運動的73處目標。紅海局勢升高，造成貨櫃運價連七漲，原油價格也在一天飆漲了4%。夜色中，美軍F18戰機從艾森豪號航空母艦升空，打擊葉門叛軍青年運動的據點；英國颱風戰機也從塞普路斯起飛進行攻擊，參與軍事行動的協力國家，還包括澳洲、巴林、加拿大以及荷蘭。美國國防部發言人萊德：「這是一個國際問題，因此需要國際社會共同解決。」當地時間12號凌晨，英美聯軍發射包括戰斧飛彈等超過一百五十枚精準導引彈藥，攻擊伊朗支持的青年運動叛軍在葉門首都沙那等地點73處目標。目的就是削弱青年運動從去年底以來宣稱為了支持加薩哈瑪斯，而對紅海商船的攻擊武力。美國總統拜登：「我己經向伊朗傳遞一個訊息，他們知道不能所欲為。」不過拜登也表示不會與伊朗打代理人戰爭，對此青年運動也進行反擊至少發射1枚飛彈，不過沒有擊中船艦；青年運動也揚言，將繼續攻擊紅海商船。在首都沙那則出現大規模反美和反以色列抗議，數萬人湧上首都沙那街頭遊行，並焚燒國旗洩憤。另外伊朗也公布11號在阿曼灣扣押一艘美國油輪畫面，伊朗表示，這項行動是報復美國去年扣押同一艘船及其石油。紅海局勢升溫也造成油價波動，布蘭特北海原油與西德州中級原油十二日價格都飆漲4％，貨櫃運價指數也再攀高；最新一期上海出口集裝箱運價指數大漲309.38點至2206.03點，站上2000點大關。英美聯軍攻擊葉門叛軍也引發疑慮，卡達與阿曼等美國的波斯灣盟邦擔憂區域情勢恐失控，將中東捲入伊朗支持的武裝團體，在敘利亞和伊拉克境內的進一步衝突。</td>\n",
       "      <td>EBC</td>\n",
       "    </tr>\n",
       "    <tr>\n",
       "      <th>1776</th>\n",
       "      <td>1777</td>\n",
       "      <td>英相蘇納克二度訪烏 簽安全協議、增援近千億台幣｜東森新聞</td>\n",
       "      <td>https://news.ebc.net.tw/news/article/400730</td>\n",
       "      <td>2024-01-13 17:38:00</td>\n",
       "      <td>國際</td>\n",
       "      <td>俄烏開戰將近2年，但烏軍卻面臨外國軍援停擺的困境。不過近期繼日本外長訪烏，宣布撥款11.5億資金協助烏克蘭後，英國首相蘇納克也二度訪問基輔；不僅與烏克蘭簽訂長達10年的安全協議之外，更宣布將給予烏克蘭高達25億英鎊，相當於新台幣將近千億的國防援助。鎖定前方俄軍車隊馬上進行連續打擊，烏軍在烏克蘭全境持續對抗俄羅斯，面對西方援助一度停擺，如今終於再出現救兵。英國首相蘇納克：「歷史告訴我們，堅持下去的民主國家將永遠占上風，普丁無法理解，雖然你可以殺死個人並摧毀建築物，但沒有任何軍隊能夠擊敗自由人民的意志。」英國首相蘇納克二度訪問基輔，不僅在烏克蘭議會進行演說，更與總統澤倫斯基一同前往醫院探望傷兵，替這些士兵加油打氣。不過蘇納克這一趟也做出一項重要決定。英國首相蘇納克：「英國今天宣佈，自戰爭開始以來，我們對烏克蘭的最大規模國防援助達25億英鎊（約台幣991億）。」英國這一波軍援中有至少2億英鎊將用在快速大量採購及生產多達數千架軍用無人機，並且未來有望成為歷來最大規模的外國無人機援烏計畫。英烏雙方也簽署安全合作協議，效期長達10年，可以延長。這項協議主要也是為了防止烏克蘭再度遭到侵略，並且一但侵略再起，英國可以第一時間支援烏克蘭直到最後一刻。同時烏克蘭地面部隊指揮官，也呼籲西方援助攻擊機。烏軍指揮官西爾斯基：「考慮到我們能得到什麼，我想說A-10（攻擊機）能作為一種選擇。它不是新型機種，但是一種在許多戰爭中證明自己的可靠武器。」烏克蘭面對持續遭俄國攻擊，積極尋求外援的同時，也開始針對俄羅斯邊境發動反擊行動。俄羅斯城市別爾哥羅德近期遭烏克蘭砲擊後造成多人死傷，當地政府針對500多個公車站堆砌沙包與水泥牆，設置防護屏障，以保護民眾受到砲擊。隨著俄烏戰爭將近兩年，雙方加強攻擊力道，使戰事更加升級。</td>\n",
       "      <td>EBC</td>\n",
       "    </tr>\n",
       "    <tr>\n",
       "      <th>1777</th>\n",
       "      <td>1778</td>\n",
       "      <td>女扮遊戲角色「殭屍」搭陸地鐵遭攔 只因「引圍觀」｜東森新聞</td>\n",
       "      <td>https://news.ebc.net.tw/news/article/400734</td>\n",
       "      <td>2024-01-13 17:53:00</td>\n",
       "      <td>國際</td>\n",
       "      <td>女子頭戴紫色假髮，頂著殭屍帽，身穿類似漢服服裝，扮成殭屍要搭地鐵，卻被安檢員給攔了下來。地鐵安檢員vs.女Coser：「請問我為什麼不可以進地鐵站呢，（我就說你對cosplay的是什麼形象），是國產遊戲原神裡面的七七角色，身上的衣服是我自己搭配的漢服，（你這是...），這是那個漢服，（先報你的身分證號）。」裝扮成可愛殭屍卻被要求查驗身分，女子實在不能理解，自己的裝扮沒有影響到他人，也稱不上恐怖，為何不能進站搭地鐵。地鐵安檢員vs.女Coser：「我們這種復古來的，那種血腥恐怖就是低俗，（我恐怖嗎，我覺得我很可愛啊），如果你的動作引起了圍觀，要負法律責任知道吧，再一個我就想問妳，這個帽子能摘下來嗎，至少看上去是一個正常的乘客，以為他不是一個怪物啊，或卡通什麼的。」不斷要求女子摘下帽子頭飾，安檢員以會引起圍觀等理由要女子配合，甚至說要叫警察。雙方溝通好一段時間，最後才願意讓女子進站。中國一名女Coser在網路上發了這段影片，自己剛參加完動漫展要搭地鐵卻遭到盤查，瞬間引起熱議。上海地鐵工作人員：「Cosplay制服是可以進站的，但是非日常服飾進站，安檢人員會進行阻攔並呼叫民警。」影片曝光後，中國網友有紛紛留言怒罵，因為穿著打扮遭到限制真的太過離譜；律師也表示，法律對於穿著本身並無限制，如果乘客只是因為扮演成卡通或是動漫角色就被限制或禁止進入地鐵，有干預乘客自由穿衣的嫌疑，實在不妥。</td>\n",
       "      <td>EBC</td>\n",
       "    </tr>\n",
       "    <tr>\n",
       "      <th>1778</th>\n",
       "      <td>1779</td>\n",
       "      <td>大選影響台海情勢 日本防相：密切監視中國軍方｜東森新聞</td>\n",
       "      <td>https://news.ebc.net.tw/news/article/400768</td>\n",
       "      <td>2024-01-13 21:40:00</td>\n",
       "      <td>國際</td>\n",
       "      <td>台灣大選日本媒體也很關注，不只多家媒體記者來台連線採訪，甚至也在選前對三位候選人有所分析，但最關注的還是著重在台海情勢，畢竟台灣有事就是日本有事，台灣的選舉結果，影響著全球，日本防衛大臣也強調，接下來會密切關注，中國軍隊在台灣周邊的動向。台灣總統大選，日本媒體關注，選前各家日本電視台記者，都在台灣連線報導。日本記者：「請先看那邊有藍色招牌，是國民黨的侯友宜候選人，再回頭來看，這邊則是民進黨候選人，賴清德的大型招牌。」因為對日本來說，大選可能影響台海情勢，日本防衛大臣木原稔，甚至強調會密切關注中國在台灣的周邊動向，日本媒體對三人都各有期待，甚至形容他們是「認真的男子」、「名刑事」和「變色龍」。日本皇學館大學副教授村上政俊：「關於賴清德，以不觸及台獨的宣言，向世界發信這點最大的原因，是為了讓美國安心。」對於賴清德，日媒擔心的是兩岸情勢是否更緊張，NHK分析就指出，賴清德強烈的台獨色彩，可能會挑戰美國的對台政策紅線，不過專家也分析，賴清德即便當選，能調整兩岸政策的程度有限。至於侯友宜，日媒則關注是否會親中，但結果恐怕一樣讓習近平沮喪。日本軍事記者小原凡司：「現在的國民黨，跟以前的國民黨相比，發生了很大的變化，並不像以前馬英九時期一樣，都是親中派的人物站穩陣腳。」日經亞洲分析，侯友宜兩岸政策比較模糊，既想與美國保持密切關係，又希望跟中國友好，但是台灣民眾對北京的不信任，侯友宜也很難與中國靠近。NHK主播：「台灣跟中國太靠近的話，台灣半導體的先進技術，可能會流向中國。」日本法政大學教授福田圓指出，國民黨可能會跟以前一樣，較重視與中國的經濟關係，這也可能會是美國擔心的，因為若半導體技術，又落入中國手中，對中晶片制裁等於白忙一場。日本政治學家小笠原欣幸：「柯文哲先生的情況，其實在對中政策，和對美政策上，是有點模稜兩可的。」而對於三腳督關鍵的柯文哲，日媒則比較難以預測，專家分析，柯文哲兩岸議題比較模糊，但受到年輕選民歡迎，因此主打薪水住宅等民生問題。日本政治學家小笠原欣幸：「新當選的總統將在5月20日就職，在這四個月的時間裡，是否會與中國進行任何形式的幕後接觸，國際社會又將以何種心情看待新總統的誕生。」台灣有事就是日本有事，2024總統大選結果出爐，日本媒體最關注的還是台海情勢，新任總統要如何面對，仍需要繼續觀察。</td>\n",
       "      <td>EBC</td>\n",
       "    </tr>\n",
       "    <tr>\n",
       "      <th>1779</th>\n",
       "      <td>1780</td>\n",
       "      <td>聚焦安全局勢、半導體！ CNN：台灣大選可能改變世界｜東森新聞</td>\n",
       "      <td>https://news.ebc.net.tw/news/article/400769</td>\n",
       "      <td>2024-01-13 21:48:00</td>\n",
       "      <td>國際</td>\n",
       "      <td>這場關鍵大選不只台灣人關注，許多國際媒體也大陣仗派記者來台採訪，就像CNN一篇報導說的，這場選舉「可能改變世界」。至於在哪些方面影響世界，CNN認為主要就是全球安全局勢，和半導體供應鏈，因為位於第一島鏈上的台灣，具有重要的戰略意義，而台灣又是全球第一大晶片製造商，若發生任何衝突，導致供應鏈中斷，將會對全世界造成災難性的後果。2024台灣大選有多重要？國際媒體大篇幅報導，CNN斗大標題更直言「今年的一場選舉，可能改變世界，而且不是美國大選，是台灣。」CNN新聞主播：這是一場全球密切關注的選舉，尤其是其共產主義的鄰國中國，還有我們美國。」CNN說中國領導高層，尤其關注大選結果，因為北京會如何回應，台灣的民意決擇，也將考驗著中美之間，是否能夠控制緊張局勢。CNN特派記者雷普利：「台灣是中美之間緊張局勢的最大主因，而美國又是台灣，在國際間主要的支持者，以及武器供應商，中國如何對這次的選舉結果，做出回應將會成為一個重大考驗，北京和華府能否控制緊張局勢，還是會走向進一步對抗衝突。」CNN在報導中分析，雖然很少有專家預期，解放軍會在短期內出兵台灣，但文章中提到，北京有很多方式可以表達不滿，包括進行軍事演習展示武力，以及進一步暫停與台灣的貿易往來甚至封鎖等等。CNN特派記者雷普利：「台灣是全球第一大半導體製造商，這些高價晶片，為我們所有的高科技產品提供動力，任何間接或直接的衝突，導致供應鏈中斷，將會在世界各地發生災難性的後果。」除了台海局勢變化，半導體供應鏈會有何影響，也是一大焦點，而且不只美國，荷蘭媒體也特別製作了一集專題節目，談台灣大選和晶片產業。駐荷蘭代表陳欣新：「假設台灣內部發生任何狀況，不可能只在台灣的邊境就止步，這將會是全球性的災難，這是為何我們稱之為矽盾。」節目專訪了台灣駐荷蘭代表陳欣新，她強調半導體產業，是台灣國家安全的矽盾，另外節目也採訪了，晶片戰爭一書的作者米勒，米勒估計台海軍事衝突，將對全球經濟造成至少2兆美元，大約62兆台幣的衝擊。選舉結果影響到半導體供應鏈，以及全球安全局勢，這就是為何CNN會說，台灣2024大選結果，造成的影響是無遠弗屆。</td>\n",
       "      <td>EBC</td>\n",
       "    </tr>\n",
       "  </tbody>\n",
       "</table>\n",
       "<p>1780 rows × 7 columns</p>\n",
       "</div>"
      ]
     },
     "execution_count": 152,
     "metadata": {},
     "output_type": "execute_result"
    }
   ],
   "execution_count": 152
  },
  {
   "cell_type": "code",
   "metadata": {
    "ExecuteTime": {
     "end_time": "2024-04-08T03:04:59.157890Z",
     "start_time": "2024-04-08T03:04:52.062674Z"
    }
   },
   "source": [
    "# 移除網址格式\n",
    "ct[\"artContent\"].str.replace(\"(http|https)://.*\", \"\", regex=True)\n",
    "ct[\"artTitle\"].str.replace(\"(http|https)://.*\", \"\", regex=True)\n",
    "ct[\"artContent\"].str.replace(\"[^\\u4e00-\\u9fa5]+\", \"\", regex=True)\n",
    "ct[\"artTitle\"].str.replace(\"[^\\u4e00-\\u9fa5]+\", \"\", regex=True)\n",
    "\n",
    "# 留下 content\n",
    "ct[\"content\"] = ct[\"artTitle\"] + ct[\"artContent\"]\n",
    "ct = ct.loc[:,[\"content\", \"artUrl\", \"artCatagory\"]]  # 文章內容 文章連結\n",
    "\n",
    "# 設定斷詞 function\n",
    "def getToken(row):\n",
    "    seg_list = jieba.cut(row, cut_all=False)\n",
    "    seg_list = [\n",
    "        w for w in seg_list if w not in stopWords and len(w) > 1\n",
    "    ]  # 篩選掉停用字與字元數大於1的詞彙\n",
    "    return seg_list\n",
    "\n",
    "ct[\"words\"] = ct[\"content\"].apply(getToken).map(\" \".join)\n",
    "ct.head()"
   ],
   "outputs": [
    {
     "data": {
      "text/plain": [
       "                                                                                                                                                                                                                                                                                                                                                                                                                                                                                                                                                                                                                                                                                                                                                                                                                                                                                  content  \\\n",
       "0                                                                                                                她勞保多繳4年！少領近57萬 問題竟出在最後3年｜東森新聞一名擁有26年年資的女性上班族，4年前離職退保，原本一次領可領169.46萬元，後來離職接案，卻選擇加入職業工會，以最低薪資2.5萬元繼續投保，最後少領了近57萬。對此，勞保達人張秘書也做出解釋。YouTube頻道「勞工朋友的祕書～張秘書」在一則影片中分享一個案例，一名52歲勞工年資26年，因職業倦怠不想再朝九晚五，決定改在家接案工作，她雖已符合一次領的資格，卻選擇加入職業工會，加保4年。張秘書以這個例子試算，經過四年的職業工會加保，當小倩決定請領一次給付年金時，卻發現因為最後三年的平均投保薪資僅為2.5萬元，按照勞保局的規定，一次請領的給付金額相對較低，25000元×45個基數＝1125000元。如果小倩當初選擇直接一次請領，擁有26年年資的她可以按照37個基數計算，而最終的給付金額高達169.46萬元，45800元×37個基數＝1694600元。也就是說，小倩勞保多繳4年，反而少領了56萬9600元。張秘書強調，如果勞工選擇一次請領老年給付，務必注意最後3年的投保資薪必須保持在最高水平，否則可能會得不償失。一、必須是離職退保狀態下。二、平均月投保薪資是取最後3年。三、基數算法，前15年一年一個基數，第16年開始每年算二個基數。四、60歲以前年資上限是30年。五、年資未滿30日，以一個月計算。一、保險年資合計每滿1年，按其平均月投保薪資發給1個月。二、保險年資合計超過15年者，超過部分，每滿1年發給2個月，最高以45個月為限。例如：年資26年，其給付年資15+22＝37（個基數）。三、被保險人逾60歲繼續工作者，其逾60歲以後之保險年資，最多以5年計，合併60歲以前之一次請領老年給付，最高以50個月為限。   \n",
       "1                                                                                                                                                                              她薪水全丟這！存百萬竟遭18歲表弟嗆：不如阿公那輩｜東森新聞面對低薪，除了斜槓，大家也會選擇投資。一名女網友表示，才高中的表弟嘲笑她只懂存錢，投資理財的等級比阿公那輩還不如，讓她開始想要改變。原PO在Dcard指出，因為父母沒有投資的習慣，家庭教育也一直跟她反覆告誡投資有風險，股票可能會讓人賠到跳樓，所以長大賺了錢也只會存起來，甚至直到前年才知道一樣是存錢，存到實體開戶的銀行，跟存到數位帳戶利息差很多，所以薪水都是每月固定轉Bankee領利息。原PO透露，親戚聚會的時候聊到理財，才發現現在的高中生都很有想法，也敢於付諸行動，明明還沒出社會賺錢，但賺錢的方法很多，才18歲已經看好要買哪支股票，「表弟問我買股票有沒有賺錢，我說沒有買後，還被他嘲諷，說我只懂存錢，投資理財的等級比阿公那輩還不如，阿公30年前都知道買股票、固定領股息，我這樣根本不算現代人，還是趕快找個有錢男人嫁了。」原PO附上近200萬的存款嘆，平時會逛理財板，看到很多人分享自己千萬存款或幾歲存到百萬，其實覺得很羨慕，也想改變，「2024年開始想要開始投資一點股票，或者多做點副業增加收入，目前已經有申請證券開戶了，不曉得大家有沒有推薦的。」貼文一出，不少人紛紛留言「不會覺得自己比沒買股票的人厲害，任何事情只要想開始都不嫌晚，ETF自己慢慢爬文，投資不要隨意相信他人」、「沒有說存銀行就是不好的投資，投資確實也有風險，不懂理財穩穩存銀行也不吃虧」、「股票也可能賠錢，你這樣列，感覺太理想了」。文章來源：她拿到薪水全丟這⋯「百萬存款」曝光18歲表弟酸：比阿公那輩還不如由CTWANT授權轉載。   \n",
       "2                                                                                                                                                                                                                                                                                                                                                                                                                                                                           陽明海運年終落差超嚴重！去年13個月 今年數字嚇死人｜東森新聞在疫情期間，航運相關產業可以說是獲利頗豐，陽明海運在2022年的年終就高達13個月，羨煞不少民眾。但現在有消息指出，陽明海運於日前召開董事會，決議今年年終獎金僅1個月，加上每年固定的第13個月薪資，形同年終獎金僅2個月，與去年相比有著不少的落差。據了解，陽明海運去年年終有13個月，2023年的年度分紅也有20個月，整個加起來多達33個月之多。但根據媒體報導指出，在陽明海運的董事會上，決議年終獎金僅有1個月。而報導中也推估2024年的年終分紅也僅有1個月，加上固定的第13個月薪資，總和僅3.2個月。但好消息是，陽明海運將比照公務員標準，明年為員工加薪4%。報導中也提到，由於陽明海運具有官股性質，年終獎金最多只能發12個月，但是在分紅制度方面，陽明海運明訂稅前獲利1%為員工紅利，這數字遠高於長榮海運的0.5%與萬海的0.6%。   \n",
       "3  勞保紓困貸款最高拿10萬元 申請4條件曝光！｜東森新聞勞工快看過來！今（25）日，勞動部公告113年勞保紓困貸款將在1月5日開放申請，受理至113年1月19日截止，每人最高可貸10萬元，貸款期間3年，其也列出貸款申貸資格4條件，若有符合資格的勞工，記得於受理時間申請。勞動部表示，為了要協助勞工朋友度過農曆年前經濟困難，113年勞保紓困貸款將於113年1月5日正式開辦，受理至113年1月19日截止，每人最高可貸10萬元，貸款期間3年，年利率目前為2.04％，前6個月按月付息不還本，第7個月起按月平均攤還本息。1.生活困難需要紓困2.參加勞工保險年資滿15年（計算至受理截止日113年1月19日止）3.無欠繳勞工保險費及滯納金4.未曾借貸勞保紓困貸款，或曾借貸已繳清貸款本金及利息者勞動部指出，若是已請領老年給付、終身無工作能力之失能給付或向其所屬機關請領勞工保險補償金者，則不得申請勞保紓困貸款。申辦本項貸款無需繳交任何費用；每人限申請1次，重複申請者不予受理。另外，符合資格且有需求之勞工朋友，可以於受理申請期間，透過網路、臨櫃或郵寄等方式，向土地銀行各地分行或其委託之金融機構提出申請。對此，勞動部也呼籲，為了減少民眾臨櫃排隊久候時間，請多加利用網路申請，例假日亦可使用，既省時又方便。此外，勞動部勞工保險局在2023年的尾聲，將陸續完成11項給付的入帳作業，預計今日發放國民年金保險老年基本保證年金、國民年金保險原住民給付；周四（28日）則預計發放勞保年金給付、職保年金給付、勞退月退休金（首發案）。周五（29日）將有另外6項給付入帳，包括產檢假與陪產檢及陪產假薪資補助、國保身心障礙年金給付併計勞保年資、國民年金保險老年年金給付、國民年金保險身心障礙（基本保證）年金、國民年金保險喪葬給付、國民年金保險遺囑年金。詳情請治土地銀行客服專線（02）2314-6633及其所屬分行或其委託金融機構，土地銀行於連江縣馬祖地區無營業據點，委託連江縣農會受理；或電洽勞保局服務專線（02）2396-1266。   \n",
       "4                                                                                                                                                                                                                   台塑四寶獲利衰！年終3.5個月恐無望 創11年低｜東森新聞舞台上辣妹勁歌熱舞，炒熱現場氣氛，年底員工最期待的就是年終尾牙，不過傳產龍頭台塑集團，考量剛搬遷到內湖新總部，今年尾牙還是再度停辦，而年終獎金恐怕還會讓員工小失望，因為可能創下近11年最低，不到3.5個月。台塑企業全國聯合會理事長陳鴻儒：「外界所傳的要（EPS）2.43元，（年終）才能達到3.5個月，好在是說公司跟工會有做一個協商，最低保障是3個月，最高7個月。」攤開歷年台塑年終大紅包，110年獲利爆發，員工年終領到最高上限7個月，羨煞不少人，但去年開始受到國際油價、石化行情趨緩影響，略為縮水，而今年可能不只保不了3.5個月，就連工會想積極爭取的3.3個月，恐怕也很艱難。財經專家邱敏寬：「台塑四寶在年底的時候，又遭遇到整個EAFC當中的特殊產品限制，那就目前來說，這個限制到選後會不會開放，要持續來做觀察。」尤其在通膨升息壓力干擾下，讓中國大陸經濟復甦不如預期，即使第三季油價強彈，但台塑四寶前三季稅後純益，仍是452億元年減60.8％，財經專家邱敏寬：「明年的經濟成長率，目前七大機構來估，大概都有到3％以上，今年對台塑四寶相對比較保守，但是我對於明年倒是會比較樂觀一些，因為明年的傳統產業跟電子產業，特別是在通訊跟AI這一塊，擴張性會比較大一點。」不過明年台塑是否將會出現變動，資深媒體人臉書及內部員工，都爆出明年台塑四寶將有人事大地震，但台塑集團對相關謠言皆不予置評，要專注在公司營運，期許在新的一年，能繼續全力衝刺。   \n",
       "\n",
       "                                        artUrl artCatagory  \\\n",
       "0  https://news.ebc.net.tw/news/article/397623          財經   \n",
       "1  https://news.ebc.net.tw/news/article/397656          財經   \n",
       "2  https://news.ebc.net.tw/news/article/397802          財經   \n",
       "3  https://news.ebc.net.tw/news/article/397804          財經   \n",
       "4  https://news.ebc.net.tw/news/article/397811          財經   \n",
       "\n",
       "                                                                                                                                                                                                                                                                                                                                                                                                                                                                                                                                                                                                                                                                                                                                                                                                                                                                                                             words  \n",
       "0                                                                                                                                                                   勞保 多繳 領近 57 問題 竟出 最後 東森 新聞 一名 擁有 26 年資 女性 上班族 年前 離職 退保 原本 一次 領可領 169.46 萬元 離職 接案 選擇 加入 職業工會 最低 薪資 2.5 萬元 繼續 投保 最後 少領 57 對此 勞保 達人 張秘 做出 解釋 YouTube 頻道 勞工 朋友 祕書 張秘書 影片 分享 案例 一名 52 勞工 年資 26 職業倦怠 不想 朝九晚五 決定 在家 接案 工作 符合 一次 領的 資格 選擇 加入 職業工會 加保 秘書以 例子 試算 四年 職業工會 加保 當小倩 決定 請領 一次 給付 年金 發現 最後 三年 平均 投保 薪資 僅為 2.5 萬元 勞保局 規定 一次 請領 給付 金額 相對 25000 45 基數 1125000 小倩 當初 選擇 直接 一次 請領 擁有 26 年資 37 基數 計算 最終 給付 金額 高達 169.46 萬元 45800 37 基數 1694600 也就是說 小倩 勞保 多繳 少領 56 9600 張秘書 強調 勞工 選擇 一次 請領 老年 給付 務必 注意 最後 投保 資薪 保持 最高 水平 得不償失 離職 退保 狀態 平均 投保 薪資 最後 基數 算法 15 一年 基數 16 每年 二個 基數 60 以前 年資 上限 30 年資 未滿 30 一個月 計算 年資 合計 每滿 平均 投保 薪資 發給 年資 合計 超過 15 年者 超過 部分 每滿 發給 最高 45 年資 26 給付 年資 15 22 37 基數 被保險人 60 繼續 工作者 60 以後 年資 最多以 年計 合併 60 以前 一次 請領 老年 給付 最高 50  \n",
       "1                                                                                                                                                                                                                                                                                                                薪水 百萬 18 表弟 阿公 那輩 東森 新聞 面對 低薪 斜槓 選擇 投資 一名 女網友 表示 高中 表弟 嘲笑 存錢 投資 理財 等級 阿公 那輩還 想要 改變 PO Dcard 指出 父母 投資 習慣 家庭教育 一直 反覆 告誡 投資 風險 股票 賠到 跳樓 長大 賺了錢 只會存 直到 前年 知道 存錢 實體 開戶 銀行 存到 數位 帳戶 利息 薪水 每月 固定 Bankee 利息 PO 透露 親戚 聚會 聊到 理財 發現 現在 高中生 想法 付諸行動 明明 還沒出 社會 賺錢 賺錢 方法 18 已經 看好 哪支 股票 表弟 問我 股票 有沒有 賺錢 還被 嘲諷 存錢 投資 理財 等級 阿公 那輩還 阿公 30 年前 知道 股票 固定 股息 根本 不算 現代人 找個 有錢 男人 PO 附上 200 存款 平時 理財 看到 分享 存款 幾歲 百萬 覺得 羨慕 改變 2024 想要 投資 一點 股票 做點 副業 增加收入 目前 已經 申請 證券 開戶 曉得 有沒有 推薦 貼文 一出 紛紛 留言 覺得 股票 厲害 事情 ETF 慢慢 爬文 投資 隨意 相信 說存 銀行 不好 投資 投資 確實 風險 理財 穩穩 銀行 吃虧 股票 賠錢 感覺 理想 文章 來源 拿到 薪水 百萬 存款 曝光 18 表弟 阿公 那輩還 CTWANT 授權 轉載  \n",
       "2                                                                                                                                                                                                                                                                                                                                                                                                                                                                                                                                陽明 海運 年終 落差 嚴重 去年 13 今年 數字 嚇死人 東森 新聞 疫情 期間 航運 相關 產業 獲利 頗豐 陽明 海運 2022 年終 高達 13 羨煞 民眾 現在 消息 指出 陽明 海運 日前 召開 董事會 決議 今年 年終獎金 每年 固定 13 薪資 形同 年終獎金 去年 相比 有著 落差 了解 陽明 海運 去年 年終 13 2023 年度 分紅 20 整個 多達 33 媒體 指出 陽明 海運 董事會 決議 年終獎金 僅有 推估 2024 年終 分紅 僅有 固定 13 薪資 總和 3.2 好消息 陽明 海運 公務員 標準 明年 員工 加薪 4% 提到 陽明 海運 具有 官股 性質 年終獎金 只能 12 分紅 制度 方面 陽明 海運 明訂 稅前 獲利 1% 員工 紅利 數字 遠高於 長榮 海運 0.5% 萬海 0.6%  \n",
       "3  勞保 貸款 最高 10 萬元 申請 條件 曝光 東森 新聞 勞工 過來 25 勞動部 公告 113 勞保 貸款 將在 開放 申請 受理 113 19 截止 每人 最高 可貸 10 萬元 貸款 期間 列出 貸款 申貸 資格 條件 若有 符合 資格 勞工 記得 受理 時間 申請 勞動部 表示 協助 勞工 朋友 度過 農曆 年前 經濟 困難 113 勞保 貸款 將於 113 正式 開辦 受理 113 19 截止 每人 最高 可貸 10 萬元 貸款 期間 年利率 目前 2.04 付息 還本 平均 攤還 本息 生活 困難 需要 參加 勞工保險 年資 15 計算 受理 截止日 113 19 日止 欠繳 勞工 保險費 滯納金 未曾 借貸 勞保 貸款 借貸 繳清 貸款 本金 利息 勞動部 指出 請領 老年 給付 終身 工作 能力 之失 給付 所屬 機關 請領 勞工保險 補償金 申請 勞保 貸款 申辦 本項 貸款 無需 繳交 費用 每人 申請 重複 申請者 不予 受理 符合 資格 需求 勞工 朋友 受理 申請 期間 透過 網路 臨櫃 郵寄 方式 土地銀行 各地 分行 委託 金融機構 提出申請 對此 勞動部 呼籲 減少 民眾 臨櫃 排隊 久候 時間 請多加 利用 網路 申請 例假日 亦可 使用 既省 方便 勞動部 勞工保險 局在 2023 尾聲 陸續 完成 11 給付 入帳 作業 預計 發放 國民 年金 老年 保證 年金 國民 年金 原住民 給付 周四 28 預計 發放 勞保 年金 給付 職保 年金 給付 勞退 退休金 首發 周五 29 將有 給付 入帳 包括 產檢假 陪產 檢及 產假 薪資 補助 國保 身心 障礙 年金 給付 勞保 年資 國民 年金 老年 年金 給付 國民 年金 身心 障礙 保證 年金 國民 年金 喪葬 給付 國民 年金 遺囑 年金 詳情請 土地銀行 客服 專線 02 2314 6633 所屬 分行 委託 金融機構 土地銀行 連江縣 馬祖地區 營業 據點 委託 連江縣 農會 受理 電洽 勞保局 服務 專線 02 2396 1266  \n",
       "4                                                                                                                                                                                                                                                                             台塑 四寶 獲利 年終 3.5 無望 11 東森 新聞 舞台 辣妹 勁歌熱舞 炒熱 現場 氣氛 年底 員工 期待 年終 尾牙 傳產 龍頭 台塑 集團 考量 搬遷 內湖 總部 今年 尾牙 再度 停辦 年終獎金 還會 員工 失望 創下 11 最低 不到 3.5 台塑 企業 全國 聯合會 理事長 鴻儒 外界 所傳 EPS 2.43 年終 達到 3.5 公司 工會 協商 最低 保障 最高 攤開 歷年 台塑 年終 大紅包 110 獲利 爆發 員工 年終 領到 最高 上限 羨煞 去年 受到 國際 油價 石化 行情 趨緩 影響 縮水 今年 3.5 就連 工會 積極爭取 3.3 艱難 財經專家 邱敏 台塑 四寶在 年底 遭遇 整個 EAFC 特殊 產品 限制 目前 來說 限制 選後會 開放 持續 觀察 尤其 升息 壓力 干擾 中國 大陸 經濟 復甦 預期 第三季 油價 強彈 台塑 四寶 前三季 稅後 純益 452 億元 年減 60.8 財經專家 邱敏 明年 經濟 成長率 目前 七大 機構 來估 以上 今年 台塑 四寶 相對 比較 保守 明年 比較 樂觀 一些 明年 傳統產業 電子 產業 特別是在 通訊 AI 一塊 擴張性 比較 一點 明年 台塑 是否 將會 出現 變動 資深 媒體 人臉 書及 內部 員工 爆出 明年 台塑 四寶將 有人 事大 地震 台塑 集團 相關 謠言 不予置評 專注 公司 營運 期許 一年 繼續 衝刺  "
      ],
      "text/html": [
       "<div>\n",
       "<style scoped>\n",
       "    .dataframe tbody tr th:only-of-type {\n",
       "        vertical-align: middle;\n",
       "    }\n",
       "\n",
       "    .dataframe tbody tr th {\n",
       "        vertical-align: top;\n",
       "    }\n",
       "\n",
       "    .dataframe thead th {\n",
       "        text-align: right;\n",
       "    }\n",
       "</style>\n",
       "<table border=\"1\" class=\"dataframe\">\n",
       "  <thead>\n",
       "    <tr style=\"text-align: right;\">\n",
       "      <th></th>\n",
       "      <th>content</th>\n",
       "      <th>artUrl</th>\n",
       "      <th>artCatagory</th>\n",
       "      <th>words</th>\n",
       "    </tr>\n",
       "  </thead>\n",
       "  <tbody>\n",
       "    <tr>\n",
       "      <th>0</th>\n",
       "      <td>她勞保多繳4年！少領近57萬 問題竟出在最後3年｜東森新聞一名擁有26年年資的女性上班族，4年前離職退保，原本一次領可領169.46萬元，後來離職接案，卻選擇加入職業工會，以最低薪資2.5萬元繼續投保，最後少領了近57萬。對此，勞保達人張秘書也做出解釋。YouTube頻道「勞工朋友的祕書～張秘書」在一則影片中分享一個案例，一名52歲勞工年資26年，因職業倦怠不想再朝九晚五，決定改在家接案工作，她雖已符合一次領的資格，卻選擇加入職業工會，加保4年。張秘書以這個例子試算，經過四年的職業工會加保，當小倩決定請領一次給付年金時，卻發現因為最後三年的平均投保薪資僅為2.5萬元，按照勞保局的規定，一次請領的給付金額相對較低，25000元×45個基數＝1125000元。如果小倩當初選擇直接一次請領，擁有26年年資的她可以按照37個基數計算，而最終的給付金額高達169.46萬元，45800元×37個基數＝1694600元。也就是說，小倩勞保多繳4年，反而少領了56萬9600元。張秘書強調，如果勞工選擇一次請領老年給付，務必注意最後3年的投保資薪必須保持在最高水平，否則可能會得不償失。一、必須是離職退保狀態下。二、平均月投保薪資是取最後3年。三、基數算法，前15年一年一個基數，第16年開始每年算二個基數。四、60歲以前年資上限是30年。五、年資未滿30日，以一個月計算。一、保險年資合計每滿1年，按其平均月投保薪資發給1個月。二、保險年資合計超過15年者，超過部分，每滿1年發給2個月，最高以45個月為限。例如：年資26年，其給付年資15+22＝37（個基數）。三、被保險人逾60歲繼續工作者，其逾60歲以後之保險年資，最多以5年計，合併60歲以前之一次請領老年給付，最高以50個月為限。</td>\n",
       "      <td>https://news.ebc.net.tw/news/article/397623</td>\n",
       "      <td>財經</td>\n",
       "      <td>勞保 多繳 領近 57 問題 竟出 最後 東森 新聞 一名 擁有 26 年資 女性 上班族 年前 離職 退保 原本 一次 領可領 169.46 萬元 離職 接案 選擇 加入 職業工會 最低 薪資 2.5 萬元 繼續 投保 最後 少領 57 對此 勞保 達人 張秘 做出 解釋 YouTube 頻道 勞工 朋友 祕書 張秘書 影片 分享 案例 一名 52 勞工 年資 26 職業倦怠 不想 朝九晚五 決定 在家 接案 工作 符合 一次 領的 資格 選擇 加入 職業工會 加保 秘書以 例子 試算 四年 職業工會 加保 當小倩 決定 請領 一次 給付 年金 發現 最後 三年 平均 投保 薪資 僅為 2.5 萬元 勞保局 規定 一次 請領 給付 金額 相對 25000 45 基數 1125000 小倩 當初 選擇 直接 一次 請領 擁有 26 年資 37 基數 計算 最終 給付 金額 高達 169.46 萬元 45800 37 基數 1694600 也就是說 小倩 勞保 多繳 少領 56 9600 張秘書 強調 勞工 選擇 一次 請領 老年 給付 務必 注意 最後 投保 資薪 保持 最高 水平 得不償失 離職 退保 狀態 平均 投保 薪資 最後 基數 算法 15 一年 基數 16 每年 二個 基數 60 以前 年資 上限 30 年資 未滿 30 一個月 計算 年資 合計 每滿 平均 投保 薪資 發給 年資 合計 超過 15 年者 超過 部分 每滿 發給 最高 45 年資 26 給付 年資 15 22 37 基數 被保險人 60 繼續 工作者 60 以後 年資 最多以 年計 合併 60 以前 一次 請領 老年 給付 最高 50</td>\n",
       "    </tr>\n",
       "    <tr>\n",
       "      <th>1</th>\n",
       "      <td>她薪水全丟這！存百萬竟遭18歲表弟嗆：不如阿公那輩｜東森新聞面對低薪，除了斜槓，大家也會選擇投資。一名女網友表示，才高中的表弟嘲笑她只懂存錢，投資理財的等級比阿公那輩還不如，讓她開始想要改變。原PO在Dcard指出，因為父母沒有投資的習慣，家庭教育也一直跟她反覆告誡投資有風險，股票可能會讓人賠到跳樓，所以長大賺了錢也只會存起來，甚至直到前年才知道一樣是存錢，存到實體開戶的銀行，跟存到數位帳戶利息差很多，所以薪水都是每月固定轉Bankee領利息。原PO透露，親戚聚會的時候聊到理財，才發現現在的高中生都很有想法，也敢於付諸行動，明明還沒出社會賺錢，但賺錢的方法很多，才18歲已經看好要買哪支股票，「表弟問我買股票有沒有賺錢，我說沒有買後，還被他嘲諷，說我只懂存錢，投資理財的等級比阿公那輩還不如，阿公30年前都知道買股票、固定領股息，我這樣根本不算現代人，還是趕快找個有錢男人嫁了。」原PO附上近200萬的存款嘆，平時會逛理財板，看到很多人分享自己千萬存款或幾歲存到百萬，其實覺得很羨慕，也想改變，「2024年開始想要開始投資一點股票，或者多做點副業增加收入，目前已經有申請證券開戶了，不曉得大家有沒有推薦的。」貼文一出，不少人紛紛留言「不會覺得自己比沒買股票的人厲害，任何事情只要想開始都不嫌晚，ETF自己慢慢爬文，投資不要隨意相信他人」、「沒有說存銀行就是不好的投資，投資確實也有風險，不懂理財穩穩存銀行也不吃虧」、「股票也可能賠錢，你這樣列，感覺太理想了」。文章來源：她拿到薪水全丟這⋯「百萬存款」曝光18歲表弟酸：比阿公那輩還不如由CTWANT授權轉載。</td>\n",
       "      <td>https://news.ebc.net.tw/news/article/397656</td>\n",
       "      <td>財經</td>\n",
       "      <td>薪水 百萬 18 表弟 阿公 那輩 東森 新聞 面對 低薪 斜槓 選擇 投資 一名 女網友 表示 高中 表弟 嘲笑 存錢 投資 理財 等級 阿公 那輩還 想要 改變 PO Dcard 指出 父母 投資 習慣 家庭教育 一直 反覆 告誡 投資 風險 股票 賠到 跳樓 長大 賺了錢 只會存 直到 前年 知道 存錢 實體 開戶 銀行 存到 數位 帳戶 利息 薪水 每月 固定 Bankee 利息 PO 透露 親戚 聚會 聊到 理財 發現 現在 高中生 想法 付諸行動 明明 還沒出 社會 賺錢 賺錢 方法 18 已經 看好 哪支 股票 表弟 問我 股票 有沒有 賺錢 還被 嘲諷 存錢 投資 理財 等級 阿公 那輩還 阿公 30 年前 知道 股票 固定 股息 根本 不算 現代人 找個 有錢 男人 PO 附上 200 存款 平時 理財 看到 分享 存款 幾歲 百萬 覺得 羨慕 改變 2024 想要 投資 一點 股票 做點 副業 增加收入 目前 已經 申請 證券 開戶 曉得 有沒有 推薦 貼文 一出 紛紛 留言 覺得 股票 厲害 事情 ETF 慢慢 爬文 投資 隨意 相信 說存 銀行 不好 投資 投資 確實 風險 理財 穩穩 銀行 吃虧 股票 賠錢 感覺 理想 文章 來源 拿到 薪水 百萬 存款 曝光 18 表弟 阿公 那輩還 CTWANT 授權 轉載</td>\n",
       "    </tr>\n",
       "    <tr>\n",
       "      <th>2</th>\n",
       "      <td>陽明海運年終落差超嚴重！去年13個月 今年數字嚇死人｜東森新聞在疫情期間，航運相關產業可以說是獲利頗豐，陽明海運在2022年的年終就高達13個月，羨煞不少民眾。但現在有消息指出，陽明海運於日前召開董事會，決議今年年終獎金僅1個月，加上每年固定的第13個月薪資，形同年終獎金僅2個月，與去年相比有著不少的落差。據了解，陽明海運去年年終有13個月，2023年的年度分紅也有20個月，整個加起來多達33個月之多。但根據媒體報導指出，在陽明海運的董事會上，決議年終獎金僅有1個月。而報導中也推估2024年的年終分紅也僅有1個月，加上固定的第13個月薪資，總和僅3.2個月。但好消息是，陽明海運將比照公務員標準，明年為員工加薪4%。報導中也提到，由於陽明海運具有官股性質，年終獎金最多只能發12個月，但是在分紅制度方面，陽明海運明訂稅前獲利1%為員工紅利，這數字遠高於長榮海運的0.5%與萬海的0.6%。</td>\n",
       "      <td>https://news.ebc.net.tw/news/article/397802</td>\n",
       "      <td>財經</td>\n",
       "      <td>陽明 海運 年終 落差 嚴重 去年 13 今年 數字 嚇死人 東森 新聞 疫情 期間 航運 相關 產業 獲利 頗豐 陽明 海運 2022 年終 高達 13 羨煞 民眾 現在 消息 指出 陽明 海運 日前 召開 董事會 決議 今年 年終獎金 每年 固定 13 薪資 形同 年終獎金 去年 相比 有著 落差 了解 陽明 海運 去年 年終 13 2023 年度 分紅 20 整個 多達 33 媒體 指出 陽明 海運 董事會 決議 年終獎金 僅有 推估 2024 年終 分紅 僅有 固定 13 薪資 總和 3.2 好消息 陽明 海運 公務員 標準 明年 員工 加薪 4% 提到 陽明 海運 具有 官股 性質 年終獎金 只能 12 分紅 制度 方面 陽明 海運 明訂 稅前 獲利 1% 員工 紅利 數字 遠高於 長榮 海運 0.5% 萬海 0.6%</td>\n",
       "    </tr>\n",
       "    <tr>\n",
       "      <th>3</th>\n",
       "      <td>勞保紓困貸款最高拿10萬元 申請4條件曝光！｜東森新聞勞工快看過來！今（25）日，勞動部公告113年勞保紓困貸款將在1月5日開放申請，受理至113年1月19日截止，每人最高可貸10萬元，貸款期間3年，其也列出貸款申貸資格4條件，若有符合資格的勞工，記得於受理時間申請。勞動部表示，為了要協助勞工朋友度過農曆年前經濟困難，113年勞保紓困貸款將於113年1月5日正式開辦，受理至113年1月19日截止，每人最高可貸10萬元，貸款期間3年，年利率目前為2.04％，前6個月按月付息不還本，第7個月起按月平均攤還本息。1.生活困難需要紓困2.參加勞工保險年資滿15年（計算至受理截止日113年1月19日止）3.無欠繳勞工保險費及滯納金4.未曾借貸勞保紓困貸款，或曾借貸已繳清貸款本金及利息者勞動部指出，若是已請領老年給付、終身無工作能力之失能給付或向其所屬機關請領勞工保險補償金者，則不得申請勞保紓困貸款。申辦本項貸款無需繳交任何費用；每人限申請1次，重複申請者不予受理。另外，符合資格且有需求之勞工朋友，可以於受理申請期間，透過網路、臨櫃或郵寄等方式，向土地銀行各地分行或其委託之金融機構提出申請。對此，勞動部也呼籲，為了減少民眾臨櫃排隊久候時間，請多加利用網路申請，例假日亦可使用，既省時又方便。此外，勞動部勞工保險局在2023年的尾聲，將陸續完成11項給付的入帳作業，預計今日發放國民年金保險老年基本保證年金、國民年金保險原住民給付；周四（28日）則預計發放勞保年金給付、職保年金給付、勞退月退休金（首發案）。周五（29日）將有另外6項給付入帳，包括產檢假與陪產檢及陪產假薪資補助、國保身心障礙年金給付併計勞保年資、國民年金保險老年年金給付、國民年金保險身心障礙（基本保證）年金、國民年金保險喪葬給付、國民年金保險遺囑年金。詳情請治土地銀行客服專線（02）2314-6633及其所屬分行或其委託金融機構，土地銀行於連江縣馬祖地區無營業據點，委託連江縣農會受理；或電洽勞保局服務專線（02）2396-1266。</td>\n",
       "      <td>https://news.ebc.net.tw/news/article/397804</td>\n",
       "      <td>財經</td>\n",
       "      <td>勞保 貸款 最高 10 萬元 申請 條件 曝光 東森 新聞 勞工 過來 25 勞動部 公告 113 勞保 貸款 將在 開放 申請 受理 113 19 截止 每人 最高 可貸 10 萬元 貸款 期間 列出 貸款 申貸 資格 條件 若有 符合 資格 勞工 記得 受理 時間 申請 勞動部 表示 協助 勞工 朋友 度過 農曆 年前 經濟 困難 113 勞保 貸款 將於 113 正式 開辦 受理 113 19 截止 每人 最高 可貸 10 萬元 貸款 期間 年利率 目前 2.04 付息 還本 平均 攤還 本息 生活 困難 需要 參加 勞工保險 年資 15 計算 受理 截止日 113 19 日止 欠繳 勞工 保險費 滯納金 未曾 借貸 勞保 貸款 借貸 繳清 貸款 本金 利息 勞動部 指出 請領 老年 給付 終身 工作 能力 之失 給付 所屬 機關 請領 勞工保險 補償金 申請 勞保 貸款 申辦 本項 貸款 無需 繳交 費用 每人 申請 重複 申請者 不予 受理 符合 資格 需求 勞工 朋友 受理 申請 期間 透過 網路 臨櫃 郵寄 方式 土地銀行 各地 分行 委託 金融機構 提出申請 對此 勞動部 呼籲 減少 民眾 臨櫃 排隊 久候 時間 請多加 利用 網路 申請 例假日 亦可 使用 既省 方便 勞動部 勞工保險 局在 2023 尾聲 陸續 完成 11 給付 入帳 作業 預計 發放 國民 年金 老年 保證 年金 國民 年金 原住民 給付 周四 28 預計 發放 勞保 年金 給付 職保 年金 給付 勞退 退休金 首發 周五 29 將有 給付 入帳 包括 產檢假 陪產 檢及 產假 薪資 補助 國保 身心 障礙 年金 給付 勞保 年資 國民 年金 老年 年金 給付 國民 年金 身心 障礙 保證 年金 國民 年金 喪葬 給付 國民 年金 遺囑 年金 詳情請 土地銀行 客服 專線 02 2314 6633 所屬 分行 委託 金融機構 土地銀行 連江縣 馬祖地區 營業 據點 委託 連江縣 農會 受理 電洽 勞保局 服務 專線 02 2396 1266</td>\n",
       "    </tr>\n",
       "    <tr>\n",
       "      <th>4</th>\n",
       "      <td>台塑四寶獲利衰！年終3.5個月恐無望 創11年低｜東森新聞舞台上辣妹勁歌熱舞，炒熱現場氣氛，年底員工最期待的就是年終尾牙，不過傳產龍頭台塑集團，考量剛搬遷到內湖新總部，今年尾牙還是再度停辦，而年終獎金恐怕還會讓員工小失望，因為可能創下近11年最低，不到3.5個月。台塑企業全國聯合會理事長陳鴻儒：「外界所傳的要（EPS）2.43元，（年終）才能達到3.5個月，好在是說公司跟工會有做一個協商，最低保障是3個月，最高7個月。」攤開歷年台塑年終大紅包，110年獲利爆發，員工年終領到最高上限7個月，羨煞不少人，但去年開始受到國際油價、石化行情趨緩影響，略為縮水，而今年可能不只保不了3.5個月，就連工會想積極爭取的3.3個月，恐怕也很艱難。財經專家邱敏寬：「台塑四寶在年底的時候，又遭遇到整個EAFC當中的特殊產品限制，那就目前來說，這個限制到選後會不會開放，要持續來做觀察。」尤其在通膨升息壓力干擾下，讓中國大陸經濟復甦不如預期，即使第三季油價強彈，但台塑四寶前三季稅後純益，仍是452億元年減60.8％，財經專家邱敏寬：「明年的經濟成長率，目前七大機構來估，大概都有到3％以上，今年對台塑四寶相對比較保守，但是我對於明年倒是會比較樂觀一些，因為明年的傳統產業跟電子產業，特別是在通訊跟AI這一塊，擴張性會比較大一點。」不過明年台塑是否將會出現變動，資深媒體人臉書及內部員工，都爆出明年台塑四寶將有人事大地震，但台塑集團對相關謠言皆不予置評，要專注在公司營運，期許在新的一年，能繼續全力衝刺。</td>\n",
       "      <td>https://news.ebc.net.tw/news/article/397811</td>\n",
       "      <td>財經</td>\n",
       "      <td>台塑 四寶 獲利 年終 3.5 無望 11 東森 新聞 舞台 辣妹 勁歌熱舞 炒熱 現場 氣氛 年底 員工 期待 年終 尾牙 傳產 龍頭 台塑 集團 考量 搬遷 內湖 總部 今年 尾牙 再度 停辦 年終獎金 還會 員工 失望 創下 11 最低 不到 3.5 台塑 企業 全國 聯合會 理事長 鴻儒 外界 所傳 EPS 2.43 年終 達到 3.5 公司 工會 協商 最低 保障 最高 攤開 歷年 台塑 年終 大紅包 110 獲利 爆發 員工 年終 領到 最高 上限 羨煞 去年 受到 國際 油價 石化 行情 趨緩 影響 縮水 今年 3.5 就連 工會 積極爭取 3.3 艱難 財經專家 邱敏 台塑 四寶在 年底 遭遇 整個 EAFC 特殊 產品 限制 目前 來說 限制 選後會 開放 持續 觀察 尤其 升息 壓力 干擾 中國 大陸 經濟 復甦 預期 第三季 油價 強彈 台塑 四寶 前三季 稅後 純益 452 億元 年減 60.8 財經專家 邱敏 明年 經濟 成長率 目前 七大 機構 來估 以上 今年 台塑 四寶 相對 比較 保守 明年 比較 樂觀 一些 明年 傳統產業 電子 產業 特別是在 通訊 AI 一塊 擴張性 比較 一點 明年 台塑 是否 將會 出現 變動 資深 媒體 人臉 書及 內部 員工 爆出 明年 台塑 四寶將 有人 事大 地震 台塑 集團 相關 謠言 不予置評 專注 公司 營運 期許 一年 繼續 衝刺</td>\n",
       "    </tr>\n",
       "  </tbody>\n",
       "</table>\n",
       "</div>"
      ]
     },
     "execution_count": 153,
     "metadata": {},
     "output_type": "execute_result"
    }
   ],
   "execution_count": 153
  },
  {
   "cell_type": "code",
   "metadata": {
    "ExecuteTime": {
     "end_time": "2024-04-08T03:05:13.942198Z",
     "start_time": "2024-04-08T03:05:13.936659Z"
    }
   },
   "source": "ct['artCatagory'].value_counts()",
   "outputs": [
    {
     "data": {
      "text/plain": [
       "artCatagory\n",
       "政治    660\n",
       "社會    622\n",
       "國際    451\n",
       "財經     47\n",
       "Name: count, dtype: int64"
      ]
     },
     "execution_count": 155,
     "metadata": {},
     "output_type": "execute_result"
    }
   ],
   "execution_count": 155
  },
  {
   "cell_type": "code",
   "metadata": {
    "ExecuteTime": {
     "end_time": "2024-04-08T03:05:18.501333Z",
     "start_time": "2024-04-08T03:05:14.874181Z"
    }
   },
   "source": [
    "mapper = {\"政治\":\"要聞\", \"國際\":\"全球\", \"社會\":\"社會\", \"財經\":\"財經\"}\n",
    "ct['artCatagory'] = ct['artCatagory'].map(mapper)\n",
    "\n",
    "X = ct['words']\n",
    "y = ct['artCatagory']\n",
    "\n",
    "y_pred = model_set[best_model_name].predict(vectorizer.transform(X).toarray())\n",
    "print(classification_report(y, y_pred))"
   ],
   "outputs": [
    {
     "name": "stdout",
     "output_type": "stream",
     "text": [
      "              precision    recall  f1-score   support\n",
      "\n",
      "          全球       0.78      0.92      0.84       451\n",
      "          社會       0.89      0.90      0.90       622\n",
      "          要聞       0.99      0.86      0.92       660\n",
      "          財經       0.57      0.55      0.56        47\n",
      "\n",
      "    accuracy                           0.88      1780\n",
      "   macro avg       0.81      0.81      0.80      1780\n",
      "weighted avg       0.89      0.88      0.88      1780\n",
      "\n"
     ]
    }
   ],
   "execution_count": 156
  },
  {
   "metadata": {
    "ExecuteTime": {
     "end_time": "2024-04-08T03:05:25.659317Z",
     "start_time": "2024-04-08T03:05:25.650859Z"
    }
   },
   "cell_type": "code",
   "source": [
    "classes = clf.classes_\n",
    "cm = confusion_matrix(y, y_pred)\n",
    "cm"
   ],
   "outputs": [
    {
     "data": {
      "text/plain": [
       "array([[414,  26,   4,   7],\n",
       "       [ 54, 559,   3,   6],\n",
       "       [ 42,  41, 570,   7],\n",
       "       [ 20,   1,   0,  26]], dtype=int64)"
      ]
     },
     "execution_count": 157,
     "metadata": {},
     "output_type": "execute_result"
    }
   ],
   "execution_count": 157
  },
  {
   "metadata": {
    "ExecuteTime": {
     "end_time": "2024-04-08T03:05:33.027066Z",
     "start_time": "2024-04-08T03:05:32.908159Z"
    }
   },
   "cell_type": "code",
   "source": [
    "## Plot confusion matrix\n",
    "fig, ax = plt.subplots()\n",
    "sns.heatmap(cm, annot=True, fmt=\"d\", ax=ax, cmap=plt.cm.Blues, cbar=False)\n",
    "ax.set(\n",
    "    xlabel=\"Pred\",\n",
    "    ylabel=\"True\",\n",
    "    xticklabels=classes,\n",
    "    yticklabels=classes,\n",
    "    title=\"Confusion matrix\",\n",
    ")\n",
    "plt.yticks(rotation=0)"
   ],
   "outputs": [
    {
     "data": {
      "text/plain": [
       "(array([0.5, 1.5, 2.5, 3.5]),\n",
       " [Text(0, 0.5, '全球'),\n",
       "  Text(0, 1.5, '社會'),\n",
       "  Text(0, 2.5, '要聞'),\n",
       "  Text(0, 3.5, '財經')])"
      ]
     },
     "execution_count": 158,
     "metadata": {},
     "output_type": "execute_result"
    },
    {
     "data": {
      "text/plain": [
       "<Figure size 640x480 with 1 Axes>"
      ],
      "image/png": "[encoded data removed]"
     },
     "metadata": {},
     "output_type": "display_data"
    }
   ],
   "execution_count": 158
  },
  {
   "cell_type": "code",
   "metadata": {
    "ExecuteTime": {
     "end_time": "2024-04-08T03:05:48.905655Z",
     "start_time": "2024-04-08T03:05:48.895600Z"
    }
   },
   "source": [
    "ct['pred'] = y_pred\n",
    "ct.loc[:,['words', 'artCatagory',\"pred\"]]"
   ],
   "outputs": [
    {
     "data": {
      "text/plain": [
       "                                                                                                                                                                                                                                                                                                                                                                                                                                                                                                                                                                                                                                                                                                                                                                                                                                                                                                                                                                                                     words  \\\n",
       "0                                                                                                                                                                                                                                                           勞保 多繳 領近 57 問題 竟出 最後 東森 新聞 一名 擁有 26 年資 女性 上班族 年前 離職 退保 原本 一次 領可領 169.46 萬元 離職 接案 選擇 加入 職業工會 最低 薪資 2.5 萬元 繼續 投保 最後 少領 57 對此 勞保 達人 張秘 做出 解釋 YouTube 頻道 勞工 朋友 祕書 張秘書 影片 分享 案例 一名 52 勞工 年資 26 職業倦怠 不想 朝九晚五 決定 在家 接案 工作 符合 一次 領的 資格 選擇 加入 職業工會 加保 秘書以 例子 試算 四年 職業工會 加保 當小倩 決定 請領 一次 給付 年金 發現 最後 三年 平均 投保 薪資 僅為 2.5 萬元 勞保局 規定 一次 請領 給付 金額 相對 25000 45 基數 1125000 小倩 當初 選擇 直接 一次 請領 擁有 26 年資 37 基數 計算 最終 給付 金額 高達 169.46 萬元 45800 37 基數 1694600 也就是說 小倩 勞保 多繳 少領 56 9600 張秘書 強調 勞工 選擇 一次 請領 老年 給付 務必 注意 最後 投保 資薪 保持 最高 水平 得不償失 離職 退保 狀態 平均 投保 薪資 最後 基數 算法 15 一年 基數 16 每年 二個 基數 60 以前 年資 上限 30 年資 未滿 30 一個月 計算 年資 合計 每滿 平均 投保 薪資 發給 年資 合計 超過 15 年者 超過 部分 每滿 發給 最高 45 年資 26 給付 年資 15 22 37 基數 被保險人 60 繼續 工作者 60 以後 年資 最多以 年計 合併 60 以前 一次 請領 老年 給付 最高 50   \n",
       "1                                                                                                                                                                                                                                                                                                                                                                                                        薪水 百萬 18 表弟 阿公 那輩 東森 新聞 面對 低薪 斜槓 選擇 投資 一名 女網友 表示 高中 表弟 嘲笑 存錢 投資 理財 等級 阿公 那輩還 想要 改變 PO Dcard 指出 父母 投資 習慣 家庭教育 一直 反覆 告誡 投資 風險 股票 賠到 跳樓 長大 賺了錢 只會存 直到 前年 知道 存錢 實體 開戶 銀行 存到 數位 帳戶 利息 薪水 每月 固定 Bankee 利息 PO 透露 親戚 聚會 聊到 理財 發現 現在 高中生 想法 付諸行動 明明 還沒出 社會 賺錢 賺錢 方法 18 已經 看好 哪支 股票 表弟 問我 股票 有沒有 賺錢 還被 嘲諷 存錢 投資 理財 等級 阿公 那輩還 阿公 30 年前 知道 股票 固定 股息 根本 不算 現代人 找個 有錢 男人 PO 附上 200 存款 平時 理財 看到 分享 存款 幾歲 百萬 覺得 羨慕 改變 2024 想要 投資 一點 股票 做點 副業 增加收入 目前 已經 申請 證券 開戶 曉得 有沒有 推薦 貼文 一出 紛紛 留言 覺得 股票 厲害 事情 ETF 慢慢 爬文 投資 隨意 相信 說存 銀行 不好 投資 投資 確實 風險 理財 穩穩 銀行 吃虧 股票 賠錢 感覺 理想 文章 來源 拿到 薪水 百萬 存款 曝光 18 表弟 阿公 那輩還 CTWANT 授權 轉載   \n",
       "2                                                                                                                                                                                                                                                                                                                                                                                                                                                                                                                                                                                                                        陽明 海運 年終 落差 嚴重 去年 13 今年 數字 嚇死人 東森 新聞 疫情 期間 航運 相關 產業 獲利 頗豐 陽明 海運 2022 年終 高達 13 羨煞 民眾 現在 消息 指出 陽明 海運 日前 召開 董事會 決議 今年 年終獎金 每年 固定 13 薪資 形同 年終獎金 去年 相比 有著 落差 了解 陽明 海運 去年 年終 13 2023 年度 分紅 20 整個 多達 33 媒體 指出 陽明 海運 董事會 決議 年終獎金 僅有 推估 2024 年終 分紅 僅有 固定 13 薪資 總和 3.2 好消息 陽明 海運 公務員 標準 明年 員工 加薪 4% 提到 陽明 海運 具有 官股 性質 年終獎金 只能 12 分紅 制度 方面 陽明 海運 明訂 稅前 獲利 1% 員工 紅利 數字 遠高於 長榮 海運 0.5% 萬海 0.6%   \n",
       "3                                                                                          勞保 貸款 最高 10 萬元 申請 條件 曝光 東森 新聞 勞工 過來 25 勞動部 公告 113 勞保 貸款 將在 開放 申請 受理 113 19 截止 每人 最高 可貸 10 萬元 貸款 期間 列出 貸款 申貸 資格 條件 若有 符合 資格 勞工 記得 受理 時間 申請 勞動部 表示 協助 勞工 朋友 度過 農曆 年前 經濟 困難 113 勞保 貸款 將於 113 正式 開辦 受理 113 19 截止 每人 最高 可貸 10 萬元 貸款 期間 年利率 目前 2.04 付息 還本 平均 攤還 本息 生活 困難 需要 參加 勞工保險 年資 15 計算 受理 截止日 113 19 日止 欠繳 勞工 保險費 滯納金 未曾 借貸 勞保 貸款 借貸 繳清 貸款 本金 利息 勞動部 指出 請領 老年 給付 終身 工作 能力 之失 給付 所屬 機關 請領 勞工保險 補償金 申請 勞保 貸款 申辦 本項 貸款 無需 繳交 費用 每人 申請 重複 申請者 不予 受理 符合 資格 需求 勞工 朋友 受理 申請 期間 透過 網路 臨櫃 郵寄 方式 土地銀行 各地 分行 委託 金融機構 提出申請 對此 勞動部 呼籲 減少 民眾 臨櫃 排隊 久候 時間 請多加 利用 網路 申請 例假日 亦可 使用 既省 方便 勞動部 勞工保險 局在 2023 尾聲 陸續 完成 11 給付 入帳 作業 預計 發放 國民 年金 老年 保證 年金 國民 年金 原住民 給付 周四 28 預計 發放 勞保 年金 給付 職保 年金 給付 勞退 退休金 首發 周五 29 將有 給付 入帳 包括 產檢假 陪產 檢及 產假 薪資 補助 國保 身心 障礙 年金 給付 勞保 年資 國民 年金 老年 年金 給付 國民 年金 身心 障礙 保證 年金 國民 年金 喪葬 給付 國民 年金 遺囑 年金 詳情請 土地銀行 客服 專線 02 2314 6633 所屬 分行 委託 金融機構 土地銀行 連江縣 馬祖地區 營業 據點 委託 連江縣 農會 受理 電洽 勞保局 服務 專線 02 2396 1266   \n",
       "4                                                                                                                                                                                                                                                                                                                                                                     台塑 四寶 獲利 年終 3.5 無望 11 東森 新聞 舞台 辣妹 勁歌熱舞 炒熱 現場 氣氛 年底 員工 期待 年終 尾牙 傳產 龍頭 台塑 集團 考量 搬遷 內湖 總部 今年 尾牙 再度 停辦 年終獎金 還會 員工 失望 創下 11 最低 不到 3.5 台塑 企業 全國 聯合會 理事長 鴻儒 外界 所傳 EPS 2.43 年終 達到 3.5 公司 工會 協商 最低 保障 最高 攤開 歷年 台塑 年終 大紅包 110 獲利 爆發 員工 年終 領到 最高 上限 羨煞 去年 受到 國際 油價 石化 行情 趨緩 影響 縮水 今年 3.5 就連 工會 積極爭取 3.3 艱難 財經專家 邱敏 台塑 四寶在 年底 遭遇 整個 EAFC 特殊 產品 限制 目前 來說 限制 選後會 開放 持續 觀察 尤其 升息 壓力 干擾 中國 大陸 經濟 復甦 預期 第三季 油價 強彈 台塑 四寶 前三季 稅後 純益 452 億元 年減 60.8 財經專家 邱敏 明年 經濟 成長率 目前 七大 機構 來估 以上 今年 台塑 四寶 相對 比較 保守 明年 比較 樂觀 一些 明年 傳統產業 電子 產業 特別是在 通訊 AI 一塊 擴張性 比較 一點 明年 台塑 是否 將會 出現 變動 資深 媒體 人臉 書及 內部 員工 爆出 明年 台塑 四寶將 有人 事大 地震 台塑 集團 相關 謠言 不予置評 專注 公司 營運 期許 一年 繼續 衝刺   \n",
       "...                                                                                                                                                                                                                                                                                                                                                                                                                                                                                                                                                                                                                                                                                                                                                                                                                                                                                                                                                                                                    ...   \n",
       "1775                                                                                                                                                                          美英 葉門 叛軍 油價 飆漲 貨櫃 運價 東森 新聞 美英 聯軍 12 針對 葉門 叛軍 青年運動 73 目標 發射 至少 一百五十 戰斧 巡弋 飛彈 雷射 導引 炸彈 轟炸 葉門 叛軍 青年運動 73 目標 紅海 局勢 升高 造成 貨櫃 運價 連七漲 原油價格 一天 飆漲 4% 夜色 美軍 F18 戰機 艾森豪 航空母艦 升空 打擊 葉門 叛軍 青年運動 據點 英國 颱風 戰機 塞普路斯 起飛 進行 攻擊 參與 軍事行動 協力 國家 包括 澳洲 巴林 加拿大 荷蘭 美國國防部 發言人 萊德 這是 國際 問題 需要 國際 社會 共同 解決 當地 時間 12 凌晨 英美 聯軍 發射 包括 戰斧 飛彈 超過 一百五十 精準 導引 彈藥 攻擊 伊朗 支持 青年運動 叛軍 葉門 首都 地點 73 目標 目的 削弱 青年運動 去年底 以來 宣稱 支持 薩哈 瑪斯 紅海 商船 攻擊 武力 美國 總統 拜登 我己 經向 伊朗 傳遞 訊息 知道 所欲 拜登 表示 伊朗 代理人 戰爭 對此 青年運動 進行 反擊 至少 發射 飛彈 擊中 船艦 青年運動 揚言 繼續 攻擊 紅海 商船 首都 那則 出現 大規模 反美 以色列 抗議 數萬人 湧上 首都 街頭 遊行 焚燒 國旗 洩憤 伊朗 公布 11 號在 阿曼灣 扣押 一艘 美國 油輪 畫面 伊朗 表示 這項 行動 報復 美國 去年 扣押 一艘船 石油 紅海 局勢 升溫 造成 油價 波動 布蘭特 北海 原油 西德 中級 原油 十二日 價格 飆漲 貨櫃 運價 指數 攀高 最新 一期 上海 出口 集裝箱 運價 指數 大漲 309.38 點至 2206.03 站上 2000 大關 英美 聯軍 攻擊 葉門 叛軍 引發 疑慮 卡達 阿曼 美國 波斯灣 盟邦 擔憂 區域 情勢 失控 中東 捲入 伊朗 支持 武裝 團體 敘利亞 伊拉克 境內 進一步 衝突   \n",
       "1776                                                                                                                                                           英相蘇 納克 二度 訪烏 安全 協議 增援 千億 台幣 東森 新聞 俄烏 開戰 面臨 外國 軍援 停擺 困境 近期 日本 外長 訪烏 宣布 撥款 11.5 資金 協助 烏克蘭 英國首相 納克 二度 訪問 基輔 烏克蘭 簽訂 長達 10 安全 協議 之外 宣布 給予 烏克蘭 高達 25 億英鎊 相當於 新台幣 千億 國防 援助 鎖定 前方 俄軍 車隊 進行 連續 打擊 烏軍在 烏克蘭 全境 持續 對抗 俄羅斯 面對 西方 援助 一度 停擺 終於 出現 救兵 英國首相 納克 歷史 告訴 堅持下去 民主 國家 永遠 上風 普丁 無法 理解 殺死 摧毀 建築物 軍隊 能夠 擊敗 自由 意志 英國首相 納克 二度 訪問 基輔 烏克蘭 議會 進行 演說 總統 倫斯基 一同 前往 醫院 探望 傷兵 士兵 加油打氣 納克 一趟 做出 一項 重要 決定 英國首相 納克 英國 今天 宣佈 戰爭 以來 烏克蘭 大規模 國防 援助 25 億英鎊 台幣 991 英國 這一波 軍援 中有 至少 億英鎊 將用 快速 大量 採購 生產 多達 數千架 軍用 無人機 未來 有望 成為 歷來 大規模 外國 無人機 援烏計畫 英烏 雙方 簽署 安全 合作 協議 效期 長達 10 延長 這項 協議 主要 防止 烏克蘭 再度 遭到 侵略 侵略 再起 英國 第一 時間 支援 烏克蘭 直到 最後 一刻 烏克蘭 地面部隊 指揮官 呼籲 西方 援助 攻擊機 指揮官 西爾斯 考慮 得到 10 攻擊機 能作 一種 選擇 新型 機種 一種 許多 戰爭 證明 可靠 武器 烏克蘭 面對 持續 俄國 攻擊 積極 尋求 外援 針對 俄羅斯 邊境 發動 反擊 行動 俄羅斯 城市 別爾哥羅德 近期 烏克蘭 擊後 造成 多人 死傷 當地政府 針對 500 多個 公車站 堆砌 沙包 水泥牆 設置 防護 屏障 保護 民眾 受到 戰爭 兩年 雙方 加強 攻擊力 戰事 升級   \n",
       "1777                                                                                                                                                                                                                                                                                                                                                                                                                       女扮 遊戲 角色 殭屍 陸地 鐵遭 圍觀 東森 新聞 女子 頭戴 紫色 假髮 頂著 殭屍 身穿 類似 漢服 服裝 扮成 殭屍 地鐵 安檢員 給攔 下來 地鐵 安檢員 vs Coser 請問 地鐵站 cosplay 形象 國產 遊戲 原神裡面 七七 角色 身上 衣服 搭配 漢服 這是 這是 漢服 先報 身分證 裝扮成 可愛 殭屍 要求 查驗 身分 女子 實在 理解 裝扮 影響 稱不上 恐怖 進站 地鐵 地鐵 安檢員 vs Coser 那種 血腥 恐怖 低俗 恐怖 覺得 可愛 動作 引起 圍觀 要負 法律責任 知道 想問 帽子 摘下來 至少 正常 乘客 以為 怪物 卡通 不斷 要求 女子 摘下 帽子 頭飾 安檢員 以會 引起 圍觀 理由 女子 配合 警察 雙方 溝通 一段時間 最後 願意 女子 進站 中國 一名 Coser 網路上 發了 這段 影片 參加 動漫展 地鐵 遭到 盤查 瞬間 引起 熱議 上海 地鐵 工作人員 Cosplay 制服 進站 日常 服飾 進站 安檢 人員 進行 阻攔 呼叫 民警 影片 曝光 中國 網友 紛紛 留言 怒罵 穿著 打扮 遭到 限制 真的 太過 離譜 律師 表示 法律 穿著 限制 乘客 扮演 卡通 動漫 角色 限制 禁止 進入 地鐵 干預 乘客 自由 穿衣 嫌疑 實在 不妥   \n",
       "1778  大選 影響 台海 情勢 日本 防相 密切 監視 中國軍方 東森 新聞 台灣 大選 日本 媒體 關注 多家 媒體 記者 來台 連線 採訪 選前 三位 候選人 有所 分析 關注 著重 台海 情勢 台灣 有事 日本 有事 台灣 選舉 影響 全球 日本 防衛 大臣 強調 密切 關注 中國 軍隊 台灣 周邊 動向 台灣 總統大選 日本 媒體 關注 選前 各家 日本 電視 記者 台灣 連線 日本 記者 藍色 招牌 國民黨 侯友宜 候選人 回頭 則是 民進黨 候選人 賴清德 大型 招牌 日本 來說 大選 影響 台海 情勢 日本 防衛 大臣 木原 強調 密切 關注 中國 台灣 周邊 動向 日本 媒體 對三人 各有 期待 形容 認真 男子 刑事 變色龍 日本 學館 大學 副教授 村上 政俊 賴清德 觸及 台獨 宣言 世界 發信 這點 最大 原因 美國 安心 賴清德 日媒 擔心 兩岸 情勢 是否 緊張 NHK 分析 指出 賴清德 強烈 台獨 色彩 挑戰 美國 政策 紅線 專家 分析 賴清德 當選 調整 兩岸 政策 程度 有限 侯友宜 日媒則 關注 是否 會親 習近平 沮喪 日本 軍事 記者 小原 凡司 現在 國民黨 以前 國民黨 相比 發生 很大 變化 並不像 以前 馬英九 時期 親中 人物 站穩 陣腳 日經 亞洲 分析 侯友宜 兩岸 政策 比較 模糊 美國 保持 密切關係 希望 中國 友好 台灣民眾 北京 信任 侯友宜 中國 靠近 NHK 主播 台灣 中國 靠近 台灣 半導體 先進 技術 流向 中國 日本 法政 大學教授 福田 指出 國民黨 以前 重視 中國 經濟 關係 這也 美國 擔心 半導體技術 落入 中國 手中 晶片 制裁 等於 白忙 一場 日本 政治學家 小笠 欣幸 柯文哲 先生 情況 政策 政策 有點 三腳 關鍵 柯文哲 日媒則 比較 難以預測 專家 分析 柯文哲 兩岸 議題 比較 模糊 受到 年輕 選民 歡迎 主打 薪水 住宅 民生問題 日本 政治學家 小笠 欣幸 當選 總統 將在 20 就職 四個 時間 是否 中國 進行 形式 幕後 接觸 國際 社會 將以 何種 心情 看待 總統 誕生 台灣 有事 日本 有事 2024 總統大選 出爐 日本 媒體 關注 台海 情勢 新任 總統 面對 需要 繼續 觀察   \n",
       "1779                                                 聚焦 安全 局勢 半導體 CNN 台灣 大選 改變 世界 東森 新聞 這場 關鍵 大選 台灣 關注 許多 國際 媒體 大陣 記者 來台 採訪 CNN 一篇 這場 選舉 改變 世界 哪些方面 影響 世界 CNN 認為 主要 全球 安全 局勢 半導體 供應鏈 位於 第一 島鏈 台灣 具有 重要 戰略意義 台灣 全球 第一 晶片 製造商 發生 衝突 導致 供應鏈 中斷 將會 全世界 造成 災難性 後果 2024 台灣 大選 重要 國際 媒體 大篇幅 CNN 斗大 標題 直言 今年 一場 選舉 改變 世界 美國 大選 台灣 CNN 新聞 主播 這是 一場 全球 密切 關注 選舉 尤其 共產主義 鄰國 中國 美國 CNN 中國 領導 高層 尤其 關注 大選 北京 回應 台灣 民意 決擇 也將 考驗 著中美 之間 是否 能夠 控制 緊張局勢 CNN 特派記者 普利 台灣 中美 之間 緊張局勢 最大 主因 美國 台灣 國際 主要 支持者 武器 供應商 中國 這次 選舉 做出 回應 將會 成為 重大 考驗 北京 華府 能否 控制 緊張局勢 走向 進一步 對抗 衝突 CNN 分析 專家 預期 解放軍 在短期內 出兵 台灣 文章 提到 北京 方式 表達 包括 進行 軍事演習 展示 武力 進一步 暫停 台灣 貿易往來 封鎖 CNN 特派記者 普利 台灣 全球 第一 半導體 製造商 高價 晶片 所有 高科技產品 提供 動力 間接 直接 衝突 導致 供應鏈 中斷 將會 世界各地 發生 災難性 後果 台海 局勢 變化 半導體 供應鏈 有何 影響 一大 焦點 美國 荷蘭 媒體 特別 製作 一集 專題 節目 談台灣 大選 晶片 產業 荷蘭 代表 欣新 假設 台灣 內部 發生 狀況 台灣 邊境 止步 這將會 全球性 災難 這是 稱之為 矽盾 節目 專訪 台灣 荷蘭 代表 欣新 強調 半導體 產業 台灣 國家 安全 矽盾 節目 採訪 晶片 戰爭 一書 作者 米勒 米勒 估計 台海 軍事衝突 將對 全球 經濟 造成 至少 美元 62 台幣 衝擊 選舉 影響 半導體 供應鏈 全球 安全 局勢 CNN 台灣 2024 大選 造成 影響 無遠弗屆   \n",
       "\n",
       "     artCatagory pred  \n",
       "0             財經   財經  \n",
       "1             財經   財經  \n",
       "2             財經   全球  \n",
       "3             財經   財經  \n",
       "4             財經   財經  \n",
       "...          ...  ...  \n",
       "1775          全球   全球  \n",
       "1776          全球   全球  \n",
       "1777          全球   全球  \n",
       "1778          全球   全球  \n",
       "1779          全球   全球  \n",
       "\n",
       "[1780 rows x 3 columns]"
      ],
      "text/html": [
       "<div>\n",
       "<style scoped>\n",
       "    .dataframe tbody tr th:only-of-type {\n",
       "        vertical-align: middle;\n",
       "    }\n",
       "\n",
       "    .dataframe tbody tr th {\n",
       "        vertical-align: top;\n",
       "    }\n",
       "\n",
       "    .dataframe thead th {\n",
       "        text-align: right;\n",
       "    }\n",
       "</style>\n",
       "<table border=\"1\" class=\"dataframe\">\n",
       "  <thead>\n",
       "    <tr style=\"text-align: right;\">\n",
       "      <th></th>\n",
       "      <th>words</th>\n",
       "      <th>artCatagory</th>\n",
       "      <th>pred</th>\n",
       "    </tr>\n",
       "  </thead>\n",
       "  <tbody>\n",
       "    <tr>\n",
       "      <th>0</th>\n",
       "      <td>勞保 多繳 領近 57 問題 竟出 最後 東森 新聞 一名 擁有 26 年資 女性 上班族 年前 離職 退保 原本 一次 領可領 169.46 萬元 離職 接案 選擇 加入 職業工會 最低 薪資 2.5 萬元 繼續 投保 最後 少領 57 對此 勞保 達人 張秘 做出 解釋 YouTube 頻道 勞工 朋友 祕書 張秘書 影片 分享 案例 一名 52 勞工 年資 26 職業倦怠 不想 朝九晚五 決定 在家 接案 工作 符合 一次 領的 資格 選擇 加入 職業工會 加保 秘書以 例子 試算 四年 職業工會 加保 當小倩 決定 請領 一次 給付 年金 發現 最後 三年 平均 投保 薪資 僅為 2.5 萬元 勞保局 規定 一次 請領 給付 金額 相對 25000 45 基數 1125000 小倩 當初 選擇 直接 一次 請領 擁有 26 年資 37 基數 計算 最終 給付 金額 高達 169.46 萬元 45800 37 基數 1694600 也就是說 小倩 勞保 多繳 少領 56 9600 張秘書 強調 勞工 選擇 一次 請領 老年 給付 務必 注意 最後 投保 資薪 保持 最高 水平 得不償失 離職 退保 狀態 平均 投保 薪資 最後 基數 算法 15 一年 基數 16 每年 二個 基數 60 以前 年資 上限 30 年資 未滿 30 一個月 計算 年資 合計 每滿 平均 投保 薪資 發給 年資 合計 超過 15 年者 超過 部分 每滿 發給 最高 45 年資 26 給付 年資 15 22 37 基數 被保險人 60 繼續 工作者 60 以後 年資 最多以 年計 合併 60 以前 一次 請領 老年 給付 最高 50</td>\n",
       "      <td>財經</td>\n",
       "      <td>財經</td>\n",
       "    </tr>\n",
       "    <tr>\n",
       "      <th>1</th>\n",
       "      <td>薪水 百萬 18 表弟 阿公 那輩 東森 新聞 面對 低薪 斜槓 選擇 投資 一名 女網友 表示 高中 表弟 嘲笑 存錢 投資 理財 等級 阿公 那輩還 想要 改變 PO Dcard 指出 父母 投資 習慣 家庭教育 一直 反覆 告誡 投資 風險 股票 賠到 跳樓 長大 賺了錢 只會存 直到 前年 知道 存錢 實體 開戶 銀行 存到 數位 帳戶 利息 薪水 每月 固定 Bankee 利息 PO 透露 親戚 聚會 聊到 理財 發現 現在 高中生 想法 付諸行動 明明 還沒出 社會 賺錢 賺錢 方法 18 已經 看好 哪支 股票 表弟 問我 股票 有沒有 賺錢 還被 嘲諷 存錢 投資 理財 等級 阿公 那輩還 阿公 30 年前 知道 股票 固定 股息 根本 不算 現代人 找個 有錢 男人 PO 附上 200 存款 平時 理財 看到 分享 存款 幾歲 百萬 覺得 羨慕 改變 2024 想要 投資 一點 股票 做點 副業 增加收入 目前 已經 申請 證券 開戶 曉得 有沒有 推薦 貼文 一出 紛紛 留言 覺得 股票 厲害 事情 ETF 慢慢 爬文 投資 隨意 相信 說存 銀行 不好 投資 投資 確實 風險 理財 穩穩 銀行 吃虧 股票 賠錢 感覺 理想 文章 來源 拿到 薪水 百萬 存款 曝光 18 表弟 阿公 那輩還 CTWANT 授權 轉載</td>\n",
       "      <td>財經</td>\n",
       "      <td>財經</td>\n",
       "    </tr>\n",
       "    <tr>\n",
       "      <th>2</th>\n",
       "      <td>陽明 海運 年終 落差 嚴重 去年 13 今年 數字 嚇死人 東森 新聞 疫情 期間 航運 相關 產業 獲利 頗豐 陽明 海運 2022 年終 高達 13 羨煞 民眾 現在 消息 指出 陽明 海運 日前 召開 董事會 決議 今年 年終獎金 每年 固定 13 薪資 形同 年終獎金 去年 相比 有著 落差 了解 陽明 海運 去年 年終 13 2023 年度 分紅 20 整個 多達 33 媒體 指出 陽明 海運 董事會 決議 年終獎金 僅有 推估 2024 年終 分紅 僅有 固定 13 薪資 總和 3.2 好消息 陽明 海運 公務員 標準 明年 員工 加薪 4% 提到 陽明 海運 具有 官股 性質 年終獎金 只能 12 分紅 制度 方面 陽明 海運 明訂 稅前 獲利 1% 員工 紅利 數字 遠高於 長榮 海運 0.5% 萬海 0.6%</td>\n",
       "      <td>財經</td>\n",
       "      <td>全球</td>\n",
       "    </tr>\n",
       "    <tr>\n",
       "      <th>3</th>\n",
       "      <td>勞保 貸款 最高 10 萬元 申請 條件 曝光 東森 新聞 勞工 過來 25 勞動部 公告 113 勞保 貸款 將在 開放 申請 受理 113 19 截止 每人 最高 可貸 10 萬元 貸款 期間 列出 貸款 申貸 資格 條件 若有 符合 資格 勞工 記得 受理 時間 申請 勞動部 表示 協助 勞工 朋友 度過 農曆 年前 經濟 困難 113 勞保 貸款 將於 113 正式 開辦 受理 113 19 截止 每人 最高 可貸 10 萬元 貸款 期間 年利率 目前 2.04 付息 還本 平均 攤還 本息 生活 困難 需要 參加 勞工保險 年資 15 計算 受理 截止日 113 19 日止 欠繳 勞工 保險費 滯納金 未曾 借貸 勞保 貸款 借貸 繳清 貸款 本金 利息 勞動部 指出 請領 老年 給付 終身 工作 能力 之失 給付 所屬 機關 請領 勞工保險 補償金 申請 勞保 貸款 申辦 本項 貸款 無需 繳交 費用 每人 申請 重複 申請者 不予 受理 符合 資格 需求 勞工 朋友 受理 申請 期間 透過 網路 臨櫃 郵寄 方式 土地銀行 各地 分行 委託 金融機構 提出申請 對此 勞動部 呼籲 減少 民眾 臨櫃 排隊 久候 時間 請多加 利用 網路 申請 例假日 亦可 使用 既省 方便 勞動部 勞工保險 局在 2023 尾聲 陸續 完成 11 給付 入帳 作業 預計 發放 國民 年金 老年 保證 年金 國民 年金 原住民 給付 周四 28 預計 發放 勞保 年金 給付 職保 年金 給付 勞退 退休金 首發 周五 29 將有 給付 入帳 包括 產檢假 陪產 檢及 產假 薪資 補助 國保 身心 障礙 年金 給付 勞保 年資 國民 年金 老年 年金 給付 國民 年金 身心 障礙 保證 年金 國民 年金 喪葬 給付 國民 年金 遺囑 年金 詳情請 土地銀行 客服 專線 02 2314 6633 所屬 分行 委託 金融機構 土地銀行 連江縣 馬祖地區 營業 據點 委託 連江縣 農會 受理 電洽 勞保局 服務 專線 02 2396 1266</td>\n",
       "      <td>財經</td>\n",
       "      <td>財經</td>\n",
       "    </tr>\n",
       "    <tr>\n",
       "      <th>4</th>\n",
       "      <td>台塑 四寶 獲利 年終 3.5 無望 11 東森 新聞 舞台 辣妹 勁歌熱舞 炒熱 現場 氣氛 年底 員工 期待 年終 尾牙 傳產 龍頭 台塑 集團 考量 搬遷 內湖 總部 今年 尾牙 再度 停辦 年終獎金 還會 員工 失望 創下 11 最低 不到 3.5 台塑 企業 全國 聯合會 理事長 鴻儒 外界 所傳 EPS 2.43 年終 達到 3.5 公司 工會 協商 最低 保障 最高 攤開 歷年 台塑 年終 大紅包 110 獲利 爆發 員工 年終 領到 最高 上限 羨煞 去年 受到 國際 油價 石化 行情 趨緩 影響 縮水 今年 3.5 就連 工會 積極爭取 3.3 艱難 財經專家 邱敏 台塑 四寶在 年底 遭遇 整個 EAFC 特殊 產品 限制 目前 來說 限制 選後會 開放 持續 觀察 尤其 升息 壓力 干擾 中國 大陸 經濟 復甦 預期 第三季 油價 強彈 台塑 四寶 前三季 稅後 純益 452 億元 年減 60.8 財經專家 邱敏 明年 經濟 成長率 目前 七大 機構 來估 以上 今年 台塑 四寶 相對 比較 保守 明年 比較 樂觀 一些 明年 傳統產業 電子 產業 特別是在 通訊 AI 一塊 擴張性 比較 一點 明年 台塑 是否 將會 出現 變動 資深 媒體 人臉 書及 內部 員工 爆出 明年 台塑 四寶將 有人 事大 地震 台塑 集團 相關 謠言 不予置評 專注 公司 營運 期許 一年 繼續 衝刺</td>\n",
       "      <td>財經</td>\n",
       "      <td>財經</td>\n",
       "    </tr>\n",
       "    <tr>\n",
       "      <th>...</th>\n",
       "      <td>...</td>\n",
       "      <td>...</td>\n",
       "      <td>...</td>\n",
       "    </tr>\n",
       "    <tr>\n",
       "      <th>1775</th>\n",
       "      <td>美英 葉門 叛軍 油價 飆漲 貨櫃 運價 東森 新聞 美英 聯軍 12 針對 葉門 叛軍 青年運動 73 目標 發射 至少 一百五十 戰斧 巡弋 飛彈 雷射 導引 炸彈 轟炸 葉門 叛軍 青年運動 73 目標 紅海 局勢 升高 造成 貨櫃 運價 連七漲 原油價格 一天 飆漲 4% 夜色 美軍 F18 戰機 艾森豪 航空母艦 升空 打擊 葉門 叛軍 青年運動 據點 英國 颱風 戰機 塞普路斯 起飛 進行 攻擊 參與 軍事行動 協力 國家 包括 澳洲 巴林 加拿大 荷蘭 美國國防部 發言人 萊德 這是 國際 問題 需要 國際 社會 共同 解決 當地 時間 12 凌晨 英美 聯軍 發射 包括 戰斧 飛彈 超過 一百五十 精準 導引 彈藥 攻擊 伊朗 支持 青年運動 叛軍 葉門 首都 地點 73 目標 目的 削弱 青年運動 去年底 以來 宣稱 支持 薩哈 瑪斯 紅海 商船 攻擊 武力 美國 總統 拜登 我己 經向 伊朗 傳遞 訊息 知道 所欲 拜登 表示 伊朗 代理人 戰爭 對此 青年運動 進行 反擊 至少 發射 飛彈 擊中 船艦 青年運動 揚言 繼續 攻擊 紅海 商船 首都 那則 出現 大規模 反美 以色列 抗議 數萬人 湧上 首都 街頭 遊行 焚燒 國旗 洩憤 伊朗 公布 11 號在 阿曼灣 扣押 一艘 美國 油輪 畫面 伊朗 表示 這項 行動 報復 美國 去年 扣押 一艘船 石油 紅海 局勢 升溫 造成 油價 波動 布蘭特 北海 原油 西德 中級 原油 十二日 價格 飆漲 貨櫃 運價 指數 攀高 最新 一期 上海 出口 集裝箱 運價 指數 大漲 309.38 點至 2206.03 站上 2000 大關 英美 聯軍 攻擊 葉門 叛軍 引發 疑慮 卡達 阿曼 美國 波斯灣 盟邦 擔憂 區域 情勢 失控 中東 捲入 伊朗 支持 武裝 團體 敘利亞 伊拉克 境內 進一步 衝突</td>\n",
       "      <td>全球</td>\n",
       "      <td>全球</td>\n",
       "    </tr>\n",
       "    <tr>\n",
       "      <th>1776</th>\n",
       "      <td>英相蘇 納克 二度 訪烏 安全 協議 增援 千億 台幣 東森 新聞 俄烏 開戰 面臨 外國 軍援 停擺 困境 近期 日本 外長 訪烏 宣布 撥款 11.5 資金 協助 烏克蘭 英國首相 納克 二度 訪問 基輔 烏克蘭 簽訂 長達 10 安全 協議 之外 宣布 給予 烏克蘭 高達 25 億英鎊 相當於 新台幣 千億 國防 援助 鎖定 前方 俄軍 車隊 進行 連續 打擊 烏軍在 烏克蘭 全境 持續 對抗 俄羅斯 面對 西方 援助 一度 停擺 終於 出現 救兵 英國首相 納克 歷史 告訴 堅持下去 民主 國家 永遠 上風 普丁 無法 理解 殺死 摧毀 建築物 軍隊 能夠 擊敗 自由 意志 英國首相 納克 二度 訪問 基輔 烏克蘭 議會 進行 演說 總統 倫斯基 一同 前往 醫院 探望 傷兵 士兵 加油打氣 納克 一趟 做出 一項 重要 決定 英國首相 納克 英國 今天 宣佈 戰爭 以來 烏克蘭 大規模 國防 援助 25 億英鎊 台幣 991 英國 這一波 軍援 中有 至少 億英鎊 將用 快速 大量 採購 生產 多達 數千架 軍用 無人機 未來 有望 成為 歷來 大規模 外國 無人機 援烏計畫 英烏 雙方 簽署 安全 合作 協議 效期 長達 10 延長 這項 協議 主要 防止 烏克蘭 再度 遭到 侵略 侵略 再起 英國 第一 時間 支援 烏克蘭 直到 最後 一刻 烏克蘭 地面部隊 指揮官 呼籲 西方 援助 攻擊機 指揮官 西爾斯 考慮 得到 10 攻擊機 能作 一種 選擇 新型 機種 一種 許多 戰爭 證明 可靠 武器 烏克蘭 面對 持續 俄國 攻擊 積極 尋求 外援 針對 俄羅斯 邊境 發動 反擊 行動 俄羅斯 城市 別爾哥羅德 近期 烏克蘭 擊後 造成 多人 死傷 當地政府 針對 500 多個 公車站 堆砌 沙包 水泥牆 設置 防護 屏障 保護 民眾 受到 戰爭 兩年 雙方 加強 攻擊力 戰事 升級</td>\n",
       "      <td>全球</td>\n",
       "      <td>全球</td>\n",
       "    </tr>\n",
       "    <tr>\n",
       "      <th>1777</th>\n",
       "      <td>女扮 遊戲 角色 殭屍 陸地 鐵遭 圍觀 東森 新聞 女子 頭戴 紫色 假髮 頂著 殭屍 身穿 類似 漢服 服裝 扮成 殭屍 地鐵 安檢員 給攔 下來 地鐵 安檢員 vs Coser 請問 地鐵站 cosplay 形象 國產 遊戲 原神裡面 七七 角色 身上 衣服 搭配 漢服 這是 這是 漢服 先報 身分證 裝扮成 可愛 殭屍 要求 查驗 身分 女子 實在 理解 裝扮 影響 稱不上 恐怖 進站 地鐵 地鐵 安檢員 vs Coser 那種 血腥 恐怖 低俗 恐怖 覺得 可愛 動作 引起 圍觀 要負 法律責任 知道 想問 帽子 摘下來 至少 正常 乘客 以為 怪物 卡通 不斷 要求 女子 摘下 帽子 頭飾 安檢員 以會 引起 圍觀 理由 女子 配合 警察 雙方 溝通 一段時間 最後 願意 女子 進站 中國 一名 Coser 網路上 發了 這段 影片 參加 動漫展 地鐵 遭到 盤查 瞬間 引起 熱議 上海 地鐵 工作人員 Cosplay 制服 進站 日常 服飾 進站 安檢 人員 進行 阻攔 呼叫 民警 影片 曝光 中國 網友 紛紛 留言 怒罵 穿著 打扮 遭到 限制 真的 太過 離譜 律師 表示 法律 穿著 限制 乘客 扮演 卡通 動漫 角色 限制 禁止 進入 地鐵 干預 乘客 自由 穿衣 嫌疑 實在 不妥</td>\n",
       "      <td>全球</td>\n",
       "      <td>全球</td>\n",
       "    </tr>\n",
       "    <tr>\n",
       "      <th>1778</th>\n",
       "      <td>大選 影響 台海 情勢 日本 防相 密切 監視 中國軍方 東森 新聞 台灣 大選 日本 媒體 關注 多家 媒體 記者 來台 連線 採訪 選前 三位 候選人 有所 分析 關注 著重 台海 情勢 台灣 有事 日本 有事 台灣 選舉 影響 全球 日本 防衛 大臣 強調 密切 關注 中國 軍隊 台灣 周邊 動向 台灣 總統大選 日本 媒體 關注 選前 各家 日本 電視 記者 台灣 連線 日本 記者 藍色 招牌 國民黨 侯友宜 候選人 回頭 則是 民進黨 候選人 賴清德 大型 招牌 日本 來說 大選 影響 台海 情勢 日本 防衛 大臣 木原 強調 密切 關注 中國 台灣 周邊 動向 日本 媒體 對三人 各有 期待 形容 認真 男子 刑事 變色龍 日本 學館 大學 副教授 村上 政俊 賴清德 觸及 台獨 宣言 世界 發信 這點 最大 原因 美國 安心 賴清德 日媒 擔心 兩岸 情勢 是否 緊張 NHK 分析 指出 賴清德 強烈 台獨 色彩 挑戰 美國 政策 紅線 專家 分析 賴清德 當選 調整 兩岸 政策 程度 有限 侯友宜 日媒則 關注 是否 會親 習近平 沮喪 日本 軍事 記者 小原 凡司 現在 國民黨 以前 國民黨 相比 發生 很大 變化 並不像 以前 馬英九 時期 親中 人物 站穩 陣腳 日經 亞洲 分析 侯友宜 兩岸 政策 比較 模糊 美國 保持 密切關係 希望 中國 友好 台灣民眾 北京 信任 侯友宜 中國 靠近 NHK 主播 台灣 中國 靠近 台灣 半導體 先進 技術 流向 中國 日本 法政 大學教授 福田 指出 國民黨 以前 重視 中國 經濟 關係 這也 美國 擔心 半導體技術 落入 中國 手中 晶片 制裁 等於 白忙 一場 日本 政治學家 小笠 欣幸 柯文哲 先生 情況 政策 政策 有點 三腳 關鍵 柯文哲 日媒則 比較 難以預測 專家 分析 柯文哲 兩岸 議題 比較 模糊 受到 年輕 選民 歡迎 主打 薪水 住宅 民生問題 日本 政治學家 小笠 欣幸 當選 總統 將在 20 就職 四個 時間 是否 中國 進行 形式 幕後 接觸 國際 社會 將以 何種 心情 看待 總統 誕生 台灣 有事 日本 有事 2024 總統大選 出爐 日本 媒體 關注 台海 情勢 新任 總統 面對 需要 繼續 觀察</td>\n",
       "      <td>全球</td>\n",
       "      <td>全球</td>\n",
       "    </tr>\n",
       "    <tr>\n",
       "      <th>1779</th>\n",
       "      <td>聚焦 安全 局勢 半導體 CNN 台灣 大選 改變 世界 東森 新聞 這場 關鍵 大選 台灣 關注 許多 國際 媒體 大陣 記者 來台 採訪 CNN 一篇 這場 選舉 改變 世界 哪些方面 影響 世界 CNN 認為 主要 全球 安全 局勢 半導體 供應鏈 位於 第一 島鏈 台灣 具有 重要 戰略意義 台灣 全球 第一 晶片 製造商 發生 衝突 導致 供應鏈 中斷 將會 全世界 造成 災難性 後果 2024 台灣 大選 重要 國際 媒體 大篇幅 CNN 斗大 標題 直言 今年 一場 選舉 改變 世界 美國 大選 台灣 CNN 新聞 主播 這是 一場 全球 密切 關注 選舉 尤其 共產主義 鄰國 中國 美國 CNN 中國 領導 高層 尤其 關注 大選 北京 回應 台灣 民意 決擇 也將 考驗 著中美 之間 是否 能夠 控制 緊張局勢 CNN 特派記者 普利 台灣 中美 之間 緊張局勢 最大 主因 美國 台灣 國際 主要 支持者 武器 供應商 中國 這次 選舉 做出 回應 將會 成為 重大 考驗 北京 華府 能否 控制 緊張局勢 走向 進一步 對抗 衝突 CNN 分析 專家 預期 解放軍 在短期內 出兵 台灣 文章 提到 北京 方式 表達 包括 進行 軍事演習 展示 武力 進一步 暫停 台灣 貿易往來 封鎖 CNN 特派記者 普利 台灣 全球 第一 半導體 製造商 高價 晶片 所有 高科技產品 提供 動力 間接 直接 衝突 導致 供應鏈 中斷 將會 世界各地 發生 災難性 後果 台海 局勢 變化 半導體 供應鏈 有何 影響 一大 焦點 美國 荷蘭 媒體 特別 製作 一集 專題 節目 談台灣 大選 晶片 產業 荷蘭 代表 欣新 假設 台灣 內部 發生 狀況 台灣 邊境 止步 這將會 全球性 災難 這是 稱之為 矽盾 節目 專訪 台灣 荷蘭 代表 欣新 強調 半導體 產業 台灣 國家 安全 矽盾 節目 採訪 晶片 戰爭 一書 作者 米勒 米勒 估計 台海 軍事衝突 將對 全球 經濟 造成 至少 美元 62 台幣 衝擊 選舉 影響 半導體 供應鏈 全球 安全 局勢 CNN 台灣 2024 大選 造成 影響 無遠弗屆</td>\n",
       "      <td>全球</td>\n",
       "      <td>全球</td>\n",
       "    </tr>\n",
       "  </tbody>\n",
       "</table>\n",
       "<p>1780 rows × 3 columns</p>\n",
       "</div>"
      ]
     },
     "execution_count": 159,
     "metadata": {},
     "output_type": "execute_result"
    }
   ],
   "execution_count": 159
  },
  {
   "cell_type": "code",
   "metadata": {
    "ExecuteTime": {
     "end_time": "2024-04-08T03:06:26.713035Z",
     "start_time": "2024-04-08T03:06:26.702608Z"
    }
   },
   "source": [
    "false_pred = ct.query(\"artCatagory != pred\").loc[:,['words', 'artCatagory',\"pred\"]]\n",
    "false_pred"
   ],
   "outputs": [
    {
     "data": {
      "text/plain": [
       "                                                                                                                                                                                                                                                                                                                                                                                                                                                                                                                                                                                                                                                                                                                                                                                                                                                                                                                                                                                                                       words  \\\n",
       "2                                                                                                                                                                                                                                                                                                                                                                                                                                                                                                                                                                                                                                          陽明 海運 年終 落差 嚴重 去年 13 今年 數字 嚇死人 東森 新聞 疫情 期間 航運 相關 產業 獲利 頗豐 陽明 海運 2022 年終 高達 13 羨煞 民眾 現在 消息 指出 陽明 海運 日前 召開 董事會 決議 今年 年終獎金 每年 固定 13 薪資 形同 年終獎金 去年 相比 有著 落差 了解 陽明 海運 去年 年終 13 2023 年度 分紅 20 整個 多達 33 媒體 指出 陽明 海運 董事會 決議 年終獎金 僅有 推估 2024 年終 分紅 僅有 固定 13 薪資 總和 3.2 好消息 陽明 海運 公務員 標準 明年 員工 加薪 4% 提到 陽明 海運 具有 官股 性質 年終獎金 只能 12 分紅 制度 方面 陽明 海運 明訂 稅前 獲利 1% 員工 紅利 數字 遠高於 長榮 海運 0.5% 萬海 0.6%   \n",
       "5                                                                                                                                                                                                                                                                                                                                                                                                                                                                           元老 振榮 辭世 業界 緬懷 生前 海派 人緣 東森 新聞 中鋼前 總經理 振榮 參與 公司 階段 擴建 歷程 業界 享有 聲譽 晚年 飽受 癌症 摧殘 住進 安寧 病房 25 凌晨 辭世 享壽 77 令人 不勝唏噓 振榮 出生 高雄 鳳山 礦冶 畢業 考進 中鋼 出身 政治 世家 叔叔 義秋 外號 鳳山 政商 實力雄厚 政治 一途 1990 年代 擔任 總經理 中鋼 黃埔 一期 員工 基層 做起 一晃眼 12 民營化 過程 人脈 帶領 團隊 立法院 朝野 溝通 中鋼 國營 轉為 民營 慢慢 奠定 基礎 成為 台灣 最大 鋼鐵企業 振榮 傳出 病逝 各界 紛紛 緬懷 幹部 口吃 喝酒 我弟 豪邁 性格 印象 深刻 稱讚 對方 性情中人 喜歡 交朋友 公司 公關 經他 之手 順遂 公司 基層 親切 幹部 嚴格 幹部 以身作則 鋼鐵 回憶 振榮 當年 帶領 民營化 難能可貴 創造 時代 交棒給 下一代 翁朝棟 帶領 創下 建廠 50 年來 最高 營運 獲利 績效 振榮 退休 每次 提到 此事 有榮 傑出 幹部 拍胸脯 大聲 振榮 永遠 長官 文章 來源 中鋼前 總座 振榮 辭世 享壽 77 業界 緬懷 生前 海派 人緣 CTWANT 授權 轉載   \n",
       "10    美政府 維持 Apple Watch 進口 禁令 蘋果 上訴 東森 新聞 美國 總統 拜登 政府 選擇 否決 專利 侵權 裁定 蘋果公司 Apple 今天 表示 旗下 智慧 手錶 AppleWatch 最新型 號的 進口 禁令 提起 上訴 綜合 法新社 路透社 這項 針對 蘋果 最新 智慧 手錶 型號 禁令 今天 生效 AppleWatchSeries9 AppleWatchUltra2 無法 美國 實體 商店 或線 銷售 這項 禁令 大型 科技 公司 具有 價值 專利 展開 最新 法律 角力 谷歌 Google 針對 揚聲器 技術 Sonos 打官司 美國 國際貿易 委員會 ITC 10 裁定 禁止 進口 侵犯 一項 測定 血氧 含量 專利技術 蘋果 智慧 手錶 型號 這項 禁令 源起 Masimo 公司 2021 ITC 提出 申訴 這家 醫療 設備 製造商 指控 蘋果 侵犯 公司 感測 技術 測量 血氧 含量 專利 Masimo 這項 技術 發明 蘋果 挖角 員工 取得 技術 美國 貿易 代表 USTR 今天 聲明 指出 謹慎 商議 貿易 代表 戴琪 KatherineTai 決定 撤銷 ITC 這項 裁定 ITC 決定 2023 12 26 日成 最終 裁定 白宮 有權 撤銷 進口 禁令 狀況 鮮少 發生 蘋果 主張 ITC 裁決 錯誤 應予 撤銷 並向 美國聯邦 法院 提起 上訴 蘋果 發言人 表示 公司 針對 這項 禁令 華盛頓 美國聯邦 巡迴 上訴 法院 CourtofAppealsfortheFederalCircuit 提起 上訴 蘋果 今天 聲明 中說 強烈 同意 ITC 裁定 由此 產生 排除 命令 採取 措施 盡快 美國 顧客 恢復 供應 AppleWatchSeries9 AppleWatchUltra2 蘋果 請求 聯邦 巡迴 上訴 法院 暫停 禁令 至少 暫停 美國 海關 邊境 保護局 CBP 判定 重新 設計 過的 蘋果 智慧 手錶 型號 是否 侵犯 Masimo 專利 並在 法院 考慮 蘋果 請求 暫停 禁令 蘋果 美國 海關 邊境 保護局 預定 明年 12 做出 決定 耶誕 假期 前夕 蘋果 本月 21 已將 產品 自線 蘋果 商店 AppleStore 下架 實體 零售 商店 24 停止 販售   \n",
       "13                                                                                                                                                                                                                                                                                                                                                                                                                                                                                                                                                                                                                                        東南亞 旅遊 注意 星馬 元旦 將調 消費稅 東森 新聞 打算 東南亞 旅遊 民眾 注意 新加坡 將從 元旦 上調 消費稅 百分點 9% 因應 老齡化 人口 激增 醫療保健 成本 上漲 馬來西亞 將從 明年 銷售 服務 稅調 高到 8% 元旦假期 就要 民眾 規劃 出國 過去 東南亞 國家 注意 明年 元旦 新加坡 將把 商品 服務 稅率 8% 調升 9% 星國 穩定 增稅 擴大 財政 基礎 因應 醫療 照護 成本 高漲 馬來西亞 稅收 東南亞 國家 居後段 將從 明年 銷售 服務 調高 百分點 8% 糧食 飲料 通訊 必要 支出 不在 調升 範圍 各國 國際航班 持續 恢復 目前 中國 官方 發布 最新 數據 預估 元旦 期間 日均 出入境 旅客 達到 156 萬人次 2023 元旦 增長 超過 五倍 回到 2019 九成 水平   \n",
       "16                                                                                                                                                                                                                                                                                                                         聯亞 生技 負責人 王長 怡傳 跳票 集團 財務狀況 引熱議 東森 新聞 聯亞 生技 集團 經營權 爭奪 多時 現任 負責人 王長 女兒 胡世一指 無權 擔任 董事長 一職 母女 分裂 派並 爆發 多起 訴訟 傳出 聯亞 生技 集團 王長 掌控 相關 公司 積欠 貨款 遭向 法院 聲請 支付 命令 追討 傳出 王長 財務 出現 狀況 跳票 聯亞生 技是 國發 基金 投資 項目 負責人 財務 未處理 影響 公司 營運 影響 廣大 納稅人 權益 週刊 調查 依據 今年 台灣 票據交換 所票 查詢 記錄 今年 11 28 王長 一筆 退票 日期 今年 10 18 金額 200 萬元 退票 紀錄 退票 理由 存款 不足 清償 贖回 日期 今年 10 27 王長 投資 有限公司 筆的 退票 紀錄 總金額 120 萬元 分別 今年 13 一張 票面額 1000 萬元 12 張支 票面額 分別 20 萬元 50 萬元 50 萬元 退票 理由 存款 不足 清償 日期 空白 週刊 調查 今年 新竹 地院 收到 聯亞 生技 集團 聯合 生物製藥 公司 追債 案件 分別 請求 給付 貨款 支付 命令 給付 價金 案件 金額 萬餘元 百萬元 不等 至今 10 部分 案件 陸續 和解 收到 款項 金額 法院 解決 傳出 王長 跳票 聯亞 生技 集團 財務狀況 相關 廠商 發熱 更多鏡 週刊 王長 胡世一 母女 鬧翻 聯亞 生技 經營權 持續 爭訟 聯亞 母女 紛爭 再起 兩派 發聲明 捍衛 立場 凍結 員工 薪資 羅生門 聯亞 女兒 反控 王長 說謊   \n",
       "...                                                                                                                                                                                                                                                                                                                                                                                                                                                                                                                                                                                                                                                                                                                                                                                                                                                                                                                                                                                                                      ...   \n",
       "1752                                                                                                                                                                                                                                                                                                                                                                                                                                                                                                                                                                                                東京 旅館 挾持 持刀 扣押 人質 與警 對峙 小時 投降 東森 新聞 朝日 電視 記者 20 分鐘 11 25 左右 警視廳 涉嫌 禁閉 嫌犯 現行犯 逮捕 藍色 塑膠 一輛 載著 嫌犯 的車 出現 旅館 坐在 警車 後座 深色 外套 遮住 男子 涉嫌 挾持 人質 嫌犯 事情 發生 日本 東京都 東區 JR 鶯谷 車站 附近 2024 總統 立委 大選 選舉 一覽 線上 12 上午 點多 一間 旅館 員工 報警 一間 客房 傳出 男女 激烈 爭吵 聲音 男方 疑似 持有 刀械 警方 獲報 趕到 現場 房間 裡的 男子 把門 反鎖 女子 當成 人質 不肯 開門 房間 警方 對峙 旅館 周圍 還拉起 封鎖線 10 多名 警察 待命 氣氛 一度 緊張 警方 持續 勸說 之下 雙方 僵持 小時 男子 終於 女子 釋放 女子 意識 清楚 受傷 警方 涉嫌 禁閉 男子 拘留 逮捕 目前 還要 調查 確切 挾持 原因   \n",
       "1753                                                                                                                                                                                                                                                                                                                                                                                                                                                                                                                                                            哈爾濱 網紅 企鵝 打卡 景點 遊客 互動 超萌 東森 新聞 見到 網紅 企鵝 淘淘 遊客 零下 16 低溫 小時 橘色 書包 企鵝 淘淘 大陸 哈爾濱 網紅 企鵝 冬天 旅行 中央大街 一下 台步 得到 索菲亞 教堂 張美照 打卡 知名 雪鄉 還去 冰雪 世界 玩耍 企鵝 馴養 師李佳 活潑 外向 性格 事情 強烈 好奇心 包括 比較 親近 遊客 親密 接觸 互動 親近 一年 曝光 已經 達到 25 2024 總統 立委 大選 選舉 一覽 線上 遊客 互動 一點 害羞 淘淘 所到之處 焦點 走路 搖搖晃晃 超萌 還會 停下 腳步 特別 一下 周遭 景色 遊客 拍照 極地 公園 還讓 欣賞 美麗 松花江 雪人 安排 貓熊 同框 畫面 好療 淘淘 成為 哈爾濱 吸引 遊客 賣點 中央大街 鴿子 出現 職災 像是 中央大街 鴿子 遊客 養到 胖嘟嘟 民眾 看看 生活 中央大街 鴿子 遊客 都給 養成 啥樣 鴿子 遊客 養到 胖嘟嘟 當地 民眾 開玩笑 鴿子 伙食 太好 已經 胖到   \n",
       "1756                                                                                                                                                                                                                                                                                                                                                                                                         命喪 柬埔寨 遺體 腫脹 陳屍 公寓 房間 搜出 白粉 東森 新聞 柬埔寨 首都 金邊 天空 公寓 11 發生 一宗 死亡 案件 一名 40 台灣 男子 發現 屍在 房間內 全身 已經 明顯 腫脹 警方 調查過程 男子 住處 搜出 疑似 毒品 白色 粉末 柬中 時報 死者 一名 台灣 40 莊姓 男子 ChuangYiZe 旅遊 簽證 入境 柬埔寨 11 下午 30 金邊 雷西 郊區 天空 SkyTree 公寓 房間 裡被 發現 身亡 事發 當天 當地 警方 接到 保全 通報 立即 前往 公寓 調查 發現 這名 男子 陳屍 房間內 遺體 已經 明顯 腫脹 並在 調查過程 屋內 發現 疑似 毒品 白色 粉末 目前 法醫 驗屍 確認 男子 死於 心臟病 具體 死亡 時間 尚未 確定 遺體 安放 當地 宋仁芷 寺廟 2024 總統 立委 大選 選舉 一覽 線上 一名 台灣籍 40 李姓 男子 月初 命喪 柬埔寨 事發 金邊 俄羅斯 大道 當地 警方 調查 當時 一群 聚集 吸毒 喝酒 疑似 分贓 問題 爆發 口角 衝突 狂歡 變成 大亂鬥 延伸 閱讀 命喪 柬埔寨 詐團 分贓不均 互砍 年內 已多人 喪命 死者 一路 追到 樓頂 最終 無處可逃 利器 攻擊 倒臥 大樓 管理員 發現 嚇得 報案 當警消 人員 趕到 現場 死者 已經 失去 呼吸 心跳 失血過多 不治 身亡   \n",
       "1762                                                                                                                                                                                                                                                                                                                                                              房地產 排名 洗牌 央企 背景 保萬中 佔據 東森 新聞 大陸 房地產 巨頭 萬科 集團 創辦人 王石 2023 亞布力 論壇 開幕式 大陸 房市 現況 相當 擔憂 認為 房市 只會 更慘 慶幸 萬科 能夠 存活 今天 大陸 財經網 2023 一眨眼 過去 中指 研究院 數據 顯示 千億 房企 數量 2022 20 縮水 16 2024 總統 立委 大選 選舉 一覽 線上 歷經 恆大 碧桂園 暴雷 大陸 房地產 銷售 梯隊 洗牌 第一 梯隊 碧桂園 萬科 恆大為 變成 保萬中 保利 發展 萬科 中海 地產 這三家 企業 共通點 背後 大陸 央企 背景 大陸 評論 紅棉 花園 開盤 售樓處 擺放 一輛 貨真價實 坦克 這輛 坦克 成為 保利 地產 招牌 大陸 地產界 新龍頭 保利 發展 集團 軍工 背景 房地產業 一定 10 銷量 始終 屹立 不倒 2019 港交所 上市 一家 中海 地產 則是 世界 500 中國 建築 集團 子公司 去年 銷量 達到 3098 億元 穩坐 第三 民營 房地產商 慘兮兮 狀況 預期 大陸 如是 金融 研究院 院長 管清友 需求 消費 領域 需求 不足 需求 充足 超過 生產 超過 供給 物價 低迷 大陸 經濟 繼續 通縮 中國 國家統計局 公布 最新 消費者 物價指數 2023 12 CPI 年減 0.3 已經 第三個 負增長 幅度 稍稍 趨緩 內需 市場 持續 不振 連帶 房地產 景氣 低迷 民眾 只會 消費 降級   \n",
       "1771                                                                                                                                                                                                                                                                                                                                                                                            冷血 癌末 中獎 倒地 關心 彩券 東森 新聞 澳洲 一名 老人 罹病 剩下 半年 壽命 決定 生命 結束 前到 里斯本 一家 酒吧 老虎機 幸運地 獲得 獎金 正當 兌換 現金 突然 倒地 身邊 出現 一名 不懷好意 女子 將他 彩券 偷走 並在 兌換 獎金 直接 太陽報 澳洲 這名 80 老人 湯瑪士 ThomasPurtill 患病 剩下 生命 僅存 時間 做點 開心 里斯本 某間 酒吧 老虎機 一些 零錢 碰碰運氣 該家 酒吧 監視器 畫面 只見 湯瑪士 玩完 老虎機 準備 兌換 贏得 160 英鎊 台幣 6340 正當 彩券 投進 機器 突然 出現 一名 女子 似乎 擔心 湯瑪士 狀況 通知 酒吧 人員 報警 該名 女子 不懷好意 看見 湯瑪士 身旁 一張 彩券 迅速 撿起 機器 兌換 現金 放入 口袋 並盡速 離開 現場 送往 醫院 治療 湯瑪士還 住院 當他 問到 看待 小偷 有人 過來 給我 10 元給 孩子 牛奶 一定 會給 相當 不解 這名 女子 要用 醫師 告知 癌症 已經 晚期 僅剩 生命 獎金 遺失 酒吧 人員 得知 湯瑪士 狀況 感到 相當 並對 償還 獎金 湯瑪士 人性本善 信心 再次 復燃 警方 呼籲 希望 認識 該名 女子 出面 協助 警方 辦案 犯罪 行為 模仿 文章 來源 冷血 澳洲 癌末 老虎機 中獎 倒地 關心 彩券 換錢 CTWANT 授權 轉載   \n",
       "\n",
       "     artCatagory pred  \n",
       "2             財經   全球  \n",
       "5             財經   全球  \n",
       "10            財經   全球  \n",
       "13            財經   全球  \n",
       "16            財經   社會  \n",
       "...          ...  ...  \n",
       "1752          全球   社會  \n",
       "1753          全球   要聞  \n",
       "1756          全球   社會  \n",
       "1762          全球   財經  \n",
       "1771          全球   社會  \n",
       "\n",
       "[211 rows x 3 columns]"
      ],
      "text/html": [
       "<div>\n",
       "<style scoped>\n",
       "    .dataframe tbody tr th:only-of-type {\n",
       "        vertical-align: middle;\n",
       "    }\n",
       "\n",
       "    .dataframe tbody tr th {\n",
       "        vertical-align: top;\n",
       "    }\n",
       "\n",
       "    .dataframe thead th {\n",
       "        text-align: right;\n",
       "    }\n",
       "</style>\n",
       "<table border=\"1\" class=\"dataframe\">\n",
       "  <thead>\n",
       "    <tr style=\"text-align: right;\">\n",
       "      <th></th>\n",
       "      <th>words</th>\n",
       "      <th>artCatagory</th>\n",
       "      <th>pred</th>\n",
       "    </tr>\n",
       "  </thead>\n",
       "  <tbody>\n",
       "    <tr>\n",
       "      <th>2</th>\n",
       "      <td>陽明 海運 年終 落差 嚴重 去年 13 今年 數字 嚇死人 東森 新聞 疫情 期間 航運 相關 產業 獲利 頗豐 陽明 海運 2022 年終 高達 13 羨煞 民眾 現在 消息 指出 陽明 海運 日前 召開 董事會 決議 今年 年終獎金 每年 固定 13 薪資 形同 年終獎金 去年 相比 有著 落差 了解 陽明 海運 去年 年終 13 2023 年度 分紅 20 整個 多達 33 媒體 指出 陽明 海運 董事會 決議 年終獎金 僅有 推估 2024 年終 分紅 僅有 固定 13 薪資 總和 3.2 好消息 陽明 海運 公務員 標準 明年 員工 加薪 4% 提到 陽明 海運 具有 官股 性質 年終獎金 只能 12 分紅 制度 方面 陽明 海運 明訂 稅前 獲利 1% 員工 紅利 數字 遠高於 長榮 海運 0.5% 萬海 0.6%</td>\n",
       "      <td>財經</td>\n",
       "      <td>全球</td>\n",
       "    </tr>\n",
       "    <tr>\n",
       "      <th>5</th>\n",
       "      <td>元老 振榮 辭世 業界 緬懷 生前 海派 人緣 東森 新聞 中鋼前 總經理 振榮 參與 公司 階段 擴建 歷程 業界 享有 聲譽 晚年 飽受 癌症 摧殘 住進 安寧 病房 25 凌晨 辭世 享壽 77 令人 不勝唏噓 振榮 出生 高雄 鳳山 礦冶 畢業 考進 中鋼 出身 政治 世家 叔叔 義秋 外號 鳳山 政商 實力雄厚 政治 一途 1990 年代 擔任 總經理 中鋼 黃埔 一期 員工 基層 做起 一晃眼 12 民營化 過程 人脈 帶領 團隊 立法院 朝野 溝通 中鋼 國營 轉為 民營 慢慢 奠定 基礎 成為 台灣 最大 鋼鐵企業 振榮 傳出 病逝 各界 紛紛 緬懷 幹部 口吃 喝酒 我弟 豪邁 性格 印象 深刻 稱讚 對方 性情中人 喜歡 交朋友 公司 公關 經他 之手 順遂 公司 基層 親切 幹部 嚴格 幹部 以身作則 鋼鐵 回憶 振榮 當年 帶領 民營化 難能可貴 創造 時代 交棒給 下一代 翁朝棟 帶領 創下 建廠 50 年來 最高 營運 獲利 績效 振榮 退休 每次 提到 此事 有榮 傑出 幹部 拍胸脯 大聲 振榮 永遠 長官 文章 來源 中鋼前 總座 振榮 辭世 享壽 77 業界 緬懷 生前 海派 人緣 CTWANT 授權 轉載</td>\n",
       "      <td>財經</td>\n",
       "      <td>全球</td>\n",
       "    </tr>\n",
       "    <tr>\n",
       "      <th>10</th>\n",
       "      <td>美政府 維持 Apple Watch 進口 禁令 蘋果 上訴 東森 新聞 美國 總統 拜登 政府 選擇 否決 專利 侵權 裁定 蘋果公司 Apple 今天 表示 旗下 智慧 手錶 AppleWatch 最新型 號的 進口 禁令 提起 上訴 綜合 法新社 路透社 這項 針對 蘋果 最新 智慧 手錶 型號 禁令 今天 生效 AppleWatchSeries9 AppleWatchUltra2 無法 美國 實體 商店 或線 銷售 這項 禁令 大型 科技 公司 具有 價值 專利 展開 最新 法律 角力 谷歌 Google 針對 揚聲器 技術 Sonos 打官司 美國 國際貿易 委員會 ITC 10 裁定 禁止 進口 侵犯 一項 測定 血氧 含量 專利技術 蘋果 智慧 手錶 型號 這項 禁令 源起 Masimo 公司 2021 ITC 提出 申訴 這家 醫療 設備 製造商 指控 蘋果 侵犯 公司 感測 技術 測量 血氧 含量 專利 Masimo 這項 技術 發明 蘋果 挖角 員工 取得 技術 美國 貿易 代表 USTR 今天 聲明 指出 謹慎 商議 貿易 代表 戴琪 KatherineTai 決定 撤銷 ITC 這項 裁定 ITC 決定 2023 12 26 日成 最終 裁定 白宮 有權 撤銷 進口 禁令 狀況 鮮少 發生 蘋果 主張 ITC 裁決 錯誤 應予 撤銷 並向 美國聯邦 法院 提起 上訴 蘋果 發言人 表示 公司 針對 這項 禁令 華盛頓 美國聯邦 巡迴 上訴 法院 CourtofAppealsfortheFederalCircuit 提起 上訴 蘋果 今天 聲明 中說 強烈 同意 ITC 裁定 由此 產生 排除 命令 採取 措施 盡快 美國 顧客 恢復 供應 AppleWatchSeries9 AppleWatchUltra2 蘋果 請求 聯邦 巡迴 上訴 法院 暫停 禁令 至少 暫停 美國 海關 邊境 保護局 CBP 判定 重新 設計 過的 蘋果 智慧 手錶 型號 是否 侵犯 Masimo 專利 並在 法院 考慮 蘋果 請求 暫停 禁令 蘋果 美國 海關 邊境 保護局 預定 明年 12 做出 決定 耶誕 假期 前夕 蘋果 本月 21 已將 產品 自線 蘋果 商店 AppleStore 下架 實體 零售 商店 24 停止 販售</td>\n",
       "      <td>財經</td>\n",
       "      <td>全球</td>\n",
       "    </tr>\n",
       "    <tr>\n",
       "      <th>13</th>\n",
       "      <td>東南亞 旅遊 注意 星馬 元旦 將調 消費稅 東森 新聞 打算 東南亞 旅遊 民眾 注意 新加坡 將從 元旦 上調 消費稅 百分點 9% 因應 老齡化 人口 激增 醫療保健 成本 上漲 馬來西亞 將從 明年 銷售 服務 稅調 高到 8% 元旦假期 就要 民眾 規劃 出國 過去 東南亞 國家 注意 明年 元旦 新加坡 將把 商品 服務 稅率 8% 調升 9% 星國 穩定 增稅 擴大 財政 基礎 因應 醫療 照護 成本 高漲 馬來西亞 稅收 東南亞 國家 居後段 將從 明年 銷售 服務 調高 百分點 8% 糧食 飲料 通訊 必要 支出 不在 調升 範圍 各國 國際航班 持續 恢復 目前 中國 官方 發布 最新 數據 預估 元旦 期間 日均 出入境 旅客 達到 156 萬人次 2023 元旦 增長 超過 五倍 回到 2019 九成 水平</td>\n",
       "      <td>財經</td>\n",
       "      <td>全球</td>\n",
       "    </tr>\n",
       "    <tr>\n",
       "      <th>16</th>\n",
       "      <td>聯亞 生技 負責人 王長 怡傳 跳票 集團 財務狀況 引熱議 東森 新聞 聯亞 生技 集團 經營權 爭奪 多時 現任 負責人 王長 女兒 胡世一指 無權 擔任 董事長 一職 母女 分裂 派並 爆發 多起 訴訟 傳出 聯亞 生技 集團 王長 掌控 相關 公司 積欠 貨款 遭向 法院 聲請 支付 命令 追討 傳出 王長 財務 出現 狀況 跳票 聯亞生 技是 國發 基金 投資 項目 負責人 財務 未處理 影響 公司 營運 影響 廣大 納稅人 權益 週刊 調查 依據 今年 台灣 票據交換 所票 查詢 記錄 今年 11 28 王長 一筆 退票 日期 今年 10 18 金額 200 萬元 退票 紀錄 退票 理由 存款 不足 清償 贖回 日期 今年 10 27 王長 投資 有限公司 筆的 退票 紀錄 總金額 120 萬元 分別 今年 13 一張 票面額 1000 萬元 12 張支 票面額 分別 20 萬元 50 萬元 50 萬元 退票 理由 存款 不足 清償 日期 空白 週刊 調查 今年 新竹 地院 收到 聯亞 生技 集團 聯合 生物製藥 公司 追債 案件 分別 請求 給付 貨款 支付 命令 給付 價金 案件 金額 萬餘元 百萬元 不等 至今 10 部分 案件 陸續 和解 收到 款項 金額 法院 解決 傳出 王長 跳票 聯亞 生技 集團 財務狀況 相關 廠商 發熱 更多鏡 週刊 王長 胡世一 母女 鬧翻 聯亞 生技 經營權 持續 爭訟 聯亞 母女 紛爭 再起 兩派 發聲明 捍衛 立場 凍結 員工 薪資 羅生門 聯亞 女兒 反控 王長 說謊</td>\n",
       "      <td>財經</td>\n",
       "      <td>社會</td>\n",
       "    </tr>\n",
       "    <tr>\n",
       "      <th>...</th>\n",
       "      <td>...</td>\n",
       "      <td>...</td>\n",
       "      <td>...</td>\n",
       "    </tr>\n",
       "    <tr>\n",
       "      <th>1752</th>\n",
       "      <td>東京 旅館 挾持 持刀 扣押 人質 與警 對峙 小時 投降 東森 新聞 朝日 電視 記者 20 分鐘 11 25 左右 警視廳 涉嫌 禁閉 嫌犯 現行犯 逮捕 藍色 塑膠 一輛 載著 嫌犯 的車 出現 旅館 坐在 警車 後座 深色 外套 遮住 男子 涉嫌 挾持 人質 嫌犯 事情 發生 日本 東京都 東區 JR 鶯谷 車站 附近 2024 總統 立委 大選 選舉 一覽 線上 12 上午 點多 一間 旅館 員工 報警 一間 客房 傳出 男女 激烈 爭吵 聲音 男方 疑似 持有 刀械 警方 獲報 趕到 現場 房間 裡的 男子 把門 反鎖 女子 當成 人質 不肯 開門 房間 警方 對峙 旅館 周圍 還拉起 封鎖線 10 多名 警察 待命 氣氛 一度 緊張 警方 持續 勸說 之下 雙方 僵持 小時 男子 終於 女子 釋放 女子 意識 清楚 受傷 警方 涉嫌 禁閉 男子 拘留 逮捕 目前 還要 調查 確切 挾持 原因</td>\n",
       "      <td>全球</td>\n",
       "      <td>社會</td>\n",
       "    </tr>\n",
       "    <tr>\n",
       "      <th>1753</th>\n",
       "      <td>哈爾濱 網紅 企鵝 打卡 景點 遊客 互動 超萌 東森 新聞 見到 網紅 企鵝 淘淘 遊客 零下 16 低溫 小時 橘色 書包 企鵝 淘淘 大陸 哈爾濱 網紅 企鵝 冬天 旅行 中央大街 一下 台步 得到 索菲亞 教堂 張美照 打卡 知名 雪鄉 還去 冰雪 世界 玩耍 企鵝 馴養 師李佳 活潑 外向 性格 事情 強烈 好奇心 包括 比較 親近 遊客 親密 接觸 互動 親近 一年 曝光 已經 達到 25 2024 總統 立委 大選 選舉 一覽 線上 遊客 互動 一點 害羞 淘淘 所到之處 焦點 走路 搖搖晃晃 超萌 還會 停下 腳步 特別 一下 周遭 景色 遊客 拍照 極地 公園 還讓 欣賞 美麗 松花江 雪人 安排 貓熊 同框 畫面 好療 淘淘 成為 哈爾濱 吸引 遊客 賣點 中央大街 鴿子 出現 職災 像是 中央大街 鴿子 遊客 養到 胖嘟嘟 民眾 看看 生活 中央大街 鴿子 遊客 都給 養成 啥樣 鴿子 遊客 養到 胖嘟嘟 當地 民眾 開玩笑 鴿子 伙食 太好 已經 胖到</td>\n",
       "      <td>全球</td>\n",
       "      <td>要聞</td>\n",
       "    </tr>\n",
       "    <tr>\n",
       "      <th>1756</th>\n",
       "      <td>命喪 柬埔寨 遺體 腫脹 陳屍 公寓 房間 搜出 白粉 東森 新聞 柬埔寨 首都 金邊 天空 公寓 11 發生 一宗 死亡 案件 一名 40 台灣 男子 發現 屍在 房間內 全身 已經 明顯 腫脹 警方 調查過程 男子 住處 搜出 疑似 毒品 白色 粉末 柬中 時報 死者 一名 台灣 40 莊姓 男子 ChuangYiZe 旅遊 簽證 入境 柬埔寨 11 下午 30 金邊 雷西 郊區 天空 SkyTree 公寓 房間 裡被 發現 身亡 事發 當天 當地 警方 接到 保全 通報 立即 前往 公寓 調查 發現 這名 男子 陳屍 房間內 遺體 已經 明顯 腫脹 並在 調查過程 屋內 發現 疑似 毒品 白色 粉末 目前 法醫 驗屍 確認 男子 死於 心臟病 具體 死亡 時間 尚未 確定 遺體 安放 當地 宋仁芷 寺廟 2024 總統 立委 大選 選舉 一覽 線上 一名 台灣籍 40 李姓 男子 月初 命喪 柬埔寨 事發 金邊 俄羅斯 大道 當地 警方 調查 當時 一群 聚集 吸毒 喝酒 疑似 分贓 問題 爆發 口角 衝突 狂歡 變成 大亂鬥 延伸 閱讀 命喪 柬埔寨 詐團 分贓不均 互砍 年內 已多人 喪命 死者 一路 追到 樓頂 最終 無處可逃 利器 攻擊 倒臥 大樓 管理員 發現 嚇得 報案 當警消 人員 趕到 現場 死者 已經 失去 呼吸 心跳 失血過多 不治 身亡</td>\n",
       "      <td>全球</td>\n",
       "      <td>社會</td>\n",
       "    </tr>\n",
       "    <tr>\n",
       "      <th>1762</th>\n",
       "      <td>房地產 排名 洗牌 央企 背景 保萬中 佔據 東森 新聞 大陸 房地產 巨頭 萬科 集團 創辦人 王石 2023 亞布力 論壇 開幕式 大陸 房市 現況 相當 擔憂 認為 房市 只會 更慘 慶幸 萬科 能夠 存活 今天 大陸 財經網 2023 一眨眼 過去 中指 研究院 數據 顯示 千億 房企 數量 2022 20 縮水 16 2024 總統 立委 大選 選舉 一覽 線上 歷經 恆大 碧桂園 暴雷 大陸 房地產 銷售 梯隊 洗牌 第一 梯隊 碧桂園 萬科 恆大為 變成 保萬中 保利 發展 萬科 中海 地產 這三家 企業 共通點 背後 大陸 央企 背景 大陸 評論 紅棉 花園 開盤 售樓處 擺放 一輛 貨真價實 坦克 這輛 坦克 成為 保利 地產 招牌 大陸 地產界 新龍頭 保利 發展 集團 軍工 背景 房地產業 一定 10 銷量 始終 屹立 不倒 2019 港交所 上市 一家 中海 地產 則是 世界 500 中國 建築 集團 子公司 去年 銷量 達到 3098 億元 穩坐 第三 民營 房地產商 慘兮兮 狀況 預期 大陸 如是 金融 研究院 院長 管清友 需求 消費 領域 需求 不足 需求 充足 超過 生產 超過 供給 物價 低迷 大陸 經濟 繼續 通縮 中國 國家統計局 公布 最新 消費者 物價指數 2023 12 CPI 年減 0.3 已經 第三個 負增長 幅度 稍稍 趨緩 內需 市場 持續 不振 連帶 房地產 景氣 低迷 民眾 只會 消費 降級</td>\n",
       "      <td>全球</td>\n",
       "      <td>財經</td>\n",
       "    </tr>\n",
       "    <tr>\n",
       "      <th>1771</th>\n",
       "      <td>冷血 癌末 中獎 倒地 關心 彩券 東森 新聞 澳洲 一名 老人 罹病 剩下 半年 壽命 決定 生命 結束 前到 里斯本 一家 酒吧 老虎機 幸運地 獲得 獎金 正當 兌換 現金 突然 倒地 身邊 出現 一名 不懷好意 女子 將他 彩券 偷走 並在 兌換 獎金 直接 太陽報 澳洲 這名 80 老人 湯瑪士 ThomasPurtill 患病 剩下 生命 僅存 時間 做點 開心 里斯本 某間 酒吧 老虎機 一些 零錢 碰碰運氣 該家 酒吧 監視器 畫面 只見 湯瑪士 玩完 老虎機 準備 兌換 贏得 160 英鎊 台幣 6340 正當 彩券 投進 機器 突然 出現 一名 女子 似乎 擔心 湯瑪士 狀況 通知 酒吧 人員 報警 該名 女子 不懷好意 看見 湯瑪士 身旁 一張 彩券 迅速 撿起 機器 兌換 現金 放入 口袋 並盡速 離開 現場 送往 醫院 治療 湯瑪士還 住院 當他 問到 看待 小偷 有人 過來 給我 10 元給 孩子 牛奶 一定 會給 相當 不解 這名 女子 要用 醫師 告知 癌症 已經 晚期 僅剩 生命 獎金 遺失 酒吧 人員 得知 湯瑪士 狀況 感到 相當 並對 償還 獎金 湯瑪士 人性本善 信心 再次 復燃 警方 呼籲 希望 認識 該名 女子 出面 協助 警方 辦案 犯罪 行為 模仿 文章 來源 冷血 澳洲 癌末 老虎機 中獎 倒地 關心 彩券 換錢 CTWANT 授權 轉載</td>\n",
       "      <td>全球</td>\n",
       "      <td>社會</td>\n",
       "    </tr>\n",
       "  </tbody>\n",
       "</table>\n",
       "<p>211 rows × 3 columns</p>\n",
       "</div>"
      ]
     },
     "execution_count": 161,
     "metadata": {},
     "output_type": "execute_result"
    }
   ],
   "execution_count": 161
  },
  {
   "metadata": {},
   "cell_type": "markdown",
   "source": "# 看錯誤預測的社會樣本"
  },
  {
   "cell_type": "code",
   "metadata": {
    "ExecuteTime": {
     "end_time": "2024-04-08T03:06:33.908972Z",
     "start_time": "2024-04-08T03:06:33.898561Z"
    }
   },
   "source": "false_pred.loc[false_pred['artCatagory']=='社會', :].head(50)",
   "outputs": [
    {
     "data": {
      "text/plain": [
       "                                                                                                                                                                                                                                                                                                                                                                                                                                                                                                                                                                                                                                                                                                                                                                                                                                                                                                                                                                                                                                                                                                                                                                                                                                                                                 words  \\\n",
       "719                                                                                                                                                                                                                                                                                                                                                                                                                                                                                                                                                                                                                                                                                                                                                  金價 狂飆 他海削 逮竊遍 北宜 黃金 大盜 東森 新聞 年僅 20 男子 一身 黑衣 裝扮 戴著 口罩 來到 銀樓 貌似 店家 交談 還伸 伸懶腰 拉拉 隨後 離開 店家 大搖大擺 故作 鎮定 事實上 手裡 早已 一條 23 金項鍊 犯案 計畫 還沒 結束 幾天 新北到 宜蘭 女朋友 繼續 鎖定 銀樓 偷來 金項鍊 價值 23 賣出 14 變現 離開 再度 回家 店家 買回 原本 金項鍊 一條 更重 店家 接待 客人 直接 搶走 桌上 金項鍊 拔腿 逃離 附近 銀樓 店家 印象 深刻 附近 店家 擔心 款式 怪怪的 附近 銀樓 業者 說前 嫌犯 帶著 女朋友 來到 店裡 身上 三兩重 黃金 項鍊 二兩 業者 直覺 異狀 現在 金價 一錢 黃金 就要 7800 所幸 最後 拒絕 交易 年僅 20 薛姓 嫌犯 新北地 檢署 所發 詐欺 通緝犯 新北中 警方 聯手 宜蘭 刑大 警方 組成 專案小組 展開 追查 15 傍晚 新北中 廣福路 住家 附近 銀樓 著裝熟 23 金項鍊 21 下午 宜蘭 羅東 中山路 金項鍊 價值 37 警方 埋伏 新北 老家 附近 23 凌晨 逮人 受害 銀樓 共犯 結構 同步 擴大 追查   \n",
       "727                                                                                                                                                                                                                                                                  聚焦 真相 天坑 頻傳 工安 警訊 開挖 工程 危機 東森 新聞 國內 接二連三 發生 天坑 事件 建案 不久前 捷運 吊臂 斷裂 建築工地 導致 工安 意外 現在 全國 各地 許多 大型 建案 正在 施工 工安 事件 帶給 警訊 曾幾何時 好好 開車 陷落 人行道 消失 地表 一起 一起 危及 生命安全 意外 工地 所有 人口 密集區 地底下 地下水 當人 粗心 變成 禍害 新北市 土木 協會 理事長 余烈 最怕 變位 側向 位移 位移 公尺 地層 下陷 公尺 道路 房子 下陷 三重 工地 主任 師傅 待會 班長 指揮 這是 三重 一處 大型 建案 地下 地上 14 標準 開挖 工程 工地 基礎 地底下 型鋼 層層 交疊 支撐 連續 避免 開挖 造成 土方 地下水 位移 標準 SOP 做好 鄰損 地表 沉陷 帶來 難以想像 災難 內政部 建築 研究所 審查 委員 張盈智 雙北市 以前 台北 台北盆地 地質 不好 針對 地質 不好 情況 開挖 容易 造成 土壁 很大 變形 造成 鄰房 影響 五月 艷陽天 台北市 信義 區的 首善 突然 出現 15 公尺 公尺 大洞 家園 毀了 房屋 陷落 天降 災禍 說來 受災 居民 突然 五分鐘 越來越 摩托車 腳踏車 餐車 跌進去 受災 居民 一下子 一直 下去 建管 調查 建案 連續 壁體 滲水 造成 地下水 湧入 引發 坍陷 專家 眼中 一起 事件 明明 避免 的並 新北市 土木 協會 理事長 余烈 施工 計畫 防災 計畫 這兩 大計 畫是 施工 期間 安全 把關 重要 計畫 兩個 計劃 以後 委外 審查 第一個 要夠 專業 公正 第三 單位 余烈 所說 施工 防災 計畫 地質 調查 提出 施工 計畫 進行 鄰房 鑑定 施工 開挖 這項 法規 少數 地方 政府 確實 執行 各縣市 危機意識 不足 往往 得過且過 導致 天坑 地表 塌陷 事件 層出不窮 內政部 建築 研究所 審查 委員 張盈智 針對 一種 鄰居 道路 調查 道路 底下 原來 路基 穩不穩 也許 底下 一些 空洞 人去 調查 並不知道 建築 建案 施工 鄰房 鑑定 居民 為主 包含 交通要道 道路 軌道 捷運 鑑定 範圍 之外 當前 主要 交通 建設 建案 大興土木 疏於 監督 生命財產 損失 天降 橫禍 威脅 停止   \n",
       "735                                                                                                                                                                                                                                                                                                                                                                                                                                                                                                                                                                                                                海虎 潛艦 官兵 落海 失聯 家屬 淚崩 孩子 東森 新聞 海軍 艦隊 指揮部 海虎 潛艦 執勤 期間 發生 官兵 落海 事件 獲救 下落不明 搜救 進入 張姓 士官 家屬 表達 深切 哀傷 之情 士官 妻子 哭訴 兒子 不斷 哭泣 擔心 父親 受涼 回憶起 丈夫 承諾 會活 好好 丈夫 食言 盡快 回家 海軍 艦隊 指揮部 所轄 256 戰隊 海虎 軍艦 21 執勤 任務 未料 湧浪過 造成 官兵 落水 部分 獲救 下落不明 海軍 海巡 單位 積極 進行 搜救 時間 進入 尋獲 海軍 艦隊 指揮部 政戰 主任 林傳盛 少將 表示 海巡 巡護 號於 23 凌晨 12 15 小琉球 南方 海域 發現 一件 紅色 充氣 救生衣 救難 浮標 初步 判定 為海虎 潛艦 裝備 附近 發現 落海 官兵 士官 家屬 陷入 焦急 張妻 透露 兒子 一直 哭泣 擔心 父親 受寒 不斷 喊話 害怕 張妻 回憶起 丈夫 承諾 許多 計畫 包括 過年 櫻花 修船 沖繩 自由 萬聖節 六福村 遊玩 未來 20 退伍 夫妻 共同 計畫 哭喊 我會 捨不得你 你會活 好好 現在 開玩笑 張妻 句句 懇切 丈夫 食言 回家 透過 社群 媒體 表達 丈夫 思念 許多 網友 見狀 十分 心痛 紛紛 留言 安慰 期盼 搜救 團隊 早日 找到 失蹤 官兵 海軍 指部 表示 搜救 行動 進行 放棄 尋找 可能性 文章 來源 海虎 潛艦 官兵 落海 搜救 失聯 家屬 淚崩 孩子 害怕 CTWANT 授權 轉載   \n",
       "740                                                                                                                                                                                                                                                                                                                                                                                                                                                                                                                                                                                                                                                                                                                                                                     公公 偷翻 媳婦 貼身衣物 愛才 嚇到 全身 東森 新聞 遇到 狀況 怎辦 近日 一位 人妻 表示 發現 公公 內褲 令人 衝擊 畫面 看到 全身 發抖 這事 第一次 發生 公公 愛家 PO 論壇 Dcard 發文 出門 臨時 想到 東西 中途 回家 一趟 發現 房門 打開 走進 看見 公公 內褲 我掛 房間內 PO 解釋 內褲 房間 公公 第一次 偷翻 平常 上班 鎖門 防不勝防 今天 忘記 看到 令人 衝擊 畫面 全身 發抖 知道 知道 娘家 公稱 娘家 只會 做人 PO 指出 乾脆 夫妻 搬出去 老公 公公 愛家 人才 下次 PO 指出 第一次 發生 不敢 對方 保證 現在 講話 覺得很有 壓力 半夜 廁所 房門 壓力 PO 補充 公公 房門 偷聽 PO 坦言 知道 下去 精神 方面 生病 老公 做錯 事情 辦法 解決問題 失望 知道 該不該 娘家 爸媽 此文 曝光 網友 紛紛 留言 公公 行為 已經 產生 意淫 做出 實際 行為 心理壓力 公公 老公 沒用 上樑不正下樑歪 勸離 可怕 行為 搬出去 回娘家 直接 開來 家人 已經 道德 問題 CTWANT 授權 轉載   \n",
       "742                                                                                                                                                                                                                                                                                                                                                                                                                                                                                                                                                                                                                                                                               公安 申報 新北 稽查 密室 逃脫 全數 合格 東森 新聞 新北 市政府 這次 稽查 密室 逃脫 業者 發現 通通 合格 像位 景平路 一間 一條 路上 一間 同樣 違規 連城 路上 一家 業者 違規 大部分 隱身 住宅區 規定 進行 建築物 公共安全 申報 密閉 空間 嘗試 解開 謎團 劇情 氣氛 搭配 聲光效果 場面 緊張 刺激 揪團 密室 逃脫 成為 現在 年輕人 喜愛 休閒 娛樂 活動 進行 期間 存在 安全 風險 民眾 特別 注意安全 這塊 一條 注意 有沒有 狹小 民眾 安全 斟酌 相對 遊戲 地方 比較 簡陋 避開 民眾 有沒有 安全 注意 退費 機制 知道 好像 時間 比較 好像 遲到 權益 一定 受損 稽查 合格 店家 包括 永和 四家 密室 逃脫 業者 兩家 位於 板橋 全部 完成 建築物 公共安全 申報 四家 完整 註明 退費 標準 兩家 場地 安全 標示 新北市 法制局 消保官 洪伯緯 針對 遊戲 情節 需要 設置 特殊 機關 階梯 樓梯 情況 確保 消費者 遊戲 進行 安全 本次 查核 輔導 業者 加強 相關 安全 標示 消保官 指出 公安 申報 合格 建築 規定 最高 可處 30 萬元 提醒 民眾 報名 之前 應該 確認 狀況 是否 適合 參加 更要 了解 業者 退費 規定 避免 後續 消費 爭議 不良 行為 模仿   \n",
       "745                                                                                                                                                                                                                                                                                                                                                                                                                                                                                                                                                                                                                                                                                                                                                                                                                                                                                                                                                                                                                                                                                                                                       海虎艦 落海 搜救 已過 72 小時 海軍 延長 72 小時 東森 新聞 海虎 潛艦 意外 落海 失聯 三名 弟兄 目前 已經 搜尋 超過 72 小時 黃金時間 進展 海軍 指部 表示 放棄 機會 持續 整合 友軍 陸岸 兵力 擴大 搜尋 區域 整體 搜救 行動 延長 72 小時   \n",
       "765                                                                                                                                                                                                                      聚焦 真相 獨家 專訪 運安會 調查 中捷 危機 處理 瑕疵 東森 新聞 捷運 一死 10 慘劇 建商要 負起 責任 中捷 疏失 引發 各界 撻伐 交通部 運安會 接受 東森 新聞 獨家 專訪 特別 針對 危機 處理 SOP 進行 調查 學者 直指 國內 軌道 ATP 系統 已經 老舊 應該 一次 痛定思痛 徹底 改善 安全 偵測 系統 先是 吊臂 從天而降 一聲 巨響 40 公尺 重達 三噸 吊臂 橫躺 捷運 軌道 上方 明知 障礙物 非同小可 眾人 眼睜睜 看著 捷運 列車 往前 靜宜 大學 助理 教授 林淑雅 吊臂 重創 出車 搶救 之後 魂斷 中捷 林淑雅 52 事故 唯一 受難者 教學 認真 深受 愛戴 長期 關注 人權 議題 引爆 全民 怒火 咎責 建商 眾人 糾結 心中 問號 第一 時間 無法 停住 列車 中捷 危機 處理 有沒有 重大 瑕疵 消基會 交通 委員會 召集人 李克聰 一次 前方 確認 相信 看到 聽到 聲響 整個 很大 煙塵 第一個 反應 車門 關上 運安會 調查組 召集人 名山 啟動 調查 SOP 通報 系統 過去 反應 回來 時間 交通部 運安會 著手 調查 釐清 建商 中捷 相關 責任 這起 事故 軌道 運輸 安全 問題 浮上 檯面 包括 ATP 只能 偵測 軌道 異物 懸空 物體 反應 之力 學者 直指 安全 偵測 設備 已經 老舊 應該 痛定思痛 強化 更新 消基會 交通 委員會 召集人 李克聰 包括 AI 影像 判別 紅外線 雷達 偵測 偵測 範圍 擴大 所有 軌道 上面 異物 軌道 上方 兩側 測得 國內 交通運輸 安全性 分為 A型 B型 路權 捷運 屬於 最高 等級 運輸 應該 完全 封閉 異物 入侵 機會 全台 南北 捷運 沿線 大型 建案 林立 規定 軌道 公尺 內限建 法規 太過 鬆散 這次 中捷 事件 原因 消基會 交通 委員會 召集人 李克聰 沿線 重大 施工 包括 吊車 掉落 軌道 完整 交通 維持 計畫 交通 維持 計畫裡面 能夠 規範 營運 時段 施工 運安會 調查組 召集人 名山 以後 軌道 高空 吊臂 長度 程度 跌落 掉入 軌道 審查 機制 軌道 運輸 認為 陸地 安全 交通工具 行車 偵測 系統 疏漏 不可抗力 異物 入侵 造成 難以想像 重大 傷亡 太魯閣 事件 中捷 事故 生命 殞落 相關 單位 面對 責任 提出 解方 避免 重蹈覆轍   \n",
       "788                                                                                                                                                                                                                                                                                                                                                                                                                                                                                                                                                                                                                                                        女兒 CO 中毒 喪命 熱水器 裝不 通風 陽台 父遭 判刑 東森 新聞 天冷 使用 熱水器 務必 注意 通風 新北市 一名 屋主 陽台 外側 加裝 玻璃窗 當初 安裝 熱水器 注意 通風 不良 強制 排氣 設備 瓦斯 燃燒 完全 狀況 一氧化碳 飄進 女兒 房間 導致 房內 女兒 窒息 身亡 屋主 過失 致死 判刑 緩刑 兩年 新北市 發生 一起 個案 一家人 安裝 屋外 瓦斯 熱水器 陽台 卻是 玻璃窗 注意 通風 狀況 之下 發生 憾事 10 年前 屋主 一家 要裝 熱水器 陽台 已經 先有 玻璃窗 通風 不良 強制 排氣 設備 女兒 房間 靠近 陽台 今年 一月 熱水器 瓦斯 完全 燃燒 產生 一氧化碳 飄散 房內 導致 窒息 身亡 屋主 心痛 坦承 疏失 一審 過失 致死 有期徒刑 得易科 罰金 15 緩刑 兩年 熱水器 業者 陽台 玻璃窗 鋁門窗 鐵窗 通風 不良 幾種 環境 需要 強制 排氣 熱水器 強制 排氣 意思 熱水器 燃燒 藉由 風扇 廢氣 排氣管 末端 廢棄 民國 94 消防 法規 規範 熱水器 瓦斯 天然氣 業者 安裝 義務 注意 律師 李育 屋主 之外 當時 施工 師傅 過失 要負 過失傷害 過失 致死 相關 刑事責任 尤其 消防 統計 今年 12 24 一氧化碳 中毒 統計 件數 多達 21 49 送醫 身亡 集中 冬天 天氣 不想 冷水 通風 不可不 注意   \n",
       "796                                                                                                                                                                                                                                                                                                                                                                                                                                                                                                                                                                                                             愛上 180 公分 羽球 女遭 拒竟 硬來 知道 東森 新聞 一名 潘姓 女子 愛上 身高 180 公分 羽球 社員 阿偉 化名 假借 送球具 用品 名義 企圖 發生 關係 阿偉 驚恐 直呼 真的 潘女 不放過 強行 企圖 發生 關係 隨即 阿偉 報警 經台 中高 分院 審理 潘女 被判 強制性 未遂 徒刑 全案 還可 上訴 據台 中高 分院 判決 指出 該名 潘姓 女子 涉嫌 強制性 未遂 阿偉 示好 婉拒 2023 11 晚間 潘女 假借 羽球拍 名義 誘使 阿偉 進入 住處 強行 阿偉 實施 性侵 不當 行為 阿偉 反抗 大聲 表示 願意 潘女 毫不理會 最終 阿偉 奮力 逃脫 報警 求助 審理 過程 潘女 辯稱 當時 事情 發生 精神 問題 關係 潘女 律師 表示 阿偉 180 公分 體型 潘女 具有 優勢 阿偉 願意 發生 關係 雙方 應有 達成 共識 案情 發生 之後 兩人 互動 阿偉 所述 阿偉 反駁 補充 說道 事件 發生 收到 潘女 傳來 訊息 對不起 今天 失態 希望 在意 直言 覺得 驚恐 生氣 完全 不想 潘女 發生 關係 潘女 一直 強迫 導致 腋下 衣服 勒出 腫塊 受傷 最後 經台 中高 分院 審理 認為 阿偉 敘述 情節 描述 邏輯 合理 案發時 錄音 阿偉 確實 直說 真的 真的 潘女 卻說 知道 強行 繼續 潘女 行為 確實 涉及 性侵 事後 說謊 否認 罪刑 最後 判處 徒刑 全案 還可 上訴 尊重 身體 自主權 請撥 113 110   \n",
       "805                                                                                                                                                                                                                                                                                                                                                                                                                                                                                                                                                                                                                                                                                                  先取 轉單 惡劣 外送員 二度 當歸鴨 偷餐 東森 新聞 頭戴 安全帽 身穿 雨衣 這名 送員 快步 走進 店門口 下腰 確認 餐點 單據 簽名 取餐 離開 動作 相當 流暢 看似 正常 流程 餐點 送到 客人 手上 過了 同樣 裝扮 再次出現 探頭探腦 餐點 撕下 單據 簽名 似乎 不到 這回 乾脆 名字 不簽 直接 拿餐 過程 監視器 下來 店家 拿走 之後 已經 取餐 變成 造成 外送員 會來 一張 單子 事發 桃園 龜山 一間 小吃店 23 這位 外送員 疑似 先到 店裡 取餐 訂單 轉走 導致 客人 誤以 餐點 直接 按下 取消 沒想到 這名 送員 再次出現 這次 連取 餐鍵 直接 餐點 拿走 直到 一位 外送員 要來 取餐 店家 驚覺 餐點 店家 變成 製作 一份 給外 送員 等於 我出 餐點 得到 要求 外送員要 單號 簽名 表示 取到 餐點 店家 無奈 只能 認賠 只害 客人 多花 時間 等待 餐點 費用 吸收 節省時間 店家 餐點 放在 取餐區 核對 單號 送員 已經 要求 簽名 負責 避免 餐點 外送員 必要 多少錢 東西 幹嘛 東西 知道 停權 店家 偷竊 行為 實在 要不得 店家 目前 報案 監視器 畫面 公布 警告 這名 送員 警惕 附近 店家 幾百塊 餐點 刑責 實在 得不償失   \n",
       "813                                                                                                                                                                                                                                                                                                                                                                                                                                                                                                                                                                                                                                                                                                                                            官兵 落海 喊話 外面 回家吧 東森 新聞 張姓 士官 妻子 海軍 落海 失蹤者 晁毓 老婆 海上 船隻 幫忙 仔細 瞭望 有沒有 出現 附近 拜託 老公 回來 外面 回家吧 妻子 真情 喊話 字字句句 透露 丈夫 思念 鼻酸 難過 海虎 潛艦 官兵 落海 失聯 已經 超過 黃金 72 小時 失蹤 官兵 不到 張姓 士官 妻子 外界 喊話 希望 海上 船隻 丈夫 返家 案發 海軍 總算 還原 事件 海軍 司令部 參謀長 吳立平 當時 第一批 人員 報告 我要 救難 海軍 澄清 外界 所說 救人 救難 浮標 行駛 過程 脫落 擔心 葉會 繩索 小隊 上甲板 回收 沒想到 大浪 官兵 不慎 跌倒 掛在 潛艦 外頭 艦艇 裡面 兵器 得知 帶人 救援 兵器 單獨 上甲板 後續 首批 落海 救援 大浪 關係 陸續 落海 最後 導致 小組 小組 一共 落海 失蹤 海軍 司令部 參謀長 吳立平 寬度 很窄 不到 公尺 已經 左右 晃到 超過 30 以上 人員 上面 嚴峻 考驗 不到 公尺 甲板 行走 承受 大浪 晃動 感覺得到 情況 危及 可怕 外界 好奇 首位 跌倒 掛在 乾舷 官兵 是否 失蹤者 對此 海軍 不便 透露 人員 細節   \n",
       "821                                                                                                                                                                                                                                                                                                                                                                                                                                                                                                                                                                                                                                                                                                                                                                                                                                                                                   46 個月領 非洲 護照 移民 代辦 公司 搜索 東森 新聞 戴著 口罩 神情 凝重 全程 不發 一語 移民 代辦 公司 負責人 女兒 約談 指控 涉嫌 販售 非洲 國家 護照 檢調 單位 查出 2018 2020 年間 代客 申辦 幾內亞 比索 護照 家長 提供 小孩 戶口名簿 台灣 護照 影本 照片 再付 多美元 台幣 46 最快 取得 幾內亞 比索 護照 還在 官網 公開 強調 第二 護照 就讀 外僑 學校 必備 文件 孩子 快速 國際 接軌 家人 相處 最佳 教育 方案 涉犯 偽造 特種 文書 公司 負責人 業務 搜索 約談 國內 富商 名流 子女 就讀 外僑 學校 需要 護照 幾內亞 比索 護照 想辦 可不 容易 調查 依法 須在 當地 合法 居留 這間 移民 代辦 公司 非法手段 代客 申辦 宣稱 出國 護照 已經 失效 歪腦筋 後續 行為 負責   \n",
       "824                                                                                                                                                                                                                                                                                                                                                                                                                                                                                                                                                                                                                                                                                                                                                                                                                                                                                                空軍 帥氣 招募 違法 高美濕 放煙火 東森 新聞 這行 真的 不妥 空軍 一名 帥氣 招募 遭人 PO 網說 高美濕 放煙火 引起 網友 譴責 汙染 濕地 環境 對此 相關 單位 表示 接獲 檢舉 可開罰 六千塊 民眾 PO 網說 知名 景點 高美濕 保育 看到 有人 施放煙火 透過 畫面 現場 狀況 施放煙火 民眾 哇哇 了解 網友 PO 地點 高美濕 現場 點燃 仙女 之外 中空 煙火 飛過 柵欄 保育 區的 畫面 引發 網友 質疑 一名 放煙火 帥氣 軍方 招募 對此 高美 園區 表示 影片 內容 闖入 管制 區域 外圍 平台 施放煙火 濕地 保護法 保育 放煙火 六千元 罰緩 煙火 造成 環境 汙染 環保局 接獲 檢舉 開罰 民眾 舞法 接受 一名 放煙火 空軍 招募 影片 已經 刪除 已經 網友 轉載 PO 網路上 譴責   \n",
       "826                                                                                                                                                                                                                                                                                                                                                                                                                                                                                                                                                                                                                                                                                                                                                                           失業 寒流 街頭 81 乞討 牌吐 辛酸 丟臉 東森 新聞 近期 流來 氣溫 驟降 新北中 一名 女子 22 街頭 過夜 81 乞討 希望 幫忙 真的 丟臉 對不起 真的 沒騙 網友 辛酸 PO 24 書社 團我 發文 一名 女子 街上 牌子 寫下 月初 工作 還要 幾天 結束 希望 社福 單位 幫忙 了解 女子 牌子 已經 失業 一個月 身上 沒錢 無家可歸 四處 流浪 真的 吃飯 乞討 真的 丟臉 對不起 真的 沒騙 下個月 工作 謝謝 感恩 此文 曝光 網友 紛紛 留言 失業 一個月 遊民 積蓄 報警 警察 安排 遇見 告知 永和 正德 廚房 供餐 有人 22 看到 晚上 天氣 有人 過去 看到 真的 短暫 需要 幫助 真的 滷肉飯 店家 女子 幫找 工作 提供 餐食 人活 希望 加油 之後 好心 網友 捷運 賣場 看到 一名 女子 需要 幫助 物資 跟給 救助金 對方 牌子 下個月 工作 社會局 蘆洲 工作 新北 議員 金瑞龍 留言 警方 現在 過去 並請 社會局 協助 幫忙 文章 來源 失業 寒流 街頭 81 乞討 辛酸 丟臉 CTWANT 授權 轉載   \n",
       "862                                                                                                                                                                                                                                                                                                                                                                                                                                                                                                                                                                                                                                                                                                                                              國中生 身中 10 喪命 網湧入 總統 貼文 社會 安全網 東森 新聞 新北 國三生 最終 喪命 消息 一出 網友 湧入 總統 英文 最新 貼文 直喊 社會 安全網 孩子 上學 綠營 質疑 侯友宜 關心 這起 案件 侯辦 發聲明 強調 當天 晚間 醫院 探視 家屬 隱私 情緒 第一 時間 對外 公布 總統 英文 27 晚間 臉書 發文 稱讚 民進黨 總統 候選人 賴清德 政見會 提出 國家 願景 藍圖 台灣 繼續 網友 似乎 不太 買單 下方 留言 討論 新北 國三生 割喉 致死案 有人 痛批 校園 安全 身為 政府 感到 心寒 有人 麻煩 重視 一下 校園 案件 小孩 讀書 一票 網友 直喊 社會 安全網 有人 這篇 臉書 發文 感到 問號 還以 關心 國中生 爸媽 當年 燈泡 似乎 犧牲 網友 直喊 孩子 校園 安全 疑慮 解決 外界 質疑 國民黨 總統 候選人 侯友 宜作 新北 市長 關心 案件 對此 陣營 發聲明 澄清 12 25 晚間 50 侯友宜 醫院 探視 孩子 爸媽 發放 慰問金 要求 院長 救治 孩子 父母 不用 擔心 醫藥費 顧及 當事人 情緒 隱私 第一 時間 公布 盼外 界別 當事人 傷口 上灑   \n",
       "866                                                                                                                                                                                                                                                                                                                                                                                                                                                                                                                                                                                                                                                                                                                                                                       優秀 國三生 枉死 導師 質疑 法規 伸張正義 保護 加害者 東森 新聞 新北 一名 國三男 學生 25 遭到 利器 攻擊 26 晚間 宣告 學校 一名 導師 感嘆 優秀 富有 正義感 年輕 生命 離去 世界 這名 導師 27 深夜 發文 感嘆 喪命 學生 優秀 富有 正義感 目前 少見 好學 特質 學生 開朗 笑容 印象 深刻 導師 表示 任教 班級 每周 只見 一次 記不住 學生 長相 死者 八年級 記住 少數 口罩 解禁 口罩 一群 開朗 笑容 印象 很深 導師 透露 死者 上課 製作 作品 用心 七年級 拿到 班上 最高分 八年級 獨力 完成 全班 無法 做成 作品 許多 同學 放棄 唯一 持之以恆 導師 指出 死者 九年 級後長 變帥 複習 成績 上榜 班上 維持 前三名 成績 沒想到 同學 刺殺 想要 大吼 世界 導師 不禁 質疑 條規 伸張 正義 保護 加害者 教學 使命 困惑 存疑 有沒有 意義 導師 提到 一條 年輕 生命 莫名其妙 離去 好像 記錄 時間 過了 遺忘 我會 記得 曾經 來過 短暫 15 歲月 成功 成長 一位 責任感 學習 認真 青年   \n",
       "884                                                                                                                                                                                                                                                                                                                                                                                                                                                                                                                                                                                                                                                                                                                                                                                                                                           國三生 喪命 家長 送花 打氣 孩子 差點 打瞎 東森 新聞 新北市 一名 就讀 國三 男同學 校內 同儕 砍殺 身中 10 送醫 搶救 宣告 案情 震驚 社會 大眾 28 有民眾委 特別 送花 學校 表達 死者 哀悼 之情 希望 學校 師生 打氣 ETtoday 新聞 送花 到校 家長 指出 兒子 就讀 該所 學校 因用 不雅 字眼 辱罵 一名 女同學 遭到 殘忍 毆打 眼睛 差點 打瞎 這次 悲劇 特別 感同身受 痛心 送花 家長 表示 社會 大人 置身事外 責任 孩子 加害者 家長 死者 家長 來說 現在 煎熬 黑暗 希望 一起 協助 覺得 學校 辛苦 老師 認真 送花 鼓勵 學校 表示 已經 失去 孩子 希望 剩下 兩個 孩子 救回來 家長 送花 打氣 家長 學校 師長 喊話 孩子 家長 來說 現在 煎熬 希望 一起 協助 呼籲 社會各界 應該 共同 協助 尤其 針對 案中 兩名 加害者 希望 放棄 孩子 重新 回歸 正途 重要   \n",
       "889                                                                                                                                                                                                                                                                                                                                                                                                                                                                                                                                                                                                                                                                                                                                                                                                                                                                             國三生 遭割 喉亡 遺體 初驗 嚇壞 人體 要害 東森 新聞 新北市 一名 國三生 25 遭到 同校 男同學 彈簧 刀割 猛刺 10 搶救 宣告 警方 27 上午 完成 遺體 初驗 凶手 行刺 部位 刀刀 致命 對此 網友 感到 細思極 國中生 還懂 身上 要害 知道 攻擊 死掉 新北市 一名 國三生 25 遭到 同校 男同學 彈簧 刀割 猛刺 10 搶救 宣告 27 上午 警方 完成 遺體 初驗 發現 該名 學生 身上 共中 10 身體 正面 右下 刀刀 致命 事後 網友 PTT 上以 割頸 國中生 要害 八卦 為題 表示 仔細 一想 發現 刀刀 要害 恐怖 國中生 還懂 身上 要害 知道 攻擊 死掉 換作 場合 一定 辦法 反應 過來 貼文 一出 引起 網友 討論 紛紛 留言 表示 講我 想到 感覺 刀刀 致命 真的 不像 十幾歲 行為 刀刀 致死 肯定 有人 教過   \n",
       "890                                                                                                                                                                                                                                                                                                                                                                                                                                                                                                                                                                                                                                                                                                   學生 素質 差異 讀私校 安全 內行人 隱憂 東森 新聞 新北市 一名 國三生 25 遭到 同學 彈簧 刀割 刺胸 搶救 宣告 這起 事件 使民眾 校園 安全 相當 擔心 網友 指出 公立學校 學生 素質 良莠不齊 認為 就讀 私立學校 相對 安全 認為 明年 私校 爆滿 貼文 一出 引起 熱議 網友 點出 隱憂 私校 霸凌 比較 一名 網友 27 PTT 明年 私校 爆滿 為題 發文 指出 現在 公立學校 明星 學校 以外 學生 素質 良莠不齊 學生 問題 學生 一起 上課 情況 司空見慣 認為 私校 環境 安全 這次 國中生 殺人 事件 之後 明年 私校 報名 應該 會大 爆滿 貼文 一出 引起 網友 熱議 紛紛 留言 表示 私校 非常少 家庭 學期 萬給 讀私校 有錢人 現在 國中給 小孩 私校 學區 名校 高中 有沒有 考到 志願 私校 兩個 兒子 真的 比較 老師 管事 每天 群組 通知 小孩 狀況 二代 雙語 私校 正常 家庭 無法 負擔 建議 私校 至少 比較 少出 事情 幾個 私校 一直 爆滿 父母 早有 先見之明 網友 點出 隱憂 私校 霸凌 比較 乖乖 公立 校會 背景 垃圾 根本 躲不了 校會 用錢 霸凌 同學 有錢 同學 課業 壓力 發洩 功課 身上 私校 精神 層面 霸凌 私校   \n",
       "893                                                                                                                                                                                                                                                                                                                                                                                                                                                                                                                                                                                                                                                              英勇 游尚 臉書湧 親友 留言 辛苦 任務 結束 東森 新聞 對著 鏡頭 露出 招牌 燦爛 笑容 開心 親友 合照 人緣 相當 新工 分隊 分隊長 游尚 火場 英勇 救出 位民眾 不幸 受困 樓梯 濃煙 嗆暈 同事 救出 已經 失去 呼吸 心跳 搶救 宣告 新竹縣 消防 大隊長 發生 消防人員 受困 情形 啟動 自救 程序 人員 救出 部分 盡快 分隊長 送到 之後 急救 緊急 游尚 火場 救出 死神 回天乏術 一起 共患難 出入生死 同事 殉職 心情 難以 言喻 始終 無法 相信 同事 永遠 離開 新竹縣 消防 大隊長 很大 能見度 後續 部分 發生 一些 不想 看到 朋友 同事 紛紛 湧入 游尚 臉書 留下 辛苦 任務 結束 要游 尚樺 一路 文字 之間 透露 滿滿 難過 心情 貼心 孝順 游尚 親友 感情 相當 融洽 時常 一起 聚餐 吃飯 留下 合照 游尚 穿著 學士 花束 禮物 畢業典禮 同學 拍照 紀念 新工 分隊 分隊長 游尚 今年 29 來自 高雄 畢業 中央 警察 大學 81 2022 新竹縣 服務 原本 新北 市政府 消防局 竹圍 分隊 擔任 分隊長 新竹縣 擔任 第一 大隊 分隊長 2022 接任 工分 隊長 工作 表現 相當 優異 體貼 熱心 長官 出動 過好 幾次 任務 這場 救火 不幸 因公殉職 救人 命喪 火場 游尚 離世 留給 親友 無限 傷痛   \n",
       "904                                                                                                                                                                                                                                                                                                                                                                                                                                                                                                                                                                                                                                                                                           學生 聚眾 衝突 還自 PO 衝抖音 流量 歪風 東森 新聞 運動場 14 學生 分成 爆發 衝突 警方 獲報 緊急 到場 制止 連繫 雙方 家長 學校 教官 到場 通報 少年 警察隊 雙方 互不 提告 責令 家長 帶回 管教 孩子 還自 po 現在 網路 文化 家長 擔憂 家長 要管 小孩 手機 很難 家長 盡力 家長 家長 教育 告訴 資訊 不見得 正確 判斷力 傳輸 給他 幫助 比較 能夠 接受 告訴 新北 校園 發生 彈簧刀 攻擊 事件 兒少 相關 團體 憂心 網路 社群 引來 連鎖 效應 兒福 聯盟 組織 發展 處處長 韻璇 台灣 兒少 網路 安全 專責 主管機關 定期 監督 內容 希望 政府 應該 高階 主管機關 協調 機制 兒福 聯盟 指出 兒少 同儕 壓力 使用 社群 網路 沉迷 傾向 調查 孩子 平均 10 手機 尤其 超過 70% 依賴 網路 超過 60% 使用 3C 產品 半夜 孩子 使用 平台 以抖 音為 67 70% 兒少 社群 軟體 接觸 不當 內容 恐怖 血腥 超過 半數 45% 兒少 想當 網紅 30% 遇過 網路 騷擾 調查 發現 87 兒少 社群 帳號 平均 每人 擁有 3.8 帳號 家長 知道 不到 顯然 無法 完整 接軌 孩子 網路 世界 呼籲 政府 平台 業者 正視 保護 兒少   \n",
       "918                                                                                                                                                                                                                                                                                                                                                                                                                                                                                                                                                                                                                                                                                                                                                                       國三生 慘死 校外 警車 叫囂 學生 東森 新聞 近日 國中生 割頸案 全民 關注 時刻 追蹤 涉案人 最新 案情 對此 一名 自稱 同校 學生 發文 表示 案件 大肆宣揚 門外 出現 警車 聚集 直言 明明 做錯事 承擔 輿論壓力 卻是 一名 自稱 在校生 女網友 Dcard 發文 表示 事發 當天 新聞 網路 不斷 散播 資訊 加害者 加害者 父母 並遭 網友 施壓 網暴 認為 加害者 態度 囂張 離譜 這起 案件 不該 大肆宣揚 不該 成為 理性 發言者 宣洩 情緒 管道 提到 網友 網路上 發言 也許 影響 安全 也許 不用 法律責任 校內 學生 承擔 輿論壓力 PO 指出 校門口 一早 出現 警車 不斷 聚集 叫囂 強調 明明 加害者 被害者 影響 學校 乾脆 夷為 平地 建築 PO 提到 該所 學校 大部分 安分守己 學生 現在 身著 校服 嗤之以鼻 凡事 以偏概全 明明 做錯事 承擔 輿論壓力 卻是 最後 喊話 網友 校內 學生 感到 悲憤 真心 希望 網路上 理性 發言 能夠 減少 身處 學校 感到 不安 拜託 發表 言論 前先用 大腦 不知廉恥 國中生   \n",
       "920                                                                                                                                                                                                                                                                                                                                                                                                                                                                                                                                                                                                                                                                                                                                                                                                                                                                                                                                 國三生 喪命 案引 關注 新北警 擴大 臨檢 球館 東森 新聞 新北 蘆洲 深夜 超過 20 警察 街上 排排站 重要 任務 準備 進行 大型 臨檢 走進 球館 燈火通明 許多 青少年 還拿著 球棍 看到 警察 乖乖 包裡 拿出 身分 證件 接受 臨檢 來到 年輕人 愛去 網咖店 民眾 座位 著大 螢幕 手上 滑鼠 按鍵 停過 遊戲 火熱 警察 查明 身分 警察 可不是 找碴 營造 良好 少年 成長 環境 蘆洲 分局 28 針對 釣蝦場 少年 中輟 生易 聚集 地方 擴大 臨檢 酒駕 危險 駕車 進行 取締 清查 是否 不法 情事 範圍 環堤 大道 民族 422 中興路 攔截 警察 提醒 業者 縱容 兒童 少年 深夜 聚集 店內 主動 通報 警察 社維法 77 條裁罰   \n",
       "927                                                                                                                                                                                                                                                                                                                                                                                                                                                                                                                                                                                                                                                                                                                                                                                                                           國三生 慘死 范雲曾 學校 書包 網怒 校園 安全 破口 東森 新聞 國中生 割頸案 引發 社會 關注 民進黨 立委 力挺 學生 隱私權 大力 譴責 搜查 書包 權威 展現 粉專 湧入 大批 網友 28 日范雲發布 助選 底下 更是 出現 許多 質疑 聲浪 范雲曾 表示 任意 搜查 學生 書包 禁穿 保暖 衣物 遲到 就記 警告 千奇百怪 充滿 威權 思想 校規 存在 校園 各縣市 各校 長期 校規 解讀 中央 解讀 校規 師長 明確 懲處 亂象 不斷 發生 嚴重 傷害 學生 權益 當時 指出 高中學生 隨意 搜查 書包 身體 記過 警告 變成 霸凌 黑心 校規 霸凌 體罰 一線 之隔 國中生 割頸案 學校 能否 搜查 學生 包包 再度 受到 關注 發布 一篇 助選 網友 紛紛 湧入 貼文 底下 留言 看看 爭取 學生 書包 書包 配套措施 當個 大立 委屈 學生 隱私權 彈簧刀 學校 一位 父親 真的 擔心 小孩 上課 安全 同理 校園 安全 破口 犯罪 行為 模仿   \n",
       "929                                                                                                                                                                                                                                                                                                                                                                                                                                                                                                                                                                                                                                                                                                                                                                                                            桃園 購物中心 扶梯 起火 瘋傳 網諷 迴轉 烤肉 東森 新聞 桃園市 中壢 區某 購物中心 日前 發生 扶梯 起火 情況 相關 畫面 書社 中壢人 流傳 引發 許多 網友 討論 有人 嘲諷 這是 一種 迴轉 烤肉 概念 網友 中壢人 PO 一段 秒鐘 影片 畫面 顯示 扶梯 出現 起火 狀況 扶梯 內部 機械 起火 狀態 似乎 持續 運作 網友 看到 之後 留言 表示 上面 肉片 烤熟 扶梯 太操 辛苦 一種 迴轉 烤肉 概念 秋冬 產品 百貨 新式 扶梯 暖爐 火勢 疑似 購物中心 人員 撲滅 消防 單位 接獲 報案 EBC 東森 新聞記者 致電 詢問 扶梯 達人 指出 扶梯 電盤 裝置 起火 地方 是電 扶梯 踏階 下方 導軌 區域 下面 電纜 影響 運行 中的電 扶梯 排除 電線走火 可能性 懷疑 高度 機率 不當 施工 引起 達人 說明 上面 一些 潤滑油 整個 著火 潤滑油 能夠 著火 部份 應該 溫度 設計 到位 保養 到位 機械 結構 出現 故障 嚴重 磨損 產生 高溫 引發 起火   \n",
       "945                                                                                                                                                                                                                                                                                                                                                                                                                                                                                                                                                                                                                                         國三生 慘死 全校 陰霾 校長 集會 90 鞠躬 學生 心碎 東森 新聞 新北 一名 國三男 學生 25 校內 同學 管制 利器 攻擊 傷重 不治 引發 社會 譁然 事件 發生 至今 校園 壟罩 一股 陰霾 校長 於今 29 集會 感謝 全體師生 共同 面對 這段 困難 時期 深深 鞠躬 以示 誠摯 歉意 校長 這一 舉動 學生 五味雜陳 表示 看到 校長 90 鞠躬 心碎 本月 25 一位 學生 前往 班級 學生 驅趕 學生 心生 乾哥哥 訴苦 乾哥哥 聽聞 回到 班級 學生 理論 爆發 衝突 竟持 管制 利器 學生 刺去 送醫 搶救 宣告 檢警 此案 列為 傷害罪 隨後 考慮 嫌行 嚴重 學生 坦承 教唆 行為 將兩人 移送 少年法庭 法庭 26 上午 裁定 乾哥哥 收容 學生 責付 監護人 距離 事件 發生 已過 事件 仍未見 平息 外界 學校 批評 劇烈 嚴重 干擾 校內 師生 正常 生活 許多 學生 表示 學生 不當 行為 間接 影響 整個 學校 根本 公平 可言 中時 新聞網 事件 帶來 影響 該校 校長 集會 時間 上台 全校師生 90 鞠躬 學生 十分 看到 校長 90 鞠躬 心碎 校長 加油 強調 校長 關心 學生 校長 該校 老師 不禁 質疑 法條 伸張正義 保護 加害者 表示 教學 使命 困惑 意義 這起 事件 重新 審視 兒少 再次 意識 教育 重要性 無限 上綱 政治 正確 解決 事情 辦法   \n",
       "947                                                                                                                                                                                                                                                                                                                                                                                                                                                                                                                                                                                                                                                                                                                                                                                                                                                                                              割頸案 乾妹 狂放 警憂 非法 正義 派員 守望 住家 東森 新聞 新北 國三生 割頸案 加害者 乾哥 少年法庭 裁定 收容 事發 至今 涉嫌 教唆 乾妹 遭爆 社群 平台 發表 輕佻 言論 網友 互槓 管區 員警 擔憂 乾妹 網友 搜索 造成 非法 正義 派員 她家 附近 守望 涉嫌 教唆犯 乾妹 案發 之後 起底 IG 連發 限時 動態 網友 根本 事實真相 教唆 殺人 乾哥 出氣 沒叫 殺人 爸斷 零用錢 中時 新聞網 乾妹 頻頻 網路上 網友 網友 揚言 轄區 警方 排班 派員 前往 她家 附近 守望 有民眾 前往 執行 非法 正義 少年 事件處理 83 條規 任何人 媒體 資訊 公示 方式 揭示 少年 保護 事件 少年 刑事案件 記事 照片 違反 前項 規定 主管機關 依法 予以 處分 提醒 民眾 氣憤 轉傳 私人 個資 觸法   \n",
       "948                                                                                                                                                                                                                                                                                                                                                                                                                                                                                                                                                                                                                                                                              國三生 慘死 校長 90 鞠躬 師生 紙鶴 追思 東森 新聞 新北市 高中 附設 中部 25 一名 學生 乾妹 出頭 竟用 另一名 國三生 頸部 胸部 刺去 導致 國三生 重傷 搶救 宣告 震驚 社會 事件 延燒 多天 了解 29 校長 集會 90 師生 鞠躬 感謝 全體師生 共同 度過難關 回顧 案發 當天 乾妹 午休 時間 事發 班級 閨蜜 國三生 喝斥 這又 班級 要求 立即 離開 乾妹 心有 不甘 乾哥 哭訴 乾哥 決定 乾妹 出頭 國三生 理論 雙方 一言不合 大打出手 乾哥 拿出 預藏 彈簧刀 連刺 對方 10 導致 國三生 血流如注 送醫 搶救 宣告 新北 地方法院 27 指出 新北 市政府 警察局 移送 新北市 國中生 遭割 死亡 已經 本院 少年法庭 分案 並依 少年 事件處理 規定 精神 調查 了解 該校 校長 29 集會 90 師生 鞠躬 感謝 全體師生 共同 度過難關 校方 設立 追思 小站 同學 寫進 卡片 紙鶴 放到 紙箱 之後 轉交 國三生 家屬 中時 新聞網 事件 帶來 影響 該校 校長 集會 時間 上台 全校師生 90 鞠躬 學生 十分 看到 校長 90 鞠躬 心碎 校長 加油 強調 校長 關心 學生 校長 文章 來源 國三生 校園 遭割 頸亡 校長 集會 90 鞠躬 師生 紙鶴 追思 CTWANT 授權 轉載   \n",
       "962                                                                                                                                                                                                                                                                                                                                                                                                                                                                                                                                                                                                                            落水 小時 找到 擅闖 池塘 釣魚 苗栗 父子 溺斃 東森 新聞 苗栗 卓蘭 一家 露營 農場 30 發生 遊客 落水 意外 一名 謝姓 父親 上午 兒子 魚池 釣魚 兒子 小心 落水 父親 見狀 下水 救人 上岸 直到 中午 家人 遍尋 不著 農場 調出 監視器 緊急 報警 消防隊員 下到 魚池 搜尋 先後 父子 救上來 已經 失去 呼吸 心跳 溺水 超過 小時 宣告 事發 30 上午 左右 謝姓 男子 妻子 帶著 兒子 親友 彰化 苗栗 卓蘭 一處 農場 露營 過夜 上午 謝姓 男子 帶著 兒子 農場 魚池 準備 釣魚 疑似 兒子 小心 水池 謝男 發現 跳下去 兒子 沒想到 魚池 深達 不幸 溺水 魚池 距離 住宿 地點 一段距離 山區 下方 凹處 導致 父子 落水 發現 直到 中午 左右 太太 不到 通知 農場 調出 監視器 發現 父子倆 出事 趕緊 報警 警消 獲報 到場 消防隊員 穿著 潛水 裝備 魚池 來回 搜尋 沒多久 發現 落水 父親 將他 上岸 兒子 則是 下午 46 左右 尋獲 兩人 救起 失去 生命 跡象 送醫 搶救 宣告 這座 魚池 範圍 120 水深 飼養 吳郭魚 水裡 飼料 水質 混濁 搜救 不易 父子倆 救起 已經 落水 超過 小時 送醫 回天乏術 ETtoday 新聞 業者 表示 釣魚 開放 時間 下午 30 分至 30 罹難 父子倆 開放 時間 擅闖 警方 周圍 封鎖線 詳細 事發 有待 進一步 調查 釐清   \n",
       "973                                                                                                                                                                                                                                                                                                                                                                                                                                                                                                                                                                                                                                                                                                                                      獨家 下來 道歉 腳踏車 婦遭 喇叭 氣炸 公車 東森 新聞 婦人 雙手 插腰 公車 肉身 擋車 37 司機 腳踏車 婦人 下來 抱歉 就讓 你過 左右 兩旁 車輛 呼嘯而過 婦人 大馬路 中間 堅持 聽到 一句 sorry 離開 還對 司機 不斷 碎碎念 雙方 僵持 10 分鐘 一度 引起 路人 側目 好奇 事情 需要 當街 理論 婦人 坐公車 乘客 當時 腳踏車 公車 旁邊 一聲 喇叭聲 氣得 理智 瞬間 全斷 記者 當時 公車 路上 準備 公車站 嚇到 同樣 外側 腳踏車 婦人 一聲 喇叭 提醒 沒想到 一聲 喇叭 成為 衝突 導火線 客運 業務部 經理 魏光 主要 腳踏車 後視鏡 大車 旁邊 嚇到 駕駛員 一聲 喇叭 警示 前面 車上 乘客 有人 報警 車子 無法 前進 聽到 你給 下車 道歉 地點 發生 台北 松山機場 附近 知名 老牌 牛排館 仔細觀察 這條 路車 婦人 失控 丟下 腳踏車 馬路 中央 攔車 完全 不顧 來車 想要 怒火 解決問題 腳踏車 婦人 下來 抱歉 就讓 你過 口氣 意氣用事 明顯 違規 觸犯 道交 條例 阻礙交通 將可處 500 元罰 莫名 耽誤 車上 10 乘客 來說 時間 浪費 真的 看不下去   \n",
       "975                                                                                                                                                                                                                                                                                                                                                                                                                                                                                                                                                                                                                                                                                                                                                                                                                                              國三生 遭割 頸亡 學生 聯絡簿 看法 壞人 永遠 保護 東森 新聞 新北市 一名 國三生 遭割 身亡 網友 激憤 教唆 乾妹 親友團 對此 一名 老師 分享 國三生 聯絡簿 寫下 割頸案 看法 小事 整件事 壞人 永遠 保護 網友 覺得 相關 社會 議題 孩子 還寫 感想 真的 老師 棒棒 臉書粉 專發 同樣 國三生 新北 國中生 彈簧刀 攻擊 同學 看法 同學們 紛紛 寫下 小事 父母 知道 學校 帶刀 覺得 幫別人 很帥 眼中 無腦 校方 拿刀 正常 學生 整件事 壞人 永遠 保護 學生 表示 事發 當時 老師 阻止 阻止 對此 網友 認為 有人 怪到 老師 身上 老師 教書 去當 保全 就問 老師 阻止 各班放防 噴霧 電擊 網友 乾妹 高中 變成 乾妹 乾哥 還在 老師 註解 覺得 相關 社會 議題 孩子 還寫 感想 真的 培養 議題 敏感度 更是 培養 獨立自主 見解 無解 無解 只能 盡人事 美國 槍擊案 一次 哀悼   \n",
       "982                                                                                                                                                                                                                                                                                                                                                                                                                                                                                                                                                                                                                                                                                                                                                   墾丁 大街 15 人亂鬥 賓士 駕駛 砸車 競逐 東森 新聞 連假 還沒過 31 凌晨 屏東 恆春 當地 民眾持 西瓜刀 觀光客 發生 重大 衝突 共計 15 街上 亂鬥 觀光客 開車 追逐 並撞斷 消防栓 造成 傷的 悲劇 參與 鬥毆 當地 年輕人 名是 未成年 目前 警方正 擴大 清查 涉案 相關 人士 釐清 事發 回顧 事發 來自 屏東 獅子 侯姓 少年 朋友 騎車 夜遊 回程 墾丁 大街 桃園 楊姓 觀光客 看不順眼 侯男 一時 氣憤 棍棒 西瓜刀 砸車 同行 友人 徐男 不爽 開著 賓士 少年 友人 追上 自撞 南灣 路段 附近 護欄 駕車 不慎 消防栓 導致 詹姓 副駕駛 頭部 重創 送醫 傷重 不治 消防栓 斷裂 水柱 噴了 層樓 一旁 賓士車 更是 整輛 撞毀 路邊 警方 獲報 到場 詹姓 副駕駛 已經 呼吸 心跳 少年 檔車 完全 撞爛 共計 通通 送醫 釀成 傷的 悲劇 街頭 亂鬥 演變成 飛車 意外 最後 釀成 死亡 警方 實施 酒測後還 發現 賓士 駕駛 酒測值 高達 0.49 毫克 少年 分則 無照駕駛 參與 鬥毆 當地 年輕人 四名 未成年 警方 目前 擴大 清查 涉案 相關 人士   \n",
       "986                                                                                                                                                                                                                                                                                                                                                                                                                                                                                                                                                                                                                                                                                                                           搶劫 咖啡廳 遭搶 RM 名錶 老闆 被噴 辣椒水 東森 新聞 名錶 桌上 老闆 送客 打開 上鎖 包廂 男子 卻是 往外 確認 之後 回頭 攻擊 老闆 搶走 桌上 名錶 還朝 老闆 噴灑 辣椒水 受害 店家 搶劫 老闆 摀住 角度看 男子 扭打 一團 附近 店家 聽到 呼救聲 趕緊 上前 幫忙 壓制 協助 壓制 店員 身材 人高馬大 看到 店裡 一片狼藉 東西 滿地 壓制 還在動 過去 幫忙 壓腳 受害 店家 一家 咖啡廳 老闆 平時 幫人 販售 名錶 通常 是採 網路 預約 之後 進到 咖啡廳 裡頭 包廂 疑似 嫌犯 盯上 當鋪 業者 年半前 左右 這支 最新 配色 正常 所有 款裡面 最貴 價位 鎖定 理查德 米爾 R030 全球 限量 名錶 價格 1200 以上 二手 1100 男子 先來 外場 同夥 分工 預約 看錶 負責 行搶 另一名 洪姓 共犯 開車 接應 看到 男子 成就 壓制 同夥 義氣 丟下 洪姓 共犯 vs 警方 看到 幹嘛 真的 證據 證據 警方 上門 逮人 共犯 辯稱 幫忙 租車 搶案 不知情 警方 採信 供詞 附近 店家 大白天 點的 左右 覺得 地方 發生 事情 嫌犯 強盜 罪送 老闆 來說 心情 難以 平復 不敢 寄賣 不敢   \n",
       "1008                                                                                                                                                                                                                                                                                                                                                                                                                                                                                                                                                                                                                                                                                                                                                                                私刑 打死 電纜 蝦農 義憤 傷害 致死 緩刑 免關 東森 新聞 兩年 屏東 九如鄉 發生 廖姓 男子 太太 電纜線 七名 蝦農 活活 打死 判決 涉案 七個 認罪 家屬 達成 協商 法官 義憤 傷害 致人 死罪 一年 兩年 不等 徒刑 宣告 緩刑 兩年 聽到 不用 被關 當時 幫忙 逮人 村長 一口氣 屏東縣 里港 鄉潮 村長 李明財 事情 回歸 正常 生活 事情 發生 感謝 法官 機會 正常 生活 工作 養家餬口 村長 無奈 小偷 剪斷 電纜 幾百幾千 害蝦 家破人亡 蝦農 聽到 判決 表示 警方 保護 農才 自力救濟 發生 憾事 泰國 蝦農 許先生 當事 蝦農 吸毒 抓進去 沒多久 繼續 繼續 下去 損失慘重 想要 參與 修理 一下 農說 竊賊 半夜 電纜線 小時 整池 死亡 損失 至少 數十萬 百萬 一群 人才 氣得 動用 私刑 屏東 動用 私刑 打死 小偷 第一 九如鄉 七名 蝦農 打死 電纜線 小偷 宣告 緩刑 高樹 六年 一名 蕉農 打死 偷蕉 最後 妨害自由 致人 死罪 判刑 三年 已經 入監 服刑 動用 私刑 捍衛 財產 卻是 兩樣   \n",
       "1013                                                                                                                                                                                                                                                                                                                                                                                                                                                                                                                                                                                 藍牙 電源 全關 飯店 音響 半夜 猛播 粵語歌 東森 新聞 有民眾 9000 多塊 女友 礁溪 一家 度假 飯店 度過 兩天 一夜 原本 以為 能夠 好好 補眠 放鬆 身心 沒想到 房間 藍芽 音響 突然 半夜 三點 猛播 粵語 歌曲 重點 當時 電視 藍牙 明明 關閉 狀態 聲音 從何而來 兩人越 恐怖 業者 事後 只用 嘉義 住宿 方式 補償 讓民眾 覺得 消極 純白 氣派 外觀 搭配 環繞 山景 這間 礁溪 度假 酒店 主打 露天 溫泉 智慧 設備 開幕 不到 一年 網路上 擁有 超高 討論 有民眾 原本 帶著 女友 入住 想給 滿滿 驚喜 最後 得到 一夜 驚嚇 民眾 周先生 當時 戴著 耳塞 一半 電視 下方 藍牙 音響 半夜 突然 單曲 循環 粵語 流行歌曲 電視 藍牙 沒開 聲音 從何而來 事件 PO 上網 多數 網友 認為 故事 毛毛 民眾 周先生 檢查 手機 智慧 家電 檢查 電視 遙控器 開關 方法 找不著 關不掉 連播 20 分鐘 粵語歌 直到 拔掉 插頭 停下 業者 表示 廠商 設定 問題 定時 播放 歌曲 音響 美國 品牌 根本 粵語歌 懷疑 連到 房間 音響 電子設備 異常 當事 飯店業 陳經理 緊急 全館 設備 檢測 針對 客人 部分 做出 相對 補償 業者 所謂 相對 補償 周先生 聽來 根本 敷衍 周先生 女友 會怕 業者 住宿費 辦法 折扣 要給 嘉義 住宿 午餐 9200 多元 一天 沒療 還只 留下 驚悚 回憶 周先生 認為 招待 頂級 套房 不想 體驗 直接 給予 折扣 比較 實際   \n",
       "1022                                                                                                                                                                                                                                                                                                                                                                                                                                                                                                                                                                                                                                                                                                                                                                                                                                                                                                 日本 強震 屏東 40 人特 搜隊 整裝待命 馳援 東森 新聞 日本 石川縣 今天 發生 地震 大規模 7.6 造成 房屋 倒塌 停電 屏東縣 消防局 出動 40 人特 隊伍 今晚 出發 南投 竹山 集結待命 接獲 外交部 通知 立即 啟程 前往 馳援 屏東縣 消防局 搜隊 整裝待命 屏東 縣長 周春米 晚間 抵達 消防局 表示 日本 石川縣 發生 地震 多棟 房屋 倒塌 停電 搜隊 整備 今天 晚上 出發 南投 竹山 集結 接到 外交部 通知 啟程 出發 日本 給予 專業 友好 救援 屏東縣 政府 消防局 指出 屏東縣 國際 救援隊 集結 包含 醫師 護理 師共 40 整備 裝備 器材 噸重 確保 應對 國際 災難 搜救 做好 全面 準備 救援 請求 隨時 準備 應對 日本 方面 支援 需求 快速 抵達 災區 執行 救援 任務   \n",
       "1028                                                                                                                                                                                                                                                                                                                                                                                                    聚焦 真相 陸客 就醫 觀光 不肖 業者 牟利 濫發 簽證 東森 新聞 人潮 擠滿 景點 過去 陸客 帶來 錢潮 走到 陸客團 帶來 驚人 效益 觀光 醫療 產業 台灣 醫美 蓬勃發展 女星 范冰冰 打過 雷射 大陸 每年 600 萬名 遊客 海外 就醫 鄰近 日本 韓國 新加坡 搶食 這塊 大餅 2012 台灣 開放 陸客 健檢醫美 本意 醫療 單位 增加收入 不肖 業者 以假 簽證 為名 漏洞 陸客行 觀光 之實 新聞 片段 調查 秀傳 醫院 涉嫌 掩護 陸籍 人士 非法 入境 來台 忠雄 遭北檢 200 萬元 交保 醫院 旅行社 串通 開立 醫療 單據 檢調 至少 查到 醫院 違法 遭到 起訴 何敢 大膽 鋌而走險 業者 點出 關鍵 新光 醫院 院長 洪子仁 從事 醫美健檢 產值 一班 旅遊 兩到 三倍 世界 爭取 居民 國內 就醫 陸客 團來 消費力 驚人 2010 大陸 遊客 已經 百萬 2015 創下 高峰 418 萬人次 帶來 2196 觀光 產值 這一 年來 醫美健檢 人數 最高 千多 之後 兩岸 政治 緊繃 新冠 疫情 開放 陸客 政府 今年 來台 觀光 人數 突破 600 萬人次 七月 170 萬人次 達成 目標 陸客 解方 台北市 旅行 商業 同業公會 理事長 駱炫宏 疫情 點跟 台灣 直航 直航 辦法 拿到 觀光 簽證 醫美 簽證 希望 陸客 快來 台灣 醫療 簽證 需要 檢附 財力 證明 代表 一定 程度 消費 能力 觀光業 普遍 歡迎 自由 特色 醫療 之外 時間 醫院 旅行社 無法 掌握 行蹤 不肖 業者 得以 漏洞 引渡 有心人 來台 從事 非法 行為 新光 醫院 院長 洪子仁 機構 簽證 許可 當時 做好 嚴個 把關 這也 機構 把關 避免 發生 全球 疫情 解封 兩岸 觀光 陷入僵局 陸客 人海戰術 帶來 龐大 觀光 收入 業者 殷殷 期盼 未來 開放 做好 把關 工作 簽證 四處 流竄 政府 首要 解決 任務 犯罪 行為 模仿   \n",
       "1031                                                                                                                                                                                                                                                                                                                                                                                                                                                                                                                                                                                                                                                                                    獨家 跨年 住戶 驚慌 逃出 餐廳 放煙火 保護區 東森 新聞 雜草 已經 起火燃燒 一旁 煙火 不斷 引爆 煙火 亂噴 助長 火勢 燃燒 整片 空地 一下子 陷入 火海 附近 住戶 真的 可怕 知道 嚴重 窗子 過去 圍牆 當時 濃煙 壟罩 社區 住宅 火勢 都燒 一大 快燒 進家裡 住戶 紛紛 逃難 明明 才剛 完年 差點 火燒 附近 住戶 老公 下來 外面 著火 沒多久 燒到 放煙火 風往 位置 起火 很大 事發 當天 沙鹿 區向 上路 七段 12 時一過 狂放 煙火 導致 旁邊 一塊 空地 全燒 火勢 一度 蔓延到 社區 住家 住戶 緊急 撤出 直呼 新年 逃命 放煙火 地點 距離 火警 100 公尺 指控 燒烤 餐廳 放煙火 引起 附近 住戶 怕燒 過來 一直 灌水 水管 灌到 爆掉 燒烤店 業者 12 點跨 四周圍 全部 乒乒乓乓 你講 放煙火 哪裡燒 知道 原本 長滿 雜草 樹林 空地 燒得 一片 焦黑 光禿禿 住戶 指控 煙火 引發 大火 已經 燒到 保護 用地 質疑 業者 違法 開發 燒烤店 業者 一點點 土地 來問 對此 台中市 發局 表示 餐廳 所屬 台中港 特定 區計畫 第二種 住宅區 另一邊 確實 保護區 用地 財損 火燒 原因 還要 調查 一次 火警 嚇壞 住戶 槓上 餐廳 業者 差點 新年 第一 連家   \n",
       "1041                                                                                                                                                                                                                                                                                                                                                                                                                                                                                                                                                                              大陸 空飄 氣球 越台 國軍 危害性 適切 應處 東森 新聞 國防部 今天 表示 昨天上午 27 分至 晚上 41 分間 偵獲 中共 空飄 氣球 逾越 台海 中線 穿越 台灣 本島 上空 將視 性質 高度 危害性 採取 適切 應處 手段 相關 措施 均納 規定 國防部 上午 發布共機 動態 統計 昨天上午 時至 今天上午 時止 偵獲 共機 架次 逾越 海峽 中線 延伸線 進入 北部 西南 空域 架次 共艦 艘次 持續 台海 周邊 活動 國軍 運用 任務 艦及 岸置 飛彈 系統 嚴密 監控 應處 中共 空飄 氣球 穿越 台灣 本島 國防部 再次 偵獲 中共 空飄 氣球 分別 昨天上午 27 下午 53 下午 52 分及 晚上 41 偵獲 探空 氣球 逾越 海峽 中線 國防部 進一步 說明 分別 位於 清泉崗 西南方 105 160 159 基隆 西北方 78 高度 2000 8000 2000 4000 續向 東北 飄行 並於 昨天上午 10 48 下午 18 晚上 01 分及 晚上 消失 空軍 公布 航跡 空飄 氣球 穿越 台灣 本島 上空 針對 中共 空飄 氣球 用途 國防部 發言人 立方 少將 接受 中央社 訪問 表示 國防部 密切 監偵 掌握 適切 應處 整其 飄行 路徑 態樣 判斷 研析 立方 強調 進入 台灣 空域 不明 空飄 國軍 運用 聯合 情監 手段 綿密 掌握 通報 民航 單位 確保 飛航 安全 目標 性質 高度 危害性 採取 適切 相對性 應處 手段 具體措施 納入 國軍 戰備 時期 突發狀況 處置 規定 律定   \n",
       "1050                                                                                                                                                                                                                                                                                                                                                                                                                                                                                                                                                                                                                                                                                                     39 刀棄屍 路邊 王欣儀 面目全非 冷血 殺手 下場 東森 新聞 國三生 死亡 廢死 議題 成為 近日 社會 熱議 話題 國民黨 台北市 議員 王欣儀 臉書 發文 談及 親姊姊 19 追求者 殘忍 殺害 棄屍 路邊 手段 相當 殘忍 這名 追求者 下場 曝光 王欣儀 臉書中 提到 姊姊 王婉儀 人們 目光 焦點 外貌 出眾 校園 裡的 校花 多才多藝 未來 大放異彩 沒想到 19 那年 遭到 愛慕者 殘忍 殺害 那名 男同學 追愛 連刺 39 刀刀 直擊 要害 奪走 一名 少女 生命 當時 白髮人 不送 黑髮人 習俗 只能 當時 17 王欣儀 隨著頌經 牽魂 法師 台南 殯儀館 認屍 只見 冰櫃 裡躺 姊姊 早已 面目全非 王欣儀 回憶 過去 仍難 悲痛 心如刀割 1987 王婉儀 就讀 高雄海專 同校 同學 志中 竟將 租屋 冷血 殺害 棄屍 路邊 當時 轟動 社會 這名 殺人 迅速 逮捕 1989 12 21 被判 死刑 不到 周便 執行 完畢 事實上 戴立 忍過去 春華 LifeShow 節目 透露 初戀女友 正是 台北市 議員 王欣儀 姊姊 當時 軍中 當兵 電視 看到 女友 追求者 39 刀棄屍 新聞 情緒 崩潰 當時 軍方 做出 傻事 還將 暫時 關入 坑道 裡的 小房間 十年 時間   \n",
       "1058                                                                                                                                                                                                                                                                                                                                                                                                                                                                                                                                                                                                                                                                                                                    彰化 自來水 爆管 路面 瞬間 爆炸 驚悚 畫面 東森 新聞 上午 彰化縣 員林市 莒光 路上 突然 發生 自來水管 爆裂 意外 爆管 威力 相當 柏油路 炸開 噴水 不斷 毀損 範圍 長達 10 公尺 驚悚 畫面 隨之 曝光 上午 47 彰化 員林 莒光 路上 發生 自來水管 爆管 意外 爆管 威力 之大 柏油路 面都 炸開 現場 不斷 噴水 自來水 公司 表示 當時 正在 進行 鳥嘴 人工湖 新設 管線 工程 水管 裝好 加壓 測試 曉得 水管 突然 爆開 還好 造成 人員傷亡 正在 搶修 事發 路段 當時 車流 一瞬間 路面 突然 爆炸 煙塵 四起 整個 柏油路 隆起 湧出 噴泉 不斷 路旁 溢流 目擊 民眾 驚呼 可怕 地震 有搖 一下 員林市 代表 林育生 透露 當時 車子 像是 日本 地震 那種 感覺 有民眾 心有餘悸 自來水 公司 透露 當時 正在 鳥嘴 人工湖 新設 管線 工程 測試 水管 壓力 突然 發生 爆管 造成 溢流 之前 施工單位 試水 過程 產生 狀況 導致 柏油路 裂開 水勢 突然 一發 不可收拾 爆管 壓力 強大 整條 道路 炸毀 所幸 當時 無人 傷亡 自來水 公司 施工單位 正在 善後 搶修 這裡 屬於 新設 管線 影響 民生 供水   \n",
       "1069                                                                                                                                                                                                                                                                                                                                                                                                                                                                                                                                                                                                                                                                                                                                    國道 飆速 402 公里 連換 車道 警方 回應 東森 新聞 近日 一段 影片 網路 瘋傳 內容 一名 女子 國道 進行 極速 飆車 達到 402 公里 時速 這名 女子 影片 分享 網路上 表示 連假 國道 半夜 紅斑 引起 網友 熱議 PO 書社 爆料 公社 公開 發文 分享 一段 飆車 影片 寫道 連假 國道 半夜 紅斑 這輛 改裝 時速 時速 270 公里 迅速 飆升 20 狂飆 402 公里 駕駛 這段 時間 變換 車道 貼文 曝光 許多 網友 紛紛 撻伐 強烈 譴責 駕駛 行為 無奈 不滾 封閉 道路 擔心 撞死 只怕 撞死 牽連 危害 人間 大牌 監理 站住 半年 知道 國道 時速 100 多麼 愜意 眼尖 網友 發現 這名 女網友 分享 影片 片段 YouTube 頻道 阿北 機器 世界 2023 月底 上傳 影片 知道 R35 發生 TOPSPEED402km 1000hp 以上 馬力 R35GT 東西 下篇 相同 對此 第六 公路 警察 大隊 發表聲明 指出 影片 疑似 難以 確認 真實性 無法 女網友 進行 罰款 警方 呼籲 大眾 遵守 速限並 保持 安全 距離 確保 道路 安全 所有 駕駛 平安 回家 最為 重要   \n",
       "1091                                                                                                                                                                                                                                                                                                                                                                                                                                                                                                                                                                                                                                                                                                                                                                                                                                                             國三生 命案 乾妹 涉案 情節 警擬 再聲 拘票 東森 新聞 警方 排除 補全 事證 再次 聲請 拘票 正是 乾妹 整天 在外 社群 平台 懷疑 涉案 情節 更高 乾哥 少年 觀護 收容 過去 對外 打著 天道盟 華山 份子 名號 囂張 行事 出人命 傳出 黑幫 緊急 切割 江湖 下達 封殺令 無限期 禁止 幫派 收納 乾哥 成員 知情 人士 宮廟 年輕人 宮廟 角頭 事情 幫派 名號 事情 根本 不算 損害 幫派 名義 國三生 案鬧 沸沸揚揚 網紅小 商人 出手 丟臉 丟到 國外 美國 紐約時報 廣場 第七 大道 LED 看板 洛杉磯 高速公路 廣告牌 透露 已經 YouTube 平台 廣告 律師 李育 影音 平台 提供 服務 平台 事前 審查 影片 廣告 法律依據 實際上 辦法 嚴格 審查 辦法 要求 影音 平台 負較 責任 網紅 涉嫌 違反 資法 本刑 以下 徒刑 是否 能夠 法辦 台灣 海外   \n",
       "1101                                                                                                                                                                                                                                                                                                                                                                                                                                                                                                                                                                                                                                                                                                                                                                                    獨家 天暗 特斯拉 停車 轉彎 防撞 爆胎 東森 新聞 開進 停車場 全車 先嚇 蝦米 看到 這下 特斯拉 還動 一看 原因 輪胎 大洞 消風 兇手 車道 防撞 已經 咪咪 冒冒 特斯拉 車主 車子 比較 大台 關係 視角 看不到 防撞 陰雨 視線 不良 完全 看到 柱子 地上 貓眼石 反光 貓眼石 看到 邊角 一點 銳利 輪胎 一刮到 薄片 下來 晚上 點多 車主 開著 剛交車 特斯拉 ModelX 朋友 聚餐 停進 新北市 汐止 區公所 停車場 這裡 車道 210 公分 ModelX 寬約 200 公分 車主 轉彎 注意 碰撞 車道 防撞 輪胎 換新 特斯拉 車主 換車 有點 覺得 車子 考慮一下 比較 車寬 真的 不夠 區公所 附設 停車場 過去 地磚 輪胎 進行 人車 分流 裝設 防撞 但裝 防撞 之後 輪胎 碰撞 留下 痕跡 看看 痕跡 知道 經驗值 不小 拖吊 業者 透露 地點 原因 爆胎 救援 30 公所 緊急 修復 加裝 塑膠 材質 修飾 圓角 裡面 加泡 達到 一定 防護 作用 有人 呼籲 停車 注意 輪胎 破洞 荷包 漏洞   \n",
       "1108                                                                                                                                                                                                                                                                                                                                                                                                                                                                                                                                                                                                                                                                                                                商人 乾哥 廣告 第二 揭一 主因 枉死 東森 新聞網 紅小 商人 美國 紐約時報 廣場 刊登 廣告 揭露 乾哥 乾妹 真實 身分 抗議 兒少 隨後 臉書 發文 表示 乾哥 乾妹 早有 開山 鬥毆 紀錄 揭露 個資 受到 保護 希望 能夠 推動 修法 修正 相關 限制 希望 這位 同學 最後 犧牲者 商人 臉書 表示 廣告 已有 第二 版本 紐約 廣告商 審查 確實 嚴格 成功 登上 白天 看過 可惜 聲音 這次 改良 版本 上面 多一些 資訊 網友 覺得 問題 送審 商人 說明 他掛 廣告宣傳 意義 簡單 兩隻 猴子 之前 已經 開山 鬥毆 還霸凌 女同學 新聞 揭露 個資 受到 保護 商人 指出 今天 這位 風紀 股長 知道 對方 危險 也許 就會用 方式 處理 希望 能夠 推動 修法 條款 名稱 死者 名字 命名 紀念 希望 這位 同學 最後 犧牲者 商人 補充 法律 不該 過度 保護 加害人 之前 有過 太多 案例 加害人 個資 保護 造成 許多 無法彌補 遺憾 網友 商人 臉書 留言 表示 保護 垃圾 這位 同學 犧牲 猴子 反省 支持 商人 終於 有人 伸出手 猴子 伸出 公義 暴力 傷害 前科 理所當然 公開 告知 大眾 無辜 社會 大眾 迴避 侵害 風險 權利   \n",
       "1130  黑色 煉獄 噁心 重油 汙染 半個 台灣 凶手 不到 東森 新聞 東縣 綠島 柚子 海岸 去年 12 大量 重油 污染 原本 澄澈 海岸 瞬間 變成 黑色 煉獄 洋流 影響 飄向 東北角 半個 台灣 海岸 慘遭 汙染 導致 養殖業 損失 千萬元 業者 指控 環保局 林務局 踢皮球 恐讓 再度 季風 洋流 四處 飄散 成為 海洋 惡夢 2023 12 26 上午 CTWANT 記者 抵達 東北角 海岸 貢寮 香蘭 過去 絕美 海景 被評 東北角 秘境 侵襲 面目全非 海邊 石頭 沾滿 重油 砂礫 出現 大面積 凝固 油漬 包裹 黑油 漂流 岸邊 昔日 海天一色 黑色 煉獄 了解 東北角 來源於 綠島 不明 船隻 去年底 綠島 附近 公海 偷排 廢棄 重油 柚子 海岸 受到 嚴重 污染 恐怖 洋流 一路 漂向 東北角 台東 花蓮 宜蘭 基隆 屏東 陸續 發現 油污 300 多公里 貢寮 地區 慘遭 波及 貢寮 香蘭 地區 民眾 從事 養殖業 維生 突如其來 猶如 晴天霹靂 重創 當地 養殖業 業者 私下 粗估 損失 兩成 至少 千萬元 地方 政府 態度 民眾 無比 心寒 當地 潛水 團隊 2023 12 21 發文 指控 民眾 新北市 環保局 請求 幫助 希望 協助 處理 養殖業 污染 地區 環保局 態度 消極 表示 該處 私人 土地 養殖戶 同意 進入 不便 干涉 汙染 區域 私人 土地 當地 民眾 從頭到尾 環保局 聯繫 質疑 環保局 甩鍋 卸責 面對 民眾 怒火 隆隆 潛水 團體 透過 社群 網站 不斷 發聲 環保局 終於 找來 委外 廠商 處理 當地 海岸邊 出現 許多 沾滿 黑油 漂流 民眾 自行 清理 林務局 阻止 林務局 禮拜 漂流 木是 國家 財產 處理 養殖業 吳小姐 無奈 表示 附近 居民 擔心 漂流 木上 油污 造成 二度 污染 希望 將其 移走 受到 林務局 提醒 肆意 移除 業者 只能 成天 提心吊膽 稍微 漲潮 擔心 剩餘 油污 是否 再度 破壞 生態 對此 環保局 澄清 表示 2023 12 10 接獲 通報 香蘭 海蝕 平台 地區 受到 油污 污染 派員 前往 應變 當時 人員 清理 養殖場 附近 海蝕 平台 遇到 一名 男性 事後 查證 應是 地主 哥哥 應變 同仁 前往 關心 詢問 是否 需要 協助 對方 則先 表示 目前 需要 想先 自行 清理 提供 清理 物資 吸油 棉片 應變 同仁 提供 吸油 棉片給 對方 直到 2023 12 26 環保局 輾轉 接獲 養殖場 透過 渠道 反映 需要 協助 隨即 前往 幫忙 總計 清出 320 公斤 資材 廢棄物 已於 派遣 應變 人員 清理 完畢 林務局 解釋 當時 民眾 疑似 遇到 林務局 人員 提醒 漂流 處理 問題 林務局 調查 2023 12 29 接獲 通報 派員 前往 探查 目前 已經 協助 聯絡 相關 局處 安排 處置 請民眾 擔心   \n",
       "1143                                                                                                                                                                                                                                                                                                                                                                                                                                                                                                                                                                                                                                                                                                                特斯拉 公審 屎樣 車主 不爽 歡迎 砸車 東森 新聞 車主 停車 技術 成熟 常會 懷疑 駕照 雞腿 換的 網友 近日 特斯拉 車友 書社 發文 公審 一輛 白色 特斯拉 停車 越線 台車給 跨越 停車 實在 看不下去 怒批 狗屎 樣子 沒想到 貼文 留言 區卻 釣出 當事 車主 留言 回擊 網友 圍觀 好戲 PO 近日 書社 TESLATaiwanModel3 特斯拉 台灣 車主 發文 貼出 新北市 GlobalMall 環球 購物中心 停車場 拍攝 照片 直指 畫面 白色 特斯拉 狗屎 樣子 只見 白車 車身 左側 明顯 超出 停車 格位 緊貼 左側 紅色 特斯拉 導致 紅車 乘客 難以 上下車 目擊者 憤慨 拍照 PO 公審 貼文 曝光 引發 網友 熱議 關口 喝醉 可憐 考得過 駕照 腦子 不好 感覺 撒嬌 過去 白車 下車 高級 高級 天氣 冷靠 一點 網友 表示 應該 原先 有車 空間 留給 需要 還原 案發現場 之前 右邊 那台 沒想到 貼文 釣出 白色 特斯拉 車主 留言 回應 你好 白車 車主 照片 空位 一台 越線 停著 狗屎 樣子 的車 只好 旁邊 不爽 歡迎 砸車 網友 驚呼 金派 了不起 負責 超派 這是 一起 狗屎 概念 CTWANT 授權 轉載   \n",
       "1149                                                                                                                                                                                                                                                                                                                                                                                                                                                                                                                                                                             蘋果 耳機 不見 定位 員工 宿舍 業者 稱別 報警 東森 新聞 有民眾 年時 入住 屏東縣 車城 一間 飯店 指稱 放在 房間內 蘋果 耳機 不見 回家 想起 耳機 定位 功能 飯店 反應 員工 宿舍區 業者 要求 報警 處理 耗到 耳機 沒電 定位 消失 報警 飯店業 反駁 協尋 發現 阻止 客人 報警 雙方 各說各話 蘋果 耳機 不見 透過 程式 發出 聲響 加速 發現 消失 耳機 有民眾 匿名 po 網說 去年 12 30 入住 車城 一間 飯店 跨年 隔天 蘋果 AirpodsPro 不見 飯店 反映 飯店 竟要 他別 報警 聲張 業者 否認 阻止 民眾 報警 而民眾 回家 想起 定位 功能 打開 一看 發現 耳機 定位 飯店 垃圾場 但民眾 搜尋 顯示 旁邊 飯店 宿舍 事發 至今 一周 耳機 沒電 已經 無法 追蹤 民眾 Po 網友 應該 過去 應該 報警 處理 面對 指控 業者 有話要說 當事 飯店 執行長 蔡承憲 客人 截圖 定位 位置 派員 一同 尋找 要求 客人 報警 飯店業 當天 現在 房間內 抽屜 床底 沙發 掀起 發現 耳機 大批 員工 當事人 定位 位置 好久 發現 耳機 報警 當事人 辦法 當事 飯店 執行長 蔡承憲 耳機 真的 很小 還在 尋找 消失 原因 丟的 耳機 所有權 民眾 飯店 接洽 朋友 旁邊 錄影 憑證 民眾 回來 報警 沒電 尋找 街訪民眾 認為 耳機 不見 當事人 應該 打開 手機 程式 尋找 已經 離開 飯店 打開 定位 功能 早就 以晚 飯店 客人 耳機 兩方 說法不一 羅生門   \n",
       "1160                                                                                                                                                                                                                                                                                                                                                                                                                                                                                                                                                                                                                                                                                                                                                                                                                                                                                                                                                                             誇張 五月天 演唱會 車頂 搖擺 東森 新聞 有民眾 網路上 爆料 洲際 棒球場 一名 婦人 一邊 享受 五月天 演唱會 一邊 轎車 車頂 婦人 忘我 完全 不顧 眼光 一幕 前方 駕駛 影片 曝光 引發 網友 熱議 女子 沉浸 音樂 節拍 不停 擺動 身子 忘我 有沒有 搞錯 位置 地板 轎車 車頂 誇張 情形 發生 洲際 棒球場 當時 樂團 五月天 正在 棒球場 舉辦 演唱會 這名 婦人 外頭 停車場 轎車 車頂 興奮 一幕 前方 轎車 駕駛 下來 PO 文的民眾 寫下 這位 阿姨 已經 兩台 汽車 車頂 車內 還會 聽到 聲響 影片 曝光 引來 網友 撻伐 表示 真的 誇張   \n",
       "1165                                                                                                                                                                                                                                                                                                                                                                                                                                                                                                                                                                                                                                                                                                                                                駁二網 景點 毀了 大媽 椅子 樂譜 木頭 應聲 東森 新聞 高雄駁 藝術 特區 一座 裝置 藝術 一千多 木頭 椅所 組成 椅子 樂譜 熱門 拍照 景點 日前 有民眾 目擊 一位 婦人 拍照 不顧 禁止 攀爬 告示 站上 木椅 斷裂 駁二 管理 單位 準備 報警 求償 一名 網友 爆料 公社 二社 PO 影片 照片 大媽 素質 明明 右邊 告示牌 禁止 攀爬 一位 婦人 拍照 椅子 樂譜 後椅 斷裂 兩個 婦人 尷尬 椅子 屍體 知道 網友 看到 影片 表示 世界 最不缺 好好 藝術品 一定 破壞 還自以 美照 習慣 大媽 摔下來 還會 要求 賠償 大媽 拍照 總是 喜歡 碰到 覺得 到此一遊 感覺 比方說 一定 要將 上面 樹枝 往下拉 藝術 裝置 弄壞 修好 簡單 規矩 椅子 樂譜 2017 完工 設計師 選用 至少 1137 張汰 客椅 設計 現場 禁止 攀爬 乘坐 告示 過去 椅子 樂譜 破壞 還曾 封閉 檢修 這次 文化局 不忍 直接 報警 婦人 求償 駁二 管理 單位 指出 影片 中民眾 不當 攀爬 攀登 行為 造成 裝置 藝術 受損 尋求 警方 協助 針對 作品 破壞 破壞 民眾 求償 維修 費用   \n",
       "\n",
       "     artCatagory pred  \n",
       "719           社會   全球  \n",
       "727           社會   全球  \n",
       "735           社會   全球  \n",
       "740           社會   全球  \n",
       "742           社會   財經  \n",
       "745           社會   全球  \n",
       "765           社會   全球  \n",
       "788           社會   財經  \n",
       "796           社會   全球  \n",
       "805           社會   全球  \n",
       "813           社會   全球  \n",
       "821           社會   全球  \n",
       "824           社會   全球  \n",
       "826           社會   全球  \n",
       "862           社會   要聞  \n",
       "866           社會   全球  \n",
       "884           社會   全球  \n",
       "889           社會   全球  \n",
       "890           社會   全球  \n",
       "893           社會   全球  \n",
       "904           社會   全球  \n",
       "918           社會   全球  \n",
       "920           社會   全球  \n",
       "927           社會   全球  \n",
       "929           社會   全球  \n",
       "945           社會   全球  \n",
       "947           社會   全球  \n",
       "948           社會   全球  \n",
       "962           社會   全球  \n",
       "973           社會   全球  \n",
       "975           社會   財經  \n",
       "982           社會   全球  \n",
       "986           社會   全球  \n",
       "1008          社會   全球  \n",
       "1013          社會   財經  \n",
       "1022          社會   全球  \n",
       "1028          社會   全球  \n",
       "1031          社會   全球  \n",
       "1041          社會   要聞  \n",
       "1050          社會   要聞  \n",
       "1058          社會   全球  \n",
       "1069          社會   全球  \n",
       "1091          社會   全球  \n",
       "1101          社會   財經  \n",
       "1108          社會   全球  \n",
       "1130          社會   全球  \n",
       "1143          社會   全球  \n",
       "1149          社會   全球  \n",
       "1160          社會   全球  \n",
       "1165          社會   全球  "
      ],
      "text/html": [
       "<div>\n",
       "<style scoped>\n",
       "    .dataframe tbody tr th:only-of-type {\n",
       "        vertical-align: middle;\n",
       "    }\n",
       "\n",
       "    .dataframe tbody tr th {\n",
       "        vertical-align: top;\n",
       "    }\n",
       "\n",
       "    .dataframe thead th {\n",
       "        text-align: right;\n",
       "    }\n",
       "</style>\n",
       "<table border=\"1\" class=\"dataframe\">\n",
       "  <thead>\n",
       "    <tr style=\"text-align: right;\">\n",
       "      <th></th>\n",
       "      <th>words</th>\n",
       "      <th>artCatagory</th>\n",
       "      <th>pred</th>\n",
       "    </tr>\n",
       "  </thead>\n",
       "  <tbody>\n",
       "    <tr>\n",
       "      <th>719</th>\n",
       "      <td>金價 狂飆 他海削 逮竊遍 北宜 黃金 大盜 東森 新聞 年僅 20 男子 一身 黑衣 裝扮 戴著 口罩 來到 銀樓 貌似 店家 交談 還伸 伸懶腰 拉拉 隨後 離開 店家 大搖大擺 故作 鎮定 事實上 手裡 早已 一條 23 金項鍊 犯案 計畫 還沒 結束 幾天 新北到 宜蘭 女朋友 繼續 鎖定 銀樓 偷來 金項鍊 價值 23 賣出 14 變現 離開 再度 回家 店家 買回 原本 金項鍊 一條 更重 店家 接待 客人 直接 搶走 桌上 金項鍊 拔腿 逃離 附近 銀樓 店家 印象 深刻 附近 店家 擔心 款式 怪怪的 附近 銀樓 業者 說前 嫌犯 帶著 女朋友 來到 店裡 身上 三兩重 黃金 項鍊 二兩 業者 直覺 異狀 現在 金價 一錢 黃金 就要 7800 所幸 最後 拒絕 交易 年僅 20 薛姓 嫌犯 新北地 檢署 所發 詐欺 通緝犯 新北中 警方 聯手 宜蘭 刑大 警方 組成 專案小組 展開 追查 15 傍晚 新北中 廣福路 住家 附近 銀樓 著裝熟 23 金項鍊 21 下午 宜蘭 羅東 中山路 金項鍊 價值 37 警方 埋伏 新北 老家 附近 23 凌晨 逮人 受害 銀樓 共犯 結構 同步 擴大 追查</td>\n",
       "      <td>社會</td>\n",
       "      <td>全球</td>\n",
       "    </tr>\n",
       "    <tr>\n",
       "      <th>727</th>\n",
       "      <td>聚焦 真相 天坑 頻傳 工安 警訊 開挖 工程 危機 東森 新聞 國內 接二連三 發生 天坑 事件 建案 不久前 捷運 吊臂 斷裂 建築工地 導致 工安 意外 現在 全國 各地 許多 大型 建案 正在 施工 工安 事件 帶給 警訊 曾幾何時 好好 開車 陷落 人行道 消失 地表 一起 一起 危及 生命安全 意外 工地 所有 人口 密集區 地底下 地下水 當人 粗心 變成 禍害 新北市 土木 協會 理事長 余烈 最怕 變位 側向 位移 位移 公尺 地層 下陷 公尺 道路 房子 下陷 三重 工地 主任 師傅 待會 班長 指揮 這是 三重 一處 大型 建案 地下 地上 14 標準 開挖 工程 工地 基礎 地底下 型鋼 層層 交疊 支撐 連續 避免 開挖 造成 土方 地下水 位移 標準 SOP 做好 鄰損 地表 沉陷 帶來 難以想像 災難 內政部 建築 研究所 審查 委員 張盈智 雙北市 以前 台北 台北盆地 地質 不好 針對 地質 不好 情況 開挖 容易 造成 土壁 很大 變形 造成 鄰房 影響 五月 艷陽天 台北市 信義 區的 首善 突然 出現 15 公尺 公尺 大洞 家園 毀了 房屋 陷落 天降 災禍 說來 受災 居民 突然 五分鐘 越來越 摩托車 腳踏車 餐車 跌進去 受災 居民 一下子 一直 下去 建管 調查 建案 連續 壁體 滲水 造成 地下水 湧入 引發 坍陷 專家 眼中 一起 事件 明明 避免 的並 新北市 土木 協會 理事長 余烈 施工 計畫 防災 計畫 這兩 大計 畫是 施工 期間 安全 把關 重要 計畫 兩個 計劃 以後 委外 審查 第一個 要夠 專業 公正 第三 單位 余烈 所說 施工 防災 計畫 地質 調查 提出 施工 計畫 進行 鄰房 鑑定 施工 開挖 這項 法規 少數 地方 政府 確實 執行 各縣市 危機意識 不足 往往 得過且過 導致 天坑 地表 塌陷 事件 層出不窮 內政部 建築 研究所 審查 委員 張盈智 針對 一種 鄰居 道路 調查 道路 底下 原來 路基 穩不穩 也許 底下 一些 空洞 人去 調查 並不知道 建築 建案 施工 鄰房 鑑定 居民 為主 包含 交通要道 道路 軌道 捷運 鑑定 範圍 之外 當前 主要 交通 建設 建案 大興土木 疏於 監督 生命財產 損失 天降 橫禍 威脅 停止</td>\n",
       "      <td>社會</td>\n",
       "      <td>全球</td>\n",
       "    </tr>\n",
       "    <tr>\n",
       "      <th>735</th>\n",
       "      <td>海虎 潛艦 官兵 落海 失聯 家屬 淚崩 孩子 東森 新聞 海軍 艦隊 指揮部 海虎 潛艦 執勤 期間 發生 官兵 落海 事件 獲救 下落不明 搜救 進入 張姓 士官 家屬 表達 深切 哀傷 之情 士官 妻子 哭訴 兒子 不斷 哭泣 擔心 父親 受涼 回憶起 丈夫 承諾 會活 好好 丈夫 食言 盡快 回家 海軍 艦隊 指揮部 所轄 256 戰隊 海虎 軍艦 21 執勤 任務 未料 湧浪過 造成 官兵 落水 部分 獲救 下落不明 海軍 海巡 單位 積極 進行 搜救 時間 進入 尋獲 海軍 艦隊 指揮部 政戰 主任 林傳盛 少將 表示 海巡 巡護 號於 23 凌晨 12 15 小琉球 南方 海域 發現 一件 紅色 充氣 救生衣 救難 浮標 初步 判定 為海虎 潛艦 裝備 附近 發現 落海 官兵 士官 家屬 陷入 焦急 張妻 透露 兒子 一直 哭泣 擔心 父親 受寒 不斷 喊話 害怕 張妻 回憶起 丈夫 承諾 許多 計畫 包括 過年 櫻花 修船 沖繩 自由 萬聖節 六福村 遊玩 未來 20 退伍 夫妻 共同 計畫 哭喊 我會 捨不得你 你會活 好好 現在 開玩笑 張妻 句句 懇切 丈夫 食言 回家 透過 社群 媒體 表達 丈夫 思念 許多 網友 見狀 十分 心痛 紛紛 留言 安慰 期盼 搜救 團隊 早日 找到 失蹤 官兵 海軍 指部 表示 搜救 行動 進行 放棄 尋找 可能性 文章 來源 海虎 潛艦 官兵 落海 搜救 失聯 家屬 淚崩 孩子 害怕 CTWANT 授權 轉載</td>\n",
       "      <td>社會</td>\n",
       "      <td>全球</td>\n",
       "    </tr>\n",
       "    <tr>\n",
       "      <th>740</th>\n",
       "      <td>公公 偷翻 媳婦 貼身衣物 愛才 嚇到 全身 東森 新聞 遇到 狀況 怎辦 近日 一位 人妻 表示 發現 公公 內褲 令人 衝擊 畫面 看到 全身 發抖 這事 第一次 發生 公公 愛家 PO 論壇 Dcard 發文 出門 臨時 想到 東西 中途 回家 一趟 發現 房門 打開 走進 看見 公公 內褲 我掛 房間內 PO 解釋 內褲 房間 公公 第一次 偷翻 平常 上班 鎖門 防不勝防 今天 忘記 看到 令人 衝擊 畫面 全身 發抖 知道 知道 娘家 公稱 娘家 只會 做人 PO 指出 乾脆 夫妻 搬出去 老公 公公 愛家 人才 下次 PO 指出 第一次 發生 不敢 對方 保證 現在 講話 覺得很有 壓力 半夜 廁所 房門 壓力 PO 補充 公公 房門 偷聽 PO 坦言 知道 下去 精神 方面 生病 老公 做錯 事情 辦法 解決問題 失望 知道 該不該 娘家 爸媽 此文 曝光 網友 紛紛 留言 公公 行為 已經 產生 意淫 做出 實際 行為 心理壓力 公公 老公 沒用 上樑不正下樑歪 勸離 可怕 行為 搬出去 回娘家 直接 開來 家人 已經 道德 問題 CTWANT 授權 轉載</td>\n",
       "      <td>社會</td>\n",
       "      <td>全球</td>\n",
       "    </tr>\n",
       "    <tr>\n",
       "      <th>742</th>\n",
       "      <td>公安 申報 新北 稽查 密室 逃脫 全數 合格 東森 新聞 新北 市政府 這次 稽查 密室 逃脫 業者 發現 通通 合格 像位 景平路 一間 一條 路上 一間 同樣 違規 連城 路上 一家 業者 違規 大部分 隱身 住宅區 規定 進行 建築物 公共安全 申報 密閉 空間 嘗試 解開 謎團 劇情 氣氛 搭配 聲光效果 場面 緊張 刺激 揪團 密室 逃脫 成為 現在 年輕人 喜愛 休閒 娛樂 活動 進行 期間 存在 安全 風險 民眾 特別 注意安全 這塊 一條 注意 有沒有 狹小 民眾 安全 斟酌 相對 遊戲 地方 比較 簡陋 避開 民眾 有沒有 安全 注意 退費 機制 知道 好像 時間 比較 好像 遲到 權益 一定 受損 稽查 合格 店家 包括 永和 四家 密室 逃脫 業者 兩家 位於 板橋 全部 完成 建築物 公共安全 申報 四家 完整 註明 退費 標準 兩家 場地 安全 標示 新北市 法制局 消保官 洪伯緯 針對 遊戲 情節 需要 設置 特殊 機關 階梯 樓梯 情況 確保 消費者 遊戲 進行 安全 本次 查核 輔導 業者 加強 相關 安全 標示 消保官 指出 公安 申報 合格 建築 規定 最高 可處 30 萬元 提醒 民眾 報名 之前 應該 確認 狀況 是否 適合 參加 更要 了解 業者 退費 規定 避免 後續 消費 爭議 不良 行為 模仿</td>\n",
       "      <td>社會</td>\n",
       "      <td>財經</td>\n",
       "    </tr>\n",
       "    <tr>\n",
       "      <th>745</th>\n",
       "      <td>海虎艦 落海 搜救 已過 72 小時 海軍 延長 72 小時 東森 新聞 海虎 潛艦 意外 落海 失聯 三名 弟兄 目前 已經 搜尋 超過 72 小時 黃金時間 進展 海軍 指部 表示 放棄 機會 持續 整合 友軍 陸岸 兵力 擴大 搜尋 區域 整體 搜救 行動 延長 72 小時</td>\n",
       "      <td>社會</td>\n",
       "      <td>全球</td>\n",
       "    </tr>\n",
       "    <tr>\n",
       "      <th>765</th>\n",
       "      <td>聚焦 真相 獨家 專訪 運安會 調查 中捷 危機 處理 瑕疵 東森 新聞 捷運 一死 10 慘劇 建商要 負起 責任 中捷 疏失 引發 各界 撻伐 交通部 運安會 接受 東森 新聞 獨家 專訪 特別 針對 危機 處理 SOP 進行 調查 學者 直指 國內 軌道 ATP 系統 已經 老舊 應該 一次 痛定思痛 徹底 改善 安全 偵測 系統 先是 吊臂 從天而降 一聲 巨響 40 公尺 重達 三噸 吊臂 橫躺 捷運 軌道 上方 明知 障礙物 非同小可 眾人 眼睜睜 看著 捷運 列車 往前 靜宜 大學 助理 教授 林淑雅 吊臂 重創 出車 搶救 之後 魂斷 中捷 林淑雅 52 事故 唯一 受難者 教學 認真 深受 愛戴 長期 關注 人權 議題 引爆 全民 怒火 咎責 建商 眾人 糾結 心中 問號 第一 時間 無法 停住 列車 中捷 危機 處理 有沒有 重大 瑕疵 消基會 交通 委員會 召集人 李克聰 一次 前方 確認 相信 看到 聽到 聲響 整個 很大 煙塵 第一個 反應 車門 關上 運安會 調查組 召集人 名山 啟動 調查 SOP 通報 系統 過去 反應 回來 時間 交通部 運安會 著手 調查 釐清 建商 中捷 相關 責任 這起 事故 軌道 運輸 安全 問題 浮上 檯面 包括 ATP 只能 偵測 軌道 異物 懸空 物體 反應 之力 學者 直指 安全 偵測 設備 已經 老舊 應該 痛定思痛 強化 更新 消基會 交通 委員會 召集人 李克聰 包括 AI 影像 判別 紅外線 雷達 偵測 偵測 範圍 擴大 所有 軌道 上面 異物 軌道 上方 兩側 測得 國內 交通運輸 安全性 分為 A型 B型 路權 捷運 屬於 最高 等級 運輸 應該 完全 封閉 異物 入侵 機會 全台 南北 捷運 沿線 大型 建案 林立 規定 軌道 公尺 內限建 法規 太過 鬆散 這次 中捷 事件 原因 消基會 交通 委員會 召集人 李克聰 沿線 重大 施工 包括 吊車 掉落 軌道 完整 交通 維持 計畫 交通 維持 計畫裡面 能夠 規範 營運 時段 施工 運安會 調查組 召集人 名山 以後 軌道 高空 吊臂 長度 程度 跌落 掉入 軌道 審查 機制 軌道 運輸 認為 陸地 安全 交通工具 行車 偵測 系統 疏漏 不可抗力 異物 入侵 造成 難以想像 重大 傷亡 太魯閣 事件 中捷 事故 生命 殞落 相關 單位 面對 責任 提出 解方 避免 重蹈覆轍</td>\n",
       "      <td>社會</td>\n",
       "      <td>全球</td>\n",
       "    </tr>\n",
       "    <tr>\n",
       "      <th>788</th>\n",
       "      <td>女兒 CO 中毒 喪命 熱水器 裝不 通風 陽台 父遭 判刑 東森 新聞 天冷 使用 熱水器 務必 注意 通風 新北市 一名 屋主 陽台 外側 加裝 玻璃窗 當初 安裝 熱水器 注意 通風 不良 強制 排氣 設備 瓦斯 燃燒 完全 狀況 一氧化碳 飄進 女兒 房間 導致 房內 女兒 窒息 身亡 屋主 過失 致死 判刑 緩刑 兩年 新北市 發生 一起 個案 一家人 安裝 屋外 瓦斯 熱水器 陽台 卻是 玻璃窗 注意 通風 狀況 之下 發生 憾事 10 年前 屋主 一家 要裝 熱水器 陽台 已經 先有 玻璃窗 通風 不良 強制 排氣 設備 女兒 房間 靠近 陽台 今年 一月 熱水器 瓦斯 完全 燃燒 產生 一氧化碳 飄散 房內 導致 窒息 身亡 屋主 心痛 坦承 疏失 一審 過失 致死 有期徒刑 得易科 罰金 15 緩刑 兩年 熱水器 業者 陽台 玻璃窗 鋁門窗 鐵窗 通風 不良 幾種 環境 需要 強制 排氣 熱水器 強制 排氣 意思 熱水器 燃燒 藉由 風扇 廢氣 排氣管 末端 廢棄 民國 94 消防 法規 規範 熱水器 瓦斯 天然氣 業者 安裝 義務 注意 律師 李育 屋主 之外 當時 施工 師傅 過失 要負 過失傷害 過失 致死 相關 刑事責任 尤其 消防 統計 今年 12 24 一氧化碳 中毒 統計 件數 多達 21 49 送醫 身亡 集中 冬天 天氣 不想 冷水 通風 不可不 注意</td>\n",
       "      <td>社會</td>\n",
       "      <td>財經</td>\n",
       "    </tr>\n",
       "    <tr>\n",
       "      <th>796</th>\n",
       "      <td>愛上 180 公分 羽球 女遭 拒竟 硬來 知道 東森 新聞 一名 潘姓 女子 愛上 身高 180 公分 羽球 社員 阿偉 化名 假借 送球具 用品 名義 企圖 發生 關係 阿偉 驚恐 直呼 真的 潘女 不放過 強行 企圖 發生 關係 隨即 阿偉 報警 經台 中高 分院 審理 潘女 被判 強制性 未遂 徒刑 全案 還可 上訴 據台 中高 分院 判決 指出 該名 潘姓 女子 涉嫌 強制性 未遂 阿偉 示好 婉拒 2023 11 晚間 潘女 假借 羽球拍 名義 誘使 阿偉 進入 住處 強行 阿偉 實施 性侵 不當 行為 阿偉 反抗 大聲 表示 願意 潘女 毫不理會 最終 阿偉 奮力 逃脫 報警 求助 審理 過程 潘女 辯稱 當時 事情 發生 精神 問題 關係 潘女 律師 表示 阿偉 180 公分 體型 潘女 具有 優勢 阿偉 願意 發生 關係 雙方 應有 達成 共識 案情 發生 之後 兩人 互動 阿偉 所述 阿偉 反駁 補充 說道 事件 發生 收到 潘女 傳來 訊息 對不起 今天 失態 希望 在意 直言 覺得 驚恐 生氣 完全 不想 潘女 發生 關係 潘女 一直 強迫 導致 腋下 衣服 勒出 腫塊 受傷 最後 經台 中高 分院 審理 認為 阿偉 敘述 情節 描述 邏輯 合理 案發時 錄音 阿偉 確實 直說 真的 真的 潘女 卻說 知道 強行 繼續 潘女 行為 確實 涉及 性侵 事後 說謊 否認 罪刑 最後 判處 徒刑 全案 還可 上訴 尊重 身體 自主權 請撥 113 110</td>\n",
       "      <td>社會</td>\n",
       "      <td>全球</td>\n",
       "    </tr>\n",
       "    <tr>\n",
       "      <th>805</th>\n",
       "      <td>先取 轉單 惡劣 外送員 二度 當歸鴨 偷餐 東森 新聞 頭戴 安全帽 身穿 雨衣 這名 送員 快步 走進 店門口 下腰 確認 餐點 單據 簽名 取餐 離開 動作 相當 流暢 看似 正常 流程 餐點 送到 客人 手上 過了 同樣 裝扮 再次出現 探頭探腦 餐點 撕下 單據 簽名 似乎 不到 這回 乾脆 名字 不簽 直接 拿餐 過程 監視器 下來 店家 拿走 之後 已經 取餐 變成 造成 外送員 會來 一張 單子 事發 桃園 龜山 一間 小吃店 23 這位 外送員 疑似 先到 店裡 取餐 訂單 轉走 導致 客人 誤以 餐點 直接 按下 取消 沒想到 這名 送員 再次出現 這次 連取 餐鍵 直接 餐點 拿走 直到 一位 外送員 要來 取餐 店家 驚覺 餐點 店家 變成 製作 一份 給外 送員 等於 我出 餐點 得到 要求 外送員要 單號 簽名 表示 取到 餐點 店家 無奈 只能 認賠 只害 客人 多花 時間 等待 餐點 費用 吸收 節省時間 店家 餐點 放在 取餐區 核對 單號 送員 已經 要求 簽名 負責 避免 餐點 外送員 必要 多少錢 東西 幹嘛 東西 知道 停權 店家 偷竊 行為 實在 要不得 店家 目前 報案 監視器 畫面 公布 警告 這名 送員 警惕 附近 店家 幾百塊 餐點 刑責 實在 得不償失</td>\n",
       "      <td>社會</td>\n",
       "      <td>全球</td>\n",
       "    </tr>\n",
       "    <tr>\n",
       "      <th>813</th>\n",
       "      <td>官兵 落海 喊話 外面 回家吧 東森 新聞 張姓 士官 妻子 海軍 落海 失蹤者 晁毓 老婆 海上 船隻 幫忙 仔細 瞭望 有沒有 出現 附近 拜託 老公 回來 外面 回家吧 妻子 真情 喊話 字字句句 透露 丈夫 思念 鼻酸 難過 海虎 潛艦 官兵 落海 失聯 已經 超過 黃金 72 小時 失蹤 官兵 不到 張姓 士官 妻子 外界 喊話 希望 海上 船隻 丈夫 返家 案發 海軍 總算 還原 事件 海軍 司令部 參謀長 吳立平 當時 第一批 人員 報告 我要 救難 海軍 澄清 外界 所說 救人 救難 浮標 行駛 過程 脫落 擔心 葉會 繩索 小隊 上甲板 回收 沒想到 大浪 官兵 不慎 跌倒 掛在 潛艦 外頭 艦艇 裡面 兵器 得知 帶人 救援 兵器 單獨 上甲板 後續 首批 落海 救援 大浪 關係 陸續 落海 最後 導致 小組 小組 一共 落海 失蹤 海軍 司令部 參謀長 吳立平 寬度 很窄 不到 公尺 已經 左右 晃到 超過 30 以上 人員 上面 嚴峻 考驗 不到 公尺 甲板 行走 承受 大浪 晃動 感覺得到 情況 危及 可怕 外界 好奇 首位 跌倒 掛在 乾舷 官兵 是否 失蹤者 對此 海軍 不便 透露 人員 細節</td>\n",
       "      <td>社會</td>\n",
       "      <td>全球</td>\n",
       "    </tr>\n",
       "    <tr>\n",
       "      <th>821</th>\n",
       "      <td>46 個月領 非洲 護照 移民 代辦 公司 搜索 東森 新聞 戴著 口罩 神情 凝重 全程 不發 一語 移民 代辦 公司 負責人 女兒 約談 指控 涉嫌 販售 非洲 國家 護照 檢調 單位 查出 2018 2020 年間 代客 申辦 幾內亞 比索 護照 家長 提供 小孩 戶口名簿 台灣 護照 影本 照片 再付 多美元 台幣 46 最快 取得 幾內亞 比索 護照 還在 官網 公開 強調 第二 護照 就讀 外僑 學校 必備 文件 孩子 快速 國際 接軌 家人 相處 最佳 教育 方案 涉犯 偽造 特種 文書 公司 負責人 業務 搜索 約談 國內 富商 名流 子女 就讀 外僑 學校 需要 護照 幾內亞 比索 護照 想辦 可不 容易 調查 依法 須在 當地 合法 居留 這間 移民 代辦 公司 非法手段 代客 申辦 宣稱 出國 護照 已經 失效 歪腦筋 後續 行為 負責</td>\n",
       "      <td>社會</td>\n",
       "      <td>全球</td>\n",
       "    </tr>\n",
       "    <tr>\n",
       "      <th>824</th>\n",
       "      <td>空軍 帥氣 招募 違法 高美濕 放煙火 東森 新聞 這行 真的 不妥 空軍 一名 帥氣 招募 遭人 PO 網說 高美濕 放煙火 引起 網友 譴責 汙染 濕地 環境 對此 相關 單位 表示 接獲 檢舉 可開罰 六千塊 民眾 PO 網說 知名 景點 高美濕 保育 看到 有人 施放煙火 透過 畫面 現場 狀況 施放煙火 民眾 哇哇 了解 網友 PO 地點 高美濕 現場 點燃 仙女 之外 中空 煙火 飛過 柵欄 保育 區的 畫面 引發 網友 質疑 一名 放煙火 帥氣 軍方 招募 對此 高美 園區 表示 影片 內容 闖入 管制 區域 外圍 平台 施放煙火 濕地 保護法 保育 放煙火 六千元 罰緩 煙火 造成 環境 汙染 環保局 接獲 檢舉 開罰 民眾 舞法 接受 一名 放煙火 空軍 招募 影片 已經 刪除 已經 網友 轉載 PO 網路上 譴責</td>\n",
       "      <td>社會</td>\n",
       "      <td>全球</td>\n",
       "    </tr>\n",
       "    <tr>\n",
       "      <th>826</th>\n",
       "      <td>失業 寒流 街頭 81 乞討 牌吐 辛酸 丟臉 東森 新聞 近期 流來 氣溫 驟降 新北中 一名 女子 22 街頭 過夜 81 乞討 希望 幫忙 真的 丟臉 對不起 真的 沒騙 網友 辛酸 PO 24 書社 團我 發文 一名 女子 街上 牌子 寫下 月初 工作 還要 幾天 結束 希望 社福 單位 幫忙 了解 女子 牌子 已經 失業 一個月 身上 沒錢 無家可歸 四處 流浪 真的 吃飯 乞討 真的 丟臉 對不起 真的 沒騙 下個月 工作 謝謝 感恩 此文 曝光 網友 紛紛 留言 失業 一個月 遊民 積蓄 報警 警察 安排 遇見 告知 永和 正德 廚房 供餐 有人 22 看到 晚上 天氣 有人 過去 看到 真的 短暫 需要 幫助 真的 滷肉飯 店家 女子 幫找 工作 提供 餐食 人活 希望 加油 之後 好心 網友 捷運 賣場 看到 一名 女子 需要 幫助 物資 跟給 救助金 對方 牌子 下個月 工作 社會局 蘆洲 工作 新北 議員 金瑞龍 留言 警方 現在 過去 並請 社會局 協助 幫忙 文章 來源 失業 寒流 街頭 81 乞討 辛酸 丟臉 CTWANT 授權 轉載</td>\n",
       "      <td>社會</td>\n",
       "      <td>全球</td>\n",
       "    </tr>\n",
       "    <tr>\n",
       "      <th>862</th>\n",
       "      <td>國中生 身中 10 喪命 網湧入 總統 貼文 社會 安全網 東森 新聞 新北 國三生 最終 喪命 消息 一出 網友 湧入 總統 英文 最新 貼文 直喊 社會 安全網 孩子 上學 綠營 質疑 侯友宜 關心 這起 案件 侯辦 發聲明 強調 當天 晚間 醫院 探視 家屬 隱私 情緒 第一 時間 對外 公布 總統 英文 27 晚間 臉書 發文 稱讚 民進黨 總統 候選人 賴清德 政見會 提出 國家 願景 藍圖 台灣 繼續 網友 似乎 不太 買單 下方 留言 討論 新北 國三生 割喉 致死案 有人 痛批 校園 安全 身為 政府 感到 心寒 有人 麻煩 重視 一下 校園 案件 小孩 讀書 一票 網友 直喊 社會 安全網 有人 這篇 臉書 發文 感到 問號 還以 關心 國中生 爸媽 當年 燈泡 似乎 犧牲 網友 直喊 孩子 校園 安全 疑慮 解決 外界 質疑 國民黨 總統 候選人 侯友 宜作 新北 市長 關心 案件 對此 陣營 發聲明 澄清 12 25 晚間 50 侯友宜 醫院 探視 孩子 爸媽 發放 慰問金 要求 院長 救治 孩子 父母 不用 擔心 醫藥費 顧及 當事人 情緒 隱私 第一 時間 公布 盼外 界別 當事人 傷口 上灑</td>\n",
       "      <td>社會</td>\n",
       "      <td>要聞</td>\n",
       "    </tr>\n",
       "    <tr>\n",
       "      <th>866</th>\n",
       "      <td>優秀 國三生 枉死 導師 質疑 法規 伸張正義 保護 加害者 東森 新聞 新北 一名 國三男 學生 25 遭到 利器 攻擊 26 晚間 宣告 學校 一名 導師 感嘆 優秀 富有 正義感 年輕 生命 離去 世界 這名 導師 27 深夜 發文 感嘆 喪命 學生 優秀 富有 正義感 目前 少見 好學 特質 學生 開朗 笑容 印象 深刻 導師 表示 任教 班級 每周 只見 一次 記不住 學生 長相 死者 八年級 記住 少數 口罩 解禁 口罩 一群 開朗 笑容 印象 很深 導師 透露 死者 上課 製作 作品 用心 七年級 拿到 班上 最高分 八年級 獨力 完成 全班 無法 做成 作品 許多 同學 放棄 唯一 持之以恆 導師 指出 死者 九年 級後長 變帥 複習 成績 上榜 班上 維持 前三名 成績 沒想到 同學 刺殺 想要 大吼 世界 導師 不禁 質疑 條規 伸張 正義 保護 加害者 教學 使命 困惑 存疑 有沒有 意義 導師 提到 一條 年輕 生命 莫名其妙 離去 好像 記錄 時間 過了 遺忘 我會 記得 曾經 來過 短暫 15 歲月 成功 成長 一位 責任感 學習 認真 青年</td>\n",
       "      <td>社會</td>\n",
       "      <td>全球</td>\n",
       "    </tr>\n",
       "    <tr>\n",
       "      <th>884</th>\n",
       "      <td>國三生 喪命 家長 送花 打氣 孩子 差點 打瞎 東森 新聞 新北市 一名 就讀 國三 男同學 校內 同儕 砍殺 身中 10 送醫 搶救 宣告 案情 震驚 社會 大眾 28 有民眾委 特別 送花 學校 表達 死者 哀悼 之情 希望 學校 師生 打氣 ETtoday 新聞 送花 到校 家長 指出 兒子 就讀 該所 學校 因用 不雅 字眼 辱罵 一名 女同學 遭到 殘忍 毆打 眼睛 差點 打瞎 這次 悲劇 特別 感同身受 痛心 送花 家長 表示 社會 大人 置身事外 責任 孩子 加害者 家長 死者 家長 來說 現在 煎熬 黑暗 希望 一起 協助 覺得 學校 辛苦 老師 認真 送花 鼓勵 學校 表示 已經 失去 孩子 希望 剩下 兩個 孩子 救回來 家長 送花 打氣 家長 學校 師長 喊話 孩子 家長 來說 現在 煎熬 希望 一起 協助 呼籲 社會各界 應該 共同 協助 尤其 針對 案中 兩名 加害者 希望 放棄 孩子 重新 回歸 正途 重要</td>\n",
       "      <td>社會</td>\n",
       "      <td>全球</td>\n",
       "    </tr>\n",
       "    <tr>\n",
       "      <th>889</th>\n",
       "      <td>國三生 遭割 喉亡 遺體 初驗 嚇壞 人體 要害 東森 新聞 新北市 一名 國三生 25 遭到 同校 男同學 彈簧 刀割 猛刺 10 搶救 宣告 警方 27 上午 完成 遺體 初驗 凶手 行刺 部位 刀刀 致命 對此 網友 感到 細思極 國中生 還懂 身上 要害 知道 攻擊 死掉 新北市 一名 國三生 25 遭到 同校 男同學 彈簧 刀割 猛刺 10 搶救 宣告 27 上午 警方 完成 遺體 初驗 發現 該名 學生 身上 共中 10 身體 正面 右下 刀刀 致命 事後 網友 PTT 上以 割頸 國中生 要害 八卦 為題 表示 仔細 一想 發現 刀刀 要害 恐怖 國中生 還懂 身上 要害 知道 攻擊 死掉 換作 場合 一定 辦法 反應 過來 貼文 一出 引起 網友 討論 紛紛 留言 表示 講我 想到 感覺 刀刀 致命 真的 不像 十幾歲 行為 刀刀 致死 肯定 有人 教過</td>\n",
       "      <td>社會</td>\n",
       "      <td>全球</td>\n",
       "    </tr>\n",
       "    <tr>\n",
       "      <th>890</th>\n",
       "      <td>學生 素質 差異 讀私校 安全 內行人 隱憂 東森 新聞 新北市 一名 國三生 25 遭到 同學 彈簧 刀割 刺胸 搶救 宣告 這起 事件 使民眾 校園 安全 相當 擔心 網友 指出 公立學校 學生 素質 良莠不齊 認為 就讀 私立學校 相對 安全 認為 明年 私校 爆滿 貼文 一出 引起 熱議 網友 點出 隱憂 私校 霸凌 比較 一名 網友 27 PTT 明年 私校 爆滿 為題 發文 指出 現在 公立學校 明星 學校 以外 學生 素質 良莠不齊 學生 問題 學生 一起 上課 情況 司空見慣 認為 私校 環境 安全 這次 國中生 殺人 事件 之後 明年 私校 報名 應該 會大 爆滿 貼文 一出 引起 網友 熱議 紛紛 留言 表示 私校 非常少 家庭 學期 萬給 讀私校 有錢人 現在 國中給 小孩 私校 學區 名校 高中 有沒有 考到 志願 私校 兩個 兒子 真的 比較 老師 管事 每天 群組 通知 小孩 狀況 二代 雙語 私校 正常 家庭 無法 負擔 建議 私校 至少 比較 少出 事情 幾個 私校 一直 爆滿 父母 早有 先見之明 網友 點出 隱憂 私校 霸凌 比較 乖乖 公立 校會 背景 垃圾 根本 躲不了 校會 用錢 霸凌 同學 有錢 同學 課業 壓力 發洩 功課 身上 私校 精神 層面 霸凌 私校</td>\n",
       "      <td>社會</td>\n",
       "      <td>全球</td>\n",
       "    </tr>\n",
       "    <tr>\n",
       "      <th>893</th>\n",
       "      <td>英勇 游尚 臉書湧 親友 留言 辛苦 任務 結束 東森 新聞 對著 鏡頭 露出 招牌 燦爛 笑容 開心 親友 合照 人緣 相當 新工 分隊 分隊長 游尚 火場 英勇 救出 位民眾 不幸 受困 樓梯 濃煙 嗆暈 同事 救出 已經 失去 呼吸 心跳 搶救 宣告 新竹縣 消防 大隊長 發生 消防人員 受困 情形 啟動 自救 程序 人員 救出 部分 盡快 分隊長 送到 之後 急救 緊急 游尚 火場 救出 死神 回天乏術 一起 共患難 出入生死 同事 殉職 心情 難以 言喻 始終 無法 相信 同事 永遠 離開 新竹縣 消防 大隊長 很大 能見度 後續 部分 發生 一些 不想 看到 朋友 同事 紛紛 湧入 游尚 臉書 留下 辛苦 任務 結束 要游 尚樺 一路 文字 之間 透露 滿滿 難過 心情 貼心 孝順 游尚 親友 感情 相當 融洽 時常 一起 聚餐 吃飯 留下 合照 游尚 穿著 學士 花束 禮物 畢業典禮 同學 拍照 紀念 新工 分隊 分隊長 游尚 今年 29 來自 高雄 畢業 中央 警察 大學 81 2022 新竹縣 服務 原本 新北 市政府 消防局 竹圍 分隊 擔任 分隊長 新竹縣 擔任 第一 大隊 分隊長 2022 接任 工分 隊長 工作 表現 相當 優異 體貼 熱心 長官 出動 過好 幾次 任務 這場 救火 不幸 因公殉職 救人 命喪 火場 游尚 離世 留給 親友 無限 傷痛</td>\n",
       "      <td>社會</td>\n",
       "      <td>全球</td>\n",
       "    </tr>\n",
       "    <tr>\n",
       "      <th>904</th>\n",
       "      <td>學生 聚眾 衝突 還自 PO 衝抖音 流量 歪風 東森 新聞 運動場 14 學生 分成 爆發 衝突 警方 獲報 緊急 到場 制止 連繫 雙方 家長 學校 教官 到場 通報 少年 警察隊 雙方 互不 提告 責令 家長 帶回 管教 孩子 還自 po 現在 網路 文化 家長 擔憂 家長 要管 小孩 手機 很難 家長 盡力 家長 家長 教育 告訴 資訊 不見得 正確 判斷力 傳輸 給他 幫助 比較 能夠 接受 告訴 新北 校園 發生 彈簧刀 攻擊 事件 兒少 相關 團體 憂心 網路 社群 引來 連鎖 效應 兒福 聯盟 組織 發展 處處長 韻璇 台灣 兒少 網路 安全 專責 主管機關 定期 監督 內容 希望 政府 應該 高階 主管機關 協調 機制 兒福 聯盟 指出 兒少 同儕 壓力 使用 社群 網路 沉迷 傾向 調查 孩子 平均 10 手機 尤其 超過 70% 依賴 網路 超過 60% 使用 3C 產品 半夜 孩子 使用 平台 以抖 音為 67 70% 兒少 社群 軟體 接觸 不當 內容 恐怖 血腥 超過 半數 45% 兒少 想當 網紅 30% 遇過 網路 騷擾 調查 發現 87 兒少 社群 帳號 平均 每人 擁有 3.8 帳號 家長 知道 不到 顯然 無法 完整 接軌 孩子 網路 世界 呼籲 政府 平台 業者 正視 保護 兒少</td>\n",
       "      <td>社會</td>\n",
       "      <td>全球</td>\n",
       "    </tr>\n",
       "    <tr>\n",
       "      <th>918</th>\n",
       "      <td>國三生 慘死 校外 警車 叫囂 學生 東森 新聞 近日 國中生 割頸案 全民 關注 時刻 追蹤 涉案人 最新 案情 對此 一名 自稱 同校 學生 發文 表示 案件 大肆宣揚 門外 出現 警車 聚集 直言 明明 做錯事 承擔 輿論壓力 卻是 一名 自稱 在校生 女網友 Dcard 發文 表示 事發 當天 新聞 網路 不斷 散播 資訊 加害者 加害者 父母 並遭 網友 施壓 網暴 認為 加害者 態度 囂張 離譜 這起 案件 不該 大肆宣揚 不該 成為 理性 發言者 宣洩 情緒 管道 提到 網友 網路上 發言 也許 影響 安全 也許 不用 法律責任 校內 學生 承擔 輿論壓力 PO 指出 校門口 一早 出現 警車 不斷 聚集 叫囂 強調 明明 加害者 被害者 影響 學校 乾脆 夷為 平地 建築 PO 提到 該所 學校 大部分 安分守己 學生 現在 身著 校服 嗤之以鼻 凡事 以偏概全 明明 做錯事 承擔 輿論壓力 卻是 最後 喊話 網友 校內 學生 感到 悲憤 真心 希望 網路上 理性 發言 能夠 減少 身處 學校 感到 不安 拜託 發表 言論 前先用 大腦 不知廉恥 國中生</td>\n",
       "      <td>社會</td>\n",
       "      <td>全球</td>\n",
       "    </tr>\n",
       "    <tr>\n",
       "      <th>920</th>\n",
       "      <td>國三生 喪命 案引 關注 新北警 擴大 臨檢 球館 東森 新聞 新北 蘆洲 深夜 超過 20 警察 街上 排排站 重要 任務 準備 進行 大型 臨檢 走進 球館 燈火通明 許多 青少年 還拿著 球棍 看到 警察 乖乖 包裡 拿出 身分 證件 接受 臨檢 來到 年輕人 愛去 網咖店 民眾 座位 著大 螢幕 手上 滑鼠 按鍵 停過 遊戲 火熱 警察 查明 身分 警察 可不是 找碴 營造 良好 少年 成長 環境 蘆洲 分局 28 針對 釣蝦場 少年 中輟 生易 聚集 地方 擴大 臨檢 酒駕 危險 駕車 進行 取締 清查 是否 不法 情事 範圍 環堤 大道 民族 422 中興路 攔截 警察 提醒 業者 縱容 兒童 少年 深夜 聚集 店內 主動 通報 警察 社維法 77 條裁罰</td>\n",
       "      <td>社會</td>\n",
       "      <td>全球</td>\n",
       "    </tr>\n",
       "    <tr>\n",
       "      <th>927</th>\n",
       "      <td>國三生 慘死 范雲曾 學校 書包 網怒 校園 安全 破口 東森 新聞 國中生 割頸案 引發 社會 關注 民進黨 立委 力挺 學生 隱私權 大力 譴責 搜查 書包 權威 展現 粉專 湧入 大批 網友 28 日范雲發布 助選 底下 更是 出現 許多 質疑 聲浪 范雲曾 表示 任意 搜查 學生 書包 禁穿 保暖 衣物 遲到 就記 警告 千奇百怪 充滿 威權 思想 校規 存在 校園 各縣市 各校 長期 校規 解讀 中央 解讀 校規 師長 明確 懲處 亂象 不斷 發生 嚴重 傷害 學生 權益 當時 指出 高中學生 隨意 搜查 書包 身體 記過 警告 變成 霸凌 黑心 校規 霸凌 體罰 一線 之隔 國中生 割頸案 學校 能否 搜查 學生 包包 再度 受到 關注 發布 一篇 助選 網友 紛紛 湧入 貼文 底下 留言 看看 爭取 學生 書包 書包 配套措施 當個 大立 委屈 學生 隱私權 彈簧刀 學校 一位 父親 真的 擔心 小孩 上課 安全 同理 校園 安全 破口 犯罪 行為 模仿</td>\n",
       "      <td>社會</td>\n",
       "      <td>全球</td>\n",
       "    </tr>\n",
       "    <tr>\n",
       "      <th>929</th>\n",
       "      <td>桃園 購物中心 扶梯 起火 瘋傳 網諷 迴轉 烤肉 東森 新聞 桃園市 中壢 區某 購物中心 日前 發生 扶梯 起火 情況 相關 畫面 書社 中壢人 流傳 引發 許多 網友 討論 有人 嘲諷 這是 一種 迴轉 烤肉 概念 網友 中壢人 PO 一段 秒鐘 影片 畫面 顯示 扶梯 出現 起火 狀況 扶梯 內部 機械 起火 狀態 似乎 持續 運作 網友 看到 之後 留言 表示 上面 肉片 烤熟 扶梯 太操 辛苦 一種 迴轉 烤肉 概念 秋冬 產品 百貨 新式 扶梯 暖爐 火勢 疑似 購物中心 人員 撲滅 消防 單位 接獲 報案 EBC 東森 新聞記者 致電 詢問 扶梯 達人 指出 扶梯 電盤 裝置 起火 地方 是電 扶梯 踏階 下方 導軌 區域 下面 電纜 影響 運行 中的電 扶梯 排除 電線走火 可能性 懷疑 高度 機率 不當 施工 引起 達人 說明 上面 一些 潤滑油 整個 著火 潤滑油 能夠 著火 部份 應該 溫度 設計 到位 保養 到位 機械 結構 出現 故障 嚴重 磨損 產生 高溫 引發 起火</td>\n",
       "      <td>社會</td>\n",
       "      <td>全球</td>\n",
       "    </tr>\n",
       "    <tr>\n",
       "      <th>945</th>\n",
       "      <td>國三生 慘死 全校 陰霾 校長 集會 90 鞠躬 學生 心碎 東森 新聞 新北 一名 國三男 學生 25 校內 同學 管制 利器 攻擊 傷重 不治 引發 社會 譁然 事件 發生 至今 校園 壟罩 一股 陰霾 校長 於今 29 集會 感謝 全體師生 共同 面對 這段 困難 時期 深深 鞠躬 以示 誠摯 歉意 校長 這一 舉動 學生 五味雜陳 表示 看到 校長 90 鞠躬 心碎 本月 25 一位 學生 前往 班級 學生 驅趕 學生 心生 乾哥哥 訴苦 乾哥哥 聽聞 回到 班級 學生 理論 爆發 衝突 竟持 管制 利器 學生 刺去 送醫 搶救 宣告 檢警 此案 列為 傷害罪 隨後 考慮 嫌行 嚴重 學生 坦承 教唆 行為 將兩人 移送 少年法庭 法庭 26 上午 裁定 乾哥哥 收容 學生 責付 監護人 距離 事件 發生 已過 事件 仍未見 平息 外界 學校 批評 劇烈 嚴重 干擾 校內 師生 正常 生活 許多 學生 表示 學生 不當 行為 間接 影響 整個 學校 根本 公平 可言 中時 新聞網 事件 帶來 影響 該校 校長 集會 時間 上台 全校師生 90 鞠躬 學生 十分 看到 校長 90 鞠躬 心碎 校長 加油 強調 校長 關心 學生 校長 該校 老師 不禁 質疑 法條 伸張正義 保護 加害者 表示 教學 使命 困惑 意義 這起 事件 重新 審視 兒少 再次 意識 教育 重要性 無限 上綱 政治 正確 解決 事情 辦法</td>\n",
       "      <td>社會</td>\n",
       "      <td>全球</td>\n",
       "    </tr>\n",
       "    <tr>\n",
       "      <th>947</th>\n",
       "      <td>割頸案 乾妹 狂放 警憂 非法 正義 派員 守望 住家 東森 新聞 新北 國三生 割頸案 加害者 乾哥 少年法庭 裁定 收容 事發 至今 涉嫌 教唆 乾妹 遭爆 社群 平台 發表 輕佻 言論 網友 互槓 管區 員警 擔憂 乾妹 網友 搜索 造成 非法 正義 派員 她家 附近 守望 涉嫌 教唆犯 乾妹 案發 之後 起底 IG 連發 限時 動態 網友 根本 事實真相 教唆 殺人 乾哥 出氣 沒叫 殺人 爸斷 零用錢 中時 新聞網 乾妹 頻頻 網路上 網友 網友 揚言 轄區 警方 排班 派員 前往 她家 附近 守望 有民眾 前往 執行 非法 正義 少年 事件處理 83 條規 任何人 媒體 資訊 公示 方式 揭示 少年 保護 事件 少年 刑事案件 記事 照片 違反 前項 規定 主管機關 依法 予以 處分 提醒 民眾 氣憤 轉傳 私人 個資 觸法</td>\n",
       "      <td>社會</td>\n",
       "      <td>全球</td>\n",
       "    </tr>\n",
       "    <tr>\n",
       "      <th>948</th>\n",
       "      <td>國三生 慘死 校長 90 鞠躬 師生 紙鶴 追思 東森 新聞 新北市 高中 附設 中部 25 一名 學生 乾妹 出頭 竟用 另一名 國三生 頸部 胸部 刺去 導致 國三生 重傷 搶救 宣告 震驚 社會 事件 延燒 多天 了解 29 校長 集會 90 師生 鞠躬 感謝 全體師生 共同 度過難關 回顧 案發 當天 乾妹 午休 時間 事發 班級 閨蜜 國三生 喝斥 這又 班級 要求 立即 離開 乾妹 心有 不甘 乾哥 哭訴 乾哥 決定 乾妹 出頭 國三生 理論 雙方 一言不合 大打出手 乾哥 拿出 預藏 彈簧刀 連刺 對方 10 導致 國三生 血流如注 送醫 搶救 宣告 新北 地方法院 27 指出 新北 市政府 警察局 移送 新北市 國中生 遭割 死亡 已經 本院 少年法庭 分案 並依 少年 事件處理 規定 精神 調查 了解 該校 校長 29 集會 90 師生 鞠躬 感謝 全體師生 共同 度過難關 校方 設立 追思 小站 同學 寫進 卡片 紙鶴 放到 紙箱 之後 轉交 國三生 家屬 中時 新聞網 事件 帶來 影響 該校 校長 集會 時間 上台 全校師生 90 鞠躬 學生 十分 看到 校長 90 鞠躬 心碎 校長 加油 強調 校長 關心 學生 校長 文章 來源 國三生 校園 遭割 頸亡 校長 集會 90 鞠躬 師生 紙鶴 追思 CTWANT 授權 轉載</td>\n",
       "      <td>社會</td>\n",
       "      <td>全球</td>\n",
       "    </tr>\n",
       "    <tr>\n",
       "      <th>962</th>\n",
       "      <td>落水 小時 找到 擅闖 池塘 釣魚 苗栗 父子 溺斃 東森 新聞 苗栗 卓蘭 一家 露營 農場 30 發生 遊客 落水 意外 一名 謝姓 父親 上午 兒子 魚池 釣魚 兒子 小心 落水 父親 見狀 下水 救人 上岸 直到 中午 家人 遍尋 不著 農場 調出 監視器 緊急 報警 消防隊員 下到 魚池 搜尋 先後 父子 救上來 已經 失去 呼吸 心跳 溺水 超過 小時 宣告 事發 30 上午 左右 謝姓 男子 妻子 帶著 兒子 親友 彰化 苗栗 卓蘭 一處 農場 露營 過夜 上午 謝姓 男子 帶著 兒子 農場 魚池 準備 釣魚 疑似 兒子 小心 水池 謝男 發現 跳下去 兒子 沒想到 魚池 深達 不幸 溺水 魚池 距離 住宿 地點 一段距離 山區 下方 凹處 導致 父子 落水 發現 直到 中午 左右 太太 不到 通知 農場 調出 監視器 發現 父子倆 出事 趕緊 報警 警消 獲報 到場 消防隊員 穿著 潛水 裝備 魚池 來回 搜尋 沒多久 發現 落水 父親 將他 上岸 兒子 則是 下午 46 左右 尋獲 兩人 救起 失去 生命 跡象 送醫 搶救 宣告 這座 魚池 範圍 120 水深 飼養 吳郭魚 水裡 飼料 水質 混濁 搜救 不易 父子倆 救起 已經 落水 超過 小時 送醫 回天乏術 ETtoday 新聞 業者 表示 釣魚 開放 時間 下午 30 分至 30 罹難 父子倆 開放 時間 擅闖 警方 周圍 封鎖線 詳細 事發 有待 進一步 調查 釐清</td>\n",
       "      <td>社會</td>\n",
       "      <td>全球</td>\n",
       "    </tr>\n",
       "    <tr>\n",
       "      <th>973</th>\n",
       "      <td>獨家 下來 道歉 腳踏車 婦遭 喇叭 氣炸 公車 東森 新聞 婦人 雙手 插腰 公車 肉身 擋車 37 司機 腳踏車 婦人 下來 抱歉 就讓 你過 左右 兩旁 車輛 呼嘯而過 婦人 大馬路 中間 堅持 聽到 一句 sorry 離開 還對 司機 不斷 碎碎念 雙方 僵持 10 分鐘 一度 引起 路人 側目 好奇 事情 需要 當街 理論 婦人 坐公車 乘客 當時 腳踏車 公車 旁邊 一聲 喇叭聲 氣得 理智 瞬間 全斷 記者 當時 公車 路上 準備 公車站 嚇到 同樣 外側 腳踏車 婦人 一聲 喇叭 提醒 沒想到 一聲 喇叭 成為 衝突 導火線 客運 業務部 經理 魏光 主要 腳踏車 後視鏡 大車 旁邊 嚇到 駕駛員 一聲 喇叭 警示 前面 車上 乘客 有人 報警 車子 無法 前進 聽到 你給 下車 道歉 地點 發生 台北 松山機場 附近 知名 老牌 牛排館 仔細觀察 這條 路車 婦人 失控 丟下 腳踏車 馬路 中央 攔車 完全 不顧 來車 想要 怒火 解決問題 腳踏車 婦人 下來 抱歉 就讓 你過 口氣 意氣用事 明顯 違規 觸犯 道交 條例 阻礙交通 將可處 500 元罰 莫名 耽誤 車上 10 乘客 來說 時間 浪費 真的 看不下去</td>\n",
       "      <td>社會</td>\n",
       "      <td>全球</td>\n",
       "    </tr>\n",
       "    <tr>\n",
       "      <th>975</th>\n",
       "      <td>國三生 遭割 頸亡 學生 聯絡簿 看法 壞人 永遠 保護 東森 新聞 新北市 一名 國三生 遭割 身亡 網友 激憤 教唆 乾妹 親友團 對此 一名 老師 分享 國三生 聯絡簿 寫下 割頸案 看法 小事 整件事 壞人 永遠 保護 網友 覺得 相關 社會 議題 孩子 還寫 感想 真的 老師 棒棒 臉書粉 專發 同樣 國三生 新北 國中生 彈簧刀 攻擊 同學 看法 同學們 紛紛 寫下 小事 父母 知道 學校 帶刀 覺得 幫別人 很帥 眼中 無腦 校方 拿刀 正常 學生 整件事 壞人 永遠 保護 學生 表示 事發 當時 老師 阻止 阻止 對此 網友 認為 有人 怪到 老師 身上 老師 教書 去當 保全 就問 老師 阻止 各班放防 噴霧 電擊 網友 乾妹 高中 變成 乾妹 乾哥 還在 老師 註解 覺得 相關 社會 議題 孩子 還寫 感想 真的 培養 議題 敏感度 更是 培養 獨立自主 見解 無解 無解 只能 盡人事 美國 槍擊案 一次 哀悼</td>\n",
       "      <td>社會</td>\n",
       "      <td>財經</td>\n",
       "    </tr>\n",
       "    <tr>\n",
       "      <th>982</th>\n",
       "      <td>墾丁 大街 15 人亂鬥 賓士 駕駛 砸車 競逐 東森 新聞 連假 還沒過 31 凌晨 屏東 恆春 當地 民眾持 西瓜刀 觀光客 發生 重大 衝突 共計 15 街上 亂鬥 觀光客 開車 追逐 並撞斷 消防栓 造成 傷的 悲劇 參與 鬥毆 當地 年輕人 名是 未成年 目前 警方正 擴大 清查 涉案 相關 人士 釐清 事發 回顧 事發 來自 屏東 獅子 侯姓 少年 朋友 騎車 夜遊 回程 墾丁 大街 桃園 楊姓 觀光客 看不順眼 侯男 一時 氣憤 棍棒 西瓜刀 砸車 同行 友人 徐男 不爽 開著 賓士 少年 友人 追上 自撞 南灣 路段 附近 護欄 駕車 不慎 消防栓 導致 詹姓 副駕駛 頭部 重創 送醫 傷重 不治 消防栓 斷裂 水柱 噴了 層樓 一旁 賓士車 更是 整輛 撞毀 路邊 警方 獲報 到場 詹姓 副駕駛 已經 呼吸 心跳 少年 檔車 完全 撞爛 共計 通通 送醫 釀成 傷的 悲劇 街頭 亂鬥 演變成 飛車 意外 最後 釀成 死亡 警方 實施 酒測後還 發現 賓士 駕駛 酒測值 高達 0.49 毫克 少年 分則 無照駕駛 參與 鬥毆 當地 年輕人 四名 未成年 警方 目前 擴大 清查 涉案 相關 人士</td>\n",
       "      <td>社會</td>\n",
       "      <td>全球</td>\n",
       "    </tr>\n",
       "    <tr>\n",
       "      <th>986</th>\n",
       "      <td>搶劫 咖啡廳 遭搶 RM 名錶 老闆 被噴 辣椒水 東森 新聞 名錶 桌上 老闆 送客 打開 上鎖 包廂 男子 卻是 往外 確認 之後 回頭 攻擊 老闆 搶走 桌上 名錶 還朝 老闆 噴灑 辣椒水 受害 店家 搶劫 老闆 摀住 角度看 男子 扭打 一團 附近 店家 聽到 呼救聲 趕緊 上前 幫忙 壓制 協助 壓制 店員 身材 人高馬大 看到 店裡 一片狼藉 東西 滿地 壓制 還在動 過去 幫忙 壓腳 受害 店家 一家 咖啡廳 老闆 平時 幫人 販售 名錶 通常 是採 網路 預約 之後 進到 咖啡廳 裡頭 包廂 疑似 嫌犯 盯上 當鋪 業者 年半前 左右 這支 最新 配色 正常 所有 款裡面 最貴 價位 鎖定 理查德 米爾 R030 全球 限量 名錶 價格 1200 以上 二手 1100 男子 先來 外場 同夥 分工 預約 看錶 負責 行搶 另一名 洪姓 共犯 開車 接應 看到 男子 成就 壓制 同夥 義氣 丟下 洪姓 共犯 vs 警方 看到 幹嘛 真的 證據 證據 警方 上門 逮人 共犯 辯稱 幫忙 租車 搶案 不知情 警方 採信 供詞 附近 店家 大白天 點的 左右 覺得 地方 發生 事情 嫌犯 強盜 罪送 老闆 來說 心情 難以 平復 不敢 寄賣 不敢</td>\n",
       "      <td>社會</td>\n",
       "      <td>全球</td>\n",
       "    </tr>\n",
       "    <tr>\n",
       "      <th>1008</th>\n",
       "      <td>私刑 打死 電纜 蝦農 義憤 傷害 致死 緩刑 免關 東森 新聞 兩年 屏東 九如鄉 發生 廖姓 男子 太太 電纜線 七名 蝦農 活活 打死 判決 涉案 七個 認罪 家屬 達成 協商 法官 義憤 傷害 致人 死罪 一年 兩年 不等 徒刑 宣告 緩刑 兩年 聽到 不用 被關 當時 幫忙 逮人 村長 一口氣 屏東縣 里港 鄉潮 村長 李明財 事情 回歸 正常 生活 事情 發生 感謝 法官 機會 正常 生活 工作 養家餬口 村長 無奈 小偷 剪斷 電纜 幾百幾千 害蝦 家破人亡 蝦農 聽到 判決 表示 警方 保護 農才 自力救濟 發生 憾事 泰國 蝦農 許先生 當事 蝦農 吸毒 抓進去 沒多久 繼續 繼續 下去 損失慘重 想要 參與 修理 一下 農說 竊賊 半夜 電纜線 小時 整池 死亡 損失 至少 數十萬 百萬 一群 人才 氣得 動用 私刑 屏東 動用 私刑 打死 小偷 第一 九如鄉 七名 蝦農 打死 電纜線 小偷 宣告 緩刑 高樹 六年 一名 蕉農 打死 偷蕉 最後 妨害自由 致人 死罪 判刑 三年 已經 入監 服刑 動用 私刑 捍衛 財產 卻是 兩樣</td>\n",
       "      <td>社會</td>\n",
       "      <td>全球</td>\n",
       "    </tr>\n",
       "    <tr>\n",
       "      <th>1013</th>\n",
       "      <td>藍牙 電源 全關 飯店 音響 半夜 猛播 粵語歌 東森 新聞 有民眾 9000 多塊 女友 礁溪 一家 度假 飯店 度過 兩天 一夜 原本 以為 能夠 好好 補眠 放鬆 身心 沒想到 房間 藍芽 音響 突然 半夜 三點 猛播 粵語 歌曲 重點 當時 電視 藍牙 明明 關閉 狀態 聲音 從何而來 兩人越 恐怖 業者 事後 只用 嘉義 住宿 方式 補償 讓民眾 覺得 消極 純白 氣派 外觀 搭配 環繞 山景 這間 礁溪 度假 酒店 主打 露天 溫泉 智慧 設備 開幕 不到 一年 網路上 擁有 超高 討論 有民眾 原本 帶著 女友 入住 想給 滿滿 驚喜 最後 得到 一夜 驚嚇 民眾 周先生 當時 戴著 耳塞 一半 電視 下方 藍牙 音響 半夜 突然 單曲 循環 粵語 流行歌曲 電視 藍牙 沒開 聲音 從何而來 事件 PO 上網 多數 網友 認為 故事 毛毛 民眾 周先生 檢查 手機 智慧 家電 檢查 電視 遙控器 開關 方法 找不著 關不掉 連播 20 分鐘 粵語歌 直到 拔掉 插頭 停下 業者 表示 廠商 設定 問題 定時 播放 歌曲 音響 美國 品牌 根本 粵語歌 懷疑 連到 房間 音響 電子設備 異常 當事 飯店業 陳經理 緊急 全館 設備 檢測 針對 客人 部分 做出 相對 補償 業者 所謂 相對 補償 周先生 聽來 根本 敷衍 周先生 女友 會怕 業者 住宿費 辦法 折扣 要給 嘉義 住宿 午餐 9200 多元 一天 沒療 還只 留下 驚悚 回憶 周先生 認為 招待 頂級 套房 不想 體驗 直接 給予 折扣 比較 實際</td>\n",
       "      <td>社會</td>\n",
       "      <td>財經</td>\n",
       "    </tr>\n",
       "    <tr>\n",
       "      <th>1022</th>\n",
       "      <td>日本 強震 屏東 40 人特 搜隊 整裝待命 馳援 東森 新聞 日本 石川縣 今天 發生 地震 大規模 7.6 造成 房屋 倒塌 停電 屏東縣 消防局 出動 40 人特 隊伍 今晚 出發 南投 竹山 集結待命 接獲 外交部 通知 立即 啟程 前往 馳援 屏東縣 消防局 搜隊 整裝待命 屏東 縣長 周春米 晚間 抵達 消防局 表示 日本 石川縣 發生 地震 多棟 房屋 倒塌 停電 搜隊 整備 今天 晚上 出發 南投 竹山 集結 接到 外交部 通知 啟程 出發 日本 給予 專業 友好 救援 屏東縣 政府 消防局 指出 屏東縣 國際 救援隊 集結 包含 醫師 護理 師共 40 整備 裝備 器材 噸重 確保 應對 國際 災難 搜救 做好 全面 準備 救援 請求 隨時 準備 應對 日本 方面 支援 需求 快速 抵達 災區 執行 救援 任務</td>\n",
       "      <td>社會</td>\n",
       "      <td>全球</td>\n",
       "    </tr>\n",
       "    <tr>\n",
       "      <th>1028</th>\n",
       "      <td>聚焦 真相 陸客 就醫 觀光 不肖 業者 牟利 濫發 簽證 東森 新聞 人潮 擠滿 景點 過去 陸客 帶來 錢潮 走到 陸客團 帶來 驚人 效益 觀光 醫療 產業 台灣 醫美 蓬勃發展 女星 范冰冰 打過 雷射 大陸 每年 600 萬名 遊客 海外 就醫 鄰近 日本 韓國 新加坡 搶食 這塊 大餅 2012 台灣 開放 陸客 健檢醫美 本意 醫療 單位 增加收入 不肖 業者 以假 簽證 為名 漏洞 陸客行 觀光 之實 新聞 片段 調查 秀傳 醫院 涉嫌 掩護 陸籍 人士 非法 入境 來台 忠雄 遭北檢 200 萬元 交保 醫院 旅行社 串通 開立 醫療 單據 檢調 至少 查到 醫院 違法 遭到 起訴 何敢 大膽 鋌而走險 業者 點出 關鍵 新光 醫院 院長 洪子仁 從事 醫美健檢 產值 一班 旅遊 兩到 三倍 世界 爭取 居民 國內 就醫 陸客 團來 消費力 驚人 2010 大陸 遊客 已經 百萬 2015 創下 高峰 418 萬人次 帶來 2196 觀光 產值 這一 年來 醫美健檢 人數 最高 千多 之後 兩岸 政治 緊繃 新冠 疫情 開放 陸客 政府 今年 來台 觀光 人數 突破 600 萬人次 七月 170 萬人次 達成 目標 陸客 解方 台北市 旅行 商業 同業公會 理事長 駱炫宏 疫情 點跟 台灣 直航 直航 辦法 拿到 觀光 簽證 醫美 簽證 希望 陸客 快來 台灣 醫療 簽證 需要 檢附 財力 證明 代表 一定 程度 消費 能力 觀光業 普遍 歡迎 自由 特色 醫療 之外 時間 醫院 旅行社 無法 掌握 行蹤 不肖 業者 得以 漏洞 引渡 有心人 來台 從事 非法 行為 新光 醫院 院長 洪子仁 機構 簽證 許可 當時 做好 嚴個 把關 這也 機構 把關 避免 發生 全球 疫情 解封 兩岸 觀光 陷入僵局 陸客 人海戰術 帶來 龐大 觀光 收入 業者 殷殷 期盼 未來 開放 做好 把關 工作 簽證 四處 流竄 政府 首要 解決 任務 犯罪 行為 模仿</td>\n",
       "      <td>社會</td>\n",
       "      <td>全球</td>\n",
       "    </tr>\n",
       "    <tr>\n",
       "      <th>1031</th>\n",
       "      <td>獨家 跨年 住戶 驚慌 逃出 餐廳 放煙火 保護區 東森 新聞 雜草 已經 起火燃燒 一旁 煙火 不斷 引爆 煙火 亂噴 助長 火勢 燃燒 整片 空地 一下子 陷入 火海 附近 住戶 真的 可怕 知道 嚴重 窗子 過去 圍牆 當時 濃煙 壟罩 社區 住宅 火勢 都燒 一大 快燒 進家裡 住戶 紛紛 逃難 明明 才剛 完年 差點 火燒 附近 住戶 老公 下來 外面 著火 沒多久 燒到 放煙火 風往 位置 起火 很大 事發 當天 沙鹿 區向 上路 七段 12 時一過 狂放 煙火 導致 旁邊 一塊 空地 全燒 火勢 一度 蔓延到 社區 住家 住戶 緊急 撤出 直呼 新年 逃命 放煙火 地點 距離 火警 100 公尺 指控 燒烤 餐廳 放煙火 引起 附近 住戶 怕燒 過來 一直 灌水 水管 灌到 爆掉 燒烤店 業者 12 點跨 四周圍 全部 乒乒乓乓 你講 放煙火 哪裡燒 知道 原本 長滿 雜草 樹林 空地 燒得 一片 焦黑 光禿禿 住戶 指控 煙火 引發 大火 已經 燒到 保護 用地 質疑 業者 違法 開發 燒烤店 業者 一點點 土地 來問 對此 台中市 發局 表示 餐廳 所屬 台中港 特定 區計畫 第二種 住宅區 另一邊 確實 保護區 用地 財損 火燒 原因 還要 調查 一次 火警 嚇壞 住戶 槓上 餐廳 業者 差點 新年 第一 連家</td>\n",
       "      <td>社會</td>\n",
       "      <td>全球</td>\n",
       "    </tr>\n",
       "    <tr>\n",
       "      <th>1041</th>\n",
       "      <td>大陸 空飄 氣球 越台 國軍 危害性 適切 應處 東森 新聞 國防部 今天 表示 昨天上午 27 分至 晚上 41 分間 偵獲 中共 空飄 氣球 逾越 台海 中線 穿越 台灣 本島 上空 將視 性質 高度 危害性 採取 適切 應處 手段 相關 措施 均納 規定 國防部 上午 發布共機 動態 統計 昨天上午 時至 今天上午 時止 偵獲 共機 架次 逾越 海峽 中線 延伸線 進入 北部 西南 空域 架次 共艦 艘次 持續 台海 周邊 活動 國軍 運用 任務 艦及 岸置 飛彈 系統 嚴密 監控 應處 中共 空飄 氣球 穿越 台灣 本島 國防部 再次 偵獲 中共 空飄 氣球 分別 昨天上午 27 下午 53 下午 52 分及 晚上 41 偵獲 探空 氣球 逾越 海峽 中線 國防部 進一步 說明 分別 位於 清泉崗 西南方 105 160 159 基隆 西北方 78 高度 2000 8000 2000 4000 續向 東北 飄行 並於 昨天上午 10 48 下午 18 晚上 01 分及 晚上 消失 空軍 公布 航跡 空飄 氣球 穿越 台灣 本島 上空 針對 中共 空飄 氣球 用途 國防部 發言人 立方 少將 接受 中央社 訪問 表示 國防部 密切 監偵 掌握 適切 應處 整其 飄行 路徑 態樣 判斷 研析 立方 強調 進入 台灣 空域 不明 空飄 國軍 運用 聯合 情監 手段 綿密 掌握 通報 民航 單位 確保 飛航 安全 目標 性質 高度 危害性 採取 適切 相對性 應處 手段 具體措施 納入 國軍 戰備 時期 突發狀況 處置 規定 律定</td>\n",
       "      <td>社會</td>\n",
       "      <td>要聞</td>\n",
       "    </tr>\n",
       "    <tr>\n",
       "      <th>1050</th>\n",
       "      <td>39 刀棄屍 路邊 王欣儀 面目全非 冷血 殺手 下場 東森 新聞 國三生 死亡 廢死 議題 成為 近日 社會 熱議 話題 國民黨 台北市 議員 王欣儀 臉書 發文 談及 親姊姊 19 追求者 殘忍 殺害 棄屍 路邊 手段 相當 殘忍 這名 追求者 下場 曝光 王欣儀 臉書中 提到 姊姊 王婉儀 人們 目光 焦點 外貌 出眾 校園 裡的 校花 多才多藝 未來 大放異彩 沒想到 19 那年 遭到 愛慕者 殘忍 殺害 那名 男同學 追愛 連刺 39 刀刀 直擊 要害 奪走 一名 少女 生命 當時 白髮人 不送 黑髮人 習俗 只能 當時 17 王欣儀 隨著頌經 牽魂 法師 台南 殯儀館 認屍 只見 冰櫃 裡躺 姊姊 早已 面目全非 王欣儀 回憶 過去 仍難 悲痛 心如刀割 1987 王婉儀 就讀 高雄海專 同校 同學 志中 竟將 租屋 冷血 殺害 棄屍 路邊 當時 轟動 社會 這名 殺人 迅速 逮捕 1989 12 21 被判 死刑 不到 周便 執行 完畢 事實上 戴立 忍過去 春華 LifeShow 節目 透露 初戀女友 正是 台北市 議員 王欣儀 姊姊 當時 軍中 當兵 電視 看到 女友 追求者 39 刀棄屍 新聞 情緒 崩潰 當時 軍方 做出 傻事 還將 暫時 關入 坑道 裡的 小房間 十年 時間</td>\n",
       "      <td>社會</td>\n",
       "      <td>要聞</td>\n",
       "    </tr>\n",
       "    <tr>\n",
       "      <th>1058</th>\n",
       "      <td>彰化 自來水 爆管 路面 瞬間 爆炸 驚悚 畫面 東森 新聞 上午 彰化縣 員林市 莒光 路上 突然 發生 自來水管 爆裂 意外 爆管 威力 相當 柏油路 炸開 噴水 不斷 毀損 範圍 長達 10 公尺 驚悚 畫面 隨之 曝光 上午 47 彰化 員林 莒光 路上 發生 自來水管 爆管 意外 爆管 威力 之大 柏油路 面都 炸開 現場 不斷 噴水 自來水 公司 表示 當時 正在 進行 鳥嘴 人工湖 新設 管線 工程 水管 裝好 加壓 測試 曉得 水管 突然 爆開 還好 造成 人員傷亡 正在 搶修 事發 路段 當時 車流 一瞬間 路面 突然 爆炸 煙塵 四起 整個 柏油路 隆起 湧出 噴泉 不斷 路旁 溢流 目擊 民眾 驚呼 可怕 地震 有搖 一下 員林市 代表 林育生 透露 當時 車子 像是 日本 地震 那種 感覺 有民眾 心有餘悸 自來水 公司 透露 當時 正在 鳥嘴 人工湖 新設 管線 工程 測試 水管 壓力 突然 發生 爆管 造成 溢流 之前 施工單位 試水 過程 產生 狀況 導致 柏油路 裂開 水勢 突然 一發 不可收拾 爆管 壓力 強大 整條 道路 炸毀 所幸 當時 無人 傷亡 自來水 公司 施工單位 正在 善後 搶修 這裡 屬於 新設 管線 影響 民生 供水</td>\n",
       "      <td>社會</td>\n",
       "      <td>全球</td>\n",
       "    </tr>\n",
       "    <tr>\n",
       "      <th>1069</th>\n",
       "      <td>國道 飆速 402 公里 連換 車道 警方 回應 東森 新聞 近日 一段 影片 網路 瘋傳 內容 一名 女子 國道 進行 極速 飆車 達到 402 公里 時速 這名 女子 影片 分享 網路上 表示 連假 國道 半夜 紅斑 引起 網友 熱議 PO 書社 爆料 公社 公開 發文 分享 一段 飆車 影片 寫道 連假 國道 半夜 紅斑 這輛 改裝 時速 時速 270 公里 迅速 飆升 20 狂飆 402 公里 駕駛 這段 時間 變換 車道 貼文 曝光 許多 網友 紛紛 撻伐 強烈 譴責 駕駛 行為 無奈 不滾 封閉 道路 擔心 撞死 只怕 撞死 牽連 危害 人間 大牌 監理 站住 半年 知道 國道 時速 100 多麼 愜意 眼尖 網友 發現 這名 女網友 分享 影片 片段 YouTube 頻道 阿北 機器 世界 2023 月底 上傳 影片 知道 R35 發生 TOPSPEED402km 1000hp 以上 馬力 R35GT 東西 下篇 相同 對此 第六 公路 警察 大隊 發表聲明 指出 影片 疑似 難以 確認 真實性 無法 女網友 進行 罰款 警方 呼籲 大眾 遵守 速限並 保持 安全 距離 確保 道路 安全 所有 駕駛 平安 回家 最為 重要</td>\n",
       "      <td>社會</td>\n",
       "      <td>全球</td>\n",
       "    </tr>\n",
       "    <tr>\n",
       "      <th>1091</th>\n",
       "      <td>國三生 命案 乾妹 涉案 情節 警擬 再聲 拘票 東森 新聞 警方 排除 補全 事證 再次 聲請 拘票 正是 乾妹 整天 在外 社群 平台 懷疑 涉案 情節 更高 乾哥 少年 觀護 收容 過去 對外 打著 天道盟 華山 份子 名號 囂張 行事 出人命 傳出 黑幫 緊急 切割 江湖 下達 封殺令 無限期 禁止 幫派 收納 乾哥 成員 知情 人士 宮廟 年輕人 宮廟 角頭 事情 幫派 名號 事情 根本 不算 損害 幫派 名義 國三生 案鬧 沸沸揚揚 網紅小 商人 出手 丟臉 丟到 國外 美國 紐約時報 廣場 第七 大道 LED 看板 洛杉磯 高速公路 廣告牌 透露 已經 YouTube 平台 廣告 律師 李育 影音 平台 提供 服務 平台 事前 審查 影片 廣告 法律依據 實際上 辦法 嚴格 審查 辦法 要求 影音 平台 負較 責任 網紅 涉嫌 違反 資法 本刑 以下 徒刑 是否 能夠 法辦 台灣 海外</td>\n",
       "      <td>社會</td>\n",
       "      <td>全球</td>\n",
       "    </tr>\n",
       "    <tr>\n",
       "      <th>1101</th>\n",
       "      <td>獨家 天暗 特斯拉 停車 轉彎 防撞 爆胎 東森 新聞 開進 停車場 全車 先嚇 蝦米 看到 這下 特斯拉 還動 一看 原因 輪胎 大洞 消風 兇手 車道 防撞 已經 咪咪 冒冒 特斯拉 車主 車子 比較 大台 關係 視角 看不到 防撞 陰雨 視線 不良 完全 看到 柱子 地上 貓眼石 反光 貓眼石 看到 邊角 一點 銳利 輪胎 一刮到 薄片 下來 晚上 點多 車主 開著 剛交車 特斯拉 ModelX 朋友 聚餐 停進 新北市 汐止 區公所 停車場 這裡 車道 210 公分 ModelX 寬約 200 公分 車主 轉彎 注意 碰撞 車道 防撞 輪胎 換新 特斯拉 車主 換車 有點 覺得 車子 考慮一下 比較 車寬 真的 不夠 區公所 附設 停車場 過去 地磚 輪胎 進行 人車 分流 裝設 防撞 但裝 防撞 之後 輪胎 碰撞 留下 痕跡 看看 痕跡 知道 經驗值 不小 拖吊 業者 透露 地點 原因 爆胎 救援 30 公所 緊急 修復 加裝 塑膠 材質 修飾 圓角 裡面 加泡 達到 一定 防護 作用 有人 呼籲 停車 注意 輪胎 破洞 荷包 漏洞</td>\n",
       "      <td>社會</td>\n",
       "      <td>財經</td>\n",
       "    </tr>\n",
       "    <tr>\n",
       "      <th>1108</th>\n",
       "      <td>商人 乾哥 廣告 第二 揭一 主因 枉死 東森 新聞網 紅小 商人 美國 紐約時報 廣場 刊登 廣告 揭露 乾哥 乾妹 真實 身分 抗議 兒少 隨後 臉書 發文 表示 乾哥 乾妹 早有 開山 鬥毆 紀錄 揭露 個資 受到 保護 希望 能夠 推動 修法 修正 相關 限制 希望 這位 同學 最後 犧牲者 商人 臉書 表示 廣告 已有 第二 版本 紐約 廣告商 審查 確實 嚴格 成功 登上 白天 看過 可惜 聲音 這次 改良 版本 上面 多一些 資訊 網友 覺得 問題 送審 商人 說明 他掛 廣告宣傳 意義 簡單 兩隻 猴子 之前 已經 開山 鬥毆 還霸凌 女同學 新聞 揭露 個資 受到 保護 商人 指出 今天 這位 風紀 股長 知道 對方 危險 也許 就會用 方式 處理 希望 能夠 推動 修法 條款 名稱 死者 名字 命名 紀念 希望 這位 同學 最後 犧牲者 商人 補充 法律 不該 過度 保護 加害人 之前 有過 太多 案例 加害人 個資 保護 造成 許多 無法彌補 遺憾 網友 商人 臉書 留言 表示 保護 垃圾 這位 同學 犧牲 猴子 反省 支持 商人 終於 有人 伸出手 猴子 伸出 公義 暴力 傷害 前科 理所當然 公開 告知 大眾 無辜 社會 大眾 迴避 侵害 風險 權利</td>\n",
       "      <td>社會</td>\n",
       "      <td>全球</td>\n",
       "    </tr>\n",
       "    <tr>\n",
       "      <th>1130</th>\n",
       "      <td>黑色 煉獄 噁心 重油 汙染 半個 台灣 凶手 不到 東森 新聞 東縣 綠島 柚子 海岸 去年 12 大量 重油 污染 原本 澄澈 海岸 瞬間 變成 黑色 煉獄 洋流 影響 飄向 東北角 半個 台灣 海岸 慘遭 汙染 導致 養殖業 損失 千萬元 業者 指控 環保局 林務局 踢皮球 恐讓 再度 季風 洋流 四處 飄散 成為 海洋 惡夢 2023 12 26 上午 CTWANT 記者 抵達 東北角 海岸 貢寮 香蘭 過去 絕美 海景 被評 東北角 秘境 侵襲 面目全非 海邊 石頭 沾滿 重油 砂礫 出現 大面積 凝固 油漬 包裹 黑油 漂流 岸邊 昔日 海天一色 黑色 煉獄 了解 東北角 來源於 綠島 不明 船隻 去年底 綠島 附近 公海 偷排 廢棄 重油 柚子 海岸 受到 嚴重 污染 恐怖 洋流 一路 漂向 東北角 台東 花蓮 宜蘭 基隆 屏東 陸續 發現 油污 300 多公里 貢寮 地區 慘遭 波及 貢寮 香蘭 地區 民眾 從事 養殖業 維生 突如其來 猶如 晴天霹靂 重創 當地 養殖業 業者 私下 粗估 損失 兩成 至少 千萬元 地方 政府 態度 民眾 無比 心寒 當地 潛水 團隊 2023 12 21 發文 指控 民眾 新北市 環保局 請求 幫助 希望 協助 處理 養殖業 污染 地區 環保局 態度 消極 表示 該處 私人 土地 養殖戶 同意 進入 不便 干涉 汙染 區域 私人 土地 當地 民眾 從頭到尾 環保局 聯繫 質疑 環保局 甩鍋 卸責 面對 民眾 怒火 隆隆 潛水 團體 透過 社群 網站 不斷 發聲 環保局 終於 找來 委外 廠商 處理 當地 海岸邊 出現 許多 沾滿 黑油 漂流 民眾 自行 清理 林務局 阻止 林務局 禮拜 漂流 木是 國家 財產 處理 養殖業 吳小姐 無奈 表示 附近 居民 擔心 漂流 木上 油污 造成 二度 污染 希望 將其 移走 受到 林務局 提醒 肆意 移除 業者 只能 成天 提心吊膽 稍微 漲潮 擔心 剩餘 油污 是否 再度 破壞 生態 對此 環保局 澄清 表示 2023 12 10 接獲 通報 香蘭 海蝕 平台 地區 受到 油污 污染 派員 前往 應變 當時 人員 清理 養殖場 附近 海蝕 平台 遇到 一名 男性 事後 查證 應是 地主 哥哥 應變 同仁 前往 關心 詢問 是否 需要 協助 對方 則先 表示 目前 需要 想先 自行 清理 提供 清理 物資 吸油 棉片 應變 同仁 提供 吸油 棉片給 對方 直到 2023 12 26 環保局 輾轉 接獲 養殖場 透過 渠道 反映 需要 協助 隨即 前往 幫忙 總計 清出 320 公斤 資材 廢棄物 已於 派遣 應變 人員 清理 完畢 林務局 解釋 當時 民眾 疑似 遇到 林務局 人員 提醒 漂流 處理 問題 林務局 調查 2023 12 29 接獲 通報 派員 前往 探查 目前 已經 協助 聯絡 相關 局處 安排 處置 請民眾 擔心</td>\n",
       "      <td>社會</td>\n",
       "      <td>全球</td>\n",
       "    </tr>\n",
       "    <tr>\n",
       "      <th>1143</th>\n",
       "      <td>特斯拉 公審 屎樣 車主 不爽 歡迎 砸車 東森 新聞 車主 停車 技術 成熟 常會 懷疑 駕照 雞腿 換的 網友 近日 特斯拉 車友 書社 發文 公審 一輛 白色 特斯拉 停車 越線 台車給 跨越 停車 實在 看不下去 怒批 狗屎 樣子 沒想到 貼文 留言 區卻 釣出 當事 車主 留言 回擊 網友 圍觀 好戲 PO 近日 書社 TESLATaiwanModel3 特斯拉 台灣 車主 發文 貼出 新北市 GlobalMall 環球 購物中心 停車場 拍攝 照片 直指 畫面 白色 特斯拉 狗屎 樣子 只見 白車 車身 左側 明顯 超出 停車 格位 緊貼 左側 紅色 特斯拉 導致 紅車 乘客 難以 上下車 目擊者 憤慨 拍照 PO 公審 貼文 曝光 引發 網友 熱議 關口 喝醉 可憐 考得過 駕照 腦子 不好 感覺 撒嬌 過去 白車 下車 高級 高級 天氣 冷靠 一點 網友 表示 應該 原先 有車 空間 留給 需要 還原 案發現場 之前 右邊 那台 沒想到 貼文 釣出 白色 特斯拉 車主 留言 回應 你好 白車 車主 照片 空位 一台 越線 停著 狗屎 樣子 的車 只好 旁邊 不爽 歡迎 砸車 網友 驚呼 金派 了不起 負責 超派 這是 一起 狗屎 概念 CTWANT 授權 轉載</td>\n",
       "      <td>社會</td>\n",
       "      <td>全球</td>\n",
       "    </tr>\n",
       "    <tr>\n",
       "      <th>1149</th>\n",
       "      <td>蘋果 耳機 不見 定位 員工 宿舍 業者 稱別 報警 東森 新聞 有民眾 年時 入住 屏東縣 車城 一間 飯店 指稱 放在 房間內 蘋果 耳機 不見 回家 想起 耳機 定位 功能 飯店 反應 員工 宿舍區 業者 要求 報警 處理 耗到 耳機 沒電 定位 消失 報警 飯店業 反駁 協尋 發現 阻止 客人 報警 雙方 各說各話 蘋果 耳機 不見 透過 程式 發出 聲響 加速 發現 消失 耳機 有民眾 匿名 po 網說 去年 12 30 入住 車城 一間 飯店 跨年 隔天 蘋果 AirpodsPro 不見 飯店 反映 飯店 竟要 他別 報警 聲張 業者 否認 阻止 民眾 報警 而民眾 回家 想起 定位 功能 打開 一看 發現 耳機 定位 飯店 垃圾場 但民眾 搜尋 顯示 旁邊 飯店 宿舍 事發 至今 一周 耳機 沒電 已經 無法 追蹤 民眾 Po 網友 應該 過去 應該 報警 處理 面對 指控 業者 有話要說 當事 飯店 執行長 蔡承憲 客人 截圖 定位 位置 派員 一同 尋找 要求 客人 報警 飯店業 當天 現在 房間內 抽屜 床底 沙發 掀起 發現 耳機 大批 員工 當事人 定位 位置 好久 發現 耳機 報警 當事人 辦法 當事 飯店 執行長 蔡承憲 耳機 真的 很小 還在 尋找 消失 原因 丟的 耳機 所有權 民眾 飯店 接洽 朋友 旁邊 錄影 憑證 民眾 回來 報警 沒電 尋找 街訪民眾 認為 耳機 不見 當事人 應該 打開 手機 程式 尋找 已經 離開 飯店 打開 定位 功能 早就 以晚 飯店 客人 耳機 兩方 說法不一 羅生門</td>\n",
       "      <td>社會</td>\n",
       "      <td>全球</td>\n",
       "    </tr>\n",
       "    <tr>\n",
       "      <th>1160</th>\n",
       "      <td>誇張 五月天 演唱會 車頂 搖擺 東森 新聞 有民眾 網路上 爆料 洲際 棒球場 一名 婦人 一邊 享受 五月天 演唱會 一邊 轎車 車頂 婦人 忘我 完全 不顧 眼光 一幕 前方 駕駛 影片 曝光 引發 網友 熱議 女子 沉浸 音樂 節拍 不停 擺動 身子 忘我 有沒有 搞錯 位置 地板 轎車 車頂 誇張 情形 發生 洲際 棒球場 當時 樂團 五月天 正在 棒球場 舉辦 演唱會 這名 婦人 外頭 停車場 轎車 車頂 興奮 一幕 前方 轎車 駕駛 下來 PO 文的民眾 寫下 這位 阿姨 已經 兩台 汽車 車頂 車內 還會 聽到 聲響 影片 曝光 引來 網友 撻伐 表示 真的 誇張</td>\n",
       "      <td>社會</td>\n",
       "      <td>全球</td>\n",
       "    </tr>\n",
       "    <tr>\n",
       "      <th>1165</th>\n",
       "      <td>駁二網 景點 毀了 大媽 椅子 樂譜 木頭 應聲 東森 新聞 高雄駁 藝術 特區 一座 裝置 藝術 一千多 木頭 椅所 組成 椅子 樂譜 熱門 拍照 景點 日前 有民眾 目擊 一位 婦人 拍照 不顧 禁止 攀爬 告示 站上 木椅 斷裂 駁二 管理 單位 準備 報警 求償 一名 網友 爆料 公社 二社 PO 影片 照片 大媽 素質 明明 右邊 告示牌 禁止 攀爬 一位 婦人 拍照 椅子 樂譜 後椅 斷裂 兩個 婦人 尷尬 椅子 屍體 知道 網友 看到 影片 表示 世界 最不缺 好好 藝術品 一定 破壞 還自以 美照 習慣 大媽 摔下來 還會 要求 賠償 大媽 拍照 總是 喜歡 碰到 覺得 到此一遊 感覺 比方說 一定 要將 上面 樹枝 往下拉 藝術 裝置 弄壞 修好 簡單 規矩 椅子 樂譜 2017 完工 設計師 選用 至少 1137 張汰 客椅 設計 現場 禁止 攀爬 乘坐 告示 過去 椅子 樂譜 破壞 還曾 封閉 檢修 這次 文化局 不忍 直接 報警 婦人 求償 駁二 管理 單位 指出 影片 中民眾 不當 攀爬 攀登 行為 造成 裝置 藝術 受損 尋求 警方 協助 針對 作品 破壞 破壞 民眾 求償 維修 費用</td>\n",
       "      <td>社會</td>\n",
       "      <td>全球</td>\n",
       "    </tr>\n",
       "  </tbody>\n",
       "</table>\n",
       "</div>"
      ]
     },
     "execution_count": 162,
     "metadata": {},
     "output_type": "execute_result"
    }
   ],
   "execution_count": 162
  },
  {
   "cell_type": "code",
   "metadata": {
    "ExecuteTime": {
     "end_time": "2024-04-08T03:14:24.992895Z",
     "start_time": "2024-04-08T03:14:24.987383Z"
    }
   },
   "source": "false_pred.loc[1041, :]",
   "outputs": [
    {
     "data": {
      "text/plain": [
       "words          大陸 空飄 氣球 越台 國軍 危害性 適切 應處 東森 新聞 國防部 今天 表示 昨天上午 27 分至 晚上 41 分間 偵獲 中共 空飄 氣球 逾越 台海 中線 穿越 台灣 本島 上空 將視 性質 高度 危害性 採取 適切 應處 手段 相關 措施 均納 規定 國防部 上午 發布共機 動態 統計 昨天上午 時至 今天上午 時止 偵獲 共機 架次 逾越 海峽 中線 延伸線 進入 北部 西南 空域 架次 共艦 艘次 持續 台海 周邊 活動 國軍 運用 任務 艦及 岸置 飛彈 系統 嚴密 監控 應處 中共 空飄 氣球 穿越 台灣 本島 國防部 再次 偵獲 中共 空飄 氣球 分別 昨天上午 27 下午 53 下午 52 分及 晚上 41 偵獲 探空 氣球 逾越 海峽 中線 國防部 進一步 說明 分別 位於 清泉崗 西南方 105 160 159 基隆 西北方 78 高度 2000 8000 2000 4000 續向 東北 飄行 並於 昨天上午 10 48 下午 18 晚上 01 分及 晚上 消失 空軍 公布 航跡 空飄 氣球 穿越 台灣 本島 上空 針對 中共 空飄 氣球 用途 國防部 發言人 立方 少將 接受 中央社 訪問 表示 國防部 密切 監偵 掌握 適切 應處 整其 飄行 路徑 態樣 判斷 研析 立方 強調 進入 台灣 空域 不明 空飄 國軍 運用 聯合 情監 手段 綿密 掌握 通報 民航 單位 確保 飛航 安全 目標 性質 高度 危害性 採取 適切 相對性 應處 手段 具體措施 納入 國軍 戰備 時期 突發狀況 處置 規定 律定\n",
       "artCatagory                                                                                                                                                                                                                                                                                                                                                                                                                                                                                                                                                                                                                                                                                                      社會\n",
       "pred                                                                                                                                                                                                                                                                                                                                                                                                                                                                                                                                                                                                                                                                                                             要聞\n",
       "Name: 1041, dtype: object"
      ]
     },
     "execution_count": 168,
     "metadata": {},
     "output_type": "execute_result"
    }
   ],
   "execution_count": 168
  },
  {
   "cell_type": "code",
   "metadata": {
    "ExecuteTime": {
     "end_time": "2024-04-08T03:14:31.365017Z",
     "start_time": "2024-04-08T03:14:31.360891Z"
    }
   },
   "source": "pprint(false_pred['words'][1041])",
   "outputs": [
    {
     "name": "stdout",
     "output_type": "stream",
     "text": [
      "('大陸 空飄 氣球 越台 國軍 危害性 適切 應處 東森 新聞 國防部 今天 表示 昨天上午 27 分至 晚上 41 分間 偵獲 中共 空飄 氣球 逾越 '\n",
      " '台海 中線 穿越 台灣 本島 上空 將視 性質 高度 危害性 採取 適切 應處 手段 相關 措施 均納 規定 國防部 上午 發布共機 動態 統計 '\n",
      " '昨天上午 時至 今天上午 時止 偵獲 共機 架次 逾越 海峽 中線 延伸線 進入 北部 西南 空域 架次 共艦 艘次 持續 台海 周邊 活動 國軍 運用 '\n",
      " '任務 艦及 岸置 飛彈 系統 嚴密 監控 應處 中共 空飄 氣球 穿越 台灣 本島 國防部 再次 偵獲 中共 空飄 氣球 分別 昨天上午 27 下午 '\n",
      " '53 下午 52 分及 晚上 41 偵獲 探空 氣球 逾越 海峽 中線 國防部 進一步 說明 分別 位於 清泉崗 西南方 105 160 159 基隆 '\n",
      " '西北方 78 高度 2000 8000 2000 4000 續向 東北 飄行 並於 昨天上午 10 48 下午 18 晚上 01 分及 晚上 消失 空軍 '\n",
      " '公布 航跡 空飄 氣球 穿越 台灣 本島 上空 針對 中共 空飄 氣球 用途 國防部 發言人 立方 少將 接受 中央社 訪問 表示 國防部 密切 監偵 '\n",
      " '掌握 適切 應處 整其 飄行 路徑 態樣 判斷 研析 立方 強調 進入 台灣 空域 不明 空飄 國軍 運用 聯合 情監 手段 綿密 掌握 通報 民航 '\n",
      " '單位 確保 飛航 安全 目標 性質 高度 危害性 採取 適切 相對性 應處 手段 具體措施 納入 國軍 戰備 時期 突發狀況 處置 規定 律定')\n"
     ]
    }
   ],
   "execution_count": 169
  },
  {
   "metadata": {},
   "cell_type": "markdown",
   "source": "# 看錯誤預測的財經樣本"
  },
  {
   "metadata": {
    "ExecuteTime": {
     "end_time": "2024-04-08T03:15:45.495018Z",
     "start_time": "2024-04-08T03:15:45.485896Z"
    }
   },
   "cell_type": "code",
   "source": "false_pred.loc[false_pred['artCatagory']=='財經', :].head(50)",
   "outputs": [
    {
     "data": {
      "text/plain": [
       "                                                                                                                                                                                                                                                                                                                                                                                                                                                                                                                                                                                                                                                                                                                                                                                                                                                                                                                                                                                                                     words  \\\n",
       "2                                                                                                                                                                                                                                                                                                                                                                                                                                                                                                                                                                                                                                        陽明 海運 年終 落差 嚴重 去年 13 今年 數字 嚇死人 東森 新聞 疫情 期間 航運 相關 產業 獲利 頗豐 陽明 海運 2022 年終 高達 13 羨煞 民眾 現在 消息 指出 陽明 海運 日前 召開 董事會 決議 今年 年終獎金 每年 固定 13 薪資 形同 年終獎金 去年 相比 有著 落差 了解 陽明 海運 去年 年終 13 2023 年度 分紅 20 整個 多達 33 媒體 指出 陽明 海運 董事會 決議 年終獎金 僅有 推估 2024 年終 分紅 僅有 固定 13 薪資 總和 3.2 好消息 陽明 海運 公務員 標準 明年 員工 加薪 4% 提到 陽明 海運 具有 官股 性質 年終獎金 只能 12 分紅 制度 方面 陽明 海運 明訂 稅前 獲利 1% 員工 紅利 數字 遠高於 長榮 海運 0.5% 萬海 0.6%   \n",
       "5                                                                                                                                                                                                                                                                                                                                                                                                                                                                         元老 振榮 辭世 業界 緬懷 生前 海派 人緣 東森 新聞 中鋼前 總經理 振榮 參與 公司 階段 擴建 歷程 業界 享有 聲譽 晚年 飽受 癌症 摧殘 住進 安寧 病房 25 凌晨 辭世 享壽 77 令人 不勝唏噓 振榮 出生 高雄 鳳山 礦冶 畢業 考進 中鋼 出身 政治 世家 叔叔 義秋 外號 鳳山 政商 實力雄厚 政治 一途 1990 年代 擔任 總經理 中鋼 黃埔 一期 員工 基層 做起 一晃眼 12 民營化 過程 人脈 帶領 團隊 立法院 朝野 溝通 中鋼 國營 轉為 民營 慢慢 奠定 基礎 成為 台灣 最大 鋼鐵企業 振榮 傳出 病逝 各界 紛紛 緬懷 幹部 口吃 喝酒 我弟 豪邁 性格 印象 深刻 稱讚 對方 性情中人 喜歡 交朋友 公司 公關 經他 之手 順遂 公司 基層 親切 幹部 嚴格 幹部 以身作則 鋼鐵 回憶 振榮 當年 帶領 民營化 難能可貴 創造 時代 交棒給 下一代 翁朝棟 帶領 創下 建廠 50 年來 最高 營運 獲利 績效 振榮 退休 每次 提到 此事 有榮 傑出 幹部 拍胸脯 大聲 振榮 永遠 長官 文章 來源 中鋼前 總座 振榮 辭世 享壽 77 業界 緬懷 生前 海派 人緣 CTWANT 授權 轉載   \n",
       "10  美政府 維持 Apple Watch 進口 禁令 蘋果 上訴 東森 新聞 美國 總統 拜登 政府 選擇 否決 專利 侵權 裁定 蘋果公司 Apple 今天 表示 旗下 智慧 手錶 AppleWatch 最新型 號的 進口 禁令 提起 上訴 綜合 法新社 路透社 這項 針對 蘋果 最新 智慧 手錶 型號 禁令 今天 生效 AppleWatchSeries9 AppleWatchUltra2 無法 美國 實體 商店 或線 銷售 這項 禁令 大型 科技 公司 具有 價值 專利 展開 最新 法律 角力 谷歌 Google 針對 揚聲器 技術 Sonos 打官司 美國 國際貿易 委員會 ITC 10 裁定 禁止 進口 侵犯 一項 測定 血氧 含量 專利技術 蘋果 智慧 手錶 型號 這項 禁令 源起 Masimo 公司 2021 ITC 提出 申訴 這家 醫療 設備 製造商 指控 蘋果 侵犯 公司 感測 技術 測量 血氧 含量 專利 Masimo 這項 技術 發明 蘋果 挖角 員工 取得 技術 美國 貿易 代表 USTR 今天 聲明 指出 謹慎 商議 貿易 代表 戴琪 KatherineTai 決定 撤銷 ITC 這項 裁定 ITC 決定 2023 12 26 日成 最終 裁定 白宮 有權 撤銷 進口 禁令 狀況 鮮少 發生 蘋果 主張 ITC 裁決 錯誤 應予 撤銷 並向 美國聯邦 法院 提起 上訴 蘋果 發言人 表示 公司 針對 這項 禁令 華盛頓 美國聯邦 巡迴 上訴 法院 CourtofAppealsfortheFederalCircuit 提起 上訴 蘋果 今天 聲明 中說 強烈 同意 ITC 裁定 由此 產生 排除 命令 採取 措施 盡快 美國 顧客 恢復 供應 AppleWatchSeries9 AppleWatchUltra2 蘋果 請求 聯邦 巡迴 上訴 法院 暫停 禁令 至少 暫停 美國 海關 邊境 保護局 CBP 判定 重新 設計 過的 蘋果 智慧 手錶 型號 是否 侵犯 Masimo 專利 並在 法院 考慮 蘋果 請求 暫停 禁令 蘋果 美國 海關 邊境 保護局 預定 明年 12 做出 決定 耶誕 假期 前夕 蘋果 本月 21 已將 產品 自線 蘋果 商店 AppleStore 下架 實體 零售 商店 24 停止 販售   \n",
       "13                                                                                                                                                                                                                                                                                                                                                                                                                                                                                                                                                                                                                                      東南亞 旅遊 注意 星馬 元旦 將調 消費稅 東森 新聞 打算 東南亞 旅遊 民眾 注意 新加坡 將從 元旦 上調 消費稅 百分點 9% 因應 老齡化 人口 激增 醫療保健 成本 上漲 馬來西亞 將從 明年 銷售 服務 稅調 高到 8% 元旦假期 就要 民眾 規劃 出國 過去 東南亞 國家 注意 明年 元旦 新加坡 將把 商品 服務 稅率 8% 調升 9% 星國 穩定 增稅 擴大 財政 基礎 因應 醫療 照護 成本 高漲 馬來西亞 稅收 東南亞 國家 居後段 將從 明年 銷售 服務 調高 百分點 8% 糧食 飲料 通訊 必要 支出 不在 調升 範圍 各國 國際航班 持續 恢復 目前 中國 官方 發布 最新 數據 預估 元旦 期間 日均 出入境 旅客 達到 156 萬人次 2023 元旦 增長 超過 五倍 回到 2019 九成 水平   \n",
       "16                                                                                                                                                                                                                                                                                                                       聯亞 生技 負責人 王長 怡傳 跳票 集團 財務狀況 引熱議 東森 新聞 聯亞 生技 集團 經營權 爭奪 多時 現任 負責人 王長 女兒 胡世一指 無權 擔任 董事長 一職 母女 分裂 派並 爆發 多起 訴訟 傳出 聯亞 生技 集團 王長 掌控 相關 公司 積欠 貨款 遭向 法院 聲請 支付 命令 追討 傳出 王長 財務 出現 狀況 跳票 聯亞生 技是 國發 基金 投資 項目 負責人 財務 未處理 影響 公司 營運 影響 廣大 納稅人 權益 週刊 調查 依據 今年 台灣 票據交換 所票 查詢 記錄 今年 11 28 王長 一筆 退票 日期 今年 10 18 金額 200 萬元 退票 紀錄 退票 理由 存款 不足 清償 贖回 日期 今年 10 27 王長 投資 有限公司 筆的 退票 紀錄 總金額 120 萬元 分別 今年 13 一張 票面額 1000 萬元 12 張支 票面額 分別 20 萬元 50 萬元 50 萬元 退票 理由 存款 不足 清償 日期 空白 週刊 調查 今年 新竹 地院 收到 聯亞 生技 集團 聯合 生物製藥 公司 追債 案件 分別 請求 給付 貨款 支付 命令 給付 價金 案件 金額 萬餘元 百萬元 不等 至今 10 部分 案件 陸續 和解 收到 款項 金額 法院 解決 傳出 王長 跳票 聯亞 生技 集團 財務狀況 相關 廠商 發熱 更多鏡 週刊 王長 胡世一 母女 鬧翻 聯亞 生技 經營權 持續 爭訟 聯亞 母女 紛爭 再起 兩派 發聲明 捍衛 立場 凍結 員工 薪資 羅生門 聯亞 女兒 反控 王長 說謊   \n",
       "19                                                                                         聚焦 真相 財經專家 淪為 看板 詐騙 猖獗 解方 東森 新聞 現在 社群 平台 看到 財經專家 號召 投資 絕大部分 詐騙 理財 廣告 難以 辨別真假 已經 越來越 多人 上當受騙 社群 平台 變成 犯罪 溫床 分辨真假 今天 東森周 財金 領域 知名 人物 上市 公司 創辦人 夫人 藝人 社群 平台 上放 照片 搭配 說服力 十足 文字 投資 理財 輕點 一下 滑鼠 創造財富 網路 詐騙 手法 真假難辨 已經 無法無天 主持人 美人 氣到 冒煙 已經 報警 教人 做股票 理財 主持人 李兆華 看到 影片 老師 下面 廣告 字眼 贊助 字眼 掛我 名字 詐騙 苦主 受害者 名人 深受其害 知名度 越高 大眾 戒心 預防 警務 李琦美 投資 群組裡面 成員 詐騙 集團 裡面 吹捧 老師 很神 提供 標股 賺錢 賺騙 集團 民眾 獲得 一點 獲利 那民眾 投資 金錢 以後 理由 拖延 民眾 出金 民眾 退出 群組 真的 防不勝防 數據 顯示 投資 詐欺 案件 越來越 財損 金額 越來越 109 不到 三千件 111 六千 金額 10.2 增加 34.2 社群 平台 更是 已經 成為 犯罪 溫床 全台 2172 網路 使用 人數 來說 2135 萬人 社群 平台 用戶 每人每天 平均 小時 使用 社群 平台 成為 詐騙 集團 魚池 災情慘重 政府 現在 亡羊補牢 修法 因應 證期局 副局長 張子敏 要求 平台 業者 實名制 刊播 刊登 出資者 相關 資訊 知道 廣稿 找到 打詐 源頭 設立 防護 金管會 數位 刑事 三方 合作 未來 增訂 證券 投資信託 顧問 落實 證券 投資 廣告 實名制 下架 機制 重要 平台 業者 要負 連帶責任 證期局 副局長 張子敏 投資人 誤信 誤信 之後 最後 受到 損害 求償 法院 提出 提出 審理 當初 平台 業者 假設 通知 從來不 處理 連帶責任 離不開 網路 時代 社群 平台 幾分 真實 幾分 虛假 斷開 詐騙 集團 雙手 成為 政府 現在 重要 課題 投資人 還沒成 風口 上會 飛的豬 變成 詐騙 集團 眼中 一塊 肥肉   \n",
       "21                                                                                                                                                                                                                                                                                                                                                                                                                                                                                                                                                              Apple Pay 信用卡 到期 哀號 時間 還沒到 東森 新聞 近期 網友 表示 ApplePay 出現 奇怪 問題 明明 綁定 信用卡 還沒 到期 ApplePay 一直 顯示 到期 無法 使用 網友 表示 遇到 類似 事情 網友 PTTiOS 發文 內容 表示 31 使用 ApplePay 購物 ApplePay 一直 顯示 信用卡 到期 要求 更新 信用卡 資訊 依據 要求 更新 帳單 地址 相關 資訊 ApplePay 無法 使用 網友 強調 使用 信用卡 2028 到期 文章 曝光 PTT 網友 留言 表示 遇到 類似 情況 包含 國泰 世華 匯豐 聯邦 台新 銀行 用戶 似乎 針對 特定 銀行 出現 問題 網友 分享 解法 像是 臨時 添加 卡片 使用 除掉 問題 卡片 重新 添加 正常 使用 目前 為止 清楚 問題 出現 清楚 官方 修正 問題 文章 來源 明明 時間 還沒到 ApplePay 信用卡 到期 網友 哀號 無法 付款 CTWANT 授權 轉載   \n",
       "25                                   30 Apple Watch 停售 東森 新聞 蘋果 旗下 智慧型 手錶 AppleWatch 2023 年底 法院 判決 侵權 成立 AppleWatchUltra2 AppleWatchSeries9 兩款 型號 遭到 停售 後續 蘋果 再次 提出 上訴 手錶 還能 短暫 販售 年內 億美元 折合 新台幣 30 億元 起訴 蘋果 侵權 醫療 科技 公司 Masimo 執行長 亞尼 JoeKiani 外媒 指出 蘋果 2020 AppleWatch 加入 血氧 監測技術 遭到 美國 醫療 科技 公司 Masimo 提告 Masimo 認為 蘋果 AppleWatch 使用 監測技術 已經 侵害到 擁有 光學 監測技術 之後 美國 國際貿易 委員會 ITC 10 26 發布 命令 裁定 蘋果 侵權 行為 成立 停止 銷售 AppleWatchUltra2 AppleWatchSeries9 這項 禁售 令僅 侷限 蘋果 一些 第三方 通路 庫存 店面 依舊 繼續 銷售 AppleWatchUltra2 AppleWatchSeries9 直到 手邊 庫存 為止 後續 美國白宮 審議 期間 並未 駁回 禁售 判決 蘋果 2023 12 27 再次 提出 上訴 這才 AppleWatchUltra2 AppleWatchSeries9 得以 短暫 進行 銷售 醫療 科技 公司 Masimo 執行長 亞尼 JoeKiani 受訪 表示 年內 光是在 蘋果 訴訟 億美元 Masimo 2022 獲利 1.44 億美元 亞尼 表示 蘋果 提出 侵權 訴訟 阻止 認為 根本無法 司法 贏過 蘋果 指出 Masimo 過去 豐富 專利 侵權 訴訟 經驗 2006 年時 一家 血氧儀 設備 廠商 專利 訴訟 獲勝 Masimo 獲得 億美元 賠償 專利 使用費 2016 年時 Masimo 皇家 飛利浦 提出 侵權 訴訟 後續 皇家 飛利浦 億美元 Masimo 達成 和解 亞尼 表示 是否 蘋果 達成 和解 抱持 開放 態度 目前 為止 蘋果 尚未 Masimo 展開 正式 和解 討論 亞尼 強調 他會 持續 蘋果 訴訟 表示 我能 做到 告贏 蘋果 會成 蘋果 變得 更好 契機   \n",
       "26                                                                                                                                                                                                                                                                                                                                               名人 論題 金河 失去 台灣 美國 霸權 終結 東森 新聞 金河 財信 傳媒 董事長 財訊 社長兼 發行人 世界 地方 安全 過去 三年 每年 年初 經濟學 雜誌 喜歡 台灣 地表 危險 地方 外資 訊息 連續 三年 大賣 超台 2.2259 台幣 戰爭 台灣 發生 烏克蘭 以色列 俄羅斯 入侵 烏克蘭 一個月 兩年 以為 這是 速戰速決 三天 解決 戰事 已經 持續 近兩年 雙方 僵持 哈瑪斯 突擊 以色列 以為 以色列 科技 先進 武器 裝備精良 哈瑪斯 很快 殲滅 戰爭 持續 三個 以色列 預告 戰爭 持續 現代化 戰爭 大國 予取予求 陷入 持久 消耗戰 最後 耗竭 國力 集權 獨裁 領袖 戰爭 樂此不疲 這是 掌握權力 必要 手段 最近 朝鮮 領導人 金正恩 恐嚇 要求 三軍 動員 準備 南韓 展開 軍事行動 金正恩 批評 南韓 美國 殖民地 南北 永不 統一 發展 核武 飛彈 試射 已經 成為 金正恩 霸權 利器 經濟學 一再強調 台灣 危險 南北 韓只 38 度線 雙方 一線 之隔 台灣 海峽 至少 135 公里 天險 南海 情勢 菲律賓 首當其衝 中菲 船艦 互撞 單挑 危機四伏 日本 常說 台灣 有事 日本 有事 中日 百年 宿仇 台灣 中國 主權 爭議 日本 比台灣 危險 台灣 地緣 政治 重要性 居正 教授 最好 失去 烏克蘭 美國 面子 難看 失去 台灣 美國 霸權 終結 這也 台灣 處在 浪尖 關鍵 世界 紛爭 不斷 地方 安全 加強 防衛 實力 上策   \n",
       "28                                                                                                                                                                                                                                             日圓 升息 出現 甜甜 跌破 0.22 大關 東森 新聞 投資者 評估 日本 元旦 強震 日本央行 2024 扭轉 寬鬆 貨幣政策 之際 受惠 台幣 跌幅 收斂 日圓 升勢 轉弱 台銀今 中午 日圓 現鈔 賣出 價格 再次 跌破 0.22 大關 現在 若以 10 萬元 新台幣 換匯 去年 同期相比 換到 日圓 2023 日圓 現鈔 匯出 牌告 賣出價 最高 來到 0.2405 10 萬元 新台幣 只能 換到 41 5800 日圓 今天 2024 因牌 告價 來到 0.2199 10 萬元 新台幣 換到 45 4752 日圓 等於 多換 8952 日圓 匯市 交易員 指出 日圓 2023 12 中旬 一度 走弱 市場 隨後 預期 日本央行 及美 國聯 Fed 2024 扭轉 政策 分歧 日圓 提供 一些 支撐 匯率 轉升 去年 12 中旬 看到 台銀 日圓 現鈔 牌告價 低於 0.22 行情 今天 算是 睽違 半個 看到 甜價 提醒 民眾 農曆年 有意 出國 考慮 今天 酌量 進場 週一 日本 發生 7.6 強震 市場 初步 反應 日本央行 政策 立場 轉向 鷹派 預期 迅速 消退 預計 日本央行 將在 年度 薪資 談判 之後 退出 其超 寬鬆 貨幣政策 排除 提早 採取 措施 可能性 市場 普遍 預期 聯準 最快 將於 降息 並在 年底 累積 降息 150 基點 1.5 台北 外匯市場 新台幣 美元 今天 中午 暫收 31.045 3.5 成交 金額 4.7 億美元 日圓 則在 142 143 左右 價位 表現 在此之前 分析師 認為 日圓 2024 匯價 挑戰 124 130 水準 日圓 一度 強彈 美元 降息 幅度 恐限縮 影響 升幅 降溫 CTWANT 授權 轉載   \n",
       "29                                                                                                                                                                                                                                                                                                                                                          新一波 危機 中東 緊張 國際 油價 跳漲 東森 新聞 爆炸聲 響起 民眾 嚇得 聲尖叫 四處 逃竄 救護車 鳴笛 進入 爆炸 準備 救出 民眾 逃難 人太多 需要 人員 伊朗 日驚傳 發生 連環 爆炸案 現在 美國 高官 認為 疑似 ISIS 恐攻 CNN 記者 伊朗 官方 媒體 引述 官員 所說 表示 這起 爆炸案 恐怖 攻擊 緊張局勢 四處 蔓延 地區 中東 緊張 情勢升高 伊朗 OPEC 成員國 利比亞 最大 油田 沙拉拉 因受 抗議 干擾 停產 種種 消息 國際 油價 雙雙 超過 到期 布蘭特 原油期貨 上漲 3.19 每桶 78.31 美元 到期 西德 原油期貨 上漲 3.52 每桶 72.86 美元 Yahoo 財經 主播 InesFerre 今天 看到 油價 飆升 超過 每天 生產 30 萬桶 原油 利比亞 油田 受到 抗議 干擾 中斷 油田 生產 紅海 危機 不停 擴大 推升 油價 再漲 15 能源 專家 警告 美國 領導 安全 特遣隊 已經 進入 地區 存在 一定 危機 中東 緊張局勢 進一步 惡化 至少 需要 計入 12 美元 地緣 政治 風險 代表 油價 升至 90 美元 Yahoo 財經 主播 InesFerre 伊朗 派遣 一艘 軍艦 進入 紅海 導致 油價 走高 伴隨 昨天 攻擊 今天 看到 石油價格 再次 跳漲 附近 地區 許多 不確定性 安全 問題 油價 升高 油價 漲勢 短期 看不到 盡頭 現在 引爆 新一波 危機 來襲   \n",
       "30                                                                                                                                                                                                                                                                                                                                                                                                                                                                                                                                                                                                                                                17 Nissan Tiida 正式 謝幕 國產 背車 僅剩 可選 東森 新聞 走入 歷史 TOYOTAYaris 停產 台灣 相伴 17 NissanTiida 經典 背車 近日 自官 網下 正式 華麗 謝幕 NissanTiida 2006 國產車 進入 台灣 擁有 魔術 空間 消費者 留下 鮮明 印象 台灣 累積 銷售 超過 18 萬輛 2023 Nissan 宣布 最後 500 賣完 正式 退出 台灣 市場 台灣 官網 也將 Tiida 下架 後續 接替 車款 裕隆 日產 尚未 正式 消息 ToyotaYaris NissanTiida 相繼 停產 國產 背車 僅剩 FordFocus HondaFit MitsubishiColtPlus 價格 60 級距 寥寥無幾 熱門 車款 集中 70 80 小休   \n",
       "32                                                                                                                                                                                                                                                                                                                                30 年來 首次 改版 微軟 改掉 鍵盤 這顆 東森 新聞 陪伴 30 鍵盤 改版 微軟 稍早 官方 落格 宣布 Windows 鍵盤 迎接 1994 年來 最大 變化 微軟 決定 鍵盤 加入 啟動 AICopilot 專用 按鍵 並於 下周 鍵盤 陸續 採用 30 年來 鍵盤 布局 首次 改變 微軟公司 2023 積極 布局 AI 人工智慧 生成式 AI 技術 Copilot 最為 積極 目前 下周 上市 Windows11 出現 進駐 Edge 瀏覽器 Office 服務 2024 AI 電腦 Copilot 將會 關鍵 起點 名為 Copilot 按鍵 將會 放置 空白 Spacebar 右側 ALT 右方 微軟 將在 CES 科技 大會 展示 Winows11 Copilot 按鍵 電腦 估計 按鍵 會成 鍵盤 必備 功能 Copilot 使用 方法 ChatGPT 相似 按下 Copilot 展開 對話 下達 指令 更改 電腦 設定 查詢 資料 撰寫 電子郵件 摘要 文本 微軟 消費者 市場 首席 行銷 YusufMehdi 表示 AI 無縫 融入 Windows 系統 晶片 硬體 設備 製造商 微軟 推動 AI 服務 尚未 轉化 銷售 提升 輔助 功能 正在 新舊 設備 推出 Mehdi 承諾 AI 融入 硬體 晶片 意味著 微軟 改進 AI 方案 將對 消費者 進行 更大 升級 動力 文章 來源 30 年來 首次 改版 微軟 宣布 鍵盤 加入 AICopilot 按鍵 CTWANT 授權 轉載   \n",
       "36                                                                                                                                                                                                                                                                                                                                                                                                                                                                                                                                                                                                                                                                                                     不給 年終 罷工 高鐵 工會 交通部 支持 東森 新聞 先前 台灣 高鐵 工會 資方 年終 僅給 達到 預期 四個 提出 排除 春節 疏運 罷工 工會 拜會 交通部 似乎 出現 轉機 工會 發出 聲明 強調 交通部 提出 訴求 交通部 認為 工會 提出 合理 支持 主張 喊話 資方 10 協調 會上 錯過 勞資 和諧 機會 已經 做好 最壞 打算 罷工 萬全 準備 同樣 進行 協商 華航 號就 工會 進行 第二次 年終獎金 協商 了解 協商 數字 10 送到 董事會 討論 工會 員工 訊息 華航 年終獎金 三個 一個月 年度 獎金 總計 來說 應該 四個 起跳 空陸 交通 勞資 問題 齊發 是否 達到 共識   \n",
       "38                                                                                                                                                                                                                                                                                                                                                             竹北 吊車 大王 14 兒女 豪宅 羨慕 東森 新聞 啟德 機械 起重 工程 公司 董事長 胡漢龑 人稱 竹北 吊車 大王 個性 海派 感情世界 豐富 妻子 14 兒女 更是 金碧輝煌 像是 羅浮宮 近日 交大 校友會 參觀 胡漢龑 豪宅 網友 羨慕 下次 記得 通知 一起 交通 大學 校友會 臉書 發文 感謝 啟德 機械 起重 工程 公司 胡漢龑 董事長 熱情接待 校友會 GIVERSCLUB 參訪 金碧輝煌 啟德 羅浮宮 分享 創業 歷程 交大 校友 深度 交流 期待 未來 互為 貴人 照片 胡漢龑 綠衣 樓梯 30 交大 校友 此文 曝光 網友 紛紛 留言 第一眼 還以 後宮 爸爸 鵬飛 創辦人 蔣公廟 傳奇 能耐 懂得 施捨 下次 記得 通知 一起 了解 胡漢龑 公司 機械 運輸 界列 亞洲 年收入 高達 30 億元 事業有成 感情世界 豐富 精彩 老婆 14 兒女 堪稱 現代 韋小寶 胡漢龑 億元 豪宅 金碧輝煌 老婆 和平相處 平常 還會 妻子 泡澡 許多 男人 羨慕 CTWANT 胡漢龑 妹子 信義 白皙 三人露 超短 熱褲 女子 露出 傲人 好身材 身上 背包 配件 價值 不斐 女子 妻子 似乎 應是 紅粉知己 延伸 閱讀 媳婦 身高 150 孫子 170 婆婆 懷疑 討客 網一看 建議 先去驗 智商 遭網紅 規勸 違停 一中 家長 甩還 狂飆 國罵 護航 法律 出生 一戰 還在 英國 105 奶奶 出過 長壽 秘訣 每天 一堆 奶油   \n",
       "39                                                                                                                                                                                                                                台海 開戰 衝擊 經濟 彭博 全球 將付 10 美元 代價 東森 新聞 台灣民眾 美國 彭博社 攝影機 揮舞 手上 旗幟 民進黨 宜蘭 造勢 人山人海 彭博社 記者 中國 一再 警告 追求 獨立 行為 導致 台灣 採取 軍事行動 最近 發布 平面 分析 若台灣 中國 真的 發生 戰爭 經濟 後果 將極 慘重 代價 高達 10 美元 台幣 310 兆元 相當於 全球 GDP 10 亞洲 記者 史密斯 台灣 爆發 戰爭 只會 這島 帶來 災難性 經濟 後果 整個 世界 台海 開戰 台灣 經濟 受到 重創 估計 衝擊 GDP 40 人口 工業 基地 集中 沿海地區 經濟 人力 成本增加 反觀 中國 GDP 則有 16.7 衝擊 主要 貿易 夥伴 關係 中斷 美國 無法 取得 先進 製程 半導體 像是 蘋果公司 高度 依賴 亞洲 供應鏈 美國 GDP 下降 6.7 同樣 依賴 台灣 海峽 周邊 海域 主要 航道 南韓 日本 影響 更深 全球 整體 GDP 直接 慘跌 10.2 英國 SkyNew 亞洲 記者 史密斯 台灣 小島 技術 開發 製造業 貿易 確實 超越 重量 台灣 生產 世上 大部分 先進 半導體 彭博 經濟 研究 預估 爆發 軍事衝突 後果 將遠 超越 俄烏 戰爭 新冠 疫情 全球 金融危機 更將 帶來 巨大 衝擊 華府 智庫 中國 研究 主任 白明 烏克蘭 戰爭 重新 思考 支持 保衛 台灣 重要性 去年 廣播 講出 類似 言論 華府 智庫 中國 專家 指出 烏克蘭 俄軍 侵略 跨國公司 台海 危機 關注度 倍增 95 對話 提到 台海 全球 多國 智庫 諮詢 公司 模擬 中國 台灣 實施 海上 封鎖 奪取 台灣 離島 全面 入侵 台灣 情景 進行 沙盤推演 做好 準備 傷害 降到 最低   \n",
       "40                                                                                                                           名人 論題 世聰 解析 2024 半導體 難關 東森 新聞 2024 台灣 半導體 產業 發展 影響 著台灣 投資 尤其 護國 神山 台積電 有沒有 再創新高 對此 世聰 特別 解析 2024 台灣 半導體 產業 遇上 難關 順利 突破 難關 護國 神山 台積電 可望 再創新高 世聰 表示 今年 最大 變數 難關 台灣 美國 總統大選 無論是 內部 外部 因素 台灣 半導體 發展 有著 重要 一年 今年 順利 過去 台灣 半導體 未來 幾年 將是 放眼 天下無敵 相反 諸多 變數 之中 一一 克服 出現 無法 預測 黑天鵝 事情 台灣 產業 造成 影響 變數 世聰 指出 美國 中國 之間 半導體 態度 中國 目前 為止 受到 美國 嚴格 封鎖 美國 無所不用其極 透過 美國 企業 透過 日本 荷蘭 企業 近期 還給 荷蘭 官方 警告 要求 能夠 DUV 基台 賣給 中國 大陸 例子 看出 美國 中國 半導體 擺明 封死 態度 美國國會 議員 則是 關稅 立足 中國 主導 成熟 晶片 製程 中國 幾年 製程 辦法 會到 EUV 機台 發展 成熟 製程 DUV 機台 這點 美國 己經 注意 防止 中國 成熟 晶片 領域 準備 關稅 封鎖 最近 這段 時間 美國 允許 NVIDIA 賣降 規版的給 中國 很爛 阿里巴巴 騰訊 買單 想要 晶片 卡到 目前 為止 相對 解決方案 世聰 上面 情況 中國 美國 對抗 台灣 遊走 兩國之間 變成 全世界 關注 台灣 一場 選舉 特別 美國 角度 己經 要求 荷蘭 日本 進行 封鎖 台灣 這時候 出現 意想不到 狀況 發生 想法 出現 台灣 選舉 第二場 選舉 台灣 影響 白宮 選舉 現任 總統 拜登 連任 之路 艱辛 目前 民調 全落 川普 之後 選舉 台灣 衝擊 拜登 當選 現在 政策 川普 上台 則有 出現 改變 關注 世聰 強調 台灣 半導體 是從 選舉 產業 變數 過關 台灣 半導體 競爭 實力 無人 台灣 護國 神山 台積 電則 可望 創新 高點   \n",
       "41                                                                                                                                                                                                                                                                           美國 批准 比特 現貨 ETF 上市 SEC 主席 發文 東森 新聞 近期 市場 一直 預估 美國 證券交易 委員會 SEC 應該 近期 同意 比特 現貨 ETF 上市 晚間 SEC 社群 網站 官方 帳號 突然 發文 批准 市場 進入 一陣 歡欣鼓舞 文章 曝光 小時 SEC SEC 主席 社群 網站 發文 表示 剛剛 批准 同意 文是 帳號 遭到 駭客 入侵 駭客 發出 假消息 了解 基金 巨擘 萊德 BlackRock 在內 11 基金 公司 共同 申請 推出 投資 比特 幣的 指數 股票 型基金 ETF 目前 已經 提交 相關 文件 萊德 預估 10 日會 獲得 美國 證管會 SEC 核准 市場 普遍 認為 SEC 本周 核准 這也 連帶 比特 持續 上漲 價格 一度 衝破 4.7 萬美元 外媒 指出 外界 等待 SEC 公布 點頭 之際 SEC 社群 網站 官方 帳號 突然 發文 表示 已經 批准 所有 比特 現貨 ETF 申請 強調 ETF 將會 持續 受到 監管 保護 投資人 權益 這篇 貼文 關係 比特 幣的 價格 短時間 一度 接近 4.8 萬美元 文章 曝光 不到 20 分鐘 這則 貼文 隨即 遭到 刪除 SEC SEC 主席 詹斯勒 GaryGensler 社群 網站 發文 表示 宣布 比特 現貨 ETF 文章 帳號 遭到 駭客 入侵 駭客 未經 同意 情況 擅自 發送 假消息 目前 SEC 尚未 核准 比特 現貨 ETF 申請 關係 比特 幣的 價格 直線 下降 價格 一度 跌落 4.56 萬美元 目前 為止 比特 幣的 價格 目前 已經 回到 4.61 萬美元 CTWANT 授權 轉載   \n",
       "44                                                                                                                                                                                                                                                                                                                                                                                                                                                                                                                                                                                                                                                             調薪 搶才 麥當勞 正職 乾杯 加薪 10 東森 新聞 才剛 進入 2024 已經 許多 企業 宣布 加薪 留住 人才 大力 招募 新血 缺工 嚴重 餐飲 服務業 積極 麥當勞 宣布 所有 正職 人員 起薪 全面 調升 2000 加薪 幅度 6.7 之間 還要 再徵 1700 麥當勞 表示 今年 預計 再開 14 餐廳 人力 需求 希望 透過 加薪 增加 求職 誘因 乾杯 集團 宣布 今年 加薪 10 徵才 550 加薪 瞄準 世代 族群 增加 營運 協助 專員 職缺 金融業 方面 兆豐 第一 華南 合庫 公股 行庫 一月 加薪 幅度 6.5 起跳 超過 科技 方面 包括 台積 聯電 鴻海 廣達 去年 已經 調薪 今年 加薪 公司 代工 大廠 廣達 鴻海 低調 對外 釋出 加薪 好消息   \n",
       "45                                                                                                                                                                                                                                                                                                                                                                                                                                                                                                                                                                                                                                                                                                                                                        項社福 津貼 提前 每項 增加 1248 東森 新聞 衛福部 社會 家庭 表示 國民 年金 維持 月底 核發 福利 津貼 包括 低收入 家庭 生活 補助 兒童 生活 補助 發放 時間 調整 每個 10 以前 入帳 讓民眾 及早 領取 穩定 生活 各縣 市政府 月份 CPI 成長率 調增 基準 發放 月份 調整 CPI 成長率 7.34 核發 金額 補足 月份 差額 也就是說 各項 社福 津貼 國民 年金 給付 地區 對象 補助 項目 調增 金額 台幣 150 元到 1248 之間 預估 250 萬人次 受惠   \n",
       "46                                                                                                                                                                                                                                                                                                                                                                                                                                       台鐵招 短期 站務員 時薪 183 遭酸 加油站 東森 新聞 一年 台鐵 公司化 之後 人力 疑似 出現 缺口 營運 招募 短期 工時 人力 開出 46 缺額 工作 內容 包含 售票 收票 站務 工作 時薪 基本工資 183 民眾 感嘆 加油站 還低 對此 台鐵 公司 回應 新進 人力 到位 短期 臨時 人員 招募 從業人員 招募 員額 降低 人力 成本 規劃 台鐵 招募 短期 站務 人員 工作 包含 剪票口 因應 所有 旅客 繁雜 需求 工作 包含 複雜 內容 短期 站務 只能 最低 時薪 183 引發 討論 台鐵 日前 公告 招募 短期 臨時 人員 營運 46 缺額 工作 內容 包含 窗口 售票 閘門 剪票 把關 月台 引導 旅客 雜事 一籮筐 時薪 基本工資 183 內部人員 自嘲 領的 加油站 打工 還低 旅客 預算 覺得 多點 鼓勵 他領 薪水 已經 行業 教育 薪水 比較 吸引力 吸引 想來 這裡 上班 台鐵 人力 接軌 補上 遭批 慢半拍 而慢 有台 員工 透露 服儀 規定 上路 有人 還沒 領到 制服 導致 被迫 違規 領到 抱怨 材質 不好 帽子 不透氣 台鐵 站務員 制服 不合身 經歷 兩次 重大事故 百年 老店 台鐵 公司化 力求 革新 人力 補充 效率 制服 品質 似乎 進步 空間   \n",
       "\n",
       "   artCatagory pred  \n",
       "2           財經   全球  \n",
       "5           財經   全球  \n",
       "10          財經   全球  \n",
       "13          財經   全球  \n",
       "16          財經   社會  \n",
       "19          財經   全球  \n",
       "21          財經   全球  \n",
       "25          財經   全球  \n",
       "26          財經   全球  \n",
       "28          財經   全球  \n",
       "29          財經   全球  \n",
       "30          財經   全球  \n",
       "32          財經   全球  \n",
       "36          財經   全球  \n",
       "38          財經   全球  \n",
       "39          財經   全球  \n",
       "40          財經   全球  \n",
       "41          財經   全球  \n",
       "44          財經   全球  \n",
       "45          財經   全球  \n",
       "46          財經   全球  "
      ],
      "text/html": [
       "<div>\n",
       "<style scoped>\n",
       "    .dataframe tbody tr th:only-of-type {\n",
       "        vertical-align: middle;\n",
       "    }\n",
       "\n",
       "    .dataframe tbody tr th {\n",
       "        vertical-align: top;\n",
       "    }\n",
       "\n",
       "    .dataframe thead th {\n",
       "        text-align: right;\n",
       "    }\n",
       "</style>\n",
       "<table border=\"1\" class=\"dataframe\">\n",
       "  <thead>\n",
       "    <tr style=\"text-align: right;\">\n",
       "      <th></th>\n",
       "      <th>words</th>\n",
       "      <th>artCatagory</th>\n",
       "      <th>pred</th>\n",
       "    </tr>\n",
       "  </thead>\n",
       "  <tbody>\n",
       "    <tr>\n",
       "      <th>2</th>\n",
       "      <td>陽明 海運 年終 落差 嚴重 去年 13 今年 數字 嚇死人 東森 新聞 疫情 期間 航運 相關 產業 獲利 頗豐 陽明 海運 2022 年終 高達 13 羨煞 民眾 現在 消息 指出 陽明 海運 日前 召開 董事會 決議 今年 年終獎金 每年 固定 13 薪資 形同 年終獎金 去年 相比 有著 落差 了解 陽明 海運 去年 年終 13 2023 年度 分紅 20 整個 多達 33 媒體 指出 陽明 海運 董事會 決議 年終獎金 僅有 推估 2024 年終 分紅 僅有 固定 13 薪資 總和 3.2 好消息 陽明 海運 公務員 標準 明年 員工 加薪 4% 提到 陽明 海運 具有 官股 性質 年終獎金 只能 12 分紅 制度 方面 陽明 海運 明訂 稅前 獲利 1% 員工 紅利 數字 遠高於 長榮 海運 0.5% 萬海 0.6%</td>\n",
       "      <td>財經</td>\n",
       "      <td>全球</td>\n",
       "    </tr>\n",
       "    <tr>\n",
       "      <th>5</th>\n",
       "      <td>元老 振榮 辭世 業界 緬懷 生前 海派 人緣 東森 新聞 中鋼前 總經理 振榮 參與 公司 階段 擴建 歷程 業界 享有 聲譽 晚年 飽受 癌症 摧殘 住進 安寧 病房 25 凌晨 辭世 享壽 77 令人 不勝唏噓 振榮 出生 高雄 鳳山 礦冶 畢業 考進 中鋼 出身 政治 世家 叔叔 義秋 外號 鳳山 政商 實力雄厚 政治 一途 1990 年代 擔任 總經理 中鋼 黃埔 一期 員工 基層 做起 一晃眼 12 民營化 過程 人脈 帶領 團隊 立法院 朝野 溝通 中鋼 國營 轉為 民營 慢慢 奠定 基礎 成為 台灣 最大 鋼鐵企業 振榮 傳出 病逝 各界 紛紛 緬懷 幹部 口吃 喝酒 我弟 豪邁 性格 印象 深刻 稱讚 對方 性情中人 喜歡 交朋友 公司 公關 經他 之手 順遂 公司 基層 親切 幹部 嚴格 幹部 以身作則 鋼鐵 回憶 振榮 當年 帶領 民營化 難能可貴 創造 時代 交棒給 下一代 翁朝棟 帶領 創下 建廠 50 年來 最高 營運 獲利 績效 振榮 退休 每次 提到 此事 有榮 傑出 幹部 拍胸脯 大聲 振榮 永遠 長官 文章 來源 中鋼前 總座 振榮 辭世 享壽 77 業界 緬懷 生前 海派 人緣 CTWANT 授權 轉載</td>\n",
       "      <td>財經</td>\n",
       "      <td>全球</td>\n",
       "    </tr>\n",
       "    <tr>\n",
       "      <th>10</th>\n",
       "      <td>美政府 維持 Apple Watch 進口 禁令 蘋果 上訴 東森 新聞 美國 總統 拜登 政府 選擇 否決 專利 侵權 裁定 蘋果公司 Apple 今天 表示 旗下 智慧 手錶 AppleWatch 最新型 號的 進口 禁令 提起 上訴 綜合 法新社 路透社 這項 針對 蘋果 最新 智慧 手錶 型號 禁令 今天 生效 AppleWatchSeries9 AppleWatchUltra2 無法 美國 實體 商店 或線 銷售 這項 禁令 大型 科技 公司 具有 價值 專利 展開 最新 法律 角力 谷歌 Google 針對 揚聲器 技術 Sonos 打官司 美國 國際貿易 委員會 ITC 10 裁定 禁止 進口 侵犯 一項 測定 血氧 含量 專利技術 蘋果 智慧 手錶 型號 這項 禁令 源起 Masimo 公司 2021 ITC 提出 申訴 這家 醫療 設備 製造商 指控 蘋果 侵犯 公司 感測 技術 測量 血氧 含量 專利 Masimo 這項 技術 發明 蘋果 挖角 員工 取得 技術 美國 貿易 代表 USTR 今天 聲明 指出 謹慎 商議 貿易 代表 戴琪 KatherineTai 決定 撤銷 ITC 這項 裁定 ITC 決定 2023 12 26 日成 最終 裁定 白宮 有權 撤銷 進口 禁令 狀況 鮮少 發生 蘋果 主張 ITC 裁決 錯誤 應予 撤銷 並向 美國聯邦 法院 提起 上訴 蘋果 發言人 表示 公司 針對 這項 禁令 華盛頓 美國聯邦 巡迴 上訴 法院 CourtofAppealsfortheFederalCircuit 提起 上訴 蘋果 今天 聲明 中說 強烈 同意 ITC 裁定 由此 產生 排除 命令 採取 措施 盡快 美國 顧客 恢復 供應 AppleWatchSeries9 AppleWatchUltra2 蘋果 請求 聯邦 巡迴 上訴 法院 暫停 禁令 至少 暫停 美國 海關 邊境 保護局 CBP 判定 重新 設計 過的 蘋果 智慧 手錶 型號 是否 侵犯 Masimo 專利 並在 法院 考慮 蘋果 請求 暫停 禁令 蘋果 美國 海關 邊境 保護局 預定 明年 12 做出 決定 耶誕 假期 前夕 蘋果 本月 21 已將 產品 自線 蘋果 商店 AppleStore 下架 實體 零售 商店 24 停止 販售</td>\n",
       "      <td>財經</td>\n",
       "      <td>全球</td>\n",
       "    </tr>\n",
       "    <tr>\n",
       "      <th>13</th>\n",
       "      <td>東南亞 旅遊 注意 星馬 元旦 將調 消費稅 東森 新聞 打算 東南亞 旅遊 民眾 注意 新加坡 將從 元旦 上調 消費稅 百分點 9% 因應 老齡化 人口 激增 醫療保健 成本 上漲 馬來西亞 將從 明年 銷售 服務 稅調 高到 8% 元旦假期 就要 民眾 規劃 出國 過去 東南亞 國家 注意 明年 元旦 新加坡 將把 商品 服務 稅率 8% 調升 9% 星國 穩定 增稅 擴大 財政 基礎 因應 醫療 照護 成本 高漲 馬來西亞 稅收 東南亞 國家 居後段 將從 明年 銷售 服務 調高 百分點 8% 糧食 飲料 通訊 必要 支出 不在 調升 範圍 各國 國際航班 持續 恢復 目前 中國 官方 發布 最新 數據 預估 元旦 期間 日均 出入境 旅客 達到 156 萬人次 2023 元旦 增長 超過 五倍 回到 2019 九成 水平</td>\n",
       "      <td>財經</td>\n",
       "      <td>全球</td>\n",
       "    </tr>\n",
       "    <tr>\n",
       "      <th>16</th>\n",
       "      <td>聯亞 生技 負責人 王長 怡傳 跳票 集團 財務狀況 引熱議 東森 新聞 聯亞 生技 集團 經營權 爭奪 多時 現任 負責人 王長 女兒 胡世一指 無權 擔任 董事長 一職 母女 分裂 派並 爆發 多起 訴訟 傳出 聯亞 生技 集團 王長 掌控 相關 公司 積欠 貨款 遭向 法院 聲請 支付 命令 追討 傳出 王長 財務 出現 狀況 跳票 聯亞生 技是 國發 基金 投資 項目 負責人 財務 未處理 影響 公司 營運 影響 廣大 納稅人 權益 週刊 調查 依據 今年 台灣 票據交換 所票 查詢 記錄 今年 11 28 王長 一筆 退票 日期 今年 10 18 金額 200 萬元 退票 紀錄 退票 理由 存款 不足 清償 贖回 日期 今年 10 27 王長 投資 有限公司 筆的 退票 紀錄 總金額 120 萬元 分別 今年 13 一張 票面額 1000 萬元 12 張支 票面額 分別 20 萬元 50 萬元 50 萬元 退票 理由 存款 不足 清償 日期 空白 週刊 調查 今年 新竹 地院 收到 聯亞 生技 集團 聯合 生物製藥 公司 追債 案件 分別 請求 給付 貨款 支付 命令 給付 價金 案件 金額 萬餘元 百萬元 不等 至今 10 部分 案件 陸續 和解 收到 款項 金額 法院 解決 傳出 王長 跳票 聯亞 生技 集團 財務狀況 相關 廠商 發熱 更多鏡 週刊 王長 胡世一 母女 鬧翻 聯亞 生技 經營權 持續 爭訟 聯亞 母女 紛爭 再起 兩派 發聲明 捍衛 立場 凍結 員工 薪資 羅生門 聯亞 女兒 反控 王長 說謊</td>\n",
       "      <td>財經</td>\n",
       "      <td>社會</td>\n",
       "    </tr>\n",
       "    <tr>\n",
       "      <th>19</th>\n",
       "      <td>聚焦 真相 財經專家 淪為 看板 詐騙 猖獗 解方 東森 新聞 現在 社群 平台 看到 財經專家 號召 投資 絕大部分 詐騙 理財 廣告 難以 辨別真假 已經 越來越 多人 上當受騙 社群 平台 變成 犯罪 溫床 分辨真假 今天 東森周 財金 領域 知名 人物 上市 公司 創辦人 夫人 藝人 社群 平台 上放 照片 搭配 說服力 十足 文字 投資 理財 輕點 一下 滑鼠 創造財富 網路 詐騙 手法 真假難辨 已經 無法無天 主持人 美人 氣到 冒煙 已經 報警 教人 做股票 理財 主持人 李兆華 看到 影片 老師 下面 廣告 字眼 贊助 字眼 掛我 名字 詐騙 苦主 受害者 名人 深受其害 知名度 越高 大眾 戒心 預防 警務 李琦美 投資 群組裡面 成員 詐騙 集團 裡面 吹捧 老師 很神 提供 標股 賺錢 賺騙 集團 民眾 獲得 一點 獲利 那民眾 投資 金錢 以後 理由 拖延 民眾 出金 民眾 退出 群組 真的 防不勝防 數據 顯示 投資 詐欺 案件 越來越 財損 金額 越來越 109 不到 三千件 111 六千 金額 10.2 增加 34.2 社群 平台 更是 已經 成為 犯罪 溫床 全台 2172 網路 使用 人數 來說 2135 萬人 社群 平台 用戶 每人每天 平均 小時 使用 社群 平台 成為 詐騙 集團 魚池 災情慘重 政府 現在 亡羊補牢 修法 因應 證期局 副局長 張子敏 要求 平台 業者 實名制 刊播 刊登 出資者 相關 資訊 知道 廣稿 找到 打詐 源頭 設立 防護 金管會 數位 刑事 三方 合作 未來 增訂 證券 投資信託 顧問 落實 證券 投資 廣告 實名制 下架 機制 重要 平台 業者 要負 連帶責任 證期局 副局長 張子敏 投資人 誤信 誤信 之後 最後 受到 損害 求償 法院 提出 提出 審理 當初 平台 業者 假設 通知 從來不 處理 連帶責任 離不開 網路 時代 社群 平台 幾分 真實 幾分 虛假 斷開 詐騙 集團 雙手 成為 政府 現在 重要 課題 投資人 還沒成 風口 上會 飛的豬 變成 詐騙 集團 眼中 一塊 肥肉</td>\n",
       "      <td>財經</td>\n",
       "      <td>全球</td>\n",
       "    </tr>\n",
       "    <tr>\n",
       "      <th>21</th>\n",
       "      <td>Apple Pay 信用卡 到期 哀號 時間 還沒到 東森 新聞 近期 網友 表示 ApplePay 出現 奇怪 問題 明明 綁定 信用卡 還沒 到期 ApplePay 一直 顯示 到期 無法 使用 網友 表示 遇到 類似 事情 網友 PTTiOS 發文 內容 表示 31 使用 ApplePay 購物 ApplePay 一直 顯示 信用卡 到期 要求 更新 信用卡 資訊 依據 要求 更新 帳單 地址 相關 資訊 ApplePay 無法 使用 網友 強調 使用 信用卡 2028 到期 文章 曝光 PTT 網友 留言 表示 遇到 類似 情況 包含 國泰 世華 匯豐 聯邦 台新 銀行 用戶 似乎 針對 特定 銀行 出現 問題 網友 分享 解法 像是 臨時 添加 卡片 使用 除掉 問題 卡片 重新 添加 正常 使用 目前 為止 清楚 問題 出現 清楚 官方 修正 問題 文章 來源 明明 時間 還沒到 ApplePay 信用卡 到期 網友 哀號 無法 付款 CTWANT 授權 轉載</td>\n",
       "      <td>財經</td>\n",
       "      <td>全球</td>\n",
       "    </tr>\n",
       "    <tr>\n",
       "      <th>25</th>\n",
       "      <td>30 Apple Watch 停售 東森 新聞 蘋果 旗下 智慧型 手錶 AppleWatch 2023 年底 法院 判決 侵權 成立 AppleWatchUltra2 AppleWatchSeries9 兩款 型號 遭到 停售 後續 蘋果 再次 提出 上訴 手錶 還能 短暫 販售 年內 億美元 折合 新台幣 30 億元 起訴 蘋果 侵權 醫療 科技 公司 Masimo 執行長 亞尼 JoeKiani 外媒 指出 蘋果 2020 AppleWatch 加入 血氧 監測技術 遭到 美國 醫療 科技 公司 Masimo 提告 Masimo 認為 蘋果 AppleWatch 使用 監測技術 已經 侵害到 擁有 光學 監測技術 之後 美國 國際貿易 委員會 ITC 10 26 發布 命令 裁定 蘋果 侵權 行為 成立 停止 銷售 AppleWatchUltra2 AppleWatchSeries9 這項 禁售 令僅 侷限 蘋果 一些 第三方 通路 庫存 店面 依舊 繼續 銷售 AppleWatchUltra2 AppleWatchSeries9 直到 手邊 庫存 為止 後續 美國白宮 審議 期間 並未 駁回 禁售 判決 蘋果 2023 12 27 再次 提出 上訴 這才 AppleWatchUltra2 AppleWatchSeries9 得以 短暫 進行 銷售 醫療 科技 公司 Masimo 執行長 亞尼 JoeKiani 受訪 表示 年內 光是在 蘋果 訴訟 億美元 Masimo 2022 獲利 1.44 億美元 亞尼 表示 蘋果 提出 侵權 訴訟 阻止 認為 根本無法 司法 贏過 蘋果 指出 Masimo 過去 豐富 專利 侵權 訴訟 經驗 2006 年時 一家 血氧儀 設備 廠商 專利 訴訟 獲勝 Masimo 獲得 億美元 賠償 專利 使用費 2016 年時 Masimo 皇家 飛利浦 提出 侵權 訴訟 後續 皇家 飛利浦 億美元 Masimo 達成 和解 亞尼 表示 是否 蘋果 達成 和解 抱持 開放 態度 目前 為止 蘋果 尚未 Masimo 展開 正式 和解 討論 亞尼 強調 他會 持續 蘋果 訴訟 表示 我能 做到 告贏 蘋果 會成 蘋果 變得 更好 契機</td>\n",
       "      <td>財經</td>\n",
       "      <td>全球</td>\n",
       "    </tr>\n",
       "    <tr>\n",
       "      <th>26</th>\n",
       "      <td>名人 論題 金河 失去 台灣 美國 霸權 終結 東森 新聞 金河 財信 傳媒 董事長 財訊 社長兼 發行人 世界 地方 安全 過去 三年 每年 年初 經濟學 雜誌 喜歡 台灣 地表 危險 地方 外資 訊息 連續 三年 大賣 超台 2.2259 台幣 戰爭 台灣 發生 烏克蘭 以色列 俄羅斯 入侵 烏克蘭 一個月 兩年 以為 這是 速戰速決 三天 解決 戰事 已經 持續 近兩年 雙方 僵持 哈瑪斯 突擊 以色列 以為 以色列 科技 先進 武器 裝備精良 哈瑪斯 很快 殲滅 戰爭 持續 三個 以色列 預告 戰爭 持續 現代化 戰爭 大國 予取予求 陷入 持久 消耗戰 最後 耗竭 國力 集權 獨裁 領袖 戰爭 樂此不疲 這是 掌握權力 必要 手段 最近 朝鮮 領導人 金正恩 恐嚇 要求 三軍 動員 準備 南韓 展開 軍事行動 金正恩 批評 南韓 美國 殖民地 南北 永不 統一 發展 核武 飛彈 試射 已經 成為 金正恩 霸權 利器 經濟學 一再強調 台灣 危險 南北 韓只 38 度線 雙方 一線 之隔 台灣 海峽 至少 135 公里 天險 南海 情勢 菲律賓 首當其衝 中菲 船艦 互撞 單挑 危機四伏 日本 常說 台灣 有事 日本 有事 中日 百年 宿仇 台灣 中國 主權 爭議 日本 比台灣 危險 台灣 地緣 政治 重要性 居正 教授 最好 失去 烏克蘭 美國 面子 難看 失去 台灣 美國 霸權 終結 這也 台灣 處在 浪尖 關鍵 世界 紛爭 不斷 地方 安全 加強 防衛 實力 上策</td>\n",
       "      <td>財經</td>\n",
       "      <td>全球</td>\n",
       "    </tr>\n",
       "    <tr>\n",
       "      <th>28</th>\n",
       "      <td>日圓 升息 出現 甜甜 跌破 0.22 大關 東森 新聞 投資者 評估 日本 元旦 強震 日本央行 2024 扭轉 寬鬆 貨幣政策 之際 受惠 台幣 跌幅 收斂 日圓 升勢 轉弱 台銀今 中午 日圓 現鈔 賣出 價格 再次 跌破 0.22 大關 現在 若以 10 萬元 新台幣 換匯 去年 同期相比 換到 日圓 2023 日圓 現鈔 匯出 牌告 賣出價 最高 來到 0.2405 10 萬元 新台幣 只能 換到 41 5800 日圓 今天 2024 因牌 告價 來到 0.2199 10 萬元 新台幣 換到 45 4752 日圓 等於 多換 8952 日圓 匯市 交易員 指出 日圓 2023 12 中旬 一度 走弱 市場 隨後 預期 日本央行 及美 國聯 Fed 2024 扭轉 政策 分歧 日圓 提供 一些 支撐 匯率 轉升 去年 12 中旬 看到 台銀 日圓 現鈔 牌告價 低於 0.22 行情 今天 算是 睽違 半個 看到 甜價 提醒 民眾 農曆年 有意 出國 考慮 今天 酌量 進場 週一 日本 發生 7.6 強震 市場 初步 反應 日本央行 政策 立場 轉向 鷹派 預期 迅速 消退 預計 日本央行 將在 年度 薪資 談判 之後 退出 其超 寬鬆 貨幣政策 排除 提早 採取 措施 可能性 市場 普遍 預期 聯準 最快 將於 降息 並在 年底 累積 降息 150 基點 1.5 台北 外匯市場 新台幣 美元 今天 中午 暫收 31.045 3.5 成交 金額 4.7 億美元 日圓 則在 142 143 左右 價位 表現 在此之前 分析師 認為 日圓 2024 匯價 挑戰 124 130 水準 日圓 一度 強彈 美元 降息 幅度 恐限縮 影響 升幅 降溫 CTWANT 授權 轉載</td>\n",
       "      <td>財經</td>\n",
       "      <td>全球</td>\n",
       "    </tr>\n",
       "    <tr>\n",
       "      <th>29</th>\n",
       "      <td>新一波 危機 中東 緊張 國際 油價 跳漲 東森 新聞 爆炸聲 響起 民眾 嚇得 聲尖叫 四處 逃竄 救護車 鳴笛 進入 爆炸 準備 救出 民眾 逃難 人太多 需要 人員 伊朗 日驚傳 發生 連環 爆炸案 現在 美國 高官 認為 疑似 ISIS 恐攻 CNN 記者 伊朗 官方 媒體 引述 官員 所說 表示 這起 爆炸案 恐怖 攻擊 緊張局勢 四處 蔓延 地區 中東 緊張 情勢升高 伊朗 OPEC 成員國 利比亞 最大 油田 沙拉拉 因受 抗議 干擾 停產 種種 消息 國際 油價 雙雙 超過 到期 布蘭特 原油期貨 上漲 3.19 每桶 78.31 美元 到期 西德 原油期貨 上漲 3.52 每桶 72.86 美元 Yahoo 財經 主播 InesFerre 今天 看到 油價 飆升 超過 每天 生產 30 萬桶 原油 利比亞 油田 受到 抗議 干擾 中斷 油田 生產 紅海 危機 不停 擴大 推升 油價 再漲 15 能源 專家 警告 美國 領導 安全 特遣隊 已經 進入 地區 存在 一定 危機 中東 緊張局勢 進一步 惡化 至少 需要 計入 12 美元 地緣 政治 風險 代表 油價 升至 90 美元 Yahoo 財經 主播 InesFerre 伊朗 派遣 一艘 軍艦 進入 紅海 導致 油價 走高 伴隨 昨天 攻擊 今天 看到 石油價格 再次 跳漲 附近 地區 許多 不確定性 安全 問題 油價 升高 油價 漲勢 短期 看不到 盡頭 現在 引爆 新一波 危機 來襲</td>\n",
       "      <td>財經</td>\n",
       "      <td>全球</td>\n",
       "    </tr>\n",
       "    <tr>\n",
       "      <th>30</th>\n",
       "      <td>17 Nissan Tiida 正式 謝幕 國產 背車 僅剩 可選 東森 新聞 走入 歷史 TOYOTAYaris 停產 台灣 相伴 17 NissanTiida 經典 背車 近日 自官 網下 正式 華麗 謝幕 NissanTiida 2006 國產車 進入 台灣 擁有 魔術 空間 消費者 留下 鮮明 印象 台灣 累積 銷售 超過 18 萬輛 2023 Nissan 宣布 最後 500 賣完 正式 退出 台灣 市場 台灣 官網 也將 Tiida 下架 後續 接替 車款 裕隆 日產 尚未 正式 消息 ToyotaYaris NissanTiida 相繼 停產 國產 背車 僅剩 FordFocus HondaFit MitsubishiColtPlus 價格 60 級距 寥寥無幾 熱門 車款 集中 70 80 小休</td>\n",
       "      <td>財經</td>\n",
       "      <td>全球</td>\n",
       "    </tr>\n",
       "    <tr>\n",
       "      <th>32</th>\n",
       "      <td>30 年來 首次 改版 微軟 改掉 鍵盤 這顆 東森 新聞 陪伴 30 鍵盤 改版 微軟 稍早 官方 落格 宣布 Windows 鍵盤 迎接 1994 年來 最大 變化 微軟 決定 鍵盤 加入 啟動 AICopilot 專用 按鍵 並於 下周 鍵盤 陸續 採用 30 年來 鍵盤 布局 首次 改變 微軟公司 2023 積極 布局 AI 人工智慧 生成式 AI 技術 Copilot 最為 積極 目前 下周 上市 Windows11 出現 進駐 Edge 瀏覽器 Office 服務 2024 AI 電腦 Copilot 將會 關鍵 起點 名為 Copilot 按鍵 將會 放置 空白 Spacebar 右側 ALT 右方 微軟 將在 CES 科技 大會 展示 Winows11 Copilot 按鍵 電腦 估計 按鍵 會成 鍵盤 必備 功能 Copilot 使用 方法 ChatGPT 相似 按下 Copilot 展開 對話 下達 指令 更改 電腦 設定 查詢 資料 撰寫 電子郵件 摘要 文本 微軟 消費者 市場 首席 行銷 YusufMehdi 表示 AI 無縫 融入 Windows 系統 晶片 硬體 設備 製造商 微軟 推動 AI 服務 尚未 轉化 銷售 提升 輔助 功能 正在 新舊 設備 推出 Mehdi 承諾 AI 融入 硬體 晶片 意味著 微軟 改進 AI 方案 將對 消費者 進行 更大 升級 動力 文章 來源 30 年來 首次 改版 微軟 宣布 鍵盤 加入 AICopilot 按鍵 CTWANT 授權 轉載</td>\n",
       "      <td>財經</td>\n",
       "      <td>全球</td>\n",
       "    </tr>\n",
       "    <tr>\n",
       "      <th>36</th>\n",
       "      <td>不給 年終 罷工 高鐵 工會 交通部 支持 東森 新聞 先前 台灣 高鐵 工會 資方 年終 僅給 達到 預期 四個 提出 排除 春節 疏運 罷工 工會 拜會 交通部 似乎 出現 轉機 工會 發出 聲明 強調 交通部 提出 訴求 交通部 認為 工會 提出 合理 支持 主張 喊話 資方 10 協調 會上 錯過 勞資 和諧 機會 已經 做好 最壞 打算 罷工 萬全 準備 同樣 進行 協商 華航 號就 工會 進行 第二次 年終獎金 協商 了解 協商 數字 10 送到 董事會 討論 工會 員工 訊息 華航 年終獎金 三個 一個月 年度 獎金 總計 來說 應該 四個 起跳 空陸 交通 勞資 問題 齊發 是否 達到 共識</td>\n",
       "      <td>財經</td>\n",
       "      <td>全球</td>\n",
       "    </tr>\n",
       "    <tr>\n",
       "      <th>38</th>\n",
       "      <td>竹北 吊車 大王 14 兒女 豪宅 羨慕 東森 新聞 啟德 機械 起重 工程 公司 董事長 胡漢龑 人稱 竹北 吊車 大王 個性 海派 感情世界 豐富 妻子 14 兒女 更是 金碧輝煌 像是 羅浮宮 近日 交大 校友會 參觀 胡漢龑 豪宅 網友 羨慕 下次 記得 通知 一起 交通 大學 校友會 臉書 發文 感謝 啟德 機械 起重 工程 公司 胡漢龑 董事長 熱情接待 校友會 GIVERSCLUB 參訪 金碧輝煌 啟德 羅浮宮 分享 創業 歷程 交大 校友 深度 交流 期待 未來 互為 貴人 照片 胡漢龑 綠衣 樓梯 30 交大 校友 此文 曝光 網友 紛紛 留言 第一眼 還以 後宮 爸爸 鵬飛 創辦人 蔣公廟 傳奇 能耐 懂得 施捨 下次 記得 通知 一起 了解 胡漢龑 公司 機械 運輸 界列 亞洲 年收入 高達 30 億元 事業有成 感情世界 豐富 精彩 老婆 14 兒女 堪稱 現代 韋小寶 胡漢龑 億元 豪宅 金碧輝煌 老婆 和平相處 平常 還會 妻子 泡澡 許多 男人 羨慕 CTWANT 胡漢龑 妹子 信義 白皙 三人露 超短 熱褲 女子 露出 傲人 好身材 身上 背包 配件 價值 不斐 女子 妻子 似乎 應是 紅粉知己 延伸 閱讀 媳婦 身高 150 孫子 170 婆婆 懷疑 討客 網一看 建議 先去驗 智商 遭網紅 規勸 違停 一中 家長 甩還 狂飆 國罵 護航 法律 出生 一戰 還在 英國 105 奶奶 出過 長壽 秘訣 每天 一堆 奶油</td>\n",
       "      <td>財經</td>\n",
       "      <td>全球</td>\n",
       "    </tr>\n",
       "    <tr>\n",
       "      <th>39</th>\n",
       "      <td>台海 開戰 衝擊 經濟 彭博 全球 將付 10 美元 代價 東森 新聞 台灣民眾 美國 彭博社 攝影機 揮舞 手上 旗幟 民進黨 宜蘭 造勢 人山人海 彭博社 記者 中國 一再 警告 追求 獨立 行為 導致 台灣 採取 軍事行動 最近 發布 平面 分析 若台灣 中國 真的 發生 戰爭 經濟 後果 將極 慘重 代價 高達 10 美元 台幣 310 兆元 相當於 全球 GDP 10 亞洲 記者 史密斯 台灣 爆發 戰爭 只會 這島 帶來 災難性 經濟 後果 整個 世界 台海 開戰 台灣 經濟 受到 重創 估計 衝擊 GDP 40 人口 工業 基地 集中 沿海地區 經濟 人力 成本增加 反觀 中國 GDP 則有 16.7 衝擊 主要 貿易 夥伴 關係 中斷 美國 無法 取得 先進 製程 半導體 像是 蘋果公司 高度 依賴 亞洲 供應鏈 美國 GDP 下降 6.7 同樣 依賴 台灣 海峽 周邊 海域 主要 航道 南韓 日本 影響 更深 全球 整體 GDP 直接 慘跌 10.2 英國 SkyNew 亞洲 記者 史密斯 台灣 小島 技術 開發 製造業 貿易 確實 超越 重量 台灣 生產 世上 大部分 先進 半導體 彭博 經濟 研究 預估 爆發 軍事衝突 後果 將遠 超越 俄烏 戰爭 新冠 疫情 全球 金融危機 更將 帶來 巨大 衝擊 華府 智庫 中國 研究 主任 白明 烏克蘭 戰爭 重新 思考 支持 保衛 台灣 重要性 去年 廣播 講出 類似 言論 華府 智庫 中國 專家 指出 烏克蘭 俄軍 侵略 跨國公司 台海 危機 關注度 倍增 95 對話 提到 台海 全球 多國 智庫 諮詢 公司 模擬 中國 台灣 實施 海上 封鎖 奪取 台灣 離島 全面 入侵 台灣 情景 進行 沙盤推演 做好 準備 傷害 降到 最低</td>\n",
       "      <td>財經</td>\n",
       "      <td>全球</td>\n",
       "    </tr>\n",
       "    <tr>\n",
       "      <th>40</th>\n",
       "      <td>名人 論題 世聰 解析 2024 半導體 難關 東森 新聞 2024 台灣 半導體 產業 發展 影響 著台灣 投資 尤其 護國 神山 台積電 有沒有 再創新高 對此 世聰 特別 解析 2024 台灣 半導體 產業 遇上 難關 順利 突破 難關 護國 神山 台積電 可望 再創新高 世聰 表示 今年 最大 變數 難關 台灣 美國 總統大選 無論是 內部 外部 因素 台灣 半導體 發展 有著 重要 一年 今年 順利 過去 台灣 半導體 未來 幾年 將是 放眼 天下無敵 相反 諸多 變數 之中 一一 克服 出現 無法 預測 黑天鵝 事情 台灣 產業 造成 影響 變數 世聰 指出 美國 中國 之間 半導體 態度 中國 目前 為止 受到 美國 嚴格 封鎖 美國 無所不用其極 透過 美國 企業 透過 日本 荷蘭 企業 近期 還給 荷蘭 官方 警告 要求 能夠 DUV 基台 賣給 中國 大陸 例子 看出 美國 中國 半導體 擺明 封死 態度 美國國會 議員 則是 關稅 立足 中國 主導 成熟 晶片 製程 中國 幾年 製程 辦法 會到 EUV 機台 發展 成熟 製程 DUV 機台 這點 美國 己經 注意 防止 中國 成熟 晶片 領域 準備 關稅 封鎖 最近 這段 時間 美國 允許 NVIDIA 賣降 規版的給 中國 很爛 阿里巴巴 騰訊 買單 想要 晶片 卡到 目前 為止 相對 解決方案 世聰 上面 情況 中國 美國 對抗 台灣 遊走 兩國之間 變成 全世界 關注 台灣 一場 選舉 特別 美國 角度 己經 要求 荷蘭 日本 進行 封鎖 台灣 這時候 出現 意想不到 狀況 發生 想法 出現 台灣 選舉 第二場 選舉 台灣 影響 白宮 選舉 現任 總統 拜登 連任 之路 艱辛 目前 民調 全落 川普 之後 選舉 台灣 衝擊 拜登 當選 現在 政策 川普 上台 則有 出現 改變 關注 世聰 強調 台灣 半導體 是從 選舉 產業 變數 過關 台灣 半導體 競爭 實力 無人 台灣 護國 神山 台積 電則 可望 創新 高點</td>\n",
       "      <td>財經</td>\n",
       "      <td>全球</td>\n",
       "    </tr>\n",
       "    <tr>\n",
       "      <th>41</th>\n",
       "      <td>美國 批准 比特 現貨 ETF 上市 SEC 主席 發文 東森 新聞 近期 市場 一直 預估 美國 證券交易 委員會 SEC 應該 近期 同意 比特 現貨 ETF 上市 晚間 SEC 社群 網站 官方 帳號 突然 發文 批准 市場 進入 一陣 歡欣鼓舞 文章 曝光 小時 SEC SEC 主席 社群 網站 發文 表示 剛剛 批准 同意 文是 帳號 遭到 駭客 入侵 駭客 發出 假消息 了解 基金 巨擘 萊德 BlackRock 在內 11 基金 公司 共同 申請 推出 投資 比特 幣的 指數 股票 型基金 ETF 目前 已經 提交 相關 文件 萊德 預估 10 日會 獲得 美國 證管會 SEC 核准 市場 普遍 認為 SEC 本周 核准 這也 連帶 比特 持續 上漲 價格 一度 衝破 4.7 萬美元 外媒 指出 外界 等待 SEC 公布 點頭 之際 SEC 社群 網站 官方 帳號 突然 發文 表示 已經 批准 所有 比特 現貨 ETF 申請 強調 ETF 將會 持續 受到 監管 保護 投資人 權益 這篇 貼文 關係 比特 幣的 價格 短時間 一度 接近 4.8 萬美元 文章 曝光 不到 20 分鐘 這則 貼文 隨即 遭到 刪除 SEC SEC 主席 詹斯勒 GaryGensler 社群 網站 發文 表示 宣布 比特 現貨 ETF 文章 帳號 遭到 駭客 入侵 駭客 未經 同意 情況 擅自 發送 假消息 目前 SEC 尚未 核准 比特 現貨 ETF 申請 關係 比特 幣的 價格 直線 下降 價格 一度 跌落 4.56 萬美元 目前 為止 比特 幣的 價格 目前 已經 回到 4.61 萬美元 CTWANT 授權 轉載</td>\n",
       "      <td>財經</td>\n",
       "      <td>全球</td>\n",
       "    </tr>\n",
       "    <tr>\n",
       "      <th>44</th>\n",
       "      <td>調薪 搶才 麥當勞 正職 乾杯 加薪 10 東森 新聞 才剛 進入 2024 已經 許多 企業 宣布 加薪 留住 人才 大力 招募 新血 缺工 嚴重 餐飲 服務業 積極 麥當勞 宣布 所有 正職 人員 起薪 全面 調升 2000 加薪 幅度 6.7 之間 還要 再徵 1700 麥當勞 表示 今年 預計 再開 14 餐廳 人力 需求 希望 透過 加薪 增加 求職 誘因 乾杯 集團 宣布 今年 加薪 10 徵才 550 加薪 瞄準 世代 族群 增加 營運 協助 專員 職缺 金融業 方面 兆豐 第一 華南 合庫 公股 行庫 一月 加薪 幅度 6.5 起跳 超過 科技 方面 包括 台積 聯電 鴻海 廣達 去年 已經 調薪 今年 加薪 公司 代工 大廠 廣達 鴻海 低調 對外 釋出 加薪 好消息</td>\n",
       "      <td>財經</td>\n",
       "      <td>全球</td>\n",
       "    </tr>\n",
       "    <tr>\n",
       "      <th>45</th>\n",
       "      <td>項社福 津貼 提前 每項 增加 1248 東森 新聞 衛福部 社會 家庭 表示 國民 年金 維持 月底 核發 福利 津貼 包括 低收入 家庭 生活 補助 兒童 生活 補助 發放 時間 調整 每個 10 以前 入帳 讓民眾 及早 領取 穩定 生活 各縣 市政府 月份 CPI 成長率 調增 基準 發放 月份 調整 CPI 成長率 7.34 核發 金額 補足 月份 差額 也就是說 各項 社福 津貼 國民 年金 給付 地區 對象 補助 項目 調增 金額 台幣 150 元到 1248 之間 預估 250 萬人次 受惠</td>\n",
       "      <td>財經</td>\n",
       "      <td>全球</td>\n",
       "    </tr>\n",
       "    <tr>\n",
       "      <th>46</th>\n",
       "      <td>台鐵招 短期 站務員 時薪 183 遭酸 加油站 東森 新聞 一年 台鐵 公司化 之後 人力 疑似 出現 缺口 營運 招募 短期 工時 人力 開出 46 缺額 工作 內容 包含 售票 收票 站務 工作 時薪 基本工資 183 民眾 感嘆 加油站 還低 對此 台鐵 公司 回應 新進 人力 到位 短期 臨時 人員 招募 從業人員 招募 員額 降低 人力 成本 規劃 台鐵 招募 短期 站務 人員 工作 包含 剪票口 因應 所有 旅客 繁雜 需求 工作 包含 複雜 內容 短期 站務 只能 最低 時薪 183 引發 討論 台鐵 日前 公告 招募 短期 臨時 人員 營運 46 缺額 工作 內容 包含 窗口 售票 閘門 剪票 把關 月台 引導 旅客 雜事 一籮筐 時薪 基本工資 183 內部人員 自嘲 領的 加油站 打工 還低 旅客 預算 覺得 多點 鼓勵 他領 薪水 已經 行業 教育 薪水 比較 吸引力 吸引 想來 這裡 上班 台鐵 人力 接軌 補上 遭批 慢半拍 而慢 有台 員工 透露 服儀 規定 上路 有人 還沒 領到 制服 導致 被迫 違規 領到 抱怨 材質 不好 帽子 不透氣 台鐵 站務員 制服 不合身 經歷 兩次 重大事故 百年 老店 台鐵 公司化 力求 革新 人力 補充 效率 制服 品質 似乎 進步 空間</td>\n",
       "      <td>財經</td>\n",
       "      <td>全球</td>\n",
       "    </tr>\n",
       "  </tbody>\n",
       "</table>\n",
       "</div>"
      ]
     },
     "execution_count": 170,
     "metadata": {},
     "output_type": "execute_result"
    }
   ],
   "execution_count": 170
  },
  {
   "metadata": {
    "ExecuteTime": {
     "end_time": "2024-04-08T03:16:06.440130Z",
     "start_time": "2024-04-08T03:16:06.435654Z"
    }
   },
   "cell_type": "code",
   "source": "false_pred.loc[10, :]",
   "outputs": [
    {
     "data": {
      "text/plain": [
       "words          美政府 維持 Apple Watch 進口 禁令 蘋果 上訴 東森 新聞 美國 總統 拜登 政府 選擇 否決 專利 侵權 裁定 蘋果公司 Apple 今天 表示 旗下 智慧 手錶 AppleWatch 最新型 號的 進口 禁令 提起 上訴 綜合 法新社 路透社 這項 針對 蘋果 最新 智慧 手錶 型號 禁令 今天 生效 AppleWatchSeries9 AppleWatchUltra2 無法 美國 實體 商店 或線 銷售 這項 禁令 大型 科技 公司 具有 價值 專利 展開 最新 法律 角力 谷歌 Google 針對 揚聲器 技術 Sonos 打官司 美國 國際貿易 委員會 ITC 10 裁定 禁止 進口 侵犯 一項 測定 血氧 含量 專利技術 蘋果 智慧 手錶 型號 這項 禁令 源起 Masimo 公司 2021 ITC 提出 申訴 這家 醫療 設備 製造商 指控 蘋果 侵犯 公司 感測 技術 測量 血氧 含量 專利 Masimo 這項 技術 發明 蘋果 挖角 員工 取得 技術 美國 貿易 代表 USTR 今天 聲明 指出 謹慎 商議 貿易 代表 戴琪 KatherineTai 決定 撤銷 ITC 這項 裁定 ITC 決定 2023 12 26 日成 最終 裁定 白宮 有權 撤銷 進口 禁令 狀況 鮮少 發生 蘋果 主張 ITC 裁決 錯誤 應予 撤銷 並向 美國聯邦 法院 提起 上訴 蘋果 發言人 表示 公司 針對 這項 禁令 華盛頓 美國聯邦 巡迴 上訴 法院 CourtofAppealsfortheFederalCircuit 提起 上訴 蘋果 今天 聲明 中說 強烈 同意 ITC 裁定 由此 產生 排除 命令 採取 措施 盡快 美國 顧客 恢復 供應 AppleWatchSeries9 AppleWatchUltra2 蘋果 請求 聯邦 巡迴 上訴 法院 暫停 禁令 至少 暫停 美國 海關 邊境 保護局 CBP 判定 重新 設計 過的 蘋果 智慧 手錶 型號 是否 侵犯 Masimo 專利 並在 法院 考慮 蘋果 請求 暫停 禁令 蘋果 美國 海關 邊境 保護局 預定 明年 12 做出 決定 耶誕 假期 前夕 蘋果 本月 21 已將 產品 自線 蘋果 商店 AppleStore 下架 實體 零售 商店 24 停止 販售\n",
       "artCatagory                                                                                                                                                                                                                                                                                                                                                                                                                                                                                                                                                                                                                                                                                                                                                                                                                                                                                                                                                                                                                        財經\n",
       "pred                                                                                                                                                                                                                                                                                                                                                                                                                                                                                                                                                                                                                                                                                                                                                                                                                                                                                                                                                                                                                               全球\n",
       "Name: 10, dtype: object"
      ]
     },
     "execution_count": 171,
     "metadata": {},
     "output_type": "execute_result"
    }
   ],
   "execution_count": 171
  },
  {
   "metadata": {
    "ExecuteTime": {
     "end_time": "2024-04-08T03:16:12.709146Z",
     "start_time": "2024-04-08T03:16:12.703009Z"
    }
   },
   "cell_type": "code",
   "source": "pprint(false_pred['words'][10])",
   "outputs": [
    {
     "name": "stdout",
     "output_type": "stream",
     "text": [
      "('美政府 維持 Apple Watch 進口 禁令 蘋果 上訴 東森 新聞 美國 總統 拜登 政府 選擇 否決 專利 侵權 裁定 蘋果公司 Apple '\n",
      " '今天 表示 旗下 智慧 手錶 AppleWatch 最新型 號的 進口 禁令 提起 上訴 綜合 法新社 路透社 這項 針對 蘋果 最新 智慧 手錶 型號 '\n",
      " '禁令 今天 生效 AppleWatchSeries9 AppleWatchUltra2 無法 美國 實體 商店 或線 銷售 這項 禁令 大型 科技 公司 '\n",
      " '具有 價值 專利 展開 最新 法律 角力 谷歌 Google 針對 揚聲器 技術 Sonos 打官司 美國 國際貿易 委員會 ITC 10 裁定 禁止 '\n",
      " '進口 侵犯 一項 測定 血氧 含量 專利技術 蘋果 智慧 手錶 型號 這項 禁令 源起 Masimo 公司 2021 ITC 提出 申訴 這家 醫療 '\n",
      " '設備 製造商 指控 蘋果 侵犯 公司 感測 技術 測量 血氧 含量 專利 Masimo 這項 技術 發明 蘋果 挖角 員工 取得 技術 美國 貿易 代表 '\n",
      " 'USTR 今天 聲明 指出 謹慎 商議 貿易 代表 戴琪 KatherineTai 決定 撤銷 ITC 這項 裁定 ITC 決定 2023 12 26 '\n",
      " '日成 最終 裁定 白宮 有權 撤銷 進口 禁令 狀況 鮮少 發生 蘋果 主張 ITC 裁決 錯誤 應予 撤銷 並向 美國聯邦 法院 提起 上訴 蘋果 '\n",
      " '發言人 表示 公司 針對 這項 禁令 華盛頓 美國聯邦 巡迴 上訴 法院 CourtofAppealsfortheFederalCircuit 提起 '\n",
      " '上訴 蘋果 今天 聲明 中說 強烈 同意 ITC 裁定 由此 產生 排除 命令 採取 措施 盡快 美國 顧客 恢復 供應 '\n",
      " 'AppleWatchSeries9 AppleWatchUltra2 蘋果 請求 聯邦 巡迴 上訴 法院 暫停 禁令 至少 暫停 美國 海關 邊境 '\n",
      " '保護局 CBP 判定 重新 設計 過的 蘋果 智慧 手錶 型號 是否 侵犯 Masimo 專利 並在 法院 考慮 蘋果 請求 暫停 禁令 蘋果 美國 '\n",
      " '海關 邊境 保護局 預定 明年 12 做出 決定 耶誕 假期 前夕 蘋果 本月 21 已將 產品 自線 蘋果 商店 AppleStore 下架 實體 '\n",
      " '零售 商店 24 停止 販售')\n"
     ]
    }
   ],
   "execution_count": 172
  },
  {
   "attachments": {},
   "cell_type": "markdown",
   "metadata": {},
   "source": [
    "模型對另一個新聞網的預測結果比較普通。可以看到財經與全球的 precision 都相對低。\n",
    "- 另外三個版面均有不少文章被辨識成全球，推測全球涵蓋議題會比較多元，可能會有社會、政治、經濟等議題。像是上方例子，是提到大陸航空氣球越過台海，這樣的新聞可能會被辨識成全球。\n",
    "- 也有不少財經被辨識成全球，推測是因為財經新聞中常提到國際經濟、國際股市等相關新聞。像是上方示例中提到美國與拜登政府等詞彙，這是全球新聞中常見的詞彙導致誤判。\n",
    "- 因此推斷在東森新聞的資料中，全球新聞的內容可能比較多元，可能會有社會、政治、經濟等議題，因此在預測時會有一些誤判。"
   ]
  },
  {
   "attachments": {},
   "cell_type": "markdown",
   "metadata": {},
   "source": [
    "* accuracy可能會因為資料分布不同而有所偏差，所以評估模型的時候，可以加入一起 F1-score, recall, precision, AUC 等常見分類任務指標來評估。"
   ]
  },
  {
   "metadata": {},
   "cell_type": "code",
   "outputs": [],
   "execution_count": null,
   "source": ""
  }
 ],
 "metadata": {
  "kernelspec": {
   "display_name": "Python 3",
   "language": "python",
   "name": "python3"
  },
  "language_info": {
   "codemirror_mode": {
    "name": "ipython",
    "version": 3
   },
   "file_extension": ".py",
   "mimetype": "text/x-python",
   "name": "python",
   "nbconvert_exporter": "python",
   "pygments_lexer": "ipython3",
   "version": "3.9.18"
  }
 },
 "nbformat": 4,
 "nbformat_minor": 4
}
